{
 "cells": [
  {
   "cell_type": "markdown",
   "metadata": {
    "id": "3x8zJkCpmj1m"
   },
   "source": [
    "Resources#\n",
    "\n",
    "https://github.com/pytorch/pytorch/blob/cc46dc45e1b4b2a9ffab4ad5442f8b864148e45a/torch/optim/_functional.py#L156\n",
    "\n",
    "https://github.com/pytorch/pytorch/blob/master/torch/optim/sgd.py\n",
    "\n",
    "https://pytorch.org/tutorials/beginner/blitz/autograd_tutorial.html\n",
    "\n",
    "https://discuss.pytorch.org/t/custom-loss-functions/29387\n",
    "\n",
    "https://discuss.pytorch.org/t/good-way-to-calculate-element-wise-difference-between-two-models-of-the-same-structure/67592"
   ]
  },
  {
   "cell_type": "code",
   "execution_count": 149,
   "metadata": {
    "id": "iTDCRqOGmorM"
   },
   "outputs": [],
   "source": [
    "import argparse\n",
    "import torch\n",
    "import torch.nn as nn\n",
    "import torch.nn.functional as F\n",
    "import torch.optim as optim\n",
    "from torchvision import datasets, transforms\n",
    "from torch.autograd import Variable\n",
    "import numpy as np\n",
    "import datetime"
   ]
  },
  {
   "cell_type": "code",
   "execution_count": 150,
   "metadata": {
    "id": "fxJ9QbZCVq-j"
   },
   "outputs": [],
   "source": [
    "def convert_model_to_param_list(model):\n",
    "    '''\n",
    "    num_of_param=0\n",
    "    for param in model.state_dict().values():\n",
    "        num_of_param += torch.numel(param)\n",
    "    \n",
    "\n",
    "    params=torch.ones([num_of_param])\n",
    "    '''\n",
    "    if torch.typename(model)!='OrderedDict':\n",
    "        model = model.state_dict()\n",
    "\n",
    "    idx=0\n",
    "    params_to_copy_group=[]\n",
    "    for name, param in model.items():\n",
    "        num_params_to_copy = torch.numel(param)\n",
    "        params_to_copy_group.append(param.reshape([num_params_to_copy]).clone().detach())\n",
    "        idx+=num_params_to_copy\n",
    "\n",
    "    params=torch.ones([idx])\n",
    "    idx=0\n",
    "    for param in params_to_copy_group:    \n",
    "        for par in param:\n",
    "            params[idx].copy_(par)\n",
    "            idx += 1\n",
    "\n",
    "    return params\n",
    "\n",
    "def cos_calc_btn_grads(l1, l2):\n",
    "    return torch.dot(l1, l2)/(torch.linalg.norm(l1)+1e-9)/(torch.linalg.norm(l2)+1e-9)\n",
    "\n",
    "\n",
    "def cos_calc(n1, n2):\n",
    "    l1 = convert_model_to_param_list(n1)\n",
    "    l2 = convert_model_to_param_list(n2)\n",
    "    return cos_calc_btn_grads(l1, l2)"
   ]
  },
  {
   "cell_type": "code",
   "execution_count": 151,
   "metadata": {
    "id": "n8iAonfWm5ev"
   },
   "outputs": [],
   "source": [
    "class SimpleNet(nn.Module):\n",
    "    def __init__(self, name=None, created_time=None, is_malicious=False, net_id=-1):\n",
    "        super(SimpleNet, self).__init__()\n",
    "        self.created_time = created_time\n",
    "        self.name=name\n",
    "\n",
    "        self.is_malicious=is_malicious\n",
    "        self.net_id=net_id\n",
    "\n",
    "\n",
    "    def save_stats(self, epoch, loss, acc):\n",
    "        self.stats['epoch'].append(epoch)\n",
    "        self.stats['loss'].append(loss)\n",
    "        self.stats['acc'].append(acc)\n",
    "\n",
    "    def copy_params(self, state_dict, coefficient_transfer=100):\n",
    "\n",
    "        own_state = self.state_dict()\n",
    "\n",
    "        for name, param in state_dict.items():\n",
    "            if name in own_state:\n",
    "                shape = param.shape\n",
    "                own_state[name].copy_(param.clone())\n",
    "    \n",
    "    def set_param_to_zero(self):\n",
    "        own_state = self.state_dict()\n",
    "\n",
    "        for name, param in own_state.items():\n",
    "            shape = param.shape\n",
    "            param.mul_(0)       \n",
    "\n",
    "    def aggregate(self, state_dicts, aggr_weights=None):\n",
    "        #self.copy_params(state_dicts[0])\n",
    "        own_state = self.state_dict()\n",
    "        \n",
    "        nw = len(state_dicts)\n",
    "        if aggr_weights is None:\n",
    "            aggr_weights = [1/nw]*nw\n",
    "\n",
    "        for i, state_dict in enumerate(state_dicts):\n",
    "            for name, param in state_dict.items():\n",
    "                if name in own_state:\n",
    "                    shape = param.shape\n",
    "                    own_state[name].add_(param.clone().mul_(aggr_weights[i]))\n",
    "\n",
    "    def calc_grad(self, state_dict, change_self=True):\n",
    "        if change_self:\n",
    "            own_state = self.state_dict()\n",
    "\n",
    "            for name, param in state_dict.items():\n",
    "                if name in own_state:\n",
    "                    shape = param.shape\n",
    "                    own_state[name].sub_(param.clone())\n",
    "        else:\n",
    "            self_params = convert_model_to_param_list(self)\n",
    "            ref_params = convert_model_to_param_list(state_dict)\n",
    "\n",
    "            self_params.sub_(ref_params)\n",
    "            self.grad_params = self_params"
   ]
  },
  {
   "cell_type": "code",
   "execution_count": 152,
   "metadata": {
    "id": "kADMGZrmm8PH"
   },
   "outputs": [],
   "source": [
    "class Flatten(nn.Module):\n",
    "    def forward(self, input):\n",
    "        return input.view(input.size(0), -1)\n",
    "\n",
    "class MnistNet(SimpleNet):#model for mnist\n",
    "    def __init__(self, name=None, created_time=None,num_of_classes = 10):\n",
    "        super(MnistNet, self).__init__(f'{name}_Simple', created_time)\n",
    "     \n",
    "        self.fc_layer = torch.nn.Sequential(#1 * 28 * 28\n",
    "            Flatten(),#784\n",
    "            nn.Linear(784, num_of_classes),\n",
    "        )\n",
    "    \n",
    "    def forward(self, x):\n",
    "     \n",
    "        out = self.fc_layer(x)\n",
    "        return out"
   ]
  },
  {
   "cell_type": "code",
   "execution_count": 153,
   "metadata": {
    "id": "h2FR35-PASFF"
   },
   "outputs": [],
   "source": [
    "class FLNet(SimpleNet):\n",
    "    def __init__(self, name=None, created_time=None,num_of_classes = 10):\n",
    "        super(FLNet, self).__init__(f'{name}_Simple', created_time)\n",
    "\n",
    "        self.mnistnet1 = MnistNet()\n",
    "\n",
    "        self.mnistnet2 = MnistNet()\n",
    "\n",
    "        self.mnistnetavg = MnistNet()\n",
    "\n",
    "    def forward(self, x):\n",
    "        out = self.mnistnet1(x)\n",
    "        return out"
   ]
  },
  {
   "cell_type": "code",
   "execution_count": 154,
   "metadata": {
    "colab": {
     "base_uri": "https://localhost:8080/",
     "height": 122
    },
    "id": "-Bm2SNGGCPOA",
    "outputId": "e912d6ab-0fd6-43c0-b174-fd703750762c"
   },
   "outputs": [
    {
     "data": {
      "text/plain": [
       "\"\\nclass CNN(SimpleNet):\\n    def __init__(self, name=None, created_time=None,num_of_classes = 10,network_id=-1, net_id=-1, is_malicious=False):\\n        super(CNN, self).__init__(f'{name}_Simple', created_time, is_malicious=is_malicious, net_id=net_id)\\n        self.conv1 = nn.Conv2d(3, 6, 5)\\n        self.pool = nn.MaxPool2d(2, 2)\\n        self.conv2 = nn.Conv2d(6, 16, 5)\\n        self.fc1 = nn.Linear(16 * 5 * 5, 120)\\n        self.fc2 = nn.Linear(120, 84)\\n        self.fc3 = nn.Linear(84, 10)\\n\\n    def forward(self, x):\\n        x = self.pool(F.relu(self.conv1(x)))\\n        x = self.pool(F.relu(self.conv2(x)))\\n        x = torch.flatten(x, 1) # flatten all dimensions except batch\\n        x = F.relu(self.fc1(x))\\n        x = F.relu(self.fc2(x))\\n        x = self.fc3(x)\\n        return x\\n\""
      ]
     },
     "execution_count": 154,
     "metadata": {},
     "output_type": "execute_result"
    }
   ],
   "source": [
    "\n",
    "class CNN(SimpleNet):\n",
    "    def __init__(self, name=None, created_time=None,num_of_classes = 10,network_id=-1, net_id=-1, is_malicious=False):\n",
    "        super(CNN, self).__init__(f'{name}_Simple', created_time, is_malicious=is_malicious, net_id=net_id)\n",
    "\n",
    "        self.network_id=network_id\n",
    "\n",
    "        self.conv1 = nn.Sequential(         \n",
    "            nn.Conv2d(\n",
    "                in_channels=1,              \n",
    "                out_channels=16,            \n",
    "                kernel_size=5,              \n",
    "                stride=1,                   \n",
    "                padding=2,                  \n",
    "            ),                              \n",
    "            nn.ReLU(),                      \n",
    "            nn.MaxPool2d(kernel_size=2),    \n",
    "        )\n",
    "        self.conv2 = nn.Sequential(         \n",
    "            nn.Conv2d(16, 32, 5, 1, 2),     \n",
    "            nn.ReLU(),                      \n",
    "            nn.MaxPool2d(2),                \n",
    "        )\n",
    "        # fully connected layer, output 10 classes\n",
    "        self.out = nn.Linear(32 * 7 * 7, 10)\n",
    "    def forward(self, x):\n",
    "        x = self.conv1(x)\n",
    "        x = self.conv2(x)\n",
    "        # flatten the output of conv2 to (batch_size, 32 * 7 * 7)\n",
    "        x = x.view(x.size(0), -1)       \n",
    "        output = self.out(x)\n",
    "        return output    # return x for visualization\n",
    "'''\n",
    "class CNN(SimpleNet):\n",
    "    def __init__(self, name=None, created_time=None,num_of_classes = 10,network_id=-1, net_id=-1, is_malicious=False):\n",
    "        super(CNN, self).__init__(f'{name}_Simple', created_time, is_malicious=is_malicious, net_id=net_id)\n",
    "        self.conv1 = nn.Conv2d(3, 6, 5)\n",
    "        self.pool = nn.MaxPool2d(2, 2)\n",
    "        self.conv2 = nn.Conv2d(6, 16, 5)\n",
    "        self.fc1 = nn.Linear(16 * 5 * 5, 120)\n",
    "        self.fc2 = nn.Linear(120, 84)\n",
    "        self.fc3 = nn.Linear(84, 10)\n",
    "\n",
    "    def forward(self, x):\n",
    "        x = self.pool(F.relu(self.conv1(x)))\n",
    "        x = self.pool(F.relu(self.conv2(x)))\n",
    "        x = torch.flatten(x, 1) # flatten all dimensions except batch\n",
    "        x = F.relu(self.fc1(x))\n",
    "        x = F.relu(self.fc2(x))\n",
    "        x = self.fc3(x)\n",
    "        return x\n",
    "'''"
   ]
  },
  {
   "cell_type": "code",
   "execution_count": 155,
   "metadata": {
    "id": "wY6ycM7q9m2A"
   },
   "outputs": [],
   "source": [
    "import copy\n",
    "\n",
    "def add_pixel_pattern(ori_image):\n",
    "    image = copy.deepcopy(ori_image)\n",
    "    poison_patterns= poison_dict['poison_pattern']\n",
    "    delta =  poison_dict['poison_delta']\n",
    "\n",
    "    for i in range(0, len(poison_patterns)):\n",
    "        pos = poison_patterns[i]\n",
    "        image[0][pos[0]][pos[1]] = min( image[0][pos[0]][pos[1]] + delta/np.sqrt(len(poison_patterns)), 1)\n",
    "\n",
    "\n",
    "    return image\n",
    "\n",
    "def get_poison_batch(bptt,adversarial_index=-1, evaluation=False, attack_type='label_flip'):\n",
    "    if attack_type=='backdoor':\n",
    "        import sys\n",
    "        print(\"still backdooring\")\n",
    "        sys.exit()\n",
    "\n",
    "        images, targets = bptt\n",
    "\n",
    "        poison_count= 0\n",
    "        new_images=images\n",
    "        new_targets=targets\n",
    "\n",
    "        for index in range(0, len(images)):\n",
    "            if evaluation: # poison all data when testing\n",
    "                new_targets[index] = poison_dict['poison_label_swap']\n",
    "                new_images[index] = add_pixel_pattern(images[index])\n",
    "                poison_count+=1\n",
    "\n",
    "            else: # poison part of data when training\n",
    "                if index < poison_dict['poisoning_per_batch']:\n",
    "                    new_targets[index] = poison_dict['poison_label_swap']\n",
    "                    new_images[index] = add_pixel_pattern(images[index])\n",
    "                    poison_count += 1\n",
    "                else:\n",
    "                    new_images[index] = images[index]\n",
    "                    new_targets[index]= targets[index]\n",
    "\n",
    "        new_images = new_images.to(device)\n",
    "        new_targets = new_targets.to(device).long()\n",
    "        if evaluation:\n",
    "            new_images.requires_grad_(False)\n",
    "            new_targets.requires_grad_(False)\n",
    "        return new_images,new_targets,poison_count\n",
    "    \n",
    "    elif attack_type=='degrade' or attack_type=='label_flip':\n",
    "        images, targets = bptt\n",
    "\n",
    "        poison_count= 0\n",
    "        new_images=images\n",
    "        new_targets=targets\n",
    "\n",
    "        num_of_classes = 10\n",
    "\n",
    "        for index in range(0, len(images)):\n",
    "            if evaluation: # poison all data when testing\n",
    "                if attack_type=='degrade':\n",
    "                    new_targets[index] = poison_dict['poison_label_swap']\n",
    "                elif attack_type=='label_flip':\n",
    "                    new_targets[index] = (targets[index]+1)%num_of_classes\n",
    "                new_images[index] = images[index]\n",
    "                poison_count+=1\n",
    "\n",
    "            else: # poison part of data when training\n",
    "                if index < poison_dict['poisoning_per_batch']:\n",
    "                    new_targets[index] = poison_dict['poison_label_swap']\n",
    "                    new_images[index] = add_pixel_pattern(images[index])\n",
    "                    poison_count += 1\n",
    "                else:\n",
    "                    new_images[index] = images[index]\n",
    "                    new_targets[index]= targets[index]\n",
    "\n",
    "        new_images = new_images.to(device)\n",
    "        new_targets = new_targets.to(device).long()\n",
    "        if evaluation:\n",
    "            new_images.requires_grad_(False)\n",
    "            new_targets.requires_grad_(False)\n",
    "        return new_images,new_targets,poison_count\n",
    "        \n",
    "\n",
    "def get_batch(bptt, evaluation=False):\n",
    "    data, target = bptt\n",
    "    data = data.to(device)\n",
    "    target = target.to(device)\n",
    "    if evaluation:\n",
    "        data.requires_grad_(False)\n",
    "        target.requires_grad_(False)\n",
    "    return data, target"
   ]
  },
  {
   "cell_type": "code",
   "execution_count": 156,
   "metadata": {
    "id": "nOhHhkNjE6tb"
   },
   "outputs": [],
   "source": [
    "import torch\n",
    "from torch import Tensor\n",
    "from typing import List, Optional\n",
    "\n",
    "from tensorflow import print as prnt\n",
    "\n",
    "def sgd(params: List[Tensor],\n",
    "        d_p_list: List[Tensor],\n",
    "        momentum_buffer_list: List[Optional[Tensor]],\n",
    "        ref_params: List[Tensor],\n",
    "        ref_grad_params: List[Tensor],\n",
    "        *,\n",
    "        weight_decay: float,\n",
    "        momentum: float,\n",
    "        lr: float,\n",
    "        dampening: float,\n",
    "        nesterov: bool,\n",
    "        maximize: bool,\n",
    "        inertia: float,\n",
    "        minimizeDist: bool):\n",
    "    r\"\"\"Functional API that performs SGD algorithm computation.\n",
    "    See :class:`~torch.optim.SGD` for details.\n",
    "    \"\"\"\n",
    "    #print(\"dummy\", len(params), len(ref_params))\n",
    "\n",
    "    if len(ref_params)!=0 and len(params)!=len(ref_params):\n",
    "        #print(params, ref_params)\n",
    "        print('params', params, '\\n')\n",
    "        print('ref_params', ref_params, '\\n')\n",
    "        sys.exit()\n",
    "\n",
    "    if len(ref_grad_params)!=0 and len(params)!=len(ref_grad_params):\n",
    "        print('params', params, '\\n')\n",
    "        print('ref_params', ref_grad_params, '\\n')\n",
    "        sys.exit()\n",
    "    for i, param in enumerate(params):\n",
    "\n",
    "        d_p = d_p_list[i]\n",
    "        if weight_decay != 0:\n",
    "            d_p = d_p.add(param, alpha=weight_decay)\n",
    "\n",
    "        if momentum != 0:\n",
    "            buf = momentum_buffer_list[i]\n",
    "\n",
    "            if buf is None:\n",
    "                buf = torch.clone(d_p).detach()\n",
    "                momentum_buffer_list[i] = buf\n",
    "            else:\n",
    "                buf.mul_(momentum).add_(d_p, alpha=1 - dampening)\n",
    "\n",
    "            if nesterov:\n",
    "                d_p = d_p.add(buf, alpha=momentum)\n",
    "            else:\n",
    "                d_p = buf\n",
    "        \n",
    "        if ref_params is not None and len(ref_params) != 0 and minimizeDist:\n",
    "            diff = 0\n",
    "            ### if minimize euclidean distance\n",
    "            #diff = param - ref_params[i]\n",
    "            ### if minimize cosine similarity, ref_params contains the gradient of the reference network weights\n",
    "            \n",
    "            if ref_grad_params is not None:\n",
    "\n",
    "                dir_sign = torch.sign(ref_params[i]-param)\n",
    "                diff -= ref_params[i]-param\n",
    "                diff -= ref_grad_params[i]\n",
    "                diff = diff.mul_(0.5)\n",
    "            \n",
    "            #d_p = d_p.mul_(0)\n",
    "            d_p = d_p.add(diff, alpha=inertia)\n",
    "        \n",
    "        #if diff_total==0:\n",
    "            #print('diff_total 0')\n",
    "\n",
    "        alpha = lr if maximize else -lr\n",
    "        param.add_(d_p, alpha=alpha)"
   ]
  },
  {
   "cell_type": "code",
   "execution_count": 157,
   "metadata": {
    "id": "BMvAKmTlFlSV"
   },
   "outputs": [],
   "source": [
    "import torch\n",
    "#from torch.optim import _functional as F\n",
    "from torch.optim.optimizer import Optimizer, required\n",
    "\n",
    "\n",
    "class SGD(Optimizer):\n",
    "    def __init__(self, params, lr=required, ref_param_groups=None, ref_grad_param_groups=None, momentum=0, dampening=0,\n",
    "                 weight_decay=0, nesterov=False, *, maximize=False, inertia=1.0, minimizeDist=False):\n",
    "        if lr is not required and lr < 0.0:\n",
    "            raise ValueError(\"Invalid learning rate: {}\".format(lr))\n",
    "        if momentum < 0.0:\n",
    "            raise ValueError(\"Invalid momentum value: {}\".format(momentum))\n",
    "        if weight_decay < 0.0:\n",
    "            raise ValueError(\"Invalid weight_decay value: {}\".format(weight_decay))\n",
    "\n",
    "        defaults = dict(lr=lr, momentum=momentum, dampening=dampening,\n",
    "                        weight_decay=weight_decay, nesterov=nesterov, maximize=maximize)\n",
    "        if nesterov and (momentum <= 0 or dampening != 0):\n",
    "            raise ValueError(\"Nesterov momentum requires a momentum and zero dampening\")\n",
    "        #self.ref_param_groups = ref_param_groups\n",
    "        super(SGD, self).__init__(params, defaults)\n",
    "        #self.ref_param_groups = ref_param_groups\n",
    "        self.inertia=inertia\n",
    "        self.minimizeDist=minimizeDist\n",
    "\n",
    "        if ref_param_groups is not None:\n",
    "            self.__setrefparams__(ref_param_groups)\n",
    "        else:\n",
    "            self.ref_param_groups = ref_param_groups\n",
    "\n",
    "        if ref_grad_param_groups is not None:\n",
    "            self.__setrefgradparams__(ref_grad_param_groups)\n",
    "        else:\n",
    "            self.ref_grad_param_groups = ref_param_groups\n",
    "\n",
    "    def filter_ref_param_group(self, param_group):\n",
    "        r\"\"\"Add a param group to the :class:`Optimizer` s `param_groups`.\n",
    "        This can be useful when fine tuning a pre-trained network as frozen layers can be made\n",
    "        trainable and added to the :class:`Optimizer` as training progresses.\n",
    "        Args:\n",
    "            param_group (dict): Specifies what Tensors should be optimized along with group\n",
    "                specific optimization options.\n",
    "        \"\"\"\n",
    "        assert isinstance(param_group, dict), \"param group must be a dict\"\n",
    "\n",
    "        params = param_group['params']\n",
    "        if isinstance(params, torch.Tensor):\n",
    "            param_group['params'] = [params]\n",
    "        elif isinstance(params, set):\n",
    "            raise TypeError('optimizer parameters need to be organized in ordered collections, but '\n",
    "                            'the ordering of tensors in sets will change between runs. Please use a list instead.')\n",
    "        else:\n",
    "            param_group['params'] = list(params)\n",
    "\n",
    "        for param in param_group['params']:\n",
    "            if not isinstance(param, torch.Tensor):\n",
    "                raise TypeError(\"optimizer can only optimize Tensors, \"\n",
    "                                \"but one of the params is \" + torch.typename(param))\n",
    "            if not param.is_leaf:\n",
    "                raise ValueError(\"can't optimize a non-leaf Tensor\")\n",
    "        '''\n",
    "        for name, default in self.defaults.items():\n",
    "            if default is required and name not in param_group:\n",
    "                raise ValueError(\"parameter group didn't specify a value of required optimization parameter \" +\n",
    "                                name)\n",
    "            else:\n",
    "                param_group.setdefault(name, default)\n",
    "        '''\n",
    "\n",
    "        params = param_group['params']\n",
    "        if len(params) != len(set(params)):\n",
    "            warnings.warn(\"optimizer contains a parameter group with duplicate parameters; \"\n",
    "                          \"in future, this will cause an error; \"\n",
    "                          \"see github.com/pytorch/pytorch/issues/40967 for more information\", stacklevel=3)\n",
    "\n",
    "        param_set = set()\n",
    "        for group in self.param_groups:\n",
    "            param_set.update(set(group['params']))\n",
    "\n",
    "        if not param_set.isdisjoint(set(param_group['params'])):\n",
    "            raise ValueError(\"some parameters appear in more than one parameter group\")\n",
    "\n",
    "        #self.ref_param_groups.append(param_group)\n",
    "        return param_group\n",
    "    \n",
    "    def __setrefparams__(self, params):\n",
    "        self.ref_param_groups = []\n",
    "\n",
    "        param_groups = list(params)\n",
    "        '''\n",
    "        if len(param_groups) == 0:\n",
    "            raise ValueError(\"optimizer got an empty parameter list\")\n",
    "        '''\n",
    "        if not isinstance(param_groups[0], dict):\n",
    "            param_groups = [{'params': param_groups}]\n",
    "\n",
    "        for param_group in param_groups:\n",
    "            self.ref_param_groups.append(self.filter_ref_param_group(param_group))\n",
    "\n",
    "    def __setrefgradparams__(self, params):\n",
    "        self.ref_grad_param_groups = []\n",
    "\n",
    "        param_groups = list(params)\n",
    "        '''\n",
    "        if len(param_groups) == 0:\n",
    "            raise ValueError(\"optimizer got an empty parameter list\")\n",
    "        '''\n",
    "        if not isinstance(param_groups[0], dict):\n",
    "            param_groups = [{'params': param_groups}]\n",
    "\n",
    "        for param_group in param_groups:\n",
    "            self.ref_grad_param_groups.append(self.filter_ref_param_group(param_group))\n",
    "\n",
    "    def __setstate__(self, state):\n",
    "        super(SGD, self).__setstate__(state)\n",
    "        for group in self.param_groups:\n",
    "            group.setdefault('nesterov', False)\n",
    "            group.setdefault('maximize', False)\n",
    "    \n",
    "    \n",
    "\n",
    "    @torch.no_grad()\n",
    "    def step(self, closure=None):\n",
    "        \"\"\"Performs a single optimization step.\n",
    "        Args:\n",
    "            closure (callable, optional): A closure that reevaluates the model\n",
    "                and returns the loss.\n",
    "        \"\"\"\n",
    "        loss = None\n",
    "        if closure is not None:\n",
    "            with torch.enable_grad():\n",
    "                loss = closure()\n",
    "        \n",
    "        #for group in self.ref_param_groups:\n",
    "            #for p in group['params']:\n",
    "\n",
    "        if self.ref_param_groups is not None and len(self.param_groups)!=len(self.ref_param_groups):\n",
    "            print(len(self.param_groups), len(self.ref_param_groups))\n",
    "            sys.exit()\n",
    "\n",
    "        if self.ref_grad_param_groups is not None and len(self.param_groups)!=len(self.ref_grad_param_groups):\n",
    "            print(len(self.param_groups), len(self.ref_grad_param_groups))\n",
    "            sys.exit()\n",
    "        for i in range(len(self.param_groups)):\n",
    "            group = self.param_groups[i]\n",
    "            if self.ref_param_groups is not None:\n",
    "                ref_group = self.ref_param_groups[i]\n",
    "            if self.ref_grad_param_groups is not None:\n",
    "                ref_grad_group = self.ref_grad_param_groups[i]\n",
    "            params_with_grad = []\n",
    "            d_p_list = []\n",
    "            momentum_buffer_list = []\n",
    "            weight_decay = group['weight_decay']\n",
    "            momentum = group['momentum']\n",
    "            dampening = group['dampening']\n",
    "            nesterov = group['nesterov']\n",
    "            maximize = group['maximize']\n",
    "            lr = group['lr']\n",
    "\n",
    "            for p in group['params']:\n",
    "                if p.grad is not None:\n",
    "                    params_with_grad.append(p)\n",
    "                    d_p_list.append(p.grad)\n",
    "\n",
    "                    state = self.state[p]\n",
    "                    if 'momentum_buffer' not in state:\n",
    "                        momentum_buffer_list.append(None)\n",
    "                    else:\n",
    "                        momentum_buffer_list.append(state['momentum_buffer'])\n",
    "            ref_params=[]\n",
    "            ref_grad_params=[]\n",
    "            if self.ref_param_groups is not None:\n",
    "                for p in ref_group['params']:\n",
    "                    ref_params.append(p)\n",
    "            if self.ref_grad_param_groups is not None:\n",
    "                for p in ref_grad_group['params']:\n",
    "                    ref_grad_params.append(p)\n",
    "            \n",
    "            sgd(params_with_grad,\n",
    "                  d_p_list,\n",
    "                  momentum_buffer_list,\n",
    "                  ref_params=ref_params,\n",
    "                  ref_grad_params=ref_grad_params,\n",
    "                  weight_decay=weight_decay,\n",
    "                  momentum=momentum,\n",
    "                  lr=lr,\n",
    "                  dampening=dampening,\n",
    "                  nesterov=nesterov,\n",
    "                  maximize=maximize,\n",
    "                  inertia=self.inertia,\n",
    "                  minimizeDist=self.minimizeDist)\n",
    "            \n",
    "\n",
    "            # update momentum_buffers in state\n",
    "            for p, momentum_buffer in zip(params_with_grad, momentum_buffer_list):\n",
    "                state = self.state[p]\n",
    "                state['momentum_buffer'] = momentum_buffer\n",
    "\n",
    "        return loss\n",
    "\n",
    "    ##  add add_param method\n",
    "\n"
   ]
  },
  {
   "cell_type": "code",
   "execution_count": 158,
   "metadata": {
    "id": "NDJtZrEdRwht"
   },
   "outputs": [],
   "source": [
    "def new_loss(output, target):\n",
    "    loss = F.nll_loss(output, target)\n",
    "\n",
    "    return loss"
   ]
  },
  {
   "cell_type": "code",
   "execution_count": 159,
   "metadata": {
    "id": "yWy7CtC7GpPG"
   },
   "outputs": [],
   "source": [
    "def inv_grad_test(model):\n",
    "    for name, param in model.named_parameters():\n",
    "        print(name, torch.isfinite(param.grad).all())"
   ]
  },
  {
   "cell_type": "code",
   "execution_count": 160,
   "metadata": {
    "id": "I3r_mO-LDaJ6"
   },
   "outputs": [],
   "source": [
    "loss_func=nn.CrossEntropyLoss()\n",
    "\n",
    "def train(network, optimizer, epoch):\n",
    "  network.train()\n",
    "\n",
    "  if network.network_id!=-1:\n",
    "      (_, temp_train_loader)=train_loaders[network.network_id]\n",
    "  else:\n",
    "      temp_train_loader=train_loader\n",
    "\n",
    "  for batch_idx, (data, target) in enumerate(temp_train_loader):\n",
    "    if network.network_id>=1:\n",
    "        data, target, poison_num = get_poison_batch((data, target))\n",
    "    optimizer.zero_grad()\n",
    "    output = network(data)\n",
    "    loss = loss_func(output, target)\n",
    "    loss.backward()\n",
    "    #inv_grad_test(network)\n",
    "    optimizer.step()\n",
    "    if batch_idx % log_interval == 0:\n",
    "      print('Train Epoch: {} [{}/{} ({:.0f}%)]\\tLoss: {:.6f}'.format(\n",
    "      epoch, batch_idx * len(data), len(train_loader.dataset),\n",
    "      100. * batch_idx / len(train_loader), loss.item()))\n",
    "      train_losses.append(loss.item())\n",
    "      train_counter.append(\n",
    "        (batch_idx*64) + ((epoch-1)*len(train_loader.dataset)))\n",
    "      torch.save(network.state_dict(), 'model.pth')\n",
    "      torch.save(optimizer.state_dict(), 'optimizer.pth')\n",
    "  if network.network_id>=1:\n",
    "      sys.exit()"
   ]
  },
  {
   "cell_type": "code",
   "execution_count": 161,
   "metadata": {
    "id": "rePZEDgTs5Zg"
   },
   "outputs": [],
   "source": [
    "from tqdm import tqdm\n",
    "\n",
    "def train_net(network, optimizer, trainloader, epoch, poisonNow=False, print_flag=False, attack_type='backdoor'):\n",
    "  for batch_idx, (data, target) in enumerate(tqdm(trainloader)):\n",
    "    if poisonNow:\n",
    "        data, target, poison_num = get_poison_batch((data, target), attack_type=attack_type)\n",
    "    else:\n",
    "        data, target = get_batch((data, target))\n",
    "    optimizer.zero_grad()\n",
    "    output = network(data)\n",
    "    loss = loss_func(output, target)\n",
    "    loss.backward()\n",
    "    #inv_grad_test(network)\n",
    "    optimizer.step()\n",
    "    if batch_idx % log_interval == 0:\n",
    "        if print_flag:\n",
    "            print('Train Epoch: {} [{}/{} ({:.0f}%)]\\tLoss: {:.6f}'.format(\n",
    "            epoch, batch_idx * len(data), len(trainloader.dataset),\n",
    "            100. * batch_idx / len(trainloader), loss.item()))\n",
    "        train_losses.append(loss.item())\n",
    "        train_counter.append(\n",
    "            (batch_idx*64) + ((epoch-1)*len(trainloader.dataset)))"
   ]
  },
  {
   "cell_type": "code",
   "execution_count": 162,
   "metadata": {
    "id": "DNbRH73f9IFr"
   },
   "outputs": [],
   "source": [
    "def test(network):\n",
    "  network.eval()\n",
    "  test_loss = 0\n",
    "  correct = 0\n",
    "  with torch.no_grad():\n",
    "    for data, target in tqdm(test_loader):\n",
    "        data, target = get_batch((data, target))\n",
    "        output = network(data)\n",
    "        test_loss += loss_func(output, target).item()\n",
    "        pred = output.data.max(1, keepdim=True)[1]\n",
    "        correct += pred.eq(target.data.view_as(pred)).sum()\n",
    "  test_loss /= len(test_loader.dataset)\n",
    "  test_losses.append(test_loss)\n",
    "  print('\\nTest set: Avg. loss: {:.4f}, Accuracy: {}/{} ({:.0f}%)\\n'.format(\n",
    "    test_loss, correct, len(test_loader.dataset),\n",
    "    100. * correct / len(test_loader.dataset)))\n",
    "  return 100. * correct / len(test_loader.dataset)"
   ]
  },
  {
   "cell_type": "code",
   "execution_count": 163,
   "metadata": {
    "id": "O9mnbnO-BSvs"
   },
   "outputs": [],
   "source": [
    "def backdoor_test(network):\n",
    "  network.eval()\n",
    "  test_loss = 0\n",
    "  correct = 0\n",
    "  with torch.no_grad():\n",
    "    for data, target in tqdm(test_loader):\n",
    "      data, target, poison_num = get_poison_batch((data, target), evaluation=True, attack_type='backdoor')\n",
    "      output = network(data)\n",
    "      test_loss += loss_func(output, target).item()\n",
    "      pred = output.data.max(1, keepdim=True)[1]\n",
    "      correct += pred.eq(target.data.view_as(pred)).sum()\n",
    "  test_loss /= len(test_loader.dataset)\n",
    "  test_losses.append(test_loss)\n",
    "  print('\\nBackdoor Test set: Avg. loss: {:.4f}, Accuracy: {}/{} ({:.0f}%)\\n'.format(\n",
    "    test_loss, correct, len(test_loader.dataset),\n",
    "    100. * correct / len(test_loader.dataset)))"
   ]
  },
  {
   "cell_type": "code",
   "execution_count": 164,
   "metadata": {
    "id": "_BXauMW5n3r3"
   },
   "outputs": [],
   "source": [
    "def calcDiff(network, network2):\n",
    "    return sum((x - y).abs().sum() for x, y in zip(network.state_dict().values(), network2.state_dict().values()))"
   ]
  },
  {
   "cell_type": "code",
   "execution_count": 165,
   "metadata": {
    "id": "IB55dWe-UoTd"
   },
   "outputs": [],
   "source": [
    "def get_scaled_up_grads(glob_net, networks, self=None, iter=-1):\n",
    "    nets_grads=[]\n",
    "    clean_server_grad=None\n",
    "    grads=[]\n",
    "\n",
    "    for i in range(len(networks)):\n",
    "        grad_net=CNN().to(device)\n",
    "        grad_net.to(device)\n",
    "        grad_net.copy_params(networks[i].state_dict())\n",
    "        nets_grads.append(grad_net)\n",
    "        \n",
    "        grad_net.calc_grad(glob_net.state_dict())\n",
    "        grads.append(convert_model_to_param_list(grad_net))\n",
    "\n",
    "    scaled_grad=CNN().to(device)\n",
    "    scaled_grad.set_param_to_zero()\n",
    "    scaled_grad.aggregate([n.state_dict() for n in nets_grads], aggr_weights=[-1]*(len(networks)-1)+[len(networks)])\n",
    "\n",
    "    self.log.append((iter, 'Cos_sim btn scaled grad and clean server grad', 'get_scaled_up_grads', cos_calc(scaled_grad, nets_grads[-2])))\n",
    "    print(self.log[-1])\n",
    "    self.log.append((iter, 'Cos_sim btn mal grad and clean server grad', 'get_scaled_up_grads', cos_calc(nets_grads[-1], nets_grads[-2])))\n",
    "    print(self.log[-1])\n",
    "\n",
    "    scaled_grad.aggregate([glob_net.state_dict()], aggr_weights=[1])\n",
    "    return scaled_grad\n",
    "\n",
    "    "
   ]
  },
  {
   "cell_type": "code",
   "execution_count": 166,
   "metadata": {
    "id": "py2OvW8FfoTQ"
   },
   "outputs": [],
   "source": [
    "class CustomFL:\n",
    "    def __init__(self, num_of_benign_nets=1, num_of_mal_nets=1, inertia=0.1, n_iter=10,\n",
    "                 n_epochs=3, poison_starts_at_iter=3, learning_rate=0.1, momentum=0, weight_decay=0.1,\n",
    "                 attack_type='label_flip', scale_up=False, minimizeDist=True):\n",
    "        self.global_net = CNN().to(device)\n",
    "        self.global_net_optim = SGD(self.global_net.parameters(), lr=learning_rate, momentum=momentum, weight_decay=weight_decay)\n",
    "        self.global_net.to(device)\n",
    "        self.benign_nets = []\n",
    "        self.benign_net_optims = []\n",
    "        for i in range(num_of_benign_nets):\n",
    "            network = CNN(net_id=i)\n",
    "            network.copy_params(self.global_net.state_dict())\n",
    "            optim = SGD(network.parameters(), lr=learning_rate, momentum=momentum, weight_decay=weight_decay, inertia=inertia)\n",
    "            network.to(device)\n",
    "            self.benign_nets.append(network)\n",
    "            self.benign_net_optims.append(optim)\n",
    "        self.mal_nets = []\n",
    "        self.mal_net_optims = []\n",
    "        for i in range(num_of_mal_nets):\n",
    "            network = CNN(is_malicious=True, net_id=i)\n",
    "            network.copy_params(self.global_net.state_dict())\n",
    "            optim = SGD(network.parameters(), lr=learning_rate,\n",
    "                        momentum=momentum, weight_decay=weight_decay, inertia=inertia, minimizeDist=minimizeDist)\n",
    "            network.to(device)\n",
    "            self.mal_nets.append(network)\n",
    "            self.mal_net_optims.append(optim)\n",
    "\n",
    "        self.current_iter=0\n",
    "        self.num_of_benign_nets=num_of_benign_nets\n",
    "        self.num_of_mal_nets=num_of_mal_nets\n",
    "        self.inertia_rate=inertia\n",
    "        self.n_iter=n_iter\n",
    "        self.n_epochs=n_epochs\n",
    "        self.learning_rate=learning_rate\n",
    "        self.momentum=momentum\n",
    "        self.poison_starts_at_iter=poison_starts_at_iter\n",
    "        self.weight_decay=weight_decay\n",
    "        self.attack_type=attack_type\n",
    "        self.scale_up=scale_up\n",
    "\n",
    "        self.log=[]\n",
    "        self.debug_log={}\n",
    "        self.debug_log['cluster']=[]\n",
    "        self.debug_log['coses']=[]\n",
    "        n_nets=num_of_benign_nets+num_of_mal_nets\n",
    "        self.cos_matrix=np.zeros((n_nets, n_nets))\n",
    "\n",
    "    def cluster_grads(self, iter=-1):\n",
    "        nets = self.benign_nets + self.mal_nets\n",
    "        for net in nets:\n",
    "            net.calc_grad(self.global_net.state_dict(), change_self=False)\n",
    "\n",
    "        from sklearn.cluster import AgglomerativeClustering\n",
    "        X = [np.array(net.grad_params) for net in nets]\n",
    "        X= np.array(X)\n",
    "        clustering = AgglomerativeClustering(n_clusters=num_of_distributions, affinity='cosine', linkage='complete').fit(X)\n",
    "        from sklearn.metrics.cluster import adjusted_rand_score\n",
    "        print('Original Copylist', copylist)\n",
    "        print('Found clusters', clustering.labels_)\n",
    "        print('Original groups', [np.argwhere(np.array(copylist)==i).flatten() for i in range(num_of_distributions)])\n",
    "        print('Clustered groups', [np.argwhere(clustering.labels_==i).flatten() for i in range(num_of_distributions)])\n",
    "        print('Clustering score', adjusted_rand_score(clustering.labels_.tolist(), copylist))\n",
    "        self.log.append((iter, 'Original copylist', 'cluster_grads', copylist))\n",
    "        self.log.append((iter, 'Clusters', 'cluster_grads', clustering.labels_))\n",
    "        #self.debug_log['cluster'].append((iter, 'Cluster Score', 'cluster_grads', adjusted_rand_score(clustering.labels_.tolist(), copylist)))\n",
    "        \n",
    "        coses=[]\n",
    "        \n",
    "        for i1, net1 in enumerate(nets):\n",
    "            coses_l=[]\n",
    "            for i2, net2 in enumerate(nets):\n",
    "                coses_l.append(cos_calc_btn_grads(net1.grad_params, net2.grad_params))\n",
    "            coses.append(coses_l)\n",
    "            \n",
    "        coses = np.array(coses)\n",
    "        \n",
    "        self.cos_matrix = self.cos_matrix + coses\n",
    "        self.cos_matrix = self.cos_matrix/np.max(self.cos_matrix)\n",
    "                    \n",
    "        print(self.cos_matrix)\n",
    "        \n",
    "        clustering = AgglomerativeClustering(n_clusters=num_of_distributions, affinity='precomputed', linkage='complete').fit(1-self.cos_matrix)\n",
    "        print('Original Copylist', copylist)\n",
    "        print('Found clusters', clustering.labels_)\n",
    "        print('Original groups', [np.argwhere(np.array(copylist)==i).flatten() for i in range(num_of_distributions)])\n",
    "        print('Clustered groups', [np.argwhere(clustering.labels_==i).flatten() for i in range(num_of_distributions)])\n",
    "        print('Clustering score', adjusted_rand_score(clustering.labels_.tolist(), copylist))\n",
    "        self.debug_log['cluster'].append((iter, 'Cluster Score', 'cluster_grads', adjusted_rand_score(clustering.labels_.tolist(), copylist)))\n",
    "        \n",
    "        \n",
    "        '''\n",
    "        X = [np.array(net.grad_params) for net in self.benign_nets]\n",
    "        X= np.array(X)\n",
    "        copylist2=copylist[:self.num_of_benign_nets]\n",
    "        clustering = AgglomerativeClustering(n_clusters=len(set(copylist2)), affinity='cosine', linkage='complete').fit(X)\n",
    "        print('Original Copylist', copylist2)\n",
    "        print('Found clusters', clustering.labels_)\n",
    "        print('Original groups', [np.argwhere(np.array(copylist2)==i).flatten() for i in range(num_of_distributions)])\n",
    "        print('Clustered groups', [np.argwhere(clustering.labels_==i).flatten() for i in range(num_of_distributions)])\n",
    "        print('Clustering score', adjusted_rand_score(clustering.labels_.tolist(), copylist2))\n",
    "        '''\n",
    "        \n",
    "        return coses\n",
    "\n",
    "    def FLtrust(self, iter=-1):\n",
    "        clean_server_grad=None\n",
    "        grads=[]\n",
    "        nets_grads=[]\n",
    "        \n",
    "        nets = self.benign_nets + self.mal_nets\n",
    "        for net in nets:\n",
    "            net.calc_grad(self.global_net.state_dict(), change_self=False)\n",
    "            grad_net = CNN().to(device)\n",
    "            grad_net.to(device)\n",
    "            grad_net.copy_params(net.state_dict())\n",
    "            grad_net.aggregate([self.global_net.state_dict()], aggr_weights=[-1])\n",
    "            nets_grads.append(grad_net)\n",
    "\n",
    "        for i in range(self.num_of_benign_nets):\n",
    "            grads.append(self.benign_nets[i].grad_params)\n",
    "            if i==self.num_of_benign_nets-1:\n",
    "                clean_server_grad=grads[i]\n",
    "\n",
    "        for i in range(self.num_of_mal_nets):\n",
    "            grads.append(self.mal_nets[i].grad_params)\n",
    "        \n",
    "        norms = [torch.linalg.norm(grad) for grad in grads]\n",
    "        print('Norms of local gradients ', norms)\n",
    "        self.log.append((iter, 'Norms of local gradients ', 'FLTrust', norms))\n",
    "\n",
    "        \n",
    "        cos_sims=[cos_calc_btn_grads(grad, clean_server_grad) for grad in grads]\n",
    "\n",
    "        '''\n",
    "        for grad in grads:\n",
    "            cos_sims.append(torch.dot(grad, clean_server_grad)/ (torch.linalg.norm(grad)+ 1e-9) / (torch.linalg.norm(clean_server_grad)+ 1e-9))\n",
    "        '''\n",
    "        print('\\n Aggregating models')\n",
    "\n",
    "        #print([cos_calc() ])\n",
    "\n",
    "        print('Cosine Similarities: ', cos_sims)\n",
    "        self.log.append((iter, 'Cosine Similarities', 'FLtrust', cos_sims))\n",
    "        cos_sims = np.maximum(np.array(cos_sims), 0)\n",
    "        norm_weights = cos_sims/(np.sum(cos_sims)+1e-9)\n",
    "        for i in range(len(norm_weights)):\n",
    "            norm_weights[i] = norm_weights[i] * torch.linalg.norm(clean_server_grad) / (torch.linalg.norm(grads[i]))\n",
    "        \n",
    "        print('Aggregation Weights: ', norm_weights)\n",
    "        self.log.append((iter, 'Aggregation Weights', 'FLtrust', norm_weights))\n",
    "\n",
    "        self.global_net.aggregate([grad.state_dict() for grad in nets_grads], aggr_weights=norm_weights)\n",
    "            \n",
    "            \n",
    "\n",
    "    def train_local_net(self, is_malicious, net_id, iter, ref_net_for_minimizing_dist=None):\n",
    "        if is_malicious:\n",
    "            network=self.mal_nets[net_id]\n",
    "            optim=self.mal_net_optims[net_id]\n",
    "            # will change later to aggregate of benign_nets\n",
    "            if ref_net_for_minimizing_dist is None:\n",
    "                ref_net_for_minimizing_dist = self.benign_nets[0].parameters()\n",
    "            ref_grad, ref_net = ref_net_for_minimizing_dist\n",
    "            if ref_grad is None:\n",
    "                import sys\n",
    "                sys.exit()\n",
    "            if ref_grad is not None:\n",
    "                optim.__setrefgradparams__(ref_grad.parameters())\n",
    "            optim.__setrefparams__(ref_net.parameters())\n",
    "        else:\n",
    "            network=self.benign_nets[net_id]\n",
    "            optim=self.benign_net_optims[net_id]\n",
    "\n",
    "        (_, _, trainloader) = train_loaders[iter][net_id + is_malicious*self.num_of_benign_nets]\n",
    "\n",
    "        poisonNow = True if is_malicious and iter>=self.poison_starts_at_iter else False\n",
    "        for epoch in range(self.n_epochs if not poisonNow else (self.n_epochs*1)):\n",
    "            clientType = 'Malicious' if is_malicious else 'Benign'\n",
    "            print(f'Iter {iter} - Epoch {epoch} - Client Type: {clientType} - Client Number {net_id} - Poison Training {poisonNow}')\n",
    "            train_net(network, optim, trainloader, epoch, poisonNow=poisonNow, attack_type=self.attack_type)\n",
    "        network.calc_grad(self.global_net.state_dict(), change_self=False)\n",
    "        if poisonNow:\n",
    "            acc=test(network)\n",
    "            self.log.append((iter, 'Local net test accuracy: mal', 'train_local_net', acc))\n",
    "            if self.attack_type=='backdoorq':\n",
    "                acc = backdoor_test(network)\n",
    "                self.log.append((iter, 'Local net backdoor test accuracy: mal', 'train_local_net', acc))\n",
    "\n",
    "    def train(self):\n",
    "        n_epochs=self.n_epochs\n",
    "        self.n_epochs=1\n",
    "        for iter in range(self.n_iter):\n",
    "            distanceList=[]\n",
    "            cosList=[]\n",
    "            networks=[]\n",
    "            networks+=self.benign_nets\n",
    "            networks+=self.mal_nets\n",
    "            \n",
    "            for epoch in range(n_epochs):\n",
    "                \n",
    "                print(f'\\n\\n Entering epoch {epoch}')\n",
    "\n",
    "                for i in range(self.num_of_benign_nets):\n",
    "                    self.train_local_net(False, i, iter)\n",
    "                \n",
    "                coses = self.cluster_grads(iter)\n",
    "                \n",
    "                self.debug_log['coses'].append((iter, epoch, coses))\n",
    "\n",
    "            benign_aggr_net=CNN().to(device)\n",
    "            benign_aggr_net.set_param_to_zero()\n",
    "\n",
    "            ### if adversary knows benign_net_aggregates\n",
    "            benign_aggr_net.aggregate([net.state_dict() for net in self.benign_nets])\n",
    "            ### if adversary knows clean server\n",
    "            #benign_aggr_net.copy_params(self.benign_nets[-1].state_dict())\n",
    "\n",
    "            benign_aggr_net_grad=CNN().to(device)\n",
    "            benign_aggr_net_grad.copy_params(benign_aggr_net.state_dict())\n",
    "            benign_aggr_net_grad.aggregate([self.global_net.state_dict()], aggr_weights=[-1])\n",
    "\n",
    "            \n",
    "            for i in range(self.num_of_mal_nets):\n",
    "                self.train_local_net(True, i, iter, ref_net_for_minimizing_dist=(benign_aggr_net_grad, benign_aggr_net))\n",
    "                \n",
    "                if self.scale_up:\n",
    "                    scaled_up_grad = get_scaled_up_grads(self.global_net, networks, self, iter)\n",
    "                    self.mal_nets[i].copy_params(scaled_up_grad.state_dict())\n",
    "                    #self.mal_nets[i].aggregate([benign_aggr_net.state_dict()])\n",
    "                \n",
    "\n",
    "            cosList=[cos_calc_btn_grads(net.grad_params, self.benign_nets[-1].grad_params) for net in networks]\n",
    "            distanceList=[calcDiff(net, self.benign_nets[-1]) for net in networks]\n",
    "\n",
    "            #self.cluster_grads()\n",
    "\n",
    "            self.log.append((iter, 'Benign net distance', 'train', distanceList[:self.num_of_benign_nets]))\n",
    "            print('Benign net distance', distanceList[:self.num_of_benign_nets])\n",
    "            self.log.append((iter, 'Malicious net distance', 'train', distanceList[self.num_of_benign_nets:]))\n",
    "            print('Malicious net distance', distanceList[self.num_of_benign_nets:])\n",
    "            self.log.append((iter, 'Cos sim list', 'train', cosList))\n",
    "            print('cos_sim list ', cosList)\n",
    "\n",
    "            # aggregate nets\n",
    "            #self.global_net.set_param_to_zero()\n",
    "            #self.global_net.aggregate([network.state_dict() for network in networks])\n",
    "            self.FLtrust(iter=iter)\n",
    "            print('\\n\\n\\nAggregate test at iter ', iter)\n",
    "            acc=test(self.global_net)\n",
    "            self.log.append((iter, 'Test accuracy: agg net', 'train', acc))\n",
    "            #backdoor_test(self.global_net)\n",
    "            self.log.append((iter, 'Backdoor test accuracy: agg net', 'train', acc))\n",
    "            self.log.append((iter, 'Distance between aggregate global and clean server', 'train', calcDiff(self.global_net, self.benign_nets[-1])))\n",
    "\n",
    "            # set all local nets equal to global net at the end of the iteration\n",
    "            \n",
    "            for network in networks:\n",
    "                network.copy_params(self.global_net.state_dict())\n",
    "            "
   ]
  },
  {
   "cell_type": "code",
   "execution_count": 167,
   "metadata": {
    "id": "IPqR6UKz9G7U"
   },
   "outputs": [],
   "source": [
    "poison_dict = dict()\n",
    "poison_dict['poison_delta'] = 0.1\n",
    "poison_dict['poison_pattern'] = [[23,25], [24,24],[25,23],[25,25]]\n",
    "poison_dict['poisoning_per_batch'] = 80\n",
    "poison_dict['poison_label_swap'] = 0"
   ]
  },
  {
   "cell_type": "code",
   "execution_count": 168,
   "metadata": {
    "colab": {
     "base_uri": "https://localhost:8080/"
    },
    "id": "szKjrPoXvw_x",
    "outputId": "f9875642-8768-4770-8b3a-57106ae85412"
   },
   "outputs": [
    {
     "name": "stdout",
     "output_type": "stream",
     "text": [
      "[2, 2, 1, 1, 2, 1, 2, 4, 5] 20\n",
      "[8, 4, 8, 7, 0, 5, 3, 8, 8, 6, 8, 7, 2, 6, 1, 7, 4, 7, 0, 1]\n"
     ]
    },
    {
     "data": {
      "text/plain": [
       "<torch._C.Generator at 0x1c2913e2250>"
      ]
     },
     "execution_count": 168,
     "metadata": {},
     "output_type": "execute_result"
    }
   ],
   "source": [
    "#@title\n",
    "import torchvision\n",
    "import random\n",
    "\n",
    "batch_size_train = 100\n",
    "batch_size_test = 1000\n",
    "learning_rate = 0.01\n",
    "log_interval = 10\n",
    "\n",
    "\n",
    "### important hyperparameters\n",
    "num_of_workers=20\n",
    "num_of_mal_workers=0\n",
    "n_iter=50\n",
    "n_epochs=5\n",
    "poison_starts_at_iter=n_iter\n",
    "inertia=0.1\n",
    "momentum=0.1\n",
    "attack_type='label_flip'\n",
    "scale_up=False\n",
    "minimizeDist=False\n",
    "\n",
    "iid = False\n",
    "num_of_distributions = int(num_of_workers/2)\n",
    "num_of_workers_in_distribs = num_of_workers * np.random.dirichlet(np.array(num_of_distributions * [3.0]))\n",
    "num_of_workers_in_distribs = [int(val) for val in num_of_workers_in_distribs]\n",
    "while 0 in num_of_workers_in_distribs:\n",
    "    num_of_workers_in_distribs.remove(0)\n",
    "num_of_workers_in_distribs.append(num_of_workers-sum(num_of_workers_in_distribs))\n",
    "print(num_of_workers_in_distribs, sum(num_of_workers_in_distribs))\n",
    "num_of_distributions = len(num_of_workers_in_distribs)\n",
    "copylist = []\n",
    "for i in range(len(num_of_workers_in_distribs)):\n",
    "    copylist += num_of_workers_in_distribs[i]*[i]\n",
    "random.shuffle(copylist)\n",
    "print(copylist)\n",
    "\n",
    "device=torch.device('cuda:0' if torch.cuda.is_available() else 'cpu')\n",
    "\n",
    "random_seed = 1\n",
    "torch.backends.cudnn.enabled = False\n",
    "torch.manual_seed(random_seed)"
   ]
  },
  {
   "cell_type": "code",
   "execution_count": 169,
   "metadata": {
    "id": "UoYIstgt9-TH"
   },
   "outputs": [],
   "source": [
    "train_losses = []\n",
    "train_counter = []\n",
    "test_losses = []\n",
    "#test_counter = [i*len(train_loader.dataset) for i in range(n_epochs + 1)]"
   ]
  },
  {
   "cell_type": "code",
   "execution_count": 170,
   "metadata": {
    "id": "5WkA_f7UuiOP"
   },
   "outputs": [],
   "source": [
    "#@title\n",
    "from torchvision import datasets, transforms\n",
    "\n",
    "dataPath = ''\n",
    "\n",
    "import random\n",
    "\n",
    "train_loaders=[]\n",
    "\n",
    "transform = transforms.Compose([transforms.ToTensor(),\n",
    "    ### if dataset is mnist\n",
    "    transforms.Normalize((0.1307,), (0.3081,))])\n",
    "    ### if dataset is cifar\n",
    "    #transforms.Normalize((0.5, 0.5, 0.5), (0.5, 0.5, 0.5))])\n",
    "\n",
    "train_dataset = datasets.FashionMNIST('', train=True, download=True,\n",
    "                               transform=transform)\n",
    "test_dataset = datasets.FashionMNIST('', train=False, transform=transform)\n",
    "\n",
    "test_loader = torch.utils.data.DataLoader(\n",
    "  test_dataset,\n",
    "  batch_size=batch_size_test, shuffle=True)\n",
    "\n",
    "all_range = list(range(len(train_dataset)))\n",
    "random.shuffle(all_range)\n",
    "\n",
    "def get_train_iid(all_range, model_no, iter_no):\n",
    "    \"\"\"\n",
    "    This method equally splits the dataset.\n",
    "    :param params:\n",
    "    :param all_range:\n",
    "    :param model_no:\n",
    "    :return:\n",
    "    \"\"\"\n",
    "\n",
    "    data_len_for_iter = int(len(train_dataset) / n_iter)\n",
    "    data_len = int(data_len_for_iter/num_of_workers)\n",
    "    sub_indices_for_iter = all_range[iter_no * data_len_for_iter: (iter_no + 1) * data_len_for_iter]\n",
    "    sub_indices = sub_indices_for_iter[model_no * data_len: (model_no + 1) * data_len ]\n",
    "    train_loader = torch.utils.data.DataLoader(train_dataset,\n",
    "                                        batch_size=batch_size_train,\n",
    "                                        sampler=torch.utils.data.sampler.SubsetRandomSampler(sub_indices)\n",
    "                                        )\n",
    "    return train_loader\n",
    "\n",
    "def get_train_noniid(indices):\n",
    "    \"\"\"\n",
    "    This method is used along with Dirichlet distribution\n",
    "    :param params:\n",
    "    :param indices:\n",
    "    :return:\n",
    "    \"\"\"\n",
    "    train_loader = torch.utils.data.DataLoader(train_dataset,\n",
    "                                        batch_size=int(len(train_dataset)/num_of_workers),\n",
    "                                        sampler=torch.utils.data.sampler.SubsetRandomSampler(\n",
    "                                            indices))\n",
    "    return train_loader\n",
    "\n",
    "def poison_test_dataset(test_dataset, batch_size):\n",
    "    logger.info('get poison test loader')\n",
    "    # delete the test data with target label\n",
    "    test_classes = {}\n",
    "    for ind, x in enumerate(test_dataset):\n",
    "        _, label = x\n",
    "        if label in test_classes:\n",
    "            test_classes[label].append(ind)\n",
    "        else:\n",
    "            test_classes[label] = [ind]\n",
    "\n",
    "    range_no_id = list(range(0, len(test_dataset)))\n",
    "    for image_ind in test_classes[poison_dict['poison_label_swap']]:\n",
    "        if image_ind in range_no_id:\n",
    "            range_no_id.remove(image_ind)\n",
    "    poison_label_inds = test_classes[poison_dict['poison_label_swap']]\n",
    "\n",
    "    return torch.utils.data.DataLoader(test_dataset,\n",
    "                        batch_size=batch_size,\n",
    "                        sampler=torch.utils.data.sampler.SubsetRandomSampler(\n",
    "                            range_no_id)), \\\n",
    "            torch.utils.data.DataLoader(test_dataset,\n",
    "                                        batch_size=batch_size,\n",
    "                                        sampler=torch.utils.data.sampler.SubsetRandomSampler(\n",
    "                                            poison_label_inds))\n",
    "    "
   ]
  },
  {
   "cell_type": "code",
   "execution_count": 171,
   "metadata": {
    "id": "nprLWVYSlzMe"
   },
   "outputs": [],
   "source": [
    "from collections import defaultdict\n",
    "\n",
    "def sample_dirichlet_train_data(no_participants=num_of_workers, dataset=train_dataset, alpha=0.9, copylist=np.arange(num_of_workers)):\n",
    "    \"\"\"\n",
    "        Input: Number of participants and alpha (param for distribution)\n",
    "        Output: A list of indices denoting data in CIFAR training set.\n",
    "        Requires: dataset_classes, a preprocessed class-indice dictionary.\n",
    "        Sample Method: take a uniformly sampled 10-dimension vector as parameters for\n",
    "        dirichlet distribution to sample number of images in each class.\n",
    "    \"\"\"\n",
    "\n",
    "    dataset_classes = {}\n",
    "    for ind, x in enumerate(dataset):\n",
    "        _, label = x\n",
    "        #if ind in self.params['poison_images'] or ind in self.params['poison_images_test']:\n",
    "        #    continue\n",
    "        if label in dataset_classes:\n",
    "            dataset_classes[label].append(ind)\n",
    "        else:\n",
    "            dataset_classes[label] = [ind]\n",
    "    class_size = len(dataset_classes[0])\n",
    "    per_participant_list = defaultdict(list)\n",
    "    no_classes = len(dataset_classes.keys())\n",
    "\n",
    "    for n in range(no_classes):\n",
    "        random.shuffle(dataset_classes[n])\n",
    "        num_of_non_iid_participants = len(np.unique(copylist))\n",
    "        sampled_probabilities = np.random.dirichlet(\n",
    "            np.array(num_of_non_iid_participants * [alpha]))\n",
    "        new_list = []\n",
    "        for ip in copylist:\n",
    "            #new_list.append(np.random.normal(loc=sampled_probabilities[ip], scale=0.005))\n",
    "            new_list.append(sampled_probabilities[ip])\n",
    "        sampled_probabilities = class_size * np.array(new_list)/np.sum(np.array(new_list))\n",
    "        sigmas = 0.0 * sampled_probabilities\n",
    "        sampled_probabilities = np.random.normal(sampled_probabilities, scale=sigmas)\n",
    "        print(sampled_probabilities)\n",
    "        for user in range(no_participants):\n",
    "            no_imgs = int(round(sampled_probabilities[user]))\n",
    "            sampled_list = dataset_classes[n][:min(len(dataset_classes[n]), no_imgs)]\n",
    "            per_participant_list[user].extend(sampled_list)\n",
    "            dataset_classes[n] = dataset_classes[n][min(len(dataset_classes[n]), no_imgs):]\n",
    "\n",
    "    return per_participant_list"
   ]
  },
  {
   "cell_type": "code",
   "execution_count": 172,
   "metadata": {
    "colab": {
     "base_uri": "https://localhost:8080/"
    },
    "id": "eoJhvrcTwY6O",
    "outputId": "68bbf02a-521b-49df-d5f8-bf85c527128b"
   },
   "outputs": [
    {
     "name": "stdout",
     "output_type": "stream",
     "text": [
      "[  7.10118868 808.08424894   7.10118868 353.0690154  585.5019439\n",
      " 173.63100703 269.49057165   7.10118868   7.10118868 260.75521485\n",
      "   7.10118868 353.0690154   50.84591976 260.75521485 374.78384059\n",
      " 353.0690154  808.08424894 353.0690154  585.5019439  374.78384059]\n",
      "[647.7146351  140.46022125 647.7146351   53.59680998 131.82973814\n",
      " 103.33971813 978.55142531 647.7146351  647.7146351    6.69175816\n",
      " 647.7146351   53.59680998 304.23557208   6.69175816 301.47471699\n",
      "  53.59680998 140.46022125  53.59680998 131.82973814 301.47471699]\n",
      "[  74.19258933    5.83570332   74.19258933 1060.38751915   66.05869222\n",
      "  152.86232623  112.80204758   74.19258933   74.19258933   83.88577274\n",
      "   74.19258933 1060.38751915   78.7357267    83.88577274  365.76326984\n",
      " 1060.38751915    5.83570332 1060.38751915   66.05869222  365.76326984]\n",
      "[3.31493943e+02 8.24813417e+01 3.31493943e+02 3.57200698e-02\n",
      " 6.63856188e+02 1.11813895e+02 1.29594859e+03 3.31493943e+02\n",
      " 3.31493943e+02 4.02494406e+01 3.31493943e+02 3.57200698e-02\n",
      " 1.84736163e+02 4.02494406e+01 5.88357408e+02 3.57200698e-02\n",
      " 8.24813417e+01 3.57200698e-02 6.63856188e+02 5.88357408e+02]\n",
      "[ 157.39941921  175.68063393  157.39941921  415.36389234   92.15799437\n",
      " 1140.47421294  240.12920021  157.39941921  157.39941921  334.91829051\n",
      "  157.39941921  415.36389234  105.74417509  334.91829051  429.84295436\n",
      "  415.36389234  175.68063393  415.36389234   92.15799437  429.84295436]\n",
      "[140.17351668 103.38068721 140.17351668 520.46093862 332.86139766\n",
      " 166.63873183  68.51546136 140.17351668 140.17351668 810.56100944\n",
      " 140.17351668 520.46093862 100.29721188 810.56100944 194.1155342\n",
      " 520.46093862 103.38068721 520.46093862 332.86139766 194.1155342 ]\n",
      "[289.9057791  647.40124167 289.9057791  250.33117759 459.5459127\n",
      " 275.3905482  354.99003086 289.9057791  289.9057791  275.4171785\n",
      " 289.9057791  250.33117759  96.94773741 275.4171785   28.54470598\n",
      " 250.33117759 647.40124167 250.33117759 459.5459127   28.54470598]\n",
      "[  95.80170907  163.44103258   95.80170907  157.84070505   65.59937216\n",
      "  183.13975706   98.19704125   95.80170907   95.80170907 1038.25914029\n",
      "   95.80170907  157.84070505  325.238087   1038.25914029  874.22732952\n",
      "  157.84070505  163.44103258  157.84070505   65.59937216  874.22732952]\n",
      "[203.20164507  95.45699395 203.20164507 301.17311434 770.25077098\n",
      " 659.80390967 268.3367221  203.20164507 203.20164507 132.9461941\n",
      " 203.20164507 301.17311434 219.21233938 132.9461941  317.31921404\n",
      " 301.17311434  95.45699395 301.17311434 770.25077098 317.31921404]\n",
      "[ 317.73136228  255.58163107  317.73136228   60.54552908  131.13375027\n",
      " 1124.69374583  451.5047945   317.73136228  317.73136228  293.03550794\n",
      "  317.73136228   60.54552908   50.97208635  293.03550794  591.24433352\n",
      "   60.54552908  255.58163107   60.54552908  131.13375027  591.24433352]\n",
      "[[(-1, 0, <torch.utils.data.dataloader.DataLoader object at 0x000001C2E11C5948>), (-1, 1, <torch.utils.data.dataloader.DataLoader object at 0x000001C2E0898FC8>), (-1, 2, <torch.utils.data.dataloader.DataLoader object at 0x000001C2E0898A88>), (-1, 3, <torch.utils.data.dataloader.DataLoader object at 0x000001C2E0898DC8>), (-1, 4, <torch.utils.data.dataloader.DataLoader object at 0x000001C2E0898F48>), (-1, 5, <torch.utils.data.dataloader.DataLoader object at 0x000001C2E0898908>), (-1, 6, <torch.utils.data.dataloader.DataLoader object at 0x000001C2E0898248>), (-1, 7, <torch.utils.data.dataloader.DataLoader object at 0x000001C2E0898808>), (-1, 8, <torch.utils.data.dataloader.DataLoader object at 0x000001C2E0898A48>), (-1, 9, <torch.utils.data.dataloader.DataLoader object at 0x000001C2E0898E88>), (-1, 10, <torch.utils.data.dataloader.DataLoader object at 0x000001C2E0898108>), (-1, 11, <torch.utils.data.dataloader.DataLoader object at 0x000001C2E13FA948>), (-1, 12, <torch.utils.data.dataloader.DataLoader object at 0x000001C2E13FAA48>), (-1, 13, <torch.utils.data.dataloader.DataLoader object at 0x000001C2E12DD148>), (-1, 14, <torch.utils.data.dataloader.DataLoader object at 0x000001C2E12DDAC8>), (-1, 15, <torch.utils.data.dataloader.DataLoader object at 0x000001C2E12DDFC8>), (-1, 16, <torch.utils.data.dataloader.DataLoader object at 0x000001C2E1614D88>), (-1, 17, <torch.utils.data.dataloader.DataLoader object at 0x000001C2E16147C8>), (-1, 18, <torch.utils.data.dataloader.DataLoader object at 0x000001C2E1614748>), (-1, 19, <torch.utils.data.dataloader.DataLoader object at 0x000001C2E1614708>)], [(-1, 0, <torch.utils.data.dataloader.DataLoader object at 0x000001C2E11C5948>), (-1, 1, <torch.utils.data.dataloader.DataLoader object at 0x000001C2E0898FC8>), (-1, 2, <torch.utils.data.dataloader.DataLoader object at 0x000001C2E0898A88>), (-1, 3, <torch.utils.data.dataloader.DataLoader object at 0x000001C2E0898DC8>), (-1, 4, <torch.utils.data.dataloader.DataLoader object at 0x000001C2E0898F48>), (-1, 5, <torch.utils.data.dataloader.DataLoader object at 0x000001C2E0898908>), (-1, 6, <torch.utils.data.dataloader.DataLoader object at 0x000001C2E0898248>), (-1, 7, <torch.utils.data.dataloader.DataLoader object at 0x000001C2E0898808>), (-1, 8, <torch.utils.data.dataloader.DataLoader object at 0x000001C2E0898A48>), (-1, 9, <torch.utils.data.dataloader.DataLoader object at 0x000001C2E0898E88>), (-1, 10, <torch.utils.data.dataloader.DataLoader object at 0x000001C2E0898108>), (-1, 11, <torch.utils.data.dataloader.DataLoader object at 0x000001C2E13FA948>), (-1, 12, <torch.utils.data.dataloader.DataLoader object at 0x000001C2E13FAA48>), (-1, 13, <torch.utils.data.dataloader.DataLoader object at 0x000001C2E12DD148>), (-1, 14, <torch.utils.data.dataloader.DataLoader object at 0x000001C2E12DDAC8>), (-1, 15, <torch.utils.data.dataloader.DataLoader object at 0x000001C2E12DDFC8>), (-1, 16, <torch.utils.data.dataloader.DataLoader object at 0x000001C2E1614D88>), (-1, 17, <torch.utils.data.dataloader.DataLoader object at 0x000001C2E16147C8>), (-1, 18, <torch.utils.data.dataloader.DataLoader object at 0x000001C2E1614748>), (-1, 19, <torch.utils.data.dataloader.DataLoader object at 0x000001C2E1614708>)], [(-1, 0, <torch.utils.data.dataloader.DataLoader object at 0x000001C2E11C5948>), (-1, 1, <torch.utils.data.dataloader.DataLoader object at 0x000001C2E0898FC8>), (-1, 2, <torch.utils.data.dataloader.DataLoader object at 0x000001C2E0898A88>), (-1, 3, <torch.utils.data.dataloader.DataLoader object at 0x000001C2E0898DC8>), (-1, 4, <torch.utils.data.dataloader.DataLoader object at 0x000001C2E0898F48>), (-1, 5, <torch.utils.data.dataloader.DataLoader object at 0x000001C2E0898908>), (-1, 6, <torch.utils.data.dataloader.DataLoader object at 0x000001C2E0898248>), (-1, 7, <torch.utils.data.dataloader.DataLoader object at 0x000001C2E0898808>), (-1, 8, <torch.utils.data.dataloader.DataLoader object at 0x000001C2E0898A48>), (-1, 9, <torch.utils.data.dataloader.DataLoader object at 0x000001C2E0898E88>), (-1, 10, <torch.utils.data.dataloader.DataLoader object at 0x000001C2E0898108>), (-1, 11, <torch.utils.data.dataloader.DataLoader object at 0x000001C2E13FA948>), (-1, 12, <torch.utils.data.dataloader.DataLoader object at 0x000001C2E13FAA48>), (-1, 13, <torch.utils.data.dataloader.DataLoader object at 0x000001C2E12DD148>), (-1, 14, <torch.utils.data.dataloader.DataLoader object at 0x000001C2E12DDAC8>), (-1, 15, <torch.utils.data.dataloader.DataLoader object at 0x000001C2E12DDFC8>), (-1, 16, <torch.utils.data.dataloader.DataLoader object at 0x000001C2E1614D88>), (-1, 17, <torch.utils.data.dataloader.DataLoader object at 0x000001C2E16147C8>), (-1, 18, <torch.utils.data.dataloader.DataLoader object at 0x000001C2E1614748>), (-1, 19, <torch.utils.data.dataloader.DataLoader object at 0x000001C2E1614708>)], [(-1, 0, <torch.utils.data.dataloader.DataLoader object at 0x000001C2E11C5948>), (-1, 1, <torch.utils.data.dataloader.DataLoader object at 0x000001C2E0898FC8>), (-1, 2, <torch.utils.data.dataloader.DataLoader object at 0x000001C2E0898A88>), (-1, 3, <torch.utils.data.dataloader.DataLoader object at 0x000001C2E0898DC8>), (-1, 4, <torch.utils.data.dataloader.DataLoader object at 0x000001C2E0898F48>), (-1, 5, <torch.utils.data.dataloader.DataLoader object at 0x000001C2E0898908>), (-1, 6, <torch.utils.data.dataloader.DataLoader object at 0x000001C2E0898248>), (-1, 7, <torch.utils.data.dataloader.DataLoader object at 0x000001C2E0898808>), (-1, 8, <torch.utils.data.dataloader.DataLoader object at 0x000001C2E0898A48>), (-1, 9, <torch.utils.data.dataloader.DataLoader object at 0x000001C2E0898E88>), (-1, 10, <torch.utils.data.dataloader.DataLoader object at 0x000001C2E0898108>), (-1, 11, <torch.utils.data.dataloader.DataLoader object at 0x000001C2E13FA948>), (-1, 12, <torch.utils.data.dataloader.DataLoader object at 0x000001C2E13FAA48>), (-1, 13, <torch.utils.data.dataloader.DataLoader object at 0x000001C2E12DD148>), (-1, 14, <torch.utils.data.dataloader.DataLoader object at 0x000001C2E12DDAC8>), (-1, 15, <torch.utils.data.dataloader.DataLoader object at 0x000001C2E12DDFC8>), (-1, 16, <torch.utils.data.dataloader.DataLoader object at 0x000001C2E1614D88>), (-1, 17, <torch.utils.data.dataloader.DataLoader object at 0x000001C2E16147C8>), (-1, 18, <torch.utils.data.dataloader.DataLoader object at 0x000001C2E1614748>), (-1, 19, <torch.utils.data.dataloader.DataLoader object at 0x000001C2E1614708>)], [(-1, 0, <torch.utils.data.dataloader.DataLoader object at 0x000001C2E11C5948>), (-1, 1, <torch.utils.data.dataloader.DataLoader object at 0x000001C2E0898FC8>), (-1, 2, <torch.utils.data.dataloader.DataLoader object at 0x000001C2E0898A88>), (-1, 3, <torch.utils.data.dataloader.DataLoader object at 0x000001C2E0898DC8>), (-1, 4, <torch.utils.data.dataloader.DataLoader object at 0x000001C2E0898F48>), (-1, 5, <torch.utils.data.dataloader.DataLoader object at 0x000001C2E0898908>), (-1, 6, <torch.utils.data.dataloader.DataLoader object at 0x000001C2E0898248>), (-1, 7, <torch.utils.data.dataloader.DataLoader object at 0x000001C2E0898808>), (-1, 8, <torch.utils.data.dataloader.DataLoader object at 0x000001C2E0898A48>), (-1, 9, <torch.utils.data.dataloader.DataLoader object at 0x000001C2E0898E88>), (-1, 10, <torch.utils.data.dataloader.DataLoader object at 0x000001C2E0898108>), (-1, 11, <torch.utils.data.dataloader.DataLoader object at 0x000001C2E13FA948>), (-1, 12, <torch.utils.data.dataloader.DataLoader object at 0x000001C2E13FAA48>), (-1, 13, <torch.utils.data.dataloader.DataLoader object at 0x000001C2E12DD148>), (-1, 14, <torch.utils.data.dataloader.DataLoader object at 0x000001C2E12DDAC8>), (-1, 15, <torch.utils.data.dataloader.DataLoader object at 0x000001C2E12DDFC8>), (-1, 16, <torch.utils.data.dataloader.DataLoader object at 0x000001C2E1614D88>), (-1, 17, <torch.utils.data.dataloader.DataLoader object at 0x000001C2E16147C8>), (-1, 18, <torch.utils.data.dataloader.DataLoader object at 0x000001C2E1614748>), (-1, 19, <torch.utils.data.dataloader.DataLoader object at 0x000001C2E1614708>)], [(-1, 0, <torch.utils.data.dataloader.DataLoader object at 0x000001C2E11C5948>), (-1, 1, <torch.utils.data.dataloader.DataLoader object at 0x000001C2E0898FC8>), (-1, 2, <torch.utils.data.dataloader.DataLoader object at 0x000001C2E0898A88>), (-1, 3, <torch.utils.data.dataloader.DataLoader object at 0x000001C2E0898DC8>), (-1, 4, <torch.utils.data.dataloader.DataLoader object at 0x000001C2E0898F48>), (-1, 5, <torch.utils.data.dataloader.DataLoader object at 0x000001C2E0898908>), (-1, 6, <torch.utils.data.dataloader.DataLoader object at 0x000001C2E0898248>), (-1, 7, <torch.utils.data.dataloader.DataLoader object at 0x000001C2E0898808>), (-1, 8, <torch.utils.data.dataloader.DataLoader object at 0x000001C2E0898A48>), (-1, 9, <torch.utils.data.dataloader.DataLoader object at 0x000001C2E0898E88>), (-1, 10, <torch.utils.data.dataloader.DataLoader object at 0x000001C2E0898108>), (-1, 11, <torch.utils.data.dataloader.DataLoader object at 0x000001C2E13FA948>), (-1, 12, <torch.utils.data.dataloader.DataLoader object at 0x000001C2E13FAA48>), (-1, 13, <torch.utils.data.dataloader.DataLoader object at 0x000001C2E12DD148>), (-1, 14, <torch.utils.data.dataloader.DataLoader object at 0x000001C2E12DDAC8>), (-1, 15, <torch.utils.data.dataloader.DataLoader object at 0x000001C2E12DDFC8>), (-1, 16, <torch.utils.data.dataloader.DataLoader object at 0x000001C2E1614D88>), (-1, 17, <torch.utils.data.dataloader.DataLoader object at 0x000001C2E16147C8>), (-1, 18, <torch.utils.data.dataloader.DataLoader object at 0x000001C2E1614748>), (-1, 19, <torch.utils.data.dataloader.DataLoader object at 0x000001C2E1614708>)], [(-1, 0, <torch.utils.data.dataloader.DataLoader object at 0x000001C2E11C5948>), (-1, 1, <torch.utils.data.dataloader.DataLoader object at 0x000001C2E0898FC8>), (-1, 2, <torch.utils.data.dataloader.DataLoader object at 0x000001C2E0898A88>), (-1, 3, <torch.utils.data.dataloader.DataLoader object at 0x000001C2E0898DC8>), (-1, 4, <torch.utils.data.dataloader.DataLoader object at 0x000001C2E0898F48>), (-1, 5, <torch.utils.data.dataloader.DataLoader object at 0x000001C2E0898908>), (-1, 6, <torch.utils.data.dataloader.DataLoader object at 0x000001C2E0898248>), (-1, 7, <torch.utils.data.dataloader.DataLoader object at 0x000001C2E0898808>), (-1, 8, <torch.utils.data.dataloader.DataLoader object at 0x000001C2E0898A48>), (-1, 9, <torch.utils.data.dataloader.DataLoader object at 0x000001C2E0898E88>), (-1, 10, <torch.utils.data.dataloader.DataLoader object at 0x000001C2E0898108>), (-1, 11, <torch.utils.data.dataloader.DataLoader object at 0x000001C2E13FA948>), (-1, 12, <torch.utils.data.dataloader.DataLoader object at 0x000001C2E13FAA48>), (-1, 13, <torch.utils.data.dataloader.DataLoader object at 0x000001C2E12DD148>), (-1, 14, <torch.utils.data.dataloader.DataLoader object at 0x000001C2E12DDAC8>), (-1, 15, <torch.utils.data.dataloader.DataLoader object at 0x000001C2E12DDFC8>), (-1, 16, <torch.utils.data.dataloader.DataLoader object at 0x000001C2E1614D88>), (-1, 17, <torch.utils.data.dataloader.DataLoader object at 0x000001C2E16147C8>), (-1, 18, <torch.utils.data.dataloader.DataLoader object at 0x000001C2E1614748>), (-1, 19, <torch.utils.data.dataloader.DataLoader object at 0x000001C2E1614708>)], [(-1, 0, <torch.utils.data.dataloader.DataLoader object at 0x000001C2E11C5948>), (-1, 1, <torch.utils.data.dataloader.DataLoader object at 0x000001C2E0898FC8>), (-1, 2, <torch.utils.data.dataloader.DataLoader object at 0x000001C2E0898A88>), (-1, 3, <torch.utils.data.dataloader.DataLoader object at 0x000001C2E0898DC8>), (-1, 4, <torch.utils.data.dataloader.DataLoader object at 0x000001C2E0898F48>), (-1, 5, <torch.utils.data.dataloader.DataLoader object at 0x000001C2E0898908>), (-1, 6, <torch.utils.data.dataloader.DataLoader object at 0x000001C2E0898248>), (-1, 7, <torch.utils.data.dataloader.DataLoader object at 0x000001C2E0898808>), (-1, 8, <torch.utils.data.dataloader.DataLoader object at 0x000001C2E0898A48>), (-1, 9, <torch.utils.data.dataloader.DataLoader object at 0x000001C2E0898E88>), (-1, 10, <torch.utils.data.dataloader.DataLoader object at 0x000001C2E0898108>), (-1, 11, <torch.utils.data.dataloader.DataLoader object at 0x000001C2E13FA948>), (-1, 12, <torch.utils.data.dataloader.DataLoader object at 0x000001C2E13FAA48>), (-1, 13, <torch.utils.data.dataloader.DataLoader object at 0x000001C2E12DD148>), (-1, 14, <torch.utils.data.dataloader.DataLoader object at 0x000001C2E12DDAC8>), (-1, 15, <torch.utils.data.dataloader.DataLoader object at 0x000001C2E12DDFC8>), (-1, 16, <torch.utils.data.dataloader.DataLoader object at 0x000001C2E1614D88>), (-1, 17, <torch.utils.data.dataloader.DataLoader object at 0x000001C2E16147C8>), (-1, 18, <torch.utils.data.dataloader.DataLoader object at 0x000001C2E1614748>), (-1, 19, <torch.utils.data.dataloader.DataLoader object at 0x000001C2E1614708>)], [(-1, 0, <torch.utils.data.dataloader.DataLoader object at 0x000001C2E11C5948>), (-1, 1, <torch.utils.data.dataloader.DataLoader object at 0x000001C2E0898FC8>), (-1, 2, <torch.utils.data.dataloader.DataLoader object at 0x000001C2E0898A88>), (-1, 3, <torch.utils.data.dataloader.DataLoader object at 0x000001C2E0898DC8>), (-1, 4, <torch.utils.data.dataloader.DataLoader object at 0x000001C2E0898F48>), (-1, 5, <torch.utils.data.dataloader.DataLoader object at 0x000001C2E0898908>), (-1, 6, <torch.utils.data.dataloader.DataLoader object at 0x000001C2E0898248>), (-1, 7, <torch.utils.data.dataloader.DataLoader object at 0x000001C2E0898808>), (-1, 8, <torch.utils.data.dataloader.DataLoader object at 0x000001C2E0898A48>), (-1, 9, <torch.utils.data.dataloader.DataLoader object at 0x000001C2E0898E88>), (-1, 10, <torch.utils.data.dataloader.DataLoader object at 0x000001C2E0898108>), (-1, 11, <torch.utils.data.dataloader.DataLoader object at 0x000001C2E13FA948>), (-1, 12, <torch.utils.data.dataloader.DataLoader object at 0x000001C2E13FAA48>), (-1, 13, <torch.utils.data.dataloader.DataLoader object at 0x000001C2E12DD148>), (-1, 14, <torch.utils.data.dataloader.DataLoader object at 0x000001C2E12DDAC8>), (-1, 15, <torch.utils.data.dataloader.DataLoader object at 0x000001C2E12DDFC8>), (-1, 16, <torch.utils.data.dataloader.DataLoader object at 0x000001C2E1614D88>), (-1, 17, <torch.utils.data.dataloader.DataLoader object at 0x000001C2E16147C8>), (-1, 18, <torch.utils.data.dataloader.DataLoader object at 0x000001C2E1614748>), (-1, 19, <torch.utils.data.dataloader.DataLoader object at 0x000001C2E1614708>)], [(-1, 0, <torch.utils.data.dataloader.DataLoader object at 0x000001C2E11C5948>), (-1, 1, <torch.utils.data.dataloader.DataLoader object at 0x000001C2E0898FC8>), (-1, 2, <torch.utils.data.dataloader.DataLoader object at 0x000001C2E0898A88>), (-1, 3, <torch.utils.data.dataloader.DataLoader object at 0x000001C2E0898DC8>), (-1, 4, <torch.utils.data.dataloader.DataLoader object at 0x000001C2E0898F48>), (-1, 5, <torch.utils.data.dataloader.DataLoader object at 0x000001C2E0898908>), (-1, 6, <torch.utils.data.dataloader.DataLoader object at 0x000001C2E0898248>), (-1, 7, <torch.utils.data.dataloader.DataLoader object at 0x000001C2E0898808>), (-1, 8, <torch.utils.data.dataloader.DataLoader object at 0x000001C2E0898A48>), (-1, 9, <torch.utils.data.dataloader.DataLoader object at 0x000001C2E0898E88>), (-1, 10, <torch.utils.data.dataloader.DataLoader object at 0x000001C2E0898108>), (-1, 11, <torch.utils.data.dataloader.DataLoader object at 0x000001C2E13FA948>), (-1, 12, <torch.utils.data.dataloader.DataLoader object at 0x000001C2E13FAA48>), (-1, 13, <torch.utils.data.dataloader.DataLoader object at 0x000001C2E12DD148>), (-1, 14, <torch.utils.data.dataloader.DataLoader object at 0x000001C2E12DDAC8>), (-1, 15, <torch.utils.data.dataloader.DataLoader object at 0x000001C2E12DDFC8>), (-1, 16, <torch.utils.data.dataloader.DataLoader object at 0x000001C2E1614D88>), (-1, 17, <torch.utils.data.dataloader.DataLoader object at 0x000001C2E16147C8>), (-1, 18, <torch.utils.data.dataloader.DataLoader object at 0x000001C2E1614748>), (-1, 19, <torch.utils.data.dataloader.DataLoader object at 0x000001C2E1614708>)], [(-1, 0, <torch.utils.data.dataloader.DataLoader object at 0x000001C2E11C5948>), (-1, 1, <torch.utils.data.dataloader.DataLoader object at 0x000001C2E0898FC8>), (-1, 2, <torch.utils.data.dataloader.DataLoader object at 0x000001C2E0898A88>), (-1, 3, <torch.utils.data.dataloader.DataLoader object at 0x000001C2E0898DC8>), (-1, 4, <torch.utils.data.dataloader.DataLoader object at 0x000001C2E0898F48>), (-1, 5, <torch.utils.data.dataloader.DataLoader object at 0x000001C2E0898908>), (-1, 6, <torch.utils.data.dataloader.DataLoader object at 0x000001C2E0898248>), (-1, 7, <torch.utils.data.dataloader.DataLoader object at 0x000001C2E0898808>), (-1, 8, <torch.utils.data.dataloader.DataLoader object at 0x000001C2E0898A48>), (-1, 9, <torch.utils.data.dataloader.DataLoader object at 0x000001C2E0898E88>), (-1, 10, <torch.utils.data.dataloader.DataLoader object at 0x000001C2E0898108>), (-1, 11, <torch.utils.data.dataloader.DataLoader object at 0x000001C2E13FA948>), (-1, 12, <torch.utils.data.dataloader.DataLoader object at 0x000001C2E13FAA48>), (-1, 13, <torch.utils.data.dataloader.DataLoader object at 0x000001C2E12DD148>), (-1, 14, <torch.utils.data.dataloader.DataLoader object at 0x000001C2E12DDAC8>), (-1, 15, <torch.utils.data.dataloader.DataLoader object at 0x000001C2E12DDFC8>), (-1, 16, <torch.utils.data.dataloader.DataLoader object at 0x000001C2E1614D88>), (-1, 17, <torch.utils.data.dataloader.DataLoader object at 0x000001C2E16147C8>), (-1, 18, <torch.utils.data.dataloader.DataLoader object at 0x000001C2E1614748>), (-1, 19, <torch.utils.data.dataloader.DataLoader object at 0x000001C2E1614708>)], [(-1, 0, <torch.utils.data.dataloader.DataLoader object at 0x000001C2E11C5948>), (-1, 1, <torch.utils.data.dataloader.DataLoader object at 0x000001C2E0898FC8>), (-1, 2, <torch.utils.data.dataloader.DataLoader object at 0x000001C2E0898A88>), (-1, 3, <torch.utils.data.dataloader.DataLoader object at 0x000001C2E0898DC8>), (-1, 4, <torch.utils.data.dataloader.DataLoader object at 0x000001C2E0898F48>), (-1, 5, <torch.utils.data.dataloader.DataLoader object at 0x000001C2E0898908>), (-1, 6, <torch.utils.data.dataloader.DataLoader object at 0x000001C2E0898248>), (-1, 7, <torch.utils.data.dataloader.DataLoader object at 0x000001C2E0898808>), (-1, 8, <torch.utils.data.dataloader.DataLoader object at 0x000001C2E0898A48>), (-1, 9, <torch.utils.data.dataloader.DataLoader object at 0x000001C2E0898E88>), (-1, 10, <torch.utils.data.dataloader.DataLoader object at 0x000001C2E0898108>), (-1, 11, <torch.utils.data.dataloader.DataLoader object at 0x000001C2E13FA948>), (-1, 12, <torch.utils.data.dataloader.DataLoader object at 0x000001C2E13FAA48>), (-1, 13, <torch.utils.data.dataloader.DataLoader object at 0x000001C2E12DD148>), (-1, 14, <torch.utils.data.dataloader.DataLoader object at 0x000001C2E12DDAC8>), (-1, 15, <torch.utils.data.dataloader.DataLoader object at 0x000001C2E12DDFC8>), (-1, 16, <torch.utils.data.dataloader.DataLoader object at 0x000001C2E1614D88>), (-1, 17, <torch.utils.data.dataloader.DataLoader object at 0x000001C2E16147C8>), (-1, 18, <torch.utils.data.dataloader.DataLoader object at 0x000001C2E1614748>), (-1, 19, <torch.utils.data.dataloader.DataLoader object at 0x000001C2E1614708>)], [(-1, 0, <torch.utils.data.dataloader.DataLoader object at 0x000001C2E11C5948>), (-1, 1, <torch.utils.data.dataloader.DataLoader object at 0x000001C2E0898FC8>), (-1, 2, <torch.utils.data.dataloader.DataLoader object at 0x000001C2E0898A88>), (-1, 3, <torch.utils.data.dataloader.DataLoader object at 0x000001C2E0898DC8>), (-1, 4, <torch.utils.data.dataloader.DataLoader object at 0x000001C2E0898F48>), (-1, 5, <torch.utils.data.dataloader.DataLoader object at 0x000001C2E0898908>), (-1, 6, <torch.utils.data.dataloader.DataLoader object at 0x000001C2E0898248>), (-1, 7, <torch.utils.data.dataloader.DataLoader object at 0x000001C2E0898808>), (-1, 8, <torch.utils.data.dataloader.DataLoader object at 0x000001C2E0898A48>), (-1, 9, <torch.utils.data.dataloader.DataLoader object at 0x000001C2E0898E88>), (-1, 10, <torch.utils.data.dataloader.DataLoader object at 0x000001C2E0898108>), (-1, 11, <torch.utils.data.dataloader.DataLoader object at 0x000001C2E13FA948>), (-1, 12, <torch.utils.data.dataloader.DataLoader object at 0x000001C2E13FAA48>), (-1, 13, <torch.utils.data.dataloader.DataLoader object at 0x000001C2E12DD148>), (-1, 14, <torch.utils.data.dataloader.DataLoader object at 0x000001C2E12DDAC8>), (-1, 15, <torch.utils.data.dataloader.DataLoader object at 0x000001C2E12DDFC8>), (-1, 16, <torch.utils.data.dataloader.DataLoader object at 0x000001C2E1614D88>), (-1, 17, <torch.utils.data.dataloader.DataLoader object at 0x000001C2E16147C8>), (-1, 18, <torch.utils.data.dataloader.DataLoader object at 0x000001C2E1614748>), (-1, 19, <torch.utils.data.dataloader.DataLoader object at 0x000001C2E1614708>)], [(-1, 0, <torch.utils.data.dataloader.DataLoader object at 0x000001C2E11C5948>), (-1, 1, <torch.utils.data.dataloader.DataLoader object at 0x000001C2E0898FC8>), (-1, 2, <torch.utils.data.dataloader.DataLoader object at 0x000001C2E0898A88>), (-1, 3, <torch.utils.data.dataloader.DataLoader object at 0x000001C2E0898DC8>), (-1, 4, <torch.utils.data.dataloader.DataLoader object at 0x000001C2E0898F48>), (-1, 5, <torch.utils.data.dataloader.DataLoader object at 0x000001C2E0898908>), (-1, 6, <torch.utils.data.dataloader.DataLoader object at 0x000001C2E0898248>), (-1, 7, <torch.utils.data.dataloader.DataLoader object at 0x000001C2E0898808>), (-1, 8, <torch.utils.data.dataloader.DataLoader object at 0x000001C2E0898A48>), (-1, 9, <torch.utils.data.dataloader.DataLoader object at 0x000001C2E0898E88>), (-1, 10, <torch.utils.data.dataloader.DataLoader object at 0x000001C2E0898108>), (-1, 11, <torch.utils.data.dataloader.DataLoader object at 0x000001C2E13FA948>), (-1, 12, <torch.utils.data.dataloader.DataLoader object at 0x000001C2E13FAA48>), (-1, 13, <torch.utils.data.dataloader.DataLoader object at 0x000001C2E12DD148>), (-1, 14, <torch.utils.data.dataloader.DataLoader object at 0x000001C2E12DDAC8>), (-1, 15, <torch.utils.data.dataloader.DataLoader object at 0x000001C2E12DDFC8>), (-1, 16, <torch.utils.data.dataloader.DataLoader object at 0x000001C2E1614D88>), (-1, 17, <torch.utils.data.dataloader.DataLoader object at 0x000001C2E16147C8>), (-1, 18, <torch.utils.data.dataloader.DataLoader object at 0x000001C2E1614748>), (-1, 19, <torch.utils.data.dataloader.DataLoader object at 0x000001C2E1614708>)], [(-1, 0, <torch.utils.data.dataloader.DataLoader object at 0x000001C2E11C5948>), (-1, 1, <torch.utils.data.dataloader.DataLoader object at 0x000001C2E0898FC8>), (-1, 2, <torch.utils.data.dataloader.DataLoader object at 0x000001C2E0898A88>), (-1, 3, <torch.utils.data.dataloader.DataLoader object at 0x000001C2E0898DC8>), (-1, 4, <torch.utils.data.dataloader.DataLoader object at 0x000001C2E0898F48>), (-1, 5, <torch.utils.data.dataloader.DataLoader object at 0x000001C2E0898908>), (-1, 6, <torch.utils.data.dataloader.DataLoader object at 0x000001C2E0898248>), (-1, 7, <torch.utils.data.dataloader.DataLoader object at 0x000001C2E0898808>), (-1, 8, <torch.utils.data.dataloader.DataLoader object at 0x000001C2E0898A48>), (-1, 9, <torch.utils.data.dataloader.DataLoader object at 0x000001C2E0898E88>), (-1, 10, <torch.utils.data.dataloader.DataLoader object at 0x000001C2E0898108>), (-1, 11, <torch.utils.data.dataloader.DataLoader object at 0x000001C2E13FA948>), (-1, 12, <torch.utils.data.dataloader.DataLoader object at 0x000001C2E13FAA48>), (-1, 13, <torch.utils.data.dataloader.DataLoader object at 0x000001C2E12DD148>), (-1, 14, <torch.utils.data.dataloader.DataLoader object at 0x000001C2E12DDAC8>), (-1, 15, <torch.utils.data.dataloader.DataLoader object at 0x000001C2E12DDFC8>), (-1, 16, <torch.utils.data.dataloader.DataLoader object at 0x000001C2E1614D88>), (-1, 17, <torch.utils.data.dataloader.DataLoader object at 0x000001C2E16147C8>), (-1, 18, <torch.utils.data.dataloader.DataLoader object at 0x000001C2E1614748>), (-1, 19, <torch.utils.data.dataloader.DataLoader object at 0x000001C2E1614708>)], [(-1, 0, <torch.utils.data.dataloader.DataLoader object at 0x000001C2E11C5948>), (-1, 1, <torch.utils.data.dataloader.DataLoader object at 0x000001C2E0898FC8>), (-1, 2, <torch.utils.data.dataloader.DataLoader object at 0x000001C2E0898A88>), (-1, 3, <torch.utils.data.dataloader.DataLoader object at 0x000001C2E0898DC8>), (-1, 4, <torch.utils.data.dataloader.DataLoader object at 0x000001C2E0898F48>), (-1, 5, <torch.utils.data.dataloader.DataLoader object at 0x000001C2E0898908>), (-1, 6, <torch.utils.data.dataloader.DataLoader object at 0x000001C2E0898248>), (-1, 7, <torch.utils.data.dataloader.DataLoader object at 0x000001C2E0898808>), (-1, 8, <torch.utils.data.dataloader.DataLoader object at 0x000001C2E0898A48>), (-1, 9, <torch.utils.data.dataloader.DataLoader object at 0x000001C2E0898E88>), (-1, 10, <torch.utils.data.dataloader.DataLoader object at 0x000001C2E0898108>), (-1, 11, <torch.utils.data.dataloader.DataLoader object at 0x000001C2E13FA948>), (-1, 12, <torch.utils.data.dataloader.DataLoader object at 0x000001C2E13FAA48>), (-1, 13, <torch.utils.data.dataloader.DataLoader object at 0x000001C2E12DD148>), (-1, 14, <torch.utils.data.dataloader.DataLoader object at 0x000001C2E12DDAC8>), (-1, 15, <torch.utils.data.dataloader.DataLoader object at 0x000001C2E12DDFC8>), (-1, 16, <torch.utils.data.dataloader.DataLoader object at 0x000001C2E1614D88>), (-1, 17, <torch.utils.data.dataloader.DataLoader object at 0x000001C2E16147C8>), (-1, 18, <torch.utils.data.dataloader.DataLoader object at 0x000001C2E1614748>), (-1, 19, <torch.utils.data.dataloader.DataLoader object at 0x000001C2E1614708>)], [(-1, 0, <torch.utils.data.dataloader.DataLoader object at 0x000001C2E11C5948>), (-1, 1, <torch.utils.data.dataloader.DataLoader object at 0x000001C2E0898FC8>), (-1, 2, <torch.utils.data.dataloader.DataLoader object at 0x000001C2E0898A88>), (-1, 3, <torch.utils.data.dataloader.DataLoader object at 0x000001C2E0898DC8>), (-1, 4, <torch.utils.data.dataloader.DataLoader object at 0x000001C2E0898F48>), (-1, 5, <torch.utils.data.dataloader.DataLoader object at 0x000001C2E0898908>), (-1, 6, <torch.utils.data.dataloader.DataLoader object at 0x000001C2E0898248>), (-1, 7, <torch.utils.data.dataloader.DataLoader object at 0x000001C2E0898808>), (-1, 8, <torch.utils.data.dataloader.DataLoader object at 0x000001C2E0898A48>), (-1, 9, <torch.utils.data.dataloader.DataLoader object at 0x000001C2E0898E88>), (-1, 10, <torch.utils.data.dataloader.DataLoader object at 0x000001C2E0898108>), (-1, 11, <torch.utils.data.dataloader.DataLoader object at 0x000001C2E13FA948>), (-1, 12, <torch.utils.data.dataloader.DataLoader object at 0x000001C2E13FAA48>), (-1, 13, <torch.utils.data.dataloader.DataLoader object at 0x000001C2E12DD148>), (-1, 14, <torch.utils.data.dataloader.DataLoader object at 0x000001C2E12DDAC8>), (-1, 15, <torch.utils.data.dataloader.DataLoader object at 0x000001C2E12DDFC8>), (-1, 16, <torch.utils.data.dataloader.DataLoader object at 0x000001C2E1614D88>), (-1, 17, <torch.utils.data.dataloader.DataLoader object at 0x000001C2E16147C8>), (-1, 18, <torch.utils.data.dataloader.DataLoader object at 0x000001C2E1614748>), (-1, 19, <torch.utils.data.dataloader.DataLoader object at 0x000001C2E1614708>)], [(-1, 0, <torch.utils.data.dataloader.DataLoader object at 0x000001C2E11C5948>), (-1, 1, <torch.utils.data.dataloader.DataLoader object at 0x000001C2E0898FC8>), (-1, 2, <torch.utils.data.dataloader.DataLoader object at 0x000001C2E0898A88>), (-1, 3, <torch.utils.data.dataloader.DataLoader object at 0x000001C2E0898DC8>), (-1, 4, <torch.utils.data.dataloader.DataLoader object at 0x000001C2E0898F48>), (-1, 5, <torch.utils.data.dataloader.DataLoader object at 0x000001C2E0898908>), (-1, 6, <torch.utils.data.dataloader.DataLoader object at 0x000001C2E0898248>), (-1, 7, <torch.utils.data.dataloader.DataLoader object at 0x000001C2E0898808>), (-1, 8, <torch.utils.data.dataloader.DataLoader object at 0x000001C2E0898A48>), (-1, 9, <torch.utils.data.dataloader.DataLoader object at 0x000001C2E0898E88>), (-1, 10, <torch.utils.data.dataloader.DataLoader object at 0x000001C2E0898108>), (-1, 11, <torch.utils.data.dataloader.DataLoader object at 0x000001C2E13FA948>), (-1, 12, <torch.utils.data.dataloader.DataLoader object at 0x000001C2E13FAA48>), (-1, 13, <torch.utils.data.dataloader.DataLoader object at 0x000001C2E12DD148>), (-1, 14, <torch.utils.data.dataloader.DataLoader object at 0x000001C2E12DDAC8>), (-1, 15, <torch.utils.data.dataloader.DataLoader object at 0x000001C2E12DDFC8>), (-1, 16, <torch.utils.data.dataloader.DataLoader object at 0x000001C2E1614D88>), (-1, 17, <torch.utils.data.dataloader.DataLoader object at 0x000001C2E16147C8>), (-1, 18, <torch.utils.data.dataloader.DataLoader object at 0x000001C2E1614748>), (-1, 19, <torch.utils.data.dataloader.DataLoader object at 0x000001C2E1614708>)], [(-1, 0, <torch.utils.data.dataloader.DataLoader object at 0x000001C2E11C5948>), (-1, 1, <torch.utils.data.dataloader.DataLoader object at 0x000001C2E0898FC8>), (-1, 2, <torch.utils.data.dataloader.DataLoader object at 0x000001C2E0898A88>), (-1, 3, <torch.utils.data.dataloader.DataLoader object at 0x000001C2E0898DC8>), (-1, 4, <torch.utils.data.dataloader.DataLoader object at 0x000001C2E0898F48>), (-1, 5, <torch.utils.data.dataloader.DataLoader object at 0x000001C2E0898908>), (-1, 6, <torch.utils.data.dataloader.DataLoader object at 0x000001C2E0898248>), (-1, 7, <torch.utils.data.dataloader.DataLoader object at 0x000001C2E0898808>), (-1, 8, <torch.utils.data.dataloader.DataLoader object at 0x000001C2E0898A48>), (-1, 9, <torch.utils.data.dataloader.DataLoader object at 0x000001C2E0898E88>), (-1, 10, <torch.utils.data.dataloader.DataLoader object at 0x000001C2E0898108>), (-1, 11, <torch.utils.data.dataloader.DataLoader object at 0x000001C2E13FA948>), (-1, 12, <torch.utils.data.dataloader.DataLoader object at 0x000001C2E13FAA48>), (-1, 13, <torch.utils.data.dataloader.DataLoader object at 0x000001C2E12DD148>), (-1, 14, <torch.utils.data.dataloader.DataLoader object at 0x000001C2E12DDAC8>), (-1, 15, <torch.utils.data.dataloader.DataLoader object at 0x000001C2E12DDFC8>), (-1, 16, <torch.utils.data.dataloader.DataLoader object at 0x000001C2E1614D88>), (-1, 17, <torch.utils.data.dataloader.DataLoader object at 0x000001C2E16147C8>), (-1, 18, <torch.utils.data.dataloader.DataLoader object at 0x000001C2E1614748>), (-1, 19, <torch.utils.data.dataloader.DataLoader object at 0x000001C2E1614708>)], [(-1, 0, <torch.utils.data.dataloader.DataLoader object at 0x000001C2E11C5948>), (-1, 1, <torch.utils.data.dataloader.DataLoader object at 0x000001C2E0898FC8>), (-1, 2, <torch.utils.data.dataloader.DataLoader object at 0x000001C2E0898A88>), (-1, 3, <torch.utils.data.dataloader.DataLoader object at 0x000001C2E0898DC8>), (-1, 4, <torch.utils.data.dataloader.DataLoader object at 0x000001C2E0898F48>), (-1, 5, <torch.utils.data.dataloader.DataLoader object at 0x000001C2E0898908>), (-1, 6, <torch.utils.data.dataloader.DataLoader object at 0x000001C2E0898248>), (-1, 7, <torch.utils.data.dataloader.DataLoader object at 0x000001C2E0898808>), (-1, 8, <torch.utils.data.dataloader.DataLoader object at 0x000001C2E0898A48>), (-1, 9, <torch.utils.data.dataloader.DataLoader object at 0x000001C2E0898E88>), (-1, 10, <torch.utils.data.dataloader.DataLoader object at 0x000001C2E0898108>), (-1, 11, <torch.utils.data.dataloader.DataLoader object at 0x000001C2E13FA948>), (-1, 12, <torch.utils.data.dataloader.DataLoader object at 0x000001C2E13FAA48>), (-1, 13, <torch.utils.data.dataloader.DataLoader object at 0x000001C2E12DD148>), (-1, 14, <torch.utils.data.dataloader.DataLoader object at 0x000001C2E12DDAC8>), (-1, 15, <torch.utils.data.dataloader.DataLoader object at 0x000001C2E12DDFC8>), (-1, 16, <torch.utils.data.dataloader.DataLoader object at 0x000001C2E1614D88>), (-1, 17, <torch.utils.data.dataloader.DataLoader object at 0x000001C2E16147C8>), (-1, 18, <torch.utils.data.dataloader.DataLoader object at 0x000001C2E1614748>), (-1, 19, <torch.utils.data.dataloader.DataLoader object at 0x000001C2E1614708>)], [(-1, 0, <torch.utils.data.dataloader.DataLoader object at 0x000001C2E11C5948>), (-1, 1, <torch.utils.data.dataloader.DataLoader object at 0x000001C2E0898FC8>), (-1, 2, <torch.utils.data.dataloader.DataLoader object at 0x000001C2E0898A88>), (-1, 3, <torch.utils.data.dataloader.DataLoader object at 0x000001C2E0898DC8>), (-1, 4, <torch.utils.data.dataloader.DataLoader object at 0x000001C2E0898F48>), (-1, 5, <torch.utils.data.dataloader.DataLoader object at 0x000001C2E0898908>), (-1, 6, <torch.utils.data.dataloader.DataLoader object at 0x000001C2E0898248>), (-1, 7, <torch.utils.data.dataloader.DataLoader object at 0x000001C2E0898808>), (-1, 8, <torch.utils.data.dataloader.DataLoader object at 0x000001C2E0898A48>), (-1, 9, <torch.utils.data.dataloader.DataLoader object at 0x000001C2E0898E88>), (-1, 10, <torch.utils.data.dataloader.DataLoader object at 0x000001C2E0898108>), (-1, 11, <torch.utils.data.dataloader.DataLoader object at 0x000001C2E13FA948>), (-1, 12, <torch.utils.data.dataloader.DataLoader object at 0x000001C2E13FAA48>), (-1, 13, <torch.utils.data.dataloader.DataLoader object at 0x000001C2E12DD148>), (-1, 14, <torch.utils.data.dataloader.DataLoader object at 0x000001C2E12DDAC8>), (-1, 15, <torch.utils.data.dataloader.DataLoader object at 0x000001C2E12DDFC8>), (-1, 16, <torch.utils.data.dataloader.DataLoader object at 0x000001C2E1614D88>), (-1, 17, <torch.utils.data.dataloader.DataLoader object at 0x000001C2E16147C8>), (-1, 18, <torch.utils.data.dataloader.DataLoader object at 0x000001C2E1614748>), (-1, 19, <torch.utils.data.dataloader.DataLoader object at 0x000001C2E1614708>)], [(-1, 0, <torch.utils.data.dataloader.DataLoader object at 0x000001C2E11C5948>), (-1, 1, <torch.utils.data.dataloader.DataLoader object at 0x000001C2E0898FC8>), (-1, 2, <torch.utils.data.dataloader.DataLoader object at 0x000001C2E0898A88>), (-1, 3, <torch.utils.data.dataloader.DataLoader object at 0x000001C2E0898DC8>), (-1, 4, <torch.utils.data.dataloader.DataLoader object at 0x000001C2E0898F48>), (-1, 5, <torch.utils.data.dataloader.DataLoader object at 0x000001C2E0898908>), (-1, 6, <torch.utils.data.dataloader.DataLoader object at 0x000001C2E0898248>), (-1, 7, <torch.utils.data.dataloader.DataLoader object at 0x000001C2E0898808>), (-1, 8, <torch.utils.data.dataloader.DataLoader object at 0x000001C2E0898A48>), (-1, 9, <torch.utils.data.dataloader.DataLoader object at 0x000001C2E0898E88>), (-1, 10, <torch.utils.data.dataloader.DataLoader object at 0x000001C2E0898108>), (-1, 11, <torch.utils.data.dataloader.DataLoader object at 0x000001C2E13FA948>), (-1, 12, <torch.utils.data.dataloader.DataLoader object at 0x000001C2E13FAA48>), (-1, 13, <torch.utils.data.dataloader.DataLoader object at 0x000001C2E12DD148>), (-1, 14, <torch.utils.data.dataloader.DataLoader object at 0x000001C2E12DDAC8>), (-1, 15, <torch.utils.data.dataloader.DataLoader object at 0x000001C2E12DDFC8>), (-1, 16, <torch.utils.data.dataloader.DataLoader object at 0x000001C2E1614D88>), (-1, 17, <torch.utils.data.dataloader.DataLoader object at 0x000001C2E16147C8>), (-1, 18, <torch.utils.data.dataloader.DataLoader object at 0x000001C2E1614748>), (-1, 19, <torch.utils.data.dataloader.DataLoader object at 0x000001C2E1614708>)], [(-1, 0, <torch.utils.data.dataloader.DataLoader object at 0x000001C2E11C5948>), (-1, 1, <torch.utils.data.dataloader.DataLoader object at 0x000001C2E0898FC8>), (-1, 2, <torch.utils.data.dataloader.DataLoader object at 0x000001C2E0898A88>), (-1, 3, <torch.utils.data.dataloader.DataLoader object at 0x000001C2E0898DC8>), (-1, 4, <torch.utils.data.dataloader.DataLoader object at 0x000001C2E0898F48>), (-1, 5, <torch.utils.data.dataloader.DataLoader object at 0x000001C2E0898908>), (-1, 6, <torch.utils.data.dataloader.DataLoader object at 0x000001C2E0898248>), (-1, 7, <torch.utils.data.dataloader.DataLoader object at 0x000001C2E0898808>), (-1, 8, <torch.utils.data.dataloader.DataLoader object at 0x000001C2E0898A48>), (-1, 9, <torch.utils.data.dataloader.DataLoader object at 0x000001C2E0898E88>), (-1, 10, <torch.utils.data.dataloader.DataLoader object at 0x000001C2E0898108>), (-1, 11, <torch.utils.data.dataloader.DataLoader object at 0x000001C2E13FA948>), (-1, 12, <torch.utils.data.dataloader.DataLoader object at 0x000001C2E13FAA48>), (-1, 13, <torch.utils.data.dataloader.DataLoader object at 0x000001C2E12DD148>), (-1, 14, <torch.utils.data.dataloader.DataLoader object at 0x000001C2E12DDAC8>), (-1, 15, <torch.utils.data.dataloader.DataLoader object at 0x000001C2E12DDFC8>), (-1, 16, <torch.utils.data.dataloader.DataLoader object at 0x000001C2E1614D88>), (-1, 17, <torch.utils.data.dataloader.DataLoader object at 0x000001C2E16147C8>), (-1, 18, <torch.utils.data.dataloader.DataLoader object at 0x000001C2E1614748>), (-1, 19, <torch.utils.data.dataloader.DataLoader object at 0x000001C2E1614708>)], [(-1, 0, <torch.utils.data.dataloader.DataLoader object at 0x000001C2E11C5948>), (-1, 1, <torch.utils.data.dataloader.DataLoader object at 0x000001C2E0898FC8>), (-1, 2, <torch.utils.data.dataloader.DataLoader object at 0x000001C2E0898A88>), (-1, 3, <torch.utils.data.dataloader.DataLoader object at 0x000001C2E0898DC8>), (-1, 4, <torch.utils.data.dataloader.DataLoader object at 0x000001C2E0898F48>), (-1, 5, <torch.utils.data.dataloader.DataLoader object at 0x000001C2E0898908>), (-1, 6, <torch.utils.data.dataloader.DataLoader object at 0x000001C2E0898248>), (-1, 7, <torch.utils.data.dataloader.DataLoader object at 0x000001C2E0898808>), (-1, 8, <torch.utils.data.dataloader.DataLoader object at 0x000001C2E0898A48>), (-1, 9, <torch.utils.data.dataloader.DataLoader object at 0x000001C2E0898E88>), (-1, 10, <torch.utils.data.dataloader.DataLoader object at 0x000001C2E0898108>), (-1, 11, <torch.utils.data.dataloader.DataLoader object at 0x000001C2E13FA948>), (-1, 12, <torch.utils.data.dataloader.DataLoader object at 0x000001C2E13FAA48>), (-1, 13, <torch.utils.data.dataloader.DataLoader object at 0x000001C2E12DD148>), (-1, 14, <torch.utils.data.dataloader.DataLoader object at 0x000001C2E12DDAC8>), (-1, 15, <torch.utils.data.dataloader.DataLoader object at 0x000001C2E12DDFC8>), (-1, 16, <torch.utils.data.dataloader.DataLoader object at 0x000001C2E1614D88>), (-1, 17, <torch.utils.data.dataloader.DataLoader object at 0x000001C2E16147C8>), (-1, 18, <torch.utils.data.dataloader.DataLoader object at 0x000001C2E1614748>), (-1, 19, <torch.utils.data.dataloader.DataLoader object at 0x000001C2E1614708>)], [(-1, 0, <torch.utils.data.dataloader.DataLoader object at 0x000001C2E11C5948>), (-1, 1, <torch.utils.data.dataloader.DataLoader object at 0x000001C2E0898FC8>), (-1, 2, <torch.utils.data.dataloader.DataLoader object at 0x000001C2E0898A88>), (-1, 3, <torch.utils.data.dataloader.DataLoader object at 0x000001C2E0898DC8>), (-1, 4, <torch.utils.data.dataloader.DataLoader object at 0x000001C2E0898F48>), (-1, 5, <torch.utils.data.dataloader.DataLoader object at 0x000001C2E0898908>), (-1, 6, <torch.utils.data.dataloader.DataLoader object at 0x000001C2E0898248>), (-1, 7, <torch.utils.data.dataloader.DataLoader object at 0x000001C2E0898808>), (-1, 8, <torch.utils.data.dataloader.DataLoader object at 0x000001C2E0898A48>), (-1, 9, <torch.utils.data.dataloader.DataLoader object at 0x000001C2E0898E88>), (-1, 10, <torch.utils.data.dataloader.DataLoader object at 0x000001C2E0898108>), (-1, 11, <torch.utils.data.dataloader.DataLoader object at 0x000001C2E13FA948>), (-1, 12, <torch.utils.data.dataloader.DataLoader object at 0x000001C2E13FAA48>), (-1, 13, <torch.utils.data.dataloader.DataLoader object at 0x000001C2E12DD148>), (-1, 14, <torch.utils.data.dataloader.DataLoader object at 0x000001C2E12DDAC8>), (-1, 15, <torch.utils.data.dataloader.DataLoader object at 0x000001C2E12DDFC8>), (-1, 16, <torch.utils.data.dataloader.DataLoader object at 0x000001C2E1614D88>), (-1, 17, <torch.utils.data.dataloader.DataLoader object at 0x000001C2E16147C8>), (-1, 18, <torch.utils.data.dataloader.DataLoader object at 0x000001C2E1614748>), (-1, 19, <torch.utils.data.dataloader.DataLoader object at 0x000001C2E1614708>)], [(-1, 0, <torch.utils.data.dataloader.DataLoader object at 0x000001C2E11C5948>), (-1, 1, <torch.utils.data.dataloader.DataLoader object at 0x000001C2E0898FC8>), (-1, 2, <torch.utils.data.dataloader.DataLoader object at 0x000001C2E0898A88>), (-1, 3, <torch.utils.data.dataloader.DataLoader object at 0x000001C2E0898DC8>), (-1, 4, <torch.utils.data.dataloader.DataLoader object at 0x000001C2E0898F48>), (-1, 5, <torch.utils.data.dataloader.DataLoader object at 0x000001C2E0898908>), (-1, 6, <torch.utils.data.dataloader.DataLoader object at 0x000001C2E0898248>), (-1, 7, <torch.utils.data.dataloader.DataLoader object at 0x000001C2E0898808>), (-1, 8, <torch.utils.data.dataloader.DataLoader object at 0x000001C2E0898A48>), (-1, 9, <torch.utils.data.dataloader.DataLoader object at 0x000001C2E0898E88>), (-1, 10, <torch.utils.data.dataloader.DataLoader object at 0x000001C2E0898108>), (-1, 11, <torch.utils.data.dataloader.DataLoader object at 0x000001C2E13FA948>), (-1, 12, <torch.utils.data.dataloader.DataLoader object at 0x000001C2E13FAA48>), (-1, 13, <torch.utils.data.dataloader.DataLoader object at 0x000001C2E12DD148>), (-1, 14, <torch.utils.data.dataloader.DataLoader object at 0x000001C2E12DDAC8>), (-1, 15, <torch.utils.data.dataloader.DataLoader object at 0x000001C2E12DDFC8>), (-1, 16, <torch.utils.data.dataloader.DataLoader object at 0x000001C2E1614D88>), (-1, 17, <torch.utils.data.dataloader.DataLoader object at 0x000001C2E16147C8>), (-1, 18, <torch.utils.data.dataloader.DataLoader object at 0x000001C2E1614748>), (-1, 19, <torch.utils.data.dataloader.DataLoader object at 0x000001C2E1614708>)], [(-1, 0, <torch.utils.data.dataloader.DataLoader object at 0x000001C2E11C5948>), (-1, 1, <torch.utils.data.dataloader.DataLoader object at 0x000001C2E0898FC8>), (-1, 2, <torch.utils.data.dataloader.DataLoader object at 0x000001C2E0898A88>), (-1, 3, <torch.utils.data.dataloader.DataLoader object at 0x000001C2E0898DC8>), (-1, 4, <torch.utils.data.dataloader.DataLoader object at 0x000001C2E0898F48>), (-1, 5, <torch.utils.data.dataloader.DataLoader object at 0x000001C2E0898908>), (-1, 6, <torch.utils.data.dataloader.DataLoader object at 0x000001C2E0898248>), (-1, 7, <torch.utils.data.dataloader.DataLoader object at 0x000001C2E0898808>), (-1, 8, <torch.utils.data.dataloader.DataLoader object at 0x000001C2E0898A48>), (-1, 9, <torch.utils.data.dataloader.DataLoader object at 0x000001C2E0898E88>), (-1, 10, <torch.utils.data.dataloader.DataLoader object at 0x000001C2E0898108>), (-1, 11, <torch.utils.data.dataloader.DataLoader object at 0x000001C2E13FA948>), (-1, 12, <torch.utils.data.dataloader.DataLoader object at 0x000001C2E13FAA48>), (-1, 13, <torch.utils.data.dataloader.DataLoader object at 0x000001C2E12DD148>), (-1, 14, <torch.utils.data.dataloader.DataLoader object at 0x000001C2E12DDAC8>), (-1, 15, <torch.utils.data.dataloader.DataLoader object at 0x000001C2E12DDFC8>), (-1, 16, <torch.utils.data.dataloader.DataLoader object at 0x000001C2E1614D88>), (-1, 17, <torch.utils.data.dataloader.DataLoader object at 0x000001C2E16147C8>), (-1, 18, <torch.utils.data.dataloader.DataLoader object at 0x000001C2E1614748>), (-1, 19, <torch.utils.data.dataloader.DataLoader object at 0x000001C2E1614708>)], [(-1, 0, <torch.utils.data.dataloader.DataLoader object at 0x000001C2E11C5948>), (-1, 1, <torch.utils.data.dataloader.DataLoader object at 0x000001C2E0898FC8>), (-1, 2, <torch.utils.data.dataloader.DataLoader object at 0x000001C2E0898A88>), (-1, 3, <torch.utils.data.dataloader.DataLoader object at 0x000001C2E0898DC8>), (-1, 4, <torch.utils.data.dataloader.DataLoader object at 0x000001C2E0898F48>), (-1, 5, <torch.utils.data.dataloader.DataLoader object at 0x000001C2E0898908>), (-1, 6, <torch.utils.data.dataloader.DataLoader object at 0x000001C2E0898248>), (-1, 7, <torch.utils.data.dataloader.DataLoader object at 0x000001C2E0898808>), (-1, 8, <torch.utils.data.dataloader.DataLoader object at 0x000001C2E0898A48>), (-1, 9, <torch.utils.data.dataloader.DataLoader object at 0x000001C2E0898E88>), (-1, 10, <torch.utils.data.dataloader.DataLoader object at 0x000001C2E0898108>), (-1, 11, <torch.utils.data.dataloader.DataLoader object at 0x000001C2E13FA948>), (-1, 12, <torch.utils.data.dataloader.DataLoader object at 0x000001C2E13FAA48>), (-1, 13, <torch.utils.data.dataloader.DataLoader object at 0x000001C2E12DD148>), (-1, 14, <torch.utils.data.dataloader.DataLoader object at 0x000001C2E12DDAC8>), (-1, 15, <torch.utils.data.dataloader.DataLoader object at 0x000001C2E12DDFC8>), (-1, 16, <torch.utils.data.dataloader.DataLoader object at 0x000001C2E1614D88>), (-1, 17, <torch.utils.data.dataloader.DataLoader object at 0x000001C2E16147C8>), (-1, 18, <torch.utils.data.dataloader.DataLoader object at 0x000001C2E1614748>), (-1, 19, <torch.utils.data.dataloader.DataLoader object at 0x000001C2E1614708>)], [(-1, 0, <torch.utils.data.dataloader.DataLoader object at 0x000001C2E11C5948>), (-1, 1, <torch.utils.data.dataloader.DataLoader object at 0x000001C2E0898FC8>), (-1, 2, <torch.utils.data.dataloader.DataLoader object at 0x000001C2E0898A88>), (-1, 3, <torch.utils.data.dataloader.DataLoader object at 0x000001C2E0898DC8>), (-1, 4, <torch.utils.data.dataloader.DataLoader object at 0x000001C2E0898F48>), (-1, 5, <torch.utils.data.dataloader.DataLoader object at 0x000001C2E0898908>), (-1, 6, <torch.utils.data.dataloader.DataLoader object at 0x000001C2E0898248>), (-1, 7, <torch.utils.data.dataloader.DataLoader object at 0x000001C2E0898808>), (-1, 8, <torch.utils.data.dataloader.DataLoader object at 0x000001C2E0898A48>), (-1, 9, <torch.utils.data.dataloader.DataLoader object at 0x000001C2E0898E88>), (-1, 10, <torch.utils.data.dataloader.DataLoader object at 0x000001C2E0898108>), (-1, 11, <torch.utils.data.dataloader.DataLoader object at 0x000001C2E13FA948>), (-1, 12, <torch.utils.data.dataloader.DataLoader object at 0x000001C2E13FAA48>), (-1, 13, <torch.utils.data.dataloader.DataLoader object at 0x000001C2E12DD148>), (-1, 14, <torch.utils.data.dataloader.DataLoader object at 0x000001C2E12DDAC8>), (-1, 15, <torch.utils.data.dataloader.DataLoader object at 0x000001C2E12DDFC8>), (-1, 16, <torch.utils.data.dataloader.DataLoader object at 0x000001C2E1614D88>), (-1, 17, <torch.utils.data.dataloader.DataLoader object at 0x000001C2E16147C8>), (-1, 18, <torch.utils.data.dataloader.DataLoader object at 0x000001C2E1614748>), (-1, 19, <torch.utils.data.dataloader.DataLoader object at 0x000001C2E1614708>)], [(-1, 0, <torch.utils.data.dataloader.DataLoader object at 0x000001C2E11C5948>), (-1, 1, <torch.utils.data.dataloader.DataLoader object at 0x000001C2E0898FC8>), (-1, 2, <torch.utils.data.dataloader.DataLoader object at 0x000001C2E0898A88>), (-1, 3, <torch.utils.data.dataloader.DataLoader object at 0x000001C2E0898DC8>), (-1, 4, <torch.utils.data.dataloader.DataLoader object at 0x000001C2E0898F48>), (-1, 5, <torch.utils.data.dataloader.DataLoader object at 0x000001C2E0898908>), (-1, 6, <torch.utils.data.dataloader.DataLoader object at 0x000001C2E0898248>), (-1, 7, <torch.utils.data.dataloader.DataLoader object at 0x000001C2E0898808>), (-1, 8, <torch.utils.data.dataloader.DataLoader object at 0x000001C2E0898A48>), (-1, 9, <torch.utils.data.dataloader.DataLoader object at 0x000001C2E0898E88>), (-1, 10, <torch.utils.data.dataloader.DataLoader object at 0x000001C2E0898108>), (-1, 11, <torch.utils.data.dataloader.DataLoader object at 0x000001C2E13FA948>), (-1, 12, <torch.utils.data.dataloader.DataLoader object at 0x000001C2E13FAA48>), (-1, 13, <torch.utils.data.dataloader.DataLoader object at 0x000001C2E12DD148>), (-1, 14, <torch.utils.data.dataloader.DataLoader object at 0x000001C2E12DDAC8>), (-1, 15, <torch.utils.data.dataloader.DataLoader object at 0x000001C2E12DDFC8>), (-1, 16, <torch.utils.data.dataloader.DataLoader object at 0x000001C2E1614D88>), (-1, 17, <torch.utils.data.dataloader.DataLoader object at 0x000001C2E16147C8>), (-1, 18, <torch.utils.data.dataloader.DataLoader object at 0x000001C2E1614748>), (-1, 19, <torch.utils.data.dataloader.DataLoader object at 0x000001C2E1614708>)], [(-1, 0, <torch.utils.data.dataloader.DataLoader object at 0x000001C2E11C5948>), (-1, 1, <torch.utils.data.dataloader.DataLoader object at 0x000001C2E0898FC8>), (-1, 2, <torch.utils.data.dataloader.DataLoader object at 0x000001C2E0898A88>), (-1, 3, <torch.utils.data.dataloader.DataLoader object at 0x000001C2E0898DC8>), (-1, 4, <torch.utils.data.dataloader.DataLoader object at 0x000001C2E0898F48>), (-1, 5, <torch.utils.data.dataloader.DataLoader object at 0x000001C2E0898908>), (-1, 6, <torch.utils.data.dataloader.DataLoader object at 0x000001C2E0898248>), (-1, 7, <torch.utils.data.dataloader.DataLoader object at 0x000001C2E0898808>), (-1, 8, <torch.utils.data.dataloader.DataLoader object at 0x000001C2E0898A48>), (-1, 9, <torch.utils.data.dataloader.DataLoader object at 0x000001C2E0898E88>), (-1, 10, <torch.utils.data.dataloader.DataLoader object at 0x000001C2E0898108>), (-1, 11, <torch.utils.data.dataloader.DataLoader object at 0x000001C2E13FA948>), (-1, 12, <torch.utils.data.dataloader.DataLoader object at 0x000001C2E13FAA48>), (-1, 13, <torch.utils.data.dataloader.DataLoader object at 0x000001C2E12DD148>), (-1, 14, <torch.utils.data.dataloader.DataLoader object at 0x000001C2E12DDAC8>), (-1, 15, <torch.utils.data.dataloader.DataLoader object at 0x000001C2E12DDFC8>), (-1, 16, <torch.utils.data.dataloader.DataLoader object at 0x000001C2E1614D88>), (-1, 17, <torch.utils.data.dataloader.DataLoader object at 0x000001C2E16147C8>), (-1, 18, <torch.utils.data.dataloader.DataLoader object at 0x000001C2E1614748>), (-1, 19, <torch.utils.data.dataloader.DataLoader object at 0x000001C2E1614708>)], [(-1, 0, <torch.utils.data.dataloader.DataLoader object at 0x000001C2E11C5948>), (-1, 1, <torch.utils.data.dataloader.DataLoader object at 0x000001C2E0898FC8>), (-1, 2, <torch.utils.data.dataloader.DataLoader object at 0x000001C2E0898A88>), (-1, 3, <torch.utils.data.dataloader.DataLoader object at 0x000001C2E0898DC8>), (-1, 4, <torch.utils.data.dataloader.DataLoader object at 0x000001C2E0898F48>), (-1, 5, <torch.utils.data.dataloader.DataLoader object at 0x000001C2E0898908>), (-1, 6, <torch.utils.data.dataloader.DataLoader object at 0x000001C2E0898248>), (-1, 7, <torch.utils.data.dataloader.DataLoader object at 0x000001C2E0898808>), (-1, 8, <torch.utils.data.dataloader.DataLoader object at 0x000001C2E0898A48>), (-1, 9, <torch.utils.data.dataloader.DataLoader object at 0x000001C2E0898E88>), (-1, 10, <torch.utils.data.dataloader.DataLoader object at 0x000001C2E0898108>), (-1, 11, <torch.utils.data.dataloader.DataLoader object at 0x000001C2E13FA948>), (-1, 12, <torch.utils.data.dataloader.DataLoader object at 0x000001C2E13FAA48>), (-1, 13, <torch.utils.data.dataloader.DataLoader object at 0x000001C2E12DD148>), (-1, 14, <torch.utils.data.dataloader.DataLoader object at 0x000001C2E12DDAC8>), (-1, 15, <torch.utils.data.dataloader.DataLoader object at 0x000001C2E12DDFC8>), (-1, 16, <torch.utils.data.dataloader.DataLoader object at 0x000001C2E1614D88>), (-1, 17, <torch.utils.data.dataloader.DataLoader object at 0x000001C2E16147C8>), (-1, 18, <torch.utils.data.dataloader.DataLoader object at 0x000001C2E1614748>), (-1, 19, <torch.utils.data.dataloader.DataLoader object at 0x000001C2E1614708>)], [(-1, 0, <torch.utils.data.dataloader.DataLoader object at 0x000001C2E11C5948>), (-1, 1, <torch.utils.data.dataloader.DataLoader object at 0x000001C2E0898FC8>), (-1, 2, <torch.utils.data.dataloader.DataLoader object at 0x000001C2E0898A88>), (-1, 3, <torch.utils.data.dataloader.DataLoader object at 0x000001C2E0898DC8>), (-1, 4, <torch.utils.data.dataloader.DataLoader object at 0x000001C2E0898F48>), (-1, 5, <torch.utils.data.dataloader.DataLoader object at 0x000001C2E0898908>), (-1, 6, <torch.utils.data.dataloader.DataLoader object at 0x000001C2E0898248>), (-1, 7, <torch.utils.data.dataloader.DataLoader object at 0x000001C2E0898808>), (-1, 8, <torch.utils.data.dataloader.DataLoader object at 0x000001C2E0898A48>), (-1, 9, <torch.utils.data.dataloader.DataLoader object at 0x000001C2E0898E88>), (-1, 10, <torch.utils.data.dataloader.DataLoader object at 0x000001C2E0898108>), (-1, 11, <torch.utils.data.dataloader.DataLoader object at 0x000001C2E13FA948>), (-1, 12, <torch.utils.data.dataloader.DataLoader object at 0x000001C2E13FAA48>), (-1, 13, <torch.utils.data.dataloader.DataLoader object at 0x000001C2E12DD148>), (-1, 14, <torch.utils.data.dataloader.DataLoader object at 0x000001C2E12DDAC8>), (-1, 15, <torch.utils.data.dataloader.DataLoader object at 0x000001C2E12DDFC8>), (-1, 16, <torch.utils.data.dataloader.DataLoader object at 0x000001C2E1614D88>), (-1, 17, <torch.utils.data.dataloader.DataLoader object at 0x000001C2E16147C8>), (-1, 18, <torch.utils.data.dataloader.DataLoader object at 0x000001C2E1614748>), (-1, 19, <torch.utils.data.dataloader.DataLoader object at 0x000001C2E1614708>)], [(-1, 0, <torch.utils.data.dataloader.DataLoader object at 0x000001C2E11C5948>), (-1, 1, <torch.utils.data.dataloader.DataLoader object at 0x000001C2E0898FC8>), (-1, 2, <torch.utils.data.dataloader.DataLoader object at 0x000001C2E0898A88>), (-1, 3, <torch.utils.data.dataloader.DataLoader object at 0x000001C2E0898DC8>), (-1, 4, <torch.utils.data.dataloader.DataLoader object at 0x000001C2E0898F48>), (-1, 5, <torch.utils.data.dataloader.DataLoader object at 0x000001C2E0898908>), (-1, 6, <torch.utils.data.dataloader.DataLoader object at 0x000001C2E0898248>), (-1, 7, <torch.utils.data.dataloader.DataLoader object at 0x000001C2E0898808>), (-1, 8, <torch.utils.data.dataloader.DataLoader object at 0x000001C2E0898A48>), (-1, 9, <torch.utils.data.dataloader.DataLoader object at 0x000001C2E0898E88>), (-1, 10, <torch.utils.data.dataloader.DataLoader object at 0x000001C2E0898108>), (-1, 11, <torch.utils.data.dataloader.DataLoader object at 0x000001C2E13FA948>), (-1, 12, <torch.utils.data.dataloader.DataLoader object at 0x000001C2E13FAA48>), (-1, 13, <torch.utils.data.dataloader.DataLoader object at 0x000001C2E12DD148>), (-1, 14, <torch.utils.data.dataloader.DataLoader object at 0x000001C2E12DDAC8>), (-1, 15, <torch.utils.data.dataloader.DataLoader object at 0x000001C2E12DDFC8>), (-1, 16, <torch.utils.data.dataloader.DataLoader object at 0x000001C2E1614D88>), (-1, 17, <torch.utils.data.dataloader.DataLoader object at 0x000001C2E16147C8>), (-1, 18, <torch.utils.data.dataloader.DataLoader object at 0x000001C2E1614748>), (-1, 19, <torch.utils.data.dataloader.DataLoader object at 0x000001C2E1614708>)], [(-1, 0, <torch.utils.data.dataloader.DataLoader object at 0x000001C2E11C5948>), (-1, 1, <torch.utils.data.dataloader.DataLoader object at 0x000001C2E0898FC8>), (-1, 2, <torch.utils.data.dataloader.DataLoader object at 0x000001C2E0898A88>), (-1, 3, <torch.utils.data.dataloader.DataLoader object at 0x000001C2E0898DC8>), (-1, 4, <torch.utils.data.dataloader.DataLoader object at 0x000001C2E0898F48>), (-1, 5, <torch.utils.data.dataloader.DataLoader object at 0x000001C2E0898908>), (-1, 6, <torch.utils.data.dataloader.DataLoader object at 0x000001C2E0898248>), (-1, 7, <torch.utils.data.dataloader.DataLoader object at 0x000001C2E0898808>), (-1, 8, <torch.utils.data.dataloader.DataLoader object at 0x000001C2E0898A48>), (-1, 9, <torch.utils.data.dataloader.DataLoader object at 0x000001C2E0898E88>), (-1, 10, <torch.utils.data.dataloader.DataLoader object at 0x000001C2E0898108>), (-1, 11, <torch.utils.data.dataloader.DataLoader object at 0x000001C2E13FA948>), (-1, 12, <torch.utils.data.dataloader.DataLoader object at 0x000001C2E13FAA48>), (-1, 13, <torch.utils.data.dataloader.DataLoader object at 0x000001C2E12DD148>), (-1, 14, <torch.utils.data.dataloader.DataLoader object at 0x000001C2E12DDAC8>), (-1, 15, <torch.utils.data.dataloader.DataLoader object at 0x000001C2E12DDFC8>), (-1, 16, <torch.utils.data.dataloader.DataLoader object at 0x000001C2E1614D88>), (-1, 17, <torch.utils.data.dataloader.DataLoader object at 0x000001C2E16147C8>), (-1, 18, <torch.utils.data.dataloader.DataLoader object at 0x000001C2E1614748>), (-1, 19, <torch.utils.data.dataloader.DataLoader object at 0x000001C2E1614708>)], [(-1, 0, <torch.utils.data.dataloader.DataLoader object at 0x000001C2E11C5948>), (-1, 1, <torch.utils.data.dataloader.DataLoader object at 0x000001C2E0898FC8>), (-1, 2, <torch.utils.data.dataloader.DataLoader object at 0x000001C2E0898A88>), (-1, 3, <torch.utils.data.dataloader.DataLoader object at 0x000001C2E0898DC8>), (-1, 4, <torch.utils.data.dataloader.DataLoader object at 0x000001C2E0898F48>), (-1, 5, <torch.utils.data.dataloader.DataLoader object at 0x000001C2E0898908>), (-1, 6, <torch.utils.data.dataloader.DataLoader object at 0x000001C2E0898248>), (-1, 7, <torch.utils.data.dataloader.DataLoader object at 0x000001C2E0898808>), (-1, 8, <torch.utils.data.dataloader.DataLoader object at 0x000001C2E0898A48>), (-1, 9, <torch.utils.data.dataloader.DataLoader object at 0x000001C2E0898E88>), (-1, 10, <torch.utils.data.dataloader.DataLoader object at 0x000001C2E0898108>), (-1, 11, <torch.utils.data.dataloader.DataLoader object at 0x000001C2E13FA948>), (-1, 12, <torch.utils.data.dataloader.DataLoader object at 0x000001C2E13FAA48>), (-1, 13, <torch.utils.data.dataloader.DataLoader object at 0x000001C2E12DD148>), (-1, 14, <torch.utils.data.dataloader.DataLoader object at 0x000001C2E12DDAC8>), (-1, 15, <torch.utils.data.dataloader.DataLoader object at 0x000001C2E12DDFC8>), (-1, 16, <torch.utils.data.dataloader.DataLoader object at 0x000001C2E1614D88>), (-1, 17, <torch.utils.data.dataloader.DataLoader object at 0x000001C2E16147C8>), (-1, 18, <torch.utils.data.dataloader.DataLoader object at 0x000001C2E1614748>), (-1, 19, <torch.utils.data.dataloader.DataLoader object at 0x000001C2E1614708>)], [(-1, 0, <torch.utils.data.dataloader.DataLoader object at 0x000001C2E11C5948>), (-1, 1, <torch.utils.data.dataloader.DataLoader object at 0x000001C2E0898FC8>), (-1, 2, <torch.utils.data.dataloader.DataLoader object at 0x000001C2E0898A88>), (-1, 3, <torch.utils.data.dataloader.DataLoader object at 0x000001C2E0898DC8>), (-1, 4, <torch.utils.data.dataloader.DataLoader object at 0x000001C2E0898F48>), (-1, 5, <torch.utils.data.dataloader.DataLoader object at 0x000001C2E0898908>), (-1, 6, <torch.utils.data.dataloader.DataLoader object at 0x000001C2E0898248>), (-1, 7, <torch.utils.data.dataloader.DataLoader object at 0x000001C2E0898808>), (-1, 8, <torch.utils.data.dataloader.DataLoader object at 0x000001C2E0898A48>), (-1, 9, <torch.utils.data.dataloader.DataLoader object at 0x000001C2E0898E88>), (-1, 10, <torch.utils.data.dataloader.DataLoader object at 0x000001C2E0898108>), (-1, 11, <torch.utils.data.dataloader.DataLoader object at 0x000001C2E13FA948>), (-1, 12, <torch.utils.data.dataloader.DataLoader object at 0x000001C2E13FAA48>), (-1, 13, <torch.utils.data.dataloader.DataLoader object at 0x000001C2E12DD148>), (-1, 14, <torch.utils.data.dataloader.DataLoader object at 0x000001C2E12DDAC8>), (-1, 15, <torch.utils.data.dataloader.DataLoader object at 0x000001C2E12DDFC8>), (-1, 16, <torch.utils.data.dataloader.DataLoader object at 0x000001C2E1614D88>), (-1, 17, <torch.utils.data.dataloader.DataLoader object at 0x000001C2E16147C8>), (-1, 18, <torch.utils.data.dataloader.DataLoader object at 0x000001C2E1614748>), (-1, 19, <torch.utils.data.dataloader.DataLoader object at 0x000001C2E1614708>)], [(-1, 0, <torch.utils.data.dataloader.DataLoader object at 0x000001C2E11C5948>), (-1, 1, <torch.utils.data.dataloader.DataLoader object at 0x000001C2E0898FC8>), (-1, 2, <torch.utils.data.dataloader.DataLoader object at 0x000001C2E0898A88>), (-1, 3, <torch.utils.data.dataloader.DataLoader object at 0x000001C2E0898DC8>), (-1, 4, <torch.utils.data.dataloader.DataLoader object at 0x000001C2E0898F48>), (-1, 5, <torch.utils.data.dataloader.DataLoader object at 0x000001C2E0898908>), (-1, 6, <torch.utils.data.dataloader.DataLoader object at 0x000001C2E0898248>), (-1, 7, <torch.utils.data.dataloader.DataLoader object at 0x000001C2E0898808>), (-1, 8, <torch.utils.data.dataloader.DataLoader object at 0x000001C2E0898A48>), (-1, 9, <torch.utils.data.dataloader.DataLoader object at 0x000001C2E0898E88>), (-1, 10, <torch.utils.data.dataloader.DataLoader object at 0x000001C2E0898108>), (-1, 11, <torch.utils.data.dataloader.DataLoader object at 0x000001C2E13FA948>), (-1, 12, <torch.utils.data.dataloader.DataLoader object at 0x000001C2E13FAA48>), (-1, 13, <torch.utils.data.dataloader.DataLoader object at 0x000001C2E12DD148>), (-1, 14, <torch.utils.data.dataloader.DataLoader object at 0x000001C2E12DDAC8>), (-1, 15, <torch.utils.data.dataloader.DataLoader object at 0x000001C2E12DDFC8>), (-1, 16, <torch.utils.data.dataloader.DataLoader object at 0x000001C2E1614D88>), (-1, 17, <torch.utils.data.dataloader.DataLoader object at 0x000001C2E16147C8>), (-1, 18, <torch.utils.data.dataloader.DataLoader object at 0x000001C2E1614748>), (-1, 19, <torch.utils.data.dataloader.DataLoader object at 0x000001C2E1614708>)], [(-1, 0, <torch.utils.data.dataloader.DataLoader object at 0x000001C2E11C5948>), (-1, 1, <torch.utils.data.dataloader.DataLoader object at 0x000001C2E0898FC8>), (-1, 2, <torch.utils.data.dataloader.DataLoader object at 0x000001C2E0898A88>), (-1, 3, <torch.utils.data.dataloader.DataLoader object at 0x000001C2E0898DC8>), (-1, 4, <torch.utils.data.dataloader.DataLoader object at 0x000001C2E0898F48>), (-1, 5, <torch.utils.data.dataloader.DataLoader object at 0x000001C2E0898908>), (-1, 6, <torch.utils.data.dataloader.DataLoader object at 0x000001C2E0898248>), (-1, 7, <torch.utils.data.dataloader.DataLoader object at 0x000001C2E0898808>), (-1, 8, <torch.utils.data.dataloader.DataLoader object at 0x000001C2E0898A48>), (-1, 9, <torch.utils.data.dataloader.DataLoader object at 0x000001C2E0898E88>), (-1, 10, <torch.utils.data.dataloader.DataLoader object at 0x000001C2E0898108>), (-1, 11, <torch.utils.data.dataloader.DataLoader object at 0x000001C2E13FA948>), (-1, 12, <torch.utils.data.dataloader.DataLoader object at 0x000001C2E13FAA48>), (-1, 13, <torch.utils.data.dataloader.DataLoader object at 0x000001C2E12DD148>), (-1, 14, <torch.utils.data.dataloader.DataLoader object at 0x000001C2E12DDAC8>), (-1, 15, <torch.utils.data.dataloader.DataLoader object at 0x000001C2E12DDFC8>), (-1, 16, <torch.utils.data.dataloader.DataLoader object at 0x000001C2E1614D88>), (-1, 17, <torch.utils.data.dataloader.DataLoader object at 0x000001C2E16147C8>), (-1, 18, <torch.utils.data.dataloader.DataLoader object at 0x000001C2E1614748>), (-1, 19, <torch.utils.data.dataloader.DataLoader object at 0x000001C2E1614708>)], [(-1, 0, <torch.utils.data.dataloader.DataLoader object at 0x000001C2E11C5948>), (-1, 1, <torch.utils.data.dataloader.DataLoader object at 0x000001C2E0898FC8>), (-1, 2, <torch.utils.data.dataloader.DataLoader object at 0x000001C2E0898A88>), (-1, 3, <torch.utils.data.dataloader.DataLoader object at 0x000001C2E0898DC8>), (-1, 4, <torch.utils.data.dataloader.DataLoader object at 0x000001C2E0898F48>), (-1, 5, <torch.utils.data.dataloader.DataLoader object at 0x000001C2E0898908>), (-1, 6, <torch.utils.data.dataloader.DataLoader object at 0x000001C2E0898248>), (-1, 7, <torch.utils.data.dataloader.DataLoader object at 0x000001C2E0898808>), (-1, 8, <torch.utils.data.dataloader.DataLoader object at 0x000001C2E0898A48>), (-1, 9, <torch.utils.data.dataloader.DataLoader object at 0x000001C2E0898E88>), (-1, 10, <torch.utils.data.dataloader.DataLoader object at 0x000001C2E0898108>), (-1, 11, <torch.utils.data.dataloader.DataLoader object at 0x000001C2E13FA948>), (-1, 12, <torch.utils.data.dataloader.DataLoader object at 0x000001C2E13FAA48>), (-1, 13, <torch.utils.data.dataloader.DataLoader object at 0x000001C2E12DD148>), (-1, 14, <torch.utils.data.dataloader.DataLoader object at 0x000001C2E12DDAC8>), (-1, 15, <torch.utils.data.dataloader.DataLoader object at 0x000001C2E12DDFC8>), (-1, 16, <torch.utils.data.dataloader.DataLoader object at 0x000001C2E1614D88>), (-1, 17, <torch.utils.data.dataloader.DataLoader object at 0x000001C2E16147C8>), (-1, 18, <torch.utils.data.dataloader.DataLoader object at 0x000001C2E1614748>), (-1, 19, <torch.utils.data.dataloader.DataLoader object at 0x000001C2E1614708>)], [(-1, 0, <torch.utils.data.dataloader.DataLoader object at 0x000001C2E11C5948>), (-1, 1, <torch.utils.data.dataloader.DataLoader object at 0x000001C2E0898FC8>), (-1, 2, <torch.utils.data.dataloader.DataLoader object at 0x000001C2E0898A88>), (-1, 3, <torch.utils.data.dataloader.DataLoader object at 0x000001C2E0898DC8>), (-1, 4, <torch.utils.data.dataloader.DataLoader object at 0x000001C2E0898F48>), (-1, 5, <torch.utils.data.dataloader.DataLoader object at 0x000001C2E0898908>), (-1, 6, <torch.utils.data.dataloader.DataLoader object at 0x000001C2E0898248>), (-1, 7, <torch.utils.data.dataloader.DataLoader object at 0x000001C2E0898808>), (-1, 8, <torch.utils.data.dataloader.DataLoader object at 0x000001C2E0898A48>), (-1, 9, <torch.utils.data.dataloader.DataLoader object at 0x000001C2E0898E88>), (-1, 10, <torch.utils.data.dataloader.DataLoader object at 0x000001C2E0898108>), (-1, 11, <torch.utils.data.dataloader.DataLoader object at 0x000001C2E13FA948>), (-1, 12, <torch.utils.data.dataloader.DataLoader object at 0x000001C2E13FAA48>), (-1, 13, <torch.utils.data.dataloader.DataLoader object at 0x000001C2E12DD148>), (-1, 14, <torch.utils.data.dataloader.DataLoader object at 0x000001C2E12DDAC8>), (-1, 15, <torch.utils.data.dataloader.DataLoader object at 0x000001C2E12DDFC8>), (-1, 16, <torch.utils.data.dataloader.DataLoader object at 0x000001C2E1614D88>), (-1, 17, <torch.utils.data.dataloader.DataLoader object at 0x000001C2E16147C8>), (-1, 18, <torch.utils.data.dataloader.DataLoader object at 0x000001C2E1614748>), (-1, 19, <torch.utils.data.dataloader.DataLoader object at 0x000001C2E1614708>)], [(-1, 0, <torch.utils.data.dataloader.DataLoader object at 0x000001C2E11C5948>), (-1, 1, <torch.utils.data.dataloader.DataLoader object at 0x000001C2E0898FC8>), (-1, 2, <torch.utils.data.dataloader.DataLoader object at 0x000001C2E0898A88>), (-1, 3, <torch.utils.data.dataloader.DataLoader object at 0x000001C2E0898DC8>), (-1, 4, <torch.utils.data.dataloader.DataLoader object at 0x000001C2E0898F48>), (-1, 5, <torch.utils.data.dataloader.DataLoader object at 0x000001C2E0898908>), (-1, 6, <torch.utils.data.dataloader.DataLoader object at 0x000001C2E0898248>), (-1, 7, <torch.utils.data.dataloader.DataLoader object at 0x000001C2E0898808>), (-1, 8, <torch.utils.data.dataloader.DataLoader object at 0x000001C2E0898A48>), (-1, 9, <torch.utils.data.dataloader.DataLoader object at 0x000001C2E0898E88>), (-1, 10, <torch.utils.data.dataloader.DataLoader object at 0x000001C2E0898108>), (-1, 11, <torch.utils.data.dataloader.DataLoader object at 0x000001C2E13FA948>), (-1, 12, <torch.utils.data.dataloader.DataLoader object at 0x000001C2E13FAA48>), (-1, 13, <torch.utils.data.dataloader.DataLoader object at 0x000001C2E12DD148>), (-1, 14, <torch.utils.data.dataloader.DataLoader object at 0x000001C2E12DDAC8>), (-1, 15, <torch.utils.data.dataloader.DataLoader object at 0x000001C2E12DDFC8>), (-1, 16, <torch.utils.data.dataloader.DataLoader object at 0x000001C2E1614D88>), (-1, 17, <torch.utils.data.dataloader.DataLoader object at 0x000001C2E16147C8>), (-1, 18, <torch.utils.data.dataloader.DataLoader object at 0x000001C2E1614748>), (-1, 19, <torch.utils.data.dataloader.DataLoader object at 0x000001C2E1614708>)], [(-1, 0, <torch.utils.data.dataloader.DataLoader object at 0x000001C2E11C5948>), (-1, 1, <torch.utils.data.dataloader.DataLoader object at 0x000001C2E0898FC8>), (-1, 2, <torch.utils.data.dataloader.DataLoader object at 0x000001C2E0898A88>), (-1, 3, <torch.utils.data.dataloader.DataLoader object at 0x000001C2E0898DC8>), (-1, 4, <torch.utils.data.dataloader.DataLoader object at 0x000001C2E0898F48>), (-1, 5, <torch.utils.data.dataloader.DataLoader object at 0x000001C2E0898908>), (-1, 6, <torch.utils.data.dataloader.DataLoader object at 0x000001C2E0898248>), (-1, 7, <torch.utils.data.dataloader.DataLoader object at 0x000001C2E0898808>), (-1, 8, <torch.utils.data.dataloader.DataLoader object at 0x000001C2E0898A48>), (-1, 9, <torch.utils.data.dataloader.DataLoader object at 0x000001C2E0898E88>), (-1, 10, <torch.utils.data.dataloader.DataLoader object at 0x000001C2E0898108>), (-1, 11, <torch.utils.data.dataloader.DataLoader object at 0x000001C2E13FA948>), (-1, 12, <torch.utils.data.dataloader.DataLoader object at 0x000001C2E13FAA48>), (-1, 13, <torch.utils.data.dataloader.DataLoader object at 0x000001C2E12DD148>), (-1, 14, <torch.utils.data.dataloader.DataLoader object at 0x000001C2E12DDAC8>), (-1, 15, <torch.utils.data.dataloader.DataLoader object at 0x000001C2E12DDFC8>), (-1, 16, <torch.utils.data.dataloader.DataLoader object at 0x000001C2E1614D88>), (-1, 17, <torch.utils.data.dataloader.DataLoader object at 0x000001C2E16147C8>), (-1, 18, <torch.utils.data.dataloader.DataLoader object at 0x000001C2E1614748>), (-1, 19, <torch.utils.data.dataloader.DataLoader object at 0x000001C2E1614708>)], [(-1, 0, <torch.utils.data.dataloader.DataLoader object at 0x000001C2E11C5948>), (-1, 1, <torch.utils.data.dataloader.DataLoader object at 0x000001C2E0898FC8>), (-1, 2, <torch.utils.data.dataloader.DataLoader object at 0x000001C2E0898A88>), (-1, 3, <torch.utils.data.dataloader.DataLoader object at 0x000001C2E0898DC8>), (-1, 4, <torch.utils.data.dataloader.DataLoader object at 0x000001C2E0898F48>), (-1, 5, <torch.utils.data.dataloader.DataLoader object at 0x000001C2E0898908>), (-1, 6, <torch.utils.data.dataloader.DataLoader object at 0x000001C2E0898248>), (-1, 7, <torch.utils.data.dataloader.DataLoader object at 0x000001C2E0898808>), (-1, 8, <torch.utils.data.dataloader.DataLoader object at 0x000001C2E0898A48>), (-1, 9, <torch.utils.data.dataloader.DataLoader object at 0x000001C2E0898E88>), (-1, 10, <torch.utils.data.dataloader.DataLoader object at 0x000001C2E0898108>), (-1, 11, <torch.utils.data.dataloader.DataLoader object at 0x000001C2E13FA948>), (-1, 12, <torch.utils.data.dataloader.DataLoader object at 0x000001C2E13FAA48>), (-1, 13, <torch.utils.data.dataloader.DataLoader object at 0x000001C2E12DD148>), (-1, 14, <torch.utils.data.dataloader.DataLoader object at 0x000001C2E12DDAC8>), (-1, 15, <torch.utils.data.dataloader.DataLoader object at 0x000001C2E12DDFC8>), (-1, 16, <torch.utils.data.dataloader.DataLoader object at 0x000001C2E1614D88>), (-1, 17, <torch.utils.data.dataloader.DataLoader object at 0x000001C2E16147C8>), (-1, 18, <torch.utils.data.dataloader.DataLoader object at 0x000001C2E1614748>), (-1, 19, <torch.utils.data.dataloader.DataLoader object at 0x000001C2E1614708>)], [(-1, 0, <torch.utils.data.dataloader.DataLoader object at 0x000001C2E11C5948>), (-1, 1, <torch.utils.data.dataloader.DataLoader object at 0x000001C2E0898FC8>), (-1, 2, <torch.utils.data.dataloader.DataLoader object at 0x000001C2E0898A88>), (-1, 3, <torch.utils.data.dataloader.DataLoader object at 0x000001C2E0898DC8>), (-1, 4, <torch.utils.data.dataloader.DataLoader object at 0x000001C2E0898F48>), (-1, 5, <torch.utils.data.dataloader.DataLoader object at 0x000001C2E0898908>), (-1, 6, <torch.utils.data.dataloader.DataLoader object at 0x000001C2E0898248>), (-1, 7, <torch.utils.data.dataloader.DataLoader object at 0x000001C2E0898808>), (-1, 8, <torch.utils.data.dataloader.DataLoader object at 0x000001C2E0898A48>), (-1, 9, <torch.utils.data.dataloader.DataLoader object at 0x000001C2E0898E88>), (-1, 10, <torch.utils.data.dataloader.DataLoader object at 0x000001C2E0898108>), (-1, 11, <torch.utils.data.dataloader.DataLoader object at 0x000001C2E13FA948>), (-1, 12, <torch.utils.data.dataloader.DataLoader object at 0x000001C2E13FAA48>), (-1, 13, <torch.utils.data.dataloader.DataLoader object at 0x000001C2E12DD148>), (-1, 14, <torch.utils.data.dataloader.DataLoader object at 0x000001C2E12DDAC8>), (-1, 15, <torch.utils.data.dataloader.DataLoader object at 0x000001C2E12DDFC8>), (-1, 16, <torch.utils.data.dataloader.DataLoader object at 0x000001C2E1614D88>), (-1, 17, <torch.utils.data.dataloader.DataLoader object at 0x000001C2E16147C8>), (-1, 18, <torch.utils.data.dataloader.DataLoader object at 0x000001C2E1614748>), (-1, 19, <torch.utils.data.dataloader.DataLoader object at 0x000001C2E1614708>)], [(-1, 0, <torch.utils.data.dataloader.DataLoader object at 0x000001C2E11C5948>), (-1, 1, <torch.utils.data.dataloader.DataLoader object at 0x000001C2E0898FC8>), (-1, 2, <torch.utils.data.dataloader.DataLoader object at 0x000001C2E0898A88>), (-1, 3, <torch.utils.data.dataloader.DataLoader object at 0x000001C2E0898DC8>), (-1, 4, <torch.utils.data.dataloader.DataLoader object at 0x000001C2E0898F48>), (-1, 5, <torch.utils.data.dataloader.DataLoader object at 0x000001C2E0898908>), (-1, 6, <torch.utils.data.dataloader.DataLoader object at 0x000001C2E0898248>), (-1, 7, <torch.utils.data.dataloader.DataLoader object at 0x000001C2E0898808>), (-1, 8, <torch.utils.data.dataloader.DataLoader object at 0x000001C2E0898A48>), (-1, 9, <torch.utils.data.dataloader.DataLoader object at 0x000001C2E0898E88>), (-1, 10, <torch.utils.data.dataloader.DataLoader object at 0x000001C2E0898108>), (-1, 11, <torch.utils.data.dataloader.DataLoader object at 0x000001C2E13FA948>), (-1, 12, <torch.utils.data.dataloader.DataLoader object at 0x000001C2E13FAA48>), (-1, 13, <torch.utils.data.dataloader.DataLoader object at 0x000001C2E12DD148>), (-1, 14, <torch.utils.data.dataloader.DataLoader object at 0x000001C2E12DDAC8>), (-1, 15, <torch.utils.data.dataloader.DataLoader object at 0x000001C2E12DDFC8>), (-1, 16, <torch.utils.data.dataloader.DataLoader object at 0x000001C2E1614D88>), (-1, 17, <torch.utils.data.dataloader.DataLoader object at 0x000001C2E16147C8>), (-1, 18, <torch.utils.data.dataloader.DataLoader object at 0x000001C2E1614748>), (-1, 19, <torch.utils.data.dataloader.DataLoader object at 0x000001C2E1614708>)], [(-1, 0, <torch.utils.data.dataloader.DataLoader object at 0x000001C2E11C5948>), (-1, 1, <torch.utils.data.dataloader.DataLoader object at 0x000001C2E0898FC8>), (-1, 2, <torch.utils.data.dataloader.DataLoader object at 0x000001C2E0898A88>), (-1, 3, <torch.utils.data.dataloader.DataLoader object at 0x000001C2E0898DC8>), (-1, 4, <torch.utils.data.dataloader.DataLoader object at 0x000001C2E0898F48>), (-1, 5, <torch.utils.data.dataloader.DataLoader object at 0x000001C2E0898908>), (-1, 6, <torch.utils.data.dataloader.DataLoader object at 0x000001C2E0898248>), (-1, 7, <torch.utils.data.dataloader.DataLoader object at 0x000001C2E0898808>), (-1, 8, <torch.utils.data.dataloader.DataLoader object at 0x000001C2E0898A48>), (-1, 9, <torch.utils.data.dataloader.DataLoader object at 0x000001C2E0898E88>), (-1, 10, <torch.utils.data.dataloader.DataLoader object at 0x000001C2E0898108>), (-1, 11, <torch.utils.data.dataloader.DataLoader object at 0x000001C2E13FA948>), (-1, 12, <torch.utils.data.dataloader.DataLoader object at 0x000001C2E13FAA48>), (-1, 13, <torch.utils.data.dataloader.DataLoader object at 0x000001C2E12DD148>), (-1, 14, <torch.utils.data.dataloader.DataLoader object at 0x000001C2E12DDAC8>), (-1, 15, <torch.utils.data.dataloader.DataLoader object at 0x000001C2E12DDFC8>), (-1, 16, <torch.utils.data.dataloader.DataLoader object at 0x000001C2E1614D88>), (-1, 17, <torch.utils.data.dataloader.DataLoader object at 0x000001C2E16147C8>), (-1, 18, <torch.utils.data.dataloader.DataLoader object at 0x000001C2E1614748>), (-1, 19, <torch.utils.data.dataloader.DataLoader object at 0x000001C2E1614708>)], [(-1, 0, <torch.utils.data.dataloader.DataLoader object at 0x000001C2E11C5948>), (-1, 1, <torch.utils.data.dataloader.DataLoader object at 0x000001C2E0898FC8>), (-1, 2, <torch.utils.data.dataloader.DataLoader object at 0x000001C2E0898A88>), (-1, 3, <torch.utils.data.dataloader.DataLoader object at 0x000001C2E0898DC8>), (-1, 4, <torch.utils.data.dataloader.DataLoader object at 0x000001C2E0898F48>), (-1, 5, <torch.utils.data.dataloader.DataLoader object at 0x000001C2E0898908>), (-1, 6, <torch.utils.data.dataloader.DataLoader object at 0x000001C2E0898248>), (-1, 7, <torch.utils.data.dataloader.DataLoader object at 0x000001C2E0898808>), (-1, 8, <torch.utils.data.dataloader.DataLoader object at 0x000001C2E0898A48>), (-1, 9, <torch.utils.data.dataloader.DataLoader object at 0x000001C2E0898E88>), (-1, 10, <torch.utils.data.dataloader.DataLoader object at 0x000001C2E0898108>), (-1, 11, <torch.utils.data.dataloader.DataLoader object at 0x000001C2E13FA948>), (-1, 12, <torch.utils.data.dataloader.DataLoader object at 0x000001C2E13FAA48>), (-1, 13, <torch.utils.data.dataloader.DataLoader object at 0x000001C2E12DD148>), (-1, 14, <torch.utils.data.dataloader.DataLoader object at 0x000001C2E12DDAC8>), (-1, 15, <torch.utils.data.dataloader.DataLoader object at 0x000001C2E12DDFC8>), (-1, 16, <torch.utils.data.dataloader.DataLoader object at 0x000001C2E1614D88>), (-1, 17, <torch.utils.data.dataloader.DataLoader object at 0x000001C2E16147C8>), (-1, 18, <torch.utils.data.dataloader.DataLoader object at 0x000001C2E1614748>), (-1, 19, <torch.utils.data.dataloader.DataLoader object at 0x000001C2E1614708>)], [(-1, 0, <torch.utils.data.dataloader.DataLoader object at 0x000001C2E11C5948>), (-1, 1, <torch.utils.data.dataloader.DataLoader object at 0x000001C2E0898FC8>), (-1, 2, <torch.utils.data.dataloader.DataLoader object at 0x000001C2E0898A88>), (-1, 3, <torch.utils.data.dataloader.DataLoader object at 0x000001C2E0898DC8>), (-1, 4, <torch.utils.data.dataloader.DataLoader object at 0x000001C2E0898F48>), (-1, 5, <torch.utils.data.dataloader.DataLoader object at 0x000001C2E0898908>), (-1, 6, <torch.utils.data.dataloader.DataLoader object at 0x000001C2E0898248>), (-1, 7, <torch.utils.data.dataloader.DataLoader object at 0x000001C2E0898808>), (-1, 8, <torch.utils.data.dataloader.DataLoader object at 0x000001C2E0898A48>), (-1, 9, <torch.utils.data.dataloader.DataLoader object at 0x000001C2E0898E88>), (-1, 10, <torch.utils.data.dataloader.DataLoader object at 0x000001C2E0898108>), (-1, 11, <torch.utils.data.dataloader.DataLoader object at 0x000001C2E13FA948>), (-1, 12, <torch.utils.data.dataloader.DataLoader object at 0x000001C2E13FAA48>), (-1, 13, <torch.utils.data.dataloader.DataLoader object at 0x000001C2E12DD148>), (-1, 14, <torch.utils.data.dataloader.DataLoader object at 0x000001C2E12DDAC8>), (-1, 15, <torch.utils.data.dataloader.DataLoader object at 0x000001C2E12DDFC8>), (-1, 16, <torch.utils.data.dataloader.DataLoader object at 0x000001C2E1614D88>), (-1, 17, <torch.utils.data.dataloader.DataLoader object at 0x000001C2E16147C8>), (-1, 18, <torch.utils.data.dataloader.DataLoader object at 0x000001C2E1614748>), (-1, 19, <torch.utils.data.dataloader.DataLoader object at 0x000001C2E1614708>)], [(-1, 0, <torch.utils.data.dataloader.DataLoader object at 0x000001C2E11C5948>), (-1, 1, <torch.utils.data.dataloader.DataLoader object at 0x000001C2E0898FC8>), (-1, 2, <torch.utils.data.dataloader.DataLoader object at 0x000001C2E0898A88>), (-1, 3, <torch.utils.data.dataloader.DataLoader object at 0x000001C2E0898DC8>), (-1, 4, <torch.utils.data.dataloader.DataLoader object at 0x000001C2E0898F48>), (-1, 5, <torch.utils.data.dataloader.DataLoader object at 0x000001C2E0898908>), (-1, 6, <torch.utils.data.dataloader.DataLoader object at 0x000001C2E0898248>), (-1, 7, <torch.utils.data.dataloader.DataLoader object at 0x000001C2E0898808>), (-1, 8, <torch.utils.data.dataloader.DataLoader object at 0x000001C2E0898A48>), (-1, 9, <torch.utils.data.dataloader.DataLoader object at 0x000001C2E0898E88>), (-1, 10, <torch.utils.data.dataloader.DataLoader object at 0x000001C2E0898108>), (-1, 11, <torch.utils.data.dataloader.DataLoader object at 0x000001C2E13FA948>), (-1, 12, <torch.utils.data.dataloader.DataLoader object at 0x000001C2E13FAA48>), (-1, 13, <torch.utils.data.dataloader.DataLoader object at 0x000001C2E12DD148>), (-1, 14, <torch.utils.data.dataloader.DataLoader object at 0x000001C2E12DDAC8>), (-1, 15, <torch.utils.data.dataloader.DataLoader object at 0x000001C2E12DDFC8>), (-1, 16, <torch.utils.data.dataloader.DataLoader object at 0x000001C2E1614D88>), (-1, 17, <torch.utils.data.dataloader.DataLoader object at 0x000001C2E16147C8>), (-1, 18, <torch.utils.data.dataloader.DataLoader object at 0x000001C2E1614748>), (-1, 19, <torch.utils.data.dataloader.DataLoader object at 0x000001C2E1614708>)]]\n"
     ]
    }
   ],
   "source": [
    "if iid:\n",
    "    train_loaders=[]\n",
    "    for i in range(n_iter):\n",
    "        train_loaders.append([(i, pos, get_train_iid(all_range, pos, i))\n",
    "                                for pos in range(num_of_workers)])\n",
    "else:\n",
    "    indices_per_participant = sample_dirichlet_train_data(\n",
    "        num_of_workers,\n",
    "        #dataset= torch.utils.data.Subset(train_dataset, list(range(240))),\n",
    "        alpha=0.95,\n",
    "        copylist=copylist)\n",
    "    train_loaders = [(-1, pos, get_train_noniid(indices)) for pos, indices in\n",
    "                    indices_per_participant.items()]\n",
    "    train_loaders = n_iter * [train_loaders]\n",
    "\n",
    "print(train_loaders)"
   ]
  },
  {
   "cell_type": "code",
   "execution_count": null,
   "metadata": {
    "colab": {
     "base_uri": "https://localhost:8080/"
    },
    "id": "HFU41nvozNJI",
    "outputId": "12464ed8-464b-4431-b96f-a69a9d84bf69"
   },
   "outputs": [
    {
     "name": "stdout",
     "output_type": "stream",
     "text": [
      "\n",
      "\n",
      " Entering epoch 0\n",
      "Iter 0 - Epoch 0 - Client Type: Benign - Client Number 0 - Poison Training False\n"
     ]
    },
    {
     "name": "stderr",
     "output_type": "stream",
     "text": [
      "100%|████████████████████████████████████████████████████████████████████████████████████| 1/1 [00:00<00:00,  1.23it/s]\n"
     ]
    },
    {
     "name": "stdout",
     "output_type": "stream",
     "text": [
      "Iter 0 - Epoch 0 - Client Type: Benign - Client Number 1 - Poison Training False\n"
     ]
    },
    {
     "name": "stderr",
     "output_type": "stream",
     "text": [
      "100%|████████████████████████████████████████████████████████████████████████████████████| 1/1 [00:00<00:00,  1.21it/s]\n"
     ]
    },
    {
     "name": "stdout",
     "output_type": "stream",
     "text": [
      "Iter 0 - Epoch 0 - Client Type: Benign - Client Number 2 - Poison Training False\n"
     ]
    },
    {
     "name": "stderr",
     "output_type": "stream",
     "text": [
      "100%|████████████████████████████████████████████████████████████████████████████████████| 1/1 [00:00<00:00,  1.25it/s]\n"
     ]
    },
    {
     "name": "stdout",
     "output_type": "stream",
     "text": [
      "Iter 0 - Epoch 0 - Client Type: Benign - Client Number 3 - Poison Training False\n"
     ]
    },
    {
     "name": "stderr",
     "output_type": "stream",
     "text": [
      "100%|████████████████████████████████████████████████████████████████████████████████████| 2/2 [00:01<00:00,  1.81it/s]\n"
     ]
    },
    {
     "name": "stdout",
     "output_type": "stream",
     "text": [
      "Iter 0 - Epoch 0 - Client Type: Benign - Client Number 4 - Poison Training False\n"
     ]
    },
    {
     "name": "stderr",
     "output_type": "stream",
     "text": [
      "100%|████████████████████████████████████████████████████████████████████████████████████| 2/2 [00:01<00:00,  1.51it/s]\n"
     ]
    },
    {
     "name": "stdout",
     "output_type": "stream",
     "text": [
      "Iter 0 - Epoch 0 - Client Type: Benign - Client Number 5 - Poison Training False\n"
     ]
    },
    {
     "name": "stderr",
     "output_type": "stream",
     "text": [
      "100%|████████████████████████████████████████████████████████████████████████████████████| 2/2 [00:01<00:00,  1.08it/s]\n"
     ]
    },
    {
     "name": "stdout",
     "output_type": "stream",
     "text": [
      "Iter 0 - Epoch 0 - Client Type: Benign - Client Number 6 - Poison Training False\n"
     ]
    },
    {
     "name": "stderr",
     "output_type": "stream",
     "text": [
      "100%|████████████████████████████████████████████████████████████████████████████████████| 2/2 [00:01<00:00,  1.20it/s]\n"
     ]
    },
    {
     "name": "stdout",
     "output_type": "stream",
     "text": [
      "Iter 0 - Epoch 0 - Client Type: Benign - Client Number 7 - Poison Training False\n"
     ]
    },
    {
     "name": "stderr",
     "output_type": "stream",
     "text": [
      "100%|████████████████████████████████████████████████████████████████████████████████████| 1/1 [00:00<00:00,  1.09it/s]\n"
     ]
    },
    {
     "name": "stdout",
     "output_type": "stream",
     "text": [
      "Iter 0 - Epoch 0 - Client Type: Benign - Client Number 8 - Poison Training False\n"
     ]
    },
    {
     "name": "stderr",
     "output_type": "stream",
     "text": [
      "100%|████████████████████████████████████████████████████████████████████████████████████| 1/1 [00:00<00:00,  1.27it/s]\n"
     ]
    },
    {
     "name": "stdout",
     "output_type": "stream",
     "text": [
      "Iter 0 - Epoch 0 - Client Type: Benign - Client Number 9 - Poison Training False\n"
     ]
    },
    {
     "name": "stderr",
     "output_type": "stream",
     "text": [
      "100%|████████████████████████████████████████████████████████████████████████████████████| 2/2 [00:01<00:00,  1.68it/s]\n"
     ]
    },
    {
     "name": "stdout",
     "output_type": "stream",
     "text": [
      "Iter 0 - Epoch 0 - Client Type: Benign - Client Number 10 - Poison Training False\n"
     ]
    },
    {
     "name": "stderr",
     "output_type": "stream",
     "text": [
      "100%|████████████████████████████████████████████████████████████████████████████████████| 1/1 [00:00<00:00,  1.27it/s]\n"
     ]
    },
    {
     "name": "stdout",
     "output_type": "stream",
     "text": [
      "Iter 0 - Epoch 0 - Client Type: Benign - Client Number 11 - Poison Training False\n"
     ]
    },
    {
     "name": "stderr",
     "output_type": "stream",
     "text": [
      "100%|████████████████████████████████████████████████████████████████████████████████████| 2/2 [00:01<00:00,  1.58it/s]\n"
     ]
    },
    {
     "name": "stdout",
     "output_type": "stream",
     "text": [
      "Iter 0 - Epoch 0 - Client Type: Benign - Client Number 12 - Poison Training False\n"
     ]
    },
    {
     "name": "stderr",
     "output_type": "stream",
     "text": [
      "100%|████████████████████████████████████████████████████████████████████████████████████| 1/1 [00:00<00:00,  1.52it/s]\n"
     ]
    },
    {
     "name": "stdout",
     "output_type": "stream",
     "text": [
      "Iter 0 - Epoch 0 - Client Type: Benign - Client Number 13 - Poison Training False\n"
     ]
    },
    {
     "name": "stderr",
     "output_type": "stream",
     "text": [
      "100%|████████████████████████████████████████████████████████████████████████████████████| 2/2 [00:01<00:00,  1.55it/s]\n"
     ]
    },
    {
     "name": "stdout",
     "output_type": "stream",
     "text": [
      "Iter 0 - Epoch 0 - Client Type: Benign - Client Number 14 - Poison Training False\n"
     ]
    },
    {
     "name": "stderr",
     "output_type": "stream",
     "text": [
      "100%|████████████████████████████████████████████████████████████████████████████████████| 2/2 [00:01<00:00,  1.22it/s]\n"
     ]
    },
    {
     "name": "stdout",
     "output_type": "stream",
     "text": [
      "Iter 0 - Epoch 0 - Client Type: Benign - Client Number 15 - Poison Training False\n"
     ]
    },
    {
     "name": "stderr",
     "output_type": "stream",
     "text": [
      "100%|████████████████████████████████████████████████████████████████████████████████████| 2/2 [00:01<00:00,  1.75it/s]\n"
     ]
    },
    {
     "name": "stdout",
     "output_type": "stream",
     "text": [
      "Iter 0 - Epoch 0 - Client Type: Benign - Client Number 16 - Poison Training False\n"
     ]
    },
    {
     "name": "stderr",
     "output_type": "stream",
     "text": [
      "100%|████████████████████████████████████████████████████████████████████████████████████| 1/1 [00:00<00:00,  1.07it/s]\n"
     ]
    },
    {
     "name": "stdout",
     "output_type": "stream",
     "text": [
      "Iter 0 - Epoch 0 - Client Type: Benign - Client Number 17 - Poison Training False\n"
     ]
    },
    {
     "name": "stderr",
     "output_type": "stream",
     "text": [
      "100%|████████████████████████████████████████████████████████████████████████████████████| 2/2 [00:01<00:00,  1.68it/s]\n"
     ]
    },
    {
     "name": "stdout",
     "output_type": "stream",
     "text": [
      "Iter 0 - Epoch 0 - Client Type: Benign - Client Number 18 - Poison Training False\n"
     ]
    },
    {
     "name": "stderr",
     "output_type": "stream",
     "text": [
      "100%|████████████████████████████████████████████████████████████████████████████████████| 2/2 [00:01<00:00,  1.68it/s]\n"
     ]
    },
    {
     "name": "stdout",
     "output_type": "stream",
     "text": [
      "Iter 0 - Epoch 0 - Client Type: Benign - Client Number 19 - Poison Training False\n"
     ]
    },
    {
     "name": "stderr",
     "output_type": "stream",
     "text": [
      "100%|████████████████████████████████████████████████████████████████████████████████████| 2/2 [00:01<00:00,  1.26it/s]\n"
     ]
    },
    {
     "name": "stdout",
     "output_type": "stream",
     "text": [
      "Original Copylist [8, 4, 8, 7, 0, 5, 3, 8, 8, 6, 8, 7, 2, 6, 1, 7, 4, 7, 0, 1]\n",
      "Found clusters [6 5 6 2 0 7 8 6 6 4 6 2 3 4 1 2 5 2 0 1]\n",
      "Original groups [array([ 4, 18], dtype=int64), array([14, 19], dtype=int64), array([12], dtype=int64), array([6], dtype=int64), array([ 1, 16], dtype=int64), array([5], dtype=int64), array([ 9, 13], dtype=int64), array([ 3, 11, 15, 17], dtype=int64), array([ 0,  2,  7,  8, 10], dtype=int64)]\n",
      "Clustered groups [array([ 4, 18], dtype=int64), array([14, 19], dtype=int64), array([ 3, 11, 15, 17], dtype=int64), array([12], dtype=int64), array([ 9, 13], dtype=int64), array([ 1, 16], dtype=int64), array([ 0,  2,  7,  8, 10], dtype=int64), array([5], dtype=int64), array([6], dtype=int64)]\n",
      "Clustering score 1.0\n",
      "[[ 9.99987126e-01 -2.92258240e-02  9.99286074e-01  3.19191599e-02\n",
      "   1.85432727e-01  1.73746890e-01  3.15652362e-01  9.99025907e-01\n",
      "   9.99178968e-01  1.27751296e-02  9.98841376e-01  4.30818422e-03\n",
      "   6.62284848e-01  8.56620034e-03  2.79378948e-01 -2.40092564e-03\n",
      "  -4.35774938e-02  2.52752675e-02  1.33976729e-01  3.28800828e-01]\n",
      " [-2.92258221e-02  9.99984622e-01 -2.38826045e-02  2.55566509e-01\n",
      "   4.57848025e-01  1.51457861e-01  1.71088236e-01 -1.76954355e-02\n",
      "  -2.22506670e-02  3.76706555e-01 -2.06263325e-02  2.08994684e-01\n",
      "  -1.84886540e-01  4.01987375e-01  1.33955808e-01  2.31091717e-01\n",
      "   9.99364333e-01  2.45677764e-01  5.45896031e-01  8.50610276e-02]\n",
      " [ 9.99286074e-01 -2.38826045e-02  9.99980927e-01  3.19601482e-02\n",
      "   1.83492394e-01  1.70247341e-01  3.15095728e-01  9.99302823e-01\n",
      "   9.99342399e-01  1.58043792e-02  9.98955456e-01  3.87374956e-03\n",
      "   6.57161487e-01  1.17086687e-02  2.72593169e-01 -2.73410562e-03\n",
      "  -3.83640023e-02  2.46980453e-02  1.33168526e-01  3.21353127e-01]\n",
      " [ 3.19191599e-02  2.55566509e-01  3.19601519e-02  1.00000000e+00\n",
      "   4.98015844e-01  6.43694234e-01  6.00778297e-01  3.45237879e-02\n",
      "   3.49491340e-02  5.98029463e-01  3.07243922e-02  9.90911426e-01\n",
      "   5.72323815e-02  5.69245115e-01  8.10377013e-02  9.90155063e-01\n",
      "   2.53390819e-01  9.93680942e-01  5.33339155e-01  1.25964571e-01]\n",
      " [ 1.85432712e-01  4.57848025e-01  1.83492409e-01  4.98015844e-01\n",
      "   9.99976993e-01  4.00193710e-01  3.55158884e-01  1.85274600e-01\n",
      "   1.85802877e-01  4.45955664e-01  1.87525138e-01  4.73335733e-01\n",
      "   6.79909549e-02  4.52187045e-01  2.45483175e-01  4.81277633e-01\n",
      "   4.58212289e-01  4.77386090e-01  9.81391624e-01  2.63591526e-01]\n",
      " [ 1.73746890e-01  1.51457861e-01  1.70247341e-01  6.43694174e-01\n",
      "   4.00193680e-01  9.99980212e-01  6.51825046e-01  1.75414450e-01\n",
      "   1.74766699e-01  5.30314001e-01  1.70410877e-01  6.24666670e-01\n",
      "   1.50911107e-01  5.17959417e-01  2.88779603e-01  6.25732134e-01\n",
      "   1.48513067e-01  6.32403446e-01  4.32852734e-01  3.46539207e-01]\n",
      " [ 3.15652391e-01  1.71088236e-01  3.15095728e-01  6.00778297e-01\n",
      "   3.55158884e-01  6.51825046e-01  9.99993324e-01  3.17041232e-01\n",
      "   3.19400143e-01  4.50546232e-01  3.15189752e-01  5.79706050e-01\n",
      "   1.94447944e-01  4.19193082e-01  1.95192029e-01  5.73702650e-01\n",
      "   1.67851506e-01  5.87263063e-01  4.19002859e-01  2.53905461e-01]\n",
      " [ 9.99025847e-01 -1.76954373e-02  9.99302823e-01  3.45237879e-02\n",
      "   1.85274585e-01  1.75414435e-01  3.17041202e-01  9.99980927e-01\n",
      "   9.99329644e-01  1.50923283e-02  9.99172948e-01  5.27045432e-03\n",
      "   6.57096520e-01  1.13783895e-02  2.67654518e-01 -1.21145365e-03\n",
      "  -3.22865234e-02  2.67510040e-02  1.35968469e-01  3.16655600e-01]\n",
      " [ 9.99179027e-01 -2.22506670e-02  9.99342399e-01  3.49491340e-02\n",
      "   1.85802877e-01  1.74766699e-01  3.19400143e-01  9.99329644e-01\n",
      "   9.99988675e-01  1.82016481e-02  9.99131703e-01  6.62534752e-03\n",
      "   6.57774505e-01  1.41010818e-02  2.72743875e-01 -4.06143596e-04\n",
      "  -3.68079413e-02  2.71154507e-02  1.35995484e-01  3.22001996e-01]\n",
      " [ 1.27751296e-02  3.76706555e-01  1.58043810e-02  5.98029403e-01\n",
      "   4.45955634e-01  5.30314001e-01  4.50546232e-01  1.50923283e-02\n",
      "   1.82016481e-02  9.99976636e-01  8.72813163e-03  6.04157374e-01\n",
      "  -1.54413322e-02  9.91573020e-01  3.87935564e-01  6.01623468e-01\n",
      "   3.72521347e-01  5.81968463e-01  4.90639130e-01  3.98241173e-01]\n",
      " [ 9.98841376e-01 -2.06263344e-02  9.98955397e-01  3.07243904e-02\n",
      "   1.87525152e-01  1.70410877e-01  3.15189752e-01  9.99172888e-01\n",
      "   9.99131703e-01  8.72813163e-03  9.99985695e-01  1.30168419e-03\n",
      "   6.59417046e-01  4.45837603e-03  2.67163508e-01 -5.70288947e-03\n",
      "  -3.50638177e-02  2.25798156e-02  1.37222130e-01  3.16830208e-01]\n",
      " [ 4.30818422e-03  2.08994684e-01  3.87374933e-03  9.90911426e-01\n",
      "   4.73335704e-01  6.24666610e-01  5.79706050e-01  5.27045385e-03\n",
      "   6.62534752e-03  6.04157374e-01  1.30168419e-03  9.99999046e-01\n",
      "   6.27998332e-02  5.75010580e-01  1.09023025e-01  9.96227722e-01\n",
      "   2.07776204e-01  9.91426576e-01  5.03251288e-01  1.52693537e-01]\n",
      " [ 6.62284848e-01 -1.84886540e-01  6.57161547e-01  5.72323778e-02\n",
      "   6.79909549e-02  1.50911092e-01  1.94447930e-01  6.57096520e-01\n",
      "   6.57774505e-01 -1.54413331e-02  6.59417046e-01  6.27998332e-02\n",
      "   9.99976874e-01 -3.67368461e-02  5.26345569e-01  4.63517596e-02\n",
      "  -1.91151910e-01  7.40721740e-02  6.11484911e-03  5.65864787e-01]\n",
      " [ 8.56619941e-03  4.01987375e-01  1.17086678e-02  5.69245115e-01\n",
      "   4.52187045e-01  5.17959417e-01  4.19193052e-01  1.13783885e-02\n",
      "   1.41010827e-02  9.91572961e-01  4.45837556e-03  5.75010639e-01\n",
      "  -3.67368498e-02  9.99979616e-01  4.04963147e-01  5.75821539e-01\n",
      "   3.97931684e-01  5.52832397e-01  4.96131075e-01  4.05957297e-01]\n",
      " [ 2.79378948e-01  1.33955808e-01  2.72593169e-01  8.10377013e-02\n",
      "   2.45483160e-01  2.88779603e-01  1.95192029e-01  2.67654518e-01\n",
      "   2.72743875e-01  3.87935594e-01  2.67163478e-01  1.09023018e-01\n",
      "   5.26345569e-01  4.04963147e-01  9.99973417e-01  1.08527217e-01\n",
      "   1.35319437e-01  1.03397338e-01  2.26342499e-01  9.87888895e-01]\n",
      " [-2.40092564e-03  2.31091717e-01 -2.73410562e-03  9.90155063e-01\n",
      "   4.81277633e-01  6.25732134e-01  5.73702650e-01 -1.21145353e-03\n",
      "  -4.06143567e-04  6.01623468e-01 -5.70288947e-03  9.96227662e-01\n",
      "   4.63517633e-02  5.75821539e-01  1.08527217e-01  9.99997497e-01\n",
      "   2.30208340e-01  9.93466848e-01  5.13478995e-01  1.48639977e-01]\n",
      " [-4.35774938e-02  9.99364393e-01 -3.83639986e-02  2.53390819e-01\n",
      "   4.58212260e-01  1.48513052e-01  1.67851506e-01 -3.22865234e-02\n",
      "  -3.68079413e-02  3.72521347e-01 -3.50638140e-02  2.07776189e-01\n",
      "  -1.91151910e-01  3.97931684e-01  1.35319437e-01  2.30208340e-01\n",
      "   9.99980927e-01  2.43981223e-01  5.46359504e-01  8.60933155e-02]\n",
      " [ 2.52752675e-02  2.45677764e-01  2.46980453e-02  9.93680942e-01\n",
      "   4.77386090e-01  6.32403386e-01  5.87263123e-01  2.67510022e-02\n",
      "   2.71154507e-02  5.81968463e-01  2.25798156e-02  9.91426576e-01\n",
      "   7.40721740e-02  5.52832338e-01  1.03397338e-01  9.93466789e-01\n",
      "   2.43981208e-01  9.99994636e-01  5.10926732e-01  1.45338906e-01]\n",
      " [ 1.33976743e-01  5.45896031e-01  1.33168526e-01  5.33339155e-01\n",
      "   9.81391624e-01  4.32852704e-01  4.19002859e-01  1.35968469e-01\n",
      "   1.35995484e-01  4.90639100e-01  1.37222130e-01  5.03251288e-01\n",
      "   6.11484911e-03  4.96131075e-01  2.26342485e-01  5.13479055e-01\n",
      "   5.46359445e-01  5.10926673e-01  9.99979854e-01  2.38373528e-01]\n",
      " [ 3.28800828e-01  8.50610276e-02  3.21353097e-01  1.25964571e-01\n",
      "   2.63591496e-01  3.46539207e-01  2.53905461e-01  3.16655571e-01\n",
      "   3.22001996e-01  3.98241173e-01  3.16830208e-01  1.52693537e-01\n",
      "   5.65864727e-01  4.05957297e-01  9.87888895e-01  1.48639962e-01\n",
      "   8.60933155e-02  1.45338906e-01  2.38373528e-01  9.99976755e-01]]\n",
      "Original Copylist [8, 4, 8, 7, 0, 5, 3, 8, 8, 6, 8, 7, 2, 6, 1, 7, 4, 7, 0, 1]\n",
      "Found clusters [6 5 6 2 0 7 8 6 6 4 6 2 3 4 1 2 5 2 0 1]\n",
      "Original groups [array([ 4, 18], dtype=int64), array([14, 19], dtype=int64), array([12], dtype=int64), array([6], dtype=int64), array([ 1, 16], dtype=int64), array([5], dtype=int64), array([ 9, 13], dtype=int64), array([ 3, 11, 15, 17], dtype=int64), array([ 0,  2,  7,  8, 10], dtype=int64)]\n",
      "Clustered groups [array([ 4, 18], dtype=int64), array([14, 19], dtype=int64), array([ 3, 11, 15, 17], dtype=int64), array([12], dtype=int64), array([ 9, 13], dtype=int64), array([ 1, 16], dtype=int64), array([ 0,  2,  7,  8, 10], dtype=int64), array([5], dtype=int64), array([6], dtype=int64)]\n",
      "Clustering score 1.0\n",
      "\n",
      "\n",
      " Entering epoch 1\n",
      "Iter 0 - Epoch 0 - Client Type: Benign - Client Number 0 - Poison Training False\n"
     ]
    },
    {
     "name": "stderr",
     "output_type": "stream",
     "text": [
      "100%|████████████████████████████████████████████████████████████████████████████████████| 1/1 [00:00<00:00,  1.30it/s]\n"
     ]
    },
    {
     "name": "stdout",
     "output_type": "stream",
     "text": [
      "Iter 0 - Epoch 0 - Client Type: Benign - Client Number 1 - Poison Training False\n"
     ]
    },
    {
     "name": "stderr",
     "output_type": "stream",
     "text": [
      "100%|████████████████████████████████████████████████████████████████████████████████████| 1/1 [00:00<00:00,  1.11it/s]\n"
     ]
    },
    {
     "name": "stdout",
     "output_type": "stream",
     "text": [
      "Iter 0 - Epoch 0 - Client Type: Benign - Client Number 2 - Poison Training False\n"
     ]
    },
    {
     "name": "stderr",
     "output_type": "stream",
     "text": [
      "100%|████████████████████████████████████████████████████████████████████████████████████| 1/1 [00:00<00:00,  1.14it/s]\n"
     ]
    },
    {
     "name": "stdout",
     "output_type": "stream",
     "text": [
      "Iter 0 - Epoch 0 - Client Type: Benign - Client Number 3 - Poison Training False\n"
     ]
    },
    {
     "name": "stderr",
     "output_type": "stream",
     "text": [
      "100%|████████████████████████████████████████████████████████████████████████████████████| 2/2 [00:01<00:00,  1.65it/s]\n"
     ]
    },
    {
     "name": "stdout",
     "output_type": "stream",
     "text": [
      "Iter 0 - Epoch 0 - Client Type: Benign - Client Number 4 - Poison Training False\n"
     ]
    },
    {
     "name": "stderr",
     "output_type": "stream",
     "text": [
      "100%|████████████████████████████████████████████████████████████████████████████████████| 2/2 [00:01<00:00,  1.63it/s]\n"
     ]
    },
    {
     "name": "stdout",
     "output_type": "stream",
     "text": [
      "Iter 0 - Epoch 0 - Client Type: Benign - Client Number 5 - Poison Training False\n"
     ]
    },
    {
     "name": "stderr",
     "output_type": "stream",
     "text": [
      "100%|████████████████████████████████████████████████████████████████████████████████████| 2/2 [00:01<00:00,  1.19it/s]\n"
     ]
    },
    {
     "name": "stdout",
     "output_type": "stream",
     "text": [
      "Iter 0 - Epoch 0 - Client Type: Benign - Client Number 6 - Poison Training False\n"
     ]
    },
    {
     "name": "stderr",
     "output_type": "stream",
     "text": [
      "100%|████████████████████████████████████████████████████████████████████████████████████| 2/2 [00:01<00:00,  1.37it/s]\n"
     ]
    },
    {
     "name": "stdout",
     "output_type": "stream",
     "text": [
      "Iter 0 - Epoch 0 - Client Type: Benign - Client Number 7 - Poison Training False\n"
     ]
    },
    {
     "name": "stderr",
     "output_type": "stream",
     "text": [
      "100%|████████████████████████████████████████████████████████████████████████████████████| 1/1 [00:00<00:00,  1.24it/s]\n"
     ]
    },
    {
     "name": "stdout",
     "output_type": "stream",
     "text": [
      "Iter 0 - Epoch 0 - Client Type: Benign - Client Number 8 - Poison Training False\n"
     ]
    },
    {
     "name": "stderr",
     "output_type": "stream",
     "text": [
      "100%|████████████████████████████████████████████████████████████████████████████████████| 1/1 [00:00<00:00,  1.23it/s]\n"
     ]
    },
    {
     "name": "stdout",
     "output_type": "stream",
     "text": [
      "Iter 0 - Epoch 0 - Client Type: Benign - Client Number 9 - Poison Training False\n"
     ]
    },
    {
     "name": "stderr",
     "output_type": "stream",
     "text": [
      "100%|████████████████████████████████████████████████████████████████████████████████████| 2/2 [00:01<00:00,  1.69it/s]\n"
     ]
    },
    {
     "name": "stdout",
     "output_type": "stream",
     "text": [
      "Iter 0 - Epoch 0 - Client Type: Benign - Client Number 10 - Poison Training False\n"
     ]
    },
    {
     "name": "stderr",
     "output_type": "stream",
     "text": [
      "100%|████████████████████████████████████████████████████████████████████████████████████| 1/1 [00:00<00:00,  1.09it/s]\n"
     ]
    },
    {
     "name": "stdout",
     "output_type": "stream",
     "text": [
      "Iter 0 - Epoch 0 - Client Type: Benign - Client Number 11 - Poison Training False\n"
     ]
    },
    {
     "name": "stderr",
     "output_type": "stream",
     "text": [
      "100%|████████████████████████████████████████████████████████████████████████████████████| 2/2 [00:01<00:00,  1.78it/s]\n"
     ]
    },
    {
     "name": "stdout",
     "output_type": "stream",
     "text": [
      "Iter 0 - Epoch 0 - Client Type: Benign - Client Number 12 - Poison Training False\n"
     ]
    },
    {
     "name": "stderr",
     "output_type": "stream",
     "text": [
      "100%|████████████████████████████████████████████████████████████████████████████████████| 1/1 [00:00<00:00,  1.71it/s]\n"
     ]
    },
    {
     "name": "stdout",
     "output_type": "stream",
     "text": [
      "Iter 0 - Epoch 0 - Client Type: Benign - Client Number 13 - Poison Training False\n"
     ]
    },
    {
     "name": "stderr",
     "output_type": "stream",
     "text": [
      "100%|████████████████████████████████████████████████████████████████████████████████████| 2/2 [00:01<00:00,  1.53it/s]\n"
     ]
    },
    {
     "name": "stdout",
     "output_type": "stream",
     "text": [
      "Iter 0 - Epoch 0 - Client Type: Benign - Client Number 14 - Poison Training False\n"
     ]
    },
    {
     "name": "stderr",
     "output_type": "stream",
     "text": [
      "100%|████████████████████████████████████████████████████████████████████████████████████| 2/2 [00:01<00:00,  1.02it/s]\n"
     ]
    },
    {
     "name": "stdout",
     "output_type": "stream",
     "text": [
      "Iter 0 - Epoch 0 - Client Type: Benign - Client Number 15 - Poison Training False\n"
     ]
    },
    {
     "name": "stderr",
     "output_type": "stream",
     "text": [
      "100%|████████████████████████████████████████████████████████████████████████████████████| 2/2 [00:01<00:00,  1.75it/s]\n"
     ]
    },
    {
     "name": "stdout",
     "output_type": "stream",
     "text": [
      "Iter 0 - Epoch 0 - Client Type: Benign - Client Number 16 - Poison Training False\n"
     ]
    },
    {
     "name": "stderr",
     "output_type": "stream",
     "text": [
      "100%|████████████████████████████████████████████████████████████████████████████████████| 1/1 [00:00<00:00,  1.11it/s]\n"
     ]
    },
    {
     "name": "stdout",
     "output_type": "stream",
     "text": [
      "Iter 0 - Epoch 0 - Client Type: Benign - Client Number 17 - Poison Training False\n"
     ]
    },
    {
     "name": "stderr",
     "output_type": "stream",
     "text": [
      "100%|████████████████████████████████████████████████████████████████████████████████████| 2/2 [00:01<00:00,  1.45it/s]\n"
     ]
    },
    {
     "name": "stdout",
     "output_type": "stream",
     "text": [
      "Iter 0 - Epoch 0 - Client Type: Benign - Client Number 18 - Poison Training False\n"
     ]
    },
    {
     "name": "stderr",
     "output_type": "stream",
     "text": [
      "100%|████████████████████████████████████████████████████████████████████████████████████| 2/2 [00:01<00:00,  1.50it/s]\n"
     ]
    },
    {
     "name": "stdout",
     "output_type": "stream",
     "text": [
      "Iter 0 - Epoch 0 - Client Type: Benign - Client Number 19 - Poison Training False\n"
     ]
    },
    {
     "name": "stderr",
     "output_type": "stream",
     "text": [
      "100%|████████████████████████████████████████████████████████████████████████████████████| 2/2 [00:01<00:00,  1.16it/s]\n"
     ]
    },
    {
     "name": "stdout",
     "output_type": "stream",
     "text": [
      "Original Copylist [8, 4, 8, 7, 0, 5, 3, 8, 8, 6, 8, 7, 2, 6, 1, 7, 4, 7, 0, 1]\n",
      "Found clusters [8 4 8 3 2 7 6 8 8 1 8 3 5 1 0 3 4 3 2 0]\n",
      "Original groups [array([ 4, 18], dtype=int64), array([14, 19], dtype=int64), array([12], dtype=int64), array([6], dtype=int64), array([ 1, 16], dtype=int64), array([5], dtype=int64), array([ 9, 13], dtype=int64), array([ 3, 11, 15, 17], dtype=int64), array([ 0,  2,  7,  8, 10], dtype=int64)]\n",
      "Clustered groups [array([14, 19], dtype=int64), array([ 9, 13], dtype=int64), array([ 4, 18], dtype=int64), array([ 3, 11, 15, 17], dtype=int64), array([ 1, 16], dtype=int64), array([12], dtype=int64), array([6], dtype=int64), array([5], dtype=int64), array([ 0,  2,  7,  8, 10], dtype=int64)]\n",
      "Clustering score 1.0\n",
      "[[0.99999362 0.33056753 0.99931972 0.30544851 0.29869118 0.42009603\n",
      "  0.38393578 0.99910047 0.99920426 0.1699822  0.99902331 0.2811621\n",
      "  0.64654194 0.14931086 0.19474517 0.27639989 0.32270451 0.29414373\n",
      "  0.26979661 0.24019314]\n",
      " [0.33056753 0.99999034 0.3339994  0.4665931  0.41822676 0.40067087\n",
      "  0.41301249 0.33698961 0.33492182 0.37577561 0.33633881 0.42438792\n",
      "  0.11487426 0.36944463 0.12773912 0.4339203  0.99894367 0.45005231\n",
      "  0.48072304 0.07028293]\n",
      " [0.99931969 0.33399937 0.99998808 0.30496943 0.29875312 0.41695663\n",
      "  0.38231391 0.99936385 0.99938117 0.17352472 0.99904101 0.28022466\n",
      "  0.64380263 0.15323584 0.19035417 0.27558234 0.32600253 0.29317206\n",
      "  0.27063716 0.23564575]\n",
      " [0.30544854 0.4665931  0.3049694  1.         0.43998831 0.62103533\n",
      "  0.59341608 0.30542518 0.3066457  0.47491169 0.30535446 0.99087883\n",
      "  0.20218287 0.43661523 0.11689878 0.99011697 0.46511128 0.99361304\n",
      "  0.47728051 0.09653329]\n",
      " [0.29869119 0.41822677 0.29875311 0.43998831 0.99998397 0.36510637\n",
      "  0.31355005 0.30064218 0.30116136 0.39393354 0.30048343 0.4199881\n",
      "  0.22566466 0.39482033 0.22183708 0.42730767 0.41376332 0.41986262\n",
      "  0.97821007 0.27522035]\n",
      " [0.420096   0.40067087 0.41695663 0.6210353  0.36510636 0.9999854\n",
      "  0.63483557 0.42000603 0.4198163  0.44898246 0.41817994 0.60321523\n",
      "  0.29875053 0.42541817 0.28058114 0.6040818  0.39758294 0.60987486\n",
      "  0.39305439 0.32012282]\n",
      " [0.38393579 0.41301249 0.38231391 0.59341608 0.31355005 0.63483557\n",
      "  0.99999845 0.38280631 0.38556144 0.35977914 0.38368387 0.57289381\n",
      "  0.24986077 0.31894109 0.27271499 0.56732674 0.40938563 0.57999973\n",
      "  0.38028251 0.23995332]\n",
      " [0.99910044 0.33698958 0.99936388 0.30542518 0.30064216 0.42000599\n",
      "  0.38280628 0.99998915 0.99935953 0.17275877 0.99916791 0.27978656\n",
      "  0.64486129 0.15304394 0.18715762 0.27522381 0.32892278 0.29320367\n",
      "  0.27303614 0.23368344]\n",
      " [0.99920429 0.33492182 0.99938114 0.30664573 0.30116136 0.41981627\n",
      "  0.38556142 0.99935953 0.99999219 0.17520572 0.99914538 0.28175256\n",
      "  0.64613246 0.15496862 0.19278848 0.27670065 0.326907   0.29433399\n",
      "  0.27322084 0.23839927]\n",
      " [0.16998222 0.37577561 0.1735247  0.47491166 0.39393354 0.44898246\n",
      "  0.35977913 0.17275877 0.17520574 0.99998415 0.16764771 0.48613334\n",
      "  0.22245736 0.98832221 0.44410991 0.48279631 0.36667086 0.46095187\n",
      "  0.43355036 0.43449493]\n",
      " [0.99902334 0.33633881 0.99904095 0.30535445 0.30048344 0.41817994\n",
      "  0.38368388 0.99916785 0.99914541 0.16764771 0.99999237 0.27957756\n",
      "  0.64375098 0.14717979 0.18533096 0.27466247 0.32862749 0.2928878\n",
      "  0.27271108 0.23100707]\n",
      " [0.2811621  0.42438789 0.28022463 0.99087883 0.41998808 0.60321523\n",
      "  0.57289381 0.27978656 0.28175256 0.48613334 0.27957756 0.99999928\n",
      "  0.20873998 0.4464122  0.15021726 0.996127   0.42318267 0.99128153\n",
      "  0.45106599 0.12619079]\n",
      " [0.64654191 0.11487426 0.64380266 0.20218286 0.22566465 0.29875052\n",
      "  0.24986076 0.64486129 0.64613246 0.22245736 0.64375101 0.20874\n",
      "  0.99998301 0.20752442 0.51540213 0.19219328 0.10706164 0.21045252\n",
      "  0.17341396 0.55660455]\n",
      " [0.14931084 0.36944461 0.15323582 0.43661522 0.39482033 0.42541817\n",
      "  0.31894108 0.15304394 0.15496862 0.98832218 0.1471798  0.44641223\n",
      "  0.20752442 0.99998575 0.44776012 0.44582586 0.35964704 0.42298934\n",
      "  0.43401677 0.43911493]\n",
      " [0.19474517 0.12773912 0.19035417 0.11689878 0.22183707 0.28058115\n",
      "  0.27271499 0.18715762 0.19278848 0.44410996 0.18533095 0.15021725\n",
      "  0.51540213 0.44776012 0.9999817  0.14108316 0.12022268 0.13082259\n",
      "  0.22036432 0.9589847 ]\n",
      " [0.27639989 0.4339203  0.27558237 0.99011697 0.42730767 0.60408183\n",
      "  0.56732674 0.27522381 0.27670065 0.48279632 0.27466247 0.996127\n",
      "  0.19219327 0.44582586 0.14108316 0.99999696 0.43244668 0.99345226\n",
      "  0.4610705  0.11883371]\n",
      " [0.32270454 0.9989437  0.32600253 0.46511131 0.41376331 0.39758296\n",
      "  0.40938563 0.32892275 0.326907   0.36667086 0.32862749 0.42318267\n",
      "  0.10706163 0.35964703 0.12022269 0.43244671 0.99999201 0.44824194\n",
      "  0.47578375 0.0615036 ]\n",
      " [0.29414373 0.45005231 0.29317206 0.99361304 0.41986262 0.6098748\n",
      "  0.57999976 0.29320367 0.29433399 0.46095187 0.2928878  0.99128153\n",
      "  0.21045252 0.42298931 0.13082258 0.99345223 0.44824196 0.99999613\n",
      "  0.45495698 0.10805298]\n",
      " [0.26979661 0.48072303 0.27063716 0.47728051 0.9782101  0.39305438\n",
      "  0.38028251 0.27303614 0.27322084 0.43355035 0.27271108 0.451066\n",
      "  0.17341396 0.43401677 0.22036431 0.46107053 0.47578371 0.45495695\n",
      "  0.99998263 0.25719403]\n",
      " [0.24019314 0.07028293 0.23564573 0.09653329 0.27522032 0.3201228\n",
      "  0.23995332 0.23368343 0.23839928 0.43449493 0.23100707 0.12619079\n",
      "  0.55660452 0.43911491 0.95898467 0.1188337  0.0615036  0.10805298\n",
      "  0.25719401 0.99998158]]\n",
      "Original Copylist [8, 4, 8, 7, 0, 5, 3, 8, 8, 6, 8, 7, 2, 6, 1, 7, 4, 7, 0, 1]\n",
      "Found clusters [3 4 3 6 1 7 5 3 3 2 3 6 8 2 0 6 4 6 1 0]\n",
      "Original groups [array([ 4, 18], dtype=int64), array([14, 19], dtype=int64), array([12], dtype=int64), array([6], dtype=int64), array([ 1, 16], dtype=int64), array([5], dtype=int64), array([ 9, 13], dtype=int64), array([ 3, 11, 15, 17], dtype=int64), array([ 0,  2,  7,  8, 10], dtype=int64)]\n",
      "Clustered groups [array([14, 19], dtype=int64), array([ 4, 18], dtype=int64), array([ 9, 13], dtype=int64), array([ 0,  2,  7,  8, 10], dtype=int64), array([ 1, 16], dtype=int64), array([6], dtype=int64), array([ 3, 11, 15, 17], dtype=int64), array([5], dtype=int64), array([12], dtype=int64)]\n",
      "Clustering score 1.0\n",
      "\n",
      "\n",
      " Entering epoch 2\n",
      "Iter 0 - Epoch 0 - Client Type: Benign - Client Number 0 - Poison Training False\n"
     ]
    },
    {
     "name": "stderr",
     "output_type": "stream",
     "text": [
      "100%|████████████████████████████████████████████████████████████████████████████████████| 1/1 [00:00<00:00,  1.18it/s]\n"
     ]
    },
    {
     "name": "stdout",
     "output_type": "stream",
     "text": [
      "Iter 0 - Epoch 0 - Client Type: Benign - Client Number 1 - Poison Training False\n"
     ]
    },
    {
     "name": "stderr",
     "output_type": "stream",
     "text": [
      "100%|████████████████████████████████████████████████████████████████████████████████████| 1/1 [00:00<00:00,  1.16it/s]\n"
     ]
    },
    {
     "name": "stdout",
     "output_type": "stream",
     "text": [
      "Iter 0 - Epoch 0 - Client Type: Benign - Client Number 2 - Poison Training False\n"
     ]
    },
    {
     "name": "stderr",
     "output_type": "stream",
     "text": [
      "100%|████████████████████████████████████████████████████████████████████████████████████| 1/1 [00:00<00:00,  1.08it/s]\n"
     ]
    },
    {
     "name": "stdout",
     "output_type": "stream",
     "text": [
      "Iter 0 - Epoch 0 - Client Type: Benign - Client Number 3 - Poison Training False\n"
     ]
    },
    {
     "name": "stderr",
     "output_type": "stream",
     "text": [
      "100%|████████████████████████████████████████████████████████████████████████████████████| 2/2 [00:01<00:00,  1.54it/s]\n"
     ]
    },
    {
     "name": "stdout",
     "output_type": "stream",
     "text": [
      "Iter 0 - Epoch 0 - Client Type: Benign - Client Number 4 - Poison Training False\n"
     ]
    },
    {
     "name": "stderr",
     "output_type": "stream",
     "text": [
      "100%|████████████████████████████████████████████████████████████████████████████████████| 2/2 [00:01<00:00,  1.40it/s]\n"
     ]
    },
    {
     "name": "stdout",
     "output_type": "stream",
     "text": [
      "Iter 0 - Epoch 0 - Client Type: Benign - Client Number 5 - Poison Training False\n"
     ]
    },
    {
     "name": "stderr",
     "output_type": "stream",
     "text": [
      "100%|████████████████████████████████████████████████████████████████████████████████████| 2/2 [00:01<00:00,  1.35it/s]\n"
     ]
    },
    {
     "name": "stdout",
     "output_type": "stream",
     "text": [
      "Iter 0 - Epoch 0 - Client Type: Benign - Client Number 6 - Poison Training False\n"
     ]
    },
    {
     "name": "stderr",
     "output_type": "stream",
     "text": [
      "100%|████████████████████████████████████████████████████████████████████████████████████| 2/2 [00:01<00:00,  1.24it/s]\n"
     ]
    },
    {
     "name": "stdout",
     "output_type": "stream",
     "text": [
      "Iter 0 - Epoch 0 - Client Type: Benign - Client Number 7 - Poison Training False\n"
     ]
    },
    {
     "name": "stderr",
     "output_type": "stream",
     "text": [
      "100%|████████████████████████████████████████████████████████████████████████████████████| 1/1 [00:00<00:00,  1.20it/s]\n"
     ]
    },
    {
     "name": "stdout",
     "output_type": "stream",
     "text": [
      "Iter 0 - Epoch 0 - Client Type: Benign - Client Number 8 - Poison Training False\n"
     ]
    },
    {
     "name": "stderr",
     "output_type": "stream",
     "text": [
      "100%|████████████████████████████████████████████████████████████████████████████████████| 1/1 [00:00<00:00,  1.23it/s]\n"
     ]
    },
    {
     "name": "stdout",
     "output_type": "stream",
     "text": [
      "Iter 0 - Epoch 0 - Client Type: Benign - Client Number 9 - Poison Training False\n"
     ]
    },
    {
     "name": "stderr",
     "output_type": "stream",
     "text": [
      "100%|████████████████████████████████████████████████████████████████████████████████████| 2/2 [00:01<00:00,  1.41it/s]\n"
     ]
    },
    {
     "name": "stdout",
     "output_type": "stream",
     "text": [
      "Iter 0 - Epoch 0 - Client Type: Benign - Client Number 10 - Poison Training False\n"
     ]
    },
    {
     "name": "stderr",
     "output_type": "stream",
     "text": [
      "100%|████████████████████████████████████████████████████████████████████████████████████| 1/1 [00:00<00:00,  1.07it/s]\n"
     ]
    },
    {
     "name": "stdout",
     "output_type": "stream",
     "text": [
      "Iter 0 - Epoch 0 - Client Type: Benign - Client Number 11 - Poison Training False\n"
     ]
    },
    {
     "name": "stderr",
     "output_type": "stream",
     "text": [
      "100%|████████████████████████████████████████████████████████████████████████████████████| 2/2 [00:01<00:00,  1.69it/s]\n"
     ]
    },
    {
     "name": "stdout",
     "output_type": "stream",
     "text": [
      "Iter 0 - Epoch 0 - Client Type: Benign - Client Number 12 - Poison Training False\n"
     ]
    },
    {
     "name": "stderr",
     "output_type": "stream",
     "text": [
      "100%|████████████████████████████████████████████████████████████████████████████████████| 1/1 [00:00<00:00,  1.59it/s]\n"
     ]
    },
    {
     "name": "stdout",
     "output_type": "stream",
     "text": [
      "Iter 0 - Epoch 0 - Client Type: Benign - Client Number 13 - Poison Training False\n"
     ]
    },
    {
     "name": "stderr",
     "output_type": "stream",
     "text": [
      "100%|████████████████████████████████████████████████████████████████████████████████████| 2/2 [00:01<00:00,  1.45it/s]\n"
     ]
    },
    {
     "name": "stdout",
     "output_type": "stream",
     "text": [
      "Iter 0 - Epoch 0 - Client Type: Benign - Client Number 14 - Poison Training False\n"
     ]
    },
    {
     "name": "stderr",
     "output_type": "stream",
     "text": [
      "100%|████████████████████████████████████████████████████████████████████████████████████| 2/2 [00:01<00:00,  1.16it/s]\n"
     ]
    },
    {
     "name": "stdout",
     "output_type": "stream",
     "text": [
      "Iter 0 - Epoch 0 - Client Type: Benign - Client Number 15 - Poison Training False\n"
     ]
    },
    {
     "name": "stderr",
     "output_type": "stream",
     "text": [
      "100%|████████████████████████████████████████████████████████████████████████████████████| 2/2 [00:01<00:00,  1.62it/s]\n"
     ]
    },
    {
     "name": "stdout",
     "output_type": "stream",
     "text": [
      "Iter 0 - Epoch 0 - Client Type: Benign - Client Number 16 - Poison Training False\n"
     ]
    },
    {
     "name": "stderr",
     "output_type": "stream",
     "text": [
      "100%|████████████████████████████████████████████████████████████████████████████████████| 1/1 [00:00<00:00,  1.02it/s]\n"
     ]
    },
    {
     "name": "stdout",
     "output_type": "stream",
     "text": [
      "Iter 0 - Epoch 0 - Client Type: Benign - Client Number 17 - Poison Training False\n"
     ]
    },
    {
     "name": "stderr",
     "output_type": "stream",
     "text": [
      "100%|████████████████████████████████████████████████████████████████████████████████████| 2/2 [00:01<00:00,  1.47it/s]\n"
     ]
    },
    {
     "name": "stdout",
     "output_type": "stream",
     "text": [
      "Iter 0 - Epoch 0 - Client Type: Benign - Client Number 18 - Poison Training False\n"
     ]
    },
    {
     "name": "stderr",
     "output_type": "stream",
     "text": [
      "100%|████████████████████████████████████████████████████████████████████████████████████| 2/2 [00:01<00:00,  1.46it/s]\n"
     ]
    },
    {
     "name": "stdout",
     "output_type": "stream",
     "text": [
      "Iter 0 - Epoch 0 - Client Type: Benign - Client Number 19 - Poison Training False\n"
     ]
    },
    {
     "name": "stderr",
     "output_type": "stream",
     "text": [
      "100%|████████████████████████████████████████████████████████████████████████████████████| 2/2 [00:01<00:00,  1.32it/s]\n"
     ]
    },
    {
     "name": "stdout",
     "output_type": "stream",
     "text": [
      "Original Copylist [8, 4, 8, 7, 0, 5, 3, 8, 8, 6, 8, 7, 2, 6, 1, 7, 4, 7, 0, 1]\n",
      "Found clusters [8 3 8 5 2 6 7 8 8 1 8 5 4 1 0 5 3 5 2 0]\n",
      "Original groups [array([ 4, 18], dtype=int64), array([14, 19], dtype=int64), array([12], dtype=int64), array([6], dtype=int64), array([ 1, 16], dtype=int64), array([5], dtype=int64), array([ 9, 13], dtype=int64), array([ 3, 11, 15, 17], dtype=int64), array([ 0,  2,  7,  8, 10], dtype=int64)]\n",
      "Clustered groups [array([14, 19], dtype=int64), array([ 9, 13], dtype=int64), array([ 4, 18], dtype=int64), array([ 1, 16], dtype=int64), array([12], dtype=int64), array([ 3, 11, 15, 17], dtype=int64), array([5], dtype=int64), array([6], dtype=int64), array([ 0,  2,  7,  8, 10], dtype=int64)]\n",
      "Clustering score 1.0\n",
      "[[0.99999782 0.51353975 0.99931728 0.44561704 0.3544555  0.53159221\n",
      "  0.41836073 0.99907817 0.99916827 0.28779692 0.99908641 0.420904\n",
      "  0.5003802  0.32506075 0.35027137 0.41935799 0.50866213 0.4333736\n",
      "  0.32835481 0.3592381 ]\n",
      " [0.51353972 0.99999744 0.51597191 0.56560445 0.40728349 0.51254411\n",
      "  0.51404716 0.51760863 0.51642865 0.41274329 0.51772451 0.52392315\n",
      "  0.17695564 0.45084672 0.33354136 0.52973296 0.99866873 0.54755088\n",
      "  0.4324493  0.28006963]\n",
      " [0.99931727 0.5159719  0.99999613 0.44467522 0.35580295 0.52931817\n",
      "  0.41639571 0.99936364 0.99937656 0.29098561 0.99906683 0.41952858\n",
      "  0.50078099 0.32761272 0.34670608 0.41811389 0.51095202 0.43199707\n",
      "  0.33014218 0.35793081]\n",
      " [0.44561706 0.56560448 0.4446752  1.         0.40490778 0.59501162\n",
      "  0.56167878 0.4442008  0.44533319 0.43840326 0.44570791 0.98985057\n",
      "  0.17332258 0.47016266 0.33041387 0.98997668 0.56425302 0.9933423\n",
      "  0.42631607 0.28330582]\n",
      " [0.3544555  0.4072835  0.35580294 0.40490779 0.99998638 0.36757173\n",
      "  0.32026884 0.35823478 0.3591903  0.40943117 0.35621828 0.38885385\n",
      "  0.31184178 0.40796232 0.34544844 0.39417189 0.39839367 0.38357445\n",
      "  0.97545999 0.38888788]\n",
      " [0.53159219 0.51254411 0.52931817 0.59501158 0.36757171 0.99999049\n",
      "  0.60701557 0.5317329  0.53172309 0.47642096 0.5304271  0.57856101\n",
      "  0.29811397 0.5008942  0.47919866 0.57990126 0.50792717 0.58463177\n",
      "  0.38050331 0.42987244]\n",
      " [0.41836074 0.51404716 0.41639573 0.56167878 0.32026886 0.60701557\n",
      "  0.99999899 0.41676118 0.41881296 0.34159085 0.4177776  0.54146267\n",
      "  0.25107084 0.3484617  0.44933923 0.53757509 0.50945185 0.54936953\n",
      "  0.35979461 0.35380677]\n",
      " [0.99907815 0.51760864 0.99936372 0.44420083 0.35823476 0.53173289\n",
      "  0.41676116 0.99999762 0.99934276 0.29071345 0.99911627 0.41835452\n",
      "  0.5030707  0.32713667 0.34522533 0.41693426 0.51252459 0.43111902\n",
      "  0.33290365 0.35686635]\n",
      " [0.99916826 0.51642865 0.99937655 0.44533324 0.3591903  0.53172305\n",
      "  0.41881296 0.99934282 0.99999967 0.29279958 0.99911225 0.42016869\n",
      "  0.50446688 0.32894804 0.3494742  0.41828395 0.51141088 0.43214373\n",
      "  0.33330807 0.3600002 ]\n",
      " [0.28779692 0.41274331 0.2909856  0.43840323 0.40943119 0.47642096\n",
      "  0.34159084 0.29071345 0.29279959 0.99998987 0.28668997 0.44804978\n",
      "  0.36479819 0.9589009  0.54167843 0.44295204 0.40062841 0.42445346\n",
      "  0.43337282 0.53441809]\n",
      " [0.99908646 0.51772451 0.99906677 0.44570791 0.35621829 0.5304271\n",
      "  0.4177776  0.99911627 0.99911223 0.28668997 0.99999702 0.41966988\n",
      "  0.49731632 0.32317237 0.34420063 0.41806386 0.51312093 0.43248735\n",
      "  0.33078832 0.35245501]\n",
      " [0.420904   0.52392314 0.41952856 0.98985057 0.38885383 0.57856101\n",
      "  0.54146264 0.41835452 0.42016869 0.44804978 0.41966988 0.9999997\n",
      "  0.1852704  0.47501043 0.3488095  0.9953522  0.52247099 0.98933229\n",
      "  0.40518306 0.30187292]\n",
      " [0.5003802  0.17695563 0.500781   0.17332258 0.31184179 0.29811397\n",
      "  0.25107084 0.5030707  0.50446688 0.36479819 0.49731635 0.1852704\n",
      "  0.99998948 0.34124083 0.5388429  0.16696684 0.16561378 0.17718791\n",
      "  0.26130599 0.59677057]\n",
      " [0.32506074 0.45084671 0.32761271 0.47016265 0.40796232 0.5008942\n",
      "  0.3484617  0.32713664 0.32894802 0.95890092 0.32317239 0.47501044\n",
      "  0.34124081 0.99998757 0.57314136 0.47379411 0.43809174 0.46106303\n",
      "  0.42868488 0.55661745]\n",
      " [0.35027134 0.33354136 0.34670609 0.33041387 0.34544845 0.47919867\n",
      "  0.44933923 0.34522533 0.34947417 0.54167848 0.34420063 0.3488095\n",
      "  0.53884287 0.57314136 0.99999008 0.34270272 0.32365643 0.33561314\n",
      "  0.34259215 0.90276139]\n",
      " [0.41935799 0.52973299 0.41811394 0.98997668 0.39417188 0.57990128\n",
      "  0.53757509 0.41693426 0.41828395 0.44295205 0.41806386 0.99535223\n",
      "  0.16696683 0.47379411 0.34270272 0.99999848 0.52772885 0.99300398\n",
      "  0.41445424 0.29872237]\n",
      " [0.50866211 0.99866874 0.51095202 0.56425303 0.39839366 0.50792718\n",
      "  0.50945185 0.5125246  0.51141088 0.40062841 0.51312093 0.52247096\n",
      "  0.16561377 0.43809173 0.32365643 0.52772886 0.99999446 0.54547236\n",
      "  0.42251042 0.26620584]\n",
      " [0.43337363 0.54755088 0.4319971  0.9933423  0.38357445 0.58463174\n",
      "  0.54936954 0.43111902 0.43214373 0.42445346 0.43248735 0.98933227\n",
      "  0.17718791 0.46106301 0.33561314 0.99300396 0.5454724  0.99999955\n",
      "  0.40424145 0.29215659]\n",
      " [0.3283548  0.43244929 0.33014219 0.42631607 0.97546    0.38050332\n",
      "  0.3597946  0.33290363 0.33330807 0.43337281 0.33078832 0.40518307\n",
      "  0.26130601 0.42868488 0.34259215 0.41445427 0.42251042 0.40424143\n",
      "  0.99998803 0.37400633]\n",
      " [0.3592381  0.28006961 0.3579308  0.28330582 0.38888787 0.42987243\n",
      "  0.35380679 0.35686633 0.36000022 0.53441809 0.352455   0.30187291\n",
      "  0.59677052 0.55661745 0.90276141 0.29872238 0.26620584 0.29215662\n",
      "  0.37400632 0.99998572]]\n",
      "Original Copylist [8, 4, 8, 7, 0, 5, 3, 8, 8, 6, 8, 7, 2, 6, 1, 7, 4, 7, 0, 1]\n",
      "Found clusters [5 4 5 6 1 8 7 5 5 2 5 6 3 2 0 6 4 6 1 0]\n",
      "Original groups [array([ 4, 18], dtype=int64), array([14, 19], dtype=int64), array([12], dtype=int64), array([6], dtype=int64), array([ 1, 16], dtype=int64), array([5], dtype=int64), array([ 9, 13], dtype=int64), array([ 3, 11, 15, 17], dtype=int64), array([ 0,  2,  7,  8, 10], dtype=int64)]\n",
      "Clustered groups [array([14, 19], dtype=int64), array([ 4, 18], dtype=int64), array([ 9, 13], dtype=int64), array([12], dtype=int64), array([ 1, 16], dtype=int64), array([ 0,  2,  7,  8, 10], dtype=int64), array([ 3, 11, 15, 17], dtype=int64), array([6], dtype=int64), array([5], dtype=int64)]\n",
      "Clustering score 1.0\n",
      "\n",
      "\n",
      " Entering epoch 3\n",
      "Iter 0 - Epoch 0 - Client Type: Benign - Client Number 0 - Poison Training False\n"
     ]
    },
    {
     "name": "stderr",
     "output_type": "stream",
     "text": [
      "100%|████████████████████████████████████████████████████████████████████████████████████| 1/1 [00:00<00:00,  1.24it/s]\n"
     ]
    },
    {
     "name": "stdout",
     "output_type": "stream",
     "text": [
      "Iter 0 - Epoch 0 - Client Type: Benign - Client Number 1 - Poison Training False\n"
     ]
    },
    {
     "name": "stderr",
     "output_type": "stream",
     "text": [
      "100%|████████████████████████████████████████████████████████████████████████████████████| 1/1 [00:00<00:00,  1.12it/s]\n"
     ]
    },
    {
     "name": "stdout",
     "output_type": "stream",
     "text": [
      "Iter 0 - Epoch 0 - Client Type: Benign - Client Number 2 - Poison Training False\n"
     ]
    },
    {
     "name": "stderr",
     "output_type": "stream",
     "text": [
      "100%|████████████████████████████████████████████████████████████████████████████████████| 1/1 [00:00<00:00,  1.32it/s]\n"
     ]
    },
    {
     "name": "stdout",
     "output_type": "stream",
     "text": [
      "Iter 0 - Epoch 0 - Client Type: Benign - Client Number 3 - Poison Training False\n"
     ]
    },
    {
     "name": "stderr",
     "output_type": "stream",
     "text": [
      "100%|████████████████████████████████████████████████████████████████████████████████████| 2/2 [00:01<00:00,  1.68it/s]\n"
     ]
    },
    {
     "name": "stdout",
     "output_type": "stream",
     "text": [
      "Iter 0 - Epoch 0 - Client Type: Benign - Client Number 4 - Poison Training False\n"
     ]
    },
    {
     "name": "stderr",
     "output_type": "stream",
     "text": [
      "100%|████████████████████████████████████████████████████████████████████████████████████| 2/2 [00:01<00:00,  1.56it/s]\n"
     ]
    },
    {
     "name": "stdout",
     "output_type": "stream",
     "text": [
      "Iter 0 - Epoch 0 - Client Type: Benign - Client Number 5 - Poison Training False\n"
     ]
    },
    {
     "name": "stderr",
     "output_type": "stream",
     "text": [
      "100%|████████████████████████████████████████████████████████████████████████████████████| 2/2 [00:01<00:00,  1.34it/s]\n"
     ]
    },
    {
     "name": "stdout",
     "output_type": "stream",
     "text": [
      "Iter 0 - Epoch 0 - Client Type: Benign - Client Number 6 - Poison Training False\n"
     ]
    },
    {
     "name": "stderr",
     "output_type": "stream",
     "text": [
      "100%|████████████████████████████████████████████████████████████████████████████████████| 2/2 [00:01<00:00,  1.30it/s]\n"
     ]
    },
    {
     "name": "stdout",
     "output_type": "stream",
     "text": [
      "Iter 0 - Epoch 0 - Client Type: Benign - Client Number 7 - Poison Training False\n"
     ]
    },
    {
     "name": "stderr",
     "output_type": "stream",
     "text": [
      "100%|████████████████████████████████████████████████████████████████████████████████████| 1/1 [00:00<00:00,  1.28it/s]\n"
     ]
    },
    {
     "name": "stdout",
     "output_type": "stream",
     "text": [
      "Iter 0 - Epoch 0 - Client Type: Benign - Client Number 8 - Poison Training False\n"
     ]
    },
    {
     "name": "stderr",
     "output_type": "stream",
     "text": [
      "100%|████████████████████████████████████████████████████████████████████████████████████| 1/1 [00:00<00:00,  1.26it/s]\n"
     ]
    },
    {
     "name": "stdout",
     "output_type": "stream",
     "text": [
      "Iter 0 - Epoch 0 - Client Type: Benign - Client Number 9 - Poison Training False\n"
     ]
    },
    {
     "name": "stderr",
     "output_type": "stream",
     "text": [
      "100%|████████████████████████████████████████████████████████████████████████████████████| 2/2 [00:01<00:00,  1.74it/s]\n"
     ]
    },
    {
     "name": "stdout",
     "output_type": "stream",
     "text": [
      "Iter 0 - Epoch 0 - Client Type: Benign - Client Number 10 - Poison Training False\n"
     ]
    },
    {
     "name": "stderr",
     "output_type": "stream",
     "text": [
      "100%|████████████████████████████████████████████████████████████████████████████████████| 1/1 [00:00<00:00,  1.23it/s]\n"
     ]
    },
    {
     "name": "stdout",
     "output_type": "stream",
     "text": [
      "Iter 0 - Epoch 0 - Client Type: Benign - Client Number 11 - Poison Training False\n"
     ]
    },
    {
     "name": "stderr",
     "output_type": "stream",
     "text": [
      "100%|████████████████████████████████████████████████████████████████████████████████████| 2/2 [00:01<00:00,  1.58it/s]\n"
     ]
    },
    {
     "name": "stdout",
     "output_type": "stream",
     "text": [
      "Iter 0 - Epoch 0 - Client Type: Benign - Client Number 12 - Poison Training False\n"
     ]
    },
    {
     "name": "stderr",
     "output_type": "stream",
     "text": [
      "100%|████████████████████████████████████████████████████████████████████████████████████| 1/1 [00:00<00:00,  1.79it/s]\n"
     ]
    },
    {
     "name": "stdout",
     "output_type": "stream",
     "text": [
      "Iter 0 - Epoch 0 - Client Type: Benign - Client Number 13 - Poison Training False\n"
     ]
    },
    {
     "name": "stderr",
     "output_type": "stream",
     "text": [
      "100%|████████████████████████████████████████████████████████████████████████████████████| 2/2 [00:01<00:00,  1.69it/s]\n"
     ]
    },
    {
     "name": "stdout",
     "output_type": "stream",
     "text": [
      "Iter 0 - Epoch 0 - Client Type: Benign - Client Number 14 - Poison Training False\n"
     ]
    },
    {
     "name": "stderr",
     "output_type": "stream",
     "text": [
      "100%|████████████████████████████████████████████████████████████████████████████████████| 2/2 [00:01<00:00,  1.28it/s]\n"
     ]
    },
    {
     "name": "stdout",
     "output_type": "stream",
     "text": [
      "Iter 0 - Epoch 0 - Client Type: Benign - Client Number 15 - Poison Training False\n"
     ]
    },
    {
     "name": "stderr",
     "output_type": "stream",
     "text": [
      "100%|████████████████████████████████████████████████████████████████████████████████████| 2/2 [00:01<00:00,  1.83it/s]\n"
     ]
    },
    {
     "name": "stdout",
     "output_type": "stream",
     "text": [
      "Iter 0 - Epoch 0 - Client Type: Benign - Client Number 16 - Poison Training False\n"
     ]
    },
    {
     "name": "stderr",
     "output_type": "stream",
     "text": [
      "100%|████████████████████████████████████████████████████████████████████████████████████| 1/1 [00:00<00:00,  1.17it/s]\n"
     ]
    },
    {
     "name": "stdout",
     "output_type": "stream",
     "text": [
      "Iter 0 - Epoch 0 - Client Type: Benign - Client Number 17 - Poison Training False\n"
     ]
    },
    {
     "name": "stderr",
     "output_type": "stream",
     "text": [
      "100%|████████████████████████████████████████████████████████████████████████████████████| 2/2 [00:01<00:00,  1.82it/s]\n"
     ]
    },
    {
     "name": "stdout",
     "output_type": "stream",
     "text": [
      "Iter 0 - Epoch 0 - Client Type: Benign - Client Number 18 - Poison Training False\n"
     ]
    },
    {
     "name": "stderr",
     "output_type": "stream",
     "text": [
      "100%|████████████████████████████████████████████████████████████████████████████████████| 2/2 [00:01<00:00,  1.56it/s]\n"
     ]
    },
    {
     "name": "stdout",
     "output_type": "stream",
     "text": [
      "Iter 0 - Epoch 0 - Client Type: Benign - Client Number 19 - Poison Training False\n"
     ]
    },
    {
     "name": "stderr",
     "output_type": "stream",
     "text": [
      "100%|████████████████████████████████████████████████████████████████████████████████████| 2/2 [00:01<00:00,  1.38it/s]\n"
     ]
    },
    {
     "name": "stdout",
     "output_type": "stream",
     "text": [
      "Original Copylist [8, 4, 8, 7, 0, 5, 3, 8, 8, 6, 8, 7, 2, 6, 1, 7, 4, 7, 0, 1]\n",
      "Found clusters [8 3 8 5 2 6 7 8 8 1 8 5 4 1 0 5 3 5 2 0]\n",
      "Original groups [array([ 4, 18], dtype=int64), array([14, 19], dtype=int64), array([12], dtype=int64), array([6], dtype=int64), array([ 1, 16], dtype=int64), array([5], dtype=int64), array([ 9, 13], dtype=int64), array([ 3, 11, 15, 17], dtype=int64), array([ 0,  2,  7,  8, 10], dtype=int64)]\n",
      "Clustered groups [array([14, 19], dtype=int64), array([ 9, 13], dtype=int64), array([ 4, 18], dtype=int64), array([ 1, 16], dtype=int64), array([12], dtype=int64), array([ 3, 11, 15, 17], dtype=int64), array([5], dtype=int64), array([6], dtype=int64), array([ 0,  2,  7,  8, 10], dtype=int64)]\n",
      "Clustering score 1.0\n",
      "[[0.99999717 0.59866823 0.99926292 0.50125637 0.34847586 0.57328719\n",
      "  0.43803915 0.99890509 0.99904209 0.30619874 0.99904547 0.47544203\n",
      "  0.42375081 0.37270619 0.41107347 0.47648773 0.59566854 0.49041951\n",
      "  0.34804807 0.40342455]\n",
      " [0.59866822 0.99999507 0.60055002 0.59974519 0.3746135  0.55435289\n",
      "  0.55645557 0.60159204 0.60056158 0.39164375 0.60245762 0.55660717\n",
      "  0.19447952 0.45203617 0.40728908 0.56227416 0.99833417 0.58326024\n",
      "  0.4059784  0.35583375]\n",
      " [0.99926291 0.60055002 0.9999968  0.49970215 0.35080527 0.57199217\n",
      "  0.43612392 0.9992551  0.99930895 0.31009383 0.99900051 0.47350567\n",
      "  0.42612175 0.375152   0.40846154 0.47463969 0.5973568  0.48842431\n",
      "  0.3506817  0.4040581 ]\n",
      " [0.50125638 0.5997452  0.49970215 0.99999605 0.34725008 0.55751621\n",
      "  0.53062094 0.49856219 0.49958784 0.38475106 0.50167719 0.98716411\n",
      "  0.14730717 0.44683701 0.39275971 0.989456   0.59932062 0.9922573\n",
      "  0.36807037 0.34243393]\n",
      " [0.34847586 0.3746135  0.35080527 0.34725007 0.99998435 0.38073091\n",
      "  0.32658147 0.35462786 0.35542489 0.44875128 0.34953377 0.33863044\n",
      "  0.40250851 0.42224658 0.41237256 0.3402215  0.360161   0.32526631\n",
      "  0.96941677 0.45549838]\n",
      " [0.57328718 0.55435289 0.57199217 0.55751618 0.3807309  0.9999876\n",
      "  0.58298844 0.57428331 0.57442824 0.48065042 0.57282435 0.54462322\n",
      "  0.32816559 0.52659614 0.58531113 0.54531447 0.54769903 0.54783623\n",
      "  0.39243691 0.49813876]\n",
      " [0.43803917 0.55645557 0.43612393 0.53062094 0.32658148 0.58298844\n",
      "  0.99999382 0.43695848 0.43837519 0.30901077 0.43730366 0.5113047\n",
      "  0.26510168 0.3311981  0.51497435 0.50831109 0.55051511 0.51964355\n",
      "  0.35347531 0.40314622]\n",
      " [0.99890506 0.60159205 0.99925514 0.4985622  0.35462785 0.57428327\n",
      "  0.43695848 0.99999796 0.99923411 0.31074851 0.99893779 0.47189841\n",
      "  0.43033173 0.37519779 0.40833557 0.47286829 0.59826041 0.48680134\n",
      "  0.3546447  0.40414042]\n",
      " [0.99904205 0.60056155 0.99930894 0.49958786 0.35542489 0.57442822\n",
      "  0.43837517 0.99923414 1.         0.31275077 0.99896478 0.47354267\n",
      "  0.43195429 0.37722554 0.41193292 0.47408758 0.59732277 0.48770794\n",
      "  0.35488378 0.40672775]\n",
      " [0.30619874 0.39164375 0.31009381 0.38475104 0.44875127 0.4806504\n",
      "  0.30901077 0.31074851 0.31275078 0.99998651 0.30529267 0.40194209\n",
      "  0.44362232 0.93573417 0.57463381 0.39238317 0.37574224 0.36783015\n",
      "  0.45376424 0.58028395]\n",
      " [0.99904552 0.60245762 0.99900048 0.50167719 0.34953377 0.57282435\n",
      "  0.43730366 0.99893782 0.99896477 0.30529267 0.99999814 0.47457473\n",
      "  0.42004088 0.37078023 0.40674014 0.47560043 0.59980323 0.4899414\n",
      "  0.34973965 0.39815387]\n",
      " [0.47544203 0.55660716 0.47350567 0.98716414 0.33863044 0.54462322\n",
      "  0.51130468 0.47189844 0.47354267 0.40194209 0.47457473 0.99999459\n",
      "  0.16552163 0.45583822 0.407727   0.99383646 0.55556442 0.9838668\n",
      "  0.35384247 0.35920129]\n",
      " [0.42375081 0.19447952 0.42612176 0.14730716 0.40250853 0.32816557\n",
      "  0.26510168 0.43033173 0.43195429 0.44362232 0.42004088 0.16552163\n",
      "  0.99998662 0.41822377 0.55807572 0.143011   0.17922103 0.14356396\n",
      "  0.36613256 0.61316466]\n",
      " [0.37270617 0.45203618 0.37515199 0.44683701 0.42224658 0.52659614\n",
      "  0.33119808 0.37519778 0.37722551 0.93573418 0.37078025 0.45583821\n",
      "  0.41822377 0.99998477 0.61105562 0.4510335  0.43623861 0.43780082\n",
      "  0.42800767 0.59915419]\n",
      " [0.41107346 0.40728908 0.40846154 0.39275971 0.41237255 0.58531113\n",
      "  0.51497435 0.40833558 0.41193291 0.57463384 0.40674016 0.40772699\n",
      "  0.55807573 0.61105565 0.999989   0.4006118  0.39457851 0.39259255\n",
      "  0.41234374 0.88629005]\n",
      " [0.47648776 0.56227417 0.47463971 0.989456   0.3402215  0.54531448\n",
      "  0.50831109 0.47286826 0.47408758 0.39238319 0.47560041 0.99383645\n",
      "  0.14301099 0.45103349 0.40061179 0.99999511 0.56081471 0.99102927\n",
      "  0.35833748 0.35487348]\n",
      " [0.59566853 0.99833418 0.5973568  0.59932062 0.36016101 0.547699\n",
      "  0.55051511 0.59826041 0.59732277 0.37574224 0.59980323 0.5555644\n",
      "  0.17922102 0.43623861 0.39457852 0.56081472 0.99999382 0.58197831\n",
      "  0.39205951 0.33829386]\n",
      " [0.49041949 0.58326024 0.48842432 0.9922573  0.32526632 0.54783621\n",
      "  0.51964356 0.48680134 0.48770794 0.36783014 0.4899414  0.98386676\n",
      "  0.14356396 0.43780081 0.39259255 0.99102926 0.5819783  0.99999636\n",
      "  0.34547634 0.34683142]\n",
      " [0.34804806 0.4059784  0.35068171 0.36807038 0.96941681 0.39243691\n",
      "  0.35347531 0.3546447  0.35488378 0.45376426 0.34973965 0.35384247\n",
      "  0.36613256 0.42800767 0.41234374 0.35833749 0.39205949 0.34547632\n",
      "  0.99998673 0.44601084]\n",
      " [0.40342455 0.35583375 0.40405809 0.34243392 0.45549838 0.49813875\n",
      "  0.40314622 0.40414041 0.40672776 0.58028395 0.39815386 0.35920128\n",
      "  0.61316464 0.59915418 0.88629003 0.35487348 0.33829385 0.34683143\n",
      "  0.44601083 0.99998802]]\n",
      "Original Copylist [8, 4, 8, 7, 0, 5, 3, 8, 8, 6, 8, 7, 2, 6, 1, 7, 4, 7, 0, 1]\n",
      "Found clusters [3 1 3 5 6 7 4 3 3 2 3 5 8 2 0 5 1 5 6 0]\n",
      "Original groups [array([ 4, 18], dtype=int64), array([14, 19], dtype=int64), array([12], dtype=int64), array([6], dtype=int64), array([ 1, 16], dtype=int64), array([5], dtype=int64), array([ 9, 13], dtype=int64), array([ 3, 11, 15, 17], dtype=int64), array([ 0,  2,  7,  8, 10], dtype=int64)]\n",
      "Clustered groups [array([14, 19], dtype=int64), array([ 1, 16], dtype=int64), array([ 9, 13], dtype=int64), array([ 0,  2,  7,  8, 10], dtype=int64), array([6], dtype=int64), array([ 3, 11, 15, 17], dtype=int64), array([ 4, 18], dtype=int64), array([5], dtype=int64), array([12], dtype=int64)]\n",
      "Clustering score 1.0\n",
      "\n",
      "\n",
      " Entering epoch 4\n",
      "Iter 0 - Epoch 0 - Client Type: Benign - Client Number 0 - Poison Training False\n"
     ]
    },
    {
     "name": "stderr",
     "output_type": "stream",
     "text": [
      "100%|████████████████████████████████████████████████████████████████████████████████████| 1/1 [00:00<00:00,  1.32it/s]\n"
     ]
    },
    {
     "name": "stdout",
     "output_type": "stream",
     "text": [
      "Iter 0 - Epoch 0 - Client Type: Benign - Client Number 1 - Poison Training False\n"
     ]
    },
    {
     "name": "stderr",
     "output_type": "stream",
     "text": [
      "100%|████████████████████████████████████████████████████████████████████████████████████| 1/1 [00:00<00:00,  1.12it/s]\n"
     ]
    },
    {
     "name": "stdout",
     "output_type": "stream",
     "text": [
      "Iter 0 - Epoch 0 - Client Type: Benign - Client Number 2 - Poison Training False\n"
     ]
    },
    {
     "name": "stderr",
     "output_type": "stream",
     "text": [
      "100%|████████████████████████████████████████████████████████████████████████████████████| 1/1 [00:00<00:00,  1.25it/s]\n"
     ]
    },
    {
     "name": "stdout",
     "output_type": "stream",
     "text": [
      "Iter 0 - Epoch 0 - Client Type: Benign - Client Number 3 - Poison Training False\n"
     ]
    },
    {
     "name": "stderr",
     "output_type": "stream",
     "text": [
      "100%|████████████████████████████████████████████████████████████████████████████████████| 2/2 [00:01<00:00,  1.77it/s]\n"
     ]
    },
    {
     "name": "stdout",
     "output_type": "stream",
     "text": [
      "Iter 0 - Epoch 0 - Client Type: Benign - Client Number 4 - Poison Training False\n"
     ]
    },
    {
     "name": "stderr",
     "output_type": "stream",
     "text": [
      "100%|████████████████████████████████████████████████████████████████████████████████████| 2/2 [00:01<00:00,  1.59it/s]\n"
     ]
    },
    {
     "name": "stdout",
     "output_type": "stream",
     "text": [
      "Iter 0 - Epoch 0 - Client Type: Benign - Client Number 5 - Poison Training False\n"
     ]
    },
    {
     "name": "stderr",
     "output_type": "stream",
     "text": [
      "100%|████████████████████████████████████████████████████████████████████████████████████| 2/2 [00:01<00:00,  1.30it/s]\n"
     ]
    },
    {
     "name": "stdout",
     "output_type": "stream",
     "text": [
      "Iter 0 - Epoch 0 - Client Type: Benign - Client Number 6 - Poison Training False\n"
     ]
    },
    {
     "name": "stderr",
     "output_type": "stream",
     "text": [
      "100%|████████████████████████████████████████████████████████████████████████████████████| 2/2 [00:01<00:00,  1.36it/s]\n"
     ]
    },
    {
     "name": "stdout",
     "output_type": "stream",
     "text": [
      "Iter 0 - Epoch 0 - Client Type: Benign - Client Number 7 - Poison Training False\n"
     ]
    },
    {
     "name": "stderr",
     "output_type": "stream",
     "text": [
      "100%|████████████████████████████████████████████████████████████████████████████████████| 1/1 [00:00<00:00,  1.26it/s]\n"
     ]
    },
    {
     "name": "stdout",
     "output_type": "stream",
     "text": [
      "Iter 0 - Epoch 0 - Client Type: Benign - Client Number 8 - Poison Training False\n"
     ]
    },
    {
     "name": "stderr",
     "output_type": "stream",
     "text": [
      "100%|████████████████████████████████████████████████████████████████████████████████████| 1/1 [00:00<00:00,  1.23it/s]\n"
     ]
    },
    {
     "name": "stdout",
     "output_type": "stream",
     "text": [
      "Iter 0 - Epoch 0 - Client Type: Benign - Client Number 9 - Poison Training False\n"
     ]
    },
    {
     "name": "stderr",
     "output_type": "stream",
     "text": [
      "100%|████████████████████████████████████████████████████████████████████████████████████| 2/2 [00:01<00:00,  1.67it/s]\n"
     ]
    },
    {
     "name": "stdout",
     "output_type": "stream",
     "text": [
      "Iter 0 - Epoch 0 - Client Type: Benign - Client Number 10 - Poison Training False\n"
     ]
    },
    {
     "name": "stderr",
     "output_type": "stream",
     "text": [
      "100%|████████████████████████████████████████████████████████████████████████████████████| 1/1 [00:00<00:00,  1.24it/s]\n"
     ]
    },
    {
     "name": "stdout",
     "output_type": "stream",
     "text": [
      "Iter 0 - Epoch 0 - Client Type: Benign - Client Number 11 - Poison Training False\n"
     ]
    },
    {
     "name": "stderr",
     "output_type": "stream",
     "text": [
      "100%|████████████████████████████████████████████████████████████████████████████████████| 2/2 [00:01<00:00,  1.66it/s]\n"
     ]
    },
    {
     "name": "stdout",
     "output_type": "stream",
     "text": [
      "Iter 0 - Epoch 0 - Client Type: Benign - Client Number 12 - Poison Training False\n"
     ]
    },
    {
     "name": "stderr",
     "output_type": "stream",
     "text": [
      "100%|████████████████████████████████████████████████████████████████████████████████████| 1/1 [00:00<00:00,  1.74it/s]\n"
     ]
    },
    {
     "name": "stdout",
     "output_type": "stream",
     "text": [
      "Iter 0 - Epoch 0 - Client Type: Benign - Client Number 13 - Poison Training False\n"
     ]
    },
    {
     "name": "stderr",
     "output_type": "stream",
     "text": [
      "100%|████████████████████████████████████████████████████████████████████████████████████| 2/2 [00:01<00:00,  1.72it/s]\n"
     ]
    },
    {
     "name": "stdout",
     "output_type": "stream",
     "text": [
      "Iter 0 - Epoch 0 - Client Type: Benign - Client Number 14 - Poison Training False\n"
     ]
    },
    {
     "name": "stderr",
     "output_type": "stream",
     "text": [
      "100%|████████████████████████████████████████████████████████████████████████████████████| 2/2 [00:01<00:00,  1.26it/s]\n"
     ]
    },
    {
     "name": "stdout",
     "output_type": "stream",
     "text": [
      "Iter 0 - Epoch 0 - Client Type: Benign - Client Number 15 - Poison Training False\n"
     ]
    },
    {
     "name": "stderr",
     "output_type": "stream",
     "text": [
      "100%|████████████████████████████████████████████████████████████████████████████████████| 2/2 [00:01<00:00,  1.86it/s]\n"
     ]
    },
    {
     "name": "stdout",
     "output_type": "stream",
     "text": [
      "Iter 0 - Epoch 0 - Client Type: Benign - Client Number 16 - Poison Training False\n"
     ]
    },
    {
     "name": "stderr",
     "output_type": "stream",
     "text": [
      "100%|████████████████████████████████████████████████████████████████████████████████████| 1/1 [00:00<00:00,  1.03it/s]\n"
     ]
    },
    {
     "name": "stdout",
     "output_type": "stream",
     "text": [
      "Iter 0 - Epoch 0 - Client Type: Benign - Client Number 17 - Poison Training False\n"
     ]
    },
    {
     "name": "stderr",
     "output_type": "stream",
     "text": [
      "100%|████████████████████████████████████████████████████████████████████████████████████| 2/2 [00:01<00:00,  1.85it/s]\n"
     ]
    },
    {
     "name": "stdout",
     "output_type": "stream",
     "text": [
      "Iter 0 - Epoch 0 - Client Type: Benign - Client Number 18 - Poison Training False\n"
     ]
    },
    {
     "name": "stderr",
     "output_type": "stream",
     "text": [
      "100%|████████████████████████████████████████████████████████████████████████████████████| 2/2 [00:01<00:00,  1.55it/s]\n"
     ]
    },
    {
     "name": "stdout",
     "output_type": "stream",
     "text": [
      "Iter 0 - Epoch 0 - Client Type: Benign - Client Number 19 - Poison Training False\n"
     ]
    },
    {
     "name": "stderr",
     "output_type": "stream",
     "text": [
      "100%|████████████████████████████████████████████████████████████████████████████████████| 2/2 [00:01<00:00,  1.27it/s]\n"
     ]
    },
    {
     "name": "stdout",
     "output_type": "stream",
     "text": [
      "Original Copylist [8, 4, 8, 7, 0, 5, 3, 8, 8, 6, 8, 7, 2, 6, 1, 7, 4, 7, 0, 1]\n",
      "Found clusters [8 2 8 7 0 6 4 8 8 3 8 7 5 3 1 7 2 7 0 1]\n",
      "Original groups [array([ 4, 18], dtype=int64), array([14, 19], dtype=int64), array([12], dtype=int64), array([6], dtype=int64), array([ 1, 16], dtype=int64), array([5], dtype=int64), array([ 9, 13], dtype=int64), array([ 3, 11, 15, 17], dtype=int64), array([ 0,  2,  7,  8, 10], dtype=int64)]\n",
      "Clustered groups [array([ 4, 18], dtype=int64), array([14, 19], dtype=int64), array([ 1, 16], dtype=int64), array([ 9, 13], dtype=int64), array([6], dtype=int64), array([12], dtype=int64), array([5], dtype=int64), array([ 3, 11, 15, 17], dtype=int64), array([ 0,  2,  7,  8, 10], dtype=int64)]\n",
      "Clustering score 1.0\n",
      "[[0.99999602 0.62642101 0.99915185 0.51517261 0.39298182 0.57646382\n",
      "  0.45121229 0.9984526  0.99877155 0.31379009 0.99887555 0.48736833\n",
      "  0.38472867 0.38232546 0.43329282 0.48972616 0.62507316 0.50350438\n",
      "  0.43794002 0.41244777]\n",
      " [0.626421   0.99999885 0.62800262 0.60560215 0.43233485 0.55663723\n",
      "  0.57510047 0.62897551 0.6274105  0.37625694 0.63105591 0.55788858\n",
      "  0.22895548 0.44460304 0.4225452  0.56445401 0.99774001 0.5877539\n",
      "  0.47070183 0.37276581]\n",
      " [0.99915182 0.62800261 0.99999965 0.51296115 0.39407346 0.57631642\n",
      "  0.44969515 0.99896225 0.99913732 0.31780329 0.99879675 0.48470896\n",
      "  0.38919177 0.3852921  0.43178656 0.48717572 0.62633791 0.5008001\n",
      "  0.43995176 0.41434669]\n",
      " [0.51517258 0.60560216 0.51296118 0.99999803 0.40941797 0.52104642\n",
      "  0.51983956 0.5109984  0.51188467 0.37211892 0.51700119 0.98077772\n",
      "  0.14296583 0.42955991 0.39609821 0.98712092 0.60682222 0.99068971\n",
      "  0.41823577 0.34594231]\n",
      " [0.39298183 0.43233485 0.39407346 0.40941797 0.99999063 0.44093726\n",
      "  0.42335188 0.39752325 0.39898301 0.47287282 0.3943675  0.39903407\n",
      "  0.4074773  0.45721573 0.46939367 0.39942667 0.41687905 0.38831524\n",
      "  0.91551512 0.48329223]\n",
      " [0.57646384 0.55663726 0.57631642 0.52104641 0.44093725 0.99999148\n",
      "  0.55927478 0.57880541 0.57898913 0.49709225 0.57706731 0.51066148\n",
      "  0.32908678 0.54436701 0.63853444 0.5106054  0.54807061 0.50859073\n",
      "  0.45356144 0.53699887]\n",
      " [0.45121231 0.57510047 0.44969516 0.51983956 0.42335186 0.55927478\n",
      "  0.99999911 0.45146152 0.45224199 0.29797733 0.45109658 0.49714524\n",
      "  0.26672444 0.32144016 0.5208342  0.49530134 0.56762803 0.50536658\n",
      "  0.40744472 0.41761752]\n",
      " [0.99845258 0.62897552 0.99896227 0.51099843 0.39752325 0.57880539\n",
      "  0.4514615  0.99999987 0.99894141 0.31906652 0.99847637 0.4826003\n",
      "  0.39321717 0.38619393 0.43324136 0.48471429 0.62700879 0.49836846\n",
      "  0.44305283 0.41610753]\n",
      " [0.99877153 0.62741049 0.99913731 0.51188471 0.39898302 0.57898912\n",
      "  0.452242   0.99894143 1.         0.32139815 0.99857337 0.48418526\n",
      "  0.3956474  0.38843433 0.43631106 0.48581509 0.62558496 0.49911698\n",
      "  0.44449722 0.41812867]\n",
      " [0.31379009 0.37625693 0.31780328 0.37211891 0.47287282 0.49709228\n",
      "  0.29797733 0.31906652 0.32139814 0.99999254 0.31306733 0.39769035\n",
      "  0.48668559 0.91538073 0.58936428 0.38382345 0.35855078 0.35337313\n",
      "  0.48415992 0.59538765]\n",
      " [0.99887558 0.63105588 0.99879676 0.51700119 0.3943675  0.57706731\n",
      "  0.45109658 0.99847638 0.99857333 0.31306733 0.99999949 0.48779227\n",
      "  0.38198316 0.38123197 0.42987401 0.49017619 0.63007783 0.5044255\n",
      "  0.4395966  0.40831096]\n",
      " [0.48736833 0.55788857 0.48470895 0.98077771 0.39903407 0.5106615\n",
      "  0.49714522 0.48260032 0.48418525 0.39769035 0.48779224 0.99999658\n",
      "  0.16291118 0.4439799  0.41344113 0.99185005 0.55811235 0.9759797\n",
      "  0.40318584 0.36778161]\n",
      " [0.38472869 0.22895548 0.38919177 0.14296583 0.40747731 0.32908677\n",
      "  0.26672444 0.39321715 0.39564739 0.48668559 0.38198316 0.16291118\n",
      "  0.99999075 0.46658794 0.57866891 0.13843623 0.21057073 0.13092175\n",
      "  0.42582967 0.65112117]\n",
      " [0.38232544 0.44460306 0.3852921  0.42955992 0.45721575 0.54436701\n",
      "  0.32144015 0.38619392 0.38843432 0.9153807  0.38123197 0.44397988\n",
      "  0.46658794 0.99998976 0.61154646 0.43423787 0.42623626 0.41709032\n",
      "  0.46212158 0.59961983]\n",
      " [0.43329282 0.42254518 0.43178658 0.39609819 0.46939366 0.63853441\n",
      "  0.5208342  0.43324136 0.43631107 0.58936429 0.42987403 0.41344113\n",
      "  0.57866891 0.61154647 0.99998914 0.40323107 0.40757483 0.38891157\n",
      "  0.4966815  0.88032561]\n",
      " [0.48972614 0.56445405 0.48717573 0.98712092 0.39942667 0.51060539\n",
      "  0.49530134 0.48471427 0.48581507 0.38382345 0.49017618 0.99185005\n",
      "  0.13843622 0.43423786 0.40323107 0.9999972  0.56440372 0.98787665\n",
      "  0.40523526 0.35944576]\n",
      " [0.62507315 0.99774001 0.62633791 0.60682226 0.41687906 0.5480706\n",
      "  0.56762806 0.62700879 0.62558496 0.35855079 0.6300778  0.55811234\n",
      "  0.21057073 0.42623626 0.40757481 0.56440369 0.99999738 0.58846504\n",
      "  0.4574627  0.352762  ]\n",
      " [0.50350437 0.58775387 0.50080011 0.99068971 0.38831526 0.50859072\n",
      "  0.50536658 0.49836849 0.49911701 0.35337312 0.50442547 0.97597967\n",
      "  0.13092175 0.41709032 0.38891157 0.98787665 0.58846503 0.999998\n",
      "  0.39531005 0.34384498]\n",
      " [0.43794002 0.47070183 0.43995176 0.41823578 0.91551514 0.45356144\n",
      "  0.4074447  0.44305285 0.44449722 0.48415989 0.4395966  0.40318586\n",
      "  0.42582967 0.46212159 0.4966815  0.40523525 0.45746269 0.39531004\n",
      "  0.99999122 0.50808331]\n",
      " [0.41244777 0.37276581 0.41434667 0.3459423  0.48329222 0.53699884\n",
      "  0.4176175  0.41610752 0.41812866 0.59538762 0.40831095 0.36778162\n",
      "  0.65112119 0.59961983 0.88032563 0.35944576 0.35276197 0.34384498\n",
      "  0.50808331 0.99999222]]\n",
      "Original Copylist [8, 4, 8, 7, 0, 5, 3, 8, 8, 6, 8, 7, 2, 6, 1, 7, 4, 7, 0, 1]\n",
      "Found clusters [8 3 8 5 2 6 7 8 8 1 8 5 4 1 0 5 3 5 2 0]\n",
      "Original groups [array([ 4, 18], dtype=int64), array([14, 19], dtype=int64), array([12], dtype=int64), array([6], dtype=int64), array([ 1, 16], dtype=int64), array([5], dtype=int64), array([ 9, 13], dtype=int64), array([ 3, 11, 15, 17], dtype=int64), array([ 0,  2,  7,  8, 10], dtype=int64)]\n",
      "Clustered groups [array([14, 19], dtype=int64), array([ 9, 13], dtype=int64), array([ 4, 18], dtype=int64), array([ 1, 16], dtype=int64), array([12], dtype=int64), array([ 3, 11, 15, 17], dtype=int64), array([5], dtype=int64), array([6], dtype=int64), array([ 0,  2,  7,  8, 10], dtype=int64)]\n",
      "Clustering score 1.0\n",
      "Benign net distance [tensor(149.6000), tensor(153.5138), tensor(148.5976), tensor(190.3885), tensor(137.2119), tensor(128.7657), tensor(168.1679), tensor(147.7629), tensor(147.5783), tensor(125.5746), tensor(149.9446), tensor(182.0288), tensor(115.0092), tensor(127.4585), tensor(65.4960), tensor(188.1511), tensor(158.8537), tensor(200.2594), tensor(128.7223), tensor(0.)]\n",
      "Malicious net distance []\n",
      "cos_sim list  [tensor(0.4215), tensor(0.3897), tensor(0.4246), tensor(0.3495), tensor(0.5111), tensor(0.5759), tensor(0.4321), tensor(0.4281), tensor(0.4295), tensor(0.6105), tensor(0.4185), tensor(0.3764), tensor(0.6891), tensor(0.6001), tensor(0.8744), tensor(0.3640), tensor(0.3672), tensor(0.3409), tensor(0.5702), tensor(1.0000)]\n",
      "Norms of local gradients  [tensor(1.1432), tensor(1.1264), tensor(1.1238), tensor(1.7902), tensor(1.2744), tensor(1.2444), tensor(1.6303), tensor(1.1180), tensor(1.1147), tensor(1.1579), tensor(1.1450), tensor(1.6866), tensor(0.7796), tensor(1.2340), tensor(1.4008), tensor(1.7757), tensor(1.2115), tensor(1.9348), tensor(1.1828), tensor(1.3976)]\n",
      "\n",
      " Aggregating models\n",
      "Cosine Similarities:  [tensor(0.4215), tensor(0.3897), tensor(0.4246), tensor(0.3495), tensor(0.5111), tensor(0.5759), tensor(0.4321), tensor(0.4281), tensor(0.4295), tensor(0.6105), tensor(0.4185), tensor(0.3764), tensor(0.6891), tensor(0.6001), tensor(0.8744), tensor(0.3640), tensor(0.3672), tensor(0.3409), tensor(0.5702), tensor(1.0000)]\n",
      "Aggregation Weights:  [0.05064935 0.04753156 0.05191174 0.02681773 0.0550987  0.06357397\n",
      " 0.03641149 0.0526056  0.05294094 0.0724345  0.05021102 0.03065766\n",
      " 0.1214387  0.06680716 0.08575661 0.02816369 0.04164432 0.02420342\n",
      " 0.06622352 0.09829912]\n",
      "\n",
      "\n",
      "\n",
      "Aggregate test at iter  0\n"
     ]
    },
    {
     "name": "stderr",
     "output_type": "stream",
     "text": [
      "100%|██████████████████████████████████████████████████████████████████████████████████| 10/10 [00:02<00:00,  4.35it/s]\n"
     ]
    },
    {
     "name": "stdout",
     "output_type": "stream",
     "text": [
      "\n",
      "Test set: Avg. loss: 0.0019, Accuracy: 4475/10000 (45%)\n",
      "\n",
      "\n",
      "\n",
      " Entering epoch 0\n",
      "Iter 1 - Epoch 0 - Client Type: Benign - Client Number 0 - Poison Training False\n"
     ]
    },
    {
     "name": "stderr",
     "output_type": "stream",
     "text": [
      "100%|████████████████████████████████████████████████████████████████████████████████████| 1/1 [00:00<00:00,  1.21it/s]\n"
     ]
    },
    {
     "name": "stdout",
     "output_type": "stream",
     "text": [
      "Iter 1 - Epoch 0 - Client Type: Benign - Client Number 1 - Poison Training False\n"
     ]
    },
    {
     "name": "stderr",
     "output_type": "stream",
     "text": [
      "100%|████████████████████████████████████████████████████████████████████████████████████| 1/1 [00:00<00:00,  1.03it/s]\n"
     ]
    },
    {
     "name": "stdout",
     "output_type": "stream",
     "text": [
      "Iter 1 - Epoch 0 - Client Type: Benign - Client Number 2 - Poison Training False\n"
     ]
    },
    {
     "name": "stderr",
     "output_type": "stream",
     "text": [
      "100%|████████████████████████████████████████████████████████████████████████████████████| 1/1 [00:00<00:00,  1.29it/s]\n"
     ]
    },
    {
     "name": "stdout",
     "output_type": "stream",
     "text": [
      "Iter 1 - Epoch 0 - Client Type: Benign - Client Number 3 - Poison Training False\n"
     ]
    },
    {
     "name": "stderr",
     "output_type": "stream",
     "text": [
      "100%|████████████████████████████████████████████████████████████████████████████████████| 2/2 [00:01<00:00,  1.73it/s]\n"
     ]
    },
    {
     "name": "stdout",
     "output_type": "stream",
     "text": [
      "Iter 1 - Epoch 0 - Client Type: Benign - Client Number 4 - Poison Training False\n"
     ]
    },
    {
     "name": "stderr",
     "output_type": "stream",
     "text": [
      "100%|████████████████████████████████████████████████████████████████████████████████████| 2/2 [00:01<00:00,  1.56it/s]\n"
     ]
    },
    {
     "name": "stdout",
     "output_type": "stream",
     "text": [
      "Iter 1 - Epoch 0 - Client Type: Benign - Client Number 5 - Poison Training False\n"
     ]
    },
    {
     "name": "stderr",
     "output_type": "stream",
     "text": [
      "100%|████████████████████████████████████████████████████████████████████████████████████| 2/2 [00:01<00:00,  1.35it/s]\n"
     ]
    },
    {
     "name": "stdout",
     "output_type": "stream",
     "text": [
      "Iter 1 - Epoch 0 - Client Type: Benign - Client Number 6 - Poison Training False\n"
     ]
    },
    {
     "name": "stderr",
     "output_type": "stream",
     "text": [
      "100%|████████████████████████████████████████████████████████████████████████████████████| 2/2 [00:01<00:00,  1.38it/s]\n"
     ]
    },
    {
     "name": "stdout",
     "output_type": "stream",
     "text": [
      "Iter 1 - Epoch 0 - Client Type: Benign - Client Number 7 - Poison Training False\n"
     ]
    },
    {
     "name": "stderr",
     "output_type": "stream",
     "text": [
      "100%|████████████████████████████████████████████████████████████████████████████████████| 1/1 [00:00<00:00,  1.20it/s]\n"
     ]
    },
    {
     "name": "stdout",
     "output_type": "stream",
     "text": [
      "Iter 1 - Epoch 0 - Client Type: Benign - Client Number 8 - Poison Training False\n"
     ]
    },
    {
     "name": "stderr",
     "output_type": "stream",
     "text": [
      "100%|████████████████████████████████████████████████████████████████████████████████████| 1/1 [00:00<00:00,  1.12it/s]\n"
     ]
    },
    {
     "name": "stdout",
     "output_type": "stream",
     "text": [
      "Iter 1 - Epoch 0 - Client Type: Benign - Client Number 9 - Poison Training False\n"
     ]
    },
    {
     "name": "stderr",
     "output_type": "stream",
     "text": [
      "100%|████████████████████████████████████████████████████████████████████████████████████| 2/2 [00:01<00:00,  1.71it/s]\n"
     ]
    },
    {
     "name": "stdout",
     "output_type": "stream",
     "text": [
      "Iter 1 - Epoch 0 - Client Type: Benign - Client Number 10 - Poison Training False\n"
     ]
    },
    {
     "name": "stderr",
     "output_type": "stream",
     "text": [
      "100%|████████████████████████████████████████████████████████████████████████████████████| 1/1 [00:00<00:00,  1.15it/s]\n"
     ]
    },
    {
     "name": "stdout",
     "output_type": "stream",
     "text": [
      "Iter 1 - Epoch 0 - Client Type: Benign - Client Number 11 - Poison Training False\n"
     ]
    },
    {
     "name": "stderr",
     "output_type": "stream",
     "text": [
      "100%|████████████████████████████████████████████████████████████████████████████████████| 2/2 [00:01<00:00,  1.57it/s]\n"
     ]
    },
    {
     "name": "stdout",
     "output_type": "stream",
     "text": [
      "Iter 1 - Epoch 0 - Client Type: Benign - Client Number 12 - Poison Training False\n"
     ]
    },
    {
     "name": "stderr",
     "output_type": "stream",
     "text": [
      "100%|████████████████████████████████████████████████████████████████████████████████████| 1/1 [00:00<00:00,  1.67it/s]\n"
     ]
    },
    {
     "name": "stdout",
     "output_type": "stream",
     "text": [
      "Iter 1 - Epoch 0 - Client Type: Benign - Client Number 13 - Poison Training False\n"
     ]
    },
    {
     "name": "stderr",
     "output_type": "stream",
     "text": [
      "100%|████████████████████████████████████████████████████████████████████████████████████| 2/2 [00:01<00:00,  1.59it/s]\n"
     ]
    },
    {
     "name": "stdout",
     "output_type": "stream",
     "text": [
      "Iter 1 - Epoch 0 - Client Type: Benign - Client Number 14 - Poison Training False\n"
     ]
    },
    {
     "name": "stderr",
     "output_type": "stream",
     "text": [
      "100%|████████████████████████████████████████████████████████████████████████████████████| 2/2 [00:01<00:00,  1.38it/s]\n"
     ]
    },
    {
     "name": "stdout",
     "output_type": "stream",
     "text": [
      "Iter 1 - Epoch 0 - Client Type: Benign - Client Number 15 - Poison Training False\n"
     ]
    },
    {
     "name": "stderr",
     "output_type": "stream",
     "text": [
      "100%|████████████████████████████████████████████████████████████████████████████████████| 2/2 [00:01<00:00,  1.60it/s]\n"
     ]
    },
    {
     "name": "stdout",
     "output_type": "stream",
     "text": [
      "Iter 1 - Epoch 0 - Client Type: Benign - Client Number 16 - Poison Training False\n"
     ]
    },
    {
     "name": "stderr",
     "output_type": "stream",
     "text": [
      "100%|████████████████████████████████████████████████████████████████████████████████████| 1/1 [00:00<00:00,  1.12it/s]\n"
     ]
    },
    {
     "name": "stdout",
     "output_type": "stream",
     "text": [
      "Iter 1 - Epoch 0 - Client Type: Benign - Client Number 17 - Poison Training False\n"
     ]
    },
    {
     "name": "stderr",
     "output_type": "stream",
     "text": [
      "100%|████████████████████████████████████████████████████████████████████████████████████| 2/2 [00:01<00:00,  1.29it/s]\n"
     ]
    },
    {
     "name": "stdout",
     "output_type": "stream",
     "text": [
      "Iter 1 - Epoch 0 - Client Type: Benign - Client Number 18 - Poison Training False\n"
     ]
    },
    {
     "name": "stderr",
     "output_type": "stream",
     "text": [
      "100%|████████████████████████████████████████████████████████████████████████████████████| 2/2 [00:01<00:00,  1.52it/s]\n"
     ]
    },
    {
     "name": "stdout",
     "output_type": "stream",
     "text": [
      "Iter 1 - Epoch 0 - Client Type: Benign - Client Number 19 - Poison Training False\n"
     ]
    },
    {
     "name": "stderr",
     "output_type": "stream",
     "text": [
      "100%|████████████████████████████████████████████████████████████████████████████████████| 2/2 [00:01<00:00,  1.21it/s]\n"
     ]
    },
    {
     "name": "stdout",
     "output_type": "stream",
     "text": [
      "Original Copylist [8, 4, 8, 7, 0, 5, 3, 8, 8, 6, 8, 7, 2, 6, 1, 7, 4, 7, 0, 1]\n",
      "Found clusters [2 5 2 1 4 6 8 2 2 0 2 1 7 0 3 1 5 1 4 3]\n",
      "Original groups [array([ 4, 18], dtype=int64), array([14, 19], dtype=int64), array([12], dtype=int64), array([6], dtype=int64), array([ 1, 16], dtype=int64), array([5], dtype=int64), array([ 9, 13], dtype=int64), array([ 3, 11, 15, 17], dtype=int64), array([ 0,  2,  7,  8, 10], dtype=int64)]\n",
      "Clustered groups [array([ 9, 13], dtype=int64), array([ 3, 11, 15, 17], dtype=int64), array([ 0,  2,  7,  8, 10], dtype=int64), array([14, 19], dtype=int64), array([ 4, 18], dtype=int64), array([ 1, 16], dtype=int64), array([5], dtype=int64), array([12], dtype=int64), array([6], dtype=int64)]\n",
      "Clustering score 1.0\n",
      "[[0.99999652 0.46601227 0.99919107 0.35201685 0.43231789 0.52014558\n",
      "  0.66873451 0.99875069 0.99895839 0.33192378 0.99886719 0.34294529\n",
      "  0.56805376 0.34829439 0.51395674 0.32302919 0.45864942 0.34256042\n",
      "  0.4496754  0.50820484]\n",
      " [0.46601227 0.99999782 0.46820407 0.50251038 0.5160352  0.48199456\n",
      "  0.50141463 0.47162416 0.46989236 0.45866101 0.47134139 0.46384232\n",
      "  0.26330521 0.51677185 0.43154846 0.4509799  0.99845901 0.44178889\n",
      "  0.5518732  0.40368717]\n",
      " [0.99919102 0.46820407 0.99999756 0.35086981 0.43146107 0.52046941\n",
      "  0.66711264 0.99908464 0.99916857 0.33583055 0.998839   0.34147333\n",
      "  0.57007787 0.35111592 0.51229304 0.32161549 0.46061964 0.34107165\n",
      "  0.4499447  0.50821484]\n",
      " [0.35201683 0.50251036 0.35086982 0.99999705 0.43345788 0.51289749\n",
      "  0.39068737 0.35001644 0.35324423 0.49040286 0.35315043 0.95892534\n",
      "  0.26189599 0.51255977 0.47726705 0.98603469 0.50332688 0.98630819\n",
      "  0.44029882 0.44219264]\n",
      " [0.4323179  0.5160352  0.43146107 0.43345789 0.99999353 0.46634807\n",
      "  0.54090362 0.43660858 0.43516778 0.45677811 0.43235275 0.39621214\n",
      "  0.46301825 0.45082956 0.52560737 0.40979673 0.50788004 0.38648614\n",
      "  0.93344511 0.536808  ]\n",
      " [0.52014559 0.48199459 0.52046941 0.51289745 0.46634805 0.99999676\n",
      "  0.53053753 0.52208513 0.52221822 0.58380822 0.51761835 0.58774057\n",
      "  0.40987746 0.59543796 0.67215392 0.49361785 0.47320236 0.50382707\n",
      "  0.45978504 0.62432825]\n",
      " [0.66873452 0.50141463 0.66711261 0.39068737 0.54090361 0.53053753\n",
      "  0.99999837 0.66829056 0.66867293 0.32642776 0.66846327 0.37963421\n",
      "  0.49739552 0.33954697 0.62111715 0.36613473 0.49251968 0.37509282\n",
      "  0.53607836 0.57572797]\n",
      " [0.99875068 0.47162416 0.99908465 0.35001646 0.43660856 0.52208513\n",
      "  0.66829055 1.         0.99908627 0.3373006  0.99878025 0.33969679\n",
      "  0.57244482 0.35213048 0.51253958 0.31995988 0.46387089 0.33922079\n",
      "  0.45572965 0.50900537]\n",
      " [0.99895838 0.46989235 0.99916854 0.35324425 0.43516781 0.52221821\n",
      "  0.66867293 0.99908624 0.99999965 0.33919575 0.99881114 0.34359696\n",
      "  0.57347953 0.35384183 0.5150775  0.32369531 0.46221698 0.34299527\n",
      "  0.45435479 0.51081887]\n",
      " [0.3319238  0.458661   0.33583056 0.49040286 0.4567781  0.5838082\n",
      "  0.32642774 0.33730059 0.33919574 0.99999371 0.33229451 0.53352789\n",
      "  0.50523323 0.92118956 0.61805859 0.47659268 0.44627869 0.46407225\n",
      "  0.47921954 0.62309039]\n",
      " [0.9988672  0.47134139 0.99883897 0.35315043 0.43235277 0.51761837\n",
      "  0.66846324 0.99878026 0.99881115 0.33229449 0.9999973  0.34178916\n",
      "  0.56673427 0.34753916 0.51048741 0.32297217 0.46412735 0.34269152\n",
      "  0.45178974 0.50447909]\n",
      " [0.34294529 0.46384233 0.34147333 0.95892533 0.39621213 0.58774058\n",
      "  0.3796342  0.3396968  0.34359695 0.53352792 0.34178915 0.99999645\n",
      "  0.28335085 0.54981612 0.51473818 0.95974362 0.46348965 0.95715425\n",
      "  0.39402746 0.4821331 ]\n",
      " [0.56805377 0.26330521 0.57007787 0.26189601 0.46301825 0.40987746\n",
      "  0.49739552 0.57244484 0.5734795  0.5052332  0.56673424 0.28335085\n",
      "  0.99999156 0.52904364 0.69215039 0.24659222 0.24934422 0.25193887\n",
      "  0.45184151 0.72313086]\n",
      " [0.34829437 0.51677186 0.35111592 0.5125598  0.45082956 0.59543796\n",
      "  0.33954696 0.35213046 0.35384182 0.92118955 0.34753918 0.54981611\n",
      "  0.52904367 0.99999179 0.69077743 0.50374275 0.50541546 0.49057705\n",
      "  0.44773699 0.68342033]\n",
      " [0.51395671 0.43154846 0.51229305 0.47726708 0.52560737 0.67215394\n",
      "  0.62111712 0.51253958 0.5150775  0.61805862 0.51048745 0.51473818\n",
      "  0.69215036 0.6907774  0.99999261 0.48049533 0.42096487 0.47378197\n",
      "  0.51516142 0.93637297]\n",
      " [0.32302918 0.45097992 0.32161549 0.98603472 0.40979673 0.49361784\n",
      "  0.36613473 0.31995987 0.32369531 0.47659268 0.32297216 0.95974364\n",
      "  0.24659221 0.50374277 0.4804953  0.99999872 0.45178123 0.98876591\n",
      "  0.41271658 0.44874911]\n",
      " [0.45864942 0.99845902 0.46061964 0.50332691 0.50788005 0.47320236\n",
      "  0.4925197  0.46387091 0.46221698 0.44627869 0.46412734 0.46348965\n",
      "  0.24934422 0.50541543 0.42096486 0.45178123 0.99999691 0.44200206\n",
      "  0.54440741 0.39023509]\n",
      " [0.3425604  0.44178887 0.34107165 0.98630822 0.38648616 0.50382705\n",
      "  0.37509282 0.33922082 0.34299529 0.46407224 0.3426915  0.95715423\n",
      "  0.25193887 0.49057705 0.47378197 0.98876587 0.44200204 0.99999561\n",
      "  0.39043695 0.44164921]\n",
      " [0.4496754  0.5518732  0.44994471 0.4402988  0.93344515 0.45978503\n",
      "  0.53607835 0.45572965 0.45435479 0.47921951 0.45178974 0.39402747\n",
      "  0.45184151 0.44773698 0.51516142 0.41271656 0.54440741 0.39043694\n",
      "  0.99999234 0.52844169]\n",
      " [0.50820484 0.40368717 0.50821483 0.44219263 0.536808   0.62432823\n",
      "  0.57572799 0.5090054  0.51081883 0.62309035 0.50447909 0.48213313\n",
      "  0.7231309  0.68342033 0.93637295 0.44874911 0.39023506 0.44164921\n",
      "  0.52844169 0.99999302]]\n",
      "Original Copylist [8, 4, 8, 7, 0, 5, 3, 8, 8, 6, 8, 7, 2, 6, 1, 7, 4, 7, 0, 1]\n",
      "Found clusters [4 5 4 3 1 6 7 4 4 0 4 3 8 0 2 3 5 3 1 2]\n",
      "Original groups [array([ 4, 18], dtype=int64), array([14, 19], dtype=int64), array([12], dtype=int64), array([6], dtype=int64), array([ 1, 16], dtype=int64), array([5], dtype=int64), array([ 9, 13], dtype=int64), array([ 3, 11, 15, 17], dtype=int64), array([ 0,  2,  7,  8, 10], dtype=int64)]\n",
      "Clustered groups [array([ 9, 13], dtype=int64), array([ 4, 18], dtype=int64), array([14, 19], dtype=int64), array([ 3, 11, 15, 17], dtype=int64), array([ 0,  2,  7,  8, 10], dtype=int64), array([ 1, 16], dtype=int64), array([5], dtype=int64), array([6], dtype=int64), array([12], dtype=int64)]\n",
      "Clustering score 1.0\n",
      "\n",
      "\n",
      " Entering epoch 1\n",
      "Iter 1 - Epoch 0 - Client Type: Benign - Client Number 0 - Poison Training False\n"
     ]
    },
    {
     "name": "stderr",
     "output_type": "stream",
     "text": [
      "100%|████████████████████████████████████████████████████████████████████████████████████| 1/1 [00:00<00:00,  1.06it/s]\n"
     ]
    },
    {
     "name": "stdout",
     "output_type": "stream",
     "text": [
      "Iter 1 - Epoch 0 - Client Type: Benign - Client Number 1 - Poison Training False\n"
     ]
    },
    {
     "name": "stderr",
     "output_type": "stream",
     "text": [
      "100%|████████████████████████████████████████████████████████████████████████████████████| 1/1 [00:01<00:00,  1.01s/it]\n"
     ]
    },
    {
     "name": "stdout",
     "output_type": "stream",
     "text": [
      "Iter 1 - Epoch 0 - Client Type: Benign - Client Number 2 - Poison Training False\n"
     ]
    },
    {
     "name": "stderr",
     "output_type": "stream",
     "text": [
      "100%|████████████████████████████████████████████████████████████████████████████████████| 1/1 [00:01<00:00,  1.03s/it]\n"
     ]
    },
    {
     "name": "stdout",
     "output_type": "stream",
     "text": [
      "Iter 1 - Epoch 0 - Client Type: Benign - Client Number 3 - Poison Training False\n"
     ]
    },
    {
     "name": "stderr",
     "output_type": "stream",
     "text": [
      "100%|████████████████████████████████████████████████████████████████████████████████████| 2/2 [00:01<00:00,  1.57it/s]\n"
     ]
    },
    {
     "name": "stdout",
     "output_type": "stream",
     "text": [
      "Iter 1 - Epoch 0 - Client Type: Benign - Client Number 4 - Poison Training False\n"
     ]
    },
    {
     "name": "stderr",
     "output_type": "stream",
     "text": [
      "100%|████████████████████████████████████████████████████████████████████████████████████| 2/2 [00:01<00:00,  1.55it/s]\n"
     ]
    },
    {
     "name": "stdout",
     "output_type": "stream",
     "text": [
      "Iter 1 - Epoch 0 - Client Type: Benign - Client Number 5 - Poison Training False\n"
     ]
    },
    {
     "name": "stderr",
     "output_type": "stream",
     "text": [
      "100%|████████████████████████████████████████████████████████████████████████████████████| 2/2 [00:01<00:00,  1.08it/s]\n"
     ]
    },
    {
     "name": "stdout",
     "output_type": "stream",
     "text": [
      "Iter 1 - Epoch 0 - Client Type: Benign - Client Number 6 - Poison Training False\n"
     ]
    },
    {
     "name": "stderr",
     "output_type": "stream",
     "text": [
      "100%|████████████████████████████████████████████████████████████████████████████████████| 2/2 [00:01<00:00,  1.31it/s]\n"
     ]
    },
    {
     "name": "stdout",
     "output_type": "stream",
     "text": [
      "Iter 1 - Epoch 0 - Client Type: Benign - Client Number 7 - Poison Training False\n"
     ]
    },
    {
     "name": "stderr",
     "output_type": "stream",
     "text": [
      "100%|████████████████████████████████████████████████████████████████████████████████████| 1/1 [00:00<00:00,  1.17it/s]\n"
     ]
    },
    {
     "name": "stdout",
     "output_type": "stream",
     "text": [
      "Iter 1 - Epoch 0 - Client Type: Benign - Client Number 8 - Poison Training False\n"
     ]
    },
    {
     "name": "stderr",
     "output_type": "stream",
     "text": [
      "100%|████████████████████████████████████████████████████████████████████████████████████| 1/1 [00:00<00:00,  1.14it/s]\n"
     ]
    },
    {
     "name": "stdout",
     "output_type": "stream",
     "text": [
      "Iter 1 - Epoch 0 - Client Type: Benign - Client Number 9 - Poison Training False\n"
     ]
    },
    {
     "name": "stderr",
     "output_type": "stream",
     "text": [
      "100%|████████████████████████████████████████████████████████████████████████████████████| 2/2 [00:01<00:00,  1.73it/s]\n"
     ]
    },
    {
     "name": "stdout",
     "output_type": "stream",
     "text": [
      "Iter 1 - Epoch 0 - Client Type: Benign - Client Number 10 - Poison Training False\n"
     ]
    },
    {
     "name": "stderr",
     "output_type": "stream",
     "text": [
      "100%|████████████████████████████████████████████████████████████████████████████████████| 1/1 [00:00<00:00,  1.33it/s]\n"
     ]
    },
    {
     "name": "stdout",
     "output_type": "stream",
     "text": [
      "Iter 1 - Epoch 0 - Client Type: Benign - Client Number 11 - Poison Training False\n"
     ]
    },
    {
     "name": "stderr",
     "output_type": "stream",
     "text": [
      "100%|████████████████████████████████████████████████████████████████████████████████████| 2/2 [00:01<00:00,  1.70it/s]\n"
     ]
    },
    {
     "name": "stdout",
     "output_type": "stream",
     "text": [
      "Iter 1 - Epoch 0 - Client Type: Benign - Client Number 12 - Poison Training False\n"
     ]
    },
    {
     "name": "stderr",
     "output_type": "stream",
     "text": [
      "100%|████████████████████████████████████████████████████████████████████████████████████| 1/1 [00:00<00:00,  1.66it/s]\n"
     ]
    },
    {
     "name": "stdout",
     "output_type": "stream",
     "text": [
      "Iter 1 - Epoch 0 - Client Type: Benign - Client Number 13 - Poison Training False\n"
     ]
    },
    {
     "name": "stderr",
     "output_type": "stream",
     "text": [
      "100%|████████████████████████████████████████████████████████████████████████████████████| 2/2 [00:01<00:00,  1.87it/s]\n"
     ]
    },
    {
     "name": "stdout",
     "output_type": "stream",
     "text": [
      "Iter 1 - Epoch 0 - Client Type: Benign - Client Number 14 - Poison Training False\n"
     ]
    },
    {
     "name": "stderr",
     "output_type": "stream",
     "text": [
      "100%|████████████████████████████████████████████████████████████████████████████████████| 2/2 [00:01<00:00,  1.35it/s]\n"
     ]
    },
    {
     "name": "stdout",
     "output_type": "stream",
     "text": [
      "Iter 1 - Epoch 0 - Client Type: Benign - Client Number 15 - Poison Training False\n"
     ]
    },
    {
     "name": "stderr",
     "output_type": "stream",
     "text": [
      "100%|████████████████████████████████████████████████████████████████████████████████████| 2/2 [00:01<00:00,  1.72it/s]\n"
     ]
    },
    {
     "name": "stdout",
     "output_type": "stream",
     "text": [
      "Iter 1 - Epoch 0 - Client Type: Benign - Client Number 16 - Poison Training False\n"
     ]
    },
    {
     "name": "stderr",
     "output_type": "stream",
     "text": [
      "100%|████████████████████████████████████████████████████████████████████████████████████| 1/1 [00:00<00:00,  1.13it/s]\n"
     ]
    },
    {
     "name": "stdout",
     "output_type": "stream",
     "text": [
      "Iter 1 - Epoch 0 - Client Type: Benign - Client Number 17 - Poison Training False\n"
     ]
    },
    {
     "name": "stderr",
     "output_type": "stream",
     "text": [
      "100%|████████████████████████████████████████████████████████████████████████████████████| 2/2 [00:01<00:00,  1.66it/s]\n"
     ]
    },
    {
     "name": "stdout",
     "output_type": "stream",
     "text": [
      "Iter 1 - Epoch 0 - Client Type: Benign - Client Number 18 - Poison Training False\n"
     ]
    },
    {
     "name": "stderr",
     "output_type": "stream",
     "text": [
      "100%|████████████████████████████████████████████████████████████████████████████████████| 2/2 [00:01<00:00,  1.71it/s]\n"
     ]
    },
    {
     "name": "stdout",
     "output_type": "stream",
     "text": [
      "Iter 1 - Epoch 0 - Client Type: Benign - Client Number 19 - Poison Training False\n"
     ]
    },
    {
     "name": "stderr",
     "output_type": "stream",
     "text": [
      "100%|████████████████████████████████████████████████████████████████████████████████████| 2/2 [00:01<00:00,  1.35it/s]\n"
     ]
    },
    {
     "name": "stdout",
     "output_type": "stream",
     "text": [
      "Original Copylist [8, 4, 8, 7, 0, 5, 3, 8, 8, 6, 8, 7, 2, 6, 1, 7, 4, 7, 0, 1]\n",
      "Found clusters [1 3 1 0 4 5 8 1 1 6 1 7 1 2 1 0 3 0 4 1]\n",
      "Original groups [array([ 4, 18], dtype=int64), array([14, 19], dtype=int64), array([12], dtype=int64), array([6], dtype=int64), array([ 1, 16], dtype=int64), array([5], dtype=int64), array([ 9, 13], dtype=int64), array([ 3, 11, 15, 17], dtype=int64), array([ 0,  2,  7,  8, 10], dtype=int64)]\n",
      "Clustered groups [array([ 3, 15, 17], dtype=int64), array([ 0,  2,  7,  8, 10, 12, 14, 19], dtype=int64), array([13], dtype=int64), array([ 1, 16], dtype=int64), array([ 4, 18], dtype=int64), array([5], dtype=int64), array([9], dtype=int64), array([11], dtype=int64), array([6], dtype=int64)]\n",
      "Clustering score 0.544\n",
      "[[0.99999765 0.50842988 0.99902952 0.11945297 0.37997793 0.25492343\n",
      "  0.6006374  0.9987314  0.9988725  0.27140331 0.99860252 0.29199085\n",
      "  0.70237408 0.23803244 0.59493482 0.09281356 0.50418806 0.08545752\n",
      "  0.56624794 0.62108419]\n",
      " [0.50842988 0.99999639 0.50908226 0.20503778 0.42420174 0.22593164\n",
      "  0.36759102 0.51292216 0.51079456 0.36968668 0.51121742 0.45817214\n",
      "  0.39697952 0.41659091 0.49431336 0.22477573 0.99862472 0.18202961\n",
      "  0.4931666  0.49425421]\n",
      " [0.9990295  0.50908226 0.99999567 0.11807269 0.37728824 0.25500797\n",
      "  0.5958396  0.99898546 0.99902483 0.27282238 0.99863793 0.28976283\n",
      "  0.70332589 0.23619463 0.59236334 0.092178   0.50473716 0.08503064\n",
      "  0.56189511 0.61831336]\n",
      " [0.11945297 0.20503777 0.1180727  1.         0.43174007 0.44999155\n",
      "  0.25812789 0.11602892 0.12126788 0.47990133 0.12184904 0.60819858\n",
      "  0.11245677 0.3335532  0.29143381 0.82072766 0.20648858 0.81152667\n",
      "  0.2693637  0.24179681]\n",
      " [0.37997792 0.42420174 0.37728823 0.43174008 0.9999896  0.40910595\n",
      "  0.56935405 0.37965095 0.37937997 0.46837988 0.37756035 0.41873545\n",
      "  0.3925864  0.35159499 0.48950838 0.42697587 0.4187771  0.39230643\n",
      "  0.80418006 0.52673323]\n",
      " [0.25492344 0.22593165 0.25500797 0.44999155 0.40910596 0.99999592\n",
      "  0.41503564 0.25494875 0.25651896 0.48746236 0.25348196 0.46863567\n",
      "  0.21796801 0.46923878 0.45382042 0.46942816 0.22006287 0.47490617\n",
      "  0.30214457 0.40908494]\n",
      " [0.6006374  0.36759102 0.59583959 0.25812789 0.56935407 0.41503564\n",
      "  0.99999309 0.59516284 0.59622677 0.28339291 0.59649808 0.28211863\n",
      "  0.45284559 0.30223754 0.59798669 0.22650812 0.36206541 0.22574791\n",
      "  0.58859333 0.62346007]\n",
      " [0.99873143 0.51292213 0.99898546 0.11602892 0.37965096 0.25494875\n",
      "  0.59516283 0.99999796 0.99898815 0.27190524 0.99878063 0.28927938\n",
      "  0.70555562 0.23769906 0.5912638  0.08948534 0.5085717  0.08212718\n",
      "  0.56799531 0.61748766]\n",
      " [0.99887253 0.51079456 0.99902484 0.12126789 0.37937999 0.25651896\n",
      "  0.59622674 0.99898811 0.99999492 0.27522691 0.99873418 0.29175557\n",
      "  0.70559206 0.23898082 0.59409009 0.09355518 0.50642324 0.08627989\n",
      "  0.56515489 0.61937859]\n",
      " [0.27140332 0.36968668 0.27282239 0.47990131 0.46837988 0.48746235\n",
      "  0.28339291 0.27190523 0.27522691 0.99998933 0.26955752 0.52864362\n",
      "  0.32788752 0.52320144 0.4890948  0.47460939 0.36407062 0.44993191\n",
      "  0.41139198 0.51653969]\n",
      " [0.99860253 0.51121739 0.99863789 0.12184904 0.37756036 0.25348197\n",
      "  0.59649806 0.99878061 0.99873418 0.26955751 0.99999935 0.2879732\n",
      "  0.70241975 0.23579483 0.59098731 0.09183079 0.50722333 0.08497582\n",
      "  0.56438414 0.61533111]\n",
      " [0.29199085 0.45817215 0.28976282 0.60819857 0.41873543 0.46863566\n",
      "  0.28211862 0.28927938 0.29175557 0.52864364 0.28797319 0.99999553\n",
      "  0.29327045 0.48318698 0.45156525 0.80797225 0.45900406 0.7775562\n",
      "  0.36565985 0.45843182]\n",
      " [0.70237408 0.39697952 0.7033259  0.11245678 0.3925864  0.217968\n",
      "  0.45284559 0.70555566 0.70559204 0.32788751 0.70241974 0.29327044\n",
      "  0.99999106 0.42618228 0.75604259 0.08572839 0.38754288 0.06345671\n",
      "  0.55434807 0.73607358]\n",
      " [0.23803244 0.41659092 0.23619463 0.33355322 0.35159497 0.46923878\n",
      "  0.30223755 0.23769905 0.23898082 0.52320143 0.23579484 0.48318697\n",
      "  0.42618231 0.99998914 0.56957143 0.37000217 0.40925146 0.35742447\n",
      "  0.32605784 0.56098304]\n",
      " [0.59493478 0.49431336 0.59236335 0.29143382 0.48950839 0.45382043\n",
      "  0.59798667 0.59126383 0.59409009 0.48909482 0.5909873  0.45156525\n",
      "  0.7560426  0.56957144 0.99999027 0.26849515 0.48615369 0.23773575\n",
      "  0.5709466  0.92177583]\n",
      " [0.09281355 0.22477574 0.092178   0.82072767 0.42697586 0.46942817\n",
      "  0.22650812 0.08948533 0.09355517 0.47460939 0.09183078 0.80797223\n",
      "  0.08572839 0.37000219 0.26849513 0.99999595 0.22593396 0.98632975\n",
      "  0.23917482 0.25609815]\n",
      " [0.50418806 0.99862473 0.50473716 0.20648859 0.4187771  0.22006287\n",
      "  0.36206543 0.50857168 0.50642324 0.36407062 0.50722332 0.45900407\n",
      "  0.38754291 0.40925143 0.48615369 0.22593396 0.99999367 0.18266043\n",
      "  0.49015918 0.48580044]\n",
      " [0.08545751 0.1820296  0.08503064 0.81152665 0.39230646 0.47490616\n",
      "  0.22574791 0.08212718 0.08627989 0.44993189 0.08497581 0.77755622\n",
      "  0.06345671 0.35742446 0.23773575 0.98632973 0.18266042 0.99999356\n",
      "  0.19906775 0.22703966]\n",
      " [0.56624797 0.4931666  0.56189514 0.26936369 0.80418008 0.30214457\n",
      "  0.58859333 0.56799531 0.56515489 0.41139198 0.56438414 0.36565987\n",
      "  0.55434807 0.32605784 0.57094663 0.23917481 0.49015917 0.19906775\n",
      "  0.99999144 0.62012981]\n",
      " [0.62108419 0.49425421 0.61831336 0.24179681 0.52673323 0.40908492\n",
      "  0.62346011 0.61748768 0.6193786  0.51653967 0.61533111 0.45843183\n",
      "  0.7360736  0.56098305 0.92177582 0.25609815 0.48580043 0.22703966\n",
      "  0.62012983 0.99999315]]\n",
      "Original Copylist [8, 4, 8, 7, 0, 5, 3, 8, 8, 6, 8, 7, 2, 6, 1, 7, 4, 7, 0, 1]\n",
      "Found clusters [5 4 5 0 1 6 8 5 5 7 5 0 2 3 2 0 4 0 1 2]\n",
      "Original groups [array([ 4, 18], dtype=int64), array([14, 19], dtype=int64), array([12], dtype=int64), array([6], dtype=int64), array([ 1, 16], dtype=int64), array([5], dtype=int64), array([ 9, 13], dtype=int64), array([ 3, 11, 15, 17], dtype=int64), array([ 0,  2,  7,  8, 10], dtype=int64)]\n",
      "Clustered groups [array([ 3, 11, 15, 17], dtype=int64), array([ 4, 18], dtype=int64), array([12, 14, 19], dtype=int64), array([13], dtype=int64), array([ 1, 16], dtype=int64), array([ 0,  2,  7,  8, 10], dtype=int64), array([5], dtype=int64), array([9], dtype=int64), array([6], dtype=int64)]\n",
      "Clustering score 0.9179856115107914\n",
      "\n",
      "\n",
      " Entering epoch 2\n",
      "Iter 1 - Epoch 0 - Client Type: Benign - Client Number 0 - Poison Training False\n"
     ]
    },
    {
     "name": "stderr",
     "output_type": "stream",
     "text": [
      "100%|████████████████████████████████████████████████████████████████████████████████████| 1/1 [00:00<00:00,  1.23it/s]\n"
     ]
    },
    {
     "name": "stdout",
     "output_type": "stream",
     "text": [
      "Iter 1 - Epoch 0 - Client Type: Benign - Client Number 1 - Poison Training False\n"
     ]
    },
    {
     "name": "stderr",
     "output_type": "stream",
     "text": [
      "100%|████████████████████████████████████████████████████████████████████████████████████| 1/1 [00:00<00:00,  1.19it/s]\n"
     ]
    },
    {
     "name": "stdout",
     "output_type": "stream",
     "text": [
      "Iter 1 - Epoch 0 - Client Type: Benign - Client Number 2 - Poison Training False\n"
     ]
    },
    {
     "name": "stderr",
     "output_type": "stream",
     "text": [
      "100%|████████████████████████████████████████████████████████████████████████████████████| 1/1 [00:00<00:00,  1.18it/s]\n"
     ]
    },
    {
     "name": "stdout",
     "output_type": "stream",
     "text": [
      "Iter 1 - Epoch 0 - Client Type: Benign - Client Number 3 - Poison Training False\n"
     ]
    },
    {
     "name": "stderr",
     "output_type": "stream",
     "text": [
      "100%|████████████████████████████████████████████████████████████████████████████████████| 2/2 [00:01<00:00,  1.74it/s]\n"
     ]
    },
    {
     "name": "stdout",
     "output_type": "stream",
     "text": [
      "Iter 1 - Epoch 0 - Client Type: Benign - Client Number 4 - Poison Training False\n"
     ]
    },
    {
     "name": "stderr",
     "output_type": "stream",
     "text": [
      "100%|████████████████████████████████████████████████████████████████████████████████████| 2/2 [00:01<00:00,  1.31it/s]\n"
     ]
    },
    {
     "name": "stdout",
     "output_type": "stream",
     "text": [
      "Iter 1 - Epoch 0 - Client Type: Benign - Client Number 5 - Poison Training False\n"
     ]
    },
    {
     "name": "stderr",
     "output_type": "stream",
     "text": [
      "100%|████████████████████████████████████████████████████████████████████████████████████| 2/2 [00:01<00:00,  1.30it/s]\n"
     ]
    },
    {
     "name": "stdout",
     "output_type": "stream",
     "text": [
      "Iter 1 - Epoch 0 - Client Type: Benign - Client Number 6 - Poison Training False\n"
     ]
    },
    {
     "name": "stderr",
     "output_type": "stream",
     "text": [
      "100%|████████████████████████████████████████████████████████████████████████████████████| 2/2 [00:01<00:00,  1.31it/s]\n"
     ]
    },
    {
     "name": "stdout",
     "output_type": "stream",
     "text": [
      "Iter 1 - Epoch 0 - Client Type: Benign - Client Number 7 - Poison Training False\n"
     ]
    },
    {
     "name": "stderr",
     "output_type": "stream",
     "text": [
      "100%|████████████████████████████████████████████████████████████████████████████████████| 1/1 [00:00<00:00,  1.28it/s]\n"
     ]
    },
    {
     "name": "stdout",
     "output_type": "stream",
     "text": [
      "Iter 1 - Epoch 0 - Client Type: Benign - Client Number 8 - Poison Training False\n"
     ]
    },
    {
     "name": "stderr",
     "output_type": "stream",
     "text": [
      "100%|████████████████████████████████████████████████████████████████████████████████████| 1/1 [00:00<00:00,  1.29it/s]\n"
     ]
    },
    {
     "name": "stdout",
     "output_type": "stream",
     "text": [
      "Iter 1 - Epoch 0 - Client Type: Benign - Client Number 9 - Poison Training False\n"
     ]
    },
    {
     "name": "stderr",
     "output_type": "stream",
     "text": [
      "100%|████████████████████████████████████████████████████████████████████████████████████| 2/2 [00:01<00:00,  1.64it/s]\n"
     ]
    },
    {
     "name": "stdout",
     "output_type": "stream",
     "text": [
      "Iter 1 - Epoch 0 - Client Type: Benign - Client Number 10 - Poison Training False\n"
     ]
    },
    {
     "name": "stderr",
     "output_type": "stream",
     "text": [
      "100%|████████████████████████████████████████████████████████████████████████████████████| 1/1 [00:00<00:00,  1.16it/s]\n"
     ]
    },
    {
     "name": "stdout",
     "output_type": "stream",
     "text": [
      "Iter 1 - Epoch 0 - Client Type: Benign - Client Number 11 - Poison Training False\n"
     ]
    },
    {
     "name": "stderr",
     "output_type": "stream",
     "text": [
      "100%|████████████████████████████████████████████████████████████████████████████████████| 2/2 [00:01<00:00,  1.81it/s]\n"
     ]
    },
    {
     "name": "stdout",
     "output_type": "stream",
     "text": [
      "Iter 1 - Epoch 0 - Client Type: Benign - Client Number 12 - Poison Training False\n"
     ]
    },
    {
     "name": "stderr",
     "output_type": "stream",
     "text": [
      "100%|████████████████████████████████████████████████████████████████████████████████████| 1/1 [00:00<00:00,  1.87it/s]\n"
     ]
    },
    {
     "name": "stdout",
     "output_type": "stream",
     "text": [
      "Iter 1 - Epoch 0 - Client Type: Benign - Client Number 13 - Poison Training False\n"
     ]
    },
    {
     "name": "stderr",
     "output_type": "stream",
     "text": [
      "100%|████████████████████████████████████████████████████████████████████████████████████| 2/2 [00:01<00:00,  1.71it/s]\n"
     ]
    },
    {
     "name": "stdout",
     "output_type": "stream",
     "text": [
      "Iter 1 - Epoch 0 - Client Type: Benign - Client Number 14 - Poison Training False\n"
     ]
    },
    {
     "name": "stderr",
     "output_type": "stream",
     "text": [
      "100%|████████████████████████████████████████████████████████████████████████████████████| 2/2 [00:01<00:00,  1.36it/s]\n"
     ]
    },
    {
     "name": "stdout",
     "output_type": "stream",
     "text": [
      "Iter 1 - Epoch 0 - Client Type: Benign - Client Number 15 - Poison Training False\n"
     ]
    },
    {
     "name": "stderr",
     "output_type": "stream",
     "text": [
      "100%|████████████████████████████████████████████████████████████████████████████████████| 2/2 [00:01<00:00,  1.70it/s]\n"
     ]
    },
    {
     "name": "stdout",
     "output_type": "stream",
     "text": [
      "Iter 1 - Epoch 0 - Client Type: Benign - Client Number 16 - Poison Training False\n"
     ]
    },
    {
     "name": "stderr",
     "output_type": "stream",
     "text": [
      "100%|████████████████████████████████████████████████████████████████████████████████████| 1/1 [00:00<00:00,  1.12it/s]\n"
     ]
    },
    {
     "name": "stdout",
     "output_type": "stream",
     "text": [
      "Iter 1 - Epoch 0 - Client Type: Benign - Client Number 17 - Poison Training False\n"
     ]
    },
    {
     "name": "stderr",
     "output_type": "stream",
     "text": [
      "100%|████████████████████████████████████████████████████████████████████████████████████| 2/2 [00:01<00:00,  1.59it/s]\n"
     ]
    },
    {
     "name": "stdout",
     "output_type": "stream",
     "text": [
      "Iter 1 - Epoch 0 - Client Type: Benign - Client Number 18 - Poison Training False\n"
     ]
    },
    {
     "name": "stderr",
     "output_type": "stream",
     "text": [
      "100%|████████████████████████████████████████████████████████████████████████████████████| 2/2 [00:01<00:00,  1.63it/s]\n"
     ]
    },
    {
     "name": "stdout",
     "output_type": "stream",
     "text": [
      "Iter 1 - Epoch 0 - Client Type: Benign - Client Number 19 - Poison Training False\n"
     ]
    },
    {
     "name": "stderr",
     "output_type": "stream",
     "text": [
      "100%|████████████████████████████████████████████████████████████████████████████████████| 2/2 [00:01<00:00,  1.28it/s]\n"
     ]
    },
    {
     "name": "stdout",
     "output_type": "stream",
     "text": [
      "Original Copylist [8, 4, 8, 7, 0, 5, 3, 8, 8, 6, 8, 7, 2, 6, 1, 7, 4, 7, 0, 1]\n",
      "Found clusters [0 0 0 1 6 4 8 0 0 7 0 1 0 5 2 1 0 1 3 2]\n",
      "Original groups [array([ 4, 18], dtype=int64), array([14, 19], dtype=int64), array([12], dtype=int64), array([6], dtype=int64), array([ 1, 16], dtype=int64), array([5], dtype=int64), array([ 9, 13], dtype=int64), array([ 3, 11, 15, 17], dtype=int64), array([ 0,  2,  7,  8, 10], dtype=int64)]\n",
      "Clustered groups [array([ 0,  1,  2,  7,  8, 10, 12, 16], dtype=int64), array([ 3, 11, 15, 17], dtype=int64), array([14, 19], dtype=int64), array([18], dtype=int64), array([5], dtype=int64), array([13], dtype=int64), array([4], dtype=int64), array([9], dtype=int64), array([6], dtype=int64)]\n",
      "Clustering score 0.6011049723756906\n",
      "[[0.99999772 0.61365678 0.99800844 0.102176   0.46589073 0.25008897\n",
      "  0.44588282 0.99762967 0.99751753 0.3470078  0.99740901 0.22348936\n",
      "  0.78001693 0.18317504 0.47877922 0.11164531 0.6181326  0.07200516\n",
      "  0.27068507 0.50946433]\n",
      " [0.61365678 0.99999692 0.61267895 0.13548408 0.48000357 0.22254682\n",
      "  0.28352342 0.61534567 0.61076239 0.44578704 0.6111163  0.34811312\n",
      "  0.51910565 0.35583923 0.40010378 0.2140482  0.99327971 0.1619363\n",
      "  0.30850708 0.4212865 ]\n",
      " [0.99800843 0.61267895 0.9999981  0.09623919 0.46450458 0.24583484\n",
      "  0.44150102 0.99860242 0.99850177 0.34860467 0.99798866 0.2185352\n",
      "  0.78441716 0.18158033 0.46972332 0.10840512 0.61632141 0.06909677\n",
      "  0.26368354 0.49827416]\n",
      " [0.102176   0.13548408 0.09623919 0.99999932 0.44348401 0.39400074\n",
      "  0.32875262 0.09286292 0.10118358 0.47200425 0.10256856 0.62761486\n",
      "  0.15542609 0.35108401 0.39857699 0.77843555 0.13797793 0.75650026\n",
      "  0.40383464 0.38701265]\n",
      " [0.46589072 0.48000357 0.46450458 0.443484   0.99999322 0.37969948\n",
      "  0.53027509 0.46697619 0.46723877 0.5055658  0.46633293 0.4246525\n",
      "  0.49273435 0.34149221 0.52306704 0.45280199 0.49492472 0.40354077\n",
      "  0.67800451 0.53871282]\n",
      " [0.25008896 0.22254682 0.24583484 0.39400074 0.3796995  0.99999936\n",
      "  0.43924047 0.24493929 0.24663059 0.43954202 0.24626749 0.49737608\n",
      "  0.23207721 0.46616011 0.46245153 0.40483388 0.22317361 0.41546642\n",
      "  0.35239991 0.48398733]\n",
      " [0.44588284 0.28352341 0.44150099 0.32875263 0.5302751  0.43924047\n",
      "  0.99999652 0.43875679 0.44083941 0.26656228 0.44337009 0.32889769\n",
      "  0.37533365 0.36261996 0.56398553 0.30798311 0.27655079 0.32664799\n",
      "  0.60361423 0.56407587]\n",
      " [0.99762968 0.61534563 0.99860242 0.09286292 0.46697619 0.24493929\n",
      "  0.43875679 0.99999895 0.99855894 0.34892569 0.99829005 0.21732937\n",
      "  0.78645151 0.18338634 0.46781797 0.10520232 0.61938299 0.06578261\n",
      "  0.26585169 0.49680879]\n",
      " [0.99751757 0.61076238 0.99850183 0.10118359 0.46723881 0.24663059\n",
      "  0.44083941 0.99855895 0.99999815 0.35120198 0.99822168 0.22151564\n",
      "  0.78781732 0.18551358 0.47088298 0.11030743 0.61469781 0.07066022\n",
      "  0.265233   0.50056517]\n",
      " [0.34700781 0.44578703 0.34860467 0.47200424 0.5055658  0.43954203\n",
      "  0.26656228 0.34892569 0.35120198 0.99999368 0.34711024 0.50450963\n",
      "  0.44128042 0.5580933  0.54178504 0.4698919  0.45353374 0.43234848\n",
      "  0.36140245 0.54842201]\n",
      " [0.99740898 0.61111631 0.99798864 0.10256856 0.46633293 0.2462675\n",
      "  0.44337008 0.99829004 0.99822171 0.34711024 0.99999792 0.21856871\n",
      "  0.78404876 0.18428205 0.47008762 0.10930684 0.61540571 0.07004333\n",
      "  0.26568295 0.50050041]\n",
      " [0.22348936 0.34811313 0.2185352  0.62761482 0.4246525  0.49737607\n",
      "  0.32889769 0.21732937 0.22151564 0.50450964 0.2185687  1.\n",
      "  0.27437223 0.47409906 0.47558865 0.82197949 0.35466036 0.7973056\n",
      "  0.42834467 0.53222004]\n",
      " [0.78001693 0.51910565 0.78441713 0.1554261  0.49273435 0.23207721\n",
      "  0.37533364 0.78645156 0.78781731 0.44128041 0.78404875 0.27437224\n",
      "  0.99999228 0.35382642 0.58393118 0.14991448 0.52542862 0.09787541\n",
      "  0.33882957 0.58787105]\n",
      " [0.18317504 0.35583922 0.18158033 0.351084   0.3414922  0.46616011\n",
      "  0.36261998 0.18338633 0.18551357 0.55809329 0.18428206 0.47409907\n",
      "  0.35382643 0.99999395 0.5277301  0.37668205 0.3541088  0.3839455\n",
      "  0.37409999 0.56264255]\n",
      " [0.4787792  0.40010376 0.46972332 0.398577   0.52306704 0.46245154\n",
      "  0.56398552 0.467818   0.47088298 0.54178508 0.47008762 0.47558865\n",
      "  0.58393119 0.52773012 0.99999308 0.34764523 0.4141315  0.31557778\n",
      "  0.49981412 0.85044374]\n",
      " [0.11164531 0.21404821 0.10840512 0.77843556 0.45280198 0.40483389\n",
      "  0.30798311 0.10520232 0.11030742 0.46989188 0.10930683 0.82197948\n",
      "  0.14991448 0.37668206 0.34764522 0.99999681 0.22235691 0.97835192\n",
      "  0.38443312 0.38380288]\n",
      " [0.61813263 0.99327974 0.61632141 0.13797794 0.49492475 0.2231736\n",
      "  0.27655081 0.61938298 0.61469778 0.45353374 0.6154057  0.35466035\n",
      "  0.52542863 0.35410878 0.41413149 0.22235691 0.9999955  0.16328341\n",
      "  0.30576927 0.4355158 ]\n",
      " [0.07200515 0.16193629 0.06909677 0.75650026 0.40354078 0.41546642\n",
      "  0.32664799 0.06578261 0.07066022 0.43234847 0.07004333 0.79730561\n",
      "  0.09787542 0.38394549 0.31557778 0.97835191 0.1632834  0.99999699\n",
      "  0.38243322 0.35084737]\n",
      " [0.27068508 0.30850708 0.26368356 0.40383466 0.67800452 0.35239991\n",
      "  0.60361423 0.26585169 0.265233   0.36140245 0.26568295 0.42834468\n",
      "  0.33882957 0.37409999 0.49981414 0.38443309 0.30576926 0.38243319\n",
      "  0.99999516 0.52182485]\n",
      " [0.50946433 0.4212865  0.49827415 0.38701264 0.53871282 0.48398732\n",
      "  0.56407589 0.49680878 0.50056517 0.548422   0.50050039 0.53222001\n",
      "  0.58787105 0.56264255 0.85044373 0.38380288 0.43551579 0.35084737\n",
      "  0.52182486 0.99999229]]\n",
      "Original Copylist [8, 4, 8, 7, 0, 5, 3, 8, 8, 6, 8, 7, 2, 6, 1, 7, 4, 7, 0, 1]\n",
      "Found clusters [5 6 5 0 2 4 8 5 5 7 5 0 5 3 1 0 6 0 2 1]\n",
      "Original groups [array([ 4, 18], dtype=int64), array([14, 19], dtype=int64), array([12], dtype=int64), array([6], dtype=int64), array([ 1, 16], dtype=int64), array([5], dtype=int64), array([ 9, 13], dtype=int64), array([ 3, 11, 15, 17], dtype=int64), array([ 0,  2,  7,  8, 10], dtype=int64)]\n",
      "Clustered groups [array([ 3, 11, 15, 17], dtype=int64), array([14, 19], dtype=int64), array([ 4, 18], dtype=int64), array([13], dtype=int64), array([5], dtype=int64), array([ 0,  2,  7,  8, 10, 12], dtype=int64), array([ 1, 16], dtype=int64), array([9], dtype=int64), array([6], dtype=int64)]\n",
      "Clustering score 0.845945945945946\n",
      "\n",
      "\n",
      " Entering epoch 3\n",
      "Iter 1 - Epoch 0 - Client Type: Benign - Client Number 0 - Poison Training False\n"
     ]
    },
    {
     "name": "stderr",
     "output_type": "stream",
     "text": [
      "100%|████████████████████████████████████████████████████████████████████████████████████| 1/1 [00:00<00:00,  1.19it/s]\n"
     ]
    },
    {
     "name": "stdout",
     "output_type": "stream",
     "text": [
      "Iter 1 - Epoch 0 - Client Type: Benign - Client Number 1 - Poison Training False\n"
     ]
    },
    {
     "name": "stderr",
     "output_type": "stream",
     "text": [
      "100%|████████████████████████████████████████████████████████████████████████████████████| 1/1 [00:00<00:00,  1.05it/s]\n"
     ]
    },
    {
     "name": "stdout",
     "output_type": "stream",
     "text": [
      "Iter 1 - Epoch 0 - Client Type: Benign - Client Number 2 - Poison Training False\n"
     ]
    },
    {
     "name": "stderr",
     "output_type": "stream",
     "text": [
      "100%|████████████████████████████████████████████████████████████████████████████████████| 1/1 [00:00<00:00,  1.10it/s]\n"
     ]
    },
    {
     "name": "stdout",
     "output_type": "stream",
     "text": [
      "Iter 1 - Epoch 0 - Client Type: Benign - Client Number 3 - Poison Training False\n"
     ]
    },
    {
     "name": "stderr",
     "output_type": "stream",
     "text": [
      "100%|████████████████████████████████████████████████████████████████████████████████████| 2/2 [00:01<00:00,  1.40it/s]\n"
     ]
    },
    {
     "name": "stdout",
     "output_type": "stream",
     "text": [
      "Iter 1 - Epoch 0 - Client Type: Benign - Client Number 4 - Poison Training False\n"
     ]
    },
    {
     "name": "stderr",
     "output_type": "stream",
     "text": [
      "100%|████████████████████████████████████████████████████████████████████████████████████| 2/2 [00:01<00:00,  1.63it/s]\n"
     ]
    },
    {
     "name": "stdout",
     "output_type": "stream",
     "text": [
      "Iter 1 - Epoch 0 - Client Type: Benign - Client Number 5 - Poison Training False\n"
     ]
    },
    {
     "name": "stderr",
     "output_type": "stream",
     "text": [
      "100%|████████████████████████████████████████████████████████████████████████████████████| 2/2 [00:01<00:00,  1.32it/s]\n"
     ]
    },
    {
     "name": "stdout",
     "output_type": "stream",
     "text": [
      "Iter 1 - Epoch 0 - Client Type: Benign - Client Number 6 - Poison Training False\n"
     ]
    },
    {
     "name": "stderr",
     "output_type": "stream",
     "text": [
      "100%|████████████████████████████████████████████████████████████████████████████████████| 2/2 [00:01<00:00,  1.19it/s]\n"
     ]
    },
    {
     "name": "stdout",
     "output_type": "stream",
     "text": [
      "Iter 1 - Epoch 0 - Client Type: Benign - Client Number 7 - Poison Training False\n"
     ]
    },
    {
     "name": "stderr",
     "output_type": "stream",
     "text": [
      "100%|████████████████████████████████████████████████████████████████████████████████████| 1/1 [00:00<00:00,  1.22it/s]\n"
     ]
    },
    {
     "name": "stdout",
     "output_type": "stream",
     "text": [
      "Iter 1 - Epoch 0 - Client Type: Benign - Client Number 8 - Poison Training False\n"
     ]
    },
    {
     "name": "stderr",
     "output_type": "stream",
     "text": [
      "100%|████████████████████████████████████████████████████████████████████████████████████| 1/1 [00:00<00:00,  1.04it/s]\n"
     ]
    },
    {
     "name": "stdout",
     "output_type": "stream",
     "text": [
      "Iter 1 - Epoch 0 - Client Type: Benign - Client Number 9 - Poison Training False\n"
     ]
    },
    {
     "name": "stderr",
     "output_type": "stream",
     "text": [
      "100%|████████████████████████████████████████████████████████████████████████████████████| 2/2 [00:01<00:00,  1.64it/s]\n"
     ]
    },
    {
     "name": "stdout",
     "output_type": "stream",
     "text": [
      "Iter 1 - Epoch 0 - Client Type: Benign - Client Number 10 - Poison Training False\n"
     ]
    },
    {
     "name": "stderr",
     "output_type": "stream",
     "text": [
      "100%|████████████████████████████████████████████████████████████████████████████████████| 1/1 [00:00<00:00,  1.05it/s]\n"
     ]
    },
    {
     "name": "stdout",
     "output_type": "stream",
     "text": [
      "Iter 1 - Epoch 0 - Client Type: Benign - Client Number 11 - Poison Training False\n"
     ]
    },
    {
     "name": "stderr",
     "output_type": "stream",
     "text": [
      "100%|████████████████████████████████████████████████████████████████████████████████████| 2/2 [00:01<00:00,  1.74it/s]\n"
     ]
    },
    {
     "name": "stdout",
     "output_type": "stream",
     "text": [
      "Iter 1 - Epoch 0 - Client Type: Benign - Client Number 12 - Poison Training False\n"
     ]
    },
    {
     "name": "stderr",
     "output_type": "stream",
     "text": [
      "100%|████████████████████████████████████████████████████████████████████████████████████| 1/1 [00:00<00:00,  1.76it/s]\n"
     ]
    },
    {
     "name": "stdout",
     "output_type": "stream",
     "text": [
      "Iter 1 - Epoch 0 - Client Type: Benign - Client Number 13 - Poison Training False\n"
     ]
    },
    {
     "name": "stderr",
     "output_type": "stream",
     "text": [
      "100%|████████████████████████████████████████████████████████████████████████████████████| 2/2 [00:01<00:00,  1.61it/s]\n"
     ]
    },
    {
     "name": "stdout",
     "output_type": "stream",
     "text": [
      "Iter 1 - Epoch 0 - Client Type: Benign - Client Number 14 - Poison Training False\n"
     ]
    },
    {
     "name": "stderr",
     "output_type": "stream",
     "text": [
      "100%|████████████████████████████████████████████████████████████████████████████████████| 2/2 [00:01<00:00,  1.23it/s]\n"
     ]
    },
    {
     "name": "stdout",
     "output_type": "stream",
     "text": [
      "Iter 1 - Epoch 0 - Client Type: Benign - Client Number 15 - Poison Training False\n"
     ]
    },
    {
     "name": "stderr",
     "output_type": "stream",
     "text": [
      "100%|████████████████████████████████████████████████████████████████████████████████████| 2/2 [00:01<00:00,  1.47it/s]\n"
     ]
    },
    {
     "name": "stdout",
     "output_type": "stream",
     "text": [
      "Iter 1 - Epoch 0 - Client Type: Benign - Client Number 16 - Poison Training False\n"
     ]
    },
    {
     "name": "stderr",
     "output_type": "stream",
     "text": [
      "100%|████████████████████████████████████████████████████████████████████████████████████| 1/1 [00:00<00:00,  1.03it/s]\n"
     ]
    },
    {
     "name": "stdout",
     "output_type": "stream",
     "text": [
      "Iter 1 - Epoch 0 - Client Type: Benign - Client Number 17 - Poison Training False\n"
     ]
    },
    {
     "name": "stderr",
     "output_type": "stream",
     "text": [
      "100%|████████████████████████████████████████████████████████████████████████████████████| 2/2 [00:01<00:00,  1.63it/s]\n"
     ]
    },
    {
     "name": "stdout",
     "output_type": "stream",
     "text": [
      "Iter 1 - Epoch 0 - Client Type: Benign - Client Number 18 - Poison Training False\n"
     ]
    },
    {
     "name": "stderr",
     "output_type": "stream",
     "text": [
      "100%|████████████████████████████████████████████████████████████████████████████████████| 2/2 [00:01<00:00,  1.53it/s]\n"
     ]
    },
    {
     "name": "stdout",
     "output_type": "stream",
     "text": [
      "Iter 1 - Epoch 0 - Client Type: Benign - Client Number 19 - Poison Training False\n"
     ]
    },
    {
     "name": "stderr",
     "output_type": "stream",
     "text": [
      "100%|████████████████████████████████████████████████████████████████████████████████████| 2/2 [00:01<00:00,  1.22it/s]\n"
     ]
    },
    {
     "name": "stdout",
     "output_type": "stream",
     "text": [
      "Original Copylist [8, 4, 8, 7, 0, 5, 3, 8, 8, 6, 8, 7, 2, 6, 1, 7, 4, 7, 0, 1]\n",
      "Found clusters [1 4 1 0 8 7 3 1 1 2 1 0 1 2 6 0 4 0 5 6]\n",
      "Original groups [array([ 4, 18], dtype=int64), array([14, 19], dtype=int64), array([12], dtype=int64), array([6], dtype=int64), array([ 1, 16], dtype=int64), array([5], dtype=int64), array([ 9, 13], dtype=int64), array([ 3, 11, 15, 17], dtype=int64), array([ 0,  2,  7,  8, 10], dtype=int64)]\n",
      "Clustered groups [array([ 3, 11, 15, 17], dtype=int64), array([ 0,  2,  7,  8, 10, 12], dtype=int64), array([ 9, 13], dtype=int64), array([6], dtype=int64), array([ 1, 16], dtype=int64), array([18], dtype=int64), array([14, 19], dtype=int64), array([5], dtype=int64), array([4], dtype=int64)]\n",
      "Clustering score 0.845945945945946\n",
      "[[0.99999532 0.37705216 0.98819131 0.2038609  0.5042479  0.21161663\n",
      "  0.44947409 0.9833365  0.98015765 0.36762018 0.98379941 0.27614225\n",
      "  0.76752527 0.18826718 0.51295402 0.17928204 0.43770289 0.14061747\n",
      "  0.24780851 0.52349653]\n",
      " [0.37705216 0.99999646 0.39211652 0.31189304 0.52613692 0.35307165\n",
      "  0.395662   0.39312568 0.39150738 0.42315997 0.38864211 0.39801412\n",
      "  0.46436225 0.4257143  0.45201433 0.34435024 0.96455042 0.34293203\n",
      "  0.45921313 0.48092359]\n",
      " [0.98819131 0.39211653 0.999997   0.20425716 0.48704194 0.22331547\n",
      "  0.44290746 0.99796239 0.99714245 0.34707835 0.99740621 0.28122567\n",
      "  0.77468321 0.18887169 0.49505217 0.18403115 0.43680987 0.15294148\n",
      "  0.26279096 0.51463816]\n",
      " [0.2038609  0.31189304 0.20425716 0.99999415 0.51015482 0.42285225\n",
      "  0.38603693 0.20236175 0.20970068 0.51999103 0.20806947 0.66318677\n",
      "  0.32120718 0.41653087 0.46936922 0.78038546 0.30170404 0.76053986\n",
      "  0.4784894  0.46747176]\n",
      " [0.5042479  0.52613692 0.48704193 0.51015481 0.99999259 0.4080413\n",
      "  0.55327996 0.48410809 0.48164135 0.55752434 0.48587717 0.49965812\n",
      "  0.54644273 0.39368596 0.58164369 0.49977894 0.56988799 0.46605512\n",
      "  0.68481281 0.6059382 ]\n",
      " [0.21161663 0.35307164 0.22331548 0.42285225 0.40804131 0.99999471\n",
      "  0.49284931 0.22418772 0.22747328 0.43430352 0.22539457 0.50961211\n",
      "  0.3020441  0.48882703 0.47617058 0.41665726 0.30764121 0.43013749\n",
      "  0.45661711 0.52037318]\n",
      " [0.4494741  0.39566199 0.44290745 0.38603694 0.55327997 0.49284931\n",
      "  0.99999102 0.43626452 0.43808255 0.31473908 0.44136228 0.36245049\n",
      "  0.44417365 0.39663161 0.56240713 0.35757905 0.36167842 0.37921198\n",
      "  0.61248918 0.58166408]\n",
      " [0.98333651 0.39312566 0.99796239 0.20236175 0.48410809 0.22418771\n",
      "  0.43626453 0.99999808 0.99830054 0.3422138  0.99809502 0.28075408\n",
      "  0.77465108 0.18877926 0.48769017 0.18101218 0.43689766 0.15122845\n",
      "  0.26735471 0.51040677]\n",
      " [0.9801577  0.39150738 0.99714252 0.20970069 0.48164137 0.22747328\n",
      "  0.43808255 0.99830055 1.         0.34119847 0.99757553 0.28455659\n",
      "  0.77379035 0.19198362 0.48921379 0.18614681 0.43258677 0.1563591\n",
      "  0.27101906 0.51202576]\n",
      " [0.36762018 0.42315997 0.34707836 0.51999106 0.55752434 0.43430353\n",
      "  0.31473907 0.3422138  0.34119847 0.99999348 0.34365079 0.55258454\n",
      "  0.49425491 0.63173577 0.61673801 0.50103358 0.45677359 0.46606971\n",
      "  0.35900262 0.60153861]\n",
      " [0.9837994  0.38864212 0.99740617 0.20806947 0.4858772  0.22539457\n",
      "  0.44136229 0.99809501 0.99757555 0.3436508  0.9999978  0.28336675\n",
      "  0.77251947 0.19077194 0.48961922 0.18444943 0.43231826 0.1544413\n",
      "  0.26910287 0.51390232]\n",
      " [0.27614224 0.39801414 0.28122567 0.66318675 0.49965812 0.50961208\n",
      "  0.36245049 0.2807541  0.28455659 0.55258454 0.28336674 0.99999646\n",
      "  0.39467085 0.5067606  0.50437885 0.8218682  0.41001266 0.81576809\n",
      "  0.4556187  0.56931339]\n",
      " [0.76752527 0.46436227 0.7746832  0.32120718 0.5464427  0.30204411\n",
      "  0.44417361 0.77465113 0.77379035 0.49425491 0.77251944 0.39467086\n",
      "  0.99999307 0.40301229 0.64098666 0.29199342 0.48787163 0.24814323\n",
      "  0.33034455 0.66712474]\n",
      " [0.18826717 0.42571431 0.1888717  0.41653087 0.39368596 0.48882703\n",
      "  0.39663161 0.18877925 0.19198362 0.63173577 0.19077194 0.50676061\n",
      "  0.40301228 0.99999116 0.54197549 0.42151493 0.40443829 0.433823\n",
      "  0.41914489 0.56719211]\n",
      " [0.51295401 0.45201432 0.49505217 0.46936922 0.58164369 0.47617058\n",
      "  0.56240713 0.48769019 0.48921376 0.616738   0.48961924 0.50437885\n",
      "  0.6409867  0.54197553 0.99999258 0.41982545 0.4759596  0.381285\n",
      "  0.45989484 0.83767022]\n",
      " [0.17928204 0.34435023 0.18403114 0.78038547 0.49977893 0.41665726\n",
      "  0.35757905 0.18101216 0.18614681 0.50103357 0.18444944 0.82186819\n",
      "  0.2919934  0.42151493 0.41982544 0.99999522 0.32928765 0.96830322\n",
      "  0.44897419 0.45314065]\n",
      " [0.43770291 0.96455043 0.43680987 0.30170403 0.56988801 0.30764119\n",
      "  0.36167841 0.43689765 0.43258676 0.45677359 0.43231826 0.41001267\n",
      "  0.48787164 0.40443828 0.4759596  0.32928767 0.99999522 0.31436485\n",
      "  0.42320171 0.50090822]\n",
      " [0.14061747 0.34293203 0.15294149 0.76053986 0.46605512 0.43013747\n",
      "  0.37921198 0.15122845 0.1563591  0.46606971 0.1544413  0.81576807\n",
      "  0.24814323 0.433823   0.381285   0.96830319 0.31436486 0.99999567\n",
      "  0.47344366 0.4240008 ]\n",
      " [0.24780851 0.45921313 0.26279098 0.47848941 0.68481282 0.45661708\n",
      "  0.61248918 0.26735471 0.27101906 0.35900263 0.26910288 0.45561872\n",
      "  0.33034455 0.41914489 0.45989486 0.44897417 0.42320171 0.47344364\n",
      "  0.99999272 0.49102385]\n",
      " [0.52349656 0.48092359 0.51463815 0.46747176 0.6059382  0.52037317\n",
      "  0.58166409 0.51040677 0.51202576 0.60153861 0.51390228 0.56931338\n",
      "  0.66712474 0.56719208 0.83767019 0.45314065 0.50090825 0.4240008\n",
      "  0.49102385 0.99998968]]\n",
      "Original Copylist [8, 4, 8, 7, 0, 5, 3, 8, 8, 6, 8, 7, 2, 6, 1, 7, 4, 7, 0, 1]\n",
      "Found clusters [1 4 1 0 2 6 7 1 1 8 1 0 1 3 5 0 4 0 2 5]\n",
      "Original groups [array([ 4, 18], dtype=int64), array([14, 19], dtype=int64), array([12], dtype=int64), array([6], dtype=int64), array([ 1, 16], dtype=int64), array([5], dtype=int64), array([ 9, 13], dtype=int64), array([ 3, 11, 15, 17], dtype=int64), array([ 0,  2,  7,  8, 10], dtype=int64)]\n",
      "Clustered groups [array([ 3, 11, 15, 17], dtype=int64), array([ 0,  2,  7,  8, 10, 12], dtype=int64), array([ 4, 18], dtype=int64), array([13], dtype=int64), array([ 1, 16], dtype=int64), array([14, 19], dtype=int64), array([5], dtype=int64), array([6], dtype=int64), array([9], dtype=int64)]\n",
      "Clustering score 0.845945945945946\n",
      "\n",
      "\n",
      " Entering epoch 4\n",
      "Iter 1 - Epoch 0 - Client Type: Benign - Client Number 0 - Poison Training False\n"
     ]
    },
    {
     "name": "stderr",
     "output_type": "stream",
     "text": [
      "100%|████████████████████████████████████████████████████████████████████████████████████| 1/1 [00:00<00:00,  1.18it/s]\n"
     ]
    },
    {
     "name": "stdout",
     "output_type": "stream",
     "text": [
      "Iter 1 - Epoch 0 - Client Type: Benign - Client Number 1 - Poison Training False\n"
     ]
    },
    {
     "name": "stderr",
     "output_type": "stream",
     "text": [
      "100%|████████████████████████████████████████████████████████████████████████████████████| 1/1 [00:01<00:00,  1.02s/it]\n"
     ]
    },
    {
     "name": "stdout",
     "output_type": "stream",
     "text": [
      "Iter 1 - Epoch 0 - Client Type: Benign - Client Number 2 - Poison Training False\n"
     ]
    },
    {
     "name": "stderr",
     "output_type": "stream",
     "text": [
      "100%|████████████████████████████████████████████████████████████████████████████████████| 1/1 [00:00<00:00,  1.02it/s]\n"
     ]
    },
    {
     "name": "stdout",
     "output_type": "stream",
     "text": [
      "Iter 1 - Epoch 0 - Client Type: Benign - Client Number 3 - Poison Training False\n"
     ]
    },
    {
     "name": "stderr",
     "output_type": "stream",
     "text": [
      "100%|████████████████████████████████████████████████████████████████████████████████████| 2/2 [00:01<00:00,  1.56it/s]\n"
     ]
    },
    {
     "name": "stdout",
     "output_type": "stream",
     "text": [
      "Iter 1 - Epoch 0 - Client Type: Benign - Client Number 4 - Poison Training False\n"
     ]
    },
    {
     "name": "stderr",
     "output_type": "stream",
     "text": [
      "100%|████████████████████████████████████████████████████████████████████████████████████| 2/2 [00:01<00:00,  1.43it/s]\n"
     ]
    },
    {
     "name": "stdout",
     "output_type": "stream",
     "text": [
      "Iter 1 - Epoch 0 - Client Type: Benign - Client Number 5 - Poison Training False\n"
     ]
    },
    {
     "name": "stderr",
     "output_type": "stream",
     "text": [
      "100%|████████████████████████████████████████████████████████████████████████████████████| 2/2 [00:01<00:00,  1.23it/s]\n"
     ]
    },
    {
     "name": "stdout",
     "output_type": "stream",
     "text": [
      "Iter 1 - Epoch 0 - Client Type: Benign - Client Number 6 - Poison Training False\n"
     ]
    },
    {
     "name": "stderr",
     "output_type": "stream",
     "text": [
      "100%|████████████████████████████████████████████████████████████████████████████████████| 2/2 [00:01<00:00,  1.22it/s]\n"
     ]
    },
    {
     "name": "stdout",
     "output_type": "stream",
     "text": [
      "Iter 1 - Epoch 0 - Client Type: Benign - Client Number 7 - Poison Training False\n"
     ]
    },
    {
     "name": "stderr",
     "output_type": "stream",
     "text": [
      "100%|████████████████████████████████████████████████████████████████████████████████████| 1/1 [00:00<00:00,  1.22it/s]\n"
     ]
    },
    {
     "name": "stdout",
     "output_type": "stream",
     "text": [
      "Iter 1 - Epoch 0 - Client Type: Benign - Client Number 8 - Poison Training False\n"
     ]
    },
    {
     "name": "stderr",
     "output_type": "stream",
     "text": [
      "100%|████████████████████████████████████████████████████████████████████████████████████| 1/1 [00:00<00:00,  1.22it/s]\n"
     ]
    },
    {
     "name": "stdout",
     "output_type": "stream",
     "text": [
      "Iter 1 - Epoch 0 - Client Type: Benign - Client Number 9 - Poison Training False\n"
     ]
    },
    {
     "name": "stderr",
     "output_type": "stream",
     "text": [
      "100%|████████████████████████████████████████████████████████████████████████████████████| 2/2 [00:01<00:00,  1.55it/s]\n"
     ]
    },
    {
     "name": "stdout",
     "output_type": "stream",
     "text": [
      "Iter 1 - Epoch 0 - Client Type: Benign - Client Number 10 - Poison Training False\n"
     ]
    },
    {
     "name": "stderr",
     "output_type": "stream",
     "text": [
      "100%|████████████████████████████████████████████████████████████████████████████████████| 1/1 [00:00<00:00,  1.27it/s]\n"
     ]
    },
    {
     "name": "stdout",
     "output_type": "stream",
     "text": [
      "Iter 1 - Epoch 0 - Client Type: Benign - Client Number 11 - Poison Training False\n"
     ]
    },
    {
     "name": "stderr",
     "output_type": "stream",
     "text": [
      "100%|████████████████████████████████████████████████████████████████████████████████████| 2/2 [00:01<00:00,  1.52it/s]\n"
     ]
    },
    {
     "name": "stdout",
     "output_type": "stream",
     "text": [
      "Iter 1 - Epoch 0 - Client Type: Benign - Client Number 12 - Poison Training False\n"
     ]
    },
    {
     "name": "stderr",
     "output_type": "stream",
     "text": [
      "100%|████████████████████████████████████████████████████████████████████████████████████| 1/1 [00:00<00:00,  1.88it/s]\n"
     ]
    },
    {
     "name": "stdout",
     "output_type": "stream",
     "text": [
      "Iter 1 - Epoch 0 - Client Type: Benign - Client Number 13 - Poison Training False\n"
     ]
    },
    {
     "name": "stderr",
     "output_type": "stream",
     "text": [
      "100%|████████████████████████████████████████████████████████████████████████████████████| 2/2 [00:01<00:00,  1.61it/s]\n"
     ]
    },
    {
     "name": "stdout",
     "output_type": "stream",
     "text": [
      "Iter 1 - Epoch 0 - Client Type: Benign - Client Number 14 - Poison Training False\n"
     ]
    },
    {
     "name": "stderr",
     "output_type": "stream",
     "text": [
      "100%|████████████████████████████████████████████████████████████████████████████████████| 2/2 [00:01<00:00,  1.35it/s]\n"
     ]
    },
    {
     "name": "stdout",
     "output_type": "stream",
     "text": [
      "Iter 1 - Epoch 0 - Client Type: Benign - Client Number 15 - Poison Training False\n"
     ]
    },
    {
     "name": "stderr",
     "output_type": "stream",
     "text": [
      "100%|████████████████████████████████████████████████████████████████████████████████████| 2/2 [00:01<00:00,  1.83it/s]\n"
     ]
    },
    {
     "name": "stdout",
     "output_type": "stream",
     "text": [
      "Iter 1 - Epoch 0 - Client Type: Benign - Client Number 16 - Poison Training False\n"
     ]
    },
    {
     "name": "stderr",
     "output_type": "stream",
     "text": [
      "100%|████████████████████████████████████████████████████████████████████████████████████| 1/1 [00:01<00:00,  1.24s/it]\n"
     ]
    },
    {
     "name": "stdout",
     "output_type": "stream",
     "text": [
      "Iter 1 - Epoch 0 - Client Type: Benign - Client Number 17 - Poison Training False\n"
     ]
    },
    {
     "name": "stderr",
     "output_type": "stream",
     "text": [
      "100%|████████████████████████████████████████████████████████████████████████████████████| 2/2 [00:01<00:00,  1.73it/s]\n"
     ]
    },
    {
     "name": "stdout",
     "output_type": "stream",
     "text": [
      "Iter 1 - Epoch 0 - Client Type: Benign - Client Number 18 - Poison Training False\n"
     ]
    },
    {
     "name": "stderr",
     "output_type": "stream",
     "text": [
      "100%|████████████████████████████████████████████████████████████████████████████████████| 2/2 [00:01<00:00,  1.65it/s]\n"
     ]
    },
    {
     "name": "stdout",
     "output_type": "stream",
     "text": [
      "Iter 1 - Epoch 0 - Client Type: Benign - Client Number 19 - Poison Training False\n"
     ]
    },
    {
     "name": "stderr",
     "output_type": "stream",
     "text": [
      "100%|████████████████████████████████████████████████████████████████████████████████████| 2/2 [00:01<00:00,  1.35it/s]\n"
     ]
    },
    {
     "name": "stdout",
     "output_type": "stream",
     "text": [
      "Original Copylist [8, 4, 8, 7, 0, 5, 3, 8, 8, 6, 8, 7, 2, 6, 1, 7, 4, 7, 0, 1]\n",
      "Found clusters [8 1 8 2 0 6 7 8 8 5 8 2 0 5 0 3 1 3 4 0]\n",
      "Original groups [array([ 4, 18], dtype=int64), array([14, 19], dtype=int64), array([12], dtype=int64), array([6], dtype=int64), array([ 1, 16], dtype=int64), array([5], dtype=int64), array([ 9, 13], dtype=int64), array([ 3, 11, 15, 17], dtype=int64), array([ 0,  2,  7,  8, 10], dtype=int64)]\n",
      "Clustered groups [array([ 4, 12, 14, 19], dtype=int64), array([ 1, 16], dtype=int64), array([ 3, 11], dtype=int64), array([15, 17], dtype=int64), array([18], dtype=int64), array([ 9, 13], dtype=int64), array([5], dtype=int64), array([6], dtype=int64), array([ 0,  2,  7,  8, 10], dtype=int64)]\n",
      "Clustering score 0.7205882352941176\n",
      "[[0.99999493 0.25246737 0.97586423 0.19624998 0.39487406 0.23586893\n",
      "  0.39035116 0.96740305 0.96207073 0.32560427 0.96976043 0.21956972\n",
      "  0.49523525 0.24600536 0.36140319 0.19943443 0.36996231 0.21352136\n",
      "  0.21468307 0.32534956]\n",
      " [0.25246737 0.99999156 0.28352409 0.42399043 0.52615939 0.42652463\n",
      "  0.4528365  0.28781174 0.2890135  0.4569185  0.28148287 0.4557962\n",
      "  0.43958386 0.46444377 0.46191523 0.45277307 0.92303352 0.42258044\n",
      "  0.53137525 0.49469531]\n",
      " [0.97586423 0.28352409 0.9999938  0.19120138 0.35296683 0.24180075\n",
      "  0.36651718 0.99809699 0.99684813 0.29288057 0.997752   0.21365393\n",
      "  0.48129658 0.24021124 0.32258085 0.20174337 0.39563378 0.22672628\n",
      "  0.23038153 0.29777632]\n",
      " [0.19624997 0.4239904  0.19120138 0.99998921 0.55034425 0.48643437\n",
      "  0.44059395 0.19039084 0.1966751  0.57465826 0.1925808  0.69866148\n",
      "  0.427944   0.49172684 0.51438875 0.77957001 0.38159564 0.70887959\n",
      "  0.53130831 0.5240993 ]\n",
      " [0.39487405 0.52615942 0.35296683 0.55034428 0.99998563 0.4715596\n",
      "  0.58483744 0.34665024 0.34576624 0.5911019  0.3488051  0.55494471\n",
      "  0.60470496 0.45645645 0.63918977 0.54563431 0.5458908  0.4906385\n",
      "  0.67128732 0.6644634 ]\n",
      " [0.23586893 0.42652461 0.24180077 0.48643437 0.4715596  0.99998979\n",
      "  0.53147641 0.24003778 0.24388377 0.49830222 0.24029496 0.55739182\n",
      "  0.39214262 0.52127789 0.51719257 0.46729913 0.39059701 0.44954491\n",
      "  0.49209464 0.56541745]\n",
      " [0.39035116 0.4528365  0.36651717 0.44059397 0.58483744 0.53147644\n",
      "  0.99998789 0.35873468 0.3605608  0.38029304 0.36238227 0.39852366\n",
      "  0.49288682 0.42689315 0.58520923 0.39763145 0.41743056 0.40078487\n",
      "  0.62357868 0.60379693]\n",
      " [0.96740303 0.28781173 0.99809699 0.19039085 0.34665024 0.24003777\n",
      "  0.35873468 1.         0.99849947 0.28673931 0.99851491 0.21204995\n",
      "  0.47843792 0.23956663 0.31194129 0.20101839 0.4012176  0.22882126\n",
      "  0.23499601 0.29062325]\n",
      " [0.96207075 0.28901349 0.99684813 0.1966751  0.34576624 0.24388377\n",
      "  0.3605608  0.99849947 0.99999405 0.28718855 0.99748225 0.21544534\n",
      "  0.48169237 0.24196636 0.3148465  0.20545745 0.40148688 0.23420795\n",
      "  0.23891887 0.29421892]\n",
      " [0.32560427 0.4569185  0.29288057 0.57465827 0.5911019  0.49830222\n",
      "  0.38029304 0.28673931 0.28718855 0.99998733 0.28948486 0.6035964\n",
      "  0.5516167  0.69512315 0.65758728 0.54972732 0.46758032 0.49286873\n",
      "  0.40245839 0.63448114]\n",
      " [0.96976043 0.28148288 0.99775198 0.1925808  0.34880512 0.24029496\n",
      "  0.36238228 0.99851487 0.99748223 0.28948486 0.99999354 0.21345044\n",
      "  0.47685804 0.24184189 0.31460348 0.20215526 0.39600618 0.22975548\n",
      "  0.23515542 0.29352324]\n",
      " [0.21956971 0.45579621 0.21365393 0.69866147 0.55494471 0.5573918\n",
      "  0.39852364 0.21204996 0.21544534 0.6035964  0.21345044 0.99998727\n",
      "  0.47533763 0.55161958 0.5259813  0.82653988 0.44736203 0.76064785\n",
      "  0.49409604 0.59674968]\n",
      " [0.49523526 0.43958386 0.48129658 0.427944   0.60470494 0.39214261\n",
      "  0.4928868  0.47843794 0.48169238 0.5516167  0.47685803 0.47533763\n",
      "  0.99998737 0.45682807 0.68689936 0.38150615 0.45128769 0.33342427\n",
      "  0.35392961 0.7320692 ]\n",
      " [0.24600536 0.46444378 0.24021122 0.49172687 0.45645648 0.52127789\n",
      "  0.42689317 0.23956661 0.24196636 0.69512315 0.24184189 0.55161956\n",
      "  0.45682807 0.99998736 0.55946706 0.48969663 0.44934583 0.47352596\n",
      "  0.45921949 0.56960893]\n",
      " [0.36140319 0.46191521 0.32258085 0.51438875 0.63918978 0.51719257\n",
      "  0.58520923 0.3119413  0.3148465  0.65758727 0.31460349 0.52598133\n",
      "  0.68689938 0.55946708 0.99998628 0.46899315 0.45347768 0.42133624\n",
      "  0.46563993 0.83716854]\n",
      " [0.19943443 0.45277304 0.20174337 0.77956999 0.54563431 0.46729913\n",
      "  0.39763145 0.20101838 0.20545745 0.54972732 0.20215526 0.82653985\n",
      "  0.38150614 0.48969663 0.46899314 0.99999047 0.40746846 0.93151893\n",
      "  0.50573343 0.50602389]\n",
      " [0.3699623  0.92303353 0.39563378 0.38159563 0.54589081 0.39059699\n",
      "  0.41743052 0.40121761 0.40148688 0.46758032 0.3960062  0.44736205\n",
      "  0.45128768 0.44934583 0.45347767 0.40746847 0.99998868 0.3918624\n",
      "  0.48843942 0.46481034]\n",
      " [0.21352137 0.42258044 0.22672628 0.70887959 0.4906385  0.44954492\n",
      "  0.40078487 0.22882126 0.23420796 0.49286872 0.22975548 0.76064783\n",
      "  0.33342428 0.47352596 0.42133624 0.93151895 0.39186241 0.99998681\n",
      "  0.51471438 0.44938355]\n",
      " [0.21468307 0.53137525 0.23038154 0.53130832 0.67128732 0.49209463\n",
      "  0.62357868 0.234996   0.23891886 0.40245839 0.23515542 0.49409605\n",
      "  0.3539296  0.45921949 0.46563994 0.50573342 0.48843939 0.51471435\n",
      "  0.99998892 0.49780519]\n",
      " [0.32534957 0.49469531 0.29777632 0.5240993  0.66446337 0.56541748\n",
      "  0.60379693 0.29062324 0.29421892 0.63448113 0.29352322 0.59674968\n",
      "  0.7320692  0.56960892 0.83716855 0.50602392 0.46481036 0.44938353\n",
      "  0.49780518 0.99998525]]\n",
      "Original Copylist [8, 4, 8, 7, 0, 5, 3, 8, 8, 6, 8, 7, 2, 6, 1, 7, 4, 7, 0, 1]\n",
      "Found clusters [3 4 3 2 8 6 7 3 3 1 3 2 0 1 0 2 4 2 5 0]\n",
      "Original groups [array([ 4, 18], dtype=int64), array([14, 19], dtype=int64), array([12], dtype=int64), array([6], dtype=int64), array([ 1, 16], dtype=int64), array([5], dtype=int64), array([ 9, 13], dtype=int64), array([ 3, 11, 15, 17], dtype=int64), array([ 0,  2,  7,  8, 10], dtype=int64)]\n",
      "Clustered groups [array([12, 14, 19], dtype=int64), array([ 9, 13], dtype=int64), array([ 3, 11, 15, 17], dtype=int64), array([ 0,  2,  7,  8, 10], dtype=int64), array([ 1, 16], dtype=int64), array([18], dtype=int64), array([5], dtype=int64), array([6], dtype=int64), array([4], dtype=int64)]\n",
      "Clustering score 0.9179856115107914\n",
      "Benign net distance [tensor(155.6838), tensor(91.5827), tensor(181.2903), tensor(86.6134), tensor(68.7300), tensor(91.5517), tensor(81.2512), tensor(185.8936), tensor(183.7384), tensor(76.1003), tensor(182.4166), tensor(78.3793), tensor(69.8336), tensor(90.8011), tensor(49.6682), tensor(89.5476), tensor(96.6337), tensor(102.5332), tensor(101.2885), tensor(0.)]\n",
      "Malicious net distance []\n",
      "cos_sim list  [tensor(0.1272), tensor(0.5085), tensor(0.0809), tensor(0.5807), tensor(0.7230), tensor(0.6105), tensor(0.6259), tensor(0.0708), tensor(0.0764), tensor(0.6674), tensor(0.0732), tensor(0.6242), tensor(0.7970), tensor(0.5720), tensor(0.8367), tensor(0.5589), tensor(0.4287), tensor(0.4748), tensor(0.5046), tensor(1.0000)]\n",
      "Norms of local gradients  [tensor(1.6296), tensor(0.8578), tensor(2.0044), tensor(1.0824), tensor(0.9777), tensor(1.2357), tensor(1.1074), tensor(2.0662), tensor(2.0301), tensor(0.9268), tensor(2.0151), tensor(0.9662), tensor(0.6386), tensor(1.0445), tensor(1.0833), tensor(1.0787), tensor(0.7637), tensor(1.2142), tensor(1.3084), tensor(1.0763)]\n",
      "\n",
      " Aggregating models\n",
      "Cosine Similarities:  [tensor(0.1272), tensor(0.5085), tensor(0.0809), tensor(0.5807), tensor(0.7230), tensor(0.6105), tensor(0.6259), tensor(0.0708), tensor(0.0764), tensor(0.6674), tensor(0.0732), tensor(0.6242), tensor(0.7970), tensor(0.5720), tensor(0.8367), tensor(0.5589), tensor(0.4287), tensor(0.4748), tensor(0.5046), tensor(1.0000)]\n",
      "Aggregation Weights:  [0.00845145 0.06417891 0.00437092 0.05808904 0.08005954 0.05348628\n",
      " 0.06119861 0.0037122  0.00407556 0.07797007 0.00393032 0.06994644\n",
      " 0.13511649 0.05929622 0.08361798 0.05609556 0.06078137 0.04233545\n",
      " 0.04175317 0.10058779]\n",
      "\n",
      "\n",
      "\n",
      "Aggregate test at iter  1\n"
     ]
    },
    {
     "name": "stderr",
     "output_type": "stream",
     "text": [
      "100%|██████████████████████████████████████████████████████████████████████████████████| 10/10 [00:02<00:00,  4.44it/s]\n"
     ]
    },
    {
     "name": "stdout",
     "output_type": "stream",
     "text": [
      "\n",
      "Test set: Avg. loss: 0.0014, Accuracy: 5901/10000 (59%)\n",
      "\n",
      "\n",
      "\n",
      " Entering epoch 0\n",
      "Iter 2 - Epoch 0 - Client Type: Benign - Client Number 0 - Poison Training False\n"
     ]
    },
    {
     "name": "stderr",
     "output_type": "stream",
     "text": [
      "100%|████████████████████████████████████████████████████████████████████████████████████| 1/1 [00:00<00:00,  1.25it/s]\n"
     ]
    },
    {
     "name": "stdout",
     "output_type": "stream",
     "text": [
      "Iter 2 - Epoch 0 - Client Type: Benign - Client Number 1 - Poison Training False\n"
     ]
    },
    {
     "name": "stderr",
     "output_type": "stream",
     "text": [
      "100%|████████████████████████████████████████████████████████████████████████████████████| 1/1 [00:00<00:00,  1.12it/s]\n"
     ]
    },
    {
     "name": "stdout",
     "output_type": "stream",
     "text": [
      "Iter 2 - Epoch 0 - Client Type: Benign - Client Number 2 - Poison Training False\n"
     ]
    },
    {
     "name": "stderr",
     "output_type": "stream",
     "text": [
      "100%|████████████████████████████████████████████████████████████████████████████████████| 1/1 [00:00<00:00,  1.20it/s]\n"
     ]
    },
    {
     "name": "stdout",
     "output_type": "stream",
     "text": [
      "Iter 2 - Epoch 0 - Client Type: Benign - Client Number 3 - Poison Training False\n"
     ]
    },
    {
     "name": "stderr",
     "output_type": "stream",
     "text": [
      "100%|████████████████████████████████████████████████████████████████████████████████████| 2/2 [00:01<00:00,  1.78it/s]\n"
     ]
    },
    {
     "name": "stdout",
     "output_type": "stream",
     "text": [
      "Iter 2 - Epoch 0 - Client Type: Benign - Client Number 4 - Poison Training False\n"
     ]
    },
    {
     "name": "stderr",
     "output_type": "stream",
     "text": [
      "100%|████████████████████████████████████████████████████████████████████████████████████| 2/2 [00:01<00:00,  1.35it/s]\n"
     ]
    },
    {
     "name": "stdout",
     "output_type": "stream",
     "text": [
      "Iter 2 - Epoch 0 - Client Type: Benign - Client Number 5 - Poison Training False\n"
     ]
    },
    {
     "name": "stderr",
     "output_type": "stream",
     "text": [
      "100%|████████████████████████████████████████████████████████████████████████████████████| 2/2 [00:01<00:00,  1.12it/s]\n"
     ]
    },
    {
     "name": "stdout",
     "output_type": "stream",
     "text": [
      "Iter 2 - Epoch 0 - Client Type: Benign - Client Number 6 - Poison Training False\n"
     ]
    },
    {
     "name": "stderr",
     "output_type": "stream",
     "text": [
      "100%|████████████████████████████████████████████████████████████████████████████████████| 2/2 [00:01<00:00,  1.17it/s]\n"
     ]
    },
    {
     "name": "stdout",
     "output_type": "stream",
     "text": [
      "Iter 2 - Epoch 0 - Client Type: Benign - Client Number 7 - Poison Training False\n"
     ]
    },
    {
     "name": "stderr",
     "output_type": "stream",
     "text": [
      "100%|████████████████████████████████████████████████████████████████████████████████████| 1/1 [00:00<00:00,  1.05it/s]\n"
     ]
    },
    {
     "name": "stdout",
     "output_type": "stream",
     "text": [
      "Iter 2 - Epoch 0 - Client Type: Benign - Client Number 8 - Poison Training False\n"
     ]
    },
    {
     "name": "stderr",
     "output_type": "stream",
     "text": [
      "100%|████████████████████████████████████████████████████████████████████████████████████| 1/1 [00:01<00:00,  1.05s/it]\n"
     ]
    },
    {
     "name": "stdout",
     "output_type": "stream",
     "text": [
      "Iter 2 - Epoch 0 - Client Type: Benign - Client Number 9 - Poison Training False\n"
     ]
    },
    {
     "name": "stderr",
     "output_type": "stream",
     "text": [
      "100%|████████████████████████████████████████████████████████████████████████████████████| 2/2 [00:01<00:00,  1.57it/s]\n"
     ]
    },
    {
     "name": "stdout",
     "output_type": "stream",
     "text": [
      "Iter 2 - Epoch 0 - Client Type: Benign - Client Number 10 - Poison Training False\n"
     ]
    },
    {
     "name": "stderr",
     "output_type": "stream",
     "text": [
      "100%|████████████████████████████████████████████████████████████████████████████████████| 1/1 [00:00<00:00,  1.07it/s]\n"
     ]
    },
    {
     "name": "stdout",
     "output_type": "stream",
     "text": [
      "Iter 2 - Epoch 0 - Client Type: Benign - Client Number 11 - Poison Training False\n"
     ]
    },
    {
     "name": "stderr",
     "output_type": "stream",
     "text": [
      "100%|████████████████████████████████████████████████████████████████████████████████████| 2/2 [00:01<00:00,  1.65it/s]\n"
     ]
    },
    {
     "name": "stdout",
     "output_type": "stream",
     "text": [
      "Iter 2 - Epoch 0 - Client Type: Benign - Client Number 12 - Poison Training False\n"
     ]
    },
    {
     "name": "stderr",
     "output_type": "stream",
     "text": [
      "100%|████████████████████████████████████████████████████████████████████████████████████| 1/1 [00:00<00:00,  1.79it/s]\n"
     ]
    },
    {
     "name": "stdout",
     "output_type": "stream",
     "text": [
      "Iter 2 - Epoch 0 - Client Type: Benign - Client Number 13 - Poison Training False\n"
     ]
    },
    {
     "name": "stderr",
     "output_type": "stream",
     "text": [
      "100%|████████████████████████████████████████████████████████████████████████████████████| 2/2 [00:01<00:00,  1.77it/s]\n"
     ]
    },
    {
     "name": "stdout",
     "output_type": "stream",
     "text": [
      "Iter 2 - Epoch 0 - Client Type: Benign - Client Number 14 - Poison Training False\n"
     ]
    },
    {
     "name": "stderr",
     "output_type": "stream",
     "text": [
      "100%|████████████████████████████████████████████████████████████████████████████████████| 2/2 [00:01<00:00,  1.44it/s]\n"
     ]
    },
    {
     "name": "stdout",
     "output_type": "stream",
     "text": [
      "Iter 2 - Epoch 0 - Client Type: Benign - Client Number 15 - Poison Training False\n"
     ]
    },
    {
     "name": "stderr",
     "output_type": "stream",
     "text": [
      "100%|████████████████████████████████████████████████████████████████████████████████████| 2/2 [00:01<00:00,  1.69it/s]\n"
     ]
    },
    {
     "name": "stdout",
     "output_type": "stream",
     "text": [
      "Iter 2 - Epoch 0 - Client Type: Benign - Client Number 16 - Poison Training False\n"
     ]
    },
    {
     "name": "stderr",
     "output_type": "stream",
     "text": [
      "100%|████████████████████████████████████████████████████████████████████████████████████| 1/1 [00:00<00:00,  1.17it/s]\n"
     ]
    },
    {
     "name": "stdout",
     "output_type": "stream",
     "text": [
      "Iter 2 - Epoch 0 - Client Type: Benign - Client Number 17 - Poison Training False\n"
     ]
    },
    {
     "name": "stderr",
     "output_type": "stream",
     "text": [
      "100%|████████████████████████████████████████████████████████████████████████████████████| 2/2 [00:01<00:00,  1.70it/s]\n"
     ]
    },
    {
     "name": "stdout",
     "output_type": "stream",
     "text": [
      "Iter 2 - Epoch 0 - Client Type: Benign - Client Number 18 - Poison Training False\n"
     ]
    },
    {
     "name": "stderr",
     "output_type": "stream",
     "text": [
      "100%|████████████████████████████████████████████████████████████████████████████████████| 2/2 [00:01<00:00,  1.55it/s]\n"
     ]
    },
    {
     "name": "stdout",
     "output_type": "stream",
     "text": [
      "Iter 2 - Epoch 0 - Client Type: Benign - Client Number 19 - Poison Training False\n"
     ]
    },
    {
     "name": "stderr",
     "output_type": "stream",
     "text": [
      "100%|████████████████████████████████████████████████████████████████████████████████████| 2/2 [00:01<00:00,  1.28it/s]\n"
     ]
    },
    {
     "name": "stdout",
     "output_type": "stream",
     "text": [
      "Original Copylist [8, 4, 8, 7, 0, 5, 3, 8, 8, 6, 8, 7, 2, 6, 1, 7, 4, 7, 0, 1]\n",
      "Found clusters [8 7 8 1 3 4 6 8 8 0 8 1 2 0 2 5 7 5 3 2]\n",
      "Original groups [array([ 4, 18], dtype=int64), array([14, 19], dtype=int64), array([12], dtype=int64), array([6], dtype=int64), array([ 1, 16], dtype=int64), array([5], dtype=int64), array([ 9, 13], dtype=int64), array([ 3, 11, 15, 17], dtype=int64), array([ 0,  2,  7,  8, 10], dtype=int64)]\n",
      "Clustered groups [array([ 9, 13], dtype=int64), array([ 3, 11], dtype=int64), array([12, 14, 19], dtype=int64), array([ 4, 18], dtype=int64), array([5], dtype=int64), array([15, 17], dtype=int64), array([6], dtype=int64), array([ 1, 16], dtype=int64), array([ 0,  2,  7,  8, 10], dtype=int64)]\n",
      "Clustering score 0.8246153846153846\n",
      "[[0.99999716 0.25621461 0.97733847 0.16613132 0.43525657 0.34403796\n",
      "  0.53230959 0.96957133 0.96736858 0.27196099 0.97173938 0.18035193\n",
      "  0.56825566 0.27330527 0.40630362 0.15091876 0.3357915  0.14280157\n",
      "  0.32027505 0.39275963]\n",
      " [0.25621461 0.99999507 0.23935142 0.40148595 0.60065795 0.43127837\n",
      "  0.47077076 0.23894575 0.23906987 0.42551456 0.23529579 0.4082867\n",
      "  0.40708193 0.54664754 0.43362072 0.34951949 0.95614137 0.36040495\n",
      "  0.64876746 0.43374921]\n",
      " [0.97733844 0.23935143 0.99999952 0.12427095 0.36680076 0.313065\n",
      "  0.47792008 0.99823249 0.99751291 0.22901418 0.9977961  0.13811196\n",
      "  0.50840984 0.23455375 0.33333301 0.11779017 0.32174828 0.12453194\n",
      "  0.2824558  0.32494799]\n",
      " [0.16613132 0.40148592 0.12427095 0.99999121 0.5110827  0.47813976\n",
      "  0.39375435 0.11693557 0.12324376 0.6089153  0.1197905  0.81602576\n",
      "  0.42378899 0.59842048 0.55769415 0.8209271  0.35965581 0.78921457\n",
      "  0.51916352 0.55424742]\n",
      " [0.43525657 0.60065796 0.36680075 0.51108272 0.99999127 0.56492929\n",
      "  0.54918243 0.35835469 0.35779983 0.58951466 0.36055233 0.54672922\n",
      "  0.60526442 0.57211538 0.612178   0.44152259 0.60213423 0.4296185\n",
      "  0.81937483 0.6510516 ]\n",
      " [0.34403796 0.43127836 0.313065   0.47813977 0.56492929 0.99998953\n",
      "  0.53352375 0.30909008 0.31065822 0.43747924 0.30771713 0.54077178\n",
      "  0.47503836 0.56730176 0.5751464  0.3967345  0.40695336 0.39299716\n",
      "  0.58241732 0.5990782 ]\n",
      " [0.53230962 0.47077077 0.47792008 0.39375436 0.54918243 0.53352376\n",
      "  0.9999949  0.46550544 0.47244674 0.31202051 0.47069182 0.36863609\n",
      "  0.60891192 0.40829154 0.61597618 0.34423877 0.45232955 0.33035165\n",
      "  0.58336962 0.60052895]\n",
      " [0.96957129 0.23894574 0.99823246 0.11693557 0.35835471 0.30909008\n",
      "  0.46550544 1.         0.99848726 0.2185213  0.99857675 0.13104062\n",
      "  0.49883549 0.22856801 0.31668312 0.1094875  0.32331492 0.12025087\n",
      "  0.28095568 0.31043742]\n",
      " [0.9673686  0.23906986 0.99751291 0.12324376 0.35779983 0.31065822\n",
      "  0.47244674 0.99848723 0.99999798 0.22115238 0.99767342 0.13600375\n",
      "  0.50299851 0.23039326 0.3228337  0.11493583 0.32256905 0.12604008\n",
      "  0.28244287 0.31618411]\n",
      " [0.27196099 0.42551456 0.22901418 0.6089153  0.58951466 0.43747923\n",
      "  0.3120205  0.2185213  0.22115238 0.9999889  0.22055597 0.62614893\n",
      "  0.39905794 0.73274486 0.52287771 0.61726033 0.42079412 0.58495721\n",
      "  0.47165952 0.51683713]\n",
      " [0.97173938 0.2352958  0.99779609 0.1197905  0.36055234 0.30771713\n",
      "  0.47069179 0.99857676 0.99767344 0.22055597 0.99999534 0.13391439\n",
      "  0.50088266 0.23049048 0.31954432 0.10989788 0.32043792 0.12098001\n",
      "  0.28133132 0.31374262]\n",
      " [0.18035192 0.40828671 0.13811196 0.81602579 0.54672922 0.54077177\n",
      "  0.36863609 0.13104062 0.13600375 0.62614893 0.13391439 0.9999903\n",
      "  0.43267645 0.61091749 0.56439654 0.78837806 0.38150678 0.78739326\n",
      "  0.53094469 0.59952733]\n",
      " [0.56825567 0.40708192 0.50840987 0.42378899 0.60526444 0.47503835\n",
      "  0.60891191 0.4988355  0.50299851 0.39905793 0.50088269 0.43267645\n",
      "  0.99999058 0.4858391  0.74761164 0.3545959  0.39952501 0.29609938\n",
      "  0.45730752 0.77205427]\n",
      " [0.27330527 0.54664754 0.23455374 0.5984205  0.5721154  0.56730176\n",
      "  0.40829155 0.228568   0.23039325 0.73274486 0.23049047 0.61091748\n",
      "  0.48583913 0.99998897 0.60741461 0.53953002 0.52706166 0.52729329\n",
      "  0.57155996 0.61311016]\n",
      " [0.40630363 0.43362071 0.33333301 0.55769412 0.612178   0.57514643\n",
      "  0.61597618 0.31668311 0.32283371 0.52287769 0.31954434 0.56439655\n",
      "  0.74761165 0.60741465 0.99998951 0.46222541 0.39910329 0.4163676\n",
      "  0.50880802 0.91162767]\n",
      " [0.15091876 0.34951947 0.11779017 0.82092706 0.44152259 0.3967345\n",
      "  0.34423877 0.1094875  0.11493582 0.61726033 0.10989789 0.78837802\n",
      "  0.35459588 0.53953005 0.46222543 0.99998939 0.30894848 0.92281397\n",
      "  0.42395093 0.46820229]\n",
      " [0.3357915  0.95614141 0.32174828 0.35965581 0.60213423 0.40695337\n",
      "  0.45232953 0.32331493 0.32256906 0.42079412 0.32043794 0.38150681\n",
      "  0.39952501 0.52706166 0.39910328 0.30894848 0.9999913  0.32918295\n",
      "  0.61907148 0.38941435]\n",
      " [0.14280157 0.36040495 0.12453194 0.78921457 0.42961849 0.39299716\n",
      "  0.33035165 0.12025087 0.12604009 0.58495721 0.12098001 0.78739325\n",
      "  0.29609938 0.52729329 0.41636759 0.922814   0.32918296 0.99998822\n",
      "  0.45546098 0.41895029]\n",
      " [0.32027507 0.64876743 0.28245579 0.51916353 0.81937483 0.58241732\n",
      "  0.58336962 0.28095568 0.28244288 0.47165952 0.28133132 0.53094469\n",
      "  0.45730755 0.57155996 0.50880803 0.42395093 0.61907144 0.45546096\n",
      "  0.99999106 0.54054341]\n",
      " [0.39275963 0.43374919 0.324948   0.55424745 0.65105162 0.59907818\n",
      "  0.60052895 0.31043742 0.31618411 0.51683715 0.31374261 0.59952733\n",
      "  0.77205424 0.61311012 0.91162771 0.4682023  0.38941436 0.41895028\n",
      "  0.54054341 0.99998887]]\n",
      "Original Copylist [8, 4, 8, 7, 0, 5, 3, 8, 8, 6, 8, 7, 2, 6, 1, 7, 4, 7, 0, 1]\n",
      "Found clusters [3 1 3 2 5 4 6 3 3 8 3 2 0 7 0 2 1 2 5 0]\n",
      "Original groups [array([ 4, 18], dtype=int64), array([14, 19], dtype=int64), array([12], dtype=int64), array([6], dtype=int64), array([ 1, 16], dtype=int64), array([5], dtype=int64), array([ 9, 13], dtype=int64), array([ 3, 11, 15, 17], dtype=int64), array([ 0,  2,  7,  8, 10], dtype=int64)]\n",
      "Clustered groups [array([12, 14, 19], dtype=int64), array([ 1, 16], dtype=int64), array([ 3, 11, 15, 17], dtype=int64), array([ 0,  2,  7,  8, 10], dtype=int64), array([5], dtype=int64), array([ 4, 18], dtype=int64), array([6], dtype=int64), array([13], dtype=int64), array([9], dtype=int64)]\n",
      "Clustering score 0.9179856115107914\n",
      "\n",
      "\n",
      " Entering epoch 1\n",
      "Iter 2 - Epoch 0 - Client Type: Benign - Client Number 0 - Poison Training False\n"
     ]
    },
    {
     "name": "stderr",
     "output_type": "stream",
     "text": [
      "100%|████████████████████████████████████████████████████████████████████████████████████| 1/1 [00:00<00:00,  1.16it/s]\n"
     ]
    },
    {
     "name": "stdout",
     "output_type": "stream",
     "text": [
      "Iter 2 - Epoch 0 - Client Type: Benign - Client Number 1 - Poison Training False\n"
     ]
    },
    {
     "name": "stderr",
     "output_type": "stream",
     "text": [
      "100%|████████████████████████████████████████████████████████████████████████████████████| 1/1 [00:01<00:00,  1.05s/it]\n"
     ]
    },
    {
     "name": "stdout",
     "output_type": "stream",
     "text": [
      "Iter 2 - Epoch 0 - Client Type: Benign - Client Number 2 - Poison Training False\n"
     ]
    },
    {
     "name": "stderr",
     "output_type": "stream",
     "text": [
      "100%|████████████████████████████████████████████████████████████████████████████████████| 1/1 [00:00<00:00,  1.11it/s]\n"
     ]
    },
    {
     "name": "stdout",
     "output_type": "stream",
     "text": [
      "Iter 2 - Epoch 0 - Client Type: Benign - Client Number 3 - Poison Training False\n"
     ]
    },
    {
     "name": "stderr",
     "output_type": "stream",
     "text": [
      "100%|████████████████████████████████████████████████████████████████████████████████████| 2/2 [00:01<00:00,  1.66it/s]\n"
     ]
    },
    {
     "name": "stdout",
     "output_type": "stream",
     "text": [
      "Iter 2 - Epoch 0 - Client Type: Benign - Client Number 4 - Poison Training False\n"
     ]
    },
    {
     "name": "stderr",
     "output_type": "stream",
     "text": [
      "100%|████████████████████████████████████████████████████████████████████████████████████| 2/2 [00:01<00:00,  1.48it/s]\n"
     ]
    },
    {
     "name": "stdout",
     "output_type": "stream",
     "text": [
      "Iter 2 - Epoch 0 - Client Type: Benign - Client Number 5 - Poison Training False\n"
     ]
    },
    {
     "name": "stderr",
     "output_type": "stream",
     "text": [
      "100%|████████████████████████████████████████████████████████████████████████████████████| 2/2 [00:01<00:00,  1.17it/s]\n"
     ]
    },
    {
     "name": "stdout",
     "output_type": "stream",
     "text": [
      "Iter 2 - Epoch 0 - Client Type: Benign - Client Number 6 - Poison Training False\n"
     ]
    },
    {
     "name": "stderr",
     "output_type": "stream",
     "text": [
      "100%|████████████████████████████████████████████████████████████████████████████████████| 2/2 [00:01<00:00,  1.15it/s]\n"
     ]
    },
    {
     "name": "stdout",
     "output_type": "stream",
     "text": [
      "Iter 2 - Epoch 0 - Client Type: Benign - Client Number 7 - Poison Training False\n"
     ]
    },
    {
     "name": "stderr",
     "output_type": "stream",
     "text": [
      "100%|████████████████████████████████████████████████████████████████████████████████████| 1/1 [00:00<00:00,  1.07it/s]\n"
     ]
    },
    {
     "name": "stdout",
     "output_type": "stream",
     "text": [
      "Iter 2 - Epoch 0 - Client Type: Benign - Client Number 8 - Poison Training False\n"
     ]
    },
    {
     "name": "stderr",
     "output_type": "stream",
     "text": [
      "100%|████████████████████████████████████████████████████████████████████████████████████| 1/1 [00:00<00:00,  1.03it/s]\n"
     ]
    },
    {
     "name": "stdout",
     "output_type": "stream",
     "text": [
      "Iter 2 - Epoch 0 - Client Type: Benign - Client Number 9 - Poison Training False\n"
     ]
    },
    {
     "name": "stderr",
     "output_type": "stream",
     "text": [
      "100%|████████████████████████████████████████████████████████████████████████████████████| 2/2 [00:01<00:00,  1.55it/s]\n"
     ]
    },
    {
     "name": "stdout",
     "output_type": "stream",
     "text": [
      "Iter 2 - Epoch 0 - Client Type: Benign - Client Number 10 - Poison Training False\n"
     ]
    },
    {
     "name": "stderr",
     "output_type": "stream",
     "text": [
      "100%|████████████████████████████████████████████████████████████████████████████████████| 1/1 [00:00<00:00,  1.07it/s]\n"
     ]
    },
    {
     "name": "stdout",
     "output_type": "stream",
     "text": [
      "Iter 2 - Epoch 0 - Client Type: Benign - Client Number 11 - Poison Training False\n"
     ]
    },
    {
     "name": "stderr",
     "output_type": "stream",
     "text": [
      "100%|████████████████████████████████████████████████████████████████████████████████████| 2/2 [00:01<00:00,  1.55it/s]\n"
     ]
    },
    {
     "name": "stdout",
     "output_type": "stream",
     "text": [
      "Iter 2 - Epoch 0 - Client Type: Benign - Client Number 12 - Poison Training False\n"
     ]
    },
    {
     "name": "stderr",
     "output_type": "stream",
     "text": [
      "100%|████████████████████████████████████████████████████████████████████████████████████| 1/1 [00:00<00:00,  1.59it/s]\n"
     ]
    },
    {
     "name": "stdout",
     "output_type": "stream",
     "text": [
      "Iter 2 - Epoch 0 - Client Type: Benign - Client Number 13 - Poison Training False\n"
     ]
    },
    {
     "name": "stderr",
     "output_type": "stream",
     "text": [
      "100%|████████████████████████████████████████████████████████████████████████████████████| 2/2 [00:01<00:00,  1.42it/s]\n"
     ]
    },
    {
     "name": "stdout",
     "output_type": "stream",
     "text": [
      "Iter 2 - Epoch 0 - Client Type: Benign - Client Number 14 - Poison Training False\n"
     ]
    },
    {
     "name": "stderr",
     "output_type": "stream",
     "text": [
      "100%|████████████████████████████████████████████████████████████████████████████████████| 2/2 [00:01<00:00,  1.27it/s]\n"
     ]
    },
    {
     "name": "stdout",
     "output_type": "stream",
     "text": [
      "Iter 2 - Epoch 0 - Client Type: Benign - Client Number 15 - Poison Training False\n"
     ]
    },
    {
     "name": "stderr",
     "output_type": "stream",
     "text": [
      "100%|████████████████████████████████████████████████████████████████████████████████████| 2/2 [00:01<00:00,  1.87it/s]\n"
     ]
    },
    {
     "name": "stdout",
     "output_type": "stream",
     "text": [
      "Iter 2 - Epoch 0 - Client Type: Benign - Client Number 16 - Poison Training False\n"
     ]
    },
    {
     "name": "stderr",
     "output_type": "stream",
     "text": [
      "100%|████████████████████████████████████████████████████████████████████████████████████| 1/1 [00:00<00:00,  1.03it/s]\n"
     ]
    },
    {
     "name": "stdout",
     "output_type": "stream",
     "text": [
      "Iter 2 - Epoch 0 - Client Type: Benign - Client Number 17 - Poison Training False\n"
     ]
    },
    {
     "name": "stderr",
     "output_type": "stream",
     "text": [
      "100%|████████████████████████████████████████████████████████████████████████████████████| 2/2 [00:01<00:00,  1.62it/s]\n"
     ]
    },
    {
     "name": "stdout",
     "output_type": "stream",
     "text": [
      "Iter 2 - Epoch 0 - Client Type: Benign - Client Number 18 - Poison Training False\n"
     ]
    },
    {
     "name": "stderr",
     "output_type": "stream",
     "text": [
      "100%|████████████████████████████████████████████████████████████████████████████████████| 2/2 [00:01<00:00,  1.56it/s]\n"
     ]
    },
    {
     "name": "stdout",
     "output_type": "stream",
     "text": [
      "Iter 2 - Epoch 0 - Client Type: Benign - Client Number 19 - Poison Training False\n"
     ]
    },
    {
     "name": "stderr",
     "output_type": "stream",
     "text": [
      "100%|████████████████████████████████████████████████████████████████████████████████████| 2/2 [00:01<00:00,  1.10it/s]\n"
     ]
    },
    {
     "name": "stdout",
     "output_type": "stream",
     "text": [
      "Original Copylist [8, 4, 8, 7, 0, 5, 3, 8, 8, 6, 8, 7, 2, 6, 1, 7, 4, 7, 0, 1]\n",
      "Found clusters [3 1 3 5 8 6 7 3 3 4 3 2 0 0 0 2 1 5 1 0]\n",
      "Original groups [array([ 4, 18], dtype=int64), array([14, 19], dtype=int64), array([12], dtype=int64), array([6], dtype=int64), array([ 1, 16], dtype=int64), array([5], dtype=int64), array([ 9, 13], dtype=int64), array([ 3, 11, 15, 17], dtype=int64), array([ 0,  2,  7,  8, 10], dtype=int64)]\n",
      "Clustered groups [array([12, 13, 14, 19], dtype=int64), array([ 1, 16, 18], dtype=int64), array([11, 15], dtype=int64), array([ 0,  2,  7,  8, 10], dtype=int64), array([9], dtype=int64), array([ 3, 17], dtype=int64), array([5], dtype=int64), array([6], dtype=int64), array([4], dtype=int64)]\n",
      "Clustering score 0.6446043165467625\n",
      "[[ 0.99999989  0.43177939  0.98186557  0.12381813  0.48072045  0.23683133\n",
      "   0.28013601  0.97614174  0.9754301   0.08406309  0.97742102  0.14559555\n",
      "   0.67199006  0.33259331  0.43486004  0.00577552  0.44343255  0.10921097\n",
      "   0.26166686  0.4932728 ]\n",
      " [ 0.43177939  0.99999729  0.40597019  0.432955    0.46028879  0.27482382\n",
      "   0.14575359  0.40546472  0.40520485  0.20219238  0.40113139  0.22520922\n",
      "   0.49960505  0.53599117  0.49378078  0.10032299  0.96384019  0.31858888\n",
      "   0.59897768  0.43511719]\n",
      " [ 0.98186555  0.4059702   0.99999845  0.0949072   0.4298505   0.22778747\n",
      "   0.24541073  0.99821864  0.99779114  0.06528479  0.99757842  0.11372833\n",
      "   0.61113546  0.28929614  0.37597873 -0.00797668  0.42070124  0.09431514\n",
      "   0.23744878  0.42282154]\n",
      " [ 0.12381812  0.43295498  0.0949072   0.99999471  0.32406839  0.39285871\n",
      "   0.28867556  0.09369146  0.09595167  0.43878079  0.09129454  0.38859743\n",
      "   0.27951829  0.48556278  0.47110627  0.58479279  0.41870537  0.79521285\n",
      "   0.52771413  0.30956229]\n",
      " [ 0.48072045  0.4602888   0.42985048  0.3240684   0.99999569  0.48912905\n",
      "   0.49091654  0.42279645  0.42573109  0.32021819  0.42769987  0.35237879\n",
      "   0.54040088  0.45536446  0.35054419  0.30188998  0.41641501  0.31538486\n",
      "   0.61045436  0.54664031]\n",
      " [ 0.23683133  0.27482382  0.22778748  0.39285874  0.48912905  0.99999065\n",
      "   0.44828162  0.22336714  0.22734803  0.39695254  0.22270627  0.26786574\n",
      "   0.23078496  0.33558995  0.39041085  0.31373967  0.2566731   0.36696445\n",
      "   0.5122443   0.33954331]\n",
      " [ 0.28013602  0.1457536   0.24541073  0.28867556  0.49091656  0.44828162\n",
      "   0.99999518  0.23855282  0.24206049  0.35397426  0.24351207  0.18230912\n",
      "   0.30467421  0.13502381  0.24121973  0.32424947  0.12756048  0.23540642\n",
      "   0.37004931  0.34375349]\n",
      " [ 0.97614172  0.40546474  0.99821863  0.09369146  0.42279648  0.22336715\n",
      "   0.23855282  1.          0.99837496  0.06320362  0.99837941  0.11042606\n",
      "   0.60306931  0.28258111  0.36338829 -0.01014907  0.42104905  0.09317462\n",
      "   0.23726478  0.4105774 ]\n",
      " [ 0.9754301   0.40520488  0.99779117  0.09595168  0.42573109  0.22734803\n",
      "   0.24206049  0.99837495  0.99999899  0.0640173   0.99757445  0.11668185\n",
      "   0.60734061  0.28666562  0.37027259 -0.00590606  0.4202636   0.09711291\n",
      "   0.24044602  0.41788162]\n",
      " [ 0.08406308  0.20219238  0.0652848   0.4387808   0.32021819  0.39695252\n",
      "   0.35397425  0.06320362  0.06401729  0.99999355  0.06394944  0.30645395\n",
      "   0.16873126  0.20026348  0.31208068  0.36582659  0.19550604  0.34069141\n",
      "   0.31829857  0.25609607]\n",
      " [ 0.97742105  0.4011314   0.99757841  0.09129454  0.42769987  0.22270627\n",
      "   0.24351205  0.99837942  0.99757443  0.06394944  0.9999991   0.11601136\n",
      "   0.60537045  0.28378612  0.36255413 -0.00759629  0.41605323  0.09196742\n",
      "   0.23645298  0.41445722]\n",
      " [ 0.14559555  0.22520922  0.11372833  0.38859744  0.35237879  0.26786574\n",
      "   0.18230913  0.11042606  0.11668185  0.30645395  0.11601135  0.99999294\n",
      "   0.35511777  0.50563133  0.40153176  0.74342775  0.2143501   0.55005949\n",
      "   0.41898415  0.54324274]\n",
      " [ 0.67199007  0.49960507  0.61113551  0.27951829  0.54040089  0.23078496\n",
      "   0.3046742   0.60306932  0.60734058  0.16873126  0.60537046  0.35511777\n",
      "   0.99999237  0.48891641  0.70540636  0.15229386  0.47684762  0.24063551\n",
      "   0.33591663  0.81548354]\n",
      " [ 0.3325933   0.53599117  0.28929614  0.48556279  0.45536445  0.33558995\n",
      "   0.13502381  0.28258112  0.28666562  0.20026348  0.2837861   0.50563132\n",
      "   0.48891644  0.99999455  0.55010964  0.41340863  0.53205251  0.52957825\n",
      "   0.51111776  0.58640049]\n",
      " [ 0.43486005  0.49378075  0.37597875  0.47110625  0.3505442   0.39041086\n",
      "   0.24121973  0.36338829  0.37027261  0.31208067  0.36255414  0.40153177\n",
      "   0.70540637  0.55010968  0.99999386  0.24036988  0.49909783  0.41706613\n",
      "   0.45277792  0.81487314]\n",
      " [ 0.00577552  0.10032299 -0.00797669  0.58479277  0.30188998  0.31373967\n",
      "   0.32424948 -0.01014908 -0.00590606  0.36582659 -0.00759629  0.74342773\n",
      "   0.15229385  0.41340865  0.24036989  0.99999368  0.08293903  0.79729276\n",
      "   0.4008758   0.27696959]\n",
      " [ 0.44343252  0.9638402   0.42070121  0.41870537  0.41641502  0.25667311\n",
      "   0.12756047  0.42104906  0.4202636   0.19550604  0.41605324  0.21435012\n",
      "   0.47684763  0.5320525   0.49909783  0.08293902  0.99999392  0.30551123\n",
      "   0.59923292  0.42040614]\n",
      " [ 0.10921097  0.31858888  0.09431514  0.79521288  0.31538485  0.36696445\n",
      "   0.23540642  0.09317462  0.09711291  0.34069141  0.09196742  0.55005949\n",
      "   0.24063551  0.52957825  0.41706611  0.79729281  0.30551122  0.99999191\n",
      "   0.47118976  0.31373653]\n",
      " [ 0.26166687  0.59897767  0.23744878  0.52771413  0.61045437  0.5122443\n",
      "   0.37004931  0.23726478  0.24044602  0.31829857  0.23645298  0.41898417\n",
      "   0.33591664  0.51111778  0.45277793  0.4008758   0.59923289  0.47118975\n",
      "   0.99998921  0.39463196]\n",
      " [ 0.4932728   0.4351172   0.42282158  0.30956231  0.54664033  0.3395433\n",
      "   0.34375349  0.41057737  0.41788162  0.25609608  0.41445722  0.54324273\n",
      "   0.81548353  0.58640047  0.81487312  0.2769696   0.42040616  0.31373653\n",
      "   0.39463196  0.99999068]]\n",
      "Original Copylist [8, 4, 8, 7, 0, 5, 3, 8, 8, 6, 8, 7, 2, 6, 1, 7, 4, 7, 0, 1]\n",
      "Found clusters [7 0 7 1 2 8 5 7 7 4 7 6 3 0 3 1 0 1 2 3]\n",
      "Original groups [array([ 4, 18], dtype=int64), array([14, 19], dtype=int64), array([12], dtype=int64), array([6], dtype=int64), array([ 1, 16], dtype=int64), array([5], dtype=int64), array([ 9, 13], dtype=int64), array([ 3, 11, 15, 17], dtype=int64), array([ 0,  2,  7,  8, 10], dtype=int64)]\n",
      "Clustered groups [array([ 1, 13, 16], dtype=int64), array([ 3, 15, 17], dtype=int64), array([ 4, 18], dtype=int64), array([12, 14, 19], dtype=int64), array([9], dtype=int64), array([6], dtype=int64), array([11], dtype=int64), array([ 0,  2,  7,  8, 10], dtype=int64), array([5], dtype=int64)]\n",
      "Clustering score 0.7764705882352941\n",
      "\n",
      "\n",
      " Entering epoch 2\n",
      "Iter 2 - Epoch 0 - Client Type: Benign - Client Number 0 - Poison Training False\n"
     ]
    },
    {
     "name": "stderr",
     "output_type": "stream",
     "text": [
      "100%|████████████████████████████████████████████████████████████████████████████████████| 1/1 [00:00<00:00,  1.04it/s]\n"
     ]
    },
    {
     "name": "stdout",
     "output_type": "stream",
     "text": [
      "Iter 2 - Epoch 0 - Client Type: Benign - Client Number 1 - Poison Training False\n"
     ]
    },
    {
     "name": "stderr",
     "output_type": "stream",
     "text": [
      "100%|████████████████████████████████████████████████████████████████████████████████████| 1/1 [00:00<00:00,  1.01it/s]\n"
     ]
    },
    {
     "name": "stdout",
     "output_type": "stream",
     "text": [
      "Iter 2 - Epoch 0 - Client Type: Benign - Client Number 2 - Poison Training False\n"
     ]
    },
    {
     "name": "stderr",
     "output_type": "stream",
     "text": [
      "100%|████████████████████████████████████████████████████████████████████████████████████| 1/1 [00:00<00:00,  1.17it/s]\n"
     ]
    },
    {
     "name": "stdout",
     "output_type": "stream",
     "text": [
      "Iter 2 - Epoch 0 - Client Type: Benign - Client Number 3 - Poison Training False\n"
     ]
    },
    {
     "name": "stderr",
     "output_type": "stream",
     "text": [
      "100%|████████████████████████████████████████████████████████████████████████████████████| 2/2 [00:01<00:00,  1.60it/s]\n"
     ]
    },
    {
     "name": "stdout",
     "output_type": "stream",
     "text": [
      "Iter 2 - Epoch 0 - Client Type: Benign - Client Number 4 - Poison Training False\n"
     ]
    },
    {
     "name": "stderr",
     "output_type": "stream",
     "text": [
      "100%|████████████████████████████████████████████████████████████████████████████████████| 2/2 [00:01<00:00,  1.51it/s]\n"
     ]
    },
    {
     "name": "stdout",
     "output_type": "stream",
     "text": [
      "Iter 2 - Epoch 0 - Client Type: Benign - Client Number 5 - Poison Training False\n"
     ]
    },
    {
     "name": "stderr",
     "output_type": "stream",
     "text": [
      "100%|████████████████████████████████████████████████████████████████████████████████████| 2/2 [00:01<00:00,  1.23it/s]\n"
     ]
    },
    {
     "name": "stdout",
     "output_type": "stream",
     "text": [
      "Iter 2 - Epoch 0 - Client Type: Benign - Client Number 6 - Poison Training False\n"
     ]
    },
    {
     "name": "stderr",
     "output_type": "stream",
     "text": [
      "100%|████████████████████████████████████████████████████████████████████████████████████| 2/2 [00:01<00:00,  1.18it/s]\n"
     ]
    },
    {
     "name": "stdout",
     "output_type": "stream",
     "text": [
      "Iter 2 - Epoch 0 - Client Type: Benign - Client Number 7 - Poison Training False\n"
     ]
    },
    {
     "name": "stderr",
     "output_type": "stream",
     "text": [
      "100%|████████████████████████████████████████████████████████████████████████████████████| 1/1 [00:00<00:00,  1.14it/s]\n"
     ]
    },
    {
     "name": "stdout",
     "output_type": "stream",
     "text": [
      "Iter 2 - Epoch 0 - Client Type: Benign - Client Number 8 - Poison Training False\n"
     ]
    },
    {
     "name": "stderr",
     "output_type": "stream",
     "text": [
      "100%|████████████████████████████████████████████████████████████████████████████████████| 1/1 [00:00<00:00,  1.29it/s]\n"
     ]
    },
    {
     "name": "stdout",
     "output_type": "stream",
     "text": [
      "Iter 2 - Epoch 0 - Client Type: Benign - Client Number 9 - Poison Training False\n"
     ]
    },
    {
     "name": "stderr",
     "output_type": "stream",
     "text": [
      "100%|████████████████████████████████████████████████████████████████████████████████████| 2/2 [00:01<00:00,  1.38it/s]\n"
     ]
    },
    {
     "name": "stdout",
     "output_type": "stream",
     "text": [
      "Iter 2 - Epoch 0 - Client Type: Benign - Client Number 10 - Poison Training False\n"
     ]
    },
    {
     "name": "stderr",
     "output_type": "stream",
     "text": [
      "100%|████████████████████████████████████████████████████████████████████████████████████| 1/1 [00:00<00:00,  1.03it/s]\n"
     ]
    },
    {
     "name": "stdout",
     "output_type": "stream",
     "text": [
      "Iter 2 - Epoch 0 - Client Type: Benign - Client Number 11 - Poison Training False\n"
     ]
    },
    {
     "name": "stderr",
     "output_type": "stream",
     "text": [
      "100%|████████████████████████████████████████████████████████████████████████████████████| 2/2 [00:01<00:00,  1.45it/s]\n"
     ]
    },
    {
     "name": "stdout",
     "output_type": "stream",
     "text": [
      "Iter 2 - Epoch 0 - Client Type: Benign - Client Number 12 - Poison Training False\n"
     ]
    },
    {
     "name": "stderr",
     "output_type": "stream",
     "text": [
      "100%|████████████████████████████████████████████████████████████████████████████████████| 1/1 [00:00<00:00,  1.56it/s]\n"
     ]
    },
    {
     "name": "stdout",
     "output_type": "stream",
     "text": [
      "Iter 2 - Epoch 0 - Client Type: Benign - Client Number 13 - Poison Training False\n"
     ]
    },
    {
     "name": "stderr",
     "output_type": "stream",
     "text": [
      "100%|████████████████████████████████████████████████████████████████████████████████████| 2/2 [00:01<00:00,  1.48it/s]\n"
     ]
    },
    {
     "name": "stdout",
     "output_type": "stream",
     "text": [
      "Iter 2 - Epoch 0 - Client Type: Benign - Client Number 14 - Poison Training False\n"
     ]
    },
    {
     "name": "stderr",
     "output_type": "stream",
     "text": [
      "100%|████████████████████████████████████████████████████████████████████████████████████| 2/2 [00:01<00:00,  1.19it/s]\n"
     ]
    },
    {
     "name": "stdout",
     "output_type": "stream",
     "text": [
      "Iter 2 - Epoch 0 - Client Type: Benign - Client Number 15 - Poison Training False\n"
     ]
    },
    {
     "name": "stderr",
     "output_type": "stream",
     "text": [
      "100%|████████████████████████████████████████████████████████████████████████████████████| 2/2 [00:01<00:00,  1.65it/s]\n"
     ]
    },
    {
     "name": "stdout",
     "output_type": "stream",
     "text": [
      "Iter 2 - Epoch 0 - Client Type: Benign - Client Number 16 - Poison Training False\n"
     ]
    },
    {
     "name": "stderr",
     "output_type": "stream",
     "text": [
      "100%|████████████████████████████████████████████████████████████████████████████████████| 1/1 [00:00<00:00,  1.00it/s]\n"
     ]
    },
    {
     "name": "stdout",
     "output_type": "stream",
     "text": [
      "Iter 2 - Epoch 0 - Client Type: Benign - Client Number 17 - Poison Training False\n"
     ]
    },
    {
     "name": "stderr",
     "output_type": "stream",
     "text": [
      "100%|████████████████████████████████████████████████████████████████████████████████████| 2/2 [00:01<00:00,  1.49it/s]\n"
     ]
    },
    {
     "name": "stdout",
     "output_type": "stream",
     "text": [
      "Iter 2 - Epoch 0 - Client Type: Benign - Client Number 18 - Poison Training False\n"
     ]
    },
    {
     "name": "stderr",
     "output_type": "stream",
     "text": [
      "100%|████████████████████████████████████████████████████████████████████████████████████| 2/2 [00:01<00:00,  1.64it/s]\n"
     ]
    },
    {
     "name": "stdout",
     "output_type": "stream",
     "text": [
      "Iter 2 - Epoch 0 - Client Type: Benign - Client Number 19 - Poison Training False\n"
     ]
    },
    {
     "name": "stderr",
     "output_type": "stream",
     "text": [
      "100%|████████████████████████████████████████████████████████████████████████████████████| 2/2 [00:01<00:00,  1.25it/s]\n"
     ]
    },
    {
     "name": "stdout",
     "output_type": "stream",
     "text": [
      "Original Copylist [8, 4, 8, 7, 0, 5, 3, 8, 8, 6, 8, 7, 2, 6, 1, 7, 4, 7, 0, 1]\n",
      "Found clusters [0 4 0 2 1 7 8 0 0 5 0 3 0 5 6 2 0 2 1 6]\n",
      "Original groups [array([ 4, 18], dtype=int64), array([14, 19], dtype=int64), array([12], dtype=int64), array([6], dtype=int64), array([ 1, 16], dtype=int64), array([5], dtype=int64), array([ 9, 13], dtype=int64), array([ 3, 11, 15, 17], dtype=int64), array([ 0,  2,  7,  8, 10], dtype=int64)]\n",
      "Clustered groups [array([ 0,  2,  7,  8, 10, 12, 16], dtype=int64), array([ 4, 18], dtype=int64), array([ 3, 15, 17], dtype=int64), array([11], dtype=int64), array([1], dtype=int64), array([ 9, 13], dtype=int64), array([14, 19], dtype=int64), array([5], dtype=int64), array([6], dtype=int64)]\n",
      "Clustering score 0.6369426751592356\n",
      "[[ 0.99999771  0.34848255  0.97016441  0.14632217  0.48080376  0.35469005\n",
      "   0.28026574  0.96252803  0.96547298  0.02476555  0.96661366 -0.05708949\n",
      "   0.71836899  0.13486256  0.48198228  0.10226451  0.54914045  0.2296501\n",
      "   0.40059802  0.44339357]\n",
      " [ 0.34848255  0.99999713  0.31556562  0.33991595  0.3495041   0.32935841\n",
      "   0.18164086  0.31346115  0.31491553  0.16668246  0.30545983  0.06614522\n",
      "   0.45711582  0.28494634  0.50523442  0.16151033  0.8158208   0.35255755\n",
      "   0.53272755  0.42721298]\n",
      " [ 0.97016443  0.31556562  0.99999693  0.10815618  0.47095987  0.34306804\n",
      "   0.304013    0.9974582   0.9972421   0.02643432  0.99653487 -0.06478826\n",
      "   0.61165271  0.13166399  0.44694892  0.07285033  0.50892424  0.19094358\n",
      "   0.38349753  0.39240499]\n",
      " [ 0.14632216  0.33991595  0.10815618  0.99999434  0.35315937  0.41159503\n",
      "   0.25272615  0.10644592  0.11359689  0.31987658  0.10840053  0.44876898\n",
      "   0.31546092  0.30356899  0.46911799  0.70253589  0.31181073  0.82041839\n",
      "   0.46597626  0.4135096 ]\n",
      " [ 0.48080379  0.34950412  0.47095986  0.35315938  0.99999454  0.51224921\n",
      "   0.47964627  0.4694114   0.47120448  0.19615208  0.47007756  0.30026965\n",
      "   0.45652702  0.23776262  0.45622579  0.3618326   0.42713804  0.39201529\n",
      "   0.69535297  0.54440116]\n",
      " [ 0.35469003  0.32935843  0.34306805  0.41159506  0.51224921  0.99998975\n",
      "   0.39853051  0.33865123  0.34175958  0.33950974  0.33595529  0.17981694\n",
      "   0.34071426  0.28758534  0.49681155  0.36696355  0.36774977  0.43784698\n",
      "   0.53214933  0.44880562]\n",
      " [ 0.28026573  0.18164086  0.30401299  0.25272616  0.47964629  0.39853053\n",
      "   0.99999524  0.30388276  0.30260109  0.33964025  0.30083019  0.24227174\n",
      "   0.229051    0.21587177  0.41778868  0.28008563  0.15403324  0.19332378\n",
      "   0.40883201  0.45258784]\n",
      " [ 0.96252805  0.31346116  0.99745819  0.10644592  0.46941141  0.33865123\n",
      "   0.30388276  0.99999908  0.99757006  0.02831928  0.99728992 -0.06165187\n",
      "   0.59815207  0.13311177  0.43950952  0.07036511  0.50575322  0.18889982\n",
      "   0.38526009  0.3865719 ]\n",
      " [ 0.96547298  0.31491555  0.99724211  0.11359689  0.47120448  0.34175959\n",
      "   0.30260109  0.99757006  1.          0.02648102  0.99669619 -0.05911616\n",
      "   0.60975089  0.13275768  0.44688421  0.07859386  0.50643421  0.1961472\n",
      "   0.38863319  0.39292217]\n",
      " [ 0.02476555  0.16668246  0.02643432  0.31987658  0.19615208  0.33950973\n",
      "   0.33964025  0.02831928  0.02648102  0.99999508  0.02531317  0.26410468\n",
      "   0.0977738   0.55491317  0.30973458  0.26157141  0.1162464   0.21066616\n",
      "   0.19259668  0.30690124]\n",
      " [ 0.96661364  0.30545984  0.99653483  0.10840053  0.47007756  0.33595529\n",
      "   0.30083017  0.99728995  0.99669618  0.02531317  0.99999797 -0.05704278\n",
      "   0.6079085   0.13141694  0.43933548  0.07487664  0.50111771  0.19075004\n",
      "   0.38232146  0.39169605]\n",
      " [-0.05708949  0.06614523 -0.06478826  0.44876899  0.30026965  0.17981693\n",
      "   0.24227174 -0.06165187 -0.05911616  0.26410468 -0.05704279  0.99999358\n",
      "   0.09170089  0.35725205  0.30045536  0.63712298 -0.00752009  0.44454591\n",
      "   0.30040568  0.44768532]\n",
      " [ 0.71836896  0.45711583  0.61165271  0.31546093  0.45652702  0.34071426\n",
      "   0.229051    0.5981521   0.60975087  0.0977738   0.6079085   0.09170089\n",
      "   0.99999395  0.21656694  0.6390054   0.26916059  0.57262985  0.38276692\n",
      "   0.44577124  0.65392665]\n",
      " [ 0.13486255  0.28494634  0.13166399  0.30356899  0.23776262  0.28758534\n",
      "   0.21587178  0.13311177  0.13275768  0.55491314  0.13141693  0.35725204\n",
      "   0.21656695  0.99999677  0.40859724  0.23983874  0.24178096  0.26524731\n",
      "   0.24639293  0.46585469]\n",
      " [ 0.48198228  0.50523441  0.44694893  0.46911798  0.45622579  0.49681153\n",
      "   0.41778868  0.43950952  0.44688422  0.30973457  0.43933551  0.30045537\n",
      "   0.6390054   0.40859726  0.99999112  0.38646782  0.46448518  0.48486202\n",
      "   0.52915233  0.83959784]\n",
      " [ 0.1022645   0.16151032  0.07285033  0.70253591  0.36183258  0.36696356\n",
      "   0.28008562  0.0703651   0.07859386  0.26157141  0.07487665  0.63712297\n",
      "   0.26916057  0.23983875  0.38646782  0.99999097  0.14486216  0.83052579\n",
      "   0.42717179  0.35796012]\n",
      " [ 0.5491404   0.81582081  0.50892423  0.31181074  0.42713805  0.36774977\n",
      "   0.15403323  0.50575322  0.50643424  0.1162464   0.50111772 -0.0075201\n",
      "   0.57262985  0.24178096  0.46448518  0.14486216  0.99999389  0.37799324\n",
      "   0.59876116  0.36165651]\n",
      " [ 0.22965011  0.35255755  0.19094359  0.82041838  0.39201528  0.43784698\n",
      "   0.19332379  0.18889983  0.1961472   0.21066616  0.19075006  0.44454591\n",
      "   0.38276692  0.26524731  0.48486198  0.83052578  0.37799322  0.9999902\n",
      "   0.50179525  0.40275721]\n",
      " [ 0.40059802  0.53272753  0.38349753  0.46597626  0.69535298  0.53214932\n",
      "   0.40883199  0.38526009  0.38863319  0.19259668  0.38232143  0.30040569\n",
      "   0.44577125  0.24639293  0.52915233  0.42717179  0.59876115  0.50179524\n",
      "   0.99999088  0.50846032]\n",
      " [ 0.44339358  0.42721297  0.39240503  0.41350961  0.54440117  0.44880562\n",
      "   0.45258784  0.38657187  0.39292217  0.30690124  0.39169604  0.44768531\n",
      "   0.65392665  0.46585468  0.8395978   0.35796014  0.36165651  0.40275721\n",
      "   0.50846029  0.99999102]]\n",
      "Original Copylist [8, 4, 8, 7, 0, 5, 3, 8, 8, 6, 8, 7, 2, 6, 1, 7, 4, 7, 0, 1]\n",
      "Found clusters [5 4 5 3 1 8 6 5 5 0 5 7 2 0 2 3 4 3 1 2]\n",
      "Original groups [array([ 4, 18], dtype=int64), array([14, 19], dtype=int64), array([12], dtype=int64), array([6], dtype=int64), array([ 1, 16], dtype=int64), array([5], dtype=int64), array([ 9, 13], dtype=int64), array([ 3, 11, 15, 17], dtype=int64), array([ 0,  2,  7,  8, 10], dtype=int64)]\n",
      "Clustered groups [array([ 9, 13], dtype=int64), array([ 4, 18], dtype=int64), array([12, 14, 19], dtype=int64), array([ 3, 15, 17], dtype=int64), array([ 1, 16], dtype=int64), array([ 0,  2,  7,  8, 10], dtype=int64), array([6], dtype=int64), array([11], dtype=int64), array([5], dtype=int64)]\n",
      "Clustering score 0.8571428571428571\n",
      "\n",
      "\n",
      " Entering epoch 3\n",
      "Iter 2 - Epoch 0 - Client Type: Benign - Client Number 0 - Poison Training False\n"
     ]
    },
    {
     "name": "stderr",
     "output_type": "stream",
     "text": [
      "100%|████████████████████████████████████████████████████████████████████████████████████| 1/1 [00:00<00:00,  1.10it/s]\n"
     ]
    },
    {
     "name": "stdout",
     "output_type": "stream",
     "text": [
      "Iter 2 - Epoch 0 - Client Type: Benign - Client Number 1 - Poison Training False\n"
     ]
    },
    {
     "name": "stderr",
     "output_type": "stream",
     "text": [
      "100%|████████████████████████████████████████████████████████████████████████████████████| 1/1 [00:00<00:00,  1.06it/s]\n"
     ]
    },
    {
     "name": "stdout",
     "output_type": "stream",
     "text": [
      "Iter 2 - Epoch 0 - Client Type: Benign - Client Number 2 - Poison Training False\n"
     ]
    },
    {
     "name": "stderr",
     "output_type": "stream",
     "text": [
      "100%|████████████████████████████████████████████████████████████████████████████████████| 1/1 [00:00<00:00,  1.29it/s]\n"
     ]
    },
    {
     "name": "stdout",
     "output_type": "stream",
     "text": [
      "Iter 2 - Epoch 0 - Client Type: Benign - Client Number 3 - Poison Training False\n"
     ]
    },
    {
     "name": "stderr",
     "output_type": "stream",
     "text": [
      "100%|████████████████████████████████████████████████████████████████████████████████████| 2/2 [00:01<00:00,  1.72it/s]\n"
     ]
    },
    {
     "name": "stdout",
     "output_type": "stream",
     "text": [
      "Iter 2 - Epoch 0 - Client Type: Benign - Client Number 4 - Poison Training False\n"
     ]
    },
    {
     "name": "stderr",
     "output_type": "stream",
     "text": [
      "100%|████████████████████████████████████████████████████████████████████████████████████| 2/2 [00:01<00:00,  1.77it/s]\n"
     ]
    },
    {
     "name": "stdout",
     "output_type": "stream",
     "text": [
      "Iter 2 - Epoch 0 - Client Type: Benign - Client Number 5 - Poison Training False\n"
     ]
    },
    {
     "name": "stderr",
     "output_type": "stream",
     "text": [
      "100%|████████████████████████████████████████████████████████████████████████████████████| 2/2 [00:01<00:00,  1.21it/s]\n"
     ]
    },
    {
     "name": "stdout",
     "output_type": "stream",
     "text": [
      "Iter 2 - Epoch 0 - Client Type: Benign - Client Number 6 - Poison Training False\n"
     ]
    },
    {
     "name": "stderr",
     "output_type": "stream",
     "text": [
      "100%|████████████████████████████████████████████████████████████████████████████████████| 2/2 [00:01<00:00,  1.14it/s]\n"
     ]
    },
    {
     "name": "stdout",
     "output_type": "stream",
     "text": [
      "Iter 2 - Epoch 0 - Client Type: Benign - Client Number 7 - Poison Training False\n"
     ]
    },
    {
     "name": "stderr",
     "output_type": "stream",
     "text": [
      "100%|████████████████████████████████████████████████████████████████████████████████████| 1/1 [00:00<00:00,  1.20it/s]\n"
     ]
    },
    {
     "name": "stdout",
     "output_type": "stream",
     "text": [
      "Iter 2 - Epoch 0 - Client Type: Benign - Client Number 8 - Poison Training False\n"
     ]
    },
    {
     "name": "stderr",
     "output_type": "stream",
     "text": [
      "100%|████████████████████████████████████████████████████████████████████████████████████| 1/1 [00:00<00:00,  1.07it/s]\n"
     ]
    },
    {
     "name": "stdout",
     "output_type": "stream",
     "text": [
      "Iter 2 - Epoch 0 - Client Type: Benign - Client Number 9 - Poison Training False\n"
     ]
    },
    {
     "name": "stderr",
     "output_type": "stream",
     "text": [
      "100%|████████████████████████████████████████████████████████████████████████████████████| 2/2 [00:01<00:00,  1.43it/s]\n"
     ]
    },
    {
     "name": "stdout",
     "output_type": "stream",
     "text": [
      "Iter 2 - Epoch 0 - Client Type: Benign - Client Number 10 - Poison Training False\n"
     ]
    },
    {
     "name": "stderr",
     "output_type": "stream",
     "text": [
      "100%|████████████████████████████████████████████████████████████████████████████████████| 1/1 [00:00<00:00,  1.10it/s]\n"
     ]
    },
    {
     "name": "stdout",
     "output_type": "stream",
     "text": [
      "Iter 2 - Epoch 0 - Client Type: Benign - Client Number 11 - Poison Training False\n"
     ]
    },
    {
     "name": "stderr",
     "output_type": "stream",
     "text": [
      "100%|████████████████████████████████████████████████████████████████████████████████████| 2/2 [00:01<00:00,  1.52it/s]\n"
     ]
    },
    {
     "name": "stdout",
     "output_type": "stream",
     "text": [
      "Iter 2 - Epoch 0 - Client Type: Benign - Client Number 12 - Poison Training False\n"
     ]
    },
    {
     "name": "stderr",
     "output_type": "stream",
     "text": [
      "100%|████████████████████████████████████████████████████████████████████████████████████| 1/1 [00:00<00:00,  1.58it/s]\n"
     ]
    },
    {
     "name": "stdout",
     "output_type": "stream",
     "text": [
      "Iter 2 - Epoch 0 - Client Type: Benign - Client Number 13 - Poison Training False\n"
     ]
    },
    {
     "name": "stderr",
     "output_type": "stream",
     "text": [
      "100%|████████████████████████████████████████████████████████████████████████████████████| 2/2 [00:01<00:00,  1.59it/s]\n"
     ]
    },
    {
     "name": "stdout",
     "output_type": "stream",
     "text": [
      "Iter 2 - Epoch 0 - Client Type: Benign - Client Number 14 - Poison Training False\n"
     ]
    },
    {
     "name": "stderr",
     "output_type": "stream",
     "text": [
      "100%|████████████████████████████████████████████████████████████████████████████████████| 2/2 [00:01<00:00,  1.15it/s]\n"
     ]
    },
    {
     "name": "stdout",
     "output_type": "stream",
     "text": [
      "Iter 2 - Epoch 0 - Client Type: Benign - Client Number 15 - Poison Training False\n"
     ]
    },
    {
     "name": "stderr",
     "output_type": "stream",
     "text": [
      "100%|████████████████████████████████████████████████████████████████████████████████████| 2/2 [00:01<00:00,  1.65it/s]\n"
     ]
    },
    {
     "name": "stdout",
     "output_type": "stream",
     "text": [
      "Iter 2 - Epoch 0 - Client Type: Benign - Client Number 16 - Poison Training False\n"
     ]
    },
    {
     "name": "stderr",
     "output_type": "stream",
     "text": [
      "100%|████████████████████████████████████████████████████████████████████████████████████| 1/1 [00:01<00:00,  1.11s/it]\n"
     ]
    },
    {
     "name": "stdout",
     "output_type": "stream",
     "text": [
      "Iter 2 - Epoch 0 - Client Type: Benign - Client Number 17 - Poison Training False\n"
     ]
    },
    {
     "name": "stderr",
     "output_type": "stream",
     "text": [
      "100%|████████████████████████████████████████████████████████████████████████████████████| 2/2 [00:01<00:00,  1.67it/s]\n"
     ]
    },
    {
     "name": "stdout",
     "output_type": "stream",
     "text": [
      "Iter 2 - Epoch 0 - Client Type: Benign - Client Number 18 - Poison Training False\n"
     ]
    },
    {
     "name": "stderr",
     "output_type": "stream",
     "text": [
      "100%|████████████████████████████████████████████████████████████████████████████████████| 2/2 [00:01<00:00,  1.39it/s]\n"
     ]
    },
    {
     "name": "stdout",
     "output_type": "stream",
     "text": [
      "Iter 2 - Epoch 0 - Client Type: Benign - Client Number 19 - Poison Training False\n"
     ]
    },
    {
     "name": "stderr",
     "output_type": "stream",
     "text": [
      "100%|████████████████████████████████████████████████████████████████████████████████████| 2/2 [00:01<00:00,  1.12it/s]\n"
     ]
    },
    {
     "name": "stdout",
     "output_type": "stream",
     "text": [
      "Original Copylist [8, 4, 8, 7, 0, 5, 3, 8, 8, 6, 8, 7, 2, 6, 1, 7, 4, 7, 0, 1]\n",
      "Found clusters [2 4 5 3 0 0 6 5 5 1 5 7 2 1 0 3 8 3 0 0]\n",
      "Original groups [array([ 4, 18], dtype=int64), array([14, 19], dtype=int64), array([12], dtype=int64), array([6], dtype=int64), array([ 1, 16], dtype=int64), array([5], dtype=int64), array([ 9, 13], dtype=int64), array([ 3, 11, 15, 17], dtype=int64), array([ 0,  2,  7,  8, 10], dtype=int64)]\n",
      "Clustered groups [array([ 4,  5, 14, 18, 19], dtype=int64), array([ 9, 13], dtype=int64), array([ 0, 12], dtype=int64), array([ 3, 15, 17], dtype=int64), array([1], dtype=int64), array([ 2,  7,  8, 10], dtype=int64), array([6], dtype=int64), array([11], dtype=int64), array([16], dtype=int64)]\n",
      "Clustering score 0.5352517985611511\n",
      "[[ 0.99999695  0.2523549   0.74367512  0.24487214  0.54858869  0.45980585\n",
      "   0.35249103  0.71049947  0.73478638  0.06402954  0.74246156 -0.0471605\n",
      "   0.70452159  0.08821525  0.5912171   0.22860286  0.56062872  0.27842147\n",
      "   0.53361833  0.5248227 ]\n",
      " [ 0.2523549   0.99999958  0.27167631  0.2651599   0.36902093  0.28208462\n",
      "   0.25560537  0.27928426  0.27294706  0.21812061  0.26815171  0.16308925\n",
      "   0.35529525  0.31370215  0.29443706  0.1179817   0.39682388  0.34596684\n",
      "   0.35741893  0.26600892]\n",
      " [ 0.74367513  0.2716763   0.99999847  0.22602579  0.45334894  0.38084431\n",
      "   0.25559618  0.99619622  0.99730687  0.03362536  0.99643538 -0.02581402\n",
      "   0.38483114  0.06527989  0.43897538  0.19508865  0.44661974  0.27296924\n",
      "   0.3828499   0.4264651 ]\n",
      " [ 0.24487214  0.2651599   0.22602579  0.99999676  0.4660541   0.50464883\n",
      "   0.3068006   0.2216716   0.23231213  0.21429731  0.22645941  0.51888475\n",
      "   0.37909284  0.22062265  0.52170355  0.78401602  0.38356264  0.83702496\n",
      "   0.50394326  0.51782117]\n",
      " [ 0.5485887   0.36902092  0.45334893  0.46605413  0.99999465  0.5972915\n",
      "   0.47024671  0.43866454  0.45200657  0.14286493  0.45229636  0.28439482\n",
      "   0.48660891  0.16557342  0.56126746  0.47125105  0.53161443  0.50188583\n",
      "   0.76253794  0.59702236]\n",
      " [ 0.45980584  0.28208463  0.38084431  0.50464885  0.5972915   0.99999285\n",
      "   0.4070243   0.36497072  0.3771858   0.28696201  0.37440344  0.19082962\n",
      "   0.40861686  0.26457767  0.60114775  0.47563576  0.48344961  0.52612961\n",
      "   0.61392187  0.57490292]\n",
      " [ 0.35249101  0.25560537  0.25559617  0.30680061  0.47024672  0.40702429\n",
      "   0.99999661  0.25066665  0.25493775  0.30809369  0.25128833  0.29048603\n",
      "   0.43386751  0.26760547  0.48622713  0.31911811  0.24138359  0.27332172\n",
      "   0.4548567   0.49242271]\n",
      " [ 0.7104995   0.27928427  0.99619625  0.2216716   0.43866456  0.36497074\n",
      "   0.25066665  0.99999799  0.99680129  0.03744979  0.99587539 -0.01185048\n",
      "   0.3627283   0.07231005  0.4156053   0.18774638  0.42557001  0.27124319\n",
      "   0.36665354  0.40924033]\n",
      " [ 0.73478641  0.27294706  0.99730688  0.23231212  0.45200657  0.37718579\n",
      "   0.25493774  0.99680128  0.99999869  0.03532017  0.99652243 -0.0159073\n",
      "   0.38176318  0.06880971  0.43681159  0.20145784  0.44151995  0.27885369\n",
      "   0.38324728  0.4256449 ]\n",
      " [ 0.06402954  0.21812061  0.03362536  0.21429731  0.14286493  0.286962\n",
      "   0.30809369  0.03744979  0.03532017  0.99999891  0.03384021  0.20292789\n",
      "   0.21462347  0.6717339   0.23553525  0.17314248  0.10266008  0.19858975\n",
      "   0.1227226   0.2360238 ]\n",
      " [ 0.74246155  0.26815171  0.99643537  0.2264594   0.45229638  0.37440343\n",
      "   0.25128831  0.99587541  0.99652242  0.03384021  1.         -0.01801846\n",
      "   0.38391223  0.06539769  0.43361999  0.19598889  0.43874991  0.27356284\n",
      "   0.38118331  0.42615359]\n",
      " [-0.0471605   0.16308927 -0.02581402  0.51888473  0.28439484  0.19082962\n",
      "   0.29048603 -0.01185048 -0.0159073   0.20292789 -0.01801846  0.99999417\n",
      "   0.19583428  0.26223218  0.23883077  0.5991337  -0.0309368   0.4799141\n",
      "   0.24878663  0.33572794]\n",
      " [ 0.70452157  0.35529526  0.38483114  0.37909285  0.48660894  0.40861686\n",
      "   0.43386748  0.36272831  0.38176317  0.21462348  0.38391223  0.19583428\n",
      "   0.9999971   0.29841137  0.65605224  0.36426668  0.4785925   0.40942974\n",
      "   0.52289387  0.63318566]\n",
      " [ 0.08821524  0.31370215  0.06527989  0.22062265  0.16557343  0.26457767\n",
      "   0.26760549  0.07231005  0.06880971  0.67173388  0.06539769  0.26223218\n",
      "   0.29841139  0.99999827  0.30418914  0.16429111  0.14157269  0.24106157\n",
      "   0.15717884  0.34114656]\n",
      " [ 0.59121713  0.29443705  0.4389754   0.52170358  0.56126746  0.60114774\n",
      "   0.48622713  0.4156053   0.43681159  0.23553525  0.43362001  0.23883077\n",
      "   0.65605225  0.30418915  0.99999192  0.51388707  0.56098432  0.50996936\n",
      "   0.64492474  0.88583201]\n",
      " [ 0.22860287  0.1179817   0.19508865  0.78401603  0.47125104  0.4756358\n",
      "   0.31911812  0.18774638  0.20145784  0.17314248  0.19598891  0.59913369\n",
      "   0.36426668  0.16429112  0.51388707  0.99999245  0.30754593  0.81968703\n",
      "   0.49727776  0.48048846]\n",
      " [ 0.56062866  0.39682388  0.44661973  0.38356263  0.53161443  0.48344958\n",
      "   0.24138357  0.42557002  0.44151996  0.10266009  0.43874991 -0.0309368\n",
      "   0.47859251  0.14157269  0.56098435  0.30754593  0.9999954   0.44444344\n",
      "   0.66095305  0.50284367]\n",
      " [ 0.27842147  0.34596685  0.27296925  0.83702492  0.50188583  0.52612961\n",
      "   0.27332174  0.2712432   0.2788537   0.19858975  0.27356285  0.4799141\n",
      "   0.40942973  0.24106158  0.50996934  0.81968703  0.44444343  0.9999929\n",
      "   0.53421097  0.47830437]\n",
      " [ 0.53361833  0.35741892  0.38284988  0.50394323  0.76253795  0.61392187\n",
      "   0.45485669  0.36665354  0.38324729  0.12272259  0.3811833   0.24878664\n",
      "   0.52289387  0.15717884  0.64492474  0.49727776  0.66095302  0.53421094\n",
      "   0.99999377  0.64132305]\n",
      " [ 0.52482271  0.26600891  0.42646512  0.51782114  0.59702237  0.57490291\n",
      "   0.49242271  0.40924032  0.42564491  0.2360238   0.42615359  0.33572792\n",
      "   0.63318566  0.34114656  0.88583196  0.48048847  0.50284371  0.47830433\n",
      "   0.64132307  0.99999319]]\n",
      "Original Copylist [8, 4, 8, 7, 0, 5, 3, 8, 8, 6, 8, 7, 2, 6, 1, 7, 4, 7, 0, 1]\n",
      "Found clusters [5 4 5 3 0 0 6 5 5 2 5 7 1 2 1 3 8 3 0 1]\n",
      "Original groups [array([ 4, 18], dtype=int64), array([14, 19], dtype=int64), array([12], dtype=int64), array([6], dtype=int64), array([ 1, 16], dtype=int64), array([5], dtype=int64), array([ 9, 13], dtype=int64), array([ 3, 11, 15, 17], dtype=int64), array([ 0,  2,  7,  8, 10], dtype=int64)]\n",
      "Clustered groups [array([ 4,  5, 18], dtype=int64), array([12, 14, 19], dtype=int64), array([ 9, 13], dtype=int64), array([ 3, 15, 17], dtype=int64), array([1], dtype=int64), array([ 0,  2,  7,  8, 10], dtype=int64), array([6], dtype=int64), array([11], dtype=int64), array([16], dtype=int64)]\n",
      "Clustering score 0.7764705882352941\n",
      "\n",
      "\n",
      " Entering epoch 4\n",
      "Iter 2 - Epoch 0 - Client Type: Benign - Client Number 0 - Poison Training False\n"
     ]
    },
    {
     "name": "stderr",
     "output_type": "stream",
     "text": [
      "100%|████████████████████████████████████████████████████████████████████████████████████| 1/1 [00:00<00:00,  1.17it/s]\n"
     ]
    },
    {
     "name": "stdout",
     "output_type": "stream",
     "text": [
      "Iter 2 - Epoch 0 - Client Type: Benign - Client Number 1 - Poison Training False\n"
     ]
    },
    {
     "name": "stderr",
     "output_type": "stream",
     "text": [
      "100%|████████████████████████████████████████████████████████████████████████████████████| 1/1 [00:00<00:00,  1.11it/s]\n"
     ]
    },
    {
     "name": "stdout",
     "output_type": "stream",
     "text": [
      "Iter 2 - Epoch 0 - Client Type: Benign - Client Number 2 - Poison Training False\n"
     ]
    },
    {
     "name": "stderr",
     "output_type": "stream",
     "text": [
      "100%|████████████████████████████████████████████████████████████████████████████████████| 1/1 [00:00<00:00,  1.17it/s]\n"
     ]
    },
    {
     "name": "stdout",
     "output_type": "stream",
     "text": [
      "Iter 2 - Epoch 0 - Client Type: Benign - Client Number 3 - Poison Training False\n"
     ]
    },
    {
     "name": "stderr",
     "output_type": "stream",
     "text": [
      "100%|████████████████████████████████████████████████████████████████████████████████████| 2/2 [00:01<00:00,  1.80it/s]\n"
     ]
    },
    {
     "name": "stdout",
     "output_type": "stream",
     "text": [
      "Iter 2 - Epoch 0 - Client Type: Benign - Client Number 4 - Poison Training False\n"
     ]
    },
    {
     "name": "stderr",
     "output_type": "stream",
     "text": [
      "100%|████████████████████████████████████████████████████████████████████████████████████| 2/2 [00:01<00:00,  1.54it/s]\n"
     ]
    },
    {
     "name": "stdout",
     "output_type": "stream",
     "text": [
      "Iter 2 - Epoch 0 - Client Type: Benign - Client Number 5 - Poison Training False\n"
     ]
    },
    {
     "name": "stderr",
     "output_type": "stream",
     "text": [
      "100%|████████████████████████████████████████████████████████████████████████████████████| 2/2 [00:01<00:00,  1.17it/s]\n"
     ]
    },
    {
     "name": "stdout",
     "output_type": "stream",
     "text": [
      "Iter 2 - Epoch 0 - Client Type: Benign - Client Number 6 - Poison Training False\n"
     ]
    },
    {
     "name": "stderr",
     "output_type": "stream",
     "text": [
      "100%|████████████████████████████████████████████████████████████████████████████████████| 2/2 [00:01<00:00,  1.10it/s]\n"
     ]
    },
    {
     "name": "stdout",
     "output_type": "stream",
     "text": [
      "Iter 2 - Epoch 0 - Client Type: Benign - Client Number 7 - Poison Training False\n"
     ]
    },
    {
     "name": "stderr",
     "output_type": "stream",
     "text": [
      "100%|████████████████████████████████████████████████████████████████████████████████████| 1/1 [00:00<00:00,  1.20it/s]\n"
     ]
    },
    {
     "name": "stdout",
     "output_type": "stream",
     "text": [
      "Iter 2 - Epoch 0 - Client Type: Benign - Client Number 8 - Poison Training False\n"
     ]
    },
    {
     "name": "stderr",
     "output_type": "stream",
     "text": [
      "100%|████████████████████████████████████████████████████████████████████████████████████| 1/1 [00:00<00:00,  1.12it/s]\n"
     ]
    },
    {
     "name": "stdout",
     "output_type": "stream",
     "text": [
      "Iter 2 - Epoch 0 - Client Type: Benign - Client Number 9 - Poison Training False\n"
     ]
    },
    {
     "name": "stderr",
     "output_type": "stream",
     "text": [
      "100%|████████████████████████████████████████████████████████████████████████████████████| 2/2 [00:01<00:00,  1.46it/s]\n"
     ]
    },
    {
     "name": "stdout",
     "output_type": "stream",
     "text": [
      "Iter 2 - Epoch 0 - Client Type: Benign - Client Number 10 - Poison Training False\n"
     ]
    },
    {
     "name": "stderr",
     "output_type": "stream",
     "text": [
      "100%|████████████████████████████████████████████████████████████████████████████████████| 1/1 [00:00<00:00,  1.03it/s]\n"
     ]
    },
    {
     "name": "stdout",
     "output_type": "stream",
     "text": [
      "Iter 2 - Epoch 0 - Client Type: Benign - Client Number 11 - Poison Training False\n"
     ]
    },
    {
     "name": "stderr",
     "output_type": "stream",
     "text": [
      "100%|████████████████████████████████████████████████████████████████████████████████████| 2/2 [00:01<00:00,  1.45it/s]\n"
     ]
    },
    {
     "name": "stdout",
     "output_type": "stream",
     "text": [
      "Iter 2 - Epoch 0 - Client Type: Benign - Client Number 12 - Poison Training False\n"
     ]
    },
    {
     "name": "stderr",
     "output_type": "stream",
     "text": [
      "100%|████████████████████████████████████████████████████████████████████████████████████| 1/1 [00:00<00:00,  1.41it/s]\n"
     ]
    },
    {
     "name": "stdout",
     "output_type": "stream",
     "text": [
      "Iter 2 - Epoch 0 - Client Type: Benign - Client Number 13 - Poison Training False\n"
     ]
    },
    {
     "name": "stderr",
     "output_type": "stream",
     "text": [
      "100%|████████████████████████████████████████████████████████████████████████████████████| 2/2 [00:01<00:00,  1.43it/s]\n"
     ]
    },
    {
     "name": "stdout",
     "output_type": "stream",
     "text": [
      "Iter 2 - Epoch 0 - Client Type: Benign - Client Number 14 - Poison Training False\n"
     ]
    },
    {
     "name": "stderr",
     "output_type": "stream",
     "text": [
      "100%|████████████████████████████████████████████████████████████████████████████████████| 2/2 [00:01<00:00,  1.05it/s]\n"
     ]
    },
    {
     "name": "stdout",
     "output_type": "stream",
     "text": [
      "Iter 2 - Epoch 0 - Client Type: Benign - Client Number 15 - Poison Training False\n"
     ]
    },
    {
     "name": "stderr",
     "output_type": "stream",
     "text": [
      "100%|████████████████████████████████████████████████████████████████████████████████████| 2/2 [00:01<00:00,  1.68it/s]\n"
     ]
    },
    {
     "name": "stdout",
     "output_type": "stream",
     "text": [
      "Iter 2 - Epoch 0 - Client Type: Benign - Client Number 16 - Poison Training False\n"
     ]
    },
    {
     "name": "stderr",
     "output_type": "stream",
     "text": [
      "100%|████████████████████████████████████████████████████████████████████████████████████| 1/1 [00:00<00:00,  1.17it/s]\n"
     ]
    },
    {
     "name": "stdout",
     "output_type": "stream",
     "text": [
      "Iter 2 - Epoch 0 - Client Type: Benign - Client Number 17 - Poison Training False\n"
     ]
    },
    {
     "name": "stderr",
     "output_type": "stream",
     "text": [
      "100%|████████████████████████████████████████████████████████████████████████████████████| 2/2 [00:01<00:00,  1.88it/s]\n"
     ]
    },
    {
     "name": "stdout",
     "output_type": "stream",
     "text": [
      "Iter 2 - Epoch 0 - Client Type: Benign - Client Number 18 - Poison Training False\n"
     ]
    },
    {
     "name": "stderr",
     "output_type": "stream",
     "text": [
      "100%|████████████████████████████████████████████████████████████████████████████████████| 2/2 [00:01<00:00,  1.35it/s]\n"
     ]
    },
    {
     "name": "stdout",
     "output_type": "stream",
     "text": [
      "Iter 2 - Epoch 0 - Client Type: Benign - Client Number 19 - Poison Training False\n"
     ]
    },
    {
     "name": "stderr",
     "output_type": "stream",
     "text": [
      "100%|████████████████████████████████████████████████████████████████████████████████████| 2/2 [00:01<00:00,  1.15it/s]\n"
     ]
    },
    {
     "name": "stdout",
     "output_type": "stream",
     "text": [
      "Original Copylist [8, 4, 8, 7, 0, 5, 3, 8, 8, 6, 8, 7, 2, 6, 1, 7, 4, 7, 0, 1]\n",
      "Found clusters [7 1 5 4 0 0 8 5 5 2 5 6 3 2 0 4 1 4 0 0]\n",
      "Original groups [array([ 4, 18], dtype=int64), array([14, 19], dtype=int64), array([12], dtype=int64), array([6], dtype=int64), array([ 1, 16], dtype=int64), array([5], dtype=int64), array([ 9, 13], dtype=int64), array([ 3, 11, 15, 17], dtype=int64), array([ 0,  2,  7,  8, 10], dtype=int64)]\n",
      "Clustered groups [array([ 4,  5, 14, 18, 19], dtype=int64), array([ 1, 16], dtype=int64), array([ 9, 13], dtype=int64), array([12], dtype=int64), array([ 3, 15, 17], dtype=int64), array([ 2,  7,  8, 10], dtype=int64), array([11], dtype=int64), array([0], dtype=int64), array([6], dtype=int64)]\n",
      "Clustering score 0.5899280575539568\n",
      "[[0.99999454 0.26657585 0.45915705 0.26801879 0.4075605  0.37350208\n",
      "  0.20373375 0.46812851 0.46364532 0.05711756 0.44443475 0.03433096\n",
      "  0.54285037 0.06950631 0.42620236 0.25894203 0.44403285 0.29599079\n",
      "  0.28964079 0.47229294]\n",
      " [0.26657585 0.9999949  0.36351953 0.2313395  0.42967364 0.30615298\n",
      "  0.3578425  0.37187157 0.36652987 0.26608063 0.36043511 0.20752373\n",
      "  0.39367868 0.3126045  0.20299304 0.12841381 0.53073963 0.29029148\n",
      "  0.33115916 0.20832894]\n",
      " [0.45915706 0.36351951 0.9999978  0.24274558 0.35874036 0.3506794\n",
      "  0.44120014 0.9925493  0.99686654 0.22090391 0.99600946 0.19017887\n",
      "  0.49175848 0.24552007 0.30688964 0.16477679 0.31027464 0.25758868\n",
      "  0.33569651 0.29111768]\n",
      " [0.26801879 0.2313395  0.24274558 0.99999176 0.50061837 0.56530273\n",
      "  0.24465607 0.23837054 0.25011828 0.19197021 0.24382015 0.58337517\n",
      "  0.44633254 0.23986475 0.57130027 0.84524481 0.34237159 0.84077033\n",
      "  0.45462312 0.57061165]\n",
      " [0.4075605  0.42967364 0.35874037 0.50061839 0.99999273 0.66041535\n",
      "  0.41300782 0.33750792 0.35767907 0.15719016 0.35484762 0.33940533\n",
      "  0.55705332 0.20116541 0.63856234 0.50814961 0.53641326 0.54768834\n",
      "  0.78729753 0.65763519]\n",
      " [0.37350208 0.30615296 0.3506794  0.56530274 0.66041538 0.99999058\n",
      "  0.38212424 0.33071003 0.34721201 0.28206058 0.34287318 0.32326611\n",
      "  0.4997238  0.31175914 0.65136845 0.54587676 0.45654012 0.58042063\n",
      "  0.63340868 0.63494854]\n",
      " [0.20373374 0.35784252 0.44120013 0.24465608 0.41300781 0.38212424\n",
      "  0.99999204 0.43380255 0.44008895 0.35561248 0.43949269 0.31190851\n",
      "  0.47548617 0.30265091 0.36260064 0.23173193 0.18411881 0.25652272\n",
      "  0.43892243 0.3435416 ]\n",
      " [0.46812852 0.37187161 0.99254929 0.23837054 0.33750793 0.33071002\n",
      "  0.43380258 0.99999774 0.99509924 0.21915552 0.99225079 0.20834802\n",
      "  0.47005999 0.24376711 0.27141247 0.15876044 0.29319189 0.25744958\n",
      "  0.3016603  0.26907795]\n",
      " [0.46364533 0.36652988 0.99686655 0.25011828 0.35767906 0.34721199\n",
      "  0.44008894 0.99509924 0.99999893 0.21997936 0.99595627 0.20253738\n",
      "  0.48966032 0.24812488 0.30373874 0.17122628 0.30562204 0.26595972\n",
      "  0.33326432 0.29161175]\n",
      " [0.05711756 0.26608063 0.22090391 0.1919702  0.15719016 0.28206058\n",
      "  0.3556125  0.21915552 0.21997938 0.99999719 0.22009563 0.20240196\n",
      "  0.22722356 0.66502413 0.17959991 0.13872895 0.10700729 0.18373192\n",
      "  0.12633449 0.17319525]\n",
      " [0.44443474 0.36043511 0.99600945 0.24382014 0.35484761 0.34287317\n",
      "  0.43949265 0.99225077 0.9959563  0.22009562 1.         0.19902049\n",
      "  0.48746168 0.24394825 0.29883385 0.16605606 0.30699766 0.25704438\n",
      "  0.33350176 0.28444615]\n",
      " [0.03433096 0.20752372 0.19017887 0.58337512 0.33940532 0.32326613\n",
      "  0.31190851 0.20834804 0.20253738 0.20240196 0.19902049 0.99999124\n",
      "  0.30528613 0.24949015 0.27365125 0.59177694 0.0352912  0.57201262\n",
      "  0.27934211 0.33249826]\n",
      " [0.54285037 0.39367868 0.49175848 0.44633254 0.55705336 0.4997238\n",
      "  0.47548616 0.47006    0.48966032 0.22722356 0.48746168 0.30528613\n",
      "  0.99999426 0.35311665 0.662905   0.40040024 0.44998002 0.45013177\n",
      "  0.57593144 0.64494228]\n",
      " [0.06950631 0.3126045  0.24552008 0.23986477 0.20116542 0.31175914\n",
      "  0.30265091 0.24376711 0.24812488 0.66502412 0.24394824 0.24949016\n",
      "  0.35311667 0.9999955  0.2947783  0.14750376 0.15039821 0.24367048\n",
      "  0.20317666 0.31148004]\n",
      " [0.42620239 0.20299304 0.30688966 0.57130029 0.63856234 0.65136842\n",
      "  0.36260064 0.27141247 0.30373874 0.17959991 0.29883386 0.27365123\n",
      "  0.66290497 0.29477829 0.99999119 0.56601363 0.45246744 0.54975298\n",
      "  0.69837364 0.90227583]\n",
      " [0.25894204 0.1284138  0.16477679 0.84524478 0.50814963 0.54587678\n",
      "  0.23173194 0.15876045 0.17122628 0.13872895 0.16605607 0.59177693\n",
      "  0.40040023 0.14750377 0.56601363 0.99998973 0.29621025 0.82071832\n",
      "  0.43755388 0.52873186]\n",
      " [0.44403282 0.53073963 0.31027464 0.34237158 0.53641323 0.45654011\n",
      "  0.1841188  0.29319189 0.30562205 0.10700729 0.30699766 0.0352912\n",
      "  0.44998004 0.15039821 0.45246744 0.29621025 0.9999921  0.32567053\n",
      "  0.51671975 0.41865008]\n",
      " [0.29599078 0.29029148 0.25758868 0.84077031 0.54768837 0.5804206\n",
      "  0.25652273 0.25744959 0.26595972 0.18373192 0.25704438 0.57201264\n",
      "  0.45013177 0.24367049 0.54975297 0.82071832 0.32567052 0.99999013\n",
      "  0.49968675 0.56202051]\n",
      " [0.28964079 0.33115916 0.3356965  0.4546231  0.78729753 0.63340868\n",
      "  0.43892243 0.3016603  0.33326432 0.1263345  0.33350175 0.2793421\n",
      "  0.57593144 0.20317666 0.69837361 0.43755388 0.51671973 0.49968673\n",
      "  0.99999051 0.68118781]\n",
      " [0.47229296 0.20832893 0.29111769 0.57061167 0.65763516 0.63494854\n",
      "  0.3435416  0.26907794 0.29161176 0.17319525 0.28444615 0.33249825\n",
      "  0.64494228 0.31148004 0.9022758  0.52873186 0.4186501  0.5620205\n",
      "  0.68118785 0.99998968]]\n",
      "Original Copylist [8, 4, 8, 7, 0, 5, 3, 8, 8, 6, 8, 7, 2, 6, 1, 7, 4, 7, 0, 1]\n",
      "Found clusters [6 8 4 0 1 1 5 4 4 2 4 0 3 2 3 0 7 0 1 3]\n",
      "Original groups [array([ 4, 18], dtype=int64), array([14, 19], dtype=int64), array([12], dtype=int64), array([6], dtype=int64), array([ 1, 16], dtype=int64), array([5], dtype=int64), array([ 9, 13], dtype=int64), array([ 3, 11, 15, 17], dtype=int64), array([ 0,  2,  7,  8, 10], dtype=int64)]\n",
      "Clustered groups [array([ 3, 11, 15, 17], dtype=int64), array([ 4,  5, 18], dtype=int64), array([ 9, 13], dtype=int64), array([12, 14, 19], dtype=int64), array([ 2,  7,  8, 10], dtype=int64), array([6], dtype=int64), array([0], dtype=int64), array([16], dtype=int64), array([1], dtype=int64)]\n",
      "Clustering score 0.7428571428571429\n",
      "Benign net distance [tensor(70.4091), tensor(78.1012), tensor(85.5873), tensor(51.7011), tensor(43.4412), tensor(45.3420), tensor(90.4254), tensor(88.5846), tensor(85.4817), tensor(119.2422), tensor(85.9029), tensor(85.5909), tensor(53.5618), tensor(102.1385), tensor(21.2052), tensor(56.1351), tensor(61.2645), tensor(49.8080), tensor(43.3047), tensor(0.)]\n",
      "Malicious net distance []\n",
      "cos_sim list  [tensor(0.4198), tensor(0.1507), tensor(0.1558), tensor(0.6234), tensor(0.7183), tensor(0.6950), tensor(0.1947), tensor(0.1289), tensor(0.1576), tensor(0.1104), tensor(0.1427), tensor(0.3293), tensor(0.6567), tensor(0.2818), tensor(0.9187), tensor(0.5770), tensor(0.3345), tensor(0.6457), tensor(0.7211), tensor(1.0000)]\n",
      "Norms of local gradients  [tensor(0.8898), tensor(0.7005), tensor(0.8434), tensor(0.8136), tensor(0.7040), tensor(0.6763), tensor(0.9990), tensor(0.9000), tensor(0.8525), tensor(1.2590), tensor(0.8582), tensor(1.0281), tensor(0.4526), tensor(1.1600), tensor(0.7029), tensor(0.8081), tensor(0.6298), tensor(0.6982), tensor(0.7520), tensor(0.6899)]\n",
      "\n",
      " Aggregating models\n",
      "Cosine Similarities:  [tensor(0.4198), tensor(0.1507), tensor(0.1558), tensor(0.6234), tensor(0.7183), tensor(0.6950), tensor(0.1947), tensor(0.1289), tensor(0.1576), tensor(0.1104), tensor(0.1427), tensor(0.3293), tensor(0.6567), tensor(0.2818), tensor(0.9187), tensor(0.5770), tensor(0.3345), tensor(0.6457), tensor(0.7211), tensor(1.0000)]\n",
      "Aggregation Weights:  [0.03631589 0.01655635 0.01421787 0.05898327 0.07854671 0.07911628\n",
      " 0.01500007 0.01102711 0.01423015 0.00674884 0.01280366 0.02465623\n",
      " 0.11169221 0.01870197 0.10062221 0.05496567 0.04088391 0.07119986\n",
      " 0.07381623 0.11158312]\n",
      "\n",
      "\n",
      "\n",
      "Aggregate test at iter  2\n"
     ]
    },
    {
     "name": "stderr",
     "output_type": "stream",
     "text": [
      "100%|██████████████████████████████████████████████████████████████████████████████████| 10/10 [00:02<00:00,  3.86it/s]\n"
     ]
    },
    {
     "name": "stdout",
     "output_type": "stream",
     "text": [
      "\n",
      "Test set: Avg. loss: 0.0011, Accuracy: 6546/10000 (65%)\n",
      "\n",
      "\n",
      "\n",
      " Entering epoch 0\n",
      "Iter 3 - Epoch 0 - Client Type: Benign - Client Number 0 - Poison Training False\n"
     ]
    },
    {
     "name": "stderr",
     "output_type": "stream",
     "text": [
      "100%|████████████████████████████████████████████████████████████████████████████████████| 1/1 [00:00<00:00,  1.04it/s]\n"
     ]
    },
    {
     "name": "stdout",
     "output_type": "stream",
     "text": [
      "Iter 3 - Epoch 0 - Client Type: Benign - Client Number 1 - Poison Training False\n"
     ]
    },
    {
     "name": "stderr",
     "output_type": "stream",
     "text": [
      "100%|████████████████████████████████████████████████████████████████████████████████████| 1/1 [00:01<00:00,  1.08s/it]\n"
     ]
    },
    {
     "name": "stdout",
     "output_type": "stream",
     "text": [
      "Iter 3 - Epoch 0 - Client Type: Benign - Client Number 2 - Poison Training False\n"
     ]
    },
    {
     "name": "stderr",
     "output_type": "stream",
     "text": [
      "100%|████████████████████████████████████████████████████████████████████████████████████| 1/1 [00:00<00:00,  1.10it/s]\n"
     ]
    },
    {
     "name": "stdout",
     "output_type": "stream",
     "text": [
      "Iter 3 - Epoch 0 - Client Type: Benign - Client Number 3 - Poison Training False\n"
     ]
    },
    {
     "name": "stderr",
     "output_type": "stream",
     "text": [
      "100%|████████████████████████████████████████████████████████████████████████████████████| 2/2 [00:01<00:00,  1.64it/s]\n"
     ]
    },
    {
     "name": "stdout",
     "output_type": "stream",
     "text": [
      "Iter 3 - Epoch 0 - Client Type: Benign - Client Number 4 - Poison Training False\n"
     ]
    },
    {
     "name": "stderr",
     "output_type": "stream",
     "text": [
      "100%|████████████████████████████████████████████████████████████████████████████████████| 2/2 [00:01<00:00,  1.36it/s]\n"
     ]
    },
    {
     "name": "stdout",
     "output_type": "stream",
     "text": [
      "Iter 3 - Epoch 0 - Client Type: Benign - Client Number 5 - Poison Training False\n"
     ]
    },
    {
     "name": "stderr",
     "output_type": "stream",
     "text": [
      "100%|████████████████████████████████████████████████████████████████████████████████████| 2/2 [00:01<00:00,  1.17it/s]\n"
     ]
    },
    {
     "name": "stdout",
     "output_type": "stream",
     "text": [
      "Iter 3 - Epoch 0 - Client Type: Benign - Client Number 6 - Poison Training False\n"
     ]
    },
    {
     "name": "stderr",
     "output_type": "stream",
     "text": [
      "100%|████████████████████████████████████████████████████████████████████████████████████| 2/2 [00:01<00:00,  1.16it/s]\n"
     ]
    },
    {
     "name": "stdout",
     "output_type": "stream",
     "text": [
      "Iter 3 - Epoch 0 - Client Type: Benign - Client Number 7 - Poison Training False\n"
     ]
    },
    {
     "name": "stderr",
     "output_type": "stream",
     "text": [
      "100%|████████████████████████████████████████████████████████████████████████████████████| 1/1 [00:00<00:00,  1.19it/s]\n"
     ]
    },
    {
     "name": "stdout",
     "output_type": "stream",
     "text": [
      "Iter 3 - Epoch 0 - Client Type: Benign - Client Number 8 - Poison Training False\n"
     ]
    },
    {
     "name": "stderr",
     "output_type": "stream",
     "text": [
      "100%|████████████████████████████████████████████████████████████████████████████████████| 1/1 [00:00<00:00,  1.21it/s]\n"
     ]
    },
    {
     "name": "stdout",
     "output_type": "stream",
     "text": [
      "Iter 3 - Epoch 0 - Client Type: Benign - Client Number 9 - Poison Training False\n"
     ]
    },
    {
     "name": "stderr",
     "output_type": "stream",
     "text": [
      "100%|████████████████████████████████████████████████████████████████████████████████████| 2/2 [00:01<00:00,  1.73it/s]\n"
     ]
    },
    {
     "name": "stdout",
     "output_type": "stream",
     "text": [
      "Iter 3 - Epoch 0 - Client Type: Benign - Client Number 10 - Poison Training False\n"
     ]
    },
    {
     "name": "stderr",
     "output_type": "stream",
     "text": [
      "100%|████████████████████████████████████████████████████████████████████████████████████| 1/1 [00:00<00:00,  1.10it/s]\n"
     ]
    },
    {
     "name": "stdout",
     "output_type": "stream",
     "text": [
      "Iter 3 - Epoch 0 - Client Type: Benign - Client Number 11 - Poison Training False\n"
     ]
    },
    {
     "name": "stderr",
     "output_type": "stream",
     "text": [
      "100%|████████████████████████████████████████████████████████████████████████████████████| 2/2 [00:01<00:00,  1.73it/s]\n"
     ]
    },
    {
     "name": "stdout",
     "output_type": "stream",
     "text": [
      "Iter 3 - Epoch 0 - Client Type: Benign - Client Number 12 - Poison Training False\n"
     ]
    },
    {
     "name": "stderr",
     "output_type": "stream",
     "text": [
      "100%|████████████████████████████████████████████████████████████████████████████████████| 1/1 [00:00<00:00,  1.58it/s]\n"
     ]
    },
    {
     "name": "stdout",
     "output_type": "stream",
     "text": [
      "Iter 3 - Epoch 0 - Client Type: Benign - Client Number 13 - Poison Training False\n"
     ]
    },
    {
     "name": "stderr",
     "output_type": "stream",
     "text": [
      "100%|████████████████████████████████████████████████████████████████████████████████████| 2/2 [00:01<00:00,  1.56it/s]\n"
     ]
    },
    {
     "name": "stdout",
     "output_type": "stream",
     "text": [
      "Iter 3 - Epoch 0 - Client Type: Benign - Client Number 14 - Poison Training False\n"
     ]
    },
    {
     "name": "stderr",
     "output_type": "stream",
     "text": [
      "100%|████████████████████████████████████████████████████████████████████████████████████| 2/2 [00:01<00:00,  1.08it/s]\n"
     ]
    },
    {
     "name": "stdout",
     "output_type": "stream",
     "text": [
      "Iter 3 - Epoch 0 - Client Type: Benign - Client Number 15 - Poison Training False\n"
     ]
    },
    {
     "name": "stderr",
     "output_type": "stream",
     "text": [
      "100%|████████████████████████████████████████████████████████████████████████████████████| 2/2 [00:01<00:00,  1.49it/s]\n"
     ]
    },
    {
     "name": "stdout",
     "output_type": "stream",
     "text": [
      "Iter 3 - Epoch 0 - Client Type: Benign - Client Number 16 - Poison Training False\n"
     ]
    },
    {
     "name": "stderr",
     "output_type": "stream",
     "text": [
      "100%|████████████████████████████████████████████████████████████████████████████████████| 1/1 [00:01<00:00,  1.07s/it]\n"
     ]
    },
    {
     "name": "stdout",
     "output_type": "stream",
     "text": [
      "Iter 3 - Epoch 0 - Client Type: Benign - Client Number 17 - Poison Training False\n"
     ]
    },
    {
     "name": "stderr",
     "output_type": "stream",
     "text": [
      "100%|████████████████████████████████████████████████████████████████████████████████████| 2/2 [00:01<00:00,  1.39it/s]\n"
     ]
    },
    {
     "name": "stdout",
     "output_type": "stream",
     "text": [
      "Iter 3 - Epoch 0 - Client Type: Benign - Client Number 18 - Poison Training False\n"
     ]
    },
    {
     "name": "stderr",
     "output_type": "stream",
     "text": [
      "100%|████████████████████████████████████████████████████████████████████████████████████| 2/2 [00:01<00:00,  1.25it/s]\n"
     ]
    },
    {
     "name": "stdout",
     "output_type": "stream",
     "text": [
      "Iter 3 - Epoch 0 - Client Type: Benign - Client Number 19 - Poison Training False\n"
     ]
    },
    {
     "name": "stderr",
     "output_type": "stream",
     "text": [
      "100%|████████████████████████████████████████████████████████████████████████████████████| 2/2 [00:01<00:00,  1.12it/s]\n"
     ]
    },
    {
     "name": "stdout",
     "output_type": "stream",
     "text": [
      "Original Copylist [8, 4, 8, 7, 0, 5, 3, 8, 8, 6, 8, 7, 2, 6, 1, 7, 4, 7, 0, 1]\n",
      "Found clusters [0 3 0 1 2 4 0 0 0 5 0 6 7 5 8 1 3 6 2 8]\n",
      "Original groups [array([ 4, 18], dtype=int64), array([14, 19], dtype=int64), array([12], dtype=int64), array([6], dtype=int64), array([ 1, 16], dtype=int64), array([5], dtype=int64), array([ 9, 13], dtype=int64), array([ 3, 11, 15, 17], dtype=int64), array([ 0,  2,  7,  8, 10], dtype=int64)]\n",
      "Clustered groups [array([ 0,  2,  6,  7,  8, 10], dtype=int64), array([ 3, 15], dtype=int64), array([ 4, 18], dtype=int64), array([ 1, 16], dtype=int64), array([5], dtype=int64), array([ 9, 13], dtype=int64), array([11, 17], dtype=int64), array([12], dtype=int64), array([14, 19], dtype=int64)]\n",
      "Clustering score 0.753956834532374\n",
      "[[1.         0.30962768 0.64965579 0.2699237  0.42366524 0.4116361\n",
      "  0.49119216 0.65138676 0.65409376 0.18454659 0.63660629 0.14852532\n",
      "  0.65542459 0.20699285 0.45489415 0.2621121  0.42115736 0.28333982\n",
      "  0.26966201 0.46396604]\n",
      " [0.30962766 0.99999947 0.36679696 0.39405582 0.61661132 0.42874004\n",
      "  0.43062965 0.37902758 0.37416331 0.45667416 0.36812089 0.34517046\n",
      "  0.34538351 0.49588433 0.2348365  0.35189576 0.7559562  0.34236856\n",
      "  0.5604895  0.22937966]\n",
      " [0.64965579 0.36679694 0.99999901 0.24906115 0.41311617 0.44778668\n",
      "  0.62792366 0.99476659 0.99739759 0.29462574 0.996166   0.18336178\n",
      "  0.60458746 0.32003615 0.41115655 0.2027476  0.36947702 0.2338725\n",
      "  0.35452622 0.38531761]\n",
      " [0.26992371 0.39405581 0.24906115 0.99999384 0.5755742  0.56878368\n",
      "  0.27917316 0.25020352 0.25673508 0.43140909 0.2499359  0.70357402\n",
      "  0.39244762 0.45971126 0.44730306 0.86816032 0.44203637 0.85030302\n",
      "  0.47437882 0.43533438]\n",
      " [0.42366523 0.61661132 0.41311617 0.57557421 0.99999641 0.65999123\n",
      "  0.51797251 0.40812898 0.41661741 0.40482585 0.41230715 0.46888813\n",
      "  0.50412416 0.43622863 0.53974805 0.52737042 0.66505891 0.58123756\n",
      "  0.85269384 0.54328234]\n",
      " [0.41163612 0.42874004 0.44778669 0.56878365 0.65999124 0.9999923\n",
      "  0.48601135 0.43978364 0.45023069 0.41902927 0.442695   0.36748178\n",
      "  0.43267968 0.41242951 0.54240017 0.54914992 0.50684862 0.49889385\n",
      "  0.59328917 0.52105543]\n",
      " [0.49119212 0.43062969 0.62792365 0.27917317 0.51797251 0.48601135\n",
      "  0.99999553 0.61864172 0.62636457 0.39877707 0.61939088 0.30686336\n",
      "  0.60632218 0.37040768 0.54973234 0.27297883 0.34408182 0.27524008\n",
      "  0.50565079 0.52833952]\n",
      " [0.65138677 0.37902761 0.99476661 0.25020352 0.408129   0.43978363\n",
      "  0.61864174 0.9999982  0.99629892 0.2986134  0.99482961 0.19122342\n",
      "  0.59302983 0.32559041 0.38389097 0.20263119 0.37030785 0.23230007\n",
      "  0.34214261 0.36623578]\n",
      " [0.65409377 0.37416333 0.99739759 0.25673508 0.41661739 0.45023069\n",
      "  0.62636456 0.99629892 0.99999868 0.29871979 0.99629399 0.19429031\n",
      "  0.6033813  0.32609106 0.40749079 0.20962649 0.37307964 0.24107203\n",
      "  0.3559674  0.38391498]\n",
      " [0.18454659 0.45667416 0.29462573 0.43140906 0.40482585 0.41902927\n",
      "  0.39877708 0.29861341 0.2987198  0.99999519 0.29712873 0.43824551\n",
      "  0.35136766 0.81744232 0.36769841 0.33988879 0.3633872  0.41219174\n",
      "  0.35238201 0.37088407]\n",
      " [0.63660629 0.36812091 0.99616596 0.2499359  0.41230714 0.442695\n",
      "  0.61939086 0.99482963 0.99629397 0.29712874 0.99999707 0.18252716\n",
      "  0.60016594 0.32412715 0.39142924 0.20478292 0.37371804 0.22791773\n",
      "  0.35274971 0.36859823]\n",
      " [0.14852532 0.34517045 0.18336179 0.703574   0.46888813 0.36748179\n",
      "  0.30686336 0.19122342 0.19429031 0.43824551 0.18252715 0.99999269\n",
      "  0.30481786 0.45946776 0.38214183 0.63742107 0.23679736 0.74795107\n",
      "  0.3712901  0.40263264]\n",
      " [0.65542458 0.34538351 0.60458743 0.39244764 0.50412416 0.43267968\n",
      "  0.60632217 0.59302983 0.60338127 0.35136766 0.60016597 0.30481784\n",
      "  0.9999961  0.43715299 0.68147754 0.31973194 0.37199386 0.4171004\n",
      "  0.44345843 0.6823248 ]\n",
      " [0.20699285 0.49588433 0.32003617 0.45971124 0.4362286  0.4124295\n",
      "  0.37040767 0.32559041 0.32609105 0.81744235 0.32412715 0.45946776\n",
      "  0.43715301 0.99999452 0.40051556 0.35283484 0.40742793 0.44093441\n",
      "  0.39245702 0.41790691]\n",
      " [0.45489415 0.23483651 0.41115659 0.44730305 0.53974805 0.54240016\n",
      "  0.54973231 0.38389097 0.40749079 0.36769844 0.39142926 0.38214182\n",
      "  0.68147752 0.40051559 0.99999409 0.36623792 0.31756241 0.52426708\n",
      "  0.57055765 0.9456629 ]\n",
      " [0.2621121  0.35189576 0.2027476  0.86816033 0.52737043 0.54914993\n",
      "  0.27297882 0.20263119 0.2096265  0.33988879 0.20478293 0.63742104\n",
      "  0.31973193 0.35283484 0.36623793 0.99999014 0.439253   0.75066826\n",
      "  0.41767874 0.33412421]\n",
      " [0.42115735 0.75595623 0.36947702 0.44203636 0.66505889 0.50684858\n",
      "  0.34408178 0.37030783 0.37307962 0.3633872  0.37371804 0.23679735\n",
      "  0.37199386 0.40742793 0.31756241 0.439253   0.99999419 0.33650992\n",
      "  0.63656079 0.29177328]\n",
      " [0.28333981 0.34236856 0.23387249 0.85030298 0.58123754 0.49889384\n",
      "  0.27524007 0.23230008 0.24107203 0.41219174 0.22791773 0.74795111\n",
      "  0.41710039 0.44093438 0.52426706 0.75066826 0.33650992 0.99999273\n",
      "  0.4871358  0.52065523]\n",
      " [0.269662   0.56048952 0.35452623 0.47437883 0.85269387 0.59328917\n",
      "  0.50565079 0.34214261 0.3559674  0.35238198 0.35274969 0.3712901\n",
      "  0.44345844 0.39245702 0.57055763 0.41767874 0.63656078 0.48713577\n",
      "  0.99999536 0.55221363]\n",
      " [0.46396607 0.22937966 0.38531759 0.43533439 0.54328232 0.52105543\n",
      "  0.52833952 0.36623576 0.383915   0.37088407 0.36859823 0.40263264\n",
      "  0.68232477 0.41790691 0.94566289 0.3341242  0.29177329 0.52065524\n",
      "  0.55221364 0.99999119]]\n",
      "Original Copylist [8, 4, 8, 7, 0, 5, 3, 8, 8, 6, 8, 7, 2, 6, 1, 7, 4, 7, 0, 1]\n",
      "Found clusters [8 5 4 0 3 7 6 4 4 1 4 0 2 1 2 0 5 0 3 2]\n",
      "Original groups [array([ 4, 18], dtype=int64), array([14, 19], dtype=int64), array([12], dtype=int64), array([6], dtype=int64), array([ 1, 16], dtype=int64), array([5], dtype=int64), array([ 9, 13], dtype=int64), array([ 3, 11, 15, 17], dtype=int64), array([ 0,  2,  7,  8, 10], dtype=int64)]\n",
      "Clustered groups [array([ 3, 11, 15, 17], dtype=int64), array([ 9, 13], dtype=int64), array([12, 14, 19], dtype=int64), array([ 4, 18], dtype=int64), array([ 2,  7,  8, 10], dtype=int64), array([ 1, 16], dtype=int64), array([6], dtype=int64), array([5], dtype=int64), array([0], dtype=int64)]\n",
      "Clustering score 0.8246153846153846\n",
      "\n",
      "\n",
      " Entering epoch 1\n",
      "Iter 3 - Epoch 0 - Client Type: Benign - Client Number 0 - Poison Training False\n"
     ]
    },
    {
     "name": "stderr",
     "output_type": "stream",
     "text": [
      "100%|████████████████████████████████████████████████████████████████████████████████████| 1/1 [00:00<00:00,  1.17it/s]\n"
     ]
    },
    {
     "name": "stdout",
     "output_type": "stream",
     "text": [
      "Iter 3 - Epoch 0 - Client Type: Benign - Client Number 1 - Poison Training False\n"
     ]
    },
    {
     "name": "stderr",
     "output_type": "stream",
     "text": [
      "100%|████████████████████████████████████████████████████████████████████████████████████| 1/1 [00:01<00:00,  1.14s/it]\n"
     ]
    },
    {
     "name": "stdout",
     "output_type": "stream",
     "text": [
      "Iter 3 - Epoch 0 - Client Type: Benign - Client Number 2 - Poison Training False\n"
     ]
    },
    {
     "name": "stderr",
     "output_type": "stream",
     "text": [
      "100%|████████████████████████████████████████████████████████████████████████████████████| 1/1 [00:00<00:00,  1.28it/s]\n"
     ]
    },
    {
     "name": "stdout",
     "output_type": "stream",
     "text": [
      "Iter 3 - Epoch 0 - Client Type: Benign - Client Number 3 - Poison Training False\n"
     ]
    },
    {
     "name": "stderr",
     "output_type": "stream",
     "text": [
      "100%|████████████████████████████████████████████████████████████████████████████████████| 2/2 [00:01<00:00,  1.62it/s]\n"
     ]
    },
    {
     "name": "stdout",
     "output_type": "stream",
     "text": [
      "Iter 3 - Epoch 0 - Client Type: Benign - Client Number 4 - Poison Training False\n"
     ]
    },
    {
     "name": "stderr",
     "output_type": "stream",
     "text": [
      "100%|████████████████████████████████████████████████████████████████████████████████████| 2/2 [00:01<00:00,  1.73it/s]\n"
     ]
    },
    {
     "name": "stdout",
     "output_type": "stream",
     "text": [
      "Iter 3 - Epoch 0 - Client Type: Benign - Client Number 5 - Poison Training False\n"
     ]
    },
    {
     "name": "stderr",
     "output_type": "stream",
     "text": [
      "100%|████████████████████████████████████████████████████████████████████████████████████| 2/2 [00:01<00:00,  1.30it/s]\n"
     ]
    },
    {
     "name": "stdout",
     "output_type": "stream",
     "text": [
      "Iter 3 - Epoch 0 - Client Type: Benign - Client Number 6 - Poison Training False\n"
     ]
    },
    {
     "name": "stderr",
     "output_type": "stream",
     "text": [
      "100%|████████████████████████████████████████████████████████████████████████████████████| 2/2 [00:01<00:00,  1.29it/s]\n"
     ]
    },
    {
     "name": "stdout",
     "output_type": "stream",
     "text": [
      "Iter 3 - Epoch 0 - Client Type: Benign - Client Number 7 - Poison Training False\n"
     ]
    },
    {
     "name": "stderr",
     "output_type": "stream",
     "text": [
      "100%|████████████████████████████████████████████████████████████████████████████████████| 1/1 [00:00<00:00,  1.20it/s]\n"
     ]
    },
    {
     "name": "stdout",
     "output_type": "stream",
     "text": [
      "Iter 3 - Epoch 0 - Client Type: Benign - Client Number 8 - Poison Training False\n"
     ]
    },
    {
     "name": "stderr",
     "output_type": "stream",
     "text": [
      "100%|████████████████████████████████████████████████████████████████████████████████████| 1/1 [00:00<00:00,  1.29it/s]\n"
     ]
    },
    {
     "name": "stdout",
     "output_type": "stream",
     "text": [
      "Iter 3 - Epoch 0 - Client Type: Benign - Client Number 9 - Poison Training False\n"
     ]
    },
    {
     "name": "stderr",
     "output_type": "stream",
     "text": [
      "100%|████████████████████████████████████████████████████████████████████████████████████| 2/2 [00:01<00:00,  1.69it/s]\n"
     ]
    },
    {
     "name": "stdout",
     "output_type": "stream",
     "text": [
      "Iter 3 - Epoch 0 - Client Type: Benign - Client Number 10 - Poison Training False\n"
     ]
    },
    {
     "name": "stderr",
     "output_type": "stream",
     "text": [
      "100%|████████████████████████████████████████████████████████████████████████████████████| 1/1 [00:00<00:00,  1.13it/s]\n"
     ]
    },
    {
     "name": "stdout",
     "output_type": "stream",
     "text": [
      "Iter 3 - Epoch 0 - Client Type: Benign - Client Number 11 - Poison Training False\n"
     ]
    },
    {
     "name": "stderr",
     "output_type": "stream",
     "text": [
      "100%|████████████████████████████████████████████████████████████████████████████████████| 2/2 [00:01<00:00,  1.60it/s]\n"
     ]
    },
    {
     "name": "stdout",
     "output_type": "stream",
     "text": [
      "Iter 3 - Epoch 0 - Client Type: Benign - Client Number 12 - Poison Training False\n"
     ]
    },
    {
     "name": "stderr",
     "output_type": "stream",
     "text": [
      "100%|████████████████████████████████████████████████████████████████████████████████████| 1/1 [00:00<00:00,  1.86it/s]\n"
     ]
    },
    {
     "name": "stdout",
     "output_type": "stream",
     "text": [
      "Iter 3 - Epoch 0 - Client Type: Benign - Client Number 13 - Poison Training False\n"
     ]
    },
    {
     "name": "stderr",
     "output_type": "stream",
     "text": [
      "100%|████████████████████████████████████████████████████████████████████████████████████| 2/2 [00:01<00:00,  1.57it/s]\n"
     ]
    },
    {
     "name": "stdout",
     "output_type": "stream",
     "text": [
      "Iter 3 - Epoch 0 - Client Type: Benign - Client Number 14 - Poison Training False\n"
     ]
    },
    {
     "name": "stderr",
     "output_type": "stream",
     "text": [
      "100%|████████████████████████████████████████████████████████████████████████████████████| 2/2 [00:01<00:00,  1.29it/s]\n"
     ]
    },
    {
     "name": "stdout",
     "output_type": "stream",
     "text": [
      "Iter 3 - Epoch 0 - Client Type: Benign - Client Number 15 - Poison Training False\n"
     ]
    },
    {
     "name": "stderr",
     "output_type": "stream",
     "text": [
      "100%|████████████████████████████████████████████████████████████████████████████████████| 2/2 [00:01<00:00,  1.76it/s]\n"
     ]
    },
    {
     "name": "stdout",
     "output_type": "stream",
     "text": [
      "Iter 3 - Epoch 0 - Client Type: Benign - Client Number 16 - Poison Training False\n"
     ]
    },
    {
     "name": "stderr",
     "output_type": "stream",
     "text": [
      "100%|████████████████████████████████████████████████████████████████████████████████████| 1/1 [00:00<00:00,  1.22it/s]\n"
     ]
    },
    {
     "name": "stdout",
     "output_type": "stream",
     "text": [
      "Iter 3 - Epoch 0 - Client Type: Benign - Client Number 17 - Poison Training False\n"
     ]
    },
    {
     "name": "stderr",
     "output_type": "stream",
     "text": [
      "100%|████████████████████████████████████████████████████████████████████████████████████| 2/2 [00:01<00:00,  1.67it/s]\n"
     ]
    },
    {
     "name": "stdout",
     "output_type": "stream",
     "text": [
      "Iter 3 - Epoch 0 - Client Type: Benign - Client Number 18 - Poison Training False\n"
     ]
    },
    {
     "name": "stderr",
     "output_type": "stream",
     "text": [
      "100%|████████████████████████████████████████████████████████████████████████████████████| 2/2 [00:01<00:00,  1.68it/s]\n"
     ]
    },
    {
     "name": "stdout",
     "output_type": "stream",
     "text": [
      "Iter 3 - Epoch 0 - Client Type: Benign - Client Number 19 - Poison Training False\n"
     ]
    },
    {
     "name": "stderr",
     "output_type": "stream",
     "text": [
      "100%|████████████████████████████████████████████████████████████████████████████████████| 2/2 [00:01<00:00,  1.28it/s]\n"
     ]
    },
    {
     "name": "stdout",
     "output_type": "stream",
     "text": [
      "Original Copylist [8, 4, 8, 7, 0, 5, 3, 8, 8, 6, 8, 7, 2, 6, 1, 7, 4, 7, 0, 1]\n",
      "Found clusters [0 3 0 7 1 6 4 0 0 8 0 2 0 8 5 7 3 2 1 5]\n",
      "Original groups [array([ 4, 18], dtype=int64), array([14, 19], dtype=int64), array([12], dtype=int64), array([6], dtype=int64), array([ 1, 16], dtype=int64), array([5], dtype=int64), array([ 9, 13], dtype=int64), array([ 3, 11, 15, 17], dtype=int64), array([ 0,  2,  7,  8, 10], dtype=int64)]\n",
      "Clustered groups [array([ 0,  2,  7,  8, 10, 12], dtype=int64), array([ 4, 18], dtype=int64), array([11, 17], dtype=int64), array([ 1, 16], dtype=int64), array([6], dtype=int64), array([14, 19], dtype=int64), array([5], dtype=int64), array([ 3, 15], dtype=int64), array([ 9, 13], dtype=int64)]\n",
      "Clustering score 0.753956834532374\n",
      "[[ 0.99999617  0.26640399  0.65680954  0.00491687  0.24547594  0.36779468\n",
      "   0.11356154  0.65890096  0.65809213  0.14161594  0.64327467  0.08522544\n",
      "   0.61804722  0.17920988  0.34240001  0.00863223  0.24685351  0.12002288\n",
      "   0.05929376  0.28796747]\n",
      " [ 0.26640399  0.99999679  0.42865434  0.09435656  0.63628993  0.39658364\n",
      "   0.33503783  0.43558629  0.43020499  0.28528179  0.42355126  0.33205301\n",
      "   0.38549781  0.39729166  0.38691038  0.09576085  0.82563631  0.18437038\n",
      "   0.55841275  0.33352791]\n",
      " [ 0.65680957  0.42865433  0.99999841 -0.07860017  0.33107915  0.40748283\n",
      "   0.30246555  0.99540679  0.99680602  0.10030323  0.99503144 -0.01819132\n",
      "   0.70258259  0.19254691  0.50817409 -0.09507421  0.33027891 -0.05479035\n",
      "   0.22944966  0.4454919 ]\n",
      " [ 0.00491688  0.09435656 -0.07860016  0.9999913   0.43232032  0.40835469\n",
      "   0.26849331 -0.07621315 -0.07299173  0.15927698 -0.0737575   0.60949011\n",
      "   0.03419761  0.22931055  0.09716445  0.88478705  0.16889919  0.79891084\n",
      "   0.39735304  0.11917644]\n",
      " [ 0.24547594  0.63628993  0.33107916  0.43232032  0.99999181  0.58348865\n",
      "   0.48014252  0.33020269  0.33527658  0.20035953  0.33226038  0.41084361\n",
      "   0.37030917  0.33924793  0.43411833  0.40942841  0.62303249  0.45483302\n",
      "   0.83431314  0.43808353]\n",
      " [ 0.36779469  0.39658362  0.40748282  0.40835467  0.58348865  0.99999077\n",
      "   0.38029879  0.40304737  0.40886956  0.24630627  0.40130568  0.32879145\n",
      "   0.35456532  0.31836006  0.50360893  0.41333103  0.42564225  0.37188149\n",
      "   0.54283938  0.45235201]\n",
      " [ 0.11356153  0.33503785  0.30246555  0.26849331  0.48014252  0.38029881\n",
      "   0.99999596  0.29656401  0.2976578   0.21371352  0.3051885   0.31859767\n",
      "   0.17985965  0.20697166  0.35483445  0.27614566  0.28947594  0.2925498\n",
      "   0.51762624  0.3254574 ]\n",
      " [ 0.65890093  0.4355863   0.99540683 -0.07621314  0.33020272  0.40304737\n",
      "   0.29656402  0.999997    0.9962839   0.10731033  0.99503055 -0.00875417\n",
      "   0.70049481  0.20163446  0.49448699 -0.09252203  0.33244942 -0.05116835\n",
      "   0.2262725   0.43758791]\n",
      " [ 0.65809213  0.43020502  0.99680605 -0.07299174  0.33527657  0.40886955\n",
      "   0.2976578   0.99628393  0.99999819  0.10737586  0.99547073 -0.01386059\n",
      "   0.7058956   0.20157228  0.5090215  -0.08999377  0.33081167 -0.05167714\n",
      "   0.23309494  0.45060156]\n",
      " [ 0.14161594  0.28528179  0.10030322  0.15927696  0.20035953  0.24630626\n",
      "   0.21371352  0.10731033  0.10737586  0.99999406  0.10477071  0.23285901\n",
      "   0.22266658  0.85819641  0.19864854  0.06512173  0.22258972  0.20609167\n",
      "   0.12227544  0.28314839]\n",
      " [ 0.64327467  0.42355127  0.99503142 -0.07375749  0.33226036  0.40130568\n",
      "   0.30518849  0.99503053  0.99547073  0.10477072  0.99999768 -0.01695194\n",
      "   0.70360154  0.2000538   0.49551108 -0.08939805  0.32593022 -0.05392903\n",
      "   0.23033685  0.44017421]\n",
      " [ 0.08522544  0.33205301 -0.01819132  0.6094901   0.41084361  0.32879144\n",
      "   0.31859767 -0.00875416 -0.01386059  0.23285901 -0.01695194  0.99999418\n",
      "   0.05501397  0.27335581  0.16389423  0.61312145  0.32564947  0.79790861\n",
      "   0.39118685  0.10373601]\n",
      " [ 0.61804725  0.38549781  0.70258258  0.03419762  0.37030918  0.35456533\n",
      "   0.17985964  0.70049481  0.70589559  0.22266658  0.70360155  0.05501396\n",
      "   1.          0.36734294  0.64753243  0.0090128   0.34130425  0.0452051\n",
      "   0.28344554  0.66335012]\n",
      " [ 0.17920988  0.39729166  0.19254692  0.22931054  0.33924792  0.31836006\n",
      "   0.20697165  0.20163446  0.20157227  0.85819639  0.2000538   0.27335581\n",
      "   0.36734295  0.99999241  0.27085429  0.12313141  0.30538159  0.26018376\n",
      "   0.23041826  0.36905527]\n",
      " [ 0.34240001  0.38691042  0.5081741   0.09716445  0.43411833  0.50360893\n",
      "   0.35483444  0.49448699  0.50902153  0.19864855  0.49551106  0.16389423\n",
      "   0.64753242  0.2708543   0.99999107  0.12101807  0.44291332  0.07205235\n",
      "   0.54311154  0.93345307]\n",
      " [ 0.00863224  0.09576085 -0.09507421  0.88478708  0.40942843  0.41333105\n",
      "   0.27614566 -0.09252202 -0.08999377  0.06512173 -0.08939806  0.61312144\n",
      "   0.0090128   0.12313142  0.12101808  0.99999046  0.20456636  0.72712337\n",
      "   0.40884502  0.10250374]\n",
      " [ 0.2468535   0.82563633  0.33027891  0.16889918  0.62303248  0.42564223\n",
      "   0.28947592  0.33244941  0.33081165  0.22258972  0.3259302   0.32564948\n",
      "   0.34130424  0.30538159  0.44291332  0.20456636  0.99999266  0.21025512\n",
      "   0.65070501  0.38669095]\n",
      " [ 0.12002288  0.18437038 -0.05479036  0.79891082  0.45483301  0.37188147\n",
      "   0.2925498  -0.05116835 -0.05167714  0.20609167 -0.05392901  0.79790863\n",
      "   0.0452051   0.26018375  0.07205234  0.7271234   0.21025512  0.99999378\n",
      "   0.37986325  0.04249923]\n",
      " [ 0.05929376  0.55841274  0.22944967  0.39735303  0.83431316  0.54283936\n",
      "   0.51762624  0.2262725   0.23309493  0.12227542  0.23033684  0.39118683\n",
      "   0.28344553  0.23041826  0.54311153  0.40884504  0.650705    0.37986324\n",
      "   0.99999373  0.5222541 ]\n",
      " [ 0.28796748  0.33352789  0.44549193  0.11917644  0.43808352  0.45235201\n",
      "   0.3254574   0.4375879   0.45060157  0.28314839  0.44017424  0.10373601\n",
      "   0.6633501   0.36905527  0.9334531   0.10250373  0.38669094  0.04249922\n",
      "   0.52225412  0.99999081]]\n",
      "Original Copylist [8, 4, 8, 7, 0, 5, 3, 8, 8, 6, 8, 7, 2, 6, 1, 7, 4, 7, 0, 1]\n",
      "Found clusters [0 1 0 8 3 6 4 0 0 7 0 2 0 7 5 8 1 2 3 5]\n",
      "Original groups [array([ 4, 18], dtype=int64), array([14, 19], dtype=int64), array([12], dtype=int64), array([6], dtype=int64), array([ 1, 16], dtype=int64), array([5], dtype=int64), array([ 9, 13], dtype=int64), array([ 3, 11, 15, 17], dtype=int64), array([ 0,  2,  7,  8, 10], dtype=int64)]\n",
      "Clustered groups [array([ 0,  2,  7,  8, 10, 12], dtype=int64), array([ 1, 16], dtype=int64), array([11, 17], dtype=int64), array([ 4, 18], dtype=int64), array([6], dtype=int64), array([14, 19], dtype=int64), array([5], dtype=int64), array([ 9, 13], dtype=int64), array([ 3, 15], dtype=int64)]\n",
      "Clustering score 0.753956834532374\n",
      "\n",
      "\n",
      " Entering epoch 2\n",
      "Iter 3 - Epoch 0 - Client Type: Benign - Client Number 0 - Poison Training False\n"
     ]
    },
    {
     "name": "stderr",
     "output_type": "stream",
     "text": [
      "100%|████████████████████████████████████████████████████████████████████████████████████| 1/1 [00:00<00:00,  1.34it/s]\n"
     ]
    },
    {
     "name": "stdout",
     "output_type": "stream",
     "text": [
      "Iter 3 - Epoch 0 - Client Type: Benign - Client Number 1 - Poison Training False\n"
     ]
    },
    {
     "name": "stderr",
     "output_type": "stream",
     "text": [
      "100%|████████████████████████████████████████████████████████████████████████████████████| 1/1 [00:00<00:00,  1.05it/s]\n"
     ]
    },
    {
     "name": "stdout",
     "output_type": "stream",
     "text": [
      "Iter 3 - Epoch 0 - Client Type: Benign - Client Number 2 - Poison Training False\n"
     ]
    },
    {
     "name": "stderr",
     "output_type": "stream",
     "text": [
      "100%|████████████████████████████████████████████████████████████████████████████████████| 1/1 [00:00<00:00,  1.20it/s]\n"
     ]
    },
    {
     "name": "stdout",
     "output_type": "stream",
     "text": [
      "Iter 3 - Epoch 0 - Client Type: Benign - Client Number 3 - Poison Training False\n"
     ]
    },
    {
     "name": "stderr",
     "output_type": "stream",
     "text": [
      "100%|████████████████████████████████████████████████████████████████████████████████████| 2/2 [00:01<00:00,  1.79it/s]\n"
     ]
    },
    {
     "name": "stdout",
     "output_type": "stream",
     "text": [
      "Iter 3 - Epoch 0 - Client Type: Benign - Client Number 4 - Poison Training False\n"
     ]
    },
    {
     "name": "stderr",
     "output_type": "stream",
     "text": [
      "100%|████████████████████████████████████████████████████████████████████████████████████| 2/2 [00:01<00:00,  1.55it/s]\n"
     ]
    },
    {
     "name": "stdout",
     "output_type": "stream",
     "text": [
      "Iter 3 - Epoch 0 - Client Type: Benign - Client Number 5 - Poison Training False\n"
     ]
    },
    {
     "name": "stderr",
     "output_type": "stream",
     "text": [
      "100%|████████████████████████████████████████████████████████████████████████████████████| 2/2 [00:01<00:00,  1.20it/s]\n"
     ]
    },
    {
     "name": "stdout",
     "output_type": "stream",
     "text": [
      "Iter 3 - Epoch 0 - Client Type: Benign - Client Number 6 - Poison Training False\n"
     ]
    },
    {
     "name": "stderr",
     "output_type": "stream",
     "text": [
      "100%|████████████████████████████████████████████████████████████████████████████████████| 2/2 [00:01<00:00,  1.25it/s]\n"
     ]
    },
    {
     "name": "stdout",
     "output_type": "stream",
     "text": [
      "Iter 3 - Epoch 0 - Client Type: Benign - Client Number 7 - Poison Training False\n"
     ]
    },
    {
     "name": "stderr",
     "output_type": "stream",
     "text": [
      "100%|████████████████████████████████████████████████████████████████████████████████████| 1/1 [00:00<00:00,  1.23it/s]\n"
     ]
    },
    {
     "name": "stdout",
     "output_type": "stream",
     "text": [
      "Iter 3 - Epoch 0 - Client Type: Benign - Client Number 8 - Poison Training False\n"
     ]
    },
    {
     "name": "stderr",
     "output_type": "stream",
     "text": [
      "100%|████████████████████████████████████████████████████████████████████████████████████| 1/1 [00:01<00:00,  1.07s/it]\n"
     ]
    },
    {
     "name": "stdout",
     "output_type": "stream",
     "text": [
      "Iter 3 - Epoch 0 - Client Type: Benign - Client Number 9 - Poison Training False\n"
     ]
    },
    {
     "name": "stderr",
     "output_type": "stream",
     "text": [
      "100%|████████████████████████████████████████████████████████████████████████████████████| 2/2 [00:01<00:00,  1.75it/s]\n"
     ]
    },
    {
     "name": "stdout",
     "output_type": "stream",
     "text": [
      "Iter 3 - Epoch 0 - Client Type: Benign - Client Number 10 - Poison Training False\n"
     ]
    },
    {
     "name": "stderr",
     "output_type": "stream",
     "text": [
      "100%|████████████████████████████████████████████████████████████████████████████████████| 1/1 [00:00<00:00,  1.22it/s]\n"
     ]
    },
    {
     "name": "stdout",
     "output_type": "stream",
     "text": [
      "Iter 3 - Epoch 0 - Client Type: Benign - Client Number 11 - Poison Training False\n"
     ]
    },
    {
     "name": "stderr",
     "output_type": "stream",
     "text": [
      "100%|████████████████████████████████████████████████████████████████████████████████████| 2/2 [00:01<00:00,  1.76it/s]\n"
     ]
    },
    {
     "name": "stdout",
     "output_type": "stream",
     "text": [
      "Iter 3 - Epoch 0 - Client Type: Benign - Client Number 12 - Poison Training False\n"
     ]
    },
    {
     "name": "stderr",
     "output_type": "stream",
     "text": [
      "100%|████████████████████████████████████████████████████████████████████████████████████| 1/1 [00:00<00:00,  1.71it/s]\n"
     ]
    },
    {
     "name": "stdout",
     "output_type": "stream",
     "text": [
      "Iter 3 - Epoch 0 - Client Type: Benign - Client Number 13 - Poison Training False\n"
     ]
    },
    {
     "name": "stderr",
     "output_type": "stream",
     "text": [
      "100%|████████████████████████████████████████████████████████████████████████████████████| 2/2 [00:01<00:00,  1.85it/s]\n"
     ]
    },
    {
     "name": "stdout",
     "output_type": "stream",
     "text": [
      "Iter 3 - Epoch 0 - Client Type: Benign - Client Number 14 - Poison Training False\n"
     ]
    },
    {
     "name": "stderr",
     "output_type": "stream",
     "text": [
      "100%|████████████████████████████████████████████████████████████████████████████████████| 2/2 [00:01<00:00,  1.42it/s]\n"
     ]
    },
    {
     "name": "stdout",
     "output_type": "stream",
     "text": [
      "Iter 3 - Epoch 0 - Client Type: Benign - Client Number 15 - Poison Training False\n"
     ]
    },
    {
     "name": "stderr",
     "output_type": "stream",
     "text": [
      "100%|████████████████████████████████████████████████████████████████████████████████████| 2/2 [00:01<00:00,  1.66it/s]\n"
     ]
    },
    {
     "name": "stdout",
     "output_type": "stream",
     "text": [
      "Iter 3 - Epoch 0 - Client Type: Benign - Client Number 16 - Poison Training False\n"
     ]
    },
    {
     "name": "stderr",
     "output_type": "stream",
     "text": [
      "100%|████████████████████████████████████████████████████████████████████████████████████| 1/1 [00:00<00:00,  1.05it/s]\n"
     ]
    },
    {
     "name": "stdout",
     "output_type": "stream",
     "text": [
      "Iter 3 - Epoch 0 - Client Type: Benign - Client Number 17 - Poison Training False\n"
     ]
    },
    {
     "name": "stderr",
     "output_type": "stream",
     "text": [
      "100%|████████████████████████████████████████████████████████████████████████████████████| 2/2 [00:01<00:00,  1.54it/s]\n"
     ]
    },
    {
     "name": "stdout",
     "output_type": "stream",
     "text": [
      "Iter 3 - Epoch 0 - Client Type: Benign - Client Number 18 - Poison Training False\n"
     ]
    },
    {
     "name": "stderr",
     "output_type": "stream",
     "text": [
      "100%|████████████████████████████████████████████████████████████████████████████████████| 2/2 [00:01<00:00,  1.66it/s]\n"
     ]
    },
    {
     "name": "stdout",
     "output_type": "stream",
     "text": [
      "Iter 3 - Epoch 0 - Client Type: Benign - Client Number 19 - Poison Training False\n"
     ]
    },
    {
     "name": "stderr",
     "output_type": "stream",
     "text": [
      "100%|████████████████████████████████████████████████████████████████████████████████████| 2/2 [00:01<00:00,  1.23it/s]\n"
     ]
    },
    {
     "name": "stdout",
     "output_type": "stream",
     "text": [
      "Original Copylist [8, 4, 8, 7, 0, 5, 3, 8, 8, 6, 8, 7, 2, 6, 1, 7, 4, 7, 0, 1]\n",
      "Found clusters [1 2 1 0 6 8 5 1 1 7 1 0 1 4 3 0 2 0 6 3]\n",
      "Original groups [array([ 4, 18], dtype=int64), array([14, 19], dtype=int64), array([12], dtype=int64), array([6], dtype=int64), array([ 1, 16], dtype=int64), array([5], dtype=int64), array([ 9, 13], dtype=int64), array([ 3, 11, 15, 17], dtype=int64), array([ 0,  2,  7,  8, 10], dtype=int64)]\n",
      "Clustered groups [array([ 3, 11, 15, 17], dtype=int64), array([ 0,  2,  7,  8, 10, 12], dtype=int64), array([ 1, 16], dtype=int64), array([14, 19], dtype=int64), array([13], dtype=int64), array([6], dtype=int64), array([ 4, 18], dtype=int64), array([9], dtype=int64), array([5], dtype=int64)]\n",
      "Clustering score 0.845945945945946\n",
      "[[ 0.99999435  0.23022227  0.63876561  0.08523525  0.23102219  0.36410327\n",
      "   0.33647462  0.64167067  0.64353337  0.10064654  0.62865625  0.12069501\n",
      "   0.62903004  0.15453079  0.33520647  0.07647578  0.35248026  0.13667313\n",
      "   0.16983499  0.30255641]\n",
      " [ 0.23022227  0.99999931  0.46904434  0.15418532  0.6313656   0.46478043\n",
      "   0.11944621  0.47396101  0.46165341  0.08607779  0.46302973  0.25760454\n",
      "   0.39875601  0.3709256   0.36002065  0.16376282  0.77091261  0.10356067\n",
      "   0.51518584  0.43105034]\n",
      " [ 0.6387656   0.46904434  1.          0.03190004  0.37539795  0.44578228\n",
      "   0.12306728  0.99506406  0.99533846 -0.06399404  0.99354218 -0.05117319\n",
      "   0.76253225  0.16413906  0.36019597  0.04437189  0.42328449 -0.09847751\n",
      "   0.28624839  0.42226838]\n",
      " [ 0.08523526  0.15418532  0.03190005  0.99998959  0.4209331   0.45836917\n",
      "   0.21262239  0.03641879  0.04205349  0.07466266  0.03519636  0.65858575\n",
      "   0.17726676  0.3371016   0.2430072   0.89534837  0.14525416  0.74609268\n",
      "   0.38739126  0.27623511]\n",
      " [ 0.23102219  0.6313656   0.37539796  0.42093308  0.99999116  0.58943071\n",
      "   0.27378392  0.37598881  0.37073063  0.02996403  0.38130425  0.33819621\n",
      "   0.35335636  0.32971242  0.42843901  0.41129476  0.56971004  0.35939701\n",
      "   0.85028211  0.42675821]\n",
      " [ 0.36410328  0.46478039  0.44578229  0.45836916  0.58943075  0.99999135\n",
      "   0.26348395  0.43980977  0.43681441  0.14066508  0.43869093  0.3360444\n",
      "   0.36600703  0.38346286  0.55678346  0.46814082  0.43682413  0.33118189\n",
      "   0.56561257  0.51932095]\n",
      " [ 0.33647458  0.11944622  0.12306728  0.21262239  0.27378392  0.26348395\n",
      "   0.99999949  0.12577715  0.12516505  0.27943495  0.12305288  0.33830439\n",
      "   0.12851468  0.15263221  0.38402477  0.18680351  0.22269294  0.33420776\n",
      "   0.36210026  0.27338127]\n",
      " [ 0.64167066  0.47396098  0.99506411  0.0364188   0.37598882  0.43980978\n",
      "   0.12577716  0.99999661  0.99552285 -0.06021146  0.99433226 -0.04119844\n",
      "   0.76556038  0.16840649  0.35332031  0.04879614  0.42810869 -0.0893031\n",
      "   0.28513153  0.41755153]\n",
      " [ 0.6435334   0.46165342  0.99533844  0.04205348  0.37073063  0.43681441\n",
      "   0.12516505  0.99552287  0.99999685 -0.05873063  0.99336486 -0.04449478\n",
      "   0.77524161  0.16580637  0.35864448  0.05395782  0.41623996 -0.08770613\n",
      "   0.28014444  0.422189  ]\n",
      " [ 0.10064654  0.08607779 -0.06399404  0.07466265  0.02996403  0.14066508\n",
      "   0.27943495 -0.06021147 -0.05873063  0.99999615 -0.06719477  0.22336068\n",
      "   0.02309949  0.70860291  0.26662038  0.00529213  0.17692767  0.2155326\n",
      "   0.05109385  0.1911561 ]\n",
      " [ 0.62865625  0.46302973  0.99354214  0.03519637  0.38130426  0.43869093\n",
      "   0.12305287  0.99433225  0.99336485 -0.06719477  0.99999755 -0.05205245\n",
      "   0.76269938  0.16215054  0.3502064   0.04671644  0.42269    -0.09408949\n",
      "   0.2897224   0.4157648 ]\n",
      " [ 0.12069501  0.25760454 -0.05117319  0.65858574  0.3381962   0.33604439\n",
      "   0.33830439 -0.04119844 -0.04449478  0.22336068 -0.05205245  0.99999341\n",
      "   0.06484311  0.3487398   0.2911168   0.62477147  0.24962094  0.83774556\n",
      "   0.35701366  0.2494557 ]\n",
      " [ 0.62903003  0.398756    0.76253228  0.17726676  0.35335636  0.36600704\n",
      "   0.12851468  0.76556038  0.77524163  0.0230995   0.76269939  0.06484311\n",
      "   0.99999674  0.25593667  0.47381721  0.18256699  0.34231733  0.04231978\n",
      "   0.25142686  0.60047068]\n",
      " [ 0.15453079  0.3709256   0.16413907  0.33710159  0.32971241  0.38346284\n",
      "   0.15263221  0.16840649  0.16580637  0.70860287  0.16215054  0.34873982\n",
      "   0.25593667  0.99998997  0.3817558   0.26192326  0.3271237   0.3133004\n",
      "   0.28852693  0.41179628]\n",
      " [ 0.33520649  0.36002067  0.36019599  0.24300719  0.42843902  0.55678345\n",
      "   0.38402475  0.35332031  0.3586445   0.26662039  0.35020639  0.29111682\n",
      "   0.47381722  0.38175582  0.99999174  0.24265933  0.29902395  0.20293791\n",
      "   0.48947481  0.85562009]\n",
      " [ 0.07647579  0.16376283  0.04437189  0.89534839  0.41129479  0.46814083\n",
      "   0.18680351  0.04879613  0.05395782  0.00529213  0.04671643  0.62477147\n",
      "   0.18256699  0.26192327  0.24265934  0.99999102  0.16645243  0.66858119\n",
      "   0.38414326  0.28185598]\n",
      " [ 0.35248025  0.77091259  0.42328449  0.14525416  0.56971003  0.43682412\n",
      "   0.22269292  0.42810865  0.41623995  0.17692766  0.42268999  0.24962096\n",
      "   0.34231731  0.3271237   0.29902394  0.16645243  0.99999367  0.17060577\n",
      "   0.59509089  0.30885577]\n",
      " [ 0.13667313  0.10356067 -0.09847751  0.74609264  0.359397    0.33118189\n",
      "   0.33420775 -0.0893031  -0.08770613  0.21553259 -0.09408948  0.8377456\n",
      "   0.04231978  0.31330038  0.2029379   0.66858121  0.17060577  0.99999369\n",
      "   0.36633179  0.10987804]\n",
      " [ 0.16983498  0.51518582  0.2862484   0.38739126  0.85028215  0.56561256\n",
      "   0.36210026  0.28513153  0.28014444  0.05109384  0.2897224   0.35701365\n",
      "   0.25142685  0.28852694  0.48947479  0.38414327  0.59509092  0.3663318\n",
      "   0.99999104  0.43429937]\n",
      " [ 0.30255643  0.43105033  0.42226841  0.2762351   0.42675819  0.51932095\n",
      "   0.27338127  0.41755154  0.422189    0.1911561   0.41576481  0.24945569\n",
      "   0.60047067  0.41179628  0.85562007  0.281856    0.30885576  0.10987803\n",
      "   0.43429938  0.99999083]]\n",
      "Original Copylist [8, 4, 8, 7, 0, 5, 3, 8, 8, 6, 8, 7, 2, 6, 1, 7, 4, 7, 0, 1]\n",
      "Found clusters [0 6 0 8 3 7 4 0 0 2 0 1 0 2 5 8 6 1 3 5]\n",
      "Original groups [array([ 4, 18], dtype=int64), array([14, 19], dtype=int64), array([12], dtype=int64), array([6], dtype=int64), array([ 1, 16], dtype=int64), array([5], dtype=int64), array([ 9, 13], dtype=int64), array([ 3, 11, 15, 17], dtype=int64), array([ 0,  2,  7,  8, 10], dtype=int64)]\n",
      "Clustered groups [array([ 0,  2,  7,  8, 10, 12], dtype=int64), array([11, 17], dtype=int64), array([ 9, 13], dtype=int64), array([ 4, 18], dtype=int64), array([6], dtype=int64), array([14, 19], dtype=int64), array([ 1, 16], dtype=int64), array([5], dtype=int64), array([ 3, 15], dtype=int64)]\n",
      "Clustering score 0.753956834532374\n",
      "\n",
      "\n",
      " Entering epoch 3\n",
      "Iter 3 - Epoch 0 - Client Type: Benign - Client Number 0 - Poison Training False\n"
     ]
    },
    {
     "name": "stderr",
     "output_type": "stream",
     "text": [
      "100%|████████████████████████████████████████████████████████████████████████████████████| 1/1 [00:00<00:00,  1.17it/s]\n"
     ]
    },
    {
     "name": "stdout",
     "output_type": "stream",
     "text": [
      "Iter 3 - Epoch 0 - Client Type: Benign - Client Number 1 - Poison Training False\n"
     ]
    },
    {
     "name": "stderr",
     "output_type": "stream",
     "text": [
      "100%|████████████████████████████████████████████████████████████████████████████████████| 1/1 [00:01<00:00,  1.03s/it]\n"
     ]
    },
    {
     "name": "stdout",
     "output_type": "stream",
     "text": [
      "Iter 3 - Epoch 0 - Client Type: Benign - Client Number 2 - Poison Training False\n"
     ]
    },
    {
     "name": "stderr",
     "output_type": "stream",
     "text": [
      "100%|████████████████████████████████████████████████████████████████████████████████████| 1/1 [00:00<00:00,  1.09it/s]\n"
     ]
    },
    {
     "name": "stdout",
     "output_type": "stream",
     "text": [
      "Iter 3 - Epoch 0 - Client Type: Benign - Client Number 3 - Poison Training False\n"
     ]
    },
    {
     "name": "stderr",
     "output_type": "stream",
     "text": [
      "100%|████████████████████████████████████████████████████████████████████████████████████| 2/2 [00:01<00:00,  1.42it/s]\n"
     ]
    },
    {
     "name": "stdout",
     "output_type": "stream",
     "text": [
      "Iter 3 - Epoch 0 - Client Type: Benign - Client Number 4 - Poison Training False\n"
     ]
    },
    {
     "name": "stderr",
     "output_type": "stream",
     "text": [
      "100%|████████████████████████████████████████████████████████████████████████████████████| 2/2 [00:01<00:00,  1.53it/s]\n"
     ]
    },
    {
     "name": "stdout",
     "output_type": "stream",
     "text": [
      "Iter 3 - Epoch 0 - Client Type: Benign - Client Number 5 - Poison Training False\n"
     ]
    },
    {
     "name": "stderr",
     "output_type": "stream",
     "text": [
      "100%|████████████████████████████████████████████████████████████████████████████████████| 2/2 [00:01<00:00,  1.16it/s]\n"
     ]
    },
    {
     "name": "stdout",
     "output_type": "stream",
     "text": [
      "Iter 3 - Epoch 0 - Client Type: Benign - Client Number 6 - Poison Training False\n"
     ]
    },
    {
     "name": "stderr",
     "output_type": "stream",
     "text": [
      "100%|████████████████████████████████████████████████████████████████████████████████████| 2/2 [00:01<00:00,  1.18it/s]\n"
     ]
    },
    {
     "name": "stdout",
     "output_type": "stream",
     "text": [
      "Iter 3 - Epoch 0 - Client Type: Benign - Client Number 7 - Poison Training False\n"
     ]
    },
    {
     "name": "stderr",
     "output_type": "stream",
     "text": [
      "100%|████████████████████████████████████████████████████████████████████████████████████| 1/1 [00:00<00:00,  1.09it/s]\n"
     ]
    },
    {
     "name": "stdout",
     "output_type": "stream",
     "text": [
      "Iter 3 - Epoch 0 - Client Type: Benign - Client Number 8 - Poison Training False\n"
     ]
    },
    {
     "name": "stderr",
     "output_type": "stream",
     "text": [
      "100%|████████████████████████████████████████████████████████████████████████████████████| 1/1 [00:00<00:00,  1.13it/s]\n"
     ]
    },
    {
     "name": "stdout",
     "output_type": "stream",
     "text": [
      "Iter 3 - Epoch 0 - Client Type: Benign - Client Number 9 - Poison Training False\n"
     ]
    },
    {
     "name": "stderr",
     "output_type": "stream",
     "text": [
      "100%|████████████████████████████████████████████████████████████████████████████████████| 2/2 [00:01<00:00,  1.55it/s]\n"
     ]
    },
    {
     "name": "stdout",
     "output_type": "stream",
     "text": [
      "Iter 3 - Epoch 0 - Client Type: Benign - Client Number 10 - Poison Training False\n"
     ]
    },
    {
     "name": "stderr",
     "output_type": "stream",
     "text": [
      "100%|████████████████████████████████████████████████████████████████████████████████████| 1/1 [00:00<00:00,  1.12it/s]\n"
     ]
    },
    {
     "name": "stdout",
     "output_type": "stream",
     "text": [
      "Iter 3 - Epoch 0 - Client Type: Benign - Client Number 11 - Poison Training False\n"
     ]
    },
    {
     "name": "stderr",
     "output_type": "stream",
     "text": [
      "100%|████████████████████████████████████████████████████████████████████████████████████| 2/2 [00:01<00:00,  1.65it/s]\n"
     ]
    },
    {
     "name": "stdout",
     "output_type": "stream",
     "text": [
      "Iter 3 - Epoch 0 - Client Type: Benign - Client Number 12 - Poison Training False\n"
     ]
    },
    {
     "name": "stderr",
     "output_type": "stream",
     "text": [
      "100%|████████████████████████████████████████████████████████████████████████████████████| 1/1 [00:00<00:00,  1.61it/s]\n"
     ]
    },
    {
     "name": "stdout",
     "output_type": "stream",
     "text": [
      "Iter 3 - Epoch 0 - Client Type: Benign - Client Number 13 - Poison Training False\n"
     ]
    },
    {
     "name": "stderr",
     "output_type": "stream",
     "text": [
      "100%|████████████████████████████████████████████████████████████████████████████████████| 2/2 [00:01<00:00,  1.47it/s]\n"
     ]
    },
    {
     "name": "stdout",
     "output_type": "stream",
     "text": [
      "Iter 3 - Epoch 0 - Client Type: Benign - Client Number 14 - Poison Training False\n"
     ]
    },
    {
     "name": "stderr",
     "output_type": "stream",
     "text": [
      "100%|████████████████████████████████████████████████████████████████████████████████████| 2/2 [00:01<00:00,  1.13it/s]\n"
     ]
    },
    {
     "name": "stdout",
     "output_type": "stream",
     "text": [
      "Iter 3 - Epoch 0 - Client Type: Benign - Client Number 15 - Poison Training False\n"
     ]
    },
    {
     "name": "stderr",
     "output_type": "stream",
     "text": [
      "100%|████████████████████████████████████████████████████████████████████████████████████| 2/2 [00:01<00:00,  1.55it/s]\n"
     ]
    },
    {
     "name": "stdout",
     "output_type": "stream",
     "text": [
      "Iter 3 - Epoch 0 - Client Type: Benign - Client Number 16 - Poison Training False\n"
     ]
    },
    {
     "name": "stderr",
     "output_type": "stream",
     "text": [
      "100%|████████████████████████████████████████████████████████████████████████████████████| 1/1 [00:00<00:00,  1.03it/s]\n"
     ]
    },
    {
     "name": "stdout",
     "output_type": "stream",
     "text": [
      "Iter 3 - Epoch 0 - Client Type: Benign - Client Number 17 - Poison Training False\n"
     ]
    },
    {
     "name": "stderr",
     "output_type": "stream",
     "text": [
      "100%|████████████████████████████████████████████████████████████████████████████████████| 2/2 [00:01<00:00,  1.88it/s]\n"
     ]
    },
    {
     "name": "stdout",
     "output_type": "stream",
     "text": [
      "Iter 3 - Epoch 0 - Client Type: Benign - Client Number 18 - Poison Training False\n"
     ]
    },
    {
     "name": "stderr",
     "output_type": "stream",
     "text": [
      "100%|████████████████████████████████████████████████████████████████████████████████████| 2/2 [00:01<00:00,  1.78it/s]\n"
     ]
    },
    {
     "name": "stdout",
     "output_type": "stream",
     "text": [
      "Iter 3 - Epoch 0 - Client Type: Benign - Client Number 19 - Poison Training False\n"
     ]
    },
    {
     "name": "stderr",
     "output_type": "stream",
     "text": [
      "100%|████████████████████████████████████████████████████████████████████████████████████| 2/2 [00:01<00:00,  1.17it/s]\n"
     ]
    },
    {
     "name": "stdout",
     "output_type": "stream",
     "text": [
      "Original Copylist [8, 4, 8, 7, 0, 5, 3, 8, 8, 6, 8, 7, 2, 6, 1, 7, 4, 7, 0, 1]\n",
      "Found clusters [8 6 1 3 0 0 5 1 1 2 1 3 1 7 0 3 4 3 0 0]\n",
      "Original groups [array([ 4, 18], dtype=int64), array([14, 19], dtype=int64), array([12], dtype=int64), array([6], dtype=int64), array([ 1, 16], dtype=int64), array([5], dtype=int64), array([ 9, 13], dtype=int64), array([ 3, 11, 15, 17], dtype=int64), array([ 0,  2,  7,  8, 10], dtype=int64)]\n",
      "Clustered groups [array([ 4,  5, 14, 18, 19], dtype=int64), array([ 2,  7,  8, 10, 12], dtype=int64), array([9], dtype=int64), array([ 3, 11, 15, 17], dtype=int64), array([16], dtype=int64), array([6], dtype=int64), array([1], dtype=int64), array([13], dtype=int64), array([0], dtype=int64)]\n",
      "Clustering score 0.5558441558441558\n",
      "[[ 9.99998246e-01  2.40862232e-01  5.11215619e-01  1.69641252e-01\n",
      "   3.10366698e-01  3.83587811e-01  4.66624223e-01  5.13243279e-01\n",
      "   5.14018385e-01  1.01021834e-01  4.93383139e-01  1.32280829e-01\n",
      "   5.46706892e-01  1.76096153e-01  3.22237921e-01  1.30723186e-01\n",
      "   2.70222387e-01  1.53421749e-01  2.81808988e-01  3.34167306e-01]\n",
      " [ 2.40862232e-01  9.99999714e-01  3.48459646e-01  2.85312779e-01\n",
      "   6.66660578e-01  5.38287539e-01  6.92817056e-02  3.40579323e-01\n",
      "   3.15781533e-01  4.77929091e-02  3.40125377e-01  2.48470075e-01\n",
      "   2.60587624e-01  4.28996421e-01  3.97991873e-01  3.30770180e-01\n",
      "   5.45571813e-01  1.88645328e-01  5.90409346e-01  4.59729774e-01]\n",
      " [ 5.11215611e-01  3.48459643e-01  1.00000000e+00  7.56991316e-02\n",
      "   3.61045266e-01  4.05247870e-01  1.94602866e-01  9.93396121e-01\n",
      "   9.90828977e-01  6.38778577e-03  9.91028306e-01  1.09782972e-02\n",
      "   7.26872724e-01  1.87720008e-01  3.74879348e-01  5.50857653e-02\n",
      "   2.31451926e-01 -1.17318802e-02  3.29082674e-01  4.03450820e-01]\n",
      " [ 1.69641269e-01  2.85312794e-01  7.56991353e-02  9.99992947e-01\n",
      "   4.78304486e-01  5.79661641e-01  1.65913843e-01  7.98655918e-02\n",
      "   8.17558837e-02  9.55430437e-02  7.77029917e-02  6.98925349e-01\n",
      "   2.21596850e-01  4.66847172e-01  3.65435842e-01  9.06251888e-01\n",
      "   1.56794920e-01  7.47224642e-01  4.53909457e-01  3.75900432e-01]\n",
      " [ 3.10366697e-01  6.66660578e-01  3.61045271e-01  4.78304480e-01\n",
      "   9.99993671e-01  6.58909154e-01  2.23651535e-01  3.53514397e-01\n",
      "   3.32718267e-01  1.16435962e-02  3.64379872e-01  3.36078288e-01\n",
      "   3.13811214e-01  4.14654471e-01  5.37957333e-01  4.93622063e-01\n",
      "   4.18425221e-01  3.67477022e-01  8.81664821e-01  5.55710356e-01]\n",
      " [ 3.83587827e-01  5.38287520e-01  4.05247889e-01  5.79661666e-01\n",
      "   6.58909171e-01  9.99994959e-01  2.17045954e-01  3.95468242e-01\n",
      "   3.81251110e-01  1.21341933e-01  3.97394210e-01  3.78662481e-01\n",
      "   3.22132856e-01  4.90664674e-01  6.28188919e-01  5.72383584e-01\n",
      "   3.15152578e-01  3.91606152e-01  6.31657983e-01  6.03345605e-01]\n",
      " [ 4.66624174e-01  6.92817085e-02  1.94602864e-01  1.65913840e-01\n",
      "   2.23651544e-01  2.17045957e-01  9.99996764e-01  2.08940919e-01\n",
      "   2.19897956e-01  1.91072868e-01  1.87618522e-01  2.46603460e-01\n",
      "   3.65589182e-01  7.18491215e-02  2.62986086e-01  1.25789761e-01\n",
      "   3.11264408e-01  2.52085952e-01  2.92534282e-01  2.50986186e-01]\n",
      " [ 5.13243272e-01  3.40579316e-01  9.93396116e-01  7.98655956e-02\n",
      "   3.53514404e-01  3.95468234e-01  2.08940921e-01  9.99998663e-01\n",
      "   9.93367607e-01  1.66142786e-02  9.92100275e-01  2.16106384e-02\n",
      "   7.40518366e-01  1.87898060e-01  3.65021767e-01  5.87755147e-02\n",
      "   2.46604751e-01 -1.00805516e-03  3.22247437e-01  3.99505345e-01]\n",
      " [ 5.14018416e-01  3.15781539e-01  9.90828940e-01  8.17558799e-02\n",
      "   3.32718265e-01  3.81251109e-01  2.19897972e-01  9.93367614e-01\n",
      "   9.99999258e-01  2.73909692e-02  9.87979036e-01  2.24741828e-02\n",
      "   7.54872660e-01  1.78058231e-01  3.51686848e-01  5.59221108e-02\n",
      "   2.41853266e-01  2.49279653e-03  3.03420462e-01  3.84819872e-01]\n",
      " [ 1.01021831e-01  4.77929091e-02  6.38778767e-03  9.55430423e-02\n",
      "   1.16435962e-02  1.21341932e-01  1.91072869e-01  1.66142767e-02\n",
      "   2.73909673e-02  9.99999328e-01 -2.59504461e-04  1.63098348e-01\n",
      "   1.10433946e-01  5.65963442e-01  1.96782015e-01  5.10490506e-03\n",
      "   2.40457800e-01  1.81686938e-01  3.43361363e-02  1.77473822e-01]\n",
      " [ 4.93383124e-01  3.40125378e-01  9.91028287e-01  7.77029949e-02\n",
      "   3.64379876e-01  3.97394209e-01  1.87618519e-01  9.92100240e-01\n",
      "   9.87979034e-01 -2.59502513e-04  9.99997880e-01  1.21489818e-02\n",
      "   7.25711004e-01  1.86447258e-01  3.69639505e-01  5.75564273e-02\n",
      "   2.25855657e-01 -7.64088728e-03  3.29939820e-01  4.05269497e-01]\n",
      " [ 1.32280829e-01  2.48470067e-01  1.09783000e-02  6.98925346e-01\n",
      "   3.36078280e-01  3.78662494e-01  2.46603460e-01  2.16106375e-02\n",
      "   2.24741828e-02  1.63098344e-01  1.21489844e-02  9.99994799e-01\n",
      "   1.73943174e-01  4.04147047e-01  3.11373768e-01  6.77346992e-01\n",
      "   2.55286597e-01  8.77952583e-01  3.56259695e-01  2.92958006e-01]\n",
      " [ 5.46706899e-01  2.60587621e-01  7.26872735e-01  2.21596852e-01\n",
      "   3.13811202e-01  3.22132860e-01  3.65589149e-01  7.40518367e-01\n",
      "   7.54872671e-01  1.10433942e-01  7.25711008e-01  1.73943172e-01\n",
      "   9.99997178e-01  2.26245720e-01  4.12273178e-01  2.00760166e-01\n",
      "   3.32109359e-01  1.71566620e-01  2.87020006e-01  4.98051479e-01]\n",
      " [ 1.76096157e-01  4.28996421e-01  1.87720010e-01  4.66847169e-01\n",
      "   4.14654468e-01  4.90664696e-01  7.18491220e-02  1.87898053e-01\n",
      "   1.78058236e-01  5.65963423e-01  1.86447256e-01  4.04147055e-01\n",
      "   2.26245721e-01  9.99992659e-01  4.57922819e-01  4.22064675e-01\n",
      "   2.43741270e-01  4.07421312e-01  3.91182511e-01  4.63521389e-01]\n",
      " [ 3.22237913e-01  3.97991882e-01  3.74879356e-01  3.65435834e-01\n",
      "   5.37957341e-01  6.28188919e-01  2.62986077e-01  3.65021767e-01\n",
      "   3.51686859e-01  1.96782018e-01  3.69639500e-01  3.11373774e-01\n",
      "   4.12273183e-01  4.57922830e-01  9.99994141e-01  3.76367431e-01\n",
      "   2.78635611e-01  2.67758572e-01  5.51787162e-01  8.87744721e-01]\n",
      " [ 1.30723181e-01  3.30770184e-01  5.50857727e-02  9.06251898e-01\n",
      "   4.93622076e-01  5.72383619e-01  1.25789760e-01  5.87755114e-02\n",
      "   5.59221118e-02  5.10490485e-03  5.75564242e-02  6.77346988e-01\n",
      "   2.00760165e-01  4.22064676e-01  3.76367433e-01  9.99993662e-01\n",
      "   1.74557658e-01  6.96649674e-01  4.64230931e-01  3.85402690e-01]\n",
      " [ 2.70222385e-01  5.45571802e-01  2.31451924e-01  1.56794927e-01\n",
      "   4.18425219e-01  3.15152566e-01  3.11264400e-01  2.46604734e-01\n",
      "   2.41853258e-01  2.40457797e-01  2.25855653e-01  2.55286604e-01\n",
      "   3.32109349e-01  2.43741270e-01  2.78635606e-01  1.74557658e-01\n",
      "   9.99999219e-01  2.33987988e-01  4.56776505e-01  3.35406532e-01]\n",
      " [ 1.53421749e-01  1.88645328e-01 -1.17318777e-02  7.47224622e-01\n",
      "   3.67477020e-01  3.91606163e-01  2.52085958e-01 -1.00805400e-03\n",
      "   2.49280028e-03  1.81686934e-01 -7.64088751e-03  8.77952604e-01\n",
      "   1.71566620e-01  4.07421301e-01  2.67758570e-01  6.96649681e-01\n",
      "   2.33988003e-01  9.99995892e-01  3.89527741e-01  2.16401950e-01]\n",
      " [ 2.81808987e-01  5.90409364e-01  3.29082675e-01  4.53909454e-01\n",
      "   8.81664839e-01  6.31657979e-01  2.92534275e-01  3.22247452e-01\n",
      "   3.03420461e-01  3.43361321e-02  3.29939817e-01  3.56259690e-01\n",
      "   2.87020006e-01  3.91182503e-01  5.51787152e-01  4.64230935e-01\n",
      "   4.56776519e-01  3.89527745e-01  9.99991110e-01  5.39711030e-01]\n",
      " [ 3.34167331e-01  4.59729755e-01  4.03450833e-01  3.75900426e-01\n",
      "   5.55710347e-01  6.03345575e-01  2.50986186e-01  3.99505350e-01\n",
      "   3.84819874e-01  1.77473822e-01  4.05269505e-01  2.92958003e-01\n",
      "   4.98051475e-01  4.63521389e-01  8.87744712e-01  3.85402682e-01\n",
      "   3.35406525e-01  2.16401948e-01  5.39711064e-01  9.99992079e-01]]\n",
      "Original Copylist [8, 4, 8, 7, 0, 5, 3, 8, 8, 6, 8, 7, 2, 6, 1, 7, 4, 7, 0, 1]\n",
      "Found clusters [6 8 2 4 1 1 7 2 2 0 2 4 2 0 3 4 5 4 1 3]\n",
      "Original groups [array([ 4, 18], dtype=int64), array([14, 19], dtype=int64), array([12], dtype=int64), array([6], dtype=int64), array([ 1, 16], dtype=int64), array([5], dtype=int64), array([ 9, 13], dtype=int64), array([ 3, 11, 15, 17], dtype=int64), array([ 0,  2,  7,  8, 10], dtype=int64)]\n",
      "Clustered groups [array([ 9, 13], dtype=int64), array([ 4,  5, 18], dtype=int64), array([ 2,  7,  8, 10, 12], dtype=int64), array([14, 19], dtype=int64), array([ 3, 11, 15, 17], dtype=int64), array([16], dtype=int64), array([0], dtype=int64), array([6], dtype=int64), array([1], dtype=int64)]\n",
      "Clustering score 0.6992805755395683\n",
      "\n",
      "\n",
      " Entering epoch 4\n",
      "Iter 3 - Epoch 0 - Client Type: Benign - Client Number 0 - Poison Training False\n"
     ]
    },
    {
     "name": "stderr",
     "output_type": "stream",
     "text": [
      "100%|████████████████████████████████████████████████████████████████████████████████████| 1/1 [00:00<00:00,  1.25it/s]\n"
     ]
    },
    {
     "name": "stdout",
     "output_type": "stream",
     "text": [
      "Iter 3 - Epoch 0 - Client Type: Benign - Client Number 1 - Poison Training False\n"
     ]
    },
    {
     "name": "stderr",
     "output_type": "stream",
     "text": [
      "100%|████████████████████████████████████████████████████████████████████████████████████| 1/1 [00:01<00:00,  1.05s/it]\n"
     ]
    },
    {
     "name": "stdout",
     "output_type": "stream",
     "text": [
      "Iter 3 - Epoch 0 - Client Type: Benign - Client Number 2 - Poison Training False\n"
     ]
    },
    {
     "name": "stderr",
     "output_type": "stream",
     "text": [
      "100%|████████████████████████████████████████████████████████████████████████████████████| 1/1 [00:00<00:00,  1.02it/s]\n"
     ]
    },
    {
     "name": "stdout",
     "output_type": "stream",
     "text": [
      "Iter 3 - Epoch 0 - Client Type: Benign - Client Number 3 - Poison Training False\n"
     ]
    },
    {
     "name": "stderr",
     "output_type": "stream",
     "text": [
      "100%|████████████████████████████████████████████████████████████████████████████████████| 2/2 [00:01<00:00,  1.56it/s]\n"
     ]
    },
    {
     "name": "stdout",
     "output_type": "stream",
     "text": [
      "Iter 3 - Epoch 0 - Client Type: Benign - Client Number 4 - Poison Training False\n"
     ]
    },
    {
     "name": "stderr",
     "output_type": "stream",
     "text": [
      "100%|████████████████████████████████████████████████████████████████████████████████████| 2/2 [00:01<00:00,  1.47it/s]\n"
     ]
    },
    {
     "name": "stdout",
     "output_type": "stream",
     "text": [
      "Iter 3 - Epoch 0 - Client Type: Benign - Client Number 5 - Poison Training False\n"
     ]
    },
    {
     "name": "stderr",
     "output_type": "stream",
     "text": [
      "100%|████████████████████████████████████████████████████████████████████████████████████| 2/2 [00:01<00:00,  1.26it/s]\n"
     ]
    },
    {
     "name": "stdout",
     "output_type": "stream",
     "text": [
      "Iter 3 - Epoch 0 - Client Type: Benign - Client Number 6 - Poison Training False\n"
     ]
    },
    {
     "name": "stderr",
     "output_type": "stream",
     "text": [
      "100%|████████████████████████████████████████████████████████████████████████████████████| 2/2 [00:01<00:00,  1.20it/s]\n"
     ]
    },
    {
     "name": "stdout",
     "output_type": "stream",
     "text": [
      "Iter 3 - Epoch 0 - Client Type: Benign - Client Number 7 - Poison Training False\n"
     ]
    },
    {
     "name": "stderr",
     "output_type": "stream",
     "text": [
      "100%|████████████████████████████████████████████████████████████████████████████████████| 1/1 [00:00<00:00,  1.27it/s]\n"
     ]
    },
    {
     "name": "stdout",
     "output_type": "stream",
     "text": [
      "Iter 3 - Epoch 0 - Client Type: Benign - Client Number 8 - Poison Training False\n"
     ]
    },
    {
     "name": "stderr",
     "output_type": "stream",
     "text": [
      "100%|████████████████████████████████████████████████████████████████████████████████████| 1/1 [00:00<00:00,  1.15it/s]\n"
     ]
    },
    {
     "name": "stdout",
     "output_type": "stream",
     "text": [
      "Iter 3 - Epoch 0 - Client Type: Benign - Client Number 9 - Poison Training False\n"
     ]
    },
    {
     "name": "stderr",
     "output_type": "stream",
     "text": [
      "100%|████████████████████████████████████████████████████████████████████████████████████| 2/2 [00:01<00:00,  1.55it/s]\n"
     ]
    },
    {
     "name": "stdout",
     "output_type": "stream",
     "text": [
      "Iter 3 - Epoch 0 - Client Type: Benign - Client Number 10 - Poison Training False\n"
     ]
    },
    {
     "name": "stderr",
     "output_type": "stream",
     "text": [
      "100%|████████████████████████████████████████████████████████████████████████████████████| 1/1 [00:00<00:00,  1.09it/s]\n"
     ]
    },
    {
     "name": "stdout",
     "output_type": "stream",
     "text": [
      "Iter 3 - Epoch 0 - Client Type: Benign - Client Number 11 - Poison Training False\n"
     ]
    },
    {
     "name": "stderr",
     "output_type": "stream",
     "text": [
      "100%|████████████████████████████████████████████████████████████████████████████████████| 2/2 [00:01<00:00,  1.61it/s]\n"
     ]
    },
    {
     "name": "stdout",
     "output_type": "stream",
     "text": [
      "Iter 3 - Epoch 0 - Client Type: Benign - Client Number 12 - Poison Training False\n"
     ]
    },
    {
     "name": "stderr",
     "output_type": "stream",
     "text": [
      "100%|████████████████████████████████████████████████████████████████████████████████████| 1/1 [00:00<00:00,  1.55it/s]\n"
     ]
    },
    {
     "name": "stdout",
     "output_type": "stream",
     "text": [
      "Iter 3 - Epoch 0 - Client Type: Benign - Client Number 13 - Poison Training False\n"
     ]
    },
    {
     "name": "stderr",
     "output_type": "stream",
     "text": [
      "100%|████████████████████████████████████████████████████████████████████████████████████| 2/2 [00:01<00:00,  1.56it/s]\n"
     ]
    },
    {
     "name": "stdout",
     "output_type": "stream",
     "text": [
      "Iter 3 - Epoch 0 - Client Type: Benign - Client Number 14 - Poison Training False\n"
     ]
    },
    {
     "name": "stderr",
     "output_type": "stream",
     "text": [
      "100%|████████████████████████████████████████████████████████████████████████████████████| 2/2 [00:01<00:00,  1.22it/s]\n"
     ]
    },
    {
     "name": "stdout",
     "output_type": "stream",
     "text": [
      "Iter 3 - Epoch 0 - Client Type: Benign - Client Number 15 - Poison Training False\n"
     ]
    },
    {
     "name": "stderr",
     "output_type": "stream",
     "text": [
      "100%|████████████████████████████████████████████████████████████████████████████████████| 2/2 [00:01<00:00,  1.44it/s]\n"
     ]
    },
    {
     "name": "stdout",
     "output_type": "stream",
     "text": [
      "Iter 3 - Epoch 0 - Client Type: Benign - Client Number 16 - Poison Training False\n"
     ]
    },
    {
     "name": "stderr",
     "output_type": "stream",
     "text": [
      "100%|████████████████████████████████████████████████████████████████████████████████████| 1/1 [00:01<00:00,  1.07s/it]\n"
     ]
    },
    {
     "name": "stdout",
     "output_type": "stream",
     "text": [
      "Iter 3 - Epoch 0 - Client Type: Benign - Client Number 17 - Poison Training False\n"
     ]
    },
    {
     "name": "stderr",
     "output_type": "stream",
     "text": [
      "100%|████████████████████████████████████████████████████████████████████████████████████| 2/2 [00:01<00:00,  1.66it/s]\n"
     ]
    },
    {
     "name": "stdout",
     "output_type": "stream",
     "text": [
      "Iter 3 - Epoch 0 - Client Type: Benign - Client Number 18 - Poison Training False\n"
     ]
    },
    {
     "name": "stderr",
     "output_type": "stream",
     "text": [
      "100%|████████████████████████████████████████████████████████████████████████████████████| 2/2 [00:01<00:00,  1.43it/s]\n"
     ]
    },
    {
     "name": "stdout",
     "output_type": "stream",
     "text": [
      "Iter 3 - Epoch 0 - Client Type: Benign - Client Number 19 - Poison Training False\n"
     ]
    },
    {
     "name": "stderr",
     "output_type": "stream",
     "text": [
      "100%|████████████████████████████████████████████████████████████████████████████████████| 2/2 [00:01<00:00,  1.16it/s]\n"
     ]
    },
    {
     "name": "stdout",
     "output_type": "stream",
     "text": [
      "Original Copylist [8, 4, 8, 7, 0, 5, 3, 8, 8, 6, 8, 7, 2, 6, 1, 7, 4, 7, 0, 1]\n",
      "Found clusters [0 5 0 2 1 1 6 0 0 7 0 2 8 3 1 2 4 2 1 1]\n",
      "Original groups [array([ 4, 18], dtype=int64), array([14, 19], dtype=int64), array([12], dtype=int64), array([6], dtype=int64), array([ 1, 16], dtype=int64), array([5], dtype=int64), array([ 9, 13], dtype=int64), array([ 3, 11, 15, 17], dtype=int64), array([ 0,  2,  7,  8, 10], dtype=int64)]\n",
      "Clustered groups [array([ 0,  2,  7,  8, 10], dtype=int64), array([ 4,  5, 14, 18, 19], dtype=int64), array([ 3, 11, 15, 17], dtype=int64), array([13], dtype=int64), array([16], dtype=int64), array([1], dtype=int64), array([6], dtype=int64), array([9], dtype=int64), array([12], dtype=int64)]\n",
      "Clustering score 0.7532467532467533\n",
      "[[0.99999705 0.31236302 0.58862697 0.21758357 0.44002245 0.46119387\n",
      "  0.45816842 0.58952277 0.57639524 0.08051468 0.56420048 0.16587294\n",
      "  0.56354799 0.23747739 0.40212957 0.15948481 0.23709486 0.19900229\n",
      "  0.40141499 0.40069273]\n",
      " [0.31236302 0.99999593 0.19420303 0.38836338 0.70555554 0.55622253\n",
      "  0.08137577 0.19087428 0.16567646 0.08349381 0.17300745 0.3160107\n",
      "  0.24682928 0.47742065 0.41336007 0.28085245 0.46097186 0.27164157\n",
      "  0.65666008 0.4738116 ]\n",
      " [0.58862699 0.19420303 0.99999607 0.15200201 0.31244051 0.36889389\n",
      "  0.32404384 0.99114849 0.98218304 0.09380591 0.98932128 0.09615284\n",
      "  0.67681733 0.16175074 0.27228617 0.22080114 0.2312767  0.14191412\n",
      "  0.29432098 0.28332291]\n",
      " [0.21758359 0.38836339 0.152002   0.99999589 0.53265189 0.64694838\n",
      "  0.1974842  0.15372583 0.14730607 0.15249396 0.15206182 0.7684678\n",
      "  0.28516109 0.55283035 0.44136527 0.80731226 0.28414465 0.78922527\n",
      "  0.55780177 0.46635784]\n",
      " [0.44002245 0.70555551 0.31244051 0.53265186 0.99999202 0.69389673\n",
      "  0.2400528  0.31418287 0.2948448  0.09300595 0.30334172 0.39446306\n",
      "  0.38847429 0.5045768  0.61232218 0.41283856 0.37816248 0.39868417\n",
      "  0.89879837 0.62770026]\n",
      " [0.4611939  0.55622255 0.3688939  0.64694839 0.69389677 0.99999493\n",
      "  0.26655155 0.37043063 0.35936078 0.1718898  0.35586534 0.47064709\n",
      "  0.39554724 0.5571697  0.67373625 0.51938089 0.34703289 0.4824762\n",
      "  0.68268762 0.66213918]\n",
      " [0.4581684  0.08137577 0.32404383 0.19748421 0.2400528  0.26655156\n",
      "  1.         0.34216429 0.35123632 0.07951811 0.32252549 0.21195374\n",
      "  0.4587472  0.05429317 0.2334426  0.23482199 0.3348286  0.25541287\n",
      "  0.29993157 0.2507327 ]\n",
      " [0.58952277 0.19087427 0.99114849 0.15372583 0.31418288 0.37043064\n",
      "  0.34216429 0.99999433 0.99037136 0.09727745 0.98933322 0.09797909\n",
      "  0.70124231 0.16510685 0.275373   0.22560955 0.24255634 0.14711676\n",
      "  0.29605841 0.29005057]\n",
      " [0.57639525 0.16567646 0.98218302 0.14730607 0.29484482 0.35936078\n",
      "  0.35123633 0.99037142 0.99999618 0.10157118 0.97912701 0.09367624\n",
      "  0.72357171 0.15583354 0.26606226 0.22104173 0.23519449 0.14551227\n",
      "  0.27697688 0.27907208]\n",
      " [0.08051468 0.08349381 0.09380591 0.15249395 0.09300595 0.17188981\n",
      "  0.07951811 0.09727746 0.10157118 0.9999989  0.09100762 0.17435693\n",
      "  0.10766028 0.52014456 0.21103971 0.1056219  0.24367891 0.20549557\n",
      "  0.0995887  0.18827266]\n",
      " [0.56420044 0.17300745 0.98932127 0.15206182 0.30334173 0.35586534\n",
      "  0.32252549 0.9893332  0.97912698 0.09100762 0.99999972 0.09365489\n",
      "  0.66776995 0.15601703 0.25614266 0.23322513 0.22699125 0.14635155\n",
      "  0.28575994 0.27651488]\n",
      " [0.16587293 0.31601069 0.09615284 0.7684678  0.39446305 0.4706471\n",
      "  0.21195374 0.09797909 0.09367624 0.17435693 0.09365488 0.99999347\n",
      "  0.23584106 0.47408915 0.36890325 0.66257653 0.2914205  0.88341266\n",
      "  0.44248723 0.37736752]\n",
      " [0.563548   0.24682927 0.6768173  0.2851611  0.38847428 0.39554723\n",
      "  0.45874722 0.70124234 0.72357174 0.10766028 0.66776999 0.23584106\n",
      "  0.99999419 0.25707121 0.45863364 0.26888128 0.3087956  0.25851008\n",
      "  0.36786033 0.51155439]\n",
      " [0.23747739 0.47742065 0.16175074 0.55283038 0.50457679 0.55716971\n",
      "  0.05429317 0.16510684 0.15583354 0.52014456 0.15601703 0.47408915\n",
      "  0.25707121 0.99999157 0.52157317 0.40450993 0.23103338 0.46202969\n",
      "  0.50470536 0.51675221]\n",
      " [0.40212958 0.41336009 0.27228617 0.44136527 0.61232218 0.67373625\n",
      "  0.2334426  0.275373   0.26606227 0.21103972 0.25614266 0.36890326\n",
      "  0.45863365 0.52157317 0.99999446 0.25185155 0.26245694 0.29522377\n",
      "  0.60508753 0.90704264]\n",
      " [0.15948482 0.28085245 0.22080114 0.80731226 0.41283856 0.51938091\n",
      "  0.23482199 0.22560954 0.22104172 0.10562191 0.23322513 0.66257653\n",
      "  0.26888128 0.40450991 0.25185155 0.99999231 0.36655614 0.74517433\n",
      "  0.4414215  0.26718227]\n",
      " [0.23709486 0.46097185 0.2312767  0.28414465 0.37816246 0.34703289\n",
      "  0.33482862 0.24255633 0.23519448 0.24367891 0.22699125 0.2914205\n",
      "  0.3087956  0.23103338 0.26245694 0.36655614 0.99999521 0.33871922\n",
      "  0.43888593 0.31566776]\n",
      " [0.19900229 0.27164157 0.14191412 0.78922526 0.39868415 0.48247621\n",
      "  0.25541288 0.14711676 0.14551228 0.20549557 0.14635153 0.88341264\n",
      "  0.25851008 0.46202966 0.29522377 0.74517433 0.33871921 0.99999468\n",
      "  0.45591247 0.28825351]\n",
      " [0.40141499 0.65666008 0.29432098 0.55780177 0.89879838 0.68268762\n",
      "  0.29993158 0.29605843 0.27697689 0.09958869 0.28575995 0.44248723\n",
      "  0.36786033 0.50470538 0.60508753 0.44142151 0.43888594 0.4559125\n",
      "  0.99999044 0.6133376 ]\n",
      " [0.40069274 0.47381159 0.28332292 0.46635783 0.62770026 0.66213916\n",
      "  0.2507327  0.29005056 0.27907208 0.18827266 0.27651489 0.37736752\n",
      "  0.51155438 0.51675221 0.90704267 0.26718226 0.31566776 0.28825351\n",
      "  0.61333762 0.99999211]]\n",
      "Original Copylist [8, 4, 8, 7, 0, 5, 3, 8, 8, 6, 8, 7, 2, 6, 1, 7, 4, 7, 0, 1]\n",
      "Found clusters [8 6 4 1 0 0 5 4 4 7 4 1 4 3 0 1 2 1 0 0]\n",
      "Original groups [array([ 4, 18], dtype=int64), array([14, 19], dtype=int64), array([12], dtype=int64), array([6], dtype=int64), array([ 1, 16], dtype=int64), array([5], dtype=int64), array([ 9, 13], dtype=int64), array([ 3, 11, 15, 17], dtype=int64), array([ 0,  2,  7,  8, 10], dtype=int64)]\n",
      "Clustered groups [array([ 4,  5, 14, 18, 19], dtype=int64), array([ 3, 11, 15, 17], dtype=int64), array([16], dtype=int64), array([13], dtype=int64), array([ 2,  7,  8, 10, 12], dtype=int64), array([6], dtype=int64), array([1], dtype=int64), array([9], dtype=int64), array([0], dtype=int64)]\n",
      "Clustering score 0.5558441558441558\n",
      "Benign net distance [tensor(49.2672), tensor(45.0643), tensor(64.2163), tensor(42.2201), tensor(31.1058), tensor(31.8303), tensor(85.5821), tensor(62.9505), tensor(63.9870), tensor(98.5551), tensor(64.8235), tensor(53.7855), tensor(47.9323), tensor(46.6180), tensor(16.8994), tensor(68.5255), tensor(58.7617), tensor(60.1412), tensor(32.6667), tensor(0.)]\n",
      "Malicious net distance []\n",
      "cos_sim list  [tensor(0.4672), tensor(0.4879), tensor(0.1632), tensor(0.5568), tensor(0.6997), tensor(0.7209), tensor(0.2505), tensor(0.1806), tensor(0.1733), tensor(0.1991), tensor(0.1478), tensor(0.4618), tensor(0.5251), tensor(0.5700), tensor(0.9264), tensor(0.1490), tensor(0.2959), tensor(0.3601), tensor(0.6870), tensor(1.0000)]\n",
      "Norms of local gradients  [tensor(0.4486), tensor(0.4519), tensor(0.5293), tensor(0.5427), tensor(0.5533), tensor(0.4790), tensor(1.0746), tensor(0.5130), tensor(0.5181), tensor(1.2092), tensor(0.5394), tensor(0.6918), tensor(0.3712), tensor(0.6099), tensor(0.5264), tensor(0.7252), tensor(0.5464), tensor(0.6876), tensor(0.5436), tensor(0.5352)]\n",
      "\n",
      " Aggregating models\n",
      "Cosine Similarities:  [tensor(0.4672), tensor(0.4879), tensor(0.1632), tensor(0.5568), tensor(0.6997), tensor(0.7209), tensor(0.2505), tensor(0.1806), tensor(0.1733), tensor(0.1991), tensor(0.1478), tensor(0.4618), tensor(0.5251), tensor(0.5700), tensor(0.9264), tensor(0.1490), tensor(0.2959), tensor(0.3601), tensor(0.6870), tensor(1.0000)]\n",
      "Aggregation Weights:  [0.06178182 0.06404518 0.01829254 0.06087395 0.07502221 0.08929838\n",
      " 0.01382847 0.02088338 0.01984618 0.00976659 0.01625182 0.03960067\n",
      " 0.08390588 0.05544177 0.10439326 0.01218639 0.03213002 0.03107174\n",
      " 0.07497408 0.11083823]\n",
      "\n",
      "\n",
      "\n",
      "Aggregate test at iter  3\n"
     ]
    },
    {
     "name": "stderr",
     "output_type": "stream",
     "text": [
      "100%|██████████████████████████████████████████████████████████████████████████████████| 10/10 [00:02<00:00,  3.73it/s]\n"
     ]
    },
    {
     "name": "stdout",
     "output_type": "stream",
     "text": [
      "\n",
      "Test set: Avg. loss: 0.0009, Accuracy: 6970/10000 (70%)\n",
      "\n",
      "\n",
      "\n",
      " Entering epoch 0\n",
      "Iter 4 - Epoch 0 - Client Type: Benign - Client Number 0 - Poison Training False\n"
     ]
    },
    {
     "name": "stderr",
     "output_type": "stream",
     "text": [
      "100%|████████████████████████████████████████████████████████████████████████████████████| 1/1 [00:00<00:00,  1.13it/s]\n"
     ]
    },
    {
     "name": "stdout",
     "output_type": "stream",
     "text": [
      "Iter 4 - Epoch 0 - Client Type: Benign - Client Number 1 - Poison Training False\n"
     ]
    },
    {
     "name": "stderr",
     "output_type": "stream",
     "text": [
      "100%|████████████████████████████████████████████████████████████████████████████████████| 1/1 [00:01<00:00,  1.11s/it]\n"
     ]
    },
    {
     "name": "stdout",
     "output_type": "stream",
     "text": [
      "Iter 4 - Epoch 0 - Client Type: Benign - Client Number 2 - Poison Training False\n"
     ]
    },
    {
     "name": "stderr",
     "output_type": "stream",
     "text": [
      "100%|████████████████████████████████████████████████████████████████████████████████████| 1/1 [00:00<00:00,  1.03it/s]\n"
     ]
    },
    {
     "name": "stdout",
     "output_type": "stream",
     "text": [
      "Iter 4 - Epoch 0 - Client Type: Benign - Client Number 3 - Poison Training False\n"
     ]
    },
    {
     "name": "stderr",
     "output_type": "stream",
     "text": [
      "100%|████████████████████████████████████████████████████████████████████████████████████| 2/2 [00:01<00:00,  1.54it/s]\n"
     ]
    },
    {
     "name": "stdout",
     "output_type": "stream",
     "text": [
      "Iter 4 - Epoch 0 - Client Type: Benign - Client Number 4 - Poison Training False\n"
     ]
    },
    {
     "name": "stderr",
     "output_type": "stream",
     "text": [
      "100%|████████████████████████████████████████████████████████████████████████████████████| 2/2 [00:01<00:00,  1.55it/s]\n"
     ]
    },
    {
     "name": "stdout",
     "output_type": "stream",
     "text": [
      "Iter 4 - Epoch 0 - Client Type: Benign - Client Number 5 - Poison Training False\n"
     ]
    },
    {
     "name": "stderr",
     "output_type": "stream",
     "text": [
      "100%|████████████████████████████████████████████████████████████████████████████████████| 2/2 [00:01<00:00,  1.12it/s]\n"
     ]
    },
    {
     "name": "stdout",
     "output_type": "stream",
     "text": [
      "Iter 4 - Epoch 0 - Client Type: Benign - Client Number 6 - Poison Training False\n"
     ]
    },
    {
     "name": "stderr",
     "output_type": "stream",
     "text": [
      "100%|████████████████████████████████████████████████████████████████████████████████████| 2/2 [00:01<00:00,  1.22it/s]\n"
     ]
    },
    {
     "name": "stdout",
     "output_type": "stream",
     "text": [
      "Iter 4 - Epoch 0 - Client Type: Benign - Client Number 7 - Poison Training False\n"
     ]
    },
    {
     "name": "stderr",
     "output_type": "stream",
     "text": [
      "100%|████████████████████████████████████████████████████████████████████████████████████| 1/1 [00:00<00:00,  1.04it/s]\n"
     ]
    },
    {
     "name": "stdout",
     "output_type": "stream",
     "text": [
      "Iter 4 - Epoch 0 - Client Type: Benign - Client Number 8 - Poison Training False\n"
     ]
    },
    {
     "name": "stderr",
     "output_type": "stream",
     "text": [
      "100%|████████████████████████████████████████████████████████████████████████████████████| 1/1 [00:00<00:00,  1.18it/s]\n"
     ]
    },
    {
     "name": "stdout",
     "output_type": "stream",
     "text": [
      "Iter 4 - Epoch 0 - Client Type: Benign - Client Number 9 - Poison Training False\n"
     ]
    },
    {
     "name": "stderr",
     "output_type": "stream",
     "text": [
      "100%|████████████████████████████████████████████████████████████████████████████████████| 2/2 [00:01<00:00,  1.60it/s]\n"
     ]
    },
    {
     "name": "stdout",
     "output_type": "stream",
     "text": [
      "Iter 4 - Epoch 0 - Client Type: Benign - Client Number 10 - Poison Training False\n"
     ]
    },
    {
     "name": "stderr",
     "output_type": "stream",
     "text": [
      "100%|████████████████████████████████████████████████████████████████████████████████████| 1/1 [00:00<00:00,  1.30it/s]\n"
     ]
    },
    {
     "name": "stdout",
     "output_type": "stream",
     "text": [
      "Iter 4 - Epoch 0 - Client Type: Benign - Client Number 11 - Poison Training False\n"
     ]
    },
    {
     "name": "stderr",
     "output_type": "stream",
     "text": [
      "100%|████████████████████████████████████████████████████████████████████████████████████| 2/2 [00:01<00:00,  1.90it/s]\n"
     ]
    },
    {
     "name": "stdout",
     "output_type": "stream",
     "text": [
      "Iter 4 - Epoch 0 - Client Type: Benign - Client Number 12 - Poison Training False\n"
     ]
    },
    {
     "name": "stderr",
     "output_type": "stream",
     "text": [
      "100%|████████████████████████████████████████████████████████████████████████████████████| 1/1 [00:00<00:00,  1.85it/s]\n"
     ]
    },
    {
     "name": "stdout",
     "output_type": "stream",
     "text": [
      "Iter 4 - Epoch 0 - Client Type: Benign - Client Number 13 - Poison Training False\n"
     ]
    },
    {
     "name": "stderr",
     "output_type": "stream",
     "text": [
      "100%|████████████████████████████████████████████████████████████████████████████████████| 2/2 [00:01<00:00,  1.67it/s]\n"
     ]
    },
    {
     "name": "stdout",
     "output_type": "stream",
     "text": [
      "Iter 4 - Epoch 0 - Client Type: Benign - Client Number 14 - Poison Training False\n"
     ]
    },
    {
     "name": "stderr",
     "output_type": "stream",
     "text": [
      "100%|████████████████████████████████████████████████████████████████████████████████████| 2/2 [00:01<00:00,  1.43it/s]\n"
     ]
    },
    {
     "name": "stdout",
     "output_type": "stream",
     "text": [
      "Iter 4 - Epoch 0 - Client Type: Benign - Client Number 15 - Poison Training False\n"
     ]
    },
    {
     "name": "stderr",
     "output_type": "stream",
     "text": [
      "100%|████████████████████████████████████████████████████████████████████████████████████| 2/2 [00:01<00:00,  1.76it/s]\n"
     ]
    },
    {
     "name": "stdout",
     "output_type": "stream",
     "text": [
      "Iter 4 - Epoch 0 - Client Type: Benign - Client Number 16 - Poison Training False\n"
     ]
    },
    {
     "name": "stderr",
     "output_type": "stream",
     "text": [
      "100%|████████████████████████████████████████████████████████████████████████████████████| 1/1 [00:00<00:00,  1.07it/s]\n"
     ]
    },
    {
     "name": "stdout",
     "output_type": "stream",
     "text": [
      "Iter 4 - Epoch 0 - Client Type: Benign - Client Number 17 - Poison Training False\n"
     ]
    },
    {
     "name": "stderr",
     "output_type": "stream",
     "text": [
      "100%|████████████████████████████████████████████████████████████████████████████████████| 2/2 [00:01<00:00,  1.83it/s]\n"
     ]
    },
    {
     "name": "stdout",
     "output_type": "stream",
     "text": [
      "Iter 4 - Epoch 0 - Client Type: Benign - Client Number 18 - Poison Training False\n"
     ]
    },
    {
     "name": "stderr",
     "output_type": "stream",
     "text": [
      "100%|████████████████████████████████████████████████████████████████████████████████████| 2/2 [00:01<00:00,  1.53it/s]\n"
     ]
    },
    {
     "name": "stdout",
     "output_type": "stream",
     "text": [
      "Iter 4 - Epoch 0 - Client Type: Benign - Client Number 19 - Poison Training False\n"
     ]
    },
    {
     "name": "stderr",
     "output_type": "stream",
     "text": [
      "100%|████████████████████████████████████████████████████████████████████████████████████| 2/2 [00:01<00:00,  1.30it/s]\n"
     ]
    },
    {
     "name": "stdout",
     "output_type": "stream",
     "text": [
      "Original Copylist [8, 4, 8, 7, 0, 5, 3, 8, 8, 6, 8, 7, 2, 6, 1, 7, 4, 7, 0, 1]\n",
      "Found clusters [5 4 5 0 2 7 6 5 5 1 5 0 8 1 3 0 4 0 2 3]\n",
      "Original groups [array([ 4, 18], dtype=int64), array([14, 19], dtype=int64), array([12], dtype=int64), array([6], dtype=int64), array([ 1, 16], dtype=int64), array([5], dtype=int64), array([ 9, 13], dtype=int64), array([ 3, 11, 15, 17], dtype=int64), array([ 0,  2,  7,  8, 10], dtype=int64)]\n",
      "Clustered groups [array([ 3, 11, 15, 17], dtype=int64), array([ 9, 13], dtype=int64), array([ 4, 18], dtype=int64), array([14, 19], dtype=int64), array([ 1, 16], dtype=int64), array([ 0,  2,  7,  8, 10], dtype=int64), array([6], dtype=int64), array([5], dtype=int64), array([12], dtype=int64)]\n",
      "Clustering score 1.0\n",
      "[[ 0.99999723  0.27087832  0.76836466 -0.12055438  0.28995192  0.42812293\n",
      "   0.36736984  0.77056092  0.76581702 -0.08282102  0.74785457 -0.18988795\n",
      "   0.61978228  0.04038816  0.37003571 -0.20063752  0.25450704 -0.19961593\n",
      "   0.35189787  0.38816435]\n",
      " [ 0.27087832  0.99999328  0.2031509   0.05031887  0.46639229  0.33890656\n",
      "   0.12303962  0.21573599  0.19954045  0.12382573  0.19529909  0.07346674\n",
      "   0.12781537  0.29351842  0.09334898 -0.01185384  0.72828667 -0.00746494\n",
      "   0.58278665  0.12437388]\n",
      " [ 0.7683647   0.2031509   0.9999949  -0.1272877   0.1458529   0.33025373\n",
      "   0.38632544  0.99391948  0.98940196 -0.11205909  0.99152371 -0.19140297\n",
      "   0.63818302 -0.03036788  0.24247863 -0.12723266  0.24579317 -0.20198545\n",
      "   0.22816485  0.26335376]\n",
      " [-0.12055437  0.05031886 -0.1272877   0.99999158  0.30850326  0.31670189\n",
      "   0.12405826 -0.13661274 -0.13798774  0.11512451 -0.12953664  0.81579426\n",
      "  -0.01008031  0.24072774  0.28031078  0.84871837 -0.00241113  0.84428897\n",
      "   0.26728618  0.22427919]\n",
      " [ 0.28995192  0.46639227  0.14585291  0.30850324  0.99998971  0.56216692\n",
      "   0.08611622  0.15113216  0.14701749  0.08530074  0.12704916  0.22339608\n",
      "   0.32885099  0.24810783  0.51769076  0.17213679  0.29017064  0.24067465\n",
      "   0.89945675  0.53739759]\n",
      " [ 0.42812295  0.33890657  0.33025373  0.3167019   0.56216696  0.99999033\n",
      "   0.17175697  0.33099755  0.33312147  0.15293822  0.31761957  0.22031561\n",
      "   0.2902293   0.37886583  0.5039529   0.18719487  0.2429632   0.2343378\n",
      "   0.54516467  0.47855608]\n",
      " [ 0.36736982  0.12303963  0.38632544  0.12405826  0.08611622  0.17175698\n",
      "   0.99999585  0.38799299  0.39241767  0.02673147  0.39083018  0.10647104\n",
      "   0.30087078  0.03447486  0.18367034  0.13407078  0.26069     0.14242226\n",
      "   0.14978348  0.16352611]\n",
      " [ 0.77056092  0.21573599  0.99391948 -0.13661275  0.15113216  0.33099755\n",
      "   0.38799299  0.9999951   0.99365749 -0.10114786  0.99214539 -0.1958217\n",
      "   0.65863961 -0.01992111  0.23862578 -0.1334487   0.26537079 -0.20570448\n",
      "   0.23603057  0.26308208]\n",
      " [ 0.76581706  0.19954045  0.98940192 -0.13798775  0.1470175   0.33312146\n",
      "   0.39241768  0.99365749  0.99999513 -0.10117341  0.98568267 -0.20125162\n",
      "   0.66855639 -0.02460244  0.24381395 -0.13962697  0.25790742 -0.20778287\n",
      "   0.22917579  0.26808051]\n",
      " [-0.08282102  0.12382573 -0.11205908  0.1151245   0.08530074  0.15293822\n",
      "   0.02673147 -0.10114786 -0.1011734   0.9999922  -0.10741079  0.12101741\n",
      "   0.12383141  0.71755075  0.26843913  0.11404128  0.19315426  0.22649269\n",
      "   0.04838863  0.22311739]\n",
      " [ 0.74785455  0.19529909  0.99152371 -0.12953663  0.12704917  0.31761957\n",
      "   0.3908302   0.99214541  0.98568266 -0.10741079  1.         -0.18789002\n",
      "   0.63431079 -0.02619601  0.21124442 -0.11769968  0.24708549 -0.19661712\n",
      "   0.20913577  0.23967109]\n",
      " [-0.18988795  0.07346673 -0.19140297  0.81579425  0.22339608  0.22031561\n",
      "   0.10647103 -0.1958217  -0.20125161  0.12101741 -0.18789     0.99999288\n",
      "  -0.10343479  0.22404912  0.09887332  0.76184     0.05852056  0.8994532\n",
      "   0.19384387  0.02364752]\n",
      " [ 0.61978228  0.12781536  0.63818301 -0.01008033  0.32885099  0.29022929\n",
      "   0.30087079  0.65863962  0.66855641  0.12383142  0.63431081 -0.10343481\n",
      "   0.99999276  0.21643136  0.53279716 -0.03942417  0.16674845 -0.03842204\n",
      "   0.29968613  0.58324949]\n",
      " [ 0.04038816  0.29351842 -0.03036787  0.24072775  0.24810783  0.37886584\n",
      "   0.03447486 -0.01992112 -0.02460244  0.71755078 -0.02619601  0.22404912\n",
      "   0.21643137  0.99999068  0.41471667  0.20029796  0.160398    0.30316352\n",
      "   0.19082654  0.37971243]\n",
      " [ 0.37003571  0.09334899  0.24247863  0.28031078  0.51769076  0.5039529\n",
      "   0.18367034  0.23862579  0.24381394  0.26843913  0.21124443  0.09887333\n",
      "   0.53279716  0.41471669  0.99999182  0.11774619  0.01504955  0.18183707\n",
      "   0.45335167  0.92800933]\n",
      " [-0.20063749 -0.01185384 -0.12723265  0.8487184   0.1721368   0.18719488\n",
      "   0.13407078 -0.13344869 -0.13962698  0.11404128 -0.11769968  0.76184\n",
      "  -0.03942419  0.20029796  0.11774619  0.99998884  0.02890784  0.82262263\n",
      "   0.13358399  0.05732607]\n",
      " [ 0.25450704  0.72828664  0.24579317 -0.00241113  0.29017063  0.2429632\n",
      "   0.26069001  0.26537078  0.25790742  0.19315426  0.2470855   0.05852056\n",
      "   0.16674845  0.160398    0.01504954  0.02890784  0.99999256  0.01967474\n",
      "   0.46539926  0.03977904]\n",
      " [-0.19961593 -0.00746494 -0.20198545  0.84428896  0.24067464  0.2343378\n",
      "   0.14242226 -0.20570448 -0.20778287  0.22649269 -0.1966171   0.89945319\n",
      "  -0.03842206  0.3031635   0.18183707  0.82262263  0.01967472  0.99999086\n",
      "   0.18649638  0.10103671]\n",
      " [ 0.35189787  0.58278666  0.22816484  0.26728618  0.89945679  0.54516467\n",
      "   0.14978349  0.23603058  0.22917579  0.04838863  0.20913577  0.19384387\n",
      "   0.29968613  0.19082656  0.45335167  0.133584    0.46539925  0.1864964\n",
      "   0.99998958  0.47475156]\n",
      " [ 0.38816436  0.12437387  0.26335376  0.22427919  0.5373976   0.47855607\n",
      "   0.16352611  0.26308208  0.26808051  0.22311739  0.2396711   0.02364752\n",
      "   0.58324949  0.37971243  0.92800937  0.05732607  0.03977903  0.10103671\n",
      "   0.47475157  0.99999071]]\n",
      "Original Copylist [8, 4, 8, 7, 0, 5, 3, 8, 8, 6, 8, 7, 2, 6, 1, 7, 4, 7, 0, 1]\n",
      "Found clusters [4 1 4 2 3 7 5 4 4 0 4 2 8 0 6 2 1 2 3 6]\n",
      "Original groups [array([ 4, 18], dtype=int64), array([14, 19], dtype=int64), array([12], dtype=int64), array([6], dtype=int64), array([ 1, 16], dtype=int64), array([5], dtype=int64), array([ 9, 13], dtype=int64), array([ 3, 11, 15, 17], dtype=int64), array([ 0,  2,  7,  8, 10], dtype=int64)]\n",
      "Clustered groups [array([ 9, 13], dtype=int64), array([ 1, 16], dtype=int64), array([ 3, 11, 15, 17], dtype=int64), array([ 4, 18], dtype=int64), array([ 0,  2,  7,  8, 10], dtype=int64), array([6], dtype=int64), array([14, 19], dtype=int64), array([5], dtype=int64), array([12], dtype=int64)]\n",
      "Clustering score 1.0\n",
      "\n",
      "\n",
      " Entering epoch 1\n",
      "Iter 4 - Epoch 0 - Client Type: Benign - Client Number 0 - Poison Training False\n"
     ]
    },
    {
     "name": "stderr",
     "output_type": "stream",
     "text": [
      "100%|████████████████████████████████████████████████████████████████████████████████████| 1/1 [00:00<00:00,  1.05it/s]\n"
     ]
    },
    {
     "name": "stdout",
     "output_type": "stream",
     "text": [
      "Iter 4 - Epoch 0 - Client Type: Benign - Client Number 1 - Poison Training False\n"
     ]
    },
    {
     "name": "stderr",
     "output_type": "stream",
     "text": [
      "100%|████████████████████████████████████████████████████████████████████████████████████| 1/1 [00:01<00:00,  1.02s/it]\n"
     ]
    },
    {
     "name": "stdout",
     "output_type": "stream",
     "text": [
      "Iter 4 - Epoch 0 - Client Type: Benign - Client Number 2 - Poison Training False\n"
     ]
    },
    {
     "name": "stderr",
     "output_type": "stream",
     "text": [
      "100%|████████████████████████████████████████████████████████████████████████████████████| 1/1 [00:01<00:00,  1.00s/it]\n"
     ]
    },
    {
     "name": "stdout",
     "output_type": "stream",
     "text": [
      "Iter 4 - Epoch 0 - Client Type: Benign - Client Number 3 - Poison Training False\n"
     ]
    },
    {
     "name": "stderr",
     "output_type": "stream",
     "text": [
      "100%|████████████████████████████████████████████████████████████████████████████████████| 2/2 [00:01<00:00,  1.60it/s]\n"
     ]
    },
    {
     "name": "stdout",
     "output_type": "stream",
     "text": [
      "Iter 4 - Epoch 0 - Client Type: Benign - Client Number 4 - Poison Training False\n"
     ]
    },
    {
     "name": "stderr",
     "output_type": "stream",
     "text": [
      "100%|████████████████████████████████████████████████████████████████████████████████████| 2/2 [00:01<00:00,  1.61it/s]\n"
     ]
    },
    {
     "name": "stdout",
     "output_type": "stream",
     "text": [
      "Iter 4 - Epoch 0 - Client Type: Benign - Client Number 5 - Poison Training False\n"
     ]
    },
    {
     "name": "stderr",
     "output_type": "stream",
     "text": [
      "100%|████████████████████████████████████████████████████████████████████████████████████| 2/2 [00:01<00:00,  1.24it/s]\n"
     ]
    },
    {
     "name": "stdout",
     "output_type": "stream",
     "text": [
      "Iter 4 - Epoch 0 - Client Type: Benign - Client Number 6 - Poison Training False\n"
     ]
    },
    {
     "name": "stderr",
     "output_type": "stream",
     "text": [
      "100%|████████████████████████████████████████████████████████████████████████████████████| 2/2 [00:01<00:00,  1.14it/s]\n"
     ]
    },
    {
     "name": "stdout",
     "output_type": "stream",
     "text": [
      "Iter 4 - Epoch 0 - Client Type: Benign - Client Number 7 - Poison Training False\n"
     ]
    },
    {
     "name": "stderr",
     "output_type": "stream",
     "text": [
      "100%|████████████████████████████████████████████████████████████████████████████████████| 1/1 [00:00<00:00,  1.15it/s]\n"
     ]
    },
    {
     "name": "stdout",
     "output_type": "stream",
     "text": [
      "Iter 4 - Epoch 0 - Client Type: Benign - Client Number 8 - Poison Training False\n"
     ]
    },
    {
     "name": "stderr",
     "output_type": "stream",
     "text": [
      "100%|████████████████████████████████████████████████████████████████████████████████████| 1/1 [00:00<00:00,  1.19it/s]\n"
     ]
    },
    {
     "name": "stdout",
     "output_type": "stream",
     "text": [
      "Iter 4 - Epoch 0 - Client Type: Benign - Client Number 9 - Poison Training False\n"
     ]
    },
    {
     "name": "stderr",
     "output_type": "stream",
     "text": [
      "100%|████████████████████████████████████████████████████████████████████████████████████| 2/2 [00:01<00:00,  1.47it/s]\n"
     ]
    },
    {
     "name": "stdout",
     "output_type": "stream",
     "text": [
      "Iter 4 - Epoch 0 - Client Type: Benign - Client Number 10 - Poison Training False\n"
     ]
    },
    {
     "name": "stderr",
     "output_type": "stream",
     "text": [
      "100%|████████████████████████████████████████████████████████████████████████████████████| 1/1 [00:00<00:00,  1.08it/s]\n"
     ]
    },
    {
     "name": "stdout",
     "output_type": "stream",
     "text": [
      "Iter 4 - Epoch 0 - Client Type: Benign - Client Number 11 - Poison Training False\n"
     ]
    },
    {
     "name": "stderr",
     "output_type": "stream",
     "text": [
      "100%|████████████████████████████████████████████████████████████████████████████████████| 2/2 [00:01<00:00,  1.39it/s]\n"
     ]
    },
    {
     "name": "stdout",
     "output_type": "stream",
     "text": [
      "Iter 4 - Epoch 0 - Client Type: Benign - Client Number 12 - Poison Training False\n"
     ]
    },
    {
     "name": "stderr",
     "output_type": "stream",
     "text": [
      "100%|████████████████████████████████████████████████████████████████████████████████████| 1/1 [00:00<00:00,  1.37it/s]\n"
     ]
    },
    {
     "name": "stdout",
     "output_type": "stream",
     "text": [
      "Iter 4 - Epoch 0 - Client Type: Benign - Client Number 13 - Poison Training False\n"
     ]
    },
    {
     "name": "stderr",
     "output_type": "stream",
     "text": [
      "100%|████████████████████████████████████████████████████████████████████████████████████| 2/2 [00:01<00:00,  1.31it/s]\n"
     ]
    },
    {
     "name": "stdout",
     "output_type": "stream",
     "text": [
      "Iter 4 - Epoch 0 - Client Type: Benign - Client Number 14 - Poison Training False\n"
     ]
    },
    {
     "name": "stderr",
     "output_type": "stream",
     "text": [
      "100%|████████████████████████████████████████████████████████████████████████████████████| 2/2 [00:01<00:00,  1.32it/s]\n"
     ]
    },
    {
     "name": "stdout",
     "output_type": "stream",
     "text": [
      "Iter 4 - Epoch 0 - Client Type: Benign - Client Number 15 - Poison Training False\n"
     ]
    },
    {
     "name": "stderr",
     "output_type": "stream",
     "text": [
      "100%|████████████████████████████████████████████████████████████████████████████████████| 2/2 [00:01<00:00,  1.71it/s]\n"
     ]
    },
    {
     "name": "stdout",
     "output_type": "stream",
     "text": [
      "Iter 4 - Epoch 0 - Client Type: Benign - Client Number 16 - Poison Training False\n"
     ]
    },
    {
     "name": "stderr",
     "output_type": "stream",
     "text": [
      "100%|████████████████████████████████████████████████████████████████████████████████████| 1/1 [00:00<00:00,  1.16it/s]\n"
     ]
    },
    {
     "name": "stdout",
     "output_type": "stream",
     "text": [
      "Iter 4 - Epoch 0 - Client Type: Benign - Client Number 17 - Poison Training False\n"
     ]
    },
    {
     "name": "stderr",
     "output_type": "stream",
     "text": [
      "100%|████████████████████████████████████████████████████████████████████████████████████| 2/2 [00:01<00:00,  1.42it/s]\n"
     ]
    },
    {
     "name": "stdout",
     "output_type": "stream",
     "text": [
      "Iter 4 - Epoch 0 - Client Type: Benign - Client Number 18 - Poison Training False\n"
     ]
    },
    {
     "name": "stderr",
     "output_type": "stream",
     "text": [
      "100%|████████████████████████████████████████████████████████████████████████████████████| 2/2 [00:01<00:00,  1.49it/s]\n"
     ]
    },
    {
     "name": "stdout",
     "output_type": "stream",
     "text": [
      "Iter 4 - Epoch 0 - Client Type: Benign - Client Number 19 - Poison Training False\n"
     ]
    },
    {
     "name": "stderr",
     "output_type": "stream",
     "text": [
      "100%|████████████████████████████████████████████████████████████████████████████████████| 2/2 [00:01<00:00,  1.11it/s]\n"
     ]
    },
    {
     "name": "stdout",
     "output_type": "stream",
     "text": [
      "Original Copylist [8, 4, 8, 7, 0, 5, 3, 8, 8, 6, 8, 7, 2, 6, 1, 7, 4, 7, 0, 1]\n",
      "Found clusters [6 0 6 5 2 7 8 6 6 3 6 5 1 4 0 5 0 5 2 1]\n",
      "Original groups [array([ 4, 18], dtype=int64), array([14, 19], dtype=int64), array([12], dtype=int64), array([6], dtype=int64), array([ 1, 16], dtype=int64), array([5], dtype=int64), array([ 9, 13], dtype=int64), array([ 3, 11, 15, 17], dtype=int64), array([ 0,  2,  7,  8, 10], dtype=int64)]\n",
      "Clustered groups [array([ 1, 14, 16], dtype=int64), array([12, 19], dtype=int64), array([ 4, 18], dtype=int64), array([9], dtype=int64), array([13], dtype=int64), array([ 3, 11, 15, 17], dtype=int64), array([ 0,  2,  7,  8, 10], dtype=int64), array([5], dtype=int64), array([6], dtype=int64)]\n",
      "Clustering score 0.8633093525179856\n",
      "[[ 0.99999425  0.1072041   0.83859832 -0.20506217  0.17976837  0.35747684\n",
      "   0.16769375  0.84231125  0.83940419 -0.08328807  0.81917515 -0.20362558\n",
      "   0.66037847  0.05542636  0.38043576 -0.23253642  0.093188   -0.23849491\n",
      "   0.09660182  0.41654063]\n",
      " [ 0.1072041   0.99999186  0.03541767 -0.0447477   0.37537591  0.17255211\n",
      "   0.01753391  0.04604746  0.03916408  0.12836872  0.01443538  0.02708059\n",
      "   0.07353853  0.2785024   0.34552215 -0.03577998  0.85612488 -0.03755433\n",
      "   0.50453399  0.13767502]\n",
      " [ 0.83859834  0.03541767  0.99999351 -0.19776649  0.12584354  0.30530444\n",
      "   0.32360625  0.99415702  0.99119829 -0.05491579  0.99034172 -0.20045483\n",
      "   0.58444411  0.00902948  0.24109671 -0.18880696  0.04993706 -0.21831394\n",
      "   0.02018613  0.27169397]\n",
      " [-0.20506217 -0.04474771 -0.19776649  0.99999     0.29197789  0.33367102\n",
      "   0.09611774 -0.19898853 -0.1944318   0.13738606 -0.17803791  0.83594804\n",
      "  -0.03596359  0.23353166  0.14351403  0.87188342 -0.05517357  0.865136\n",
      "   0.32371192  0.27486233]\n",
      " [ 0.17976837  0.3753759   0.12584354  0.29197788  0.99998906  0.50205173\n",
      "   0.14593689  0.13056452  0.12924988  0.04867285  0.12055563  0.26671361\n",
      "   0.178518    0.17644471  0.4269998   0.22691494  0.30212978  0.3066703\n",
      "   0.8478716   0.35895173]\n",
      " [ 0.35747685  0.17255212  0.30530445  0.33367104  0.50205175  0.99998812\n",
      "   0.15245403  0.30470447  0.30538612  0.16052553  0.3011395   0.24788459\n",
      "   0.2209753   0.27029323  0.37490436  0.2534947   0.11278227  0.27964124\n",
      "   0.481074    0.41214091]\n",
      " [ 0.16769374  0.01753391  0.32360624  0.09611774  0.14593689  0.15245403\n",
      "   1.          0.3159963   0.33004739  0.15570167  0.33570638  0.09385384\n",
      "  -0.04301438 -0.02229304  0.05468432  0.09535801  0.08268718  0.13370662\n",
      "   0.1866549  -0.05415407]\n",
      " [ 0.84231125  0.04604746  0.99415702 -0.19898853  0.13056452  0.30470446\n",
      "   0.31599629  0.99999438  0.99381944 -0.04927488  0.99185725 -0.19857335\n",
      "   0.60827848  0.01642695  0.24854438 -0.18878131  0.06484854 -0.21763907\n",
      "   0.02722458  0.28300326]\n",
      " [ 0.83940421  0.03916409  0.99119824 -0.19443178  0.12924989  0.30538612\n",
      "   0.33004741  0.99381941  0.99999654 -0.04425528  0.98722016 -0.19479842\n",
      "   0.60347623  0.01420095  0.25150219 -0.18843831  0.06266761 -0.21582325\n",
      "   0.02901498  0.28732104]\n",
      " [-0.08328808  0.12836872 -0.05491579  0.13738605  0.04867285  0.16052553\n",
      "   0.15570167 -0.04927488 -0.04425528  0.99999007 -0.04626659  0.11671594\n",
      "   0.05639731  0.65730888  0.25904962  0.1272063   0.14583628  0.18582846\n",
      "   0.04915423  0.14271681]\n",
      " [ 0.81917514  0.01443538  0.99034169 -0.17803791  0.12055564  0.3011395\n",
      "   0.33570639  0.99185723  0.98722015 -0.04626659  0.99999767 -0.1835084\n",
      "   0.58620782  0.01158756  0.21859666 -0.16660579  0.03551006 -0.19588523\n",
      "   0.01644531  0.26260736]\n",
      " [-0.20362558  0.02708058 -0.20045483  0.83594807  0.26671361  0.24788458\n",
      "   0.09385384 -0.19857335 -0.19479842  0.11671594 -0.1835084   0.99998833\n",
      "  -0.09172614  0.25672377  0.11093791  0.83641417  0.03332026  0.90852765\n",
      "   0.2899079   0.11227783]\n",
      " [ 0.66037847  0.07353853  0.58444414 -0.0359636   0.178518    0.22097528\n",
      "  -0.04301438  0.60827848  0.60347627  0.05639732  0.5862078  -0.09172614\n",
      "   0.99999154  0.23642938  0.48469816 -0.05393476  0.09003647 -0.0923581\n",
      "   0.08248524  0.6235294 ]\n",
      " [ 0.05542636  0.2785024   0.00902949  0.23353167  0.17644471  0.27029322\n",
      "  -0.02229304  0.01642695  0.01420095  0.65730893  0.01158756  0.25672376\n",
      "   0.23642939  0.99998925  0.38342318  0.26368669  0.19419333  0.29344996\n",
      "   0.13868928  0.28689811]\n",
      " [ 0.38043574  0.34552216  0.24109671  0.14351403  0.4269998   0.37490436\n",
      "   0.05468433  0.24854437  0.25150219  0.25904961  0.21859666  0.11093791\n",
      "   0.48469817  0.38342319  0.99999072  0.10916714  0.31817795  0.1277491\n",
      "   0.43659435  0.74368565]\n",
      " [-0.23253641 -0.03577998 -0.18880697  0.8718835   0.22691494  0.25349471\n",
      "   0.09535801 -0.18878131 -0.18843832  0.1272063  -0.1666058   0.83641417\n",
      "  -0.05393477  0.26368668  0.10916714  0.99998917 -0.00189635  0.87597051\n",
      "   0.26376023  0.16085336]\n",
      " [ 0.093188    0.85612483  0.04993705 -0.05517357  0.30212977  0.11278227\n",
      "   0.08268718  0.06484854  0.06266761  0.14583628  0.03551007  0.03332026\n",
      "   0.09003647  0.19419333  0.31817794 -0.00189635  0.99999275 -0.00623259\n",
      "   0.46331893  0.11092394]\n",
      " [-0.23849491 -0.03755433 -0.21831394  0.86513597  0.3066703   0.27964126\n",
      "   0.13370663 -0.21763907 -0.21582325  0.18582847 -0.19588522  0.90852765\n",
      "  -0.09235811  0.29344996  0.1277491   0.87597048 -0.0062326   0.99998821\n",
      "   0.31044731  0.13991184]\n",
      " [ 0.09660182  0.50453401  0.02018612  0.32371192  0.84787162  0.481074\n",
      "   0.1866549   0.02722459  0.02901498  0.04915423  0.01644531  0.2899079\n",
      "   0.08248524  0.13868929  0.43659434  0.26376024  0.46331893  0.31044729\n",
      "   0.99998995  0.33852827]\n",
      " [ 0.41654065  0.13767503  0.27169396  0.27486233  0.35895173  0.4121409\n",
      "  -0.05415407  0.28300326  0.28732105  0.14271681  0.26260736  0.11227783\n",
      "   0.6235294   0.28689811  0.74368567  0.16085336  0.11092394  0.13991184\n",
      "   0.33852828  0.99999129]]\n",
      "Original Copylist [8, 4, 8, 7, 0, 5, 3, 8, 8, 6, 8, 7, 2, 6, 1, 7, 4, 7, 0, 1]\n",
      "Found clusters [6 5 6 1 4 7 8 6 6 0 6 1 3 0 2 1 5 1 4 2]\n",
      "Original groups [array([ 4, 18], dtype=int64), array([14, 19], dtype=int64), array([12], dtype=int64), array([6], dtype=int64), array([ 1, 16], dtype=int64), array([5], dtype=int64), array([ 9, 13], dtype=int64), array([ 3, 11, 15, 17], dtype=int64), array([ 0,  2,  7,  8, 10], dtype=int64)]\n",
      "Clustered groups [array([ 9, 13], dtype=int64), array([ 3, 11, 15, 17], dtype=int64), array([14, 19], dtype=int64), array([12], dtype=int64), array([ 4, 18], dtype=int64), array([ 1, 16], dtype=int64), array([ 0,  2,  7,  8, 10], dtype=int64), array([5], dtype=int64), array([6], dtype=int64)]\n",
      "Clustering score 1.0\n",
      "\n",
      "\n",
      " Entering epoch 2\n",
      "Iter 4 - Epoch 0 - Client Type: Benign - Client Number 0 - Poison Training False\n"
     ]
    },
    {
     "name": "stderr",
     "output_type": "stream",
     "text": [
      "100%|████████████████████████████████████████████████████████████████████████████████████| 1/1 [00:00<00:00,  1.10it/s]\n"
     ]
    },
    {
     "name": "stdout",
     "output_type": "stream",
     "text": [
      "Iter 4 - Epoch 0 - Client Type: Benign - Client Number 1 - Poison Training False\n"
     ]
    },
    {
     "name": "stderr",
     "output_type": "stream",
     "text": [
      "100%|████████████████████████████████████████████████████████████████████████████████████| 1/1 [00:01<00:00,  1.09s/it]\n"
     ]
    },
    {
     "name": "stdout",
     "output_type": "stream",
     "text": [
      "Iter 4 - Epoch 0 - Client Type: Benign - Client Number 2 - Poison Training False\n"
     ]
    },
    {
     "name": "stderr",
     "output_type": "stream",
     "text": [
      "100%|████████████████████████████████████████████████████████████████████████████████████| 1/1 [00:00<00:00,  1.09it/s]\n"
     ]
    },
    {
     "name": "stdout",
     "output_type": "stream",
     "text": [
      "Iter 4 - Epoch 0 - Client Type: Benign - Client Number 3 - Poison Training False\n"
     ]
    },
    {
     "name": "stderr",
     "output_type": "stream",
     "text": [
      "100%|████████████████████████████████████████████████████████████████████████████████████| 2/2 [00:01<00:00,  1.68it/s]\n"
     ]
    },
    {
     "name": "stdout",
     "output_type": "stream",
     "text": [
      "Iter 4 - Epoch 0 - Client Type: Benign - Client Number 4 - Poison Training False\n"
     ]
    },
    {
     "name": "stderr",
     "output_type": "stream",
     "text": [
      "100%|████████████████████████████████████████████████████████████████████████████████████| 2/2 [00:01<00:00,  1.56it/s]\n"
     ]
    },
    {
     "name": "stdout",
     "output_type": "stream",
     "text": [
      "Iter 4 - Epoch 0 - Client Type: Benign - Client Number 5 - Poison Training False\n"
     ]
    },
    {
     "name": "stderr",
     "output_type": "stream",
     "text": [
      "100%|████████████████████████████████████████████████████████████████████████████████████| 2/2 [00:01<00:00,  1.34it/s]\n"
     ]
    },
    {
     "name": "stdout",
     "output_type": "stream",
     "text": [
      "Iter 4 - Epoch 0 - Client Type: Benign - Client Number 6 - Poison Training False\n"
     ]
    },
    {
     "name": "stderr",
     "output_type": "stream",
     "text": [
      "100%|████████████████████████████████████████████████████████████████████████████████████| 2/2 [00:01<00:00,  1.37it/s]\n"
     ]
    },
    {
     "name": "stdout",
     "output_type": "stream",
     "text": [
      "Iter 4 - Epoch 0 - Client Type: Benign - Client Number 7 - Poison Training False\n"
     ]
    },
    {
     "name": "stderr",
     "output_type": "stream",
     "text": [
      "100%|████████████████████████████████████████████████████████████████████████████████████| 1/1 [00:00<00:00,  1.10it/s]\n"
     ]
    },
    {
     "name": "stdout",
     "output_type": "stream",
     "text": [
      "Iter 4 - Epoch 0 - Client Type: Benign - Client Number 8 - Poison Training False\n"
     ]
    },
    {
     "name": "stderr",
     "output_type": "stream",
     "text": [
      "100%|████████████████████████████████████████████████████████████████████████████████████| 1/1 [00:00<00:00,  1.06it/s]\n"
     ]
    },
    {
     "name": "stdout",
     "output_type": "stream",
     "text": [
      "Iter 4 - Epoch 0 - Client Type: Benign - Client Number 9 - Poison Training False\n"
     ]
    },
    {
     "name": "stderr",
     "output_type": "stream",
     "text": [
      "100%|████████████████████████████████████████████████████████████████████████████████████| 2/2 [00:01<00:00,  1.55it/s]\n"
     ]
    },
    {
     "name": "stdout",
     "output_type": "stream",
     "text": [
      "Iter 4 - Epoch 0 - Client Type: Benign - Client Number 10 - Poison Training False\n"
     ]
    },
    {
     "name": "stderr",
     "output_type": "stream",
     "text": [
      "100%|████████████████████████████████████████████████████████████████████████████████████| 1/1 [00:00<00:00,  1.37it/s]\n"
     ]
    },
    {
     "name": "stdout",
     "output_type": "stream",
     "text": [
      "Iter 4 - Epoch 0 - Client Type: Benign - Client Number 11 - Poison Training False\n"
     ]
    },
    {
     "name": "stderr",
     "output_type": "stream",
     "text": [
      "100%|████████████████████████████████████████████████████████████████████████████████████| 2/2 [00:01<00:00,  1.47it/s]\n"
     ]
    },
    {
     "name": "stdout",
     "output_type": "stream",
     "text": [
      "Iter 4 - Epoch 0 - Client Type: Benign - Client Number 12 - Poison Training False\n"
     ]
    },
    {
     "name": "stderr",
     "output_type": "stream",
     "text": [
      "100%|████████████████████████████████████████████████████████████████████████████████████| 1/1 [00:00<00:00,  1.63it/s]\n"
     ]
    },
    {
     "name": "stdout",
     "output_type": "stream",
     "text": [
      "Iter 4 - Epoch 0 - Client Type: Benign - Client Number 13 - Poison Training False\n"
     ]
    },
    {
     "name": "stderr",
     "output_type": "stream",
     "text": [
      "100%|████████████████████████████████████████████████████████████████████████████████████| 2/2 [00:01<00:00,  1.41it/s]\n"
     ]
    },
    {
     "name": "stdout",
     "output_type": "stream",
     "text": [
      "Iter 4 - Epoch 0 - Client Type: Benign - Client Number 14 - Poison Training False\n"
     ]
    },
    {
     "name": "stderr",
     "output_type": "stream",
     "text": [
      "100%|████████████████████████████████████████████████████████████████████████████████████| 2/2 [00:01<00:00,  1.28it/s]\n"
     ]
    },
    {
     "name": "stdout",
     "output_type": "stream",
     "text": [
      "Iter 4 - Epoch 0 - Client Type: Benign - Client Number 15 - Poison Training False\n"
     ]
    },
    {
     "name": "stderr",
     "output_type": "stream",
     "text": [
      "100%|████████████████████████████████████████████████████████████████████████████████████| 2/2 [00:01<00:00,  1.67it/s]\n"
     ]
    },
    {
     "name": "stdout",
     "output_type": "stream",
     "text": [
      "Iter 4 - Epoch 0 - Client Type: Benign - Client Number 16 - Poison Training False\n"
     ]
    },
    {
     "name": "stderr",
     "output_type": "stream",
     "text": [
      "100%|████████████████████████████████████████████████████████████████████████████████████| 1/1 [00:00<00:00,  1.11it/s]\n"
     ]
    },
    {
     "name": "stdout",
     "output_type": "stream",
     "text": [
      "Iter 4 - Epoch 0 - Client Type: Benign - Client Number 17 - Poison Training False\n"
     ]
    },
    {
     "name": "stderr",
     "output_type": "stream",
     "text": [
      "100%|████████████████████████████████████████████████████████████████████████████████████| 2/2 [00:01<00:00,  1.57it/s]\n"
     ]
    },
    {
     "name": "stdout",
     "output_type": "stream",
     "text": [
      "Iter 4 - Epoch 0 - Client Type: Benign - Client Number 18 - Poison Training False\n"
     ]
    },
    {
     "name": "stderr",
     "output_type": "stream",
     "text": [
      "100%|████████████████████████████████████████████████████████████████████████████████████| 2/2 [00:01<00:00,  1.50it/s]\n"
     ]
    },
    {
     "name": "stdout",
     "output_type": "stream",
     "text": [
      "Iter 4 - Epoch 0 - Client Type: Benign - Client Number 19 - Poison Training False\n"
     ]
    },
    {
     "name": "stderr",
     "output_type": "stream",
     "text": [
      "100%|████████████████████████████████████████████████████████████████████████████████████| 2/2 [00:01<00:00,  1.29it/s]\n"
     ]
    },
    {
     "name": "stdout",
     "output_type": "stream",
     "text": [
      "Original Copylist [8, 4, 8, 7, 0, 5, 3, 8, 8, 6, 8, 7, 2, 6, 1, 7, 4, 7, 0, 1]\n",
      "Found clusters [1 5 1 6 4 7 8 1 1 0 1 6 3 0 2 6 5 6 4 2]\n",
      "Original groups [array([ 4, 18], dtype=int64), array([14, 19], dtype=int64), array([12], dtype=int64), array([6], dtype=int64), array([ 1, 16], dtype=int64), array([5], dtype=int64), array([ 9, 13], dtype=int64), array([ 3, 11, 15, 17], dtype=int64), array([ 0,  2,  7,  8, 10], dtype=int64)]\n",
      "Clustered groups [array([ 9, 13], dtype=int64), array([ 0,  2,  7,  8, 10], dtype=int64), array([14, 19], dtype=int64), array([12], dtype=int64), array([ 4, 18], dtype=int64), array([ 1, 16], dtype=int64), array([ 3, 11, 15, 17], dtype=int64), array([5], dtype=int64), array([6], dtype=int64)]\n",
      "Clustering score 1.0\n",
      "[[ 9.99993790e-01  2.42972016e-01  8.71913579e-01 -7.03297848e-03\n",
      "   1.74772485e-01  2.90765986e-01 -6.78229989e-02  8.73518317e-01\n",
      "   8.62941265e-01 -6.31965094e-02  8.50933161e-01 -3.23275285e-02\n",
      "   6.17769653e-01  7.65479806e-02  2.64567784e-01 -2.05822138e-02\n",
      "   2.27086648e-01 -1.62715016e-02  1.03625243e-01  2.59344746e-01]\n",
      " [ 2.42972016e-01  9.99988718e-01  1.62843261e-01  1.91803891e-02\n",
      "   3.49908037e-01  2.26111356e-01  1.94607263e-02  1.71779081e-01\n",
      "   1.61055298e-01  1.55536206e-01  1.53636043e-01  4.36502005e-02\n",
      "   9.67662587e-02  2.21305097e-01  8.27577788e-02 -5.59622140e-04\n",
      "   9.13751705e-01  1.40896791e-02  3.94767351e-01  1.06336378e-02]\n",
      " [ 8.71913590e-01  1.62843261e-01  9.99991448e-01 -1.05469655e-02\n",
      "   8.76079767e-02  2.63266284e-01  1.41318888e-01  9.95177796e-01\n",
      "   9.92740576e-01 -5.76518482e-02  9.91379016e-01 -4.68324283e-02\n",
      "   4.73396453e-01 -4.37786360e-03  1.75189939e-01 -2.27804381e-02\n",
      "   1.88199398e-01 -2.15922602e-02  2.62755090e-02  1.70660691e-01]\n",
      " [-7.03297557e-03  1.91803863e-02 -1.05469737e-02  9.99987669e-01\n",
      "   2.81789855e-01  3.69280977e-01  7.63377548e-03 -7.84205756e-03\n",
      "  -2.83652209e-03  2.45459931e-01  3.07905954e-03  8.56632723e-01\n",
      "   1.12924581e-01  3.67082277e-01  2.43862370e-01  8.94085502e-01\n",
      "   1.25597146e-02  8.97298699e-01  2.77816063e-01  2.97125645e-01]\n",
      " [ 1.74772485e-01  3.49908018e-01  8.76079770e-02  2.81789850e-01\n",
      "   9.99987797e-01  4.65163973e-01  7.06457975e-02  8.82253236e-02\n",
      "   8.02554718e-02  1.00311406e-01  8.10466144e-02  2.48766855e-01\n",
      "   2.66657973e-01  2.30563616e-01  4.17381349e-01  2.76032215e-01\n",
      "   2.88497813e-01  3.03725132e-01  8.77051416e-01  4.07782185e-01]\n",
      " [ 2.90765991e-01  2.26111359e-01  2.63266278e-01  3.69280971e-01\n",
      "   4.65163982e-01  9.99988399e-01  1.45744675e-01  2.61153340e-01\n",
      "   2.56440026e-01  2.46828735e-01  2.62728107e-01  2.95315396e-01\n",
      "   2.40524824e-01  3.41886287e-01  4.71354648e-01  3.23130506e-01\n",
      "   1.99261328e-01  3.51612515e-01  4.56142109e-01  4.38323293e-01]\n",
      " [-6.78230020e-02  1.94607279e-02  1.41318879e-01  7.63377621e-03\n",
      "   7.06457980e-02  1.45744678e-01  1.00000000e+00  1.37499524e-01\n",
      "   1.61226646e-01  7.96782708e-02  1.67370526e-01  5.24459344e-02\n",
      "  -2.17180476e-01 -7.35100228e-02  1.89706881e-02 -1.59775538e-02\n",
      "   9.40737953e-02  3.15727364e-02  1.58528320e-01  9.90763916e-03]\n",
      " [ 8.73518316e-01  1.71779081e-01  9.95177795e-01 -7.84205826e-03\n",
      "   8.82253259e-02  2.61153326e-01  1.37499521e-01  9.99992124e-01\n",
      "   9.94532948e-01 -5.40115086e-02  9.92971020e-01 -4.13441512e-02\n",
      "   4.84592744e-01 -5.74397327e-04  1.75714227e-01 -2.01822575e-02\n",
      "   1.99120200e-01 -1.79526815e-02  2.80369604e-02  1.75463395e-01]\n",
      " [ 8.62941304e-01  1.61055300e-01  9.92740581e-01 -2.83651488e-03\n",
      "   8.02554716e-02  2.56440022e-01  1.61226654e-01  9.94532933e-01\n",
      "   9.99997436e-01 -5.30076564e-02  9.90262177e-01 -3.46728476e-02\n",
      "   4.65335626e-01 -7.40361462e-03  1.67770774e-01 -1.97932043e-02\n",
      "   1.93517985e-01 -1.51151864e-02  2.29250622e-02  1.73135370e-01]\n",
      " [-6.31965135e-02  1.55536213e-01 -5.76518471e-02  2.45459912e-01\n",
      "   1.00311413e-01  2.46828736e-01  7.96782709e-02 -5.40115078e-02\n",
      "  -5.30076556e-02  9.99987882e-01 -5.37760998e-02  2.16551831e-01\n",
      "   1.29967869e-01  7.31649143e-01  3.32277050e-01  2.15850426e-01\n",
      "   1.54231168e-01  2.65864259e-01  9.29715939e-02  2.42023997e-01]\n",
      " [ 8.50933156e-01  1.53636028e-01  9.91378999e-01  3.07906719e-03\n",
      "   8.10466160e-02  2.62728115e-01  1.67370530e-01  9.92970981e-01\n",
      "   9.90262203e-01 -5.37760995e-02  9.99994363e-01 -3.27197974e-02\n",
      "   4.67693076e-01 -5.69073751e-03  1.60564701e-01 -1.21376714e-02\n",
      "   1.86477919e-01 -6.30167302e-03  2.41881504e-02  1.69620647e-01]\n",
      " [-3.23275257e-02  4.36501981e-02 -4.68324281e-02  8.56632738e-01\n",
      "   2.48766847e-01  2.95315389e-01  5.24459311e-02 -4.13441438e-02\n",
      "  -3.46728439e-02  2.16551832e-01 -3.27197945e-02  9.99985103e-01\n",
      "   8.90962768e-02  3.64789521e-01  1.99182343e-01  8.42889433e-01\n",
      "   3.60976233e-02  9.03096631e-01  2.41990196e-01  2.24798663e-01]\n",
      " [ 6.17769683e-01  9.67662575e-02  4.73396465e-01  1.12924577e-01\n",
      "   2.66657972e-01  2.40524815e-01 -2.17180475e-01  4.84592747e-01\n",
      "   4.65335660e-01  1.29967879e-01  4.67693065e-01  8.90962581e-02\n",
      "   9.99988619e-01  3.33734564e-01  5.24677183e-01  1.30630352e-01\n",
      "   6.29299404e-02  1.19399480e-01  1.97961739e-01  5.45427219e-01]\n",
      " [ 7.65479864e-02  2.21305097e-01 -4.37786157e-03  3.67082284e-01\n",
      "   2.30563618e-01  3.41886284e-01 -7.35100208e-02 -5.74398720e-04\n",
      "  -7.40361427e-03  7.31649196e-01 -5.69073763e-03  3.64789514e-01\n",
      "   3.33734566e-01  9.99986102e-01  4.52793585e-01  3.81710176e-01\n",
      "   1.42409687e-01  4.06698975e-01  1.85640590e-01  3.52459268e-01]\n",
      " [ 2.64567778e-01  8.27577812e-02  1.75189938e-01  2.43862385e-01\n",
      "   4.17381350e-01  4.71354648e-01  1.89706903e-02  1.75714224e-01\n",
      "   1.67770769e-01  3.32277047e-01  1.60564695e-01  1.99182346e-01\n",
      "   5.24677191e-01  4.52793589e-01  9.99989338e-01  2.27258812e-01\n",
      "   5.69878292e-02  2.51886283e-01  4.28725225e-01  7.93250725e-01]\n",
      " [-2.05822058e-02 -5.59621915e-04 -2.27804451e-02  8.94085510e-01\n",
      "   2.76032215e-01  3.23130494e-01 -1.59775535e-02 -2.01822484e-02\n",
      "  -1.97932098e-02  2.15850426e-01 -1.21376754e-02  8.42889433e-01\n",
      "   1.30630348e-01  3.81710174e-01  2.27258813e-01  9.99987192e-01\n",
      "   1.90779489e-03  8.98253973e-01  2.71903395e-01  2.25484145e-01]\n",
      " [ 2.27086648e-01  9.13751682e-01  1.88199398e-01  1.25597113e-02\n",
      "   2.88497812e-01  1.99261327e-01  9.40738004e-02  1.99120184e-01\n",
      "   1.93517983e-01  1.54231176e-01  1.86477907e-01  3.60976253e-02\n",
      "   6.29299419e-02  1.42409690e-01  5.69878271e-02  1.90779466e-03\n",
      "   9.99988687e-01  2.54214988e-02  3.61788684e-01 -5.42457528e-03]\n",
      " [-1.62715017e-02  1.40896791e-02 -2.15922601e-02  8.97298683e-01\n",
      "   3.03725145e-01  3.51612523e-01  3.15727423e-02 -1.79526702e-02\n",
      "  -1.51151787e-02  2.65864278e-01 -6.30166744e-03  9.03096629e-01\n",
      "   1.19399477e-01  4.06698971e-01  2.51886283e-01  8.98253958e-01\n",
      "   2.54214941e-02  9.99987190e-01  2.78289847e-01  2.34704495e-01]\n",
      " [ 1.03625247e-01  3.94767345e-01  2.62755072e-02  2.77816063e-01\n",
      "   8.77051424e-01  4.56142124e-01  1.58528318e-01  2.80369632e-02\n",
      "   2.29250640e-02  9.29715946e-02  2.41881512e-02  2.41990203e-01\n",
      "   1.97961724e-01  1.85640593e-01  4.28725232e-01  2.71903412e-01\n",
      "   3.61788681e-01  2.78289845e-01  9.99988121e-01  4.13785543e-01]\n",
      " [ 2.59344751e-01  1.06336404e-02  1.70660684e-01  2.97125644e-01\n",
      "   4.07782200e-01  4.38323306e-01  9.90764195e-03  1.75463397e-01\n",
      "   1.73135370e-01  2.42023997e-01  1.69620649e-01  2.24798662e-01\n",
      "   5.45427219e-01  3.52459283e-01  7.93250736e-01  2.25484159e-01\n",
      "  -5.42458127e-03  2.34704495e-01  4.13785560e-01  9.99987481e-01]]\n",
      "Original Copylist [8, 4, 8, 7, 0, 5, 3, 8, 8, 6, 8, 7, 2, 6, 1, 7, 4, 7, 0, 1]\n",
      "Found clusters [5 4 5 6 1 7 8 5 5 0 5 6 3 0 2 6 4 6 1 2]\n",
      "Original groups [array([ 4, 18], dtype=int64), array([14, 19], dtype=int64), array([12], dtype=int64), array([6], dtype=int64), array([ 1, 16], dtype=int64), array([5], dtype=int64), array([ 9, 13], dtype=int64), array([ 3, 11, 15, 17], dtype=int64), array([ 0,  2,  7,  8, 10], dtype=int64)]\n",
      "Clustered groups [array([ 9, 13], dtype=int64), array([ 4, 18], dtype=int64), array([14, 19], dtype=int64), array([12], dtype=int64), array([ 1, 16], dtype=int64), array([ 0,  2,  7,  8, 10], dtype=int64), array([ 3, 11, 15, 17], dtype=int64), array([5], dtype=int64), array([6], dtype=int64)]\n",
      "Clustering score 1.0\n",
      "\n",
      "\n",
      " Entering epoch 3\n",
      "Iter 4 - Epoch 0 - Client Type: Benign - Client Number 0 - Poison Training False\n"
     ]
    },
    {
     "name": "stderr",
     "output_type": "stream",
     "text": [
      "100%|████████████████████████████████████████████████████████████████████████████████████| 1/1 [00:00<00:00,  1.17it/s]\n"
     ]
    },
    {
     "name": "stdout",
     "output_type": "stream",
     "text": [
      "Iter 4 - Epoch 0 - Client Type: Benign - Client Number 1 - Poison Training False\n"
     ]
    },
    {
     "name": "stderr",
     "output_type": "stream",
     "text": [
      "100%|████████████████████████████████████████████████████████████████████████████████████| 1/1 [00:00<00:00,  1.09it/s]\n"
     ]
    },
    {
     "name": "stdout",
     "output_type": "stream",
     "text": [
      "Iter 4 - Epoch 0 - Client Type: Benign - Client Number 2 - Poison Training False\n"
     ]
    },
    {
     "name": "stderr",
     "output_type": "stream",
     "text": [
      "100%|████████████████████████████████████████████████████████████████████████████████████| 1/1 [00:00<00:00,  1.15it/s]\n"
     ]
    },
    {
     "name": "stdout",
     "output_type": "stream",
     "text": [
      "Iter 4 - Epoch 0 - Client Type: Benign - Client Number 3 - Poison Training False\n"
     ]
    },
    {
     "name": "stderr",
     "output_type": "stream",
     "text": [
      "100%|████████████████████████████████████████████████████████████████████████████████████| 2/2 [00:01<00:00,  1.54it/s]\n"
     ]
    },
    {
     "name": "stdout",
     "output_type": "stream",
     "text": [
      "Iter 4 - Epoch 0 - Client Type: Benign - Client Number 4 - Poison Training False\n"
     ]
    },
    {
     "name": "stderr",
     "output_type": "stream",
     "text": [
      "100%|████████████████████████████████████████████████████████████████████████████████████| 2/2 [00:01<00:00,  1.34it/s]\n"
     ]
    },
    {
     "name": "stdout",
     "output_type": "stream",
     "text": [
      "Iter 4 - Epoch 0 - Client Type: Benign - Client Number 5 - Poison Training False\n"
     ]
    },
    {
     "name": "stderr",
     "output_type": "stream",
     "text": [
      "100%|████████████████████████████████████████████████████████████████████████████████████| 2/2 [00:01<00:00,  1.05it/s]\n"
     ]
    },
    {
     "name": "stdout",
     "output_type": "stream",
     "text": [
      "Iter 4 - Epoch 0 - Client Type: Benign - Client Number 6 - Poison Training False\n"
     ]
    },
    {
     "name": "stderr",
     "output_type": "stream",
     "text": [
      "100%|████████████████████████████████████████████████████████████████████████████████████| 2/2 [00:01<00:00,  1.08it/s]\n"
     ]
    },
    {
     "name": "stdout",
     "output_type": "stream",
     "text": [
      "Iter 4 - Epoch 0 - Client Type: Benign - Client Number 7 - Poison Training False\n"
     ]
    },
    {
     "name": "stderr",
     "output_type": "stream",
     "text": [
      "100%|████████████████████████████████████████████████████████████████████████████████████| 1/1 [00:01<00:00,  1.06s/it]\n"
     ]
    },
    {
     "name": "stdout",
     "output_type": "stream",
     "text": [
      "Iter 4 - Epoch 0 - Client Type: Benign - Client Number 8 - Poison Training False\n"
     ]
    },
    {
     "name": "stderr",
     "output_type": "stream",
     "text": [
      "100%|████████████████████████████████████████████████████████████████████████████████████| 1/1 [00:00<00:00,  1.11it/s]\n"
     ]
    },
    {
     "name": "stdout",
     "output_type": "stream",
     "text": [
      "Iter 4 - Epoch 0 - Client Type: Benign - Client Number 9 - Poison Training False\n"
     ]
    },
    {
     "name": "stderr",
     "output_type": "stream",
     "text": [
      "100%|████████████████████████████████████████████████████████████████████████████████████| 2/2 [00:01<00:00,  1.39it/s]\n"
     ]
    },
    {
     "name": "stdout",
     "output_type": "stream",
     "text": [
      "Iter 4 - Epoch 0 - Client Type: Benign - Client Number 10 - Poison Training False\n"
     ]
    },
    {
     "name": "stderr",
     "output_type": "stream",
     "text": [
      "100%|████████████████████████████████████████████████████████████████████████████████████| 1/1 [00:00<00:00,  1.11it/s]\n"
     ]
    },
    {
     "name": "stdout",
     "output_type": "stream",
     "text": [
      "Iter 4 - Epoch 0 - Client Type: Benign - Client Number 11 - Poison Training False\n"
     ]
    },
    {
     "name": "stderr",
     "output_type": "stream",
     "text": [
      "100%|████████████████████████████████████████████████████████████████████████████████████| 2/2 [00:01<00:00,  1.55it/s]\n"
     ]
    },
    {
     "name": "stdout",
     "output_type": "stream",
     "text": [
      "Iter 4 - Epoch 0 - Client Type: Benign - Client Number 12 - Poison Training False\n"
     ]
    },
    {
     "name": "stderr",
     "output_type": "stream",
     "text": [
      "100%|████████████████████████████████████████████████████████████████████████████████████| 1/1 [00:00<00:00,  1.62it/s]\n"
     ]
    },
    {
     "name": "stdout",
     "output_type": "stream",
     "text": [
      "Iter 4 - Epoch 0 - Client Type: Benign - Client Number 13 - Poison Training False\n"
     ]
    },
    {
     "name": "stderr",
     "output_type": "stream",
     "text": [
      "100%|████████████████████████████████████████████████████████████████████████████████████| 2/2 [00:01<00:00,  1.70it/s]\n"
     ]
    },
    {
     "name": "stdout",
     "output_type": "stream",
     "text": [
      "Iter 4 - Epoch 0 - Client Type: Benign - Client Number 14 - Poison Training False\n"
     ]
    },
    {
     "name": "stderr",
     "output_type": "stream",
     "text": [
      "100%|████████████████████████████████████████████████████████████████████████████████████| 2/2 [00:01<00:00,  1.21it/s]\n"
     ]
    },
    {
     "name": "stdout",
     "output_type": "stream",
     "text": [
      "Iter 4 - Epoch 0 - Client Type: Benign - Client Number 15 - Poison Training False\n"
     ]
    },
    {
     "name": "stderr",
     "output_type": "stream",
     "text": [
      "100%|████████████████████████████████████████████████████████████████████████████████████| 2/2 [00:01<00:00,  1.57it/s]\n"
     ]
    },
    {
     "name": "stdout",
     "output_type": "stream",
     "text": [
      "Iter 4 - Epoch 0 - Client Type: Benign - Client Number 16 - Poison Training False\n"
     ]
    },
    {
     "name": "stderr",
     "output_type": "stream",
     "text": [
      "100%|████████████████████████████████████████████████████████████████████████████████████| 1/1 [00:00<00:00,  1.12it/s]\n"
     ]
    },
    {
     "name": "stdout",
     "output_type": "stream",
     "text": [
      "Iter 4 - Epoch 0 - Client Type: Benign - Client Number 17 - Poison Training False\n"
     ]
    },
    {
     "name": "stderr",
     "output_type": "stream",
     "text": [
      "100%|████████████████████████████████████████████████████████████████████████████████████| 2/2 [00:01<00:00,  1.42it/s]\n"
     ]
    },
    {
     "name": "stdout",
     "output_type": "stream",
     "text": [
      "Iter 4 - Epoch 0 - Client Type: Benign - Client Number 18 - Poison Training False\n"
     ]
    },
    {
     "name": "stderr",
     "output_type": "stream",
     "text": [
      "100%|████████████████████████████████████████████████████████████████████████████████████| 2/2 [00:01<00:00,  1.59it/s]\n"
     ]
    },
    {
     "name": "stdout",
     "output_type": "stream",
     "text": [
      "Iter 4 - Epoch 0 - Client Type: Benign - Client Number 19 - Poison Training False\n"
     ]
    },
    {
     "name": "stderr",
     "output_type": "stream",
     "text": [
      "100%|████████████████████████████████████████████████████████████████████████████████████| 2/2 [00:01<00:00,  1.19it/s]\n"
     ]
    },
    {
     "name": "stdout",
     "output_type": "stream",
     "text": [
      "Original Copylist [8, 4, 8, 7, 0, 5, 3, 8, 8, 6, 8, 7, 2, 6, 1, 7, 4, 7, 0, 1]\n",
      "Found clusters [1 7 6 0 3 8 1 6 6 4 6 0 5 4 2 0 7 0 3 2]\n",
      "Original groups [array([ 4, 18], dtype=int64), array([14, 19], dtype=int64), array([12], dtype=int64), array([6], dtype=int64), array([ 1, 16], dtype=int64), array([5], dtype=int64), array([ 9, 13], dtype=int64), array([ 3, 11, 15, 17], dtype=int64), array([ 0,  2,  7,  8, 10], dtype=int64)]\n",
      "Clustered groups [array([ 3, 11, 15, 17], dtype=int64), array([0, 6], dtype=int64), array([14, 19], dtype=int64), array([ 4, 18], dtype=int64), array([ 9, 13], dtype=int64), array([12], dtype=int64), array([ 2,  7,  8, 10], dtype=int64), array([ 1, 16], dtype=int64), array([5], dtype=int64)]\n",
      "Clustering score 0.8503937007874016\n",
      "[[ 9.99995792e-01  2.18352022e-01  8.05991104e-01 -2.17174278e-02\n",
      "   6.59810238e-02  1.82859292e-01  3.78370919e-01  8.05025101e-01\n",
      "   7.70144725e-01  2.87488261e-02  7.76673982e-01  6.40958000e-02\n",
      "   3.67044203e-01  1.13812072e-01  1.57565765e-01  9.22697130e-03\n",
      "   2.35684670e-01 -3.33927429e-02  6.61268566e-02  1.38361268e-01]\n",
      " [ 2.18352022e-01  9.99990157e-01  1.74645299e-01  5.02942970e-02\n",
      "   2.78473461e-01  1.48321966e-01  1.69015987e-01  1.83731148e-01\n",
      "   1.75808688e-01  1.71183140e-01  1.60525925e-01  8.93035381e-02\n",
      "  -4.89003107e-02  1.28445330e-01  1.64086788e-01 -9.24928398e-04\n",
      "   9.37783333e-01  2.47249567e-03  2.92008109e-01  8.66078225e-02]\n",
      " [ 8.05991109e-01  1.74645291e-01  9.99994502e-01 -4.90441119e-03\n",
      "   3.85484025e-02  1.93878800e-01  3.61918293e-01  9.94624270e-01\n",
      "   9.89779416e-01 -2.09564767e-02  9.90269654e-01  6.32722548e-02\n",
      "   1.62910737e-01 -4.06470383e-03  9.77102210e-02  3.39542412e-02\n",
      "   2.46693140e-01 -1.52409003e-02  2.74737031e-02  6.78562244e-02]\n",
      " [-2.17174245e-02  5.02942956e-02 -4.90441526e-03  9.99984894e-01\n",
      "   3.39673953e-01  4.71739577e-01 -5.17993188e-02  5.48357359e-04\n",
      "   1.17344819e-02  3.58245659e-01  1.01014191e-02  8.32305721e-01\n",
      "   1.89203598e-01  4.51609177e-01  3.48898820e-01  8.20007285e-01\n",
      "   3.19838464e-02  9.00247798e-01  3.17023741e-01  4.17446255e-01]\n",
      " [ 6.59810237e-02  2.78473452e-01  3.85484026e-02  3.39673966e-01\n",
      "   9.99990471e-01  5.31822728e-01  1.83732605e-02  3.47699008e-02\n",
      "   3.37801533e-02  2.00960289e-01  4.29151037e-02  2.49291300e-01\n",
      "   3.98605788e-01  2.53789089e-01  5.02471144e-01  2.70755059e-01\n",
      "   2.54802025e-01  3.62439699e-01  8.98244085e-01  4.99897788e-01]\n",
      " [ 1.82859298e-01  1.48321967e-01  1.93878800e-01  4.71739544e-01\n",
      "   5.31822762e-01  9.99986719e-01  6.04819402e-02  1.90565471e-01\n",
      "   1.89666301e-01  3.82899495e-01  2.00226415e-01  3.17708014e-01\n",
      "   3.57225434e-01  4.43289021e-01  5.81694965e-01  3.06847521e-01\n",
      "   1.45084423e-01  4.22596542e-01  5.16629108e-01  5.57459865e-01]\n",
      " [ 3.78370918e-01  1.69015988e-01  3.61918258e-01 -5.17993184e-02\n",
      "   1.83732608e-02  6.04819408e-02  9.99996633e-01  3.62145614e-01\n",
      "   3.41322141e-01  5.99286447e-02  3.57023333e-01  7.71826767e-02\n",
      "  -8.67227332e-02 -1.32211635e-02  1.13498784e-03 -1.88030502e-02\n",
      "   2.20732667e-01 -4.43028454e-02  1.10271915e-01 -2.36701717e-02]\n",
      " [ 8.05025071e-01  1.83731147e-01  9.94624240e-01  5.48357010e-04\n",
      "   3.47699020e-02  1.90565465e-01  3.62145613e-01  9.99995317e-01\n",
      "   9.92067797e-01 -1.95842371e-02  9.92189246e-01  7.14094916e-02\n",
      "   1.62531851e-01 -9.02022598e-04  9.27485914e-02  3.84162910e-02\n",
      "   2.57385781e-01 -9.72358144e-03  2.63292603e-02  6.54041317e-02]\n",
      " [ 7.70144745e-01  1.75808689e-01  9.89779448e-01  1.17344865e-02\n",
      "   3.37801532e-02  1.89666296e-01  3.41322145e-01  9.92067820e-01\n",
      "   1.00000000e+00 -2.73367056e-02  9.89779516e-01  8.07270805e-02\n",
      "   1.31040391e-01 -1.30024698e-02  8.52317168e-02  4.82802248e-02\n",
      "   2.53748005e-01  1.50179110e-03  2.08021558e-02  6.31111600e-02]\n",
      " [ 2.87488278e-02  1.71183143e-01 -2.09564761e-02  3.58245664e-01\n",
      "   2.00960277e-01  3.82899525e-01  5.99286428e-02 -1.95842367e-02\n",
      "  -2.73367052e-02  9.99987534e-01 -2.04898350e-02  2.67394005e-01\n",
      "   2.53622538e-01  7.86549857e-01  4.31273479e-01  2.26163231e-01\n",
      "   1.66340807e-01  3.18156920e-01  1.97969649e-01  3.78069858e-01]\n",
      " [ 7.76673980e-01  1.60525917e-01  9.90269646e-01  1.01014238e-02\n",
      "   4.29151045e-02  2.00226427e-01  3.57023335e-01  9.92189227e-01\n",
      "   9.89779559e-01 -2.04898344e-02  9.99993099e-01  7.53231025e-02\n",
      "   1.65211320e-01 -4.69992270e-03  9.33392826e-02  4.70865004e-02\n",
      "   2.40277214e-01  2.38111902e-03  3.43794989e-02  7.37777091e-02]\n",
      " [ 6.40957940e-02  8.93035370e-02  6.32722474e-02  8.32305758e-01\n",
      "   2.49291289e-01  3.17708011e-01  7.71826751e-02  7.14094953e-02\n",
      "   8.07270823e-02  2.67394006e-01  7.53231040e-02  9.99985012e-01\n",
      "   7.63960427e-02  3.45426759e-01  1.82847381e-01  8.77329745e-01\n",
      "   8.62369443e-02  8.86251027e-01  2.25995321e-01  2.85342918e-01]\n",
      " [ 3.67044218e-01 -4.89003113e-02  1.62910735e-01  1.89203596e-01\n",
      "   3.98605788e-01  3.57225445e-01 -8.67227324e-02  1.62531860e-01\n",
      "   1.31040409e-01  2.53622543e-01  1.65211308e-01  7.63960333e-02\n",
      "   9.99988379e-01  4.17563995e-01  5.93565265e-01  1.05947770e-01\n",
      "  -8.36297759e-02  1.87130084e-01  3.74475431e-01  6.16697352e-01]\n",
      " [ 1.13812075e-01  1.28445330e-01 -4.06470281e-03  4.51609181e-01\n",
      "   2.53789090e-01  4.43289020e-01 -1.32211625e-02 -9.02023294e-04\n",
      "  -1.30024696e-02  7.86549913e-01 -4.69992276e-03  3.45426755e-01\n",
      "   4.17563996e-01  9.99987597e-01  5.27571027e-01  3.04830615e-01\n",
      "   7.60947247e-02  4.03368848e-01  2.20859993e-01  4.72435740e-01]\n",
      " [ 1.57565762e-01  1.64086789e-01  9.77102213e-02  3.48898828e-01\n",
      "   5.02471144e-01  5.81694965e-01  1.13498988e-03  9.27485900e-02\n",
      "   8.52317143e-02  4.31273477e-01  9.33392796e-02  1.82847390e-01\n",
      "   5.93565269e-01  5.27571059e-01  9.99987964e-01  1.53333841e-01\n",
      "   1.20415340e-01  2.78903061e-01  4.83272914e-01  8.52693177e-01]\n",
      " [ 9.22697533e-03 -9.24928227e-04  3.39542377e-02  8.20007259e-01\n",
      "   2.70755059e-01  3.06847515e-01 -1.88030500e-02  3.84162956e-02\n",
      "   4.82802220e-02  2.26163231e-01  4.70864984e-02  8.77329775e-01\n",
      "   1.05947765e-01  3.04830614e-01  1.53333841e-01  9.99987726e-01\n",
      "   5.30828254e-03  8.95446324e-01  2.53672694e-01  2.58284509e-01]\n",
      " [ 2.35684670e-01  9.37783322e-01  2.46693140e-01  3.19838466e-02\n",
      "   2.54802024e-01  1.45084423e-01  2.20732670e-01  2.57385773e-01\n",
      "   2.53747989e-01  1.66340811e-01  2.40277223e-01  8.62369453e-02\n",
      "  -8.36297751e-02  7.60947261e-02  1.20415332e-01  5.30828242e-03\n",
      "   9.99991811e-01 -1.44272589e-03  2.84771759e-01  4.52220630e-02]\n",
      " [-3.33927411e-02  2.47249568e-03 -1.52409007e-02  9.00247760e-01\n",
      "   3.62439705e-01  4.22596532e-01 -4.43028387e-02 -9.72357582e-03\n",
      "   1.50179494e-03  3.18156930e-01  2.38112181e-03  8.86251026e-01\n",
      "   1.87130097e-01  4.03368860e-01  2.78903061e-01  8.95446316e-01\n",
      "  -1.44272823e-03  9.99984685e-01  3.31504184e-01  3.50597727e-01]\n",
      " [ 6.61268585e-02  2.92008113e-01  2.74737022e-02  3.17023741e-01\n",
      "   8.98244119e-01  5.16629116e-01  1.10271914e-01  2.63292617e-02\n",
      "   2.08021567e-02  1.97969649e-01  3.43795011e-02  2.25995332e-01\n",
      "   3.74475423e-01  2.20859980e-01  4.83272918e-01  2.53672702e-01\n",
      "   2.84771750e-01  3.31504182e-01  9.99986163e-01  4.73311955e-01]\n",
      " [ 1.38361269e-01  8.66078238e-02  6.78562211e-02  4.17446255e-01\n",
      "   4.99897795e-01  5.57459871e-01 -2.36701703e-02  6.54041324e-02\n",
      "   6.31111600e-02  3.78069858e-01  7.37777103e-02  2.85342903e-01\n",
      "   6.16697322e-01  4.72435747e-01  8.52693182e-01  2.58284517e-01\n",
      "   4.52220600e-02  3.50597727e-01  4.73311963e-01  9.99988525e-01]]\n",
      "Original Copylist [8, 4, 8, 7, 0, 5, 3, 8, 8, 6, 8, 7, 2, 6, 1, 7, 4, 7, 0, 1]\n",
      "Found clusters [0 3 0 4 6 7 5 0 0 1 0 4 8 1 2 4 3 4 6 2]\n",
      "Original groups [array([ 4, 18], dtype=int64), array([14, 19], dtype=int64), array([12], dtype=int64), array([6], dtype=int64), array([ 1, 16], dtype=int64), array([5], dtype=int64), array([ 9, 13], dtype=int64), array([ 3, 11, 15, 17], dtype=int64), array([ 0,  2,  7,  8, 10], dtype=int64)]\n",
      "Clustered groups [array([ 0,  2,  7,  8, 10], dtype=int64), array([ 9, 13], dtype=int64), array([14, 19], dtype=int64), array([ 1, 16], dtype=int64), array([ 3, 11, 15, 17], dtype=int64), array([6], dtype=int64), array([ 4, 18], dtype=int64), array([5], dtype=int64), array([12], dtype=int64)]\n",
      "Clustering score 1.0\n",
      "\n",
      "\n",
      " Entering epoch 4\n",
      "Iter 4 - Epoch 0 - Client Type: Benign - Client Number 0 - Poison Training False\n"
     ]
    },
    {
     "name": "stderr",
     "output_type": "stream",
     "text": [
      "100%|████████████████████████████████████████████████████████████████████████████████████| 1/1 [00:00<00:00,  1.11it/s]\n"
     ]
    },
    {
     "name": "stdout",
     "output_type": "stream",
     "text": [
      "Iter 4 - Epoch 0 - Client Type: Benign - Client Number 1 - Poison Training False\n"
     ]
    },
    {
     "name": "stderr",
     "output_type": "stream",
     "text": [
      "100%|████████████████████████████████████████████████████████████████████████████████████| 1/1 [00:00<00:00,  1.03it/s]\n"
     ]
    },
    {
     "name": "stdout",
     "output_type": "stream",
     "text": [
      "Iter 4 - Epoch 0 - Client Type: Benign - Client Number 2 - Poison Training False\n"
     ]
    },
    {
     "name": "stderr",
     "output_type": "stream",
     "text": [
      "100%|████████████████████████████████████████████████████████████████████████████████████| 1/1 [00:00<00:00,  1.14it/s]\n"
     ]
    },
    {
     "name": "stdout",
     "output_type": "stream",
     "text": [
      "Iter 4 - Epoch 0 - Client Type: Benign - Client Number 3 - Poison Training False\n"
     ]
    },
    {
     "name": "stderr",
     "output_type": "stream",
     "text": [
      "100%|████████████████████████████████████████████████████████████████████████████████████| 2/2 [00:01<00:00,  1.47it/s]\n"
     ]
    },
    {
     "name": "stdout",
     "output_type": "stream",
     "text": [
      "Iter 4 - Epoch 0 - Client Type: Benign - Client Number 4 - Poison Training False\n"
     ]
    },
    {
     "name": "stderr",
     "output_type": "stream",
     "text": [
      "100%|████████████████████████████████████████████████████████████████████████████████████| 2/2 [00:01<00:00,  1.39it/s]\n"
     ]
    },
    {
     "name": "stdout",
     "output_type": "stream",
     "text": [
      "Iter 4 - Epoch 0 - Client Type: Benign - Client Number 5 - Poison Training False\n"
     ]
    },
    {
     "name": "stderr",
     "output_type": "stream",
     "text": [
      "100%|████████████████████████████████████████████████████████████████████████████████████| 2/2 [00:01<00:00,  1.14it/s]\n"
     ]
    },
    {
     "name": "stdout",
     "output_type": "stream",
     "text": [
      "Iter 4 - Epoch 0 - Client Type: Benign - Client Number 6 - Poison Training False\n"
     ]
    },
    {
     "name": "stderr",
     "output_type": "stream",
     "text": [
      "100%|████████████████████████████████████████████████████████████████████████████████████| 2/2 [00:01<00:00,  1.25it/s]\n"
     ]
    },
    {
     "name": "stdout",
     "output_type": "stream",
     "text": [
      "Iter 4 - Epoch 0 - Client Type: Benign - Client Number 7 - Poison Training False\n"
     ]
    },
    {
     "name": "stderr",
     "output_type": "stream",
     "text": [
      "100%|████████████████████████████████████████████████████████████████████████████████████| 1/1 [00:00<00:00,  1.28it/s]\n"
     ]
    },
    {
     "name": "stdout",
     "output_type": "stream",
     "text": [
      "Iter 4 - Epoch 0 - Client Type: Benign - Client Number 8 - Poison Training False\n"
     ]
    },
    {
     "name": "stderr",
     "output_type": "stream",
     "text": [
      "100%|████████████████████████████████████████████████████████████████████████████████████| 1/1 [00:00<00:00,  1.31it/s]\n"
     ]
    },
    {
     "name": "stdout",
     "output_type": "stream",
     "text": [
      "Iter 4 - Epoch 0 - Client Type: Benign - Client Number 9 - Poison Training False\n"
     ]
    },
    {
     "name": "stderr",
     "output_type": "stream",
     "text": [
      "100%|████████████████████████████████████████████████████████████████████████████████████| 2/2 [00:01<00:00,  1.72it/s]\n"
     ]
    },
    {
     "name": "stdout",
     "output_type": "stream",
     "text": [
      "Iter 4 - Epoch 0 - Client Type: Benign - Client Number 10 - Poison Training False\n"
     ]
    },
    {
     "name": "stderr",
     "output_type": "stream",
     "text": [
      "100%|████████████████████████████████████████████████████████████████████████████████████| 1/1 [00:00<00:00,  1.13it/s]\n"
     ]
    },
    {
     "name": "stdout",
     "output_type": "stream",
     "text": [
      "Iter 4 - Epoch 0 - Client Type: Benign - Client Number 11 - Poison Training False\n"
     ]
    },
    {
     "name": "stderr",
     "output_type": "stream",
     "text": [
      "100%|████████████████████████████████████████████████████████████████████████████████████| 2/2 [00:01<00:00,  1.73it/s]\n"
     ]
    },
    {
     "name": "stdout",
     "output_type": "stream",
     "text": [
      "Iter 4 - Epoch 0 - Client Type: Benign - Client Number 12 - Poison Training False\n"
     ]
    },
    {
     "name": "stderr",
     "output_type": "stream",
     "text": [
      "100%|████████████████████████████████████████████████████████████████████████████████████| 1/1 [00:00<00:00,  1.60it/s]\n"
     ]
    },
    {
     "name": "stdout",
     "output_type": "stream",
     "text": [
      "Iter 4 - Epoch 0 - Client Type: Benign - Client Number 13 - Poison Training False\n"
     ]
    },
    {
     "name": "stderr",
     "output_type": "stream",
     "text": [
      "100%|████████████████████████████████████████████████████████████████████████████████████| 2/2 [00:01<00:00,  1.53it/s]\n"
     ]
    },
    {
     "name": "stdout",
     "output_type": "stream",
     "text": [
      "Iter 4 - Epoch 0 - Client Type: Benign - Client Number 14 - Poison Training False\n"
     ]
    },
    {
     "name": "stderr",
     "output_type": "stream",
     "text": [
      "100%|████████████████████████████████████████████████████████████████████████████████████| 2/2 [00:01<00:00,  1.13it/s]\n"
     ]
    },
    {
     "name": "stdout",
     "output_type": "stream",
     "text": [
      "Iter 4 - Epoch 0 - Client Type: Benign - Client Number 15 - Poison Training False\n"
     ]
    },
    {
     "name": "stderr",
     "output_type": "stream",
     "text": [
      "100%|████████████████████████████████████████████████████████████████████████████████████| 2/2 [00:01<00:00,  1.70it/s]\n"
     ]
    },
    {
     "name": "stdout",
     "output_type": "stream",
     "text": [
      "Iter 4 - Epoch 0 - Client Type: Benign - Client Number 16 - Poison Training False\n"
     ]
    },
    {
     "name": "stderr",
     "output_type": "stream",
     "text": [
      "100%|████████████████████████████████████████████████████████████████████████████████████| 1/1 [00:00<00:00,  1.11it/s]\n"
     ]
    },
    {
     "name": "stdout",
     "output_type": "stream",
     "text": [
      "Iter 4 - Epoch 0 - Client Type: Benign - Client Number 17 - Poison Training False\n"
     ]
    },
    {
     "name": "stderr",
     "output_type": "stream",
     "text": [
      "100%|████████████████████████████████████████████████████████████████████████████████████| 2/2 [00:01<00:00,  1.57it/s]\n"
     ]
    },
    {
     "name": "stdout",
     "output_type": "stream",
     "text": [
      "Iter 4 - Epoch 0 - Client Type: Benign - Client Number 18 - Poison Training False\n"
     ]
    },
    {
     "name": "stderr",
     "output_type": "stream",
     "text": [
      "100%|████████████████████████████████████████████████████████████████████████████████████| 2/2 [00:01<00:00,  1.72it/s]\n"
     ]
    },
    {
     "name": "stdout",
     "output_type": "stream",
     "text": [
      "Iter 4 - Epoch 0 - Client Type: Benign - Client Number 19 - Poison Training False\n"
     ]
    },
    {
     "name": "stderr",
     "output_type": "stream",
     "text": [
      "100%|████████████████████████████████████████████████████████████████████████████████████| 2/2 [00:01<00:00,  1.21it/s]\n"
     ]
    },
    {
     "name": "stdout",
     "output_type": "stream",
     "text": [
      "Original Copylist [8, 4, 8, 7, 0, 5, 3, 8, 8, 6, 8, 7, 2, 6, 1, 7, 4, 7, 0, 1]\n",
      "Found clusters [1 7 5 8 0 0 1 5 5 2 5 4 6 2 3 4 7 4 0 3]\n",
      "Original groups [array([ 4, 18], dtype=int64), array([14, 19], dtype=int64), array([12], dtype=int64), array([6], dtype=int64), array([ 1, 16], dtype=int64), array([5], dtype=int64), array([ 9, 13], dtype=int64), array([ 3, 11, 15, 17], dtype=int64), array([ 0,  2,  7,  8, 10], dtype=int64)]\n",
      "Clustered groups [array([ 4,  5, 18], dtype=int64), array([0, 6], dtype=int64), array([ 9, 13], dtype=int64), array([14, 19], dtype=int64), array([11, 15, 17], dtype=int64), array([ 2,  7,  8, 10], dtype=int64), array([12], dtype=int64), array([ 1, 16], dtype=int64), array([3], dtype=int64)]\n",
      "Clustering score 0.6935483870967742\n",
      "[[ 0.99999754  0.18560175  0.72901268  0.02289596  0.06427246  0.14738834\n",
      "   0.59509     0.73436861  0.67768526  0.06697919  0.68606226  0.09507714\n",
      "   0.1248698   0.14899956  0.18159932  0.11260989  0.14651625  0.11195272\n",
      "   0.10330984  0.08862822]\n",
      " [ 0.18560176  0.99999222  0.14693238  0.09296179  0.24809597  0.1220826\n",
      "   0.22304253  0.1579823   0.15451466  0.19479646  0.13252891  0.2012709\n",
      "  -0.00423214  0.19061735  0.24219009  0.21346686  0.9467887   0.19466704\n",
      "   0.27168014  0.11242202]\n",
      " [ 0.72901269  0.14693238  0.99999636  0.04411285  0.11238294  0.22256422\n",
      "   0.40692499  0.99250339  0.98520206  0.01783822  0.98660646  0.11796266\n",
      "   0.29826978  0.06141248  0.16528257  0.12453218  0.18500148  0.10894549\n",
      "   0.13565895  0.10381205]\n",
      " [ 0.02289596  0.09296179  0.04411285  0.99999179  0.29531218  0.40014377\n",
      "   0.0180566   0.0521053   0.06809715  0.28973676  0.05943413  0.77121243\n",
      "   0.23212261  0.37112724  0.27022319  0.75939866  0.07624563  0.80398089\n",
      "   0.28346827  0.32810785]\n",
      " [ 0.06427246  0.24809597  0.11238294  0.2953122   0.99999136  0.62164621\n",
      "   0.02037968  0.10558402  0.1064059   0.31167842  0.12801397  0.32766917\n",
      "   0.33702193  0.30571705  0.58219309  0.27281615  0.28402976  0.32040211\n",
      "   0.91346721  0.59409066]\n",
      " [ 0.14738834  0.1220826   0.22256422  0.40014375  0.62164622  0.99999318\n",
      "   0.03679492  0.2198945   0.22256284  0.4701848   0.2392597   0.4206337\n",
      "   0.33900471  0.4798041   0.64464842  0.32581066  0.15986544  0.4121961\n",
      "   0.61672806  0.64252944]\n",
      " [ 0.59509003  0.22304253  0.40692497  0.0180566   0.02037968  0.03679492\n",
      "   0.99999796  0.41882464  0.36628161  0.04602328  0.37753959  0.10659215\n",
      "  -0.1308107   0.05348395  0.06870093  0.12885065  0.20108672  0.10698397\n",
      "   0.10507588 -0.0282142 ]\n",
      " [ 0.7343686   0.1579823   0.99250335  0.0521053   0.10558403  0.2198945\n",
      "   0.41882464  0.99999474  0.98787927  0.01806421  0.98798384  0.13042338\n",
      "   0.30079146  0.06531155  0.1586535   0.13610323  0.19498536  0.12227046\n",
      "   0.13338731  0.09776534]\n",
      " [ 0.67768524  0.15451467  0.98520208  0.06809715  0.1064059   0.22256284\n",
      "   0.36628163  0.98787928  1.          0.0080759   0.98655129  0.14513641\n",
      "   0.32510196  0.05394224  0.14872454  0.14580969  0.19925464  0.12916257\n",
      "   0.13043159  0.09789774]\n",
      " [ 0.06697919  0.19479647  0.01783822  0.28973677  0.31167841  0.47018478\n",
      "   0.04602328  0.01806421  0.0080759   0.99999263  0.01899466  0.35521686\n",
      "   0.22132828  0.84962321  0.52807365  0.25667963  0.20867608  0.36034217\n",
      "   0.31817271  0.49290928]\n",
      " [ 0.68606226  0.1325289   0.98660645  0.05943413  0.12801397  0.23925969\n",
      "   0.37753958  0.9879838   0.98655134  0.01899466  0.99999577  0.13007846\n",
      "   0.32572209  0.06122978  0.16972859  0.13290449  0.180609    0.12067914\n",
      "   0.15244295  0.12164905]\n",
      " [ 0.09507713  0.2012709   0.11796266  0.77121245  0.32766916  0.4206337\n",
      "   0.10659214  0.13042339  0.14513641  0.35521684  0.13007846  0.9999897\n",
      "   0.19935289  0.39053934  0.30630701  0.85911904  0.1967986   0.87612226\n",
      "   0.32853919  0.34830861]\n",
      " [ 0.12486981 -0.00423214  0.29826978  0.23212261  0.33702192  0.33900472\n",
      "  -0.13081071  0.30079146  0.32510197  0.22132828  0.32572208  0.19935288\n",
      "   0.99999365  0.2979574   0.44056081  0.14774965  0.01306548  0.22050996\n",
      "   0.32582919  0.49878628]\n",
      " [ 0.14899957  0.19061735  0.06141247  0.37112726  0.30571705  0.4798041\n",
      "   0.05348395  0.06531154  0.05394224  0.84962327  0.06122977  0.39053933\n",
      "   0.2979574   0.99999112  0.54092821  0.32608156  0.17233563  0.42761138\n",
      "   0.30153092  0.48295024]\n",
      " [ 0.18159933  0.24219009  0.16528256  0.27022319  0.58219309  0.64464839\n",
      "   0.06870093  0.1586535   0.14872454  0.52807365  0.16972859  0.306307\n",
      "   0.44056081  0.5409282   0.99999196  0.20591439  0.21578678  0.32846014\n",
      "   0.59020362  0.88284961]\n",
      " [ 0.1126099   0.21346686  0.12453218  0.75939868  0.27281614  0.32581066\n",
      "   0.12885065  0.13610323  0.14580968  0.25667965  0.13290449  0.85911906\n",
      "   0.14774966  0.32608156  0.20591439  0.99999166  0.20943845  0.87232676\n",
      "   0.28158534  0.21535909]\n",
      " [ 0.14651625  0.94678869  0.18500148  0.07624562  0.28402976  0.15986544\n",
      "   0.20108672  0.19498536  0.19925462  0.20867607  0.180609    0.19679858\n",
      "   0.01306547  0.17233562  0.21578677  0.20943844  0.99999251  0.17161445\n",
      "   0.30124713  0.10621043]\n",
      " [ 0.11195271  0.19466704  0.10894548  0.80398088  0.32040213  0.41219609\n",
      "   0.10698399  0.12227045  0.12916257  0.36034218  0.12067915  0.87612226\n",
      "   0.22050997  0.42761137  0.32846014  0.87232675  0.17161445  0.99998889\n",
      "   0.33067647  0.32597635]\n",
      " [ 0.10330984  0.27168014  0.13565894  0.28346827  0.91346722  0.61672806\n",
      "   0.10507588  0.1333873   0.13043159  0.31817272  0.15244293  0.3285392\n",
      "   0.3258292   0.30153093  0.59020365  0.28158533  0.30124712  0.33067647\n",
      "   0.99998819  0.5842461 ]\n",
      " [ 0.08862822  0.11242202  0.10381205  0.32810785  0.59409066  0.64252942\n",
      "  -0.0282142   0.09776534  0.09789774  0.49290925  0.12164905  0.3483086\n",
      "   0.49878627  0.48295024  0.88284964  0.2153591   0.10621042  0.32597637\n",
      "   0.58424614  0.99999247]]\n",
      "Original Copylist [8, 4, 8, 7, 0, 5, 3, 8, 8, 6, 8, 7, 2, 6, 1, 7, 4, 7, 0, 1]\n",
      "Found clusters [0 2 0 1 7 8 6 0 0 4 0 1 5 4 3 1 2 1 7 3]\n",
      "Original groups [array([ 4, 18], dtype=int64), array([14, 19], dtype=int64), array([12], dtype=int64), array([6], dtype=int64), array([ 1, 16], dtype=int64), array([5], dtype=int64), array([ 9, 13], dtype=int64), array([ 3, 11, 15, 17], dtype=int64), array([ 0,  2,  7,  8, 10], dtype=int64)]\n",
      "Clustered groups [array([ 0,  2,  7,  8, 10], dtype=int64), array([ 3, 11, 15, 17], dtype=int64), array([ 1, 16], dtype=int64), array([14, 19], dtype=int64), array([ 9, 13], dtype=int64), array([12], dtype=int64), array([6], dtype=int64), array([ 4, 18], dtype=int64), array([5], dtype=int64)]\n",
      "Clustering score 1.0\n",
      "Benign net distance [tensor(68.9165), tensor(55.2191), tensor(56.3158), tensor(61.1919), tensor(29.1268), tensor(25.9058), tensor(112.3822), tensor(56.1890), tensor(56.3110), tensor(39.0166), tensor(54.0015), tensor(46.7797), tensor(45.1107), tensor(44.4222), tensor(15.6366), tensor(58.9979), tensor(51.4254), tensor(50.9325), tensor(29.0441), tensor(0.)]\n",
      "Malicious net distance []\n",
      "cos_sim list  [tensor(0.0389), tensor(0.1382), tensor(0.1398), tensor(0.2388), tensor(0.6883), tensor(0.7276), tensor(-0.0328), tensor(0.1301), tensor(0.1327), tensor(0.6078), tensor(0.1695), tensor(0.4113), tensor(0.3809), tensor(0.4935), tensor(0.9130), tensor(0.1724), tensor(0.1672), tensor(0.3014), tensor(0.6952), tensor(1.0000)]\n",
      "Norms of local gradients  [tensor(0.6313), tensor(0.4769), tensor(0.4670), tensor(0.8259), tensor(0.4655), tensor(0.4189), tensor(1.3840), tensor(0.4646), tensor(0.4701), tensor(0.5418), tensor(0.4501), tensor(0.5486), tensor(0.4565), tensor(0.5581), tensor(0.4264), tensor(0.6355), tensor(0.4213), tensor(0.5691), tensor(0.4511), tensor(0.4509)]\n",
      "\n",
      " Aggregating models\n",
      "Cosine Similarities:  [tensor(0.0389), tensor(0.1382), tensor(0.1398), tensor(0.2388), tensor(0.6883), tensor(0.7276), tensor(-0.0328), tensor(0.1301), tensor(0.1327), tensor(0.6078), tensor(0.1695), tensor(0.4113), tensor(0.3809), tensor(0.4935), tensor(0.9130), tensor(0.1724), tensor(0.1672), tensor(0.3014), tensor(0.6952), tensor(1.0000)]\n",
      "Aggregation Weights:  [0.00368096 0.01731724 0.01788176 0.01727244 0.08833449 0.10377017\n",
      " 0.         0.01673594 0.01686241 0.06701636 0.02250375 0.04479505\n",
      " 0.04985216 0.05282831 0.12794082 0.01621144 0.02371283 0.03164072\n",
      " 0.09206654 0.13251284]\n",
      "\n",
      "\n",
      "\n",
      "Aggregate test at iter  4\n"
     ]
    },
    {
     "name": "stderr",
     "output_type": "stream",
     "text": [
      "100%|██████████████████████████████████████████████████████████████████████████████████| 10/10 [00:02<00:00,  4.09it/s]\n"
     ]
    },
    {
     "name": "stdout",
     "output_type": "stream",
     "text": [
      "\n",
      "Test set: Avg. loss: 0.0008, Accuracy: 7188/10000 (72%)\n",
      "\n",
      "\n",
      "\n",
      " Entering epoch 0\n",
      "Iter 5 - Epoch 0 - Client Type: Benign - Client Number 0 - Poison Training False\n"
     ]
    },
    {
     "name": "stderr",
     "output_type": "stream",
     "text": [
      "100%|████████████████████████████████████████████████████████████████████████████████████| 1/1 [00:00<00:00,  1.20it/s]\n"
     ]
    },
    {
     "name": "stdout",
     "output_type": "stream",
     "text": [
      "Iter 5 - Epoch 0 - Client Type: Benign - Client Number 1 - Poison Training False\n"
     ]
    },
    {
     "name": "stderr",
     "output_type": "stream",
     "text": [
      "100%|████████████████████████████████████████████████████████████████████████████████████| 1/1 [00:00<00:00,  1.20it/s]\n"
     ]
    },
    {
     "name": "stdout",
     "output_type": "stream",
     "text": [
      "Iter 5 - Epoch 0 - Client Type: Benign - Client Number 2 - Poison Training False\n"
     ]
    },
    {
     "name": "stderr",
     "output_type": "stream",
     "text": [
      "100%|████████████████████████████████████████████████████████████████████████████████████| 1/1 [00:00<00:00,  1.16it/s]\n"
     ]
    },
    {
     "name": "stdout",
     "output_type": "stream",
     "text": [
      "Iter 5 - Epoch 0 - Client Type: Benign - Client Number 3 - Poison Training False\n"
     ]
    },
    {
     "name": "stderr",
     "output_type": "stream",
     "text": [
      "100%|████████████████████████████████████████████████████████████████████████████████████| 2/2 [00:01<00:00,  1.91it/s]\n"
     ]
    },
    {
     "name": "stdout",
     "output_type": "stream",
     "text": [
      "Iter 5 - Epoch 0 - Client Type: Benign - Client Number 4 - Poison Training False\n"
     ]
    },
    {
     "name": "stderr",
     "output_type": "stream",
     "text": [
      "100%|████████████████████████████████████████████████████████████████████████████████████| 2/2 [00:01<00:00,  1.43it/s]\n"
     ]
    },
    {
     "name": "stdout",
     "output_type": "stream",
     "text": [
      "Iter 5 - Epoch 0 - Client Type: Benign - Client Number 5 - Poison Training False\n"
     ]
    },
    {
     "name": "stderr",
     "output_type": "stream",
     "text": [
      "100%|████████████████████████████████████████████████████████████████████████████████████| 2/2 [00:01<00:00,  1.20it/s]\n"
     ]
    },
    {
     "name": "stdout",
     "output_type": "stream",
     "text": [
      "Iter 5 - Epoch 0 - Client Type: Benign - Client Number 6 - Poison Training False\n"
     ]
    },
    {
     "name": "stderr",
     "output_type": "stream",
     "text": [
      "100%|████████████████████████████████████████████████████████████████████████████████████| 2/2 [00:01<00:00,  1.37it/s]\n"
     ]
    },
    {
     "name": "stdout",
     "output_type": "stream",
     "text": [
      "Iter 5 - Epoch 0 - Client Type: Benign - Client Number 7 - Poison Training False\n"
     ]
    },
    {
     "name": "stderr",
     "output_type": "stream",
     "text": [
      "100%|████████████████████████████████████████████████████████████████████████████████████| 1/1 [00:00<00:00,  1.24it/s]\n"
     ]
    },
    {
     "name": "stdout",
     "output_type": "stream",
     "text": [
      "Iter 5 - Epoch 0 - Client Type: Benign - Client Number 8 - Poison Training False\n"
     ]
    },
    {
     "name": "stderr",
     "output_type": "stream",
     "text": [
      "100%|████████████████████████████████████████████████████████████████████████████████████| 1/1 [00:00<00:00,  1.10it/s]\n"
     ]
    },
    {
     "name": "stdout",
     "output_type": "stream",
     "text": [
      "Iter 5 - Epoch 0 - Client Type: Benign - Client Number 9 - Poison Training False\n"
     ]
    },
    {
     "name": "stderr",
     "output_type": "stream",
     "text": [
      "100%|████████████████████████████████████████████████████████████████████████████████████| 2/2 [00:01<00:00,  1.39it/s]\n"
     ]
    },
    {
     "name": "stdout",
     "output_type": "stream",
     "text": [
      "Iter 5 - Epoch 0 - Client Type: Benign - Client Number 10 - Poison Training False\n"
     ]
    },
    {
     "name": "stderr",
     "output_type": "stream",
     "text": [
      "100%|████████████████████████████████████████████████████████████████████████████████████| 1/1 [00:00<00:00,  1.17it/s]\n"
     ]
    },
    {
     "name": "stdout",
     "output_type": "stream",
     "text": [
      "Iter 5 - Epoch 0 - Client Type: Benign - Client Number 11 - Poison Training False\n"
     ]
    },
    {
     "name": "stderr",
     "output_type": "stream",
     "text": [
      "100%|████████████████████████████████████████████████████████████████████████████████████| 2/2 [00:01<00:00,  1.54it/s]\n"
     ]
    },
    {
     "name": "stdout",
     "output_type": "stream",
     "text": [
      "Iter 5 - Epoch 0 - Client Type: Benign - Client Number 12 - Poison Training False\n"
     ]
    },
    {
     "name": "stderr",
     "output_type": "stream",
     "text": [
      "100%|████████████████████████████████████████████████████████████████████████████████████| 1/1 [00:00<00:00,  1.81it/s]\n"
     ]
    },
    {
     "name": "stdout",
     "output_type": "stream",
     "text": [
      "Iter 5 - Epoch 0 - Client Type: Benign - Client Number 13 - Poison Training False\n"
     ]
    },
    {
     "name": "stderr",
     "output_type": "stream",
     "text": [
      "100%|████████████████████████████████████████████████████████████████████████████████████| 2/2 [00:01<00:00,  1.72it/s]\n"
     ]
    },
    {
     "name": "stdout",
     "output_type": "stream",
     "text": [
      "Iter 5 - Epoch 0 - Client Type: Benign - Client Number 14 - Poison Training False\n"
     ]
    },
    {
     "name": "stderr",
     "output_type": "stream",
     "text": [
      "100%|████████████████████████████████████████████████████████████████████████████████████| 2/2 [00:01<00:00,  1.41it/s]\n"
     ]
    },
    {
     "name": "stdout",
     "output_type": "stream",
     "text": [
      "Iter 5 - Epoch 0 - Client Type: Benign - Client Number 15 - Poison Training False\n"
     ]
    },
    {
     "name": "stderr",
     "output_type": "stream",
     "text": [
      "100%|████████████████████████████████████████████████████████████████████████████████████| 2/2 [00:01<00:00,  1.82it/s]\n"
     ]
    },
    {
     "name": "stdout",
     "output_type": "stream",
     "text": [
      "Iter 5 - Epoch 0 - Client Type: Benign - Client Number 16 - Poison Training False\n"
     ]
    },
    {
     "name": "stderr",
     "output_type": "stream",
     "text": [
      "100%|████████████████████████████████████████████████████████████████████████████████████| 1/1 [00:01<00:00,  1.08s/it]\n"
     ]
    },
    {
     "name": "stdout",
     "output_type": "stream",
     "text": [
      "Iter 5 - Epoch 0 - Client Type: Benign - Client Number 17 - Poison Training False\n"
     ]
    },
    {
     "name": "stderr",
     "output_type": "stream",
     "text": [
      "100%|████████████████████████████████████████████████████████████████████████████████████| 2/2 [00:01<00:00,  1.57it/s]\n"
     ]
    },
    {
     "name": "stdout",
     "output_type": "stream",
     "text": [
      "Iter 5 - Epoch 0 - Client Type: Benign - Client Number 18 - Poison Training False\n"
     ]
    },
    {
     "name": "stderr",
     "output_type": "stream",
     "text": [
      "100%|████████████████████████████████████████████████████████████████████████████████████| 2/2 [00:01<00:00,  1.42it/s]\n"
     ]
    },
    {
     "name": "stdout",
     "output_type": "stream",
     "text": [
      "Iter 5 - Epoch 0 - Client Type: Benign - Client Number 19 - Poison Training False\n"
     ]
    },
    {
     "name": "stderr",
     "output_type": "stream",
     "text": [
      "100%|████████████████████████████████████████████████████████████████████████████████████| 2/2 [00:01<00:00,  1.27it/s]\n"
     ]
    },
    {
     "name": "stdout",
     "output_type": "stream",
     "text": [
      "Original Copylist [8, 4, 8, 7, 0, 5, 3, 8, 8, 6, 8, 7, 2, 6, 1, 7, 4, 7, 0, 1]\n",
      "Found clusters [6 3 6 1 2 7 5 6 6 0 6 1 8 0 4 1 3 1 2 4]\n",
      "Original groups [array([ 4, 18], dtype=int64), array([14, 19], dtype=int64), array([12], dtype=int64), array([6], dtype=int64), array([ 1, 16], dtype=int64), array([5], dtype=int64), array([ 9, 13], dtype=int64), array([ 3, 11, 15, 17], dtype=int64), array([ 0,  2,  7,  8, 10], dtype=int64)]\n",
      "Clustered groups [array([ 9, 13], dtype=int64), array([ 3, 11, 15, 17], dtype=int64), array([ 4, 18], dtype=int64), array([ 1, 16], dtype=int64), array([14, 19], dtype=int64), array([6], dtype=int64), array([ 0,  2,  7,  8, 10], dtype=int64), array([5], dtype=int64), array([12], dtype=int64)]\n",
      "Clustering score 1.0\n",
      "[[ 0.99999747  0.31993849  0.86128136 -0.15665203  0.26683469  0.33618416\n",
      "   0.39907466  0.86378121  0.83546235 -0.09988886  0.83865457 -0.14136452\n",
      "   0.39646721  0.09201393  0.19589226 -0.06057026  0.31930636 -0.05120567\n",
      "   0.2627973   0.08605292]\n",
      " [ 0.31993848  0.99999504  0.29488293  0.11495946  0.46080777  0.2862381\n",
      "   0.20966329  0.31482174  0.30812972  0.15788675  0.29652757  0.16471803\n",
      "   0.08232366  0.28195836 -0.07381725  0.24993621  0.97188992  0.2274516\n",
      "   0.35916778 -0.14854262]\n",
      " [ 0.86128136  0.29488292  0.99999616 -0.16000249  0.29269397  0.36020698\n",
      "   0.28887409  0.9946209   0.99075396 -0.13144434  0.99045438 -0.14205358\n",
      "   0.48823874  0.04434812  0.20155991 -0.0674551   0.33357961 -0.06540529\n",
      "   0.28393354  0.11110386]\n",
      " [-0.15665204  0.11495946 -0.16000248  0.99999811  0.11899694  0.2164466\n",
      "   0.04896214 -0.15434995 -0.15331731  0.14379216 -0.14813395  0.83698916\n",
      "  -0.12153305  0.210939   -0.16988663  0.83570251  0.09374288  0.84970541\n",
      "   0.07597886 -0.13318454]\n",
      " [ 0.26683471  0.46080777  0.29269397  0.11899695  0.99999223  0.55843913\n",
      "   0.07332251  0.295502    0.2948478   0.1290429   0.29651133  0.13719163\n",
      "   0.31775738  0.23045056  0.34166386  0.16707657  0.48249408  0.24118254\n",
      "   0.90843801  0.32700091]\n",
      " [ 0.33618416  0.2862381   0.36020697  0.21644659  0.55843913  0.99999028\n",
      "   0.075498    0.35833775  0.36404752  0.19008075  0.36712057  0.23986912\n",
      "   0.20352295  0.3640596   0.33034475  0.24035945  0.31110283  0.29489689\n",
      "   0.52175723  0.27026064]\n",
      " [ 0.39907468  0.20966329  0.28887409  0.04896214  0.07332251  0.075498\n",
      "   1.          0.30000868  0.28684647 -0.02297756  0.28850888  0.0725492\n",
      "   0.09228389 -0.02128452 -0.03208436  0.11050327  0.20581869  0.10032641\n",
      "   0.08357258 -0.07680123]\n",
      " [ 0.86378124  0.31482174  0.99462088 -0.15434995  0.29550202  0.35833774\n",
      "   0.30000869  0.99999571  0.99216408 -0.11834738  0.99232683 -0.13419298\n",
      "   0.49778577  0.05361649  0.18691861 -0.05843638  0.35269225 -0.05374764\n",
      "   0.28563319  0.09857532]\n",
      " [ 0.83546234  0.30812973  0.99075396 -0.15331729  0.29484781  0.36404755\n",
      "   0.28684648  0.99216408  0.99999846 -0.13383054  0.99066167 -0.134265\n",
      "   0.50622462  0.04144172  0.18927556 -0.05917783  0.35037822 -0.05674378\n",
      "   0.28527176  0.10520461]\n",
      " [-0.09988887  0.15788676 -0.13144435  0.14379216  0.12904289  0.19008073\n",
      "  -0.02297756 -0.11834737 -0.13383054  0.99999281 -0.11872142  0.26196805\n",
      "   0.12732087  0.79506592  0.30621741  0.15432917  0.14688562  0.11934334\n",
      "   0.04884769  0.3316002 ]\n",
      " [ 0.83865457  0.29652757  0.99045438 -0.14813395  0.29651133  0.36712057\n",
      "   0.28850887  0.99232681  0.99066169 -0.11872142  0.999997   -0.13209017\n",
      "   0.51745677  0.04699787  0.18442434 -0.05812756  0.34047108 -0.05143592\n",
      "   0.28585684  0.10584779]\n",
      " [-0.14136453  0.16471803 -0.14205358  0.83698917  0.13719162  0.23986912\n",
      "   0.0725492  -0.13419299 -0.13426498  0.26196805 -0.13209016  0.99999707\n",
      "  -0.13003791  0.29403044 -0.12835622  0.89147756  0.14888561  0.85086332\n",
      "   0.08425553 -0.06960823]\n",
      " [ 0.39646724  0.08232366  0.48823876 -0.12153307  0.31775738  0.20352295\n",
      "   0.09228389  0.49778575  0.50622465  0.12732087  0.51745676 -0.13003791\n",
      "   0.99999564  0.14757372  0.40173432 -0.13751088  0.10871548 -0.05983038\n",
      "   0.33395802  0.43579073]\n",
      " [ 0.09201393  0.28195836  0.04434812  0.210939    0.23045057  0.3640596\n",
      "  -0.02128451  0.05361648  0.04144172  0.79506595  0.04699786  0.29403043\n",
      "   0.14757372  0.99999092  0.33014249  0.24653032  0.26274801  0.20768971\n",
      "   0.11198607  0.33041107]\n",
      " [ 0.19589226 -0.07381725  0.2015599  -0.1698866   0.34166386  0.33034474\n",
      "  -0.03208435  0.18691862  0.18927556  0.30621741  0.18442434 -0.12835623\n",
      "   0.40173432  0.33014249  0.99999032 -0.2069871  -0.07942897 -0.14109663\n",
      "   0.40604202  0.9173579 ]\n",
      " [-0.06057026  0.24993621 -0.0674551   0.83570249  0.16707656  0.24035945\n",
      "   0.11050327 -0.05843638 -0.05917784  0.15432917 -0.05812755  0.8914776\n",
      "  -0.13751086  0.24653032 -0.2069871   0.99999399  0.23707642  0.87923774\n",
      "   0.10666782 -0.18581854]\n",
      " [ 0.31930636  0.97188992  0.33357961  0.09374288  0.48249408  0.31110285\n",
      "   0.20581869  0.35269225  0.35037821  0.14688562  0.34047108  0.1488856\n",
      "   0.10871549  0.262748   -0.07942898  0.23707642  0.99999435  0.20709724\n",
      "   0.38116679 -0.1442983 ]\n",
      " [-0.05120567  0.22745162 -0.06540529  0.84970543  0.24118255  0.29489688\n",
      "   0.10032642 -0.05374765 -0.05674377  0.11934334 -0.05143591  0.85086335\n",
      "  -0.05983037  0.20768971 -0.14109663  0.87923774  0.20709725  0.9999932\n",
      "   0.22706754 -0.13656212]\n",
      " [ 0.2627973   0.35916778  0.28393353  0.07597885  0.90843801  0.52175721\n",
      "   0.08357258  0.28563319  0.28527177  0.04884769  0.28585685  0.08425552\n",
      "   0.33395802  0.11198607  0.40604204  0.10666781  0.38116679  0.22706754\n",
      "   0.99999101  0.37483817]\n",
      " [ 0.08605292 -0.14854262  0.11110386 -0.13318451  0.32700091  0.27026063\n",
      "  -0.07680123  0.09857532  0.10520462  0.33160019  0.10584779 -0.06960822\n",
      "   0.43579072  0.33041107  0.91735791 -0.18581854 -0.1442983  -0.13656211\n",
      "   0.37483819  0.99999416]]\n",
      "Original Copylist [8, 4, 8, 7, 0, 5, 3, 8, 8, 6, 8, 7, 2, 6, 1, 7, 4, 7, 0, 1]\n",
      "Found clusters [2 6 2 1 4 8 7 2 2 0 2 1 3 0 5 1 6 1 4 5]\n",
      "Original groups [array([ 4, 18], dtype=int64), array([14, 19], dtype=int64), array([12], dtype=int64), array([6], dtype=int64), array([ 1, 16], dtype=int64), array([5], dtype=int64), array([ 9, 13], dtype=int64), array([ 3, 11, 15, 17], dtype=int64), array([ 0,  2,  7,  8, 10], dtype=int64)]\n",
      "Clustered groups [array([ 9, 13], dtype=int64), array([ 3, 11, 15, 17], dtype=int64), array([ 0,  2,  7,  8, 10], dtype=int64), array([12], dtype=int64), array([ 4, 18], dtype=int64), array([14, 19], dtype=int64), array([ 1, 16], dtype=int64), array([6], dtype=int64), array([5], dtype=int64)]\n",
      "Clustering score 1.0\n",
      "\n",
      "\n",
      " Entering epoch 1\n",
      "Iter 5 - Epoch 0 - Client Type: Benign - Client Number 0 - Poison Training False\n"
     ]
    },
    {
     "name": "stderr",
     "output_type": "stream",
     "text": [
      "100%|████████████████████████████████████████████████████████████████████████████████████| 1/1 [00:00<00:00,  1.38it/s]\n"
     ]
    },
    {
     "name": "stdout",
     "output_type": "stream",
     "text": [
      "Iter 5 - Epoch 0 - Client Type: Benign - Client Number 1 - Poison Training False\n"
     ]
    },
    {
     "name": "stderr",
     "output_type": "stream",
     "text": [
      "100%|████████████████████████████████████████████████████████████████████████████████████| 1/1 [00:00<00:00,  1.06it/s]\n"
     ]
    },
    {
     "name": "stdout",
     "output_type": "stream",
     "text": [
      "Iter 5 - Epoch 0 - Client Type: Benign - Client Number 2 - Poison Training False\n"
     ]
    },
    {
     "name": "stderr",
     "output_type": "stream",
     "text": [
      "100%|████████████████████████████████████████████████████████████████████████████████████| 1/1 [00:00<00:00,  1.07it/s]\n"
     ]
    },
    {
     "name": "stdout",
     "output_type": "stream",
     "text": [
      "Iter 5 - Epoch 0 - Client Type: Benign - Client Number 3 - Poison Training False\n"
     ]
    },
    {
     "name": "stderr",
     "output_type": "stream",
     "text": [
      "100%|████████████████████████████████████████████████████████████████████████████████████| 2/2 [00:01<00:00,  1.45it/s]\n"
     ]
    },
    {
     "name": "stdout",
     "output_type": "stream",
     "text": [
      "Iter 5 - Epoch 0 - Client Type: Benign - Client Number 4 - Poison Training False\n"
     ]
    },
    {
     "name": "stderr",
     "output_type": "stream",
     "text": [
      "100%|████████████████████████████████████████████████████████████████████████████████████| 2/2 [00:01<00:00,  1.25it/s]\n"
     ]
    },
    {
     "name": "stdout",
     "output_type": "stream",
     "text": [
      "Iter 5 - Epoch 0 - Client Type: Benign - Client Number 5 - Poison Training False\n"
     ]
    },
    {
     "name": "stderr",
     "output_type": "stream",
     "text": [
      "100%|████████████████████████████████████████████████████████████████████████████████████| 2/2 [00:01<00:00,  1.13it/s]\n"
     ]
    },
    {
     "name": "stdout",
     "output_type": "stream",
     "text": [
      "Iter 5 - Epoch 0 - Client Type: Benign - Client Number 6 - Poison Training False\n"
     ]
    },
    {
     "name": "stderr",
     "output_type": "stream",
     "text": [
      "100%|████████████████████████████████████████████████████████████████████████████████████| 2/2 [00:01<00:00,  1.27it/s]\n"
     ]
    },
    {
     "name": "stdout",
     "output_type": "stream",
     "text": [
      "Iter 5 - Epoch 0 - Client Type: Benign - Client Number 7 - Poison Training False\n"
     ]
    },
    {
     "name": "stderr",
     "output_type": "stream",
     "text": [
      "100%|████████████████████████████████████████████████████████████████████████████████████| 1/1 [00:01<00:00,  1.00s/it]\n"
     ]
    },
    {
     "name": "stdout",
     "output_type": "stream",
     "text": [
      "Iter 5 - Epoch 0 - Client Type: Benign - Client Number 8 - Poison Training False\n"
     ]
    },
    {
     "name": "stderr",
     "output_type": "stream",
     "text": [
      "100%|████████████████████████████████████████████████████████████████████████████████████| 1/1 [00:00<00:00,  1.07it/s]\n"
     ]
    },
    {
     "name": "stdout",
     "output_type": "stream",
     "text": [
      "Iter 5 - Epoch 0 - Client Type: Benign - Client Number 9 - Poison Training False\n"
     ]
    },
    {
     "name": "stderr",
     "output_type": "stream",
     "text": [
      "100%|████████████████████████████████████████████████████████████████████████████████████| 2/2 [00:01<00:00,  1.60it/s]\n"
     ]
    },
    {
     "name": "stdout",
     "output_type": "stream",
     "text": [
      "Iter 5 - Epoch 0 - Client Type: Benign - Client Number 10 - Poison Training False\n"
     ]
    },
    {
     "name": "stderr",
     "output_type": "stream",
     "text": [
      "100%|████████████████████████████████████████████████████████████████████████████████████| 1/1 [00:00<00:00,  1.24it/s]\n"
     ]
    },
    {
     "name": "stdout",
     "output_type": "stream",
     "text": [
      "Iter 5 - Epoch 0 - Client Type: Benign - Client Number 11 - Poison Training False\n"
     ]
    },
    {
     "name": "stderr",
     "output_type": "stream",
     "text": [
      "100%|████████████████████████████████████████████████████████████████████████████████████| 2/2 [00:01<00:00,  1.79it/s]\n"
     ]
    },
    {
     "name": "stdout",
     "output_type": "stream",
     "text": [
      "Iter 5 - Epoch 0 - Client Type: Benign - Client Number 12 - Poison Training False\n"
     ]
    },
    {
     "name": "stderr",
     "output_type": "stream",
     "text": [
      "100%|████████████████████████████████████████████████████████████████████████████████████| 1/1 [00:00<00:00,  1.88it/s]\n"
     ]
    },
    {
     "name": "stdout",
     "output_type": "stream",
     "text": [
      "Iter 5 - Epoch 0 - Client Type: Benign - Client Number 13 - Poison Training False\n"
     ]
    },
    {
     "name": "stderr",
     "output_type": "stream",
     "text": [
      "100%|████████████████████████████████████████████████████████████████████████████████████| 2/2 [00:01<00:00,  1.60it/s]\n"
     ]
    },
    {
     "name": "stdout",
     "output_type": "stream",
     "text": [
      "Iter 5 - Epoch 0 - Client Type: Benign - Client Number 14 - Poison Training False\n"
     ]
    },
    {
     "name": "stderr",
     "output_type": "stream",
     "text": [
      "100%|████████████████████████████████████████████████████████████████████████████████████| 2/2 [00:01<00:00,  1.29it/s]\n"
     ]
    },
    {
     "name": "stdout",
     "output_type": "stream",
     "text": [
      "Iter 5 - Epoch 0 - Client Type: Benign - Client Number 15 - Poison Training False\n"
     ]
    },
    {
     "name": "stderr",
     "output_type": "stream",
     "text": [
      "100%|████████████████████████████████████████████████████████████████████████████████████| 2/2 [00:01<00:00,  1.70it/s]\n"
     ]
    },
    {
     "name": "stdout",
     "output_type": "stream",
     "text": [
      "Iter 5 - Epoch 0 - Client Type: Benign - Client Number 16 - Poison Training False\n"
     ]
    },
    {
     "name": "stderr",
     "output_type": "stream",
     "text": [
      "100%|████████████████████████████████████████████████████████████████████████████████████| 1/1 [00:01<00:00,  1.02s/it]\n"
     ]
    },
    {
     "name": "stdout",
     "output_type": "stream",
     "text": [
      "Iter 5 - Epoch 0 - Client Type: Benign - Client Number 17 - Poison Training False\n"
     ]
    },
    {
     "name": "stderr",
     "output_type": "stream",
     "text": [
      "100%|████████████████████████████████████████████████████████████████████████████████████| 2/2 [00:01<00:00,  1.78it/s]\n"
     ]
    },
    {
     "name": "stdout",
     "output_type": "stream",
     "text": [
      "Iter 5 - Epoch 0 - Client Type: Benign - Client Number 18 - Poison Training False\n"
     ]
    },
    {
     "name": "stderr",
     "output_type": "stream",
     "text": [
      "100%|████████████████████████████████████████████████████████████████████████████████████| 2/2 [00:01<00:00,  1.62it/s]\n"
     ]
    },
    {
     "name": "stdout",
     "output_type": "stream",
     "text": [
      "Iter 5 - Epoch 0 - Client Type: Benign - Client Number 19 - Poison Training False\n"
     ]
    },
    {
     "name": "stderr",
     "output_type": "stream",
     "text": [
      "100%|████████████████████████████████████████████████████████████████████████████████████| 2/2 [00:01<00:00,  1.30it/s]\n"
     ]
    },
    {
     "name": "stdout",
     "output_type": "stream",
     "text": [
      "Original Copylist [8, 4, 8, 7, 0, 5, 3, 8, 8, 6, 8, 7, 2, 6, 1, 7, 4, 7, 0, 1]\n",
      "Found clusters [0 4 0 7 1 6 8 0 0 5 0 7 0 2 3 7 4 7 1 3]\n",
      "Original groups [array([ 4, 18], dtype=int64), array([14, 19], dtype=int64), array([12], dtype=int64), array([6], dtype=int64), array([ 1, 16], dtype=int64), array([5], dtype=int64), array([ 9, 13], dtype=int64), array([ 3, 11, 15, 17], dtype=int64), array([ 0,  2,  7,  8, 10], dtype=int64)]\n",
      "Clustered groups [array([ 0,  2,  7,  8, 10, 12], dtype=int64), array([ 4, 18], dtype=int64), array([13], dtype=int64), array([14, 19], dtype=int64), array([ 1, 16], dtype=int64), array([9], dtype=int64), array([5], dtype=int64), array([ 3, 11, 15, 17], dtype=int64), array([6], dtype=int64)]\n",
      "Clustering score 0.845945945945946\n",
      "[[ 9.99992713e-01 -6.01347870e-03  9.24888899e-01 -1.99231261e-01\n",
      "   5.26366339e-02  2.91242814e-01  1.94753894e-01  9.25470411e-01\n",
      "   9.05472840e-01 -9.53781296e-02  9.08315788e-01 -2.06728476e-01\n",
      "   5.22776981e-01  1.22608640e-02  2.85282088e-01 -1.40924415e-01\n",
      "  -1.27973356e-03 -1.42793112e-01  1.23810400e-01  2.64956923e-01]\n",
      " [-6.01349919e-03  9.99995316e-01 -2.32204304e-02  9.14519700e-02\n",
      "   3.24894701e-01  1.65902754e-01  1.58328600e-01 -6.75834812e-03\n",
      "   2.13063387e-03  1.32840612e-01 -2.86017107e-02  1.31219937e-01\n",
      "  -9.65521193e-02  1.82974506e-01 -3.85883475e-02  1.65443154e-01\n",
      "   9.82736727e-01  1.36400702e-01  3.91960629e-01  9.77443877e-03]\n",
      " [ 9.24888899e-01 -2.32204388e-02  9.99992537e-01 -2.05486617e-01\n",
      "   5.50975933e-02  2.92253226e-01  1.38661185e-01  9.92914764e-01\n",
      "   9.86403599e-01 -1.01273253e-01  9.86783335e-01 -2.13022308e-01\n",
      "   5.69779403e-01  2.01992229e-03  2.86113276e-01 -1.51980968e-01\n",
      "   7.23418964e-04 -1.56587655e-01  1.23856344e-01  2.77171795e-01]\n",
      " [-1.99231268e-01  9.14519699e-02 -2.05486610e-01  9.99992617e-01\n",
      "   1.56101951e-01  2.01690239e-01  1.42673229e-01 -2.02139838e-01\n",
      "  -1.86394380e-01  1.84225538e-01 -1.88719997e-01  8.91726816e-01\n",
      "  -1.58182175e-01  1.17850422e-01 -8.58670214e-02  8.79665382e-01\n",
      "   8.93521333e-02  8.79342410e-01  1.34060265e-01 -7.99045438e-02]\n",
      " [ 5.26366488e-02  3.24894700e-01  5.50975859e-02  1.56101958e-01\n",
      "   9.99988427e-01  4.07940998e-01 -4.08623999e-03  5.09436953e-02\n",
      "   3.40523552e-02  1.73590590e-01  4.72288615e-02  1.78623834e-01\n",
      "   1.26314155e-01  3.28971740e-02  2.04752972e-01  2.15078052e-01\n",
      "   3.17076260e-01  2.61448694e-01  8.26279389e-01  2.19040802e-01]\n",
      " [ 2.91242813e-01  1.65902752e-01  2.92253219e-01  2.01690235e-01\n",
      "   4.07941002e-01  9.99986855e-01  1.89846042e-01  2.92907919e-01\n",
      "   2.98289794e-01  1.49951613e-01  3.02207867e-01  2.21537306e-01\n",
      "   1.02847220e-01  2.34942361e-01  2.19710343e-01  2.44732501e-01\n",
      "   1.80437976e-01  2.83461451e-01  4.57384523e-01  1.60113721e-01]\n",
      " [ 1.94753905e-01  1.58328601e-01  1.38661185e-01  1.42673237e-01\n",
      "  -4.08623996e-03  1.89846056e-01  1.00000000e+00  1.50876698e-01\n",
      "   1.79029186e-01  1.35511509e-02  1.57683835e-01  1.68028414e-01\n",
      "   5.78277176e-02  1.85561995e-01 -1.71304777e-01  1.55902112e-01\n",
      "   1.60185134e-01  1.10779901e-01  9.19899200e-02 -2.25759210e-01]\n",
      " [ 9.25470393e-01 -6.75836307e-03  9.92914782e-01 -2.02139837e-01\n",
      "   5.09437048e-02  2.92907910e-01  1.50876702e-01  9.99991476e-01\n",
      "   9.88423459e-01 -1.00532103e-01  9.90500232e-01 -2.05752028e-01\n",
      "   5.86509186e-01  1.19821249e-02  2.86715286e-01 -1.47111867e-01\n",
      "   1.80293241e-02 -1.48444465e-01  1.30968456e-01  2.77169618e-01]\n",
      " [ 9.05472835e-01  2.13063587e-03  9.86403574e-01 -1.86394371e-01\n",
      "   3.40523552e-02  2.98289801e-01  1.79029194e-01  9.88423491e-01\n",
      "   9.99991421e-01 -1.13031873e-01  9.86949084e-01 -1.93161522e-01\n",
      "   5.90866402e-01  2.74845803e-02  2.88937940e-01 -1.35292275e-01\n",
      "   3.09654667e-02 -1.43247435e-01  1.30460782e-01  2.77273856e-01]\n",
      " [-9.53781368e-02  1.32840614e-01 -1.01273260e-01  1.84225539e-01\n",
      "   1.73590582e-01  1.49951611e-01  1.35511512e-02 -1.00532091e-01\n",
      "  -1.13031869e-01  9.99990205e-01 -1.03802602e-01  2.54422849e-01\n",
      "   6.58961781e-02  5.24218942e-01  1.26720631e-01  2.06824904e-01\n",
      "   1.15557465e-01  1.95954884e-01  5.56518997e-02  1.67554474e-01]\n",
      " [ 9.08315758e-01 -2.86017116e-02  9.86783334e-01 -1.88719996e-01\n",
      "   4.72288709e-02  3.02207865e-01  1.57683828e-01  9.90500222e-01\n",
      "   9.86949097e-01 -1.03802601e-01  9.99990633e-01 -1.94259727e-01\n",
      "   6.03588479e-01  1.47864834e-02  2.81366496e-01 -1.36751208e-01\n",
      "   1.59104978e-03 -1.38418944e-01  1.25162356e-01  2.74587611e-01]\n",
      " [-2.06728478e-01  1.31219937e-01 -2.13022309e-01  8.91726821e-01\n",
      "   1.78623825e-01  2.21537305e-01  1.68028412e-01 -2.05752048e-01\n",
      "  -1.93161514e-01  2.54422846e-01 -1.94259720e-01  9.99991142e-01\n",
      "  -1.71179026e-01  1.46223099e-01 -1.00586890e-01  9.04434992e-01\n",
      "   1.32246450e-01  8.69785031e-01  1.54062608e-01 -7.70192838e-02]\n",
      " [ 5.22776996e-01 -9.65521198e-02  5.69779418e-01 -1.58182183e-01\n",
      "   1.26314151e-01  1.02847222e-01  5.78277158e-02  5.86509142e-01\n",
      "   5.90866449e-01  6.58961787e-02  6.03588478e-01 -1.71179027e-01\n",
      "   9.99993112e-01  1.26104548e-01  4.62809605e-01 -1.73957490e-01\n",
      "  -8.36787664e-02 -1.22093866e-01  2.12872524e-01  4.69535052e-01]\n",
      " [ 1.22608644e-02  1.82974506e-01  2.01992241e-03  1.17850425e-01\n",
      "   3.28971703e-02  2.34942361e-01  1.85562012e-01  1.19821229e-02\n",
      "   2.74845799e-02  5.24218957e-01  1.47864816e-02  1.46223095e-01\n",
      "   1.26104548e-01  9.99989140e-01  1.86778521e-01  1.04741754e-01\n",
      "   1.66765084e-01  9.88621796e-02  1.90978836e-02  1.60229521e-01]\n",
      " [ 2.85282085e-01 -3.85883473e-02  2.86113274e-01 -8.58670056e-02\n",
      "   2.04752970e-01  2.19710338e-01 -1.71304790e-01  2.86715290e-01\n",
      "   2.88937940e-01  1.26720629e-01  2.81366496e-01 -1.00586893e-01\n",
      "   4.62809576e-01  1.86778519e-01  9.99987413e-01 -1.22486496e-01\n",
      "  -3.28329304e-02 -2.84200708e-02  2.93984184e-01  8.83104659e-01]\n",
      " [-1.40924417e-01  1.65443154e-01 -1.51980967e-01  8.79665371e-01\n",
      "   2.15078047e-01  2.44732507e-01  1.55902120e-01 -1.47111860e-01\n",
      "  -1.35292269e-01  2.06824906e-01 -1.36751212e-01  9.04435011e-01\n",
      "  -1.73957481e-01  1.04741756e-01 -1.22486494e-01  9.99990140e-01\n",
      "   1.64663016e-01  8.99652951e-01  1.80404617e-01 -9.39542217e-02]\n",
      " [-1.27973356e-03  9.82736726e-01  7.23418955e-04  8.93521305e-02\n",
      "   3.17076259e-01  1.80437984e-01  1.60185128e-01  1.80293231e-02\n",
      "   3.09654778e-02  1.15557467e-01  1.59105093e-03  1.32246450e-01\n",
      "  -8.36787784e-02  1.66765080e-01 -3.28329314e-02  1.64663016e-01\n",
      "   9.99995329e-01  1.33281681e-01  3.98058455e-01  1.67706943e-02]\n",
      " [-1.42793116e-01  1.36400709e-01 -1.56587646e-01  8.79342420e-01\n",
      "   2.61448699e-01  2.83461446e-01  1.10779906e-01 -1.48444479e-01\n",
      "  -1.43247431e-01  1.95954885e-01 -1.38418945e-01  8.69785075e-01\n",
      "  -1.22093864e-01  9.88621777e-02 -2.84200709e-02  8.99652950e-01\n",
      "   1.33281682e-01  9.99988791e-01  2.30295787e-01 -3.54318328e-02]\n",
      " [ 1.23810400e-01  3.91960629e-01  1.23856342e-01  1.34060263e-01\n",
      "   8.26279394e-01  4.57384517e-01  9.19899171e-02  1.30968454e-01\n",
      "   1.30460790e-01  5.56519035e-02  1.25162362e-01  1.54062605e-01\n",
      "   2.12872527e-01  1.90978856e-02  2.93984192e-01  1.80404614e-01\n",
      "   3.98058454e-01  2.30295793e-01  9.99985906e-01  3.18548125e-01]\n",
      " [ 2.64956908e-01  9.77444638e-03  2.77171781e-01 -7.99045299e-02\n",
      "   2.19040803e-01  1.60113717e-01 -2.25759210e-01  2.77169619e-01\n",
      "   2.77273858e-01  1.67554467e-01  2.74587611e-01 -7.70192820e-02\n",
      "   4.69535048e-01  1.60229522e-01  8.83104667e-01 -9.39542209e-02\n",
      "   1.67706921e-02 -3.54318291e-02  3.18548148e-01  9.99989092e-01]]\n",
      "Original Copylist [8, 4, 8, 7, 0, 5, 3, 8, 8, 6, 8, 7, 2, 6, 1, 7, 4, 7, 0, 1]\n",
      "Found clusters [3 5 3 2 1 7 4 3 3 0 3 2 8 0 6 2 5 2 1 6]\n",
      "Original groups [array([ 4, 18], dtype=int64), array([14, 19], dtype=int64), array([12], dtype=int64), array([6], dtype=int64), array([ 1, 16], dtype=int64), array([5], dtype=int64), array([ 9, 13], dtype=int64), array([ 3, 11, 15, 17], dtype=int64), array([ 0,  2,  7,  8, 10], dtype=int64)]\n",
      "Clustered groups [array([ 9, 13], dtype=int64), array([ 4, 18], dtype=int64), array([ 3, 11, 15, 17], dtype=int64), array([ 0,  2,  7,  8, 10], dtype=int64), array([6], dtype=int64), array([ 1, 16], dtype=int64), array([14, 19], dtype=int64), array([5], dtype=int64), array([12], dtype=int64)]\n",
      "Clustering score 1.0\n",
      "\n",
      "\n",
      " Entering epoch 2\n",
      "Iter 5 - Epoch 0 - Client Type: Benign - Client Number 0 - Poison Training False\n"
     ]
    },
    {
     "name": "stderr",
     "output_type": "stream",
     "text": [
      "100%|████████████████████████████████████████████████████████████████████████████████████| 1/1 [00:00<00:00,  1.19it/s]\n"
     ]
    },
    {
     "name": "stdout",
     "output_type": "stream",
     "text": [
      "Iter 5 - Epoch 0 - Client Type: Benign - Client Number 1 - Poison Training False\n"
     ]
    },
    {
     "name": "stderr",
     "output_type": "stream",
     "text": [
      "100%|████████████████████████████████████████████████████████████████████████████████████| 1/1 [00:00<00:00,  1.10it/s]\n"
     ]
    },
    {
     "name": "stdout",
     "output_type": "stream",
     "text": [
      "Iter 5 - Epoch 0 - Client Type: Benign - Client Number 2 - Poison Training False\n"
     ]
    },
    {
     "name": "stderr",
     "output_type": "stream",
     "text": [
      "100%|████████████████████████████████████████████████████████████████████████████████████| 1/1 [00:00<00:00,  1.09it/s]\n"
     ]
    },
    {
     "name": "stdout",
     "output_type": "stream",
     "text": [
      "Iter 5 - Epoch 0 - Client Type: Benign - Client Number 3 - Poison Training False\n"
     ]
    },
    {
     "name": "stderr",
     "output_type": "stream",
     "text": [
      "100%|████████████████████████████████████████████████████████████████████████████████████| 2/2 [00:01<00:00,  1.75it/s]\n"
     ]
    },
    {
     "name": "stdout",
     "output_type": "stream",
     "text": [
      "Iter 5 - Epoch 0 - Client Type: Benign - Client Number 4 - Poison Training False\n"
     ]
    },
    {
     "name": "stderr",
     "output_type": "stream",
     "text": [
      "100%|████████████████████████████████████████████████████████████████████████████████████| 2/2 [00:01<00:00,  1.77it/s]\n"
     ]
    },
    {
     "name": "stdout",
     "output_type": "stream",
     "text": [
      "Iter 5 - Epoch 0 - Client Type: Benign - Client Number 5 - Poison Training False\n"
     ]
    },
    {
     "name": "stderr",
     "output_type": "stream",
     "text": [
      "100%|████████████████████████████████████████████████████████████████████████████████████| 2/2 [00:01<00:00,  1.27it/s]\n"
     ]
    },
    {
     "name": "stdout",
     "output_type": "stream",
     "text": [
      "Iter 5 - Epoch 0 - Client Type: Benign - Client Number 6 - Poison Training False\n"
     ]
    },
    {
     "name": "stderr",
     "output_type": "stream",
     "text": [
      "100%|████████████████████████████████████████████████████████████████████████████████████| 2/2 [00:01<00:00,  1.34it/s]\n"
     ]
    },
    {
     "name": "stdout",
     "output_type": "stream",
     "text": [
      "Iter 5 - Epoch 0 - Client Type: Benign - Client Number 7 - Poison Training False\n"
     ]
    },
    {
     "name": "stderr",
     "output_type": "stream",
     "text": [
      "100%|████████████████████████████████████████████████████████████████████████████████████| 1/1 [00:00<00:00,  1.29it/s]\n"
     ]
    },
    {
     "name": "stdout",
     "output_type": "stream",
     "text": [
      "Iter 5 - Epoch 0 - Client Type: Benign - Client Number 8 - Poison Training False\n"
     ]
    },
    {
     "name": "stderr",
     "output_type": "stream",
     "text": [
      "100%|████████████████████████████████████████████████████████████████████████████████████| 1/1 [00:00<00:00,  1.23it/s]\n"
     ]
    },
    {
     "name": "stdout",
     "output_type": "stream",
     "text": [
      "Iter 5 - Epoch 0 - Client Type: Benign - Client Number 9 - Poison Training False\n"
     ]
    },
    {
     "name": "stderr",
     "output_type": "stream",
     "text": [
      "100%|████████████████████████████████████████████████████████████████████████████████████| 2/2 [00:01<00:00,  1.70it/s]\n"
     ]
    }
   ],
   "source": [
    "fl = CustomFL(n_iter=n_iter, n_epochs=n_epochs, poison_starts_at_iter=poison_starts_at_iter, num_of_benign_nets=num_of_workers-num_of_mal_workers, num_of_mal_nets=num_of_mal_workers, \n",
    "              inertia=inertia, momentum=momentum,\n",
    "              attack_type=attack_type, scale_up=scale_up, minimizeDist=minimizeDist\n",
    ")\n",
    "fl.train()"
   ]
  },
  {
   "cell_type": "code",
   "execution_count": null,
   "metadata": {
    "id": "tsUXB_dWgKbg"
   },
   "outputs": [],
   "source": [
    "import pickle\n",
    "with open(f'file_1_dec27_all_benign_iters_50_epoch_{n_epochs}.txt', 'wb') as f:\n",
    "    pickle.dump(fl.debug_log, f)\n",
    "f.close()"
   ]
  },
  {
   "cell_type": "code",
   "execution_count": null,
   "metadata": {},
   "outputs": [],
   "source": [
    "import os\n",
    "from os import listdir\n",
    "from os.path import isfile, join\n",
    "mypath=os.getcwd()\n",
    "onlyfiles = [f for f in listdir(mypath) if isfile(join(mypath, f))]"
   ]
  },
  {
   "cell_type": "code",
   "execution_count": null,
   "metadata": {
    "id": "Gi3Zkh_HuFEI"
   },
   "outputs": [],
   "source": [
    "import pickle\n",
    "with open('file_1_dec23_label_flip_minDist_off.txt', 'rb') as f:\n",
    "    log_file=pickle.load(f)\n",
    "f.close()\n",
    "\n",
    "with open('file_1_dec23_label_flip_minDist_on.txt', 'rb') as f:\n",
    "    log_file_2=pickle.load(f)\n",
    "f.close()\n",
    "\n",
    "log_by_iter=[]\n",
    "for iter in range(n_iter):\n",
    "    log_by_iter.append([])\n",
    "idx=0\n",
    "cluster_logs=[]\n",
    "for l in log_file:\n",
    "    (i, _, _, _)=l\n",
    "    log_by_iter[i].append(l)\n",
    "    if i==-1:\n",
    "        cluster_logs.append(l)\n",
    "\n",
    "\n",
    "log_by_iter_2=[]\n",
    "for iter in range(n_iter):\n",
    "    log_by_iter_2.append([])\n",
    "idx=0\n",
    "cluster_logs_2=[]\n",
    "for l in log_file_2:\n",
    "    (i, _, _, _)=l\n",
    "    log_by_iter_2[i].append(l)\n",
    "    if i==-1:\n",
    "        cluster_logs_2.append(l)\n",
    "\n",
    "\n",
    "cluster_scores=[]\n",
    "for i, log in enumerate(cluster_logs):\n",
    "    if (i+1)%3==0:\n",
    "        (_, _, _, sc) = log\n",
    "        cluster_scores.append(sc)\n",
    "        \n",
    "cluster_scores_2=[]\n",
    "for i, log in enumerate(cluster_logs_2):\n",
    "    if (i+1)%3==0:\n",
    "        (_, _, _, sc) = log\n",
    "        cluster_scores_2.append(sc)\n",
    "        \n",
    "print(cluster_scores, cluster_scores_2)"
   ]
  },
  {
   "cell_type": "code",
   "execution_count": null,
   "metadata": {
    "id": "d6ii0njBC6JT"
   },
   "outputs": [],
   "source": [
    "from sklearn.cluster import AgglomerativeClustering\n",
    "import numpy as np\n",
    "X = np.array([[1, 2], [1, 4], [1, 0],\n",
    "              [4, 2], [4, 4], [4, 0]])\n",
    "clustering = AgglomerativeClustering(n_clusters=3).fit(X)\n",
    "labels=clustering.labels_\n",
    "print(labels, labels[labels==0], np.argwhere(labels==0))\n",
    "print([np.argwhere(labels==i).flatten() for i in range(3)])\n",
    "\n",
    "print()"
   ]
  },
  {
   "cell_type": "code",
   "execution_count": null,
   "metadata": {
    "id": "nnSDjbvSjoiL"
   },
   "outputs": [],
   "source": [
    "t_arr=np.array([100, 10, 1])\n",
    "t_arr_sig = 0.1 * t_arr\n",
    "print(np.random.normal(t_arr, t_arr_sig))"
   ]
  },
  {
   "cell_type": "code",
   "execution_count": null,
   "metadata": {
    "id": "9zOwHqDgoJx0"
   },
   "outputs": [],
   "source": []
  },
  {
   "cell_type": "code",
   "execution_count": null,
   "metadata": {
    "id": "yenDNiAaqd_F"
   },
   "outputs": [],
   "source": [
    "import matplotlib.pyplot as plt\n",
    "\n",
    "def imshow(img):\n",
    "    img = img / 2 + 0.5     # unnormalize\n",
    "    npimg = img.numpy()\n",
    "    plt.imshow(np.transpose(npimg, (1, 2, 0)))\n",
    "    plt.show()\n",
    "\n",
    "for i in [0, 3, 5]:\n",
    "    (_, _, tl) = train_loaders[0][i]\n",
    "\n",
    "    print(tl)\n",
    "\n",
    "    # get some random training images\n",
    "    dataiter = iter(tl)\n",
    "    images, labels = dataiter.next()\n",
    "    labels = np.array(labels)\n",
    "    imshow(torchvision.utils.make_grid(images[:16]))\n",
    "    for n in range(10):\n",
    "        print(n, np.count_nonzero(labels == n)/len(labels))\n"
   ]
  },
  {
   "cell_type": "code",
   "execution_count": null,
   "metadata": {
    "id": "jjNZrWiG-hPG"
   },
   "outputs": [],
   "source": [
    "sampled_probabilities = 1000 * np.random.dirichlet(\n",
    "                np.array(3 * [0.9]))\n",
    "print(np.sum(sampled_probabilities), sampled_probabilities)"
   ]
  },
  {
   "cell_type": "code",
   "execution_count": null,
   "metadata": {
    "id": "xOdKOaAbFIN7"
   },
   "outputs": [],
   "source": [
    "print(3 * [1, 2])"
   ]
  },
  {
   "cell_type": "code",
   "execution_count": null,
   "metadata": {
    "id": "fGkTxR66cWS9"
   },
   "outputs": [],
   "source": [
    "print(fl.log)"
   ]
  },
  {
   "cell_type": "code",
   "execution_count": null,
   "metadata": {
    "id": "q0VZP12IgvhL"
   },
   "outputs": [],
   "source": [
    "import pickle\n",
    "with open('file_1_dec16.txt', 'rb') as f:\n",
    "    log_file=pickle.load(f)\n",
    "f.close()"
   ]
  },
  {
   "cell_type": "code",
   "execution_count": null,
   "metadata": {
    "id": "GZTPfmkowaO3"
   },
   "outputs": [],
   "source": [
    "log_by_iter=[]\n",
    "for iter in range(n_iter):\n",
    "    log_by_iter.append([])\n",
    "idx=0\n",
    "for l in log_file:\n",
    "    (i, _, _, _)=l\n",
    "    log_by_iter[i].append(l)\n"
   ]
  },
  {
   "cell_type": "code",
   "execution_count": null,
   "metadata": {
    "id": "4gt2Qp862dFj"
   },
   "outputs": [],
   "source": [
    "for i in range(5,10):\n",
    "    log_by_iter[i]=log_by_iter[i][2:]\n",
    "\n",
    "for l in log_by_iter[0]:\n",
    "    print(l)\n",
    "for l in log_by_iter[5]:\n",
    "    print(l)"
   ]
  },
  {
   "cell_type": "code",
   "execution_count": null,
   "metadata": {
    "id": "TXBqfzL33UKh"
   },
   "outputs": [],
   "source": [
    "from matplotlib import pyplot as plt\n",
    "\n",
    "cos_sim_benign=[]\n",
    "cos_sim_mal=[]\n",
    "for i in range(10):\n",
    "    (_, _, _, sim) = log_by_iter[i][2]\n",
    "    cos_sim_benign.append(sim[0])\n",
    "    cos_sim_mal.append(sim[2])\n",
    "\n",
    "plt.plot(cos_sim_benign, c='blue')\n",
    "plt.plot(cos_sim_mal, c='red')\n",
    "plt.show()"
   ]
  },
  {
   "cell_type": "code",
   "execution_count": null,
   "metadata": {
    "id": "Er4MnusO4lkV"
   },
   "outputs": [],
   "source": [
    "aggr_weight_benign=[]\n",
    "aggr_weight_mal=[]\n",
    "for i in range(10):\n",
    "    (_, _, _, sim) = log_by_iter[i][4]\n",
    "    aggr_weight_benign.append(sim[0])\n",
    "    aggr_weight_mal.append(sim[2])\n",
    "\n",
    "plt.plot(aggr_weight_benign, c='blue')\n",
    "plt.plot(aggr_weight_mal, c='red')\n",
    "plt.show()\n"
   ]
  },
  {
   "cell_type": "code",
   "execution_count": null,
   "metadata": {
    "id": "qcWWK14Z49C7"
   },
   "outputs": [],
   "source": [
    "distance_benign=[]\n",
    "distance_mal=[]\n",
    "for i in range(10):\n",
    "    (_, _, _, sim) = log_by_iter[i][0]\n",
    "    distance_benign.append(sim[0])\n",
    "    (_, _, _, sim) = log_by_iter[i][1]\n",
    "    distance_mal.append(sim)\n",
    "\n",
    "plt.plot(distance_benign, c='blue')\n",
    "plt.plot(distance_mal, c='red')\n",
    "plt.show()"
   ]
  },
  {
   "cell_type": "code",
   "execution_count": null,
   "metadata": {
    "id": "CH-InCz25jkj"
   },
   "outputs": [],
   "source": [
    "accuracy=[]\n",
    "for i in range(10):\n",
    "    (_, _, _, sim) = log_by_iter[i][5]\n",
    "    accuracy.append(sim)\n",
    "\n",
    "plt.plot(accuracy, c='blue')\n"
   ]
  }
 ],
 "metadata": {
  "accelerator": "GPU",
  "colab": {
   "collapsed_sections": [],
   "name": "custom optimizer 1.ipynb",
   "provenance": []
  },
  "kernelspec": {
   "display_name": "Python 3",
   "language": "python",
   "name": "python3"
  },
  "language_info": {
   "codemirror_mode": {
    "name": "ipython",
    "version": 3
   },
   "file_extension": ".py",
   "mimetype": "text/x-python",
   "name": "python",
   "nbconvert_exporter": "python",
   "pygments_lexer": "ipython3",
   "version": "3.7.11"
  }
 },
 "nbformat": 4,
 "nbformat_minor": 1
}

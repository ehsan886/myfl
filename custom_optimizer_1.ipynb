{
 "cells": [
  {
   "cell_type": "markdown",
   "metadata": {
    "id": "3x8zJkCpmj1m"
   },
   "source": [
    "Resources#\n",
    "\n",
    "https://github.com/pytorch/pytorch/blob/cc46dc45e1b4b2a9ffab4ad5442f8b864148e45a/torch/optim/_functional.py#L156\n",
    "\n",
    "https://github.com/pytorch/pytorch/blob/master/torch/optim/sgd.py\n",
    "\n",
    "https://pytorch.org/tutorials/beginner/blitz/autograd_tutorial.html\n",
    "\n",
    "https://discuss.pytorch.org/t/custom-loss-functions/29387\n",
    "\n",
    "https://discuss.pytorch.org/t/good-way-to-calculate-element-wise-difference-between-two-models-of-the-same-structure/67592"
   ]
  },
  {
   "cell_type": "code",
   "execution_count": 149,
   "metadata": {
    "id": "iTDCRqOGmorM"
   },
   "outputs": [],
   "source": [
    "import argparse\n",
    "import torch\n",
    "import torch.nn as nn\n",
    "import torch.nn.functional as F\n",
    "import torch.optim as optim\n",
    "from torchvision import datasets, transforms\n",
    "from torch.autograd import Variable\n",
    "import numpy as np\n",
    "import datetime"
   ]
  },
  {
   "cell_type": "code",
   "execution_count": 150,
   "metadata": {
    "id": "fxJ9QbZCVq-j"
   },
   "outputs": [],
   "source": [
    "def convert_model_to_param_list(model):\n",
    "    '''\n",
    "    num_of_param=0\n",
    "    for param in model.state_dict().values():\n",
    "        num_of_param += torch.numel(param)\n",
    "    \n",
    "\n",
    "    params=torch.ones([num_of_param])\n",
    "    '''\n",
    "    if torch.typename(model)!='OrderedDict':\n",
    "        model = model.state_dict()\n",
    "\n",
    "    idx=0\n",
    "    params_to_copy_group=[]\n",
    "    for name, param in model.items():\n",
    "        num_params_to_copy = torch.numel(param)\n",
    "        params_to_copy_group.append(param.reshape([num_params_to_copy]).clone().detach())\n",
    "        idx+=num_params_to_copy\n",
    "\n",
    "    params=torch.ones([idx])\n",
    "    idx=0\n",
    "    for param in params_to_copy_group:    \n",
    "        for par in param:\n",
    "            params[idx].copy_(par)\n",
    "            idx += 1\n",
    "\n",
    "    return params\n",
    "\n",
    "def cos_calc_btn_grads(l1, l2):\n",
    "    return torch.dot(l1, l2)/(torch.linalg.norm(l1)+1e-9)/(torch.linalg.norm(l2)+1e-9)\n",
    "\n",
    "\n",
    "def cos_calc(n1, n2):\n",
    "    l1 = convert_model_to_param_list(n1)\n",
    "    l2 = convert_model_to_param_list(n2)\n",
    "    return cos_calc_btn_grads(l1, l2)"
   ]
  },
  {
   "cell_type": "code",
   "execution_count": 151,
   "metadata": {
    "id": "n8iAonfWm5ev"
   },
   "outputs": [],
   "source": [
    "class SimpleNet(nn.Module):\n",
    "    def __init__(self, name=None, created_time=None, is_malicious=False, net_id=-1):\n",
    "        super(SimpleNet, self).__init__()\n",
    "        self.created_time = created_time\n",
    "        self.name=name\n",
    "\n",
    "        self.is_malicious=is_malicious\n",
    "        self.net_id=net_id\n",
    "\n",
    "\n",
    "    def save_stats(self, epoch, loss, acc):\n",
    "        self.stats['epoch'].append(epoch)\n",
    "        self.stats['loss'].append(loss)\n",
    "        self.stats['acc'].append(acc)\n",
    "\n",
    "    def copy_params(self, state_dict, coefficient_transfer=100):\n",
    "\n",
    "        own_state = self.state_dict()\n",
    "\n",
    "        for name, param in state_dict.items():\n",
    "            if name in own_state:\n",
    "                shape = param.shape\n",
    "                own_state[name].copy_(param.clone())\n",
    "    \n",
    "    def set_param_to_zero(self):\n",
    "        own_state = self.state_dict()\n",
    "\n",
    "        for name, param in own_state.items():\n",
    "            shape = param.shape\n",
    "            param.mul_(0)       \n",
    "\n",
    "    def aggregate(self, state_dicts, aggr_weights=None):\n",
    "        #self.copy_params(state_dicts[0])\n",
    "        own_state = self.state_dict()\n",
    "        \n",
    "        nw = len(state_dicts)\n",
    "        if aggr_weights is None:\n",
    "            aggr_weights = [1/nw]*nw\n",
    "\n",
    "        for i, state_dict in enumerate(state_dicts):\n",
    "            for name, param in state_dict.items():\n",
    "                if name in own_state:\n",
    "                    shape = param.shape\n",
    "                    own_state[name].add_(param.clone().mul_(aggr_weights[i]))\n",
    "\n",
    "    def calc_grad(self, state_dict, change_self=True):\n",
    "        if change_self:\n",
    "            own_state = self.state_dict()\n",
    "\n",
    "            for name, param in state_dict.items():\n",
    "                if name in own_state:\n",
    "                    shape = param.shape\n",
    "                    own_state[name].sub_(param.clone())\n",
    "        else:\n",
    "            self_params = convert_model_to_param_list(self)\n",
    "            ref_params = convert_model_to_param_list(state_dict)\n",
    "\n",
    "            self_params.sub_(ref_params)\n",
    "            self.grad_params = self_params"
   ]
  },
  {
   "cell_type": "code",
   "execution_count": 152,
   "metadata": {
    "id": "kADMGZrmm8PH"
   },
   "outputs": [],
   "source": [
    "class Flatten(nn.Module):\n",
    "    def forward(self, input):\n",
    "        return input.view(input.size(0), -1)\n",
    "\n",
    "class MnistNet(SimpleNet):#model for mnist\n",
    "    def __init__(self, name=None, created_time=None,num_of_classes = 10):\n",
    "        super(MnistNet, self).__init__(f'{name}_Simple', created_time)\n",
    "     \n",
    "        self.fc_layer = torch.nn.Sequential(#1 * 28 * 28\n",
    "            Flatten(),#784\n",
    "            nn.Linear(784, num_of_classes),\n",
    "        )\n",
    "    \n",
    "    def forward(self, x):\n",
    "     \n",
    "        out = self.fc_layer(x)\n",
    "        return out"
   ]
  },
  {
   "cell_type": "code",
   "execution_count": 153,
   "metadata": {
    "id": "h2FR35-PASFF"
   },
   "outputs": [],
   "source": [
    "class FLNet(SimpleNet):\n",
    "    def __init__(self, name=None, created_time=None,num_of_classes = 10):\n",
    "        super(FLNet, self).__init__(f'{name}_Simple', created_time)\n",
    "\n",
    "        self.mnistnet1 = MnistNet()\n",
    "\n",
    "        self.mnistnet2 = MnistNet()\n",
    "\n",
    "        self.mnistnetavg = MnistNet()\n",
    "\n",
    "    def forward(self, x):\n",
    "        out = self.mnistnet1(x)\n",
    "        return out"
   ]
  },
  {
   "cell_type": "code",
   "execution_count": 154,
   "metadata": {
    "colab": {
     "base_uri": "https://localhost:8080/",
     "height": 122
    },
    "id": "-Bm2SNGGCPOA",
    "outputId": "e912d6ab-0fd6-43c0-b174-fd703750762c"
   },
   "outputs": [
    {
     "data": {
      "text/plain": [
       "\"\\nclass CNN(SimpleNet):\\n    def __init__(self, name=None, created_time=None,num_of_classes = 10,network_id=-1, net_id=-1, is_malicious=False):\\n        super(CNN, self).__init__(f'{name}_Simple', created_time, is_malicious=is_malicious, net_id=net_id)\\n        self.conv1 = nn.Conv2d(3, 6, 5)\\n        self.pool = nn.MaxPool2d(2, 2)\\n        self.conv2 = nn.Conv2d(6, 16, 5)\\n        self.fc1 = nn.Linear(16 * 5 * 5, 120)\\n        self.fc2 = nn.Linear(120, 84)\\n        self.fc3 = nn.Linear(84, 10)\\n\\n    def forward(self, x):\\n        x = self.pool(F.relu(self.conv1(x)))\\n        x = self.pool(F.relu(self.conv2(x)))\\n        x = torch.flatten(x, 1) # flatten all dimensions except batch\\n        x = F.relu(self.fc1(x))\\n        x = F.relu(self.fc2(x))\\n        x = self.fc3(x)\\n        return x\\n\""
      ]
     },
     "execution_count": 154,
     "metadata": {},
     "output_type": "execute_result"
    }
   ],
   "source": [
    "\n",
    "class CNN(SimpleNet):\n",
    "    def __init__(self, name=None, created_time=None,num_of_classes = 10,network_id=-1, net_id=-1, is_malicious=False):\n",
    "        super(CNN, self).__init__(f'{name}_Simple', created_time, is_malicious=is_malicious, net_id=net_id)\n",
    "\n",
    "        self.network_id=network_id\n",
    "\n",
    "        self.conv1 = nn.Sequential(         \n",
    "            nn.Conv2d(\n",
    "                in_channels=1,              \n",
    "                out_channels=16,            \n",
    "                kernel_size=5,              \n",
    "                stride=1,                   \n",
    "                padding=2,                  \n",
    "            ),                              \n",
    "            nn.ReLU(),                      \n",
    "            nn.MaxPool2d(kernel_size=2),    \n",
    "        )\n",
    "        self.conv2 = nn.Sequential(         \n",
    "            nn.Conv2d(16, 32, 5, 1, 2),     \n",
    "            nn.ReLU(),                      \n",
    "            nn.MaxPool2d(2),                \n",
    "        )\n",
    "        # fully connected layer, output 10 classes\n",
    "        self.out = nn.Linear(32 * 7 * 7, 10)\n",
    "    def forward(self, x):\n",
    "        x = self.conv1(x)\n",
    "        x = self.conv2(x)\n",
    "        # flatten the output of conv2 to (batch_size, 32 * 7 * 7)\n",
    "        x = x.view(x.size(0), -1)       \n",
    "        output = self.out(x)\n",
    "        return output    # return x for visualization\n",
    "'''\n",
    "class CNN(SimpleNet):\n",
    "    def __init__(self, name=None, created_time=None,num_of_classes = 10,network_id=-1, net_id=-1, is_malicious=False):\n",
    "        super(CNN, self).__init__(f'{name}_Simple', created_time, is_malicious=is_malicious, net_id=net_id)\n",
    "        self.conv1 = nn.Conv2d(3, 6, 5)\n",
    "        self.pool = nn.MaxPool2d(2, 2)\n",
    "        self.conv2 = nn.Conv2d(6, 16, 5)\n",
    "        self.fc1 = nn.Linear(16 * 5 * 5, 120)\n",
    "        self.fc2 = nn.Linear(120, 84)\n",
    "        self.fc3 = nn.Linear(84, 10)\n",
    "\n",
    "    def forward(self, x):\n",
    "        x = self.pool(F.relu(self.conv1(x)))\n",
    "        x = self.pool(F.relu(self.conv2(x)))\n",
    "        x = torch.flatten(x, 1) # flatten all dimensions except batch\n",
    "        x = F.relu(self.fc1(x))\n",
    "        x = F.relu(self.fc2(x))\n",
    "        x = self.fc3(x)\n",
    "        return x\n",
    "'''"
   ]
  },
  {
   "cell_type": "code",
   "execution_count": 155,
   "metadata": {
    "id": "wY6ycM7q9m2A"
   },
   "outputs": [],
   "source": [
    "import copy\n",
    "\n",
    "def add_pixel_pattern(ori_image):\n",
    "    image = copy.deepcopy(ori_image)\n",
    "    poison_patterns= poison_dict['poison_pattern']\n",
    "    delta =  poison_dict['poison_delta']\n",
    "\n",
    "    for i in range(0, len(poison_patterns)):\n",
    "        pos = poison_patterns[i]\n",
    "        image[0][pos[0]][pos[1]] = min( image[0][pos[0]][pos[1]] + delta/np.sqrt(len(poison_patterns)), 1)\n",
    "\n",
    "\n",
    "    return image\n",
    "\n",
    "def get_poison_batch(bptt,adversarial_index=-1, evaluation=False, attack_type='label_flip'):\n",
    "    if attack_type=='backdoor':\n",
    "        import sys\n",
    "        print(\"still backdooring\")\n",
    "        sys.exit()\n",
    "\n",
    "        images, targets = bptt\n",
    "\n",
    "        poison_count= 0\n",
    "        new_images=images\n",
    "        new_targets=targets\n",
    "\n",
    "        for index in range(0, len(images)):\n",
    "            if evaluation: # poison all data when testing\n",
    "                new_targets[index] = poison_dict['poison_label_swap']\n",
    "                new_images[index] = add_pixel_pattern(images[index])\n",
    "                poison_count+=1\n",
    "\n",
    "            else: # poison part of data when training\n",
    "                if index < poison_dict['poisoning_per_batch']:\n",
    "                    new_targets[index] = poison_dict['poison_label_swap']\n",
    "                    new_images[index] = add_pixel_pattern(images[index])\n",
    "                    poison_count += 1\n",
    "                else:\n",
    "                    new_images[index] = images[index]\n",
    "                    new_targets[index]= targets[index]\n",
    "\n",
    "        new_images = new_images.to(device)\n",
    "        new_targets = new_targets.to(device).long()\n",
    "        if evaluation:\n",
    "            new_images.requires_grad_(False)\n",
    "            new_targets.requires_grad_(False)\n",
    "        return new_images,new_targets,poison_count\n",
    "    \n",
    "    elif attack_type=='degrade' or attack_type=='label_flip':\n",
    "        images, targets = bptt\n",
    "\n",
    "        poison_count= 0\n",
    "        new_images=images\n",
    "        new_targets=targets\n",
    "\n",
    "        num_of_classes = 10\n",
    "\n",
    "        for index in range(0, len(images)):\n",
    "            if evaluation: # poison all data when testing\n",
    "                if attack_type=='degrade':\n",
    "                    new_targets[index] = poison_dict['poison_label_swap']\n",
    "                elif attack_type=='label_flip':\n",
    "                    new_targets[index] = (targets[index]+1)%num_of_classes\n",
    "                new_images[index] = images[index]\n",
    "                poison_count+=1\n",
    "\n",
    "            else: # poison part of data when training\n",
    "                if index < poison_dict['poisoning_per_batch']:\n",
    "                    new_targets[index] = poison_dict['poison_label_swap']\n",
    "                    new_images[index] = add_pixel_pattern(images[index])\n",
    "                    poison_count += 1\n",
    "                else:\n",
    "                    new_images[index] = images[index]\n",
    "                    new_targets[index]= targets[index]\n",
    "\n",
    "        new_images = new_images.to(device)\n",
    "        new_targets = new_targets.to(device).long()\n",
    "        if evaluation:\n",
    "            new_images.requires_grad_(False)\n",
    "            new_targets.requires_grad_(False)\n",
    "        return new_images,new_targets,poison_count\n",
    "        \n",
    "\n",
    "def get_batch(bptt, evaluation=False):\n",
    "    data, target = bptt\n",
    "    data = data.to(device)\n",
    "    target = target.to(device)\n",
    "    if evaluation:\n",
    "        data.requires_grad_(False)\n",
    "        target.requires_grad_(False)\n",
    "    return data, target"
   ]
  },
  {
   "cell_type": "code",
   "execution_count": 156,
   "metadata": {
    "id": "nOhHhkNjE6tb"
   },
   "outputs": [],
   "source": [
    "import torch\n",
    "from torch import Tensor\n",
    "from typing import List, Optional\n",
    "\n",
    "from tensorflow import print as prnt\n",
    "\n",
    "def sgd(params: List[Tensor],\n",
    "        d_p_list: List[Tensor],\n",
    "        momentum_buffer_list: List[Optional[Tensor]],\n",
    "        ref_params: List[Tensor],\n",
    "        ref_grad_params: List[Tensor],\n",
    "        *,\n",
    "        weight_decay: float,\n",
    "        momentum: float,\n",
    "        lr: float,\n",
    "        dampening: float,\n",
    "        nesterov: bool,\n",
    "        maximize: bool,\n",
    "        inertia: float,\n",
    "        minimizeDist: bool):\n",
    "    r\"\"\"Functional API that performs SGD algorithm computation.\n",
    "    See :class:`~torch.optim.SGD` for details.\n",
    "    \"\"\"\n",
    "    #print(\"dummy\", len(params), len(ref_params))\n",
    "\n",
    "    if len(ref_params)!=0 and len(params)!=len(ref_params):\n",
    "        #print(params, ref_params)\n",
    "        print('params', params, '\\n')\n",
    "        print('ref_params', ref_params, '\\n')\n",
    "        sys.exit()\n",
    "\n",
    "    if len(ref_grad_params)!=0 and len(params)!=len(ref_grad_params):\n",
    "        print('params', params, '\\n')\n",
    "        print('ref_params', ref_grad_params, '\\n')\n",
    "        sys.exit()\n",
    "    for i, param in enumerate(params):\n",
    "\n",
    "        d_p = d_p_list[i]\n",
    "        if weight_decay != 0:\n",
    "            d_p = d_p.add(param, alpha=weight_decay)\n",
    "\n",
    "        if momentum != 0:\n",
    "            buf = momentum_buffer_list[i]\n",
    "\n",
    "            if buf is None:\n",
    "                buf = torch.clone(d_p).detach()\n",
    "                momentum_buffer_list[i] = buf\n",
    "            else:\n",
    "                buf.mul_(momentum).add_(d_p, alpha=1 - dampening)\n",
    "\n",
    "            if nesterov:\n",
    "                d_p = d_p.add(buf, alpha=momentum)\n",
    "            else:\n",
    "                d_p = buf\n",
    "        \n",
    "        if ref_params is not None and len(ref_params) != 0 and minimizeDist:\n",
    "            diff = 0\n",
    "            ### if minimize euclidean distance\n",
    "            #diff = param - ref_params[i]\n",
    "            ### if minimize cosine similarity, ref_params contains the gradient of the reference network weights\n",
    "            \n",
    "            if ref_grad_params is not None:\n",
    "\n",
    "                dir_sign = torch.sign(ref_params[i]-param)\n",
    "                diff -= ref_params[i]-param\n",
    "                diff -= ref_grad_params[i]\n",
    "                diff = diff.mul_(0.5)\n",
    "            \n",
    "            #d_p = d_p.mul_(0)\n",
    "            d_p = d_p.add(diff, alpha=inertia)\n",
    "        \n",
    "        #if diff_total==0:\n",
    "            #print('diff_total 0')\n",
    "\n",
    "        alpha = lr if maximize else -lr\n",
    "        param.add_(d_p, alpha=alpha)"
   ]
  },
  {
   "cell_type": "code",
   "execution_count": 157,
   "metadata": {
    "id": "BMvAKmTlFlSV"
   },
   "outputs": [],
   "source": [
    "import torch\n",
    "#from torch.optim import _functional as F\n",
    "from torch.optim.optimizer import Optimizer, required\n",
    "\n",
    "\n",
    "class SGD(Optimizer):\n",
    "    def __init__(self, params, lr=required, ref_param_groups=None, ref_grad_param_groups=None, momentum=0, dampening=0,\n",
    "                 weight_decay=0, nesterov=False, *, maximize=False, inertia=1.0, minimizeDist=False):\n",
    "        if lr is not required and lr < 0.0:\n",
    "            raise ValueError(\"Invalid learning rate: {}\".format(lr))\n",
    "        if momentum < 0.0:\n",
    "            raise ValueError(\"Invalid momentum value: {}\".format(momentum))\n",
    "        if weight_decay < 0.0:\n",
    "            raise ValueError(\"Invalid weight_decay value: {}\".format(weight_decay))\n",
    "\n",
    "        defaults = dict(lr=lr, momentum=momentum, dampening=dampening,\n",
    "                        weight_decay=weight_decay, nesterov=nesterov, maximize=maximize)\n",
    "        if nesterov and (momentum <= 0 or dampening != 0):\n",
    "            raise ValueError(\"Nesterov momentum requires a momentum and zero dampening\")\n",
    "        #self.ref_param_groups = ref_param_groups\n",
    "        super(SGD, self).__init__(params, defaults)\n",
    "        #self.ref_param_groups = ref_param_groups\n",
    "        self.inertia=inertia\n",
    "        self.minimizeDist=minimizeDist\n",
    "\n",
    "        if ref_param_groups is not None:\n",
    "            self.__setrefparams__(ref_param_groups)\n",
    "        else:\n",
    "            self.ref_param_groups = ref_param_groups\n",
    "\n",
    "        if ref_grad_param_groups is not None:\n",
    "            self.__setrefgradparams__(ref_grad_param_groups)\n",
    "        else:\n",
    "            self.ref_grad_param_groups = ref_param_groups\n",
    "\n",
    "    def filter_ref_param_group(self, param_group):\n",
    "        r\"\"\"Add a param group to the :class:`Optimizer` s `param_groups`.\n",
    "        This can be useful when fine tuning a pre-trained network as frozen layers can be made\n",
    "        trainable and added to the :class:`Optimizer` as training progresses.\n",
    "        Args:\n",
    "            param_group (dict): Specifies what Tensors should be optimized along with group\n",
    "                specific optimization options.\n",
    "        \"\"\"\n",
    "        assert isinstance(param_group, dict), \"param group must be a dict\"\n",
    "\n",
    "        params = param_group['params']\n",
    "        if isinstance(params, torch.Tensor):\n",
    "            param_group['params'] = [params]\n",
    "        elif isinstance(params, set):\n",
    "            raise TypeError('optimizer parameters need to be organized in ordered collections, but '\n",
    "                            'the ordering of tensors in sets will change between runs. Please use a list instead.')\n",
    "        else:\n",
    "            param_group['params'] = list(params)\n",
    "\n",
    "        for param in param_group['params']:\n",
    "            if not isinstance(param, torch.Tensor):\n",
    "                raise TypeError(\"optimizer can only optimize Tensors, \"\n",
    "                                \"but one of the params is \" + torch.typename(param))\n",
    "            if not param.is_leaf:\n",
    "                raise ValueError(\"can't optimize a non-leaf Tensor\")\n",
    "        '''\n",
    "        for name, default in self.defaults.items():\n",
    "            if default is required and name not in param_group:\n",
    "                raise ValueError(\"parameter group didn't specify a value of required optimization parameter \" +\n",
    "                                name)\n",
    "            else:\n",
    "                param_group.setdefault(name, default)\n",
    "        '''\n",
    "\n",
    "        params = param_group['params']\n",
    "        if len(params) != len(set(params)):\n",
    "            warnings.warn(\"optimizer contains a parameter group with duplicate parameters; \"\n",
    "                          \"in future, this will cause an error; \"\n",
    "                          \"see github.com/pytorch/pytorch/issues/40967 for more information\", stacklevel=3)\n",
    "\n",
    "        param_set = set()\n",
    "        for group in self.param_groups:\n",
    "            param_set.update(set(group['params']))\n",
    "\n",
    "        if not param_set.isdisjoint(set(param_group['params'])):\n",
    "            raise ValueError(\"some parameters appear in more than one parameter group\")\n",
    "\n",
    "        #self.ref_param_groups.append(param_group)\n",
    "        return param_group\n",
    "    \n",
    "    def __setrefparams__(self, params):\n",
    "        self.ref_param_groups = []\n",
    "\n",
    "        param_groups = list(params)\n",
    "        '''\n",
    "        if len(param_groups) == 0:\n",
    "            raise ValueError(\"optimizer got an empty parameter list\")\n",
    "        '''\n",
    "        if not isinstance(param_groups[0], dict):\n",
    "            param_groups = [{'params': param_groups}]\n",
    "\n",
    "        for param_group in param_groups:\n",
    "            self.ref_param_groups.append(self.filter_ref_param_group(param_group))\n",
    "\n",
    "    def __setrefgradparams__(self, params):\n",
    "        self.ref_grad_param_groups = []\n",
    "\n",
    "        param_groups = list(params)\n",
    "        '''\n",
    "        if len(param_groups) == 0:\n",
    "            raise ValueError(\"optimizer got an empty parameter list\")\n",
    "        '''\n",
    "        if not isinstance(param_groups[0], dict):\n",
    "            param_groups = [{'params': param_groups}]\n",
    "\n",
    "        for param_group in param_groups:\n",
    "            self.ref_grad_param_groups.append(self.filter_ref_param_group(param_group))\n",
    "\n",
    "    def __setstate__(self, state):\n",
    "        super(SGD, self).__setstate__(state)\n",
    "        for group in self.param_groups:\n",
    "            group.setdefault('nesterov', False)\n",
    "            group.setdefault('maximize', False)\n",
    "    \n",
    "    \n",
    "\n",
    "    @torch.no_grad()\n",
    "    def step(self, closure=None):\n",
    "        \"\"\"Performs a single optimization step.\n",
    "        Args:\n",
    "            closure (callable, optional): A closure that reevaluates the model\n",
    "                and returns the loss.\n",
    "        \"\"\"\n",
    "        loss = None\n",
    "        if closure is not None:\n",
    "            with torch.enable_grad():\n",
    "                loss = closure()\n",
    "        \n",
    "        #for group in self.ref_param_groups:\n",
    "            #for p in group['params']:\n",
    "\n",
    "        if self.ref_param_groups is not None and len(self.param_groups)!=len(self.ref_param_groups):\n",
    "            print(len(self.param_groups), len(self.ref_param_groups))\n",
    "            sys.exit()\n",
    "\n",
    "        if self.ref_grad_param_groups is not None and len(self.param_groups)!=len(self.ref_grad_param_groups):\n",
    "            print(len(self.param_groups), len(self.ref_grad_param_groups))\n",
    "            sys.exit()\n",
    "        for i in range(len(self.param_groups)):\n",
    "            group = self.param_groups[i]\n",
    "            if self.ref_param_groups is not None:\n",
    "                ref_group = self.ref_param_groups[i]\n",
    "            if self.ref_grad_param_groups is not None:\n",
    "                ref_grad_group = self.ref_grad_param_groups[i]\n",
    "            params_with_grad = []\n",
    "            d_p_list = []\n",
    "            momentum_buffer_list = []\n",
    "            weight_decay = group['weight_decay']\n",
    "            momentum = group['momentum']\n",
    "            dampening = group['dampening']\n",
    "            nesterov = group['nesterov']\n",
    "            maximize = group['maximize']\n",
    "            lr = group['lr']\n",
    "\n",
    "            for p in group['params']:\n",
    "                if p.grad is not None:\n",
    "                    params_with_grad.append(p)\n",
    "                    d_p_list.append(p.grad)\n",
    "\n",
    "                    state = self.state[p]\n",
    "                    if 'momentum_buffer' not in state:\n",
    "                        momentum_buffer_list.append(None)\n",
    "                    else:\n",
    "                        momentum_buffer_list.append(state['momentum_buffer'])\n",
    "            ref_params=[]\n",
    "            ref_grad_params=[]\n",
    "            if self.ref_param_groups is not None:\n",
    "                for p in ref_group['params']:\n",
    "                    ref_params.append(p)\n",
    "            if self.ref_grad_param_groups is not None:\n",
    "                for p in ref_grad_group['params']:\n",
    "                    ref_grad_params.append(p)\n",
    "            \n",
    "            sgd(params_with_grad,\n",
    "                  d_p_list,\n",
    "                  momentum_buffer_list,\n",
    "                  ref_params=ref_params,\n",
    "                  ref_grad_params=ref_grad_params,\n",
    "                  weight_decay=weight_decay,\n",
    "                  momentum=momentum,\n",
    "                  lr=lr,\n",
    "                  dampening=dampening,\n",
    "                  nesterov=nesterov,\n",
    "                  maximize=maximize,\n",
    "                  inertia=self.inertia,\n",
    "                  minimizeDist=self.minimizeDist)\n",
    "            \n",
    "\n",
    "            # update momentum_buffers in state\n",
    "            for p, momentum_buffer in zip(params_with_grad, momentum_buffer_list):\n",
    "                state = self.state[p]\n",
    "                state['momentum_buffer'] = momentum_buffer\n",
    "\n",
    "        return loss\n",
    "\n",
    "    ##  add add_param method\n",
    "\n"
   ]
  },
  {
   "cell_type": "code",
   "execution_count": 158,
   "metadata": {
    "id": "NDJtZrEdRwht"
   },
   "outputs": [],
   "source": [
    "def new_loss(output, target):\n",
    "    loss = F.nll_loss(output, target)\n",
    "\n",
    "    return loss"
   ]
  },
  {
   "cell_type": "code",
   "execution_count": 159,
   "metadata": {
    "id": "yWy7CtC7GpPG"
   },
   "outputs": [],
   "source": [
    "def inv_grad_test(model):\n",
    "    for name, param in model.named_parameters():\n",
    "        print(name, torch.isfinite(param.grad).all())"
   ]
  },
  {
   "cell_type": "code",
   "execution_count": 160,
   "metadata": {
    "id": "I3r_mO-LDaJ6"
   },
   "outputs": [],
   "source": [
    "loss_func=nn.CrossEntropyLoss()\n",
    "\n",
    "def train(network, optimizer, epoch):\n",
    "  network.train()\n",
    "\n",
    "  if network.network_id!=-1:\n",
    "      (_, temp_train_loader)=train_loaders[network.network_id]\n",
    "  else:\n",
    "      temp_train_loader=train_loader\n",
    "\n",
    "  for batch_idx, (data, target) in enumerate(temp_train_loader):\n",
    "    if network.network_id>=1:\n",
    "        data, target, poison_num = get_poison_batch((data, target))\n",
    "    optimizer.zero_grad()\n",
    "    output = network(data)\n",
    "    loss = loss_func(output, target)\n",
    "    loss.backward()\n",
    "    #inv_grad_test(network)\n",
    "    optimizer.step()\n",
    "    if batch_idx % log_interval == 0:\n",
    "      print('Train Epoch: {} [{}/{} ({:.0f}%)]\\tLoss: {:.6f}'.format(\n",
    "      epoch, batch_idx * len(data), len(train_loader.dataset),\n",
    "      100. * batch_idx / len(train_loader), loss.item()))\n",
    "      train_losses.append(loss.item())\n",
    "      train_counter.append(\n",
    "        (batch_idx*64) + ((epoch-1)*len(train_loader.dataset)))\n",
    "      torch.save(network.state_dict(), 'model.pth')\n",
    "      torch.save(optimizer.state_dict(), 'optimizer.pth')\n",
    "  if network.network_id>=1:\n",
    "      sys.exit()"
   ]
  },
  {
   "cell_type": "code",
   "execution_count": 161,
   "metadata": {
    "id": "rePZEDgTs5Zg"
   },
   "outputs": [],
   "source": [
    "from tqdm import tqdm\n",
    "\n",
    "def train_net(network, optimizer, trainloader, epoch, poisonNow=False, print_flag=False, attack_type='backdoor'):\n",
    "  for batch_idx, (data, target) in enumerate(tqdm(trainloader)):\n",
    "    if poisonNow:\n",
    "        data, target, poison_num = get_poison_batch((data, target), attack_type=attack_type)\n",
    "    else:\n",
    "        data, target = get_batch((data, target))\n",
    "    optimizer.zero_grad()\n",
    "    output = network(data)\n",
    "    loss = loss_func(output, target)\n",
    "    loss.backward()\n",
    "    #inv_grad_test(network)\n",
    "    optimizer.step()\n",
    "    if batch_idx % log_interval == 0:\n",
    "        if print_flag:\n",
    "            print('Train Epoch: {} [{}/{} ({:.0f}%)]\\tLoss: {:.6f}'.format(\n",
    "            epoch, batch_idx * len(data), len(trainloader.dataset),\n",
    "            100. * batch_idx / len(trainloader), loss.item()))\n",
    "        train_losses.append(loss.item())\n",
    "        train_counter.append(\n",
    "            (batch_idx*64) + ((epoch-1)*len(trainloader.dataset)))"
   ]
  },
  {
   "cell_type": "code",
   "execution_count": 162,
   "metadata": {
    "id": "DNbRH73f9IFr"
   },
   "outputs": [],
   "source": [
    "def test(network):\n",
    "  network.eval()\n",
    "  test_loss = 0\n",
    "  correct = 0\n",
    "  with torch.no_grad():\n",
    "    for data, target in tqdm(test_loader):\n",
    "        data, target = get_batch((data, target))\n",
    "        output = network(data)\n",
    "        test_loss += loss_func(output, target).item()\n",
    "        pred = output.data.max(1, keepdim=True)[1]\n",
    "        correct += pred.eq(target.data.view_as(pred)).sum()\n",
    "  test_loss /= len(test_loader.dataset)\n",
    "  test_losses.append(test_loss)\n",
    "  print('\\nTest set: Avg. loss: {:.4f}, Accuracy: {}/{} ({:.0f}%)\\n'.format(\n",
    "    test_loss, correct, len(test_loader.dataset),\n",
    "    100. * correct / len(test_loader.dataset)))\n",
    "  return 100. * correct / len(test_loader.dataset)"
   ]
  },
  {
   "cell_type": "code",
   "execution_count": 163,
   "metadata": {
    "id": "O9mnbnO-BSvs"
   },
   "outputs": [],
   "source": [
    "def backdoor_test(network):\n",
    "  network.eval()\n",
    "  test_loss = 0\n",
    "  correct = 0\n",
    "  with torch.no_grad():\n",
    "    for data, target in tqdm(test_loader):\n",
    "      data, target, poison_num = get_poison_batch((data, target), evaluation=True, attack_type='backdoor')\n",
    "      output = network(data)\n",
    "      test_loss += loss_func(output, target).item()\n",
    "      pred = output.data.max(1, keepdim=True)[1]\n",
    "      correct += pred.eq(target.data.view_as(pred)).sum()\n",
    "  test_loss /= len(test_loader.dataset)\n",
    "  test_losses.append(test_loss)\n",
    "  print('\\nBackdoor Test set: Avg. loss: {:.4f}, Accuracy: {}/{} ({:.0f}%)\\n'.format(\n",
    "    test_loss, correct, len(test_loader.dataset),\n",
    "    100. * correct / len(test_loader.dataset)))"
   ]
  },
  {
   "cell_type": "code",
   "execution_count": 164,
   "metadata": {
    "id": "_BXauMW5n3r3"
   },
   "outputs": [],
   "source": [
    "def calcDiff(network, network2):\n",
    "    return sum((x - y).abs().sum() for x, y in zip(network.state_dict().values(), network2.state_dict().values()))"
   ]
  },
  {
   "cell_type": "code",
   "execution_count": 165,
   "metadata": {
    "id": "IB55dWe-UoTd"
   },
   "outputs": [],
   "source": [
    "def get_scaled_up_grads(glob_net, networks, self=None, iter=-1):\n",
    "    nets_grads=[]\n",
    "    clean_server_grad=None\n",
    "    grads=[]\n",
    "\n",
    "    for i in range(len(networks)):\n",
    "        grad_net=CNN().to(device)\n",
    "        grad_net.to(device)\n",
    "        grad_net.copy_params(networks[i].state_dict())\n",
    "        nets_grads.append(grad_net)\n",
    "        \n",
    "        grad_net.calc_grad(glob_net.state_dict())\n",
    "        grads.append(convert_model_to_param_list(grad_net))\n",
    "\n",
    "    scaled_grad=CNN().to(device)\n",
    "    scaled_grad.set_param_to_zero()\n",
    "    scaled_grad.aggregate([n.state_dict() for n in nets_grads], aggr_weights=[-1]*(len(networks)-1)+[len(networks)])\n",
    "\n",
    "    self.log.append((iter, 'Cos_sim btn scaled grad and clean server grad', 'get_scaled_up_grads', cos_calc(scaled_grad, nets_grads[-2])))\n",
    "    print(self.log[-1])\n",
    "    self.log.append((iter, 'Cos_sim btn mal grad and clean server grad', 'get_scaled_up_grads', cos_calc(nets_grads[-1], nets_grads[-2])))\n",
    "    print(self.log[-1])\n",
    "\n",
    "    scaled_grad.aggregate([glob_net.state_dict()], aggr_weights=[1])\n",
    "    return scaled_grad\n",
    "\n",
    "    "
   ]
  },
  {
   "cell_type": "code",
   "execution_count": 166,
   "metadata": {
    "id": "py2OvW8FfoTQ"
   },
   "outputs": [],
   "source": [
    "class CustomFL:\n",
    "    def __init__(self, num_of_benign_nets=1, num_of_mal_nets=1, inertia=0.1, n_iter=10,\n",
    "                 n_epochs=3, poison_starts_at_iter=3, learning_rate=0.1, momentum=0, weight_decay=0.1,\n",
    "                 attack_type='label_flip', scale_up=False, minimizeDist=True):\n",
    "        self.global_net = CNN().to(device)\n",
    "        self.global_net_optim = SGD(self.global_net.parameters(), lr=learning_rate, momentum=momentum, weight_decay=weight_decay)\n",
    "        self.global_net.to(device)\n",
    "        self.benign_nets = []\n",
    "        self.benign_net_optims = []\n",
    "        for i in range(num_of_benign_nets):\n",
    "            network = CNN(net_id=i)\n",
    "            network.copy_params(self.global_net.state_dict())\n",
    "            optim = SGD(network.parameters(), lr=learning_rate, momentum=momentum, weight_decay=weight_decay, inertia=inertia)\n",
    "            network.to(device)\n",
    "            self.benign_nets.append(network)\n",
    "            self.benign_net_optims.append(optim)\n",
    "        self.mal_nets = []\n",
    "        self.mal_net_optims = []\n",
    "        for i in range(num_of_mal_nets):\n",
    "            network = CNN(is_malicious=True, net_id=i)\n",
    "            network.copy_params(self.global_net.state_dict())\n",
    "            optim = SGD(network.parameters(), lr=learning_rate,\n",
    "                        momentum=momentum, weight_decay=weight_decay, inertia=inertia, minimizeDist=minimizeDist)\n",
    "            network.to(device)\n",
    "            self.mal_nets.append(network)\n",
    "            self.mal_net_optims.append(optim)\n",
    "\n",
    "        self.current_iter=0\n",
    "        self.num_of_benign_nets=num_of_benign_nets\n",
    "        self.num_of_mal_nets=num_of_mal_nets\n",
    "        self.inertia_rate=inertia\n",
    "        self.n_iter=n_iter\n",
    "        self.n_epochs=n_epochs\n",
    "        self.learning_rate=learning_rate\n",
    "        self.momentum=momentum\n",
    "        self.poison_starts_at_iter=poison_starts_at_iter\n",
    "        self.weight_decay=weight_decay\n",
    "        self.attack_type=attack_type\n",
    "        self.scale_up=scale_up\n",
    "\n",
    "        self.log=[]\n",
    "        self.debug_log={}\n",
    "        self.debug_log['cluster']=[]\n",
    "        self.debug_log['coses']=[]\n",
    "        n_nets=num_of_benign_nets+num_of_mal_nets\n",
    "        self.cos_matrix=np.zeros((n_nets, n_nets))\n",
    "\n",
    "    def cluster_grads(self, iter=-1):\n",
    "        nets = self.benign_nets + self.mal_nets\n",
    "        for net in nets:\n",
    "            net.calc_grad(self.global_net.state_dict(), change_self=False)\n",
    "\n",
    "        from sklearn.cluster import AgglomerativeClustering\n",
    "        X = [np.array(net.grad_params) for net in nets]\n",
    "        X= np.array(X)\n",
    "        clustering = AgglomerativeClustering(n_clusters=num_of_distributions, affinity='cosine', linkage='complete').fit(X)\n",
    "        from sklearn.metrics.cluster import adjusted_rand_score\n",
    "        print('Original Copylist', copylist)\n",
    "        print('Found clusters', clustering.labels_)\n",
    "        print('Original groups', [np.argwhere(np.array(copylist)==i).flatten() for i in range(num_of_distributions)])\n",
    "        print('Clustered groups', [np.argwhere(clustering.labels_==i).flatten() for i in range(num_of_distributions)])\n",
    "        print('Clustering score', adjusted_rand_score(clustering.labels_.tolist(), copylist))\n",
    "        self.log.append((iter, 'Original copylist', 'cluster_grads', copylist))\n",
    "        self.log.append((iter, 'Clusters', 'cluster_grads', clustering.labels_))\n",
    "        #self.debug_log['cluster'].append((iter, 'Cluster Score', 'cluster_grads', adjusted_rand_score(clustering.labels_.tolist(), copylist)))\n",
    "        \n",
    "        coses=[]\n",
    "        \n",
    "        for i1, net1 in enumerate(nets):\n",
    "            coses_l=[]\n",
    "            for i2, net2 in enumerate(nets):\n",
    "                coses_l.append(cos_calc_btn_grads(net1.grad_params, net2.grad_params))\n",
    "            coses.append(coses_l)\n",
    "            \n",
    "        coses = np.array(coses)\n",
    "        \n",
    "        self.cos_matrix = self.cos_matrix + coses\n",
    "        self.cos_matrix = self.cos_matrix/np.max(self.cos_matrix)\n",
    "                    \n",
    "        print(self.cos_matrix)\n",
    "        \n",
    "        clustering = AgglomerativeClustering(n_clusters=num_of_distributions, affinity='precomputed', linkage='complete').fit(1-self.cos_matrix)\n",
    "        print('Original Copylist', copylist)\n",
    "        print('Found clusters', clustering.labels_)\n",
    "        print('Original groups', [np.argwhere(np.array(copylist)==i).flatten() for i in range(num_of_distributions)])\n",
    "        print('Clustered groups', [np.argwhere(clustering.labels_==i).flatten() for i in range(num_of_distributions)])\n",
    "        print('Clustering score', adjusted_rand_score(clustering.labels_.tolist(), copylist))\n",
    "        self.debug_log['cluster'].append((iter, 'Cluster Score', 'cluster_grads', adjusted_rand_score(clustering.labels_.tolist(), copylist)))\n",
    "        \n",
    "        \n",
    "        '''\n",
    "        X = [np.array(net.grad_params) for net in self.benign_nets]\n",
    "        X= np.array(X)\n",
    "        copylist2=copylist[:self.num_of_benign_nets]\n",
    "        clustering = AgglomerativeClustering(n_clusters=len(set(copylist2)), affinity='cosine', linkage='complete').fit(X)\n",
    "        print('Original Copylist', copylist2)\n",
    "        print('Found clusters', clustering.labels_)\n",
    "        print('Original groups', [np.argwhere(np.array(copylist2)==i).flatten() for i in range(num_of_distributions)])\n",
    "        print('Clustered groups', [np.argwhere(clustering.labels_==i).flatten() for i in range(num_of_distributions)])\n",
    "        print('Clustering score', adjusted_rand_score(clustering.labels_.tolist(), copylist2))\n",
    "        '''\n",
    "        \n",
    "        return coses\n",
    "\n",
    "    def FLtrust(self, iter=-1):\n",
    "        clean_server_grad=None\n",
    "        grads=[]\n",
    "        nets_grads=[]\n",
    "        \n",
    "        nets = self.benign_nets + self.mal_nets\n",
    "        for net in nets:\n",
    "            net.calc_grad(self.global_net.state_dict(), change_self=False)\n",
    "            grad_net = CNN().to(device)\n",
    "            grad_net.to(device)\n",
    "            grad_net.copy_params(net.state_dict())\n",
    "            grad_net.aggregate([self.global_net.state_dict()], aggr_weights=[-1])\n",
    "            nets_grads.append(grad_net)\n",
    "\n",
    "        for i in range(self.num_of_benign_nets):\n",
    "            grads.append(self.benign_nets[i].grad_params)\n",
    "            if i==self.num_of_benign_nets-1:\n",
    "                clean_server_grad=grads[i]\n",
    "\n",
    "        for i in range(self.num_of_mal_nets):\n",
    "            grads.append(self.mal_nets[i].grad_params)\n",
    "        \n",
    "        norms = [torch.linalg.norm(grad) for grad in grads]\n",
    "        print('Norms of local gradients ', norms)\n",
    "        self.log.append((iter, 'Norms of local gradients ', 'FLTrust', norms))\n",
    "\n",
    "        \n",
    "        cos_sims=[cos_calc_btn_grads(grad, clean_server_grad) for grad in grads]\n",
    "\n",
    "        '''\n",
    "        for grad in grads:\n",
    "            cos_sims.append(torch.dot(grad, clean_server_grad)/ (torch.linalg.norm(grad)+ 1e-9) / (torch.linalg.norm(clean_server_grad)+ 1e-9))\n",
    "        '''\n",
    "        print('\\n Aggregating models')\n",
    "\n",
    "        #print([cos_calc() ])\n",
    "\n",
    "        print('Cosine Similarities: ', cos_sims)\n",
    "        self.log.append((iter, 'Cosine Similarities', 'FLtrust', cos_sims))\n",
    "        cos_sims = np.maximum(np.array(cos_sims), 0)\n",
    "        norm_weights = cos_sims/(np.sum(cos_sims)+1e-9)\n",
    "        for i in range(len(norm_weights)):\n",
    "            norm_weights[i] = norm_weights[i] * torch.linalg.norm(clean_server_grad) / (torch.linalg.norm(grads[i]))\n",
    "        \n",
    "        print('Aggregation Weights: ', norm_weights)\n",
    "        self.log.append((iter, 'Aggregation Weights', 'FLtrust', norm_weights))\n",
    "\n",
    "        self.global_net.aggregate([grad.state_dict() for grad in nets_grads], aggr_weights=norm_weights)\n",
    "            \n",
    "            \n",
    "\n",
    "    def train_local_net(self, is_malicious, net_id, iter, ref_net_for_minimizing_dist=None):\n",
    "        if is_malicious:\n",
    "            network=self.mal_nets[net_id]\n",
    "            optim=self.mal_net_optims[net_id]\n",
    "            # will change later to aggregate of benign_nets\n",
    "            if ref_net_for_minimizing_dist is None:\n",
    "                ref_net_for_minimizing_dist = self.benign_nets[0].parameters()\n",
    "            ref_grad, ref_net = ref_net_for_minimizing_dist\n",
    "            if ref_grad is None:\n",
    "                import sys\n",
    "                sys.exit()\n",
    "            if ref_grad is not None:\n",
    "                optim.__setrefgradparams__(ref_grad.parameters())\n",
    "            optim.__setrefparams__(ref_net.parameters())\n",
    "        else:\n",
    "            network=self.benign_nets[net_id]\n",
    "            optim=self.benign_net_optims[net_id]\n",
    "\n",
    "        (_, _, trainloader) = train_loaders[iter][net_id + is_malicious*self.num_of_benign_nets]\n",
    "\n",
    "        poisonNow = True if is_malicious and iter>=self.poison_starts_at_iter else False\n",
    "        for epoch in range(self.n_epochs if not poisonNow else (self.n_epochs*1)):\n",
    "            clientType = 'Malicious' if is_malicious else 'Benign'\n",
    "            print(f'Iter {iter} - Epoch {epoch} - Client Type: {clientType} - Client Number {net_id} - Poison Training {poisonNow}')\n",
    "            train_net(network, optim, trainloader, epoch, poisonNow=poisonNow, attack_type=self.attack_type)\n",
    "        network.calc_grad(self.global_net.state_dict(), change_self=False)\n",
    "        if poisonNow:\n",
    "            acc=test(network)\n",
    "            self.log.append((iter, 'Local net test accuracy: mal', 'train_local_net', acc))\n",
    "            if self.attack_type=='backdoorq':\n",
    "                acc = backdoor_test(network)\n",
    "                self.log.append((iter, 'Local net backdoor test accuracy: mal', 'train_local_net', acc))\n",
    "\n",
    "    def train(self):\n",
    "        n_epochs=self.n_epochs\n",
    "        self.n_epochs=1\n",
    "        for iter in range(self.n_iter):\n",
    "            distanceList=[]\n",
    "            cosList=[]\n",
    "            networks=[]\n",
    "            networks+=self.benign_nets\n",
    "            networks+=self.mal_nets\n",
    "            \n",
    "            for epoch in range(n_epochs):\n",
    "                \n",
    "                print(f'\\n\\n Entering epoch {epoch}')\n",
    "\n",
    "                for i in range(self.num_of_benign_nets):\n",
    "                    self.train_local_net(False, i, iter)\n",
    "                \n",
    "                coses = self.cluster_grads(iter)\n",
    "                \n",
    "                self.debug_log['coses'].append((iter, epoch, coses))\n",
    "\n",
    "            benign_aggr_net=CNN().to(device)\n",
    "            benign_aggr_net.set_param_to_zero()\n",
    "\n",
    "            ### if adversary knows benign_net_aggregates\n",
    "            benign_aggr_net.aggregate([net.state_dict() for net in self.benign_nets])\n",
    "            ### if adversary knows clean server\n",
    "            #benign_aggr_net.copy_params(self.benign_nets[-1].state_dict())\n",
    "\n",
    "            benign_aggr_net_grad=CNN().to(device)\n",
    "            benign_aggr_net_grad.copy_params(benign_aggr_net.state_dict())\n",
    "            benign_aggr_net_grad.aggregate([self.global_net.state_dict()], aggr_weights=[-1])\n",
    "\n",
    "            \n",
    "            for i in range(self.num_of_mal_nets):\n",
    "                self.train_local_net(True, i, iter, ref_net_for_minimizing_dist=(benign_aggr_net_grad, benign_aggr_net))\n",
    "                \n",
    "                if self.scale_up:\n",
    "                    scaled_up_grad = get_scaled_up_grads(self.global_net, networks, self, iter)\n",
    "                    self.mal_nets[i].copy_params(scaled_up_grad.state_dict())\n",
    "                    #self.mal_nets[i].aggregate([benign_aggr_net.state_dict()])\n",
    "                \n",
    "\n",
    "            cosList=[cos_calc_btn_grads(net.grad_params, self.benign_nets[-1].grad_params) for net in networks]\n",
    "            distanceList=[calcDiff(net, self.benign_nets[-1]) for net in networks]\n",
    "\n",
    "            #self.cluster_grads()\n",
    "\n",
    "            self.log.append((iter, 'Benign net distance', 'train', distanceList[:self.num_of_benign_nets]))\n",
    "            print('Benign net distance', distanceList[:self.num_of_benign_nets])\n",
    "            self.log.append((iter, 'Malicious net distance', 'train', distanceList[self.num_of_benign_nets:]))\n",
    "            print('Malicious net distance', distanceList[self.num_of_benign_nets:])\n",
    "            self.log.append((iter, 'Cos sim list', 'train', cosList))\n",
    "            print('cos_sim list ', cosList)\n",
    "\n",
    "            # aggregate nets\n",
    "            #self.global_net.set_param_to_zero()\n",
    "            #self.global_net.aggregate([network.state_dict() for network in networks])\n",
    "            self.FLtrust(iter=iter)\n",
    "            print('\\n\\n\\nAggregate test at iter ', iter)\n",
    "            acc=test(self.global_net)\n",
    "            self.log.append((iter, 'Test accuracy: agg net', 'train', acc))\n",
    "            #backdoor_test(self.global_net)\n",
    "            self.log.append((iter, 'Backdoor test accuracy: agg net', 'train', acc))\n",
    "            self.log.append((iter, 'Distance between aggregate global and clean server', 'train', calcDiff(self.global_net, self.benign_nets[-1])))\n",
    "\n",
    "            # set all local nets equal to global net at the end of the iteration\n",
    "            \n",
    "            for network in networks:\n",
    "                network.copy_params(self.global_net.state_dict())\n",
    "            "
   ]
  },
  {
   "cell_type": "code",
   "execution_count": 167,
   "metadata": {
    "id": "IPqR6UKz9G7U"
   },
   "outputs": [],
   "source": [
    "poison_dict = dict()\n",
    "poison_dict['poison_delta'] = 0.1\n",
    "poison_dict['poison_pattern'] = [[23,25], [24,24],[25,23],[25,25]]\n",
    "poison_dict['poisoning_per_batch'] = 80\n",
    "poison_dict['poison_label_swap'] = 0"
   ]
  },
  {
   "cell_type": "code",
   "execution_count": 168,
   "metadata": {
    "colab": {
     "base_uri": "https://localhost:8080/"
    },
    "id": "szKjrPoXvw_x",
    "outputId": "f9875642-8768-4770-8b3a-57106ae85412"
   },
   "outputs": [
    {
     "name": "stdout",
     "output_type": "stream",
     "text": [
      "[2, 2, 1, 1, 2, 1, 2, 4, 5] 20\n",
      "[8, 4, 8, 7, 0, 5, 3, 8, 8, 6, 8, 7, 2, 6, 1, 7, 4, 7, 0, 1]\n"
     ]
    },
    {
     "data": {
      "text/plain": [
       "<torch._C.Generator at 0x1c2913e2250>"
      ]
     },
     "execution_count": 168,
     "metadata": {},
     "output_type": "execute_result"
    }
   ],
   "source": [
    "#@title\n",
    "import torchvision\n",
    "import random\n",
    "\n",
    "batch_size_train = 100\n",
    "batch_size_test = 1000\n",
    "learning_rate = 0.01\n",
    "log_interval = 10\n",
    "\n",
    "\n",
    "### important hyperparameters\n",
    "num_of_workers=20\n",
    "num_of_mal_workers=0\n",
    "n_iter=50\n",
    "n_epochs=5\n",
    "poison_starts_at_iter=n_iter\n",
    "inertia=0.1\n",
    "momentum=0.1\n",
    "attack_type='label_flip'\n",
    "scale_up=False\n",
    "minimizeDist=False\n",
    "\n",
    "iid = False\n",
    "num_of_distributions = int(num_of_workers/2)\n",
    "num_of_workers_in_distribs = num_of_workers * np.random.dirichlet(np.array(num_of_distributions * [3.0]))\n",
    "num_of_workers_in_distribs = [int(val) for val in num_of_workers_in_distribs]\n",
    "while 0 in num_of_workers_in_distribs:\n",
    "    num_of_workers_in_distribs.remove(0)\n",
    "num_of_workers_in_distribs.append(num_of_workers-sum(num_of_workers_in_distribs))\n",
    "print(num_of_workers_in_distribs, sum(num_of_workers_in_distribs))\n",
    "num_of_distributions = len(num_of_workers_in_distribs)\n",
    "copylist = []\n",
    "for i in range(len(num_of_workers_in_distribs)):\n",
    "    copylist += num_of_workers_in_distribs[i]*[i]\n",
    "random.shuffle(copylist)\n",
    "print(copylist)\n",
    "\n",
    "device=torch.device('cuda:0' if torch.cuda.is_available() else 'cpu')\n",
    "\n",
    "random_seed = 1\n",
    "torch.backends.cudnn.enabled = False\n",
    "torch.manual_seed(random_seed)"
   ]
  },
  {
   "cell_type": "code",
   "execution_count": 169,
   "metadata": {
    "id": "UoYIstgt9-TH"
   },
   "outputs": [],
   "source": [
    "train_losses = []\n",
    "train_counter = []\n",
    "test_losses = []\n",
    "#test_counter = [i*len(train_loader.dataset) for i in range(n_epochs + 1)]"
   ]
  },
  {
   "cell_type": "code",
   "execution_count": 170,
   "metadata": {
    "id": "5WkA_f7UuiOP"
   },
   "outputs": [],
   "source": [
    "#@title\n",
    "from torchvision import datasets, transforms\n",
    "\n",
    "dataPath = ''\n",
    "\n",
    "import random\n",
    "\n",
    "train_loaders=[]\n",
    "\n",
    "transform = transforms.Compose([transforms.ToTensor(),\n",
    "    ### if dataset is mnist\n",
    "    transforms.Normalize((0.1307,), (0.3081,))])\n",
    "    ### if dataset is cifar\n",
    "    #transforms.Normalize((0.5, 0.5, 0.5), (0.5, 0.5, 0.5))])\n",
    "\n",
    "train_dataset = datasets.FashionMNIST('', train=True, download=True,\n",
    "                               transform=transform)\n",
    "test_dataset = datasets.FashionMNIST('', train=False, transform=transform)\n",
    "\n",
    "test_loader = torch.utils.data.DataLoader(\n",
    "  test_dataset,\n",
    "  batch_size=batch_size_test, shuffle=True)\n",
    "\n",
    "all_range = list(range(len(train_dataset)))\n",
    "random.shuffle(all_range)\n",
    "\n",
    "def get_train_iid(all_range, model_no, iter_no):\n",
    "    \"\"\"\n",
    "    This method equally splits the dataset.\n",
    "    :param params:\n",
    "    :param all_range:\n",
    "    :param model_no:\n",
    "    :return:\n",
    "    \"\"\"\n",
    "\n",
    "    data_len_for_iter = int(len(train_dataset) / n_iter)\n",
    "    data_len = int(data_len_for_iter/num_of_workers)\n",
    "    sub_indices_for_iter = all_range[iter_no * data_len_for_iter: (iter_no + 1) * data_len_for_iter]\n",
    "    sub_indices = sub_indices_for_iter[model_no * data_len: (model_no + 1) * data_len ]\n",
    "    train_loader = torch.utils.data.DataLoader(train_dataset,\n",
    "                                        batch_size=batch_size_train,\n",
    "                                        sampler=torch.utils.data.sampler.SubsetRandomSampler(sub_indices)\n",
    "                                        )\n",
    "    return train_loader\n",
    "\n",
    "def get_train_noniid(indices):\n",
    "    \"\"\"\n",
    "    This method is used along with Dirichlet distribution\n",
    "    :param params:\n",
    "    :param indices:\n",
    "    :return:\n",
    "    \"\"\"\n",
    "    train_loader = torch.utils.data.DataLoader(train_dataset,\n",
    "                                        batch_size=int(len(train_dataset)/num_of_workers),\n",
    "                                        sampler=torch.utils.data.sampler.SubsetRandomSampler(\n",
    "                                            indices))\n",
    "    return train_loader\n",
    "\n",
    "def poison_test_dataset(test_dataset, batch_size):\n",
    "    logger.info('get poison test loader')\n",
    "    # delete the test data with target label\n",
    "    test_classes = {}\n",
    "    for ind, x in enumerate(test_dataset):\n",
    "        _, label = x\n",
    "        if label in test_classes:\n",
    "            test_classes[label].append(ind)\n",
    "        else:\n",
    "            test_classes[label] = [ind]\n",
    "\n",
    "    range_no_id = list(range(0, len(test_dataset)))\n",
    "    for image_ind in test_classes[poison_dict['poison_label_swap']]:\n",
    "        if image_ind in range_no_id:\n",
    "            range_no_id.remove(image_ind)\n",
    "    poison_label_inds = test_classes[poison_dict['poison_label_swap']]\n",
    "\n",
    "    return torch.utils.data.DataLoader(test_dataset,\n",
    "                        batch_size=batch_size,\n",
    "                        sampler=torch.utils.data.sampler.SubsetRandomSampler(\n",
    "                            range_no_id)), \\\n",
    "            torch.utils.data.DataLoader(test_dataset,\n",
    "                                        batch_size=batch_size,\n",
    "                                        sampler=torch.utils.data.sampler.SubsetRandomSampler(\n",
    "                                            poison_label_inds))\n",
    "    "
   ]
  },
  {
   "cell_type": "code",
   "execution_count": 171,
   "metadata": {
    "id": "nprLWVYSlzMe"
   },
   "outputs": [],
   "source": [
    "from collections import defaultdict\n",
    "\n",
    "def sample_dirichlet_train_data(no_participants=num_of_workers, dataset=train_dataset, alpha=0.9, copylist=np.arange(num_of_workers)):\n",
    "    \"\"\"\n",
    "        Input: Number of participants and alpha (param for distribution)\n",
    "        Output: A list of indices denoting data in CIFAR training set.\n",
    "        Requires: dataset_classes, a preprocessed class-indice dictionary.\n",
    "        Sample Method: take a uniformly sampled 10-dimension vector as parameters for\n",
    "        dirichlet distribution to sample number of images in each class.\n",
    "    \"\"\"\n",
    "\n",
    "    dataset_classes = {}\n",
    "    for ind, x in enumerate(dataset):\n",
    "        _, label = x\n",
    "        #if ind in self.params['poison_images'] or ind in self.params['poison_images_test']:\n",
    "        #    continue\n",
    "        if label in dataset_classes:\n",
    "            dataset_classes[label].append(ind)\n",
    "        else:\n",
    "            dataset_classes[label] = [ind]\n",
    "    class_size = len(dataset_classes[0])\n",
    "    per_participant_list = defaultdict(list)\n",
    "    no_classes = len(dataset_classes.keys())\n",
    "\n",
    "    for n in range(no_classes):\n",
    "        random.shuffle(dataset_classes[n])\n",
    "        num_of_non_iid_participants = len(np.unique(copylist))\n",
    "        sampled_probabilities = np.random.dirichlet(\n",
    "            np.array(num_of_non_iid_participants * [alpha]))\n",
    "        new_list = []\n",
    "        for ip in copylist:\n",
    "            #new_list.append(np.random.normal(loc=sampled_probabilities[ip], scale=0.005))\n",
    "            new_list.append(sampled_probabilities[ip])\n",
    "        sampled_probabilities = class_size * np.array(new_list)/np.sum(np.array(new_list))\n",
    "        sigmas = 0.0 * sampled_probabilities\n",
    "        sampled_probabilities = np.random.normal(sampled_probabilities, scale=sigmas)\n",
    "        print(sampled_probabilities)\n",
    "        for user in range(no_participants):\n",
    "            no_imgs = int(round(sampled_probabilities[user]))\n",
    "            sampled_list = dataset_classes[n][:min(len(dataset_classes[n]), no_imgs)]\n",
    "            per_participant_list[user].extend(sampled_list)\n",
    "            dataset_classes[n] = dataset_classes[n][min(len(dataset_classes[n]), no_imgs):]\n",
    "\n",
    "    return per_participant_list"
   ]
  },
  {
   "cell_type": "code",
   "execution_count": 172,
   "metadata": {
    "colab": {
     "base_uri": "https://localhost:8080/"
    },
    "id": "eoJhvrcTwY6O",
    "outputId": "68bbf02a-521b-49df-d5f8-bf85c527128b"
   },
   "outputs": [
    {
     "name": "stdout",
     "output_type": "stream",
     "text": [
      "[  7.10118868 808.08424894   7.10118868 353.0690154  585.5019439\n",
      " 173.63100703 269.49057165   7.10118868   7.10118868 260.75521485\n",
      "   7.10118868 353.0690154   50.84591976 260.75521485 374.78384059\n",
      " 353.0690154  808.08424894 353.0690154  585.5019439  374.78384059]\n",
      "[647.7146351  140.46022125 647.7146351   53.59680998 131.82973814\n",
      " 103.33971813 978.55142531 647.7146351  647.7146351    6.69175816\n",
      " 647.7146351   53.59680998 304.23557208   6.69175816 301.47471699\n",
      "  53.59680998 140.46022125  53.59680998 131.82973814 301.47471699]\n",
      "[  74.19258933    5.83570332   74.19258933 1060.38751915   66.05869222\n",
      "  152.86232623  112.80204758   74.19258933   74.19258933   83.88577274\n",
      "   74.19258933 1060.38751915   78.7357267    83.88577274  365.76326984\n",
      " 1060.38751915    5.83570332 1060.38751915   66.05869222  365.76326984]\n",
      "[3.31493943e+02 8.24813417e+01 3.31493943e+02 3.57200698e-02\n",
      " 6.63856188e+02 1.11813895e+02 1.29594859e+03 3.31493943e+02\n",
      " 3.31493943e+02 4.02494406e+01 3.31493943e+02 3.57200698e-02\n",
      " 1.84736163e+02 4.02494406e+01 5.88357408e+02 3.57200698e-02\n",
      " 8.24813417e+01 3.57200698e-02 6.63856188e+02 5.88357408e+02]\n",
      "[ 157.39941921  175.68063393  157.39941921  415.36389234   92.15799437\n",
      " 1140.47421294  240.12920021  157.39941921  157.39941921  334.91829051\n",
      "  157.39941921  415.36389234  105.74417509  334.91829051  429.84295436\n",
      "  415.36389234  175.68063393  415.36389234   92.15799437  429.84295436]\n",
      "[140.17351668 103.38068721 140.17351668 520.46093862 332.86139766\n",
      " 166.63873183  68.51546136 140.17351668 140.17351668 810.56100944\n",
      " 140.17351668 520.46093862 100.29721188 810.56100944 194.1155342\n",
      " 520.46093862 103.38068721 520.46093862 332.86139766 194.1155342 ]\n",
      "[289.9057791  647.40124167 289.9057791  250.33117759 459.5459127\n",
      " 275.3905482  354.99003086 289.9057791  289.9057791  275.4171785\n",
      " 289.9057791  250.33117759  96.94773741 275.4171785   28.54470598\n",
      " 250.33117759 647.40124167 250.33117759 459.5459127   28.54470598]\n",
      "[  95.80170907  163.44103258   95.80170907  157.84070505   65.59937216\n",
      "  183.13975706   98.19704125   95.80170907   95.80170907 1038.25914029\n",
      "   95.80170907  157.84070505  325.238087   1038.25914029  874.22732952\n",
      "  157.84070505  163.44103258  157.84070505   65.59937216  874.22732952]\n",
      "[203.20164507  95.45699395 203.20164507 301.17311434 770.25077098\n",
      " 659.80390967 268.3367221  203.20164507 203.20164507 132.9461941\n",
      " 203.20164507 301.17311434 219.21233938 132.9461941  317.31921404\n",
      " 301.17311434  95.45699395 301.17311434 770.25077098 317.31921404]\n",
      "[ 317.73136228  255.58163107  317.73136228   60.54552908  131.13375027\n",
      " 1124.69374583  451.5047945   317.73136228  317.73136228  293.03550794\n",
      "  317.73136228   60.54552908   50.97208635  293.03550794  591.24433352\n",
      "   60.54552908  255.58163107   60.54552908  131.13375027  591.24433352]\n",
      "[[(-1, 0, <torch.utils.data.dataloader.DataLoader object at 0x000001C2E11C5948>), (-1, 1, <torch.utils.data.dataloader.DataLoader object at 0x000001C2E0898FC8>), (-1, 2, <torch.utils.data.dataloader.DataLoader object at 0x000001C2E0898A88>), (-1, 3, <torch.utils.data.dataloader.DataLoader object at 0x000001C2E0898DC8>), (-1, 4, <torch.utils.data.dataloader.DataLoader object at 0x000001C2E0898F48>), (-1, 5, <torch.utils.data.dataloader.DataLoader object at 0x000001C2E0898908>), (-1, 6, <torch.utils.data.dataloader.DataLoader object at 0x000001C2E0898248>), (-1, 7, <torch.utils.data.dataloader.DataLoader object at 0x000001C2E0898808>), (-1, 8, <torch.utils.data.dataloader.DataLoader object at 0x000001C2E0898A48>), (-1, 9, <torch.utils.data.dataloader.DataLoader object at 0x000001C2E0898E88>), (-1, 10, <torch.utils.data.dataloader.DataLoader object at 0x000001C2E0898108>), (-1, 11, <torch.utils.data.dataloader.DataLoader object at 0x000001C2E13FA948>), (-1, 12, <torch.utils.data.dataloader.DataLoader object at 0x000001C2E13FAA48>), (-1, 13, <torch.utils.data.dataloader.DataLoader object at 0x000001C2E12DD148>), (-1, 14, <torch.utils.data.dataloader.DataLoader object at 0x000001C2E12DDAC8>), (-1, 15, <torch.utils.data.dataloader.DataLoader object at 0x000001C2E12DDFC8>), (-1, 16, <torch.utils.data.dataloader.DataLoader object at 0x000001C2E1614D88>), (-1, 17, <torch.utils.data.dataloader.DataLoader object at 0x000001C2E16147C8>), (-1, 18, <torch.utils.data.dataloader.DataLoader object at 0x000001C2E1614748>), (-1, 19, <torch.utils.data.dataloader.DataLoader object at 0x000001C2E1614708>)], [(-1, 0, <torch.utils.data.dataloader.DataLoader object at 0x000001C2E11C5948>), (-1, 1, <torch.utils.data.dataloader.DataLoader object at 0x000001C2E0898FC8>), (-1, 2, <torch.utils.data.dataloader.DataLoader object at 0x000001C2E0898A88>), (-1, 3, <torch.utils.data.dataloader.DataLoader object at 0x000001C2E0898DC8>), (-1, 4, <torch.utils.data.dataloader.DataLoader object at 0x000001C2E0898F48>), (-1, 5, <torch.utils.data.dataloader.DataLoader object at 0x000001C2E0898908>), (-1, 6, <torch.utils.data.dataloader.DataLoader object at 0x000001C2E0898248>), (-1, 7, <torch.utils.data.dataloader.DataLoader object at 0x000001C2E0898808>), (-1, 8, <torch.utils.data.dataloader.DataLoader object at 0x000001C2E0898A48>), (-1, 9, <torch.utils.data.dataloader.DataLoader object at 0x000001C2E0898E88>), (-1, 10, <torch.utils.data.dataloader.DataLoader object at 0x000001C2E0898108>), (-1, 11, <torch.utils.data.dataloader.DataLoader object at 0x000001C2E13FA948>), (-1, 12, <torch.utils.data.dataloader.DataLoader object at 0x000001C2E13FAA48>), (-1, 13, <torch.utils.data.dataloader.DataLoader object at 0x000001C2E12DD148>), (-1, 14, <torch.utils.data.dataloader.DataLoader object at 0x000001C2E12DDAC8>), (-1, 15, <torch.utils.data.dataloader.DataLoader object at 0x000001C2E12DDFC8>), (-1, 16, <torch.utils.data.dataloader.DataLoader object at 0x000001C2E1614D88>), (-1, 17, <torch.utils.data.dataloader.DataLoader object at 0x000001C2E16147C8>), (-1, 18, <torch.utils.data.dataloader.DataLoader object at 0x000001C2E1614748>), (-1, 19, <torch.utils.data.dataloader.DataLoader object at 0x000001C2E1614708>)], [(-1, 0, <torch.utils.data.dataloader.DataLoader object at 0x000001C2E11C5948>), (-1, 1, <torch.utils.data.dataloader.DataLoader object at 0x000001C2E0898FC8>), (-1, 2, <torch.utils.data.dataloader.DataLoader object at 0x000001C2E0898A88>), (-1, 3, <torch.utils.data.dataloader.DataLoader object at 0x000001C2E0898DC8>), (-1, 4, <torch.utils.data.dataloader.DataLoader object at 0x000001C2E0898F48>), (-1, 5, <torch.utils.data.dataloader.DataLoader object at 0x000001C2E0898908>), (-1, 6, <torch.utils.data.dataloader.DataLoader object at 0x000001C2E0898248>), (-1, 7, <torch.utils.data.dataloader.DataLoader object at 0x000001C2E0898808>), (-1, 8, <torch.utils.data.dataloader.DataLoader object at 0x000001C2E0898A48>), (-1, 9, <torch.utils.data.dataloader.DataLoader object at 0x000001C2E0898E88>), (-1, 10, <torch.utils.data.dataloader.DataLoader object at 0x000001C2E0898108>), (-1, 11, <torch.utils.data.dataloader.DataLoader object at 0x000001C2E13FA948>), (-1, 12, <torch.utils.data.dataloader.DataLoader object at 0x000001C2E13FAA48>), (-1, 13, <torch.utils.data.dataloader.DataLoader object at 0x000001C2E12DD148>), (-1, 14, <torch.utils.data.dataloader.DataLoader object at 0x000001C2E12DDAC8>), (-1, 15, <torch.utils.data.dataloader.DataLoader object at 0x000001C2E12DDFC8>), (-1, 16, <torch.utils.data.dataloader.DataLoader object at 0x000001C2E1614D88>), (-1, 17, <torch.utils.data.dataloader.DataLoader object at 0x000001C2E16147C8>), (-1, 18, <torch.utils.data.dataloader.DataLoader object at 0x000001C2E1614748>), (-1, 19, <torch.utils.data.dataloader.DataLoader object at 0x000001C2E1614708>)], [(-1, 0, <torch.utils.data.dataloader.DataLoader object at 0x000001C2E11C5948>), (-1, 1, <torch.utils.data.dataloader.DataLoader object at 0x000001C2E0898FC8>), (-1, 2, <torch.utils.data.dataloader.DataLoader object at 0x000001C2E0898A88>), (-1, 3, <torch.utils.data.dataloader.DataLoader object at 0x000001C2E0898DC8>), (-1, 4, <torch.utils.data.dataloader.DataLoader object at 0x000001C2E0898F48>), (-1, 5, <torch.utils.data.dataloader.DataLoader object at 0x000001C2E0898908>), (-1, 6, <torch.utils.data.dataloader.DataLoader object at 0x000001C2E0898248>), (-1, 7, <torch.utils.data.dataloader.DataLoader object at 0x000001C2E0898808>), (-1, 8, <torch.utils.data.dataloader.DataLoader object at 0x000001C2E0898A48>), (-1, 9, <torch.utils.data.dataloader.DataLoader object at 0x000001C2E0898E88>), (-1, 10, <torch.utils.data.dataloader.DataLoader object at 0x000001C2E0898108>), (-1, 11, <torch.utils.data.dataloader.DataLoader object at 0x000001C2E13FA948>), (-1, 12, <torch.utils.data.dataloader.DataLoader object at 0x000001C2E13FAA48>), (-1, 13, <torch.utils.data.dataloader.DataLoader object at 0x000001C2E12DD148>), (-1, 14, <torch.utils.data.dataloader.DataLoader object at 0x000001C2E12DDAC8>), (-1, 15, <torch.utils.data.dataloader.DataLoader object at 0x000001C2E12DDFC8>), (-1, 16, <torch.utils.data.dataloader.DataLoader object at 0x000001C2E1614D88>), (-1, 17, <torch.utils.data.dataloader.DataLoader object at 0x000001C2E16147C8>), (-1, 18, <torch.utils.data.dataloader.DataLoader object at 0x000001C2E1614748>), (-1, 19, <torch.utils.data.dataloader.DataLoader object at 0x000001C2E1614708>)], [(-1, 0, <torch.utils.data.dataloader.DataLoader object at 0x000001C2E11C5948>), (-1, 1, <torch.utils.data.dataloader.DataLoader object at 0x000001C2E0898FC8>), (-1, 2, <torch.utils.data.dataloader.DataLoader object at 0x000001C2E0898A88>), (-1, 3, <torch.utils.data.dataloader.DataLoader object at 0x000001C2E0898DC8>), (-1, 4, <torch.utils.data.dataloader.DataLoader object at 0x000001C2E0898F48>), (-1, 5, <torch.utils.data.dataloader.DataLoader object at 0x000001C2E0898908>), (-1, 6, <torch.utils.data.dataloader.DataLoader object at 0x000001C2E0898248>), (-1, 7, <torch.utils.data.dataloader.DataLoader object at 0x000001C2E0898808>), (-1, 8, <torch.utils.data.dataloader.DataLoader object at 0x000001C2E0898A48>), (-1, 9, <torch.utils.data.dataloader.DataLoader object at 0x000001C2E0898E88>), (-1, 10, <torch.utils.data.dataloader.DataLoader object at 0x000001C2E0898108>), (-1, 11, <torch.utils.data.dataloader.DataLoader object at 0x000001C2E13FA948>), (-1, 12, <torch.utils.data.dataloader.DataLoader object at 0x000001C2E13FAA48>), (-1, 13, <torch.utils.data.dataloader.DataLoader object at 0x000001C2E12DD148>), (-1, 14, <torch.utils.data.dataloader.DataLoader object at 0x000001C2E12DDAC8>), (-1, 15, <torch.utils.data.dataloader.DataLoader object at 0x000001C2E12DDFC8>), (-1, 16, <torch.utils.data.dataloader.DataLoader object at 0x000001C2E1614D88>), (-1, 17, <torch.utils.data.dataloader.DataLoader object at 0x000001C2E16147C8>), (-1, 18, <torch.utils.data.dataloader.DataLoader object at 0x000001C2E1614748>), (-1, 19, <torch.utils.data.dataloader.DataLoader object at 0x000001C2E1614708>)], [(-1, 0, <torch.utils.data.dataloader.DataLoader object at 0x000001C2E11C5948>), (-1, 1, <torch.utils.data.dataloader.DataLoader object at 0x000001C2E0898FC8>), (-1, 2, <torch.utils.data.dataloader.DataLoader object at 0x000001C2E0898A88>), (-1, 3, <torch.utils.data.dataloader.DataLoader object at 0x000001C2E0898DC8>), (-1, 4, <torch.utils.data.dataloader.DataLoader object at 0x000001C2E0898F48>), (-1, 5, <torch.utils.data.dataloader.DataLoader object at 0x000001C2E0898908>), (-1, 6, <torch.utils.data.dataloader.DataLoader object at 0x000001C2E0898248>), (-1, 7, <torch.utils.data.dataloader.DataLoader object at 0x000001C2E0898808>), (-1, 8, <torch.utils.data.dataloader.DataLoader object at 0x000001C2E0898A48>), (-1, 9, <torch.utils.data.dataloader.DataLoader object at 0x000001C2E0898E88>), (-1, 10, <torch.utils.data.dataloader.DataLoader object at 0x000001C2E0898108>), (-1, 11, <torch.utils.data.dataloader.DataLoader object at 0x000001C2E13FA948>), (-1, 12, <torch.utils.data.dataloader.DataLoader object at 0x000001C2E13FAA48>), (-1, 13, <torch.utils.data.dataloader.DataLoader object at 0x000001C2E12DD148>), (-1, 14, <torch.utils.data.dataloader.DataLoader object at 0x000001C2E12DDAC8>), (-1, 15, <torch.utils.data.dataloader.DataLoader object at 0x000001C2E12DDFC8>), (-1, 16, <torch.utils.data.dataloader.DataLoader object at 0x000001C2E1614D88>), (-1, 17, <torch.utils.data.dataloader.DataLoader object at 0x000001C2E16147C8>), (-1, 18, <torch.utils.data.dataloader.DataLoader object at 0x000001C2E1614748>), (-1, 19, <torch.utils.data.dataloader.DataLoader object at 0x000001C2E1614708>)], [(-1, 0, <torch.utils.data.dataloader.DataLoader object at 0x000001C2E11C5948>), (-1, 1, <torch.utils.data.dataloader.DataLoader object at 0x000001C2E0898FC8>), (-1, 2, <torch.utils.data.dataloader.DataLoader object at 0x000001C2E0898A88>), (-1, 3, <torch.utils.data.dataloader.DataLoader object at 0x000001C2E0898DC8>), (-1, 4, <torch.utils.data.dataloader.DataLoader object at 0x000001C2E0898F48>), (-1, 5, <torch.utils.data.dataloader.DataLoader object at 0x000001C2E0898908>), (-1, 6, <torch.utils.data.dataloader.DataLoader object at 0x000001C2E0898248>), (-1, 7, <torch.utils.data.dataloader.DataLoader object at 0x000001C2E0898808>), (-1, 8, <torch.utils.data.dataloader.DataLoader object at 0x000001C2E0898A48>), (-1, 9, <torch.utils.data.dataloader.DataLoader object at 0x000001C2E0898E88>), (-1, 10, <torch.utils.data.dataloader.DataLoader object at 0x000001C2E0898108>), (-1, 11, <torch.utils.data.dataloader.DataLoader object at 0x000001C2E13FA948>), (-1, 12, <torch.utils.data.dataloader.DataLoader object at 0x000001C2E13FAA48>), (-1, 13, <torch.utils.data.dataloader.DataLoader object at 0x000001C2E12DD148>), (-1, 14, <torch.utils.data.dataloader.DataLoader object at 0x000001C2E12DDAC8>), (-1, 15, <torch.utils.data.dataloader.DataLoader object at 0x000001C2E12DDFC8>), (-1, 16, <torch.utils.data.dataloader.DataLoader object at 0x000001C2E1614D88>), (-1, 17, <torch.utils.data.dataloader.DataLoader object at 0x000001C2E16147C8>), (-1, 18, <torch.utils.data.dataloader.DataLoader object at 0x000001C2E1614748>), (-1, 19, <torch.utils.data.dataloader.DataLoader object at 0x000001C2E1614708>)], [(-1, 0, <torch.utils.data.dataloader.DataLoader object at 0x000001C2E11C5948>), (-1, 1, <torch.utils.data.dataloader.DataLoader object at 0x000001C2E0898FC8>), (-1, 2, <torch.utils.data.dataloader.DataLoader object at 0x000001C2E0898A88>), (-1, 3, <torch.utils.data.dataloader.DataLoader object at 0x000001C2E0898DC8>), (-1, 4, <torch.utils.data.dataloader.DataLoader object at 0x000001C2E0898F48>), (-1, 5, <torch.utils.data.dataloader.DataLoader object at 0x000001C2E0898908>), (-1, 6, <torch.utils.data.dataloader.DataLoader object at 0x000001C2E0898248>), (-1, 7, <torch.utils.data.dataloader.DataLoader object at 0x000001C2E0898808>), (-1, 8, <torch.utils.data.dataloader.DataLoader object at 0x000001C2E0898A48>), (-1, 9, <torch.utils.data.dataloader.DataLoader object at 0x000001C2E0898E88>), (-1, 10, <torch.utils.data.dataloader.DataLoader object at 0x000001C2E0898108>), (-1, 11, <torch.utils.data.dataloader.DataLoader object at 0x000001C2E13FA948>), (-1, 12, <torch.utils.data.dataloader.DataLoader object at 0x000001C2E13FAA48>), (-1, 13, <torch.utils.data.dataloader.DataLoader object at 0x000001C2E12DD148>), (-1, 14, <torch.utils.data.dataloader.DataLoader object at 0x000001C2E12DDAC8>), (-1, 15, <torch.utils.data.dataloader.DataLoader object at 0x000001C2E12DDFC8>), (-1, 16, <torch.utils.data.dataloader.DataLoader object at 0x000001C2E1614D88>), (-1, 17, <torch.utils.data.dataloader.DataLoader object at 0x000001C2E16147C8>), (-1, 18, <torch.utils.data.dataloader.DataLoader object at 0x000001C2E1614748>), (-1, 19, <torch.utils.data.dataloader.DataLoader object at 0x000001C2E1614708>)], [(-1, 0, <torch.utils.data.dataloader.DataLoader object at 0x000001C2E11C5948>), (-1, 1, <torch.utils.data.dataloader.DataLoader object at 0x000001C2E0898FC8>), (-1, 2, <torch.utils.data.dataloader.DataLoader object at 0x000001C2E0898A88>), (-1, 3, <torch.utils.data.dataloader.DataLoader object at 0x000001C2E0898DC8>), (-1, 4, <torch.utils.data.dataloader.DataLoader object at 0x000001C2E0898F48>), (-1, 5, <torch.utils.data.dataloader.DataLoader object at 0x000001C2E0898908>), (-1, 6, <torch.utils.data.dataloader.DataLoader object at 0x000001C2E0898248>), (-1, 7, <torch.utils.data.dataloader.DataLoader object at 0x000001C2E0898808>), (-1, 8, <torch.utils.data.dataloader.DataLoader object at 0x000001C2E0898A48>), (-1, 9, <torch.utils.data.dataloader.DataLoader object at 0x000001C2E0898E88>), (-1, 10, <torch.utils.data.dataloader.DataLoader object at 0x000001C2E0898108>), (-1, 11, <torch.utils.data.dataloader.DataLoader object at 0x000001C2E13FA948>), (-1, 12, <torch.utils.data.dataloader.DataLoader object at 0x000001C2E13FAA48>), (-1, 13, <torch.utils.data.dataloader.DataLoader object at 0x000001C2E12DD148>), (-1, 14, <torch.utils.data.dataloader.DataLoader object at 0x000001C2E12DDAC8>), (-1, 15, <torch.utils.data.dataloader.DataLoader object at 0x000001C2E12DDFC8>), (-1, 16, <torch.utils.data.dataloader.DataLoader object at 0x000001C2E1614D88>), (-1, 17, <torch.utils.data.dataloader.DataLoader object at 0x000001C2E16147C8>), (-1, 18, <torch.utils.data.dataloader.DataLoader object at 0x000001C2E1614748>), (-1, 19, <torch.utils.data.dataloader.DataLoader object at 0x000001C2E1614708>)], [(-1, 0, <torch.utils.data.dataloader.DataLoader object at 0x000001C2E11C5948>), (-1, 1, <torch.utils.data.dataloader.DataLoader object at 0x000001C2E0898FC8>), (-1, 2, <torch.utils.data.dataloader.DataLoader object at 0x000001C2E0898A88>), (-1, 3, <torch.utils.data.dataloader.DataLoader object at 0x000001C2E0898DC8>), (-1, 4, <torch.utils.data.dataloader.DataLoader object at 0x000001C2E0898F48>), (-1, 5, <torch.utils.data.dataloader.DataLoader object at 0x000001C2E0898908>), (-1, 6, <torch.utils.data.dataloader.DataLoader object at 0x000001C2E0898248>), (-1, 7, <torch.utils.data.dataloader.DataLoader object at 0x000001C2E0898808>), (-1, 8, <torch.utils.data.dataloader.DataLoader object at 0x000001C2E0898A48>), (-1, 9, <torch.utils.data.dataloader.DataLoader object at 0x000001C2E0898E88>), (-1, 10, <torch.utils.data.dataloader.DataLoader object at 0x000001C2E0898108>), (-1, 11, <torch.utils.data.dataloader.DataLoader object at 0x000001C2E13FA948>), (-1, 12, <torch.utils.data.dataloader.DataLoader object at 0x000001C2E13FAA48>), (-1, 13, <torch.utils.data.dataloader.DataLoader object at 0x000001C2E12DD148>), (-1, 14, <torch.utils.data.dataloader.DataLoader object at 0x000001C2E12DDAC8>), (-1, 15, <torch.utils.data.dataloader.DataLoader object at 0x000001C2E12DDFC8>), (-1, 16, <torch.utils.data.dataloader.DataLoader object at 0x000001C2E1614D88>), (-1, 17, <torch.utils.data.dataloader.DataLoader object at 0x000001C2E16147C8>), (-1, 18, <torch.utils.data.dataloader.DataLoader object at 0x000001C2E1614748>), (-1, 19, <torch.utils.data.dataloader.DataLoader object at 0x000001C2E1614708>)], [(-1, 0, <torch.utils.data.dataloader.DataLoader object at 0x000001C2E11C5948>), (-1, 1, <torch.utils.data.dataloader.DataLoader object at 0x000001C2E0898FC8>), (-1, 2, <torch.utils.data.dataloader.DataLoader object at 0x000001C2E0898A88>), (-1, 3, <torch.utils.data.dataloader.DataLoader object at 0x000001C2E0898DC8>), (-1, 4, <torch.utils.data.dataloader.DataLoader object at 0x000001C2E0898F48>), (-1, 5, <torch.utils.data.dataloader.DataLoader object at 0x000001C2E0898908>), (-1, 6, <torch.utils.data.dataloader.DataLoader object at 0x000001C2E0898248>), (-1, 7, <torch.utils.data.dataloader.DataLoader object at 0x000001C2E0898808>), (-1, 8, <torch.utils.data.dataloader.DataLoader object at 0x000001C2E0898A48>), (-1, 9, <torch.utils.data.dataloader.DataLoader object at 0x000001C2E0898E88>), (-1, 10, <torch.utils.data.dataloader.DataLoader object at 0x000001C2E0898108>), (-1, 11, <torch.utils.data.dataloader.DataLoader object at 0x000001C2E13FA948>), (-1, 12, <torch.utils.data.dataloader.DataLoader object at 0x000001C2E13FAA48>), (-1, 13, <torch.utils.data.dataloader.DataLoader object at 0x000001C2E12DD148>), (-1, 14, <torch.utils.data.dataloader.DataLoader object at 0x000001C2E12DDAC8>), (-1, 15, <torch.utils.data.dataloader.DataLoader object at 0x000001C2E12DDFC8>), (-1, 16, <torch.utils.data.dataloader.DataLoader object at 0x000001C2E1614D88>), (-1, 17, <torch.utils.data.dataloader.DataLoader object at 0x000001C2E16147C8>), (-1, 18, <torch.utils.data.dataloader.DataLoader object at 0x000001C2E1614748>), (-1, 19, <torch.utils.data.dataloader.DataLoader object at 0x000001C2E1614708>)], [(-1, 0, <torch.utils.data.dataloader.DataLoader object at 0x000001C2E11C5948>), (-1, 1, <torch.utils.data.dataloader.DataLoader object at 0x000001C2E0898FC8>), (-1, 2, <torch.utils.data.dataloader.DataLoader object at 0x000001C2E0898A88>), (-1, 3, <torch.utils.data.dataloader.DataLoader object at 0x000001C2E0898DC8>), (-1, 4, <torch.utils.data.dataloader.DataLoader object at 0x000001C2E0898F48>), (-1, 5, <torch.utils.data.dataloader.DataLoader object at 0x000001C2E0898908>), (-1, 6, <torch.utils.data.dataloader.DataLoader object at 0x000001C2E0898248>), (-1, 7, <torch.utils.data.dataloader.DataLoader object at 0x000001C2E0898808>), (-1, 8, <torch.utils.data.dataloader.DataLoader object at 0x000001C2E0898A48>), (-1, 9, <torch.utils.data.dataloader.DataLoader object at 0x000001C2E0898E88>), (-1, 10, <torch.utils.data.dataloader.DataLoader object at 0x000001C2E0898108>), (-1, 11, <torch.utils.data.dataloader.DataLoader object at 0x000001C2E13FA948>), (-1, 12, <torch.utils.data.dataloader.DataLoader object at 0x000001C2E13FAA48>), (-1, 13, <torch.utils.data.dataloader.DataLoader object at 0x000001C2E12DD148>), (-1, 14, <torch.utils.data.dataloader.DataLoader object at 0x000001C2E12DDAC8>), (-1, 15, <torch.utils.data.dataloader.DataLoader object at 0x000001C2E12DDFC8>), (-1, 16, <torch.utils.data.dataloader.DataLoader object at 0x000001C2E1614D88>), (-1, 17, <torch.utils.data.dataloader.DataLoader object at 0x000001C2E16147C8>), (-1, 18, <torch.utils.data.dataloader.DataLoader object at 0x000001C2E1614748>), (-1, 19, <torch.utils.data.dataloader.DataLoader object at 0x000001C2E1614708>)], [(-1, 0, <torch.utils.data.dataloader.DataLoader object at 0x000001C2E11C5948>), (-1, 1, <torch.utils.data.dataloader.DataLoader object at 0x000001C2E0898FC8>), (-1, 2, <torch.utils.data.dataloader.DataLoader object at 0x000001C2E0898A88>), (-1, 3, <torch.utils.data.dataloader.DataLoader object at 0x000001C2E0898DC8>), (-1, 4, <torch.utils.data.dataloader.DataLoader object at 0x000001C2E0898F48>), (-1, 5, <torch.utils.data.dataloader.DataLoader object at 0x000001C2E0898908>), (-1, 6, <torch.utils.data.dataloader.DataLoader object at 0x000001C2E0898248>), (-1, 7, <torch.utils.data.dataloader.DataLoader object at 0x000001C2E0898808>), (-1, 8, <torch.utils.data.dataloader.DataLoader object at 0x000001C2E0898A48>), (-1, 9, <torch.utils.data.dataloader.DataLoader object at 0x000001C2E0898E88>), (-1, 10, <torch.utils.data.dataloader.DataLoader object at 0x000001C2E0898108>), (-1, 11, <torch.utils.data.dataloader.DataLoader object at 0x000001C2E13FA948>), (-1, 12, <torch.utils.data.dataloader.DataLoader object at 0x000001C2E13FAA48>), (-1, 13, <torch.utils.data.dataloader.DataLoader object at 0x000001C2E12DD148>), (-1, 14, <torch.utils.data.dataloader.DataLoader object at 0x000001C2E12DDAC8>), (-1, 15, <torch.utils.data.dataloader.DataLoader object at 0x000001C2E12DDFC8>), (-1, 16, <torch.utils.data.dataloader.DataLoader object at 0x000001C2E1614D88>), (-1, 17, <torch.utils.data.dataloader.DataLoader object at 0x000001C2E16147C8>), (-1, 18, <torch.utils.data.dataloader.DataLoader object at 0x000001C2E1614748>), (-1, 19, <torch.utils.data.dataloader.DataLoader object at 0x000001C2E1614708>)], [(-1, 0, <torch.utils.data.dataloader.DataLoader object at 0x000001C2E11C5948>), (-1, 1, <torch.utils.data.dataloader.DataLoader object at 0x000001C2E0898FC8>), (-1, 2, <torch.utils.data.dataloader.DataLoader object at 0x000001C2E0898A88>), (-1, 3, <torch.utils.data.dataloader.DataLoader object at 0x000001C2E0898DC8>), (-1, 4, <torch.utils.data.dataloader.DataLoader object at 0x000001C2E0898F48>), (-1, 5, <torch.utils.data.dataloader.DataLoader object at 0x000001C2E0898908>), (-1, 6, <torch.utils.data.dataloader.DataLoader object at 0x000001C2E0898248>), (-1, 7, <torch.utils.data.dataloader.DataLoader object at 0x000001C2E0898808>), (-1, 8, <torch.utils.data.dataloader.DataLoader object at 0x000001C2E0898A48>), (-1, 9, <torch.utils.data.dataloader.DataLoader object at 0x000001C2E0898E88>), (-1, 10, <torch.utils.data.dataloader.DataLoader object at 0x000001C2E0898108>), (-1, 11, <torch.utils.data.dataloader.DataLoader object at 0x000001C2E13FA948>), (-1, 12, <torch.utils.data.dataloader.DataLoader object at 0x000001C2E13FAA48>), (-1, 13, <torch.utils.data.dataloader.DataLoader object at 0x000001C2E12DD148>), (-1, 14, <torch.utils.data.dataloader.DataLoader object at 0x000001C2E12DDAC8>), (-1, 15, <torch.utils.data.dataloader.DataLoader object at 0x000001C2E12DDFC8>), (-1, 16, <torch.utils.data.dataloader.DataLoader object at 0x000001C2E1614D88>), (-1, 17, <torch.utils.data.dataloader.DataLoader object at 0x000001C2E16147C8>), (-1, 18, <torch.utils.data.dataloader.DataLoader object at 0x000001C2E1614748>), (-1, 19, <torch.utils.data.dataloader.DataLoader object at 0x000001C2E1614708>)], [(-1, 0, <torch.utils.data.dataloader.DataLoader object at 0x000001C2E11C5948>), (-1, 1, <torch.utils.data.dataloader.DataLoader object at 0x000001C2E0898FC8>), (-1, 2, <torch.utils.data.dataloader.DataLoader object at 0x000001C2E0898A88>), (-1, 3, <torch.utils.data.dataloader.DataLoader object at 0x000001C2E0898DC8>), (-1, 4, <torch.utils.data.dataloader.DataLoader object at 0x000001C2E0898F48>), (-1, 5, <torch.utils.data.dataloader.DataLoader object at 0x000001C2E0898908>), (-1, 6, <torch.utils.data.dataloader.DataLoader object at 0x000001C2E0898248>), (-1, 7, <torch.utils.data.dataloader.DataLoader object at 0x000001C2E0898808>), (-1, 8, <torch.utils.data.dataloader.DataLoader object at 0x000001C2E0898A48>), (-1, 9, <torch.utils.data.dataloader.DataLoader object at 0x000001C2E0898E88>), (-1, 10, <torch.utils.data.dataloader.DataLoader object at 0x000001C2E0898108>), (-1, 11, <torch.utils.data.dataloader.DataLoader object at 0x000001C2E13FA948>), (-1, 12, <torch.utils.data.dataloader.DataLoader object at 0x000001C2E13FAA48>), (-1, 13, <torch.utils.data.dataloader.DataLoader object at 0x000001C2E12DD148>), (-1, 14, <torch.utils.data.dataloader.DataLoader object at 0x000001C2E12DDAC8>), (-1, 15, <torch.utils.data.dataloader.DataLoader object at 0x000001C2E12DDFC8>), (-1, 16, <torch.utils.data.dataloader.DataLoader object at 0x000001C2E1614D88>), (-1, 17, <torch.utils.data.dataloader.DataLoader object at 0x000001C2E16147C8>), (-1, 18, <torch.utils.data.dataloader.DataLoader object at 0x000001C2E1614748>), (-1, 19, <torch.utils.data.dataloader.DataLoader object at 0x000001C2E1614708>)], [(-1, 0, <torch.utils.data.dataloader.DataLoader object at 0x000001C2E11C5948>), (-1, 1, <torch.utils.data.dataloader.DataLoader object at 0x000001C2E0898FC8>), (-1, 2, <torch.utils.data.dataloader.DataLoader object at 0x000001C2E0898A88>), (-1, 3, <torch.utils.data.dataloader.DataLoader object at 0x000001C2E0898DC8>), (-1, 4, <torch.utils.data.dataloader.DataLoader object at 0x000001C2E0898F48>), (-1, 5, <torch.utils.data.dataloader.DataLoader object at 0x000001C2E0898908>), (-1, 6, <torch.utils.data.dataloader.DataLoader object at 0x000001C2E0898248>), (-1, 7, <torch.utils.data.dataloader.DataLoader object at 0x000001C2E0898808>), (-1, 8, <torch.utils.data.dataloader.DataLoader object at 0x000001C2E0898A48>), (-1, 9, <torch.utils.data.dataloader.DataLoader object at 0x000001C2E0898E88>), (-1, 10, <torch.utils.data.dataloader.DataLoader object at 0x000001C2E0898108>), (-1, 11, <torch.utils.data.dataloader.DataLoader object at 0x000001C2E13FA948>), (-1, 12, <torch.utils.data.dataloader.DataLoader object at 0x000001C2E13FAA48>), (-1, 13, <torch.utils.data.dataloader.DataLoader object at 0x000001C2E12DD148>), (-1, 14, <torch.utils.data.dataloader.DataLoader object at 0x000001C2E12DDAC8>), (-1, 15, <torch.utils.data.dataloader.DataLoader object at 0x000001C2E12DDFC8>), (-1, 16, <torch.utils.data.dataloader.DataLoader object at 0x000001C2E1614D88>), (-1, 17, <torch.utils.data.dataloader.DataLoader object at 0x000001C2E16147C8>), (-1, 18, <torch.utils.data.dataloader.DataLoader object at 0x000001C2E1614748>), (-1, 19, <torch.utils.data.dataloader.DataLoader object at 0x000001C2E1614708>)], [(-1, 0, <torch.utils.data.dataloader.DataLoader object at 0x000001C2E11C5948>), (-1, 1, <torch.utils.data.dataloader.DataLoader object at 0x000001C2E0898FC8>), (-1, 2, <torch.utils.data.dataloader.DataLoader object at 0x000001C2E0898A88>), (-1, 3, <torch.utils.data.dataloader.DataLoader object at 0x000001C2E0898DC8>), (-1, 4, <torch.utils.data.dataloader.DataLoader object at 0x000001C2E0898F48>), (-1, 5, <torch.utils.data.dataloader.DataLoader object at 0x000001C2E0898908>), (-1, 6, <torch.utils.data.dataloader.DataLoader object at 0x000001C2E0898248>), (-1, 7, <torch.utils.data.dataloader.DataLoader object at 0x000001C2E0898808>), (-1, 8, <torch.utils.data.dataloader.DataLoader object at 0x000001C2E0898A48>), (-1, 9, <torch.utils.data.dataloader.DataLoader object at 0x000001C2E0898E88>), (-1, 10, <torch.utils.data.dataloader.DataLoader object at 0x000001C2E0898108>), (-1, 11, <torch.utils.data.dataloader.DataLoader object at 0x000001C2E13FA948>), (-1, 12, <torch.utils.data.dataloader.DataLoader object at 0x000001C2E13FAA48>), (-1, 13, <torch.utils.data.dataloader.DataLoader object at 0x000001C2E12DD148>), (-1, 14, <torch.utils.data.dataloader.DataLoader object at 0x000001C2E12DDAC8>), (-1, 15, <torch.utils.data.dataloader.DataLoader object at 0x000001C2E12DDFC8>), (-1, 16, <torch.utils.data.dataloader.DataLoader object at 0x000001C2E1614D88>), (-1, 17, <torch.utils.data.dataloader.DataLoader object at 0x000001C2E16147C8>), (-1, 18, <torch.utils.data.dataloader.DataLoader object at 0x000001C2E1614748>), (-1, 19, <torch.utils.data.dataloader.DataLoader object at 0x000001C2E1614708>)], [(-1, 0, <torch.utils.data.dataloader.DataLoader object at 0x000001C2E11C5948>), (-1, 1, <torch.utils.data.dataloader.DataLoader object at 0x000001C2E0898FC8>), (-1, 2, <torch.utils.data.dataloader.DataLoader object at 0x000001C2E0898A88>), (-1, 3, <torch.utils.data.dataloader.DataLoader object at 0x000001C2E0898DC8>), (-1, 4, <torch.utils.data.dataloader.DataLoader object at 0x000001C2E0898F48>), (-1, 5, <torch.utils.data.dataloader.DataLoader object at 0x000001C2E0898908>), (-1, 6, <torch.utils.data.dataloader.DataLoader object at 0x000001C2E0898248>), (-1, 7, <torch.utils.data.dataloader.DataLoader object at 0x000001C2E0898808>), (-1, 8, <torch.utils.data.dataloader.DataLoader object at 0x000001C2E0898A48>), (-1, 9, <torch.utils.data.dataloader.DataLoader object at 0x000001C2E0898E88>), (-1, 10, <torch.utils.data.dataloader.DataLoader object at 0x000001C2E0898108>), (-1, 11, <torch.utils.data.dataloader.DataLoader object at 0x000001C2E13FA948>), (-1, 12, <torch.utils.data.dataloader.DataLoader object at 0x000001C2E13FAA48>), (-1, 13, <torch.utils.data.dataloader.DataLoader object at 0x000001C2E12DD148>), (-1, 14, <torch.utils.data.dataloader.DataLoader object at 0x000001C2E12DDAC8>), (-1, 15, <torch.utils.data.dataloader.DataLoader object at 0x000001C2E12DDFC8>), (-1, 16, <torch.utils.data.dataloader.DataLoader object at 0x000001C2E1614D88>), (-1, 17, <torch.utils.data.dataloader.DataLoader object at 0x000001C2E16147C8>), (-1, 18, <torch.utils.data.dataloader.DataLoader object at 0x000001C2E1614748>), (-1, 19, <torch.utils.data.dataloader.DataLoader object at 0x000001C2E1614708>)], [(-1, 0, <torch.utils.data.dataloader.DataLoader object at 0x000001C2E11C5948>), (-1, 1, <torch.utils.data.dataloader.DataLoader object at 0x000001C2E0898FC8>), (-1, 2, <torch.utils.data.dataloader.DataLoader object at 0x000001C2E0898A88>), (-1, 3, <torch.utils.data.dataloader.DataLoader object at 0x000001C2E0898DC8>), (-1, 4, <torch.utils.data.dataloader.DataLoader object at 0x000001C2E0898F48>), (-1, 5, <torch.utils.data.dataloader.DataLoader object at 0x000001C2E0898908>), (-1, 6, <torch.utils.data.dataloader.DataLoader object at 0x000001C2E0898248>), (-1, 7, <torch.utils.data.dataloader.DataLoader object at 0x000001C2E0898808>), (-1, 8, <torch.utils.data.dataloader.DataLoader object at 0x000001C2E0898A48>), (-1, 9, <torch.utils.data.dataloader.DataLoader object at 0x000001C2E0898E88>), (-1, 10, <torch.utils.data.dataloader.DataLoader object at 0x000001C2E0898108>), (-1, 11, <torch.utils.data.dataloader.DataLoader object at 0x000001C2E13FA948>), (-1, 12, <torch.utils.data.dataloader.DataLoader object at 0x000001C2E13FAA48>), (-1, 13, <torch.utils.data.dataloader.DataLoader object at 0x000001C2E12DD148>), (-1, 14, <torch.utils.data.dataloader.DataLoader object at 0x000001C2E12DDAC8>), (-1, 15, <torch.utils.data.dataloader.DataLoader object at 0x000001C2E12DDFC8>), (-1, 16, <torch.utils.data.dataloader.DataLoader object at 0x000001C2E1614D88>), (-1, 17, <torch.utils.data.dataloader.DataLoader object at 0x000001C2E16147C8>), (-1, 18, <torch.utils.data.dataloader.DataLoader object at 0x000001C2E1614748>), (-1, 19, <torch.utils.data.dataloader.DataLoader object at 0x000001C2E1614708>)], [(-1, 0, <torch.utils.data.dataloader.DataLoader object at 0x000001C2E11C5948>), (-1, 1, <torch.utils.data.dataloader.DataLoader object at 0x000001C2E0898FC8>), (-1, 2, <torch.utils.data.dataloader.DataLoader object at 0x000001C2E0898A88>), (-1, 3, <torch.utils.data.dataloader.DataLoader object at 0x000001C2E0898DC8>), (-1, 4, <torch.utils.data.dataloader.DataLoader object at 0x000001C2E0898F48>), (-1, 5, <torch.utils.data.dataloader.DataLoader object at 0x000001C2E0898908>), (-1, 6, <torch.utils.data.dataloader.DataLoader object at 0x000001C2E0898248>), (-1, 7, <torch.utils.data.dataloader.DataLoader object at 0x000001C2E0898808>), (-1, 8, <torch.utils.data.dataloader.DataLoader object at 0x000001C2E0898A48>), (-1, 9, <torch.utils.data.dataloader.DataLoader object at 0x000001C2E0898E88>), (-1, 10, <torch.utils.data.dataloader.DataLoader object at 0x000001C2E0898108>), (-1, 11, <torch.utils.data.dataloader.DataLoader object at 0x000001C2E13FA948>), (-1, 12, <torch.utils.data.dataloader.DataLoader object at 0x000001C2E13FAA48>), (-1, 13, <torch.utils.data.dataloader.DataLoader object at 0x000001C2E12DD148>), (-1, 14, <torch.utils.data.dataloader.DataLoader object at 0x000001C2E12DDAC8>), (-1, 15, <torch.utils.data.dataloader.DataLoader object at 0x000001C2E12DDFC8>), (-1, 16, <torch.utils.data.dataloader.DataLoader object at 0x000001C2E1614D88>), (-1, 17, <torch.utils.data.dataloader.DataLoader object at 0x000001C2E16147C8>), (-1, 18, <torch.utils.data.dataloader.DataLoader object at 0x000001C2E1614748>), (-1, 19, <torch.utils.data.dataloader.DataLoader object at 0x000001C2E1614708>)], [(-1, 0, <torch.utils.data.dataloader.DataLoader object at 0x000001C2E11C5948>), (-1, 1, <torch.utils.data.dataloader.DataLoader object at 0x000001C2E0898FC8>), (-1, 2, <torch.utils.data.dataloader.DataLoader object at 0x000001C2E0898A88>), (-1, 3, <torch.utils.data.dataloader.DataLoader object at 0x000001C2E0898DC8>), (-1, 4, <torch.utils.data.dataloader.DataLoader object at 0x000001C2E0898F48>), (-1, 5, <torch.utils.data.dataloader.DataLoader object at 0x000001C2E0898908>), (-1, 6, <torch.utils.data.dataloader.DataLoader object at 0x000001C2E0898248>), (-1, 7, <torch.utils.data.dataloader.DataLoader object at 0x000001C2E0898808>), (-1, 8, <torch.utils.data.dataloader.DataLoader object at 0x000001C2E0898A48>), (-1, 9, <torch.utils.data.dataloader.DataLoader object at 0x000001C2E0898E88>), (-1, 10, <torch.utils.data.dataloader.DataLoader object at 0x000001C2E0898108>), (-1, 11, <torch.utils.data.dataloader.DataLoader object at 0x000001C2E13FA948>), (-1, 12, <torch.utils.data.dataloader.DataLoader object at 0x000001C2E13FAA48>), (-1, 13, <torch.utils.data.dataloader.DataLoader object at 0x000001C2E12DD148>), (-1, 14, <torch.utils.data.dataloader.DataLoader object at 0x000001C2E12DDAC8>), (-1, 15, <torch.utils.data.dataloader.DataLoader object at 0x000001C2E12DDFC8>), (-1, 16, <torch.utils.data.dataloader.DataLoader object at 0x000001C2E1614D88>), (-1, 17, <torch.utils.data.dataloader.DataLoader object at 0x000001C2E16147C8>), (-1, 18, <torch.utils.data.dataloader.DataLoader object at 0x000001C2E1614748>), (-1, 19, <torch.utils.data.dataloader.DataLoader object at 0x000001C2E1614708>)], [(-1, 0, <torch.utils.data.dataloader.DataLoader object at 0x000001C2E11C5948>), (-1, 1, <torch.utils.data.dataloader.DataLoader object at 0x000001C2E0898FC8>), (-1, 2, <torch.utils.data.dataloader.DataLoader object at 0x000001C2E0898A88>), (-1, 3, <torch.utils.data.dataloader.DataLoader object at 0x000001C2E0898DC8>), (-1, 4, <torch.utils.data.dataloader.DataLoader object at 0x000001C2E0898F48>), (-1, 5, <torch.utils.data.dataloader.DataLoader object at 0x000001C2E0898908>), (-1, 6, <torch.utils.data.dataloader.DataLoader object at 0x000001C2E0898248>), (-1, 7, <torch.utils.data.dataloader.DataLoader object at 0x000001C2E0898808>), (-1, 8, <torch.utils.data.dataloader.DataLoader object at 0x000001C2E0898A48>), (-1, 9, <torch.utils.data.dataloader.DataLoader object at 0x000001C2E0898E88>), (-1, 10, <torch.utils.data.dataloader.DataLoader object at 0x000001C2E0898108>), (-1, 11, <torch.utils.data.dataloader.DataLoader object at 0x000001C2E13FA948>), (-1, 12, <torch.utils.data.dataloader.DataLoader object at 0x000001C2E13FAA48>), (-1, 13, <torch.utils.data.dataloader.DataLoader object at 0x000001C2E12DD148>), (-1, 14, <torch.utils.data.dataloader.DataLoader object at 0x000001C2E12DDAC8>), (-1, 15, <torch.utils.data.dataloader.DataLoader object at 0x000001C2E12DDFC8>), (-1, 16, <torch.utils.data.dataloader.DataLoader object at 0x000001C2E1614D88>), (-1, 17, <torch.utils.data.dataloader.DataLoader object at 0x000001C2E16147C8>), (-1, 18, <torch.utils.data.dataloader.DataLoader object at 0x000001C2E1614748>), (-1, 19, <torch.utils.data.dataloader.DataLoader object at 0x000001C2E1614708>)], [(-1, 0, <torch.utils.data.dataloader.DataLoader object at 0x000001C2E11C5948>), (-1, 1, <torch.utils.data.dataloader.DataLoader object at 0x000001C2E0898FC8>), (-1, 2, <torch.utils.data.dataloader.DataLoader object at 0x000001C2E0898A88>), (-1, 3, <torch.utils.data.dataloader.DataLoader object at 0x000001C2E0898DC8>), (-1, 4, <torch.utils.data.dataloader.DataLoader object at 0x000001C2E0898F48>), (-1, 5, <torch.utils.data.dataloader.DataLoader object at 0x000001C2E0898908>), (-1, 6, <torch.utils.data.dataloader.DataLoader object at 0x000001C2E0898248>), (-1, 7, <torch.utils.data.dataloader.DataLoader object at 0x000001C2E0898808>), (-1, 8, <torch.utils.data.dataloader.DataLoader object at 0x000001C2E0898A48>), (-1, 9, <torch.utils.data.dataloader.DataLoader object at 0x000001C2E0898E88>), (-1, 10, <torch.utils.data.dataloader.DataLoader object at 0x000001C2E0898108>), (-1, 11, <torch.utils.data.dataloader.DataLoader object at 0x000001C2E13FA948>), (-1, 12, <torch.utils.data.dataloader.DataLoader object at 0x000001C2E13FAA48>), (-1, 13, <torch.utils.data.dataloader.DataLoader object at 0x000001C2E12DD148>), (-1, 14, <torch.utils.data.dataloader.DataLoader object at 0x000001C2E12DDAC8>), (-1, 15, <torch.utils.data.dataloader.DataLoader object at 0x000001C2E12DDFC8>), (-1, 16, <torch.utils.data.dataloader.DataLoader object at 0x000001C2E1614D88>), (-1, 17, <torch.utils.data.dataloader.DataLoader object at 0x000001C2E16147C8>), (-1, 18, <torch.utils.data.dataloader.DataLoader object at 0x000001C2E1614748>), (-1, 19, <torch.utils.data.dataloader.DataLoader object at 0x000001C2E1614708>)], [(-1, 0, <torch.utils.data.dataloader.DataLoader object at 0x000001C2E11C5948>), (-1, 1, <torch.utils.data.dataloader.DataLoader object at 0x000001C2E0898FC8>), (-1, 2, <torch.utils.data.dataloader.DataLoader object at 0x000001C2E0898A88>), (-1, 3, <torch.utils.data.dataloader.DataLoader object at 0x000001C2E0898DC8>), (-1, 4, <torch.utils.data.dataloader.DataLoader object at 0x000001C2E0898F48>), (-1, 5, <torch.utils.data.dataloader.DataLoader object at 0x000001C2E0898908>), (-1, 6, <torch.utils.data.dataloader.DataLoader object at 0x000001C2E0898248>), (-1, 7, <torch.utils.data.dataloader.DataLoader object at 0x000001C2E0898808>), (-1, 8, <torch.utils.data.dataloader.DataLoader object at 0x000001C2E0898A48>), (-1, 9, <torch.utils.data.dataloader.DataLoader object at 0x000001C2E0898E88>), (-1, 10, <torch.utils.data.dataloader.DataLoader object at 0x000001C2E0898108>), (-1, 11, <torch.utils.data.dataloader.DataLoader object at 0x000001C2E13FA948>), (-1, 12, <torch.utils.data.dataloader.DataLoader object at 0x000001C2E13FAA48>), (-1, 13, <torch.utils.data.dataloader.DataLoader object at 0x000001C2E12DD148>), (-1, 14, <torch.utils.data.dataloader.DataLoader object at 0x000001C2E12DDAC8>), (-1, 15, <torch.utils.data.dataloader.DataLoader object at 0x000001C2E12DDFC8>), (-1, 16, <torch.utils.data.dataloader.DataLoader object at 0x000001C2E1614D88>), (-1, 17, <torch.utils.data.dataloader.DataLoader object at 0x000001C2E16147C8>), (-1, 18, <torch.utils.data.dataloader.DataLoader object at 0x000001C2E1614748>), (-1, 19, <torch.utils.data.dataloader.DataLoader object at 0x000001C2E1614708>)], [(-1, 0, <torch.utils.data.dataloader.DataLoader object at 0x000001C2E11C5948>), (-1, 1, <torch.utils.data.dataloader.DataLoader object at 0x000001C2E0898FC8>), (-1, 2, <torch.utils.data.dataloader.DataLoader object at 0x000001C2E0898A88>), (-1, 3, <torch.utils.data.dataloader.DataLoader object at 0x000001C2E0898DC8>), (-1, 4, <torch.utils.data.dataloader.DataLoader object at 0x000001C2E0898F48>), (-1, 5, <torch.utils.data.dataloader.DataLoader object at 0x000001C2E0898908>), (-1, 6, <torch.utils.data.dataloader.DataLoader object at 0x000001C2E0898248>), (-1, 7, <torch.utils.data.dataloader.DataLoader object at 0x000001C2E0898808>), (-1, 8, <torch.utils.data.dataloader.DataLoader object at 0x000001C2E0898A48>), (-1, 9, <torch.utils.data.dataloader.DataLoader object at 0x000001C2E0898E88>), (-1, 10, <torch.utils.data.dataloader.DataLoader object at 0x000001C2E0898108>), (-1, 11, <torch.utils.data.dataloader.DataLoader object at 0x000001C2E13FA948>), (-1, 12, <torch.utils.data.dataloader.DataLoader object at 0x000001C2E13FAA48>), (-1, 13, <torch.utils.data.dataloader.DataLoader object at 0x000001C2E12DD148>), (-1, 14, <torch.utils.data.dataloader.DataLoader object at 0x000001C2E12DDAC8>), (-1, 15, <torch.utils.data.dataloader.DataLoader object at 0x000001C2E12DDFC8>), (-1, 16, <torch.utils.data.dataloader.DataLoader object at 0x000001C2E1614D88>), (-1, 17, <torch.utils.data.dataloader.DataLoader object at 0x000001C2E16147C8>), (-1, 18, <torch.utils.data.dataloader.DataLoader object at 0x000001C2E1614748>), (-1, 19, <torch.utils.data.dataloader.DataLoader object at 0x000001C2E1614708>)], [(-1, 0, <torch.utils.data.dataloader.DataLoader object at 0x000001C2E11C5948>), (-1, 1, <torch.utils.data.dataloader.DataLoader object at 0x000001C2E0898FC8>), (-1, 2, <torch.utils.data.dataloader.DataLoader object at 0x000001C2E0898A88>), (-1, 3, <torch.utils.data.dataloader.DataLoader object at 0x000001C2E0898DC8>), (-1, 4, <torch.utils.data.dataloader.DataLoader object at 0x000001C2E0898F48>), (-1, 5, <torch.utils.data.dataloader.DataLoader object at 0x000001C2E0898908>), (-1, 6, <torch.utils.data.dataloader.DataLoader object at 0x000001C2E0898248>), (-1, 7, <torch.utils.data.dataloader.DataLoader object at 0x000001C2E0898808>), (-1, 8, <torch.utils.data.dataloader.DataLoader object at 0x000001C2E0898A48>), (-1, 9, <torch.utils.data.dataloader.DataLoader object at 0x000001C2E0898E88>), (-1, 10, <torch.utils.data.dataloader.DataLoader object at 0x000001C2E0898108>), (-1, 11, <torch.utils.data.dataloader.DataLoader object at 0x000001C2E13FA948>), (-1, 12, <torch.utils.data.dataloader.DataLoader object at 0x000001C2E13FAA48>), (-1, 13, <torch.utils.data.dataloader.DataLoader object at 0x000001C2E12DD148>), (-1, 14, <torch.utils.data.dataloader.DataLoader object at 0x000001C2E12DDAC8>), (-1, 15, <torch.utils.data.dataloader.DataLoader object at 0x000001C2E12DDFC8>), (-1, 16, <torch.utils.data.dataloader.DataLoader object at 0x000001C2E1614D88>), (-1, 17, <torch.utils.data.dataloader.DataLoader object at 0x000001C2E16147C8>), (-1, 18, <torch.utils.data.dataloader.DataLoader object at 0x000001C2E1614748>), (-1, 19, <torch.utils.data.dataloader.DataLoader object at 0x000001C2E1614708>)], [(-1, 0, <torch.utils.data.dataloader.DataLoader object at 0x000001C2E11C5948>), (-1, 1, <torch.utils.data.dataloader.DataLoader object at 0x000001C2E0898FC8>), (-1, 2, <torch.utils.data.dataloader.DataLoader object at 0x000001C2E0898A88>), (-1, 3, <torch.utils.data.dataloader.DataLoader object at 0x000001C2E0898DC8>), (-1, 4, <torch.utils.data.dataloader.DataLoader object at 0x000001C2E0898F48>), (-1, 5, <torch.utils.data.dataloader.DataLoader object at 0x000001C2E0898908>), (-1, 6, <torch.utils.data.dataloader.DataLoader object at 0x000001C2E0898248>), (-1, 7, <torch.utils.data.dataloader.DataLoader object at 0x000001C2E0898808>), (-1, 8, <torch.utils.data.dataloader.DataLoader object at 0x000001C2E0898A48>), (-1, 9, <torch.utils.data.dataloader.DataLoader object at 0x000001C2E0898E88>), (-1, 10, <torch.utils.data.dataloader.DataLoader object at 0x000001C2E0898108>), (-1, 11, <torch.utils.data.dataloader.DataLoader object at 0x000001C2E13FA948>), (-1, 12, <torch.utils.data.dataloader.DataLoader object at 0x000001C2E13FAA48>), (-1, 13, <torch.utils.data.dataloader.DataLoader object at 0x000001C2E12DD148>), (-1, 14, <torch.utils.data.dataloader.DataLoader object at 0x000001C2E12DDAC8>), (-1, 15, <torch.utils.data.dataloader.DataLoader object at 0x000001C2E12DDFC8>), (-1, 16, <torch.utils.data.dataloader.DataLoader object at 0x000001C2E1614D88>), (-1, 17, <torch.utils.data.dataloader.DataLoader object at 0x000001C2E16147C8>), (-1, 18, <torch.utils.data.dataloader.DataLoader object at 0x000001C2E1614748>), (-1, 19, <torch.utils.data.dataloader.DataLoader object at 0x000001C2E1614708>)], [(-1, 0, <torch.utils.data.dataloader.DataLoader object at 0x000001C2E11C5948>), (-1, 1, <torch.utils.data.dataloader.DataLoader object at 0x000001C2E0898FC8>), (-1, 2, <torch.utils.data.dataloader.DataLoader object at 0x000001C2E0898A88>), (-1, 3, <torch.utils.data.dataloader.DataLoader object at 0x000001C2E0898DC8>), (-1, 4, <torch.utils.data.dataloader.DataLoader object at 0x000001C2E0898F48>), (-1, 5, <torch.utils.data.dataloader.DataLoader object at 0x000001C2E0898908>), (-1, 6, <torch.utils.data.dataloader.DataLoader object at 0x000001C2E0898248>), (-1, 7, <torch.utils.data.dataloader.DataLoader object at 0x000001C2E0898808>), (-1, 8, <torch.utils.data.dataloader.DataLoader object at 0x000001C2E0898A48>), (-1, 9, <torch.utils.data.dataloader.DataLoader object at 0x000001C2E0898E88>), (-1, 10, <torch.utils.data.dataloader.DataLoader object at 0x000001C2E0898108>), (-1, 11, <torch.utils.data.dataloader.DataLoader object at 0x000001C2E13FA948>), (-1, 12, <torch.utils.data.dataloader.DataLoader object at 0x000001C2E13FAA48>), (-1, 13, <torch.utils.data.dataloader.DataLoader object at 0x000001C2E12DD148>), (-1, 14, <torch.utils.data.dataloader.DataLoader object at 0x000001C2E12DDAC8>), (-1, 15, <torch.utils.data.dataloader.DataLoader object at 0x000001C2E12DDFC8>), (-1, 16, <torch.utils.data.dataloader.DataLoader object at 0x000001C2E1614D88>), (-1, 17, <torch.utils.data.dataloader.DataLoader object at 0x000001C2E16147C8>), (-1, 18, <torch.utils.data.dataloader.DataLoader object at 0x000001C2E1614748>), (-1, 19, <torch.utils.data.dataloader.DataLoader object at 0x000001C2E1614708>)], [(-1, 0, <torch.utils.data.dataloader.DataLoader object at 0x000001C2E11C5948>), (-1, 1, <torch.utils.data.dataloader.DataLoader object at 0x000001C2E0898FC8>), (-1, 2, <torch.utils.data.dataloader.DataLoader object at 0x000001C2E0898A88>), (-1, 3, <torch.utils.data.dataloader.DataLoader object at 0x000001C2E0898DC8>), (-1, 4, <torch.utils.data.dataloader.DataLoader object at 0x000001C2E0898F48>), (-1, 5, <torch.utils.data.dataloader.DataLoader object at 0x000001C2E0898908>), (-1, 6, <torch.utils.data.dataloader.DataLoader object at 0x000001C2E0898248>), (-1, 7, <torch.utils.data.dataloader.DataLoader object at 0x000001C2E0898808>), (-1, 8, <torch.utils.data.dataloader.DataLoader object at 0x000001C2E0898A48>), (-1, 9, <torch.utils.data.dataloader.DataLoader object at 0x000001C2E0898E88>), (-1, 10, <torch.utils.data.dataloader.DataLoader object at 0x000001C2E0898108>), (-1, 11, <torch.utils.data.dataloader.DataLoader object at 0x000001C2E13FA948>), (-1, 12, <torch.utils.data.dataloader.DataLoader object at 0x000001C2E13FAA48>), (-1, 13, <torch.utils.data.dataloader.DataLoader object at 0x000001C2E12DD148>), (-1, 14, <torch.utils.data.dataloader.DataLoader object at 0x000001C2E12DDAC8>), (-1, 15, <torch.utils.data.dataloader.DataLoader object at 0x000001C2E12DDFC8>), (-1, 16, <torch.utils.data.dataloader.DataLoader object at 0x000001C2E1614D88>), (-1, 17, <torch.utils.data.dataloader.DataLoader object at 0x000001C2E16147C8>), (-1, 18, <torch.utils.data.dataloader.DataLoader object at 0x000001C2E1614748>), (-1, 19, <torch.utils.data.dataloader.DataLoader object at 0x000001C2E1614708>)], [(-1, 0, <torch.utils.data.dataloader.DataLoader object at 0x000001C2E11C5948>), (-1, 1, <torch.utils.data.dataloader.DataLoader object at 0x000001C2E0898FC8>), (-1, 2, <torch.utils.data.dataloader.DataLoader object at 0x000001C2E0898A88>), (-1, 3, <torch.utils.data.dataloader.DataLoader object at 0x000001C2E0898DC8>), (-1, 4, <torch.utils.data.dataloader.DataLoader object at 0x000001C2E0898F48>), (-1, 5, <torch.utils.data.dataloader.DataLoader object at 0x000001C2E0898908>), (-1, 6, <torch.utils.data.dataloader.DataLoader object at 0x000001C2E0898248>), (-1, 7, <torch.utils.data.dataloader.DataLoader object at 0x000001C2E0898808>), (-1, 8, <torch.utils.data.dataloader.DataLoader object at 0x000001C2E0898A48>), (-1, 9, <torch.utils.data.dataloader.DataLoader object at 0x000001C2E0898E88>), (-1, 10, <torch.utils.data.dataloader.DataLoader object at 0x000001C2E0898108>), (-1, 11, <torch.utils.data.dataloader.DataLoader object at 0x000001C2E13FA948>), (-1, 12, <torch.utils.data.dataloader.DataLoader object at 0x000001C2E13FAA48>), (-1, 13, <torch.utils.data.dataloader.DataLoader object at 0x000001C2E12DD148>), (-1, 14, <torch.utils.data.dataloader.DataLoader object at 0x000001C2E12DDAC8>), (-1, 15, <torch.utils.data.dataloader.DataLoader object at 0x000001C2E12DDFC8>), (-1, 16, <torch.utils.data.dataloader.DataLoader object at 0x000001C2E1614D88>), (-1, 17, <torch.utils.data.dataloader.DataLoader object at 0x000001C2E16147C8>), (-1, 18, <torch.utils.data.dataloader.DataLoader object at 0x000001C2E1614748>), (-1, 19, <torch.utils.data.dataloader.DataLoader object at 0x000001C2E1614708>)], [(-1, 0, <torch.utils.data.dataloader.DataLoader object at 0x000001C2E11C5948>), (-1, 1, <torch.utils.data.dataloader.DataLoader object at 0x000001C2E0898FC8>), (-1, 2, <torch.utils.data.dataloader.DataLoader object at 0x000001C2E0898A88>), (-1, 3, <torch.utils.data.dataloader.DataLoader object at 0x000001C2E0898DC8>), (-1, 4, <torch.utils.data.dataloader.DataLoader object at 0x000001C2E0898F48>), (-1, 5, <torch.utils.data.dataloader.DataLoader object at 0x000001C2E0898908>), (-1, 6, <torch.utils.data.dataloader.DataLoader object at 0x000001C2E0898248>), (-1, 7, <torch.utils.data.dataloader.DataLoader object at 0x000001C2E0898808>), (-1, 8, <torch.utils.data.dataloader.DataLoader object at 0x000001C2E0898A48>), (-1, 9, <torch.utils.data.dataloader.DataLoader object at 0x000001C2E0898E88>), (-1, 10, <torch.utils.data.dataloader.DataLoader object at 0x000001C2E0898108>), (-1, 11, <torch.utils.data.dataloader.DataLoader object at 0x000001C2E13FA948>), (-1, 12, <torch.utils.data.dataloader.DataLoader object at 0x000001C2E13FAA48>), (-1, 13, <torch.utils.data.dataloader.DataLoader object at 0x000001C2E12DD148>), (-1, 14, <torch.utils.data.dataloader.DataLoader object at 0x000001C2E12DDAC8>), (-1, 15, <torch.utils.data.dataloader.DataLoader object at 0x000001C2E12DDFC8>), (-1, 16, <torch.utils.data.dataloader.DataLoader object at 0x000001C2E1614D88>), (-1, 17, <torch.utils.data.dataloader.DataLoader object at 0x000001C2E16147C8>), (-1, 18, <torch.utils.data.dataloader.DataLoader object at 0x000001C2E1614748>), (-1, 19, <torch.utils.data.dataloader.DataLoader object at 0x000001C2E1614708>)], [(-1, 0, <torch.utils.data.dataloader.DataLoader object at 0x000001C2E11C5948>), (-1, 1, <torch.utils.data.dataloader.DataLoader object at 0x000001C2E0898FC8>), (-1, 2, <torch.utils.data.dataloader.DataLoader object at 0x000001C2E0898A88>), (-1, 3, <torch.utils.data.dataloader.DataLoader object at 0x000001C2E0898DC8>), (-1, 4, <torch.utils.data.dataloader.DataLoader object at 0x000001C2E0898F48>), (-1, 5, <torch.utils.data.dataloader.DataLoader object at 0x000001C2E0898908>), (-1, 6, <torch.utils.data.dataloader.DataLoader object at 0x000001C2E0898248>), (-1, 7, <torch.utils.data.dataloader.DataLoader object at 0x000001C2E0898808>), (-1, 8, <torch.utils.data.dataloader.DataLoader object at 0x000001C2E0898A48>), (-1, 9, <torch.utils.data.dataloader.DataLoader object at 0x000001C2E0898E88>), (-1, 10, <torch.utils.data.dataloader.DataLoader object at 0x000001C2E0898108>), (-1, 11, <torch.utils.data.dataloader.DataLoader object at 0x000001C2E13FA948>), (-1, 12, <torch.utils.data.dataloader.DataLoader object at 0x000001C2E13FAA48>), (-1, 13, <torch.utils.data.dataloader.DataLoader object at 0x000001C2E12DD148>), (-1, 14, <torch.utils.data.dataloader.DataLoader object at 0x000001C2E12DDAC8>), (-1, 15, <torch.utils.data.dataloader.DataLoader object at 0x000001C2E12DDFC8>), (-1, 16, <torch.utils.data.dataloader.DataLoader object at 0x000001C2E1614D88>), (-1, 17, <torch.utils.data.dataloader.DataLoader object at 0x000001C2E16147C8>), (-1, 18, <torch.utils.data.dataloader.DataLoader object at 0x000001C2E1614748>), (-1, 19, <torch.utils.data.dataloader.DataLoader object at 0x000001C2E1614708>)], [(-1, 0, <torch.utils.data.dataloader.DataLoader object at 0x000001C2E11C5948>), (-1, 1, <torch.utils.data.dataloader.DataLoader object at 0x000001C2E0898FC8>), (-1, 2, <torch.utils.data.dataloader.DataLoader object at 0x000001C2E0898A88>), (-1, 3, <torch.utils.data.dataloader.DataLoader object at 0x000001C2E0898DC8>), (-1, 4, <torch.utils.data.dataloader.DataLoader object at 0x000001C2E0898F48>), (-1, 5, <torch.utils.data.dataloader.DataLoader object at 0x000001C2E0898908>), (-1, 6, <torch.utils.data.dataloader.DataLoader object at 0x000001C2E0898248>), (-1, 7, <torch.utils.data.dataloader.DataLoader object at 0x000001C2E0898808>), (-1, 8, <torch.utils.data.dataloader.DataLoader object at 0x000001C2E0898A48>), (-1, 9, <torch.utils.data.dataloader.DataLoader object at 0x000001C2E0898E88>), (-1, 10, <torch.utils.data.dataloader.DataLoader object at 0x000001C2E0898108>), (-1, 11, <torch.utils.data.dataloader.DataLoader object at 0x000001C2E13FA948>), (-1, 12, <torch.utils.data.dataloader.DataLoader object at 0x000001C2E13FAA48>), (-1, 13, <torch.utils.data.dataloader.DataLoader object at 0x000001C2E12DD148>), (-1, 14, <torch.utils.data.dataloader.DataLoader object at 0x000001C2E12DDAC8>), (-1, 15, <torch.utils.data.dataloader.DataLoader object at 0x000001C2E12DDFC8>), (-1, 16, <torch.utils.data.dataloader.DataLoader object at 0x000001C2E1614D88>), (-1, 17, <torch.utils.data.dataloader.DataLoader object at 0x000001C2E16147C8>), (-1, 18, <torch.utils.data.dataloader.DataLoader object at 0x000001C2E1614748>), (-1, 19, <torch.utils.data.dataloader.DataLoader object at 0x000001C2E1614708>)], [(-1, 0, <torch.utils.data.dataloader.DataLoader object at 0x000001C2E11C5948>), (-1, 1, <torch.utils.data.dataloader.DataLoader object at 0x000001C2E0898FC8>), (-1, 2, <torch.utils.data.dataloader.DataLoader object at 0x000001C2E0898A88>), (-1, 3, <torch.utils.data.dataloader.DataLoader object at 0x000001C2E0898DC8>), (-1, 4, <torch.utils.data.dataloader.DataLoader object at 0x000001C2E0898F48>), (-1, 5, <torch.utils.data.dataloader.DataLoader object at 0x000001C2E0898908>), (-1, 6, <torch.utils.data.dataloader.DataLoader object at 0x000001C2E0898248>), (-1, 7, <torch.utils.data.dataloader.DataLoader object at 0x000001C2E0898808>), (-1, 8, <torch.utils.data.dataloader.DataLoader object at 0x000001C2E0898A48>), (-1, 9, <torch.utils.data.dataloader.DataLoader object at 0x000001C2E0898E88>), (-1, 10, <torch.utils.data.dataloader.DataLoader object at 0x000001C2E0898108>), (-1, 11, <torch.utils.data.dataloader.DataLoader object at 0x000001C2E13FA948>), (-1, 12, <torch.utils.data.dataloader.DataLoader object at 0x000001C2E13FAA48>), (-1, 13, <torch.utils.data.dataloader.DataLoader object at 0x000001C2E12DD148>), (-1, 14, <torch.utils.data.dataloader.DataLoader object at 0x000001C2E12DDAC8>), (-1, 15, <torch.utils.data.dataloader.DataLoader object at 0x000001C2E12DDFC8>), (-1, 16, <torch.utils.data.dataloader.DataLoader object at 0x000001C2E1614D88>), (-1, 17, <torch.utils.data.dataloader.DataLoader object at 0x000001C2E16147C8>), (-1, 18, <torch.utils.data.dataloader.DataLoader object at 0x000001C2E1614748>), (-1, 19, <torch.utils.data.dataloader.DataLoader object at 0x000001C2E1614708>)], [(-1, 0, <torch.utils.data.dataloader.DataLoader object at 0x000001C2E11C5948>), (-1, 1, <torch.utils.data.dataloader.DataLoader object at 0x000001C2E0898FC8>), (-1, 2, <torch.utils.data.dataloader.DataLoader object at 0x000001C2E0898A88>), (-1, 3, <torch.utils.data.dataloader.DataLoader object at 0x000001C2E0898DC8>), (-1, 4, <torch.utils.data.dataloader.DataLoader object at 0x000001C2E0898F48>), (-1, 5, <torch.utils.data.dataloader.DataLoader object at 0x000001C2E0898908>), (-1, 6, <torch.utils.data.dataloader.DataLoader object at 0x000001C2E0898248>), (-1, 7, <torch.utils.data.dataloader.DataLoader object at 0x000001C2E0898808>), (-1, 8, <torch.utils.data.dataloader.DataLoader object at 0x000001C2E0898A48>), (-1, 9, <torch.utils.data.dataloader.DataLoader object at 0x000001C2E0898E88>), (-1, 10, <torch.utils.data.dataloader.DataLoader object at 0x000001C2E0898108>), (-1, 11, <torch.utils.data.dataloader.DataLoader object at 0x000001C2E13FA948>), (-1, 12, <torch.utils.data.dataloader.DataLoader object at 0x000001C2E13FAA48>), (-1, 13, <torch.utils.data.dataloader.DataLoader object at 0x000001C2E12DD148>), (-1, 14, <torch.utils.data.dataloader.DataLoader object at 0x000001C2E12DDAC8>), (-1, 15, <torch.utils.data.dataloader.DataLoader object at 0x000001C2E12DDFC8>), (-1, 16, <torch.utils.data.dataloader.DataLoader object at 0x000001C2E1614D88>), (-1, 17, <torch.utils.data.dataloader.DataLoader object at 0x000001C2E16147C8>), (-1, 18, <torch.utils.data.dataloader.DataLoader object at 0x000001C2E1614748>), (-1, 19, <torch.utils.data.dataloader.DataLoader object at 0x000001C2E1614708>)], [(-1, 0, <torch.utils.data.dataloader.DataLoader object at 0x000001C2E11C5948>), (-1, 1, <torch.utils.data.dataloader.DataLoader object at 0x000001C2E0898FC8>), (-1, 2, <torch.utils.data.dataloader.DataLoader object at 0x000001C2E0898A88>), (-1, 3, <torch.utils.data.dataloader.DataLoader object at 0x000001C2E0898DC8>), (-1, 4, <torch.utils.data.dataloader.DataLoader object at 0x000001C2E0898F48>), (-1, 5, <torch.utils.data.dataloader.DataLoader object at 0x000001C2E0898908>), (-1, 6, <torch.utils.data.dataloader.DataLoader object at 0x000001C2E0898248>), (-1, 7, <torch.utils.data.dataloader.DataLoader object at 0x000001C2E0898808>), (-1, 8, <torch.utils.data.dataloader.DataLoader object at 0x000001C2E0898A48>), (-1, 9, <torch.utils.data.dataloader.DataLoader object at 0x000001C2E0898E88>), (-1, 10, <torch.utils.data.dataloader.DataLoader object at 0x000001C2E0898108>), (-1, 11, <torch.utils.data.dataloader.DataLoader object at 0x000001C2E13FA948>), (-1, 12, <torch.utils.data.dataloader.DataLoader object at 0x000001C2E13FAA48>), (-1, 13, <torch.utils.data.dataloader.DataLoader object at 0x000001C2E12DD148>), (-1, 14, <torch.utils.data.dataloader.DataLoader object at 0x000001C2E12DDAC8>), (-1, 15, <torch.utils.data.dataloader.DataLoader object at 0x000001C2E12DDFC8>), (-1, 16, <torch.utils.data.dataloader.DataLoader object at 0x000001C2E1614D88>), (-1, 17, <torch.utils.data.dataloader.DataLoader object at 0x000001C2E16147C8>), (-1, 18, <torch.utils.data.dataloader.DataLoader object at 0x000001C2E1614748>), (-1, 19, <torch.utils.data.dataloader.DataLoader object at 0x000001C2E1614708>)], [(-1, 0, <torch.utils.data.dataloader.DataLoader object at 0x000001C2E11C5948>), (-1, 1, <torch.utils.data.dataloader.DataLoader object at 0x000001C2E0898FC8>), (-1, 2, <torch.utils.data.dataloader.DataLoader object at 0x000001C2E0898A88>), (-1, 3, <torch.utils.data.dataloader.DataLoader object at 0x000001C2E0898DC8>), (-1, 4, <torch.utils.data.dataloader.DataLoader object at 0x000001C2E0898F48>), (-1, 5, <torch.utils.data.dataloader.DataLoader object at 0x000001C2E0898908>), (-1, 6, <torch.utils.data.dataloader.DataLoader object at 0x000001C2E0898248>), (-1, 7, <torch.utils.data.dataloader.DataLoader object at 0x000001C2E0898808>), (-1, 8, <torch.utils.data.dataloader.DataLoader object at 0x000001C2E0898A48>), (-1, 9, <torch.utils.data.dataloader.DataLoader object at 0x000001C2E0898E88>), (-1, 10, <torch.utils.data.dataloader.DataLoader object at 0x000001C2E0898108>), (-1, 11, <torch.utils.data.dataloader.DataLoader object at 0x000001C2E13FA948>), (-1, 12, <torch.utils.data.dataloader.DataLoader object at 0x000001C2E13FAA48>), (-1, 13, <torch.utils.data.dataloader.DataLoader object at 0x000001C2E12DD148>), (-1, 14, <torch.utils.data.dataloader.DataLoader object at 0x000001C2E12DDAC8>), (-1, 15, <torch.utils.data.dataloader.DataLoader object at 0x000001C2E12DDFC8>), (-1, 16, <torch.utils.data.dataloader.DataLoader object at 0x000001C2E1614D88>), (-1, 17, <torch.utils.data.dataloader.DataLoader object at 0x000001C2E16147C8>), (-1, 18, <torch.utils.data.dataloader.DataLoader object at 0x000001C2E1614748>), (-1, 19, <torch.utils.data.dataloader.DataLoader object at 0x000001C2E1614708>)], [(-1, 0, <torch.utils.data.dataloader.DataLoader object at 0x000001C2E11C5948>), (-1, 1, <torch.utils.data.dataloader.DataLoader object at 0x000001C2E0898FC8>), (-1, 2, <torch.utils.data.dataloader.DataLoader object at 0x000001C2E0898A88>), (-1, 3, <torch.utils.data.dataloader.DataLoader object at 0x000001C2E0898DC8>), (-1, 4, <torch.utils.data.dataloader.DataLoader object at 0x000001C2E0898F48>), (-1, 5, <torch.utils.data.dataloader.DataLoader object at 0x000001C2E0898908>), (-1, 6, <torch.utils.data.dataloader.DataLoader object at 0x000001C2E0898248>), (-1, 7, <torch.utils.data.dataloader.DataLoader object at 0x000001C2E0898808>), (-1, 8, <torch.utils.data.dataloader.DataLoader object at 0x000001C2E0898A48>), (-1, 9, <torch.utils.data.dataloader.DataLoader object at 0x000001C2E0898E88>), (-1, 10, <torch.utils.data.dataloader.DataLoader object at 0x000001C2E0898108>), (-1, 11, <torch.utils.data.dataloader.DataLoader object at 0x000001C2E13FA948>), (-1, 12, <torch.utils.data.dataloader.DataLoader object at 0x000001C2E13FAA48>), (-1, 13, <torch.utils.data.dataloader.DataLoader object at 0x000001C2E12DD148>), (-1, 14, <torch.utils.data.dataloader.DataLoader object at 0x000001C2E12DDAC8>), (-1, 15, <torch.utils.data.dataloader.DataLoader object at 0x000001C2E12DDFC8>), (-1, 16, <torch.utils.data.dataloader.DataLoader object at 0x000001C2E1614D88>), (-1, 17, <torch.utils.data.dataloader.DataLoader object at 0x000001C2E16147C8>), (-1, 18, <torch.utils.data.dataloader.DataLoader object at 0x000001C2E1614748>), (-1, 19, <torch.utils.data.dataloader.DataLoader object at 0x000001C2E1614708>)], [(-1, 0, <torch.utils.data.dataloader.DataLoader object at 0x000001C2E11C5948>), (-1, 1, <torch.utils.data.dataloader.DataLoader object at 0x000001C2E0898FC8>), (-1, 2, <torch.utils.data.dataloader.DataLoader object at 0x000001C2E0898A88>), (-1, 3, <torch.utils.data.dataloader.DataLoader object at 0x000001C2E0898DC8>), (-1, 4, <torch.utils.data.dataloader.DataLoader object at 0x000001C2E0898F48>), (-1, 5, <torch.utils.data.dataloader.DataLoader object at 0x000001C2E0898908>), (-1, 6, <torch.utils.data.dataloader.DataLoader object at 0x000001C2E0898248>), (-1, 7, <torch.utils.data.dataloader.DataLoader object at 0x000001C2E0898808>), (-1, 8, <torch.utils.data.dataloader.DataLoader object at 0x000001C2E0898A48>), (-1, 9, <torch.utils.data.dataloader.DataLoader object at 0x000001C2E0898E88>), (-1, 10, <torch.utils.data.dataloader.DataLoader object at 0x000001C2E0898108>), (-1, 11, <torch.utils.data.dataloader.DataLoader object at 0x000001C2E13FA948>), (-1, 12, <torch.utils.data.dataloader.DataLoader object at 0x000001C2E13FAA48>), (-1, 13, <torch.utils.data.dataloader.DataLoader object at 0x000001C2E12DD148>), (-1, 14, <torch.utils.data.dataloader.DataLoader object at 0x000001C2E12DDAC8>), (-1, 15, <torch.utils.data.dataloader.DataLoader object at 0x000001C2E12DDFC8>), (-1, 16, <torch.utils.data.dataloader.DataLoader object at 0x000001C2E1614D88>), (-1, 17, <torch.utils.data.dataloader.DataLoader object at 0x000001C2E16147C8>), (-1, 18, <torch.utils.data.dataloader.DataLoader object at 0x000001C2E1614748>), (-1, 19, <torch.utils.data.dataloader.DataLoader object at 0x000001C2E1614708>)], [(-1, 0, <torch.utils.data.dataloader.DataLoader object at 0x000001C2E11C5948>), (-1, 1, <torch.utils.data.dataloader.DataLoader object at 0x000001C2E0898FC8>), (-1, 2, <torch.utils.data.dataloader.DataLoader object at 0x000001C2E0898A88>), (-1, 3, <torch.utils.data.dataloader.DataLoader object at 0x000001C2E0898DC8>), (-1, 4, <torch.utils.data.dataloader.DataLoader object at 0x000001C2E0898F48>), (-1, 5, <torch.utils.data.dataloader.DataLoader object at 0x000001C2E0898908>), (-1, 6, <torch.utils.data.dataloader.DataLoader object at 0x000001C2E0898248>), (-1, 7, <torch.utils.data.dataloader.DataLoader object at 0x000001C2E0898808>), (-1, 8, <torch.utils.data.dataloader.DataLoader object at 0x000001C2E0898A48>), (-1, 9, <torch.utils.data.dataloader.DataLoader object at 0x000001C2E0898E88>), (-1, 10, <torch.utils.data.dataloader.DataLoader object at 0x000001C2E0898108>), (-1, 11, <torch.utils.data.dataloader.DataLoader object at 0x000001C2E13FA948>), (-1, 12, <torch.utils.data.dataloader.DataLoader object at 0x000001C2E13FAA48>), (-1, 13, <torch.utils.data.dataloader.DataLoader object at 0x000001C2E12DD148>), (-1, 14, <torch.utils.data.dataloader.DataLoader object at 0x000001C2E12DDAC8>), (-1, 15, <torch.utils.data.dataloader.DataLoader object at 0x000001C2E12DDFC8>), (-1, 16, <torch.utils.data.dataloader.DataLoader object at 0x000001C2E1614D88>), (-1, 17, <torch.utils.data.dataloader.DataLoader object at 0x000001C2E16147C8>), (-1, 18, <torch.utils.data.dataloader.DataLoader object at 0x000001C2E1614748>), (-1, 19, <torch.utils.data.dataloader.DataLoader object at 0x000001C2E1614708>)], [(-1, 0, <torch.utils.data.dataloader.DataLoader object at 0x000001C2E11C5948>), (-1, 1, <torch.utils.data.dataloader.DataLoader object at 0x000001C2E0898FC8>), (-1, 2, <torch.utils.data.dataloader.DataLoader object at 0x000001C2E0898A88>), (-1, 3, <torch.utils.data.dataloader.DataLoader object at 0x000001C2E0898DC8>), (-1, 4, <torch.utils.data.dataloader.DataLoader object at 0x000001C2E0898F48>), (-1, 5, <torch.utils.data.dataloader.DataLoader object at 0x000001C2E0898908>), (-1, 6, <torch.utils.data.dataloader.DataLoader object at 0x000001C2E0898248>), (-1, 7, <torch.utils.data.dataloader.DataLoader object at 0x000001C2E0898808>), (-1, 8, <torch.utils.data.dataloader.DataLoader object at 0x000001C2E0898A48>), (-1, 9, <torch.utils.data.dataloader.DataLoader object at 0x000001C2E0898E88>), (-1, 10, <torch.utils.data.dataloader.DataLoader object at 0x000001C2E0898108>), (-1, 11, <torch.utils.data.dataloader.DataLoader object at 0x000001C2E13FA948>), (-1, 12, <torch.utils.data.dataloader.DataLoader object at 0x000001C2E13FAA48>), (-1, 13, <torch.utils.data.dataloader.DataLoader object at 0x000001C2E12DD148>), (-1, 14, <torch.utils.data.dataloader.DataLoader object at 0x000001C2E12DDAC8>), (-1, 15, <torch.utils.data.dataloader.DataLoader object at 0x000001C2E12DDFC8>), (-1, 16, <torch.utils.data.dataloader.DataLoader object at 0x000001C2E1614D88>), (-1, 17, <torch.utils.data.dataloader.DataLoader object at 0x000001C2E16147C8>), (-1, 18, <torch.utils.data.dataloader.DataLoader object at 0x000001C2E1614748>), (-1, 19, <torch.utils.data.dataloader.DataLoader object at 0x000001C2E1614708>)], [(-1, 0, <torch.utils.data.dataloader.DataLoader object at 0x000001C2E11C5948>), (-1, 1, <torch.utils.data.dataloader.DataLoader object at 0x000001C2E0898FC8>), (-1, 2, <torch.utils.data.dataloader.DataLoader object at 0x000001C2E0898A88>), (-1, 3, <torch.utils.data.dataloader.DataLoader object at 0x000001C2E0898DC8>), (-1, 4, <torch.utils.data.dataloader.DataLoader object at 0x000001C2E0898F48>), (-1, 5, <torch.utils.data.dataloader.DataLoader object at 0x000001C2E0898908>), (-1, 6, <torch.utils.data.dataloader.DataLoader object at 0x000001C2E0898248>), (-1, 7, <torch.utils.data.dataloader.DataLoader object at 0x000001C2E0898808>), (-1, 8, <torch.utils.data.dataloader.DataLoader object at 0x000001C2E0898A48>), (-1, 9, <torch.utils.data.dataloader.DataLoader object at 0x000001C2E0898E88>), (-1, 10, <torch.utils.data.dataloader.DataLoader object at 0x000001C2E0898108>), (-1, 11, <torch.utils.data.dataloader.DataLoader object at 0x000001C2E13FA948>), (-1, 12, <torch.utils.data.dataloader.DataLoader object at 0x000001C2E13FAA48>), (-1, 13, <torch.utils.data.dataloader.DataLoader object at 0x000001C2E12DD148>), (-1, 14, <torch.utils.data.dataloader.DataLoader object at 0x000001C2E12DDAC8>), (-1, 15, <torch.utils.data.dataloader.DataLoader object at 0x000001C2E12DDFC8>), (-1, 16, <torch.utils.data.dataloader.DataLoader object at 0x000001C2E1614D88>), (-1, 17, <torch.utils.data.dataloader.DataLoader object at 0x000001C2E16147C8>), (-1, 18, <torch.utils.data.dataloader.DataLoader object at 0x000001C2E1614748>), (-1, 19, <torch.utils.data.dataloader.DataLoader object at 0x000001C2E1614708>)], [(-1, 0, <torch.utils.data.dataloader.DataLoader object at 0x000001C2E11C5948>), (-1, 1, <torch.utils.data.dataloader.DataLoader object at 0x000001C2E0898FC8>), (-1, 2, <torch.utils.data.dataloader.DataLoader object at 0x000001C2E0898A88>), (-1, 3, <torch.utils.data.dataloader.DataLoader object at 0x000001C2E0898DC8>), (-1, 4, <torch.utils.data.dataloader.DataLoader object at 0x000001C2E0898F48>), (-1, 5, <torch.utils.data.dataloader.DataLoader object at 0x000001C2E0898908>), (-1, 6, <torch.utils.data.dataloader.DataLoader object at 0x000001C2E0898248>), (-1, 7, <torch.utils.data.dataloader.DataLoader object at 0x000001C2E0898808>), (-1, 8, <torch.utils.data.dataloader.DataLoader object at 0x000001C2E0898A48>), (-1, 9, <torch.utils.data.dataloader.DataLoader object at 0x000001C2E0898E88>), (-1, 10, <torch.utils.data.dataloader.DataLoader object at 0x000001C2E0898108>), (-1, 11, <torch.utils.data.dataloader.DataLoader object at 0x000001C2E13FA948>), (-1, 12, <torch.utils.data.dataloader.DataLoader object at 0x000001C2E13FAA48>), (-1, 13, <torch.utils.data.dataloader.DataLoader object at 0x000001C2E12DD148>), (-1, 14, <torch.utils.data.dataloader.DataLoader object at 0x000001C2E12DDAC8>), (-1, 15, <torch.utils.data.dataloader.DataLoader object at 0x000001C2E12DDFC8>), (-1, 16, <torch.utils.data.dataloader.DataLoader object at 0x000001C2E1614D88>), (-1, 17, <torch.utils.data.dataloader.DataLoader object at 0x000001C2E16147C8>), (-1, 18, <torch.utils.data.dataloader.DataLoader object at 0x000001C2E1614748>), (-1, 19, <torch.utils.data.dataloader.DataLoader object at 0x000001C2E1614708>)], [(-1, 0, <torch.utils.data.dataloader.DataLoader object at 0x000001C2E11C5948>), (-1, 1, <torch.utils.data.dataloader.DataLoader object at 0x000001C2E0898FC8>), (-1, 2, <torch.utils.data.dataloader.DataLoader object at 0x000001C2E0898A88>), (-1, 3, <torch.utils.data.dataloader.DataLoader object at 0x000001C2E0898DC8>), (-1, 4, <torch.utils.data.dataloader.DataLoader object at 0x000001C2E0898F48>), (-1, 5, <torch.utils.data.dataloader.DataLoader object at 0x000001C2E0898908>), (-1, 6, <torch.utils.data.dataloader.DataLoader object at 0x000001C2E0898248>), (-1, 7, <torch.utils.data.dataloader.DataLoader object at 0x000001C2E0898808>), (-1, 8, <torch.utils.data.dataloader.DataLoader object at 0x000001C2E0898A48>), (-1, 9, <torch.utils.data.dataloader.DataLoader object at 0x000001C2E0898E88>), (-1, 10, <torch.utils.data.dataloader.DataLoader object at 0x000001C2E0898108>), (-1, 11, <torch.utils.data.dataloader.DataLoader object at 0x000001C2E13FA948>), (-1, 12, <torch.utils.data.dataloader.DataLoader object at 0x000001C2E13FAA48>), (-1, 13, <torch.utils.data.dataloader.DataLoader object at 0x000001C2E12DD148>), (-1, 14, <torch.utils.data.dataloader.DataLoader object at 0x000001C2E12DDAC8>), (-1, 15, <torch.utils.data.dataloader.DataLoader object at 0x000001C2E12DDFC8>), (-1, 16, <torch.utils.data.dataloader.DataLoader object at 0x000001C2E1614D88>), (-1, 17, <torch.utils.data.dataloader.DataLoader object at 0x000001C2E16147C8>), (-1, 18, <torch.utils.data.dataloader.DataLoader object at 0x000001C2E1614748>), (-1, 19, <torch.utils.data.dataloader.DataLoader object at 0x000001C2E1614708>)], [(-1, 0, <torch.utils.data.dataloader.DataLoader object at 0x000001C2E11C5948>), (-1, 1, <torch.utils.data.dataloader.DataLoader object at 0x000001C2E0898FC8>), (-1, 2, <torch.utils.data.dataloader.DataLoader object at 0x000001C2E0898A88>), (-1, 3, <torch.utils.data.dataloader.DataLoader object at 0x000001C2E0898DC8>), (-1, 4, <torch.utils.data.dataloader.DataLoader object at 0x000001C2E0898F48>), (-1, 5, <torch.utils.data.dataloader.DataLoader object at 0x000001C2E0898908>), (-1, 6, <torch.utils.data.dataloader.DataLoader object at 0x000001C2E0898248>), (-1, 7, <torch.utils.data.dataloader.DataLoader object at 0x000001C2E0898808>), (-1, 8, <torch.utils.data.dataloader.DataLoader object at 0x000001C2E0898A48>), (-1, 9, <torch.utils.data.dataloader.DataLoader object at 0x000001C2E0898E88>), (-1, 10, <torch.utils.data.dataloader.DataLoader object at 0x000001C2E0898108>), (-1, 11, <torch.utils.data.dataloader.DataLoader object at 0x000001C2E13FA948>), (-1, 12, <torch.utils.data.dataloader.DataLoader object at 0x000001C2E13FAA48>), (-1, 13, <torch.utils.data.dataloader.DataLoader object at 0x000001C2E12DD148>), (-1, 14, <torch.utils.data.dataloader.DataLoader object at 0x000001C2E12DDAC8>), (-1, 15, <torch.utils.data.dataloader.DataLoader object at 0x000001C2E12DDFC8>), (-1, 16, <torch.utils.data.dataloader.DataLoader object at 0x000001C2E1614D88>), (-1, 17, <torch.utils.data.dataloader.DataLoader object at 0x000001C2E16147C8>), (-1, 18, <torch.utils.data.dataloader.DataLoader object at 0x000001C2E1614748>), (-1, 19, <torch.utils.data.dataloader.DataLoader object at 0x000001C2E1614708>)], [(-1, 0, <torch.utils.data.dataloader.DataLoader object at 0x000001C2E11C5948>), (-1, 1, <torch.utils.data.dataloader.DataLoader object at 0x000001C2E0898FC8>), (-1, 2, <torch.utils.data.dataloader.DataLoader object at 0x000001C2E0898A88>), (-1, 3, <torch.utils.data.dataloader.DataLoader object at 0x000001C2E0898DC8>), (-1, 4, <torch.utils.data.dataloader.DataLoader object at 0x000001C2E0898F48>), (-1, 5, <torch.utils.data.dataloader.DataLoader object at 0x000001C2E0898908>), (-1, 6, <torch.utils.data.dataloader.DataLoader object at 0x000001C2E0898248>), (-1, 7, <torch.utils.data.dataloader.DataLoader object at 0x000001C2E0898808>), (-1, 8, <torch.utils.data.dataloader.DataLoader object at 0x000001C2E0898A48>), (-1, 9, <torch.utils.data.dataloader.DataLoader object at 0x000001C2E0898E88>), (-1, 10, <torch.utils.data.dataloader.DataLoader object at 0x000001C2E0898108>), (-1, 11, <torch.utils.data.dataloader.DataLoader object at 0x000001C2E13FA948>), (-1, 12, <torch.utils.data.dataloader.DataLoader object at 0x000001C2E13FAA48>), (-1, 13, <torch.utils.data.dataloader.DataLoader object at 0x000001C2E12DD148>), (-1, 14, <torch.utils.data.dataloader.DataLoader object at 0x000001C2E12DDAC8>), (-1, 15, <torch.utils.data.dataloader.DataLoader object at 0x000001C2E12DDFC8>), (-1, 16, <torch.utils.data.dataloader.DataLoader object at 0x000001C2E1614D88>), (-1, 17, <torch.utils.data.dataloader.DataLoader object at 0x000001C2E16147C8>), (-1, 18, <torch.utils.data.dataloader.DataLoader object at 0x000001C2E1614748>), (-1, 19, <torch.utils.data.dataloader.DataLoader object at 0x000001C2E1614708>)], [(-1, 0, <torch.utils.data.dataloader.DataLoader object at 0x000001C2E11C5948>), (-1, 1, <torch.utils.data.dataloader.DataLoader object at 0x000001C2E0898FC8>), (-1, 2, <torch.utils.data.dataloader.DataLoader object at 0x000001C2E0898A88>), (-1, 3, <torch.utils.data.dataloader.DataLoader object at 0x000001C2E0898DC8>), (-1, 4, <torch.utils.data.dataloader.DataLoader object at 0x000001C2E0898F48>), (-1, 5, <torch.utils.data.dataloader.DataLoader object at 0x000001C2E0898908>), (-1, 6, <torch.utils.data.dataloader.DataLoader object at 0x000001C2E0898248>), (-1, 7, <torch.utils.data.dataloader.DataLoader object at 0x000001C2E0898808>), (-1, 8, <torch.utils.data.dataloader.DataLoader object at 0x000001C2E0898A48>), (-1, 9, <torch.utils.data.dataloader.DataLoader object at 0x000001C2E0898E88>), (-1, 10, <torch.utils.data.dataloader.DataLoader object at 0x000001C2E0898108>), (-1, 11, <torch.utils.data.dataloader.DataLoader object at 0x000001C2E13FA948>), (-1, 12, <torch.utils.data.dataloader.DataLoader object at 0x000001C2E13FAA48>), (-1, 13, <torch.utils.data.dataloader.DataLoader object at 0x000001C2E12DD148>), (-1, 14, <torch.utils.data.dataloader.DataLoader object at 0x000001C2E12DDAC8>), (-1, 15, <torch.utils.data.dataloader.DataLoader object at 0x000001C2E12DDFC8>), (-1, 16, <torch.utils.data.dataloader.DataLoader object at 0x000001C2E1614D88>), (-1, 17, <torch.utils.data.dataloader.DataLoader object at 0x000001C2E16147C8>), (-1, 18, <torch.utils.data.dataloader.DataLoader object at 0x000001C2E1614748>), (-1, 19, <torch.utils.data.dataloader.DataLoader object at 0x000001C2E1614708>)], [(-1, 0, <torch.utils.data.dataloader.DataLoader object at 0x000001C2E11C5948>), (-1, 1, <torch.utils.data.dataloader.DataLoader object at 0x000001C2E0898FC8>), (-1, 2, <torch.utils.data.dataloader.DataLoader object at 0x000001C2E0898A88>), (-1, 3, <torch.utils.data.dataloader.DataLoader object at 0x000001C2E0898DC8>), (-1, 4, <torch.utils.data.dataloader.DataLoader object at 0x000001C2E0898F48>), (-1, 5, <torch.utils.data.dataloader.DataLoader object at 0x000001C2E0898908>), (-1, 6, <torch.utils.data.dataloader.DataLoader object at 0x000001C2E0898248>), (-1, 7, <torch.utils.data.dataloader.DataLoader object at 0x000001C2E0898808>), (-1, 8, <torch.utils.data.dataloader.DataLoader object at 0x000001C2E0898A48>), (-1, 9, <torch.utils.data.dataloader.DataLoader object at 0x000001C2E0898E88>), (-1, 10, <torch.utils.data.dataloader.DataLoader object at 0x000001C2E0898108>), (-1, 11, <torch.utils.data.dataloader.DataLoader object at 0x000001C2E13FA948>), (-1, 12, <torch.utils.data.dataloader.DataLoader object at 0x000001C2E13FAA48>), (-1, 13, <torch.utils.data.dataloader.DataLoader object at 0x000001C2E12DD148>), (-1, 14, <torch.utils.data.dataloader.DataLoader object at 0x000001C2E12DDAC8>), (-1, 15, <torch.utils.data.dataloader.DataLoader object at 0x000001C2E12DDFC8>), (-1, 16, <torch.utils.data.dataloader.DataLoader object at 0x000001C2E1614D88>), (-1, 17, <torch.utils.data.dataloader.DataLoader object at 0x000001C2E16147C8>), (-1, 18, <torch.utils.data.dataloader.DataLoader object at 0x000001C2E1614748>), (-1, 19, <torch.utils.data.dataloader.DataLoader object at 0x000001C2E1614708>)], [(-1, 0, <torch.utils.data.dataloader.DataLoader object at 0x000001C2E11C5948>), (-1, 1, <torch.utils.data.dataloader.DataLoader object at 0x000001C2E0898FC8>), (-1, 2, <torch.utils.data.dataloader.DataLoader object at 0x000001C2E0898A88>), (-1, 3, <torch.utils.data.dataloader.DataLoader object at 0x000001C2E0898DC8>), (-1, 4, <torch.utils.data.dataloader.DataLoader object at 0x000001C2E0898F48>), (-1, 5, <torch.utils.data.dataloader.DataLoader object at 0x000001C2E0898908>), (-1, 6, <torch.utils.data.dataloader.DataLoader object at 0x000001C2E0898248>), (-1, 7, <torch.utils.data.dataloader.DataLoader object at 0x000001C2E0898808>), (-1, 8, <torch.utils.data.dataloader.DataLoader object at 0x000001C2E0898A48>), (-1, 9, <torch.utils.data.dataloader.DataLoader object at 0x000001C2E0898E88>), (-1, 10, <torch.utils.data.dataloader.DataLoader object at 0x000001C2E0898108>), (-1, 11, <torch.utils.data.dataloader.DataLoader object at 0x000001C2E13FA948>), (-1, 12, <torch.utils.data.dataloader.DataLoader object at 0x000001C2E13FAA48>), (-1, 13, <torch.utils.data.dataloader.DataLoader object at 0x000001C2E12DD148>), (-1, 14, <torch.utils.data.dataloader.DataLoader object at 0x000001C2E12DDAC8>), (-1, 15, <torch.utils.data.dataloader.DataLoader object at 0x000001C2E12DDFC8>), (-1, 16, <torch.utils.data.dataloader.DataLoader object at 0x000001C2E1614D88>), (-1, 17, <torch.utils.data.dataloader.DataLoader object at 0x000001C2E16147C8>), (-1, 18, <torch.utils.data.dataloader.DataLoader object at 0x000001C2E1614748>), (-1, 19, <torch.utils.data.dataloader.DataLoader object at 0x000001C2E1614708>)], [(-1, 0, <torch.utils.data.dataloader.DataLoader object at 0x000001C2E11C5948>), (-1, 1, <torch.utils.data.dataloader.DataLoader object at 0x000001C2E0898FC8>), (-1, 2, <torch.utils.data.dataloader.DataLoader object at 0x000001C2E0898A88>), (-1, 3, <torch.utils.data.dataloader.DataLoader object at 0x000001C2E0898DC8>), (-1, 4, <torch.utils.data.dataloader.DataLoader object at 0x000001C2E0898F48>), (-1, 5, <torch.utils.data.dataloader.DataLoader object at 0x000001C2E0898908>), (-1, 6, <torch.utils.data.dataloader.DataLoader object at 0x000001C2E0898248>), (-1, 7, <torch.utils.data.dataloader.DataLoader object at 0x000001C2E0898808>), (-1, 8, <torch.utils.data.dataloader.DataLoader object at 0x000001C2E0898A48>), (-1, 9, <torch.utils.data.dataloader.DataLoader object at 0x000001C2E0898E88>), (-1, 10, <torch.utils.data.dataloader.DataLoader object at 0x000001C2E0898108>), (-1, 11, <torch.utils.data.dataloader.DataLoader object at 0x000001C2E13FA948>), (-1, 12, <torch.utils.data.dataloader.DataLoader object at 0x000001C2E13FAA48>), (-1, 13, <torch.utils.data.dataloader.DataLoader object at 0x000001C2E12DD148>), (-1, 14, <torch.utils.data.dataloader.DataLoader object at 0x000001C2E12DDAC8>), (-1, 15, <torch.utils.data.dataloader.DataLoader object at 0x000001C2E12DDFC8>), (-1, 16, <torch.utils.data.dataloader.DataLoader object at 0x000001C2E1614D88>), (-1, 17, <torch.utils.data.dataloader.DataLoader object at 0x000001C2E16147C8>), (-1, 18, <torch.utils.data.dataloader.DataLoader object at 0x000001C2E1614748>), (-1, 19, <torch.utils.data.dataloader.DataLoader object at 0x000001C2E1614708>)]]\n"
     ]
    }
   ],
   "source": [
    "if iid:\n",
    "    train_loaders=[]\n",
    "    for i in range(n_iter):\n",
    "        train_loaders.append([(i, pos, get_train_iid(all_range, pos, i))\n",
    "                                for pos in range(num_of_workers)])\n",
    "else:\n",
    "    indices_per_participant = sample_dirichlet_train_data(\n",
    "        num_of_workers,\n",
    "        #dataset= torch.utils.data.Subset(train_dataset, list(range(240))),\n",
    "        alpha=0.95,\n",
    "        copylist=copylist)\n",
    "    train_loaders = [(-1, pos, get_train_noniid(indices)) for pos, indices in\n",
    "                    indices_per_participant.items()]\n",
    "    train_loaders = n_iter * [train_loaders]\n",
    "\n",
    "print(train_loaders)"
   ]
  },
  {
   "cell_type": "code",
   "execution_count": null,
   "metadata": {
    "colab": {
     "base_uri": "https://localhost:8080/"
    },
    "id": "HFU41nvozNJI",
    "outputId": "12464ed8-464b-4431-b96f-a69a9d84bf69"
   },
   "outputs": [
    {
     "name": "stdout",
     "output_type": "stream",
     "text": [
      "\n",
      "\n",
      " Entering epoch 0\n",
      "Iter 0 - Epoch 0 - Client Type: Benign - Client Number 0 - Poison Training False\n"
     ]
    },
    {
     "name": "stderr",
     "output_type": "stream",
     "text": [
      "100%|████████████████████████████████████████████████████████████████████████████████████| 1/1 [00:00<00:00,  1.23it/s]\n"
     ]
    },
    {
     "name": "stdout",
     "output_type": "stream",
     "text": [
      "Iter 0 - Epoch 0 - Client Type: Benign - Client Number 1 - Poison Training False\n"
     ]
    },
    {
     "name": "stderr",
     "output_type": "stream",
     "text": [
      "100%|████████████████████████████████████████████████████████████████████████████████████| 1/1 [00:00<00:00,  1.21it/s]\n"
     ]
    },
    {
     "name": "stdout",
     "output_type": "stream",
     "text": [
      "Iter 0 - Epoch 0 - Client Type: Benign - Client Number 2 - Poison Training False\n"
     ]
    },
    {
     "name": "stderr",
     "output_type": "stream",
     "text": [
      "100%|████████████████████████████████████████████████████████████████████████████████████| 1/1 [00:00<00:00,  1.25it/s]\n"
     ]
    },
    {
     "name": "stdout",
     "output_type": "stream",
     "text": [
      "Iter 0 - Epoch 0 - Client Type: Benign - Client Number 3 - Poison Training False\n"
     ]
    },
    {
     "name": "stderr",
     "output_type": "stream",
     "text": [
      "100%|████████████████████████████████████████████████████████████████████████████████████| 2/2 [00:01<00:00,  1.81it/s]\n"
     ]
    },
    {
     "name": "stdout",
     "output_type": "stream",
     "text": [
      "Iter 0 - Epoch 0 - Client Type: Benign - Client Number 4 - Poison Training False\n"
     ]
    },
    {
     "name": "stderr",
     "output_type": "stream",
     "text": [
      "100%|████████████████████████████████████████████████████████████████████████████████████| 2/2 [00:01<00:00,  1.51it/s]\n"
     ]
    },
    {
     "name": "stdout",
     "output_type": "stream",
     "text": [
      "Iter 0 - Epoch 0 - Client Type: Benign - Client Number 5 - Poison Training False\n"
     ]
    },
    {
     "name": "stderr",
     "output_type": "stream",
     "text": [
      "100%|████████████████████████████████████████████████████████████████████████████████████| 2/2 [00:01<00:00,  1.08it/s]\n"
     ]
    },
    {
     "name": "stdout",
     "output_type": "stream",
     "text": [
      "Iter 0 - Epoch 0 - Client Type: Benign - Client Number 6 - Poison Training False\n"
     ]
    },
    {
     "name": "stderr",
     "output_type": "stream",
     "text": [
      "100%|████████████████████████████████████████████████████████████████████████████████████| 2/2 [00:01<00:00,  1.20it/s]\n"
     ]
    },
    {
     "name": "stdout",
     "output_type": "stream",
     "text": [
      "Iter 0 - Epoch 0 - Client Type: Benign - Client Number 7 - Poison Training False\n"
     ]
    },
    {
     "name": "stderr",
     "output_type": "stream",
     "text": [
      "100%|████████████████████████████████████████████████████████████████████████████████████| 1/1 [00:00<00:00,  1.09it/s]\n"
     ]
    },
    {
     "name": "stdout",
     "output_type": "stream",
     "text": [
      "Iter 0 - Epoch 0 - Client Type: Benign - Client Number 8 - Poison Training False\n"
     ]
    },
    {
     "name": "stderr",
     "output_type": "stream",
     "text": [
      "100%|████████████████████████████████████████████████████████████████████████████████████| 1/1 [00:00<00:00,  1.27it/s]\n"
     ]
    },
    {
     "name": "stdout",
     "output_type": "stream",
     "text": [
      "Iter 0 - Epoch 0 - Client Type: Benign - Client Number 9 - Poison Training False\n"
     ]
    },
    {
     "name": "stderr",
     "output_type": "stream",
     "text": [
      "100%|████████████████████████████████████████████████████████████████████████████████████| 2/2 [00:01<00:00,  1.68it/s]\n"
     ]
    },
    {
     "name": "stdout",
     "output_type": "stream",
     "text": [
      "Iter 0 - Epoch 0 - Client Type: Benign - Client Number 10 - Poison Training False\n"
     ]
    },
    {
     "name": "stderr",
     "output_type": "stream",
     "text": [
      "100%|████████████████████████████████████████████████████████████████████████████████████| 1/1 [00:00<00:00,  1.27it/s]\n"
     ]
    },
    {
     "name": "stdout",
     "output_type": "stream",
     "text": [
      "Iter 0 - Epoch 0 - Client Type: Benign - Client Number 11 - Poison Training False\n"
     ]
    },
    {
     "name": "stderr",
     "output_type": "stream",
     "text": [
      "100%|████████████████████████████████████████████████████████████████████████████████████| 2/2 [00:01<00:00,  1.58it/s]\n"
     ]
    },
    {
     "name": "stdout",
     "output_type": "stream",
     "text": [
      "Iter 0 - Epoch 0 - Client Type: Benign - Client Number 12 - Poison Training False\n"
     ]
    },
    {
     "name": "stderr",
     "output_type": "stream",
     "text": [
      "100%|████████████████████████████████████████████████████████████████████████████████████| 1/1 [00:00<00:00,  1.52it/s]\n"
     ]
    },
    {
     "name": "stdout",
     "output_type": "stream",
     "text": [
      "Iter 0 - Epoch 0 - Client Type: Benign - Client Number 13 - Poison Training False\n"
     ]
    },
    {
     "name": "stderr",
     "output_type": "stream",
     "text": [
      "100%|████████████████████████████████████████████████████████████████████████████████████| 2/2 [00:01<00:00,  1.55it/s]\n"
     ]
    },
    {
     "name": "stdout",
     "output_type": "stream",
     "text": [
      "Iter 0 - Epoch 0 - Client Type: Benign - Client Number 14 - Poison Training False\n"
     ]
    },
    {
     "name": "stderr",
     "output_type": "stream",
     "text": [
      "100%|████████████████████████████████████████████████████████████████████████████████████| 2/2 [00:01<00:00,  1.22it/s]\n"
     ]
    },
    {
     "name": "stdout",
     "output_type": "stream",
     "text": [
      "Iter 0 - Epoch 0 - Client Type: Benign - Client Number 15 - Poison Training False\n"
     ]
    },
    {
     "name": "stderr",
     "output_type": "stream",
     "text": [
      "100%|████████████████████████████████████████████████████████████████████████████████████| 2/2 [00:01<00:00,  1.75it/s]\n"
     ]
    },
    {
     "name": "stdout",
     "output_type": "stream",
     "text": [
      "Iter 0 - Epoch 0 - Client Type: Benign - Client Number 16 - Poison Training False\n"
     ]
    },
    {
     "name": "stderr",
     "output_type": "stream",
     "text": [
      "100%|████████████████████████████████████████████████████████████████████████████████████| 1/1 [00:00<00:00,  1.07it/s]\n"
     ]
    },
    {
     "name": "stdout",
     "output_type": "stream",
     "text": [
      "Iter 0 - Epoch 0 - Client Type: Benign - Client Number 17 - Poison Training False\n"
     ]
    },
    {
     "name": "stderr",
     "output_type": "stream",
     "text": [
      "100%|████████████████████████████████████████████████████████████████████████████████████| 2/2 [00:01<00:00,  1.68it/s]\n"
     ]
    },
    {
     "name": "stdout",
     "output_type": "stream",
     "text": [
      "Iter 0 - Epoch 0 - Client Type: Benign - Client Number 18 - Poison Training False\n"
     ]
    },
    {
     "name": "stderr",
     "output_type": "stream",
     "text": [
      "100%|████████████████████████████████████████████████████████████████████████████████████| 2/2 [00:01<00:00,  1.68it/s]\n"
     ]
    },
    {
     "name": "stdout",
     "output_type": "stream",
     "text": [
      "Iter 0 - Epoch 0 - Client Type: Benign - Client Number 19 - Poison Training False\n"
     ]
    },
    {
     "name": "stderr",
     "output_type": "stream",
     "text": [
      "100%|████████████████████████████████████████████████████████████████████████████████████| 2/2 [00:01<00:00,  1.26it/s]\n"
     ]
    },
    {
     "name": "stdout",
     "output_type": "stream",
     "text": [
      "Original Copylist [8, 4, 8, 7, 0, 5, 3, 8, 8, 6, 8, 7, 2, 6, 1, 7, 4, 7, 0, 1]\n",
      "Found clusters [6 5 6 2 0 7 8 6 6 4 6 2 3 4 1 2 5 2 0 1]\n",
      "Original groups [array([ 4, 18], dtype=int64), array([14, 19], dtype=int64), array([12], dtype=int64), array([6], dtype=int64), array([ 1, 16], dtype=int64), array([5], dtype=int64), array([ 9, 13], dtype=int64), array([ 3, 11, 15, 17], dtype=int64), array([ 0,  2,  7,  8, 10], dtype=int64)]\n",
      "Clustered groups [array([ 4, 18], dtype=int64), array([14, 19], dtype=int64), array([ 3, 11, 15, 17], dtype=int64), array([12], dtype=int64), array([ 9, 13], dtype=int64), array([ 1, 16], dtype=int64), array([ 0,  2,  7,  8, 10], dtype=int64), array([5], dtype=int64), array([6], dtype=int64)]\n",
      "Clustering score 1.0\n",
      "[[ 9.99987126e-01 -2.92258240e-02  9.99286074e-01  3.19191599e-02\n",
      "   1.85432727e-01  1.73746890e-01  3.15652362e-01  9.99025907e-01\n",
      "   9.99178968e-01  1.27751296e-02  9.98841376e-01  4.30818422e-03\n",
      "   6.62284848e-01  8.56620034e-03  2.79378948e-01 -2.40092564e-03\n",
      "  -4.35774938e-02  2.52752675e-02  1.33976729e-01  3.28800828e-01]\n",
      " [-2.92258221e-02  9.99984622e-01 -2.38826045e-02  2.55566509e-01\n",
      "   4.57848025e-01  1.51457861e-01  1.71088236e-01 -1.76954355e-02\n",
      "  -2.22506670e-02  3.76706555e-01 -2.06263325e-02  2.08994684e-01\n",
      "  -1.84886540e-01  4.01987375e-01  1.33955808e-01  2.31091717e-01\n",
      "   9.99364333e-01  2.45677764e-01  5.45896031e-01  8.50610276e-02]\n",
      " [ 9.99286074e-01 -2.38826045e-02  9.99980927e-01  3.19601482e-02\n",
      "   1.83492394e-01  1.70247341e-01  3.15095728e-01  9.99302823e-01\n",
      "   9.99342399e-01  1.58043792e-02  9.98955456e-01  3.87374956e-03\n",
      "   6.57161487e-01  1.17086687e-02  2.72593169e-01 -2.73410562e-03\n",
      "  -3.83640023e-02  2.46980453e-02  1.33168526e-01  3.21353127e-01]\n",
      " [ 3.19191599e-02  2.55566509e-01  3.19601519e-02  1.00000000e+00\n",
      "   4.98015844e-01  6.43694234e-01  6.00778297e-01  3.45237879e-02\n",
      "   3.49491340e-02  5.98029463e-01  3.07243922e-02  9.90911426e-01\n",
      "   5.72323815e-02  5.69245115e-01  8.10377013e-02  9.90155063e-01\n",
      "   2.53390819e-01  9.93680942e-01  5.33339155e-01  1.25964571e-01]\n",
      " [ 1.85432712e-01  4.57848025e-01  1.83492409e-01  4.98015844e-01\n",
      "   9.99976993e-01  4.00193710e-01  3.55158884e-01  1.85274600e-01\n",
      "   1.85802877e-01  4.45955664e-01  1.87525138e-01  4.73335733e-01\n",
      "   6.79909549e-02  4.52187045e-01  2.45483175e-01  4.81277633e-01\n",
      "   4.58212289e-01  4.77386090e-01  9.81391624e-01  2.63591526e-01]\n",
      " [ 1.73746890e-01  1.51457861e-01  1.70247341e-01  6.43694174e-01\n",
      "   4.00193680e-01  9.99980212e-01  6.51825046e-01  1.75414450e-01\n",
      "   1.74766699e-01  5.30314001e-01  1.70410877e-01  6.24666670e-01\n",
      "   1.50911107e-01  5.17959417e-01  2.88779603e-01  6.25732134e-01\n",
      "   1.48513067e-01  6.32403446e-01  4.32852734e-01  3.46539207e-01]\n",
      " [ 3.15652391e-01  1.71088236e-01  3.15095728e-01  6.00778297e-01\n",
      "   3.55158884e-01  6.51825046e-01  9.99993324e-01  3.17041232e-01\n",
      "   3.19400143e-01  4.50546232e-01  3.15189752e-01  5.79706050e-01\n",
      "   1.94447944e-01  4.19193082e-01  1.95192029e-01  5.73702650e-01\n",
      "   1.67851506e-01  5.87263063e-01  4.19002859e-01  2.53905461e-01]\n",
      " [ 9.99025847e-01 -1.76954373e-02  9.99302823e-01  3.45237879e-02\n",
      "   1.85274585e-01  1.75414435e-01  3.17041202e-01  9.99980927e-01\n",
      "   9.99329644e-01  1.50923283e-02  9.99172948e-01  5.27045432e-03\n",
      "   6.57096520e-01  1.13783895e-02  2.67654518e-01 -1.21145365e-03\n",
      "  -3.22865234e-02  2.67510040e-02  1.35968469e-01  3.16655600e-01]\n",
      " [ 9.99179027e-01 -2.22506670e-02  9.99342399e-01  3.49491340e-02\n",
      "   1.85802877e-01  1.74766699e-01  3.19400143e-01  9.99329644e-01\n",
      "   9.99988675e-01  1.82016481e-02  9.99131703e-01  6.62534752e-03\n",
      "   6.57774505e-01  1.41010818e-02  2.72743875e-01 -4.06143596e-04\n",
      "  -3.68079413e-02  2.71154507e-02  1.35995484e-01  3.22001996e-01]\n",
      " [ 1.27751296e-02  3.76706555e-01  1.58043810e-02  5.98029403e-01\n",
      "   4.45955634e-01  5.30314001e-01  4.50546232e-01  1.50923283e-02\n",
      "   1.82016481e-02  9.99976636e-01  8.72813163e-03  6.04157374e-01\n",
      "  -1.54413322e-02  9.91573020e-01  3.87935564e-01  6.01623468e-01\n",
      "   3.72521347e-01  5.81968463e-01  4.90639130e-01  3.98241173e-01]\n",
      " [ 9.98841376e-01 -2.06263344e-02  9.98955397e-01  3.07243904e-02\n",
      "   1.87525152e-01  1.70410877e-01  3.15189752e-01  9.99172888e-01\n",
      "   9.99131703e-01  8.72813163e-03  9.99985695e-01  1.30168419e-03\n",
      "   6.59417046e-01  4.45837603e-03  2.67163508e-01 -5.70288947e-03\n",
      "  -3.50638177e-02  2.25798156e-02  1.37222130e-01  3.16830208e-01]\n",
      " [ 4.30818422e-03  2.08994684e-01  3.87374933e-03  9.90911426e-01\n",
      "   4.73335704e-01  6.24666610e-01  5.79706050e-01  5.27045385e-03\n",
      "   6.62534752e-03  6.04157374e-01  1.30168419e-03  9.99999046e-01\n",
      "   6.27998332e-02  5.75010580e-01  1.09023025e-01  9.96227722e-01\n",
      "   2.07776204e-01  9.91426576e-01  5.03251288e-01  1.52693537e-01]\n",
      " [ 6.62284848e-01 -1.84886540e-01  6.57161547e-01  5.72323778e-02\n",
      "   6.79909549e-02  1.50911092e-01  1.94447930e-01  6.57096520e-01\n",
      "   6.57774505e-01 -1.54413331e-02  6.59417046e-01  6.27998332e-02\n",
      "   9.99976874e-01 -3.67368461e-02  5.26345569e-01  4.63517596e-02\n",
      "  -1.91151910e-01  7.40721740e-02  6.11484911e-03  5.65864787e-01]\n",
      " [ 8.56619941e-03  4.01987375e-01  1.17086678e-02  5.69245115e-01\n",
      "   4.52187045e-01  5.17959417e-01  4.19193052e-01  1.13783885e-02\n",
      "   1.41010827e-02  9.91572961e-01  4.45837556e-03  5.75010639e-01\n",
      "  -3.67368498e-02  9.99979616e-01  4.04963147e-01  5.75821539e-01\n",
      "   3.97931684e-01  5.52832397e-01  4.96131075e-01  4.05957297e-01]\n",
      " [ 2.79378948e-01  1.33955808e-01  2.72593169e-01  8.10377013e-02\n",
      "   2.45483160e-01  2.88779603e-01  1.95192029e-01  2.67654518e-01\n",
      "   2.72743875e-01  3.87935594e-01  2.67163478e-01  1.09023018e-01\n",
      "   5.26345569e-01  4.04963147e-01  9.99973417e-01  1.08527217e-01\n",
      "   1.35319437e-01  1.03397338e-01  2.26342499e-01  9.87888895e-01]\n",
      " [-2.40092564e-03  2.31091717e-01 -2.73410562e-03  9.90155063e-01\n",
      "   4.81277633e-01  6.25732134e-01  5.73702650e-01 -1.21145353e-03\n",
      "  -4.06143567e-04  6.01623468e-01 -5.70288947e-03  9.96227662e-01\n",
      "   4.63517633e-02  5.75821539e-01  1.08527217e-01  9.99997497e-01\n",
      "   2.30208340e-01  9.93466848e-01  5.13478995e-01  1.48639977e-01]\n",
      " [-4.35774938e-02  9.99364393e-01 -3.83639986e-02  2.53390819e-01\n",
      "   4.58212260e-01  1.48513052e-01  1.67851506e-01 -3.22865234e-02\n",
      "  -3.68079413e-02  3.72521347e-01 -3.50638140e-02  2.07776189e-01\n",
      "  -1.91151910e-01  3.97931684e-01  1.35319437e-01  2.30208340e-01\n",
      "   9.99980927e-01  2.43981223e-01  5.46359504e-01  8.60933155e-02]\n",
      " [ 2.52752675e-02  2.45677764e-01  2.46980453e-02  9.93680942e-01\n",
      "   4.77386090e-01  6.32403386e-01  5.87263123e-01  2.67510022e-02\n",
      "   2.71154507e-02  5.81968463e-01  2.25798156e-02  9.91426576e-01\n",
      "   7.40721740e-02  5.52832338e-01  1.03397338e-01  9.93466789e-01\n",
      "   2.43981208e-01  9.99994636e-01  5.10926732e-01  1.45338906e-01]\n",
      " [ 1.33976743e-01  5.45896031e-01  1.33168526e-01  5.33339155e-01\n",
      "   9.81391624e-01  4.32852704e-01  4.19002859e-01  1.35968469e-01\n",
      "   1.35995484e-01  4.90639100e-01  1.37222130e-01  5.03251288e-01\n",
      "   6.11484911e-03  4.96131075e-01  2.26342485e-01  5.13479055e-01\n",
      "   5.46359445e-01  5.10926673e-01  9.99979854e-01  2.38373528e-01]\n",
      " [ 3.28800828e-01  8.50610276e-02  3.21353097e-01  1.25964571e-01\n",
      "   2.63591496e-01  3.46539207e-01  2.53905461e-01  3.16655571e-01\n",
      "   3.22001996e-01  3.98241173e-01  3.16830208e-01  1.52693537e-01\n",
      "   5.65864727e-01  4.05957297e-01  9.87888895e-01  1.48639962e-01\n",
      "   8.60933155e-02  1.45338906e-01  2.38373528e-01  9.99976755e-01]]\n",
      "Original Copylist [8, 4, 8, 7, 0, 5, 3, 8, 8, 6, 8, 7, 2, 6, 1, 7, 4, 7, 0, 1]\n",
      "Found clusters [6 5 6 2 0 7 8 6 6 4 6 2 3 4 1 2 5 2 0 1]\n",
      "Original groups [array([ 4, 18], dtype=int64), array([14, 19], dtype=int64), array([12], dtype=int64), array([6], dtype=int64), array([ 1, 16], dtype=int64), array([5], dtype=int64), array([ 9, 13], dtype=int64), array([ 3, 11, 15, 17], dtype=int64), array([ 0,  2,  7,  8, 10], dtype=int64)]\n",
      "Clustered groups [array([ 4, 18], dtype=int64), array([14, 19], dtype=int64), array([ 3, 11, 15, 17], dtype=int64), array([12], dtype=int64), array([ 9, 13], dtype=int64), array([ 1, 16], dtype=int64), array([ 0,  2,  7,  8, 10], dtype=int64), array([5], dtype=int64), array([6], dtype=int64)]\n",
      "Clustering score 1.0\n",
      "\n",
      "\n",
      " Entering epoch 1\n",
      "Iter 0 - Epoch 0 - Client Type: Benign - Client Number 0 - Poison Training False\n"
     ]
    },
    {
     "name": "stderr",
     "output_type": "stream",
     "text": [
      "100%|████████████████████████████████████████████████████████████████████████████████████| 1/1 [00:00<00:00,  1.30it/s]\n"
     ]
    },
    {
     "name": "stdout",
     "output_type": "stream",
     "text": [
      "Iter 0 - Epoch 0 - Client Type: Benign - Client Number 1 - Poison Training False\n"
     ]
    },
    {
     "name": "stderr",
     "output_type": "stream",
     "text": [
      "100%|████████████████████████████████████████████████████████████████████████████████████| 1/1 [00:00<00:00,  1.11it/s]\n"
     ]
    },
    {
     "name": "stdout",
     "output_type": "stream",
     "text": [
      "Iter 0 - Epoch 0 - Client Type: Benign - Client Number 2 - Poison Training False\n"
     ]
    },
    {
     "name": "stderr",
     "output_type": "stream",
     "text": [
      "100%|████████████████████████████████████████████████████████████████████████████████████| 1/1 [00:00<00:00,  1.14it/s]\n"
     ]
    },
    {
     "name": "stdout",
     "output_type": "stream",
     "text": [
      "Iter 0 - Epoch 0 - Client Type: Benign - Client Number 3 - Poison Training False\n"
     ]
    },
    {
     "name": "stderr",
     "output_type": "stream",
     "text": [
      "100%|████████████████████████████████████████████████████████████████████████████████████| 2/2 [00:01<00:00,  1.65it/s]\n"
     ]
    },
    {
     "name": "stdout",
     "output_type": "stream",
     "text": [
      "Iter 0 - Epoch 0 - Client Type: Benign - Client Number 4 - Poison Training False\n"
     ]
    },
    {
     "name": "stderr",
     "output_type": "stream",
     "text": [
      "100%|████████████████████████████████████████████████████████████████████████████████████| 2/2 [00:01<00:00,  1.63it/s]\n"
     ]
    },
    {
     "name": "stdout",
     "output_type": "stream",
     "text": [
      "Iter 0 - Epoch 0 - Client Type: Benign - Client Number 5 - Poison Training False\n"
     ]
    },
    {
     "name": "stderr",
     "output_type": "stream",
     "text": [
      "100%|████████████████████████████████████████████████████████████████████████████████████| 2/2 [00:01<00:00,  1.19it/s]\n"
     ]
    },
    {
     "name": "stdout",
     "output_type": "stream",
     "text": [
      "Iter 0 - Epoch 0 - Client Type: Benign - Client Number 6 - Poison Training False\n"
     ]
    },
    {
     "name": "stderr",
     "output_type": "stream",
     "text": [
      "100%|████████████████████████████████████████████████████████████████████████████████████| 2/2 [00:01<00:00,  1.37it/s]\n"
     ]
    },
    {
     "name": "stdout",
     "output_type": "stream",
     "text": [
      "Iter 0 - Epoch 0 - Client Type: Benign - Client Number 7 - Poison Training False\n"
     ]
    },
    {
     "name": "stderr",
     "output_type": "stream",
     "text": [
      "100%|████████████████████████████████████████████████████████████████████████████████████| 1/1 [00:00<00:00,  1.24it/s]\n"
     ]
    },
    {
     "name": "stdout",
     "output_type": "stream",
     "text": [
      "Iter 0 - Epoch 0 - Client Type: Benign - Client Number 8 - Poison Training False\n"
     ]
    },
    {
     "name": "stderr",
     "output_type": "stream",
     "text": [
      "100%|████████████████████████████████████████████████████████████████████████████████████| 1/1 [00:00<00:00,  1.23it/s]\n"
     ]
    },
    {
     "name": "stdout",
     "output_type": "stream",
     "text": [
      "Iter 0 - Epoch 0 - Client Type: Benign - Client Number 9 - Poison Training False\n"
     ]
    },
    {
     "name": "stderr",
     "output_type": "stream",
     "text": [
      "100%|████████████████████████████████████████████████████████████████████████████████████| 2/2 [00:01<00:00,  1.69it/s]\n"
     ]
    },
    {
     "name": "stdout",
     "output_type": "stream",
     "text": [
      "Iter 0 - Epoch 0 - Client Type: Benign - Client Number 10 - Poison Training False\n"
     ]
    },
    {
     "name": "stderr",
     "output_type": "stream",
     "text": [
      "100%|████████████████████████████████████████████████████████████████████████████████████| 1/1 [00:00<00:00,  1.09it/s]\n"
     ]
    },
    {
     "name": "stdout",
     "output_type": "stream",
     "text": [
      "Iter 0 - Epoch 0 - Client Type: Benign - Client Number 11 - Poison Training False\n"
     ]
    },
    {
     "name": "stderr",
     "output_type": "stream",
     "text": [
      "100%|████████████████████████████████████████████████████████████████████████████████████| 2/2 [00:01<00:00,  1.78it/s]\n"
     ]
    },
    {
     "name": "stdout",
     "output_type": "stream",
     "text": [
      "Iter 0 - Epoch 0 - Client Type: Benign - Client Number 12 - Poison Training False\n"
     ]
    },
    {
     "name": "stderr",
     "output_type": "stream",
     "text": [
      "100%|████████████████████████████████████████████████████████████████████████████████████| 1/1 [00:00<00:00,  1.71it/s]\n"
     ]
    },
    {
     "name": "stdout",
     "output_type": "stream",
     "text": [
      "Iter 0 - Epoch 0 - Client Type: Benign - Client Number 13 - Poison Training False\n"
     ]
    },
    {
     "name": "stderr",
     "output_type": "stream",
     "text": [
      "100%|████████████████████████████████████████████████████████████████████████████████████| 2/2 [00:01<00:00,  1.53it/s]\n"
     ]
    },
    {
     "name": "stdout",
     "output_type": "stream",
     "text": [
      "Iter 0 - Epoch 0 - Client Type: Benign - Client Number 14 - Poison Training False\n"
     ]
    },
    {
     "name": "stderr",
     "output_type": "stream",
     "text": [
      "100%|████████████████████████████████████████████████████████████████████████████████████| 2/2 [00:01<00:00,  1.02it/s]\n"
     ]
    },
    {
     "name": "stdout",
     "output_type": "stream",
     "text": [
      "Iter 0 - Epoch 0 - Client Type: Benign - Client Number 15 - Poison Training False\n"
     ]
    },
    {
     "name": "stderr",
     "output_type": "stream",
     "text": [
      "100%|████████████████████████████████████████████████████████████████████████████████████| 2/2 [00:01<00:00,  1.75it/s]\n"
     ]
    },
    {
     "name": "stdout",
     "output_type": "stream",
     "text": [
      "Iter 0 - Epoch 0 - Client Type: Benign - Client Number 16 - Poison Training False\n"
     ]
    },
    {
     "name": "stderr",
     "output_type": "stream",
     "text": [
      "100%|████████████████████████████████████████████████████████████████████████████████████| 1/1 [00:00<00:00,  1.11it/s]\n"
     ]
    },
    {
     "name": "stdout",
     "output_type": "stream",
     "text": [
      "Iter 0 - Epoch 0 - Client Type: Benign - Client Number 17 - Poison Training False\n"
     ]
    },
    {
     "name": "stderr",
     "output_type": "stream",
     "text": [
      "100%|████████████████████████████████████████████████████████████████████████████████████| 2/2 [00:01<00:00,  1.45it/s]\n"
     ]
    },
    {
     "name": "stdout",
     "output_type": "stream",
     "text": [
      "Iter 0 - Epoch 0 - Client Type: Benign - Client Number 18 - Poison Training False\n"
     ]
    },
    {
     "name": "stderr",
     "output_type": "stream",
     "text": [
      "100%|████████████████████████████████████████████████████████████████████████████████████| 2/2 [00:01<00:00,  1.50it/s]\n"
     ]
    },
    {
     "name": "stdout",
     "output_type": "stream",
     "text": [
      "Iter 0 - Epoch 0 - Client Type: Benign - Client Number 19 - Poison Training False\n"
     ]
    },
    {
     "name": "stderr",
     "output_type": "stream",
     "text": [
      "100%|████████████████████████████████████████████████████████████████████████████████████| 2/2 [00:01<00:00,  1.16it/s]\n"
     ]
    },
    {
     "name": "stdout",
     "output_type": "stream",
     "text": [
      "Original Copylist [8, 4, 8, 7, 0, 5, 3, 8, 8, 6, 8, 7, 2, 6, 1, 7, 4, 7, 0, 1]\n",
      "Found clusters [8 4 8 3 2 7 6 8 8 1 8 3 5 1 0 3 4 3 2 0]\n",
      "Original groups [array([ 4, 18], dtype=int64), array([14, 19], dtype=int64), array([12], dtype=int64), array([6], dtype=int64), array([ 1, 16], dtype=int64), array([5], dtype=int64), array([ 9, 13], dtype=int64), array([ 3, 11, 15, 17], dtype=int64), array([ 0,  2,  7,  8, 10], dtype=int64)]\n",
      "Clustered groups [array([14, 19], dtype=int64), array([ 9, 13], dtype=int64), array([ 4, 18], dtype=int64), array([ 3, 11, 15, 17], dtype=int64), array([ 1, 16], dtype=int64), array([12], dtype=int64), array([6], dtype=int64), array([5], dtype=int64), array([ 0,  2,  7,  8, 10], dtype=int64)]\n",
      "Clustering score 1.0\n",
      "[[0.99999362 0.33056753 0.99931972 0.30544851 0.29869118 0.42009603\n",
      "  0.38393578 0.99910047 0.99920426 0.1699822  0.99902331 0.2811621\n",
      "  0.64654194 0.14931086 0.19474517 0.27639989 0.32270451 0.29414373\n",
      "  0.26979661 0.24019314]\n",
      " [0.33056753 0.99999034 0.3339994  0.4665931  0.41822676 0.40067087\n",
      "  0.41301249 0.33698961 0.33492182 0.37577561 0.33633881 0.42438792\n",
      "  0.11487426 0.36944463 0.12773912 0.4339203  0.99894367 0.45005231\n",
      "  0.48072304 0.07028293]\n",
      " [0.99931969 0.33399937 0.99998808 0.30496943 0.29875312 0.41695663\n",
      "  0.38231391 0.99936385 0.99938117 0.17352472 0.99904101 0.28022466\n",
      "  0.64380263 0.15323584 0.19035417 0.27558234 0.32600253 0.29317206\n",
      "  0.27063716 0.23564575]\n",
      " [0.30544854 0.4665931  0.3049694  1.         0.43998831 0.62103533\n",
      "  0.59341608 0.30542518 0.3066457  0.47491169 0.30535446 0.99087883\n",
      "  0.20218287 0.43661523 0.11689878 0.99011697 0.46511128 0.99361304\n",
      "  0.47728051 0.09653329]\n",
      " [0.29869119 0.41822677 0.29875311 0.43998831 0.99998397 0.36510637\n",
      "  0.31355005 0.30064218 0.30116136 0.39393354 0.30048343 0.4199881\n",
      "  0.22566466 0.39482033 0.22183708 0.42730767 0.41376332 0.41986262\n",
      "  0.97821007 0.27522035]\n",
      " [0.420096   0.40067087 0.41695663 0.6210353  0.36510636 0.9999854\n",
      "  0.63483557 0.42000603 0.4198163  0.44898246 0.41817994 0.60321523\n",
      "  0.29875053 0.42541817 0.28058114 0.6040818  0.39758294 0.60987486\n",
      "  0.39305439 0.32012282]\n",
      " [0.38393579 0.41301249 0.38231391 0.59341608 0.31355005 0.63483557\n",
      "  0.99999845 0.38280631 0.38556144 0.35977914 0.38368387 0.57289381\n",
      "  0.24986077 0.31894109 0.27271499 0.56732674 0.40938563 0.57999973\n",
      "  0.38028251 0.23995332]\n",
      " [0.99910044 0.33698958 0.99936388 0.30542518 0.30064216 0.42000599\n",
      "  0.38280628 0.99998915 0.99935953 0.17275877 0.99916791 0.27978656\n",
      "  0.64486129 0.15304394 0.18715762 0.27522381 0.32892278 0.29320367\n",
      "  0.27303614 0.23368344]\n",
      " [0.99920429 0.33492182 0.99938114 0.30664573 0.30116136 0.41981627\n",
      "  0.38556142 0.99935953 0.99999219 0.17520572 0.99914538 0.28175256\n",
      "  0.64613246 0.15496862 0.19278848 0.27670065 0.326907   0.29433399\n",
      "  0.27322084 0.23839927]\n",
      " [0.16998222 0.37577561 0.1735247  0.47491166 0.39393354 0.44898246\n",
      "  0.35977913 0.17275877 0.17520574 0.99998415 0.16764771 0.48613334\n",
      "  0.22245736 0.98832221 0.44410991 0.48279631 0.36667086 0.46095187\n",
      "  0.43355036 0.43449493]\n",
      " [0.99902334 0.33633881 0.99904095 0.30535445 0.30048344 0.41817994\n",
      "  0.38368388 0.99916785 0.99914541 0.16764771 0.99999237 0.27957756\n",
      "  0.64375098 0.14717979 0.18533096 0.27466247 0.32862749 0.2928878\n",
      "  0.27271108 0.23100707]\n",
      " [0.2811621  0.42438789 0.28022463 0.99087883 0.41998808 0.60321523\n",
      "  0.57289381 0.27978656 0.28175256 0.48613334 0.27957756 0.99999928\n",
      "  0.20873998 0.4464122  0.15021726 0.996127   0.42318267 0.99128153\n",
      "  0.45106599 0.12619079]\n",
      " [0.64654191 0.11487426 0.64380266 0.20218286 0.22566465 0.29875052\n",
      "  0.24986076 0.64486129 0.64613246 0.22245736 0.64375101 0.20874\n",
      "  0.99998301 0.20752442 0.51540213 0.19219328 0.10706164 0.21045252\n",
      "  0.17341396 0.55660455]\n",
      " [0.14931084 0.36944461 0.15323582 0.43661522 0.39482033 0.42541817\n",
      "  0.31894108 0.15304394 0.15496862 0.98832218 0.1471798  0.44641223\n",
      "  0.20752442 0.99998575 0.44776012 0.44582586 0.35964704 0.42298934\n",
      "  0.43401677 0.43911493]\n",
      " [0.19474517 0.12773912 0.19035417 0.11689878 0.22183707 0.28058115\n",
      "  0.27271499 0.18715762 0.19278848 0.44410996 0.18533095 0.15021725\n",
      "  0.51540213 0.44776012 0.9999817  0.14108316 0.12022268 0.13082259\n",
      "  0.22036432 0.9589847 ]\n",
      " [0.27639989 0.4339203  0.27558237 0.99011697 0.42730767 0.60408183\n",
      "  0.56732674 0.27522381 0.27670065 0.48279632 0.27466247 0.996127\n",
      "  0.19219327 0.44582586 0.14108316 0.99999696 0.43244668 0.99345226\n",
      "  0.4610705  0.11883371]\n",
      " [0.32270454 0.9989437  0.32600253 0.46511131 0.41376331 0.39758296\n",
      "  0.40938563 0.32892275 0.326907   0.36667086 0.32862749 0.42318267\n",
      "  0.10706163 0.35964703 0.12022269 0.43244671 0.99999201 0.44824194\n",
      "  0.47578375 0.0615036 ]\n",
      " [0.29414373 0.45005231 0.29317206 0.99361304 0.41986262 0.6098748\n",
      "  0.57999976 0.29320367 0.29433399 0.46095187 0.2928878  0.99128153\n",
      "  0.21045252 0.42298931 0.13082258 0.99345223 0.44824196 0.99999613\n",
      "  0.45495698 0.10805298]\n",
      " [0.26979661 0.48072303 0.27063716 0.47728051 0.9782101  0.39305438\n",
      "  0.38028251 0.27303614 0.27322084 0.43355035 0.27271108 0.451066\n",
      "  0.17341396 0.43401677 0.22036431 0.46107053 0.47578371 0.45495695\n",
      "  0.99998263 0.25719403]\n",
      " [0.24019314 0.07028293 0.23564573 0.09653329 0.27522032 0.3201228\n",
      "  0.23995332 0.23368343 0.23839928 0.43449493 0.23100707 0.12619079\n",
      "  0.55660452 0.43911491 0.95898467 0.1188337  0.0615036  0.10805298\n",
      "  0.25719401 0.99998158]]\n",
      "Original Copylist [8, 4, 8, 7, 0, 5, 3, 8, 8, 6, 8, 7, 2, 6, 1, 7, 4, 7, 0, 1]\n",
      "Found clusters [3 4 3 6 1 7 5 3 3 2 3 6 8 2 0 6 4 6 1 0]\n",
      "Original groups [array([ 4, 18], dtype=int64), array([14, 19], dtype=int64), array([12], dtype=int64), array([6], dtype=int64), array([ 1, 16], dtype=int64), array([5], dtype=int64), array([ 9, 13], dtype=int64), array([ 3, 11, 15, 17], dtype=int64), array([ 0,  2,  7,  8, 10], dtype=int64)]\n",
      "Clustered groups [array([14, 19], dtype=int64), array([ 4, 18], dtype=int64), array([ 9, 13], dtype=int64), array([ 0,  2,  7,  8, 10], dtype=int64), array([ 1, 16], dtype=int64), array([6], dtype=int64), array([ 3, 11, 15, 17], dtype=int64), array([5], dtype=int64), array([12], dtype=int64)]\n",
      "Clustering score 1.0\n",
      "\n",
      "\n",
      " Entering epoch 2\n",
      "Iter 0 - Epoch 0 - Client Type: Benign - Client Number 0 - Poison Training False\n"
     ]
    },
    {
     "name": "stderr",
     "output_type": "stream",
     "text": [
      "100%|████████████████████████████████████████████████████████████████████████████████████| 1/1 [00:00<00:00,  1.18it/s]\n"
     ]
    },
    {
     "name": "stdout",
     "output_type": "stream",
     "text": [
      "Iter 0 - Epoch 0 - Client Type: Benign - Client Number 1 - Poison Training False\n"
     ]
    },
    {
     "name": "stderr",
     "output_type": "stream",
     "text": [
      "100%|████████████████████████████████████████████████████████████████████████████████████| 1/1 [00:00<00:00,  1.16it/s]\n"
     ]
    },
    {
     "name": "stdout",
     "output_type": "stream",
     "text": [
      "Iter 0 - Epoch 0 - Client Type: Benign - Client Number 2 - Poison Training False\n"
     ]
    },
    {
     "name": "stderr",
     "output_type": "stream",
     "text": [
      "100%|████████████████████████████████████████████████████████████████████████████████████| 1/1 [00:00<00:00,  1.08it/s]\n"
     ]
    },
    {
     "name": "stdout",
     "output_type": "stream",
     "text": [
      "Iter 0 - Epoch 0 - Client Type: Benign - Client Number 3 - Poison Training False\n"
     ]
    },
    {
     "name": "stderr",
     "output_type": "stream",
     "text": [
      "100%|████████████████████████████████████████████████████████████████████████████████████| 2/2 [00:01<00:00,  1.54it/s]\n"
     ]
    },
    {
     "name": "stdout",
     "output_type": "stream",
     "text": [
      "Iter 0 - Epoch 0 - Client Type: Benign - Client Number 4 - Poison Training False\n"
     ]
    },
    {
     "name": "stderr",
     "output_type": "stream",
     "text": [
      "100%|████████████████████████████████████████████████████████████████████████████████████| 2/2 [00:01<00:00,  1.40it/s]\n"
     ]
    },
    {
     "name": "stdout",
     "output_type": "stream",
     "text": [
      "Iter 0 - Epoch 0 - Client Type: Benign - Client Number 5 - Poison Training False\n"
     ]
    },
    {
     "name": "stderr",
     "output_type": "stream",
     "text": [
      "100%|████████████████████████████████████████████████████████████████████████████████████| 2/2 [00:01<00:00,  1.35it/s]\n"
     ]
    },
    {
     "name": "stdout",
     "output_type": "stream",
     "text": [
      "Iter 0 - Epoch 0 - Client Type: Benign - Client Number 6 - Poison Training False\n"
     ]
    },
    {
     "name": "stderr",
     "output_type": "stream",
     "text": [
      "100%|████████████████████████████████████████████████████████████████████████████████████| 2/2 [00:01<00:00,  1.24it/s]\n"
     ]
    },
    {
     "name": "stdout",
     "output_type": "stream",
     "text": [
      "Iter 0 - Epoch 0 - Client Type: Benign - Client Number 7 - Poison Training False\n"
     ]
    },
    {
     "name": "stderr",
     "output_type": "stream",
     "text": [
      "100%|████████████████████████████████████████████████████████████████████████████████████| 1/1 [00:00<00:00,  1.20it/s]\n"
     ]
    },
    {
     "name": "stdout",
     "output_type": "stream",
     "text": [
      "Iter 0 - Epoch 0 - Client Type: Benign - Client Number 8 - Poison Training False\n"
     ]
    },
    {
     "name": "stderr",
     "output_type": "stream",
     "text": [
      "100%|████████████████████████████████████████████████████████████████████████████████████| 1/1 [00:00<00:00,  1.23it/s]\n"
     ]
    },
    {
     "name": "stdout",
     "output_type": "stream",
     "text": [
      "Iter 0 - Epoch 0 - Client Type: Benign - Client Number 9 - Poison Training False\n"
     ]
    },
    {
     "name": "stderr",
     "output_type": "stream",
     "text": [
      "100%|████████████████████████████████████████████████████████████████████████████████████| 2/2 [00:01<00:00,  1.41it/s]\n"
     ]
    },
    {
     "name": "stdout",
     "output_type": "stream",
     "text": [
      "Iter 0 - Epoch 0 - Client Type: Benign - Client Number 10 - Poison Training False\n"
     ]
    },
    {
     "name": "stderr",
     "output_type": "stream",
     "text": [
      "100%|████████████████████████████████████████████████████████████████████████████████████| 1/1 [00:00<00:00,  1.07it/s]\n"
     ]
    },
    {
     "name": "stdout",
     "output_type": "stream",
     "text": [
      "Iter 0 - Epoch 0 - Client Type: Benign - Client Number 11 - Poison Training False\n"
     ]
    },
    {
     "name": "stderr",
     "output_type": "stream",
     "text": [
      "100%|████████████████████████████████████████████████████████████████████████████████████| 2/2 [00:01<00:00,  1.69it/s]\n"
     ]
    },
    {
     "name": "stdout",
     "output_type": "stream",
     "text": [
      "Iter 0 - Epoch 0 - Client Type: Benign - Client Number 12 - Poison Training False\n"
     ]
    },
    {
     "name": "stderr",
     "output_type": "stream",
     "text": [
      "100%|████████████████████████████████████████████████████████████████████████████████████| 1/1 [00:00<00:00,  1.59it/s]\n"
     ]
    },
    {
     "name": "stdout",
     "output_type": "stream",
     "text": [
      "Iter 0 - Epoch 0 - Client Type: Benign - Client Number 13 - Poison Training False\n"
     ]
    },
    {
     "name": "stderr",
     "output_type": "stream",
     "text": [
      "100%|████████████████████████████████████████████████████████████████████████████████████| 2/2 [00:01<00:00,  1.45it/s]\n"
     ]
    },
    {
     "name": "stdout",
     "output_type": "stream",
     "text": [
      "Iter 0 - Epoch 0 - Client Type: Benign - Client Number 14 - Poison Training False\n"
     ]
    },
    {
     "name": "stderr",
     "output_type": "stream",
     "text": [
      "100%|████████████████████████████████████████████████████████████████████████████████████| 2/2 [00:01<00:00,  1.16it/s]\n"
     ]
    },
    {
     "name": "stdout",
     "output_type": "stream",
     "text": [
      "Iter 0 - Epoch 0 - Client Type: Benign - Client Number 15 - Poison Training False\n"
     ]
    },
    {
     "name": "stderr",
     "output_type": "stream",
     "text": [
      "100%|████████████████████████████████████████████████████████████████████████████████████| 2/2 [00:01<00:00,  1.62it/s]\n"
     ]
    },
    {
     "name": "stdout",
     "output_type": "stream",
     "text": [
      "Iter 0 - Epoch 0 - Client Type: Benign - Client Number 16 - Poison Training False\n"
     ]
    },
    {
     "name": "stderr",
     "output_type": "stream",
     "text": [
      "100%|████████████████████████████████████████████████████████████████████████████████████| 1/1 [00:00<00:00,  1.02it/s]\n"
     ]
    },
    {
     "name": "stdout",
     "output_type": "stream",
     "text": [
      "Iter 0 - Epoch 0 - Client Type: Benign - Client Number 17 - Poison Training False\n"
     ]
    },
    {
     "name": "stderr",
     "output_type": "stream",
     "text": [
      "100%|████████████████████████████████████████████████████████████████████████████████████| 2/2 [00:01<00:00,  1.47it/s]\n"
     ]
    },
    {
     "name": "stdout",
     "output_type": "stream",
     "text": [
      "Iter 0 - Epoch 0 - Client Type: Benign - Client Number 18 - Poison Training False\n"
     ]
    },
    {
     "name": "stderr",
     "output_type": "stream",
     "text": [
      "100%|████████████████████████████████████████████████████████████████████████████████████| 2/2 [00:01<00:00,  1.46it/s]\n"
     ]
    },
    {
     "name": "stdout",
     "output_type": "stream",
     "text": [
      "Iter 0 - Epoch 0 - Client Type: Benign - Client Number 19 - Poison Training False\n"
     ]
    },
    {
     "name": "stderr",
     "output_type": "stream",
     "text": [
      "100%|████████████████████████████████████████████████████████████████████████████████████| 2/2 [00:01<00:00,  1.32it/s]\n"
     ]
    },
    {
     "name": "stdout",
     "output_type": "stream",
     "text": [
      "Original Copylist [8, 4, 8, 7, 0, 5, 3, 8, 8, 6, 8, 7, 2, 6, 1, 7, 4, 7, 0, 1]\n",
      "Found clusters [8 3 8 5 2 6 7 8 8 1 8 5 4 1 0 5 3 5 2 0]\n",
      "Original groups [array([ 4, 18], dtype=int64), array([14, 19], dtype=int64), array([12], dtype=int64), array([6], dtype=int64), array([ 1, 16], dtype=int64), array([5], dtype=int64), array([ 9, 13], dtype=int64), array([ 3, 11, 15, 17], dtype=int64), array([ 0,  2,  7,  8, 10], dtype=int64)]\n",
      "Clustered groups [array([14, 19], dtype=int64), array([ 9, 13], dtype=int64), array([ 4, 18], dtype=int64), array([ 1, 16], dtype=int64), array([12], dtype=int64), array([ 3, 11, 15, 17], dtype=int64), array([5], dtype=int64), array([6], dtype=int64), array([ 0,  2,  7,  8, 10], dtype=int64)]\n",
      "Clustering score 1.0\n",
      "[[0.99999782 0.51353975 0.99931728 0.44561704 0.3544555  0.53159221\n",
      "  0.41836073 0.99907817 0.99916827 0.28779692 0.99908641 0.420904\n",
      "  0.5003802  0.32506075 0.35027137 0.41935799 0.50866213 0.4333736\n",
      "  0.32835481 0.3592381 ]\n",
      " [0.51353972 0.99999744 0.51597191 0.56560445 0.40728349 0.51254411\n",
      "  0.51404716 0.51760863 0.51642865 0.41274329 0.51772451 0.52392315\n",
      "  0.17695564 0.45084672 0.33354136 0.52973296 0.99866873 0.54755088\n",
      "  0.4324493  0.28006963]\n",
      " [0.99931727 0.5159719  0.99999613 0.44467522 0.35580295 0.52931817\n",
      "  0.41639571 0.99936364 0.99937656 0.29098561 0.99906683 0.41952858\n",
      "  0.50078099 0.32761272 0.34670608 0.41811389 0.51095202 0.43199707\n",
      "  0.33014218 0.35793081]\n",
      " [0.44561706 0.56560448 0.4446752  1.         0.40490778 0.59501162\n",
      "  0.56167878 0.4442008  0.44533319 0.43840326 0.44570791 0.98985057\n",
      "  0.17332258 0.47016266 0.33041387 0.98997668 0.56425302 0.9933423\n",
      "  0.42631607 0.28330582]\n",
      " [0.3544555  0.4072835  0.35580294 0.40490779 0.99998638 0.36757173\n",
      "  0.32026884 0.35823478 0.3591903  0.40943117 0.35621828 0.38885385\n",
      "  0.31184178 0.40796232 0.34544844 0.39417189 0.39839367 0.38357445\n",
      "  0.97545999 0.38888788]\n",
      " [0.53159219 0.51254411 0.52931817 0.59501158 0.36757171 0.99999049\n",
      "  0.60701557 0.5317329  0.53172309 0.47642096 0.5304271  0.57856101\n",
      "  0.29811397 0.5008942  0.47919866 0.57990126 0.50792717 0.58463177\n",
      "  0.38050331 0.42987244]\n",
      " [0.41836074 0.51404716 0.41639573 0.56167878 0.32026886 0.60701557\n",
      "  0.99999899 0.41676118 0.41881296 0.34159085 0.4177776  0.54146267\n",
      "  0.25107084 0.3484617  0.44933923 0.53757509 0.50945185 0.54936953\n",
      "  0.35979461 0.35380677]\n",
      " [0.99907815 0.51760864 0.99936372 0.44420083 0.35823476 0.53173289\n",
      "  0.41676116 0.99999762 0.99934276 0.29071345 0.99911627 0.41835452\n",
      "  0.5030707  0.32713667 0.34522533 0.41693426 0.51252459 0.43111902\n",
      "  0.33290365 0.35686635]\n",
      " [0.99916826 0.51642865 0.99937655 0.44533324 0.3591903  0.53172305\n",
      "  0.41881296 0.99934282 0.99999967 0.29279958 0.99911225 0.42016869\n",
      "  0.50446688 0.32894804 0.3494742  0.41828395 0.51141088 0.43214373\n",
      "  0.33330807 0.3600002 ]\n",
      " [0.28779692 0.41274331 0.2909856  0.43840323 0.40943119 0.47642096\n",
      "  0.34159084 0.29071345 0.29279959 0.99998987 0.28668997 0.44804978\n",
      "  0.36479819 0.9589009  0.54167843 0.44295204 0.40062841 0.42445346\n",
      "  0.43337282 0.53441809]\n",
      " [0.99908646 0.51772451 0.99906677 0.44570791 0.35621829 0.5304271\n",
      "  0.4177776  0.99911627 0.99911223 0.28668997 0.99999702 0.41966988\n",
      "  0.49731632 0.32317237 0.34420063 0.41806386 0.51312093 0.43248735\n",
      "  0.33078832 0.35245501]\n",
      " [0.420904   0.52392314 0.41952856 0.98985057 0.38885383 0.57856101\n",
      "  0.54146264 0.41835452 0.42016869 0.44804978 0.41966988 0.9999997\n",
      "  0.1852704  0.47501043 0.3488095  0.9953522  0.52247099 0.98933229\n",
      "  0.40518306 0.30187292]\n",
      " [0.5003802  0.17695563 0.500781   0.17332258 0.31184179 0.29811397\n",
      "  0.25107084 0.5030707  0.50446688 0.36479819 0.49731635 0.1852704\n",
      "  0.99998948 0.34124083 0.5388429  0.16696684 0.16561378 0.17718791\n",
      "  0.26130599 0.59677057]\n",
      " [0.32506074 0.45084671 0.32761271 0.47016265 0.40796232 0.5008942\n",
      "  0.3484617  0.32713664 0.32894802 0.95890092 0.32317239 0.47501044\n",
      "  0.34124081 0.99998757 0.57314136 0.47379411 0.43809174 0.46106303\n",
      "  0.42868488 0.55661745]\n",
      " [0.35027134 0.33354136 0.34670609 0.33041387 0.34544845 0.47919867\n",
      "  0.44933923 0.34522533 0.34947417 0.54167848 0.34420063 0.3488095\n",
      "  0.53884287 0.57314136 0.99999008 0.34270272 0.32365643 0.33561314\n",
      "  0.34259215 0.90276139]\n",
      " [0.41935799 0.52973299 0.41811394 0.98997668 0.39417188 0.57990128\n",
      "  0.53757509 0.41693426 0.41828395 0.44295205 0.41806386 0.99535223\n",
      "  0.16696683 0.47379411 0.34270272 0.99999848 0.52772885 0.99300398\n",
      "  0.41445424 0.29872237]\n",
      " [0.50866211 0.99866874 0.51095202 0.56425303 0.39839366 0.50792718\n",
      "  0.50945185 0.5125246  0.51141088 0.40062841 0.51312093 0.52247096\n",
      "  0.16561377 0.43809173 0.32365643 0.52772886 0.99999446 0.54547236\n",
      "  0.42251042 0.26620584]\n",
      " [0.43337363 0.54755088 0.4319971  0.9933423  0.38357445 0.58463174\n",
      "  0.54936954 0.43111902 0.43214373 0.42445346 0.43248735 0.98933227\n",
      "  0.17718791 0.46106301 0.33561314 0.99300396 0.5454724  0.99999955\n",
      "  0.40424145 0.29215659]\n",
      " [0.3283548  0.43244929 0.33014219 0.42631607 0.97546    0.38050332\n",
      "  0.3597946  0.33290363 0.33330807 0.43337281 0.33078832 0.40518307\n",
      "  0.26130601 0.42868488 0.34259215 0.41445427 0.42251042 0.40424143\n",
      "  0.99998803 0.37400633]\n",
      " [0.3592381  0.28006961 0.3579308  0.28330582 0.38888787 0.42987243\n",
      "  0.35380679 0.35686633 0.36000022 0.53441809 0.352455   0.30187291\n",
      "  0.59677052 0.55661745 0.90276141 0.29872238 0.26620584 0.29215662\n",
      "  0.37400632 0.99998572]]\n",
      "Original Copylist [8, 4, 8, 7, 0, 5, 3, 8, 8, 6, 8, 7, 2, 6, 1, 7, 4, 7, 0, 1]\n",
      "Found clusters [5 4 5 6 1 8 7 5 5 2 5 6 3 2 0 6 4 6 1 0]\n",
      "Original groups [array([ 4, 18], dtype=int64), array([14, 19], dtype=int64), array([12], dtype=int64), array([6], dtype=int64), array([ 1, 16], dtype=int64), array([5], dtype=int64), array([ 9, 13], dtype=int64), array([ 3, 11, 15, 17], dtype=int64), array([ 0,  2,  7,  8, 10], dtype=int64)]\n",
      "Clustered groups [array([14, 19], dtype=int64), array([ 4, 18], dtype=int64), array([ 9, 13], dtype=int64), array([12], dtype=int64), array([ 1, 16], dtype=int64), array([ 0,  2,  7,  8, 10], dtype=int64), array([ 3, 11, 15, 17], dtype=int64), array([6], dtype=int64), array([5], dtype=int64)]\n",
      "Clustering score 1.0\n",
      "\n",
      "\n",
      " Entering epoch 3\n",
      "Iter 0 - Epoch 0 - Client Type: Benign - Client Number 0 - Poison Training False\n"
     ]
    },
    {
     "name": "stderr",
     "output_type": "stream",
     "text": [
      "100%|████████████████████████████████████████████████████████████████████████████████████| 1/1 [00:00<00:00,  1.24it/s]\n"
     ]
    },
    {
     "name": "stdout",
     "output_type": "stream",
     "text": [
      "Iter 0 - Epoch 0 - Client Type: Benign - Client Number 1 - Poison Training False\n"
     ]
    },
    {
     "name": "stderr",
     "output_type": "stream",
     "text": [
      "100%|████████████████████████████████████████████████████████████████████████████████████| 1/1 [00:00<00:00,  1.12it/s]\n"
     ]
    },
    {
     "name": "stdout",
     "output_type": "stream",
     "text": [
      "Iter 0 - Epoch 0 - Client Type: Benign - Client Number 2 - Poison Training False\n"
     ]
    },
    {
     "name": "stderr",
     "output_type": "stream",
     "text": [
      "100%|████████████████████████████████████████████████████████████████████████████████████| 1/1 [00:00<00:00,  1.32it/s]\n"
     ]
    },
    {
     "name": "stdout",
     "output_type": "stream",
     "text": [
      "Iter 0 - Epoch 0 - Client Type: Benign - Client Number 3 - Poison Training False\n"
     ]
    },
    {
     "name": "stderr",
     "output_type": "stream",
     "text": [
      "100%|████████████████████████████████████████████████████████████████████████████████████| 2/2 [00:01<00:00,  1.68it/s]\n"
     ]
    },
    {
     "name": "stdout",
     "output_type": "stream",
     "text": [
      "Iter 0 - Epoch 0 - Client Type: Benign - Client Number 4 - Poison Training False\n"
     ]
    },
    {
     "name": "stderr",
     "output_type": "stream",
     "text": [
      "100%|████████████████████████████████████████████████████████████████████████████████████| 2/2 [00:01<00:00,  1.56it/s]\n"
     ]
    },
    {
     "name": "stdout",
     "output_type": "stream",
     "text": [
      "Iter 0 - Epoch 0 - Client Type: Benign - Client Number 5 - Poison Training False\n"
     ]
    },
    {
     "name": "stderr",
     "output_type": "stream",
     "text": [
      "100%|████████████████████████████████████████████████████████████████████████████████████| 2/2 [00:01<00:00,  1.34it/s]\n"
     ]
    },
    {
     "name": "stdout",
     "output_type": "stream",
     "text": [
      "Iter 0 - Epoch 0 - Client Type: Benign - Client Number 6 - Poison Training False\n"
     ]
    },
    {
     "name": "stderr",
     "output_type": "stream",
     "text": [
      "100%|████████████████████████████████████████████████████████████████████████████████████| 2/2 [00:01<00:00,  1.30it/s]\n"
     ]
    },
    {
     "name": "stdout",
     "output_type": "stream",
     "text": [
      "Iter 0 - Epoch 0 - Client Type: Benign - Client Number 7 - Poison Training False\n"
     ]
    },
    {
     "name": "stderr",
     "output_type": "stream",
     "text": [
      "100%|████████████████████████████████████████████████████████████████████████████████████| 1/1 [00:00<00:00,  1.28it/s]\n"
     ]
    },
    {
     "name": "stdout",
     "output_type": "stream",
     "text": [
      "Iter 0 - Epoch 0 - Client Type: Benign - Client Number 8 - Poison Training False\n"
     ]
    },
    {
     "name": "stderr",
     "output_type": "stream",
     "text": [
      "100%|████████████████████████████████████████████████████████████████████████████████████| 1/1 [00:00<00:00,  1.26it/s]\n"
     ]
    },
    {
     "name": "stdout",
     "output_type": "stream",
     "text": [
      "Iter 0 - Epoch 0 - Client Type: Benign - Client Number 9 - Poison Training False\n"
     ]
    },
    {
     "name": "stderr",
     "output_type": "stream",
     "text": [
      "100%|████████████████████████████████████████████████████████████████████████████████████| 2/2 [00:01<00:00,  1.74it/s]\n"
     ]
    },
    {
     "name": "stdout",
     "output_type": "stream",
     "text": [
      "Iter 0 - Epoch 0 - Client Type: Benign - Client Number 10 - Poison Training False\n"
     ]
    },
    {
     "name": "stderr",
     "output_type": "stream",
     "text": [
      "100%|████████████████████████████████████████████████████████████████████████████████████| 1/1 [00:00<00:00,  1.23it/s]\n"
     ]
    },
    {
     "name": "stdout",
     "output_type": "stream",
     "text": [
      "Iter 0 - Epoch 0 - Client Type: Benign - Client Number 11 - Poison Training False\n"
     ]
    },
    {
     "name": "stderr",
     "output_type": "stream",
     "text": [
      "100%|████████████████████████████████████████████████████████████████████████████████████| 2/2 [00:01<00:00,  1.58it/s]\n"
     ]
    },
    {
     "name": "stdout",
     "output_type": "stream",
     "text": [
      "Iter 0 - Epoch 0 - Client Type: Benign - Client Number 12 - Poison Training False\n"
     ]
    },
    {
     "name": "stderr",
     "output_type": "stream",
     "text": [
      "100%|████████████████████████████████████████████████████████████████████████████████████| 1/1 [00:00<00:00,  1.79it/s]\n"
     ]
    },
    {
     "name": "stdout",
     "output_type": "stream",
     "text": [
      "Iter 0 - Epoch 0 - Client Type: Benign - Client Number 13 - Poison Training False\n"
     ]
    },
    {
     "name": "stderr",
     "output_type": "stream",
     "text": [
      "100%|████████████████████████████████████████████████████████████████████████████████████| 2/2 [00:01<00:00,  1.69it/s]\n"
     ]
    },
    {
     "name": "stdout",
     "output_type": "stream",
     "text": [
      "Iter 0 - Epoch 0 - Client Type: Benign - Client Number 14 - Poison Training False\n"
     ]
    },
    {
     "name": "stderr",
     "output_type": "stream",
     "text": [
      "100%|████████████████████████████████████████████████████████████████████████████████████| 2/2 [00:01<00:00,  1.28it/s]\n"
     ]
    },
    {
     "name": "stdout",
     "output_type": "stream",
     "text": [
      "Iter 0 - Epoch 0 - Client Type: Benign - Client Number 15 - Poison Training False\n"
     ]
    },
    {
     "name": "stderr",
     "output_type": "stream",
     "text": [
      "100%|████████████████████████████████████████████████████████████████████████████████████| 2/2 [00:01<00:00,  1.83it/s]\n"
     ]
    },
    {
     "name": "stdout",
     "output_type": "stream",
     "text": [
      "Iter 0 - Epoch 0 - Client Type: Benign - Client Number 16 - Poison Training False\n"
     ]
    },
    {
     "name": "stderr",
     "output_type": "stream",
     "text": [
      "100%|████████████████████████████████████████████████████████████████████████████████████| 1/1 [00:00<00:00,  1.17it/s]\n"
     ]
    },
    {
     "name": "stdout",
     "output_type": "stream",
     "text": [
      "Iter 0 - Epoch 0 - Client Type: Benign - Client Number 17 - Poison Training False\n"
     ]
    },
    {
     "name": "stderr",
     "output_type": "stream",
     "text": [
      "100%|████████████████████████████████████████████████████████████████████████████████████| 2/2 [00:01<00:00,  1.82it/s]\n"
     ]
    },
    {
     "name": "stdout",
     "output_type": "stream",
     "text": [
      "Iter 0 - Epoch 0 - Client Type: Benign - Client Number 18 - Poison Training False\n"
     ]
    },
    {
     "name": "stderr",
     "output_type": "stream",
     "text": [
      "100%|████████████████████████████████████████████████████████████████████████████████████| 2/2 [00:01<00:00,  1.56it/s]\n"
     ]
    },
    {
     "name": "stdout",
     "output_type": "stream",
     "text": [
      "Iter 0 - Epoch 0 - Client Type: Benign - Client Number 19 - Poison Training False\n"
     ]
    },
    {
     "name": "stderr",
     "output_type": "stream",
     "text": [
      "100%|████████████████████████████████████████████████████████████████████████████████████| 2/2 [00:01<00:00,  1.38it/s]\n"
     ]
    },
    {
     "name": "stdout",
     "output_type": "stream",
     "text": [
      "Original Copylist [8, 4, 8, 7, 0, 5, 3, 8, 8, 6, 8, 7, 2, 6, 1, 7, 4, 7, 0, 1]\n",
      "Found clusters [8 3 8 5 2 6 7 8 8 1 8 5 4 1 0 5 3 5 2 0]\n",
      "Original groups [array([ 4, 18], dtype=int64), array([14, 19], dtype=int64), array([12], dtype=int64), array([6], dtype=int64), array([ 1, 16], dtype=int64), array([5], dtype=int64), array([ 9, 13], dtype=int64), array([ 3, 11, 15, 17], dtype=int64), array([ 0,  2,  7,  8, 10], dtype=int64)]\n",
      "Clustered groups [array([14, 19], dtype=int64), array([ 9, 13], dtype=int64), array([ 4, 18], dtype=int64), array([ 1, 16], dtype=int64), array([12], dtype=int64), array([ 3, 11, 15, 17], dtype=int64), array([5], dtype=int64), array([6], dtype=int64), array([ 0,  2,  7,  8, 10], dtype=int64)]\n",
      "Clustering score 1.0\n",
      "[[0.99999717 0.59866823 0.99926292 0.50125637 0.34847586 0.57328719\n",
      "  0.43803915 0.99890509 0.99904209 0.30619874 0.99904547 0.47544203\n",
      "  0.42375081 0.37270619 0.41107347 0.47648773 0.59566854 0.49041951\n",
      "  0.34804807 0.40342455]\n",
      " [0.59866822 0.99999507 0.60055002 0.59974519 0.3746135  0.55435289\n",
      "  0.55645557 0.60159204 0.60056158 0.39164375 0.60245762 0.55660717\n",
      "  0.19447952 0.45203617 0.40728908 0.56227416 0.99833417 0.58326024\n",
      "  0.4059784  0.35583375]\n",
      " [0.99926291 0.60055002 0.9999968  0.49970215 0.35080527 0.57199217\n",
      "  0.43612392 0.9992551  0.99930895 0.31009383 0.99900051 0.47350567\n",
      "  0.42612175 0.375152   0.40846154 0.47463969 0.5973568  0.48842431\n",
      "  0.3506817  0.4040581 ]\n",
      " [0.50125638 0.5997452  0.49970215 0.99999605 0.34725008 0.55751621\n",
      "  0.53062094 0.49856219 0.49958784 0.38475106 0.50167719 0.98716411\n",
      "  0.14730717 0.44683701 0.39275971 0.989456   0.59932062 0.9922573\n",
      "  0.36807037 0.34243393]\n",
      " [0.34847586 0.3746135  0.35080527 0.34725007 0.99998435 0.38073091\n",
      "  0.32658147 0.35462786 0.35542489 0.44875128 0.34953377 0.33863044\n",
      "  0.40250851 0.42224658 0.41237256 0.3402215  0.360161   0.32526631\n",
      "  0.96941677 0.45549838]\n",
      " [0.57328718 0.55435289 0.57199217 0.55751618 0.3807309  0.9999876\n",
      "  0.58298844 0.57428331 0.57442824 0.48065042 0.57282435 0.54462322\n",
      "  0.32816559 0.52659614 0.58531113 0.54531447 0.54769903 0.54783623\n",
      "  0.39243691 0.49813876]\n",
      " [0.43803917 0.55645557 0.43612393 0.53062094 0.32658148 0.58298844\n",
      "  0.99999382 0.43695848 0.43837519 0.30901077 0.43730366 0.5113047\n",
      "  0.26510168 0.3311981  0.51497435 0.50831109 0.55051511 0.51964355\n",
      "  0.35347531 0.40314622]\n",
      " [0.99890506 0.60159205 0.99925514 0.4985622  0.35462785 0.57428327\n",
      "  0.43695848 0.99999796 0.99923411 0.31074851 0.99893779 0.47189841\n",
      "  0.43033173 0.37519779 0.40833557 0.47286829 0.59826041 0.48680134\n",
      "  0.3546447  0.40414042]\n",
      " [0.99904205 0.60056155 0.99930894 0.49958786 0.35542489 0.57442822\n",
      "  0.43837517 0.99923414 1.         0.31275077 0.99896478 0.47354267\n",
      "  0.43195429 0.37722554 0.41193292 0.47408758 0.59732277 0.48770794\n",
      "  0.35488378 0.40672775]\n",
      " [0.30619874 0.39164375 0.31009381 0.38475104 0.44875127 0.4806504\n",
      "  0.30901077 0.31074851 0.31275078 0.99998651 0.30529267 0.40194209\n",
      "  0.44362232 0.93573417 0.57463381 0.39238317 0.37574224 0.36783015\n",
      "  0.45376424 0.58028395]\n",
      " [0.99904552 0.60245762 0.99900048 0.50167719 0.34953377 0.57282435\n",
      "  0.43730366 0.99893782 0.99896477 0.30529267 0.99999814 0.47457473\n",
      "  0.42004088 0.37078023 0.40674014 0.47560043 0.59980323 0.4899414\n",
      "  0.34973965 0.39815387]\n",
      " [0.47544203 0.55660716 0.47350567 0.98716414 0.33863044 0.54462322\n",
      "  0.51130468 0.47189844 0.47354267 0.40194209 0.47457473 0.99999459\n",
      "  0.16552163 0.45583822 0.407727   0.99383646 0.55556442 0.9838668\n",
      "  0.35384247 0.35920129]\n",
      " [0.42375081 0.19447952 0.42612176 0.14730716 0.40250853 0.32816557\n",
      "  0.26510168 0.43033173 0.43195429 0.44362232 0.42004088 0.16552163\n",
      "  0.99998662 0.41822377 0.55807572 0.143011   0.17922103 0.14356396\n",
      "  0.36613256 0.61316466]\n",
      " [0.37270617 0.45203618 0.37515199 0.44683701 0.42224658 0.52659614\n",
      "  0.33119808 0.37519778 0.37722551 0.93573418 0.37078025 0.45583821\n",
      "  0.41822377 0.99998477 0.61105562 0.4510335  0.43623861 0.43780082\n",
      "  0.42800767 0.59915419]\n",
      " [0.41107346 0.40728908 0.40846154 0.39275971 0.41237255 0.58531113\n",
      "  0.51497435 0.40833558 0.41193291 0.57463384 0.40674016 0.40772699\n",
      "  0.55807573 0.61105565 0.999989   0.4006118  0.39457851 0.39259255\n",
      "  0.41234374 0.88629005]\n",
      " [0.47648776 0.56227417 0.47463971 0.989456   0.3402215  0.54531448\n",
      "  0.50831109 0.47286826 0.47408758 0.39238319 0.47560041 0.99383645\n",
      "  0.14301099 0.45103349 0.40061179 0.99999511 0.56081471 0.99102927\n",
      "  0.35833748 0.35487348]\n",
      " [0.59566853 0.99833418 0.5973568  0.59932062 0.36016101 0.547699\n",
      "  0.55051511 0.59826041 0.59732277 0.37574224 0.59980323 0.5555644\n",
      "  0.17922102 0.43623861 0.39457852 0.56081472 0.99999382 0.58197831\n",
      "  0.39205951 0.33829386]\n",
      " [0.49041949 0.58326024 0.48842432 0.9922573  0.32526632 0.54783621\n",
      "  0.51964356 0.48680134 0.48770794 0.36783014 0.4899414  0.98386676\n",
      "  0.14356396 0.43780081 0.39259255 0.99102926 0.5819783  0.99999636\n",
      "  0.34547634 0.34683142]\n",
      " [0.34804806 0.4059784  0.35068171 0.36807038 0.96941681 0.39243691\n",
      "  0.35347531 0.3546447  0.35488378 0.45376426 0.34973965 0.35384247\n",
      "  0.36613256 0.42800767 0.41234374 0.35833749 0.39205949 0.34547632\n",
      "  0.99998673 0.44601084]\n",
      " [0.40342455 0.35583375 0.40405809 0.34243392 0.45549838 0.49813875\n",
      "  0.40314622 0.40414041 0.40672776 0.58028395 0.39815386 0.35920128\n",
      "  0.61316464 0.59915418 0.88629003 0.35487348 0.33829385 0.34683143\n",
      "  0.44601083 0.99998802]]\n",
      "Original Copylist [8, 4, 8, 7, 0, 5, 3, 8, 8, 6, 8, 7, 2, 6, 1, 7, 4, 7, 0, 1]\n",
      "Found clusters [3 1 3 5 6 7 4 3 3 2 3 5 8 2 0 5 1 5 6 0]\n",
      "Original groups [array([ 4, 18], dtype=int64), array([14, 19], dtype=int64), array([12], dtype=int64), array([6], dtype=int64), array([ 1, 16], dtype=int64), array([5], dtype=int64), array([ 9, 13], dtype=int64), array([ 3, 11, 15, 17], dtype=int64), array([ 0,  2,  7,  8, 10], dtype=int64)]\n",
      "Clustered groups [array([14, 19], dtype=int64), array([ 1, 16], dtype=int64), array([ 9, 13], dtype=int64), array([ 0,  2,  7,  8, 10], dtype=int64), array([6], dtype=int64), array([ 3, 11, 15, 17], dtype=int64), array([ 4, 18], dtype=int64), array([5], dtype=int64), array([12], dtype=int64)]\n",
      "Clustering score 1.0\n",
      "\n",
      "\n",
      " Entering epoch 4\n",
      "Iter 0 - Epoch 0 - Client Type: Benign - Client Number 0 - Poison Training False\n"
     ]
    },
    {
     "name": "stderr",
     "output_type": "stream",
     "text": [
      "100%|████████████████████████████████████████████████████████████████████████████████████| 1/1 [00:00<00:00,  1.32it/s]\n"
     ]
    },
    {
     "name": "stdout",
     "output_type": "stream",
     "text": [
      "Iter 0 - Epoch 0 - Client Type: Benign - Client Number 1 - Poison Training False\n"
     ]
    },
    {
     "name": "stderr",
     "output_type": "stream",
     "text": [
      "100%|████████████████████████████████████████████████████████████████████████████████████| 1/1 [00:00<00:00,  1.12it/s]\n"
     ]
    },
    {
     "name": "stdout",
     "output_type": "stream",
     "text": [
      "Iter 0 - Epoch 0 - Client Type: Benign - Client Number 2 - Poison Training False\n"
     ]
    },
    {
     "name": "stderr",
     "output_type": "stream",
     "text": [
      "100%|████████████████████████████████████████████████████████████████████████████████████| 1/1 [00:00<00:00,  1.25it/s]\n"
     ]
    },
    {
     "name": "stdout",
     "output_type": "stream",
     "text": [
      "Iter 0 - Epoch 0 - Client Type: Benign - Client Number 3 - Poison Training False\n"
     ]
    },
    {
     "name": "stderr",
     "output_type": "stream",
     "text": [
      "100%|████████████████████████████████████████████████████████████████████████████████████| 2/2 [00:01<00:00,  1.77it/s]\n"
     ]
    },
    {
     "name": "stdout",
     "output_type": "stream",
     "text": [
      "Iter 0 - Epoch 0 - Client Type: Benign - Client Number 4 - Poison Training False\n"
     ]
    },
    {
     "name": "stderr",
     "output_type": "stream",
     "text": [
      "100%|████████████████████████████████████████████████████████████████████████████████████| 2/2 [00:01<00:00,  1.59it/s]\n"
     ]
    },
    {
     "name": "stdout",
     "output_type": "stream",
     "text": [
      "Iter 0 - Epoch 0 - Client Type: Benign - Client Number 5 - Poison Training False\n"
     ]
    },
    {
     "name": "stderr",
     "output_type": "stream",
     "text": [
      "100%|████████████████████████████████████████████████████████████████████████████████████| 2/2 [00:01<00:00,  1.30it/s]\n"
     ]
    },
    {
     "name": "stdout",
     "output_type": "stream",
     "text": [
      "Iter 0 - Epoch 0 - Client Type: Benign - Client Number 6 - Poison Training False\n"
     ]
    },
    {
     "name": "stderr",
     "output_type": "stream",
     "text": [
      "100%|████████████████████████████████████████████████████████████████████████████████████| 2/2 [00:01<00:00,  1.36it/s]\n"
     ]
    },
    {
     "name": "stdout",
     "output_type": "stream",
     "text": [
      "Iter 0 - Epoch 0 - Client Type: Benign - Client Number 7 - Poison Training False\n"
     ]
    },
    {
     "name": "stderr",
     "output_type": "stream",
     "text": [
      "100%|████████████████████████████████████████████████████████████████████████████████████| 1/1 [00:00<00:00,  1.26it/s]\n"
     ]
    },
    {
     "name": "stdout",
     "output_type": "stream",
     "text": [
      "Iter 0 - Epoch 0 - Client Type: Benign - Client Number 8 - Poison Training False\n"
     ]
    },
    {
     "name": "stderr",
     "output_type": "stream",
     "text": [
      "100%|████████████████████████████████████████████████████████████████████████████████████| 1/1 [00:00<00:00,  1.23it/s]\n"
     ]
    },
    {
     "name": "stdout",
     "output_type": "stream",
     "text": [
      "Iter 0 - Epoch 0 - Client Type: Benign - Client Number 9 - Poison Training False\n"
     ]
    },
    {
     "name": "stderr",
     "output_type": "stream",
     "text": [
      "100%|████████████████████████████████████████████████████████████████████████████████████| 2/2 [00:01<00:00,  1.67it/s]\n"
     ]
    },
    {
     "name": "stdout",
     "output_type": "stream",
     "text": [
      "Iter 0 - Epoch 0 - Client Type: Benign - Client Number 10 - Poison Training False\n"
     ]
    },
    {
     "name": "stderr",
     "output_type": "stream",
     "text": [
      "100%|████████████████████████████████████████████████████████████████████████████████████| 1/1 [00:00<00:00,  1.24it/s]\n"
     ]
    },
    {
     "name": "stdout",
     "output_type": "stream",
     "text": [
      "Iter 0 - Epoch 0 - Client Type: Benign - Client Number 11 - Poison Training False\n"
     ]
    },
    {
     "name": "stderr",
     "output_type": "stream",
     "text": [
      "100%|████████████████████████████████████████████████████████████████████████████████████| 2/2 [00:01<00:00,  1.66it/s]\n"
     ]
    },
    {
     "name": "stdout",
     "output_type": "stream",
     "text": [
      "Iter 0 - Epoch 0 - Client Type: Benign - Client Number 12 - Poison Training False\n"
     ]
    },
    {
     "name": "stderr",
     "output_type": "stream",
     "text": [
      "100%|████████████████████████████████████████████████████████████████████████████████████| 1/1 [00:00<00:00,  1.74it/s]\n"
     ]
    },
    {
     "name": "stdout",
     "output_type": "stream",
     "text": [
      "Iter 0 - Epoch 0 - Client Type: Benign - Client Number 13 - Poison Training False\n"
     ]
    },
    {
     "name": "stderr",
     "output_type": "stream",
     "text": [
      "100%|████████████████████████████████████████████████████████████████████████████████████| 2/2 [00:01<00:00,  1.72it/s]\n"
     ]
    },
    {
     "name": "stdout",
     "output_type": "stream",
     "text": [
      "Iter 0 - Epoch 0 - Client Type: Benign - Client Number 14 - Poison Training False\n"
     ]
    },
    {
     "name": "stderr",
     "output_type": "stream",
     "text": [
      "100%|████████████████████████████████████████████████████████████████████████████████████| 2/2 [00:01<00:00,  1.26it/s]\n"
     ]
    },
    {
     "name": "stdout",
     "output_type": "stream",
     "text": [
      "Iter 0 - Epoch 0 - Client Type: Benign - Client Number 15 - Poison Training False\n"
     ]
    },
    {
     "name": "stderr",
     "output_type": "stream",
     "text": [
      "100%|████████████████████████████████████████████████████████████████████████████████████| 2/2 [00:01<00:00,  1.86it/s]\n"
     ]
    },
    {
     "name": "stdout",
     "output_type": "stream",
     "text": [
      "Iter 0 - Epoch 0 - Client Type: Benign - Client Number 16 - Poison Training False\n"
     ]
    },
    {
     "name": "stderr",
     "output_type": "stream",
     "text": [
      "100%|████████████████████████████████████████████████████████████████████████████████████| 1/1 [00:00<00:00,  1.03it/s]\n"
     ]
    },
    {
     "name": "stdout",
     "output_type": "stream",
     "text": [
      "Iter 0 - Epoch 0 - Client Type: Benign - Client Number 17 - Poison Training False\n"
     ]
    },
    {
     "name": "stderr",
     "output_type": "stream",
     "text": [
      "100%|████████████████████████████████████████████████████████████████████████████████████| 2/2 [00:01<00:00,  1.85it/s]\n"
     ]
    },
    {
     "name": "stdout",
     "output_type": "stream",
     "text": [
      "Iter 0 - Epoch 0 - Client Type: Benign - Client Number 18 - Poison Training False\n"
     ]
    },
    {
     "name": "stderr",
     "output_type": "stream",
     "text": [
      "100%|████████████████████████████████████████████████████████████████████████████████████| 2/2 [00:01<00:00,  1.55it/s]\n"
     ]
    },
    {
     "name": "stdout",
     "output_type": "stream",
     "text": [
      "Iter 0 - Epoch 0 - Client Type: Benign - Client Number 19 - Poison Training False\n"
     ]
    },
    {
     "name": "stderr",
     "output_type": "stream",
     "text": [
      "100%|████████████████████████████████████████████████████████████████████████████████████| 2/2 [00:01<00:00,  1.27it/s]\n"
     ]
    }
   ],
   "source": [
    "fl = CustomFL(n_iter=n_iter, n_epochs=n_epochs, poison_starts_at_iter=poison_starts_at_iter, num_of_benign_nets=num_of_workers-num_of_mal_workers, num_of_mal_nets=num_of_mal_workers, \n",
    "              inertia=inertia, momentum=momentum,\n",
    "              attack_type=attack_type, scale_up=scale_up, minimizeDist=minimizeDist\n",
    ")\n",
    "fl.train()"
   ]
  },
  {
   "cell_type": "code",
   "execution_count": null,
   "metadata": {
    "id": "tsUXB_dWgKbg"
   },
   "outputs": [],
   "source": [
    "import pickle\n",
    "with open(f'file_1_dec27_all_benign_iters_50_epoch_{n_epochs}.txt', 'wb') as f:\n",
    "    pickle.dump(fl.debug_log, f)\n",
    "f.close()"
   ]
  },
  {
   "cell_type": "code",
   "execution_count": null,
   "metadata": {},
   "outputs": [],
   "source": [
    "import os\n",
    "from os import listdir\n",
    "from os.path import isfile, join\n",
    "mypath=os.getcwd()\n",
    "onlyfiles = [f for f in listdir(mypath) if isfile(join(mypath, f))]"
   ]
  },
  {
   "cell_type": "code",
   "execution_count": null,
   "metadata": {
    "id": "Gi3Zkh_HuFEI"
   },
   "outputs": [],
   "source": [
    "import pickle\n",
    "with open('file_1_dec23_label_flip_minDist_off.txt', 'rb') as f:\n",
    "    log_file=pickle.load(f)\n",
    "f.close()\n",
    "\n",
    "with open('file_1_dec23_label_flip_minDist_on.txt', 'rb') as f:\n",
    "    log_file_2=pickle.load(f)\n",
    "f.close()\n",
    "\n",
    "log_by_iter=[]\n",
    "for iter in range(n_iter):\n",
    "    log_by_iter.append([])\n",
    "idx=0\n",
    "cluster_logs=[]\n",
    "for l in log_file:\n",
    "    (i, _, _, _)=l\n",
    "    log_by_iter[i].append(l)\n",
    "    if i==-1:\n",
    "        cluster_logs.append(l)\n",
    "\n",
    "\n",
    "log_by_iter_2=[]\n",
    "for iter in range(n_iter):\n",
    "    log_by_iter_2.append([])\n",
    "idx=0\n",
    "cluster_logs_2=[]\n",
    "for l in log_file_2:\n",
    "    (i, _, _, _)=l\n",
    "    log_by_iter_2[i].append(l)\n",
    "    if i==-1:\n",
    "        cluster_logs_2.append(l)\n",
    "\n",
    "\n",
    "cluster_scores=[]\n",
    "for i, log in enumerate(cluster_logs):\n",
    "    if (i+1)%3==0:\n",
    "        (_, _, _, sc) = log\n",
    "        cluster_scores.append(sc)\n",
    "        \n",
    "cluster_scores_2=[]\n",
    "for i, log in enumerate(cluster_logs_2):\n",
    "    if (i+1)%3==0:\n",
    "        (_, _, _, sc) = log\n",
    "        cluster_scores_2.append(sc)\n",
    "        \n",
    "print(cluster_scores, cluster_scores_2)"
   ]
  },
  {
   "cell_type": "code",
   "execution_count": null,
   "metadata": {
    "id": "d6ii0njBC6JT"
   },
   "outputs": [],
   "source": [
    "from sklearn.cluster import AgglomerativeClustering\n",
    "import numpy as np\n",
    "X = np.array([[1, 2], [1, 4], [1, 0],\n",
    "              [4, 2], [4, 4], [4, 0]])\n",
    "clustering = AgglomerativeClustering(n_clusters=3).fit(X)\n",
    "labels=clustering.labels_\n",
    "print(labels, labels[labels==0], np.argwhere(labels==0))\n",
    "print([np.argwhere(labels==i).flatten() for i in range(3)])\n",
    "\n",
    "print()"
   ]
  },
  {
   "cell_type": "code",
   "execution_count": null,
   "metadata": {
    "id": "nnSDjbvSjoiL"
   },
   "outputs": [],
   "source": [
    "t_arr=np.array([100, 10, 1])\n",
    "t_arr_sig = 0.1 * t_arr\n",
    "print(np.random.normal(t_arr, t_arr_sig))"
   ]
  },
  {
   "cell_type": "code",
   "execution_count": null,
   "metadata": {
    "id": "9zOwHqDgoJx0"
   },
   "outputs": [],
   "source": []
  },
  {
   "cell_type": "code",
   "execution_count": null,
   "metadata": {
    "id": "yenDNiAaqd_F"
   },
   "outputs": [],
   "source": [
    "import matplotlib.pyplot as plt\n",
    "\n",
    "def imshow(img):\n",
    "    img = img / 2 + 0.5     # unnormalize\n",
    "    npimg = img.numpy()\n",
    "    plt.imshow(np.transpose(npimg, (1, 2, 0)))\n",
    "    plt.show()\n",
    "\n",
    "for i in [0, 3, 5]:\n",
    "    (_, _, tl) = train_loaders[0][i]\n",
    "\n",
    "    print(tl)\n",
    "\n",
    "    # get some random training images\n",
    "    dataiter = iter(tl)\n",
    "    images, labels = dataiter.next()\n",
    "    labels = np.array(labels)\n",
    "    imshow(torchvision.utils.make_grid(images[:16]))\n",
    "    for n in range(10):\n",
    "        print(n, np.count_nonzero(labels == n)/len(labels))\n"
   ]
  },
  {
   "cell_type": "code",
   "execution_count": null,
   "metadata": {
    "id": "jjNZrWiG-hPG"
   },
   "outputs": [],
   "source": [
    "sampled_probabilities = 1000 * np.random.dirichlet(\n",
    "                np.array(3 * [0.9]))\n",
    "print(np.sum(sampled_probabilities), sampled_probabilities)"
   ]
  },
  {
   "cell_type": "code",
   "execution_count": null,
   "metadata": {
    "id": "xOdKOaAbFIN7"
   },
   "outputs": [],
   "source": [
    "print(3 * [1, 2])"
   ]
  },
  {
   "cell_type": "code",
   "execution_count": null,
   "metadata": {
    "id": "fGkTxR66cWS9"
   },
   "outputs": [],
   "source": [
    "print(fl.log)"
   ]
  },
  {
   "cell_type": "code",
   "execution_count": null,
   "metadata": {
    "id": "q0VZP12IgvhL"
   },
   "outputs": [],
   "source": [
    "import pickle\n",
    "with open('file_1_dec16.txt', 'rb') as f:\n",
    "    log_file=pickle.load(f)\n",
    "f.close()"
   ]
  },
  {
   "cell_type": "code",
   "execution_count": null,
   "metadata": {
    "id": "GZTPfmkowaO3"
   },
   "outputs": [],
   "source": [
    "log_by_iter=[]\n",
    "for iter in range(n_iter):\n",
    "    log_by_iter.append([])\n",
    "idx=0\n",
    "for l in log_file:\n",
    "    (i, _, _, _)=l\n",
    "    log_by_iter[i].append(l)\n"
   ]
  },
  {
   "cell_type": "code",
   "execution_count": null,
   "metadata": {
    "id": "4gt2Qp862dFj"
   },
   "outputs": [],
   "source": [
    "for i in range(5,10):\n",
    "    log_by_iter[i]=log_by_iter[i][2:]\n",
    "\n",
    "for l in log_by_iter[0]:\n",
    "    print(l)\n",
    "for l in log_by_iter[5]:\n",
    "    print(l)"
   ]
  },
  {
   "cell_type": "code",
   "execution_count": null,
   "metadata": {
    "id": "TXBqfzL33UKh"
   },
   "outputs": [],
   "source": [
    "from matplotlib import pyplot as plt\n",
    "\n",
    "cos_sim_benign=[]\n",
    "cos_sim_mal=[]\n",
    "for i in range(10):\n",
    "    (_, _, _, sim) = log_by_iter[i][2]\n",
    "    cos_sim_benign.append(sim[0])\n",
    "    cos_sim_mal.append(sim[2])\n",
    "\n",
    "plt.plot(cos_sim_benign, c='blue')\n",
    "plt.plot(cos_sim_mal, c='red')\n",
    "plt.show()"
   ]
  },
  {
   "cell_type": "code",
   "execution_count": null,
   "metadata": {
    "id": "Er4MnusO4lkV"
   },
   "outputs": [],
   "source": [
    "aggr_weight_benign=[]\n",
    "aggr_weight_mal=[]\n",
    "for i in range(10):\n",
    "    (_, _, _, sim) = log_by_iter[i][4]\n",
    "    aggr_weight_benign.append(sim[0])\n",
    "    aggr_weight_mal.append(sim[2])\n",
    "\n",
    "plt.plot(aggr_weight_benign, c='blue')\n",
    "plt.plot(aggr_weight_mal, c='red')\n",
    "plt.show()\n"
   ]
  },
  {
   "cell_type": "code",
   "execution_count": null,
   "metadata": {
    "id": "qcWWK14Z49C7"
   },
   "outputs": [],
   "source": [
    "distance_benign=[]\n",
    "distance_mal=[]\n",
    "for i in range(10):\n",
    "    (_, _, _, sim) = log_by_iter[i][0]\n",
    "    distance_benign.append(sim[0])\n",
    "    (_, _, _, sim) = log_by_iter[i][1]\n",
    "    distance_mal.append(sim)\n",
    "\n",
    "plt.plot(distance_benign, c='blue')\n",
    "plt.plot(distance_mal, c='red')\n",
    "plt.show()"
   ]
  },
  {
   "cell_type": "code",
   "execution_count": null,
   "metadata": {
    "id": "CH-InCz25jkj"
   },
   "outputs": [],
   "source": [
    "accuracy=[]\n",
    "for i in range(10):\n",
    "    (_, _, _, sim) = log_by_iter[i][5]\n",
    "    accuracy.append(sim)\n",
    "\n",
    "plt.plot(accuracy, c='blue')\n"
   ]
  }
 ],
 "metadata": {
  "accelerator": "GPU",
  "colab": {
   "collapsed_sections": [],
   "name": "custom optimizer 1.ipynb",
   "provenance": []
  },
  "kernelspec": {
   "display_name": "Python 3",
   "language": "python",
   "name": "python3"
  },
  "language_info": {
   "codemirror_mode": {
    "name": "ipython",
    "version": 3
   },
   "file_extension": ".py",
   "mimetype": "text/x-python",
   "name": "python",
   "nbconvert_exporter": "python",
   "pygments_lexer": "ipython3",
   "version": "3.7.11"
  }
 },
 "nbformat": 4,
 "nbformat_minor": 1
}

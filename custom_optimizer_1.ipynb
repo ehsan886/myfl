{
 "cells": [
  {
   "cell_type": "markdown",
   "metadata": {
    "id": "3x8zJkCpmj1m"
   },
   "source": [
    "Resources#\n",
    "\n",
    "https://github.com/pytorch/pytorch/blob/cc46dc45e1b4b2a9ffab4ad5442f8b864148e45a/torch/optim/_functional.py#L156\n",
    "\n",
    "https://github.com/pytorch/pytorch/blob/master/torch/optim/sgd.py\n",
    "\n",
    "https://pytorch.org/tutorials/beginner/blitz/autograd_tutorial.html\n",
    "\n",
    "https://discuss.pytorch.org/t/custom-loss-functions/29387\n",
    "\n",
    "https://discuss.pytorch.org/t/good-way-to-calculate-element-wise-difference-between-two-models-of-the-same-structure/67592"
   ]
  },
  {
   "cell_type": "code",
   "execution_count": 174,
   "metadata": {
    "id": "iTDCRqOGmorM"
   },
   "outputs": [],
   "source": [
    "import argparse\n",
    "import torch\n",
    "import torch.nn as nn\n",
    "import torch.nn.functional as F\n",
    "import torch.optim as optim\n",
    "from torchvision import datasets, transforms\n",
    "from torch.autograd import Variable\n",
    "import numpy as np\n",
    "import datetime"
   ]
  },
  {
   "cell_type": "code",
   "execution_count": 175,
   "metadata": {
    "id": "fxJ9QbZCVq-j"
   },
   "outputs": [],
   "source": [
    "def convert_model_to_param_list(model):\n",
    "    '''\n",
    "    num_of_param=0\n",
    "    for param in model.state_dict().values():\n",
    "        num_of_param += torch.numel(param)\n",
    "    \n",
    "\n",
    "    params=torch.ones([num_of_param])\n",
    "    '''\n",
    "    if torch.typename(model)!='OrderedDict':\n",
    "        model = model.state_dict()\n",
    "\n",
    "    idx=0\n",
    "    params_to_copy_group=[]\n",
    "    for name, param in model.items():\n",
    "        num_params_to_copy = torch.numel(param)\n",
    "        params_to_copy_group.append(param.reshape([num_params_to_copy]).clone().detach())\n",
    "        idx+=num_params_to_copy\n",
    "\n",
    "    params=torch.ones([idx])\n",
    "    idx=0\n",
    "    for param in params_to_copy_group:    \n",
    "        for par in param:\n",
    "            params[idx].copy_(par)\n",
    "            idx += 1\n",
    "\n",
    "    return params\n",
    "\n",
    "def cos_calc_btn_grads(l1, l2):\n",
    "    return torch.dot(l1, l2)/(torch.linalg.norm(l1)+1e-9)/(torch.linalg.norm(l2)+1e-9)\n",
    "\n",
    "\n",
    "def cos_calc(n1, n2):\n",
    "    l1 = convert_model_to_param_list(n1)\n",
    "    l2 = convert_model_to_param_list(n2)\n",
    "    return cos_calc_btn_grads(l1, l2)"
   ]
  },
  {
   "cell_type": "code",
   "execution_count": 176,
   "metadata": {
    "id": "n8iAonfWm5ev"
   },
   "outputs": [],
   "source": [
    "class SimpleNet(nn.Module):\n",
    "    def __init__(self, name=None, created_time=None, is_malicious=False, net_id=-1):\n",
    "        super(SimpleNet, self).__init__()\n",
    "        self.created_time = created_time\n",
    "        self.name=name\n",
    "\n",
    "        self.is_malicious=is_malicious\n",
    "        self.net_id=net_id\n",
    "\n",
    "\n",
    "    def save_stats(self, epoch, loss, acc):\n",
    "        self.stats['epoch'].append(epoch)\n",
    "        self.stats['loss'].append(loss)\n",
    "        self.stats['acc'].append(acc)\n",
    "\n",
    "    def copy_params(self, state_dict, coefficient_transfer=100):\n",
    "\n",
    "        own_state = self.state_dict()\n",
    "\n",
    "        for name, param in state_dict.items():\n",
    "            if name in own_state:\n",
    "                shape = param.shape\n",
    "                own_state[name].copy_(param.clone())\n",
    "    \n",
    "    def set_param_to_zero(self):\n",
    "        own_state = self.state_dict()\n",
    "\n",
    "        for name, param in own_state.items():\n",
    "            shape = param.shape\n",
    "            param.mul_(0)       \n",
    "\n",
    "    def aggregate(self, state_dicts, aggr_weights=None):\n",
    "        #self.copy_params(state_dicts[0])\n",
    "        own_state = self.state_dict()\n",
    "        \n",
    "        nw = len(state_dicts)\n",
    "        if aggr_weights is None:\n",
    "            aggr_weights = [1/nw]*nw\n",
    "\n",
    "        for i, state_dict in enumerate(state_dicts):\n",
    "            for name, param in state_dict.items():\n",
    "                if name in own_state:\n",
    "                    shape = param.shape\n",
    "                    own_state[name].add_(param.clone().mul_(aggr_weights[i]))\n",
    "\n",
    "    def calc_grad(self, state_dict, change_self=True):\n",
    "        if change_self:\n",
    "            own_state = self.state_dict()\n",
    "\n",
    "            for name, param in state_dict.items():\n",
    "                if name in own_state:\n",
    "                    shape = param.shape\n",
    "                    own_state[name].sub_(param.clone())\n",
    "        else:\n",
    "            self_params = convert_model_to_param_list(self)\n",
    "            ref_params = convert_model_to_param_list(state_dict)\n",
    "\n",
    "            self_params.sub_(ref_params)\n",
    "            self.grad_params = self_params"
   ]
  },
  {
   "cell_type": "code",
   "execution_count": 177,
   "metadata": {
    "id": "kADMGZrmm8PH"
   },
   "outputs": [],
   "source": [
    "class Flatten(nn.Module):\n",
    "    def forward(self, input):\n",
    "        return input.view(input.size(0), -1)\n",
    "\n",
    "class MnistNet(SimpleNet):#model for mnist\n",
    "    def __init__(self, name=None, created_time=None,num_of_classes = 10):\n",
    "        super(MnistNet, self).__init__(f'{name}_Simple', created_time)\n",
    "     \n",
    "        self.fc_layer = torch.nn.Sequential(#1 * 28 * 28\n",
    "            Flatten(),#784\n",
    "            nn.Linear(784, num_of_classes),\n",
    "        )\n",
    "    \n",
    "    def forward(self, x):\n",
    "     \n",
    "        out = self.fc_layer(x)\n",
    "        return out"
   ]
  },
  {
   "cell_type": "code",
   "execution_count": 178,
   "metadata": {
    "id": "h2FR35-PASFF"
   },
   "outputs": [],
   "source": [
    "class FLNet(SimpleNet):\n",
    "    def __init__(self, name=None, created_time=None,num_of_classes = 10):\n",
    "        super(FLNet, self).__init__(f'{name}_Simple', created_time)\n",
    "\n",
    "        self.mnistnet1 = MnistNet()\n",
    "\n",
    "        self.mnistnet2 = MnistNet()\n",
    "\n",
    "        self.mnistnetavg = MnistNet()\n",
    "\n",
    "    def forward(self, x):\n",
    "        out = self.mnistnet1(x)\n",
    "        return out"
   ]
  },
  {
   "cell_type": "code",
   "execution_count": 179,
   "metadata": {
    "colab": {
     "base_uri": "https://localhost:8080/",
     "height": 122
    },
    "id": "-Bm2SNGGCPOA",
    "outputId": "e912d6ab-0fd6-43c0-b174-fd703750762c"
   },
   "outputs": [
    {
     "data": {
      "text/plain": [
       "\"\\nclass CNN(SimpleNet):\\n    def __init__(self, name=None, created_time=None,num_of_classes = 10,network_id=-1, net_id=-1, is_malicious=False):\\n        super(CNN, self).__init__(f'{name}_Simple', created_time, is_malicious=is_malicious, net_id=net_id)\\n        self.conv1 = nn.Conv2d(3, 6, 5)\\n        self.pool = nn.MaxPool2d(2, 2)\\n        self.conv2 = nn.Conv2d(6, 16, 5)\\n        self.fc1 = nn.Linear(16 * 5 * 5, 120)\\n        self.fc2 = nn.Linear(120, 84)\\n        self.fc3 = nn.Linear(84, 10)\\n\\n    def forward(self, x):\\n        x = self.pool(F.relu(self.conv1(x)))\\n        x = self.pool(F.relu(self.conv2(x)))\\n        x = torch.flatten(x, 1) # flatten all dimensions except batch\\n        x = F.relu(self.fc1(x))\\n        x = F.relu(self.fc2(x))\\n        x = self.fc3(x)\\n        return x\\n\""
      ]
     },
     "execution_count": 179,
     "metadata": {},
     "output_type": "execute_result"
    }
   ],
   "source": [
    "\n",
    "class CNN(SimpleNet):\n",
    "    def __init__(self, name=None, created_time=None,num_of_classes = 10,network_id=-1, net_id=-1, is_malicious=False):\n",
    "        super(CNN, self).__init__(f'{name}_Simple', created_time, is_malicious=is_malicious, net_id=net_id)\n",
    "\n",
    "        self.network_id=network_id\n",
    "\n",
    "        self.conv1 = nn.Sequential(         \n",
    "            nn.Conv2d(\n",
    "                in_channels=1,              \n",
    "                out_channels=16,            \n",
    "                kernel_size=5,              \n",
    "                stride=1,                   \n",
    "                padding=2,                  \n",
    "            ),                              \n",
    "            nn.ReLU(),                      \n",
    "            nn.MaxPool2d(kernel_size=2),    \n",
    "        )\n",
    "        self.conv2 = nn.Sequential(         \n",
    "            nn.Conv2d(16, 32, 5, 1, 2),     \n",
    "            nn.ReLU(),                      \n",
    "            nn.MaxPool2d(2),                \n",
    "        )\n",
    "        # fully connected layer, output 10 classes\n",
    "        self.out = nn.Linear(32 * 7 * 7, 10)\n",
    "    def forward(self, x):\n",
    "        x = self.conv1(x)\n",
    "        x = self.conv2(x)\n",
    "        # flatten the output of conv2 to (batch_size, 32 * 7 * 7)\n",
    "        x = x.view(x.size(0), -1)       \n",
    "        output = self.out(x)\n",
    "        return output    # return x for visualization\n",
    "'''\n",
    "class CNN(SimpleNet):\n",
    "    def __init__(self, name=None, created_time=None,num_of_classes = 10,network_id=-1, net_id=-1, is_malicious=False):\n",
    "        super(CNN, self).__init__(f'{name}_Simple', created_time, is_malicious=is_malicious, net_id=net_id)\n",
    "        self.conv1 = nn.Conv2d(3, 6, 5)\n",
    "        self.pool = nn.MaxPool2d(2, 2)\n",
    "        self.conv2 = nn.Conv2d(6, 16, 5)\n",
    "        self.fc1 = nn.Linear(16 * 5 * 5, 120)\n",
    "        self.fc2 = nn.Linear(120, 84)\n",
    "        self.fc3 = nn.Linear(84, 10)\n",
    "\n",
    "    def forward(self, x):\n",
    "        x = self.pool(F.relu(self.conv1(x)))\n",
    "        x = self.pool(F.relu(self.conv2(x)))\n",
    "        x = torch.flatten(x, 1) # flatten all dimensions except batch\n",
    "        x = F.relu(self.fc1(x))\n",
    "        x = F.relu(self.fc2(x))\n",
    "        x = self.fc3(x)\n",
    "        return x\n",
    "'''"
   ]
  },
  {
   "cell_type": "code",
   "execution_count": 180,
   "metadata": {
    "id": "wY6ycM7q9m2A"
   },
   "outputs": [],
   "source": [
    "import copy\n",
    "\n",
    "def add_pixel_pattern(ori_image):\n",
    "    image = copy.deepcopy(ori_image)\n",
    "    poison_patterns= poison_dict['poison_pattern']\n",
    "    delta =  poison_dict['poison_delta']\n",
    "\n",
    "    for i in range(0, len(poison_patterns)):\n",
    "        pos = poison_patterns[i]\n",
    "        image[0][pos[0]][pos[1]] = min( image[0][pos[0]][pos[1]] + delta/np.sqrt(len(poison_patterns)), 1)\n",
    "\n",
    "\n",
    "    return image\n",
    "\n",
    "def get_poison_batch(bptt,adversarial_index=-1, evaluation=False, attack_type='label_flip'):\n",
    "    if attack_type=='backdoor':\n",
    "        import sys\n",
    "        print(\"still backdooring\")\n",
    "        sys.exit()\n",
    "\n",
    "        images, targets = bptt\n",
    "\n",
    "        poison_count= 0\n",
    "        new_images=images\n",
    "        new_targets=targets\n",
    "\n",
    "        for index in range(0, len(images)):\n",
    "            if evaluation: # poison all data when testing\n",
    "                new_targets[index] = poison_dict['poison_label_swap']\n",
    "                new_images[index] = add_pixel_pattern(images[index])\n",
    "                poison_count+=1\n",
    "\n",
    "            else: # poison part of data when training\n",
    "                if index < poison_dict['poisoning_per_batch']:\n",
    "                    new_targets[index] = poison_dict['poison_label_swap']\n",
    "                    new_images[index] = add_pixel_pattern(images[index])\n",
    "                    poison_count += 1\n",
    "                else:\n",
    "                    new_images[index] = images[index]\n",
    "                    new_targets[index]= targets[index]\n",
    "\n",
    "        new_images = new_images.to(device)\n",
    "        new_targets = new_targets.to(device).long()\n",
    "        if evaluation:\n",
    "            new_images.requires_grad_(False)\n",
    "            new_targets.requires_grad_(False)\n",
    "        return new_images,new_targets,poison_count\n",
    "    \n",
    "    elif attack_type=='degrade' or attack_type=='label_flip':\n",
    "        images, targets = bptt\n",
    "\n",
    "        poison_count= 0\n",
    "        new_images=images\n",
    "        new_targets=targets\n",
    "\n",
    "        num_of_classes = 10\n",
    "\n",
    "        for index in range(0, len(images)):\n",
    "            if evaluation: # poison all data when testing\n",
    "                if attack_type=='degrade':\n",
    "                    new_targets[index] = poison_dict['poison_label_swap']\n",
    "                elif attack_type=='label_flip':\n",
    "                    new_targets[index] = (targets[index]+1)%num_of_classes\n",
    "                new_images[index] = images[index]\n",
    "                poison_count+=1\n",
    "\n",
    "            else: # poison part of data when training\n",
    "                if index < poison_dict['poisoning_per_batch']:\n",
    "                    new_targets[index] = poison_dict['poison_label_swap']\n",
    "                    new_images[index] = add_pixel_pattern(images[index])\n",
    "                    poison_count += 1\n",
    "                else:\n",
    "                    new_images[index] = images[index]\n",
    "                    new_targets[index]= targets[index]\n",
    "\n",
    "        new_images = new_images.to(device)\n",
    "        new_targets = new_targets.to(device).long()\n",
    "        if evaluation:\n",
    "            new_images.requires_grad_(False)\n",
    "            new_targets.requires_grad_(False)\n",
    "        return new_images,new_targets,poison_count\n",
    "        \n",
    "\n",
    "def get_batch(bptt, evaluation=False):\n",
    "    data, target = bptt\n",
    "    data = data.to(device)\n",
    "    target = target.to(device)\n",
    "    if evaluation:\n",
    "        data.requires_grad_(False)\n",
    "        target.requires_grad_(False)\n",
    "    return data, target"
   ]
  },
  {
   "cell_type": "code",
   "execution_count": 181,
   "metadata": {
    "id": "nOhHhkNjE6tb"
   },
   "outputs": [],
   "source": [
    "import torch\n",
    "from torch import Tensor\n",
    "from typing import List, Optional\n",
    "\n",
    "from tensorflow import print as prnt\n",
    "\n",
    "def sgd(params: List[Tensor],\n",
    "        d_p_list: List[Tensor],\n",
    "        momentum_buffer_list: List[Optional[Tensor]],\n",
    "        ref_params: List[Tensor],\n",
    "        ref_grad_params: List[Tensor],\n",
    "        *,\n",
    "        weight_decay: float,\n",
    "        momentum: float,\n",
    "        lr: float,\n",
    "        dampening: float,\n",
    "        nesterov: bool,\n",
    "        maximize: bool,\n",
    "        inertia: float,\n",
    "        minimizeDist: bool):\n",
    "    r\"\"\"Functional API that performs SGD algorithm computation.\n",
    "    See :class:`~torch.optim.SGD` for details.\n",
    "    \"\"\"\n",
    "    #print(\"dummy\", len(params), len(ref_params))\n",
    "\n",
    "    if len(ref_params)!=0 and len(params)!=len(ref_params):\n",
    "        #print(params, ref_params)\n",
    "        print('params', params, '\\n')\n",
    "        print('ref_params', ref_params, '\\n')\n",
    "        sys.exit()\n",
    "\n",
    "    if len(ref_grad_params)!=0 and len(params)!=len(ref_grad_params):\n",
    "        print('params', params, '\\n')\n",
    "        print('ref_params', ref_grad_params, '\\n')\n",
    "        sys.exit()\n",
    "    for i, param in enumerate(params):\n",
    "\n",
    "        d_p = d_p_list[i]\n",
    "        if weight_decay != 0:\n",
    "            d_p = d_p.add(param, alpha=weight_decay)\n",
    "\n",
    "        if momentum != 0:\n",
    "            buf = momentum_buffer_list[i]\n",
    "\n",
    "            if buf is None:\n",
    "                buf = torch.clone(d_p).detach()\n",
    "                momentum_buffer_list[i] = buf\n",
    "            else:\n",
    "                buf.mul_(momentum).add_(d_p, alpha=1 - dampening)\n",
    "\n",
    "            if nesterov:\n",
    "                d_p = d_p.add(buf, alpha=momentum)\n",
    "            else:\n",
    "                d_p = buf\n",
    "        \n",
    "        if ref_params is not None and len(ref_params) != 0 and minimizeDist:\n",
    "            diff = 0\n",
    "            ### if minimize euclidean distance\n",
    "            #diff = param - ref_params[i]\n",
    "            ### if minimize cosine similarity, ref_params contains the gradient of the reference network weights\n",
    "            \n",
    "            if ref_grad_params is not None:\n",
    "\n",
    "                dir_sign = torch.sign(ref_params[i]-param)\n",
    "                diff -= ref_params[i]-param\n",
    "                diff -= ref_grad_params[i]\n",
    "                diff = diff.mul_(0.5)\n",
    "            \n",
    "            #d_p = d_p.mul_(0)\n",
    "            d_p = d_p.add(diff, alpha=inertia)\n",
    "        \n",
    "        #if diff_total==0:\n",
    "            #print('diff_total 0')\n",
    "\n",
    "        alpha = lr if maximize else -lr\n",
    "        param.add_(d_p, alpha=alpha)"
   ]
  },
  {
   "cell_type": "code",
   "execution_count": 182,
   "metadata": {
    "id": "BMvAKmTlFlSV"
   },
   "outputs": [],
   "source": [
    "import torch\n",
    "#from torch.optim import _functional as F\n",
    "from torch.optim.optimizer import Optimizer, required\n",
    "\n",
    "\n",
    "class SGD(Optimizer):\n",
    "    def __init__(self, params, lr=required, ref_param_groups=None, ref_grad_param_groups=None, momentum=0, dampening=0,\n",
    "                 weight_decay=0, nesterov=False, *, maximize=False, inertia=1.0, minimizeDist=False):\n",
    "        if lr is not required and lr < 0.0:\n",
    "            raise ValueError(\"Invalid learning rate: {}\".format(lr))\n",
    "        if momentum < 0.0:\n",
    "            raise ValueError(\"Invalid momentum value: {}\".format(momentum))\n",
    "        if weight_decay < 0.0:\n",
    "            raise ValueError(\"Invalid weight_decay value: {}\".format(weight_decay))\n",
    "\n",
    "        defaults = dict(lr=lr, momentum=momentum, dampening=dampening,\n",
    "                        weight_decay=weight_decay, nesterov=nesterov, maximize=maximize)\n",
    "        if nesterov and (momentum <= 0 or dampening != 0):\n",
    "            raise ValueError(\"Nesterov momentum requires a momentum and zero dampening\")\n",
    "        #self.ref_param_groups = ref_param_groups\n",
    "        super(SGD, self).__init__(params, defaults)\n",
    "        #self.ref_param_groups = ref_param_groups\n",
    "        self.inertia=inertia\n",
    "        self.minimizeDist=minimizeDist\n",
    "\n",
    "        if ref_param_groups is not None:\n",
    "            self.__setrefparams__(ref_param_groups)\n",
    "        else:\n",
    "            self.ref_param_groups = ref_param_groups\n",
    "\n",
    "        if ref_grad_param_groups is not None:\n",
    "            self.__setrefgradparams__(ref_grad_param_groups)\n",
    "        else:\n",
    "            self.ref_grad_param_groups = ref_param_groups\n",
    "\n",
    "    def filter_ref_param_group(self, param_group):\n",
    "        r\"\"\"Add a param group to the :class:`Optimizer` s `param_groups`.\n",
    "        This can be useful when fine tuning a pre-trained network as frozen layers can be made\n",
    "        trainable and added to the :class:`Optimizer` as training progresses.\n",
    "        Args:\n",
    "            param_group (dict): Specifies what Tensors should be optimized along with group\n",
    "                specific optimization options.\n",
    "        \"\"\"\n",
    "        assert isinstance(param_group, dict), \"param group must be a dict\"\n",
    "\n",
    "        params = param_group['params']\n",
    "        if isinstance(params, torch.Tensor):\n",
    "            param_group['params'] = [params]\n",
    "        elif isinstance(params, set):\n",
    "            raise TypeError('optimizer parameters need to be organized in ordered collections, but '\n",
    "                            'the ordering of tensors in sets will change between runs. Please use a list instead.')\n",
    "        else:\n",
    "            param_group['params'] = list(params)\n",
    "\n",
    "        for param in param_group['params']:\n",
    "            if not isinstance(param, torch.Tensor):\n",
    "                raise TypeError(\"optimizer can only optimize Tensors, \"\n",
    "                                \"but one of the params is \" + torch.typename(param))\n",
    "            if not param.is_leaf:\n",
    "                raise ValueError(\"can't optimize a non-leaf Tensor\")\n",
    "        '''\n",
    "        for name, default in self.defaults.items():\n",
    "            if default is required and name not in param_group:\n",
    "                raise ValueError(\"parameter group didn't specify a value of required optimization parameter \" +\n",
    "                                name)\n",
    "            else:\n",
    "                param_group.setdefault(name, default)\n",
    "        '''\n",
    "\n",
    "        params = param_group['params']\n",
    "        if len(params) != len(set(params)):\n",
    "            warnings.warn(\"optimizer contains a parameter group with duplicate parameters; \"\n",
    "                          \"in future, this will cause an error; \"\n",
    "                          \"see github.com/pytorch/pytorch/issues/40967 for more information\", stacklevel=3)\n",
    "\n",
    "        param_set = set()\n",
    "        for group in self.param_groups:\n",
    "            param_set.update(set(group['params']))\n",
    "\n",
    "        if not param_set.isdisjoint(set(param_group['params'])):\n",
    "            raise ValueError(\"some parameters appear in more than one parameter group\")\n",
    "\n",
    "        #self.ref_param_groups.append(param_group)\n",
    "        return param_group\n",
    "    \n",
    "    def __setrefparams__(self, params):\n",
    "        self.ref_param_groups = []\n",
    "\n",
    "        param_groups = list(params)\n",
    "        '''\n",
    "        if len(param_groups) == 0:\n",
    "            raise ValueError(\"optimizer got an empty parameter list\")\n",
    "        '''\n",
    "        if not isinstance(param_groups[0], dict):\n",
    "            param_groups = [{'params': param_groups}]\n",
    "\n",
    "        for param_group in param_groups:\n",
    "            self.ref_param_groups.append(self.filter_ref_param_group(param_group))\n",
    "\n",
    "    def __setrefgradparams__(self, params):\n",
    "        self.ref_grad_param_groups = []\n",
    "\n",
    "        param_groups = list(params)\n",
    "        '''\n",
    "        if len(param_groups) == 0:\n",
    "            raise ValueError(\"optimizer got an empty parameter list\")\n",
    "        '''\n",
    "        if not isinstance(param_groups[0], dict):\n",
    "            param_groups = [{'params': param_groups}]\n",
    "\n",
    "        for param_group in param_groups:\n",
    "            self.ref_grad_param_groups.append(self.filter_ref_param_group(param_group))\n",
    "\n",
    "    def __setstate__(self, state):\n",
    "        super(SGD, self).__setstate__(state)\n",
    "        for group in self.param_groups:\n",
    "            group.setdefault('nesterov', False)\n",
    "            group.setdefault('maximize', False)\n",
    "    \n",
    "    \n",
    "\n",
    "    @torch.no_grad()\n",
    "    def step(self, closure=None):\n",
    "        \"\"\"Performs a single optimization step.\n",
    "        Args:\n",
    "            closure (callable, optional): A closure that reevaluates the model\n",
    "                and returns the loss.\n",
    "        \"\"\"\n",
    "        loss = None\n",
    "        if closure is not None:\n",
    "            with torch.enable_grad():\n",
    "                loss = closure()\n",
    "        \n",
    "        #for group in self.ref_param_groups:\n",
    "            #for p in group['params']:\n",
    "\n",
    "        if self.ref_param_groups is not None and len(self.param_groups)!=len(self.ref_param_groups):\n",
    "            print(len(self.param_groups), len(self.ref_param_groups))\n",
    "            sys.exit()\n",
    "\n",
    "        if self.ref_grad_param_groups is not None and len(self.param_groups)!=len(self.ref_grad_param_groups):\n",
    "            print(len(self.param_groups), len(self.ref_grad_param_groups))\n",
    "            sys.exit()\n",
    "        for i in range(len(self.param_groups)):\n",
    "            group = self.param_groups[i]\n",
    "            if self.ref_param_groups is not None:\n",
    "                ref_group = self.ref_param_groups[i]\n",
    "            if self.ref_grad_param_groups is not None:\n",
    "                ref_grad_group = self.ref_grad_param_groups[i]\n",
    "            params_with_grad = []\n",
    "            d_p_list = []\n",
    "            momentum_buffer_list = []\n",
    "            weight_decay = group['weight_decay']\n",
    "            momentum = group['momentum']\n",
    "            dampening = group['dampening']\n",
    "            nesterov = group['nesterov']\n",
    "            maximize = group['maximize']\n",
    "            lr = group['lr']\n",
    "\n",
    "            for p in group['params']:\n",
    "                if p.grad is not None:\n",
    "                    params_with_grad.append(p)\n",
    "                    d_p_list.append(p.grad)\n",
    "\n",
    "                    state = self.state[p]\n",
    "                    if 'momentum_buffer' not in state:\n",
    "                        momentum_buffer_list.append(None)\n",
    "                    else:\n",
    "                        momentum_buffer_list.append(state['momentum_buffer'])\n",
    "            ref_params=[]\n",
    "            ref_grad_params=[]\n",
    "            if self.ref_param_groups is not None:\n",
    "                for p in ref_group['params']:\n",
    "                    ref_params.append(p)\n",
    "            if self.ref_grad_param_groups is not None:\n",
    "                for p in ref_grad_group['params']:\n",
    "                    ref_grad_params.append(p)\n",
    "            \n",
    "            sgd(params_with_grad,\n",
    "                  d_p_list,\n",
    "                  momentum_buffer_list,\n",
    "                  ref_params=ref_params,\n",
    "                  ref_grad_params=ref_grad_params,\n",
    "                  weight_decay=weight_decay,\n",
    "                  momentum=momentum,\n",
    "                  lr=lr,\n",
    "                  dampening=dampening,\n",
    "                  nesterov=nesterov,\n",
    "                  maximize=maximize,\n",
    "                  inertia=self.inertia,\n",
    "                  minimizeDist=self.minimizeDist)\n",
    "            \n",
    "\n",
    "            # update momentum_buffers in state\n",
    "            for p, momentum_buffer in zip(params_with_grad, momentum_buffer_list):\n",
    "                state = self.state[p]\n",
    "                state['momentum_buffer'] = momentum_buffer\n",
    "\n",
    "        return loss\n",
    "\n",
    "    ##  add add_param method\n",
    "\n"
   ]
  },
  {
   "cell_type": "code",
   "execution_count": 183,
   "metadata": {
    "id": "NDJtZrEdRwht"
   },
   "outputs": [],
   "source": [
    "def new_loss(output, target):\n",
    "    loss = F.nll_loss(output, target)\n",
    "\n",
    "    return loss"
   ]
  },
  {
   "cell_type": "code",
   "execution_count": 184,
   "metadata": {
    "id": "yWy7CtC7GpPG"
   },
   "outputs": [],
   "source": [
    "def inv_grad_test(model):\n",
    "    for name, param in model.named_parameters():\n",
    "        print(name, torch.isfinite(param.grad).all())"
   ]
  },
  {
   "cell_type": "code",
   "execution_count": 185,
   "metadata": {
    "id": "I3r_mO-LDaJ6"
   },
   "outputs": [],
   "source": [
    "loss_func=nn.CrossEntropyLoss()\n",
    "\n",
    "def train(network, optimizer, epoch):\n",
    "  network.train()\n",
    "\n",
    "  if network.network_id!=-1:\n",
    "      (_, temp_train_loader)=train_loaders[network.network_id]\n",
    "  else:\n",
    "      temp_train_loader=train_loader\n",
    "\n",
    "  for batch_idx, (data, target) in enumerate(temp_train_loader):\n",
    "    if network.network_id>=1:\n",
    "        data, target, poison_num = get_poison_batch((data, target))\n",
    "    optimizer.zero_grad()\n",
    "    output = network(data)\n",
    "    loss = loss_func(output, target)\n",
    "    loss.backward()\n",
    "    #inv_grad_test(network)\n",
    "    optimizer.step()\n",
    "    if batch_idx % log_interval == 0:\n",
    "      print('Train Epoch: {} [{}/{} ({:.0f}%)]\\tLoss: {:.6f}'.format(\n",
    "      epoch, batch_idx * len(data), len(train_loader.dataset),\n",
    "      100. * batch_idx / len(train_loader), loss.item()))\n",
    "      train_losses.append(loss.item())\n",
    "      train_counter.append(\n",
    "        (batch_idx*64) + ((epoch-1)*len(train_loader.dataset)))\n",
    "      torch.save(network.state_dict(), 'model.pth')\n",
    "      torch.save(optimizer.state_dict(), 'optimizer.pth')\n",
    "  if network.network_id>=1:\n",
    "      sys.exit()"
   ]
  },
  {
   "cell_type": "code",
   "execution_count": 186,
   "metadata": {
    "id": "rePZEDgTs5Zg"
   },
   "outputs": [],
   "source": [
    "from tqdm import tqdm\n",
    "\n",
    "def train_net(network, optimizer, trainloader, epoch, poisonNow=False, print_flag=False, attack_type='backdoor'):\n",
    "  for batch_idx, (data, target) in enumerate(tqdm(trainloader)):\n",
    "    if poisonNow:\n",
    "        data, target, poison_num = get_poison_batch((data, target), attack_type=attack_type)\n",
    "    else:\n",
    "        data, target = get_batch((data, target))\n",
    "    optimizer.zero_grad()\n",
    "    output = network(data)\n",
    "    loss = loss_func(output, target)\n",
    "    loss.backward()\n",
    "    #inv_grad_test(network)\n",
    "    optimizer.step()\n",
    "    if batch_idx % log_interval == 0:\n",
    "        if print_flag:\n",
    "            print('Train Epoch: {} [{}/{} ({:.0f}%)]\\tLoss: {:.6f}'.format(\n",
    "            epoch, batch_idx * len(data), len(trainloader.dataset),\n",
    "            100. * batch_idx / len(trainloader), loss.item()))\n",
    "        train_losses.append(loss.item())\n",
    "        train_counter.append(\n",
    "            (batch_idx*64) + ((epoch-1)*len(trainloader.dataset)))"
   ]
  },
  {
   "cell_type": "code",
   "execution_count": 187,
   "metadata": {
    "id": "DNbRH73f9IFr"
   },
   "outputs": [],
   "source": [
    "def test(network):\n",
    "  network.eval()\n",
    "  test_loss = 0\n",
    "  correct = 0\n",
    "  with torch.no_grad():\n",
    "    for data, target in tqdm(test_loader):\n",
    "        data, target = get_batch((data, target))\n",
    "        output = network(data)\n",
    "        test_loss += loss_func(output, target).item()\n",
    "        pred = output.data.max(1, keepdim=True)[1]\n",
    "        correct += pred.eq(target.data.view_as(pred)).sum()\n",
    "  test_loss /= len(test_loader.dataset)\n",
    "  test_losses.append(test_loss)\n",
    "  print('\\nTest set: Avg. loss: {:.4f}, Accuracy: {}/{} ({:.0f}%)\\n'.format(\n",
    "    test_loss, correct, len(test_loader.dataset),\n",
    "    100. * correct / len(test_loader.dataset)))\n",
    "  return 100. * correct / len(test_loader.dataset)"
   ]
  },
  {
   "cell_type": "code",
   "execution_count": 188,
   "metadata": {
    "id": "O9mnbnO-BSvs"
   },
   "outputs": [],
   "source": [
    "def backdoor_test(network):\n",
    "  network.eval()\n",
    "  test_loss = 0\n",
    "  correct = 0\n",
    "  with torch.no_grad():\n",
    "    for data, target in tqdm(test_loader):\n",
    "      data, target, poison_num = get_poison_batch((data, target), evaluation=True, attack_type='backdoor')\n",
    "      output = network(data)\n",
    "      test_loss += loss_func(output, target).item()\n",
    "      pred = output.data.max(1, keepdim=True)[1]\n",
    "      correct += pred.eq(target.data.view_as(pred)).sum()\n",
    "  test_loss /= len(test_loader.dataset)\n",
    "  test_losses.append(test_loss)\n",
    "  print('\\nBackdoor Test set: Avg. loss: {:.4f}, Accuracy: {}/{} ({:.0f}%)\\n'.format(\n",
    "    test_loss, correct, len(test_loader.dataset),\n",
    "    100. * correct / len(test_loader.dataset)))"
   ]
  },
  {
   "cell_type": "code",
   "execution_count": 189,
   "metadata": {
    "id": "_BXauMW5n3r3"
   },
   "outputs": [],
   "source": [
    "def calcDiff(network, network2):\n",
    "    return sum((x - y).abs().sum() for x, y in zip(network.state_dict().values(), network2.state_dict().values()))"
   ]
  },
  {
   "cell_type": "code",
   "execution_count": 190,
   "metadata": {
    "id": "IB55dWe-UoTd"
   },
   "outputs": [],
   "source": [
    "def get_scaled_up_grads(glob_net, networks, self=None, iter=-1):\n",
    "    nets_grads=[]\n",
    "    clean_server_grad=None\n",
    "    grads=[]\n",
    "\n",
    "    for i in range(len(networks)):\n",
    "        grad_net=CNN().to(device)\n",
    "        grad_net.to(device)\n",
    "        grad_net.copy_params(networks[i].state_dict())\n",
    "        nets_grads.append(grad_net)\n",
    "        \n",
    "        grad_net.calc_grad(glob_net.state_dict())\n",
    "        grads.append(convert_model_to_param_list(grad_net))\n",
    "\n",
    "    scaled_grad=CNN().to(device)\n",
    "    scaled_grad.set_param_to_zero()\n",
    "    scaled_grad.aggregate([n.state_dict() for n in nets_grads], aggr_weights=[-1]*(len(networks)-1)+[len(networks)])\n",
    "\n",
    "    self.log.append((iter, 'Cos_sim btn scaled grad and clean server grad', 'get_scaled_up_grads', cos_calc(scaled_grad, nets_grads[-2])))\n",
    "    print(self.log[-1])\n",
    "    self.log.append((iter, 'Cos_sim btn mal grad and clean server grad', 'get_scaled_up_grads', cos_calc(nets_grads[-1], nets_grads[-2])))\n",
    "    print(self.log[-1])\n",
    "\n",
    "    scaled_grad.aggregate([glob_net.state_dict()], aggr_weights=[1])\n",
    "    return scaled_grad\n",
    "\n",
    "    "
   ]
  },
  {
   "cell_type": "code",
   "execution_count": 207,
   "metadata": {
    "id": "py2OvW8FfoTQ"
   },
   "outputs": [],
   "source": [
    "class CustomFL:\n",
    "    def __init__(self, num_of_benign_nets=1, num_of_mal_nets=1, inertia=0.1, n_iter=10,\n",
    "                 n_epochs=3, poison_starts_at_iter=3, learning_rate=0.1, momentum=0, weight_decay=0.1,\n",
    "                 attack_type='label_flip', scale_up=False, minimizeDist=True):\n",
    "        self.global_net = CNN().to(device)\n",
    "        self.global_net_optim = SGD(self.global_net.parameters(), lr=learning_rate, momentum=momentum, weight_decay=weight_decay)\n",
    "        self.global_net.to(device)\n",
    "        self.benign_nets = []\n",
    "        self.benign_net_optims = []\n",
    "        for i in range(num_of_benign_nets):\n",
    "            network = CNN(net_id=i)\n",
    "            network.copy_params(self.global_net.state_dict())\n",
    "            optim = SGD(network.parameters(), lr=learning_rate, momentum=momentum, weight_decay=weight_decay, inertia=inertia)\n",
    "            network.to(device)\n",
    "            self.benign_nets.append(network)\n",
    "            self.benign_net_optims.append(optim)\n",
    "        self.mal_nets = []\n",
    "        self.mal_net_optims = []\n",
    "        for i in range(num_of_mal_nets):\n",
    "            network = CNN(is_malicious=True, net_id=i)\n",
    "            network.copy_params(self.global_net.state_dict())\n",
    "            optim = SGD(network.parameters(), lr=learning_rate,\n",
    "                        momentum=momentum, weight_decay=weight_decay, inertia=inertia, minimizeDist=minimizeDist)\n",
    "            network.to(device)\n",
    "            self.mal_nets.append(network)\n",
    "            self.mal_net_optims.append(optim)\n",
    "\n",
    "        self.current_iter=0\n",
    "        self.num_of_benign_nets=num_of_benign_nets\n",
    "        self.num_of_mal_nets=num_of_mal_nets\n",
    "        self.inertia_rate=inertia\n",
    "        self.n_iter=n_iter\n",
    "        self.n_epochs=n_epochs\n",
    "        self.learning_rate=learning_rate\n",
    "        self.momentum=momentum\n",
    "        self.poison_starts_at_iter=poison_starts_at_iter\n",
    "        self.weight_decay=weight_decay\n",
    "        self.attack_type=attack_type\n",
    "        self.scale_up=scale_up\n",
    "\n",
    "        self.log=[]\n",
    "        self.debug_log={}\n",
    "        self.debug_log['cluster']=[]\n",
    "        self.debug_log['coses']=[]\n",
    "        n_nets=num_of_benign_nets+num_of_mal_nets\n",
    "        self.cos_matrices=[]\n",
    "        #self.cos_matrix.append(np.zeros((n_nets, n_nets)))\n",
    "\n",
    "    def cluster_grads(self, iter=-1):\n",
    "        nets = self.benign_nets + self.mal_nets\n",
    "        for net in nets:\n",
    "            net.calc_grad(self.global_net.state_dict(), change_self=False)\n",
    "\n",
    "        from sklearn.cluster import AgglomerativeClustering\n",
    "        X = [np.array(net.grad_params) for net in nets]\n",
    "        X= np.array(X)\n",
    "        clustering = AgglomerativeClustering(n_clusters=num_of_distributions, affinity='cosine', linkage='complete').fit(X)\n",
    "        from sklearn.metrics.cluster import adjusted_rand_score\n",
    "        print('Original Copylist', copylist)\n",
    "        print('Found clusters', clustering.labels_)\n",
    "        print('Original groups', [np.argwhere(np.array(copylist)==i).flatten() for i in range(num_of_distributions)])\n",
    "        print('Clustered groups', [np.argwhere(clustering.labels_==i).flatten() for i in range(num_of_distributions)])\n",
    "        print('Clustering score', adjusted_rand_score(clustering.labels_.tolist(), copylist))\n",
    "        self.log.append((iter, 'Original copylist', 'cluster_grads', copylist))\n",
    "        self.log.append((iter, 'Clusters', 'cluster_grads', clustering.labels_))\n",
    "        #self.debug_log['cluster'].append((iter, 'Cluster Score', 'cluster_grads', adjusted_rand_score(clustering.labels_.tolist(), copylist)))\n",
    "        \n",
    "        coses=[]\n",
    "        \n",
    "        for i1, net1 in enumerate(nets):\n",
    "            coses_l=[]\n",
    "            for i2, net2 in enumerate(nets):\n",
    "                coses_l.append(cos_calc_btn_grads(net1.grad_params, net2.grad_params))\n",
    "            coses.append(coses_l)\n",
    "            \n",
    "        coses = np.array(coses)\n",
    "        \n",
    "        '''\n",
    "        self.cos_matrix = self.cos_matrix + coses\n",
    "        self.cos_matrix = self.cos_matrix/np.max(self.cos_matrix)\n",
    "        '''\n",
    "        self.cos_matrices.append(coses)\n",
    "        print(len(self.cos_matrices))\n",
    "        \n",
    "        num_of_coses = np.minimum(len(self.cos_matrices), 5)\n",
    "        \n",
    "        cos_matrix=np.zeros((len(nets), len(nets)))\n",
    "        for i in range(num_of_coses):\n",
    "            cos_matrix+=self.cos_matrices[-i-1]\n",
    "            \n",
    "        cos_matrix = cos_matrix/num_of_coses\n",
    "                    \n",
    "        print(cos_matrix)\n",
    "        \n",
    "        clustering = AgglomerativeClustering(n_clusters=num_of_distributions, affinity='precomputed', linkage='complete').fit(1-cos_matrix)\n",
    "        print('Original Copylist', copylist)\n",
    "        print('Found clusters', clustering.labels_)\n",
    "        print('Original groups', [np.argwhere(np.array(copylist)==i).flatten() for i in range(num_of_distributions)])\n",
    "        print('Clustered groups', [np.argwhere(clustering.labels_==i).flatten() for i in range(num_of_distributions)])\n",
    "        print('Clustering score', adjusted_rand_score(clustering.labels_.tolist(), copylist))\n",
    "        self.debug_log['cluster'].append((iter, 'Cluster Score', 'cluster_grads', adjusted_rand_score(clustering.labels_.tolist(), copylist)))\n",
    "        \n",
    "        \n",
    "        '''\n",
    "        X = [np.array(net.grad_params) for net in self.benign_nets]\n",
    "        X= np.array(X)\n",
    "        copylist2=copylist[:self.num_of_benign_nets]\n",
    "        clustering = AgglomerativeClustering(n_clusters=len(set(copylist2)), affinity='cosine', linkage='complete').fit(X)\n",
    "        print('Original Copylist', copylist2)\n",
    "        print('Found clusters', clustering.labels_)\n",
    "        print('Original groups', [np.argwhere(np.array(copylist2)==i).flatten() for i in range(num_of_distributions)])\n",
    "        print('Clustered groups', [np.argwhere(clustering.labels_==i).flatten() for i in range(num_of_distributions)])\n",
    "        print('Clustering score', adjusted_rand_score(clustering.labels_.tolist(), copylist2))\n",
    "        '''\n",
    "        \n",
    "        return coses\n",
    "\n",
    "    def FLtrust(self, iter=-1):\n",
    "        clean_server_grad=None\n",
    "        grads=[]\n",
    "        nets_grads=[]\n",
    "        \n",
    "        nets = self.benign_nets + self.mal_nets\n",
    "        for net in nets:\n",
    "            net.calc_grad(self.global_net.state_dict(), change_self=False)\n",
    "            grad_net = CNN().to(device)\n",
    "            grad_net.to(device)\n",
    "            grad_net.copy_params(net.state_dict())\n",
    "            grad_net.aggregate([self.global_net.state_dict()], aggr_weights=[-1])\n",
    "            nets_grads.append(grad_net)\n",
    "\n",
    "        for i in range(self.num_of_benign_nets):\n",
    "            grads.append(self.benign_nets[i].grad_params)\n",
    "            if i==self.num_of_benign_nets-1:\n",
    "                clean_server_grad=grads[i]\n",
    "\n",
    "        for i in range(self.num_of_mal_nets):\n",
    "            grads.append(self.mal_nets[i].grad_params)\n",
    "        \n",
    "        norms = [torch.linalg.norm(grad) for grad in grads]\n",
    "        print('Norms of local gradients ', norms)\n",
    "        self.log.append((iter, 'Norms of local gradients ', 'FLTrust', norms))\n",
    "\n",
    "        \n",
    "        cos_sims=[cos_calc_btn_grads(grad, clean_server_grad) for grad in grads]\n",
    "\n",
    "        '''\n",
    "        for grad in grads:\n",
    "            cos_sims.append(torch.dot(grad, clean_server_grad)/ (torch.linalg.norm(grad)+ 1e-9) / (torch.linalg.norm(clean_server_grad)+ 1e-9))\n",
    "        '''\n",
    "        print('\\n Aggregating models')\n",
    "\n",
    "        #print([cos_calc() ])\n",
    "\n",
    "        print('Cosine Similarities: ', cos_sims)\n",
    "        self.log.append((iter, 'Cosine Similarities', 'FLtrust', cos_sims))\n",
    "        cos_sims = np.maximum(np.array(cos_sims), 0)\n",
    "        norm_weights = cos_sims/(np.sum(cos_sims)+1e-9)\n",
    "        for i in range(len(norm_weights)):\n",
    "            norm_weights[i] = norm_weights[i] * torch.linalg.norm(clean_server_grad) / (torch.linalg.norm(grads[i]))\n",
    "        \n",
    "        print('Aggregation Weights: ', norm_weights)\n",
    "        self.log.append((iter, 'Aggregation Weights', 'FLtrust', norm_weights))\n",
    "\n",
    "        self.global_net.aggregate([grad.state_dict() for grad in nets_grads], aggr_weights=norm_weights)\n",
    "            \n",
    "            \n",
    "\n",
    "    def train_local_net(self, is_malicious, net_id, iter, ref_net_for_minimizing_dist=None):\n",
    "        if is_malicious:\n",
    "            network=self.mal_nets[net_id]\n",
    "            optim=self.mal_net_optims[net_id]\n",
    "            # will change later to aggregate of benign_nets\n",
    "            if ref_net_for_minimizing_dist is None:\n",
    "                ref_net_for_minimizing_dist = self.benign_nets[0].parameters()\n",
    "            ref_grad, ref_net = ref_net_for_minimizing_dist\n",
    "            if ref_grad is None:\n",
    "                import sys\n",
    "                sys.exit()\n",
    "            if ref_grad is not None:\n",
    "                optim.__setrefgradparams__(ref_grad.parameters())\n",
    "            optim.__setrefparams__(ref_net.parameters())\n",
    "        else:\n",
    "            network=self.benign_nets[net_id]\n",
    "            optim=self.benign_net_optims[net_id]\n",
    "\n",
    "        (_, _, trainloader) = train_loaders[iter][net_id + is_malicious*self.num_of_benign_nets]\n",
    "\n",
    "        poisonNow = True if is_malicious and iter>=self.poison_starts_at_iter else False\n",
    "        for epoch in range(self.n_epochs if not poisonNow else (self.n_epochs*1)):\n",
    "            clientType = 'Malicious' if is_malicious else 'Benign'\n",
    "            print(f'Iter {iter} - Epoch {epoch} - Client Type: {clientType} - Client Number {net_id} - Poison Training {poisonNow}')\n",
    "            train_net(network, optim, trainloader, epoch, poisonNow=poisonNow, attack_type=self.attack_type)\n",
    "        network.calc_grad(self.global_net.state_dict(), change_self=False)\n",
    "        if poisonNow:\n",
    "            acc=test(network)\n",
    "            self.log.append((iter, 'Local net test accuracy: mal', 'train_local_net', acc))\n",
    "            if self.attack_type=='backdoorq':\n",
    "                acc = backdoor_test(network)\n",
    "                self.log.append((iter, 'Local net backdoor test accuracy: mal', 'train_local_net', acc))\n",
    "\n",
    "    def train(self):\n",
    "        n_epochs=self.n_epochs\n",
    "        self.n_epochs=1\n",
    "        for iter in range(self.n_iter):\n",
    "            distanceList=[]\n",
    "            cosList=[]\n",
    "            networks=[]\n",
    "            networks+=self.benign_nets\n",
    "            networks+=self.mal_nets\n",
    "            \n",
    "            for epoch in range(n_epochs):\n",
    "                \n",
    "                print(f'\\n\\n Entering epoch {epoch}')\n",
    "\n",
    "                for i in range(self.num_of_benign_nets):\n",
    "                    self.train_local_net(False, i, iter)\n",
    "                \n",
    "                coses = self.cluster_grads(iter)\n",
    "                \n",
    "                self.debug_log['coses'].append((iter, epoch, coses))\n",
    "\n",
    "            benign_aggr_net=CNN().to(device)\n",
    "            benign_aggr_net.set_param_to_zero()\n",
    "\n",
    "            ### if adversary knows benign_net_aggregates\n",
    "            benign_aggr_net.aggregate([net.state_dict() for net in self.benign_nets])\n",
    "            ### if adversary knows clean server\n",
    "            #benign_aggr_net.copy_params(self.benign_nets[-1].state_dict())\n",
    "\n",
    "            benign_aggr_net_grad=CNN().to(device)\n",
    "            benign_aggr_net_grad.copy_params(benign_aggr_net.state_dict())\n",
    "            benign_aggr_net_grad.aggregate([self.global_net.state_dict()], aggr_weights=[-1])\n",
    "\n",
    "            \n",
    "            for i in range(self.num_of_mal_nets):\n",
    "                self.train_local_net(True, i, iter, ref_net_for_minimizing_dist=(benign_aggr_net_grad, benign_aggr_net))\n",
    "                \n",
    "                if self.scale_up:\n",
    "                    scaled_up_grad = get_scaled_up_grads(self.global_net, networks, self, iter)\n",
    "                    self.mal_nets[i].copy_params(scaled_up_grad.state_dict())\n",
    "                    #self.mal_nets[i].aggregate([benign_aggr_net.state_dict()])\n",
    "                \n",
    "\n",
    "            cosList=[cos_calc_btn_grads(net.grad_params, self.benign_nets[-1].grad_params) for net in networks]\n",
    "            distanceList=[calcDiff(net, self.benign_nets[-1]) for net in networks]\n",
    "\n",
    "            #self.cluster_grads()\n",
    "\n",
    "            self.log.append((iter, 'Benign net distance', 'train', distanceList[:self.num_of_benign_nets]))\n",
    "            print('Benign net distance', distanceList[:self.num_of_benign_nets])\n",
    "            self.log.append((iter, 'Malicious net distance', 'train', distanceList[self.num_of_benign_nets:]))\n",
    "            print('Malicious net distance', distanceList[self.num_of_benign_nets:])\n",
    "            self.log.append((iter, 'Cos sim list', 'train', cosList))\n",
    "            print('cos_sim list ', cosList)\n",
    "\n",
    "            # aggregate nets\n",
    "            #self.global_net.set_param_to_zero()\n",
    "            #self.global_net.aggregate([network.state_dict() for network in networks])\n",
    "            self.FLtrust(iter=iter)\n",
    "            print('\\n\\n\\nAggregate test at iter ', iter)\n",
    "            acc=test(self.global_net)\n",
    "            self.log.append((iter, 'Test accuracy: agg net', 'train', acc))\n",
    "            #backdoor_test(self.global_net)\n",
    "            self.log.append((iter, 'Backdoor test accuracy: agg net', 'train', acc))\n",
    "            self.log.append((iter, 'Distance between aggregate global and clean server', 'train', calcDiff(self.global_net, self.benign_nets[-1])))\n",
    "\n",
    "            # set all local nets equal to global net at the end of the iteration\n",
    "            \n",
    "            for network in networks:\n",
    "                network.copy_params(self.global_net.state_dict())\n",
    "            "
   ]
  },
  {
   "cell_type": "code",
   "execution_count": 208,
   "metadata": {
    "id": "IPqR6UKz9G7U"
   },
   "outputs": [],
   "source": [
    "poison_dict = dict()\n",
    "poison_dict['poison_delta'] = 0.1\n",
    "poison_dict['poison_pattern'] = [[23,25], [24,24],[25,23],[25,25]]\n",
    "poison_dict['poisoning_per_batch'] = 80\n",
    "poison_dict['poison_label_swap'] = 0"
   ]
  },
  {
   "cell_type": "code",
   "execution_count": 209,
   "metadata": {
    "colab": {
     "base_uri": "https://localhost:8080/"
    },
    "id": "szKjrPoXvw_x",
    "outputId": "f9875642-8768-4770-8b3a-57106ae85412"
   },
   "outputs": [
    {
     "name": "stdout",
     "output_type": "stream",
     "text": [
      "[2, 1, 1, 1, 2, 2, 4, 1, 1, 5] 20\n",
      "[9, 1, 4, 9, 6, 7, 5, 6, 2, 0, 8, 3, 9, 5, 6, 4, 0, 9, 9, 6]\n"
     ]
    },
    {
     "data": {
      "text/plain": [
       "<torch._C.Generator at 0x1c2913e2250>"
      ]
     },
     "execution_count": 209,
     "metadata": {},
     "output_type": "execute_result"
    }
   ],
   "source": [
    "#@title\n",
    "import torchvision\n",
    "import random\n",
    "\n",
    "batch_size_train = 100\n",
    "batch_size_test = 1000\n",
    "learning_rate = 0.01\n",
    "log_interval = 10\n",
    "\n",
    "\n",
    "### important hyperparameters\n",
    "num_of_workers=20\n",
    "num_of_mal_workers=0\n",
    "n_iter=50\n",
    "n_epochs=5\n",
    "poison_starts_at_iter=n_iter\n",
    "inertia=0.1\n",
    "momentum=0.1\n",
    "attack_type='label_flip'\n",
    "scale_up=False\n",
    "minimizeDist=False\n",
    "\n",
    "iid = False\n",
    "num_of_distributions = int(num_of_workers/2)\n",
    "num_of_workers_in_distribs = num_of_workers * np.random.dirichlet(np.array(num_of_distributions * [3.0]))\n",
    "num_of_workers_in_distribs = [int(val) for val in num_of_workers_in_distribs]\n",
    "while 0 in num_of_workers_in_distribs:\n",
    "    num_of_workers_in_distribs.remove(0)\n",
    "num_of_workers_in_distribs.append(num_of_workers-sum(num_of_workers_in_distribs))\n",
    "print(num_of_workers_in_distribs, sum(num_of_workers_in_distribs))\n",
    "num_of_distributions = len(num_of_workers_in_distribs)\n",
    "copylist = []\n",
    "for i in range(len(num_of_workers_in_distribs)):\n",
    "    copylist += num_of_workers_in_distribs[i]*[i]\n",
    "random.shuffle(copylist)\n",
    "print(copylist)\n",
    "\n",
    "device=torch.device('cuda:0' if torch.cuda.is_available() else 'cpu')\n",
    "\n",
    "random_seed = 1\n",
    "torch.backends.cudnn.enabled = False\n",
    "torch.manual_seed(random_seed)"
   ]
  },
  {
   "cell_type": "code",
   "execution_count": 210,
   "metadata": {
    "id": "UoYIstgt9-TH"
   },
   "outputs": [],
   "source": [
    "train_losses = []\n",
    "train_counter = []\n",
    "test_losses = []\n",
    "#test_counter = [i*len(train_loader.dataset) for i in range(n_epochs + 1)]"
   ]
  },
  {
   "cell_type": "code",
   "execution_count": 211,
   "metadata": {
    "id": "5WkA_f7UuiOP"
   },
   "outputs": [],
   "source": [
    "#@title\n",
    "from torchvision import datasets, transforms\n",
    "\n",
    "dataPath = ''\n",
    "\n",
    "import random\n",
    "\n",
    "train_loaders=[]\n",
    "\n",
    "transform = transforms.Compose([transforms.ToTensor(),\n",
    "    ### if dataset is mnist\n",
    "    transforms.Normalize((0.1307,), (0.3081,))])\n",
    "    ### if dataset is cifar\n",
    "    #transforms.Normalize((0.5, 0.5, 0.5), (0.5, 0.5, 0.5))])\n",
    "\n",
    "train_dataset = datasets.FashionMNIST('', train=True, download=True,\n",
    "                               transform=transform)\n",
    "test_dataset = datasets.FashionMNIST('', train=False, transform=transform)\n",
    "\n",
    "test_loader = torch.utils.data.DataLoader(\n",
    "  test_dataset,\n",
    "  batch_size=batch_size_test, shuffle=True)\n",
    "\n",
    "all_range = list(range(len(train_dataset)))\n",
    "random.shuffle(all_range)\n",
    "\n",
    "def get_train_iid(all_range, model_no, iter_no):\n",
    "    \"\"\"\n",
    "    This method equally splits the dataset.\n",
    "    :param params:\n",
    "    :param all_range:\n",
    "    :param model_no:\n",
    "    :return:\n",
    "    \"\"\"\n",
    "\n",
    "    data_len_for_iter = int(len(train_dataset) / n_iter)\n",
    "    data_len = int(data_len_for_iter/num_of_workers)\n",
    "    sub_indices_for_iter = all_range[iter_no * data_len_for_iter: (iter_no + 1) * data_len_for_iter]\n",
    "    sub_indices = sub_indices_for_iter[model_no * data_len: (model_no + 1) * data_len ]\n",
    "    train_loader = torch.utils.data.DataLoader(train_dataset,\n",
    "                                        batch_size=batch_size_train,\n",
    "                                        sampler=torch.utils.data.sampler.SubsetRandomSampler(sub_indices)\n",
    "                                        )\n",
    "    return train_loader\n",
    "\n",
    "def get_train_noniid(indices):\n",
    "    \"\"\"\n",
    "    This method is used along with Dirichlet distribution\n",
    "    :param params:\n",
    "    :param indices:\n",
    "    :return:\n",
    "    \"\"\"\n",
    "    train_loader = torch.utils.data.DataLoader(train_dataset,\n",
    "                                        batch_size=int(len(train_dataset)/num_of_workers),\n",
    "                                        sampler=torch.utils.data.sampler.SubsetRandomSampler(\n",
    "                                            indices))\n",
    "    return train_loader\n",
    "\n",
    "def poison_test_dataset(test_dataset, batch_size):\n",
    "    logger.info('get poison test loader')\n",
    "    # delete the test data with target label\n",
    "    test_classes = {}\n",
    "    for ind, x in enumerate(test_dataset):\n",
    "        _, label = x\n",
    "        if label in test_classes:\n",
    "            test_classes[label].append(ind)\n",
    "        else:\n",
    "            test_classes[label] = [ind]\n",
    "\n",
    "    range_no_id = list(range(0, len(test_dataset)))\n",
    "    for image_ind in test_classes[poison_dict['poison_label_swap']]:\n",
    "        if image_ind in range_no_id:\n",
    "            range_no_id.remove(image_ind)\n",
    "    poison_label_inds = test_classes[poison_dict['poison_label_swap']]\n",
    "\n",
    "    return torch.utils.data.DataLoader(test_dataset,\n",
    "                        batch_size=batch_size,\n",
    "                        sampler=torch.utils.data.sampler.SubsetRandomSampler(\n",
    "                            range_no_id)), \\\n",
    "            torch.utils.data.DataLoader(test_dataset,\n",
    "                                        batch_size=batch_size,\n",
    "                                        sampler=torch.utils.data.sampler.SubsetRandomSampler(\n",
    "                                            poison_label_inds))\n",
    "    "
   ]
  },
  {
   "cell_type": "code",
   "execution_count": 212,
   "metadata": {
    "id": "nprLWVYSlzMe"
   },
   "outputs": [],
   "source": [
    "from collections import defaultdict\n",
    "\n",
    "def sample_dirichlet_train_data(no_participants=num_of_workers, dataset=train_dataset, alpha=0.9, copylist=np.arange(num_of_workers)):\n",
    "    \"\"\"\n",
    "        Input: Number of participants and alpha (param for distribution)\n",
    "        Output: A list of indices denoting data in CIFAR training set.\n",
    "        Requires: dataset_classes, a preprocessed class-indice dictionary.\n",
    "        Sample Method: take a uniformly sampled 10-dimension vector as parameters for\n",
    "        dirichlet distribution to sample number of images in each class.\n",
    "    \"\"\"\n",
    "\n",
    "    dataset_classes = {}\n",
    "    for ind, x in enumerate(dataset):\n",
    "        _, label = x\n",
    "        #if ind in self.params['poison_images'] or ind in self.params['poison_images_test']:\n",
    "        #    continue\n",
    "        if label in dataset_classes:\n",
    "            dataset_classes[label].append(ind)\n",
    "        else:\n",
    "            dataset_classes[label] = [ind]\n",
    "    class_size = len(dataset_classes[0])\n",
    "    per_participant_list = defaultdict(list)\n",
    "    no_classes = len(dataset_classes.keys())\n",
    "\n",
    "    for n in range(no_classes):\n",
    "        random.shuffle(dataset_classes[n])\n",
    "        num_of_non_iid_participants = len(np.unique(copylist))\n",
    "        sampled_probabilities = np.random.dirichlet(\n",
    "            np.array(num_of_non_iid_participants * [alpha]))\n",
    "        new_list = []\n",
    "        for ip in copylist:\n",
    "            #new_list.append(np.random.normal(loc=sampled_probabilities[ip], scale=0.005))\n",
    "            new_list.append(sampled_probabilities[ip])\n",
    "        sampled_probabilities = class_size * np.array(new_list)/np.sum(np.array(new_list))\n",
    "        sigmas = 0.0 * sampled_probabilities\n",
    "        sampled_probabilities = np.random.normal(sampled_probabilities, scale=sigmas)\n",
    "        print(sampled_probabilities)\n",
    "        for user in range(no_participants):\n",
    "            no_imgs = int(round(sampled_probabilities[user]))\n",
    "            sampled_list = dataset_classes[n][:min(len(dataset_classes[n]), no_imgs)]\n",
    "            per_participant_list[user].extend(sampled_list)\n",
    "            dataset_classes[n] = dataset_classes[n][min(len(dataset_classes[n]), no_imgs):]\n",
    "\n",
    "    return per_participant_list"
   ]
  },
  {
   "cell_type": "code",
   "execution_count": 213,
   "metadata": {
    "colab": {
     "base_uri": "https://localhost:8080/"
    },
    "id": "eoJhvrcTwY6O",
    "outputId": "68bbf02a-521b-49df-d5f8-bf85c527128b"
   },
   "outputs": [
    {
     "name": "stdout",
     "output_type": "stream",
     "text": [
      "[  50.81026812  262.40832255 1536.8264067    50.81026812   43.14852882\n",
      "  254.43312701  416.31437191   43.14852882  240.79498747   74.76699118\n",
      "   16.98735249  742.91521501   50.81026812  416.31437191   43.14852882\n",
      " 1536.8264067    74.76699118   50.81026812   50.81026812   43.14852882]\n",
      "[121.14146942  83.75702352  90.35967224 121.14146942  78.16390332\n",
      " 533.24036135 683.19270577  78.16390332  70.22352155 887.01465677\n",
      " 593.99274027 479.2893234  121.14146942 683.19270577  78.16390332\n",
      "  90.35967224 887.01465677 121.14146942 121.14146942  78.16390332]\n",
      "[ 486.80873901  135.32997922   20.10717833  486.80873901  125.37496766\n",
      "  247.5019579    19.83893997  125.37496766   88.73036264  398.54007495\n",
      "   94.18401104 1621.73773697  486.80873901   19.83893997  125.37496766\n",
      "   20.10717833  398.54007495  486.80873901  486.80873901  125.37496766]\n",
      "[ 44.47420468 546.81933397 968.80960227  44.47420468 509.11158534\n",
      "  68.02734858 468.4241873  509.11158534  27.19291867  70.16707406\n",
      "  72.99377653  11.34753023  44.47420468 468.4241873  509.11158534\n",
      " 968.80960227  70.16707406  44.47420468  44.47420468 509.11158534]\n",
      "[ 96.08029132 678.47857589  45.43380249  96.08029132 460.92262813\n",
      " 129.68344284 417.31402715 460.92262813 716.39094688 482.78837497\n",
      "  91.21484685 169.06780922  96.08029132 417.31402715 460.92262813\n",
      "  45.43380249 482.78837497  96.08029132  96.08029132 460.92262813]\n",
      "[475.03517599  54.3879058  166.59591077 475.03517599  24.48485637\n",
      " 348.38744687 962.74906972  24.48485637 460.09787111  86.15375295\n",
      " 176.9843829   56.02962102 475.03517599 962.74906972  24.48485637\n",
      " 166.59591077  86.15375295 475.03517599 475.03517599  24.48485637]\n",
      "[  88.32700309  489.53720587  284.49357143   88.32700309  340.91214997\n",
      "  119.47201066 1181.45606959  340.91214997   77.44731113  149.76989177\n",
      "    6.00706314  270.81372828   88.32700309 1181.45606959  340.91214997\n",
      "  284.49357143  149.76989177   88.32700309   88.32700309  340.91214997]\n",
      "[ 75.88140805 762.77073641 395.30755605  75.88140805 256.23411117\n",
      " 394.29823521 753.33923369 256.23411117  16.16781723 225.1572629\n",
      " 183.03612608 491.77549486  75.88140805 753.33923369 256.23411117\n",
      " 395.30755605 225.1572629   75.88140805  75.88140805 256.23411117]\n",
      "[2.85307296e+02 1.60350629e+03 1.38898047e+00 2.85307296e+02\n",
      " 7.44767671e+01 4.76735838e+02 1.25003152e+01 7.44767671e+01\n",
      " 7.98530863e+02 5.71413216e+02 1.71089856e+02 5.50885846e+01\n",
      " 2.85307296e+02 1.25003152e+01 7.44767671e+01 1.38898047e+00\n",
      " 5.71413216e+02 2.85307296e+02 2.85307296e+02 7.44767671e+01]\n",
      "[199.22786945 310.10542123  72.64551979 199.22786945 530.78511409\n",
      " 102.80648695 438.48061436 530.78511409  35.69004433 634.31130013\n",
      "  67.05965414  74.1837212  199.22786945 438.48061436 530.78511409\n",
      "  72.64551979 634.31130013 199.22786945 199.22786945 530.78511409]\n",
      "[[(-1, 0, <torch.utils.data.dataloader.DataLoader object at 0x000001C2E165C808>), (-1, 1, <torch.utils.data.dataloader.DataLoader object at 0x000001C2E165C588>), (-1, 2, <torch.utils.data.dataloader.DataLoader object at 0x000001C2E165C548>), (-1, 3, <torch.utils.data.dataloader.DataLoader object at 0x000001C2E165C748>), (-1, 4, <torch.utils.data.dataloader.DataLoader object at 0x000001C2E165C608>), (-1, 5, <torch.utils.data.dataloader.DataLoader object at 0x000001C2E164C488>), (-1, 6, <torch.utils.data.dataloader.DataLoader object at 0x000001C2E164CC88>), (-1, 7, <torch.utils.data.dataloader.DataLoader object at 0x000001C2E164CDC8>), (-1, 8, <torch.utils.data.dataloader.DataLoader object at 0x000001C2E164CF88>), (-1, 9, <torch.utils.data.dataloader.DataLoader object at 0x000001C2E164C748>), (-1, 10, <torch.utils.data.dataloader.DataLoader object at 0x000001C2E164CE88>), (-1, 11, <torch.utils.data.dataloader.DataLoader object at 0x000001C2E164C708>), (-1, 12, <torch.utils.data.dataloader.DataLoader object at 0x000001C2E7E9D2C8>), (-1, 13, <torch.utils.data.dataloader.DataLoader object at 0x000001C2E7E9DB88>), (-1, 14, <torch.utils.data.dataloader.DataLoader object at 0x000001C2E7E9D308>), (-1, 15, <torch.utils.data.dataloader.DataLoader object at 0x000001C2E7E9D708>), (-1, 16, <torch.utils.data.dataloader.DataLoader object at 0x000001C2E7E9D488>), (-1, 17, <torch.utils.data.dataloader.DataLoader object at 0x000001C2E7E9D988>), (-1, 18, <torch.utils.data.dataloader.DataLoader object at 0x000001C2E7E9DD48>), (-1, 19, <torch.utils.data.dataloader.DataLoader object at 0x000001C2E7E9DD08>)], [(-1, 0, <torch.utils.data.dataloader.DataLoader object at 0x000001C2E165C808>), (-1, 1, <torch.utils.data.dataloader.DataLoader object at 0x000001C2E165C588>), (-1, 2, <torch.utils.data.dataloader.DataLoader object at 0x000001C2E165C548>), (-1, 3, <torch.utils.data.dataloader.DataLoader object at 0x000001C2E165C748>), (-1, 4, <torch.utils.data.dataloader.DataLoader object at 0x000001C2E165C608>), (-1, 5, <torch.utils.data.dataloader.DataLoader object at 0x000001C2E164C488>), (-1, 6, <torch.utils.data.dataloader.DataLoader object at 0x000001C2E164CC88>), (-1, 7, <torch.utils.data.dataloader.DataLoader object at 0x000001C2E164CDC8>), (-1, 8, <torch.utils.data.dataloader.DataLoader object at 0x000001C2E164CF88>), (-1, 9, <torch.utils.data.dataloader.DataLoader object at 0x000001C2E164C748>), (-1, 10, <torch.utils.data.dataloader.DataLoader object at 0x000001C2E164CE88>), (-1, 11, <torch.utils.data.dataloader.DataLoader object at 0x000001C2E164C708>), (-1, 12, <torch.utils.data.dataloader.DataLoader object at 0x000001C2E7E9D2C8>), (-1, 13, <torch.utils.data.dataloader.DataLoader object at 0x000001C2E7E9DB88>), (-1, 14, <torch.utils.data.dataloader.DataLoader object at 0x000001C2E7E9D308>), (-1, 15, <torch.utils.data.dataloader.DataLoader object at 0x000001C2E7E9D708>), (-1, 16, <torch.utils.data.dataloader.DataLoader object at 0x000001C2E7E9D488>), (-1, 17, <torch.utils.data.dataloader.DataLoader object at 0x000001C2E7E9D988>), (-1, 18, <torch.utils.data.dataloader.DataLoader object at 0x000001C2E7E9DD48>), (-1, 19, <torch.utils.data.dataloader.DataLoader object at 0x000001C2E7E9DD08>)], [(-1, 0, <torch.utils.data.dataloader.DataLoader object at 0x000001C2E165C808>), (-1, 1, <torch.utils.data.dataloader.DataLoader object at 0x000001C2E165C588>), (-1, 2, <torch.utils.data.dataloader.DataLoader object at 0x000001C2E165C548>), (-1, 3, <torch.utils.data.dataloader.DataLoader object at 0x000001C2E165C748>), (-1, 4, <torch.utils.data.dataloader.DataLoader object at 0x000001C2E165C608>), (-1, 5, <torch.utils.data.dataloader.DataLoader object at 0x000001C2E164C488>), (-1, 6, <torch.utils.data.dataloader.DataLoader object at 0x000001C2E164CC88>), (-1, 7, <torch.utils.data.dataloader.DataLoader object at 0x000001C2E164CDC8>), (-1, 8, <torch.utils.data.dataloader.DataLoader object at 0x000001C2E164CF88>), (-1, 9, <torch.utils.data.dataloader.DataLoader object at 0x000001C2E164C748>), (-1, 10, <torch.utils.data.dataloader.DataLoader object at 0x000001C2E164CE88>), (-1, 11, <torch.utils.data.dataloader.DataLoader object at 0x000001C2E164C708>), (-1, 12, <torch.utils.data.dataloader.DataLoader object at 0x000001C2E7E9D2C8>), (-1, 13, <torch.utils.data.dataloader.DataLoader object at 0x000001C2E7E9DB88>), (-1, 14, <torch.utils.data.dataloader.DataLoader object at 0x000001C2E7E9D308>), (-1, 15, <torch.utils.data.dataloader.DataLoader object at 0x000001C2E7E9D708>), (-1, 16, <torch.utils.data.dataloader.DataLoader object at 0x000001C2E7E9D488>), (-1, 17, <torch.utils.data.dataloader.DataLoader object at 0x000001C2E7E9D988>), (-1, 18, <torch.utils.data.dataloader.DataLoader object at 0x000001C2E7E9DD48>), (-1, 19, <torch.utils.data.dataloader.DataLoader object at 0x000001C2E7E9DD08>)], [(-1, 0, <torch.utils.data.dataloader.DataLoader object at 0x000001C2E165C808>), (-1, 1, <torch.utils.data.dataloader.DataLoader object at 0x000001C2E165C588>), (-1, 2, <torch.utils.data.dataloader.DataLoader object at 0x000001C2E165C548>), (-1, 3, <torch.utils.data.dataloader.DataLoader object at 0x000001C2E165C748>), (-1, 4, <torch.utils.data.dataloader.DataLoader object at 0x000001C2E165C608>), (-1, 5, <torch.utils.data.dataloader.DataLoader object at 0x000001C2E164C488>), (-1, 6, <torch.utils.data.dataloader.DataLoader object at 0x000001C2E164CC88>), (-1, 7, <torch.utils.data.dataloader.DataLoader object at 0x000001C2E164CDC8>), (-1, 8, <torch.utils.data.dataloader.DataLoader object at 0x000001C2E164CF88>), (-1, 9, <torch.utils.data.dataloader.DataLoader object at 0x000001C2E164C748>), (-1, 10, <torch.utils.data.dataloader.DataLoader object at 0x000001C2E164CE88>), (-1, 11, <torch.utils.data.dataloader.DataLoader object at 0x000001C2E164C708>), (-1, 12, <torch.utils.data.dataloader.DataLoader object at 0x000001C2E7E9D2C8>), (-1, 13, <torch.utils.data.dataloader.DataLoader object at 0x000001C2E7E9DB88>), (-1, 14, <torch.utils.data.dataloader.DataLoader object at 0x000001C2E7E9D308>), (-1, 15, <torch.utils.data.dataloader.DataLoader object at 0x000001C2E7E9D708>), (-1, 16, <torch.utils.data.dataloader.DataLoader object at 0x000001C2E7E9D488>), (-1, 17, <torch.utils.data.dataloader.DataLoader object at 0x000001C2E7E9D988>), (-1, 18, <torch.utils.data.dataloader.DataLoader object at 0x000001C2E7E9DD48>), (-1, 19, <torch.utils.data.dataloader.DataLoader object at 0x000001C2E7E9DD08>)], [(-1, 0, <torch.utils.data.dataloader.DataLoader object at 0x000001C2E165C808>), (-1, 1, <torch.utils.data.dataloader.DataLoader object at 0x000001C2E165C588>), (-1, 2, <torch.utils.data.dataloader.DataLoader object at 0x000001C2E165C548>), (-1, 3, <torch.utils.data.dataloader.DataLoader object at 0x000001C2E165C748>), (-1, 4, <torch.utils.data.dataloader.DataLoader object at 0x000001C2E165C608>), (-1, 5, <torch.utils.data.dataloader.DataLoader object at 0x000001C2E164C488>), (-1, 6, <torch.utils.data.dataloader.DataLoader object at 0x000001C2E164CC88>), (-1, 7, <torch.utils.data.dataloader.DataLoader object at 0x000001C2E164CDC8>), (-1, 8, <torch.utils.data.dataloader.DataLoader object at 0x000001C2E164CF88>), (-1, 9, <torch.utils.data.dataloader.DataLoader object at 0x000001C2E164C748>), (-1, 10, <torch.utils.data.dataloader.DataLoader object at 0x000001C2E164CE88>), (-1, 11, <torch.utils.data.dataloader.DataLoader object at 0x000001C2E164C708>), (-1, 12, <torch.utils.data.dataloader.DataLoader object at 0x000001C2E7E9D2C8>), (-1, 13, <torch.utils.data.dataloader.DataLoader object at 0x000001C2E7E9DB88>), (-1, 14, <torch.utils.data.dataloader.DataLoader object at 0x000001C2E7E9D308>), (-1, 15, <torch.utils.data.dataloader.DataLoader object at 0x000001C2E7E9D708>), (-1, 16, <torch.utils.data.dataloader.DataLoader object at 0x000001C2E7E9D488>), (-1, 17, <torch.utils.data.dataloader.DataLoader object at 0x000001C2E7E9D988>), (-1, 18, <torch.utils.data.dataloader.DataLoader object at 0x000001C2E7E9DD48>), (-1, 19, <torch.utils.data.dataloader.DataLoader object at 0x000001C2E7E9DD08>)], [(-1, 0, <torch.utils.data.dataloader.DataLoader object at 0x000001C2E165C808>), (-1, 1, <torch.utils.data.dataloader.DataLoader object at 0x000001C2E165C588>), (-1, 2, <torch.utils.data.dataloader.DataLoader object at 0x000001C2E165C548>), (-1, 3, <torch.utils.data.dataloader.DataLoader object at 0x000001C2E165C748>), (-1, 4, <torch.utils.data.dataloader.DataLoader object at 0x000001C2E165C608>), (-1, 5, <torch.utils.data.dataloader.DataLoader object at 0x000001C2E164C488>), (-1, 6, <torch.utils.data.dataloader.DataLoader object at 0x000001C2E164CC88>), (-1, 7, <torch.utils.data.dataloader.DataLoader object at 0x000001C2E164CDC8>), (-1, 8, <torch.utils.data.dataloader.DataLoader object at 0x000001C2E164CF88>), (-1, 9, <torch.utils.data.dataloader.DataLoader object at 0x000001C2E164C748>), (-1, 10, <torch.utils.data.dataloader.DataLoader object at 0x000001C2E164CE88>), (-1, 11, <torch.utils.data.dataloader.DataLoader object at 0x000001C2E164C708>), (-1, 12, <torch.utils.data.dataloader.DataLoader object at 0x000001C2E7E9D2C8>), (-1, 13, <torch.utils.data.dataloader.DataLoader object at 0x000001C2E7E9DB88>), (-1, 14, <torch.utils.data.dataloader.DataLoader object at 0x000001C2E7E9D308>), (-1, 15, <torch.utils.data.dataloader.DataLoader object at 0x000001C2E7E9D708>), (-1, 16, <torch.utils.data.dataloader.DataLoader object at 0x000001C2E7E9D488>), (-1, 17, <torch.utils.data.dataloader.DataLoader object at 0x000001C2E7E9D988>), (-1, 18, <torch.utils.data.dataloader.DataLoader object at 0x000001C2E7E9DD48>), (-1, 19, <torch.utils.data.dataloader.DataLoader object at 0x000001C2E7E9DD08>)], [(-1, 0, <torch.utils.data.dataloader.DataLoader object at 0x000001C2E165C808>), (-1, 1, <torch.utils.data.dataloader.DataLoader object at 0x000001C2E165C588>), (-1, 2, <torch.utils.data.dataloader.DataLoader object at 0x000001C2E165C548>), (-1, 3, <torch.utils.data.dataloader.DataLoader object at 0x000001C2E165C748>), (-1, 4, <torch.utils.data.dataloader.DataLoader object at 0x000001C2E165C608>), (-1, 5, <torch.utils.data.dataloader.DataLoader object at 0x000001C2E164C488>), (-1, 6, <torch.utils.data.dataloader.DataLoader object at 0x000001C2E164CC88>), (-1, 7, <torch.utils.data.dataloader.DataLoader object at 0x000001C2E164CDC8>), (-1, 8, <torch.utils.data.dataloader.DataLoader object at 0x000001C2E164CF88>), (-1, 9, <torch.utils.data.dataloader.DataLoader object at 0x000001C2E164C748>), (-1, 10, <torch.utils.data.dataloader.DataLoader object at 0x000001C2E164CE88>), (-1, 11, <torch.utils.data.dataloader.DataLoader object at 0x000001C2E164C708>), (-1, 12, <torch.utils.data.dataloader.DataLoader object at 0x000001C2E7E9D2C8>), (-1, 13, <torch.utils.data.dataloader.DataLoader object at 0x000001C2E7E9DB88>), (-1, 14, <torch.utils.data.dataloader.DataLoader object at 0x000001C2E7E9D308>), (-1, 15, <torch.utils.data.dataloader.DataLoader object at 0x000001C2E7E9D708>), (-1, 16, <torch.utils.data.dataloader.DataLoader object at 0x000001C2E7E9D488>), (-1, 17, <torch.utils.data.dataloader.DataLoader object at 0x000001C2E7E9D988>), (-1, 18, <torch.utils.data.dataloader.DataLoader object at 0x000001C2E7E9DD48>), (-1, 19, <torch.utils.data.dataloader.DataLoader object at 0x000001C2E7E9DD08>)], [(-1, 0, <torch.utils.data.dataloader.DataLoader object at 0x000001C2E165C808>), (-1, 1, <torch.utils.data.dataloader.DataLoader object at 0x000001C2E165C588>), (-1, 2, <torch.utils.data.dataloader.DataLoader object at 0x000001C2E165C548>), (-1, 3, <torch.utils.data.dataloader.DataLoader object at 0x000001C2E165C748>), (-1, 4, <torch.utils.data.dataloader.DataLoader object at 0x000001C2E165C608>), (-1, 5, <torch.utils.data.dataloader.DataLoader object at 0x000001C2E164C488>), (-1, 6, <torch.utils.data.dataloader.DataLoader object at 0x000001C2E164CC88>), (-1, 7, <torch.utils.data.dataloader.DataLoader object at 0x000001C2E164CDC8>), (-1, 8, <torch.utils.data.dataloader.DataLoader object at 0x000001C2E164CF88>), (-1, 9, <torch.utils.data.dataloader.DataLoader object at 0x000001C2E164C748>), (-1, 10, <torch.utils.data.dataloader.DataLoader object at 0x000001C2E164CE88>), (-1, 11, <torch.utils.data.dataloader.DataLoader object at 0x000001C2E164C708>), (-1, 12, <torch.utils.data.dataloader.DataLoader object at 0x000001C2E7E9D2C8>), (-1, 13, <torch.utils.data.dataloader.DataLoader object at 0x000001C2E7E9DB88>), (-1, 14, <torch.utils.data.dataloader.DataLoader object at 0x000001C2E7E9D308>), (-1, 15, <torch.utils.data.dataloader.DataLoader object at 0x000001C2E7E9D708>), (-1, 16, <torch.utils.data.dataloader.DataLoader object at 0x000001C2E7E9D488>), (-1, 17, <torch.utils.data.dataloader.DataLoader object at 0x000001C2E7E9D988>), (-1, 18, <torch.utils.data.dataloader.DataLoader object at 0x000001C2E7E9DD48>), (-1, 19, <torch.utils.data.dataloader.DataLoader object at 0x000001C2E7E9DD08>)], [(-1, 0, <torch.utils.data.dataloader.DataLoader object at 0x000001C2E165C808>), (-1, 1, <torch.utils.data.dataloader.DataLoader object at 0x000001C2E165C588>), (-1, 2, <torch.utils.data.dataloader.DataLoader object at 0x000001C2E165C548>), (-1, 3, <torch.utils.data.dataloader.DataLoader object at 0x000001C2E165C748>), (-1, 4, <torch.utils.data.dataloader.DataLoader object at 0x000001C2E165C608>), (-1, 5, <torch.utils.data.dataloader.DataLoader object at 0x000001C2E164C488>), (-1, 6, <torch.utils.data.dataloader.DataLoader object at 0x000001C2E164CC88>), (-1, 7, <torch.utils.data.dataloader.DataLoader object at 0x000001C2E164CDC8>), (-1, 8, <torch.utils.data.dataloader.DataLoader object at 0x000001C2E164CF88>), (-1, 9, <torch.utils.data.dataloader.DataLoader object at 0x000001C2E164C748>), (-1, 10, <torch.utils.data.dataloader.DataLoader object at 0x000001C2E164CE88>), (-1, 11, <torch.utils.data.dataloader.DataLoader object at 0x000001C2E164C708>), (-1, 12, <torch.utils.data.dataloader.DataLoader object at 0x000001C2E7E9D2C8>), (-1, 13, <torch.utils.data.dataloader.DataLoader object at 0x000001C2E7E9DB88>), (-1, 14, <torch.utils.data.dataloader.DataLoader object at 0x000001C2E7E9D308>), (-1, 15, <torch.utils.data.dataloader.DataLoader object at 0x000001C2E7E9D708>), (-1, 16, <torch.utils.data.dataloader.DataLoader object at 0x000001C2E7E9D488>), (-1, 17, <torch.utils.data.dataloader.DataLoader object at 0x000001C2E7E9D988>), (-1, 18, <torch.utils.data.dataloader.DataLoader object at 0x000001C2E7E9DD48>), (-1, 19, <torch.utils.data.dataloader.DataLoader object at 0x000001C2E7E9DD08>)], [(-1, 0, <torch.utils.data.dataloader.DataLoader object at 0x000001C2E165C808>), (-1, 1, <torch.utils.data.dataloader.DataLoader object at 0x000001C2E165C588>), (-1, 2, <torch.utils.data.dataloader.DataLoader object at 0x000001C2E165C548>), (-1, 3, <torch.utils.data.dataloader.DataLoader object at 0x000001C2E165C748>), (-1, 4, <torch.utils.data.dataloader.DataLoader object at 0x000001C2E165C608>), (-1, 5, <torch.utils.data.dataloader.DataLoader object at 0x000001C2E164C488>), (-1, 6, <torch.utils.data.dataloader.DataLoader object at 0x000001C2E164CC88>), (-1, 7, <torch.utils.data.dataloader.DataLoader object at 0x000001C2E164CDC8>), (-1, 8, <torch.utils.data.dataloader.DataLoader object at 0x000001C2E164CF88>), (-1, 9, <torch.utils.data.dataloader.DataLoader object at 0x000001C2E164C748>), (-1, 10, <torch.utils.data.dataloader.DataLoader object at 0x000001C2E164CE88>), (-1, 11, <torch.utils.data.dataloader.DataLoader object at 0x000001C2E164C708>), (-1, 12, <torch.utils.data.dataloader.DataLoader object at 0x000001C2E7E9D2C8>), (-1, 13, <torch.utils.data.dataloader.DataLoader object at 0x000001C2E7E9DB88>), (-1, 14, <torch.utils.data.dataloader.DataLoader object at 0x000001C2E7E9D308>), (-1, 15, <torch.utils.data.dataloader.DataLoader object at 0x000001C2E7E9D708>), (-1, 16, <torch.utils.data.dataloader.DataLoader object at 0x000001C2E7E9D488>), (-1, 17, <torch.utils.data.dataloader.DataLoader object at 0x000001C2E7E9D988>), (-1, 18, <torch.utils.data.dataloader.DataLoader object at 0x000001C2E7E9DD48>), (-1, 19, <torch.utils.data.dataloader.DataLoader object at 0x000001C2E7E9DD08>)], [(-1, 0, <torch.utils.data.dataloader.DataLoader object at 0x000001C2E165C808>), (-1, 1, <torch.utils.data.dataloader.DataLoader object at 0x000001C2E165C588>), (-1, 2, <torch.utils.data.dataloader.DataLoader object at 0x000001C2E165C548>), (-1, 3, <torch.utils.data.dataloader.DataLoader object at 0x000001C2E165C748>), (-1, 4, <torch.utils.data.dataloader.DataLoader object at 0x000001C2E165C608>), (-1, 5, <torch.utils.data.dataloader.DataLoader object at 0x000001C2E164C488>), (-1, 6, <torch.utils.data.dataloader.DataLoader object at 0x000001C2E164CC88>), (-1, 7, <torch.utils.data.dataloader.DataLoader object at 0x000001C2E164CDC8>), (-1, 8, <torch.utils.data.dataloader.DataLoader object at 0x000001C2E164CF88>), (-1, 9, <torch.utils.data.dataloader.DataLoader object at 0x000001C2E164C748>), (-1, 10, <torch.utils.data.dataloader.DataLoader object at 0x000001C2E164CE88>), (-1, 11, <torch.utils.data.dataloader.DataLoader object at 0x000001C2E164C708>), (-1, 12, <torch.utils.data.dataloader.DataLoader object at 0x000001C2E7E9D2C8>), (-1, 13, <torch.utils.data.dataloader.DataLoader object at 0x000001C2E7E9DB88>), (-1, 14, <torch.utils.data.dataloader.DataLoader object at 0x000001C2E7E9D308>), (-1, 15, <torch.utils.data.dataloader.DataLoader object at 0x000001C2E7E9D708>), (-1, 16, <torch.utils.data.dataloader.DataLoader object at 0x000001C2E7E9D488>), (-1, 17, <torch.utils.data.dataloader.DataLoader object at 0x000001C2E7E9D988>), (-1, 18, <torch.utils.data.dataloader.DataLoader object at 0x000001C2E7E9DD48>), (-1, 19, <torch.utils.data.dataloader.DataLoader object at 0x000001C2E7E9DD08>)], [(-1, 0, <torch.utils.data.dataloader.DataLoader object at 0x000001C2E165C808>), (-1, 1, <torch.utils.data.dataloader.DataLoader object at 0x000001C2E165C588>), (-1, 2, <torch.utils.data.dataloader.DataLoader object at 0x000001C2E165C548>), (-1, 3, <torch.utils.data.dataloader.DataLoader object at 0x000001C2E165C748>), (-1, 4, <torch.utils.data.dataloader.DataLoader object at 0x000001C2E165C608>), (-1, 5, <torch.utils.data.dataloader.DataLoader object at 0x000001C2E164C488>), (-1, 6, <torch.utils.data.dataloader.DataLoader object at 0x000001C2E164CC88>), (-1, 7, <torch.utils.data.dataloader.DataLoader object at 0x000001C2E164CDC8>), (-1, 8, <torch.utils.data.dataloader.DataLoader object at 0x000001C2E164CF88>), (-1, 9, <torch.utils.data.dataloader.DataLoader object at 0x000001C2E164C748>), (-1, 10, <torch.utils.data.dataloader.DataLoader object at 0x000001C2E164CE88>), (-1, 11, <torch.utils.data.dataloader.DataLoader object at 0x000001C2E164C708>), (-1, 12, <torch.utils.data.dataloader.DataLoader object at 0x000001C2E7E9D2C8>), (-1, 13, <torch.utils.data.dataloader.DataLoader object at 0x000001C2E7E9DB88>), (-1, 14, <torch.utils.data.dataloader.DataLoader object at 0x000001C2E7E9D308>), (-1, 15, <torch.utils.data.dataloader.DataLoader object at 0x000001C2E7E9D708>), (-1, 16, <torch.utils.data.dataloader.DataLoader object at 0x000001C2E7E9D488>), (-1, 17, <torch.utils.data.dataloader.DataLoader object at 0x000001C2E7E9D988>), (-1, 18, <torch.utils.data.dataloader.DataLoader object at 0x000001C2E7E9DD48>), (-1, 19, <torch.utils.data.dataloader.DataLoader object at 0x000001C2E7E9DD08>)], [(-1, 0, <torch.utils.data.dataloader.DataLoader object at 0x000001C2E165C808>), (-1, 1, <torch.utils.data.dataloader.DataLoader object at 0x000001C2E165C588>), (-1, 2, <torch.utils.data.dataloader.DataLoader object at 0x000001C2E165C548>), (-1, 3, <torch.utils.data.dataloader.DataLoader object at 0x000001C2E165C748>), (-1, 4, <torch.utils.data.dataloader.DataLoader object at 0x000001C2E165C608>), (-1, 5, <torch.utils.data.dataloader.DataLoader object at 0x000001C2E164C488>), (-1, 6, <torch.utils.data.dataloader.DataLoader object at 0x000001C2E164CC88>), (-1, 7, <torch.utils.data.dataloader.DataLoader object at 0x000001C2E164CDC8>), (-1, 8, <torch.utils.data.dataloader.DataLoader object at 0x000001C2E164CF88>), (-1, 9, <torch.utils.data.dataloader.DataLoader object at 0x000001C2E164C748>), (-1, 10, <torch.utils.data.dataloader.DataLoader object at 0x000001C2E164CE88>), (-1, 11, <torch.utils.data.dataloader.DataLoader object at 0x000001C2E164C708>), (-1, 12, <torch.utils.data.dataloader.DataLoader object at 0x000001C2E7E9D2C8>), (-1, 13, <torch.utils.data.dataloader.DataLoader object at 0x000001C2E7E9DB88>), (-1, 14, <torch.utils.data.dataloader.DataLoader object at 0x000001C2E7E9D308>), (-1, 15, <torch.utils.data.dataloader.DataLoader object at 0x000001C2E7E9D708>), (-1, 16, <torch.utils.data.dataloader.DataLoader object at 0x000001C2E7E9D488>), (-1, 17, <torch.utils.data.dataloader.DataLoader object at 0x000001C2E7E9D988>), (-1, 18, <torch.utils.data.dataloader.DataLoader object at 0x000001C2E7E9DD48>), (-1, 19, <torch.utils.data.dataloader.DataLoader object at 0x000001C2E7E9DD08>)], [(-1, 0, <torch.utils.data.dataloader.DataLoader object at 0x000001C2E165C808>), (-1, 1, <torch.utils.data.dataloader.DataLoader object at 0x000001C2E165C588>), (-1, 2, <torch.utils.data.dataloader.DataLoader object at 0x000001C2E165C548>), (-1, 3, <torch.utils.data.dataloader.DataLoader object at 0x000001C2E165C748>), (-1, 4, <torch.utils.data.dataloader.DataLoader object at 0x000001C2E165C608>), (-1, 5, <torch.utils.data.dataloader.DataLoader object at 0x000001C2E164C488>), (-1, 6, <torch.utils.data.dataloader.DataLoader object at 0x000001C2E164CC88>), (-1, 7, <torch.utils.data.dataloader.DataLoader object at 0x000001C2E164CDC8>), (-1, 8, <torch.utils.data.dataloader.DataLoader object at 0x000001C2E164CF88>), (-1, 9, <torch.utils.data.dataloader.DataLoader object at 0x000001C2E164C748>), (-1, 10, <torch.utils.data.dataloader.DataLoader object at 0x000001C2E164CE88>), (-1, 11, <torch.utils.data.dataloader.DataLoader object at 0x000001C2E164C708>), (-1, 12, <torch.utils.data.dataloader.DataLoader object at 0x000001C2E7E9D2C8>), (-1, 13, <torch.utils.data.dataloader.DataLoader object at 0x000001C2E7E9DB88>), (-1, 14, <torch.utils.data.dataloader.DataLoader object at 0x000001C2E7E9D308>), (-1, 15, <torch.utils.data.dataloader.DataLoader object at 0x000001C2E7E9D708>), (-1, 16, <torch.utils.data.dataloader.DataLoader object at 0x000001C2E7E9D488>), (-1, 17, <torch.utils.data.dataloader.DataLoader object at 0x000001C2E7E9D988>), (-1, 18, <torch.utils.data.dataloader.DataLoader object at 0x000001C2E7E9DD48>), (-1, 19, <torch.utils.data.dataloader.DataLoader object at 0x000001C2E7E9DD08>)], [(-1, 0, <torch.utils.data.dataloader.DataLoader object at 0x000001C2E165C808>), (-1, 1, <torch.utils.data.dataloader.DataLoader object at 0x000001C2E165C588>), (-1, 2, <torch.utils.data.dataloader.DataLoader object at 0x000001C2E165C548>), (-1, 3, <torch.utils.data.dataloader.DataLoader object at 0x000001C2E165C748>), (-1, 4, <torch.utils.data.dataloader.DataLoader object at 0x000001C2E165C608>), (-1, 5, <torch.utils.data.dataloader.DataLoader object at 0x000001C2E164C488>), (-1, 6, <torch.utils.data.dataloader.DataLoader object at 0x000001C2E164CC88>), (-1, 7, <torch.utils.data.dataloader.DataLoader object at 0x000001C2E164CDC8>), (-1, 8, <torch.utils.data.dataloader.DataLoader object at 0x000001C2E164CF88>), (-1, 9, <torch.utils.data.dataloader.DataLoader object at 0x000001C2E164C748>), (-1, 10, <torch.utils.data.dataloader.DataLoader object at 0x000001C2E164CE88>), (-1, 11, <torch.utils.data.dataloader.DataLoader object at 0x000001C2E164C708>), (-1, 12, <torch.utils.data.dataloader.DataLoader object at 0x000001C2E7E9D2C8>), (-1, 13, <torch.utils.data.dataloader.DataLoader object at 0x000001C2E7E9DB88>), (-1, 14, <torch.utils.data.dataloader.DataLoader object at 0x000001C2E7E9D308>), (-1, 15, <torch.utils.data.dataloader.DataLoader object at 0x000001C2E7E9D708>), (-1, 16, <torch.utils.data.dataloader.DataLoader object at 0x000001C2E7E9D488>), (-1, 17, <torch.utils.data.dataloader.DataLoader object at 0x000001C2E7E9D988>), (-1, 18, <torch.utils.data.dataloader.DataLoader object at 0x000001C2E7E9DD48>), (-1, 19, <torch.utils.data.dataloader.DataLoader object at 0x000001C2E7E9DD08>)], [(-1, 0, <torch.utils.data.dataloader.DataLoader object at 0x000001C2E165C808>), (-1, 1, <torch.utils.data.dataloader.DataLoader object at 0x000001C2E165C588>), (-1, 2, <torch.utils.data.dataloader.DataLoader object at 0x000001C2E165C548>), (-1, 3, <torch.utils.data.dataloader.DataLoader object at 0x000001C2E165C748>), (-1, 4, <torch.utils.data.dataloader.DataLoader object at 0x000001C2E165C608>), (-1, 5, <torch.utils.data.dataloader.DataLoader object at 0x000001C2E164C488>), (-1, 6, <torch.utils.data.dataloader.DataLoader object at 0x000001C2E164CC88>), (-1, 7, <torch.utils.data.dataloader.DataLoader object at 0x000001C2E164CDC8>), (-1, 8, <torch.utils.data.dataloader.DataLoader object at 0x000001C2E164CF88>), (-1, 9, <torch.utils.data.dataloader.DataLoader object at 0x000001C2E164C748>), (-1, 10, <torch.utils.data.dataloader.DataLoader object at 0x000001C2E164CE88>), (-1, 11, <torch.utils.data.dataloader.DataLoader object at 0x000001C2E164C708>), (-1, 12, <torch.utils.data.dataloader.DataLoader object at 0x000001C2E7E9D2C8>), (-1, 13, <torch.utils.data.dataloader.DataLoader object at 0x000001C2E7E9DB88>), (-1, 14, <torch.utils.data.dataloader.DataLoader object at 0x000001C2E7E9D308>), (-1, 15, <torch.utils.data.dataloader.DataLoader object at 0x000001C2E7E9D708>), (-1, 16, <torch.utils.data.dataloader.DataLoader object at 0x000001C2E7E9D488>), (-1, 17, <torch.utils.data.dataloader.DataLoader object at 0x000001C2E7E9D988>), (-1, 18, <torch.utils.data.dataloader.DataLoader object at 0x000001C2E7E9DD48>), (-1, 19, <torch.utils.data.dataloader.DataLoader object at 0x000001C2E7E9DD08>)], [(-1, 0, <torch.utils.data.dataloader.DataLoader object at 0x000001C2E165C808>), (-1, 1, <torch.utils.data.dataloader.DataLoader object at 0x000001C2E165C588>), (-1, 2, <torch.utils.data.dataloader.DataLoader object at 0x000001C2E165C548>), (-1, 3, <torch.utils.data.dataloader.DataLoader object at 0x000001C2E165C748>), (-1, 4, <torch.utils.data.dataloader.DataLoader object at 0x000001C2E165C608>), (-1, 5, <torch.utils.data.dataloader.DataLoader object at 0x000001C2E164C488>), (-1, 6, <torch.utils.data.dataloader.DataLoader object at 0x000001C2E164CC88>), (-1, 7, <torch.utils.data.dataloader.DataLoader object at 0x000001C2E164CDC8>), (-1, 8, <torch.utils.data.dataloader.DataLoader object at 0x000001C2E164CF88>), (-1, 9, <torch.utils.data.dataloader.DataLoader object at 0x000001C2E164C748>), (-1, 10, <torch.utils.data.dataloader.DataLoader object at 0x000001C2E164CE88>), (-1, 11, <torch.utils.data.dataloader.DataLoader object at 0x000001C2E164C708>), (-1, 12, <torch.utils.data.dataloader.DataLoader object at 0x000001C2E7E9D2C8>), (-1, 13, <torch.utils.data.dataloader.DataLoader object at 0x000001C2E7E9DB88>), (-1, 14, <torch.utils.data.dataloader.DataLoader object at 0x000001C2E7E9D308>), (-1, 15, <torch.utils.data.dataloader.DataLoader object at 0x000001C2E7E9D708>), (-1, 16, <torch.utils.data.dataloader.DataLoader object at 0x000001C2E7E9D488>), (-1, 17, <torch.utils.data.dataloader.DataLoader object at 0x000001C2E7E9D988>), (-1, 18, <torch.utils.data.dataloader.DataLoader object at 0x000001C2E7E9DD48>), (-1, 19, <torch.utils.data.dataloader.DataLoader object at 0x000001C2E7E9DD08>)], [(-1, 0, <torch.utils.data.dataloader.DataLoader object at 0x000001C2E165C808>), (-1, 1, <torch.utils.data.dataloader.DataLoader object at 0x000001C2E165C588>), (-1, 2, <torch.utils.data.dataloader.DataLoader object at 0x000001C2E165C548>), (-1, 3, <torch.utils.data.dataloader.DataLoader object at 0x000001C2E165C748>), (-1, 4, <torch.utils.data.dataloader.DataLoader object at 0x000001C2E165C608>), (-1, 5, <torch.utils.data.dataloader.DataLoader object at 0x000001C2E164C488>), (-1, 6, <torch.utils.data.dataloader.DataLoader object at 0x000001C2E164CC88>), (-1, 7, <torch.utils.data.dataloader.DataLoader object at 0x000001C2E164CDC8>), (-1, 8, <torch.utils.data.dataloader.DataLoader object at 0x000001C2E164CF88>), (-1, 9, <torch.utils.data.dataloader.DataLoader object at 0x000001C2E164C748>), (-1, 10, <torch.utils.data.dataloader.DataLoader object at 0x000001C2E164CE88>), (-1, 11, <torch.utils.data.dataloader.DataLoader object at 0x000001C2E164C708>), (-1, 12, <torch.utils.data.dataloader.DataLoader object at 0x000001C2E7E9D2C8>), (-1, 13, <torch.utils.data.dataloader.DataLoader object at 0x000001C2E7E9DB88>), (-1, 14, <torch.utils.data.dataloader.DataLoader object at 0x000001C2E7E9D308>), (-1, 15, <torch.utils.data.dataloader.DataLoader object at 0x000001C2E7E9D708>), (-1, 16, <torch.utils.data.dataloader.DataLoader object at 0x000001C2E7E9D488>), (-1, 17, <torch.utils.data.dataloader.DataLoader object at 0x000001C2E7E9D988>), (-1, 18, <torch.utils.data.dataloader.DataLoader object at 0x000001C2E7E9DD48>), (-1, 19, <torch.utils.data.dataloader.DataLoader object at 0x000001C2E7E9DD08>)], [(-1, 0, <torch.utils.data.dataloader.DataLoader object at 0x000001C2E165C808>), (-1, 1, <torch.utils.data.dataloader.DataLoader object at 0x000001C2E165C588>), (-1, 2, <torch.utils.data.dataloader.DataLoader object at 0x000001C2E165C548>), (-1, 3, <torch.utils.data.dataloader.DataLoader object at 0x000001C2E165C748>), (-1, 4, <torch.utils.data.dataloader.DataLoader object at 0x000001C2E165C608>), (-1, 5, <torch.utils.data.dataloader.DataLoader object at 0x000001C2E164C488>), (-1, 6, <torch.utils.data.dataloader.DataLoader object at 0x000001C2E164CC88>), (-1, 7, <torch.utils.data.dataloader.DataLoader object at 0x000001C2E164CDC8>), (-1, 8, <torch.utils.data.dataloader.DataLoader object at 0x000001C2E164CF88>), (-1, 9, <torch.utils.data.dataloader.DataLoader object at 0x000001C2E164C748>), (-1, 10, <torch.utils.data.dataloader.DataLoader object at 0x000001C2E164CE88>), (-1, 11, <torch.utils.data.dataloader.DataLoader object at 0x000001C2E164C708>), (-1, 12, <torch.utils.data.dataloader.DataLoader object at 0x000001C2E7E9D2C8>), (-1, 13, <torch.utils.data.dataloader.DataLoader object at 0x000001C2E7E9DB88>), (-1, 14, <torch.utils.data.dataloader.DataLoader object at 0x000001C2E7E9D308>), (-1, 15, <torch.utils.data.dataloader.DataLoader object at 0x000001C2E7E9D708>), (-1, 16, <torch.utils.data.dataloader.DataLoader object at 0x000001C2E7E9D488>), (-1, 17, <torch.utils.data.dataloader.DataLoader object at 0x000001C2E7E9D988>), (-1, 18, <torch.utils.data.dataloader.DataLoader object at 0x000001C2E7E9DD48>), (-1, 19, <torch.utils.data.dataloader.DataLoader object at 0x000001C2E7E9DD08>)], [(-1, 0, <torch.utils.data.dataloader.DataLoader object at 0x000001C2E165C808>), (-1, 1, <torch.utils.data.dataloader.DataLoader object at 0x000001C2E165C588>), (-1, 2, <torch.utils.data.dataloader.DataLoader object at 0x000001C2E165C548>), (-1, 3, <torch.utils.data.dataloader.DataLoader object at 0x000001C2E165C748>), (-1, 4, <torch.utils.data.dataloader.DataLoader object at 0x000001C2E165C608>), (-1, 5, <torch.utils.data.dataloader.DataLoader object at 0x000001C2E164C488>), (-1, 6, <torch.utils.data.dataloader.DataLoader object at 0x000001C2E164CC88>), (-1, 7, <torch.utils.data.dataloader.DataLoader object at 0x000001C2E164CDC8>), (-1, 8, <torch.utils.data.dataloader.DataLoader object at 0x000001C2E164CF88>), (-1, 9, <torch.utils.data.dataloader.DataLoader object at 0x000001C2E164C748>), (-1, 10, <torch.utils.data.dataloader.DataLoader object at 0x000001C2E164CE88>), (-1, 11, <torch.utils.data.dataloader.DataLoader object at 0x000001C2E164C708>), (-1, 12, <torch.utils.data.dataloader.DataLoader object at 0x000001C2E7E9D2C8>), (-1, 13, <torch.utils.data.dataloader.DataLoader object at 0x000001C2E7E9DB88>), (-1, 14, <torch.utils.data.dataloader.DataLoader object at 0x000001C2E7E9D308>), (-1, 15, <torch.utils.data.dataloader.DataLoader object at 0x000001C2E7E9D708>), (-1, 16, <torch.utils.data.dataloader.DataLoader object at 0x000001C2E7E9D488>), (-1, 17, <torch.utils.data.dataloader.DataLoader object at 0x000001C2E7E9D988>), (-1, 18, <torch.utils.data.dataloader.DataLoader object at 0x000001C2E7E9DD48>), (-1, 19, <torch.utils.data.dataloader.DataLoader object at 0x000001C2E7E9DD08>)], [(-1, 0, <torch.utils.data.dataloader.DataLoader object at 0x000001C2E165C808>), (-1, 1, <torch.utils.data.dataloader.DataLoader object at 0x000001C2E165C588>), (-1, 2, <torch.utils.data.dataloader.DataLoader object at 0x000001C2E165C548>), (-1, 3, <torch.utils.data.dataloader.DataLoader object at 0x000001C2E165C748>), (-1, 4, <torch.utils.data.dataloader.DataLoader object at 0x000001C2E165C608>), (-1, 5, <torch.utils.data.dataloader.DataLoader object at 0x000001C2E164C488>), (-1, 6, <torch.utils.data.dataloader.DataLoader object at 0x000001C2E164CC88>), (-1, 7, <torch.utils.data.dataloader.DataLoader object at 0x000001C2E164CDC8>), (-1, 8, <torch.utils.data.dataloader.DataLoader object at 0x000001C2E164CF88>), (-1, 9, <torch.utils.data.dataloader.DataLoader object at 0x000001C2E164C748>), (-1, 10, <torch.utils.data.dataloader.DataLoader object at 0x000001C2E164CE88>), (-1, 11, <torch.utils.data.dataloader.DataLoader object at 0x000001C2E164C708>), (-1, 12, <torch.utils.data.dataloader.DataLoader object at 0x000001C2E7E9D2C8>), (-1, 13, <torch.utils.data.dataloader.DataLoader object at 0x000001C2E7E9DB88>), (-1, 14, <torch.utils.data.dataloader.DataLoader object at 0x000001C2E7E9D308>), (-1, 15, <torch.utils.data.dataloader.DataLoader object at 0x000001C2E7E9D708>), (-1, 16, <torch.utils.data.dataloader.DataLoader object at 0x000001C2E7E9D488>), (-1, 17, <torch.utils.data.dataloader.DataLoader object at 0x000001C2E7E9D988>), (-1, 18, <torch.utils.data.dataloader.DataLoader object at 0x000001C2E7E9DD48>), (-1, 19, <torch.utils.data.dataloader.DataLoader object at 0x000001C2E7E9DD08>)], [(-1, 0, <torch.utils.data.dataloader.DataLoader object at 0x000001C2E165C808>), (-1, 1, <torch.utils.data.dataloader.DataLoader object at 0x000001C2E165C588>), (-1, 2, <torch.utils.data.dataloader.DataLoader object at 0x000001C2E165C548>), (-1, 3, <torch.utils.data.dataloader.DataLoader object at 0x000001C2E165C748>), (-1, 4, <torch.utils.data.dataloader.DataLoader object at 0x000001C2E165C608>), (-1, 5, <torch.utils.data.dataloader.DataLoader object at 0x000001C2E164C488>), (-1, 6, <torch.utils.data.dataloader.DataLoader object at 0x000001C2E164CC88>), (-1, 7, <torch.utils.data.dataloader.DataLoader object at 0x000001C2E164CDC8>), (-1, 8, <torch.utils.data.dataloader.DataLoader object at 0x000001C2E164CF88>), (-1, 9, <torch.utils.data.dataloader.DataLoader object at 0x000001C2E164C748>), (-1, 10, <torch.utils.data.dataloader.DataLoader object at 0x000001C2E164CE88>), (-1, 11, <torch.utils.data.dataloader.DataLoader object at 0x000001C2E164C708>), (-1, 12, <torch.utils.data.dataloader.DataLoader object at 0x000001C2E7E9D2C8>), (-1, 13, <torch.utils.data.dataloader.DataLoader object at 0x000001C2E7E9DB88>), (-1, 14, <torch.utils.data.dataloader.DataLoader object at 0x000001C2E7E9D308>), (-1, 15, <torch.utils.data.dataloader.DataLoader object at 0x000001C2E7E9D708>), (-1, 16, <torch.utils.data.dataloader.DataLoader object at 0x000001C2E7E9D488>), (-1, 17, <torch.utils.data.dataloader.DataLoader object at 0x000001C2E7E9D988>), (-1, 18, <torch.utils.data.dataloader.DataLoader object at 0x000001C2E7E9DD48>), (-1, 19, <torch.utils.data.dataloader.DataLoader object at 0x000001C2E7E9DD08>)], [(-1, 0, <torch.utils.data.dataloader.DataLoader object at 0x000001C2E165C808>), (-1, 1, <torch.utils.data.dataloader.DataLoader object at 0x000001C2E165C588>), (-1, 2, <torch.utils.data.dataloader.DataLoader object at 0x000001C2E165C548>), (-1, 3, <torch.utils.data.dataloader.DataLoader object at 0x000001C2E165C748>), (-1, 4, <torch.utils.data.dataloader.DataLoader object at 0x000001C2E165C608>), (-1, 5, <torch.utils.data.dataloader.DataLoader object at 0x000001C2E164C488>), (-1, 6, <torch.utils.data.dataloader.DataLoader object at 0x000001C2E164CC88>), (-1, 7, <torch.utils.data.dataloader.DataLoader object at 0x000001C2E164CDC8>), (-1, 8, <torch.utils.data.dataloader.DataLoader object at 0x000001C2E164CF88>), (-1, 9, <torch.utils.data.dataloader.DataLoader object at 0x000001C2E164C748>), (-1, 10, <torch.utils.data.dataloader.DataLoader object at 0x000001C2E164CE88>), (-1, 11, <torch.utils.data.dataloader.DataLoader object at 0x000001C2E164C708>), (-1, 12, <torch.utils.data.dataloader.DataLoader object at 0x000001C2E7E9D2C8>), (-1, 13, <torch.utils.data.dataloader.DataLoader object at 0x000001C2E7E9DB88>), (-1, 14, <torch.utils.data.dataloader.DataLoader object at 0x000001C2E7E9D308>), (-1, 15, <torch.utils.data.dataloader.DataLoader object at 0x000001C2E7E9D708>), (-1, 16, <torch.utils.data.dataloader.DataLoader object at 0x000001C2E7E9D488>), (-1, 17, <torch.utils.data.dataloader.DataLoader object at 0x000001C2E7E9D988>), (-1, 18, <torch.utils.data.dataloader.DataLoader object at 0x000001C2E7E9DD48>), (-1, 19, <torch.utils.data.dataloader.DataLoader object at 0x000001C2E7E9DD08>)], [(-1, 0, <torch.utils.data.dataloader.DataLoader object at 0x000001C2E165C808>), (-1, 1, <torch.utils.data.dataloader.DataLoader object at 0x000001C2E165C588>), (-1, 2, <torch.utils.data.dataloader.DataLoader object at 0x000001C2E165C548>), (-1, 3, <torch.utils.data.dataloader.DataLoader object at 0x000001C2E165C748>), (-1, 4, <torch.utils.data.dataloader.DataLoader object at 0x000001C2E165C608>), (-1, 5, <torch.utils.data.dataloader.DataLoader object at 0x000001C2E164C488>), (-1, 6, <torch.utils.data.dataloader.DataLoader object at 0x000001C2E164CC88>), (-1, 7, <torch.utils.data.dataloader.DataLoader object at 0x000001C2E164CDC8>), (-1, 8, <torch.utils.data.dataloader.DataLoader object at 0x000001C2E164CF88>), (-1, 9, <torch.utils.data.dataloader.DataLoader object at 0x000001C2E164C748>), (-1, 10, <torch.utils.data.dataloader.DataLoader object at 0x000001C2E164CE88>), (-1, 11, <torch.utils.data.dataloader.DataLoader object at 0x000001C2E164C708>), (-1, 12, <torch.utils.data.dataloader.DataLoader object at 0x000001C2E7E9D2C8>), (-1, 13, <torch.utils.data.dataloader.DataLoader object at 0x000001C2E7E9DB88>), (-1, 14, <torch.utils.data.dataloader.DataLoader object at 0x000001C2E7E9D308>), (-1, 15, <torch.utils.data.dataloader.DataLoader object at 0x000001C2E7E9D708>), (-1, 16, <torch.utils.data.dataloader.DataLoader object at 0x000001C2E7E9D488>), (-1, 17, <torch.utils.data.dataloader.DataLoader object at 0x000001C2E7E9D988>), (-1, 18, <torch.utils.data.dataloader.DataLoader object at 0x000001C2E7E9DD48>), (-1, 19, <torch.utils.data.dataloader.DataLoader object at 0x000001C2E7E9DD08>)], [(-1, 0, <torch.utils.data.dataloader.DataLoader object at 0x000001C2E165C808>), (-1, 1, <torch.utils.data.dataloader.DataLoader object at 0x000001C2E165C588>), (-1, 2, <torch.utils.data.dataloader.DataLoader object at 0x000001C2E165C548>), (-1, 3, <torch.utils.data.dataloader.DataLoader object at 0x000001C2E165C748>), (-1, 4, <torch.utils.data.dataloader.DataLoader object at 0x000001C2E165C608>), (-1, 5, <torch.utils.data.dataloader.DataLoader object at 0x000001C2E164C488>), (-1, 6, <torch.utils.data.dataloader.DataLoader object at 0x000001C2E164CC88>), (-1, 7, <torch.utils.data.dataloader.DataLoader object at 0x000001C2E164CDC8>), (-1, 8, <torch.utils.data.dataloader.DataLoader object at 0x000001C2E164CF88>), (-1, 9, <torch.utils.data.dataloader.DataLoader object at 0x000001C2E164C748>), (-1, 10, <torch.utils.data.dataloader.DataLoader object at 0x000001C2E164CE88>), (-1, 11, <torch.utils.data.dataloader.DataLoader object at 0x000001C2E164C708>), (-1, 12, <torch.utils.data.dataloader.DataLoader object at 0x000001C2E7E9D2C8>), (-1, 13, <torch.utils.data.dataloader.DataLoader object at 0x000001C2E7E9DB88>), (-1, 14, <torch.utils.data.dataloader.DataLoader object at 0x000001C2E7E9D308>), (-1, 15, <torch.utils.data.dataloader.DataLoader object at 0x000001C2E7E9D708>), (-1, 16, <torch.utils.data.dataloader.DataLoader object at 0x000001C2E7E9D488>), (-1, 17, <torch.utils.data.dataloader.DataLoader object at 0x000001C2E7E9D988>), (-1, 18, <torch.utils.data.dataloader.DataLoader object at 0x000001C2E7E9DD48>), (-1, 19, <torch.utils.data.dataloader.DataLoader object at 0x000001C2E7E9DD08>)], [(-1, 0, <torch.utils.data.dataloader.DataLoader object at 0x000001C2E165C808>), (-1, 1, <torch.utils.data.dataloader.DataLoader object at 0x000001C2E165C588>), (-1, 2, <torch.utils.data.dataloader.DataLoader object at 0x000001C2E165C548>), (-1, 3, <torch.utils.data.dataloader.DataLoader object at 0x000001C2E165C748>), (-1, 4, <torch.utils.data.dataloader.DataLoader object at 0x000001C2E165C608>), (-1, 5, <torch.utils.data.dataloader.DataLoader object at 0x000001C2E164C488>), (-1, 6, <torch.utils.data.dataloader.DataLoader object at 0x000001C2E164CC88>), (-1, 7, <torch.utils.data.dataloader.DataLoader object at 0x000001C2E164CDC8>), (-1, 8, <torch.utils.data.dataloader.DataLoader object at 0x000001C2E164CF88>), (-1, 9, <torch.utils.data.dataloader.DataLoader object at 0x000001C2E164C748>), (-1, 10, <torch.utils.data.dataloader.DataLoader object at 0x000001C2E164CE88>), (-1, 11, <torch.utils.data.dataloader.DataLoader object at 0x000001C2E164C708>), (-1, 12, <torch.utils.data.dataloader.DataLoader object at 0x000001C2E7E9D2C8>), (-1, 13, <torch.utils.data.dataloader.DataLoader object at 0x000001C2E7E9DB88>), (-1, 14, <torch.utils.data.dataloader.DataLoader object at 0x000001C2E7E9D308>), (-1, 15, <torch.utils.data.dataloader.DataLoader object at 0x000001C2E7E9D708>), (-1, 16, <torch.utils.data.dataloader.DataLoader object at 0x000001C2E7E9D488>), (-1, 17, <torch.utils.data.dataloader.DataLoader object at 0x000001C2E7E9D988>), (-1, 18, <torch.utils.data.dataloader.DataLoader object at 0x000001C2E7E9DD48>), (-1, 19, <torch.utils.data.dataloader.DataLoader object at 0x000001C2E7E9DD08>)], [(-1, 0, <torch.utils.data.dataloader.DataLoader object at 0x000001C2E165C808>), (-1, 1, <torch.utils.data.dataloader.DataLoader object at 0x000001C2E165C588>), (-1, 2, <torch.utils.data.dataloader.DataLoader object at 0x000001C2E165C548>), (-1, 3, <torch.utils.data.dataloader.DataLoader object at 0x000001C2E165C748>), (-1, 4, <torch.utils.data.dataloader.DataLoader object at 0x000001C2E165C608>), (-1, 5, <torch.utils.data.dataloader.DataLoader object at 0x000001C2E164C488>), (-1, 6, <torch.utils.data.dataloader.DataLoader object at 0x000001C2E164CC88>), (-1, 7, <torch.utils.data.dataloader.DataLoader object at 0x000001C2E164CDC8>), (-1, 8, <torch.utils.data.dataloader.DataLoader object at 0x000001C2E164CF88>), (-1, 9, <torch.utils.data.dataloader.DataLoader object at 0x000001C2E164C748>), (-1, 10, <torch.utils.data.dataloader.DataLoader object at 0x000001C2E164CE88>), (-1, 11, <torch.utils.data.dataloader.DataLoader object at 0x000001C2E164C708>), (-1, 12, <torch.utils.data.dataloader.DataLoader object at 0x000001C2E7E9D2C8>), (-1, 13, <torch.utils.data.dataloader.DataLoader object at 0x000001C2E7E9DB88>), (-1, 14, <torch.utils.data.dataloader.DataLoader object at 0x000001C2E7E9D308>), (-1, 15, <torch.utils.data.dataloader.DataLoader object at 0x000001C2E7E9D708>), (-1, 16, <torch.utils.data.dataloader.DataLoader object at 0x000001C2E7E9D488>), (-1, 17, <torch.utils.data.dataloader.DataLoader object at 0x000001C2E7E9D988>), (-1, 18, <torch.utils.data.dataloader.DataLoader object at 0x000001C2E7E9DD48>), (-1, 19, <torch.utils.data.dataloader.DataLoader object at 0x000001C2E7E9DD08>)], [(-1, 0, <torch.utils.data.dataloader.DataLoader object at 0x000001C2E165C808>), (-1, 1, <torch.utils.data.dataloader.DataLoader object at 0x000001C2E165C588>), (-1, 2, <torch.utils.data.dataloader.DataLoader object at 0x000001C2E165C548>), (-1, 3, <torch.utils.data.dataloader.DataLoader object at 0x000001C2E165C748>), (-1, 4, <torch.utils.data.dataloader.DataLoader object at 0x000001C2E165C608>), (-1, 5, <torch.utils.data.dataloader.DataLoader object at 0x000001C2E164C488>), (-1, 6, <torch.utils.data.dataloader.DataLoader object at 0x000001C2E164CC88>), (-1, 7, <torch.utils.data.dataloader.DataLoader object at 0x000001C2E164CDC8>), (-1, 8, <torch.utils.data.dataloader.DataLoader object at 0x000001C2E164CF88>), (-1, 9, <torch.utils.data.dataloader.DataLoader object at 0x000001C2E164C748>), (-1, 10, <torch.utils.data.dataloader.DataLoader object at 0x000001C2E164CE88>), (-1, 11, <torch.utils.data.dataloader.DataLoader object at 0x000001C2E164C708>), (-1, 12, <torch.utils.data.dataloader.DataLoader object at 0x000001C2E7E9D2C8>), (-1, 13, <torch.utils.data.dataloader.DataLoader object at 0x000001C2E7E9DB88>), (-1, 14, <torch.utils.data.dataloader.DataLoader object at 0x000001C2E7E9D308>), (-1, 15, <torch.utils.data.dataloader.DataLoader object at 0x000001C2E7E9D708>), (-1, 16, <torch.utils.data.dataloader.DataLoader object at 0x000001C2E7E9D488>), (-1, 17, <torch.utils.data.dataloader.DataLoader object at 0x000001C2E7E9D988>), (-1, 18, <torch.utils.data.dataloader.DataLoader object at 0x000001C2E7E9DD48>), (-1, 19, <torch.utils.data.dataloader.DataLoader object at 0x000001C2E7E9DD08>)], [(-1, 0, <torch.utils.data.dataloader.DataLoader object at 0x000001C2E165C808>), (-1, 1, <torch.utils.data.dataloader.DataLoader object at 0x000001C2E165C588>), (-1, 2, <torch.utils.data.dataloader.DataLoader object at 0x000001C2E165C548>), (-1, 3, <torch.utils.data.dataloader.DataLoader object at 0x000001C2E165C748>), (-1, 4, <torch.utils.data.dataloader.DataLoader object at 0x000001C2E165C608>), (-1, 5, <torch.utils.data.dataloader.DataLoader object at 0x000001C2E164C488>), (-1, 6, <torch.utils.data.dataloader.DataLoader object at 0x000001C2E164CC88>), (-1, 7, <torch.utils.data.dataloader.DataLoader object at 0x000001C2E164CDC8>), (-1, 8, <torch.utils.data.dataloader.DataLoader object at 0x000001C2E164CF88>), (-1, 9, <torch.utils.data.dataloader.DataLoader object at 0x000001C2E164C748>), (-1, 10, <torch.utils.data.dataloader.DataLoader object at 0x000001C2E164CE88>), (-1, 11, <torch.utils.data.dataloader.DataLoader object at 0x000001C2E164C708>), (-1, 12, <torch.utils.data.dataloader.DataLoader object at 0x000001C2E7E9D2C8>), (-1, 13, <torch.utils.data.dataloader.DataLoader object at 0x000001C2E7E9DB88>), (-1, 14, <torch.utils.data.dataloader.DataLoader object at 0x000001C2E7E9D308>), (-1, 15, <torch.utils.data.dataloader.DataLoader object at 0x000001C2E7E9D708>), (-1, 16, <torch.utils.data.dataloader.DataLoader object at 0x000001C2E7E9D488>), (-1, 17, <torch.utils.data.dataloader.DataLoader object at 0x000001C2E7E9D988>), (-1, 18, <torch.utils.data.dataloader.DataLoader object at 0x000001C2E7E9DD48>), (-1, 19, <torch.utils.data.dataloader.DataLoader object at 0x000001C2E7E9DD08>)], [(-1, 0, <torch.utils.data.dataloader.DataLoader object at 0x000001C2E165C808>), (-1, 1, <torch.utils.data.dataloader.DataLoader object at 0x000001C2E165C588>), (-1, 2, <torch.utils.data.dataloader.DataLoader object at 0x000001C2E165C548>), (-1, 3, <torch.utils.data.dataloader.DataLoader object at 0x000001C2E165C748>), (-1, 4, <torch.utils.data.dataloader.DataLoader object at 0x000001C2E165C608>), (-1, 5, <torch.utils.data.dataloader.DataLoader object at 0x000001C2E164C488>), (-1, 6, <torch.utils.data.dataloader.DataLoader object at 0x000001C2E164CC88>), (-1, 7, <torch.utils.data.dataloader.DataLoader object at 0x000001C2E164CDC8>), (-1, 8, <torch.utils.data.dataloader.DataLoader object at 0x000001C2E164CF88>), (-1, 9, <torch.utils.data.dataloader.DataLoader object at 0x000001C2E164C748>), (-1, 10, <torch.utils.data.dataloader.DataLoader object at 0x000001C2E164CE88>), (-1, 11, <torch.utils.data.dataloader.DataLoader object at 0x000001C2E164C708>), (-1, 12, <torch.utils.data.dataloader.DataLoader object at 0x000001C2E7E9D2C8>), (-1, 13, <torch.utils.data.dataloader.DataLoader object at 0x000001C2E7E9DB88>), (-1, 14, <torch.utils.data.dataloader.DataLoader object at 0x000001C2E7E9D308>), (-1, 15, <torch.utils.data.dataloader.DataLoader object at 0x000001C2E7E9D708>), (-1, 16, <torch.utils.data.dataloader.DataLoader object at 0x000001C2E7E9D488>), (-1, 17, <torch.utils.data.dataloader.DataLoader object at 0x000001C2E7E9D988>), (-1, 18, <torch.utils.data.dataloader.DataLoader object at 0x000001C2E7E9DD48>), (-1, 19, <torch.utils.data.dataloader.DataLoader object at 0x000001C2E7E9DD08>)], [(-1, 0, <torch.utils.data.dataloader.DataLoader object at 0x000001C2E165C808>), (-1, 1, <torch.utils.data.dataloader.DataLoader object at 0x000001C2E165C588>), (-1, 2, <torch.utils.data.dataloader.DataLoader object at 0x000001C2E165C548>), (-1, 3, <torch.utils.data.dataloader.DataLoader object at 0x000001C2E165C748>), (-1, 4, <torch.utils.data.dataloader.DataLoader object at 0x000001C2E165C608>), (-1, 5, <torch.utils.data.dataloader.DataLoader object at 0x000001C2E164C488>), (-1, 6, <torch.utils.data.dataloader.DataLoader object at 0x000001C2E164CC88>), (-1, 7, <torch.utils.data.dataloader.DataLoader object at 0x000001C2E164CDC8>), (-1, 8, <torch.utils.data.dataloader.DataLoader object at 0x000001C2E164CF88>), (-1, 9, <torch.utils.data.dataloader.DataLoader object at 0x000001C2E164C748>), (-1, 10, <torch.utils.data.dataloader.DataLoader object at 0x000001C2E164CE88>), (-1, 11, <torch.utils.data.dataloader.DataLoader object at 0x000001C2E164C708>), (-1, 12, <torch.utils.data.dataloader.DataLoader object at 0x000001C2E7E9D2C8>), (-1, 13, <torch.utils.data.dataloader.DataLoader object at 0x000001C2E7E9DB88>), (-1, 14, <torch.utils.data.dataloader.DataLoader object at 0x000001C2E7E9D308>), (-1, 15, <torch.utils.data.dataloader.DataLoader object at 0x000001C2E7E9D708>), (-1, 16, <torch.utils.data.dataloader.DataLoader object at 0x000001C2E7E9D488>), (-1, 17, <torch.utils.data.dataloader.DataLoader object at 0x000001C2E7E9D988>), (-1, 18, <torch.utils.data.dataloader.DataLoader object at 0x000001C2E7E9DD48>), (-1, 19, <torch.utils.data.dataloader.DataLoader object at 0x000001C2E7E9DD08>)], [(-1, 0, <torch.utils.data.dataloader.DataLoader object at 0x000001C2E165C808>), (-1, 1, <torch.utils.data.dataloader.DataLoader object at 0x000001C2E165C588>), (-1, 2, <torch.utils.data.dataloader.DataLoader object at 0x000001C2E165C548>), (-1, 3, <torch.utils.data.dataloader.DataLoader object at 0x000001C2E165C748>), (-1, 4, <torch.utils.data.dataloader.DataLoader object at 0x000001C2E165C608>), (-1, 5, <torch.utils.data.dataloader.DataLoader object at 0x000001C2E164C488>), (-1, 6, <torch.utils.data.dataloader.DataLoader object at 0x000001C2E164CC88>), (-1, 7, <torch.utils.data.dataloader.DataLoader object at 0x000001C2E164CDC8>), (-1, 8, <torch.utils.data.dataloader.DataLoader object at 0x000001C2E164CF88>), (-1, 9, <torch.utils.data.dataloader.DataLoader object at 0x000001C2E164C748>), (-1, 10, <torch.utils.data.dataloader.DataLoader object at 0x000001C2E164CE88>), (-1, 11, <torch.utils.data.dataloader.DataLoader object at 0x000001C2E164C708>), (-1, 12, <torch.utils.data.dataloader.DataLoader object at 0x000001C2E7E9D2C8>), (-1, 13, <torch.utils.data.dataloader.DataLoader object at 0x000001C2E7E9DB88>), (-1, 14, <torch.utils.data.dataloader.DataLoader object at 0x000001C2E7E9D308>), (-1, 15, <torch.utils.data.dataloader.DataLoader object at 0x000001C2E7E9D708>), (-1, 16, <torch.utils.data.dataloader.DataLoader object at 0x000001C2E7E9D488>), (-1, 17, <torch.utils.data.dataloader.DataLoader object at 0x000001C2E7E9D988>), (-1, 18, <torch.utils.data.dataloader.DataLoader object at 0x000001C2E7E9DD48>), (-1, 19, <torch.utils.data.dataloader.DataLoader object at 0x000001C2E7E9DD08>)], [(-1, 0, <torch.utils.data.dataloader.DataLoader object at 0x000001C2E165C808>), (-1, 1, <torch.utils.data.dataloader.DataLoader object at 0x000001C2E165C588>), (-1, 2, <torch.utils.data.dataloader.DataLoader object at 0x000001C2E165C548>), (-1, 3, <torch.utils.data.dataloader.DataLoader object at 0x000001C2E165C748>), (-1, 4, <torch.utils.data.dataloader.DataLoader object at 0x000001C2E165C608>), (-1, 5, <torch.utils.data.dataloader.DataLoader object at 0x000001C2E164C488>), (-1, 6, <torch.utils.data.dataloader.DataLoader object at 0x000001C2E164CC88>), (-1, 7, <torch.utils.data.dataloader.DataLoader object at 0x000001C2E164CDC8>), (-1, 8, <torch.utils.data.dataloader.DataLoader object at 0x000001C2E164CF88>), (-1, 9, <torch.utils.data.dataloader.DataLoader object at 0x000001C2E164C748>), (-1, 10, <torch.utils.data.dataloader.DataLoader object at 0x000001C2E164CE88>), (-1, 11, <torch.utils.data.dataloader.DataLoader object at 0x000001C2E164C708>), (-1, 12, <torch.utils.data.dataloader.DataLoader object at 0x000001C2E7E9D2C8>), (-1, 13, <torch.utils.data.dataloader.DataLoader object at 0x000001C2E7E9DB88>), (-1, 14, <torch.utils.data.dataloader.DataLoader object at 0x000001C2E7E9D308>), (-1, 15, <torch.utils.data.dataloader.DataLoader object at 0x000001C2E7E9D708>), (-1, 16, <torch.utils.data.dataloader.DataLoader object at 0x000001C2E7E9D488>), (-1, 17, <torch.utils.data.dataloader.DataLoader object at 0x000001C2E7E9D988>), (-1, 18, <torch.utils.data.dataloader.DataLoader object at 0x000001C2E7E9DD48>), (-1, 19, <torch.utils.data.dataloader.DataLoader object at 0x000001C2E7E9DD08>)], [(-1, 0, <torch.utils.data.dataloader.DataLoader object at 0x000001C2E165C808>), (-1, 1, <torch.utils.data.dataloader.DataLoader object at 0x000001C2E165C588>), (-1, 2, <torch.utils.data.dataloader.DataLoader object at 0x000001C2E165C548>), (-1, 3, <torch.utils.data.dataloader.DataLoader object at 0x000001C2E165C748>), (-1, 4, <torch.utils.data.dataloader.DataLoader object at 0x000001C2E165C608>), (-1, 5, <torch.utils.data.dataloader.DataLoader object at 0x000001C2E164C488>), (-1, 6, <torch.utils.data.dataloader.DataLoader object at 0x000001C2E164CC88>), (-1, 7, <torch.utils.data.dataloader.DataLoader object at 0x000001C2E164CDC8>), (-1, 8, <torch.utils.data.dataloader.DataLoader object at 0x000001C2E164CF88>), (-1, 9, <torch.utils.data.dataloader.DataLoader object at 0x000001C2E164C748>), (-1, 10, <torch.utils.data.dataloader.DataLoader object at 0x000001C2E164CE88>), (-1, 11, <torch.utils.data.dataloader.DataLoader object at 0x000001C2E164C708>), (-1, 12, <torch.utils.data.dataloader.DataLoader object at 0x000001C2E7E9D2C8>), (-1, 13, <torch.utils.data.dataloader.DataLoader object at 0x000001C2E7E9DB88>), (-1, 14, <torch.utils.data.dataloader.DataLoader object at 0x000001C2E7E9D308>), (-1, 15, <torch.utils.data.dataloader.DataLoader object at 0x000001C2E7E9D708>), (-1, 16, <torch.utils.data.dataloader.DataLoader object at 0x000001C2E7E9D488>), (-1, 17, <torch.utils.data.dataloader.DataLoader object at 0x000001C2E7E9D988>), (-1, 18, <torch.utils.data.dataloader.DataLoader object at 0x000001C2E7E9DD48>), (-1, 19, <torch.utils.data.dataloader.DataLoader object at 0x000001C2E7E9DD08>)], [(-1, 0, <torch.utils.data.dataloader.DataLoader object at 0x000001C2E165C808>), (-1, 1, <torch.utils.data.dataloader.DataLoader object at 0x000001C2E165C588>), (-1, 2, <torch.utils.data.dataloader.DataLoader object at 0x000001C2E165C548>), (-1, 3, <torch.utils.data.dataloader.DataLoader object at 0x000001C2E165C748>), (-1, 4, <torch.utils.data.dataloader.DataLoader object at 0x000001C2E165C608>), (-1, 5, <torch.utils.data.dataloader.DataLoader object at 0x000001C2E164C488>), (-1, 6, <torch.utils.data.dataloader.DataLoader object at 0x000001C2E164CC88>), (-1, 7, <torch.utils.data.dataloader.DataLoader object at 0x000001C2E164CDC8>), (-1, 8, <torch.utils.data.dataloader.DataLoader object at 0x000001C2E164CF88>), (-1, 9, <torch.utils.data.dataloader.DataLoader object at 0x000001C2E164C748>), (-1, 10, <torch.utils.data.dataloader.DataLoader object at 0x000001C2E164CE88>), (-1, 11, <torch.utils.data.dataloader.DataLoader object at 0x000001C2E164C708>), (-1, 12, <torch.utils.data.dataloader.DataLoader object at 0x000001C2E7E9D2C8>), (-1, 13, <torch.utils.data.dataloader.DataLoader object at 0x000001C2E7E9DB88>), (-1, 14, <torch.utils.data.dataloader.DataLoader object at 0x000001C2E7E9D308>), (-1, 15, <torch.utils.data.dataloader.DataLoader object at 0x000001C2E7E9D708>), (-1, 16, <torch.utils.data.dataloader.DataLoader object at 0x000001C2E7E9D488>), (-1, 17, <torch.utils.data.dataloader.DataLoader object at 0x000001C2E7E9D988>), (-1, 18, <torch.utils.data.dataloader.DataLoader object at 0x000001C2E7E9DD48>), (-1, 19, <torch.utils.data.dataloader.DataLoader object at 0x000001C2E7E9DD08>)], [(-1, 0, <torch.utils.data.dataloader.DataLoader object at 0x000001C2E165C808>), (-1, 1, <torch.utils.data.dataloader.DataLoader object at 0x000001C2E165C588>), (-1, 2, <torch.utils.data.dataloader.DataLoader object at 0x000001C2E165C548>), (-1, 3, <torch.utils.data.dataloader.DataLoader object at 0x000001C2E165C748>), (-1, 4, <torch.utils.data.dataloader.DataLoader object at 0x000001C2E165C608>), (-1, 5, <torch.utils.data.dataloader.DataLoader object at 0x000001C2E164C488>), (-1, 6, <torch.utils.data.dataloader.DataLoader object at 0x000001C2E164CC88>), (-1, 7, <torch.utils.data.dataloader.DataLoader object at 0x000001C2E164CDC8>), (-1, 8, <torch.utils.data.dataloader.DataLoader object at 0x000001C2E164CF88>), (-1, 9, <torch.utils.data.dataloader.DataLoader object at 0x000001C2E164C748>), (-1, 10, <torch.utils.data.dataloader.DataLoader object at 0x000001C2E164CE88>), (-1, 11, <torch.utils.data.dataloader.DataLoader object at 0x000001C2E164C708>), (-1, 12, <torch.utils.data.dataloader.DataLoader object at 0x000001C2E7E9D2C8>), (-1, 13, <torch.utils.data.dataloader.DataLoader object at 0x000001C2E7E9DB88>), (-1, 14, <torch.utils.data.dataloader.DataLoader object at 0x000001C2E7E9D308>), (-1, 15, <torch.utils.data.dataloader.DataLoader object at 0x000001C2E7E9D708>), (-1, 16, <torch.utils.data.dataloader.DataLoader object at 0x000001C2E7E9D488>), (-1, 17, <torch.utils.data.dataloader.DataLoader object at 0x000001C2E7E9D988>), (-1, 18, <torch.utils.data.dataloader.DataLoader object at 0x000001C2E7E9DD48>), (-1, 19, <torch.utils.data.dataloader.DataLoader object at 0x000001C2E7E9DD08>)], [(-1, 0, <torch.utils.data.dataloader.DataLoader object at 0x000001C2E165C808>), (-1, 1, <torch.utils.data.dataloader.DataLoader object at 0x000001C2E165C588>), (-1, 2, <torch.utils.data.dataloader.DataLoader object at 0x000001C2E165C548>), (-1, 3, <torch.utils.data.dataloader.DataLoader object at 0x000001C2E165C748>), (-1, 4, <torch.utils.data.dataloader.DataLoader object at 0x000001C2E165C608>), (-1, 5, <torch.utils.data.dataloader.DataLoader object at 0x000001C2E164C488>), (-1, 6, <torch.utils.data.dataloader.DataLoader object at 0x000001C2E164CC88>), (-1, 7, <torch.utils.data.dataloader.DataLoader object at 0x000001C2E164CDC8>), (-1, 8, <torch.utils.data.dataloader.DataLoader object at 0x000001C2E164CF88>), (-1, 9, <torch.utils.data.dataloader.DataLoader object at 0x000001C2E164C748>), (-1, 10, <torch.utils.data.dataloader.DataLoader object at 0x000001C2E164CE88>), (-1, 11, <torch.utils.data.dataloader.DataLoader object at 0x000001C2E164C708>), (-1, 12, <torch.utils.data.dataloader.DataLoader object at 0x000001C2E7E9D2C8>), (-1, 13, <torch.utils.data.dataloader.DataLoader object at 0x000001C2E7E9DB88>), (-1, 14, <torch.utils.data.dataloader.DataLoader object at 0x000001C2E7E9D308>), (-1, 15, <torch.utils.data.dataloader.DataLoader object at 0x000001C2E7E9D708>), (-1, 16, <torch.utils.data.dataloader.DataLoader object at 0x000001C2E7E9D488>), (-1, 17, <torch.utils.data.dataloader.DataLoader object at 0x000001C2E7E9D988>), (-1, 18, <torch.utils.data.dataloader.DataLoader object at 0x000001C2E7E9DD48>), (-1, 19, <torch.utils.data.dataloader.DataLoader object at 0x000001C2E7E9DD08>)], [(-1, 0, <torch.utils.data.dataloader.DataLoader object at 0x000001C2E165C808>), (-1, 1, <torch.utils.data.dataloader.DataLoader object at 0x000001C2E165C588>), (-1, 2, <torch.utils.data.dataloader.DataLoader object at 0x000001C2E165C548>), (-1, 3, <torch.utils.data.dataloader.DataLoader object at 0x000001C2E165C748>), (-1, 4, <torch.utils.data.dataloader.DataLoader object at 0x000001C2E165C608>), (-1, 5, <torch.utils.data.dataloader.DataLoader object at 0x000001C2E164C488>), (-1, 6, <torch.utils.data.dataloader.DataLoader object at 0x000001C2E164CC88>), (-1, 7, <torch.utils.data.dataloader.DataLoader object at 0x000001C2E164CDC8>), (-1, 8, <torch.utils.data.dataloader.DataLoader object at 0x000001C2E164CF88>), (-1, 9, <torch.utils.data.dataloader.DataLoader object at 0x000001C2E164C748>), (-1, 10, <torch.utils.data.dataloader.DataLoader object at 0x000001C2E164CE88>), (-1, 11, <torch.utils.data.dataloader.DataLoader object at 0x000001C2E164C708>), (-1, 12, <torch.utils.data.dataloader.DataLoader object at 0x000001C2E7E9D2C8>), (-1, 13, <torch.utils.data.dataloader.DataLoader object at 0x000001C2E7E9DB88>), (-1, 14, <torch.utils.data.dataloader.DataLoader object at 0x000001C2E7E9D308>), (-1, 15, <torch.utils.data.dataloader.DataLoader object at 0x000001C2E7E9D708>), (-1, 16, <torch.utils.data.dataloader.DataLoader object at 0x000001C2E7E9D488>), (-1, 17, <torch.utils.data.dataloader.DataLoader object at 0x000001C2E7E9D988>), (-1, 18, <torch.utils.data.dataloader.DataLoader object at 0x000001C2E7E9DD48>), (-1, 19, <torch.utils.data.dataloader.DataLoader object at 0x000001C2E7E9DD08>)], [(-1, 0, <torch.utils.data.dataloader.DataLoader object at 0x000001C2E165C808>), (-1, 1, <torch.utils.data.dataloader.DataLoader object at 0x000001C2E165C588>), (-1, 2, <torch.utils.data.dataloader.DataLoader object at 0x000001C2E165C548>), (-1, 3, <torch.utils.data.dataloader.DataLoader object at 0x000001C2E165C748>), (-1, 4, <torch.utils.data.dataloader.DataLoader object at 0x000001C2E165C608>), (-1, 5, <torch.utils.data.dataloader.DataLoader object at 0x000001C2E164C488>), (-1, 6, <torch.utils.data.dataloader.DataLoader object at 0x000001C2E164CC88>), (-1, 7, <torch.utils.data.dataloader.DataLoader object at 0x000001C2E164CDC8>), (-1, 8, <torch.utils.data.dataloader.DataLoader object at 0x000001C2E164CF88>), (-1, 9, <torch.utils.data.dataloader.DataLoader object at 0x000001C2E164C748>), (-1, 10, <torch.utils.data.dataloader.DataLoader object at 0x000001C2E164CE88>), (-1, 11, <torch.utils.data.dataloader.DataLoader object at 0x000001C2E164C708>), (-1, 12, <torch.utils.data.dataloader.DataLoader object at 0x000001C2E7E9D2C8>), (-1, 13, <torch.utils.data.dataloader.DataLoader object at 0x000001C2E7E9DB88>), (-1, 14, <torch.utils.data.dataloader.DataLoader object at 0x000001C2E7E9D308>), (-1, 15, <torch.utils.data.dataloader.DataLoader object at 0x000001C2E7E9D708>), (-1, 16, <torch.utils.data.dataloader.DataLoader object at 0x000001C2E7E9D488>), (-1, 17, <torch.utils.data.dataloader.DataLoader object at 0x000001C2E7E9D988>), (-1, 18, <torch.utils.data.dataloader.DataLoader object at 0x000001C2E7E9DD48>), (-1, 19, <torch.utils.data.dataloader.DataLoader object at 0x000001C2E7E9DD08>)], [(-1, 0, <torch.utils.data.dataloader.DataLoader object at 0x000001C2E165C808>), (-1, 1, <torch.utils.data.dataloader.DataLoader object at 0x000001C2E165C588>), (-1, 2, <torch.utils.data.dataloader.DataLoader object at 0x000001C2E165C548>), (-1, 3, <torch.utils.data.dataloader.DataLoader object at 0x000001C2E165C748>), (-1, 4, <torch.utils.data.dataloader.DataLoader object at 0x000001C2E165C608>), (-1, 5, <torch.utils.data.dataloader.DataLoader object at 0x000001C2E164C488>), (-1, 6, <torch.utils.data.dataloader.DataLoader object at 0x000001C2E164CC88>), (-1, 7, <torch.utils.data.dataloader.DataLoader object at 0x000001C2E164CDC8>), (-1, 8, <torch.utils.data.dataloader.DataLoader object at 0x000001C2E164CF88>), (-1, 9, <torch.utils.data.dataloader.DataLoader object at 0x000001C2E164C748>), (-1, 10, <torch.utils.data.dataloader.DataLoader object at 0x000001C2E164CE88>), (-1, 11, <torch.utils.data.dataloader.DataLoader object at 0x000001C2E164C708>), (-1, 12, <torch.utils.data.dataloader.DataLoader object at 0x000001C2E7E9D2C8>), (-1, 13, <torch.utils.data.dataloader.DataLoader object at 0x000001C2E7E9DB88>), (-1, 14, <torch.utils.data.dataloader.DataLoader object at 0x000001C2E7E9D308>), (-1, 15, <torch.utils.data.dataloader.DataLoader object at 0x000001C2E7E9D708>), (-1, 16, <torch.utils.data.dataloader.DataLoader object at 0x000001C2E7E9D488>), (-1, 17, <torch.utils.data.dataloader.DataLoader object at 0x000001C2E7E9D988>), (-1, 18, <torch.utils.data.dataloader.DataLoader object at 0x000001C2E7E9DD48>), (-1, 19, <torch.utils.data.dataloader.DataLoader object at 0x000001C2E7E9DD08>)], [(-1, 0, <torch.utils.data.dataloader.DataLoader object at 0x000001C2E165C808>), (-1, 1, <torch.utils.data.dataloader.DataLoader object at 0x000001C2E165C588>), (-1, 2, <torch.utils.data.dataloader.DataLoader object at 0x000001C2E165C548>), (-1, 3, <torch.utils.data.dataloader.DataLoader object at 0x000001C2E165C748>), (-1, 4, <torch.utils.data.dataloader.DataLoader object at 0x000001C2E165C608>), (-1, 5, <torch.utils.data.dataloader.DataLoader object at 0x000001C2E164C488>), (-1, 6, <torch.utils.data.dataloader.DataLoader object at 0x000001C2E164CC88>), (-1, 7, <torch.utils.data.dataloader.DataLoader object at 0x000001C2E164CDC8>), (-1, 8, <torch.utils.data.dataloader.DataLoader object at 0x000001C2E164CF88>), (-1, 9, <torch.utils.data.dataloader.DataLoader object at 0x000001C2E164C748>), (-1, 10, <torch.utils.data.dataloader.DataLoader object at 0x000001C2E164CE88>), (-1, 11, <torch.utils.data.dataloader.DataLoader object at 0x000001C2E164C708>), (-1, 12, <torch.utils.data.dataloader.DataLoader object at 0x000001C2E7E9D2C8>), (-1, 13, <torch.utils.data.dataloader.DataLoader object at 0x000001C2E7E9DB88>), (-1, 14, <torch.utils.data.dataloader.DataLoader object at 0x000001C2E7E9D308>), (-1, 15, <torch.utils.data.dataloader.DataLoader object at 0x000001C2E7E9D708>), (-1, 16, <torch.utils.data.dataloader.DataLoader object at 0x000001C2E7E9D488>), (-1, 17, <torch.utils.data.dataloader.DataLoader object at 0x000001C2E7E9D988>), (-1, 18, <torch.utils.data.dataloader.DataLoader object at 0x000001C2E7E9DD48>), (-1, 19, <torch.utils.data.dataloader.DataLoader object at 0x000001C2E7E9DD08>)], [(-1, 0, <torch.utils.data.dataloader.DataLoader object at 0x000001C2E165C808>), (-1, 1, <torch.utils.data.dataloader.DataLoader object at 0x000001C2E165C588>), (-1, 2, <torch.utils.data.dataloader.DataLoader object at 0x000001C2E165C548>), (-1, 3, <torch.utils.data.dataloader.DataLoader object at 0x000001C2E165C748>), (-1, 4, <torch.utils.data.dataloader.DataLoader object at 0x000001C2E165C608>), (-1, 5, <torch.utils.data.dataloader.DataLoader object at 0x000001C2E164C488>), (-1, 6, <torch.utils.data.dataloader.DataLoader object at 0x000001C2E164CC88>), (-1, 7, <torch.utils.data.dataloader.DataLoader object at 0x000001C2E164CDC8>), (-1, 8, <torch.utils.data.dataloader.DataLoader object at 0x000001C2E164CF88>), (-1, 9, <torch.utils.data.dataloader.DataLoader object at 0x000001C2E164C748>), (-1, 10, <torch.utils.data.dataloader.DataLoader object at 0x000001C2E164CE88>), (-1, 11, <torch.utils.data.dataloader.DataLoader object at 0x000001C2E164C708>), (-1, 12, <torch.utils.data.dataloader.DataLoader object at 0x000001C2E7E9D2C8>), (-1, 13, <torch.utils.data.dataloader.DataLoader object at 0x000001C2E7E9DB88>), (-1, 14, <torch.utils.data.dataloader.DataLoader object at 0x000001C2E7E9D308>), (-1, 15, <torch.utils.data.dataloader.DataLoader object at 0x000001C2E7E9D708>), (-1, 16, <torch.utils.data.dataloader.DataLoader object at 0x000001C2E7E9D488>), (-1, 17, <torch.utils.data.dataloader.DataLoader object at 0x000001C2E7E9D988>), (-1, 18, <torch.utils.data.dataloader.DataLoader object at 0x000001C2E7E9DD48>), (-1, 19, <torch.utils.data.dataloader.DataLoader object at 0x000001C2E7E9DD08>)], [(-1, 0, <torch.utils.data.dataloader.DataLoader object at 0x000001C2E165C808>), (-1, 1, <torch.utils.data.dataloader.DataLoader object at 0x000001C2E165C588>), (-1, 2, <torch.utils.data.dataloader.DataLoader object at 0x000001C2E165C548>), (-1, 3, <torch.utils.data.dataloader.DataLoader object at 0x000001C2E165C748>), (-1, 4, <torch.utils.data.dataloader.DataLoader object at 0x000001C2E165C608>), (-1, 5, <torch.utils.data.dataloader.DataLoader object at 0x000001C2E164C488>), (-1, 6, <torch.utils.data.dataloader.DataLoader object at 0x000001C2E164CC88>), (-1, 7, <torch.utils.data.dataloader.DataLoader object at 0x000001C2E164CDC8>), (-1, 8, <torch.utils.data.dataloader.DataLoader object at 0x000001C2E164CF88>), (-1, 9, <torch.utils.data.dataloader.DataLoader object at 0x000001C2E164C748>), (-1, 10, <torch.utils.data.dataloader.DataLoader object at 0x000001C2E164CE88>), (-1, 11, <torch.utils.data.dataloader.DataLoader object at 0x000001C2E164C708>), (-1, 12, <torch.utils.data.dataloader.DataLoader object at 0x000001C2E7E9D2C8>), (-1, 13, <torch.utils.data.dataloader.DataLoader object at 0x000001C2E7E9DB88>), (-1, 14, <torch.utils.data.dataloader.DataLoader object at 0x000001C2E7E9D308>), (-1, 15, <torch.utils.data.dataloader.DataLoader object at 0x000001C2E7E9D708>), (-1, 16, <torch.utils.data.dataloader.DataLoader object at 0x000001C2E7E9D488>), (-1, 17, <torch.utils.data.dataloader.DataLoader object at 0x000001C2E7E9D988>), (-1, 18, <torch.utils.data.dataloader.DataLoader object at 0x000001C2E7E9DD48>), (-1, 19, <torch.utils.data.dataloader.DataLoader object at 0x000001C2E7E9DD08>)], [(-1, 0, <torch.utils.data.dataloader.DataLoader object at 0x000001C2E165C808>), (-1, 1, <torch.utils.data.dataloader.DataLoader object at 0x000001C2E165C588>), (-1, 2, <torch.utils.data.dataloader.DataLoader object at 0x000001C2E165C548>), (-1, 3, <torch.utils.data.dataloader.DataLoader object at 0x000001C2E165C748>), (-1, 4, <torch.utils.data.dataloader.DataLoader object at 0x000001C2E165C608>), (-1, 5, <torch.utils.data.dataloader.DataLoader object at 0x000001C2E164C488>), (-1, 6, <torch.utils.data.dataloader.DataLoader object at 0x000001C2E164CC88>), (-1, 7, <torch.utils.data.dataloader.DataLoader object at 0x000001C2E164CDC8>), (-1, 8, <torch.utils.data.dataloader.DataLoader object at 0x000001C2E164CF88>), (-1, 9, <torch.utils.data.dataloader.DataLoader object at 0x000001C2E164C748>), (-1, 10, <torch.utils.data.dataloader.DataLoader object at 0x000001C2E164CE88>), (-1, 11, <torch.utils.data.dataloader.DataLoader object at 0x000001C2E164C708>), (-1, 12, <torch.utils.data.dataloader.DataLoader object at 0x000001C2E7E9D2C8>), (-1, 13, <torch.utils.data.dataloader.DataLoader object at 0x000001C2E7E9DB88>), (-1, 14, <torch.utils.data.dataloader.DataLoader object at 0x000001C2E7E9D308>), (-1, 15, <torch.utils.data.dataloader.DataLoader object at 0x000001C2E7E9D708>), (-1, 16, <torch.utils.data.dataloader.DataLoader object at 0x000001C2E7E9D488>), (-1, 17, <torch.utils.data.dataloader.DataLoader object at 0x000001C2E7E9D988>), (-1, 18, <torch.utils.data.dataloader.DataLoader object at 0x000001C2E7E9DD48>), (-1, 19, <torch.utils.data.dataloader.DataLoader object at 0x000001C2E7E9DD08>)], [(-1, 0, <torch.utils.data.dataloader.DataLoader object at 0x000001C2E165C808>), (-1, 1, <torch.utils.data.dataloader.DataLoader object at 0x000001C2E165C588>), (-1, 2, <torch.utils.data.dataloader.DataLoader object at 0x000001C2E165C548>), (-1, 3, <torch.utils.data.dataloader.DataLoader object at 0x000001C2E165C748>), (-1, 4, <torch.utils.data.dataloader.DataLoader object at 0x000001C2E165C608>), (-1, 5, <torch.utils.data.dataloader.DataLoader object at 0x000001C2E164C488>), (-1, 6, <torch.utils.data.dataloader.DataLoader object at 0x000001C2E164CC88>), (-1, 7, <torch.utils.data.dataloader.DataLoader object at 0x000001C2E164CDC8>), (-1, 8, <torch.utils.data.dataloader.DataLoader object at 0x000001C2E164CF88>), (-1, 9, <torch.utils.data.dataloader.DataLoader object at 0x000001C2E164C748>), (-1, 10, <torch.utils.data.dataloader.DataLoader object at 0x000001C2E164CE88>), (-1, 11, <torch.utils.data.dataloader.DataLoader object at 0x000001C2E164C708>), (-1, 12, <torch.utils.data.dataloader.DataLoader object at 0x000001C2E7E9D2C8>), (-1, 13, <torch.utils.data.dataloader.DataLoader object at 0x000001C2E7E9DB88>), (-1, 14, <torch.utils.data.dataloader.DataLoader object at 0x000001C2E7E9D308>), (-1, 15, <torch.utils.data.dataloader.DataLoader object at 0x000001C2E7E9D708>), (-1, 16, <torch.utils.data.dataloader.DataLoader object at 0x000001C2E7E9D488>), (-1, 17, <torch.utils.data.dataloader.DataLoader object at 0x000001C2E7E9D988>), (-1, 18, <torch.utils.data.dataloader.DataLoader object at 0x000001C2E7E9DD48>), (-1, 19, <torch.utils.data.dataloader.DataLoader object at 0x000001C2E7E9DD08>)], [(-1, 0, <torch.utils.data.dataloader.DataLoader object at 0x000001C2E165C808>), (-1, 1, <torch.utils.data.dataloader.DataLoader object at 0x000001C2E165C588>), (-1, 2, <torch.utils.data.dataloader.DataLoader object at 0x000001C2E165C548>), (-1, 3, <torch.utils.data.dataloader.DataLoader object at 0x000001C2E165C748>), (-1, 4, <torch.utils.data.dataloader.DataLoader object at 0x000001C2E165C608>), (-1, 5, <torch.utils.data.dataloader.DataLoader object at 0x000001C2E164C488>), (-1, 6, <torch.utils.data.dataloader.DataLoader object at 0x000001C2E164CC88>), (-1, 7, <torch.utils.data.dataloader.DataLoader object at 0x000001C2E164CDC8>), (-1, 8, <torch.utils.data.dataloader.DataLoader object at 0x000001C2E164CF88>), (-1, 9, <torch.utils.data.dataloader.DataLoader object at 0x000001C2E164C748>), (-1, 10, <torch.utils.data.dataloader.DataLoader object at 0x000001C2E164CE88>), (-1, 11, <torch.utils.data.dataloader.DataLoader object at 0x000001C2E164C708>), (-1, 12, <torch.utils.data.dataloader.DataLoader object at 0x000001C2E7E9D2C8>), (-1, 13, <torch.utils.data.dataloader.DataLoader object at 0x000001C2E7E9DB88>), (-1, 14, <torch.utils.data.dataloader.DataLoader object at 0x000001C2E7E9D308>), (-1, 15, <torch.utils.data.dataloader.DataLoader object at 0x000001C2E7E9D708>), (-1, 16, <torch.utils.data.dataloader.DataLoader object at 0x000001C2E7E9D488>), (-1, 17, <torch.utils.data.dataloader.DataLoader object at 0x000001C2E7E9D988>), (-1, 18, <torch.utils.data.dataloader.DataLoader object at 0x000001C2E7E9DD48>), (-1, 19, <torch.utils.data.dataloader.DataLoader object at 0x000001C2E7E9DD08>)], [(-1, 0, <torch.utils.data.dataloader.DataLoader object at 0x000001C2E165C808>), (-1, 1, <torch.utils.data.dataloader.DataLoader object at 0x000001C2E165C588>), (-1, 2, <torch.utils.data.dataloader.DataLoader object at 0x000001C2E165C548>), (-1, 3, <torch.utils.data.dataloader.DataLoader object at 0x000001C2E165C748>), (-1, 4, <torch.utils.data.dataloader.DataLoader object at 0x000001C2E165C608>), (-1, 5, <torch.utils.data.dataloader.DataLoader object at 0x000001C2E164C488>), (-1, 6, <torch.utils.data.dataloader.DataLoader object at 0x000001C2E164CC88>), (-1, 7, <torch.utils.data.dataloader.DataLoader object at 0x000001C2E164CDC8>), (-1, 8, <torch.utils.data.dataloader.DataLoader object at 0x000001C2E164CF88>), (-1, 9, <torch.utils.data.dataloader.DataLoader object at 0x000001C2E164C748>), (-1, 10, <torch.utils.data.dataloader.DataLoader object at 0x000001C2E164CE88>), (-1, 11, <torch.utils.data.dataloader.DataLoader object at 0x000001C2E164C708>), (-1, 12, <torch.utils.data.dataloader.DataLoader object at 0x000001C2E7E9D2C8>), (-1, 13, <torch.utils.data.dataloader.DataLoader object at 0x000001C2E7E9DB88>), (-1, 14, <torch.utils.data.dataloader.DataLoader object at 0x000001C2E7E9D308>), (-1, 15, <torch.utils.data.dataloader.DataLoader object at 0x000001C2E7E9D708>), (-1, 16, <torch.utils.data.dataloader.DataLoader object at 0x000001C2E7E9D488>), (-1, 17, <torch.utils.data.dataloader.DataLoader object at 0x000001C2E7E9D988>), (-1, 18, <torch.utils.data.dataloader.DataLoader object at 0x000001C2E7E9DD48>), (-1, 19, <torch.utils.data.dataloader.DataLoader object at 0x000001C2E7E9DD08>)], [(-1, 0, <torch.utils.data.dataloader.DataLoader object at 0x000001C2E165C808>), (-1, 1, <torch.utils.data.dataloader.DataLoader object at 0x000001C2E165C588>), (-1, 2, <torch.utils.data.dataloader.DataLoader object at 0x000001C2E165C548>), (-1, 3, <torch.utils.data.dataloader.DataLoader object at 0x000001C2E165C748>), (-1, 4, <torch.utils.data.dataloader.DataLoader object at 0x000001C2E165C608>), (-1, 5, <torch.utils.data.dataloader.DataLoader object at 0x000001C2E164C488>), (-1, 6, <torch.utils.data.dataloader.DataLoader object at 0x000001C2E164CC88>), (-1, 7, <torch.utils.data.dataloader.DataLoader object at 0x000001C2E164CDC8>), (-1, 8, <torch.utils.data.dataloader.DataLoader object at 0x000001C2E164CF88>), (-1, 9, <torch.utils.data.dataloader.DataLoader object at 0x000001C2E164C748>), (-1, 10, <torch.utils.data.dataloader.DataLoader object at 0x000001C2E164CE88>), (-1, 11, <torch.utils.data.dataloader.DataLoader object at 0x000001C2E164C708>), (-1, 12, <torch.utils.data.dataloader.DataLoader object at 0x000001C2E7E9D2C8>), (-1, 13, <torch.utils.data.dataloader.DataLoader object at 0x000001C2E7E9DB88>), (-1, 14, <torch.utils.data.dataloader.DataLoader object at 0x000001C2E7E9D308>), (-1, 15, <torch.utils.data.dataloader.DataLoader object at 0x000001C2E7E9D708>), (-1, 16, <torch.utils.data.dataloader.DataLoader object at 0x000001C2E7E9D488>), (-1, 17, <torch.utils.data.dataloader.DataLoader object at 0x000001C2E7E9D988>), (-1, 18, <torch.utils.data.dataloader.DataLoader object at 0x000001C2E7E9DD48>), (-1, 19, <torch.utils.data.dataloader.DataLoader object at 0x000001C2E7E9DD08>)], [(-1, 0, <torch.utils.data.dataloader.DataLoader object at 0x000001C2E165C808>), (-1, 1, <torch.utils.data.dataloader.DataLoader object at 0x000001C2E165C588>), (-1, 2, <torch.utils.data.dataloader.DataLoader object at 0x000001C2E165C548>), (-1, 3, <torch.utils.data.dataloader.DataLoader object at 0x000001C2E165C748>), (-1, 4, <torch.utils.data.dataloader.DataLoader object at 0x000001C2E165C608>), (-1, 5, <torch.utils.data.dataloader.DataLoader object at 0x000001C2E164C488>), (-1, 6, <torch.utils.data.dataloader.DataLoader object at 0x000001C2E164CC88>), (-1, 7, <torch.utils.data.dataloader.DataLoader object at 0x000001C2E164CDC8>), (-1, 8, <torch.utils.data.dataloader.DataLoader object at 0x000001C2E164CF88>), (-1, 9, <torch.utils.data.dataloader.DataLoader object at 0x000001C2E164C748>), (-1, 10, <torch.utils.data.dataloader.DataLoader object at 0x000001C2E164CE88>), (-1, 11, <torch.utils.data.dataloader.DataLoader object at 0x000001C2E164C708>), (-1, 12, <torch.utils.data.dataloader.DataLoader object at 0x000001C2E7E9D2C8>), (-1, 13, <torch.utils.data.dataloader.DataLoader object at 0x000001C2E7E9DB88>), (-1, 14, <torch.utils.data.dataloader.DataLoader object at 0x000001C2E7E9D308>), (-1, 15, <torch.utils.data.dataloader.DataLoader object at 0x000001C2E7E9D708>), (-1, 16, <torch.utils.data.dataloader.DataLoader object at 0x000001C2E7E9D488>), (-1, 17, <torch.utils.data.dataloader.DataLoader object at 0x000001C2E7E9D988>), (-1, 18, <torch.utils.data.dataloader.DataLoader object at 0x000001C2E7E9DD48>), (-1, 19, <torch.utils.data.dataloader.DataLoader object at 0x000001C2E7E9DD08>)], [(-1, 0, <torch.utils.data.dataloader.DataLoader object at 0x000001C2E165C808>), (-1, 1, <torch.utils.data.dataloader.DataLoader object at 0x000001C2E165C588>), (-1, 2, <torch.utils.data.dataloader.DataLoader object at 0x000001C2E165C548>), (-1, 3, <torch.utils.data.dataloader.DataLoader object at 0x000001C2E165C748>), (-1, 4, <torch.utils.data.dataloader.DataLoader object at 0x000001C2E165C608>), (-1, 5, <torch.utils.data.dataloader.DataLoader object at 0x000001C2E164C488>), (-1, 6, <torch.utils.data.dataloader.DataLoader object at 0x000001C2E164CC88>), (-1, 7, <torch.utils.data.dataloader.DataLoader object at 0x000001C2E164CDC8>), (-1, 8, <torch.utils.data.dataloader.DataLoader object at 0x000001C2E164CF88>), (-1, 9, <torch.utils.data.dataloader.DataLoader object at 0x000001C2E164C748>), (-1, 10, <torch.utils.data.dataloader.DataLoader object at 0x000001C2E164CE88>), (-1, 11, <torch.utils.data.dataloader.DataLoader object at 0x000001C2E164C708>), (-1, 12, <torch.utils.data.dataloader.DataLoader object at 0x000001C2E7E9D2C8>), (-1, 13, <torch.utils.data.dataloader.DataLoader object at 0x000001C2E7E9DB88>), (-1, 14, <torch.utils.data.dataloader.DataLoader object at 0x000001C2E7E9D308>), (-1, 15, <torch.utils.data.dataloader.DataLoader object at 0x000001C2E7E9D708>), (-1, 16, <torch.utils.data.dataloader.DataLoader object at 0x000001C2E7E9D488>), (-1, 17, <torch.utils.data.dataloader.DataLoader object at 0x000001C2E7E9D988>), (-1, 18, <torch.utils.data.dataloader.DataLoader object at 0x000001C2E7E9DD48>), (-1, 19, <torch.utils.data.dataloader.DataLoader object at 0x000001C2E7E9DD08>)]]\n"
     ]
    }
   ],
   "source": [
    "if iid:\n",
    "    train_loaders=[]\n",
    "    for i in range(n_iter):\n",
    "        train_loaders.append([(i, pos, get_train_iid(all_range, pos, i))\n",
    "                                for pos in range(num_of_workers)])\n",
    "else:\n",
    "    indices_per_participant = sample_dirichlet_train_data(\n",
    "        num_of_workers,\n",
    "        #dataset= torch.utils.data.Subset(train_dataset, list(range(240))),\n",
    "        alpha=0.95,\n",
    "        copylist=copylist)\n",
    "    train_loaders = [(-1, pos, get_train_noniid(indices)) for pos, indices in\n",
    "                    indices_per_participant.items()]\n",
    "    train_loaders = n_iter * [train_loaders]\n",
    "\n",
    "print(train_loaders)"
   ]
  },
  {
   "cell_type": "code",
   "execution_count": null,
   "metadata": {
    "colab": {
     "base_uri": "https://localhost:8080/"
    },
    "id": "HFU41nvozNJI",
    "outputId": "12464ed8-464b-4431-b96f-a69a9d84bf69"
   },
   "outputs": [
    {
     "name": "stdout",
     "output_type": "stream",
     "text": [
      "\n",
      "\n",
      " Entering epoch 0\n",
      "Iter 0 - Epoch 0 - Client Type: Benign - Client Number 0 - Poison Training False\n"
     ]
    },
    {
     "name": "stderr",
     "output_type": "stream",
     "text": [
      "100%|████████████████████████████████████████████████████████████████████████████████████| 1/1 [00:00<00:00,  1.58it/s]\n"
     ]
    },
    {
     "name": "stdout",
     "output_type": "stream",
     "text": [
      "Iter 0 - Epoch 0 - Client Type: Benign - Client Number 1 - Poison Training False\n"
     ]
    },
    {
     "name": "stderr",
     "output_type": "stream",
     "text": [
      "100%|████████████████████████████████████████████████████████████████████████████████████| 2/2 [00:01<00:00,  1.15it/s]\n"
     ]
    },
    {
     "name": "stdout",
     "output_type": "stream",
     "text": [
      "Iter 0 - Epoch 0 - Client Type: Benign - Client Number 2 - Poison Training False\n"
     ]
    },
    {
     "name": "stderr",
     "output_type": "stream",
     "text": [
      "100%|████████████████████████████████████████████████████████████████████████████████████| 2/2 [00:01<00:00,  1.75it/s]\n"
     ]
    },
    {
     "name": "stdout",
     "output_type": "stream",
     "text": [
      "Iter 0 - Epoch 0 - Client Type: Benign - Client Number 3 - Poison Training False\n"
     ]
    },
    {
     "name": "stderr",
     "output_type": "stream",
     "text": [
      "100%|████████████████████████████████████████████████████████████████████████████████████| 1/1 [00:00<00:00,  1.57it/s]\n"
     ]
    },
    {
     "name": "stdout",
     "output_type": "stream",
     "text": [
      "Iter 0 - Epoch 0 - Client Type: Benign - Client Number 4 - Poison Training False\n"
     ]
    },
    {
     "name": "stderr",
     "output_type": "stream",
     "text": [
      "100%|████████████████████████████████████████████████████████████████████████████████████| 1/1 [00:00<00:00,  1.30it/s]\n"
     ]
    },
    {
     "name": "stdout",
     "output_type": "stream",
     "text": [
      "Iter 0 - Epoch 0 - Client Type: Benign - Client Number 5 - Poison Training False\n"
     ]
    },
    {
     "name": "stderr",
     "output_type": "stream",
     "text": [
      "100%|████████████████████████████████████████████████████████████████████████████████████| 1/1 [00:00<00:00,  1.18it/s]\n"
     ]
    },
    {
     "name": "stdout",
     "output_type": "stream",
     "text": [
      "Iter 0 - Epoch 0 - Client Type: Benign - Client Number 6 - Poison Training False\n"
     ]
    },
    {
     "name": "stderr",
     "output_type": "stream",
     "text": [
      "100%|████████████████████████████████████████████████████████████████████████████████████| 2/2 [00:01<00:00,  1.14it/s]\n"
     ]
    },
    {
     "name": "stdout",
     "output_type": "stream",
     "text": [
      "Iter 0 - Epoch 0 - Client Type: Benign - Client Number 7 - Poison Training False\n"
     ]
    },
    {
     "name": "stderr",
     "output_type": "stream",
     "text": [
      "100%|████████████████████████████████████████████████████████████████████████████████████| 1/1 [00:00<00:00,  1.07it/s]\n"
     ]
    },
    {
     "name": "stdout",
     "output_type": "stream",
     "text": [
      "Iter 0 - Epoch 0 - Client Type: Benign - Client Number 8 - Poison Training False\n"
     ]
    },
    {
     "name": "stderr",
     "output_type": "stream",
     "text": [
      "100%|████████████████████████████████████████████████████████████████████████████████████| 1/1 [00:00<00:00,  1.06it/s]\n"
     ]
    },
    {
     "name": "stdout",
     "output_type": "stream",
     "text": [
      "Iter 0 - Epoch 0 - Client Type: Benign - Client Number 9 - Poison Training False\n"
     ]
    },
    {
     "name": "stderr",
     "output_type": "stream",
     "text": [
      "100%|████████████████████████████████████████████████████████████████████████████████████| 2/2 [00:01<00:00,  1.51it/s]\n"
     ]
    },
    {
     "name": "stdout",
     "output_type": "stream",
     "text": [
      "Iter 0 - Epoch 0 - Client Type: Benign - Client Number 10 - Poison Training False\n"
     ]
    },
    {
     "name": "stderr",
     "output_type": "stream",
     "text": [
      "100%|████████████████████████████████████████████████████████████████████████████████████| 1/1 [00:00<00:00,  1.94it/s]\n"
     ]
    },
    {
     "name": "stdout",
     "output_type": "stream",
     "text": [
      "Iter 0 - Epoch 0 - Client Type: Benign - Client Number 11 - Poison Training False\n"
     ]
    },
    {
     "name": "stderr",
     "output_type": "stream",
     "text": [
      "100%|████████████████████████████████████████████████████████████████████████████████████| 2/2 [00:01<00:00,  1.33it/s]\n"
     ]
    },
    {
     "name": "stdout",
     "output_type": "stream",
     "text": [
      "Iter 0 - Epoch 0 - Client Type: Benign - Client Number 12 - Poison Training False\n"
     ]
    },
    {
     "name": "stderr",
     "output_type": "stream",
     "text": [
      "100%|████████████████████████████████████████████████████████████████████████████████████| 1/1 [00:00<00:00,  1.46it/s]\n"
     ]
    },
    {
     "name": "stdout",
     "output_type": "stream",
     "text": [
      "Iter 0 - Epoch 0 - Client Type: Benign - Client Number 13 - Poison Training False\n"
     ]
    },
    {
     "name": "stderr",
     "output_type": "stream",
     "text": [
      "100%|████████████████████████████████████████████████████████████████████████████████████| 2/2 [00:02<00:00,  1.04s/it]\n"
     ]
    },
    {
     "name": "stdout",
     "output_type": "stream",
     "text": [
      "Iter 0 - Epoch 0 - Client Type: Benign - Client Number 14 - Poison Training False\n"
     ]
    },
    {
     "name": "stderr",
     "output_type": "stream",
     "text": [
      "100%|████████████████████████████████████████████████████████████████████████████████████| 1/1 [00:00<00:00,  1.09it/s]\n"
     ]
    },
    {
     "name": "stdout",
     "output_type": "stream",
     "text": [
      "Iter 0 - Epoch 0 - Client Type: Benign - Client Number 15 - Poison Training False\n"
     ]
    },
    {
     "name": "stderr",
     "output_type": "stream",
     "text": [
      "100%|████████████████████████████████████████████████████████████████████████████████████| 2/2 [00:01<00:00,  1.66it/s]\n"
     ]
    },
    {
     "name": "stdout",
     "output_type": "stream",
     "text": [
      "Iter 0 - Epoch 0 - Client Type: Benign - Client Number 16 - Poison Training False\n"
     ]
    },
    {
     "name": "stderr",
     "output_type": "stream",
     "text": [
      "100%|████████████████████████████████████████████████████████████████████████████████████| 2/2 [00:01<00:00,  1.41it/s]\n"
     ]
    },
    {
     "name": "stdout",
     "output_type": "stream",
     "text": [
      "Iter 0 - Epoch 0 - Client Type: Benign - Client Number 17 - Poison Training False\n"
     ]
    },
    {
     "name": "stderr",
     "output_type": "stream",
     "text": [
      "100%|████████████████████████████████████████████████████████████████████████████████████| 1/1 [00:00<00:00,  1.24it/s]\n"
     ]
    },
    {
     "name": "stdout",
     "output_type": "stream",
     "text": [
      "Iter 0 - Epoch 0 - Client Type: Benign - Client Number 18 - Poison Training False\n"
     ]
    },
    {
     "name": "stderr",
     "output_type": "stream",
     "text": [
      "100%|████████████████████████████████████████████████████████████████████████████████████| 1/1 [00:00<00:00,  1.08it/s]\n"
     ]
    },
    {
     "name": "stdout",
     "output_type": "stream",
     "text": [
      "Iter 0 - Epoch 0 - Client Type: Benign - Client Number 19 - Poison Training False\n"
     ]
    },
    {
     "name": "stderr",
     "output_type": "stream",
     "text": [
      "100%|████████████████████████████████████████████████████████████████████████████████████| 1/1 [00:00<00:00,  1.09it/s]\n"
     ]
    },
    {
     "name": "stdout",
     "output_type": "stream",
     "text": [
      "Original Copylist [9, 1, 4, 9, 6, 7, 5, 6, 2, 0, 8, 3, 9, 5, 6, 4, 0, 9, 9, 6]\n",
      "Found clusters [6 8 1 6 3 9 2 3 4 0 7 5 6 2 3 1 0 6 6 3]\n",
      "Original groups [array([ 9, 16], dtype=int64), array([1], dtype=int64), array([8], dtype=int64), array([11], dtype=int64), array([ 2, 15], dtype=int64), array([ 6, 13], dtype=int64), array([ 4,  7, 14, 19], dtype=int64), array([5], dtype=int64), array([10], dtype=int64), array([ 0,  3, 12, 17, 18], dtype=int64)]\n",
      "Clustered groups [array([ 9, 16], dtype=int64), array([ 2, 15], dtype=int64), array([ 6, 13], dtype=int64), array([ 4,  7, 14, 19], dtype=int64), array([8], dtype=int64), array([11], dtype=int64), array([ 0,  3, 12, 17, 18], dtype=int64), array([10], dtype=int64), array([1], dtype=int64), array([5], dtype=int64)]\n",
      "Clustering score 1.0\n",
      "1\n",
      "[[ 1.00000918e+00 -1.13753587e-01 -6.95219636e-02  9.98922765e-01\n",
      "  -9.84507427e-02  3.69958311e-01  7.12324167e-03 -9.24296379e-02\n",
      "   2.83450693e-01  4.94325489e-01  1.02822758e-01 -1.21549755e-01\n",
      "   9.98764873e-01  3.77077464e-04 -8.87216255e-02 -7.03691095e-02\n",
      "   4.93282139e-01  9.98753548e-01  9.99203086e-01 -9.23832878e-02]\n",
      " [-1.13753580e-01  1.00001371e+00  6.83757722e-01 -1.19966567e-01\n",
      "   3.45806271e-01 -1.35805324e-01  4.46108729e-01  3.44765335e-01\n",
      "  -5.47834672e-02  2.59711176e-01 -6.26712963e-02  6.89487517e-01\n",
      "  -1.20013990e-01  4.44562614e-01  3.42840940e-01  6.83279574e-01\n",
      "   3.72330546e-01 -1.16391405e-01 -1.14780150e-01  3.45711321e-01]\n",
      " [-6.95219561e-02  6.83757663e-01  1.00001585e+00 -7.56607577e-02\n",
      "   3.19299459e-01 -5.35666011e-02  4.51768041e-01  3.12981665e-01\n",
      "  -1.34287804e-01  1.28088430e-01 -3.38278674e-02  6.36303961e-01\n",
      "  -7.53869936e-02  4.41857040e-01  3.18762809e-01  9.98834729e-01\n",
      "   2.46713087e-01 -7.28827417e-02 -7.22904354e-02  3.19025069e-01]\n",
      " [ 9.98922825e-01 -1.19966567e-01 -7.56607577e-02  1.00000739e+00\n",
      "  -9.75850448e-02  3.69029373e-01 -5.49879530e-03 -9.13139805e-02\n",
      "   2.86130250e-01  4.96772438e-01  1.02868609e-01 -1.26382157e-01\n",
      "   9.99049604e-01 -1.21546704e-02 -8.78478885e-02 -7.65653104e-02\n",
      "   4.94758070e-01  9.99004126e-01  9.99028385e-01 -9.15831625e-02]\n",
      " [-9.84507427e-02  3.45806271e-01  3.19299459e-01 -9.75850448e-02\n",
      "   1.00000417e+00 -2.87977219e-01  3.02972049e-01  9.99184966e-01\n",
      "   9.01701525e-02  3.89956266e-01 -1.29632682e-01  4.13020588e-02\n",
      "  -9.82751623e-02  2.88471341e-01  9.99283791e-01  3.18999410e-01\n",
      "   3.95897955e-01 -9.08939838e-02 -9.80278105e-02  9.99347389e-01]\n",
      " [ 3.69958311e-01 -1.35805324e-01 -5.35666011e-02  3.69029403e-01\n",
      "  -2.87977189e-01  1.00000167e+00  3.01174343e-01 -2.88529128e-01\n",
      "   3.21325392e-01  5.03808498e-01  7.58230269e-01  1.85247555e-01\n",
      "   3.71435255e-01  3.15294564e-01 -2.87635416e-01 -4.95562479e-02\n",
      "   4.02113616e-01  3.78835618e-01  3.68637919e-01 -2.84063220e-01]\n",
      " [ 7.12324167e-03  4.46108729e-01  4.51768041e-01 -5.49879530e-03\n",
      "   3.02972049e-01  3.01174343e-01  1.00000846e+00  3.00783008e-01\n",
      "   1.43165598e-02  3.17870498e-01  3.83862972e-01  4.49290812e-01\n",
      "  -2.05495860e-03  9.97454762e-01  3.02933574e-01  4.53769445e-01\n",
      "   3.14115673e-01 -2.22642953e-03  5.20667469e-04  3.08976263e-01]\n",
      " [-9.24296379e-02  3.44765335e-01  3.12981635e-01 -9.13139805e-02\n",
      "   9.99184906e-01 -2.88529128e-01  3.00783008e-01  1.00000358e+00\n",
      "   8.94873291e-02  3.92938286e-01 -1.32364556e-01  4.19830345e-02\n",
      "  -9.19820666e-02  2.86192656e-01  9.99188960e-01  3.12788635e-01\n",
      "   3.98742199e-01 -8.47791955e-02 -9.20382738e-02  9.98946071e-01]\n",
      " [ 2.83450693e-01 -5.47834709e-02 -1.34287804e-01  2.86130250e-01\n",
      "   9.01701450e-02  3.21325421e-01  1.43165588e-02  8.94873217e-02\n",
      "   1.00000584e+00  4.20723110e-01 -8.24175309e-03 -1.84164401e-02\n",
      "   2.81870782e-01  1.96748916e-02  9.35226381e-02 -1.38084605e-01\n",
      "   4.16751117e-01  2.96169370e-01  2.84293920e-01  9.69227999e-02]\n",
      " [ 4.94325459e-01  2.59711176e-01  1.28088444e-01  4.96772408e-01\n",
      "   3.89956236e-01  5.03808498e-01  3.17870498e-01  3.92938286e-01\n",
      "   4.20723110e-01  1.00000679e+00  3.93558770e-01  2.40205795e-01\n",
      "   4.95472044e-01  3.19900870e-01  3.91437262e-01  1.29608855e-01\n",
      "   9.75234926e-01  5.08037865e-01  4.95284230e-01  3.94124597e-01]\n",
      " [ 1.02822758e-01 -6.26713037e-02 -3.38278674e-02  1.02868609e-01\n",
      "  -1.29632682e-01  7.58230269e-01  3.83862972e-01 -1.32364571e-01\n",
      "  -8.24175309e-03  3.93558800e-01  1.00001824e+00  1.21143505e-01\n",
      "   1.11198835e-01  4.01753038e-01 -1.31919608e-01 -3.41275968e-02\n",
      "   2.56740898e-01  1.08986713e-01  1.04372345e-01 -1.24470018e-01]\n",
      " [-1.21549748e-01  6.89487576e-01  6.36303902e-01 -1.26382157e-01\n",
      "   4.13020551e-02  1.85247540e-01  4.49290812e-01  4.19830345e-02\n",
      "  -1.84164401e-02  2.40205795e-01  1.21143498e-01  1.00003278e+00\n",
      "  -1.28179029e-01  4.50704038e-01  3.92400846e-02  6.36618316e-01\n",
      "   3.29227358e-01 -1.21733986e-01 -1.24916248e-01  4.02430221e-02]\n",
      " [ 9.98764873e-01 -1.20013990e-01 -7.53869936e-02  9.99049664e-01\n",
      "  -9.82751697e-02  3.71435255e-01 -2.05495860e-03 -9.19820741e-02\n",
      "   2.81870782e-01  4.95472103e-01  1.11198843e-01 -1.28179014e-01\n",
      "   1.00000739e+00 -8.64446908e-03 -8.83388817e-02 -7.65406638e-02\n",
      "   4.92280602e-01  9.98607397e-01  9.99072373e-01 -9.22516659e-02]\n",
      " [ 3.77077464e-04  4.44562614e-01  4.41857070e-01 -1.21546704e-02\n",
      "   2.88471311e-01  3.15294594e-01  9.97454703e-01  2.86192656e-01\n",
      "   1.96748916e-02  3.19900870e-01  4.01753038e-01  4.50704038e-01\n",
      "  -8.64446908e-03  1.00000441e+00  2.88305730e-01  4.44032133e-01\n",
      "   3.12912434e-01 -8.57602619e-03 -5.81677305e-03  2.94564605e-01]\n",
      " [-8.87216255e-02  3.42840970e-01  3.18762809e-01 -8.78478810e-02\n",
      "   9.99283850e-01 -2.87635416e-01  3.02933604e-01  9.99188960e-01\n",
      "   9.35226381e-02  3.91437262e-01 -1.31919608e-01  3.92400809e-02\n",
      "  -8.83388817e-02  2.88305730e-01  1.00000727e+00  3.18320602e-01\n",
      "   3.97818774e-01 -8.11536834e-02 -8.83077085e-02  9.99355733e-01]\n",
      " [-7.03691095e-02  6.83279574e-01  9.98834789e-01 -7.65653029e-02\n",
      "   3.18999380e-01 -4.95562479e-02  4.53769416e-01  3.12788635e-01\n",
      "  -1.38084605e-01  1.29608855e-01 -3.41275968e-02  6.36618316e-01\n",
      "  -7.65406638e-02  4.44032133e-01  3.18320572e-01  1.00001454e+00\n",
      "   2.48109579e-01 -7.38600269e-02 -7.31921047e-02  3.18666309e-01]\n",
      " [ 4.93282139e-01  3.72330546e-01  2.46713087e-01  4.94758040e-01\n",
      "   3.95897925e-01  4.02113587e-01  3.14115673e-01  3.98742229e-01\n",
      "   4.16751146e-01  9.75234866e-01  2.56740898e-01  3.29227328e-01\n",
      "   4.92280602e-01  3.12912434e-01  3.97818774e-01  2.48109579e-01\n",
      "   1.00000834e+00  5.05052030e-01  4.93778646e-01  3.99620742e-01]\n",
      " [ 9.98753488e-01 -1.16391405e-01 -7.28827342e-02  9.99004066e-01\n",
      "  -9.08939838e-02  3.78835648e-01 -2.22642953e-03 -8.47791955e-02\n",
      "   2.96169370e-01  5.08037865e-01  1.08986713e-01 -1.21733993e-01\n",
      "   9.98607457e-01 -8.57602619e-03 -8.11536759e-02 -7.38600269e-02\n",
      "   5.05052030e-01  1.00000978e+00  9.98765349e-01 -8.49264488e-02]\n",
      " [ 9.99203146e-01 -1.14780158e-01 -7.22904354e-02  9.99028385e-01\n",
      "  -9.80278105e-02  3.68637919e-01  5.20667527e-04 -9.20382738e-02\n",
      "   2.84293920e-01  4.95284200e-01  1.04372345e-01 -1.24916248e-01\n",
      "   9.99072373e-01 -5.81677305e-03 -8.83077160e-02 -7.31921047e-02\n",
      "   4.93778676e-01  9.98765349e-01  1.00000858e+00 -9.20573920e-02]\n",
      " [-9.23832804e-02  3.45711321e-01  3.19025069e-01 -9.15831625e-02\n",
      "   9.99347389e-01 -2.84063220e-01  3.08976293e-01  9.98946071e-01\n",
      "   9.69228074e-02  3.94124597e-01 -1.24470018e-01  4.02430259e-02\n",
      "  -9.22516659e-02  2.94564605e-01  9.99355733e-01  3.18666279e-01\n",
      "   3.99620742e-01 -8.49264488e-02 -9.20573920e-02  1.00000179e+00]]\n",
      "Original Copylist [9, 1, 4, 9, 6, 7, 5, 6, 2, 0, 8, 3, 9, 5, 6, 4, 0, 9, 9, 6]\n",
      "Found clusters [6 8 1 6 3 9 2 3 4 0 7 5 6 2 3 1 0 6 6 3]\n",
      "Original groups [array([ 9, 16], dtype=int64), array([1], dtype=int64), array([8], dtype=int64), array([11], dtype=int64), array([ 2, 15], dtype=int64), array([ 6, 13], dtype=int64), array([ 4,  7, 14, 19], dtype=int64), array([5], dtype=int64), array([10], dtype=int64), array([ 0,  3, 12, 17, 18], dtype=int64)]\n",
      "Clustered groups [array([ 9, 16], dtype=int64), array([ 2, 15], dtype=int64), array([ 6, 13], dtype=int64), array([ 4,  7, 14, 19], dtype=int64), array([8], dtype=int64), array([11], dtype=int64), array([ 0,  3, 12, 17, 18], dtype=int64), array([10], dtype=int64), array([1], dtype=int64), array([5], dtype=int64)]\n",
      "Clustering score 1.0\n",
      "\n",
      "\n",
      " Entering epoch 1\n",
      "Iter 0 - Epoch 0 - Client Type: Benign - Client Number 0 - Poison Training False\n"
     ]
    },
    {
     "name": "stderr",
     "output_type": "stream",
     "text": [
      "100%|████████████████████████████████████████████████████████████████████████████████████| 1/1 [00:00<00:00,  1.14it/s]\n"
     ]
    },
    {
     "name": "stdout",
     "output_type": "stream",
     "text": [
      "Iter 0 - Epoch 0 - Client Type: Benign - Client Number 1 - Poison Training False\n"
     ]
    },
    {
     "name": "stderr",
     "output_type": "stream",
     "text": [
      "100%|████████████████████████████████████████████████████████████████████████████████████| 2/2 [00:01<00:00,  1.01it/s]\n"
     ]
    },
    {
     "name": "stdout",
     "output_type": "stream",
     "text": [
      "Iter 0 - Epoch 0 - Client Type: Benign - Client Number 2 - Poison Training False\n"
     ]
    },
    {
     "name": "stderr",
     "output_type": "stream",
     "text": [
      "100%|████████████████████████████████████████████████████████████████████████████████████| 2/2 [00:01<00:00,  1.44it/s]\n"
     ]
    },
    {
     "name": "stdout",
     "output_type": "stream",
     "text": [
      "Iter 0 - Epoch 0 - Client Type: Benign - Client Number 3 - Poison Training False\n"
     ]
    },
    {
     "name": "stderr",
     "output_type": "stream",
     "text": [
      "100%|████████████████████████████████████████████████████████████████████████████████████| 1/1 [00:00<00:00,  1.31it/s]\n"
     ]
    },
    {
     "name": "stdout",
     "output_type": "stream",
     "text": [
      "Iter 0 - Epoch 0 - Client Type: Benign - Client Number 4 - Poison Training False\n"
     ]
    },
    {
     "name": "stderr",
     "output_type": "stream",
     "text": [
      "100%|████████████████████████████████████████████████████████████████████████████████████| 1/1 [00:00<00:00,  1.03it/s]\n"
     ]
    },
    {
     "name": "stdout",
     "output_type": "stream",
     "text": [
      "Iter 0 - Epoch 0 - Client Type: Benign - Client Number 5 - Poison Training False\n"
     ]
    },
    {
     "name": "stderr",
     "output_type": "stream",
     "text": [
      "100%|████████████████████████████████████████████████████████████████████████████████████| 1/1 [00:01<00:00,  1.01s/it]\n"
     ]
    },
    {
     "name": "stdout",
     "output_type": "stream",
     "text": [
      "Iter 0 - Epoch 0 - Client Type: Benign - Client Number 6 - Poison Training False\n"
     ]
    },
    {
     "name": "stderr",
     "output_type": "stream",
     "text": [
      "100%|████████████████████████████████████████████████████████████████████████████████████| 2/2 [00:02<00:00,  1.06s/it]\n"
     ]
    },
    {
     "name": "stdout",
     "output_type": "stream",
     "text": [
      "Iter 0 - Epoch 0 - Client Type: Benign - Client Number 7 - Poison Training False\n"
     ]
    },
    {
     "name": "stderr",
     "output_type": "stream",
     "text": [
      "100%|████████████████████████████████████████████████████████████████████████████████████| 1/1 [00:00<00:00,  1.07it/s]\n"
     ]
    },
    {
     "name": "stdout",
     "output_type": "stream",
     "text": [
      "Iter 0 - Epoch 0 - Client Type: Benign - Client Number 8 - Poison Training False\n"
     ]
    },
    {
     "name": "stderr",
     "output_type": "stream",
     "text": [
      "100%|████████████████████████████████████████████████████████████████████████████████████| 1/1 [00:00<00:00,  1.03it/s]\n"
     ]
    },
    {
     "name": "stdout",
     "output_type": "stream",
     "text": [
      "Iter 0 - Epoch 0 - Client Type: Benign - Client Number 9 - Poison Training False\n"
     ]
    },
    {
     "name": "stderr",
     "output_type": "stream",
     "text": [
      "100%|████████████████████████████████████████████████████████████████████████████████████| 2/2 [00:01<00:00,  1.29it/s]\n"
     ]
    },
    {
     "name": "stdout",
     "output_type": "stream",
     "text": [
      "Iter 0 - Epoch 0 - Client Type: Benign - Client Number 10 - Poison Training False\n"
     ]
    },
    {
     "name": "stderr",
     "output_type": "stream",
     "text": [
      "100%|████████████████████████████████████████████████████████████████████████████████████| 1/1 [00:00<00:00,  1.53it/s]\n"
     ]
    },
    {
     "name": "stdout",
     "output_type": "stream",
     "text": [
      "Iter 0 - Epoch 0 - Client Type: Benign - Client Number 11 - Poison Training False\n"
     ]
    },
    {
     "name": "stderr",
     "output_type": "stream",
     "text": [
      "100%|████████████████████████████████████████████████████████████████████████████████████| 2/2 [00:01<00:00,  1.23it/s]\n"
     ]
    },
    {
     "name": "stdout",
     "output_type": "stream",
     "text": [
      "Iter 0 - Epoch 0 - Client Type: Benign - Client Number 12 - Poison Training False\n"
     ]
    },
    {
     "name": "stderr",
     "output_type": "stream",
     "text": [
      "100%|████████████████████████████████████████████████████████████████████████████████████| 1/1 [00:00<00:00,  1.32it/s]\n"
     ]
    },
    {
     "name": "stdout",
     "output_type": "stream",
     "text": [
      "Iter 0 - Epoch 0 - Client Type: Benign - Client Number 13 - Poison Training False\n"
     ]
    },
    {
     "name": "stderr",
     "output_type": "stream",
     "text": [
      "100%|████████████████████████████████████████████████████████████████████████████████████| 2/2 [00:02<00:00,  1.11s/it]\n"
     ]
    },
    {
     "name": "stdout",
     "output_type": "stream",
     "text": [
      "Iter 0 - Epoch 0 - Client Type: Benign - Client Number 14 - Poison Training False\n"
     ]
    },
    {
     "name": "stderr",
     "output_type": "stream",
     "text": [
      "100%|████████████████████████████████████████████████████████████████████████████████████| 1/1 [00:00<00:00,  1.07it/s]\n"
     ]
    },
    {
     "name": "stdout",
     "output_type": "stream",
     "text": [
      "Iter 0 - Epoch 0 - Client Type: Benign - Client Number 15 - Poison Training False\n"
     ]
    },
    {
     "name": "stderr",
     "output_type": "stream",
     "text": [
      "100%|████████████████████████████████████████████████████████████████████████████████████| 2/2 [00:01<00:00,  1.40it/s]\n"
     ]
    },
    {
     "name": "stdout",
     "output_type": "stream",
     "text": [
      "Iter 0 - Epoch 0 - Client Type: Benign - Client Number 16 - Poison Training False\n"
     ]
    },
    {
     "name": "stderr",
     "output_type": "stream",
     "text": [
      "100%|████████████████████████████████████████████████████████████████████████████████████| 2/2 [00:01<00:00,  1.45it/s]\n"
     ]
    },
    {
     "name": "stdout",
     "output_type": "stream",
     "text": [
      "Iter 0 - Epoch 0 - Client Type: Benign - Client Number 17 - Poison Training False\n"
     ]
    },
    {
     "name": "stderr",
     "output_type": "stream",
     "text": [
      "100%|████████████████████████████████████████████████████████████████████████████████████| 1/1 [00:00<00:00,  1.38it/s]\n"
     ]
    },
    {
     "name": "stdout",
     "output_type": "stream",
     "text": [
      "Iter 0 - Epoch 0 - Client Type: Benign - Client Number 18 - Poison Training False\n"
     ]
    },
    {
     "name": "stderr",
     "output_type": "stream",
     "text": [
      "100%|████████████████████████████████████████████████████████████████████████████████████| 1/1 [00:00<00:00,  1.36it/s]\n"
     ]
    },
    {
     "name": "stdout",
     "output_type": "stream",
     "text": [
      "Iter 0 - Epoch 0 - Client Type: Benign - Client Number 19 - Poison Training False\n"
     ]
    },
    {
     "name": "stderr",
     "output_type": "stream",
     "text": [
      "100%|████████████████████████████████████████████████████████████████████████████████████| 1/1 [00:00<00:00,  1.06it/s]\n"
     ]
    },
    {
     "name": "stdout",
     "output_type": "stream",
     "text": [
      "Original Copylist [9, 1, 4, 9, 6, 7, 5, 6, 2, 0, 8, 3, 9, 5, 6, 4, 0, 9, 9, 6]\n",
      "Found clusters [4 7 3 4 1 6 2 1 8 0 5 9 4 2 1 3 0 4 4 1]\n",
      "Original groups [array([ 9, 16], dtype=int64), array([1], dtype=int64), array([8], dtype=int64), array([11], dtype=int64), array([ 2, 15], dtype=int64), array([ 6, 13], dtype=int64), array([ 4,  7, 14, 19], dtype=int64), array([5], dtype=int64), array([10], dtype=int64), array([ 0,  3, 12, 17, 18], dtype=int64)]\n",
      "Clustered groups [array([ 9, 16], dtype=int64), array([ 4,  7, 14, 19], dtype=int64), array([ 6, 13], dtype=int64), array([ 2, 15], dtype=int64), array([ 0,  3, 12, 17, 18], dtype=int64), array([10], dtype=int64), array([5], dtype=int64), array([1], dtype=int64), array([8], dtype=int64), array([11], dtype=int64)]\n",
      "Clustering score 1.0\n",
      "2\n",
      "[[1.00001144 0.15867947 0.20274639 0.99891946 0.11859362 0.39294408\n",
      "  0.17526289 0.11773984 0.44209833 0.38852783 0.38286238 0.2952538\n",
      "  0.99878243 0.17013442 0.12538572 0.20241498 0.36944867 0.99883813\n",
      "  0.99925658 0.12267827]\n",
      " [0.15867947 1.00001162 0.68330416 0.15305924 0.46594934 0.18190654\n",
      "  0.37786421 0.46565585 0.3188371  0.16007713 0.29080493 0.68616056\n",
      "  0.15359366 0.37933663 0.4664201  0.68323779 0.23895151 0.15947381\n",
      "  0.16071104 0.46623884]\n",
      " [0.2027464  0.68330416 1.0000115  0.19645983 0.45006171 0.16537641\n",
      "  0.39338656 0.45147157 0.18462251 0.05192122 0.32434212 0.63628957\n",
      "  0.19753385 0.38925104 0.45246144 0.99877432 0.13956632 0.20121436\n",
      "  0.20295558 0.45295863]\n",
      " [0.99891952 0.15305924 0.19645983 1.00000691 0.11767099 0.38453631\n",
      "  0.16499515 0.1170173  0.43907708 0.38697757 0.37834501 0.29070393\n",
      "  0.99913865 0.15988877 0.12440273 0.19610815 0.36653295 0.99906683\n",
      "  0.99907675 0.12165852]\n",
      " [0.11859362 0.46594934 0.45006171 0.117671   1.00000262 0.03091468\n",
      "  0.32641231 0.99714142 0.22252413 0.3678264  0.16971859 0.22549896\n",
      "  0.11696939 0.31956728 0.99866265 0.4507083  0.38030767 0.12431681\n",
      "  0.11940803 0.9990024 ]\n",
      " [0.39294407 0.18190654 0.1653764  0.38453631 0.03091469 1.00000334\n",
      "  0.449505   0.02627663 0.42751931 0.5121426  0.67901325 0.36276836\n",
      "  0.38709979 0.45921862 0.03074741 0.16964572 0.45426044 0.39394775\n",
      "  0.38959081 0.03186682]\n",
      " [0.17526289 0.37786421 0.39338654 0.16499513 0.32641231 0.44950503\n",
      "  1.00000495 0.31966093 0.15064743 0.35623616 0.33405311 0.37449726\n",
      "  0.16782536 0.99686149 0.32309236 0.39560816 0.34494679 0.16917018\n",
      "  0.16994515 0.33152276]\n",
      " [0.11773984 0.46565585 0.45147158 0.11701732 0.99714142 0.02627663\n",
      "  0.31966092 1.00000417 0.22643063 0.35665731 0.16995721 0.22572984\n",
      "  0.11638688 0.31313944 0.99799341 0.45192911 0.37143537 0.12363042\n",
      "  0.11874056 0.99692512]\n",
      " [0.4420983  0.3188371  0.18462251 0.43907711 0.22252414 0.42751932\n",
      "  0.15064743 0.22643061 1.0000087  0.27982816 0.34336732 0.31458722\n",
      "  0.43754181 0.15461981 0.23166808 0.18048946 0.30262576 0.44851388\n",
      "  0.44324456 0.2265236 ]\n",
      " [0.38852781 0.16007712 0.05192123 0.38697755 0.3678264  0.5121426\n",
      "  0.35623616 0.3566573  0.27982816 1.0000037  0.3223713  0.17719954\n",
      "  0.38727117 0.35562813 0.36439162 0.05499965 0.94271243 0.39468221\n",
      "  0.3854458  0.36987355]\n",
      " [0.38286241 0.29080495 0.32434212 0.37834501 0.16971858 0.67901325\n",
      "  0.33405311 0.16995722 0.34336735 0.32237132 1.0000242  0.41312178\n",
      "  0.38364139 0.3428064  0.17370232 0.3252607  0.28705218 0.3839183\n",
      "  0.38432453 0.17407246]\n",
      " [0.2952538  0.68616059 0.63628951 0.29070393 0.22549896 0.36276835\n",
      "  0.37449726 0.22572984 0.31458725 0.17719954 0.41312178 1.00002348\n",
      "  0.28950899 0.37790263 0.22631186 0.63715377 0.22343918 0.29729168\n",
      "  0.29574886 0.22321024]\n",
      " [0.99878243 0.15359366 0.19753386 0.99913868 0.11696937 0.38709979\n",
      "  0.16782536 0.11638687 0.43754184 0.3872712  0.38364139 0.28950897\n",
      "  1.00001168 0.16268034 0.12395281 0.19694445 0.36609965 0.99873847\n",
      "  0.99912462 0.12099537]\n",
      " [0.17013443 0.37933663 0.38925105 0.15988876 0.31956725 0.45921864\n",
      "  0.99686146 0.31313944 0.15461981 0.35562815 0.34280641 0.37790263\n",
      "  0.16268032 1.00000441 0.31639241 0.39164349 0.34353818 0.16428084\n",
      "  0.16510431 0.3245618 ]\n",
      " [0.12538572 0.46642014 0.45246144 0.12440274 0.99866265 0.03074741\n",
      "  0.32309236 0.99799347 0.23166808 0.36439162 0.17370232 0.22631186\n",
      "  0.12395282 0.31639241 1.00000608 0.45284273 0.38004558 0.13108874\n",
      "  0.12626916 0.9986974 ]\n",
      " [0.20241498 0.68323779 0.99877435 0.19610817 0.45070828 0.16964572\n",
      "  0.39560816 0.45192911 0.18048947 0.05499965 0.3252607  0.63715377\n",
      "  0.19694445 0.39164349 0.45284274 1.00001335 0.14186263 0.20077215\n",
      "  0.20260774 0.45351543]\n",
      " [0.36944867 0.23895152 0.13956632 0.36653294 0.38030766 0.45426042\n",
      "  0.34494677 0.37143539 0.30262578 0.9427124  0.28705218 0.22343916\n",
      "  0.36609965 0.34353817 0.38004556 0.14186263 1.00000548 0.37326612\n",
      "  0.36657896 0.38295108]\n",
      " [0.9988381  0.15947384 0.20121435 0.99906677 0.12431681 0.39394777\n",
      "  0.16917018 0.12363042 0.44851388 0.39468221 0.3839183  0.29729168\n",
      "  0.9987385  0.16428084 0.13108874 0.20077215 0.37326612 1.00001186\n",
      "  0.99890754 0.12823117]\n",
      " [0.99925664 0.16071104 0.2029556  0.99907675 0.11940803 0.38959081\n",
      "  0.16994516 0.11874054 0.44324456 0.38544579 0.38432453 0.29574886\n",
      "  0.99912462 0.16510431 0.12626916 0.20260774 0.36657897 0.99890751\n",
      "  1.00001293 0.12335417]\n",
      " [0.12267827 0.46623884 0.45295863 0.12165852 0.99900243 0.03186682\n",
      "  0.33152278 0.99692512 0.2265236  0.36987354 0.17407245 0.22321024\n",
      "  0.12099538 0.3245618  0.9986974  0.45351538 0.3829511  0.12823117\n",
      "  0.12335417 1.0000031 ]]\n",
      "Original Copylist [9, 1, 4, 9, 6, 7, 5, 6, 2, 0, 8, 3, 9, 5, 6, 4, 0, 9, 9, 6]\n",
      "Found clusters [3 9 7 3 1 8 2 1 6 0 4 5 3 2 1 7 0 3 3 1]\n",
      "Original groups [array([ 9, 16], dtype=int64), array([1], dtype=int64), array([8], dtype=int64), array([11], dtype=int64), array([ 2, 15], dtype=int64), array([ 6, 13], dtype=int64), array([ 4,  7, 14, 19], dtype=int64), array([5], dtype=int64), array([10], dtype=int64), array([ 0,  3, 12, 17, 18], dtype=int64)]\n",
      "Clustered groups [array([ 9, 16], dtype=int64), array([ 4,  7, 14, 19], dtype=int64), array([ 6, 13], dtype=int64), array([ 0,  3, 12, 17, 18], dtype=int64), array([10], dtype=int64), array([11], dtype=int64), array([8], dtype=int64), array([ 2, 15], dtype=int64), array([5], dtype=int64), array([1], dtype=int64)]\n",
      "Clustering score 1.0\n",
      "\n",
      "\n",
      " Entering epoch 2\n",
      "Iter 0 - Epoch 0 - Client Type: Benign - Client Number 0 - Poison Training False\n"
     ]
    },
    {
     "name": "stderr",
     "output_type": "stream",
     "text": [
      "100%|████████████████████████████████████████████████████████████████████████████████████| 1/1 [00:00<00:00,  1.49it/s]\n"
     ]
    },
    {
     "name": "stdout",
     "output_type": "stream",
     "text": [
      "Iter 0 - Epoch 0 - Client Type: Benign - Client Number 1 - Poison Training False\n"
     ]
    },
    {
     "name": "stderr",
     "output_type": "stream",
     "text": [
      "100%|████████████████████████████████████████████████████████████████████████████████████| 2/2 [00:02<00:00,  1.06s/it]\n"
     ]
    },
    {
     "name": "stdout",
     "output_type": "stream",
     "text": [
      "Iter 0 - Epoch 0 - Client Type: Benign - Client Number 2 - Poison Training False\n"
     ]
    },
    {
     "name": "stderr",
     "output_type": "stream",
     "text": [
      "100%|████████████████████████████████████████████████████████████████████████████████████| 2/2 [00:01<00:00,  1.43it/s]\n"
     ]
    },
    {
     "name": "stdout",
     "output_type": "stream",
     "text": [
      "Iter 0 - Epoch 0 - Client Type: Benign - Client Number 3 - Poison Training False\n"
     ]
    },
    {
     "name": "stderr",
     "output_type": "stream",
     "text": [
      "100%|████████████████████████████████████████████████████████████████████████████████████| 1/1 [00:00<00:00,  1.31it/s]\n"
     ]
    },
    {
     "name": "stdout",
     "output_type": "stream",
     "text": [
      "Iter 0 - Epoch 0 - Client Type: Benign - Client Number 4 - Poison Training False\n"
     ]
    },
    {
     "name": "stderr",
     "output_type": "stream",
     "text": [
      "100%|████████████████████████████████████████████████████████████████████████████████████| 1/1 [00:00<00:00,  1.06it/s]\n"
     ]
    },
    {
     "name": "stdout",
     "output_type": "stream",
     "text": [
      "Iter 0 - Epoch 0 - Client Type: Benign - Client Number 5 - Poison Training False\n"
     ]
    },
    {
     "name": "stderr",
     "output_type": "stream",
     "text": [
      "100%|████████████████████████████████████████████████████████████████████████████████████| 1/1 [00:01<00:00,  1.04s/it]\n"
     ]
    },
    {
     "name": "stdout",
     "output_type": "stream",
     "text": [
      "Iter 0 - Epoch 0 - Client Type: Benign - Client Number 6 - Poison Training False\n"
     ]
    },
    {
     "name": "stderr",
     "output_type": "stream",
     "text": [
      "100%|████████████████████████████████████████████████████████████████████████████████████| 2/2 [00:02<00:00,  1.02s/it]\n"
     ]
    },
    {
     "name": "stdout",
     "output_type": "stream",
     "text": [
      "Iter 0 - Epoch 0 - Client Type: Benign - Client Number 7 - Poison Training False\n"
     ]
    },
    {
     "name": "stderr",
     "output_type": "stream",
     "text": [
      "100%|████████████████████████████████████████████████████████████████████████████████████| 1/1 [00:00<00:00,  1.12it/s]\n"
     ]
    },
    {
     "name": "stdout",
     "output_type": "stream",
     "text": [
      "Iter 0 - Epoch 0 - Client Type: Benign - Client Number 8 - Poison Training False\n"
     ]
    },
    {
     "name": "stderr",
     "output_type": "stream",
     "text": [
      "100%|████████████████████████████████████████████████████████████████████████████████████| 1/1 [00:00<00:00,  1.04it/s]\n"
     ]
    },
    {
     "name": "stdout",
     "output_type": "stream",
     "text": [
      "Iter 0 - Epoch 0 - Client Type: Benign - Client Number 9 - Poison Training False\n"
     ]
    },
    {
     "name": "stderr",
     "output_type": "stream",
     "text": [
      "100%|████████████████████████████████████████████████████████████████████████████████████| 2/2 [00:01<00:00,  1.47it/s]\n"
     ]
    },
    {
     "name": "stdout",
     "output_type": "stream",
     "text": [
      "Iter 0 - Epoch 0 - Client Type: Benign - Client Number 10 - Poison Training False\n"
     ]
    },
    {
     "name": "stderr",
     "output_type": "stream",
     "text": [
      "100%|████████████████████████████████████████████████████████████████████████████████████| 1/1 [00:00<00:00,  1.86it/s]\n"
     ]
    },
    {
     "name": "stdout",
     "output_type": "stream",
     "text": [
      "Iter 0 - Epoch 0 - Client Type: Benign - Client Number 11 - Poison Training False\n"
     ]
    },
    {
     "name": "stderr",
     "output_type": "stream",
     "text": [
      "100%|████████████████████████████████████████████████████████████████████████████████████| 2/2 [00:01<00:00,  1.50it/s]\n"
     ]
    },
    {
     "name": "stdout",
     "output_type": "stream",
     "text": [
      "Iter 0 - Epoch 0 - Client Type: Benign - Client Number 12 - Poison Training False\n"
     ]
    },
    {
     "name": "stderr",
     "output_type": "stream",
     "text": [
      "100%|████████████████████████████████████████████████████████████████████████████████████| 1/1 [00:00<00:00,  1.49it/s]\n"
     ]
    },
    {
     "name": "stdout",
     "output_type": "stream",
     "text": [
      "Iter 0 - Epoch 0 - Client Type: Benign - Client Number 13 - Poison Training False\n"
     ]
    },
    {
     "name": "stderr",
     "output_type": "stream",
     "text": [
      "100%|████████████████████████████████████████████████████████████████████████████████████| 2/2 [00:01<00:00,  1.10it/s]\n"
     ]
    },
    {
     "name": "stdout",
     "output_type": "stream",
     "text": [
      "Iter 0 - Epoch 0 - Client Type: Benign - Client Number 14 - Poison Training False\n"
     ]
    },
    {
     "name": "stderr",
     "output_type": "stream",
     "text": [
      "100%|████████████████████████████████████████████████████████████████████████████████████| 1/1 [00:00<00:00,  1.27it/s]\n"
     ]
    },
    {
     "name": "stdout",
     "output_type": "stream",
     "text": [
      "Iter 0 - Epoch 0 - Client Type: Benign - Client Number 15 - Poison Training False\n"
     ]
    },
    {
     "name": "stderr",
     "output_type": "stream",
     "text": [
      "100%|████████████████████████████████████████████████████████████████████████████████████| 2/2 [00:01<00:00,  1.60it/s]\n"
     ]
    },
    {
     "name": "stdout",
     "output_type": "stream",
     "text": [
      "Iter 0 - Epoch 0 - Client Type: Benign - Client Number 16 - Poison Training False\n"
     ]
    },
    {
     "name": "stderr",
     "output_type": "stream",
     "text": [
      "100%|████████████████████████████████████████████████████████████████████████████████████| 2/2 [00:01<00:00,  1.42it/s]\n"
     ]
    },
    {
     "name": "stdout",
     "output_type": "stream",
     "text": [
      "Iter 0 - Epoch 0 - Client Type: Benign - Client Number 17 - Poison Training False\n"
     ]
    },
    {
     "name": "stderr",
     "output_type": "stream",
     "text": [
      "100%|████████████████████████████████████████████████████████████████████████████████████| 1/1 [00:00<00:00,  1.27it/s]\n"
     ]
    },
    {
     "name": "stdout",
     "output_type": "stream",
     "text": [
      "Iter 0 - Epoch 0 - Client Type: Benign - Client Number 18 - Poison Training False\n"
     ]
    },
    {
     "name": "stderr",
     "output_type": "stream",
     "text": [
      "100%|████████████████████████████████████████████████████████████████████████████████████| 1/1 [00:00<00:00,  1.35it/s]\n"
     ]
    },
    {
     "name": "stdout",
     "output_type": "stream",
     "text": [
      "Iter 0 - Epoch 0 - Client Type: Benign - Client Number 19 - Poison Training False\n"
     ]
    },
    {
     "name": "stderr",
     "output_type": "stream",
     "text": [
      "100%|████████████████████████████████████████████████████████████████████████████████████| 1/1 [00:00<00:00,  1.11it/s]\n"
     ]
    },
    {
     "name": "stdout",
     "output_type": "stream",
     "text": [
      "Original Copylist [9, 1, 4, 9, 6, 7, 5, 6, 2, 0, 8, 3, 9, 5, 6, 4, 0, 9, 9, 6]\n",
      "Found clusters [4 0 2 4 1 7 3 1 0 8 6 9 4 3 1 2 5 4 4 1]\n",
      "Original groups [array([ 9, 16], dtype=int64), array([1], dtype=int64), array([8], dtype=int64), array([11], dtype=int64), array([ 2, 15], dtype=int64), array([ 6, 13], dtype=int64), array([ 4,  7, 14, 19], dtype=int64), array([5], dtype=int64), array([10], dtype=int64), array([ 0,  3, 12, 17, 18], dtype=int64)]\n",
      "Clustered groups [array([1, 8], dtype=int64), array([ 4,  7, 14, 19], dtype=int64), array([ 2, 15], dtype=int64), array([ 6, 13], dtype=int64), array([ 0,  3, 12, 17, 18], dtype=int64), array([16], dtype=int64), array([10], dtype=int64), array([5], dtype=int64), array([9], dtype=int64), array([11], dtype=int64)]\n",
      "Clustering score 0.9415204678362573\n",
      "3\n",
      "[[1.00000993 0.24790736 0.28043595 0.99887782 0.16484916 0.36398742\n",
      "  0.21298319 0.16869343 0.49225077 0.40731793 0.47166337 0.43118712\n",
      "  0.99875734 0.20317458 0.17381002 0.28249558 0.41386831 0.9988446\n",
      "  0.99923807 0.16744426]\n",
      " [0.24790736 1.00000962 0.66610688 0.24256674 0.47201854 0.22994867\n",
      "  0.33793287 0.48038617 0.44618209 0.26627787 0.40620814 0.6757377\n",
      "  0.2433296  0.32753857 0.47764513 0.66892221 0.23518517 0.24963467\n",
      "  0.25093058 0.47092564]\n",
      " [0.28043594 0.66610688 1.0000114  0.27400888 0.46017327 0.18166878\n",
      "  0.35632857 0.47099886 0.28086756 0.15176403 0.42493784 0.61839585\n",
      "  0.27522687 0.34420488 0.4672546  0.99843623 0.1522101  0.27939445\n",
      "  0.28132364 0.46289489]\n",
      " [0.99887786 0.24256674 0.27400888 1.00000731 0.16341472 0.3534623\n",
      "  0.20296365 0.16744184 0.48733999 0.40341684 0.46606378 0.42665007\n",
      "  0.99913565 0.19321728 0.17228901 0.27605009 0.41081865 0.99906588\n",
      "  0.99906572 0.1658886 ]\n",
      " [0.16484916 0.47201856 0.46017326 0.16341474 1.00000203 0.11100273\n",
      "  0.35374881 0.99557203 0.23651135 0.41350635 0.2278211  0.2418449\n",
      "  0.16261993 0.34310053 0.99815154 0.46290526 0.41937633 0.16936104\n",
      "  0.16507966 0.99873767]\n",
      " [0.36398741 0.22994867 0.18166876 0.35346231 0.11100274 1.0000058\n",
      "  0.51533272 0.10565219 0.41137802 0.56918742 0.57880379 0.36344443\n",
      "  0.35640799 0.52050702 0.10997351 0.18703951 0.48722533 0.36233651\n",
      "  0.35928976 0.11055601]\n",
      " [0.2129832  0.33793287 0.35632856 0.20296365 0.35374881 0.51533276\n",
      "  1.00000489 0.34148368 0.18363433 0.39913453 0.27795876 0.32531477\n",
      "  0.20540663 0.9955036  0.34740778 0.35855709 0.39596031 0.20804509\n",
      "  0.20730734 0.35865062]\n",
      " [0.16869343 0.48038619 0.47099885 0.16744186 0.99557203 0.10565219\n",
      "  0.34148367 1.0000054  0.249662   0.40310185 0.24004131 0.25205444\n",
      "  0.16674143 0.33116421 0.9971601  0.47369499 0.40728697 0.1734697\n",
      "  0.16932342 0.99511121]\n",
      " [0.49225075 0.44618207 0.28086756 0.48734001 0.23651136 0.41137804\n",
      "  0.18363433 0.24966197 1.0000097  0.31805657 0.45891562 0.42049373\n",
      "  0.48666966 0.18032224 0.2505666  0.27897378 0.29404941 0.49625199\n",
      "  0.49341372 0.23890731]\n",
      " [0.40731792 0.26627787 0.15176403 0.40341683 0.41350635 0.56918742\n",
      "  0.39913453 0.40310184 0.31805658 1.00000362 0.38402929 0.2795906\n",
      "  0.40421394 0.39182154 0.41080924 0.15703077 0.85717014 0.41068377\n",
      "  0.40375839 0.41380497]\n",
      " [0.47166341 0.40620816 0.42493784 0.46606376 0.2278211  0.57880379\n",
      "  0.27795876 0.24004132 0.45891564 0.3840293  1.00002245 0.50291087\n",
      "  0.47042739 0.27457133 0.23896294 0.42900207 0.31745467 0.47139682\n",
      "  0.47352994 0.23097768]\n",
      " [0.43118713 0.67573772 0.61839583 0.42665007 0.2418449  0.36344443\n",
      "  0.32531477 0.25205444 0.42049375 0.27959061 0.50291086 1.00002007\n",
      "  0.42597119 0.3171165  0.24837309 0.6222893  0.25741636 0.43386876\n",
      "  0.43289914 0.23795197]\n",
      " [0.99875734 0.24332961 0.27522689 0.99913567 0.16261992 0.35640799\n",
      "  0.20540663 0.16674142 0.4866697  0.40421396 0.47042739 0.42597117\n",
      "  1.00001033 0.19555913 0.17179989 0.27705824 0.41086864 0.99875993\n",
      "  0.99912006 0.16515745]\n",
      " [0.2031746  0.32753857 0.34420489 0.19321727 0.34310051 0.52050703\n",
      "  0.99550358 0.33116421 0.18032224 0.39182155 0.27457134 0.3171165\n",
      "  0.19555912 1.00000413 0.3369292  0.34621646 0.393468   0.19830136\n",
      "  0.19767829 0.3480097 ]\n",
      " [0.17381002 0.47764516 0.46725461 0.17228902 0.99815152 0.10997351\n",
      "  0.34740777 0.99716014 0.2505666  0.41080926 0.23896294 0.24837309\n",
      "  0.1717999  0.33692919 1.00000501 0.46976621 0.41770601 0.17831926\n",
      "  0.1741909  0.99806585]\n",
      " [0.28249558 0.66892221 0.99843623 0.27605011 0.46290525 0.18703951\n",
      "  0.35855708 0.47369499 0.27897378 0.15703077 0.42900207 0.62228928\n",
      "  0.27705824 0.34621646 0.46976622 1.00001272 0.15568346 0.28136258\n",
      "  0.28340231 0.46546798]\n",
      " [0.41386831 0.23518516 0.1522101  0.41081866 0.41937632 0.48722532\n",
      "  0.39596029 0.40728699 0.29404941 0.85717014 0.31745466 0.25741634\n",
      "  0.41086864 0.39346799 0.41770601 0.15568346 1.00000489 0.41635992\n",
      "  0.41054992 0.42111171]\n",
      " [0.99884456 0.24963468 0.27939444 0.99906584 0.16936104 0.36233652\n",
      "  0.20804509 0.17346969 0.49625199 0.41068377 0.47139682 0.43386878\n",
      "  0.99875997 0.19830136 0.17831927 0.28136258 0.41635992 1.00000858\n",
      "  0.99893252 0.17176882]\n",
      " [0.99923813 0.25093058 0.28132365 0.99906572 0.16507966 0.35928976\n",
      "  0.20730734 0.16932341 0.49341374 0.40375838 0.47352994 0.43289914\n",
      "  0.99912006 0.19767829 0.1741909  0.28340231 0.41054993 0.9989325\n",
      "  1.00001017 0.16751136]\n",
      " [0.16744425 0.47092564 0.46289489 0.1658886  0.99873769 0.11055601\n",
      "  0.35865063 0.99511119 0.23890731 0.41380496 0.23097768 0.23795198\n",
      "  0.16515746 0.3480097  0.99806587 0.46546795 0.42111171 0.17176882\n",
      "  0.16751136 1.00000298]]\n",
      "Original Copylist [9, 1, 4, 9, 6, 7, 5, 6, 2, 0, 8, 3, 9, 5, 6, 4, 0, 9, 9, 6]\n",
      "Found clusters [4 9 3 4 2 7 1 2 6 0 5 8 4 1 2 3 0 4 4 2]\n",
      "Original groups [array([ 9, 16], dtype=int64), array([1], dtype=int64), array([8], dtype=int64), array([11], dtype=int64), array([ 2, 15], dtype=int64), array([ 6, 13], dtype=int64), array([ 4,  7, 14, 19], dtype=int64), array([5], dtype=int64), array([10], dtype=int64), array([ 0,  3, 12, 17, 18], dtype=int64)]\n",
      "Clustered groups [array([ 9, 16], dtype=int64), array([ 6, 13], dtype=int64), array([ 4,  7, 14, 19], dtype=int64), array([ 2, 15], dtype=int64), array([ 0,  3, 12, 17, 18], dtype=int64), array([10], dtype=int64), array([8], dtype=int64), array([5], dtype=int64), array([11], dtype=int64), array([1], dtype=int64)]\n",
      "Clustering score 1.0\n",
      "\n",
      "\n",
      " Entering epoch 3\n",
      "Iter 0 - Epoch 0 - Client Type: Benign - Client Number 0 - Poison Training False\n"
     ]
    },
    {
     "name": "stderr",
     "output_type": "stream",
     "text": [
      "100%|████████████████████████████████████████████████████████████████████████████████████| 1/1 [00:00<00:00,  1.32it/s]\n"
     ]
    },
    {
     "name": "stdout",
     "output_type": "stream",
     "text": [
      "Iter 0 - Epoch 0 - Client Type: Benign - Client Number 1 - Poison Training False\n"
     ]
    },
    {
     "name": "stderr",
     "output_type": "stream",
     "text": [
      "100%|████████████████████████████████████████████████████████████████████████████████████| 2/2 [00:02<00:00,  1.06s/it]\n"
     ]
    },
    {
     "name": "stdout",
     "output_type": "stream",
     "text": [
      "Iter 0 - Epoch 0 - Client Type: Benign - Client Number 2 - Poison Training False\n"
     ]
    },
    {
     "name": "stderr",
     "output_type": "stream",
     "text": [
      "100%|████████████████████████████████████████████████████████████████████████████████████| 2/2 [00:01<00:00,  1.31it/s]\n"
     ]
    },
    {
     "name": "stdout",
     "output_type": "stream",
     "text": [
      "Iter 0 - Epoch 0 - Client Type: Benign - Client Number 3 - Poison Training False\n"
     ]
    },
    {
     "name": "stderr",
     "output_type": "stream",
     "text": [
      "100%|████████████████████████████████████████████████████████████████████████████████████| 1/1 [00:00<00:00,  1.27it/s]\n"
     ]
    },
    {
     "name": "stdout",
     "output_type": "stream",
     "text": [
      "Iter 0 - Epoch 0 - Client Type: Benign - Client Number 4 - Poison Training False\n"
     ]
    },
    {
     "name": "stderr",
     "output_type": "stream",
     "text": [
      "100%|████████████████████████████████████████████████████████████████████████████████████| 1/1 [00:01<00:00,  1.06s/it]\n"
     ]
    },
    {
     "name": "stdout",
     "output_type": "stream",
     "text": [
      "Iter 0 - Epoch 0 - Client Type: Benign - Client Number 5 - Poison Training False\n"
     ]
    },
    {
     "name": "stderr",
     "output_type": "stream",
     "text": [
      "100%|████████████████████████████████████████████████████████████████████████████████████| 1/1 [00:01<00:00,  1.01s/it]\n"
     ]
    },
    {
     "name": "stdout",
     "output_type": "stream",
     "text": [
      "Iter 0 - Epoch 0 - Client Type: Benign - Client Number 6 - Poison Training False\n"
     ]
    },
    {
     "name": "stderr",
     "output_type": "stream",
     "text": [
      "100%|████████████████████████████████████████████████████████████████████████████████████| 2/2 [00:02<00:00,  1.05s/it]\n"
     ]
    },
    {
     "name": "stdout",
     "output_type": "stream",
     "text": [
      "Iter 0 - Epoch 0 - Client Type: Benign - Client Number 7 - Poison Training False\n"
     ]
    },
    {
     "name": "stderr",
     "output_type": "stream",
     "text": [
      "100%|████████████████████████████████████████████████████████████████████████████████████| 1/1 [00:00<00:00,  1.19it/s]\n"
     ]
    },
    {
     "name": "stdout",
     "output_type": "stream",
     "text": [
      "Iter 0 - Epoch 0 - Client Type: Benign - Client Number 8 - Poison Training False\n"
     ]
    },
    {
     "name": "stderr",
     "output_type": "stream",
     "text": [
      "100%|████████████████████████████████████████████████████████████████████████████████████| 1/1 [00:00<00:00,  1.11it/s]\n"
     ]
    },
    {
     "name": "stdout",
     "output_type": "stream",
     "text": [
      "Iter 0 - Epoch 0 - Client Type: Benign - Client Number 9 - Poison Training False\n"
     ]
    },
    {
     "name": "stderr",
     "output_type": "stream",
     "text": [
      "100%|████████████████████████████████████████████████████████████████████████████████████| 2/2 [00:01<00:00,  1.61it/s]\n"
     ]
    },
    {
     "name": "stdout",
     "output_type": "stream",
     "text": [
      "Iter 0 - Epoch 0 - Client Type: Benign - Client Number 10 - Poison Training False\n"
     ]
    },
    {
     "name": "stderr",
     "output_type": "stream",
     "text": [
      "100%|████████████████████████████████████████████████████████████████████████████████████| 1/1 [00:00<00:00,  2.11it/s]\n"
     ]
    },
    {
     "name": "stdout",
     "output_type": "stream",
     "text": [
      "Iter 0 - Epoch 0 - Client Type: Benign - Client Number 11 - Poison Training False\n"
     ]
    },
    {
     "name": "stderr",
     "output_type": "stream",
     "text": [
      "100%|████████████████████████████████████████████████████████████████████████████████████| 2/2 [00:01<00:00,  1.42it/s]\n"
     ]
    },
    {
     "name": "stdout",
     "output_type": "stream",
     "text": [
      "Iter 0 - Epoch 0 - Client Type: Benign - Client Number 12 - Poison Training False\n"
     ]
    },
    {
     "name": "stderr",
     "output_type": "stream",
     "text": [
      "100%|████████████████████████████████████████████████████████████████████████████████████| 1/1 [00:00<00:00,  1.35it/s]\n"
     ]
    },
    {
     "name": "stdout",
     "output_type": "stream",
     "text": [
      "Iter 0 - Epoch 0 - Client Type: Benign - Client Number 13 - Poison Training False\n"
     ]
    },
    {
     "name": "stderr",
     "output_type": "stream",
     "text": [
      "100%|████████████████████████████████████████████████████████████████████████████████████| 2/2 [00:02<00:00,  1.02s/it]\n"
     ]
    },
    {
     "name": "stdout",
     "output_type": "stream",
     "text": [
      "Iter 0 - Epoch 0 - Client Type: Benign - Client Number 14 - Poison Training False\n"
     ]
    },
    {
     "name": "stderr",
     "output_type": "stream",
     "text": [
      "100%|████████████████████████████████████████████████████████████████████████████████████| 1/1 [00:01<00:00,  1.01s/it]\n"
     ]
    },
    {
     "name": "stdout",
     "output_type": "stream",
     "text": [
      "Iter 0 - Epoch 0 - Client Type: Benign - Client Number 15 - Poison Training False\n"
     ]
    },
    {
     "name": "stderr",
     "output_type": "stream",
     "text": [
      "100%|████████████████████████████████████████████████████████████████████████████████████| 2/2 [00:01<00:00,  1.34it/s]\n"
     ]
    },
    {
     "name": "stdout",
     "output_type": "stream",
     "text": [
      "Iter 0 - Epoch 0 - Client Type: Benign - Client Number 16 - Poison Training False\n"
     ]
    },
    {
     "name": "stderr",
     "output_type": "stream",
     "text": [
      "100%|████████████████████████████████████████████████████████████████████████████████████| 2/2 [00:01<00:00,  1.32it/s]\n"
     ]
    },
    {
     "name": "stdout",
     "output_type": "stream",
     "text": [
      "Iter 0 - Epoch 0 - Client Type: Benign - Client Number 17 - Poison Training False\n"
     ]
    },
    {
     "name": "stderr",
     "output_type": "stream",
     "text": [
      "100%|████████████████████████████████████████████████████████████████████████████████████| 1/1 [00:00<00:00,  1.22it/s]\n"
     ]
    },
    {
     "name": "stdout",
     "output_type": "stream",
     "text": [
      "Iter 0 - Epoch 0 - Client Type: Benign - Client Number 18 - Poison Training False\n"
     ]
    },
    {
     "name": "stderr",
     "output_type": "stream",
     "text": [
      "100%|████████████████████████████████████████████████████████████████████████████████████| 1/1 [00:00<00:00,  1.26it/s]\n"
     ]
    },
    {
     "name": "stdout",
     "output_type": "stream",
     "text": [
      "Iter 0 - Epoch 0 - Client Type: Benign - Client Number 19 - Poison Training False\n"
     ]
    },
    {
     "name": "stderr",
     "output_type": "stream",
     "text": [
      "100%|████████████████████████████████████████████████████████████████████████████████████| 1/1 [00:01<00:00,  1.05s/it]\n"
     ]
    },
    {
     "name": "stdout",
     "output_type": "stream",
     "text": [
      "Original Copylist [9, 1, 4, 9, 6, 7, 5, 6, 2, 0, 8, 3, 9, 5, 6, 4, 0, 9, 9, 6]\n",
      "Found clusters [4 8 1 4 5 6 2 5 7 0 3 9 4 2 5 1 0 4 4 5]\n",
      "Original groups [array([ 9, 16], dtype=int64), array([1], dtype=int64), array([8], dtype=int64), array([11], dtype=int64), array([ 2, 15], dtype=int64), array([ 6, 13], dtype=int64), array([ 4,  7, 14, 19], dtype=int64), array([5], dtype=int64), array([10], dtype=int64), array([ 0,  3, 12, 17, 18], dtype=int64)]\n",
      "Clustered groups [array([ 9, 16], dtype=int64), array([ 2, 15], dtype=int64), array([ 6, 13], dtype=int64), array([10], dtype=int64), array([ 0,  3, 12, 17, 18], dtype=int64), array([ 4,  7, 14, 19], dtype=int64), array([5], dtype=int64), array([8], dtype=int64), array([1], dtype=int64), array([11], dtype=int64)]\n",
      "Clustering score 1.0\n",
      "4\n",
      "[[1.00000933 0.28257538 0.31455471 0.99878024 0.17598897 0.36799444\n",
      "  0.26579042 0.18336391 0.5130882  0.40512961 0.51086793 0.49137955\n",
      "  0.9986427  0.26665865 0.18588405 0.3168645  0.41655299 0.99878593\n",
      "  0.99917257 0.17781746]\n",
      " [0.28257539 1.00000927 0.65166819 0.27763613 0.44244397 0.23471277\n",
      "  0.3538164  0.45701987 0.50084375 0.28829895 0.45611486 0.65986384\n",
      "  0.27837058 0.35839912 0.44995975 0.65465194 0.28049723 0.28497299\n",
      "  0.28632762 0.440912  ]\n",
      " [0.3145547  0.65166819 1.00001049 0.30818273 0.43850537 0.18882562\n",
      "  0.3939629  0.45662854 0.32178514 0.18276012 0.46942445 0.60438785\n",
      "  0.30931705 0.40029395 0.4490384  0.99820188 0.17014893 0.3138841\n",
      "  0.31579701 0.43922213]\n",
      " [0.99878028 0.27763614 0.30818273 1.00000685 0.17413293 0.35651082\n",
      "  0.25574236 0.18173572 0.50740986 0.39981948 0.5051903  0.48688658\n",
      "  0.99907398 0.25702914 0.18397528 0.31046651 0.41268116 0.99901681\n",
      "  0.99900439 0.17586936]\n",
      " [0.17598897 0.44244399 0.43850536 0.17413295 1.000002   0.16293947\n",
      "  0.40060902 0.99392024 0.22205815 0.44239475 0.2238826  0.21972138\n",
      "  0.17320583 0.39731798 0.99757925 0.44117878 0.43118134 0.17920766\n",
      "  0.17526628 0.9984895 ]\n",
      " [0.36799443 0.23471277 0.18882561 0.35651083 0.16293947 1.00000516\n",
      "  0.53124192 0.15529034 0.39536875 0.59544417 0.52730305 0.35614192\n",
      "  0.35956717 0.52502967 0.15997065 0.19391112 0.51110405 0.36503828\n",
      "  0.36237308 0.16255762]\n",
      " [0.26579043 0.3538164  0.3939629  0.25574237 0.40060902 0.53124195\n",
      "  1.00000501 0.39257439 0.22938639 0.44105179 0.30851961 0.34137889\n",
      "  0.25727215 0.98971364 0.39465858 0.39676821 0.42687918 0.26089169\n",
      "  0.25993499 0.4034753 ]\n",
      " [0.18336391 0.45701989 0.45662854 0.18173573 0.99392022 0.15529034\n",
      "  0.39257437 1.00000474 0.24058081 0.43248326 0.24443993 0.23732481\n",
      "  0.18088039 0.39147834 0.9962478  0.45939847 0.41774165 0.18695657\n",
      "  0.18319767 0.99306403]\n",
      " [0.51308819 0.50084375 0.32178513 0.50740987 0.22205816 0.39536877\n",
      "  0.22938639 0.24058079 1.0000087  0.31971154 0.5100998  0.46293577\n",
      "  0.50690413 0.23297515 0.23715976 0.31984053 0.3110964  0.51588842\n",
      "  0.51435944 0.22405535]\n",
      " [0.4051296  0.28829895 0.18276012 0.39981948 0.44239475 0.59544417\n",
      "  0.44105177 0.43248327 0.31971156 1.0000037  0.3922962  0.29997332\n",
      "  0.40048748 0.43440841 0.43888338 0.18785834 0.83167043 0.4066283\n",
      "  0.40074503 0.44182505]\n",
      " [0.51086795 0.45611486 0.46942445 0.50519028 0.2238826  0.52730305\n",
      "  0.30851961 0.24443993 0.51009982 0.39229621 1.00002134 0.53962156\n",
      "  0.50912697 0.32613799 0.23771606 0.4739735  0.32299864 0.51041999\n",
      "  0.51337965 0.22558798]\n",
      " [0.49137955 0.65986384 0.60438783 0.48688658 0.21972137 0.35614192\n",
      "  0.34137889 0.23732481 0.46293578 0.29997333 0.53962154 1.00001752\n",
      "  0.48658613 0.35052067 0.22929631 0.60851531 0.28569521 0.49453939\n",
      "  0.4937976  0.21524161]\n",
      " [0.99864271 0.27837058 0.30931706 0.99907398 0.17320583 0.35956717\n",
      "  0.25727215 0.18088038 0.50690416 0.4004875  0.50912698 0.48658612\n",
      "  1.00000837 0.258394   0.18337283 0.31138238 0.41283776 0.99871482\n",
      "  0.99906315 0.17498657]\n",
      " [0.26665866 0.35839912 0.40029395 0.25702913 0.39731796 0.52502967\n",
      "  0.98971364 0.39147834 0.23297515 0.43440842 0.326138   0.35052066\n",
      "  0.25839399 1.00000381 0.3925336  0.40313758 0.41803031 0.26218401\n",
      "  0.26134525 0.39987586]\n",
      " [0.18588405 0.44995976 0.44903841 0.18397528 0.99757923 0.15997065\n",
      "  0.39465857 0.99624783 0.23715976 0.43888339 0.23771606 0.22929631\n",
      "  0.18337284 0.39253359 1.00000465 0.45152777 0.42623626 0.18913075\n",
      "  0.18537778 0.99731351]\n",
      " [0.3168645  0.65465192 0.99820188 0.31046653 0.44117878 0.19391112\n",
      "  0.39676819 0.45939847 0.31984053 0.18785833 0.4739735  0.60851529\n",
      "  0.31138238 0.40313758 0.45152779 1.00001207 0.17358049 0.3160961\n",
      "  0.31812729 0.44173816]\n",
      " [0.41655299 0.28049723 0.17014893 0.41268117 0.43118133 0.51110405\n",
      "  0.42687917 0.41774166 0.31109639 0.83167043 0.32299864 0.28569519\n",
      "  0.41283776 0.4180303  0.42623626 0.17358049 1.00000545 0.41817572\n",
      "  0.4128684  0.43233818]\n",
      " [0.9987859  0.284973   0.3138841  0.99901679 0.17920765 0.36503828\n",
      "  0.26089169 0.18695656 0.51588842 0.40662831 0.51041999 0.49453942\n",
      "  0.99871485 0.262184   0.18913076 0.3160961  0.41817572 1.00000703\n",
      "  0.9988974  0.18087321]\n",
      " [0.99917261 0.28632762 0.31579703 0.99900441 0.17526628 0.36237308\n",
      "  0.259935   0.18319767 0.51435945 0.40074502 0.51337965 0.4937976\n",
      "  0.99906313 0.26134524 0.18537778 0.31812728 0.4128684  0.99889737\n",
      "  1.00000829 0.17691578]\n",
      " [0.17781745 0.44091199 0.43922212 0.17586936 0.99848951 0.16255762\n",
      "  0.40347531 0.99306402 0.22405535 0.44182505 0.22558797 0.21524162\n",
      "  0.17498658 0.39987586 0.99731354 0.44173814 0.43233818 0.18087321\n",
      "  0.17691577 1.00000364]]\n",
      "Original Copylist [9, 1, 4, 9, 6, 7, 5, 6, 2, 0, 8, 3, 9, 5, 6, 4, 0, 9, 9, 6]\n",
      "Found clusters [8 9 3 8 1 7 2 1 6 0 5 4 8 2 1 3 0 8 8 1]\n",
      "Original groups [array([ 9, 16], dtype=int64), array([1], dtype=int64), array([8], dtype=int64), array([11], dtype=int64), array([ 2, 15], dtype=int64), array([ 6, 13], dtype=int64), array([ 4,  7, 14, 19], dtype=int64), array([5], dtype=int64), array([10], dtype=int64), array([ 0,  3, 12, 17, 18], dtype=int64)]\n",
      "Clustered groups [array([ 9, 16], dtype=int64), array([ 4,  7, 14, 19], dtype=int64), array([ 6, 13], dtype=int64), array([ 2, 15], dtype=int64), array([11], dtype=int64), array([10], dtype=int64), array([8], dtype=int64), array([5], dtype=int64), array([ 0,  3, 12, 17, 18], dtype=int64), array([1], dtype=int64)]\n",
      "Clustering score 1.0\n",
      "\n",
      "\n",
      " Entering epoch 4\n",
      "Iter 0 - Epoch 0 - Client Type: Benign - Client Number 0 - Poison Training False\n"
     ]
    },
    {
     "name": "stderr",
     "output_type": "stream",
     "text": [
      "100%|████████████████████████████████████████████████████████████████████████████████████| 1/1 [00:00<00:00,  1.38it/s]\n"
     ]
    },
    {
     "name": "stdout",
     "output_type": "stream",
     "text": [
      "Iter 0 - Epoch 0 - Client Type: Benign - Client Number 1 - Poison Training False\n"
     ]
    },
    {
     "name": "stderr",
     "output_type": "stream",
     "text": [
      "100%|████████████████████████████████████████████████████████████████████████████████████| 2/2 [00:02<00:00,  1.02s/it]\n"
     ]
    },
    {
     "name": "stdout",
     "output_type": "stream",
     "text": [
      "Iter 0 - Epoch 0 - Client Type: Benign - Client Number 2 - Poison Training False\n"
     ]
    },
    {
     "name": "stderr",
     "output_type": "stream",
     "text": [
      "100%|████████████████████████████████████████████████████████████████████████████████████| 2/2 [00:01<00:00,  1.42it/s]\n"
     ]
    },
    {
     "name": "stdout",
     "output_type": "stream",
     "text": [
      "Iter 0 - Epoch 0 - Client Type: Benign - Client Number 3 - Poison Training False\n"
     ]
    },
    {
     "name": "stderr",
     "output_type": "stream",
     "text": [
      "100%|████████████████████████████████████████████████████████████████████████████████████| 1/1 [00:00<00:00,  1.39it/s]\n"
     ]
    },
    {
     "name": "stdout",
     "output_type": "stream",
     "text": [
      "Iter 0 - Epoch 0 - Client Type: Benign - Client Number 4 - Poison Training False\n"
     ]
    },
    {
     "name": "stderr",
     "output_type": "stream",
     "text": [
      "100%|████████████████████████████████████████████████████████████████████████████████████| 1/1 [00:00<00:00,  1.02it/s]\n"
     ]
    },
    {
     "name": "stdout",
     "output_type": "stream",
     "text": [
      "Iter 0 - Epoch 0 - Client Type: Benign - Client Number 5 - Poison Training False\n"
     ]
    },
    {
     "name": "stderr",
     "output_type": "stream",
     "text": [
      "100%|████████████████████████████████████████████████████████████████████████████████████| 1/1 [00:01<00:00,  1.21s/it]\n"
     ]
    },
    {
     "name": "stdout",
     "output_type": "stream",
     "text": [
      "Iter 0 - Epoch 0 - Client Type: Benign - Client Number 6 - Poison Training False\n"
     ]
    },
    {
     "name": "stderr",
     "output_type": "stream",
     "text": [
      "100%|████████████████████████████████████████████████████████████████████████████████████| 2/2 [00:02<00:00,  1.07s/it]\n"
     ]
    },
    {
     "name": "stdout",
     "output_type": "stream",
     "text": [
      "Iter 0 - Epoch 0 - Client Type: Benign - Client Number 7 - Poison Training False\n"
     ]
    },
    {
     "name": "stderr",
     "output_type": "stream",
     "text": [
      "100%|████████████████████████████████████████████████████████████████████████████████████| 1/1 [00:00<00:00,  1.05it/s]\n"
     ]
    },
    {
     "name": "stdout",
     "output_type": "stream",
     "text": [
      "Iter 0 - Epoch 0 - Client Type: Benign - Client Number 8 - Poison Training False\n"
     ]
    },
    {
     "name": "stderr",
     "output_type": "stream",
     "text": [
      "100%|████████████████████████████████████████████████████████████████████████████████████| 1/1 [00:01<00:00,  1.01s/it]\n"
     ]
    },
    {
     "name": "stdout",
     "output_type": "stream",
     "text": [
      "Iter 0 - Epoch 0 - Client Type: Benign - Client Number 9 - Poison Training False\n"
     ]
    },
    {
     "name": "stderr",
     "output_type": "stream",
     "text": [
      "100%|████████████████████████████████████████████████████████████████████████████████████| 2/2 [00:01<00:00,  1.43it/s]\n"
     ]
    },
    {
     "name": "stdout",
     "output_type": "stream",
     "text": [
      "Iter 0 - Epoch 0 - Client Type: Benign - Client Number 10 - Poison Training False\n"
     ]
    },
    {
     "name": "stderr",
     "output_type": "stream",
     "text": [
      "100%|████████████████████████████████████████████████████████████████████████████████████| 1/1 [00:00<00:00,  1.63it/s]\n"
     ]
    },
    {
     "name": "stdout",
     "output_type": "stream",
     "text": [
      "Iter 0 - Epoch 0 - Client Type: Benign - Client Number 11 - Poison Training False\n"
     ]
    },
    {
     "name": "stderr",
     "output_type": "stream",
     "text": [
      "100%|████████████████████████████████████████████████████████████████████████████████████| 2/2 [00:01<00:00,  1.30it/s]\n"
     ]
    },
    {
     "name": "stdout",
     "output_type": "stream",
     "text": [
      "Iter 0 - Epoch 0 - Client Type: Benign - Client Number 12 - Poison Training False\n"
     ]
    },
    {
     "name": "stderr",
     "output_type": "stream",
     "text": [
      "100%|████████████████████████████████████████████████████████████████████████████████████| 1/1 [00:00<00:00,  1.40it/s]\n"
     ]
    },
    {
     "name": "stdout",
     "output_type": "stream",
     "text": [
      "Iter 0 - Epoch 0 - Client Type: Benign - Client Number 13 - Poison Training False\n"
     ]
    },
    {
     "name": "stderr",
     "output_type": "stream",
     "text": [
      "100%|████████████████████████████████████████████████████████████████████████████████████| 2/2 [00:02<00:00,  1.08s/it]\n"
     ]
    },
    {
     "name": "stdout",
     "output_type": "stream",
     "text": [
      "Iter 0 - Epoch 0 - Client Type: Benign - Client Number 14 - Poison Training False\n"
     ]
    },
    {
     "name": "stderr",
     "output_type": "stream",
     "text": [
      "100%|████████████████████████████████████████████████████████████████████████████████████| 1/1 [00:00<00:00,  1.09it/s]\n"
     ]
    },
    {
     "name": "stdout",
     "output_type": "stream",
     "text": [
      "Iter 0 - Epoch 0 - Client Type: Benign - Client Number 15 - Poison Training False\n"
     ]
    },
    {
     "name": "stderr",
     "output_type": "stream",
     "text": [
      "100%|████████████████████████████████████████████████████████████████████████████████████| 2/2 [00:01<00:00,  1.38it/s]\n"
     ]
    },
    {
     "name": "stdout",
     "output_type": "stream",
     "text": [
      "Iter 0 - Epoch 0 - Client Type: Benign - Client Number 16 - Poison Training False\n"
     ]
    },
    {
     "name": "stderr",
     "output_type": "stream",
     "text": [
      "100%|████████████████████████████████████████████████████████████████████████████████████| 2/2 [00:01<00:00,  1.44it/s]\n"
     ]
    },
    {
     "name": "stdout",
     "output_type": "stream",
     "text": [
      "Iter 0 - Epoch 0 - Client Type: Benign - Client Number 17 - Poison Training False\n"
     ]
    },
    {
     "name": "stderr",
     "output_type": "stream",
     "text": [
      "100%|████████████████████████████████████████████████████████████████████████████████████| 1/1 [00:00<00:00,  1.33it/s]\n"
     ]
    },
    {
     "name": "stdout",
     "output_type": "stream",
     "text": [
      "Iter 0 - Epoch 0 - Client Type: Benign - Client Number 18 - Poison Training False\n"
     ]
    },
    {
     "name": "stderr",
     "output_type": "stream",
     "text": [
      "100%|████████████████████████████████████████████████████████████████████████████████████| 1/1 [00:00<00:00,  1.39it/s]\n"
     ]
    },
    {
     "name": "stdout",
     "output_type": "stream",
     "text": [
      "Iter 0 - Epoch 0 - Client Type: Benign - Client Number 19 - Poison Training False\n"
     ]
    },
    {
     "name": "stderr",
     "output_type": "stream",
     "text": [
      "100%|████████████████████████████████████████████████████████████████████████████████████| 1/1 [00:00<00:00,  1.03it/s]\n"
     ]
    },
    {
     "name": "stdout",
     "output_type": "stream",
     "text": [
      "Original Copylist [9, 1, 4, 9, 6, 7, 5, 6, 2, 0, 8, 3, 9, 5, 6, 4, 0, 9, 9, 6]\n",
      "Found clusters [6 7 4 6 2 9 1 2 8 0 3 5 6 1 2 4 0 6 6 2]\n",
      "Original groups [array([ 9, 16], dtype=int64), array([1], dtype=int64), array([8], dtype=int64), array([11], dtype=int64), array([ 2, 15], dtype=int64), array([ 6, 13], dtype=int64), array([ 4,  7, 14, 19], dtype=int64), array([5], dtype=int64), array([10], dtype=int64), array([ 0,  3, 12, 17, 18], dtype=int64)]\n",
      "Clustered groups [array([ 9, 16], dtype=int64), array([ 6, 13], dtype=int64), array([ 4,  7, 14, 19], dtype=int64), array([10], dtype=int64), array([ 2, 15], dtype=int64), array([11], dtype=int64), array([ 0,  3, 12, 17, 18], dtype=int64), array([1], dtype=int64), array([8], dtype=int64), array([5], dtype=int64)]\n",
      "Clustering score 1.0\n",
      "5\n",
      "[[1.00000811 0.29824556 0.33274801 0.9985833  0.18738199 0.35469597\n",
      "  0.28976959 0.19472358 0.5185779  0.40470747 0.52724945 0.52072243\n",
      "  0.99840684 0.29703879 0.19528752 0.33517817 0.41846444 0.99865603\n",
      "  0.99905134 0.18827506]\n",
      " [0.29824556 1.00000899 0.64570696 0.29384952 0.44097679 0.2366701\n",
      "  0.35600537 0.45241996 0.52654698 0.31129863 0.48651345 0.65446438\n",
      "  0.29432089 0.36534742 0.446817   0.65099715 0.30441619 0.30123259\n",
      "  0.30276194 0.4389659 ]\n",
      " [0.332748   0.64570696 1.00001044 0.32666878 0.4425872  0.19249035\n",
      "  0.40989466 0.45853248 0.33907042 0.20887914 0.49400733 0.59489269\n",
      "  0.32744543 0.42296692 0.45015242 0.99404151 0.18479343 0.33246144\n",
      "  0.33434837 0.44487119]\n",
      " [0.99858334 0.29384952 0.32666878 1.00000668 0.18518098 0.34182991\n",
      "  0.27927223 0.19272431 0.51244792 0.39838828 0.52200845 0.51650759\n",
      "  0.99894434 0.28734568 0.19305181 0.32925753 0.41363735 0.99892125\n",
      "  0.9988765  0.18597025]\n",
      " [0.18738199 0.4409768  0.44258719 0.185181   1.00000312 0.21350869\n",
      "  0.43562618 0.9915291  0.21824174 0.46303693 0.23473698 0.22923812\n",
      "  0.18428888 0.43482648 0.99630184 0.44583648 0.45040141 0.19008565\n",
      "  0.18620674 0.99795263]\n",
      " [0.35469596 0.2366701  0.19249035 0.34182992 0.21350869 1.00000482\n",
      "  0.55591999 0.20492406 0.37909364 0.6171573  0.4717939  0.34187476\n",
      "  0.34474648 0.54305452 0.20937392 0.1952353  0.539668   0.35013722\n",
      "  0.34776588 0.21141983]\n",
      " [0.28976959 0.35600538 0.40989465 0.27927224 0.43562618 0.55592002\n",
      "  1.00000486 0.43133073 0.24844074 0.47954692 0.31119256 0.341641\n",
      "  0.28013782 0.9858569  0.42875661 0.40982909 0.45669001 0.28456243\n",
      "  0.28327861 0.43652947]\n",
      " [0.19472358 0.45241997 0.45853248 0.19272432 0.99152907 0.20492405\n",
      "  0.4313307  1.00000424 0.23684453 0.45673478 0.25064872 0.24094958\n",
      "  0.19192023 0.43337501 0.99496239 0.46149409 0.43649659 0.19768443\n",
      "  0.19395409 0.98968569]\n",
      " [0.5185779  0.52654697 0.33907042 0.51244793 0.21824175 0.37909365\n",
      "  0.24844074 0.23684452 1.00000768 0.32487517 0.5293337  0.48135266\n",
      "  0.51174511 0.25419762 0.23452073 0.33752052 0.31754806 0.52049028\n",
      "  0.51979215 0.21820212]\n",
      " [0.40470746 0.31129863 0.20887915 0.39838828 0.46303693 0.6171573\n",
      "  0.47954692 0.45673479 0.32487518 1.00000341 0.39217792 0.31778796\n",
      "  0.39874222 0.47372931 0.45950204 0.21263554 0.82770326 0.40496041\n",
      "  0.39966661 0.4600087 ]\n",
      " [0.52724945 0.48651344 0.49400733 0.52200844 0.23473697 0.4717939\n",
      "  0.31119256 0.25064873 0.52933371 0.39217792 1.00001972 0.56019014\n",
      "  0.52536709 0.3367421  0.24538847 0.49976733 0.32278867 0.52699297\n",
      "  0.53056515 0.2361952 ]\n",
      " [0.52072243 0.65446438 0.59489268 0.51650758 0.22923812 0.34187477\n",
      "  0.341641   0.24094958 0.48135267 0.31778796 0.56019012 1.0000155\n",
      "  0.51623088 0.35896407 0.23534565 0.59869958 0.3016952  0.52439416\n",
      "  0.52374694 0.22454383]\n",
      " [0.99840686 0.29432089 0.32744544 0.99894434 0.18428888 0.34474648\n",
      "  0.28013783 0.19192023 0.51174513 0.39874223 0.52536709 0.51623087\n",
      "  1.00000858 0.288011   0.19252465 0.32993952 0.41350184 0.99860964\n",
      "  0.99894778 0.18507275]\n",
      " [0.2970388  0.36534742 0.42296693 0.28734567 0.43482647 0.54305453\n",
      "  0.9858569  0.43337499 0.25419762 0.47372932 0.33674211 0.35896407\n",
      "  0.28801099 1.00000448 0.42918234 0.4236016  0.44476879 0.29247898\n",
      "  0.29133569 0.43518187]\n",
      " [0.19528752 0.446817   0.45015242 0.19305181 0.99630183 0.20937392\n",
      "  0.4287566  0.99496243 0.23452073 0.45950205 0.24538847 0.23534565\n",
      "  0.19252466 0.42918233 1.00000374 0.45280242 0.44429451 0.19802907\n",
      "  0.19430201 0.9949849 ]\n",
      " [0.33517818 0.65099714 0.99404153 0.32925755 0.44583648 0.1952353\n",
      "  0.40982907 0.4614941  0.33752052 0.21263554 0.49976733 0.59869957\n",
      "  0.32993952 0.4236016  0.45280243 1.00001042 0.18723441 0.33499958\n",
      "  0.33703183 0.44794596]\n",
      " [0.41846444 0.30441619 0.18479343 0.41363735 0.45040139 0.53966802\n",
      "  0.45669    0.4364966  0.31754805 0.82770326 0.32278867 0.30169518\n",
      "  0.41350184 0.44476879 0.44429451 0.18723441 1.00000572 0.41897775\n",
      "  0.41409619 0.44895966]\n",
      " [0.99865602 0.30123259 0.33246143 0.99892124 0.19008564 0.35013722\n",
      "  0.28456244 0.19768443 0.52049028 0.40496041 0.52699297 0.52439418\n",
      "  0.99860965 0.29247897 0.19802908 0.33499958 0.41897775 1.00000668\n",
      "  0.9988142  0.19075661]\n",
      " [0.99905138 0.30276195 0.33434838 0.99887652 0.18620675 0.34776588\n",
      "  0.28327862 0.19395408 0.51979216 0.3996666  0.53056515 0.52374694\n",
      "  0.99894776 0.29133569 0.19430201 0.33703183 0.4140962  0.99881417\n",
      "  1.00000787 0.18690231]\n",
      " [0.18827506 0.43896589 0.44487118 0.18597025 0.99795264 0.21141984\n",
      "  0.43652948 0.98968569 0.21820212 0.46000871 0.2361952  0.22454384\n",
      "  0.18507275 0.43518187 0.99498494 0.44794595 0.44895966 0.19075661\n",
      "  0.1869023  1.00000372]]\n",
      "Original Copylist [9, 1, 4, 9, 6, 7, 5, 6, 2, 0, 8, 3, 9, 5, 6, 4, 0, 9, 9, 6]\n",
      "Found clusters [5 9 3 5 2 7 1 2 6 0 8 4 5 1 2 3 0 5 5 2]\n",
      "Original groups [array([ 9, 16], dtype=int64), array([1], dtype=int64), array([8], dtype=int64), array([11], dtype=int64), array([ 2, 15], dtype=int64), array([ 6, 13], dtype=int64), array([ 4,  7, 14, 19], dtype=int64), array([5], dtype=int64), array([10], dtype=int64), array([ 0,  3, 12, 17, 18], dtype=int64)]\n",
      "Clustered groups [array([ 9, 16], dtype=int64), array([ 6, 13], dtype=int64), array([ 4,  7, 14, 19], dtype=int64), array([ 2, 15], dtype=int64), array([11], dtype=int64), array([ 0,  3, 12, 17, 18], dtype=int64), array([8], dtype=int64), array([5], dtype=int64), array([10], dtype=int64), array([1], dtype=int64)]\n",
      "Clustering score 1.0\n",
      "Benign net distance [tensor(110.6625), tensor(147.4712), tensor(144.5427), tensor(112.2458), tensor(7.2911), tensor(86.5603), tensor(117.5600), tensor(15.4486), tensor(123.4359), tensor(114.3985), tensor(157.8062), tensor(185.9481), tensor(113.0903), tensor(120.7453), tensor(11.9707), tensor(147.7172), tensor(115.6079), tensor(112.0823), tensor(112.4850), tensor(0.)]\n",
      "Malicious net distance []\n",
      "cos_sim list  [tensor(0.2301), tensor(0.4312), tensor(0.4675), tensor(0.2264), tensor(0.9958), tensor(0.4069), tensor(0.5687), tensor(0.9762), tensor(0.1948), tensor(0.5327), tensor(0.2786), tensor(0.2618), tensor(0.2254), tensor(0.5764), tensor(0.9857), tensor(0.4728), tensor(0.5154), tensor(0.2303), tensor(0.2268), tensor(1.0000)]\n",
      "Norms of local gradients  [tensor(1.0234), tensor(1.6894), tensor(1.5525), tensor(1.0571), tensor(0.7920), tensor(0.7422), tensor(1.2670), tensor(0.8016), tensor(1.0362), tensor(1.2881), tensor(1.7826), tensor(1.9023), tensor(1.0614), tensor(1.3211), tensor(0.8012), tensor(1.6074), tensor(1.3074), tensor(1.0476), tensor(1.0484), tensor(0.8032)]\n",
      "\n",
      " Aggregating models\n",
      "Cosine Similarities:  [tensor(0.2301), tensor(0.4312), tensor(0.4675), tensor(0.2264), tensor(0.9958), tensor(0.4069), tensor(0.5687), tensor(0.9762), tensor(0.1948), tensor(0.5327), tensor(0.2786), tensor(0.2618), tensor(0.2254), tensor(0.5764), tensor(0.9857), tensor(0.4728), tensor(0.5154), tensor(0.2303), tensor(0.2268), tensor(1.0000)]\n",
      "Aggregation Weights:  [0.01842097 0.02091104 0.02466884 0.01754542 0.10300682 0.04491477\n",
      " 0.03677609 0.09976935 0.01540133 0.033886   0.01280587 0.01127318\n",
      " 0.01740048 0.03574581 0.10078827 0.02409777 0.0323     0.01800985\n",
      " 0.0177269  0.10200491]\n",
      "\n",
      "\n",
      "\n",
      "Aggregate test at iter  0\n"
     ]
    },
    {
     "name": "stderr",
     "output_type": "stream",
     "text": [
      "100%|██████████████████████████████████████████████████████████████████████████████████| 10/10 [00:02<00:00,  4.41it/s]\n"
     ]
    },
    {
     "name": "stdout",
     "output_type": "stream",
     "text": [
      "\n",
      "Test set: Avg. loss: 0.0020, Accuracy: 3417/10000 (34%)\n",
      "\n",
      "\n",
      "\n",
      " Entering epoch 0\n",
      "Iter 1 - Epoch 0 - Client Type: Benign - Client Number 0 - Poison Training False\n"
     ]
    },
    {
     "name": "stderr",
     "output_type": "stream",
     "text": [
      "100%|████████████████████████████████████████████████████████████████████████████████████| 1/1 [00:00<00:00,  1.29it/s]\n"
     ]
    },
    {
     "name": "stdout",
     "output_type": "stream",
     "text": [
      "Iter 1 - Epoch 0 - Client Type: Benign - Client Number 1 - Poison Training False\n"
     ]
    },
    {
     "name": "stderr",
     "output_type": "stream",
     "text": [
      "100%|████████████████████████████████████████████████████████████████████████████████████| 2/2 [00:01<00:00,  1.06it/s]\n"
     ]
    },
    {
     "name": "stdout",
     "output_type": "stream",
     "text": [
      "Iter 1 - Epoch 0 - Client Type: Benign - Client Number 2 - Poison Training False\n"
     ]
    },
    {
     "name": "stderr",
     "output_type": "stream",
     "text": [
      "100%|████████████████████████████████████████████████████████████████████████████████████| 2/2 [00:01<00:00,  1.71it/s]\n"
     ]
    },
    {
     "name": "stdout",
     "output_type": "stream",
     "text": [
      "Iter 1 - Epoch 0 - Client Type: Benign - Client Number 3 - Poison Training False\n"
     ]
    },
    {
     "name": "stderr",
     "output_type": "stream",
     "text": [
      "100%|████████████████████████████████████████████████████████████████████████████████████| 1/1 [00:00<00:00,  1.22it/s]\n"
     ]
    },
    {
     "name": "stdout",
     "output_type": "stream",
     "text": [
      "Iter 1 - Epoch 0 - Client Type: Benign - Client Number 4 - Poison Training False\n"
     ]
    },
    {
     "name": "stderr",
     "output_type": "stream",
     "text": [
      "100%|████████████████████████████████████████████████████████████████████████████████████| 1/1 [00:00<00:00,  1.14it/s]\n"
     ]
    },
    {
     "name": "stdout",
     "output_type": "stream",
     "text": [
      "Iter 1 - Epoch 0 - Client Type: Benign - Client Number 5 - Poison Training False\n"
     ]
    },
    {
     "name": "stderr",
     "output_type": "stream",
     "text": [
      "100%|████████████████████████████████████████████████████████████████████████████████████| 1/1 [00:01<00:00,  1.03s/it]\n"
     ]
    },
    {
     "name": "stdout",
     "output_type": "stream",
     "text": [
      "Iter 1 - Epoch 0 - Client Type: Benign - Client Number 6 - Poison Training False\n"
     ]
    },
    {
     "name": "stderr",
     "output_type": "stream",
     "text": [
      "100%|████████████████████████████████████████████████████████████████████████████████████| 2/2 [00:02<00:00,  1.04s/it]\n"
     ]
    },
    {
     "name": "stdout",
     "output_type": "stream",
     "text": [
      "Iter 1 - Epoch 0 - Client Type: Benign - Client Number 7 - Poison Training False\n"
     ]
    },
    {
     "name": "stderr",
     "output_type": "stream",
     "text": [
      "100%|████████████████████████████████████████████████████████████████████████████████████| 1/1 [00:00<00:00,  1.04it/s]\n"
     ]
    },
    {
     "name": "stdout",
     "output_type": "stream",
     "text": [
      "Iter 1 - Epoch 0 - Client Type: Benign - Client Number 8 - Poison Training False\n"
     ]
    },
    {
     "name": "stderr",
     "output_type": "stream",
     "text": [
      "100%|████████████████████████████████████████████████████████████████████████████████████| 1/1 [00:01<00:00,  1.01s/it]\n"
     ]
    },
    {
     "name": "stdout",
     "output_type": "stream",
     "text": [
      "Iter 1 - Epoch 0 - Client Type: Benign - Client Number 9 - Poison Training False\n"
     ]
    },
    {
     "name": "stderr",
     "output_type": "stream",
     "text": [
      "100%|████████████████████████████████████████████████████████████████████████████████████| 2/2 [00:01<00:00,  1.37it/s]\n"
     ]
    },
    {
     "name": "stdout",
     "output_type": "stream",
     "text": [
      "Iter 1 - Epoch 0 - Client Type: Benign - Client Number 10 - Poison Training False\n"
     ]
    },
    {
     "name": "stderr",
     "output_type": "stream",
     "text": [
      "100%|████████████████████████████████████████████████████████████████████████████████████| 1/1 [00:00<00:00,  1.59it/s]\n"
     ]
    },
    {
     "name": "stdout",
     "output_type": "stream",
     "text": [
      "Iter 1 - Epoch 0 - Client Type: Benign - Client Number 11 - Poison Training False\n"
     ]
    },
    {
     "name": "stderr",
     "output_type": "stream",
     "text": [
      "100%|████████████████████████████████████████████████████████████████████████████████████| 2/2 [00:01<00:00,  1.26it/s]\n"
     ]
    },
    {
     "name": "stdout",
     "output_type": "stream",
     "text": [
      "Iter 1 - Epoch 0 - Client Type: Benign - Client Number 12 - Poison Training False\n"
     ]
    },
    {
     "name": "stderr",
     "output_type": "stream",
     "text": [
      "100%|████████████████████████████████████████████████████████████████████████████████████| 1/1 [00:00<00:00,  1.41it/s]\n"
     ]
    },
    {
     "name": "stdout",
     "output_type": "stream",
     "text": [
      "Iter 1 - Epoch 0 - Client Type: Benign - Client Number 13 - Poison Training False\n"
     ]
    },
    {
     "name": "stderr",
     "output_type": "stream",
     "text": [
      "100%|████████████████████████████████████████████████████████████████████████████████████| 2/2 [00:02<00:00,  1.05s/it]\n"
     ]
    },
    {
     "name": "stdout",
     "output_type": "stream",
     "text": [
      "Iter 1 - Epoch 0 - Client Type: Benign - Client Number 14 - Poison Training False\n"
     ]
    },
    {
     "name": "stderr",
     "output_type": "stream",
     "text": [
      "100%|████████████████████████████████████████████████████████████████████████████████████| 1/1 [00:00<00:00,  1.20it/s]\n"
     ]
    },
    {
     "name": "stdout",
     "output_type": "stream",
     "text": [
      "Iter 1 - Epoch 0 - Client Type: Benign - Client Number 15 - Poison Training False\n"
     ]
    },
    {
     "name": "stderr",
     "output_type": "stream",
     "text": [
      "100%|████████████████████████████████████████████████████████████████████████████████████| 2/2 [00:01<00:00,  1.62it/s]\n"
     ]
    },
    {
     "name": "stdout",
     "output_type": "stream",
     "text": [
      "Iter 1 - Epoch 0 - Client Type: Benign - Client Number 16 - Poison Training False\n"
     ]
    },
    {
     "name": "stderr",
     "output_type": "stream",
     "text": [
      "100%|████████████████████████████████████████████████████████████████████████████████████| 2/2 [00:01<00:00,  1.41it/s]\n"
     ]
    },
    {
     "name": "stdout",
     "output_type": "stream",
     "text": [
      "Iter 1 - Epoch 0 - Client Type: Benign - Client Number 17 - Poison Training False\n"
     ]
    },
    {
     "name": "stderr",
     "output_type": "stream",
     "text": [
      "100%|████████████████████████████████████████████████████████████████████████████████████| 1/1 [00:00<00:00,  1.43it/s]\n"
     ]
    },
    {
     "name": "stdout",
     "output_type": "stream",
     "text": [
      "Iter 1 - Epoch 0 - Client Type: Benign - Client Number 18 - Poison Training False\n"
     ]
    },
    {
     "name": "stderr",
     "output_type": "stream",
     "text": [
      "100%|████████████████████████████████████████████████████████████████████████████████████| 1/1 [00:00<00:00,  1.51it/s]\n"
     ]
    },
    {
     "name": "stdout",
     "output_type": "stream",
     "text": [
      "Iter 1 - Epoch 0 - Client Type: Benign - Client Number 19 - Poison Training False\n"
     ]
    },
    {
     "name": "stderr",
     "output_type": "stream",
     "text": [
      "100%|████████████████████████████████████████████████████████████████████████████████████| 1/1 [00:00<00:00,  1.21it/s]\n"
     ]
    },
    {
     "name": "stdout",
     "output_type": "stream",
     "text": [
      "Original Copylist [9, 1, 4, 9, 6, 7, 5, 6, 2, 0, 8, 3, 9, 5, 6, 4, 0, 9, 9, 6]\n",
      "Found clusters [3 7 1 3 4 9 2 4 5 0 8 6 3 2 4 1 0 3 3 4]\n",
      "Original groups [array([ 9, 16], dtype=int64), array([1], dtype=int64), array([8], dtype=int64), array([11], dtype=int64), array([ 2, 15], dtype=int64), array([ 6, 13], dtype=int64), array([ 4,  7, 14, 19], dtype=int64), array([5], dtype=int64), array([10], dtype=int64), array([ 0,  3, 12, 17, 18], dtype=int64)]\n",
      "Clustered groups [array([ 9, 16], dtype=int64), array([ 2, 15], dtype=int64), array([ 6, 13], dtype=int64), array([ 0,  3, 12, 17, 18], dtype=int64), array([ 4,  7, 14, 19], dtype=int64), array([8], dtype=int64), array([11], dtype=int64), array([1], dtype=int64), array([10], dtype=int64), array([5], dtype=int64)]\n",
      "Clustering score 1.0\n",
      "6\n",
      "[[1.00000722 0.36340141 0.34142887 0.99838727 0.213248   0.39825208\n",
      "  0.35067805 0.2207673  0.54764726 0.40469351 0.5852693  0.65198203\n",
      "  0.99825236 0.35798002 0.22088467 0.34431912 0.42578641 0.99851617\n",
      "  0.99890182 0.21358275]\n",
      " [0.36340141 1.00000651 0.58418729 0.35976985 0.49994161 0.35483046\n",
      "  0.34582223 0.51221939 0.63678607 0.38523434 0.55175189 0.56463268\n",
      "  0.3606446  0.35811069 0.50743471 0.58772624 0.36225723 0.36985582\n",
      "  0.36834486 0.49715985]\n",
      " [0.34142886 0.5841873  1.00001056 0.33363998 0.46223137 0.25484022\n",
      "  0.42075353 0.47917448 0.34768576 0.21728532 0.51327137 0.55451363\n",
      "  0.33428438 0.44094987 0.46968793 0.99284035 0.16420186 0.34112163\n",
      "  0.34155323 0.46478271]\n",
      " [0.9983873  0.35976985 0.33363997 1.00000579 0.20961385 0.38465827\n",
      "  0.34047542 0.21734006 0.54108503 0.39806236 0.57978141 0.64790422\n",
      "  0.99874376 0.34853342 0.21726127 0.33674832 0.42087567 0.99873013\n",
      "  0.99870199 0.20987054]\n",
      " [0.213248   0.49994162 0.46223135 0.20961387 1.00000355 0.28969959\n",
      "  0.47928996 0.99118478 0.19704872 0.49339616 0.28528909 0.25990089\n",
      "  0.2093031  0.48203259 0.99612881 0.46301965 0.47402061 0.21534541\n",
      "  0.21135316 0.99780174]\n",
      " [0.39825207 0.35483045 0.25484022 0.38465828 0.28969959 1.00000567\n",
      "  0.61301416 0.28214519 0.39833536 0.66143759 0.49308864 0.42378581\n",
      "  0.38774078 0.5971243  0.28617385 0.25669932 0.60417467 0.39382635\n",
      "  0.39049969 0.28724779]\n",
      " [0.35067806 0.34582223 0.42075352 0.34047543 0.47928997 0.6130142\n",
      "  1.00000482 0.47735568 0.28557157 0.5334896  0.35043847 0.32201799\n",
      "  0.34074012 0.98541417 0.47326653 0.4198144  0.50304293 0.34762524\n",
      "  0.34359561 0.47920368]\n",
      " [0.2207673  0.51221941 0.4791745  0.21734007 0.99118476 0.28214518\n",
      "  0.47735564 1.0000051  0.2165141  0.48887519 0.30265889 0.27201312\n",
      "  0.21716136 0.48290641 0.99471921 0.47983422 0.46187442 0.22317184\n",
      "  0.21929532 0.98913934]\n",
      " [0.54764726 0.63678606 0.34768575 0.54108504 0.19704872 0.39833536\n",
      "  0.28557157 0.21651409 1.00000737 0.30590321 0.57488256 0.48239064\n",
      "  0.5406686  0.2932738  0.21494815 0.35015584 0.31059804 0.54888749\n",
      "  0.54915282 0.19520441]\n",
      " [0.40469351 0.38523434 0.21728532 0.39806237 0.49339616 0.66143759\n",
      "  0.5334896  0.48887519 0.30590323 1.00000322 0.46126098 0.37658329\n",
      "  0.39885651 0.52519234 0.4904413  0.22086448 0.83070191 0.40521399\n",
      "  0.39900725 0.48909802]\n",
      " [0.5852693  0.55175188 0.51327137 0.5797814  0.28528908 0.49308864\n",
      "  0.35043847 0.30265889 0.57488256 0.46126097 1.00001786 0.62298979\n",
      "  0.58234695 0.36953062 0.29687335 0.51795939 0.41415262 0.5858934\n",
      "  0.58750095 0.28666818]\n",
      " [0.65198203 0.56463267 0.55451364 0.64790421 0.25990089 0.42378582\n",
      "  0.32201799 0.27201312 0.48239066 0.37658329 0.62298977 1.00000963\n",
      "  0.64852487 0.34011186 0.26679786 0.55785264 0.34165468 0.65637189\n",
      "  0.65529839 0.25446435]\n",
      " [0.99825238 0.3606446  0.33428439 0.99874376 0.2093031  0.38774079\n",
      "  0.34074013 0.21716136 0.54066863 0.39885651 0.58234695 0.64852487\n",
      "  1.00000789 0.34848985 0.21734528 0.33724998 0.42134936 0.9984339\n",
      "  0.99880856 0.20953073]\n",
      " [0.35798002 0.3581107  0.44094987 0.34853341 0.48203258 0.5971243\n",
      "  0.9854142  0.4829064  0.2932738  0.52519235 0.36953063 0.34011187\n",
      "  0.34848984 1.00000489 0.47734441 0.44056869 0.48947511 0.35544505\n",
      "  0.35164789 0.48140394]\n",
      " [0.22088467 0.50743473 0.46968793 0.21726127 0.99612879 0.28617385\n",
      "  0.47326651 0.99471924 0.21494815 0.4904413  0.29687335 0.26679786\n",
      "  0.21734528 0.47734441 1.00000443 0.46987876 0.46860045 0.22307107\n",
      "  0.2192353  0.99464777]\n",
      " [0.34431913 0.58772623 0.99284034 0.33674833 0.46301965 0.25669932\n",
      "  0.4198144  0.47983423 0.35015585 0.22086448 0.51795939 0.55785263\n",
      "  0.33724998 0.44056867 0.46987877 1.00000994 0.16647402 0.34418196\n",
      "  0.34467249 0.46523031]\n",
      " [0.42578641 0.36225724 0.16420186 0.42087568 0.47402059 0.60417469\n",
      "  0.50304292 0.46187443 0.31059802 0.83070192 0.41415262 0.34165467\n",
      "  0.42134937 0.48947511 0.46860045 0.16647402 1.00000513 0.42704549\n",
      "  0.42100221 0.47133881]\n",
      " [0.99851617 0.36985582 0.34112162 0.99873013 0.2153454  0.39382635\n",
      "  0.34762524 0.22317183 0.54888749 0.40521399 0.5858934  0.65637193\n",
      "  0.9984339  0.35544503 0.22307108 0.34418196 0.42704549 1.00000527\n",
      "  0.99865128 0.21546925]\n",
      " [0.99890183 0.36834486 0.34155324 0.99870201 0.21135316 0.39049969\n",
      "  0.34359562 0.21929531 0.54915283 0.39900725 0.58750096 0.65529839\n",
      "  0.99880856 0.35164788 0.2192353  0.34467249 0.42100222 0.99865125\n",
      "  1.00000713 0.21147101]\n",
      " [0.21358275 0.49715984 0.4647827  0.20987054 0.99780176 0.28724779\n",
      "  0.47920368 0.98913934 0.19520441 0.48909802 0.28666818 0.25446436\n",
      "  0.20953074 0.48140394 0.9946478  0.4652303  0.47133881 0.21546925\n",
      "  0.21147101 1.00000463]]\n",
      "Original Copylist [9, 1, 4, 9, 6, 7, 5, 6, 2, 0, 8, 3, 9, 5, 6, 4, 0, 9, 9, 6]\n",
      "Found clusters [4 8 1 4 5 7 2 5 3 0 6 9 4 2 5 1 0 4 4 5]\n",
      "Original groups [array([ 9, 16], dtype=int64), array([1], dtype=int64), array([8], dtype=int64), array([11], dtype=int64), array([ 2, 15], dtype=int64), array([ 6, 13], dtype=int64), array([ 4,  7, 14, 19], dtype=int64), array([5], dtype=int64), array([10], dtype=int64), array([ 0,  3, 12, 17, 18], dtype=int64)]\n",
      "Clustered groups [array([ 9, 16], dtype=int64), array([ 2, 15], dtype=int64), array([ 6, 13], dtype=int64), array([8], dtype=int64), array([ 0,  3, 12, 17, 18], dtype=int64), array([ 4,  7, 14, 19], dtype=int64), array([10], dtype=int64), array([5], dtype=int64), array([1], dtype=int64), array([11], dtype=int64)]\n",
      "Clustering score 1.0\n",
      "\n",
      "\n",
      " Entering epoch 1\n",
      "Iter 1 - Epoch 0 - Client Type: Benign - Client Number 0 - Poison Training False\n"
     ]
    },
    {
     "name": "stderr",
     "output_type": "stream",
     "text": [
      "100%|████████████████████████████████████████████████████████████████████████████████████| 1/1 [00:00<00:00,  1.52it/s]\n"
     ]
    },
    {
     "name": "stdout",
     "output_type": "stream",
     "text": [
      "Iter 1 - Epoch 0 - Client Type: Benign - Client Number 1 - Poison Training False\n"
     ]
    },
    {
     "name": "stderr",
     "output_type": "stream",
     "text": [
      "100%|████████████████████████████████████████████████████████████████████████████████████| 2/2 [00:01<00:00,  1.15it/s]\n"
     ]
    },
    {
     "name": "stdout",
     "output_type": "stream",
     "text": [
      "Iter 1 - Epoch 0 - Client Type: Benign - Client Number 2 - Poison Training False\n"
     ]
    },
    {
     "name": "stderr",
     "output_type": "stream",
     "text": [
      "100%|████████████████████████████████████████████████████████████████████████████████████| 2/2 [00:01<00:00,  1.61it/s]\n"
     ]
    },
    {
     "name": "stdout",
     "output_type": "stream",
     "text": [
      "Iter 1 - Epoch 0 - Client Type: Benign - Client Number 3 - Poison Training False\n"
     ]
    },
    {
     "name": "stderr",
     "output_type": "stream",
     "text": [
      "100%|████████████████████████████████████████████████████████████████████████████████████| 1/1 [00:00<00:00,  1.50it/s]\n"
     ]
    },
    {
     "name": "stdout",
     "output_type": "stream",
     "text": [
      "Iter 1 - Epoch 0 - Client Type: Benign - Client Number 4 - Poison Training False\n"
     ]
    },
    {
     "name": "stderr",
     "output_type": "stream",
     "text": [
      "100%|████████████████████████████████████████████████████████████████████████████████████| 1/1 [00:00<00:00,  1.21it/s]\n"
     ]
    },
    {
     "name": "stdout",
     "output_type": "stream",
     "text": [
      "Iter 1 - Epoch 0 - Client Type: Benign - Client Number 5 - Poison Training False\n"
     ]
    },
    {
     "name": "stderr",
     "output_type": "stream",
     "text": [
      "100%|████████████████████████████████████████████████████████████████████████████████████| 1/1 [00:00<00:00,  1.10it/s]\n"
     ]
    },
    {
     "name": "stdout",
     "output_type": "stream",
     "text": [
      "Iter 1 - Epoch 0 - Client Type: Benign - Client Number 6 - Poison Training False\n"
     ]
    },
    {
     "name": "stderr",
     "output_type": "stream",
     "text": [
      "100%|████████████████████████████████████████████████████████████████████████████████████| 2/2 [00:01<00:00,  1.07it/s]\n"
     ]
    },
    {
     "name": "stdout",
     "output_type": "stream",
     "text": [
      "Iter 1 - Epoch 0 - Client Type: Benign - Client Number 7 - Poison Training False\n"
     ]
    },
    {
     "name": "stderr",
     "output_type": "stream",
     "text": [
      "100%|████████████████████████████████████████████████████████████████████████████████████| 1/1 [00:00<00:00,  1.12it/s]\n"
     ]
    },
    {
     "name": "stdout",
     "output_type": "stream",
     "text": [
      "Iter 1 - Epoch 0 - Client Type: Benign - Client Number 8 - Poison Training False\n"
     ]
    },
    {
     "name": "stderr",
     "output_type": "stream",
     "text": [
      "100%|████████████████████████████████████████████████████████████████████████████████████| 1/1 [00:00<00:00,  1.17it/s]\n"
     ]
    },
    {
     "name": "stdout",
     "output_type": "stream",
     "text": [
      "Iter 1 - Epoch 0 - Client Type: Benign - Client Number 9 - Poison Training False\n"
     ]
    },
    {
     "name": "stderr",
     "output_type": "stream",
     "text": [
      "100%|████████████████████████████████████████████████████████████████████████████████████| 2/2 [00:01<00:00,  1.60it/s]\n"
     ]
    },
    {
     "name": "stdout",
     "output_type": "stream",
     "text": [
      "Iter 1 - Epoch 0 - Client Type: Benign - Client Number 10 - Poison Training False\n"
     ]
    },
    {
     "name": "stderr",
     "output_type": "stream",
     "text": [
      "100%|████████████████████████████████████████████████████████████████████████████████████| 1/1 [00:00<00:00,  2.01it/s]\n"
     ]
    },
    {
     "name": "stdout",
     "output_type": "stream",
     "text": [
      "Iter 1 - Epoch 0 - Client Type: Benign - Client Number 11 - Poison Training False\n"
     ]
    },
    {
     "name": "stderr",
     "output_type": "stream",
     "text": [
      "100%|████████████████████████████████████████████████████████████████████████████████████| 2/2 [00:01<00:00,  1.36it/s]\n"
     ]
    },
    {
     "name": "stdout",
     "output_type": "stream",
     "text": [
      "Iter 1 - Epoch 0 - Client Type: Benign - Client Number 12 - Poison Training False\n"
     ]
    },
    {
     "name": "stderr",
     "output_type": "stream",
     "text": [
      "100%|████████████████████████████████████████████████████████████████████████████████████| 1/1 [00:00<00:00,  1.46it/s]\n"
     ]
    },
    {
     "name": "stdout",
     "output_type": "stream",
     "text": [
      "Iter 1 - Epoch 0 - Client Type: Benign - Client Number 13 - Poison Training False\n"
     ]
    },
    {
     "name": "stderr",
     "output_type": "stream",
     "text": [
      "100%|████████████████████████████████████████████████████████████████████████████████████| 2/2 [00:01<00:00,  1.04it/s]\n"
     ]
    },
    {
     "name": "stdout",
     "output_type": "stream",
     "text": [
      "Iter 1 - Epoch 0 - Client Type: Benign - Client Number 14 - Poison Training False\n"
     ]
    },
    {
     "name": "stderr",
     "output_type": "stream",
     "text": [
      "100%|████████████████████████████████████████████████████████████████████████████████████| 1/1 [00:00<00:00,  1.08it/s]\n"
     ]
    },
    {
     "name": "stdout",
     "output_type": "stream",
     "text": [
      "Iter 1 - Epoch 0 - Client Type: Benign - Client Number 15 - Poison Training False\n"
     ]
    },
    {
     "name": "stderr",
     "output_type": "stream",
     "text": [
      "100%|████████████████████████████████████████████████████████████████████████████████████| 2/2 [00:01<00:00,  1.26it/s]\n"
     ]
    },
    {
     "name": "stdout",
     "output_type": "stream",
     "text": [
      "Iter 1 - Epoch 0 - Client Type: Benign - Client Number 16 - Poison Training False\n"
     ]
    },
    {
     "name": "stderr",
     "output_type": "stream",
     "text": [
      "100%|████████████████████████████████████████████████████████████████████████████████████| 2/2 [00:01<00:00,  1.57it/s]\n"
     ]
    },
    {
     "name": "stdout",
     "output_type": "stream",
     "text": [
      "Iter 1 - Epoch 0 - Client Type: Benign - Client Number 17 - Poison Training False\n"
     ]
    },
    {
     "name": "stderr",
     "output_type": "stream",
     "text": [
      "100%|████████████████████████████████████████████████████████████████████████████████████| 1/1 [00:00<00:00,  1.51it/s]\n"
     ]
    },
    {
     "name": "stdout",
     "output_type": "stream",
     "text": [
      "Iter 1 - Epoch 0 - Client Type: Benign - Client Number 18 - Poison Training False\n"
     ]
    },
    {
     "name": "stderr",
     "output_type": "stream",
     "text": [
      "100%|████████████████████████████████████████████████████████████████████████████████████| 1/1 [00:00<00:00,  1.50it/s]\n"
     ]
    },
    {
     "name": "stdout",
     "output_type": "stream",
     "text": [
      "Iter 1 - Epoch 0 - Client Type: Benign - Client Number 19 - Poison Training False\n"
     ]
    },
    {
     "name": "stderr",
     "output_type": "stream",
     "text": [
      "100%|████████████████████████████████████████████████████████████████████████████████████| 1/1 [00:00<00:00,  1.19it/s]\n"
     ]
    },
    {
     "name": "stdout",
     "output_type": "stream",
     "text": [
      "Original Copylist [9, 1, 4, 9, 6, 7, 5, 6, 2, 0, 8, 3, 9, 5, 6, 4, 0, 9, 9, 6]\n",
      "Found clusters [3 6 2 3 1 9 5 1 7 0 4 8 3 5 1 2 0 3 3 1]\n",
      "Original groups [array([ 9, 16], dtype=int64), array([1], dtype=int64), array([8], dtype=int64), array([11], dtype=int64), array([ 2, 15], dtype=int64), array([ 6, 13], dtype=int64), array([ 4,  7, 14, 19], dtype=int64), array([5], dtype=int64), array([10], dtype=int64), array([ 0,  3, 12, 17, 18], dtype=int64)]\n",
      "Clustered groups [array([ 9, 16], dtype=int64), array([ 4,  7, 14, 19], dtype=int64), array([ 2, 15], dtype=int64), array([ 0,  3, 12, 17, 18], dtype=int64), array([10], dtype=int64), array([ 6, 13], dtype=int64), array([1], dtype=int64), array([8], dtype=int64), array([11], dtype=int64), array([5], dtype=int64)]\n",
      "Clustering score 1.0\n",
      "7\n",
      "[[1.00000596 0.26192003 0.19210268 0.99815935 0.22519974 0.45933267\n",
      "  0.33652024 0.2358169  0.53708384 0.40415777 0.57943342 0.50784079\n",
      "  0.99804215 0.35239114 0.23427492 0.19646179 0.43732244 0.99833413\n",
      "  0.99872522 0.22414206]\n",
      " [0.26192004 1.00000587 0.54238936 0.25801978 0.3849949  0.25483838\n",
      "  0.36768926 0.3937076  0.50327225 0.43995919 0.44460158 0.49997811\n",
      "  0.25768747 0.36745576 0.38924425 0.54404873 0.42994262 0.26678716\n",
      "  0.26425849 0.38258804]\n",
      " [0.19210268 0.54238936 1.00001247 0.18553125 0.2817549  0.13181013\n",
      "  0.39367744 0.29512504 0.22345098 0.24040605 0.3563211  0.50268121\n",
      "  0.18545917 0.40091276 0.285579   0.98557572 0.18174731 0.19090768\n",
      "  0.19088961 0.28541212]\n",
      " [0.99815938 0.25801978 0.18553125 1.00000563 0.22174087 0.44830245\n",
      "  0.32572899 0.23259136 0.53240343 0.39853705 0.57549537 0.50378058\n",
      "  0.9984531  0.34244162 0.23088534 0.18994662 0.43344153 0.99847224\n",
      "  0.99846103 0.22066179]\n",
      " [0.22519975 0.38499491 0.28175489 0.22174088 1.00000534 0.2973547\n",
      "  0.48109555 0.99158143 0.21585442 0.44220342 0.26728126 0.16423425\n",
      "  0.22221819 0.49347003 0.9961267  0.27996322 0.41795081 0.22826751\n",
      "  0.22353488 0.99772878]\n",
      " [0.45933266 0.25483838 0.13181013 0.44830247 0.2973547  1.0000051\n",
      "  0.58055653 0.29418982 0.41260725 0.64270081 0.54663044 0.3066921\n",
      "  0.45126921 0.57663534 0.29511508 0.13323716 0.59615532 0.45804714\n",
      "  0.451959   0.29436892]\n",
      " [0.33652025 0.36768928 0.39367745 0.325729   0.48109555 0.58055655\n",
      "  1.00000522 0.47994971 0.28436395 0.53717798 0.3923059  0.29793332\n",
      "  0.32518913 0.98356512 0.47523504 0.3907556  0.5136633  0.33341236\n",
      "  0.32787398 0.48014528]\n",
      " [0.2358169  0.39370761 0.29512504 0.23259137 0.99158139 0.29418981\n",
      "  0.47994968 1.00000551 0.23504854 0.44043676 0.28494468 0.17500533\n",
      "  0.23329848 0.49562099 0.99484091 0.2932536  0.40820861 0.23925768\n",
      "  0.23455758 0.98947238]\n",
      " [0.53708386 0.50327223 0.22345097 0.53240342 0.21585442 0.41260725\n",
      "  0.28436395 0.23504854 1.0000056  0.28769366 0.54227821 0.34477696\n",
      "  0.53140544 0.29359292 0.23110117 0.22634223 0.28884159 0.54002087\n",
      "  0.53838422 0.21410304]\n",
      " [0.40415778 0.43995919 0.24040605 0.39853706 0.44220341 0.64270081\n",
      "  0.53717797 0.44043677 0.28769368 1.00000482 0.51080406 0.41322394\n",
      "  0.39852369 0.53116904 0.4406796  0.24559084 0.83408102 0.40562751\n",
      "  0.39826475 0.43788023]\n",
      " [0.57943341 0.44460156 0.3563211  0.57549534 0.26728126 0.54663044\n",
      "  0.3923059  0.28494468 0.5422782  0.51080406 1.00001335 0.50799296\n",
      "  0.57805426 0.41979131 0.27701945 0.35862651 0.4592452  0.58241255\n",
      "  0.58069339 0.2680295 ]\n",
      " [0.50784079 0.49997809 0.50268123 0.50378057 0.16423425 0.30669211\n",
      "  0.29793332 0.17500533 0.34477696 0.41322394 0.50799295 1.00000997\n",
      "  0.50463138 0.3076784  0.16937149 0.50612772 0.38084568 0.51020447\n",
      "  0.50984914 0.16056761]\n",
      " [0.99804219 0.25768747 0.18545918 0.99845309 0.22221819 0.45126922\n",
      "  0.32518913 0.23329848 0.53140546 0.39852369 0.57805426 0.50463139\n",
      "  1.00000563 0.34178663 0.23183418 0.18972206 0.4331845  0.99816686\n",
      "  0.99863882 0.22106223]\n",
      " [0.35239114 0.36745576 0.40091276 0.34244162 0.49347002 0.57663532\n",
      "  0.98356514 0.49562098 0.29359293 0.53116904 0.41979131 0.3076784\n",
      "  0.34178663 1.00000441 0.4891763  0.39792119 0.50266464 0.35015177\n",
      "  0.34456637 0.4918872 ]\n",
      " [0.23427492 0.38924425 0.285579   0.23088534 0.99612669 0.29511508\n",
      "  0.47523502 0.99484093 0.23110117 0.4406796  0.27701945 0.16937149\n",
      "  0.23183418 0.48917629 1.00000465 0.28358004 0.41270638 0.23748718\n",
      "  0.23287434 0.99449698]\n",
      " [0.1964618  0.54404871 0.98557572 0.18994664 0.27996323 0.13323716\n",
      "  0.39075559 0.29325361 0.22634224 0.24559084 0.35862651 0.5061277\n",
      "  0.18972206 0.39792117 0.28358005 1.00001178 0.18522396 0.19528686\n",
      "  0.19543716 0.28311012]\n",
      " [0.43732244 0.42994263 0.18174731 0.43344154 0.41795079 0.59615533\n",
      "  0.51366329 0.40820862 0.28884157 0.83408104 0.45924522 0.38084568\n",
      "  0.43318452 0.50266464 0.41270638 0.18522397 1.00000556 0.44009746\n",
      "  0.43209494 0.41494664]\n",
      " [0.99833413 0.26678715 0.19090767 0.99847224 0.2282675  0.45804715\n",
      "  0.33341237 0.23925767 0.54002087 0.40562751 0.58241255 0.5102045\n",
      "  0.99816686 0.35015175 0.23748718 0.19528686 0.44009747 1.00000312\n",
      "  0.99840503 0.22707081]\n",
      " [0.99872521 0.26425849 0.19088962 0.99846104 0.22353488 0.451959\n",
      "  0.32787399 0.23455758 0.53838423 0.39826475 0.58069341 0.50984914\n",
      "  0.99863882 0.34456636 0.23287434 0.19543716 0.43209495 0.998405\n",
      "  1.0000041  0.22227652]\n",
      " [0.22414206 0.38258803 0.2854121  0.22066179 0.99772879 0.29436892\n",
      "  0.48014528 0.98947237 0.21410304 0.43788024 0.26802949 0.16056762\n",
      "  0.22106222 0.49188721 0.99449701 0.28311013 0.41494664 0.22707081\n",
      "  0.22227653 1.00000484]]\n",
      "Original Copylist [9, 1, 4, 9, 6, 7, 5, 6, 2, 0, 8, 3, 9, 5, 6, 4, 0, 9, 9, 6]\n",
      "Found clusters [5 7 1 5 3 9 2 3 6 0 8 4 5 2 3 1 0 5 5 3]\n",
      "Original groups [array([ 9, 16], dtype=int64), array([1], dtype=int64), array([8], dtype=int64), array([11], dtype=int64), array([ 2, 15], dtype=int64), array([ 6, 13], dtype=int64), array([ 4,  7, 14, 19], dtype=int64), array([5], dtype=int64), array([10], dtype=int64), array([ 0,  3, 12, 17, 18], dtype=int64)]\n",
      "Clustered groups [array([ 9, 16], dtype=int64), array([ 2, 15], dtype=int64), array([ 6, 13], dtype=int64), array([ 4,  7, 14, 19], dtype=int64), array([11], dtype=int64), array([ 0,  3, 12, 17, 18], dtype=int64), array([8], dtype=int64), array([1], dtype=int64), array([10], dtype=int64), array([5], dtype=int64)]\n",
      "Clustering score 1.0\n",
      "\n",
      "\n",
      " Entering epoch 2\n",
      "Iter 1 - Epoch 0 - Client Type: Benign - Client Number 0 - Poison Training False\n"
     ]
    },
    {
     "name": "stderr",
     "output_type": "stream",
     "text": [
      "100%|████████████████████████████████████████████████████████████████████████████████████| 1/1 [00:00<00:00,  1.61it/s]\n"
     ]
    },
    {
     "name": "stdout",
     "output_type": "stream",
     "text": [
      "Iter 1 - Epoch 0 - Client Type: Benign - Client Number 1 - Poison Training False\n"
     ]
    },
    {
     "name": "stderr",
     "output_type": "stream",
     "text": [
      "100%|████████████████████████████████████████████████████████████████████████████████████| 2/2 [00:01<00:00,  1.10it/s]\n"
     ]
    },
    {
     "name": "stdout",
     "output_type": "stream",
     "text": [
      "Iter 1 - Epoch 0 - Client Type: Benign - Client Number 2 - Poison Training False\n"
     ]
    },
    {
     "name": "stderr",
     "output_type": "stream",
     "text": [
      "100%|████████████████████████████████████████████████████████████████████████████████████| 2/2 [00:01<00:00,  1.44it/s]\n"
     ]
    },
    {
     "name": "stdout",
     "output_type": "stream",
     "text": [
      "Iter 1 - Epoch 0 - Client Type: Benign - Client Number 3 - Poison Training False\n"
     ]
    },
    {
     "name": "stderr",
     "output_type": "stream",
     "text": [
      "100%|████████████████████████████████████████████████████████████████████████████████████| 1/1 [00:00<00:00,  1.34it/s]\n"
     ]
    },
    {
     "name": "stdout",
     "output_type": "stream",
     "text": [
      "Iter 1 - Epoch 0 - Client Type: Benign - Client Number 4 - Poison Training False\n"
     ]
    },
    {
     "name": "stderr",
     "output_type": "stream",
     "text": [
      "100%|████████████████████████████████████████████████████████████████████████████████████| 1/1 [00:00<00:00,  1.04it/s]\n"
     ]
    },
    {
     "name": "stdout",
     "output_type": "stream",
     "text": [
      "Iter 1 - Epoch 0 - Client Type: Benign - Client Number 5 - Poison Training False\n"
     ]
    },
    {
     "name": "stderr",
     "output_type": "stream",
     "text": [
      "100%|████████████████████████████████████████████████████████████████████████████████████| 1/1 [00:01<00:00,  1.04s/it]\n"
     ]
    },
    {
     "name": "stdout",
     "output_type": "stream",
     "text": [
      "Iter 1 - Epoch 0 - Client Type: Benign - Client Number 6 - Poison Training False\n"
     ]
    },
    {
     "name": "stderr",
     "output_type": "stream",
     "text": [
      "100%|████████████████████████████████████████████████████████████████████████████████████| 2/2 [00:02<00:00,  1.15s/it]\n"
     ]
    },
    {
     "name": "stdout",
     "output_type": "stream",
     "text": [
      "Iter 1 - Epoch 0 - Client Type: Benign - Client Number 7 - Poison Training False\n"
     ]
    },
    {
     "name": "stderr",
     "output_type": "stream",
     "text": [
      "100%|████████████████████████████████████████████████████████████████████████████████████| 1/1 [00:00<00:00,  1.07it/s]\n"
     ]
    },
    {
     "name": "stdout",
     "output_type": "stream",
     "text": [
      "Iter 1 - Epoch 0 - Client Type: Benign - Client Number 8 - Poison Training False\n"
     ]
    },
    {
     "name": "stderr",
     "output_type": "stream",
     "text": [
      "100%|████████████████████████████████████████████████████████████████████████████████████| 1/1 [00:00<00:00,  1.01it/s]\n"
     ]
    },
    {
     "name": "stdout",
     "output_type": "stream",
     "text": [
      "Iter 1 - Epoch 0 - Client Type: Benign - Client Number 9 - Poison Training False\n"
     ]
    },
    {
     "name": "stderr",
     "output_type": "stream",
     "text": [
      "100%|████████████████████████████████████████████████████████████████████████████████████| 2/2 [00:01<00:00,  1.36it/s]\n"
     ]
    },
    {
     "name": "stdout",
     "output_type": "stream",
     "text": [
      "Iter 1 - Epoch 0 - Client Type: Benign - Client Number 10 - Poison Training False\n"
     ]
    },
    {
     "name": "stderr",
     "output_type": "stream",
     "text": [
      "100%|████████████████████████████████████████████████████████████████████████████████████| 1/1 [00:00<00:00,  1.63it/s]\n"
     ]
    },
    {
     "name": "stdout",
     "output_type": "stream",
     "text": [
      "Iter 1 - Epoch 0 - Client Type: Benign - Client Number 11 - Poison Training False\n"
     ]
    },
    {
     "name": "stderr",
     "output_type": "stream",
     "text": [
      "100%|████████████████████████████████████████████████████████████████████████████████████| 2/2 [00:01<00:00,  1.45it/s]\n"
     ]
    },
    {
     "name": "stdout",
     "output_type": "stream",
     "text": [
      "Iter 1 - Epoch 0 - Client Type: Benign - Client Number 12 - Poison Training False\n"
     ]
    },
    {
     "name": "stderr",
     "output_type": "stream",
     "text": [
      "100%|████████████████████████████████████████████████████████████████████████████████████| 1/1 [00:00<00:00,  1.49it/s]\n"
     ]
    },
    {
     "name": "stdout",
     "output_type": "stream",
     "text": [
      "Iter 1 - Epoch 0 - Client Type: Benign - Client Number 13 - Poison Training False\n"
     ]
    },
    {
     "name": "stderr",
     "output_type": "stream",
     "text": [
      "100%|████████████████████████████████████████████████████████████████████████████████████| 2/2 [00:02<00:00,  1.17s/it]\n"
     ]
    },
    {
     "name": "stdout",
     "output_type": "stream",
     "text": [
      "Iter 1 - Epoch 0 - Client Type: Benign - Client Number 14 - Poison Training False\n"
     ]
    },
    {
     "name": "stderr",
     "output_type": "stream",
     "text": [
      "100%|████████████████████████████████████████████████████████████████████████████████████| 1/1 [00:00<00:00,  1.02it/s]\n"
     ]
    },
    {
     "name": "stdout",
     "output_type": "stream",
     "text": [
      "Iter 1 - Epoch 0 - Client Type: Benign - Client Number 15 - Poison Training False\n"
     ]
    },
    {
     "name": "stderr",
     "output_type": "stream",
     "text": [
      "100%|████████████████████████████████████████████████████████████████████████████████████| 2/2 [00:01<00:00,  1.39it/s]\n"
     ]
    },
    {
     "name": "stdout",
     "output_type": "stream",
     "text": [
      "Iter 1 - Epoch 0 - Client Type: Benign - Client Number 16 - Poison Training False\n"
     ]
    },
    {
     "name": "stderr",
     "output_type": "stream",
     "text": [
      "100%|████████████████████████████████████████████████████████████████████████████████████| 2/2 [00:01<00:00,  1.47it/s]\n"
     ]
    },
    {
     "name": "stdout",
     "output_type": "stream",
     "text": [
      "Iter 1 - Epoch 0 - Client Type: Benign - Client Number 17 - Poison Training False\n"
     ]
    },
    {
     "name": "stderr",
     "output_type": "stream",
     "text": [
      "100%|████████████████████████████████████████████████████████████████████████████████████| 1/1 [00:00<00:00,  1.38it/s]\n"
     ]
    },
    {
     "name": "stdout",
     "output_type": "stream",
     "text": [
      "Iter 1 - Epoch 0 - Client Type: Benign - Client Number 18 - Poison Training False\n"
     ]
    },
    {
     "name": "stderr",
     "output_type": "stream",
     "text": [
      "100%|████████████████████████████████████████████████████████████████████████████████████| 1/1 [00:00<00:00,  1.30it/s]\n"
     ]
    },
    {
     "name": "stdout",
     "output_type": "stream",
     "text": [
      "Iter 1 - Epoch 0 - Client Type: Benign - Client Number 19 - Poison Training False\n"
     ]
    },
    {
     "name": "stderr",
     "output_type": "stream",
     "text": [
      "100%|████████████████████████████████████████████████████████████████████████████████████| 1/1 [00:00<00:00,  1.01it/s]\n"
     ]
    },
    {
     "name": "stdout",
     "output_type": "stream",
     "text": [
      "Original Copylist [9, 1, 4, 9, 6, 7, 5, 6, 2, 0, 8, 3, 9, 5, 6, 4, 0, 9, 9, 6]\n",
      "Found clusters [3 9 2 3 6 4 1 6 5 0 8 7 3 1 6 2 0 3 3 6]\n",
      "Original groups [array([ 9, 16], dtype=int64), array([1], dtype=int64), array([8], dtype=int64), array([11], dtype=int64), array([ 2, 15], dtype=int64), array([ 6, 13], dtype=int64), array([ 4,  7, 14, 19], dtype=int64), array([5], dtype=int64), array([10], dtype=int64), array([ 0,  3, 12, 17, 18], dtype=int64)]\n",
      "Clustered groups [array([ 9, 16], dtype=int64), array([ 6, 13], dtype=int64), array([ 2, 15], dtype=int64), array([ 0,  3, 12, 17, 18], dtype=int64), array([5], dtype=int64), array([8], dtype=int64), array([ 4,  7, 14, 19], dtype=int64), array([11], dtype=int64), array([10], dtype=int64), array([1], dtype=int64)]\n",
      "Clustering score 1.0\n",
      "8\n",
      "[[1.00000494 0.21542026 0.07688477 0.99748359 0.20062016 0.53776807\n",
      "  0.37289018 0.20697281 0.49913531 0.41689361 0.59167408 0.38689169\n",
      "  0.99724251 0.3970825  0.20755743 0.07965346 0.44460495 0.99762369\n",
      "  0.99814519 0.20182539]\n",
      " [0.21542026 1.00000551 0.47495956 0.21010699 0.35691598 0.2355282\n",
      "  0.38965762 0.35751873 0.42743827 0.42357659 0.34443417 0.4246572\n",
      "  0.20992994 0.38791569 0.35546665 0.47304122 0.48606762 0.21914548\n",
      "  0.21666317 0.35779864]\n",
      " [0.07688477 0.47495956 1.00001318 0.07043644 0.21442151 0.06944724\n",
      "  0.34772503 0.21949553 0.14893825 0.17839318 0.17715516 0.44851329\n",
      "  0.07106827 0.35111933 0.21001219 0.97839427 0.15699236 0.07482203\n",
      "  0.07578286 0.21806509]\n",
      " [0.99748362 0.21010699 0.07043643 1.00000429 0.19706592 0.52617059\n",
      "  0.36276366 0.20372867 0.49405001 0.41286968 0.58814399 0.3816948\n",
      "  0.99786013 0.38777809 0.20413805 0.07327728 0.44050575 0.9978609\n",
      "  0.99788052 0.19826184]\n",
      " [0.20062016 0.35691599 0.2144215  0.19706592 1.00000753 0.26474576\n",
      "  0.45114316 0.99233898 0.13340492 0.43879966 0.21532246 0.12839058\n",
      "  0.19796768 0.46481622 0.99617156 0.210435   0.41063801 0.2016022\n",
      "  0.19751799 0.99765244]\n",
      " [0.53776806 0.23552819 0.06944725 0.52617061 0.26474575 1.00000401\n",
      "  0.56801479 0.25992346 0.45365852 0.59044517 0.62707264 0.2552342\n",
      "  0.52663124 0.57204187 0.26398602 0.06663438 0.58457635 0.53617851\n",
      "  0.52776214 0.26361693]\n",
      " [0.37289017 0.38965763 0.34772503 0.36276366 0.45114317 0.56801479\n",
      "  1.00000539 0.45051829 0.32253001 0.53216047 0.45918854 0.28038634\n",
      "  0.36122165 0.98243718 0.4467419  0.34137773 0.513005   0.37205151\n",
      "  0.36404509 0.4518429 ]\n",
      " [0.20697281 0.35751874 0.21949555 0.20372867 0.99233894 0.25992346\n",
      "  0.45051825 1.00000491 0.143033   0.43923865 0.22316016 0.13211653\n",
      "  0.20484965 0.46747929 0.99499571 0.2160932  0.40384852 0.20819059\n",
      "  0.20416314 0.99011145]\n",
      " [0.49913533 0.42743826 0.14893824 0.49405    0.13340492 0.45365851\n",
      "  0.32253001 0.143033   1.00000386 0.2434704  0.47863164 0.24103799\n",
      "  0.49155816 0.33755682 0.14332895 0.14700574 0.28517013 0.50347627\n",
      "  0.49942918 0.13403997]\n",
      " [0.41689361 0.42357659 0.17839318 0.41286967 0.43879966 0.59044518\n",
      "  0.53216047 0.43923866 0.24347041 1.00000563 0.51249505 0.37761092\n",
      "  0.41214134 0.52563517 0.43679426 0.18350367 0.88335515 0.41854707\n",
      "  0.41118837 0.43682134]\n",
      " [0.59167406 0.34443415 0.17715516 0.58814397 0.21532245 0.62707264\n",
      "  0.45918854 0.22316016 0.47863164 0.51249504 1.0000114  0.39028965\n",
      "  0.59018352 0.49714759 0.22154723 0.17559144 0.49989745 0.59507846\n",
      "  0.59030318 0.21749758]\n",
      " [0.38689169 0.42465717 0.44851331 0.38169479 0.12839058 0.2552342\n",
      "  0.28038634 0.13211653 0.24103799 0.3776109  0.39028964 1.00001063\n",
      "  0.38307724 0.29256471 0.12943822 0.45095364 0.38462227 0.38612426\n",
      "  0.38767043 0.12657646]\n",
      " [0.99724256 0.20992994 0.07106827 0.99786013 0.19796767 0.52663124\n",
      "  0.36122165 0.20484965 0.49155818 0.41214134 0.59018353 0.38307726\n",
      "  1.00000544 0.38614238 0.20549312 0.07375531 0.43953103 0.99745023\n",
      "  0.99820174 0.19907046]\n",
      " [0.39708248 0.38791568 0.35111933 0.38777808 0.46481622 0.57204185\n",
      "  0.98243721 0.46747929 0.33755683 0.52563517 0.49714758 0.29256472\n",
      "  0.38614237 1.00000503 0.46243404 0.34448417 0.49812769 0.39736199\n",
      "  0.38890317 0.46466907]\n",
      " [0.20755744 0.35546665 0.21001218 0.20413805 0.99617156 0.26398602\n",
      "  0.44674189 0.99499574 0.14332894 0.43679425 0.22154723 0.12943822\n",
      "  0.20549312 0.46243404 1.00000587 0.20608263 0.40530353 0.20867835\n",
      "  0.20461817 0.99433901]\n",
      " [0.07965347 0.47304121 0.97839428 0.07327728 0.21043501 0.06663438\n",
      "  0.34137772 0.21609321 0.14700574 0.18350367 0.17559144 0.45095364\n",
      "  0.07375531 0.34448416 0.20608263 1.00001426 0.16021452 0.07745497\n",
      "  0.07886025 0.21374305]\n",
      " [0.44460495 0.48606765 0.15699236 0.44050574 0.41063799 0.58457636\n",
      "  0.51300499 0.40384852 0.28517011 0.88335516 0.49989747 0.38462228\n",
      "  0.43953105 0.49812769 0.40530353 0.16021452 1.00000582 0.44688431\n",
      "  0.43908338 0.40969756]\n",
      " [0.99762371 0.21914548 0.07482202 0.9978609  0.20160219 0.53617852\n",
      "  0.37205153 0.20819058 0.50347627 0.41854708 0.59507846 0.38612428\n",
      "  0.99745021 0.39736198 0.20867835 0.07745497 0.44688433 1.00000327\n",
      "  0.99775046 0.20269868]\n",
      " [0.99814516 0.21666317 0.07578287 0.99788053 0.19751799 0.52776215\n",
      "  0.36404511 0.20416314 0.49942918 0.41118839 0.5903032  0.38767044\n",
      "  0.99820174 0.38890316 0.20461817 0.07886025 0.43908339 0.99775043\n",
      "  1.00000372 0.1985413 ]\n",
      " [0.20182538 0.35779863 0.21806507 0.19826184 0.99765245 0.26361693\n",
      "  0.4518429  0.99011146 0.13403997 0.43682136 0.21749758 0.12657646\n",
      "  0.19907046 0.46466908 0.99433905 0.21374305 0.40969756 0.20269868\n",
      "  0.1985413  1.00000598]]\n",
      "Original Copylist [9, 1, 4, 9, 6, 7, 5, 6, 2, 0, 8, 3, 9, 5, 6, 4, 0, 9, 9, 6]\n",
      "Found clusters [8 6 1 8 7 9 3 7 5 0 2 4 8 3 7 1 0 8 8 7]\n",
      "Original groups [array([ 9, 16], dtype=int64), array([1], dtype=int64), array([8], dtype=int64), array([11], dtype=int64), array([ 2, 15], dtype=int64), array([ 6, 13], dtype=int64), array([ 4,  7, 14, 19], dtype=int64), array([5], dtype=int64), array([10], dtype=int64), array([ 0,  3, 12, 17, 18], dtype=int64)]\n",
      "Clustered groups [array([ 9, 16], dtype=int64), array([ 2, 15], dtype=int64), array([10], dtype=int64), array([ 6, 13], dtype=int64), array([11], dtype=int64), array([8], dtype=int64), array([1], dtype=int64), array([ 4,  7, 14, 19], dtype=int64), array([ 0,  3, 12, 17, 18], dtype=int64), array([5], dtype=int64)]\n",
      "Clustering score 1.0\n",
      "\n",
      "\n",
      " Entering epoch 3\n",
      "Iter 1 - Epoch 0 - Client Type: Benign - Client Number 0 - Poison Training False\n"
     ]
    },
    {
     "name": "stderr",
     "output_type": "stream",
     "text": [
      "100%|████████████████████████████████████████████████████████████████████████████████████| 1/1 [00:00<00:00,  1.37it/s]\n"
     ]
    },
    {
     "name": "stdout",
     "output_type": "stream",
     "text": [
      "Iter 1 - Epoch 0 - Client Type: Benign - Client Number 1 - Poison Training False\n"
     ]
    },
    {
     "name": "stderr",
     "output_type": "stream",
     "text": [
      "100%|████████████████████████████████████████████████████████████████████████████████████| 2/2 [00:01<00:00,  1.03it/s]\n"
     ]
    },
    {
     "name": "stdout",
     "output_type": "stream",
     "text": [
      "Iter 1 - Epoch 0 - Client Type: Benign - Client Number 2 - Poison Training False\n"
     ]
    },
    {
     "name": "stderr",
     "output_type": "stream",
     "text": [
      "100%|████████████████████████████████████████████████████████████████████████████████████| 2/2 [00:01<00:00,  1.46it/s]\n"
     ]
    },
    {
     "name": "stdout",
     "output_type": "stream",
     "text": [
      "Iter 1 - Epoch 0 - Client Type: Benign - Client Number 3 - Poison Training False\n"
     ]
    },
    {
     "name": "stderr",
     "output_type": "stream",
     "text": [
      "100%|████████████████████████████████████████████████████████████████████████████████████| 1/1 [00:00<00:00,  1.36it/s]\n"
     ]
    },
    {
     "name": "stdout",
     "output_type": "stream",
     "text": [
      "Iter 1 - Epoch 0 - Client Type: Benign - Client Number 4 - Poison Training False\n"
     ]
    },
    {
     "name": "stderr",
     "output_type": "stream",
     "text": [
      "100%|████████████████████████████████████████████████████████████████████████████████████| 1/1 [00:00<00:00,  1.01it/s]\n"
     ]
    },
    {
     "name": "stdout",
     "output_type": "stream",
     "text": [
      "Iter 1 - Epoch 0 - Client Type: Benign - Client Number 5 - Poison Training False\n"
     ]
    },
    {
     "name": "stderr",
     "output_type": "stream",
     "text": [
      "100%|████████████████████████████████████████████████████████████████████████████████████| 1/1 [00:01<00:00,  1.02s/it]\n"
     ]
    },
    {
     "name": "stdout",
     "output_type": "stream",
     "text": [
      "Iter 1 - Epoch 0 - Client Type: Benign - Client Number 6 - Poison Training False\n"
     ]
    },
    {
     "name": "stderr",
     "output_type": "stream",
     "text": [
      "100%|████████████████████████████████████████████████████████████████████████████████████| 2/2 [00:02<00:00,  1.08s/it]\n"
     ]
    },
    {
     "name": "stdout",
     "output_type": "stream",
     "text": [
      "Iter 1 - Epoch 0 - Client Type: Benign - Client Number 7 - Poison Training False\n"
     ]
    },
    {
     "name": "stderr",
     "output_type": "stream",
     "text": [
      "100%|████████████████████████████████████████████████████████████████████████████████████| 1/1 [00:00<00:00,  1.22it/s]\n"
     ]
    },
    {
     "name": "stdout",
     "output_type": "stream",
     "text": [
      "Iter 1 - Epoch 0 - Client Type: Benign - Client Number 8 - Poison Training False\n"
     ]
    },
    {
     "name": "stderr",
     "output_type": "stream",
     "text": [
      "100%|████████████████████████████████████████████████████████████████████████████████████| 1/1 [00:00<00:00,  1.05it/s]\n"
     ]
    },
    {
     "name": "stdout",
     "output_type": "stream",
     "text": [
      "Iter 1 - Epoch 0 - Client Type: Benign - Client Number 9 - Poison Training False\n"
     ]
    },
    {
     "name": "stderr",
     "output_type": "stream",
     "text": [
      "100%|████████████████████████████████████████████████████████████████████████████████████| 2/2 [00:01<00:00,  1.43it/s]\n"
     ]
    },
    {
     "name": "stdout",
     "output_type": "stream",
     "text": [
      "Iter 1 - Epoch 0 - Client Type: Benign - Client Number 10 - Poison Training False\n"
     ]
    },
    {
     "name": "stderr",
     "output_type": "stream",
     "text": [
      "100%|████████████████████████████████████████████████████████████████████████████████████| 1/1 [00:00<00:00,  1.54it/s]\n"
     ]
    },
    {
     "name": "stdout",
     "output_type": "stream",
     "text": [
      "Iter 1 - Epoch 0 - Client Type: Benign - Client Number 11 - Poison Training False\n"
     ]
    },
    {
     "name": "stderr",
     "output_type": "stream",
     "text": [
      "100%|████████████████████████████████████████████████████████████████████████████████████| 2/2 [00:01<00:00,  1.28it/s]\n"
     ]
    },
    {
     "name": "stdout",
     "output_type": "stream",
     "text": [
      "Iter 1 - Epoch 0 - Client Type: Benign - Client Number 12 - Poison Training False\n"
     ]
    },
    {
     "name": "stderr",
     "output_type": "stream",
     "text": [
      "100%|████████████████████████████████████████████████████████████████████████████████████| 1/1 [00:00<00:00,  1.34it/s]\n"
     ]
    },
    {
     "name": "stdout",
     "output_type": "stream",
     "text": [
      "Iter 1 - Epoch 0 - Client Type: Benign - Client Number 13 - Poison Training False\n"
     ]
    },
    {
     "name": "stderr",
     "output_type": "stream",
     "text": [
      "100%|████████████████████████████████████████████████████████████████████████████████████| 2/2 [00:02<00:00,  1.04s/it]\n"
     ]
    },
    {
     "name": "stdout",
     "output_type": "stream",
     "text": [
      "Iter 1 - Epoch 0 - Client Type: Benign - Client Number 14 - Poison Training False\n"
     ]
    },
    {
     "name": "stderr",
     "output_type": "stream",
     "text": [
      "100%|████████████████████████████████████████████████████████████████████████████████████| 1/1 [00:01<00:00,  1.01s/it]\n"
     ]
    },
    {
     "name": "stdout",
     "output_type": "stream",
     "text": [
      "Iter 1 - Epoch 0 - Client Type: Benign - Client Number 15 - Poison Training False\n"
     ]
    },
    {
     "name": "stderr",
     "output_type": "stream",
     "text": [
      "100%|████████████████████████████████████████████████████████████████████████████████████| 2/2 [00:01<00:00,  1.33it/s]\n"
     ]
    },
    {
     "name": "stdout",
     "output_type": "stream",
     "text": [
      "Iter 1 - Epoch 0 - Client Type: Benign - Client Number 16 - Poison Training False\n"
     ]
    },
    {
     "name": "stderr",
     "output_type": "stream",
     "text": [
      "100%|████████████████████████████████████████████████████████████████████████████████████| 2/2 [00:01<00:00,  1.43it/s]\n"
     ]
    },
    {
     "name": "stdout",
     "output_type": "stream",
     "text": [
      "Iter 1 - Epoch 0 - Client Type: Benign - Client Number 17 - Poison Training False\n"
     ]
    },
    {
     "name": "stderr",
     "output_type": "stream",
     "text": [
      "100%|████████████████████████████████████████████████████████████████████████████████████| 1/1 [00:00<00:00,  1.31it/s]\n"
     ]
    },
    {
     "name": "stdout",
     "output_type": "stream",
     "text": [
      "Iter 1 - Epoch 0 - Client Type: Benign - Client Number 18 - Poison Training False\n"
     ]
    },
    {
     "name": "stderr",
     "output_type": "stream",
     "text": [
      "100%|████████████████████████████████████████████████████████████████████████████████████| 1/1 [00:00<00:00,  1.12it/s]\n"
     ]
    },
    {
     "name": "stdout",
     "output_type": "stream",
     "text": [
      "Iter 1 - Epoch 0 - Client Type: Benign - Client Number 19 - Poison Training False\n"
     ]
    },
    {
     "name": "stderr",
     "output_type": "stream",
     "text": [
      "100%|████████████████████████████████████████████████████████████████████████████████████| 1/1 [00:00<00:00,  1.13it/s]\n"
     ]
    },
    {
     "name": "stdout",
     "output_type": "stream",
     "text": [
      "Original Copylist [9, 1, 4, 9, 6, 7, 5, 6, 2, 0, 8, 3, 9, 5, 6, 4, 0, 9, 9, 6]\n",
      "Found clusters [3 8 1 3 4 9 2 4 6 0 7 5 3 2 4 1 0 3 3 4]\n",
      "Original groups [array([ 9, 16], dtype=int64), array([1], dtype=int64), array([8], dtype=int64), array([11], dtype=int64), array([ 2, 15], dtype=int64), array([ 6, 13], dtype=int64), array([ 4,  7, 14, 19], dtype=int64), array([5], dtype=int64), array([10], dtype=int64), array([ 0,  3, 12, 17, 18], dtype=int64)]\n",
      "Clustered groups [array([ 9, 16], dtype=int64), array([ 2, 15], dtype=int64), array([ 6, 13], dtype=int64), array([ 0,  3, 12, 17, 18], dtype=int64), array([ 4,  7, 14, 19], dtype=int64), array([11], dtype=int64), array([8], dtype=int64), array([10], dtype=int64), array([1], dtype=int64), array([5], dtype=int64)]\n",
      "Clustering score 1.0\n",
      "9\n",
      "[[ 1.00000486  0.19528863  0.02561039  0.99668833  0.20208539  0.56860763\n",
      "   0.38315535  0.20306042  0.49067695  0.44079011  0.56720379  0.3283239\n",
      "   0.9959958   0.40031031  0.20798308  0.0166681   0.47442803  0.99683826\n",
      "   0.99741155  0.20361497]\n",
      " [ 0.19528861  1.00000477  0.41137531  0.19167493  0.3771059   0.24370063\n",
      "   0.39106187  0.36808926  0.40906194  0.44945843  0.2849528   0.36204247\n",
      "   0.19247261  0.37429718  0.37206565  0.41077703  0.51464952  0.2013092\n",
      "   0.19865639  0.38054123]\n",
      " [ 0.02561039  0.41137531  1.00001562  0.02564689  0.21064703  0.00128895\n",
      "   0.26434607  0.21308137  0.10274132  0.13117827  0.03714259  0.39043156\n",
      "   0.02897692  0.26248311  0.20809203  0.96821446  0.12206483  0.02925663\n",
      "   0.03090161  0.21252558]\n",
      " [ 0.99668835  0.19167493  0.02564689  1.00000339  0.20126616  0.55307553\n",
      "   0.37079829  0.20285834  0.48818572  0.43757023  0.55858536  0.32641746\n",
      "   0.99726918  0.38883074  0.20753086  0.01723536  0.47008343  0.99733143\n",
      "   0.99729315  0.2026254 ]\n",
      " [ 0.20208539  0.3771059   0.21064702  0.20126616  1.00000808  0.2216066\n",
      "   0.40761222  0.99337087  0.11883686  0.43513651  0.19394052  0.14058287\n",
      "   0.2033904   0.42180242  0.99602019  0.20659293  0.41505998  0.20561543\n",
      "   0.20204944  0.99756104]\n",
      " [ 0.56860763  0.24370063  0.00128895  0.55307554  0.2216066   1.0000052\n",
      "   0.56584578  0.2138416   0.46466076  0.58632796  0.70937     0.23336187\n",
      "   0.55012185  0.57622937  0.2201146  -0.00703314  0.60793341  0.56566583\n",
      "   0.55737565  0.22279827]\n",
      " [ 0.38315535  0.39106188  0.26434607  0.37079829  0.40761222  0.56584577\n",
      "   1.00000477  0.39971969  0.32398084  0.51845936  0.47586212  0.24872089\n",
      "   0.36858724  0.98459263  0.40048526  0.25272953  0.51907961  0.38156229\n",
      "   0.37220046  0.41179678]\n",
      " [ 0.20306042  0.36808928  0.21308137  0.20285834  0.99337084  0.21384159\n",
      "   0.39971967  1.00000465  0.12012255  0.43447211  0.18635276  0.13554949\n",
      "   0.20538903  0.41636832  0.99540776  0.20899158  0.40731752  0.20690166\n",
      "   0.20349233  0.99093089]\n",
      " [ 0.49067697  0.40906193  0.10274132  0.48818572  0.11883686  0.46466076\n",
      "   0.32398084  0.12012255  1.00000298  0.2571568   0.42021884  0.1761\n",
      "   0.48589837  0.32784975  0.12632583  0.10358332  0.3087821   0.49774053\n",
      "   0.49248743  0.12024278]\n",
      " [ 0.4407901   0.44945843  0.13117827  0.43757021  0.43513651  0.58632798\n",
      "   0.51845937  0.43447212  0.2571568   1.00000589  0.52996392  0.37206858\n",
      "   0.43600938  0.51108481  0.43160583  0.13698578  0.91963938  0.44428888\n",
      "   0.43698606  0.43590029]\n",
      " [ 0.56720377  0.28495279  0.03714259  0.55858535  0.19394051  0.70937\n",
      "   0.47586212  0.18635276  0.42021885  0.52996392  1.00000956  0.29620861\n",
      "   0.55625261  0.48980101  0.19407724  0.03011649  0.54508142  0.56780618\n",
      "   0.561536    0.20021761]\n",
      " [ 0.3283239   0.36204245  0.39043157  0.32641745  0.14058287  0.23336187\n",
      "   0.24872089  0.13554949  0.17609999  0.37206857  0.2962086   1.00001128\n",
      "   0.32944006  0.2529455   0.13819088  0.39433646  0.38151416  0.33066865\n",
      "   0.33025943  0.13841719]\n",
      " [ 0.99599584  0.19247261  0.02897692  0.9972692   0.20339039  0.55012185\n",
      "   0.36858724  0.20538903  0.48589838  0.43600938  0.55625261  0.32944007\n",
      "   1.00000708  0.38663449  0.21018118  0.02027116  0.46805704  0.99661233\n",
      "   0.99750541  0.20450361]\n",
      " [ 0.40031031  0.37429717  0.26248312  0.38883074  0.4218024   0.57622936\n",
      "   0.98459264  0.41636832  0.32784975  0.51108481  0.489801    0.25294551\n",
      "   0.38663449  1.00000534  0.41629898  0.2503279   0.50703445  0.39993479\n",
      "   0.39003799  0.4247662 ]\n",
      " [ 0.20798308  0.37206565  0.20809203  0.20753086  0.99602019  0.22011461\n",
      "   0.40048524  0.99540778  0.12632582  0.43160583  0.19407724  0.13819089\n",
      "   0.21018118  0.41629898  1.00000682  0.2030823   0.40982284  0.21179341\n",
      "   0.20832589  0.99385829]\n",
      " [ 0.01666811  0.41077703  0.96821448  0.01723536  0.20659293 -0.00703315\n",
      "   0.25272954  0.20899159  0.10358333  0.13698578  0.03011649  0.39433645\n",
      "   0.02027116  0.25032789  0.2030823   1.00001671  0.12465876  0.02065553\n",
      "   0.02222008  0.20848087]\n",
      " [ 0.47442803  0.51464955  0.12206483  0.47008342  0.41505997  0.6079334\n",
      "   0.51907961  0.40731752  0.3087821   0.9196394   0.54508144  0.38151417\n",
      "   0.46805707  0.50703447  0.40982284  0.12465876  1.00000498  0.47733769\n",
      "   0.469907    0.41690767]\n",
      " [ 0.99683827  0.2013092   0.02925663  0.99733142  0.20561542  0.56566584\n",
      "   0.3815623   0.20690165  0.49774053  0.44428888  0.56780617  0.33066866\n",
      "   0.99661232  0.39993478  0.21179341  0.02065553  0.47733771  1.00000339\n",
      "   0.99724776  0.20691752]\n",
      " [ 0.99741153  0.1986564   0.03090162  0.99729315  0.20204945  0.55737566\n",
      "   0.37220047  0.20349232  0.49248743  0.43698608  0.56153601  0.33025943\n",
      "   0.99750541  0.39003798  0.20832588  0.02222008  0.46990702  0.99724772\n",
      "   1.00000367  0.20327046]\n",
      " [ 0.20361496  0.38054124  0.21252557  0.2026254   0.99756105  0.22279827\n",
      "   0.41179678  0.9909309   0.12024278  0.43590031  0.2002176   0.1384172\n",
      "   0.2045036   0.42476621  0.9938583   0.20848086  0.41690767  0.20691753\n",
      "   0.20327047  1.00000558]]\n",
      "Original Copylist [9, 1, 4, 9, 6, 7, 5, 6, 2, 0, 8, 3, 9, 5, 6, 4, 0, 9, 9, 6]\n",
      "Found clusters [8 5 1 8 4 9 3 4 6 0 2 7 8 3 4 1 0 8 8 4]\n",
      "Original groups [array([ 9, 16], dtype=int64), array([1], dtype=int64), array([8], dtype=int64), array([11], dtype=int64), array([ 2, 15], dtype=int64), array([ 6, 13], dtype=int64), array([ 4,  7, 14, 19], dtype=int64), array([5], dtype=int64), array([10], dtype=int64), array([ 0,  3, 12, 17, 18], dtype=int64)]\n",
      "Clustered groups [array([ 9, 16], dtype=int64), array([ 2, 15], dtype=int64), array([10], dtype=int64), array([ 6, 13], dtype=int64), array([ 4,  7, 14, 19], dtype=int64), array([1], dtype=int64), array([8], dtype=int64), array([11], dtype=int64), array([ 0,  3, 12, 17, 18], dtype=int64), array([5], dtype=int64)]\n",
      "Clustering score 1.0\n",
      "\n",
      "\n",
      " Entering epoch 4\n",
      "Iter 1 - Epoch 0 - Client Type: Benign - Client Number 0 - Poison Training False\n"
     ]
    },
    {
     "name": "stderr",
     "output_type": "stream",
     "text": [
      "100%|████████████████████████████████████████████████████████████████████████████████████| 1/1 [00:00<00:00,  1.40it/s]\n"
     ]
    },
    {
     "name": "stdout",
     "output_type": "stream",
     "text": [
      "Iter 1 - Epoch 0 - Client Type: Benign - Client Number 1 - Poison Training False\n"
     ]
    },
    {
     "name": "stderr",
     "output_type": "stream",
     "text": [
      "100%|████████████████████████████████████████████████████████████████████████████████████| 2/2 [00:01<00:00,  1.13it/s]\n"
     ]
    },
    {
     "name": "stdout",
     "output_type": "stream",
     "text": [
      "Iter 1 - Epoch 0 - Client Type: Benign - Client Number 2 - Poison Training False\n"
     ]
    },
    {
     "name": "stderr",
     "output_type": "stream",
     "text": [
      "100%|████████████████████████████████████████████████████████████████████████████████████| 2/2 [00:01<00:00,  1.64it/s]\n"
     ]
    },
    {
     "name": "stdout",
     "output_type": "stream",
     "text": [
      "Iter 1 - Epoch 0 - Client Type: Benign - Client Number 3 - Poison Training False\n"
     ]
    },
    {
     "name": "stderr",
     "output_type": "stream",
     "text": [
      "100%|████████████████████████████████████████████████████████████████████████████████████| 1/1 [00:00<00:00,  1.55it/s]\n"
     ]
    },
    {
     "name": "stdout",
     "output_type": "stream",
     "text": [
      "Iter 1 - Epoch 0 - Client Type: Benign - Client Number 4 - Poison Training False\n"
     ]
    },
    {
     "name": "stderr",
     "output_type": "stream",
     "text": [
      "100%|████████████████████████████████████████████████████████████████████████████████████| 1/1 [00:00<00:00,  1.13it/s]\n"
     ]
    },
    {
     "name": "stdout",
     "output_type": "stream",
     "text": [
      "Iter 1 - Epoch 0 - Client Type: Benign - Client Number 5 - Poison Training False\n"
     ]
    },
    {
     "name": "stderr",
     "output_type": "stream",
     "text": [
      "100%|████████████████████████████████████████████████████████████████████████████████████| 1/1 [00:00<00:00,  1.07it/s]\n"
     ]
    },
    {
     "name": "stdout",
     "output_type": "stream",
     "text": [
      "Iter 1 - Epoch 0 - Client Type: Benign - Client Number 6 - Poison Training False\n"
     ]
    },
    {
     "name": "stderr",
     "output_type": "stream",
     "text": [
      "100%|████████████████████████████████████████████████████████████████████████████████████| 2/2 [00:01<00:00,  1.05it/s]\n"
     ]
    },
    {
     "name": "stdout",
     "output_type": "stream",
     "text": [
      "Iter 1 - Epoch 0 - Client Type: Benign - Client Number 7 - Poison Training False\n"
     ]
    },
    {
     "name": "stderr",
     "output_type": "stream",
     "text": [
      "100%|████████████████████████████████████████████████████████████████████████████████████| 1/1 [00:00<00:00,  1.23it/s]\n"
     ]
    },
    {
     "name": "stdout",
     "output_type": "stream",
     "text": [
      "Iter 1 - Epoch 0 - Client Type: Benign - Client Number 8 - Poison Training False\n"
     ]
    },
    {
     "name": "stderr",
     "output_type": "stream",
     "text": [
      "100%|████████████████████████████████████████████████████████████████████████████████████| 1/1 [00:00<00:00,  1.14it/s]\n"
     ]
    },
    {
     "name": "stdout",
     "output_type": "stream",
     "text": [
      "Iter 1 - Epoch 0 - Client Type: Benign - Client Number 9 - Poison Training False\n"
     ]
    },
    {
     "name": "stderr",
     "output_type": "stream",
     "text": [
      "100%|████████████████████████████████████████████████████████████████████████████████████| 2/2 [00:01<00:00,  1.57it/s]\n"
     ]
    },
    {
     "name": "stdout",
     "output_type": "stream",
     "text": [
      "Iter 1 - Epoch 0 - Client Type: Benign - Client Number 10 - Poison Training False\n"
     ]
    },
    {
     "name": "stderr",
     "output_type": "stream",
     "text": [
      "100%|████████████████████████████████████████████████████████████████████████████████████| 1/1 [00:00<00:00,  2.08it/s]\n"
     ]
    },
    {
     "name": "stdout",
     "output_type": "stream",
     "text": [
      "Iter 1 - Epoch 0 - Client Type: Benign - Client Number 11 - Poison Training False\n"
     ]
    },
    {
     "name": "stderr",
     "output_type": "stream",
     "text": [
      "100%|████████████████████████████████████████████████████████████████████████████████████| 2/2 [00:01<00:00,  1.24it/s]\n"
     ]
    },
    {
     "name": "stdout",
     "output_type": "stream",
     "text": [
      "Iter 1 - Epoch 0 - Client Type: Benign - Client Number 12 - Poison Training False\n"
     ]
    },
    {
     "name": "stderr",
     "output_type": "stream",
     "text": [
      "100%|████████████████████████████████████████████████████████████████████████████████████| 1/1 [00:00<00:00,  1.49it/s]\n"
     ]
    },
    {
     "name": "stdout",
     "output_type": "stream",
     "text": [
      "Iter 1 - Epoch 0 - Client Type: Benign - Client Number 13 - Poison Training False\n"
     ]
    },
    {
     "name": "stderr",
     "output_type": "stream",
     "text": [
      "100%|████████████████████████████████████████████████████████████████████████████████████| 2/2 [00:01<00:00,  1.00it/s]\n"
     ]
    },
    {
     "name": "stdout",
     "output_type": "stream",
     "text": [
      "Iter 1 - Epoch 0 - Client Type: Benign - Client Number 14 - Poison Training False\n"
     ]
    },
    {
     "name": "stderr",
     "output_type": "stream",
     "text": [
      "100%|████████████████████████████████████████████████████████████████████████████████████| 1/1 [00:00<00:00,  1.09it/s]\n"
     ]
    },
    {
     "name": "stdout",
     "output_type": "stream",
     "text": [
      "Iter 1 - Epoch 0 - Client Type: Benign - Client Number 15 - Poison Training False\n"
     ]
    },
    {
     "name": "stderr",
     "output_type": "stream",
     "text": [
      "100%|████████████████████████████████████████████████████████████████████████████████████| 2/2 [00:01<00:00,  1.50it/s]\n"
     ]
    },
    {
     "name": "stdout",
     "output_type": "stream",
     "text": [
      "Iter 1 - Epoch 0 - Client Type: Benign - Client Number 16 - Poison Training False\n"
     ]
    },
    {
     "name": "stderr",
     "output_type": "stream",
     "text": [
      "100%|████████████████████████████████████████████████████████████████████████████████████| 2/2 [00:01<00:00,  1.43it/s]\n"
     ]
    },
    {
     "name": "stdout",
     "output_type": "stream",
     "text": [
      "Iter 1 - Epoch 0 - Client Type: Benign - Client Number 17 - Poison Training False\n"
     ]
    },
    {
     "name": "stderr",
     "output_type": "stream",
     "text": [
      "100%|████████████████████████████████████████████████████████████████████████████████████| 1/1 [00:00<00:00,  1.37it/s]\n"
     ]
    },
    {
     "name": "stdout",
     "output_type": "stream",
     "text": [
      "Iter 1 - Epoch 0 - Client Type: Benign - Client Number 18 - Poison Training False\n"
     ]
    },
    {
     "name": "stderr",
     "output_type": "stream",
     "text": [
      "100%|████████████████████████████████████████████████████████████████████████████████████| 1/1 [00:00<00:00,  1.30it/s]\n"
     ]
    },
    {
     "name": "stdout",
     "output_type": "stream",
     "text": [
      "Iter 1 - Epoch 0 - Client Type: Benign - Client Number 19 - Poison Training False\n"
     ]
    },
    {
     "name": "stderr",
     "output_type": "stream",
     "text": [
      "100%|████████████████████████████████████████████████████████████████████████████████████| 1/1 [00:00<00:00,  1.02it/s]\n"
     ]
    }
   ],
   "source": [
    "fl = CustomFL(n_iter=n_iter, n_epochs=n_epochs, poison_starts_at_iter=poison_starts_at_iter, num_of_benign_nets=num_of_workers-num_of_mal_workers, num_of_mal_nets=num_of_mal_workers, \n",
    "              inertia=inertia, momentum=momentum,\n",
    "              attack_type=attack_type, scale_up=scale_up, minimizeDist=minimizeDist\n",
    ")\n",
    "fl.train()"
   ]
  },
  {
   "cell_type": "code",
   "execution_count": null,
   "metadata": {
    "id": "tsUXB_dWgKbg"
   },
   "outputs": [],
   "source": [
    "import pickle\n",
    "with open(f'file_1_dec27_all_benign_iters_50_epoch_{n_epochs}.txt', 'wb') as f:\n",
    "    pickle.dump(fl.debug_log, f)\n",
    "f.close()"
   ]
  },
  {
   "cell_type": "code",
   "execution_count": null,
   "metadata": {},
   "outputs": [],
   "source": [
    "import os\n",
    "from os import listdir\n",
    "from os.path import isfile, join\n",
    "mypath=os.getcwd()\n",
    "onlyfiles = [f for f in listdir(mypath) if isfile(join(mypath, f))]"
   ]
  },
  {
   "cell_type": "code",
   "execution_count": null,
   "metadata": {
    "id": "Gi3Zkh_HuFEI"
   },
   "outputs": [],
   "source": [
    "import pickle\n",
    "with open('file_1_dec23_label_flip_minDist_off.txt', 'rb') as f:\n",
    "    log_file=pickle.load(f)\n",
    "f.close()\n",
    "\n",
    "with open('file_1_dec23_label_flip_minDist_on.txt', 'rb') as f:\n",
    "    log_file_2=pickle.load(f)\n",
    "f.close()\n",
    "\n",
    "log_by_iter=[]\n",
    "for iter in range(n_iter):\n",
    "    log_by_iter.append([])\n",
    "idx=0\n",
    "cluster_logs=[]\n",
    "for l in log_file:\n",
    "    (i, _, _, _)=l\n",
    "    log_by_iter[i].append(l)\n",
    "    if i==-1:\n",
    "        cluster_logs.append(l)\n",
    "\n",
    "\n",
    "log_by_iter_2=[]\n",
    "for iter in range(n_iter):\n",
    "    log_by_iter_2.append([])\n",
    "idx=0\n",
    "cluster_logs_2=[]\n",
    "for l in log_file_2:\n",
    "    (i, _, _, _)=l\n",
    "    log_by_iter_2[i].append(l)\n",
    "    if i==-1:\n",
    "        cluster_logs_2.append(l)\n",
    "\n",
    "\n",
    "cluster_scores=[]\n",
    "for i, log in enumerate(cluster_logs):\n",
    "    if (i+1)%3==0:\n",
    "        (_, _, _, sc) = log\n",
    "        cluster_scores.append(sc)\n",
    "        \n",
    "cluster_scores_2=[]\n",
    "for i, log in enumerate(cluster_logs_2):\n",
    "    if (i+1)%3==0:\n",
    "        (_, _, _, sc) = log\n",
    "        cluster_scores_2.append(sc)\n",
    "        \n",
    "print(cluster_scores, cluster_scores_2)"
   ]
  },
  {
   "cell_type": "code",
   "execution_count": null,
   "metadata": {
    "id": "d6ii0njBC6JT"
   },
   "outputs": [],
   "source": [
    "from sklearn.cluster import AgglomerativeClustering\n",
    "import numpy as np\n",
    "X = np.array([[1, 2], [1, 4], [1, 0],\n",
    "              [4, 2], [4, 4], [4, 0]])\n",
    "clustering = AgglomerativeClustering(n_clusters=3).fit(X)\n",
    "labels=clustering.labels_\n",
    "print(labels, labels[labels==0], np.argwhere(labels==0))\n",
    "print([np.argwhere(labels==i).flatten() for i in range(3)])\n",
    "\n",
    "print()"
   ]
  },
  {
   "cell_type": "code",
   "execution_count": null,
   "metadata": {
    "id": "nnSDjbvSjoiL"
   },
   "outputs": [],
   "source": [
    "t_arr=np.array([100, 10, 1])\n",
    "t_arr_sig = 0.1 * t_arr\n",
    "print(np.random.normal(t_arr, t_arr_sig))"
   ]
  },
  {
   "cell_type": "code",
   "execution_count": null,
   "metadata": {
    "id": "9zOwHqDgoJx0"
   },
   "outputs": [],
   "source": []
  },
  {
   "cell_type": "code",
   "execution_count": null,
   "metadata": {
    "id": "yenDNiAaqd_F"
   },
   "outputs": [],
   "source": [
    "import matplotlib.pyplot as plt\n",
    "\n",
    "def imshow(img):\n",
    "    img = img / 2 + 0.5     # unnormalize\n",
    "    npimg = img.numpy()\n",
    "    plt.imshow(np.transpose(npimg, (1, 2, 0)))\n",
    "    plt.show()\n",
    "\n",
    "for i in [0, 3, 5]:\n",
    "    (_, _, tl) = train_loaders[0][i]\n",
    "\n",
    "    print(tl)\n",
    "\n",
    "    # get some random training images\n",
    "    dataiter = iter(tl)\n",
    "    images, labels = dataiter.next()\n",
    "    labels = np.array(labels)\n",
    "    imshow(torchvision.utils.make_grid(images[:16]))\n",
    "    for n in range(10):\n",
    "        print(n, np.count_nonzero(labels == n)/len(labels))\n"
   ]
  },
  {
   "cell_type": "code",
   "execution_count": null,
   "metadata": {
    "id": "jjNZrWiG-hPG"
   },
   "outputs": [],
   "source": [
    "sampled_probabilities = 1000 * np.random.dirichlet(\n",
    "                np.array(3 * [0.9]))\n",
    "print(np.sum(sampled_probabilities), sampled_probabilities)"
   ]
  },
  {
   "cell_type": "code",
   "execution_count": null,
   "metadata": {
    "id": "xOdKOaAbFIN7"
   },
   "outputs": [],
   "source": [
    "print(3 * [1, 2])"
   ]
  },
  {
   "cell_type": "code",
   "execution_count": null,
   "metadata": {
    "id": "fGkTxR66cWS9"
   },
   "outputs": [],
   "source": [
    "print(fl.log)"
   ]
  },
  {
   "cell_type": "code",
   "execution_count": null,
   "metadata": {
    "id": "q0VZP12IgvhL"
   },
   "outputs": [],
   "source": [
    "import pickle\n",
    "with open('file_1_dec16.txt', 'rb') as f:\n",
    "    log_file=pickle.load(f)\n",
    "f.close()"
   ]
  },
  {
   "cell_type": "code",
   "execution_count": null,
   "metadata": {
    "id": "GZTPfmkowaO3"
   },
   "outputs": [],
   "source": [
    "log_by_iter=[]\n",
    "for iter in range(n_iter):\n",
    "    log_by_iter.append([])\n",
    "idx=0\n",
    "for l in log_file:\n",
    "    (i, _, _, _)=l\n",
    "    log_by_iter[i].append(l)\n"
   ]
  },
  {
   "cell_type": "code",
   "execution_count": null,
   "metadata": {
    "id": "4gt2Qp862dFj"
   },
   "outputs": [],
   "source": [
    "for i in range(5,10):\n",
    "    log_by_iter[i]=log_by_iter[i][2:]\n",
    "\n",
    "for l in log_by_iter[0]:\n",
    "    print(l)\n",
    "for l in log_by_iter[5]:\n",
    "    print(l)"
   ]
  },
  {
   "cell_type": "code",
   "execution_count": null,
   "metadata": {
    "id": "TXBqfzL33UKh"
   },
   "outputs": [],
   "source": [
    "from matplotlib import pyplot as plt\n",
    "\n",
    "cos_sim_benign=[]\n",
    "cos_sim_mal=[]\n",
    "for i in range(10):\n",
    "    (_, _, _, sim) = log_by_iter[i][2]\n",
    "    cos_sim_benign.append(sim[0])\n",
    "    cos_sim_mal.append(sim[2])\n",
    "\n",
    "plt.plot(cos_sim_benign, c='blue')\n",
    "plt.plot(cos_sim_mal, c='red')\n",
    "plt.show()"
   ]
  },
  {
   "cell_type": "code",
   "execution_count": null,
   "metadata": {
    "id": "Er4MnusO4lkV"
   },
   "outputs": [],
   "source": [
    "aggr_weight_benign=[]\n",
    "aggr_weight_mal=[]\n",
    "for i in range(10):\n",
    "    (_, _, _, sim) = log_by_iter[i][4]\n",
    "    aggr_weight_benign.append(sim[0])\n",
    "    aggr_weight_mal.append(sim[2])\n",
    "\n",
    "plt.plot(aggr_weight_benign, c='blue')\n",
    "plt.plot(aggr_weight_mal, c='red')\n",
    "plt.show()\n"
   ]
  },
  {
   "cell_type": "code",
   "execution_count": null,
   "metadata": {
    "id": "qcWWK14Z49C7"
   },
   "outputs": [],
   "source": [
    "distance_benign=[]\n",
    "distance_mal=[]\n",
    "for i in range(10):\n",
    "    (_, _, _, sim) = log_by_iter[i][0]\n",
    "    distance_benign.append(sim[0])\n",
    "    (_, _, _, sim) = log_by_iter[i][1]\n",
    "    distance_mal.append(sim)\n",
    "\n",
    "plt.plot(distance_benign, c='blue')\n",
    "plt.plot(distance_mal, c='red')\n",
    "plt.show()"
   ]
  },
  {
   "cell_type": "code",
   "execution_count": null,
   "metadata": {
    "id": "CH-InCz25jkj"
   },
   "outputs": [],
   "source": [
    "accuracy=[]\n",
    "for i in range(10):\n",
    "    (_, _, _, sim) = log_by_iter[i][5]\n",
    "    accuracy.append(sim)\n",
    "\n",
    "plt.plot(accuracy, c='blue')\n"
   ]
  }
 ],
 "metadata": {
  "accelerator": "GPU",
  "colab": {
   "collapsed_sections": [],
   "name": "custom optimizer 1.ipynb",
   "provenance": []
  },
  "kernelspec": {
   "display_name": "Python 3",
   "language": "python",
   "name": "python3"
  },
  "language_info": {
   "codemirror_mode": {
    "name": "ipython",
    "version": 3
   },
   "file_extension": ".py",
   "mimetype": "text/x-python",
   "name": "python",
   "nbconvert_exporter": "python",
   "pygments_lexer": "ipython3",
   "version": "3.7.11"
  }
 },
 "nbformat": 4,
 "nbformat_minor": 1
}

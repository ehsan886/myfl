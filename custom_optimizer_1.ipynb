{
 "cells": [
  {
   "cell_type": "markdown",
   "metadata": {
    "id": "3x8zJkCpmj1m"
   },
   "source": [
    "Resources#\n",
    "\n",
    "https://github.com/pytorch/pytorch/blob/cc46dc45e1b4b2a9ffab4ad5442f8b864148e45a/torch/optim/_functional.py#L156\n",
    "\n",
    "https://github.com/pytorch/pytorch/blob/master/torch/optim/sgd.py\n",
    "\n",
    "https://pytorch.org/tutorials/beginner/blitz/autograd_tutorial.html\n",
    "\n",
    "https://discuss.pytorch.org/t/custom-loss-functions/29387\n",
    "\n",
    "https://discuss.pytorch.org/t/good-way-to-calculate-element-wise-difference-between-two-models-of-the-same-structure/67592"
   ]
  },
  {
   "cell_type": "code",
   "execution_count": 174,
   "metadata": {
    "id": "iTDCRqOGmorM"
   },
   "outputs": [],
   "source": [
    "import argparse\n",
    "import torch\n",
    "import torch.nn as nn\n",
    "import torch.nn.functional as F\n",
    "import torch.optim as optim\n",
    "from torchvision import datasets, transforms\n",
    "from torch.autograd import Variable\n",
    "import numpy as np\n",
    "import datetime"
   ]
  },
  {
   "cell_type": "code",
   "execution_count": 175,
   "metadata": {
    "id": "fxJ9QbZCVq-j"
   },
   "outputs": [],
   "source": [
    "def convert_model_to_param_list(model):\n",
    "    '''\n",
    "    num_of_param=0\n",
    "    for param in model.state_dict().values():\n",
    "        num_of_param += torch.numel(param)\n",
    "    \n",
    "\n",
    "    params=torch.ones([num_of_param])\n",
    "    '''\n",
    "    if torch.typename(model)!='OrderedDict':\n",
    "        model = model.state_dict()\n",
    "\n",
    "    idx=0\n",
    "    params_to_copy_group=[]\n",
    "    for name, param in model.items():\n",
    "        num_params_to_copy = torch.numel(param)\n",
    "        params_to_copy_group.append(param.reshape([num_params_to_copy]).clone().detach())\n",
    "        idx+=num_params_to_copy\n",
    "\n",
    "    params=torch.ones([idx])\n",
    "    idx=0\n",
    "    for param in params_to_copy_group:    \n",
    "        for par in param:\n",
    "            params[idx].copy_(par)\n",
    "            idx += 1\n",
    "\n",
    "    return params\n",
    "\n",
    "def cos_calc_btn_grads(l1, l2):\n",
    "    return torch.dot(l1, l2)/(torch.linalg.norm(l1)+1e-9)/(torch.linalg.norm(l2)+1e-9)\n",
    "\n",
    "\n",
    "def cos_calc(n1, n2):\n",
    "    l1 = convert_model_to_param_list(n1)\n",
    "    l2 = convert_model_to_param_list(n2)\n",
    "    return cos_calc_btn_grads(l1, l2)"
   ]
  },
  {
   "cell_type": "code",
   "execution_count": 176,
   "metadata": {
    "id": "n8iAonfWm5ev"
   },
   "outputs": [],
   "source": [
    "class SimpleNet(nn.Module):\n",
    "    def __init__(self, name=None, created_time=None, is_malicious=False, net_id=-1):\n",
    "        super(SimpleNet, self).__init__()\n",
    "        self.created_time = created_time\n",
    "        self.name=name\n",
    "\n",
    "        self.is_malicious=is_malicious\n",
    "        self.net_id=net_id\n",
    "\n",
    "\n",
    "    def save_stats(self, epoch, loss, acc):\n",
    "        self.stats['epoch'].append(epoch)\n",
    "        self.stats['loss'].append(loss)\n",
    "        self.stats['acc'].append(acc)\n",
    "\n",
    "    def copy_params(self, state_dict, coefficient_transfer=100):\n",
    "\n",
    "        own_state = self.state_dict()\n",
    "\n",
    "        for name, param in state_dict.items():\n",
    "            if name in own_state:\n",
    "                shape = param.shape\n",
    "                own_state[name].copy_(param.clone())\n",
    "    \n",
    "    def set_param_to_zero(self):\n",
    "        own_state = self.state_dict()\n",
    "\n",
    "        for name, param in own_state.items():\n",
    "            shape = param.shape\n",
    "            param.mul_(0)       \n",
    "\n",
    "    def aggregate(self, state_dicts, aggr_weights=None):\n",
    "        #self.copy_params(state_dicts[0])\n",
    "        own_state = self.state_dict()\n",
    "        \n",
    "        nw = len(state_dicts)\n",
    "        if aggr_weights is None:\n",
    "            aggr_weights = [1/nw]*nw\n",
    "\n",
    "        for i, state_dict in enumerate(state_dicts):\n",
    "            for name, param in state_dict.items():\n",
    "                if name in own_state:\n",
    "                    shape = param.shape\n",
    "                    own_state[name].add_(param.clone().mul_(aggr_weights[i]))\n",
    "\n",
    "    def calc_grad(self, state_dict, change_self=True):\n",
    "        if change_self:\n",
    "            own_state = self.state_dict()\n",
    "\n",
    "            for name, param in state_dict.items():\n",
    "                if name in own_state:\n",
    "                    shape = param.shape\n",
    "                    own_state[name].sub_(param.clone())\n",
    "        else:\n",
    "            self_params = convert_model_to_param_list(self)\n",
    "            ref_params = convert_model_to_param_list(state_dict)\n",
    "\n",
    "            self_params.sub_(ref_params)\n",
    "            self.grad_params = self_params"
   ]
  },
  {
   "cell_type": "code",
   "execution_count": 177,
   "metadata": {
    "id": "kADMGZrmm8PH"
   },
   "outputs": [],
   "source": [
    "class Flatten(nn.Module):\n",
    "    def forward(self, input):\n",
    "        return input.view(input.size(0), -1)\n",
    "\n",
    "class MnistNet(SimpleNet):#model for mnist\n",
    "    def __init__(self, name=None, created_time=None,num_of_classes = 10):\n",
    "        super(MnistNet, self).__init__(f'{name}_Simple', created_time)\n",
    "     \n",
    "        self.fc_layer = torch.nn.Sequential(#1 * 28 * 28\n",
    "            Flatten(),#784\n",
    "            nn.Linear(784, num_of_classes),\n",
    "        )\n",
    "    \n",
    "    def forward(self, x):\n",
    "     \n",
    "        out = self.fc_layer(x)\n",
    "        return out"
   ]
  },
  {
   "cell_type": "code",
   "execution_count": 178,
   "metadata": {
    "id": "h2FR35-PASFF"
   },
   "outputs": [],
   "source": [
    "class FLNet(SimpleNet):\n",
    "    def __init__(self, name=None, created_time=None,num_of_classes = 10):\n",
    "        super(FLNet, self).__init__(f'{name}_Simple', created_time)\n",
    "\n",
    "        self.mnistnet1 = MnistNet()\n",
    "\n",
    "        self.mnistnet2 = MnistNet()\n",
    "\n",
    "        self.mnistnetavg = MnistNet()\n",
    "\n",
    "    def forward(self, x):\n",
    "        out = self.mnistnet1(x)\n",
    "        return out"
   ]
  },
  {
   "cell_type": "code",
   "execution_count": 179,
   "metadata": {
    "colab": {
     "base_uri": "https://localhost:8080/",
     "height": 122
    },
    "id": "-Bm2SNGGCPOA",
    "outputId": "e912d6ab-0fd6-43c0-b174-fd703750762c"
   },
   "outputs": [
    {
     "data": {
      "text/plain": [
       "\"\\nclass CNN(SimpleNet):\\n    def __init__(self, name=None, created_time=None,num_of_classes = 10,network_id=-1, net_id=-1, is_malicious=False):\\n        super(CNN, self).__init__(f'{name}_Simple', created_time, is_malicious=is_malicious, net_id=net_id)\\n        self.conv1 = nn.Conv2d(3, 6, 5)\\n        self.pool = nn.MaxPool2d(2, 2)\\n        self.conv2 = nn.Conv2d(6, 16, 5)\\n        self.fc1 = nn.Linear(16 * 5 * 5, 120)\\n        self.fc2 = nn.Linear(120, 84)\\n        self.fc3 = nn.Linear(84, 10)\\n\\n    def forward(self, x):\\n        x = self.pool(F.relu(self.conv1(x)))\\n        x = self.pool(F.relu(self.conv2(x)))\\n        x = torch.flatten(x, 1) # flatten all dimensions except batch\\n        x = F.relu(self.fc1(x))\\n        x = F.relu(self.fc2(x))\\n        x = self.fc3(x)\\n        return x\\n\""
      ]
     },
     "execution_count": 179,
     "metadata": {},
     "output_type": "execute_result"
    }
   ],
   "source": [
    "\n",
    "class CNN(SimpleNet):\n",
    "    def __init__(self, name=None, created_time=None,num_of_classes = 10,network_id=-1, net_id=-1, is_malicious=False):\n",
    "        super(CNN, self).__init__(f'{name}_Simple', created_time, is_malicious=is_malicious, net_id=net_id)\n",
    "\n",
    "        self.network_id=network_id\n",
    "\n",
    "        self.conv1 = nn.Sequential(         \n",
    "            nn.Conv2d(\n",
    "                in_channels=1,              \n",
    "                out_channels=16,            \n",
    "                kernel_size=5,              \n",
    "                stride=1,                   \n",
    "                padding=2,                  \n",
    "            ),                              \n",
    "            nn.ReLU(),                      \n",
    "            nn.MaxPool2d(kernel_size=2),    \n",
    "        )\n",
    "        self.conv2 = nn.Sequential(         \n",
    "            nn.Conv2d(16, 32, 5, 1, 2),     \n",
    "            nn.ReLU(),                      \n",
    "            nn.MaxPool2d(2),                \n",
    "        )\n",
    "        # fully connected layer, output 10 classes\n",
    "        self.out = nn.Linear(32 * 7 * 7, 10)\n",
    "    def forward(self, x):\n",
    "        x = self.conv1(x)\n",
    "        x = self.conv2(x)\n",
    "        # flatten the output of conv2 to (batch_size, 32 * 7 * 7)\n",
    "        x = x.view(x.size(0), -1)       \n",
    "        output = self.out(x)\n",
    "        return output    # return x for visualization\n",
    "'''\n",
    "class CNN(SimpleNet):\n",
    "    def __init__(self, name=None, created_time=None,num_of_classes = 10,network_id=-1, net_id=-1, is_malicious=False):\n",
    "        super(CNN, self).__init__(f'{name}_Simple', created_time, is_malicious=is_malicious, net_id=net_id)\n",
    "        self.conv1 = nn.Conv2d(3, 6, 5)\n",
    "        self.pool = nn.MaxPool2d(2, 2)\n",
    "        self.conv2 = nn.Conv2d(6, 16, 5)\n",
    "        self.fc1 = nn.Linear(16 * 5 * 5, 120)\n",
    "        self.fc2 = nn.Linear(120, 84)\n",
    "        self.fc3 = nn.Linear(84, 10)\n",
    "\n",
    "    def forward(self, x):\n",
    "        x = self.pool(F.relu(self.conv1(x)))\n",
    "        x = self.pool(F.relu(self.conv2(x)))\n",
    "        x = torch.flatten(x, 1) # flatten all dimensions except batch\n",
    "        x = F.relu(self.fc1(x))\n",
    "        x = F.relu(self.fc2(x))\n",
    "        x = self.fc3(x)\n",
    "        return x\n",
    "'''"
   ]
  },
  {
   "cell_type": "code",
   "execution_count": 180,
   "metadata": {
    "id": "wY6ycM7q9m2A"
   },
   "outputs": [],
   "source": [
    "import copy\n",
    "\n",
    "def add_pixel_pattern(ori_image):\n",
    "    image = copy.deepcopy(ori_image)\n",
    "    poison_patterns= poison_dict['poison_pattern']\n",
    "    delta =  poison_dict['poison_delta']\n",
    "\n",
    "    for i in range(0, len(poison_patterns)):\n",
    "        pos = poison_patterns[i]\n",
    "        image[0][pos[0]][pos[1]] = min( image[0][pos[0]][pos[1]] + delta/np.sqrt(len(poison_patterns)), 1)\n",
    "\n",
    "\n",
    "    return image\n",
    "\n",
    "def get_poison_batch(bptt,adversarial_index=-1, evaluation=False, attack_type='label_flip'):\n",
    "    if attack_type=='backdoor':\n",
    "        import sys\n",
    "        print(\"still backdooring\")\n",
    "        sys.exit()\n",
    "\n",
    "        images, targets = bptt\n",
    "\n",
    "        poison_count= 0\n",
    "        new_images=images\n",
    "        new_targets=targets\n",
    "\n",
    "        for index in range(0, len(images)):\n",
    "            if evaluation: # poison all data when testing\n",
    "                new_targets[index] = poison_dict['poison_label_swap']\n",
    "                new_images[index] = add_pixel_pattern(images[index])\n",
    "                poison_count+=1\n",
    "\n",
    "            else: # poison part of data when training\n",
    "                if index < poison_dict['poisoning_per_batch']:\n",
    "                    new_targets[index] = poison_dict['poison_label_swap']\n",
    "                    new_images[index] = add_pixel_pattern(images[index])\n",
    "                    poison_count += 1\n",
    "                else:\n",
    "                    new_images[index] = images[index]\n",
    "                    new_targets[index]= targets[index]\n",
    "\n",
    "        new_images = new_images.to(device)\n",
    "        new_targets = new_targets.to(device).long()\n",
    "        if evaluation:\n",
    "            new_images.requires_grad_(False)\n",
    "            new_targets.requires_grad_(False)\n",
    "        return new_images,new_targets,poison_count\n",
    "    \n",
    "    elif attack_type=='degrade' or attack_type=='label_flip':\n",
    "        images, targets = bptt\n",
    "\n",
    "        poison_count= 0\n",
    "        new_images=images\n",
    "        new_targets=targets\n",
    "\n",
    "        num_of_classes = 10\n",
    "\n",
    "        for index in range(0, len(images)):\n",
    "            if evaluation: # poison all data when testing\n",
    "                if attack_type=='degrade':\n",
    "                    new_targets[index] = poison_dict['poison_label_swap']\n",
    "                elif attack_type=='label_flip':\n",
    "                    new_targets[index] = (targets[index]+1)%num_of_classes\n",
    "                new_images[index] = images[index]\n",
    "                poison_count+=1\n",
    "\n",
    "            else: # poison part of data when training\n",
    "                if index < poison_dict['poisoning_per_batch']:\n",
    "                    new_targets[index] = poison_dict['poison_label_swap']\n",
    "                    new_images[index] = add_pixel_pattern(images[index])\n",
    "                    poison_count += 1\n",
    "                else:\n",
    "                    new_images[index] = images[index]\n",
    "                    new_targets[index]= targets[index]\n",
    "\n",
    "        new_images = new_images.to(device)\n",
    "        new_targets = new_targets.to(device).long()\n",
    "        if evaluation:\n",
    "            new_images.requires_grad_(False)\n",
    "            new_targets.requires_grad_(False)\n",
    "        return new_images,new_targets,poison_count\n",
    "        \n",
    "\n",
    "def get_batch(bptt, evaluation=False):\n",
    "    data, target = bptt\n",
    "    data = data.to(device)\n",
    "    target = target.to(device)\n",
    "    if evaluation:\n",
    "        data.requires_grad_(False)\n",
    "        target.requires_grad_(False)\n",
    "    return data, target"
   ]
  },
  {
   "cell_type": "code",
   "execution_count": 181,
   "metadata": {
    "id": "nOhHhkNjE6tb"
   },
   "outputs": [],
   "source": [
    "import torch\n",
    "from torch import Tensor\n",
    "from typing import List, Optional\n",
    "\n",
    "from tensorflow import print as prnt\n",
    "\n",
    "def sgd(params: List[Tensor],\n",
    "        d_p_list: List[Tensor],\n",
    "        momentum_buffer_list: List[Optional[Tensor]],\n",
    "        ref_params: List[Tensor],\n",
    "        ref_grad_params: List[Tensor],\n",
    "        *,\n",
    "        weight_decay: float,\n",
    "        momentum: float,\n",
    "        lr: float,\n",
    "        dampening: float,\n",
    "        nesterov: bool,\n",
    "        maximize: bool,\n",
    "        inertia: float,\n",
    "        minimizeDist: bool):\n",
    "    r\"\"\"Functional API that performs SGD algorithm computation.\n",
    "    See :class:`~torch.optim.SGD` for details.\n",
    "    \"\"\"\n",
    "    #print(\"dummy\", len(params), len(ref_params))\n",
    "\n",
    "    if len(ref_params)!=0 and len(params)!=len(ref_params):\n",
    "        #print(params, ref_params)\n",
    "        print('params', params, '\\n')\n",
    "        print('ref_params', ref_params, '\\n')\n",
    "        sys.exit()\n",
    "\n",
    "    if len(ref_grad_params)!=0 and len(params)!=len(ref_grad_params):\n",
    "        print('params', params, '\\n')\n",
    "        print('ref_params', ref_grad_params, '\\n')\n",
    "        sys.exit()\n",
    "    for i, param in enumerate(params):\n",
    "\n",
    "        d_p = d_p_list[i]\n",
    "        if weight_decay != 0:\n",
    "            d_p = d_p.add(param, alpha=weight_decay)\n",
    "\n",
    "        if momentum != 0:\n",
    "            buf = momentum_buffer_list[i]\n",
    "\n",
    "            if buf is None:\n",
    "                buf = torch.clone(d_p).detach()\n",
    "                momentum_buffer_list[i] = buf\n",
    "            else:\n",
    "                buf.mul_(momentum).add_(d_p, alpha=1 - dampening)\n",
    "\n",
    "            if nesterov:\n",
    "                d_p = d_p.add(buf, alpha=momentum)\n",
    "            else:\n",
    "                d_p = buf\n",
    "        \n",
    "        if ref_params is not None and len(ref_params) != 0 and minimizeDist:\n",
    "            diff = 0\n",
    "            ### if minimize euclidean distance\n",
    "            #diff = param - ref_params[i]\n",
    "            ### if minimize cosine similarity, ref_params contains the gradient of the reference network weights\n",
    "            \n",
    "            if ref_grad_params is not None:\n",
    "\n",
    "                dir_sign = torch.sign(ref_params[i]-param)\n",
    "                diff -= ref_params[i]-param\n",
    "                diff -= ref_grad_params[i]\n",
    "                diff = diff.mul_(0.5)\n",
    "            \n",
    "            #d_p = d_p.mul_(0)\n",
    "            d_p = d_p.add(diff, alpha=inertia)\n",
    "        \n",
    "        #if diff_total==0:\n",
    "            #print('diff_total 0')\n",
    "\n",
    "        alpha = lr if maximize else -lr\n",
    "        param.add_(d_p, alpha=alpha)"
   ]
  },
  {
   "cell_type": "code",
   "execution_count": 182,
   "metadata": {
    "id": "BMvAKmTlFlSV"
   },
   "outputs": [],
   "source": [
    "import torch\n",
    "#from torch.optim import _functional as F\n",
    "from torch.optim.optimizer import Optimizer, required\n",
    "\n",
    "\n",
    "class SGD(Optimizer):\n",
    "    def __init__(self, params, lr=required, ref_param_groups=None, ref_grad_param_groups=None, momentum=0, dampening=0,\n",
    "                 weight_decay=0, nesterov=False, *, maximize=False, inertia=1.0, minimizeDist=False):\n",
    "        if lr is not required and lr < 0.0:\n",
    "            raise ValueError(\"Invalid learning rate: {}\".format(lr))\n",
    "        if momentum < 0.0:\n",
    "            raise ValueError(\"Invalid momentum value: {}\".format(momentum))\n",
    "        if weight_decay < 0.0:\n",
    "            raise ValueError(\"Invalid weight_decay value: {}\".format(weight_decay))\n",
    "\n",
    "        defaults = dict(lr=lr, momentum=momentum, dampening=dampening,\n",
    "                        weight_decay=weight_decay, nesterov=nesterov, maximize=maximize)\n",
    "        if nesterov and (momentum <= 0 or dampening != 0):\n",
    "            raise ValueError(\"Nesterov momentum requires a momentum and zero dampening\")\n",
    "        #self.ref_param_groups = ref_param_groups\n",
    "        super(SGD, self).__init__(params, defaults)\n",
    "        #self.ref_param_groups = ref_param_groups\n",
    "        self.inertia=inertia\n",
    "        self.minimizeDist=minimizeDist\n",
    "\n",
    "        if ref_param_groups is not None:\n",
    "            self.__setrefparams__(ref_param_groups)\n",
    "        else:\n",
    "            self.ref_param_groups = ref_param_groups\n",
    "\n",
    "        if ref_grad_param_groups is not None:\n",
    "            self.__setrefgradparams__(ref_grad_param_groups)\n",
    "        else:\n",
    "            self.ref_grad_param_groups = ref_param_groups\n",
    "\n",
    "    def filter_ref_param_group(self, param_group):\n",
    "        r\"\"\"Add a param group to the :class:`Optimizer` s `param_groups`.\n",
    "        This can be useful when fine tuning a pre-trained network as frozen layers can be made\n",
    "        trainable and added to the :class:`Optimizer` as training progresses.\n",
    "        Args:\n",
    "            param_group (dict): Specifies what Tensors should be optimized along with group\n",
    "                specific optimization options.\n",
    "        \"\"\"\n",
    "        assert isinstance(param_group, dict), \"param group must be a dict\"\n",
    "\n",
    "        params = param_group['params']\n",
    "        if isinstance(params, torch.Tensor):\n",
    "            param_group['params'] = [params]\n",
    "        elif isinstance(params, set):\n",
    "            raise TypeError('optimizer parameters need to be organized in ordered collections, but '\n",
    "                            'the ordering of tensors in sets will change between runs. Please use a list instead.')\n",
    "        else:\n",
    "            param_group['params'] = list(params)\n",
    "\n",
    "        for param in param_group['params']:\n",
    "            if not isinstance(param, torch.Tensor):\n",
    "                raise TypeError(\"optimizer can only optimize Tensors, \"\n",
    "                                \"but one of the params is \" + torch.typename(param))\n",
    "            if not param.is_leaf:\n",
    "                raise ValueError(\"can't optimize a non-leaf Tensor\")\n",
    "        '''\n",
    "        for name, default in self.defaults.items():\n",
    "            if default is required and name not in param_group:\n",
    "                raise ValueError(\"parameter group didn't specify a value of required optimization parameter \" +\n",
    "                                name)\n",
    "            else:\n",
    "                param_group.setdefault(name, default)\n",
    "        '''\n",
    "\n",
    "        params = param_group['params']\n",
    "        if len(params) != len(set(params)):\n",
    "            warnings.warn(\"optimizer contains a parameter group with duplicate parameters; \"\n",
    "                          \"in future, this will cause an error; \"\n",
    "                          \"see github.com/pytorch/pytorch/issues/40967 for more information\", stacklevel=3)\n",
    "\n",
    "        param_set = set()\n",
    "        for group in self.param_groups:\n",
    "            param_set.update(set(group['params']))\n",
    "\n",
    "        if not param_set.isdisjoint(set(param_group['params'])):\n",
    "            raise ValueError(\"some parameters appear in more than one parameter group\")\n",
    "\n",
    "        #self.ref_param_groups.append(param_group)\n",
    "        return param_group\n",
    "    \n",
    "    def __setrefparams__(self, params):\n",
    "        self.ref_param_groups = []\n",
    "\n",
    "        param_groups = list(params)\n",
    "        '''\n",
    "        if len(param_groups) == 0:\n",
    "            raise ValueError(\"optimizer got an empty parameter list\")\n",
    "        '''\n",
    "        if not isinstance(param_groups[0], dict):\n",
    "            param_groups = [{'params': param_groups}]\n",
    "\n",
    "        for param_group in param_groups:\n",
    "            self.ref_param_groups.append(self.filter_ref_param_group(param_group))\n",
    "\n",
    "    def __setrefgradparams__(self, params):\n",
    "        self.ref_grad_param_groups = []\n",
    "\n",
    "        param_groups = list(params)\n",
    "        '''\n",
    "        if len(param_groups) == 0:\n",
    "            raise ValueError(\"optimizer got an empty parameter list\")\n",
    "        '''\n",
    "        if not isinstance(param_groups[0], dict):\n",
    "            param_groups = [{'params': param_groups}]\n",
    "\n",
    "        for param_group in param_groups:\n",
    "            self.ref_grad_param_groups.append(self.filter_ref_param_group(param_group))\n",
    "\n",
    "    def __setstate__(self, state):\n",
    "        super(SGD, self).__setstate__(state)\n",
    "        for group in self.param_groups:\n",
    "            group.setdefault('nesterov', False)\n",
    "            group.setdefault('maximize', False)\n",
    "    \n",
    "    \n",
    "\n",
    "    @torch.no_grad()\n",
    "    def step(self, closure=None):\n",
    "        \"\"\"Performs a single optimization step.\n",
    "        Args:\n",
    "            closure (callable, optional): A closure that reevaluates the model\n",
    "                and returns the loss.\n",
    "        \"\"\"\n",
    "        loss = None\n",
    "        if closure is not None:\n",
    "            with torch.enable_grad():\n",
    "                loss = closure()\n",
    "        \n",
    "        #for group in self.ref_param_groups:\n",
    "            #for p in group['params']:\n",
    "\n",
    "        if self.ref_param_groups is not None and len(self.param_groups)!=len(self.ref_param_groups):\n",
    "            print(len(self.param_groups), len(self.ref_param_groups))\n",
    "            sys.exit()\n",
    "\n",
    "        if self.ref_grad_param_groups is not None and len(self.param_groups)!=len(self.ref_grad_param_groups):\n",
    "            print(len(self.param_groups), len(self.ref_grad_param_groups))\n",
    "            sys.exit()\n",
    "        for i in range(len(self.param_groups)):\n",
    "            group = self.param_groups[i]\n",
    "            if self.ref_param_groups is not None:\n",
    "                ref_group = self.ref_param_groups[i]\n",
    "            if self.ref_grad_param_groups is not None:\n",
    "                ref_grad_group = self.ref_grad_param_groups[i]\n",
    "            params_with_grad = []\n",
    "            d_p_list = []\n",
    "            momentum_buffer_list = []\n",
    "            weight_decay = group['weight_decay']\n",
    "            momentum = group['momentum']\n",
    "            dampening = group['dampening']\n",
    "            nesterov = group['nesterov']\n",
    "            maximize = group['maximize']\n",
    "            lr = group['lr']\n",
    "\n",
    "            for p in group['params']:\n",
    "                if p.grad is not None:\n",
    "                    params_with_grad.append(p)\n",
    "                    d_p_list.append(p.grad)\n",
    "\n",
    "                    state = self.state[p]\n",
    "                    if 'momentum_buffer' not in state:\n",
    "                        momentum_buffer_list.append(None)\n",
    "                    else:\n",
    "                        momentum_buffer_list.append(state['momentum_buffer'])\n",
    "            ref_params=[]\n",
    "            ref_grad_params=[]\n",
    "            if self.ref_param_groups is not None:\n",
    "                for p in ref_group['params']:\n",
    "                    ref_params.append(p)\n",
    "            if self.ref_grad_param_groups is not None:\n",
    "                for p in ref_grad_group['params']:\n",
    "                    ref_grad_params.append(p)\n",
    "            \n",
    "            sgd(params_with_grad,\n",
    "                  d_p_list,\n",
    "                  momentum_buffer_list,\n",
    "                  ref_params=ref_params,\n",
    "                  ref_grad_params=ref_grad_params,\n",
    "                  weight_decay=weight_decay,\n",
    "                  momentum=momentum,\n",
    "                  lr=lr,\n",
    "                  dampening=dampening,\n",
    "                  nesterov=nesterov,\n",
    "                  maximize=maximize,\n",
    "                  inertia=self.inertia,\n",
    "                  minimizeDist=self.minimizeDist)\n",
    "            \n",
    "\n",
    "            # update momentum_buffers in state\n",
    "            for p, momentum_buffer in zip(params_with_grad, momentum_buffer_list):\n",
    "                state = self.state[p]\n",
    "                state['momentum_buffer'] = momentum_buffer\n",
    "\n",
    "        return loss\n",
    "\n",
    "    ##  add add_param method\n",
    "\n"
   ]
  },
  {
   "cell_type": "code",
   "execution_count": 183,
   "metadata": {
    "id": "NDJtZrEdRwht"
   },
   "outputs": [],
   "source": [
    "def new_loss(output, target):\n",
    "    loss = F.nll_loss(output, target)\n",
    "\n",
    "    return loss"
   ]
  },
  {
   "cell_type": "code",
   "execution_count": 184,
   "metadata": {
    "id": "yWy7CtC7GpPG"
   },
   "outputs": [],
   "source": [
    "def inv_grad_test(model):\n",
    "    for name, param in model.named_parameters():\n",
    "        print(name, torch.isfinite(param.grad).all())"
   ]
  },
  {
   "cell_type": "code",
   "execution_count": 185,
   "metadata": {
    "id": "I3r_mO-LDaJ6"
   },
   "outputs": [],
   "source": [
    "loss_func=nn.CrossEntropyLoss()\n",
    "\n",
    "def train(network, optimizer, epoch):\n",
    "  network.train()\n",
    "\n",
    "  if network.network_id!=-1:\n",
    "      (_, temp_train_loader)=train_loaders[network.network_id]\n",
    "  else:\n",
    "      temp_train_loader=train_loader\n",
    "\n",
    "  for batch_idx, (data, target) in enumerate(temp_train_loader):\n",
    "    if network.network_id>=1:\n",
    "        data, target, poison_num = get_poison_batch((data, target))\n",
    "    optimizer.zero_grad()\n",
    "    output = network(data)\n",
    "    loss = loss_func(output, target)\n",
    "    loss.backward()\n",
    "    #inv_grad_test(network)\n",
    "    optimizer.step()\n",
    "    if batch_idx % log_interval == 0:\n",
    "      print('Train Epoch: {} [{}/{} ({:.0f}%)]\\tLoss: {:.6f}'.format(\n",
    "      epoch, batch_idx * len(data), len(train_loader.dataset),\n",
    "      100. * batch_idx / len(train_loader), loss.item()))\n",
    "      train_losses.append(loss.item())\n",
    "      train_counter.append(\n",
    "        (batch_idx*64) + ((epoch-1)*len(train_loader.dataset)))\n",
    "      torch.save(network.state_dict(), 'model.pth')\n",
    "      torch.save(optimizer.state_dict(), 'optimizer.pth')\n",
    "  if network.network_id>=1:\n",
    "      sys.exit()"
   ]
  },
  {
   "cell_type": "code",
   "execution_count": 186,
   "metadata": {
    "id": "rePZEDgTs5Zg"
   },
   "outputs": [],
   "source": [
    "from tqdm import tqdm\n",
    "\n",
    "def train_net(network, optimizer, trainloader, epoch, poisonNow=False, print_flag=False, attack_type='backdoor'):\n",
    "  for batch_idx, (data, target) in enumerate(tqdm(trainloader)):\n",
    "    if poisonNow:\n",
    "        data, target, poison_num = get_poison_batch((data, target), attack_type=attack_type)\n",
    "    else:\n",
    "        data, target = get_batch((data, target))\n",
    "    optimizer.zero_grad()\n",
    "    output = network(data)\n",
    "    loss = loss_func(output, target)\n",
    "    loss.backward()\n",
    "    #inv_grad_test(network)\n",
    "    optimizer.step()\n",
    "    if batch_idx % log_interval == 0:\n",
    "        if print_flag:\n",
    "            print('Train Epoch: {} [{}/{} ({:.0f}%)]\\tLoss: {:.6f}'.format(\n",
    "            epoch, batch_idx * len(data), len(trainloader.dataset),\n",
    "            100. * batch_idx / len(trainloader), loss.item()))\n",
    "        train_losses.append(loss.item())\n",
    "        train_counter.append(\n",
    "            (batch_idx*64) + ((epoch-1)*len(trainloader.dataset)))"
   ]
  },
  {
   "cell_type": "code",
   "execution_count": 187,
   "metadata": {
    "id": "DNbRH73f9IFr"
   },
   "outputs": [],
   "source": [
    "def test(network):\n",
    "  network.eval()\n",
    "  test_loss = 0\n",
    "  correct = 0\n",
    "  with torch.no_grad():\n",
    "    for data, target in tqdm(test_loader):\n",
    "        data, target = get_batch((data, target))\n",
    "        output = network(data)\n",
    "        test_loss += loss_func(output, target).item()\n",
    "        pred = output.data.max(1, keepdim=True)[1]\n",
    "        correct += pred.eq(target.data.view_as(pred)).sum()\n",
    "  test_loss /= len(test_loader.dataset)\n",
    "  test_losses.append(test_loss)\n",
    "  print('\\nTest set: Avg. loss: {:.4f}, Accuracy: {}/{} ({:.0f}%)\\n'.format(\n",
    "    test_loss, correct, len(test_loader.dataset),\n",
    "    100. * correct / len(test_loader.dataset)))\n",
    "  return 100. * correct / len(test_loader.dataset)"
   ]
  },
  {
   "cell_type": "code",
   "execution_count": 188,
   "metadata": {
    "id": "O9mnbnO-BSvs"
   },
   "outputs": [],
   "source": [
    "def backdoor_test(network):\n",
    "  network.eval()\n",
    "  test_loss = 0\n",
    "  correct = 0\n",
    "  with torch.no_grad():\n",
    "    for data, target in tqdm(test_loader):\n",
    "      data, target, poison_num = get_poison_batch((data, target), evaluation=True, attack_type='backdoor')\n",
    "      output = network(data)\n",
    "      test_loss += loss_func(output, target).item()\n",
    "      pred = output.data.max(1, keepdim=True)[1]\n",
    "      correct += pred.eq(target.data.view_as(pred)).sum()\n",
    "  test_loss /= len(test_loader.dataset)\n",
    "  test_losses.append(test_loss)\n",
    "  print('\\nBackdoor Test set: Avg. loss: {:.4f}, Accuracy: {}/{} ({:.0f}%)\\n'.format(\n",
    "    test_loss, correct, len(test_loader.dataset),\n",
    "    100. * correct / len(test_loader.dataset)))"
   ]
  },
  {
   "cell_type": "code",
   "execution_count": 189,
   "metadata": {
    "id": "_BXauMW5n3r3"
   },
   "outputs": [],
   "source": [
    "def calcDiff(network, network2):\n",
    "    return sum((x - y).abs().sum() for x, y in zip(network.state_dict().values(), network2.state_dict().values()))"
   ]
  },
  {
   "cell_type": "code",
   "execution_count": 190,
   "metadata": {
    "id": "IB55dWe-UoTd"
   },
   "outputs": [],
   "source": [
    "def get_scaled_up_grads(glob_net, networks, self=None, iter=-1):\n",
    "    nets_grads=[]\n",
    "    clean_server_grad=None\n",
    "    grads=[]\n",
    "\n",
    "    for i in range(len(networks)):\n",
    "        grad_net=CNN().to(device)\n",
    "        grad_net.to(device)\n",
    "        grad_net.copy_params(networks[i].state_dict())\n",
    "        nets_grads.append(grad_net)\n",
    "        \n",
    "        grad_net.calc_grad(glob_net.state_dict())\n",
    "        grads.append(convert_model_to_param_list(grad_net))\n",
    "\n",
    "    scaled_grad=CNN().to(device)\n",
    "    scaled_grad.set_param_to_zero()\n",
    "    scaled_grad.aggregate([n.state_dict() for n in nets_grads], aggr_weights=[-1]*(len(networks)-1)+[len(networks)])\n",
    "\n",
    "    self.log.append((iter, 'Cos_sim btn scaled grad and clean server grad', 'get_scaled_up_grads', cos_calc(scaled_grad, nets_grads[-2])))\n",
    "    print(self.log[-1])\n",
    "    self.log.append((iter, 'Cos_sim btn mal grad and clean server grad', 'get_scaled_up_grads', cos_calc(nets_grads[-1], nets_grads[-2])))\n",
    "    print(self.log[-1])\n",
    "\n",
    "    scaled_grad.aggregate([glob_net.state_dict()], aggr_weights=[1])\n",
    "    return scaled_grad\n",
    "\n",
    "    "
   ]
  },
  {
   "cell_type": "code",
   "execution_count": 207,
   "metadata": {
    "id": "py2OvW8FfoTQ"
   },
   "outputs": [],
   "source": [
    "class CustomFL:\n",
    "    def __init__(self, num_of_benign_nets=1, num_of_mal_nets=1, inertia=0.1, n_iter=10,\n",
    "                 n_epochs=3, poison_starts_at_iter=3, learning_rate=0.1, momentum=0, weight_decay=0.1,\n",
    "                 attack_type='label_flip', scale_up=False, minimizeDist=True):\n",
    "        self.global_net = CNN().to(device)\n",
    "        self.global_net_optim = SGD(self.global_net.parameters(), lr=learning_rate, momentum=momentum, weight_decay=weight_decay)\n",
    "        self.global_net.to(device)\n",
    "        self.benign_nets = []\n",
    "        self.benign_net_optims = []\n",
    "        for i in range(num_of_benign_nets):\n",
    "            network = CNN(net_id=i)\n",
    "            network.copy_params(self.global_net.state_dict())\n",
    "            optim = SGD(network.parameters(), lr=learning_rate, momentum=momentum, weight_decay=weight_decay, inertia=inertia)\n",
    "            network.to(device)\n",
    "            self.benign_nets.append(network)\n",
    "            self.benign_net_optims.append(optim)\n",
    "        self.mal_nets = []\n",
    "        self.mal_net_optims = []\n",
    "        for i in range(num_of_mal_nets):\n",
    "            network = CNN(is_malicious=True, net_id=i)\n",
    "            network.copy_params(self.global_net.state_dict())\n",
    "            optim = SGD(network.parameters(), lr=learning_rate,\n",
    "                        momentum=momentum, weight_decay=weight_decay, inertia=inertia, minimizeDist=minimizeDist)\n",
    "            network.to(device)\n",
    "            self.mal_nets.append(network)\n",
    "            self.mal_net_optims.append(optim)\n",
    "\n",
    "        self.current_iter=0\n",
    "        self.num_of_benign_nets=num_of_benign_nets\n",
    "        self.num_of_mal_nets=num_of_mal_nets\n",
    "        self.inertia_rate=inertia\n",
    "        self.n_iter=n_iter\n",
    "        self.n_epochs=n_epochs\n",
    "        self.learning_rate=learning_rate\n",
    "        self.momentum=momentum\n",
    "        self.poison_starts_at_iter=poison_starts_at_iter\n",
    "        self.weight_decay=weight_decay\n",
    "        self.attack_type=attack_type\n",
    "        self.scale_up=scale_up\n",
    "\n",
    "        self.log=[]\n",
    "        self.debug_log={}\n",
    "        self.debug_log['cluster']=[]\n",
    "        self.debug_log['coses']=[]\n",
    "        n_nets=num_of_benign_nets+num_of_mal_nets\n",
    "        self.cos_matrices=[]\n",
    "        #self.cos_matrix.append(np.zeros((n_nets, n_nets)))\n",
    "\n",
    "    def cluster_grads(self, iter=-1):\n",
    "        nets = self.benign_nets + self.mal_nets\n",
    "        for net in nets:\n",
    "            net.calc_grad(self.global_net.state_dict(), change_self=False)\n",
    "\n",
    "        from sklearn.cluster import AgglomerativeClustering\n",
    "        X = [np.array(net.grad_params) for net in nets]\n",
    "        X= np.array(X)\n",
    "        clustering = AgglomerativeClustering(n_clusters=num_of_distributions, affinity='cosine', linkage='complete').fit(X)\n",
    "        from sklearn.metrics.cluster import adjusted_rand_score\n",
    "        print('Original Copylist', copylist)\n",
    "        print('Found clusters', clustering.labels_)\n",
    "        print('Original groups', [np.argwhere(np.array(copylist)==i).flatten() for i in range(num_of_distributions)])\n",
    "        print('Clustered groups', [np.argwhere(clustering.labels_==i).flatten() for i in range(num_of_distributions)])\n",
    "        print('Clustering score', adjusted_rand_score(clustering.labels_.tolist(), copylist))\n",
    "        self.log.append((iter, 'Original copylist', 'cluster_grads', copylist))\n",
    "        self.log.append((iter, 'Clusters', 'cluster_grads', clustering.labels_))\n",
    "        #self.debug_log['cluster'].append((iter, 'Cluster Score', 'cluster_grads', adjusted_rand_score(clustering.labels_.tolist(), copylist)))\n",
    "        \n",
    "        coses=[]\n",
    "        \n",
    "        for i1, net1 in enumerate(nets):\n",
    "            coses_l=[]\n",
    "            for i2, net2 in enumerate(nets):\n",
    "                coses_l.append(cos_calc_btn_grads(net1.grad_params, net2.grad_params))\n",
    "            coses.append(coses_l)\n",
    "            \n",
    "        coses = np.array(coses)\n",
    "        \n",
    "        '''\n",
    "        self.cos_matrix = self.cos_matrix + coses\n",
    "        self.cos_matrix = self.cos_matrix/np.max(self.cos_matrix)\n",
    "        '''\n",
    "        self.cos_matrices.append(coses)\n",
    "        print(len(self.cos_matrices))\n",
    "        \n",
    "        num_of_coses = np.minimum(len(self.cos_matrices), 5)\n",
    "        \n",
    "        cos_matrix=np.zeros((len(nets), len(nets)))\n",
    "        for i in range(num_of_coses):\n",
    "            cos_matrix+=self.cos_matrices[-i-1]\n",
    "            \n",
    "        cos_matrix = cos_matrix/num_of_coses\n",
    "                    \n",
    "        print(cos_matrix)\n",
    "        \n",
    "        clustering = AgglomerativeClustering(n_clusters=num_of_distributions, affinity='precomputed', linkage='complete').fit(1-cos_matrix)\n",
    "        print('Original Copylist', copylist)\n",
    "        print('Found clusters', clustering.labels_)\n",
    "        print('Original groups', [np.argwhere(np.array(copylist)==i).flatten() for i in range(num_of_distributions)])\n",
    "        print('Clustered groups', [np.argwhere(clustering.labels_==i).flatten() for i in range(num_of_distributions)])\n",
    "        print('Clustering score', adjusted_rand_score(clustering.labels_.tolist(), copylist))\n",
    "        self.debug_log['cluster'].append((iter, 'Cluster Score', 'cluster_grads', adjusted_rand_score(clustering.labels_.tolist(), copylist)))\n",
    "        \n",
    "        \n",
    "        '''\n",
    "        X = [np.array(net.grad_params) for net in self.benign_nets]\n",
    "        X= np.array(X)\n",
    "        copylist2=copylist[:self.num_of_benign_nets]\n",
    "        clustering = AgglomerativeClustering(n_clusters=len(set(copylist2)), affinity='cosine', linkage='complete').fit(X)\n",
    "        print('Original Copylist', copylist2)\n",
    "        print('Found clusters', clustering.labels_)\n",
    "        print('Original groups', [np.argwhere(np.array(copylist2)==i).flatten() for i in range(num_of_distributions)])\n",
    "        print('Clustered groups', [np.argwhere(clustering.labels_==i).flatten() for i in range(num_of_distributions)])\n",
    "        print('Clustering score', adjusted_rand_score(clustering.labels_.tolist(), copylist2))\n",
    "        '''\n",
    "        \n",
    "        return coses\n",
    "\n",
    "    def FLtrust(self, iter=-1):\n",
    "        clean_server_grad=None\n",
    "        grads=[]\n",
    "        nets_grads=[]\n",
    "        \n",
    "        nets = self.benign_nets + self.mal_nets\n",
    "        for net in nets:\n",
    "            net.calc_grad(self.global_net.state_dict(), change_self=False)\n",
    "            grad_net = CNN().to(device)\n",
    "            grad_net.to(device)\n",
    "            grad_net.copy_params(net.state_dict())\n",
    "            grad_net.aggregate([self.global_net.state_dict()], aggr_weights=[-1])\n",
    "            nets_grads.append(grad_net)\n",
    "\n",
    "        for i in range(self.num_of_benign_nets):\n",
    "            grads.append(self.benign_nets[i].grad_params)\n",
    "            if i==self.num_of_benign_nets-1:\n",
    "                clean_server_grad=grads[i]\n",
    "\n",
    "        for i in range(self.num_of_mal_nets):\n",
    "            grads.append(self.mal_nets[i].grad_params)\n",
    "        \n",
    "        norms = [torch.linalg.norm(grad) for grad in grads]\n",
    "        print('Norms of local gradients ', norms)\n",
    "        self.log.append((iter, 'Norms of local gradients ', 'FLTrust', norms))\n",
    "\n",
    "        \n",
    "        cos_sims=[cos_calc_btn_grads(grad, clean_server_grad) for grad in grads]\n",
    "\n",
    "        '''\n",
    "        for grad in grads:\n",
    "            cos_sims.append(torch.dot(grad, clean_server_grad)/ (torch.linalg.norm(grad)+ 1e-9) / (torch.linalg.norm(clean_server_grad)+ 1e-9))\n",
    "        '''\n",
    "        print('\\n Aggregating models')\n",
    "\n",
    "        #print([cos_calc() ])\n",
    "\n",
    "        print('Cosine Similarities: ', cos_sims)\n",
    "        self.log.append((iter, 'Cosine Similarities', 'FLtrust', cos_sims))\n",
    "        cos_sims = np.maximum(np.array(cos_sims), 0)\n",
    "        norm_weights = cos_sims/(np.sum(cos_sims)+1e-9)\n",
    "        for i in range(len(norm_weights)):\n",
    "            norm_weights[i] = norm_weights[i] * torch.linalg.norm(clean_server_grad) / (torch.linalg.norm(grads[i]))\n",
    "        \n",
    "        print('Aggregation Weights: ', norm_weights)\n",
    "        self.log.append((iter, 'Aggregation Weights', 'FLtrust', norm_weights))\n",
    "\n",
    "        self.global_net.aggregate([grad.state_dict() for grad in nets_grads], aggr_weights=norm_weights)\n",
    "            \n",
    "            \n",
    "\n",
    "    def train_local_net(self, is_malicious, net_id, iter, ref_net_for_minimizing_dist=None):\n",
    "        if is_malicious:\n",
    "            network=self.mal_nets[net_id]\n",
    "            optim=self.mal_net_optims[net_id]\n",
    "            # will change later to aggregate of benign_nets\n",
    "            if ref_net_for_minimizing_dist is None:\n",
    "                ref_net_for_minimizing_dist = self.benign_nets[0].parameters()\n",
    "            ref_grad, ref_net = ref_net_for_minimizing_dist\n",
    "            if ref_grad is None:\n",
    "                import sys\n",
    "                sys.exit()\n",
    "            if ref_grad is not None:\n",
    "                optim.__setrefgradparams__(ref_grad.parameters())\n",
    "            optim.__setrefparams__(ref_net.parameters())\n",
    "        else:\n",
    "            network=self.benign_nets[net_id]\n",
    "            optim=self.benign_net_optims[net_id]\n",
    "\n",
    "        (_, _, trainloader) = train_loaders[iter][net_id + is_malicious*self.num_of_benign_nets]\n",
    "\n",
    "        poisonNow = True if is_malicious and iter>=self.poison_starts_at_iter else False\n",
    "        for epoch in range(self.n_epochs if not poisonNow else (self.n_epochs*1)):\n",
    "            clientType = 'Malicious' if is_malicious else 'Benign'\n",
    "            print(f'Iter {iter} - Epoch {epoch} - Client Type: {clientType} - Client Number {net_id} - Poison Training {poisonNow}')\n",
    "            train_net(network, optim, trainloader, epoch, poisonNow=poisonNow, attack_type=self.attack_type)\n",
    "        network.calc_grad(self.global_net.state_dict(), change_self=False)\n",
    "        if poisonNow:\n",
    "            acc=test(network)\n",
    "            self.log.append((iter, 'Local net test accuracy: mal', 'train_local_net', acc))\n",
    "            if self.attack_type=='backdoorq':\n",
    "                acc = backdoor_test(network)\n",
    "                self.log.append((iter, 'Local net backdoor test accuracy: mal', 'train_local_net', acc))\n",
    "\n",
    "    def train(self):\n",
    "        n_epochs=self.n_epochs\n",
    "        self.n_epochs=1\n",
    "        for iter in range(self.n_iter):\n",
    "            distanceList=[]\n",
    "            cosList=[]\n",
    "            networks=[]\n",
    "            networks+=self.benign_nets\n",
    "            networks+=self.mal_nets\n",
    "            \n",
    "            for epoch in range(n_epochs):\n",
    "                \n",
    "                print(f'\\n\\n Entering epoch {epoch}')\n",
    "\n",
    "                for i in range(self.num_of_benign_nets):\n",
    "                    self.train_local_net(False, i, iter)\n",
    "                \n",
    "                if epoch==n\n",
    "                coses = self.cluster_grads(iter)\n",
    "                \n",
    "                self.debug_log['coses'].append((iter, epoch, coses))\n",
    "\n",
    "            benign_aggr_net=CNN().to(device)\n",
    "            benign_aggr_net.set_param_to_zero()\n",
    "\n",
    "            ### if adversary knows benign_net_aggregates\n",
    "            benign_aggr_net.aggregate([net.state_dict() for net in self.benign_nets])\n",
    "            ### if adversary knows clean server\n",
    "            #benign_aggr_net.copy_params(self.benign_nets[-1].state_dict())\n",
    "\n",
    "            benign_aggr_net_grad=CNN().to(device)\n",
    "            benign_aggr_net_grad.copy_params(benign_aggr_net.state_dict())\n",
    "            benign_aggr_net_grad.aggregate([self.global_net.state_dict()], aggr_weights=[-1])\n",
    "\n",
    "            \n",
    "            for i in range(self.num_of_mal_nets):\n",
    "                self.train_local_net(True, i, iter, ref_net_for_minimizing_dist=(benign_aggr_net_grad, benign_aggr_net))\n",
    "                \n",
    "                if self.scale_up:\n",
    "                    scaled_up_grad = get_scaled_up_grads(self.global_net, networks, self, iter)\n",
    "                    self.mal_nets[i].copy_params(scaled_up_grad.state_dict())\n",
    "                    #self.mal_nets[i].aggregate([benign_aggr_net.state_dict()])\n",
    "                \n",
    "\n",
    "            cosList=[cos_calc_btn_grads(net.grad_params, self.benign_nets[-1].grad_params) for net in networks]\n",
    "            distanceList=[calcDiff(net, self.benign_nets[-1]) for net in networks]\n",
    "\n",
    "            #self.cluster_grads()\n",
    "\n",
    "            self.log.append((iter, 'Benign net distance', 'train', distanceList[:self.num_of_benign_nets]))\n",
    "            print('Benign net distance', distanceList[:self.num_of_benign_nets])\n",
    "            self.log.append((iter, 'Malicious net distance', 'train', distanceList[self.num_of_benign_nets:]))\n",
    "            print('Malicious net distance', distanceList[self.num_of_benign_nets:])\n",
    "            self.log.append((iter, 'Cos sim list', 'train', cosList))\n",
    "            print('cos_sim list ', cosList)\n",
    "\n",
    "            # aggregate nets\n",
    "            #self.global_net.set_param_to_zero()\n",
    "            #self.global_net.aggregate([network.state_dict() for network in networks])\n",
    "            self.FLtrust(iter=iter)\n",
    "            print('\\n\\n\\nAggregate test at iter ', iter)\n",
    "            acc=test(self.global_net)\n",
    "            self.log.append((iter, 'Test accuracy: agg net', 'train', acc))\n",
    "            #backdoor_test(self.global_net)\n",
    "            self.log.append((iter, 'Backdoor test accuracy: agg net', 'train', acc))\n",
    "            self.log.append((iter, 'Distance between aggregate global and clean server', 'train', calcDiff(self.global_net, self.benign_nets[-1])))\n",
    "\n",
    "            # set all local nets equal to global net at the end of the iteration\n",
    "            \n",
    "            for network in networks:\n",
    "                network.copy_params(self.global_net.state_dict())\n",
    "            "
   ]
  },
  {
   "cell_type": "code",
   "execution_count": 208,
   "metadata": {
    "id": "IPqR6UKz9G7U"
   },
   "outputs": [],
   "source": [
    "poison_dict = dict()\n",
    "poison_dict['poison_delta'] = 0.1\n",
    "poison_dict['poison_pattern'] = [[23,25], [24,24],[25,23],[25,25]]\n",
    "poison_dict['poisoning_per_batch'] = 80\n",
    "poison_dict['poison_label_swap'] = 0"
   ]
  },
  {
   "cell_type": "code",
   "execution_count": 209,
   "metadata": {
    "colab": {
     "base_uri": "https://localhost:8080/"
    },
    "id": "szKjrPoXvw_x",
    "outputId": "f9875642-8768-4770-8b3a-57106ae85412"
   },
   "outputs": [
    {
     "name": "stdout",
     "output_type": "stream",
     "text": [
      "[2, 1, 1, 1, 2, 2, 4, 1, 1, 5] 20\n",
      "[9, 1, 4, 9, 6, 7, 5, 6, 2, 0, 8, 3, 9, 5, 6, 4, 0, 9, 9, 6]\n"
     ]
    },
    {
     "data": {
      "text/plain": [
       "<torch._C.Generator at 0x1c2913e2250>"
      ]
     },
     "execution_count": 209,
     "metadata": {},
     "output_type": "execute_result"
    }
   ],
   "source": [
    "#@title\n",
    "import torchvision\n",
    "import random\n",
    "\n",
    "batch_size_train = 100\n",
    "batch_size_test = 1000\n",
    "learning_rate = 0.01\n",
    "log_interval = 10\n",
    "\n",
    "\n",
    "### important hyperparameters\n",
    "num_of_workers=20\n",
    "num_of_mal_workers=0\n",
    "n_iter=50\n",
    "n_epochs=5\n",
    "poison_starts_at_iter=n_iter\n",
    "inertia=0.1\n",
    "momentum=0.1\n",
    "attack_type='label_flip'\n",
    "scale_up=False\n",
    "minimizeDist=False\n",
    "\n",
    "iid = False\n",
    "num_of_distributions = int(num_of_workers/2)\n",
    "num_of_workers_in_distribs = num_of_workers * np.random.dirichlet(np.array(num_of_distributions * [3.0]))\n",
    "num_of_workers_in_distribs = [int(val) for val in num_of_workers_in_distribs]\n",
    "while 0 in num_of_workers_in_distribs:\n",
    "    num_of_workers_in_distribs.remove(0)\n",
    "num_of_workers_in_distribs.append(num_of_workers-sum(num_of_workers_in_distribs))\n",
    "print(num_of_workers_in_distribs, sum(num_of_workers_in_distribs))\n",
    "num_of_distributions = len(num_of_workers_in_distribs)\n",
    "copylist = []\n",
    "for i in range(len(num_of_workers_in_distribs)):\n",
    "    copylist += num_of_workers_in_distribs[i]*[i]\n",
    "random.shuffle(copylist)\n",
    "print(copylist)\n",
    "\n",
    "device=torch.device('cuda:0' if torch.cuda.is_available() else 'cpu')\n",
    "\n",
    "random_seed = 1\n",
    "torch.backends.cudnn.enabled = False\n",
    "torch.manual_seed(random_seed)"
   ]
  },
  {
   "cell_type": "code",
   "execution_count": 210,
   "metadata": {
    "id": "UoYIstgt9-TH"
   },
   "outputs": [],
   "source": [
    "train_losses = []\n",
    "train_counter = []\n",
    "test_losses = []\n",
    "#test_counter = [i*len(train_loader.dataset) for i in range(n_epochs + 1)]"
   ]
  },
  {
   "cell_type": "code",
   "execution_count": 211,
   "metadata": {
    "id": "5WkA_f7UuiOP"
   },
   "outputs": [],
   "source": [
    "#@title\n",
    "from torchvision import datasets, transforms\n",
    "\n",
    "dataPath = ''\n",
    "\n",
    "import random\n",
    "\n",
    "train_loaders=[]\n",
    "\n",
    "transform = transforms.Compose([transforms.ToTensor(),\n",
    "    ### if dataset is mnist\n",
    "    transforms.Normalize((0.1307,), (0.3081,))])\n",
    "    ### if dataset is cifar\n",
    "    #transforms.Normalize((0.5, 0.5, 0.5), (0.5, 0.5, 0.5))])\n",
    "\n",
    "train_dataset = datasets.FashionMNIST('', train=True, download=True,\n",
    "                               transform=transform)\n",
    "test_dataset = datasets.FashionMNIST('', train=False, transform=transform)\n",
    "\n",
    "test_loader = torch.utils.data.DataLoader(\n",
    "  test_dataset,\n",
    "  batch_size=batch_size_test, shuffle=True)\n",
    "\n",
    "all_range = list(range(len(train_dataset)))\n",
    "random.shuffle(all_range)\n",
    "\n",
    "def get_train_iid(all_range, model_no, iter_no):\n",
    "    \"\"\"\n",
    "    This method equally splits the dataset.\n",
    "    :param params:\n",
    "    :param all_range:\n",
    "    :param model_no:\n",
    "    :return:\n",
    "    \"\"\"\n",
    "\n",
    "    data_len_for_iter = int(len(train_dataset) / n_iter)\n",
    "    data_len = int(data_len_for_iter/num_of_workers)\n",
    "    sub_indices_for_iter = all_range[iter_no * data_len_for_iter: (iter_no + 1) * data_len_for_iter]\n",
    "    sub_indices = sub_indices_for_iter[model_no * data_len: (model_no + 1) * data_len ]\n",
    "    train_loader = torch.utils.data.DataLoader(train_dataset,\n",
    "                                        batch_size=batch_size_train,\n",
    "                                        sampler=torch.utils.data.sampler.SubsetRandomSampler(sub_indices)\n",
    "                                        )\n",
    "    return train_loader\n",
    "\n",
    "def get_train_noniid(indices):\n",
    "    \"\"\"\n",
    "    This method is used along with Dirichlet distribution\n",
    "    :param params:\n",
    "    :param indices:\n",
    "    :return:\n",
    "    \"\"\"\n",
    "    train_loader = torch.utils.data.DataLoader(train_dataset,\n",
    "                                        batch_size=int(len(train_dataset)/num_of_workers),\n",
    "                                        sampler=torch.utils.data.sampler.SubsetRandomSampler(\n",
    "                                            indices))\n",
    "    return train_loader\n",
    "\n",
    "def poison_test_dataset(test_dataset, batch_size):\n",
    "    logger.info('get poison test loader')\n",
    "    # delete the test data with target label\n",
    "    test_classes = {}\n",
    "    for ind, x in enumerate(test_dataset):\n",
    "        _, label = x\n",
    "        if label in test_classes:\n",
    "            test_classes[label].append(ind)\n",
    "        else:\n",
    "            test_classes[label] = [ind]\n",
    "\n",
    "    range_no_id = list(range(0, len(test_dataset)))\n",
    "    for image_ind in test_classes[poison_dict['poison_label_swap']]:\n",
    "        if image_ind in range_no_id:\n",
    "            range_no_id.remove(image_ind)\n",
    "    poison_label_inds = test_classes[poison_dict['poison_label_swap']]\n",
    "\n",
    "    return torch.utils.data.DataLoader(test_dataset,\n",
    "                        batch_size=batch_size,\n",
    "                        sampler=torch.utils.data.sampler.SubsetRandomSampler(\n",
    "                            range_no_id)), \\\n",
    "            torch.utils.data.DataLoader(test_dataset,\n",
    "                                        batch_size=batch_size,\n",
    "                                        sampler=torch.utils.data.sampler.SubsetRandomSampler(\n",
    "                                            poison_label_inds))\n",
    "    "
   ]
  },
  {
   "cell_type": "code",
   "execution_count": 212,
   "metadata": {
    "id": "nprLWVYSlzMe"
   },
   "outputs": [],
   "source": [
    "from collections import defaultdict\n",
    "\n",
    "def sample_dirichlet_train_data(no_participants=num_of_workers, dataset=train_dataset, alpha=0.9, copylist=np.arange(num_of_workers)):\n",
    "    \"\"\"\n",
    "        Input: Number of participants and alpha (param for distribution)\n",
    "        Output: A list of indices denoting data in CIFAR training set.\n",
    "        Requires: dataset_classes, a preprocessed class-indice dictionary.\n",
    "        Sample Method: take a uniformly sampled 10-dimension vector as parameters for\n",
    "        dirichlet distribution to sample number of images in each class.\n",
    "    \"\"\"\n",
    "\n",
    "    dataset_classes = {}\n",
    "    for ind, x in enumerate(dataset):\n",
    "        _, label = x\n",
    "        #if ind in self.params['poison_images'] or ind in self.params['poison_images_test']:\n",
    "        #    continue\n",
    "        if label in dataset_classes:\n",
    "            dataset_classes[label].append(ind)\n",
    "        else:\n",
    "            dataset_classes[label] = [ind]\n",
    "    class_size = len(dataset_classes[0])\n",
    "    per_participant_list = defaultdict(list)\n",
    "    no_classes = len(dataset_classes.keys())\n",
    "\n",
    "    for n in range(no_classes):\n",
    "        random.shuffle(dataset_classes[n])\n",
    "        num_of_non_iid_participants = len(np.unique(copylist))\n",
    "        sampled_probabilities = np.random.dirichlet(\n",
    "            np.array(num_of_non_iid_participants * [alpha]))\n",
    "        new_list = []\n",
    "        for ip in copylist:\n",
    "            #new_list.append(np.random.normal(loc=sampled_probabilities[ip], scale=0.005))\n",
    "            new_list.append(sampled_probabilities[ip])\n",
    "        sampled_probabilities = class_size * np.array(new_list)/np.sum(np.array(new_list))\n",
    "        sigmas = 0.0 * sampled_probabilities\n",
    "        sampled_probabilities = np.random.normal(sampled_probabilities, scale=sigmas)\n",
    "        print(sampled_probabilities)\n",
    "        for user in range(no_participants):\n",
    "            no_imgs = int(round(sampled_probabilities[user]))\n",
    "            sampled_list = dataset_classes[n][:min(len(dataset_classes[n]), no_imgs)]\n",
    "            per_participant_list[user].extend(sampled_list)\n",
    "            dataset_classes[n] = dataset_classes[n][min(len(dataset_classes[n]), no_imgs):]\n",
    "\n",
    "    return per_participant_list"
   ]
  },
  {
   "cell_type": "code",
   "execution_count": 213,
   "metadata": {
    "colab": {
     "base_uri": "https://localhost:8080/"
    },
    "id": "eoJhvrcTwY6O",
    "outputId": "68bbf02a-521b-49df-d5f8-bf85c527128b"
   },
   "outputs": [
    {
     "name": "stdout",
     "output_type": "stream",
     "text": [
      "[  50.81026812  262.40832255 1536.8264067    50.81026812   43.14852882\n",
      "  254.43312701  416.31437191   43.14852882  240.79498747   74.76699118\n",
      "   16.98735249  742.91521501   50.81026812  416.31437191   43.14852882\n",
      " 1536.8264067    74.76699118   50.81026812   50.81026812   43.14852882]\n",
      "[121.14146942  83.75702352  90.35967224 121.14146942  78.16390332\n",
      " 533.24036135 683.19270577  78.16390332  70.22352155 887.01465677\n",
      " 593.99274027 479.2893234  121.14146942 683.19270577  78.16390332\n",
      "  90.35967224 887.01465677 121.14146942 121.14146942  78.16390332]\n",
      "[ 486.80873901  135.32997922   20.10717833  486.80873901  125.37496766\n",
      "  247.5019579    19.83893997  125.37496766   88.73036264  398.54007495\n",
      "   94.18401104 1621.73773697  486.80873901   19.83893997  125.37496766\n",
      "   20.10717833  398.54007495  486.80873901  486.80873901  125.37496766]\n",
      "[ 44.47420468 546.81933397 968.80960227  44.47420468 509.11158534\n",
      "  68.02734858 468.4241873  509.11158534  27.19291867  70.16707406\n",
      "  72.99377653  11.34753023  44.47420468 468.4241873  509.11158534\n",
      " 968.80960227  70.16707406  44.47420468  44.47420468 509.11158534]\n",
      "[ 96.08029132 678.47857589  45.43380249  96.08029132 460.92262813\n",
      " 129.68344284 417.31402715 460.92262813 716.39094688 482.78837497\n",
      "  91.21484685 169.06780922  96.08029132 417.31402715 460.92262813\n",
      "  45.43380249 482.78837497  96.08029132  96.08029132 460.92262813]\n",
      "[475.03517599  54.3879058  166.59591077 475.03517599  24.48485637\n",
      " 348.38744687 962.74906972  24.48485637 460.09787111  86.15375295\n",
      " 176.9843829   56.02962102 475.03517599 962.74906972  24.48485637\n",
      " 166.59591077  86.15375295 475.03517599 475.03517599  24.48485637]\n",
      "[  88.32700309  489.53720587  284.49357143   88.32700309  340.91214997\n",
      "  119.47201066 1181.45606959  340.91214997   77.44731113  149.76989177\n",
      "    6.00706314  270.81372828   88.32700309 1181.45606959  340.91214997\n",
      "  284.49357143  149.76989177   88.32700309   88.32700309  340.91214997]\n",
      "[ 75.88140805 762.77073641 395.30755605  75.88140805 256.23411117\n",
      " 394.29823521 753.33923369 256.23411117  16.16781723 225.1572629\n",
      " 183.03612608 491.77549486  75.88140805 753.33923369 256.23411117\n",
      " 395.30755605 225.1572629   75.88140805  75.88140805 256.23411117]\n",
      "[2.85307296e+02 1.60350629e+03 1.38898047e+00 2.85307296e+02\n",
      " 7.44767671e+01 4.76735838e+02 1.25003152e+01 7.44767671e+01\n",
      " 7.98530863e+02 5.71413216e+02 1.71089856e+02 5.50885846e+01\n",
      " 2.85307296e+02 1.25003152e+01 7.44767671e+01 1.38898047e+00\n",
      " 5.71413216e+02 2.85307296e+02 2.85307296e+02 7.44767671e+01]\n",
      "[199.22786945 310.10542123  72.64551979 199.22786945 530.78511409\n",
      " 102.80648695 438.48061436 530.78511409  35.69004433 634.31130013\n",
      "  67.05965414  74.1837212  199.22786945 438.48061436 530.78511409\n",
      "  72.64551979 634.31130013 199.22786945 199.22786945 530.78511409]\n",
      "[[(-1, 0, <torch.utils.data.dataloader.DataLoader object at 0x000001C2E165C808>), (-1, 1, <torch.utils.data.dataloader.DataLoader object at 0x000001C2E165C588>), (-1, 2, <torch.utils.data.dataloader.DataLoader object at 0x000001C2E165C548>), (-1, 3, <torch.utils.data.dataloader.DataLoader object at 0x000001C2E165C748>), (-1, 4, <torch.utils.data.dataloader.DataLoader object at 0x000001C2E165C608>), (-1, 5, <torch.utils.data.dataloader.DataLoader object at 0x000001C2E164C488>), (-1, 6, <torch.utils.data.dataloader.DataLoader object at 0x000001C2E164CC88>), (-1, 7, <torch.utils.data.dataloader.DataLoader object at 0x000001C2E164CDC8>), (-1, 8, <torch.utils.data.dataloader.DataLoader object at 0x000001C2E164CF88>), (-1, 9, <torch.utils.data.dataloader.DataLoader object at 0x000001C2E164C748>), (-1, 10, <torch.utils.data.dataloader.DataLoader object at 0x000001C2E164CE88>), (-1, 11, <torch.utils.data.dataloader.DataLoader object at 0x000001C2E164C708>), (-1, 12, <torch.utils.data.dataloader.DataLoader object at 0x000001C2E7E9D2C8>), (-1, 13, <torch.utils.data.dataloader.DataLoader object at 0x000001C2E7E9DB88>), (-1, 14, <torch.utils.data.dataloader.DataLoader object at 0x000001C2E7E9D308>), (-1, 15, <torch.utils.data.dataloader.DataLoader object at 0x000001C2E7E9D708>), (-1, 16, <torch.utils.data.dataloader.DataLoader object at 0x000001C2E7E9D488>), (-1, 17, <torch.utils.data.dataloader.DataLoader object at 0x000001C2E7E9D988>), (-1, 18, <torch.utils.data.dataloader.DataLoader object at 0x000001C2E7E9DD48>), (-1, 19, <torch.utils.data.dataloader.DataLoader object at 0x000001C2E7E9DD08>)], [(-1, 0, <torch.utils.data.dataloader.DataLoader object at 0x000001C2E165C808>), (-1, 1, <torch.utils.data.dataloader.DataLoader object at 0x000001C2E165C588>), (-1, 2, <torch.utils.data.dataloader.DataLoader object at 0x000001C2E165C548>), (-1, 3, <torch.utils.data.dataloader.DataLoader object at 0x000001C2E165C748>), (-1, 4, <torch.utils.data.dataloader.DataLoader object at 0x000001C2E165C608>), (-1, 5, <torch.utils.data.dataloader.DataLoader object at 0x000001C2E164C488>), (-1, 6, <torch.utils.data.dataloader.DataLoader object at 0x000001C2E164CC88>), (-1, 7, <torch.utils.data.dataloader.DataLoader object at 0x000001C2E164CDC8>), (-1, 8, <torch.utils.data.dataloader.DataLoader object at 0x000001C2E164CF88>), (-1, 9, <torch.utils.data.dataloader.DataLoader object at 0x000001C2E164C748>), (-1, 10, <torch.utils.data.dataloader.DataLoader object at 0x000001C2E164CE88>), (-1, 11, <torch.utils.data.dataloader.DataLoader object at 0x000001C2E164C708>), (-1, 12, <torch.utils.data.dataloader.DataLoader object at 0x000001C2E7E9D2C8>), (-1, 13, <torch.utils.data.dataloader.DataLoader object at 0x000001C2E7E9DB88>), (-1, 14, <torch.utils.data.dataloader.DataLoader object at 0x000001C2E7E9D308>), (-1, 15, <torch.utils.data.dataloader.DataLoader object at 0x000001C2E7E9D708>), (-1, 16, <torch.utils.data.dataloader.DataLoader object at 0x000001C2E7E9D488>), (-1, 17, <torch.utils.data.dataloader.DataLoader object at 0x000001C2E7E9D988>), (-1, 18, <torch.utils.data.dataloader.DataLoader object at 0x000001C2E7E9DD48>), (-1, 19, <torch.utils.data.dataloader.DataLoader object at 0x000001C2E7E9DD08>)], [(-1, 0, <torch.utils.data.dataloader.DataLoader object at 0x000001C2E165C808>), (-1, 1, <torch.utils.data.dataloader.DataLoader object at 0x000001C2E165C588>), (-1, 2, <torch.utils.data.dataloader.DataLoader object at 0x000001C2E165C548>), (-1, 3, <torch.utils.data.dataloader.DataLoader object at 0x000001C2E165C748>), (-1, 4, <torch.utils.data.dataloader.DataLoader object at 0x000001C2E165C608>), (-1, 5, <torch.utils.data.dataloader.DataLoader object at 0x000001C2E164C488>), (-1, 6, <torch.utils.data.dataloader.DataLoader object at 0x000001C2E164CC88>), (-1, 7, <torch.utils.data.dataloader.DataLoader object at 0x000001C2E164CDC8>), (-1, 8, <torch.utils.data.dataloader.DataLoader object at 0x000001C2E164CF88>), (-1, 9, <torch.utils.data.dataloader.DataLoader object at 0x000001C2E164C748>), (-1, 10, <torch.utils.data.dataloader.DataLoader object at 0x000001C2E164CE88>), (-1, 11, <torch.utils.data.dataloader.DataLoader object at 0x000001C2E164C708>), (-1, 12, <torch.utils.data.dataloader.DataLoader object at 0x000001C2E7E9D2C8>), (-1, 13, <torch.utils.data.dataloader.DataLoader object at 0x000001C2E7E9DB88>), (-1, 14, <torch.utils.data.dataloader.DataLoader object at 0x000001C2E7E9D308>), (-1, 15, <torch.utils.data.dataloader.DataLoader object at 0x000001C2E7E9D708>), (-1, 16, <torch.utils.data.dataloader.DataLoader object at 0x000001C2E7E9D488>), (-1, 17, <torch.utils.data.dataloader.DataLoader object at 0x000001C2E7E9D988>), (-1, 18, <torch.utils.data.dataloader.DataLoader object at 0x000001C2E7E9DD48>), (-1, 19, <torch.utils.data.dataloader.DataLoader object at 0x000001C2E7E9DD08>)], [(-1, 0, <torch.utils.data.dataloader.DataLoader object at 0x000001C2E165C808>), (-1, 1, <torch.utils.data.dataloader.DataLoader object at 0x000001C2E165C588>), (-1, 2, <torch.utils.data.dataloader.DataLoader object at 0x000001C2E165C548>), (-1, 3, <torch.utils.data.dataloader.DataLoader object at 0x000001C2E165C748>), (-1, 4, <torch.utils.data.dataloader.DataLoader object at 0x000001C2E165C608>), (-1, 5, <torch.utils.data.dataloader.DataLoader object at 0x000001C2E164C488>), (-1, 6, <torch.utils.data.dataloader.DataLoader object at 0x000001C2E164CC88>), (-1, 7, <torch.utils.data.dataloader.DataLoader object at 0x000001C2E164CDC8>), (-1, 8, <torch.utils.data.dataloader.DataLoader object at 0x000001C2E164CF88>), (-1, 9, <torch.utils.data.dataloader.DataLoader object at 0x000001C2E164C748>), (-1, 10, <torch.utils.data.dataloader.DataLoader object at 0x000001C2E164CE88>), (-1, 11, <torch.utils.data.dataloader.DataLoader object at 0x000001C2E164C708>), (-1, 12, <torch.utils.data.dataloader.DataLoader object at 0x000001C2E7E9D2C8>), (-1, 13, <torch.utils.data.dataloader.DataLoader object at 0x000001C2E7E9DB88>), (-1, 14, <torch.utils.data.dataloader.DataLoader object at 0x000001C2E7E9D308>), (-1, 15, <torch.utils.data.dataloader.DataLoader object at 0x000001C2E7E9D708>), (-1, 16, <torch.utils.data.dataloader.DataLoader object at 0x000001C2E7E9D488>), (-1, 17, <torch.utils.data.dataloader.DataLoader object at 0x000001C2E7E9D988>), (-1, 18, <torch.utils.data.dataloader.DataLoader object at 0x000001C2E7E9DD48>), (-1, 19, <torch.utils.data.dataloader.DataLoader object at 0x000001C2E7E9DD08>)], [(-1, 0, <torch.utils.data.dataloader.DataLoader object at 0x000001C2E165C808>), (-1, 1, <torch.utils.data.dataloader.DataLoader object at 0x000001C2E165C588>), (-1, 2, <torch.utils.data.dataloader.DataLoader object at 0x000001C2E165C548>), (-1, 3, <torch.utils.data.dataloader.DataLoader object at 0x000001C2E165C748>), (-1, 4, <torch.utils.data.dataloader.DataLoader object at 0x000001C2E165C608>), (-1, 5, <torch.utils.data.dataloader.DataLoader object at 0x000001C2E164C488>), (-1, 6, <torch.utils.data.dataloader.DataLoader object at 0x000001C2E164CC88>), (-1, 7, <torch.utils.data.dataloader.DataLoader object at 0x000001C2E164CDC8>), (-1, 8, <torch.utils.data.dataloader.DataLoader object at 0x000001C2E164CF88>), (-1, 9, <torch.utils.data.dataloader.DataLoader object at 0x000001C2E164C748>), (-1, 10, <torch.utils.data.dataloader.DataLoader object at 0x000001C2E164CE88>), (-1, 11, <torch.utils.data.dataloader.DataLoader object at 0x000001C2E164C708>), (-1, 12, <torch.utils.data.dataloader.DataLoader object at 0x000001C2E7E9D2C8>), (-1, 13, <torch.utils.data.dataloader.DataLoader object at 0x000001C2E7E9DB88>), (-1, 14, <torch.utils.data.dataloader.DataLoader object at 0x000001C2E7E9D308>), (-1, 15, <torch.utils.data.dataloader.DataLoader object at 0x000001C2E7E9D708>), (-1, 16, <torch.utils.data.dataloader.DataLoader object at 0x000001C2E7E9D488>), (-1, 17, <torch.utils.data.dataloader.DataLoader object at 0x000001C2E7E9D988>), (-1, 18, <torch.utils.data.dataloader.DataLoader object at 0x000001C2E7E9DD48>), (-1, 19, <torch.utils.data.dataloader.DataLoader object at 0x000001C2E7E9DD08>)], [(-1, 0, <torch.utils.data.dataloader.DataLoader object at 0x000001C2E165C808>), (-1, 1, <torch.utils.data.dataloader.DataLoader object at 0x000001C2E165C588>), (-1, 2, <torch.utils.data.dataloader.DataLoader object at 0x000001C2E165C548>), (-1, 3, <torch.utils.data.dataloader.DataLoader object at 0x000001C2E165C748>), (-1, 4, <torch.utils.data.dataloader.DataLoader object at 0x000001C2E165C608>), (-1, 5, <torch.utils.data.dataloader.DataLoader object at 0x000001C2E164C488>), (-1, 6, <torch.utils.data.dataloader.DataLoader object at 0x000001C2E164CC88>), (-1, 7, <torch.utils.data.dataloader.DataLoader object at 0x000001C2E164CDC8>), (-1, 8, <torch.utils.data.dataloader.DataLoader object at 0x000001C2E164CF88>), (-1, 9, <torch.utils.data.dataloader.DataLoader object at 0x000001C2E164C748>), (-1, 10, <torch.utils.data.dataloader.DataLoader object at 0x000001C2E164CE88>), (-1, 11, <torch.utils.data.dataloader.DataLoader object at 0x000001C2E164C708>), (-1, 12, <torch.utils.data.dataloader.DataLoader object at 0x000001C2E7E9D2C8>), (-1, 13, <torch.utils.data.dataloader.DataLoader object at 0x000001C2E7E9DB88>), (-1, 14, <torch.utils.data.dataloader.DataLoader object at 0x000001C2E7E9D308>), (-1, 15, <torch.utils.data.dataloader.DataLoader object at 0x000001C2E7E9D708>), (-1, 16, <torch.utils.data.dataloader.DataLoader object at 0x000001C2E7E9D488>), (-1, 17, <torch.utils.data.dataloader.DataLoader object at 0x000001C2E7E9D988>), (-1, 18, <torch.utils.data.dataloader.DataLoader object at 0x000001C2E7E9DD48>), (-1, 19, <torch.utils.data.dataloader.DataLoader object at 0x000001C2E7E9DD08>)], [(-1, 0, <torch.utils.data.dataloader.DataLoader object at 0x000001C2E165C808>), (-1, 1, <torch.utils.data.dataloader.DataLoader object at 0x000001C2E165C588>), (-1, 2, <torch.utils.data.dataloader.DataLoader object at 0x000001C2E165C548>), (-1, 3, <torch.utils.data.dataloader.DataLoader object at 0x000001C2E165C748>), (-1, 4, <torch.utils.data.dataloader.DataLoader object at 0x000001C2E165C608>), (-1, 5, <torch.utils.data.dataloader.DataLoader object at 0x000001C2E164C488>), (-1, 6, <torch.utils.data.dataloader.DataLoader object at 0x000001C2E164CC88>), (-1, 7, <torch.utils.data.dataloader.DataLoader object at 0x000001C2E164CDC8>), (-1, 8, <torch.utils.data.dataloader.DataLoader object at 0x000001C2E164CF88>), (-1, 9, <torch.utils.data.dataloader.DataLoader object at 0x000001C2E164C748>), (-1, 10, <torch.utils.data.dataloader.DataLoader object at 0x000001C2E164CE88>), (-1, 11, <torch.utils.data.dataloader.DataLoader object at 0x000001C2E164C708>), (-1, 12, <torch.utils.data.dataloader.DataLoader object at 0x000001C2E7E9D2C8>), (-1, 13, <torch.utils.data.dataloader.DataLoader object at 0x000001C2E7E9DB88>), (-1, 14, <torch.utils.data.dataloader.DataLoader object at 0x000001C2E7E9D308>), (-1, 15, <torch.utils.data.dataloader.DataLoader object at 0x000001C2E7E9D708>), (-1, 16, <torch.utils.data.dataloader.DataLoader object at 0x000001C2E7E9D488>), (-1, 17, <torch.utils.data.dataloader.DataLoader object at 0x000001C2E7E9D988>), (-1, 18, <torch.utils.data.dataloader.DataLoader object at 0x000001C2E7E9DD48>), (-1, 19, <torch.utils.data.dataloader.DataLoader object at 0x000001C2E7E9DD08>)], [(-1, 0, <torch.utils.data.dataloader.DataLoader object at 0x000001C2E165C808>), (-1, 1, <torch.utils.data.dataloader.DataLoader object at 0x000001C2E165C588>), (-1, 2, <torch.utils.data.dataloader.DataLoader object at 0x000001C2E165C548>), (-1, 3, <torch.utils.data.dataloader.DataLoader object at 0x000001C2E165C748>), (-1, 4, <torch.utils.data.dataloader.DataLoader object at 0x000001C2E165C608>), (-1, 5, <torch.utils.data.dataloader.DataLoader object at 0x000001C2E164C488>), (-1, 6, <torch.utils.data.dataloader.DataLoader object at 0x000001C2E164CC88>), (-1, 7, <torch.utils.data.dataloader.DataLoader object at 0x000001C2E164CDC8>), (-1, 8, <torch.utils.data.dataloader.DataLoader object at 0x000001C2E164CF88>), (-1, 9, <torch.utils.data.dataloader.DataLoader object at 0x000001C2E164C748>), (-1, 10, <torch.utils.data.dataloader.DataLoader object at 0x000001C2E164CE88>), (-1, 11, <torch.utils.data.dataloader.DataLoader object at 0x000001C2E164C708>), (-1, 12, <torch.utils.data.dataloader.DataLoader object at 0x000001C2E7E9D2C8>), (-1, 13, <torch.utils.data.dataloader.DataLoader object at 0x000001C2E7E9DB88>), (-1, 14, <torch.utils.data.dataloader.DataLoader object at 0x000001C2E7E9D308>), (-1, 15, <torch.utils.data.dataloader.DataLoader object at 0x000001C2E7E9D708>), (-1, 16, <torch.utils.data.dataloader.DataLoader object at 0x000001C2E7E9D488>), (-1, 17, <torch.utils.data.dataloader.DataLoader object at 0x000001C2E7E9D988>), (-1, 18, <torch.utils.data.dataloader.DataLoader object at 0x000001C2E7E9DD48>), (-1, 19, <torch.utils.data.dataloader.DataLoader object at 0x000001C2E7E9DD08>)], [(-1, 0, <torch.utils.data.dataloader.DataLoader object at 0x000001C2E165C808>), (-1, 1, <torch.utils.data.dataloader.DataLoader object at 0x000001C2E165C588>), (-1, 2, <torch.utils.data.dataloader.DataLoader object at 0x000001C2E165C548>), (-1, 3, <torch.utils.data.dataloader.DataLoader object at 0x000001C2E165C748>), (-1, 4, <torch.utils.data.dataloader.DataLoader object at 0x000001C2E165C608>), (-1, 5, <torch.utils.data.dataloader.DataLoader object at 0x000001C2E164C488>), (-1, 6, <torch.utils.data.dataloader.DataLoader object at 0x000001C2E164CC88>), (-1, 7, <torch.utils.data.dataloader.DataLoader object at 0x000001C2E164CDC8>), (-1, 8, <torch.utils.data.dataloader.DataLoader object at 0x000001C2E164CF88>), (-1, 9, <torch.utils.data.dataloader.DataLoader object at 0x000001C2E164C748>), (-1, 10, <torch.utils.data.dataloader.DataLoader object at 0x000001C2E164CE88>), (-1, 11, <torch.utils.data.dataloader.DataLoader object at 0x000001C2E164C708>), (-1, 12, <torch.utils.data.dataloader.DataLoader object at 0x000001C2E7E9D2C8>), (-1, 13, <torch.utils.data.dataloader.DataLoader object at 0x000001C2E7E9DB88>), (-1, 14, <torch.utils.data.dataloader.DataLoader object at 0x000001C2E7E9D308>), (-1, 15, <torch.utils.data.dataloader.DataLoader object at 0x000001C2E7E9D708>), (-1, 16, <torch.utils.data.dataloader.DataLoader object at 0x000001C2E7E9D488>), (-1, 17, <torch.utils.data.dataloader.DataLoader object at 0x000001C2E7E9D988>), (-1, 18, <torch.utils.data.dataloader.DataLoader object at 0x000001C2E7E9DD48>), (-1, 19, <torch.utils.data.dataloader.DataLoader object at 0x000001C2E7E9DD08>)], [(-1, 0, <torch.utils.data.dataloader.DataLoader object at 0x000001C2E165C808>), (-1, 1, <torch.utils.data.dataloader.DataLoader object at 0x000001C2E165C588>), (-1, 2, <torch.utils.data.dataloader.DataLoader object at 0x000001C2E165C548>), (-1, 3, <torch.utils.data.dataloader.DataLoader object at 0x000001C2E165C748>), (-1, 4, <torch.utils.data.dataloader.DataLoader object at 0x000001C2E165C608>), (-1, 5, <torch.utils.data.dataloader.DataLoader object at 0x000001C2E164C488>), (-1, 6, <torch.utils.data.dataloader.DataLoader object at 0x000001C2E164CC88>), (-1, 7, <torch.utils.data.dataloader.DataLoader object at 0x000001C2E164CDC8>), (-1, 8, <torch.utils.data.dataloader.DataLoader object at 0x000001C2E164CF88>), (-1, 9, <torch.utils.data.dataloader.DataLoader object at 0x000001C2E164C748>), (-1, 10, <torch.utils.data.dataloader.DataLoader object at 0x000001C2E164CE88>), (-1, 11, <torch.utils.data.dataloader.DataLoader object at 0x000001C2E164C708>), (-1, 12, <torch.utils.data.dataloader.DataLoader object at 0x000001C2E7E9D2C8>), (-1, 13, <torch.utils.data.dataloader.DataLoader object at 0x000001C2E7E9DB88>), (-1, 14, <torch.utils.data.dataloader.DataLoader object at 0x000001C2E7E9D308>), (-1, 15, <torch.utils.data.dataloader.DataLoader object at 0x000001C2E7E9D708>), (-1, 16, <torch.utils.data.dataloader.DataLoader object at 0x000001C2E7E9D488>), (-1, 17, <torch.utils.data.dataloader.DataLoader object at 0x000001C2E7E9D988>), (-1, 18, <torch.utils.data.dataloader.DataLoader object at 0x000001C2E7E9DD48>), (-1, 19, <torch.utils.data.dataloader.DataLoader object at 0x000001C2E7E9DD08>)], [(-1, 0, <torch.utils.data.dataloader.DataLoader object at 0x000001C2E165C808>), (-1, 1, <torch.utils.data.dataloader.DataLoader object at 0x000001C2E165C588>), (-1, 2, <torch.utils.data.dataloader.DataLoader object at 0x000001C2E165C548>), (-1, 3, <torch.utils.data.dataloader.DataLoader object at 0x000001C2E165C748>), (-1, 4, <torch.utils.data.dataloader.DataLoader object at 0x000001C2E165C608>), (-1, 5, <torch.utils.data.dataloader.DataLoader object at 0x000001C2E164C488>), (-1, 6, <torch.utils.data.dataloader.DataLoader object at 0x000001C2E164CC88>), (-1, 7, <torch.utils.data.dataloader.DataLoader object at 0x000001C2E164CDC8>), (-1, 8, <torch.utils.data.dataloader.DataLoader object at 0x000001C2E164CF88>), (-1, 9, <torch.utils.data.dataloader.DataLoader object at 0x000001C2E164C748>), (-1, 10, <torch.utils.data.dataloader.DataLoader object at 0x000001C2E164CE88>), (-1, 11, <torch.utils.data.dataloader.DataLoader object at 0x000001C2E164C708>), (-1, 12, <torch.utils.data.dataloader.DataLoader object at 0x000001C2E7E9D2C8>), (-1, 13, <torch.utils.data.dataloader.DataLoader object at 0x000001C2E7E9DB88>), (-1, 14, <torch.utils.data.dataloader.DataLoader object at 0x000001C2E7E9D308>), (-1, 15, <torch.utils.data.dataloader.DataLoader object at 0x000001C2E7E9D708>), (-1, 16, <torch.utils.data.dataloader.DataLoader object at 0x000001C2E7E9D488>), (-1, 17, <torch.utils.data.dataloader.DataLoader object at 0x000001C2E7E9D988>), (-1, 18, <torch.utils.data.dataloader.DataLoader object at 0x000001C2E7E9DD48>), (-1, 19, <torch.utils.data.dataloader.DataLoader object at 0x000001C2E7E9DD08>)], [(-1, 0, <torch.utils.data.dataloader.DataLoader object at 0x000001C2E165C808>), (-1, 1, <torch.utils.data.dataloader.DataLoader object at 0x000001C2E165C588>), (-1, 2, <torch.utils.data.dataloader.DataLoader object at 0x000001C2E165C548>), (-1, 3, <torch.utils.data.dataloader.DataLoader object at 0x000001C2E165C748>), (-1, 4, <torch.utils.data.dataloader.DataLoader object at 0x000001C2E165C608>), (-1, 5, <torch.utils.data.dataloader.DataLoader object at 0x000001C2E164C488>), (-1, 6, <torch.utils.data.dataloader.DataLoader object at 0x000001C2E164CC88>), (-1, 7, <torch.utils.data.dataloader.DataLoader object at 0x000001C2E164CDC8>), (-1, 8, <torch.utils.data.dataloader.DataLoader object at 0x000001C2E164CF88>), (-1, 9, <torch.utils.data.dataloader.DataLoader object at 0x000001C2E164C748>), (-1, 10, <torch.utils.data.dataloader.DataLoader object at 0x000001C2E164CE88>), (-1, 11, <torch.utils.data.dataloader.DataLoader object at 0x000001C2E164C708>), (-1, 12, <torch.utils.data.dataloader.DataLoader object at 0x000001C2E7E9D2C8>), (-1, 13, <torch.utils.data.dataloader.DataLoader object at 0x000001C2E7E9DB88>), (-1, 14, <torch.utils.data.dataloader.DataLoader object at 0x000001C2E7E9D308>), (-1, 15, <torch.utils.data.dataloader.DataLoader object at 0x000001C2E7E9D708>), (-1, 16, <torch.utils.data.dataloader.DataLoader object at 0x000001C2E7E9D488>), (-1, 17, <torch.utils.data.dataloader.DataLoader object at 0x000001C2E7E9D988>), (-1, 18, <torch.utils.data.dataloader.DataLoader object at 0x000001C2E7E9DD48>), (-1, 19, <torch.utils.data.dataloader.DataLoader object at 0x000001C2E7E9DD08>)], [(-1, 0, <torch.utils.data.dataloader.DataLoader object at 0x000001C2E165C808>), (-1, 1, <torch.utils.data.dataloader.DataLoader object at 0x000001C2E165C588>), (-1, 2, <torch.utils.data.dataloader.DataLoader object at 0x000001C2E165C548>), (-1, 3, <torch.utils.data.dataloader.DataLoader object at 0x000001C2E165C748>), (-1, 4, <torch.utils.data.dataloader.DataLoader object at 0x000001C2E165C608>), (-1, 5, <torch.utils.data.dataloader.DataLoader object at 0x000001C2E164C488>), (-1, 6, <torch.utils.data.dataloader.DataLoader object at 0x000001C2E164CC88>), (-1, 7, <torch.utils.data.dataloader.DataLoader object at 0x000001C2E164CDC8>), (-1, 8, <torch.utils.data.dataloader.DataLoader object at 0x000001C2E164CF88>), (-1, 9, <torch.utils.data.dataloader.DataLoader object at 0x000001C2E164C748>), (-1, 10, <torch.utils.data.dataloader.DataLoader object at 0x000001C2E164CE88>), (-1, 11, <torch.utils.data.dataloader.DataLoader object at 0x000001C2E164C708>), (-1, 12, <torch.utils.data.dataloader.DataLoader object at 0x000001C2E7E9D2C8>), (-1, 13, <torch.utils.data.dataloader.DataLoader object at 0x000001C2E7E9DB88>), (-1, 14, <torch.utils.data.dataloader.DataLoader object at 0x000001C2E7E9D308>), (-1, 15, <torch.utils.data.dataloader.DataLoader object at 0x000001C2E7E9D708>), (-1, 16, <torch.utils.data.dataloader.DataLoader object at 0x000001C2E7E9D488>), (-1, 17, <torch.utils.data.dataloader.DataLoader object at 0x000001C2E7E9D988>), (-1, 18, <torch.utils.data.dataloader.DataLoader object at 0x000001C2E7E9DD48>), (-1, 19, <torch.utils.data.dataloader.DataLoader object at 0x000001C2E7E9DD08>)], [(-1, 0, <torch.utils.data.dataloader.DataLoader object at 0x000001C2E165C808>), (-1, 1, <torch.utils.data.dataloader.DataLoader object at 0x000001C2E165C588>), (-1, 2, <torch.utils.data.dataloader.DataLoader object at 0x000001C2E165C548>), (-1, 3, <torch.utils.data.dataloader.DataLoader object at 0x000001C2E165C748>), (-1, 4, <torch.utils.data.dataloader.DataLoader object at 0x000001C2E165C608>), (-1, 5, <torch.utils.data.dataloader.DataLoader object at 0x000001C2E164C488>), (-1, 6, <torch.utils.data.dataloader.DataLoader object at 0x000001C2E164CC88>), (-1, 7, <torch.utils.data.dataloader.DataLoader object at 0x000001C2E164CDC8>), (-1, 8, <torch.utils.data.dataloader.DataLoader object at 0x000001C2E164CF88>), (-1, 9, <torch.utils.data.dataloader.DataLoader object at 0x000001C2E164C748>), (-1, 10, <torch.utils.data.dataloader.DataLoader object at 0x000001C2E164CE88>), (-1, 11, <torch.utils.data.dataloader.DataLoader object at 0x000001C2E164C708>), (-1, 12, <torch.utils.data.dataloader.DataLoader object at 0x000001C2E7E9D2C8>), (-1, 13, <torch.utils.data.dataloader.DataLoader object at 0x000001C2E7E9DB88>), (-1, 14, <torch.utils.data.dataloader.DataLoader object at 0x000001C2E7E9D308>), (-1, 15, <torch.utils.data.dataloader.DataLoader object at 0x000001C2E7E9D708>), (-1, 16, <torch.utils.data.dataloader.DataLoader object at 0x000001C2E7E9D488>), (-1, 17, <torch.utils.data.dataloader.DataLoader object at 0x000001C2E7E9D988>), (-1, 18, <torch.utils.data.dataloader.DataLoader object at 0x000001C2E7E9DD48>), (-1, 19, <torch.utils.data.dataloader.DataLoader object at 0x000001C2E7E9DD08>)], [(-1, 0, <torch.utils.data.dataloader.DataLoader object at 0x000001C2E165C808>), (-1, 1, <torch.utils.data.dataloader.DataLoader object at 0x000001C2E165C588>), (-1, 2, <torch.utils.data.dataloader.DataLoader object at 0x000001C2E165C548>), (-1, 3, <torch.utils.data.dataloader.DataLoader object at 0x000001C2E165C748>), (-1, 4, <torch.utils.data.dataloader.DataLoader object at 0x000001C2E165C608>), (-1, 5, <torch.utils.data.dataloader.DataLoader object at 0x000001C2E164C488>), (-1, 6, <torch.utils.data.dataloader.DataLoader object at 0x000001C2E164CC88>), (-1, 7, <torch.utils.data.dataloader.DataLoader object at 0x000001C2E164CDC8>), (-1, 8, <torch.utils.data.dataloader.DataLoader object at 0x000001C2E164CF88>), (-1, 9, <torch.utils.data.dataloader.DataLoader object at 0x000001C2E164C748>), (-1, 10, <torch.utils.data.dataloader.DataLoader object at 0x000001C2E164CE88>), (-1, 11, <torch.utils.data.dataloader.DataLoader object at 0x000001C2E164C708>), (-1, 12, <torch.utils.data.dataloader.DataLoader object at 0x000001C2E7E9D2C8>), (-1, 13, <torch.utils.data.dataloader.DataLoader object at 0x000001C2E7E9DB88>), (-1, 14, <torch.utils.data.dataloader.DataLoader object at 0x000001C2E7E9D308>), (-1, 15, <torch.utils.data.dataloader.DataLoader object at 0x000001C2E7E9D708>), (-1, 16, <torch.utils.data.dataloader.DataLoader object at 0x000001C2E7E9D488>), (-1, 17, <torch.utils.data.dataloader.DataLoader object at 0x000001C2E7E9D988>), (-1, 18, <torch.utils.data.dataloader.DataLoader object at 0x000001C2E7E9DD48>), (-1, 19, <torch.utils.data.dataloader.DataLoader object at 0x000001C2E7E9DD08>)], [(-1, 0, <torch.utils.data.dataloader.DataLoader object at 0x000001C2E165C808>), (-1, 1, <torch.utils.data.dataloader.DataLoader object at 0x000001C2E165C588>), (-1, 2, <torch.utils.data.dataloader.DataLoader object at 0x000001C2E165C548>), (-1, 3, <torch.utils.data.dataloader.DataLoader object at 0x000001C2E165C748>), (-1, 4, <torch.utils.data.dataloader.DataLoader object at 0x000001C2E165C608>), (-1, 5, <torch.utils.data.dataloader.DataLoader object at 0x000001C2E164C488>), (-1, 6, <torch.utils.data.dataloader.DataLoader object at 0x000001C2E164CC88>), (-1, 7, <torch.utils.data.dataloader.DataLoader object at 0x000001C2E164CDC8>), (-1, 8, <torch.utils.data.dataloader.DataLoader object at 0x000001C2E164CF88>), (-1, 9, <torch.utils.data.dataloader.DataLoader object at 0x000001C2E164C748>), (-1, 10, <torch.utils.data.dataloader.DataLoader object at 0x000001C2E164CE88>), (-1, 11, <torch.utils.data.dataloader.DataLoader object at 0x000001C2E164C708>), (-1, 12, <torch.utils.data.dataloader.DataLoader object at 0x000001C2E7E9D2C8>), (-1, 13, <torch.utils.data.dataloader.DataLoader object at 0x000001C2E7E9DB88>), (-1, 14, <torch.utils.data.dataloader.DataLoader object at 0x000001C2E7E9D308>), (-1, 15, <torch.utils.data.dataloader.DataLoader object at 0x000001C2E7E9D708>), (-1, 16, <torch.utils.data.dataloader.DataLoader object at 0x000001C2E7E9D488>), (-1, 17, <torch.utils.data.dataloader.DataLoader object at 0x000001C2E7E9D988>), (-1, 18, <torch.utils.data.dataloader.DataLoader object at 0x000001C2E7E9DD48>), (-1, 19, <torch.utils.data.dataloader.DataLoader object at 0x000001C2E7E9DD08>)], [(-1, 0, <torch.utils.data.dataloader.DataLoader object at 0x000001C2E165C808>), (-1, 1, <torch.utils.data.dataloader.DataLoader object at 0x000001C2E165C588>), (-1, 2, <torch.utils.data.dataloader.DataLoader object at 0x000001C2E165C548>), (-1, 3, <torch.utils.data.dataloader.DataLoader object at 0x000001C2E165C748>), (-1, 4, <torch.utils.data.dataloader.DataLoader object at 0x000001C2E165C608>), (-1, 5, <torch.utils.data.dataloader.DataLoader object at 0x000001C2E164C488>), (-1, 6, <torch.utils.data.dataloader.DataLoader object at 0x000001C2E164CC88>), (-1, 7, <torch.utils.data.dataloader.DataLoader object at 0x000001C2E164CDC8>), (-1, 8, <torch.utils.data.dataloader.DataLoader object at 0x000001C2E164CF88>), (-1, 9, <torch.utils.data.dataloader.DataLoader object at 0x000001C2E164C748>), (-1, 10, <torch.utils.data.dataloader.DataLoader object at 0x000001C2E164CE88>), (-1, 11, <torch.utils.data.dataloader.DataLoader object at 0x000001C2E164C708>), (-1, 12, <torch.utils.data.dataloader.DataLoader object at 0x000001C2E7E9D2C8>), (-1, 13, <torch.utils.data.dataloader.DataLoader object at 0x000001C2E7E9DB88>), (-1, 14, <torch.utils.data.dataloader.DataLoader object at 0x000001C2E7E9D308>), (-1, 15, <torch.utils.data.dataloader.DataLoader object at 0x000001C2E7E9D708>), (-1, 16, <torch.utils.data.dataloader.DataLoader object at 0x000001C2E7E9D488>), (-1, 17, <torch.utils.data.dataloader.DataLoader object at 0x000001C2E7E9D988>), (-1, 18, <torch.utils.data.dataloader.DataLoader object at 0x000001C2E7E9DD48>), (-1, 19, <torch.utils.data.dataloader.DataLoader object at 0x000001C2E7E9DD08>)], [(-1, 0, <torch.utils.data.dataloader.DataLoader object at 0x000001C2E165C808>), (-1, 1, <torch.utils.data.dataloader.DataLoader object at 0x000001C2E165C588>), (-1, 2, <torch.utils.data.dataloader.DataLoader object at 0x000001C2E165C548>), (-1, 3, <torch.utils.data.dataloader.DataLoader object at 0x000001C2E165C748>), (-1, 4, <torch.utils.data.dataloader.DataLoader object at 0x000001C2E165C608>), (-1, 5, <torch.utils.data.dataloader.DataLoader object at 0x000001C2E164C488>), (-1, 6, <torch.utils.data.dataloader.DataLoader object at 0x000001C2E164CC88>), (-1, 7, <torch.utils.data.dataloader.DataLoader object at 0x000001C2E164CDC8>), (-1, 8, <torch.utils.data.dataloader.DataLoader object at 0x000001C2E164CF88>), (-1, 9, <torch.utils.data.dataloader.DataLoader object at 0x000001C2E164C748>), (-1, 10, <torch.utils.data.dataloader.DataLoader object at 0x000001C2E164CE88>), (-1, 11, <torch.utils.data.dataloader.DataLoader object at 0x000001C2E164C708>), (-1, 12, <torch.utils.data.dataloader.DataLoader object at 0x000001C2E7E9D2C8>), (-1, 13, <torch.utils.data.dataloader.DataLoader object at 0x000001C2E7E9DB88>), (-1, 14, <torch.utils.data.dataloader.DataLoader object at 0x000001C2E7E9D308>), (-1, 15, <torch.utils.data.dataloader.DataLoader object at 0x000001C2E7E9D708>), (-1, 16, <torch.utils.data.dataloader.DataLoader object at 0x000001C2E7E9D488>), (-1, 17, <torch.utils.data.dataloader.DataLoader object at 0x000001C2E7E9D988>), (-1, 18, <torch.utils.data.dataloader.DataLoader object at 0x000001C2E7E9DD48>), (-1, 19, <torch.utils.data.dataloader.DataLoader object at 0x000001C2E7E9DD08>)], [(-1, 0, <torch.utils.data.dataloader.DataLoader object at 0x000001C2E165C808>), (-1, 1, <torch.utils.data.dataloader.DataLoader object at 0x000001C2E165C588>), (-1, 2, <torch.utils.data.dataloader.DataLoader object at 0x000001C2E165C548>), (-1, 3, <torch.utils.data.dataloader.DataLoader object at 0x000001C2E165C748>), (-1, 4, <torch.utils.data.dataloader.DataLoader object at 0x000001C2E165C608>), (-1, 5, <torch.utils.data.dataloader.DataLoader object at 0x000001C2E164C488>), (-1, 6, <torch.utils.data.dataloader.DataLoader object at 0x000001C2E164CC88>), (-1, 7, <torch.utils.data.dataloader.DataLoader object at 0x000001C2E164CDC8>), (-1, 8, <torch.utils.data.dataloader.DataLoader object at 0x000001C2E164CF88>), (-1, 9, <torch.utils.data.dataloader.DataLoader object at 0x000001C2E164C748>), (-1, 10, <torch.utils.data.dataloader.DataLoader object at 0x000001C2E164CE88>), (-1, 11, <torch.utils.data.dataloader.DataLoader object at 0x000001C2E164C708>), (-1, 12, <torch.utils.data.dataloader.DataLoader object at 0x000001C2E7E9D2C8>), (-1, 13, <torch.utils.data.dataloader.DataLoader object at 0x000001C2E7E9DB88>), (-1, 14, <torch.utils.data.dataloader.DataLoader object at 0x000001C2E7E9D308>), (-1, 15, <torch.utils.data.dataloader.DataLoader object at 0x000001C2E7E9D708>), (-1, 16, <torch.utils.data.dataloader.DataLoader object at 0x000001C2E7E9D488>), (-1, 17, <torch.utils.data.dataloader.DataLoader object at 0x000001C2E7E9D988>), (-1, 18, <torch.utils.data.dataloader.DataLoader object at 0x000001C2E7E9DD48>), (-1, 19, <torch.utils.data.dataloader.DataLoader object at 0x000001C2E7E9DD08>)], [(-1, 0, <torch.utils.data.dataloader.DataLoader object at 0x000001C2E165C808>), (-1, 1, <torch.utils.data.dataloader.DataLoader object at 0x000001C2E165C588>), (-1, 2, <torch.utils.data.dataloader.DataLoader object at 0x000001C2E165C548>), (-1, 3, <torch.utils.data.dataloader.DataLoader object at 0x000001C2E165C748>), (-1, 4, <torch.utils.data.dataloader.DataLoader object at 0x000001C2E165C608>), (-1, 5, <torch.utils.data.dataloader.DataLoader object at 0x000001C2E164C488>), (-1, 6, <torch.utils.data.dataloader.DataLoader object at 0x000001C2E164CC88>), (-1, 7, <torch.utils.data.dataloader.DataLoader object at 0x000001C2E164CDC8>), (-1, 8, <torch.utils.data.dataloader.DataLoader object at 0x000001C2E164CF88>), (-1, 9, <torch.utils.data.dataloader.DataLoader object at 0x000001C2E164C748>), (-1, 10, <torch.utils.data.dataloader.DataLoader object at 0x000001C2E164CE88>), (-1, 11, <torch.utils.data.dataloader.DataLoader object at 0x000001C2E164C708>), (-1, 12, <torch.utils.data.dataloader.DataLoader object at 0x000001C2E7E9D2C8>), (-1, 13, <torch.utils.data.dataloader.DataLoader object at 0x000001C2E7E9DB88>), (-1, 14, <torch.utils.data.dataloader.DataLoader object at 0x000001C2E7E9D308>), (-1, 15, <torch.utils.data.dataloader.DataLoader object at 0x000001C2E7E9D708>), (-1, 16, <torch.utils.data.dataloader.DataLoader object at 0x000001C2E7E9D488>), (-1, 17, <torch.utils.data.dataloader.DataLoader object at 0x000001C2E7E9D988>), (-1, 18, <torch.utils.data.dataloader.DataLoader object at 0x000001C2E7E9DD48>), (-1, 19, <torch.utils.data.dataloader.DataLoader object at 0x000001C2E7E9DD08>)], [(-1, 0, <torch.utils.data.dataloader.DataLoader object at 0x000001C2E165C808>), (-1, 1, <torch.utils.data.dataloader.DataLoader object at 0x000001C2E165C588>), (-1, 2, <torch.utils.data.dataloader.DataLoader object at 0x000001C2E165C548>), (-1, 3, <torch.utils.data.dataloader.DataLoader object at 0x000001C2E165C748>), (-1, 4, <torch.utils.data.dataloader.DataLoader object at 0x000001C2E165C608>), (-1, 5, <torch.utils.data.dataloader.DataLoader object at 0x000001C2E164C488>), (-1, 6, <torch.utils.data.dataloader.DataLoader object at 0x000001C2E164CC88>), (-1, 7, <torch.utils.data.dataloader.DataLoader object at 0x000001C2E164CDC8>), (-1, 8, <torch.utils.data.dataloader.DataLoader object at 0x000001C2E164CF88>), (-1, 9, <torch.utils.data.dataloader.DataLoader object at 0x000001C2E164C748>), (-1, 10, <torch.utils.data.dataloader.DataLoader object at 0x000001C2E164CE88>), (-1, 11, <torch.utils.data.dataloader.DataLoader object at 0x000001C2E164C708>), (-1, 12, <torch.utils.data.dataloader.DataLoader object at 0x000001C2E7E9D2C8>), (-1, 13, <torch.utils.data.dataloader.DataLoader object at 0x000001C2E7E9DB88>), (-1, 14, <torch.utils.data.dataloader.DataLoader object at 0x000001C2E7E9D308>), (-1, 15, <torch.utils.data.dataloader.DataLoader object at 0x000001C2E7E9D708>), (-1, 16, <torch.utils.data.dataloader.DataLoader object at 0x000001C2E7E9D488>), (-1, 17, <torch.utils.data.dataloader.DataLoader object at 0x000001C2E7E9D988>), (-1, 18, <torch.utils.data.dataloader.DataLoader object at 0x000001C2E7E9DD48>), (-1, 19, <torch.utils.data.dataloader.DataLoader object at 0x000001C2E7E9DD08>)], [(-1, 0, <torch.utils.data.dataloader.DataLoader object at 0x000001C2E165C808>), (-1, 1, <torch.utils.data.dataloader.DataLoader object at 0x000001C2E165C588>), (-1, 2, <torch.utils.data.dataloader.DataLoader object at 0x000001C2E165C548>), (-1, 3, <torch.utils.data.dataloader.DataLoader object at 0x000001C2E165C748>), (-1, 4, <torch.utils.data.dataloader.DataLoader object at 0x000001C2E165C608>), (-1, 5, <torch.utils.data.dataloader.DataLoader object at 0x000001C2E164C488>), (-1, 6, <torch.utils.data.dataloader.DataLoader object at 0x000001C2E164CC88>), (-1, 7, <torch.utils.data.dataloader.DataLoader object at 0x000001C2E164CDC8>), (-1, 8, <torch.utils.data.dataloader.DataLoader object at 0x000001C2E164CF88>), (-1, 9, <torch.utils.data.dataloader.DataLoader object at 0x000001C2E164C748>), (-1, 10, <torch.utils.data.dataloader.DataLoader object at 0x000001C2E164CE88>), (-1, 11, <torch.utils.data.dataloader.DataLoader object at 0x000001C2E164C708>), (-1, 12, <torch.utils.data.dataloader.DataLoader object at 0x000001C2E7E9D2C8>), (-1, 13, <torch.utils.data.dataloader.DataLoader object at 0x000001C2E7E9DB88>), (-1, 14, <torch.utils.data.dataloader.DataLoader object at 0x000001C2E7E9D308>), (-1, 15, <torch.utils.data.dataloader.DataLoader object at 0x000001C2E7E9D708>), (-1, 16, <torch.utils.data.dataloader.DataLoader object at 0x000001C2E7E9D488>), (-1, 17, <torch.utils.data.dataloader.DataLoader object at 0x000001C2E7E9D988>), (-1, 18, <torch.utils.data.dataloader.DataLoader object at 0x000001C2E7E9DD48>), (-1, 19, <torch.utils.data.dataloader.DataLoader object at 0x000001C2E7E9DD08>)], [(-1, 0, <torch.utils.data.dataloader.DataLoader object at 0x000001C2E165C808>), (-1, 1, <torch.utils.data.dataloader.DataLoader object at 0x000001C2E165C588>), (-1, 2, <torch.utils.data.dataloader.DataLoader object at 0x000001C2E165C548>), (-1, 3, <torch.utils.data.dataloader.DataLoader object at 0x000001C2E165C748>), (-1, 4, <torch.utils.data.dataloader.DataLoader object at 0x000001C2E165C608>), (-1, 5, <torch.utils.data.dataloader.DataLoader object at 0x000001C2E164C488>), (-1, 6, <torch.utils.data.dataloader.DataLoader object at 0x000001C2E164CC88>), (-1, 7, <torch.utils.data.dataloader.DataLoader object at 0x000001C2E164CDC8>), (-1, 8, <torch.utils.data.dataloader.DataLoader object at 0x000001C2E164CF88>), (-1, 9, <torch.utils.data.dataloader.DataLoader object at 0x000001C2E164C748>), (-1, 10, <torch.utils.data.dataloader.DataLoader object at 0x000001C2E164CE88>), (-1, 11, <torch.utils.data.dataloader.DataLoader object at 0x000001C2E164C708>), (-1, 12, <torch.utils.data.dataloader.DataLoader object at 0x000001C2E7E9D2C8>), (-1, 13, <torch.utils.data.dataloader.DataLoader object at 0x000001C2E7E9DB88>), (-1, 14, <torch.utils.data.dataloader.DataLoader object at 0x000001C2E7E9D308>), (-1, 15, <torch.utils.data.dataloader.DataLoader object at 0x000001C2E7E9D708>), (-1, 16, <torch.utils.data.dataloader.DataLoader object at 0x000001C2E7E9D488>), (-1, 17, <torch.utils.data.dataloader.DataLoader object at 0x000001C2E7E9D988>), (-1, 18, <torch.utils.data.dataloader.DataLoader object at 0x000001C2E7E9DD48>), (-1, 19, <torch.utils.data.dataloader.DataLoader object at 0x000001C2E7E9DD08>)], [(-1, 0, <torch.utils.data.dataloader.DataLoader object at 0x000001C2E165C808>), (-1, 1, <torch.utils.data.dataloader.DataLoader object at 0x000001C2E165C588>), (-1, 2, <torch.utils.data.dataloader.DataLoader object at 0x000001C2E165C548>), (-1, 3, <torch.utils.data.dataloader.DataLoader object at 0x000001C2E165C748>), (-1, 4, <torch.utils.data.dataloader.DataLoader object at 0x000001C2E165C608>), (-1, 5, <torch.utils.data.dataloader.DataLoader object at 0x000001C2E164C488>), (-1, 6, <torch.utils.data.dataloader.DataLoader object at 0x000001C2E164CC88>), (-1, 7, <torch.utils.data.dataloader.DataLoader object at 0x000001C2E164CDC8>), (-1, 8, <torch.utils.data.dataloader.DataLoader object at 0x000001C2E164CF88>), (-1, 9, <torch.utils.data.dataloader.DataLoader object at 0x000001C2E164C748>), (-1, 10, <torch.utils.data.dataloader.DataLoader object at 0x000001C2E164CE88>), (-1, 11, <torch.utils.data.dataloader.DataLoader object at 0x000001C2E164C708>), (-1, 12, <torch.utils.data.dataloader.DataLoader object at 0x000001C2E7E9D2C8>), (-1, 13, <torch.utils.data.dataloader.DataLoader object at 0x000001C2E7E9DB88>), (-1, 14, <torch.utils.data.dataloader.DataLoader object at 0x000001C2E7E9D308>), (-1, 15, <torch.utils.data.dataloader.DataLoader object at 0x000001C2E7E9D708>), (-1, 16, <torch.utils.data.dataloader.DataLoader object at 0x000001C2E7E9D488>), (-1, 17, <torch.utils.data.dataloader.DataLoader object at 0x000001C2E7E9D988>), (-1, 18, <torch.utils.data.dataloader.DataLoader object at 0x000001C2E7E9DD48>), (-1, 19, <torch.utils.data.dataloader.DataLoader object at 0x000001C2E7E9DD08>)], [(-1, 0, <torch.utils.data.dataloader.DataLoader object at 0x000001C2E165C808>), (-1, 1, <torch.utils.data.dataloader.DataLoader object at 0x000001C2E165C588>), (-1, 2, <torch.utils.data.dataloader.DataLoader object at 0x000001C2E165C548>), (-1, 3, <torch.utils.data.dataloader.DataLoader object at 0x000001C2E165C748>), (-1, 4, <torch.utils.data.dataloader.DataLoader object at 0x000001C2E165C608>), (-1, 5, <torch.utils.data.dataloader.DataLoader object at 0x000001C2E164C488>), (-1, 6, <torch.utils.data.dataloader.DataLoader object at 0x000001C2E164CC88>), (-1, 7, <torch.utils.data.dataloader.DataLoader object at 0x000001C2E164CDC8>), (-1, 8, <torch.utils.data.dataloader.DataLoader object at 0x000001C2E164CF88>), (-1, 9, <torch.utils.data.dataloader.DataLoader object at 0x000001C2E164C748>), (-1, 10, <torch.utils.data.dataloader.DataLoader object at 0x000001C2E164CE88>), (-1, 11, <torch.utils.data.dataloader.DataLoader object at 0x000001C2E164C708>), (-1, 12, <torch.utils.data.dataloader.DataLoader object at 0x000001C2E7E9D2C8>), (-1, 13, <torch.utils.data.dataloader.DataLoader object at 0x000001C2E7E9DB88>), (-1, 14, <torch.utils.data.dataloader.DataLoader object at 0x000001C2E7E9D308>), (-1, 15, <torch.utils.data.dataloader.DataLoader object at 0x000001C2E7E9D708>), (-1, 16, <torch.utils.data.dataloader.DataLoader object at 0x000001C2E7E9D488>), (-1, 17, <torch.utils.data.dataloader.DataLoader object at 0x000001C2E7E9D988>), (-1, 18, <torch.utils.data.dataloader.DataLoader object at 0x000001C2E7E9DD48>), (-1, 19, <torch.utils.data.dataloader.DataLoader object at 0x000001C2E7E9DD08>)], [(-1, 0, <torch.utils.data.dataloader.DataLoader object at 0x000001C2E165C808>), (-1, 1, <torch.utils.data.dataloader.DataLoader object at 0x000001C2E165C588>), (-1, 2, <torch.utils.data.dataloader.DataLoader object at 0x000001C2E165C548>), (-1, 3, <torch.utils.data.dataloader.DataLoader object at 0x000001C2E165C748>), (-1, 4, <torch.utils.data.dataloader.DataLoader object at 0x000001C2E165C608>), (-1, 5, <torch.utils.data.dataloader.DataLoader object at 0x000001C2E164C488>), (-1, 6, <torch.utils.data.dataloader.DataLoader object at 0x000001C2E164CC88>), (-1, 7, <torch.utils.data.dataloader.DataLoader object at 0x000001C2E164CDC8>), (-1, 8, <torch.utils.data.dataloader.DataLoader object at 0x000001C2E164CF88>), (-1, 9, <torch.utils.data.dataloader.DataLoader object at 0x000001C2E164C748>), (-1, 10, <torch.utils.data.dataloader.DataLoader object at 0x000001C2E164CE88>), (-1, 11, <torch.utils.data.dataloader.DataLoader object at 0x000001C2E164C708>), (-1, 12, <torch.utils.data.dataloader.DataLoader object at 0x000001C2E7E9D2C8>), (-1, 13, <torch.utils.data.dataloader.DataLoader object at 0x000001C2E7E9DB88>), (-1, 14, <torch.utils.data.dataloader.DataLoader object at 0x000001C2E7E9D308>), (-1, 15, <torch.utils.data.dataloader.DataLoader object at 0x000001C2E7E9D708>), (-1, 16, <torch.utils.data.dataloader.DataLoader object at 0x000001C2E7E9D488>), (-1, 17, <torch.utils.data.dataloader.DataLoader object at 0x000001C2E7E9D988>), (-1, 18, <torch.utils.data.dataloader.DataLoader object at 0x000001C2E7E9DD48>), (-1, 19, <torch.utils.data.dataloader.DataLoader object at 0x000001C2E7E9DD08>)], [(-1, 0, <torch.utils.data.dataloader.DataLoader object at 0x000001C2E165C808>), (-1, 1, <torch.utils.data.dataloader.DataLoader object at 0x000001C2E165C588>), (-1, 2, <torch.utils.data.dataloader.DataLoader object at 0x000001C2E165C548>), (-1, 3, <torch.utils.data.dataloader.DataLoader object at 0x000001C2E165C748>), (-1, 4, <torch.utils.data.dataloader.DataLoader object at 0x000001C2E165C608>), (-1, 5, <torch.utils.data.dataloader.DataLoader object at 0x000001C2E164C488>), (-1, 6, <torch.utils.data.dataloader.DataLoader object at 0x000001C2E164CC88>), (-1, 7, <torch.utils.data.dataloader.DataLoader object at 0x000001C2E164CDC8>), (-1, 8, <torch.utils.data.dataloader.DataLoader object at 0x000001C2E164CF88>), (-1, 9, <torch.utils.data.dataloader.DataLoader object at 0x000001C2E164C748>), (-1, 10, <torch.utils.data.dataloader.DataLoader object at 0x000001C2E164CE88>), (-1, 11, <torch.utils.data.dataloader.DataLoader object at 0x000001C2E164C708>), (-1, 12, <torch.utils.data.dataloader.DataLoader object at 0x000001C2E7E9D2C8>), (-1, 13, <torch.utils.data.dataloader.DataLoader object at 0x000001C2E7E9DB88>), (-1, 14, <torch.utils.data.dataloader.DataLoader object at 0x000001C2E7E9D308>), (-1, 15, <torch.utils.data.dataloader.DataLoader object at 0x000001C2E7E9D708>), (-1, 16, <torch.utils.data.dataloader.DataLoader object at 0x000001C2E7E9D488>), (-1, 17, <torch.utils.data.dataloader.DataLoader object at 0x000001C2E7E9D988>), (-1, 18, <torch.utils.data.dataloader.DataLoader object at 0x000001C2E7E9DD48>), (-1, 19, <torch.utils.data.dataloader.DataLoader object at 0x000001C2E7E9DD08>)], [(-1, 0, <torch.utils.data.dataloader.DataLoader object at 0x000001C2E165C808>), (-1, 1, <torch.utils.data.dataloader.DataLoader object at 0x000001C2E165C588>), (-1, 2, <torch.utils.data.dataloader.DataLoader object at 0x000001C2E165C548>), (-1, 3, <torch.utils.data.dataloader.DataLoader object at 0x000001C2E165C748>), (-1, 4, <torch.utils.data.dataloader.DataLoader object at 0x000001C2E165C608>), (-1, 5, <torch.utils.data.dataloader.DataLoader object at 0x000001C2E164C488>), (-1, 6, <torch.utils.data.dataloader.DataLoader object at 0x000001C2E164CC88>), (-1, 7, <torch.utils.data.dataloader.DataLoader object at 0x000001C2E164CDC8>), (-1, 8, <torch.utils.data.dataloader.DataLoader object at 0x000001C2E164CF88>), (-1, 9, <torch.utils.data.dataloader.DataLoader object at 0x000001C2E164C748>), (-1, 10, <torch.utils.data.dataloader.DataLoader object at 0x000001C2E164CE88>), (-1, 11, <torch.utils.data.dataloader.DataLoader object at 0x000001C2E164C708>), (-1, 12, <torch.utils.data.dataloader.DataLoader object at 0x000001C2E7E9D2C8>), (-1, 13, <torch.utils.data.dataloader.DataLoader object at 0x000001C2E7E9DB88>), (-1, 14, <torch.utils.data.dataloader.DataLoader object at 0x000001C2E7E9D308>), (-1, 15, <torch.utils.data.dataloader.DataLoader object at 0x000001C2E7E9D708>), (-1, 16, <torch.utils.data.dataloader.DataLoader object at 0x000001C2E7E9D488>), (-1, 17, <torch.utils.data.dataloader.DataLoader object at 0x000001C2E7E9D988>), (-1, 18, <torch.utils.data.dataloader.DataLoader object at 0x000001C2E7E9DD48>), (-1, 19, <torch.utils.data.dataloader.DataLoader object at 0x000001C2E7E9DD08>)], [(-1, 0, <torch.utils.data.dataloader.DataLoader object at 0x000001C2E165C808>), (-1, 1, <torch.utils.data.dataloader.DataLoader object at 0x000001C2E165C588>), (-1, 2, <torch.utils.data.dataloader.DataLoader object at 0x000001C2E165C548>), (-1, 3, <torch.utils.data.dataloader.DataLoader object at 0x000001C2E165C748>), (-1, 4, <torch.utils.data.dataloader.DataLoader object at 0x000001C2E165C608>), (-1, 5, <torch.utils.data.dataloader.DataLoader object at 0x000001C2E164C488>), (-1, 6, <torch.utils.data.dataloader.DataLoader object at 0x000001C2E164CC88>), (-1, 7, <torch.utils.data.dataloader.DataLoader object at 0x000001C2E164CDC8>), (-1, 8, <torch.utils.data.dataloader.DataLoader object at 0x000001C2E164CF88>), (-1, 9, <torch.utils.data.dataloader.DataLoader object at 0x000001C2E164C748>), (-1, 10, <torch.utils.data.dataloader.DataLoader object at 0x000001C2E164CE88>), (-1, 11, <torch.utils.data.dataloader.DataLoader object at 0x000001C2E164C708>), (-1, 12, <torch.utils.data.dataloader.DataLoader object at 0x000001C2E7E9D2C8>), (-1, 13, <torch.utils.data.dataloader.DataLoader object at 0x000001C2E7E9DB88>), (-1, 14, <torch.utils.data.dataloader.DataLoader object at 0x000001C2E7E9D308>), (-1, 15, <torch.utils.data.dataloader.DataLoader object at 0x000001C2E7E9D708>), (-1, 16, <torch.utils.data.dataloader.DataLoader object at 0x000001C2E7E9D488>), (-1, 17, <torch.utils.data.dataloader.DataLoader object at 0x000001C2E7E9D988>), (-1, 18, <torch.utils.data.dataloader.DataLoader object at 0x000001C2E7E9DD48>), (-1, 19, <torch.utils.data.dataloader.DataLoader object at 0x000001C2E7E9DD08>)], [(-1, 0, <torch.utils.data.dataloader.DataLoader object at 0x000001C2E165C808>), (-1, 1, <torch.utils.data.dataloader.DataLoader object at 0x000001C2E165C588>), (-1, 2, <torch.utils.data.dataloader.DataLoader object at 0x000001C2E165C548>), (-1, 3, <torch.utils.data.dataloader.DataLoader object at 0x000001C2E165C748>), (-1, 4, <torch.utils.data.dataloader.DataLoader object at 0x000001C2E165C608>), (-1, 5, <torch.utils.data.dataloader.DataLoader object at 0x000001C2E164C488>), (-1, 6, <torch.utils.data.dataloader.DataLoader object at 0x000001C2E164CC88>), (-1, 7, <torch.utils.data.dataloader.DataLoader object at 0x000001C2E164CDC8>), (-1, 8, <torch.utils.data.dataloader.DataLoader object at 0x000001C2E164CF88>), (-1, 9, <torch.utils.data.dataloader.DataLoader object at 0x000001C2E164C748>), (-1, 10, <torch.utils.data.dataloader.DataLoader object at 0x000001C2E164CE88>), (-1, 11, <torch.utils.data.dataloader.DataLoader object at 0x000001C2E164C708>), (-1, 12, <torch.utils.data.dataloader.DataLoader object at 0x000001C2E7E9D2C8>), (-1, 13, <torch.utils.data.dataloader.DataLoader object at 0x000001C2E7E9DB88>), (-1, 14, <torch.utils.data.dataloader.DataLoader object at 0x000001C2E7E9D308>), (-1, 15, <torch.utils.data.dataloader.DataLoader object at 0x000001C2E7E9D708>), (-1, 16, <torch.utils.data.dataloader.DataLoader object at 0x000001C2E7E9D488>), (-1, 17, <torch.utils.data.dataloader.DataLoader object at 0x000001C2E7E9D988>), (-1, 18, <torch.utils.data.dataloader.DataLoader object at 0x000001C2E7E9DD48>), (-1, 19, <torch.utils.data.dataloader.DataLoader object at 0x000001C2E7E9DD08>)], [(-1, 0, <torch.utils.data.dataloader.DataLoader object at 0x000001C2E165C808>), (-1, 1, <torch.utils.data.dataloader.DataLoader object at 0x000001C2E165C588>), (-1, 2, <torch.utils.data.dataloader.DataLoader object at 0x000001C2E165C548>), (-1, 3, <torch.utils.data.dataloader.DataLoader object at 0x000001C2E165C748>), (-1, 4, <torch.utils.data.dataloader.DataLoader object at 0x000001C2E165C608>), (-1, 5, <torch.utils.data.dataloader.DataLoader object at 0x000001C2E164C488>), (-1, 6, <torch.utils.data.dataloader.DataLoader object at 0x000001C2E164CC88>), (-1, 7, <torch.utils.data.dataloader.DataLoader object at 0x000001C2E164CDC8>), (-1, 8, <torch.utils.data.dataloader.DataLoader object at 0x000001C2E164CF88>), (-1, 9, <torch.utils.data.dataloader.DataLoader object at 0x000001C2E164C748>), (-1, 10, <torch.utils.data.dataloader.DataLoader object at 0x000001C2E164CE88>), (-1, 11, <torch.utils.data.dataloader.DataLoader object at 0x000001C2E164C708>), (-1, 12, <torch.utils.data.dataloader.DataLoader object at 0x000001C2E7E9D2C8>), (-1, 13, <torch.utils.data.dataloader.DataLoader object at 0x000001C2E7E9DB88>), (-1, 14, <torch.utils.data.dataloader.DataLoader object at 0x000001C2E7E9D308>), (-1, 15, <torch.utils.data.dataloader.DataLoader object at 0x000001C2E7E9D708>), (-1, 16, <torch.utils.data.dataloader.DataLoader object at 0x000001C2E7E9D488>), (-1, 17, <torch.utils.data.dataloader.DataLoader object at 0x000001C2E7E9D988>), (-1, 18, <torch.utils.data.dataloader.DataLoader object at 0x000001C2E7E9DD48>), (-1, 19, <torch.utils.data.dataloader.DataLoader object at 0x000001C2E7E9DD08>)], [(-1, 0, <torch.utils.data.dataloader.DataLoader object at 0x000001C2E165C808>), (-1, 1, <torch.utils.data.dataloader.DataLoader object at 0x000001C2E165C588>), (-1, 2, <torch.utils.data.dataloader.DataLoader object at 0x000001C2E165C548>), (-1, 3, <torch.utils.data.dataloader.DataLoader object at 0x000001C2E165C748>), (-1, 4, <torch.utils.data.dataloader.DataLoader object at 0x000001C2E165C608>), (-1, 5, <torch.utils.data.dataloader.DataLoader object at 0x000001C2E164C488>), (-1, 6, <torch.utils.data.dataloader.DataLoader object at 0x000001C2E164CC88>), (-1, 7, <torch.utils.data.dataloader.DataLoader object at 0x000001C2E164CDC8>), (-1, 8, <torch.utils.data.dataloader.DataLoader object at 0x000001C2E164CF88>), (-1, 9, <torch.utils.data.dataloader.DataLoader object at 0x000001C2E164C748>), (-1, 10, <torch.utils.data.dataloader.DataLoader object at 0x000001C2E164CE88>), (-1, 11, <torch.utils.data.dataloader.DataLoader object at 0x000001C2E164C708>), (-1, 12, <torch.utils.data.dataloader.DataLoader object at 0x000001C2E7E9D2C8>), (-1, 13, <torch.utils.data.dataloader.DataLoader object at 0x000001C2E7E9DB88>), (-1, 14, <torch.utils.data.dataloader.DataLoader object at 0x000001C2E7E9D308>), (-1, 15, <torch.utils.data.dataloader.DataLoader object at 0x000001C2E7E9D708>), (-1, 16, <torch.utils.data.dataloader.DataLoader object at 0x000001C2E7E9D488>), (-1, 17, <torch.utils.data.dataloader.DataLoader object at 0x000001C2E7E9D988>), (-1, 18, <torch.utils.data.dataloader.DataLoader object at 0x000001C2E7E9DD48>), (-1, 19, <torch.utils.data.dataloader.DataLoader object at 0x000001C2E7E9DD08>)], [(-1, 0, <torch.utils.data.dataloader.DataLoader object at 0x000001C2E165C808>), (-1, 1, <torch.utils.data.dataloader.DataLoader object at 0x000001C2E165C588>), (-1, 2, <torch.utils.data.dataloader.DataLoader object at 0x000001C2E165C548>), (-1, 3, <torch.utils.data.dataloader.DataLoader object at 0x000001C2E165C748>), (-1, 4, <torch.utils.data.dataloader.DataLoader object at 0x000001C2E165C608>), (-1, 5, <torch.utils.data.dataloader.DataLoader object at 0x000001C2E164C488>), (-1, 6, <torch.utils.data.dataloader.DataLoader object at 0x000001C2E164CC88>), (-1, 7, <torch.utils.data.dataloader.DataLoader object at 0x000001C2E164CDC8>), (-1, 8, <torch.utils.data.dataloader.DataLoader object at 0x000001C2E164CF88>), (-1, 9, <torch.utils.data.dataloader.DataLoader object at 0x000001C2E164C748>), (-1, 10, <torch.utils.data.dataloader.DataLoader object at 0x000001C2E164CE88>), (-1, 11, <torch.utils.data.dataloader.DataLoader object at 0x000001C2E164C708>), (-1, 12, <torch.utils.data.dataloader.DataLoader object at 0x000001C2E7E9D2C8>), (-1, 13, <torch.utils.data.dataloader.DataLoader object at 0x000001C2E7E9DB88>), (-1, 14, <torch.utils.data.dataloader.DataLoader object at 0x000001C2E7E9D308>), (-1, 15, <torch.utils.data.dataloader.DataLoader object at 0x000001C2E7E9D708>), (-1, 16, <torch.utils.data.dataloader.DataLoader object at 0x000001C2E7E9D488>), (-1, 17, <torch.utils.data.dataloader.DataLoader object at 0x000001C2E7E9D988>), (-1, 18, <torch.utils.data.dataloader.DataLoader object at 0x000001C2E7E9DD48>), (-1, 19, <torch.utils.data.dataloader.DataLoader object at 0x000001C2E7E9DD08>)], [(-1, 0, <torch.utils.data.dataloader.DataLoader object at 0x000001C2E165C808>), (-1, 1, <torch.utils.data.dataloader.DataLoader object at 0x000001C2E165C588>), (-1, 2, <torch.utils.data.dataloader.DataLoader object at 0x000001C2E165C548>), (-1, 3, <torch.utils.data.dataloader.DataLoader object at 0x000001C2E165C748>), (-1, 4, <torch.utils.data.dataloader.DataLoader object at 0x000001C2E165C608>), (-1, 5, <torch.utils.data.dataloader.DataLoader object at 0x000001C2E164C488>), (-1, 6, <torch.utils.data.dataloader.DataLoader object at 0x000001C2E164CC88>), (-1, 7, <torch.utils.data.dataloader.DataLoader object at 0x000001C2E164CDC8>), (-1, 8, <torch.utils.data.dataloader.DataLoader object at 0x000001C2E164CF88>), (-1, 9, <torch.utils.data.dataloader.DataLoader object at 0x000001C2E164C748>), (-1, 10, <torch.utils.data.dataloader.DataLoader object at 0x000001C2E164CE88>), (-1, 11, <torch.utils.data.dataloader.DataLoader object at 0x000001C2E164C708>), (-1, 12, <torch.utils.data.dataloader.DataLoader object at 0x000001C2E7E9D2C8>), (-1, 13, <torch.utils.data.dataloader.DataLoader object at 0x000001C2E7E9DB88>), (-1, 14, <torch.utils.data.dataloader.DataLoader object at 0x000001C2E7E9D308>), (-1, 15, <torch.utils.data.dataloader.DataLoader object at 0x000001C2E7E9D708>), (-1, 16, <torch.utils.data.dataloader.DataLoader object at 0x000001C2E7E9D488>), (-1, 17, <torch.utils.data.dataloader.DataLoader object at 0x000001C2E7E9D988>), (-1, 18, <torch.utils.data.dataloader.DataLoader object at 0x000001C2E7E9DD48>), (-1, 19, <torch.utils.data.dataloader.DataLoader object at 0x000001C2E7E9DD08>)], [(-1, 0, <torch.utils.data.dataloader.DataLoader object at 0x000001C2E165C808>), (-1, 1, <torch.utils.data.dataloader.DataLoader object at 0x000001C2E165C588>), (-1, 2, <torch.utils.data.dataloader.DataLoader object at 0x000001C2E165C548>), (-1, 3, <torch.utils.data.dataloader.DataLoader object at 0x000001C2E165C748>), (-1, 4, <torch.utils.data.dataloader.DataLoader object at 0x000001C2E165C608>), (-1, 5, <torch.utils.data.dataloader.DataLoader object at 0x000001C2E164C488>), (-1, 6, <torch.utils.data.dataloader.DataLoader object at 0x000001C2E164CC88>), (-1, 7, <torch.utils.data.dataloader.DataLoader object at 0x000001C2E164CDC8>), (-1, 8, <torch.utils.data.dataloader.DataLoader object at 0x000001C2E164CF88>), (-1, 9, <torch.utils.data.dataloader.DataLoader object at 0x000001C2E164C748>), (-1, 10, <torch.utils.data.dataloader.DataLoader object at 0x000001C2E164CE88>), (-1, 11, <torch.utils.data.dataloader.DataLoader object at 0x000001C2E164C708>), (-1, 12, <torch.utils.data.dataloader.DataLoader object at 0x000001C2E7E9D2C8>), (-1, 13, <torch.utils.data.dataloader.DataLoader object at 0x000001C2E7E9DB88>), (-1, 14, <torch.utils.data.dataloader.DataLoader object at 0x000001C2E7E9D308>), (-1, 15, <torch.utils.data.dataloader.DataLoader object at 0x000001C2E7E9D708>), (-1, 16, <torch.utils.data.dataloader.DataLoader object at 0x000001C2E7E9D488>), (-1, 17, <torch.utils.data.dataloader.DataLoader object at 0x000001C2E7E9D988>), (-1, 18, <torch.utils.data.dataloader.DataLoader object at 0x000001C2E7E9DD48>), (-1, 19, <torch.utils.data.dataloader.DataLoader object at 0x000001C2E7E9DD08>)], [(-1, 0, <torch.utils.data.dataloader.DataLoader object at 0x000001C2E165C808>), (-1, 1, <torch.utils.data.dataloader.DataLoader object at 0x000001C2E165C588>), (-1, 2, <torch.utils.data.dataloader.DataLoader object at 0x000001C2E165C548>), (-1, 3, <torch.utils.data.dataloader.DataLoader object at 0x000001C2E165C748>), (-1, 4, <torch.utils.data.dataloader.DataLoader object at 0x000001C2E165C608>), (-1, 5, <torch.utils.data.dataloader.DataLoader object at 0x000001C2E164C488>), (-1, 6, <torch.utils.data.dataloader.DataLoader object at 0x000001C2E164CC88>), (-1, 7, <torch.utils.data.dataloader.DataLoader object at 0x000001C2E164CDC8>), (-1, 8, <torch.utils.data.dataloader.DataLoader object at 0x000001C2E164CF88>), (-1, 9, <torch.utils.data.dataloader.DataLoader object at 0x000001C2E164C748>), (-1, 10, <torch.utils.data.dataloader.DataLoader object at 0x000001C2E164CE88>), (-1, 11, <torch.utils.data.dataloader.DataLoader object at 0x000001C2E164C708>), (-1, 12, <torch.utils.data.dataloader.DataLoader object at 0x000001C2E7E9D2C8>), (-1, 13, <torch.utils.data.dataloader.DataLoader object at 0x000001C2E7E9DB88>), (-1, 14, <torch.utils.data.dataloader.DataLoader object at 0x000001C2E7E9D308>), (-1, 15, <torch.utils.data.dataloader.DataLoader object at 0x000001C2E7E9D708>), (-1, 16, <torch.utils.data.dataloader.DataLoader object at 0x000001C2E7E9D488>), (-1, 17, <torch.utils.data.dataloader.DataLoader object at 0x000001C2E7E9D988>), (-1, 18, <torch.utils.data.dataloader.DataLoader object at 0x000001C2E7E9DD48>), (-1, 19, <torch.utils.data.dataloader.DataLoader object at 0x000001C2E7E9DD08>)], [(-1, 0, <torch.utils.data.dataloader.DataLoader object at 0x000001C2E165C808>), (-1, 1, <torch.utils.data.dataloader.DataLoader object at 0x000001C2E165C588>), (-1, 2, <torch.utils.data.dataloader.DataLoader object at 0x000001C2E165C548>), (-1, 3, <torch.utils.data.dataloader.DataLoader object at 0x000001C2E165C748>), (-1, 4, <torch.utils.data.dataloader.DataLoader object at 0x000001C2E165C608>), (-1, 5, <torch.utils.data.dataloader.DataLoader object at 0x000001C2E164C488>), (-1, 6, <torch.utils.data.dataloader.DataLoader object at 0x000001C2E164CC88>), (-1, 7, <torch.utils.data.dataloader.DataLoader object at 0x000001C2E164CDC8>), (-1, 8, <torch.utils.data.dataloader.DataLoader object at 0x000001C2E164CF88>), (-1, 9, <torch.utils.data.dataloader.DataLoader object at 0x000001C2E164C748>), (-1, 10, <torch.utils.data.dataloader.DataLoader object at 0x000001C2E164CE88>), (-1, 11, <torch.utils.data.dataloader.DataLoader object at 0x000001C2E164C708>), (-1, 12, <torch.utils.data.dataloader.DataLoader object at 0x000001C2E7E9D2C8>), (-1, 13, <torch.utils.data.dataloader.DataLoader object at 0x000001C2E7E9DB88>), (-1, 14, <torch.utils.data.dataloader.DataLoader object at 0x000001C2E7E9D308>), (-1, 15, <torch.utils.data.dataloader.DataLoader object at 0x000001C2E7E9D708>), (-1, 16, <torch.utils.data.dataloader.DataLoader object at 0x000001C2E7E9D488>), (-1, 17, <torch.utils.data.dataloader.DataLoader object at 0x000001C2E7E9D988>), (-1, 18, <torch.utils.data.dataloader.DataLoader object at 0x000001C2E7E9DD48>), (-1, 19, <torch.utils.data.dataloader.DataLoader object at 0x000001C2E7E9DD08>)], [(-1, 0, <torch.utils.data.dataloader.DataLoader object at 0x000001C2E165C808>), (-1, 1, <torch.utils.data.dataloader.DataLoader object at 0x000001C2E165C588>), (-1, 2, <torch.utils.data.dataloader.DataLoader object at 0x000001C2E165C548>), (-1, 3, <torch.utils.data.dataloader.DataLoader object at 0x000001C2E165C748>), (-1, 4, <torch.utils.data.dataloader.DataLoader object at 0x000001C2E165C608>), (-1, 5, <torch.utils.data.dataloader.DataLoader object at 0x000001C2E164C488>), (-1, 6, <torch.utils.data.dataloader.DataLoader object at 0x000001C2E164CC88>), (-1, 7, <torch.utils.data.dataloader.DataLoader object at 0x000001C2E164CDC8>), (-1, 8, <torch.utils.data.dataloader.DataLoader object at 0x000001C2E164CF88>), (-1, 9, <torch.utils.data.dataloader.DataLoader object at 0x000001C2E164C748>), (-1, 10, <torch.utils.data.dataloader.DataLoader object at 0x000001C2E164CE88>), (-1, 11, <torch.utils.data.dataloader.DataLoader object at 0x000001C2E164C708>), (-1, 12, <torch.utils.data.dataloader.DataLoader object at 0x000001C2E7E9D2C8>), (-1, 13, <torch.utils.data.dataloader.DataLoader object at 0x000001C2E7E9DB88>), (-1, 14, <torch.utils.data.dataloader.DataLoader object at 0x000001C2E7E9D308>), (-1, 15, <torch.utils.data.dataloader.DataLoader object at 0x000001C2E7E9D708>), (-1, 16, <torch.utils.data.dataloader.DataLoader object at 0x000001C2E7E9D488>), (-1, 17, <torch.utils.data.dataloader.DataLoader object at 0x000001C2E7E9D988>), (-1, 18, <torch.utils.data.dataloader.DataLoader object at 0x000001C2E7E9DD48>), (-1, 19, <torch.utils.data.dataloader.DataLoader object at 0x000001C2E7E9DD08>)], [(-1, 0, <torch.utils.data.dataloader.DataLoader object at 0x000001C2E165C808>), (-1, 1, <torch.utils.data.dataloader.DataLoader object at 0x000001C2E165C588>), (-1, 2, <torch.utils.data.dataloader.DataLoader object at 0x000001C2E165C548>), (-1, 3, <torch.utils.data.dataloader.DataLoader object at 0x000001C2E165C748>), (-1, 4, <torch.utils.data.dataloader.DataLoader object at 0x000001C2E165C608>), (-1, 5, <torch.utils.data.dataloader.DataLoader object at 0x000001C2E164C488>), (-1, 6, <torch.utils.data.dataloader.DataLoader object at 0x000001C2E164CC88>), (-1, 7, <torch.utils.data.dataloader.DataLoader object at 0x000001C2E164CDC8>), (-1, 8, <torch.utils.data.dataloader.DataLoader object at 0x000001C2E164CF88>), (-1, 9, <torch.utils.data.dataloader.DataLoader object at 0x000001C2E164C748>), (-1, 10, <torch.utils.data.dataloader.DataLoader object at 0x000001C2E164CE88>), (-1, 11, <torch.utils.data.dataloader.DataLoader object at 0x000001C2E164C708>), (-1, 12, <torch.utils.data.dataloader.DataLoader object at 0x000001C2E7E9D2C8>), (-1, 13, <torch.utils.data.dataloader.DataLoader object at 0x000001C2E7E9DB88>), (-1, 14, <torch.utils.data.dataloader.DataLoader object at 0x000001C2E7E9D308>), (-1, 15, <torch.utils.data.dataloader.DataLoader object at 0x000001C2E7E9D708>), (-1, 16, <torch.utils.data.dataloader.DataLoader object at 0x000001C2E7E9D488>), (-1, 17, <torch.utils.data.dataloader.DataLoader object at 0x000001C2E7E9D988>), (-1, 18, <torch.utils.data.dataloader.DataLoader object at 0x000001C2E7E9DD48>), (-1, 19, <torch.utils.data.dataloader.DataLoader object at 0x000001C2E7E9DD08>)], [(-1, 0, <torch.utils.data.dataloader.DataLoader object at 0x000001C2E165C808>), (-1, 1, <torch.utils.data.dataloader.DataLoader object at 0x000001C2E165C588>), (-1, 2, <torch.utils.data.dataloader.DataLoader object at 0x000001C2E165C548>), (-1, 3, <torch.utils.data.dataloader.DataLoader object at 0x000001C2E165C748>), (-1, 4, <torch.utils.data.dataloader.DataLoader object at 0x000001C2E165C608>), (-1, 5, <torch.utils.data.dataloader.DataLoader object at 0x000001C2E164C488>), (-1, 6, <torch.utils.data.dataloader.DataLoader object at 0x000001C2E164CC88>), (-1, 7, <torch.utils.data.dataloader.DataLoader object at 0x000001C2E164CDC8>), (-1, 8, <torch.utils.data.dataloader.DataLoader object at 0x000001C2E164CF88>), (-1, 9, <torch.utils.data.dataloader.DataLoader object at 0x000001C2E164C748>), (-1, 10, <torch.utils.data.dataloader.DataLoader object at 0x000001C2E164CE88>), (-1, 11, <torch.utils.data.dataloader.DataLoader object at 0x000001C2E164C708>), (-1, 12, <torch.utils.data.dataloader.DataLoader object at 0x000001C2E7E9D2C8>), (-1, 13, <torch.utils.data.dataloader.DataLoader object at 0x000001C2E7E9DB88>), (-1, 14, <torch.utils.data.dataloader.DataLoader object at 0x000001C2E7E9D308>), (-1, 15, <torch.utils.data.dataloader.DataLoader object at 0x000001C2E7E9D708>), (-1, 16, <torch.utils.data.dataloader.DataLoader object at 0x000001C2E7E9D488>), (-1, 17, <torch.utils.data.dataloader.DataLoader object at 0x000001C2E7E9D988>), (-1, 18, <torch.utils.data.dataloader.DataLoader object at 0x000001C2E7E9DD48>), (-1, 19, <torch.utils.data.dataloader.DataLoader object at 0x000001C2E7E9DD08>)], [(-1, 0, <torch.utils.data.dataloader.DataLoader object at 0x000001C2E165C808>), (-1, 1, <torch.utils.data.dataloader.DataLoader object at 0x000001C2E165C588>), (-1, 2, <torch.utils.data.dataloader.DataLoader object at 0x000001C2E165C548>), (-1, 3, <torch.utils.data.dataloader.DataLoader object at 0x000001C2E165C748>), (-1, 4, <torch.utils.data.dataloader.DataLoader object at 0x000001C2E165C608>), (-1, 5, <torch.utils.data.dataloader.DataLoader object at 0x000001C2E164C488>), (-1, 6, <torch.utils.data.dataloader.DataLoader object at 0x000001C2E164CC88>), (-1, 7, <torch.utils.data.dataloader.DataLoader object at 0x000001C2E164CDC8>), (-1, 8, <torch.utils.data.dataloader.DataLoader object at 0x000001C2E164CF88>), (-1, 9, <torch.utils.data.dataloader.DataLoader object at 0x000001C2E164C748>), (-1, 10, <torch.utils.data.dataloader.DataLoader object at 0x000001C2E164CE88>), (-1, 11, <torch.utils.data.dataloader.DataLoader object at 0x000001C2E164C708>), (-1, 12, <torch.utils.data.dataloader.DataLoader object at 0x000001C2E7E9D2C8>), (-1, 13, <torch.utils.data.dataloader.DataLoader object at 0x000001C2E7E9DB88>), (-1, 14, <torch.utils.data.dataloader.DataLoader object at 0x000001C2E7E9D308>), (-1, 15, <torch.utils.data.dataloader.DataLoader object at 0x000001C2E7E9D708>), (-1, 16, <torch.utils.data.dataloader.DataLoader object at 0x000001C2E7E9D488>), (-1, 17, <torch.utils.data.dataloader.DataLoader object at 0x000001C2E7E9D988>), (-1, 18, <torch.utils.data.dataloader.DataLoader object at 0x000001C2E7E9DD48>), (-1, 19, <torch.utils.data.dataloader.DataLoader object at 0x000001C2E7E9DD08>)], [(-1, 0, <torch.utils.data.dataloader.DataLoader object at 0x000001C2E165C808>), (-1, 1, <torch.utils.data.dataloader.DataLoader object at 0x000001C2E165C588>), (-1, 2, <torch.utils.data.dataloader.DataLoader object at 0x000001C2E165C548>), (-1, 3, <torch.utils.data.dataloader.DataLoader object at 0x000001C2E165C748>), (-1, 4, <torch.utils.data.dataloader.DataLoader object at 0x000001C2E165C608>), (-1, 5, <torch.utils.data.dataloader.DataLoader object at 0x000001C2E164C488>), (-1, 6, <torch.utils.data.dataloader.DataLoader object at 0x000001C2E164CC88>), (-1, 7, <torch.utils.data.dataloader.DataLoader object at 0x000001C2E164CDC8>), (-1, 8, <torch.utils.data.dataloader.DataLoader object at 0x000001C2E164CF88>), (-1, 9, <torch.utils.data.dataloader.DataLoader object at 0x000001C2E164C748>), (-1, 10, <torch.utils.data.dataloader.DataLoader object at 0x000001C2E164CE88>), (-1, 11, <torch.utils.data.dataloader.DataLoader object at 0x000001C2E164C708>), (-1, 12, <torch.utils.data.dataloader.DataLoader object at 0x000001C2E7E9D2C8>), (-1, 13, <torch.utils.data.dataloader.DataLoader object at 0x000001C2E7E9DB88>), (-1, 14, <torch.utils.data.dataloader.DataLoader object at 0x000001C2E7E9D308>), (-1, 15, <torch.utils.data.dataloader.DataLoader object at 0x000001C2E7E9D708>), (-1, 16, <torch.utils.data.dataloader.DataLoader object at 0x000001C2E7E9D488>), (-1, 17, <torch.utils.data.dataloader.DataLoader object at 0x000001C2E7E9D988>), (-1, 18, <torch.utils.data.dataloader.DataLoader object at 0x000001C2E7E9DD48>), (-1, 19, <torch.utils.data.dataloader.DataLoader object at 0x000001C2E7E9DD08>)], [(-1, 0, <torch.utils.data.dataloader.DataLoader object at 0x000001C2E165C808>), (-1, 1, <torch.utils.data.dataloader.DataLoader object at 0x000001C2E165C588>), (-1, 2, <torch.utils.data.dataloader.DataLoader object at 0x000001C2E165C548>), (-1, 3, <torch.utils.data.dataloader.DataLoader object at 0x000001C2E165C748>), (-1, 4, <torch.utils.data.dataloader.DataLoader object at 0x000001C2E165C608>), (-1, 5, <torch.utils.data.dataloader.DataLoader object at 0x000001C2E164C488>), (-1, 6, <torch.utils.data.dataloader.DataLoader object at 0x000001C2E164CC88>), (-1, 7, <torch.utils.data.dataloader.DataLoader object at 0x000001C2E164CDC8>), (-1, 8, <torch.utils.data.dataloader.DataLoader object at 0x000001C2E164CF88>), (-1, 9, <torch.utils.data.dataloader.DataLoader object at 0x000001C2E164C748>), (-1, 10, <torch.utils.data.dataloader.DataLoader object at 0x000001C2E164CE88>), (-1, 11, <torch.utils.data.dataloader.DataLoader object at 0x000001C2E164C708>), (-1, 12, <torch.utils.data.dataloader.DataLoader object at 0x000001C2E7E9D2C8>), (-1, 13, <torch.utils.data.dataloader.DataLoader object at 0x000001C2E7E9DB88>), (-1, 14, <torch.utils.data.dataloader.DataLoader object at 0x000001C2E7E9D308>), (-1, 15, <torch.utils.data.dataloader.DataLoader object at 0x000001C2E7E9D708>), (-1, 16, <torch.utils.data.dataloader.DataLoader object at 0x000001C2E7E9D488>), (-1, 17, <torch.utils.data.dataloader.DataLoader object at 0x000001C2E7E9D988>), (-1, 18, <torch.utils.data.dataloader.DataLoader object at 0x000001C2E7E9DD48>), (-1, 19, <torch.utils.data.dataloader.DataLoader object at 0x000001C2E7E9DD08>)], [(-1, 0, <torch.utils.data.dataloader.DataLoader object at 0x000001C2E165C808>), (-1, 1, <torch.utils.data.dataloader.DataLoader object at 0x000001C2E165C588>), (-1, 2, <torch.utils.data.dataloader.DataLoader object at 0x000001C2E165C548>), (-1, 3, <torch.utils.data.dataloader.DataLoader object at 0x000001C2E165C748>), (-1, 4, <torch.utils.data.dataloader.DataLoader object at 0x000001C2E165C608>), (-1, 5, <torch.utils.data.dataloader.DataLoader object at 0x000001C2E164C488>), (-1, 6, <torch.utils.data.dataloader.DataLoader object at 0x000001C2E164CC88>), (-1, 7, <torch.utils.data.dataloader.DataLoader object at 0x000001C2E164CDC8>), (-1, 8, <torch.utils.data.dataloader.DataLoader object at 0x000001C2E164CF88>), (-1, 9, <torch.utils.data.dataloader.DataLoader object at 0x000001C2E164C748>), (-1, 10, <torch.utils.data.dataloader.DataLoader object at 0x000001C2E164CE88>), (-1, 11, <torch.utils.data.dataloader.DataLoader object at 0x000001C2E164C708>), (-1, 12, <torch.utils.data.dataloader.DataLoader object at 0x000001C2E7E9D2C8>), (-1, 13, <torch.utils.data.dataloader.DataLoader object at 0x000001C2E7E9DB88>), (-1, 14, <torch.utils.data.dataloader.DataLoader object at 0x000001C2E7E9D308>), (-1, 15, <torch.utils.data.dataloader.DataLoader object at 0x000001C2E7E9D708>), (-1, 16, <torch.utils.data.dataloader.DataLoader object at 0x000001C2E7E9D488>), (-1, 17, <torch.utils.data.dataloader.DataLoader object at 0x000001C2E7E9D988>), (-1, 18, <torch.utils.data.dataloader.DataLoader object at 0x000001C2E7E9DD48>), (-1, 19, <torch.utils.data.dataloader.DataLoader object at 0x000001C2E7E9DD08>)], [(-1, 0, <torch.utils.data.dataloader.DataLoader object at 0x000001C2E165C808>), (-1, 1, <torch.utils.data.dataloader.DataLoader object at 0x000001C2E165C588>), (-1, 2, <torch.utils.data.dataloader.DataLoader object at 0x000001C2E165C548>), (-1, 3, <torch.utils.data.dataloader.DataLoader object at 0x000001C2E165C748>), (-1, 4, <torch.utils.data.dataloader.DataLoader object at 0x000001C2E165C608>), (-1, 5, <torch.utils.data.dataloader.DataLoader object at 0x000001C2E164C488>), (-1, 6, <torch.utils.data.dataloader.DataLoader object at 0x000001C2E164CC88>), (-1, 7, <torch.utils.data.dataloader.DataLoader object at 0x000001C2E164CDC8>), (-1, 8, <torch.utils.data.dataloader.DataLoader object at 0x000001C2E164CF88>), (-1, 9, <torch.utils.data.dataloader.DataLoader object at 0x000001C2E164C748>), (-1, 10, <torch.utils.data.dataloader.DataLoader object at 0x000001C2E164CE88>), (-1, 11, <torch.utils.data.dataloader.DataLoader object at 0x000001C2E164C708>), (-1, 12, <torch.utils.data.dataloader.DataLoader object at 0x000001C2E7E9D2C8>), (-1, 13, <torch.utils.data.dataloader.DataLoader object at 0x000001C2E7E9DB88>), (-1, 14, <torch.utils.data.dataloader.DataLoader object at 0x000001C2E7E9D308>), (-1, 15, <torch.utils.data.dataloader.DataLoader object at 0x000001C2E7E9D708>), (-1, 16, <torch.utils.data.dataloader.DataLoader object at 0x000001C2E7E9D488>), (-1, 17, <torch.utils.data.dataloader.DataLoader object at 0x000001C2E7E9D988>), (-1, 18, <torch.utils.data.dataloader.DataLoader object at 0x000001C2E7E9DD48>), (-1, 19, <torch.utils.data.dataloader.DataLoader object at 0x000001C2E7E9DD08>)], [(-1, 0, <torch.utils.data.dataloader.DataLoader object at 0x000001C2E165C808>), (-1, 1, <torch.utils.data.dataloader.DataLoader object at 0x000001C2E165C588>), (-1, 2, <torch.utils.data.dataloader.DataLoader object at 0x000001C2E165C548>), (-1, 3, <torch.utils.data.dataloader.DataLoader object at 0x000001C2E165C748>), (-1, 4, <torch.utils.data.dataloader.DataLoader object at 0x000001C2E165C608>), (-1, 5, <torch.utils.data.dataloader.DataLoader object at 0x000001C2E164C488>), (-1, 6, <torch.utils.data.dataloader.DataLoader object at 0x000001C2E164CC88>), (-1, 7, <torch.utils.data.dataloader.DataLoader object at 0x000001C2E164CDC8>), (-1, 8, <torch.utils.data.dataloader.DataLoader object at 0x000001C2E164CF88>), (-1, 9, <torch.utils.data.dataloader.DataLoader object at 0x000001C2E164C748>), (-1, 10, <torch.utils.data.dataloader.DataLoader object at 0x000001C2E164CE88>), (-1, 11, <torch.utils.data.dataloader.DataLoader object at 0x000001C2E164C708>), (-1, 12, <torch.utils.data.dataloader.DataLoader object at 0x000001C2E7E9D2C8>), (-1, 13, <torch.utils.data.dataloader.DataLoader object at 0x000001C2E7E9DB88>), (-1, 14, <torch.utils.data.dataloader.DataLoader object at 0x000001C2E7E9D308>), (-1, 15, <torch.utils.data.dataloader.DataLoader object at 0x000001C2E7E9D708>), (-1, 16, <torch.utils.data.dataloader.DataLoader object at 0x000001C2E7E9D488>), (-1, 17, <torch.utils.data.dataloader.DataLoader object at 0x000001C2E7E9D988>), (-1, 18, <torch.utils.data.dataloader.DataLoader object at 0x000001C2E7E9DD48>), (-1, 19, <torch.utils.data.dataloader.DataLoader object at 0x000001C2E7E9DD08>)], [(-1, 0, <torch.utils.data.dataloader.DataLoader object at 0x000001C2E165C808>), (-1, 1, <torch.utils.data.dataloader.DataLoader object at 0x000001C2E165C588>), (-1, 2, <torch.utils.data.dataloader.DataLoader object at 0x000001C2E165C548>), (-1, 3, <torch.utils.data.dataloader.DataLoader object at 0x000001C2E165C748>), (-1, 4, <torch.utils.data.dataloader.DataLoader object at 0x000001C2E165C608>), (-1, 5, <torch.utils.data.dataloader.DataLoader object at 0x000001C2E164C488>), (-1, 6, <torch.utils.data.dataloader.DataLoader object at 0x000001C2E164CC88>), (-1, 7, <torch.utils.data.dataloader.DataLoader object at 0x000001C2E164CDC8>), (-1, 8, <torch.utils.data.dataloader.DataLoader object at 0x000001C2E164CF88>), (-1, 9, <torch.utils.data.dataloader.DataLoader object at 0x000001C2E164C748>), (-1, 10, <torch.utils.data.dataloader.DataLoader object at 0x000001C2E164CE88>), (-1, 11, <torch.utils.data.dataloader.DataLoader object at 0x000001C2E164C708>), (-1, 12, <torch.utils.data.dataloader.DataLoader object at 0x000001C2E7E9D2C8>), (-1, 13, <torch.utils.data.dataloader.DataLoader object at 0x000001C2E7E9DB88>), (-1, 14, <torch.utils.data.dataloader.DataLoader object at 0x000001C2E7E9D308>), (-1, 15, <torch.utils.data.dataloader.DataLoader object at 0x000001C2E7E9D708>), (-1, 16, <torch.utils.data.dataloader.DataLoader object at 0x000001C2E7E9D488>), (-1, 17, <torch.utils.data.dataloader.DataLoader object at 0x000001C2E7E9D988>), (-1, 18, <torch.utils.data.dataloader.DataLoader object at 0x000001C2E7E9DD48>), (-1, 19, <torch.utils.data.dataloader.DataLoader object at 0x000001C2E7E9DD08>)], [(-1, 0, <torch.utils.data.dataloader.DataLoader object at 0x000001C2E165C808>), (-1, 1, <torch.utils.data.dataloader.DataLoader object at 0x000001C2E165C588>), (-1, 2, <torch.utils.data.dataloader.DataLoader object at 0x000001C2E165C548>), (-1, 3, <torch.utils.data.dataloader.DataLoader object at 0x000001C2E165C748>), (-1, 4, <torch.utils.data.dataloader.DataLoader object at 0x000001C2E165C608>), (-1, 5, <torch.utils.data.dataloader.DataLoader object at 0x000001C2E164C488>), (-1, 6, <torch.utils.data.dataloader.DataLoader object at 0x000001C2E164CC88>), (-1, 7, <torch.utils.data.dataloader.DataLoader object at 0x000001C2E164CDC8>), (-1, 8, <torch.utils.data.dataloader.DataLoader object at 0x000001C2E164CF88>), (-1, 9, <torch.utils.data.dataloader.DataLoader object at 0x000001C2E164C748>), (-1, 10, <torch.utils.data.dataloader.DataLoader object at 0x000001C2E164CE88>), (-1, 11, <torch.utils.data.dataloader.DataLoader object at 0x000001C2E164C708>), (-1, 12, <torch.utils.data.dataloader.DataLoader object at 0x000001C2E7E9D2C8>), (-1, 13, <torch.utils.data.dataloader.DataLoader object at 0x000001C2E7E9DB88>), (-1, 14, <torch.utils.data.dataloader.DataLoader object at 0x000001C2E7E9D308>), (-1, 15, <torch.utils.data.dataloader.DataLoader object at 0x000001C2E7E9D708>), (-1, 16, <torch.utils.data.dataloader.DataLoader object at 0x000001C2E7E9D488>), (-1, 17, <torch.utils.data.dataloader.DataLoader object at 0x000001C2E7E9D988>), (-1, 18, <torch.utils.data.dataloader.DataLoader object at 0x000001C2E7E9DD48>), (-1, 19, <torch.utils.data.dataloader.DataLoader object at 0x000001C2E7E9DD08>)], [(-1, 0, <torch.utils.data.dataloader.DataLoader object at 0x000001C2E165C808>), (-1, 1, <torch.utils.data.dataloader.DataLoader object at 0x000001C2E165C588>), (-1, 2, <torch.utils.data.dataloader.DataLoader object at 0x000001C2E165C548>), (-1, 3, <torch.utils.data.dataloader.DataLoader object at 0x000001C2E165C748>), (-1, 4, <torch.utils.data.dataloader.DataLoader object at 0x000001C2E165C608>), (-1, 5, <torch.utils.data.dataloader.DataLoader object at 0x000001C2E164C488>), (-1, 6, <torch.utils.data.dataloader.DataLoader object at 0x000001C2E164CC88>), (-1, 7, <torch.utils.data.dataloader.DataLoader object at 0x000001C2E164CDC8>), (-1, 8, <torch.utils.data.dataloader.DataLoader object at 0x000001C2E164CF88>), (-1, 9, <torch.utils.data.dataloader.DataLoader object at 0x000001C2E164C748>), (-1, 10, <torch.utils.data.dataloader.DataLoader object at 0x000001C2E164CE88>), (-1, 11, <torch.utils.data.dataloader.DataLoader object at 0x000001C2E164C708>), (-1, 12, <torch.utils.data.dataloader.DataLoader object at 0x000001C2E7E9D2C8>), (-1, 13, <torch.utils.data.dataloader.DataLoader object at 0x000001C2E7E9DB88>), (-1, 14, <torch.utils.data.dataloader.DataLoader object at 0x000001C2E7E9D308>), (-1, 15, <torch.utils.data.dataloader.DataLoader object at 0x000001C2E7E9D708>), (-1, 16, <torch.utils.data.dataloader.DataLoader object at 0x000001C2E7E9D488>), (-1, 17, <torch.utils.data.dataloader.DataLoader object at 0x000001C2E7E9D988>), (-1, 18, <torch.utils.data.dataloader.DataLoader object at 0x000001C2E7E9DD48>), (-1, 19, <torch.utils.data.dataloader.DataLoader object at 0x000001C2E7E9DD08>)], [(-1, 0, <torch.utils.data.dataloader.DataLoader object at 0x000001C2E165C808>), (-1, 1, <torch.utils.data.dataloader.DataLoader object at 0x000001C2E165C588>), (-1, 2, <torch.utils.data.dataloader.DataLoader object at 0x000001C2E165C548>), (-1, 3, <torch.utils.data.dataloader.DataLoader object at 0x000001C2E165C748>), (-1, 4, <torch.utils.data.dataloader.DataLoader object at 0x000001C2E165C608>), (-1, 5, <torch.utils.data.dataloader.DataLoader object at 0x000001C2E164C488>), (-1, 6, <torch.utils.data.dataloader.DataLoader object at 0x000001C2E164CC88>), (-1, 7, <torch.utils.data.dataloader.DataLoader object at 0x000001C2E164CDC8>), (-1, 8, <torch.utils.data.dataloader.DataLoader object at 0x000001C2E164CF88>), (-1, 9, <torch.utils.data.dataloader.DataLoader object at 0x000001C2E164C748>), (-1, 10, <torch.utils.data.dataloader.DataLoader object at 0x000001C2E164CE88>), (-1, 11, <torch.utils.data.dataloader.DataLoader object at 0x000001C2E164C708>), (-1, 12, <torch.utils.data.dataloader.DataLoader object at 0x000001C2E7E9D2C8>), (-1, 13, <torch.utils.data.dataloader.DataLoader object at 0x000001C2E7E9DB88>), (-1, 14, <torch.utils.data.dataloader.DataLoader object at 0x000001C2E7E9D308>), (-1, 15, <torch.utils.data.dataloader.DataLoader object at 0x000001C2E7E9D708>), (-1, 16, <torch.utils.data.dataloader.DataLoader object at 0x000001C2E7E9D488>), (-1, 17, <torch.utils.data.dataloader.DataLoader object at 0x000001C2E7E9D988>), (-1, 18, <torch.utils.data.dataloader.DataLoader object at 0x000001C2E7E9DD48>), (-1, 19, <torch.utils.data.dataloader.DataLoader object at 0x000001C2E7E9DD08>)]]\n"
     ]
    }
   ],
   "source": [
    "if iid:\n",
    "    train_loaders=[]\n",
    "    for i in range(n_iter):\n",
    "        train_loaders.append([(i, pos, get_train_iid(all_range, pos, i))\n",
    "                                for pos in range(num_of_workers)])\n",
    "else:\n",
    "    indices_per_participant = sample_dirichlet_train_data(\n",
    "        num_of_workers,\n",
    "        #dataset= torch.utils.data.Subset(train_dataset, list(range(240))),\n",
    "        alpha=0.95,\n",
    "        copylist=copylist)\n",
    "    train_loaders = [(-1, pos, get_train_noniid(indices)) for pos, indices in\n",
    "                    indices_per_participant.items()]\n",
    "    train_loaders = n_iter * [train_loaders]\n",
    "\n",
    "print(train_loaders)"
   ]
  },
  {
   "cell_type": "code",
   "execution_count": null,
   "metadata": {
    "colab": {
     "base_uri": "https://localhost:8080/"
    },
    "id": "HFU41nvozNJI",
    "outputId": "12464ed8-464b-4431-b96f-a69a9d84bf69"
   },
   "outputs": [
    {
     "name": "stdout",
     "output_type": "stream",
     "text": [
      "\n",
      "\n",
      " Entering epoch 0\n",
      "Iter 0 - Epoch 0 - Client Type: Benign - Client Number 0 - Poison Training False\n"
     ]
    },
    {
     "name": "stderr",
     "output_type": "stream",
     "text": [
      "100%|████████████████████████████████████████████████████████████████████████████████████| 1/1 [00:00<00:00,  1.58it/s]\n"
     ]
    },
    {
     "name": "stdout",
     "output_type": "stream",
     "text": [
      "Iter 0 - Epoch 0 - Client Type: Benign - Client Number 1 - Poison Training False\n"
     ]
    },
    {
     "name": "stderr",
     "output_type": "stream",
     "text": [
      "100%|████████████████████████████████████████████████████████████████████████████████████| 2/2 [00:01<00:00,  1.15it/s]\n"
     ]
    },
    {
     "name": "stdout",
     "output_type": "stream",
     "text": [
      "Iter 0 - Epoch 0 - Client Type: Benign - Client Number 2 - Poison Training False\n"
     ]
    },
    {
     "name": "stderr",
     "output_type": "stream",
     "text": [
      "100%|████████████████████████████████████████████████████████████████████████████████████| 2/2 [00:01<00:00,  1.75it/s]\n"
     ]
    },
    {
     "name": "stdout",
     "output_type": "stream",
     "text": [
      "Iter 0 - Epoch 0 - Client Type: Benign - Client Number 3 - Poison Training False\n"
     ]
    },
    {
     "name": "stderr",
     "output_type": "stream",
     "text": [
      "100%|████████████████████████████████████████████████████████████████████████████████████| 1/1 [00:00<00:00,  1.57it/s]\n"
     ]
    },
    {
     "name": "stdout",
     "output_type": "stream",
     "text": [
      "Iter 0 - Epoch 0 - Client Type: Benign - Client Number 4 - Poison Training False\n"
     ]
    },
    {
     "name": "stderr",
     "output_type": "stream",
     "text": [
      "100%|████████████████████████████████████████████████████████████████████████████████████| 1/1 [00:00<00:00,  1.30it/s]\n"
     ]
    },
    {
     "name": "stdout",
     "output_type": "stream",
     "text": [
      "Iter 0 - Epoch 0 - Client Type: Benign - Client Number 5 - Poison Training False\n"
     ]
    },
    {
     "name": "stderr",
     "output_type": "stream",
     "text": [
      "100%|████████████████████████████████████████████████████████████████████████████████████| 1/1 [00:00<00:00,  1.18it/s]\n"
     ]
    },
    {
     "name": "stdout",
     "output_type": "stream",
     "text": [
      "Iter 0 - Epoch 0 - Client Type: Benign - Client Number 6 - Poison Training False\n"
     ]
    },
    {
     "name": "stderr",
     "output_type": "stream",
     "text": [
      "100%|████████████████████████████████████████████████████████████████████████████████████| 2/2 [00:01<00:00,  1.14it/s]\n"
     ]
    },
    {
     "name": "stdout",
     "output_type": "stream",
     "text": [
      "Iter 0 - Epoch 0 - Client Type: Benign - Client Number 7 - Poison Training False\n"
     ]
    },
    {
     "name": "stderr",
     "output_type": "stream",
     "text": [
      "100%|████████████████████████████████████████████████████████████████████████████████████| 1/1 [00:00<00:00,  1.07it/s]\n"
     ]
    },
    {
     "name": "stdout",
     "output_type": "stream",
     "text": [
      "Iter 0 - Epoch 0 - Client Type: Benign - Client Number 8 - Poison Training False\n"
     ]
    },
    {
     "name": "stderr",
     "output_type": "stream",
     "text": [
      "100%|████████████████████████████████████████████████████████████████████████████████████| 1/1 [00:00<00:00,  1.06it/s]\n"
     ]
    },
    {
     "name": "stdout",
     "output_type": "stream",
     "text": [
      "Iter 0 - Epoch 0 - Client Type: Benign - Client Number 9 - Poison Training False\n"
     ]
    },
    {
     "name": "stderr",
     "output_type": "stream",
     "text": [
      "100%|████████████████████████████████████████████████████████████████████████████████████| 2/2 [00:01<00:00,  1.51it/s]\n"
     ]
    },
    {
     "name": "stdout",
     "output_type": "stream",
     "text": [
      "Iter 0 - Epoch 0 - Client Type: Benign - Client Number 10 - Poison Training False\n"
     ]
    },
    {
     "name": "stderr",
     "output_type": "stream",
     "text": [
      "100%|████████████████████████████████████████████████████████████████████████████████████| 1/1 [00:00<00:00,  1.94it/s]\n"
     ]
    },
    {
     "name": "stdout",
     "output_type": "stream",
     "text": [
      "Iter 0 - Epoch 0 - Client Type: Benign - Client Number 11 - Poison Training False\n"
     ]
    },
    {
     "name": "stderr",
     "output_type": "stream",
     "text": [
      "100%|████████████████████████████████████████████████████████████████████████████████████| 2/2 [00:01<00:00,  1.33it/s]\n"
     ]
    },
    {
     "name": "stdout",
     "output_type": "stream",
     "text": [
      "Iter 0 - Epoch 0 - Client Type: Benign - Client Number 12 - Poison Training False\n"
     ]
    },
    {
     "name": "stderr",
     "output_type": "stream",
     "text": [
      "100%|████████████████████████████████████████████████████████████████████████████████████| 1/1 [00:00<00:00,  1.46it/s]\n"
     ]
    },
    {
     "name": "stdout",
     "output_type": "stream",
     "text": [
      "Iter 0 - Epoch 0 - Client Type: Benign - Client Number 13 - Poison Training False\n"
     ]
    },
    {
     "name": "stderr",
     "output_type": "stream",
     "text": [
      "100%|████████████████████████████████████████████████████████████████████████████████████| 2/2 [00:02<00:00,  1.04s/it]\n"
     ]
    },
    {
     "name": "stdout",
     "output_type": "stream",
     "text": [
      "Iter 0 - Epoch 0 - Client Type: Benign - Client Number 14 - Poison Training False\n"
     ]
    },
    {
     "name": "stderr",
     "output_type": "stream",
     "text": [
      "100%|████████████████████████████████████████████████████████████████████████████████████| 1/1 [00:00<00:00,  1.09it/s]\n"
     ]
    },
    {
     "name": "stdout",
     "output_type": "stream",
     "text": [
      "Iter 0 - Epoch 0 - Client Type: Benign - Client Number 15 - Poison Training False\n"
     ]
    },
    {
     "name": "stderr",
     "output_type": "stream",
     "text": [
      "100%|████████████████████████████████████████████████████████████████████████████████████| 2/2 [00:01<00:00,  1.66it/s]\n"
     ]
    },
    {
     "name": "stdout",
     "output_type": "stream",
     "text": [
      "Iter 0 - Epoch 0 - Client Type: Benign - Client Number 16 - Poison Training False\n"
     ]
    },
    {
     "name": "stderr",
     "output_type": "stream",
     "text": [
      "100%|████████████████████████████████████████████████████████████████████████████████████| 2/2 [00:01<00:00,  1.41it/s]\n"
     ]
    },
    {
     "name": "stdout",
     "output_type": "stream",
     "text": [
      "Iter 0 - Epoch 0 - Client Type: Benign - Client Number 17 - Poison Training False\n"
     ]
    },
    {
     "name": "stderr",
     "output_type": "stream",
     "text": [
      "100%|████████████████████████████████████████████████████████████████████████████████████| 1/1 [00:00<00:00,  1.24it/s]\n"
     ]
    },
    {
     "name": "stdout",
     "output_type": "stream",
     "text": [
      "Iter 0 - Epoch 0 - Client Type: Benign - Client Number 18 - Poison Training False\n"
     ]
    },
    {
     "name": "stderr",
     "output_type": "stream",
     "text": [
      "100%|████████████████████████████████████████████████████████████████████████████████████| 1/1 [00:00<00:00,  1.08it/s]\n"
     ]
    },
    {
     "name": "stdout",
     "output_type": "stream",
     "text": [
      "Iter 0 - Epoch 0 - Client Type: Benign - Client Number 19 - Poison Training False\n"
     ]
    },
    {
     "name": "stderr",
     "output_type": "stream",
     "text": [
      "100%|████████████████████████████████████████████████████████████████████████████████████| 1/1 [00:00<00:00,  1.09it/s]\n"
     ]
    },
    {
     "name": "stdout",
     "output_type": "stream",
     "text": [
      "Original Copylist [9, 1, 4, 9, 6, 7, 5, 6, 2, 0, 8, 3, 9, 5, 6, 4, 0, 9, 9, 6]\n",
      "Found clusters [6 8 1 6 3 9 2 3 4 0 7 5 6 2 3 1 0 6 6 3]\n",
      "Original groups [array([ 9, 16], dtype=int64), array([1], dtype=int64), array([8], dtype=int64), array([11], dtype=int64), array([ 2, 15], dtype=int64), array([ 6, 13], dtype=int64), array([ 4,  7, 14, 19], dtype=int64), array([5], dtype=int64), array([10], dtype=int64), array([ 0,  3, 12, 17, 18], dtype=int64)]\n",
      "Clustered groups [array([ 9, 16], dtype=int64), array([ 2, 15], dtype=int64), array([ 6, 13], dtype=int64), array([ 4,  7, 14, 19], dtype=int64), array([8], dtype=int64), array([11], dtype=int64), array([ 0,  3, 12, 17, 18], dtype=int64), array([10], dtype=int64), array([1], dtype=int64), array([5], dtype=int64)]\n",
      "Clustering score 1.0\n",
      "1\n",
      "[[ 1.00000918e+00 -1.13753587e-01 -6.95219636e-02  9.98922765e-01\n",
      "  -9.84507427e-02  3.69958311e-01  7.12324167e-03 -9.24296379e-02\n",
      "   2.83450693e-01  4.94325489e-01  1.02822758e-01 -1.21549755e-01\n",
      "   9.98764873e-01  3.77077464e-04 -8.87216255e-02 -7.03691095e-02\n",
      "   4.93282139e-01  9.98753548e-01  9.99203086e-01 -9.23832878e-02]\n",
      " [-1.13753580e-01  1.00001371e+00  6.83757722e-01 -1.19966567e-01\n",
      "   3.45806271e-01 -1.35805324e-01  4.46108729e-01  3.44765335e-01\n",
      "  -5.47834672e-02  2.59711176e-01 -6.26712963e-02  6.89487517e-01\n",
      "  -1.20013990e-01  4.44562614e-01  3.42840940e-01  6.83279574e-01\n",
      "   3.72330546e-01 -1.16391405e-01 -1.14780150e-01  3.45711321e-01]\n",
      " [-6.95219561e-02  6.83757663e-01  1.00001585e+00 -7.56607577e-02\n",
      "   3.19299459e-01 -5.35666011e-02  4.51768041e-01  3.12981665e-01\n",
      "  -1.34287804e-01  1.28088430e-01 -3.38278674e-02  6.36303961e-01\n",
      "  -7.53869936e-02  4.41857040e-01  3.18762809e-01  9.98834729e-01\n",
      "   2.46713087e-01 -7.28827417e-02 -7.22904354e-02  3.19025069e-01]\n",
      " [ 9.98922825e-01 -1.19966567e-01 -7.56607577e-02  1.00000739e+00\n",
      "  -9.75850448e-02  3.69029373e-01 -5.49879530e-03 -9.13139805e-02\n",
      "   2.86130250e-01  4.96772438e-01  1.02868609e-01 -1.26382157e-01\n",
      "   9.99049604e-01 -1.21546704e-02 -8.78478885e-02 -7.65653104e-02\n",
      "   4.94758070e-01  9.99004126e-01  9.99028385e-01 -9.15831625e-02]\n",
      " [-9.84507427e-02  3.45806271e-01  3.19299459e-01 -9.75850448e-02\n",
      "   1.00000417e+00 -2.87977219e-01  3.02972049e-01  9.99184966e-01\n",
      "   9.01701525e-02  3.89956266e-01 -1.29632682e-01  4.13020588e-02\n",
      "  -9.82751623e-02  2.88471341e-01  9.99283791e-01  3.18999410e-01\n",
      "   3.95897955e-01 -9.08939838e-02 -9.80278105e-02  9.99347389e-01]\n",
      " [ 3.69958311e-01 -1.35805324e-01 -5.35666011e-02  3.69029403e-01\n",
      "  -2.87977189e-01  1.00000167e+00  3.01174343e-01 -2.88529128e-01\n",
      "   3.21325392e-01  5.03808498e-01  7.58230269e-01  1.85247555e-01\n",
      "   3.71435255e-01  3.15294564e-01 -2.87635416e-01 -4.95562479e-02\n",
      "   4.02113616e-01  3.78835618e-01  3.68637919e-01 -2.84063220e-01]\n",
      " [ 7.12324167e-03  4.46108729e-01  4.51768041e-01 -5.49879530e-03\n",
      "   3.02972049e-01  3.01174343e-01  1.00000846e+00  3.00783008e-01\n",
      "   1.43165598e-02  3.17870498e-01  3.83862972e-01  4.49290812e-01\n",
      "  -2.05495860e-03  9.97454762e-01  3.02933574e-01  4.53769445e-01\n",
      "   3.14115673e-01 -2.22642953e-03  5.20667469e-04  3.08976263e-01]\n",
      " [-9.24296379e-02  3.44765335e-01  3.12981635e-01 -9.13139805e-02\n",
      "   9.99184906e-01 -2.88529128e-01  3.00783008e-01  1.00000358e+00\n",
      "   8.94873291e-02  3.92938286e-01 -1.32364556e-01  4.19830345e-02\n",
      "  -9.19820666e-02  2.86192656e-01  9.99188960e-01  3.12788635e-01\n",
      "   3.98742199e-01 -8.47791955e-02 -9.20382738e-02  9.98946071e-01]\n",
      " [ 2.83450693e-01 -5.47834709e-02 -1.34287804e-01  2.86130250e-01\n",
      "   9.01701450e-02  3.21325421e-01  1.43165588e-02  8.94873217e-02\n",
      "   1.00000584e+00  4.20723110e-01 -8.24175309e-03 -1.84164401e-02\n",
      "   2.81870782e-01  1.96748916e-02  9.35226381e-02 -1.38084605e-01\n",
      "   4.16751117e-01  2.96169370e-01  2.84293920e-01  9.69227999e-02]\n",
      " [ 4.94325459e-01  2.59711176e-01  1.28088444e-01  4.96772408e-01\n",
      "   3.89956236e-01  5.03808498e-01  3.17870498e-01  3.92938286e-01\n",
      "   4.20723110e-01  1.00000679e+00  3.93558770e-01  2.40205795e-01\n",
      "   4.95472044e-01  3.19900870e-01  3.91437262e-01  1.29608855e-01\n",
      "   9.75234926e-01  5.08037865e-01  4.95284230e-01  3.94124597e-01]\n",
      " [ 1.02822758e-01 -6.26713037e-02 -3.38278674e-02  1.02868609e-01\n",
      "  -1.29632682e-01  7.58230269e-01  3.83862972e-01 -1.32364571e-01\n",
      "  -8.24175309e-03  3.93558800e-01  1.00001824e+00  1.21143505e-01\n",
      "   1.11198835e-01  4.01753038e-01 -1.31919608e-01 -3.41275968e-02\n",
      "   2.56740898e-01  1.08986713e-01  1.04372345e-01 -1.24470018e-01]\n",
      " [-1.21549748e-01  6.89487576e-01  6.36303902e-01 -1.26382157e-01\n",
      "   4.13020551e-02  1.85247540e-01  4.49290812e-01  4.19830345e-02\n",
      "  -1.84164401e-02  2.40205795e-01  1.21143498e-01  1.00003278e+00\n",
      "  -1.28179029e-01  4.50704038e-01  3.92400846e-02  6.36618316e-01\n",
      "   3.29227358e-01 -1.21733986e-01 -1.24916248e-01  4.02430221e-02]\n",
      " [ 9.98764873e-01 -1.20013990e-01 -7.53869936e-02  9.99049664e-01\n",
      "  -9.82751697e-02  3.71435255e-01 -2.05495860e-03 -9.19820741e-02\n",
      "   2.81870782e-01  4.95472103e-01  1.11198843e-01 -1.28179014e-01\n",
      "   1.00000739e+00 -8.64446908e-03 -8.83388817e-02 -7.65406638e-02\n",
      "   4.92280602e-01  9.98607397e-01  9.99072373e-01 -9.22516659e-02]\n",
      " [ 3.77077464e-04  4.44562614e-01  4.41857070e-01 -1.21546704e-02\n",
      "   2.88471311e-01  3.15294594e-01  9.97454703e-01  2.86192656e-01\n",
      "   1.96748916e-02  3.19900870e-01  4.01753038e-01  4.50704038e-01\n",
      "  -8.64446908e-03  1.00000441e+00  2.88305730e-01  4.44032133e-01\n",
      "   3.12912434e-01 -8.57602619e-03 -5.81677305e-03  2.94564605e-01]\n",
      " [-8.87216255e-02  3.42840970e-01  3.18762809e-01 -8.78478810e-02\n",
      "   9.99283850e-01 -2.87635416e-01  3.02933604e-01  9.99188960e-01\n",
      "   9.35226381e-02  3.91437262e-01 -1.31919608e-01  3.92400809e-02\n",
      "  -8.83388817e-02  2.88305730e-01  1.00000727e+00  3.18320602e-01\n",
      "   3.97818774e-01 -8.11536834e-02 -8.83077085e-02  9.99355733e-01]\n",
      " [-7.03691095e-02  6.83279574e-01  9.98834789e-01 -7.65653029e-02\n",
      "   3.18999380e-01 -4.95562479e-02  4.53769416e-01  3.12788635e-01\n",
      "  -1.38084605e-01  1.29608855e-01 -3.41275968e-02  6.36618316e-01\n",
      "  -7.65406638e-02  4.44032133e-01  3.18320572e-01  1.00001454e+00\n",
      "   2.48109579e-01 -7.38600269e-02 -7.31921047e-02  3.18666309e-01]\n",
      " [ 4.93282139e-01  3.72330546e-01  2.46713087e-01  4.94758040e-01\n",
      "   3.95897925e-01  4.02113587e-01  3.14115673e-01  3.98742229e-01\n",
      "   4.16751146e-01  9.75234866e-01  2.56740898e-01  3.29227328e-01\n",
      "   4.92280602e-01  3.12912434e-01  3.97818774e-01  2.48109579e-01\n",
      "   1.00000834e+00  5.05052030e-01  4.93778646e-01  3.99620742e-01]\n",
      " [ 9.98753488e-01 -1.16391405e-01 -7.28827342e-02  9.99004066e-01\n",
      "  -9.08939838e-02  3.78835648e-01 -2.22642953e-03 -8.47791955e-02\n",
      "   2.96169370e-01  5.08037865e-01  1.08986713e-01 -1.21733993e-01\n",
      "   9.98607457e-01 -8.57602619e-03 -8.11536759e-02 -7.38600269e-02\n",
      "   5.05052030e-01  1.00000978e+00  9.98765349e-01 -8.49264488e-02]\n",
      " [ 9.99203146e-01 -1.14780158e-01 -7.22904354e-02  9.99028385e-01\n",
      "  -9.80278105e-02  3.68637919e-01  5.20667527e-04 -9.20382738e-02\n",
      "   2.84293920e-01  4.95284200e-01  1.04372345e-01 -1.24916248e-01\n",
      "   9.99072373e-01 -5.81677305e-03 -8.83077160e-02 -7.31921047e-02\n",
      "   4.93778676e-01  9.98765349e-01  1.00000858e+00 -9.20573920e-02]\n",
      " [-9.23832804e-02  3.45711321e-01  3.19025069e-01 -9.15831625e-02\n",
      "   9.99347389e-01 -2.84063220e-01  3.08976293e-01  9.98946071e-01\n",
      "   9.69228074e-02  3.94124597e-01 -1.24470018e-01  4.02430259e-02\n",
      "  -9.22516659e-02  2.94564605e-01  9.99355733e-01  3.18666279e-01\n",
      "   3.99620742e-01 -8.49264488e-02 -9.20573920e-02  1.00000179e+00]]\n",
      "Original Copylist [9, 1, 4, 9, 6, 7, 5, 6, 2, 0, 8, 3, 9, 5, 6, 4, 0, 9, 9, 6]\n",
      "Found clusters [6 8 1 6 3 9 2 3 4 0 7 5 6 2 3 1 0 6 6 3]\n",
      "Original groups [array([ 9, 16], dtype=int64), array([1], dtype=int64), array([8], dtype=int64), array([11], dtype=int64), array([ 2, 15], dtype=int64), array([ 6, 13], dtype=int64), array([ 4,  7, 14, 19], dtype=int64), array([5], dtype=int64), array([10], dtype=int64), array([ 0,  3, 12, 17, 18], dtype=int64)]\n",
      "Clustered groups [array([ 9, 16], dtype=int64), array([ 2, 15], dtype=int64), array([ 6, 13], dtype=int64), array([ 4,  7, 14, 19], dtype=int64), array([8], dtype=int64), array([11], dtype=int64), array([ 0,  3, 12, 17, 18], dtype=int64), array([10], dtype=int64), array([1], dtype=int64), array([5], dtype=int64)]\n",
      "Clustering score 1.0\n",
      "\n",
      "\n",
      " Entering epoch 1\n",
      "Iter 0 - Epoch 0 - Client Type: Benign - Client Number 0 - Poison Training False\n"
     ]
    },
    {
     "name": "stderr",
     "output_type": "stream",
     "text": [
      "100%|████████████████████████████████████████████████████████████████████████████████████| 1/1 [00:00<00:00,  1.14it/s]\n"
     ]
    },
    {
     "name": "stdout",
     "output_type": "stream",
     "text": [
      "Iter 0 - Epoch 0 - Client Type: Benign - Client Number 1 - Poison Training False\n"
     ]
    },
    {
     "name": "stderr",
     "output_type": "stream",
     "text": [
      "100%|████████████████████████████████████████████████████████████████████████████████████| 2/2 [00:01<00:00,  1.01it/s]\n"
     ]
    },
    {
     "name": "stdout",
     "output_type": "stream",
     "text": [
      "Iter 0 - Epoch 0 - Client Type: Benign - Client Number 2 - Poison Training False\n"
     ]
    },
    {
     "name": "stderr",
     "output_type": "stream",
     "text": [
      "100%|████████████████████████████████████████████████████████████████████████████████████| 2/2 [00:01<00:00,  1.44it/s]\n"
     ]
    },
    {
     "name": "stdout",
     "output_type": "stream",
     "text": [
      "Iter 0 - Epoch 0 - Client Type: Benign - Client Number 3 - Poison Training False\n"
     ]
    },
    {
     "name": "stderr",
     "output_type": "stream",
     "text": [
      "100%|████████████████████████████████████████████████████████████████████████████████████| 1/1 [00:00<00:00,  1.31it/s]\n"
     ]
    },
    {
     "name": "stdout",
     "output_type": "stream",
     "text": [
      "Iter 0 - Epoch 0 - Client Type: Benign - Client Number 4 - Poison Training False\n"
     ]
    },
    {
     "name": "stderr",
     "output_type": "stream",
     "text": [
      "100%|████████████████████████████████████████████████████████████████████████████████████| 1/1 [00:00<00:00,  1.03it/s]\n"
     ]
    },
    {
     "name": "stdout",
     "output_type": "stream",
     "text": [
      "Iter 0 - Epoch 0 - Client Type: Benign - Client Number 5 - Poison Training False\n"
     ]
    },
    {
     "name": "stderr",
     "output_type": "stream",
     "text": [
      "100%|████████████████████████████████████████████████████████████████████████████████████| 1/1 [00:01<00:00,  1.01s/it]\n"
     ]
    },
    {
     "name": "stdout",
     "output_type": "stream",
     "text": [
      "Iter 0 - Epoch 0 - Client Type: Benign - Client Number 6 - Poison Training False\n"
     ]
    },
    {
     "name": "stderr",
     "output_type": "stream",
     "text": [
      "100%|████████████████████████████████████████████████████████████████████████████████████| 2/2 [00:02<00:00,  1.06s/it]\n"
     ]
    },
    {
     "name": "stdout",
     "output_type": "stream",
     "text": [
      "Iter 0 - Epoch 0 - Client Type: Benign - Client Number 7 - Poison Training False\n"
     ]
    },
    {
     "name": "stderr",
     "output_type": "stream",
     "text": [
      "100%|████████████████████████████████████████████████████████████████████████████████████| 1/1 [00:00<00:00,  1.07it/s]\n"
     ]
    },
    {
     "name": "stdout",
     "output_type": "stream",
     "text": [
      "Iter 0 - Epoch 0 - Client Type: Benign - Client Number 8 - Poison Training False\n"
     ]
    },
    {
     "name": "stderr",
     "output_type": "stream",
     "text": [
      "100%|████████████████████████████████████████████████████████████████████████████████████| 1/1 [00:00<00:00,  1.03it/s]\n"
     ]
    },
    {
     "name": "stdout",
     "output_type": "stream",
     "text": [
      "Iter 0 - Epoch 0 - Client Type: Benign - Client Number 9 - Poison Training False\n"
     ]
    },
    {
     "name": "stderr",
     "output_type": "stream",
     "text": [
      "100%|████████████████████████████████████████████████████████████████████████████████████| 2/2 [00:01<00:00,  1.29it/s]\n"
     ]
    },
    {
     "name": "stdout",
     "output_type": "stream",
     "text": [
      "Iter 0 - Epoch 0 - Client Type: Benign - Client Number 10 - Poison Training False\n"
     ]
    },
    {
     "name": "stderr",
     "output_type": "stream",
     "text": [
      "100%|████████████████████████████████████████████████████████████████████████████████████| 1/1 [00:00<00:00,  1.53it/s]\n"
     ]
    },
    {
     "name": "stdout",
     "output_type": "stream",
     "text": [
      "Iter 0 - Epoch 0 - Client Type: Benign - Client Number 11 - Poison Training False\n"
     ]
    },
    {
     "name": "stderr",
     "output_type": "stream",
     "text": [
      "100%|████████████████████████████████████████████████████████████████████████████████████| 2/2 [00:01<00:00,  1.23it/s]\n"
     ]
    },
    {
     "name": "stdout",
     "output_type": "stream",
     "text": [
      "Iter 0 - Epoch 0 - Client Type: Benign - Client Number 12 - Poison Training False\n"
     ]
    },
    {
     "name": "stderr",
     "output_type": "stream",
     "text": [
      "100%|████████████████████████████████████████████████████████████████████████████████████| 1/1 [00:00<00:00,  1.32it/s]\n"
     ]
    },
    {
     "name": "stdout",
     "output_type": "stream",
     "text": [
      "Iter 0 - Epoch 0 - Client Type: Benign - Client Number 13 - Poison Training False\n"
     ]
    },
    {
     "name": "stderr",
     "output_type": "stream",
     "text": [
      "100%|████████████████████████████████████████████████████████████████████████████████████| 2/2 [00:02<00:00,  1.11s/it]\n"
     ]
    },
    {
     "name": "stdout",
     "output_type": "stream",
     "text": [
      "Iter 0 - Epoch 0 - Client Type: Benign - Client Number 14 - Poison Training False\n"
     ]
    },
    {
     "name": "stderr",
     "output_type": "stream",
     "text": [
      "100%|████████████████████████████████████████████████████████████████████████████████████| 1/1 [00:00<00:00,  1.07it/s]\n"
     ]
    },
    {
     "name": "stdout",
     "output_type": "stream",
     "text": [
      "Iter 0 - Epoch 0 - Client Type: Benign - Client Number 15 - Poison Training False\n"
     ]
    },
    {
     "name": "stderr",
     "output_type": "stream",
     "text": [
      "100%|████████████████████████████████████████████████████████████████████████████████████| 2/2 [00:01<00:00,  1.40it/s]\n"
     ]
    },
    {
     "name": "stdout",
     "output_type": "stream",
     "text": [
      "Iter 0 - Epoch 0 - Client Type: Benign - Client Number 16 - Poison Training False\n"
     ]
    },
    {
     "name": "stderr",
     "output_type": "stream",
     "text": [
      "100%|████████████████████████████████████████████████████████████████████████████████████| 2/2 [00:01<00:00,  1.45it/s]\n"
     ]
    },
    {
     "name": "stdout",
     "output_type": "stream",
     "text": [
      "Iter 0 - Epoch 0 - Client Type: Benign - Client Number 17 - Poison Training False\n"
     ]
    },
    {
     "name": "stderr",
     "output_type": "stream",
     "text": [
      "100%|████████████████████████████████████████████████████████████████████████████████████| 1/1 [00:00<00:00,  1.38it/s]\n"
     ]
    },
    {
     "name": "stdout",
     "output_type": "stream",
     "text": [
      "Iter 0 - Epoch 0 - Client Type: Benign - Client Number 18 - Poison Training False\n"
     ]
    },
    {
     "name": "stderr",
     "output_type": "stream",
     "text": [
      "100%|████████████████████████████████████████████████████████████████████████████████████| 1/1 [00:00<00:00,  1.36it/s]\n"
     ]
    },
    {
     "name": "stdout",
     "output_type": "stream",
     "text": [
      "Iter 0 - Epoch 0 - Client Type: Benign - Client Number 19 - Poison Training False\n"
     ]
    },
    {
     "name": "stderr",
     "output_type": "stream",
     "text": [
      "100%|████████████████████████████████████████████████████████████████████████████████████| 1/1 [00:00<00:00,  1.06it/s]\n"
     ]
    },
    {
     "name": "stdout",
     "output_type": "stream",
     "text": [
      "Original Copylist [9, 1, 4, 9, 6, 7, 5, 6, 2, 0, 8, 3, 9, 5, 6, 4, 0, 9, 9, 6]\n",
      "Found clusters [4 7 3 4 1 6 2 1 8 0 5 9 4 2 1 3 0 4 4 1]\n",
      "Original groups [array([ 9, 16], dtype=int64), array([1], dtype=int64), array([8], dtype=int64), array([11], dtype=int64), array([ 2, 15], dtype=int64), array([ 6, 13], dtype=int64), array([ 4,  7, 14, 19], dtype=int64), array([5], dtype=int64), array([10], dtype=int64), array([ 0,  3, 12, 17, 18], dtype=int64)]\n",
      "Clustered groups [array([ 9, 16], dtype=int64), array([ 4,  7, 14, 19], dtype=int64), array([ 6, 13], dtype=int64), array([ 2, 15], dtype=int64), array([ 0,  3, 12, 17, 18], dtype=int64), array([10], dtype=int64), array([5], dtype=int64), array([1], dtype=int64), array([8], dtype=int64), array([11], dtype=int64)]\n",
      "Clustering score 1.0\n",
      "2\n",
      "[[1.00001144 0.15867947 0.20274639 0.99891946 0.11859362 0.39294408\n",
      "  0.17526289 0.11773984 0.44209833 0.38852783 0.38286238 0.2952538\n",
      "  0.99878243 0.17013442 0.12538572 0.20241498 0.36944867 0.99883813\n",
      "  0.99925658 0.12267827]\n",
      " [0.15867947 1.00001162 0.68330416 0.15305924 0.46594934 0.18190654\n",
      "  0.37786421 0.46565585 0.3188371  0.16007713 0.29080493 0.68616056\n",
      "  0.15359366 0.37933663 0.4664201  0.68323779 0.23895151 0.15947381\n",
      "  0.16071104 0.46623884]\n",
      " [0.2027464  0.68330416 1.0000115  0.19645983 0.45006171 0.16537641\n",
      "  0.39338656 0.45147157 0.18462251 0.05192122 0.32434212 0.63628957\n",
      "  0.19753385 0.38925104 0.45246144 0.99877432 0.13956632 0.20121436\n",
      "  0.20295558 0.45295863]\n",
      " [0.99891952 0.15305924 0.19645983 1.00000691 0.11767099 0.38453631\n",
      "  0.16499515 0.1170173  0.43907708 0.38697757 0.37834501 0.29070393\n",
      "  0.99913865 0.15988877 0.12440273 0.19610815 0.36653295 0.99906683\n",
      "  0.99907675 0.12165852]\n",
      " [0.11859362 0.46594934 0.45006171 0.117671   1.00000262 0.03091468\n",
      "  0.32641231 0.99714142 0.22252413 0.3678264  0.16971859 0.22549896\n",
      "  0.11696939 0.31956728 0.99866265 0.4507083  0.38030767 0.12431681\n",
      "  0.11940803 0.9990024 ]\n",
      " [0.39294407 0.18190654 0.1653764  0.38453631 0.03091469 1.00000334\n",
      "  0.449505   0.02627663 0.42751931 0.5121426  0.67901325 0.36276836\n",
      "  0.38709979 0.45921862 0.03074741 0.16964572 0.45426044 0.39394775\n",
      "  0.38959081 0.03186682]\n",
      " [0.17526289 0.37786421 0.39338654 0.16499513 0.32641231 0.44950503\n",
      "  1.00000495 0.31966093 0.15064743 0.35623616 0.33405311 0.37449726\n",
      "  0.16782536 0.99686149 0.32309236 0.39560816 0.34494679 0.16917018\n",
      "  0.16994515 0.33152276]\n",
      " [0.11773984 0.46565585 0.45147158 0.11701732 0.99714142 0.02627663\n",
      "  0.31966092 1.00000417 0.22643063 0.35665731 0.16995721 0.22572984\n",
      "  0.11638688 0.31313944 0.99799341 0.45192911 0.37143537 0.12363042\n",
      "  0.11874056 0.99692512]\n",
      " [0.4420983  0.3188371  0.18462251 0.43907711 0.22252414 0.42751932\n",
      "  0.15064743 0.22643061 1.0000087  0.27982816 0.34336732 0.31458722\n",
      "  0.43754181 0.15461981 0.23166808 0.18048946 0.30262576 0.44851388\n",
      "  0.44324456 0.2265236 ]\n",
      " [0.38852781 0.16007712 0.05192123 0.38697755 0.3678264  0.5121426\n",
      "  0.35623616 0.3566573  0.27982816 1.0000037  0.3223713  0.17719954\n",
      "  0.38727117 0.35562813 0.36439162 0.05499965 0.94271243 0.39468221\n",
      "  0.3854458  0.36987355]\n",
      " [0.38286241 0.29080495 0.32434212 0.37834501 0.16971858 0.67901325\n",
      "  0.33405311 0.16995722 0.34336735 0.32237132 1.0000242  0.41312178\n",
      "  0.38364139 0.3428064  0.17370232 0.3252607  0.28705218 0.3839183\n",
      "  0.38432453 0.17407246]\n",
      " [0.2952538  0.68616059 0.63628951 0.29070393 0.22549896 0.36276835\n",
      "  0.37449726 0.22572984 0.31458725 0.17719954 0.41312178 1.00002348\n",
      "  0.28950899 0.37790263 0.22631186 0.63715377 0.22343918 0.29729168\n",
      "  0.29574886 0.22321024]\n",
      " [0.99878243 0.15359366 0.19753386 0.99913868 0.11696937 0.38709979\n",
      "  0.16782536 0.11638687 0.43754184 0.3872712  0.38364139 0.28950897\n",
      "  1.00001168 0.16268034 0.12395281 0.19694445 0.36609965 0.99873847\n",
      "  0.99912462 0.12099537]\n",
      " [0.17013443 0.37933663 0.38925105 0.15988876 0.31956725 0.45921864\n",
      "  0.99686146 0.31313944 0.15461981 0.35562815 0.34280641 0.37790263\n",
      "  0.16268032 1.00000441 0.31639241 0.39164349 0.34353818 0.16428084\n",
      "  0.16510431 0.3245618 ]\n",
      " [0.12538572 0.46642014 0.45246144 0.12440274 0.99866265 0.03074741\n",
      "  0.32309236 0.99799347 0.23166808 0.36439162 0.17370232 0.22631186\n",
      "  0.12395282 0.31639241 1.00000608 0.45284273 0.38004558 0.13108874\n",
      "  0.12626916 0.9986974 ]\n",
      " [0.20241498 0.68323779 0.99877435 0.19610817 0.45070828 0.16964572\n",
      "  0.39560816 0.45192911 0.18048947 0.05499965 0.3252607  0.63715377\n",
      "  0.19694445 0.39164349 0.45284274 1.00001335 0.14186263 0.20077215\n",
      "  0.20260774 0.45351543]\n",
      " [0.36944867 0.23895152 0.13956632 0.36653294 0.38030766 0.45426042\n",
      "  0.34494677 0.37143539 0.30262578 0.9427124  0.28705218 0.22343916\n",
      "  0.36609965 0.34353817 0.38004556 0.14186263 1.00000548 0.37326612\n",
      "  0.36657896 0.38295108]\n",
      " [0.9988381  0.15947384 0.20121435 0.99906677 0.12431681 0.39394777\n",
      "  0.16917018 0.12363042 0.44851388 0.39468221 0.3839183  0.29729168\n",
      "  0.9987385  0.16428084 0.13108874 0.20077215 0.37326612 1.00001186\n",
      "  0.99890754 0.12823117]\n",
      " [0.99925664 0.16071104 0.2029556  0.99907675 0.11940803 0.38959081\n",
      "  0.16994516 0.11874054 0.44324456 0.38544579 0.38432453 0.29574886\n",
      "  0.99912462 0.16510431 0.12626916 0.20260774 0.36657897 0.99890751\n",
      "  1.00001293 0.12335417]\n",
      " [0.12267827 0.46623884 0.45295863 0.12165852 0.99900243 0.03186682\n",
      "  0.33152278 0.99692512 0.2265236  0.36987354 0.17407245 0.22321024\n",
      "  0.12099538 0.3245618  0.9986974  0.45351538 0.3829511  0.12823117\n",
      "  0.12335417 1.0000031 ]]\n",
      "Original Copylist [9, 1, 4, 9, 6, 7, 5, 6, 2, 0, 8, 3, 9, 5, 6, 4, 0, 9, 9, 6]\n",
      "Found clusters [3 9 7 3 1 8 2 1 6 0 4 5 3 2 1 7 0 3 3 1]\n",
      "Original groups [array([ 9, 16], dtype=int64), array([1], dtype=int64), array([8], dtype=int64), array([11], dtype=int64), array([ 2, 15], dtype=int64), array([ 6, 13], dtype=int64), array([ 4,  7, 14, 19], dtype=int64), array([5], dtype=int64), array([10], dtype=int64), array([ 0,  3, 12, 17, 18], dtype=int64)]\n",
      "Clustered groups [array([ 9, 16], dtype=int64), array([ 4,  7, 14, 19], dtype=int64), array([ 6, 13], dtype=int64), array([ 0,  3, 12, 17, 18], dtype=int64), array([10], dtype=int64), array([11], dtype=int64), array([8], dtype=int64), array([ 2, 15], dtype=int64), array([5], dtype=int64), array([1], dtype=int64)]\n",
      "Clustering score 1.0\n",
      "\n",
      "\n",
      " Entering epoch 2\n",
      "Iter 0 - Epoch 0 - Client Type: Benign - Client Number 0 - Poison Training False\n"
     ]
    },
    {
     "name": "stderr",
     "output_type": "stream",
     "text": [
      "100%|████████████████████████████████████████████████████████████████████████████████████| 1/1 [00:00<00:00,  1.49it/s]\n"
     ]
    },
    {
     "name": "stdout",
     "output_type": "stream",
     "text": [
      "Iter 0 - Epoch 0 - Client Type: Benign - Client Number 1 - Poison Training False\n"
     ]
    },
    {
     "name": "stderr",
     "output_type": "stream",
     "text": [
      "100%|████████████████████████████████████████████████████████████████████████████████████| 2/2 [00:02<00:00,  1.06s/it]\n"
     ]
    },
    {
     "name": "stdout",
     "output_type": "stream",
     "text": [
      "Iter 0 - Epoch 0 - Client Type: Benign - Client Number 2 - Poison Training False\n"
     ]
    },
    {
     "name": "stderr",
     "output_type": "stream",
     "text": [
      "100%|████████████████████████████████████████████████████████████████████████████████████| 2/2 [00:01<00:00,  1.43it/s]\n"
     ]
    },
    {
     "name": "stdout",
     "output_type": "stream",
     "text": [
      "Iter 0 - Epoch 0 - Client Type: Benign - Client Number 3 - Poison Training False\n"
     ]
    },
    {
     "name": "stderr",
     "output_type": "stream",
     "text": [
      "100%|████████████████████████████████████████████████████████████████████████████████████| 1/1 [00:00<00:00,  1.31it/s]\n"
     ]
    },
    {
     "name": "stdout",
     "output_type": "stream",
     "text": [
      "Iter 0 - Epoch 0 - Client Type: Benign - Client Number 4 - Poison Training False\n"
     ]
    },
    {
     "name": "stderr",
     "output_type": "stream",
     "text": [
      "100%|████████████████████████████████████████████████████████████████████████████████████| 1/1 [00:00<00:00,  1.06it/s]\n"
     ]
    },
    {
     "name": "stdout",
     "output_type": "stream",
     "text": [
      "Iter 0 - Epoch 0 - Client Type: Benign - Client Number 5 - Poison Training False\n"
     ]
    },
    {
     "name": "stderr",
     "output_type": "stream",
     "text": [
      "100%|████████████████████████████████████████████████████████████████████████████████████| 1/1 [00:01<00:00,  1.04s/it]\n"
     ]
    },
    {
     "name": "stdout",
     "output_type": "stream",
     "text": [
      "Iter 0 - Epoch 0 - Client Type: Benign - Client Number 6 - Poison Training False\n"
     ]
    },
    {
     "name": "stderr",
     "output_type": "stream",
     "text": [
      "100%|████████████████████████████████████████████████████████████████████████████████████| 2/2 [00:02<00:00,  1.02s/it]\n"
     ]
    },
    {
     "name": "stdout",
     "output_type": "stream",
     "text": [
      "Iter 0 - Epoch 0 - Client Type: Benign - Client Number 7 - Poison Training False\n"
     ]
    },
    {
     "name": "stderr",
     "output_type": "stream",
     "text": [
      "100%|████████████████████████████████████████████████████████████████████████████████████| 1/1 [00:00<00:00,  1.12it/s]\n"
     ]
    },
    {
     "name": "stdout",
     "output_type": "stream",
     "text": [
      "Iter 0 - Epoch 0 - Client Type: Benign - Client Number 8 - Poison Training False\n"
     ]
    },
    {
     "name": "stderr",
     "output_type": "stream",
     "text": [
      "100%|████████████████████████████████████████████████████████████████████████████████████| 1/1 [00:00<00:00,  1.04it/s]\n"
     ]
    },
    {
     "name": "stdout",
     "output_type": "stream",
     "text": [
      "Iter 0 - Epoch 0 - Client Type: Benign - Client Number 9 - Poison Training False\n"
     ]
    },
    {
     "name": "stderr",
     "output_type": "stream",
     "text": [
      "100%|████████████████████████████████████████████████████████████████████████████████████| 2/2 [00:01<00:00,  1.47it/s]\n"
     ]
    },
    {
     "name": "stdout",
     "output_type": "stream",
     "text": [
      "Iter 0 - Epoch 0 - Client Type: Benign - Client Number 10 - Poison Training False\n"
     ]
    },
    {
     "name": "stderr",
     "output_type": "stream",
     "text": [
      "100%|████████████████████████████████████████████████████████████████████████████████████| 1/1 [00:00<00:00,  1.86it/s]\n"
     ]
    },
    {
     "name": "stdout",
     "output_type": "stream",
     "text": [
      "Iter 0 - Epoch 0 - Client Type: Benign - Client Number 11 - Poison Training False\n"
     ]
    },
    {
     "name": "stderr",
     "output_type": "stream",
     "text": [
      "100%|████████████████████████████████████████████████████████████████████████████████████| 2/2 [00:01<00:00,  1.50it/s]\n"
     ]
    },
    {
     "name": "stdout",
     "output_type": "stream",
     "text": [
      "Iter 0 - Epoch 0 - Client Type: Benign - Client Number 12 - Poison Training False\n"
     ]
    },
    {
     "name": "stderr",
     "output_type": "stream",
     "text": [
      "100%|████████████████████████████████████████████████████████████████████████████████████| 1/1 [00:00<00:00,  1.49it/s]\n"
     ]
    },
    {
     "name": "stdout",
     "output_type": "stream",
     "text": [
      "Iter 0 - Epoch 0 - Client Type: Benign - Client Number 13 - Poison Training False\n"
     ]
    },
    {
     "name": "stderr",
     "output_type": "stream",
     "text": [
      "100%|████████████████████████████████████████████████████████████████████████████████████| 2/2 [00:01<00:00,  1.10it/s]\n"
     ]
    },
    {
     "name": "stdout",
     "output_type": "stream",
     "text": [
      "Iter 0 - Epoch 0 - Client Type: Benign - Client Number 14 - Poison Training False\n"
     ]
    },
    {
     "name": "stderr",
     "output_type": "stream",
     "text": [
      "100%|████████████████████████████████████████████████████████████████████████████████████| 1/1 [00:00<00:00,  1.27it/s]\n"
     ]
    },
    {
     "name": "stdout",
     "output_type": "stream",
     "text": [
      "Iter 0 - Epoch 0 - Client Type: Benign - Client Number 15 - Poison Training False\n"
     ]
    },
    {
     "name": "stderr",
     "output_type": "stream",
     "text": [
      "100%|████████████████████████████████████████████████████████████████████████████████████| 2/2 [00:01<00:00,  1.60it/s]\n"
     ]
    },
    {
     "name": "stdout",
     "output_type": "stream",
     "text": [
      "Iter 0 - Epoch 0 - Client Type: Benign - Client Number 16 - Poison Training False\n"
     ]
    },
    {
     "name": "stderr",
     "output_type": "stream",
     "text": [
      "100%|████████████████████████████████████████████████████████████████████████████████████| 2/2 [00:01<00:00,  1.42it/s]\n"
     ]
    },
    {
     "name": "stdout",
     "output_type": "stream",
     "text": [
      "Iter 0 - Epoch 0 - Client Type: Benign - Client Number 17 - Poison Training False\n"
     ]
    },
    {
     "name": "stderr",
     "output_type": "stream",
     "text": [
      "100%|████████████████████████████████████████████████████████████████████████████████████| 1/1 [00:00<00:00,  1.27it/s]\n"
     ]
    },
    {
     "name": "stdout",
     "output_type": "stream",
     "text": [
      "Iter 0 - Epoch 0 - Client Type: Benign - Client Number 18 - Poison Training False\n"
     ]
    },
    {
     "name": "stderr",
     "output_type": "stream",
     "text": [
      "100%|████████████████████████████████████████████████████████████████████████████████████| 1/1 [00:00<00:00,  1.35it/s]\n"
     ]
    },
    {
     "name": "stdout",
     "output_type": "stream",
     "text": [
      "Iter 0 - Epoch 0 - Client Type: Benign - Client Number 19 - Poison Training False\n"
     ]
    },
    {
     "name": "stderr",
     "output_type": "stream",
     "text": [
      "100%|████████████████████████████████████████████████████████████████████████████████████| 1/1 [00:00<00:00,  1.11it/s]\n"
     ]
    },
    {
     "name": "stdout",
     "output_type": "stream",
     "text": [
      "Original Copylist [9, 1, 4, 9, 6, 7, 5, 6, 2, 0, 8, 3, 9, 5, 6, 4, 0, 9, 9, 6]\n",
      "Found clusters [4 0 2 4 1 7 3 1 0 8 6 9 4 3 1 2 5 4 4 1]\n",
      "Original groups [array([ 9, 16], dtype=int64), array([1], dtype=int64), array([8], dtype=int64), array([11], dtype=int64), array([ 2, 15], dtype=int64), array([ 6, 13], dtype=int64), array([ 4,  7, 14, 19], dtype=int64), array([5], dtype=int64), array([10], dtype=int64), array([ 0,  3, 12, 17, 18], dtype=int64)]\n",
      "Clustered groups [array([1, 8], dtype=int64), array([ 4,  7, 14, 19], dtype=int64), array([ 2, 15], dtype=int64), array([ 6, 13], dtype=int64), array([ 0,  3, 12, 17, 18], dtype=int64), array([16], dtype=int64), array([10], dtype=int64), array([5], dtype=int64), array([9], dtype=int64), array([11], dtype=int64)]\n",
      "Clustering score 0.9415204678362573\n",
      "3\n",
      "[[1.00000993 0.24790736 0.28043595 0.99887782 0.16484916 0.36398742\n",
      "  0.21298319 0.16869343 0.49225077 0.40731793 0.47166337 0.43118712\n",
      "  0.99875734 0.20317458 0.17381002 0.28249558 0.41386831 0.9988446\n",
      "  0.99923807 0.16744426]\n",
      " [0.24790736 1.00000962 0.66610688 0.24256674 0.47201854 0.22994867\n",
      "  0.33793287 0.48038617 0.44618209 0.26627787 0.40620814 0.6757377\n",
      "  0.2433296  0.32753857 0.47764513 0.66892221 0.23518517 0.24963467\n",
      "  0.25093058 0.47092564]\n",
      " [0.28043594 0.66610688 1.0000114  0.27400888 0.46017327 0.18166878\n",
      "  0.35632857 0.47099886 0.28086756 0.15176403 0.42493784 0.61839585\n",
      "  0.27522687 0.34420488 0.4672546  0.99843623 0.1522101  0.27939445\n",
      "  0.28132364 0.46289489]\n",
      " [0.99887786 0.24256674 0.27400888 1.00000731 0.16341472 0.3534623\n",
      "  0.20296365 0.16744184 0.48733999 0.40341684 0.46606378 0.42665007\n",
      "  0.99913565 0.19321728 0.17228901 0.27605009 0.41081865 0.99906588\n",
      "  0.99906572 0.1658886 ]\n",
      " [0.16484916 0.47201856 0.46017326 0.16341474 1.00000203 0.11100273\n",
      "  0.35374881 0.99557203 0.23651135 0.41350635 0.2278211  0.2418449\n",
      "  0.16261993 0.34310053 0.99815154 0.46290526 0.41937633 0.16936104\n",
      "  0.16507966 0.99873767]\n",
      " [0.36398741 0.22994867 0.18166876 0.35346231 0.11100274 1.0000058\n",
      "  0.51533272 0.10565219 0.41137802 0.56918742 0.57880379 0.36344443\n",
      "  0.35640799 0.52050702 0.10997351 0.18703951 0.48722533 0.36233651\n",
      "  0.35928976 0.11055601]\n",
      " [0.2129832  0.33793287 0.35632856 0.20296365 0.35374881 0.51533276\n",
      "  1.00000489 0.34148368 0.18363433 0.39913453 0.27795876 0.32531477\n",
      "  0.20540663 0.9955036  0.34740778 0.35855709 0.39596031 0.20804509\n",
      "  0.20730734 0.35865062]\n",
      " [0.16869343 0.48038619 0.47099885 0.16744186 0.99557203 0.10565219\n",
      "  0.34148367 1.0000054  0.249662   0.40310185 0.24004131 0.25205444\n",
      "  0.16674143 0.33116421 0.9971601  0.47369499 0.40728697 0.1734697\n",
      "  0.16932342 0.99511121]\n",
      " [0.49225075 0.44618207 0.28086756 0.48734001 0.23651136 0.41137804\n",
      "  0.18363433 0.24966197 1.0000097  0.31805657 0.45891562 0.42049373\n",
      "  0.48666966 0.18032224 0.2505666  0.27897378 0.29404941 0.49625199\n",
      "  0.49341372 0.23890731]\n",
      " [0.40731792 0.26627787 0.15176403 0.40341683 0.41350635 0.56918742\n",
      "  0.39913453 0.40310184 0.31805658 1.00000362 0.38402929 0.2795906\n",
      "  0.40421394 0.39182154 0.41080924 0.15703077 0.85717014 0.41068377\n",
      "  0.40375839 0.41380497]\n",
      " [0.47166341 0.40620816 0.42493784 0.46606376 0.2278211  0.57880379\n",
      "  0.27795876 0.24004132 0.45891564 0.3840293  1.00002245 0.50291087\n",
      "  0.47042739 0.27457133 0.23896294 0.42900207 0.31745467 0.47139682\n",
      "  0.47352994 0.23097768]\n",
      " [0.43118713 0.67573772 0.61839583 0.42665007 0.2418449  0.36344443\n",
      "  0.32531477 0.25205444 0.42049375 0.27959061 0.50291086 1.00002007\n",
      "  0.42597119 0.3171165  0.24837309 0.6222893  0.25741636 0.43386876\n",
      "  0.43289914 0.23795197]\n",
      " [0.99875734 0.24332961 0.27522689 0.99913567 0.16261992 0.35640799\n",
      "  0.20540663 0.16674142 0.4866697  0.40421396 0.47042739 0.42597117\n",
      "  1.00001033 0.19555913 0.17179989 0.27705824 0.41086864 0.99875993\n",
      "  0.99912006 0.16515745]\n",
      " [0.2031746  0.32753857 0.34420489 0.19321727 0.34310051 0.52050703\n",
      "  0.99550358 0.33116421 0.18032224 0.39182155 0.27457134 0.3171165\n",
      "  0.19555912 1.00000413 0.3369292  0.34621646 0.393468   0.19830136\n",
      "  0.19767829 0.3480097 ]\n",
      " [0.17381002 0.47764516 0.46725461 0.17228902 0.99815152 0.10997351\n",
      "  0.34740777 0.99716014 0.2505666  0.41080926 0.23896294 0.24837309\n",
      "  0.1717999  0.33692919 1.00000501 0.46976621 0.41770601 0.17831926\n",
      "  0.1741909  0.99806585]\n",
      " [0.28249558 0.66892221 0.99843623 0.27605011 0.46290525 0.18703951\n",
      "  0.35855708 0.47369499 0.27897378 0.15703077 0.42900207 0.62228928\n",
      "  0.27705824 0.34621646 0.46976622 1.00001272 0.15568346 0.28136258\n",
      "  0.28340231 0.46546798]\n",
      " [0.41386831 0.23518516 0.1522101  0.41081866 0.41937632 0.48722532\n",
      "  0.39596029 0.40728699 0.29404941 0.85717014 0.31745466 0.25741634\n",
      "  0.41086864 0.39346799 0.41770601 0.15568346 1.00000489 0.41635992\n",
      "  0.41054992 0.42111171]\n",
      " [0.99884456 0.24963468 0.27939444 0.99906584 0.16936104 0.36233652\n",
      "  0.20804509 0.17346969 0.49625199 0.41068377 0.47139682 0.43386878\n",
      "  0.99875997 0.19830136 0.17831927 0.28136258 0.41635992 1.00000858\n",
      "  0.99893252 0.17176882]\n",
      " [0.99923813 0.25093058 0.28132365 0.99906572 0.16507966 0.35928976\n",
      "  0.20730734 0.16932341 0.49341374 0.40375838 0.47352994 0.43289914\n",
      "  0.99912006 0.19767829 0.1741909  0.28340231 0.41054993 0.9989325\n",
      "  1.00001017 0.16751136]\n",
      " [0.16744425 0.47092564 0.46289489 0.1658886  0.99873769 0.11055601\n",
      "  0.35865063 0.99511119 0.23890731 0.41380496 0.23097768 0.23795198\n",
      "  0.16515746 0.3480097  0.99806587 0.46546795 0.42111171 0.17176882\n",
      "  0.16751136 1.00000298]]\n",
      "Original Copylist [9, 1, 4, 9, 6, 7, 5, 6, 2, 0, 8, 3, 9, 5, 6, 4, 0, 9, 9, 6]\n",
      "Found clusters [4 9 3 4 2 7 1 2 6 0 5 8 4 1 2 3 0 4 4 2]\n",
      "Original groups [array([ 9, 16], dtype=int64), array([1], dtype=int64), array([8], dtype=int64), array([11], dtype=int64), array([ 2, 15], dtype=int64), array([ 6, 13], dtype=int64), array([ 4,  7, 14, 19], dtype=int64), array([5], dtype=int64), array([10], dtype=int64), array([ 0,  3, 12, 17, 18], dtype=int64)]\n",
      "Clustered groups [array([ 9, 16], dtype=int64), array([ 6, 13], dtype=int64), array([ 4,  7, 14, 19], dtype=int64), array([ 2, 15], dtype=int64), array([ 0,  3, 12, 17, 18], dtype=int64), array([10], dtype=int64), array([8], dtype=int64), array([5], dtype=int64), array([11], dtype=int64), array([1], dtype=int64)]\n",
      "Clustering score 1.0\n",
      "\n",
      "\n",
      " Entering epoch 3\n",
      "Iter 0 - Epoch 0 - Client Type: Benign - Client Number 0 - Poison Training False\n"
     ]
    },
    {
     "name": "stderr",
     "output_type": "stream",
     "text": [
      "100%|████████████████████████████████████████████████████████████████████████████████████| 1/1 [00:00<00:00,  1.32it/s]\n"
     ]
    },
    {
     "name": "stdout",
     "output_type": "stream",
     "text": [
      "Iter 0 - Epoch 0 - Client Type: Benign - Client Number 1 - Poison Training False\n"
     ]
    },
    {
     "name": "stderr",
     "output_type": "stream",
     "text": [
      "100%|████████████████████████████████████████████████████████████████████████████████████| 2/2 [00:02<00:00,  1.06s/it]\n"
     ]
    },
    {
     "name": "stdout",
     "output_type": "stream",
     "text": [
      "Iter 0 - Epoch 0 - Client Type: Benign - Client Number 2 - Poison Training False\n"
     ]
    },
    {
     "name": "stderr",
     "output_type": "stream",
     "text": [
      "100%|████████████████████████████████████████████████████████████████████████████████████| 2/2 [00:01<00:00,  1.31it/s]\n"
     ]
    },
    {
     "name": "stdout",
     "output_type": "stream",
     "text": [
      "Iter 0 - Epoch 0 - Client Type: Benign - Client Number 3 - Poison Training False\n"
     ]
    },
    {
     "name": "stderr",
     "output_type": "stream",
     "text": [
      "100%|████████████████████████████████████████████████████████████████████████████████████| 1/1 [00:00<00:00,  1.27it/s]\n"
     ]
    },
    {
     "name": "stdout",
     "output_type": "stream",
     "text": [
      "Iter 0 - Epoch 0 - Client Type: Benign - Client Number 4 - Poison Training False\n"
     ]
    },
    {
     "name": "stderr",
     "output_type": "stream",
     "text": [
      "100%|████████████████████████████████████████████████████████████████████████████████████| 1/1 [00:01<00:00,  1.06s/it]\n"
     ]
    },
    {
     "name": "stdout",
     "output_type": "stream",
     "text": [
      "Iter 0 - Epoch 0 - Client Type: Benign - Client Number 5 - Poison Training False\n"
     ]
    },
    {
     "name": "stderr",
     "output_type": "stream",
     "text": [
      "100%|████████████████████████████████████████████████████████████████████████████████████| 1/1 [00:01<00:00,  1.01s/it]\n"
     ]
    },
    {
     "name": "stdout",
     "output_type": "stream",
     "text": [
      "Iter 0 - Epoch 0 - Client Type: Benign - Client Number 6 - Poison Training False\n"
     ]
    },
    {
     "name": "stderr",
     "output_type": "stream",
     "text": [
      "100%|████████████████████████████████████████████████████████████████████████████████████| 2/2 [00:02<00:00,  1.05s/it]\n"
     ]
    },
    {
     "name": "stdout",
     "output_type": "stream",
     "text": [
      "Iter 0 - Epoch 0 - Client Type: Benign - Client Number 7 - Poison Training False\n"
     ]
    },
    {
     "name": "stderr",
     "output_type": "stream",
     "text": [
      "100%|████████████████████████████████████████████████████████████████████████████████████| 1/1 [00:00<00:00,  1.19it/s]\n"
     ]
    },
    {
     "name": "stdout",
     "output_type": "stream",
     "text": [
      "Iter 0 - Epoch 0 - Client Type: Benign - Client Number 8 - Poison Training False\n"
     ]
    },
    {
     "name": "stderr",
     "output_type": "stream",
     "text": [
      "100%|████████████████████████████████████████████████████████████████████████████████████| 1/1 [00:00<00:00,  1.11it/s]\n"
     ]
    },
    {
     "name": "stdout",
     "output_type": "stream",
     "text": [
      "Iter 0 - Epoch 0 - Client Type: Benign - Client Number 9 - Poison Training False\n"
     ]
    },
    {
     "name": "stderr",
     "output_type": "stream",
     "text": [
      "100%|████████████████████████████████████████████████████████████████████████████████████| 2/2 [00:01<00:00,  1.61it/s]\n"
     ]
    },
    {
     "name": "stdout",
     "output_type": "stream",
     "text": [
      "Iter 0 - Epoch 0 - Client Type: Benign - Client Number 10 - Poison Training False\n"
     ]
    },
    {
     "name": "stderr",
     "output_type": "stream",
     "text": [
      "100%|████████████████████████████████████████████████████████████████████████████████████| 1/1 [00:00<00:00,  2.11it/s]\n"
     ]
    },
    {
     "name": "stdout",
     "output_type": "stream",
     "text": [
      "Iter 0 - Epoch 0 - Client Type: Benign - Client Number 11 - Poison Training False\n"
     ]
    },
    {
     "name": "stderr",
     "output_type": "stream",
     "text": [
      "100%|████████████████████████████████████████████████████████████████████████████████████| 2/2 [00:01<00:00,  1.42it/s]\n"
     ]
    },
    {
     "name": "stdout",
     "output_type": "stream",
     "text": [
      "Iter 0 - Epoch 0 - Client Type: Benign - Client Number 12 - Poison Training False\n"
     ]
    },
    {
     "name": "stderr",
     "output_type": "stream",
     "text": [
      "100%|████████████████████████████████████████████████████████████████████████████████████| 1/1 [00:00<00:00,  1.35it/s]\n"
     ]
    },
    {
     "name": "stdout",
     "output_type": "stream",
     "text": [
      "Iter 0 - Epoch 0 - Client Type: Benign - Client Number 13 - Poison Training False\n"
     ]
    },
    {
     "name": "stderr",
     "output_type": "stream",
     "text": [
      "100%|████████████████████████████████████████████████████████████████████████████████████| 2/2 [00:02<00:00,  1.02s/it]\n"
     ]
    },
    {
     "name": "stdout",
     "output_type": "stream",
     "text": [
      "Iter 0 - Epoch 0 - Client Type: Benign - Client Number 14 - Poison Training False\n"
     ]
    },
    {
     "name": "stderr",
     "output_type": "stream",
     "text": [
      "100%|████████████████████████████████████████████████████████████████████████████████████| 1/1 [00:01<00:00,  1.01s/it]\n"
     ]
    },
    {
     "name": "stdout",
     "output_type": "stream",
     "text": [
      "Iter 0 - Epoch 0 - Client Type: Benign - Client Number 15 - Poison Training False\n"
     ]
    },
    {
     "name": "stderr",
     "output_type": "stream",
     "text": [
      "100%|████████████████████████████████████████████████████████████████████████████████████| 2/2 [00:01<00:00,  1.34it/s]\n"
     ]
    },
    {
     "name": "stdout",
     "output_type": "stream",
     "text": [
      "Iter 0 - Epoch 0 - Client Type: Benign - Client Number 16 - Poison Training False\n"
     ]
    },
    {
     "name": "stderr",
     "output_type": "stream",
     "text": [
      "100%|████████████████████████████████████████████████████████████████████████████████████| 2/2 [00:01<00:00,  1.32it/s]\n"
     ]
    },
    {
     "name": "stdout",
     "output_type": "stream",
     "text": [
      "Iter 0 - Epoch 0 - Client Type: Benign - Client Number 17 - Poison Training False\n"
     ]
    },
    {
     "name": "stderr",
     "output_type": "stream",
     "text": [
      "100%|████████████████████████████████████████████████████████████████████████████████████| 1/1 [00:00<00:00,  1.22it/s]\n"
     ]
    },
    {
     "name": "stdout",
     "output_type": "stream",
     "text": [
      "Iter 0 - Epoch 0 - Client Type: Benign - Client Number 18 - Poison Training False\n"
     ]
    },
    {
     "name": "stderr",
     "output_type": "stream",
     "text": [
      "100%|████████████████████████████████████████████████████████████████████████████████████| 1/1 [00:00<00:00,  1.26it/s]\n"
     ]
    },
    {
     "name": "stdout",
     "output_type": "stream",
     "text": [
      "Iter 0 - Epoch 0 - Client Type: Benign - Client Number 19 - Poison Training False\n"
     ]
    },
    {
     "name": "stderr",
     "output_type": "stream",
     "text": [
      "100%|████████████████████████████████████████████████████████████████████████████████████| 1/1 [00:01<00:00,  1.05s/it]\n"
     ]
    },
    {
     "name": "stdout",
     "output_type": "stream",
     "text": [
      "Original Copylist [9, 1, 4, 9, 6, 7, 5, 6, 2, 0, 8, 3, 9, 5, 6, 4, 0, 9, 9, 6]\n",
      "Found clusters [4 8 1 4 5 6 2 5 7 0 3 9 4 2 5 1 0 4 4 5]\n",
      "Original groups [array([ 9, 16], dtype=int64), array([1], dtype=int64), array([8], dtype=int64), array([11], dtype=int64), array([ 2, 15], dtype=int64), array([ 6, 13], dtype=int64), array([ 4,  7, 14, 19], dtype=int64), array([5], dtype=int64), array([10], dtype=int64), array([ 0,  3, 12, 17, 18], dtype=int64)]\n",
      "Clustered groups [array([ 9, 16], dtype=int64), array([ 2, 15], dtype=int64), array([ 6, 13], dtype=int64), array([10], dtype=int64), array([ 0,  3, 12, 17, 18], dtype=int64), array([ 4,  7, 14, 19], dtype=int64), array([5], dtype=int64), array([8], dtype=int64), array([1], dtype=int64), array([11], dtype=int64)]\n",
      "Clustering score 1.0\n",
      "4\n",
      "[[1.00000933 0.28257538 0.31455471 0.99878024 0.17598897 0.36799444\n",
      "  0.26579042 0.18336391 0.5130882  0.40512961 0.51086793 0.49137955\n",
      "  0.9986427  0.26665865 0.18588405 0.3168645  0.41655299 0.99878593\n",
      "  0.99917257 0.17781746]\n",
      " [0.28257539 1.00000927 0.65166819 0.27763613 0.44244397 0.23471277\n",
      "  0.3538164  0.45701987 0.50084375 0.28829895 0.45611486 0.65986384\n",
      "  0.27837058 0.35839912 0.44995975 0.65465194 0.28049723 0.28497299\n",
      "  0.28632762 0.440912  ]\n",
      " [0.3145547  0.65166819 1.00001049 0.30818273 0.43850537 0.18882562\n",
      "  0.3939629  0.45662854 0.32178514 0.18276012 0.46942445 0.60438785\n",
      "  0.30931705 0.40029395 0.4490384  0.99820188 0.17014893 0.3138841\n",
      "  0.31579701 0.43922213]\n",
      " [0.99878028 0.27763614 0.30818273 1.00000685 0.17413293 0.35651082\n",
      "  0.25574236 0.18173572 0.50740986 0.39981948 0.5051903  0.48688658\n",
      "  0.99907398 0.25702914 0.18397528 0.31046651 0.41268116 0.99901681\n",
      "  0.99900439 0.17586936]\n",
      " [0.17598897 0.44244399 0.43850536 0.17413295 1.000002   0.16293947\n",
      "  0.40060902 0.99392024 0.22205815 0.44239475 0.2238826  0.21972138\n",
      "  0.17320583 0.39731798 0.99757925 0.44117878 0.43118134 0.17920766\n",
      "  0.17526628 0.9984895 ]\n",
      " [0.36799443 0.23471277 0.18882561 0.35651083 0.16293947 1.00000516\n",
      "  0.53124192 0.15529034 0.39536875 0.59544417 0.52730305 0.35614192\n",
      "  0.35956717 0.52502967 0.15997065 0.19391112 0.51110405 0.36503828\n",
      "  0.36237308 0.16255762]\n",
      " [0.26579043 0.3538164  0.3939629  0.25574237 0.40060902 0.53124195\n",
      "  1.00000501 0.39257439 0.22938639 0.44105179 0.30851961 0.34137889\n",
      "  0.25727215 0.98971364 0.39465858 0.39676821 0.42687918 0.26089169\n",
      "  0.25993499 0.4034753 ]\n",
      " [0.18336391 0.45701989 0.45662854 0.18173573 0.99392022 0.15529034\n",
      "  0.39257437 1.00000474 0.24058081 0.43248326 0.24443993 0.23732481\n",
      "  0.18088039 0.39147834 0.9962478  0.45939847 0.41774165 0.18695657\n",
      "  0.18319767 0.99306403]\n",
      " [0.51308819 0.50084375 0.32178513 0.50740987 0.22205816 0.39536877\n",
      "  0.22938639 0.24058079 1.0000087  0.31971154 0.5100998  0.46293577\n",
      "  0.50690413 0.23297515 0.23715976 0.31984053 0.3110964  0.51588842\n",
      "  0.51435944 0.22405535]\n",
      " [0.4051296  0.28829895 0.18276012 0.39981948 0.44239475 0.59544417\n",
      "  0.44105177 0.43248327 0.31971156 1.0000037  0.3922962  0.29997332\n",
      "  0.40048748 0.43440841 0.43888338 0.18785834 0.83167043 0.4066283\n",
      "  0.40074503 0.44182505]\n",
      " [0.51086795 0.45611486 0.46942445 0.50519028 0.2238826  0.52730305\n",
      "  0.30851961 0.24443993 0.51009982 0.39229621 1.00002134 0.53962156\n",
      "  0.50912697 0.32613799 0.23771606 0.4739735  0.32299864 0.51041999\n",
      "  0.51337965 0.22558798]\n",
      " [0.49137955 0.65986384 0.60438783 0.48688658 0.21972137 0.35614192\n",
      "  0.34137889 0.23732481 0.46293578 0.29997333 0.53962154 1.00001752\n",
      "  0.48658613 0.35052067 0.22929631 0.60851531 0.28569521 0.49453939\n",
      "  0.4937976  0.21524161]\n",
      " [0.99864271 0.27837058 0.30931706 0.99907398 0.17320583 0.35956717\n",
      "  0.25727215 0.18088038 0.50690416 0.4004875  0.50912698 0.48658612\n",
      "  1.00000837 0.258394   0.18337283 0.31138238 0.41283776 0.99871482\n",
      "  0.99906315 0.17498657]\n",
      " [0.26665866 0.35839912 0.40029395 0.25702913 0.39731796 0.52502967\n",
      "  0.98971364 0.39147834 0.23297515 0.43440842 0.326138   0.35052066\n",
      "  0.25839399 1.00000381 0.3925336  0.40313758 0.41803031 0.26218401\n",
      "  0.26134525 0.39987586]\n",
      " [0.18588405 0.44995976 0.44903841 0.18397528 0.99757923 0.15997065\n",
      "  0.39465857 0.99624783 0.23715976 0.43888339 0.23771606 0.22929631\n",
      "  0.18337284 0.39253359 1.00000465 0.45152777 0.42623626 0.18913075\n",
      "  0.18537778 0.99731351]\n",
      " [0.3168645  0.65465192 0.99820188 0.31046653 0.44117878 0.19391112\n",
      "  0.39676819 0.45939847 0.31984053 0.18785833 0.4739735  0.60851529\n",
      "  0.31138238 0.40313758 0.45152779 1.00001207 0.17358049 0.3160961\n",
      "  0.31812729 0.44173816]\n",
      " [0.41655299 0.28049723 0.17014893 0.41268117 0.43118133 0.51110405\n",
      "  0.42687917 0.41774166 0.31109639 0.83167043 0.32299864 0.28569519\n",
      "  0.41283776 0.4180303  0.42623626 0.17358049 1.00000545 0.41817572\n",
      "  0.4128684  0.43233818]\n",
      " [0.9987859  0.284973   0.3138841  0.99901679 0.17920765 0.36503828\n",
      "  0.26089169 0.18695656 0.51588842 0.40662831 0.51041999 0.49453942\n",
      "  0.99871485 0.262184   0.18913076 0.3160961  0.41817572 1.00000703\n",
      "  0.9988974  0.18087321]\n",
      " [0.99917261 0.28632762 0.31579703 0.99900441 0.17526628 0.36237308\n",
      "  0.259935   0.18319767 0.51435945 0.40074502 0.51337965 0.4937976\n",
      "  0.99906313 0.26134524 0.18537778 0.31812728 0.4128684  0.99889737\n",
      "  1.00000829 0.17691578]\n",
      " [0.17781745 0.44091199 0.43922212 0.17586936 0.99848951 0.16255762\n",
      "  0.40347531 0.99306402 0.22405535 0.44182505 0.22558797 0.21524162\n",
      "  0.17498658 0.39987586 0.99731354 0.44173814 0.43233818 0.18087321\n",
      "  0.17691577 1.00000364]]\n",
      "Original Copylist [9, 1, 4, 9, 6, 7, 5, 6, 2, 0, 8, 3, 9, 5, 6, 4, 0, 9, 9, 6]\n",
      "Found clusters [8 9 3 8 1 7 2 1 6 0 5 4 8 2 1 3 0 8 8 1]\n",
      "Original groups [array([ 9, 16], dtype=int64), array([1], dtype=int64), array([8], dtype=int64), array([11], dtype=int64), array([ 2, 15], dtype=int64), array([ 6, 13], dtype=int64), array([ 4,  7, 14, 19], dtype=int64), array([5], dtype=int64), array([10], dtype=int64), array([ 0,  3, 12, 17, 18], dtype=int64)]\n",
      "Clustered groups [array([ 9, 16], dtype=int64), array([ 4,  7, 14, 19], dtype=int64), array([ 6, 13], dtype=int64), array([ 2, 15], dtype=int64), array([11], dtype=int64), array([10], dtype=int64), array([8], dtype=int64), array([5], dtype=int64), array([ 0,  3, 12, 17, 18], dtype=int64), array([1], dtype=int64)]\n",
      "Clustering score 1.0\n",
      "\n",
      "\n",
      " Entering epoch 4\n",
      "Iter 0 - Epoch 0 - Client Type: Benign - Client Number 0 - Poison Training False\n"
     ]
    },
    {
     "name": "stderr",
     "output_type": "stream",
     "text": [
      "100%|████████████████████████████████████████████████████████████████████████████████████| 1/1 [00:00<00:00,  1.38it/s]\n"
     ]
    },
    {
     "name": "stdout",
     "output_type": "stream",
     "text": [
      "Iter 0 - Epoch 0 - Client Type: Benign - Client Number 1 - Poison Training False\n"
     ]
    },
    {
     "name": "stderr",
     "output_type": "stream",
     "text": [
      "100%|████████████████████████████████████████████████████████████████████████████████████| 2/2 [00:02<00:00,  1.02s/it]\n"
     ]
    },
    {
     "name": "stdout",
     "output_type": "stream",
     "text": [
      "Iter 0 - Epoch 0 - Client Type: Benign - Client Number 2 - Poison Training False\n"
     ]
    },
    {
     "name": "stderr",
     "output_type": "stream",
     "text": [
      "100%|████████████████████████████████████████████████████████████████████████████████████| 2/2 [00:01<00:00,  1.42it/s]\n"
     ]
    },
    {
     "name": "stdout",
     "output_type": "stream",
     "text": [
      "Iter 0 - Epoch 0 - Client Type: Benign - Client Number 3 - Poison Training False\n"
     ]
    },
    {
     "name": "stderr",
     "output_type": "stream",
     "text": [
      "100%|████████████████████████████████████████████████████████████████████████████████████| 1/1 [00:00<00:00,  1.39it/s]\n"
     ]
    },
    {
     "name": "stdout",
     "output_type": "stream",
     "text": [
      "Iter 0 - Epoch 0 - Client Type: Benign - Client Number 4 - Poison Training False\n"
     ]
    },
    {
     "name": "stderr",
     "output_type": "stream",
     "text": [
      "100%|████████████████████████████████████████████████████████████████████████████████████| 1/1 [00:00<00:00,  1.02it/s]\n"
     ]
    },
    {
     "name": "stdout",
     "output_type": "stream",
     "text": [
      "Iter 0 - Epoch 0 - Client Type: Benign - Client Number 5 - Poison Training False\n"
     ]
    },
    {
     "name": "stderr",
     "output_type": "stream",
     "text": [
      "100%|████████████████████████████████████████████████████████████████████████████████████| 1/1 [00:01<00:00,  1.21s/it]\n"
     ]
    },
    {
     "name": "stdout",
     "output_type": "stream",
     "text": [
      "Iter 0 - Epoch 0 - Client Type: Benign - Client Number 6 - Poison Training False\n"
     ]
    },
    {
     "name": "stderr",
     "output_type": "stream",
     "text": [
      "100%|████████████████████████████████████████████████████████████████████████████████████| 2/2 [00:02<00:00,  1.07s/it]\n"
     ]
    },
    {
     "name": "stdout",
     "output_type": "stream",
     "text": [
      "Iter 0 - Epoch 0 - Client Type: Benign - Client Number 7 - Poison Training False\n"
     ]
    },
    {
     "name": "stderr",
     "output_type": "stream",
     "text": [
      "100%|████████████████████████████████████████████████████████████████████████████████████| 1/1 [00:00<00:00,  1.05it/s]\n"
     ]
    },
    {
     "name": "stdout",
     "output_type": "stream",
     "text": [
      "Iter 0 - Epoch 0 - Client Type: Benign - Client Number 8 - Poison Training False\n"
     ]
    },
    {
     "name": "stderr",
     "output_type": "stream",
     "text": [
      "100%|████████████████████████████████████████████████████████████████████████████████████| 1/1 [00:01<00:00,  1.01s/it]\n"
     ]
    },
    {
     "name": "stdout",
     "output_type": "stream",
     "text": [
      "Iter 0 - Epoch 0 - Client Type: Benign - Client Number 9 - Poison Training False\n"
     ]
    },
    {
     "name": "stderr",
     "output_type": "stream",
     "text": [
      "100%|████████████████████████████████████████████████████████████████████████████████████| 2/2 [00:01<00:00,  1.43it/s]\n"
     ]
    },
    {
     "name": "stdout",
     "output_type": "stream",
     "text": [
      "Iter 0 - Epoch 0 - Client Type: Benign - Client Number 10 - Poison Training False\n"
     ]
    },
    {
     "name": "stderr",
     "output_type": "stream",
     "text": [
      "100%|████████████████████████████████████████████████████████████████████████████████████| 1/1 [00:00<00:00,  1.63it/s]\n"
     ]
    },
    {
     "name": "stdout",
     "output_type": "stream",
     "text": [
      "Iter 0 - Epoch 0 - Client Type: Benign - Client Number 11 - Poison Training False\n"
     ]
    },
    {
     "name": "stderr",
     "output_type": "stream",
     "text": [
      "100%|████████████████████████████████████████████████████████████████████████████████████| 2/2 [00:01<00:00,  1.30it/s]\n"
     ]
    },
    {
     "name": "stdout",
     "output_type": "stream",
     "text": [
      "Iter 0 - Epoch 0 - Client Type: Benign - Client Number 12 - Poison Training False\n"
     ]
    },
    {
     "name": "stderr",
     "output_type": "stream",
     "text": [
      "100%|████████████████████████████████████████████████████████████████████████████████████| 1/1 [00:00<00:00,  1.40it/s]\n"
     ]
    },
    {
     "name": "stdout",
     "output_type": "stream",
     "text": [
      "Iter 0 - Epoch 0 - Client Type: Benign - Client Number 13 - Poison Training False\n"
     ]
    },
    {
     "name": "stderr",
     "output_type": "stream",
     "text": [
      "100%|████████████████████████████████████████████████████████████████████████████████████| 2/2 [00:02<00:00,  1.08s/it]\n"
     ]
    },
    {
     "name": "stdout",
     "output_type": "stream",
     "text": [
      "Iter 0 - Epoch 0 - Client Type: Benign - Client Number 14 - Poison Training False\n"
     ]
    },
    {
     "name": "stderr",
     "output_type": "stream",
     "text": [
      "100%|████████████████████████████████████████████████████████████████████████████████████| 1/1 [00:00<00:00,  1.09it/s]\n"
     ]
    },
    {
     "name": "stdout",
     "output_type": "stream",
     "text": [
      "Iter 0 - Epoch 0 - Client Type: Benign - Client Number 15 - Poison Training False\n"
     ]
    },
    {
     "name": "stderr",
     "output_type": "stream",
     "text": [
      "100%|████████████████████████████████████████████████████████████████████████████████████| 2/2 [00:01<00:00,  1.38it/s]\n"
     ]
    },
    {
     "name": "stdout",
     "output_type": "stream",
     "text": [
      "Iter 0 - Epoch 0 - Client Type: Benign - Client Number 16 - Poison Training False\n"
     ]
    },
    {
     "name": "stderr",
     "output_type": "stream",
     "text": [
      "100%|████████████████████████████████████████████████████████████████████████████████████| 2/2 [00:01<00:00,  1.44it/s]\n"
     ]
    },
    {
     "name": "stdout",
     "output_type": "stream",
     "text": [
      "Iter 0 - Epoch 0 - Client Type: Benign - Client Number 17 - Poison Training False\n"
     ]
    },
    {
     "name": "stderr",
     "output_type": "stream",
     "text": [
      "100%|████████████████████████████████████████████████████████████████████████████████████| 1/1 [00:00<00:00,  1.33it/s]\n"
     ]
    },
    {
     "name": "stdout",
     "output_type": "stream",
     "text": [
      "Iter 0 - Epoch 0 - Client Type: Benign - Client Number 18 - Poison Training False\n"
     ]
    },
    {
     "name": "stderr",
     "output_type": "stream",
     "text": [
      "100%|████████████████████████████████████████████████████████████████████████████████████| 1/1 [00:00<00:00,  1.39it/s]\n"
     ]
    },
    {
     "name": "stdout",
     "output_type": "stream",
     "text": [
      "Iter 0 - Epoch 0 - Client Type: Benign - Client Number 19 - Poison Training False\n"
     ]
    },
    {
     "name": "stderr",
     "output_type": "stream",
     "text": [
      "100%|████████████████████████████████████████████████████████████████████████████████████| 1/1 [00:00<00:00,  1.03it/s]\n"
     ]
    },
    {
     "name": "stdout",
     "output_type": "stream",
     "text": [
      "Original Copylist [9, 1, 4, 9, 6, 7, 5, 6, 2, 0, 8, 3, 9, 5, 6, 4, 0, 9, 9, 6]\n",
      "Found clusters [6 7 4 6 2 9 1 2 8 0 3 5 6 1 2 4 0 6 6 2]\n",
      "Original groups [array([ 9, 16], dtype=int64), array([1], dtype=int64), array([8], dtype=int64), array([11], dtype=int64), array([ 2, 15], dtype=int64), array([ 6, 13], dtype=int64), array([ 4,  7, 14, 19], dtype=int64), array([5], dtype=int64), array([10], dtype=int64), array([ 0,  3, 12, 17, 18], dtype=int64)]\n",
      "Clustered groups [array([ 9, 16], dtype=int64), array([ 6, 13], dtype=int64), array([ 4,  7, 14, 19], dtype=int64), array([10], dtype=int64), array([ 2, 15], dtype=int64), array([11], dtype=int64), array([ 0,  3, 12, 17, 18], dtype=int64), array([1], dtype=int64), array([8], dtype=int64), array([5], dtype=int64)]\n",
      "Clustering score 1.0\n",
      "5\n",
      "[[1.00000811 0.29824556 0.33274801 0.9985833  0.18738199 0.35469597\n",
      "  0.28976959 0.19472358 0.5185779  0.40470747 0.52724945 0.52072243\n",
      "  0.99840684 0.29703879 0.19528752 0.33517817 0.41846444 0.99865603\n",
      "  0.99905134 0.18827506]\n",
      " [0.29824556 1.00000899 0.64570696 0.29384952 0.44097679 0.2366701\n",
      "  0.35600537 0.45241996 0.52654698 0.31129863 0.48651345 0.65446438\n",
      "  0.29432089 0.36534742 0.446817   0.65099715 0.30441619 0.30123259\n",
      "  0.30276194 0.4389659 ]\n",
      " [0.332748   0.64570696 1.00001044 0.32666878 0.4425872  0.19249035\n",
      "  0.40989466 0.45853248 0.33907042 0.20887914 0.49400733 0.59489269\n",
      "  0.32744543 0.42296692 0.45015242 0.99404151 0.18479343 0.33246144\n",
      "  0.33434837 0.44487119]\n",
      " [0.99858334 0.29384952 0.32666878 1.00000668 0.18518098 0.34182991\n",
      "  0.27927223 0.19272431 0.51244792 0.39838828 0.52200845 0.51650759\n",
      "  0.99894434 0.28734568 0.19305181 0.32925753 0.41363735 0.99892125\n",
      "  0.9988765  0.18597025]\n",
      " [0.18738199 0.4409768  0.44258719 0.185181   1.00000312 0.21350869\n",
      "  0.43562618 0.9915291  0.21824174 0.46303693 0.23473698 0.22923812\n",
      "  0.18428888 0.43482648 0.99630184 0.44583648 0.45040141 0.19008565\n",
      "  0.18620674 0.99795263]\n",
      " [0.35469596 0.2366701  0.19249035 0.34182992 0.21350869 1.00000482\n",
      "  0.55591999 0.20492406 0.37909364 0.6171573  0.4717939  0.34187476\n",
      "  0.34474648 0.54305452 0.20937392 0.1952353  0.539668   0.35013722\n",
      "  0.34776588 0.21141983]\n",
      " [0.28976959 0.35600538 0.40989465 0.27927224 0.43562618 0.55592002\n",
      "  1.00000486 0.43133073 0.24844074 0.47954692 0.31119256 0.341641\n",
      "  0.28013782 0.9858569  0.42875661 0.40982909 0.45669001 0.28456243\n",
      "  0.28327861 0.43652947]\n",
      " [0.19472358 0.45241997 0.45853248 0.19272432 0.99152907 0.20492405\n",
      "  0.4313307  1.00000424 0.23684453 0.45673478 0.25064872 0.24094958\n",
      "  0.19192023 0.43337501 0.99496239 0.46149409 0.43649659 0.19768443\n",
      "  0.19395409 0.98968569]\n",
      " [0.5185779  0.52654697 0.33907042 0.51244793 0.21824175 0.37909365\n",
      "  0.24844074 0.23684452 1.00000768 0.32487517 0.5293337  0.48135266\n",
      "  0.51174511 0.25419762 0.23452073 0.33752052 0.31754806 0.52049028\n",
      "  0.51979215 0.21820212]\n",
      " [0.40470746 0.31129863 0.20887915 0.39838828 0.46303693 0.6171573\n",
      "  0.47954692 0.45673479 0.32487518 1.00000341 0.39217792 0.31778796\n",
      "  0.39874222 0.47372931 0.45950204 0.21263554 0.82770326 0.40496041\n",
      "  0.39966661 0.4600087 ]\n",
      " [0.52724945 0.48651344 0.49400733 0.52200844 0.23473697 0.4717939\n",
      "  0.31119256 0.25064873 0.52933371 0.39217792 1.00001972 0.56019014\n",
      "  0.52536709 0.3367421  0.24538847 0.49976733 0.32278867 0.52699297\n",
      "  0.53056515 0.2361952 ]\n",
      " [0.52072243 0.65446438 0.59489268 0.51650758 0.22923812 0.34187477\n",
      "  0.341641   0.24094958 0.48135267 0.31778796 0.56019012 1.0000155\n",
      "  0.51623088 0.35896407 0.23534565 0.59869958 0.3016952  0.52439416\n",
      "  0.52374694 0.22454383]\n",
      " [0.99840686 0.29432089 0.32744544 0.99894434 0.18428888 0.34474648\n",
      "  0.28013783 0.19192023 0.51174513 0.39874223 0.52536709 0.51623087\n",
      "  1.00000858 0.288011   0.19252465 0.32993952 0.41350184 0.99860964\n",
      "  0.99894778 0.18507275]\n",
      " [0.2970388  0.36534742 0.42296693 0.28734567 0.43482647 0.54305453\n",
      "  0.9858569  0.43337499 0.25419762 0.47372932 0.33674211 0.35896407\n",
      "  0.28801099 1.00000448 0.42918234 0.4236016  0.44476879 0.29247898\n",
      "  0.29133569 0.43518187]\n",
      " [0.19528752 0.446817   0.45015242 0.19305181 0.99630183 0.20937392\n",
      "  0.4287566  0.99496243 0.23452073 0.45950205 0.24538847 0.23534565\n",
      "  0.19252466 0.42918233 1.00000374 0.45280242 0.44429451 0.19802907\n",
      "  0.19430201 0.9949849 ]\n",
      " [0.33517818 0.65099714 0.99404153 0.32925755 0.44583648 0.1952353\n",
      "  0.40982907 0.4614941  0.33752052 0.21263554 0.49976733 0.59869957\n",
      "  0.32993952 0.4236016  0.45280243 1.00001042 0.18723441 0.33499958\n",
      "  0.33703183 0.44794596]\n",
      " [0.41846444 0.30441619 0.18479343 0.41363735 0.45040139 0.53966802\n",
      "  0.45669    0.4364966  0.31754805 0.82770326 0.32278867 0.30169518\n",
      "  0.41350184 0.44476879 0.44429451 0.18723441 1.00000572 0.41897775\n",
      "  0.41409619 0.44895966]\n",
      " [0.99865602 0.30123259 0.33246143 0.99892124 0.19008564 0.35013722\n",
      "  0.28456244 0.19768443 0.52049028 0.40496041 0.52699297 0.52439418\n",
      "  0.99860965 0.29247897 0.19802908 0.33499958 0.41897775 1.00000668\n",
      "  0.9988142  0.19075661]\n",
      " [0.99905138 0.30276195 0.33434838 0.99887652 0.18620675 0.34776588\n",
      "  0.28327862 0.19395408 0.51979216 0.3996666  0.53056515 0.52374694\n",
      "  0.99894776 0.29133569 0.19430201 0.33703183 0.4140962  0.99881417\n",
      "  1.00000787 0.18690231]\n",
      " [0.18827506 0.43896589 0.44487118 0.18597025 0.99795264 0.21141984\n",
      "  0.43652948 0.98968569 0.21820212 0.46000871 0.2361952  0.22454384\n",
      "  0.18507275 0.43518187 0.99498494 0.44794595 0.44895966 0.19075661\n",
      "  0.1869023  1.00000372]]\n",
      "Original Copylist [9, 1, 4, 9, 6, 7, 5, 6, 2, 0, 8, 3, 9, 5, 6, 4, 0, 9, 9, 6]\n",
      "Found clusters [5 9 3 5 2 7 1 2 6 0 8 4 5 1 2 3 0 5 5 2]\n",
      "Original groups [array([ 9, 16], dtype=int64), array([1], dtype=int64), array([8], dtype=int64), array([11], dtype=int64), array([ 2, 15], dtype=int64), array([ 6, 13], dtype=int64), array([ 4,  7, 14, 19], dtype=int64), array([5], dtype=int64), array([10], dtype=int64), array([ 0,  3, 12, 17, 18], dtype=int64)]\n",
      "Clustered groups [array([ 9, 16], dtype=int64), array([ 6, 13], dtype=int64), array([ 4,  7, 14, 19], dtype=int64), array([ 2, 15], dtype=int64), array([11], dtype=int64), array([ 0,  3, 12, 17, 18], dtype=int64), array([8], dtype=int64), array([5], dtype=int64), array([10], dtype=int64), array([1], dtype=int64)]\n",
      "Clustering score 1.0\n",
      "Benign net distance [tensor(110.6625), tensor(147.4712), tensor(144.5427), tensor(112.2458), tensor(7.2911), tensor(86.5603), tensor(117.5600), tensor(15.4486), tensor(123.4359), tensor(114.3985), tensor(157.8062), tensor(185.9481), tensor(113.0903), tensor(120.7453), tensor(11.9707), tensor(147.7172), tensor(115.6079), tensor(112.0823), tensor(112.4850), tensor(0.)]\n",
      "Malicious net distance []\n",
      "cos_sim list  [tensor(0.2301), tensor(0.4312), tensor(0.4675), tensor(0.2264), tensor(0.9958), tensor(0.4069), tensor(0.5687), tensor(0.9762), tensor(0.1948), tensor(0.5327), tensor(0.2786), tensor(0.2618), tensor(0.2254), tensor(0.5764), tensor(0.9857), tensor(0.4728), tensor(0.5154), tensor(0.2303), tensor(0.2268), tensor(1.0000)]\n",
      "Norms of local gradients  [tensor(1.0234), tensor(1.6894), tensor(1.5525), tensor(1.0571), tensor(0.7920), tensor(0.7422), tensor(1.2670), tensor(0.8016), tensor(1.0362), tensor(1.2881), tensor(1.7826), tensor(1.9023), tensor(1.0614), tensor(1.3211), tensor(0.8012), tensor(1.6074), tensor(1.3074), tensor(1.0476), tensor(1.0484), tensor(0.8032)]\n",
      "\n",
      " Aggregating models\n",
      "Cosine Similarities:  [tensor(0.2301), tensor(0.4312), tensor(0.4675), tensor(0.2264), tensor(0.9958), tensor(0.4069), tensor(0.5687), tensor(0.9762), tensor(0.1948), tensor(0.5327), tensor(0.2786), tensor(0.2618), tensor(0.2254), tensor(0.5764), tensor(0.9857), tensor(0.4728), tensor(0.5154), tensor(0.2303), tensor(0.2268), tensor(1.0000)]\n",
      "Aggregation Weights:  [0.01842097 0.02091104 0.02466884 0.01754542 0.10300682 0.04491477\n",
      " 0.03677609 0.09976935 0.01540133 0.033886   0.01280587 0.01127318\n",
      " 0.01740048 0.03574581 0.10078827 0.02409777 0.0323     0.01800985\n",
      " 0.0177269  0.10200491]\n",
      "\n",
      "\n",
      "\n",
      "Aggregate test at iter  0\n"
     ]
    },
    {
     "name": "stderr",
     "output_type": "stream",
     "text": [
      "100%|██████████████████████████████████████████████████████████████████████████████████| 10/10 [00:02<00:00,  4.41it/s]\n"
     ]
    },
    {
     "name": "stdout",
     "output_type": "stream",
     "text": [
      "\n",
      "Test set: Avg. loss: 0.0020, Accuracy: 3417/10000 (34%)\n",
      "\n",
      "\n",
      "\n",
      " Entering epoch 0\n",
      "Iter 1 - Epoch 0 - Client Type: Benign - Client Number 0 - Poison Training False\n"
     ]
    },
    {
     "name": "stderr",
     "output_type": "stream",
     "text": [
      "100%|████████████████████████████████████████████████████████████████████████████████████| 1/1 [00:00<00:00,  1.29it/s]\n"
     ]
    },
    {
     "name": "stdout",
     "output_type": "stream",
     "text": [
      "Iter 1 - Epoch 0 - Client Type: Benign - Client Number 1 - Poison Training False\n"
     ]
    },
    {
     "name": "stderr",
     "output_type": "stream",
     "text": [
      "100%|████████████████████████████████████████████████████████████████████████████████████| 2/2 [00:01<00:00,  1.06it/s]\n"
     ]
    },
    {
     "name": "stdout",
     "output_type": "stream",
     "text": [
      "Iter 1 - Epoch 0 - Client Type: Benign - Client Number 2 - Poison Training False\n"
     ]
    },
    {
     "name": "stderr",
     "output_type": "stream",
     "text": [
      "100%|████████████████████████████████████████████████████████████████████████████████████| 2/2 [00:01<00:00,  1.71it/s]\n"
     ]
    },
    {
     "name": "stdout",
     "output_type": "stream",
     "text": [
      "Iter 1 - Epoch 0 - Client Type: Benign - Client Number 3 - Poison Training False\n"
     ]
    },
    {
     "name": "stderr",
     "output_type": "stream",
     "text": [
      "100%|████████████████████████████████████████████████████████████████████████████████████| 1/1 [00:00<00:00,  1.22it/s]\n"
     ]
    },
    {
     "name": "stdout",
     "output_type": "stream",
     "text": [
      "Iter 1 - Epoch 0 - Client Type: Benign - Client Number 4 - Poison Training False\n"
     ]
    },
    {
     "name": "stderr",
     "output_type": "stream",
     "text": [
      "100%|████████████████████████████████████████████████████████████████████████████████████| 1/1 [00:00<00:00,  1.14it/s]\n"
     ]
    },
    {
     "name": "stdout",
     "output_type": "stream",
     "text": [
      "Iter 1 - Epoch 0 - Client Type: Benign - Client Number 5 - Poison Training False\n"
     ]
    },
    {
     "name": "stderr",
     "output_type": "stream",
     "text": [
      "100%|████████████████████████████████████████████████████████████████████████████████████| 1/1 [00:01<00:00,  1.03s/it]\n"
     ]
    },
    {
     "name": "stdout",
     "output_type": "stream",
     "text": [
      "Iter 1 - Epoch 0 - Client Type: Benign - Client Number 6 - Poison Training False\n"
     ]
    },
    {
     "name": "stderr",
     "output_type": "stream",
     "text": [
      "100%|████████████████████████████████████████████████████████████████████████████████████| 2/2 [00:02<00:00,  1.04s/it]\n"
     ]
    },
    {
     "name": "stdout",
     "output_type": "stream",
     "text": [
      "Iter 1 - Epoch 0 - Client Type: Benign - Client Number 7 - Poison Training False\n"
     ]
    },
    {
     "name": "stderr",
     "output_type": "stream",
     "text": [
      "100%|████████████████████████████████████████████████████████████████████████████████████| 1/1 [00:00<00:00,  1.04it/s]\n"
     ]
    },
    {
     "name": "stdout",
     "output_type": "stream",
     "text": [
      "Iter 1 - Epoch 0 - Client Type: Benign - Client Number 8 - Poison Training False\n"
     ]
    },
    {
     "name": "stderr",
     "output_type": "stream",
     "text": [
      "100%|████████████████████████████████████████████████████████████████████████████████████| 1/1 [00:01<00:00,  1.01s/it]\n"
     ]
    },
    {
     "name": "stdout",
     "output_type": "stream",
     "text": [
      "Iter 1 - Epoch 0 - Client Type: Benign - Client Number 9 - Poison Training False\n"
     ]
    },
    {
     "name": "stderr",
     "output_type": "stream",
     "text": [
      "100%|████████████████████████████████████████████████████████████████████████████████████| 2/2 [00:01<00:00,  1.37it/s]\n"
     ]
    },
    {
     "name": "stdout",
     "output_type": "stream",
     "text": [
      "Iter 1 - Epoch 0 - Client Type: Benign - Client Number 10 - Poison Training False\n"
     ]
    },
    {
     "name": "stderr",
     "output_type": "stream",
     "text": [
      "100%|████████████████████████████████████████████████████████████████████████████████████| 1/1 [00:00<00:00,  1.59it/s]\n"
     ]
    },
    {
     "name": "stdout",
     "output_type": "stream",
     "text": [
      "Iter 1 - Epoch 0 - Client Type: Benign - Client Number 11 - Poison Training False\n"
     ]
    },
    {
     "name": "stderr",
     "output_type": "stream",
     "text": [
      "100%|████████████████████████████████████████████████████████████████████████████████████| 2/2 [00:01<00:00,  1.26it/s]\n"
     ]
    },
    {
     "name": "stdout",
     "output_type": "stream",
     "text": [
      "Iter 1 - Epoch 0 - Client Type: Benign - Client Number 12 - Poison Training False\n"
     ]
    },
    {
     "name": "stderr",
     "output_type": "stream",
     "text": [
      "100%|████████████████████████████████████████████████████████████████████████████████████| 1/1 [00:00<00:00,  1.41it/s]\n"
     ]
    },
    {
     "name": "stdout",
     "output_type": "stream",
     "text": [
      "Iter 1 - Epoch 0 - Client Type: Benign - Client Number 13 - Poison Training False\n"
     ]
    },
    {
     "name": "stderr",
     "output_type": "stream",
     "text": [
      "100%|████████████████████████████████████████████████████████████████████████████████████| 2/2 [00:02<00:00,  1.05s/it]\n"
     ]
    },
    {
     "name": "stdout",
     "output_type": "stream",
     "text": [
      "Iter 1 - Epoch 0 - Client Type: Benign - Client Number 14 - Poison Training False\n"
     ]
    },
    {
     "name": "stderr",
     "output_type": "stream",
     "text": [
      "100%|████████████████████████████████████████████████████████████████████████████████████| 1/1 [00:00<00:00,  1.20it/s]\n"
     ]
    },
    {
     "name": "stdout",
     "output_type": "stream",
     "text": [
      "Iter 1 - Epoch 0 - Client Type: Benign - Client Number 15 - Poison Training False\n"
     ]
    },
    {
     "name": "stderr",
     "output_type": "stream",
     "text": [
      "100%|████████████████████████████████████████████████████████████████████████████████████| 2/2 [00:01<00:00,  1.62it/s]\n"
     ]
    },
    {
     "name": "stdout",
     "output_type": "stream",
     "text": [
      "Iter 1 - Epoch 0 - Client Type: Benign - Client Number 16 - Poison Training False\n"
     ]
    },
    {
     "name": "stderr",
     "output_type": "stream",
     "text": [
      "100%|████████████████████████████████████████████████████████████████████████████████████| 2/2 [00:01<00:00,  1.41it/s]\n"
     ]
    },
    {
     "name": "stdout",
     "output_type": "stream",
     "text": [
      "Iter 1 - Epoch 0 - Client Type: Benign - Client Number 17 - Poison Training False\n"
     ]
    },
    {
     "name": "stderr",
     "output_type": "stream",
     "text": [
      "100%|████████████████████████████████████████████████████████████████████████████████████| 1/1 [00:00<00:00,  1.43it/s]\n"
     ]
    },
    {
     "name": "stdout",
     "output_type": "stream",
     "text": [
      "Iter 1 - Epoch 0 - Client Type: Benign - Client Number 18 - Poison Training False\n"
     ]
    },
    {
     "name": "stderr",
     "output_type": "stream",
     "text": [
      "100%|████████████████████████████████████████████████████████████████████████████████████| 1/1 [00:00<00:00,  1.51it/s]\n"
     ]
    },
    {
     "name": "stdout",
     "output_type": "stream",
     "text": [
      "Iter 1 - Epoch 0 - Client Type: Benign - Client Number 19 - Poison Training False\n"
     ]
    },
    {
     "name": "stderr",
     "output_type": "stream",
     "text": [
      "100%|████████████████████████████████████████████████████████████████████████████████████| 1/1 [00:00<00:00,  1.21it/s]\n"
     ]
    },
    {
     "name": "stdout",
     "output_type": "stream",
     "text": [
      "Original Copylist [9, 1, 4, 9, 6, 7, 5, 6, 2, 0, 8, 3, 9, 5, 6, 4, 0, 9, 9, 6]\n",
      "Found clusters [3 7 1 3 4 9 2 4 5 0 8 6 3 2 4 1 0 3 3 4]\n",
      "Original groups [array([ 9, 16], dtype=int64), array([1], dtype=int64), array([8], dtype=int64), array([11], dtype=int64), array([ 2, 15], dtype=int64), array([ 6, 13], dtype=int64), array([ 4,  7, 14, 19], dtype=int64), array([5], dtype=int64), array([10], dtype=int64), array([ 0,  3, 12, 17, 18], dtype=int64)]\n",
      "Clustered groups [array([ 9, 16], dtype=int64), array([ 2, 15], dtype=int64), array([ 6, 13], dtype=int64), array([ 0,  3, 12, 17, 18], dtype=int64), array([ 4,  7, 14, 19], dtype=int64), array([8], dtype=int64), array([11], dtype=int64), array([1], dtype=int64), array([10], dtype=int64), array([5], dtype=int64)]\n",
      "Clustering score 1.0\n",
      "6\n",
      "[[1.00000722 0.36340141 0.34142887 0.99838727 0.213248   0.39825208\n",
      "  0.35067805 0.2207673  0.54764726 0.40469351 0.5852693  0.65198203\n",
      "  0.99825236 0.35798002 0.22088467 0.34431912 0.42578641 0.99851617\n",
      "  0.99890182 0.21358275]\n",
      " [0.36340141 1.00000651 0.58418729 0.35976985 0.49994161 0.35483046\n",
      "  0.34582223 0.51221939 0.63678607 0.38523434 0.55175189 0.56463268\n",
      "  0.3606446  0.35811069 0.50743471 0.58772624 0.36225723 0.36985582\n",
      "  0.36834486 0.49715985]\n",
      " [0.34142886 0.5841873  1.00001056 0.33363998 0.46223137 0.25484022\n",
      "  0.42075353 0.47917448 0.34768576 0.21728532 0.51327137 0.55451363\n",
      "  0.33428438 0.44094987 0.46968793 0.99284035 0.16420186 0.34112163\n",
      "  0.34155323 0.46478271]\n",
      " [0.9983873  0.35976985 0.33363997 1.00000579 0.20961385 0.38465827\n",
      "  0.34047542 0.21734006 0.54108503 0.39806236 0.57978141 0.64790422\n",
      "  0.99874376 0.34853342 0.21726127 0.33674832 0.42087567 0.99873013\n",
      "  0.99870199 0.20987054]\n",
      " [0.213248   0.49994162 0.46223135 0.20961387 1.00000355 0.28969959\n",
      "  0.47928996 0.99118478 0.19704872 0.49339616 0.28528909 0.25990089\n",
      "  0.2093031  0.48203259 0.99612881 0.46301965 0.47402061 0.21534541\n",
      "  0.21135316 0.99780174]\n",
      " [0.39825207 0.35483045 0.25484022 0.38465828 0.28969959 1.00000567\n",
      "  0.61301416 0.28214519 0.39833536 0.66143759 0.49308864 0.42378581\n",
      "  0.38774078 0.5971243  0.28617385 0.25669932 0.60417467 0.39382635\n",
      "  0.39049969 0.28724779]\n",
      " [0.35067806 0.34582223 0.42075352 0.34047543 0.47928997 0.6130142\n",
      "  1.00000482 0.47735568 0.28557157 0.5334896  0.35043847 0.32201799\n",
      "  0.34074012 0.98541417 0.47326653 0.4198144  0.50304293 0.34762524\n",
      "  0.34359561 0.47920368]\n",
      " [0.2207673  0.51221941 0.4791745  0.21734007 0.99118476 0.28214518\n",
      "  0.47735564 1.0000051  0.2165141  0.48887519 0.30265889 0.27201312\n",
      "  0.21716136 0.48290641 0.99471921 0.47983422 0.46187442 0.22317184\n",
      "  0.21929532 0.98913934]\n",
      " [0.54764726 0.63678606 0.34768575 0.54108504 0.19704872 0.39833536\n",
      "  0.28557157 0.21651409 1.00000737 0.30590321 0.57488256 0.48239064\n",
      "  0.5406686  0.2932738  0.21494815 0.35015584 0.31059804 0.54888749\n",
      "  0.54915282 0.19520441]\n",
      " [0.40469351 0.38523434 0.21728532 0.39806237 0.49339616 0.66143759\n",
      "  0.5334896  0.48887519 0.30590323 1.00000322 0.46126098 0.37658329\n",
      "  0.39885651 0.52519234 0.4904413  0.22086448 0.83070191 0.40521399\n",
      "  0.39900725 0.48909802]\n",
      " [0.5852693  0.55175188 0.51327137 0.5797814  0.28528908 0.49308864\n",
      "  0.35043847 0.30265889 0.57488256 0.46126097 1.00001786 0.62298979\n",
      "  0.58234695 0.36953062 0.29687335 0.51795939 0.41415262 0.5858934\n",
      "  0.58750095 0.28666818]\n",
      " [0.65198203 0.56463267 0.55451364 0.64790421 0.25990089 0.42378582\n",
      "  0.32201799 0.27201312 0.48239066 0.37658329 0.62298977 1.00000963\n",
      "  0.64852487 0.34011186 0.26679786 0.55785264 0.34165468 0.65637189\n",
      "  0.65529839 0.25446435]\n",
      " [0.99825238 0.3606446  0.33428439 0.99874376 0.2093031  0.38774079\n",
      "  0.34074013 0.21716136 0.54066863 0.39885651 0.58234695 0.64852487\n",
      "  1.00000789 0.34848985 0.21734528 0.33724998 0.42134936 0.9984339\n",
      "  0.99880856 0.20953073]\n",
      " [0.35798002 0.3581107  0.44094987 0.34853341 0.48203258 0.5971243\n",
      "  0.9854142  0.4829064  0.2932738  0.52519235 0.36953063 0.34011187\n",
      "  0.34848984 1.00000489 0.47734441 0.44056869 0.48947511 0.35544505\n",
      "  0.35164789 0.48140394]\n",
      " [0.22088467 0.50743473 0.46968793 0.21726127 0.99612879 0.28617385\n",
      "  0.47326651 0.99471924 0.21494815 0.4904413  0.29687335 0.26679786\n",
      "  0.21734528 0.47734441 1.00000443 0.46987876 0.46860045 0.22307107\n",
      "  0.2192353  0.99464777]\n",
      " [0.34431913 0.58772623 0.99284034 0.33674833 0.46301965 0.25669932\n",
      "  0.4198144  0.47983423 0.35015585 0.22086448 0.51795939 0.55785263\n",
      "  0.33724998 0.44056867 0.46987877 1.00000994 0.16647402 0.34418196\n",
      "  0.34467249 0.46523031]\n",
      " [0.42578641 0.36225724 0.16420186 0.42087568 0.47402059 0.60417469\n",
      "  0.50304292 0.46187443 0.31059802 0.83070192 0.41415262 0.34165467\n",
      "  0.42134937 0.48947511 0.46860045 0.16647402 1.00000513 0.42704549\n",
      "  0.42100221 0.47133881]\n",
      " [0.99851617 0.36985582 0.34112162 0.99873013 0.2153454  0.39382635\n",
      "  0.34762524 0.22317183 0.54888749 0.40521399 0.5858934  0.65637193\n",
      "  0.9984339  0.35544503 0.22307108 0.34418196 0.42704549 1.00000527\n",
      "  0.99865128 0.21546925]\n",
      " [0.99890183 0.36834486 0.34155324 0.99870201 0.21135316 0.39049969\n",
      "  0.34359562 0.21929531 0.54915283 0.39900725 0.58750096 0.65529839\n",
      "  0.99880856 0.35164788 0.2192353  0.34467249 0.42100222 0.99865125\n",
      "  1.00000713 0.21147101]\n",
      " [0.21358275 0.49715984 0.4647827  0.20987054 0.99780176 0.28724779\n",
      "  0.47920368 0.98913934 0.19520441 0.48909802 0.28666818 0.25446436\n",
      "  0.20953074 0.48140394 0.9946478  0.4652303  0.47133881 0.21546925\n",
      "  0.21147101 1.00000463]]\n",
      "Original Copylist [9, 1, 4, 9, 6, 7, 5, 6, 2, 0, 8, 3, 9, 5, 6, 4, 0, 9, 9, 6]\n",
      "Found clusters [4 8 1 4 5 7 2 5 3 0 6 9 4 2 5 1 0 4 4 5]\n",
      "Original groups [array([ 9, 16], dtype=int64), array([1], dtype=int64), array([8], dtype=int64), array([11], dtype=int64), array([ 2, 15], dtype=int64), array([ 6, 13], dtype=int64), array([ 4,  7, 14, 19], dtype=int64), array([5], dtype=int64), array([10], dtype=int64), array([ 0,  3, 12, 17, 18], dtype=int64)]\n",
      "Clustered groups [array([ 9, 16], dtype=int64), array([ 2, 15], dtype=int64), array([ 6, 13], dtype=int64), array([8], dtype=int64), array([ 0,  3, 12, 17, 18], dtype=int64), array([ 4,  7, 14, 19], dtype=int64), array([10], dtype=int64), array([5], dtype=int64), array([1], dtype=int64), array([11], dtype=int64)]\n",
      "Clustering score 1.0\n",
      "\n",
      "\n",
      " Entering epoch 1\n",
      "Iter 1 - Epoch 0 - Client Type: Benign - Client Number 0 - Poison Training False\n"
     ]
    },
    {
     "name": "stderr",
     "output_type": "stream",
     "text": [
      "100%|████████████████████████████████████████████████████████████████████████████████████| 1/1 [00:00<00:00,  1.52it/s]\n"
     ]
    },
    {
     "name": "stdout",
     "output_type": "stream",
     "text": [
      "Iter 1 - Epoch 0 - Client Type: Benign - Client Number 1 - Poison Training False\n"
     ]
    },
    {
     "name": "stderr",
     "output_type": "stream",
     "text": [
      "100%|████████████████████████████████████████████████████████████████████████████████████| 2/2 [00:01<00:00,  1.15it/s]\n"
     ]
    },
    {
     "name": "stdout",
     "output_type": "stream",
     "text": [
      "Iter 1 - Epoch 0 - Client Type: Benign - Client Number 2 - Poison Training False\n"
     ]
    },
    {
     "name": "stderr",
     "output_type": "stream",
     "text": [
      "100%|████████████████████████████████████████████████████████████████████████████████████| 2/2 [00:01<00:00,  1.61it/s]\n"
     ]
    },
    {
     "name": "stdout",
     "output_type": "stream",
     "text": [
      "Iter 1 - Epoch 0 - Client Type: Benign - Client Number 3 - Poison Training False\n"
     ]
    },
    {
     "name": "stderr",
     "output_type": "stream",
     "text": [
      "100%|████████████████████████████████████████████████████████████████████████████████████| 1/1 [00:00<00:00,  1.50it/s]\n"
     ]
    },
    {
     "name": "stdout",
     "output_type": "stream",
     "text": [
      "Iter 1 - Epoch 0 - Client Type: Benign - Client Number 4 - Poison Training False\n"
     ]
    },
    {
     "name": "stderr",
     "output_type": "stream",
     "text": [
      "100%|████████████████████████████████████████████████████████████████████████████████████| 1/1 [00:00<00:00,  1.21it/s]\n"
     ]
    },
    {
     "name": "stdout",
     "output_type": "stream",
     "text": [
      "Iter 1 - Epoch 0 - Client Type: Benign - Client Number 5 - Poison Training False\n"
     ]
    },
    {
     "name": "stderr",
     "output_type": "stream",
     "text": [
      "100%|████████████████████████████████████████████████████████████████████████████████████| 1/1 [00:00<00:00,  1.10it/s]\n"
     ]
    },
    {
     "name": "stdout",
     "output_type": "stream",
     "text": [
      "Iter 1 - Epoch 0 - Client Type: Benign - Client Number 6 - Poison Training False\n"
     ]
    },
    {
     "name": "stderr",
     "output_type": "stream",
     "text": [
      "100%|████████████████████████████████████████████████████████████████████████████████████| 2/2 [00:01<00:00,  1.07it/s]\n"
     ]
    },
    {
     "name": "stdout",
     "output_type": "stream",
     "text": [
      "Iter 1 - Epoch 0 - Client Type: Benign - Client Number 7 - Poison Training False\n"
     ]
    },
    {
     "name": "stderr",
     "output_type": "stream",
     "text": [
      "100%|████████████████████████████████████████████████████████████████████████████████████| 1/1 [00:00<00:00,  1.12it/s]\n"
     ]
    },
    {
     "name": "stdout",
     "output_type": "stream",
     "text": [
      "Iter 1 - Epoch 0 - Client Type: Benign - Client Number 8 - Poison Training False\n"
     ]
    },
    {
     "name": "stderr",
     "output_type": "stream",
     "text": [
      "100%|████████████████████████████████████████████████████████████████████████████████████| 1/1 [00:00<00:00,  1.17it/s]\n"
     ]
    },
    {
     "name": "stdout",
     "output_type": "stream",
     "text": [
      "Iter 1 - Epoch 0 - Client Type: Benign - Client Number 9 - Poison Training False\n"
     ]
    },
    {
     "name": "stderr",
     "output_type": "stream",
     "text": [
      "100%|████████████████████████████████████████████████████████████████████████████████████| 2/2 [00:01<00:00,  1.60it/s]\n"
     ]
    },
    {
     "name": "stdout",
     "output_type": "stream",
     "text": [
      "Iter 1 - Epoch 0 - Client Type: Benign - Client Number 10 - Poison Training False\n"
     ]
    },
    {
     "name": "stderr",
     "output_type": "stream",
     "text": [
      "100%|████████████████████████████████████████████████████████████████████████████████████| 1/1 [00:00<00:00,  2.01it/s]\n"
     ]
    },
    {
     "name": "stdout",
     "output_type": "stream",
     "text": [
      "Iter 1 - Epoch 0 - Client Type: Benign - Client Number 11 - Poison Training False\n"
     ]
    },
    {
     "name": "stderr",
     "output_type": "stream",
     "text": [
      "100%|████████████████████████████████████████████████████████████████████████████████████| 2/2 [00:01<00:00,  1.36it/s]\n"
     ]
    },
    {
     "name": "stdout",
     "output_type": "stream",
     "text": [
      "Iter 1 - Epoch 0 - Client Type: Benign - Client Number 12 - Poison Training False\n"
     ]
    },
    {
     "name": "stderr",
     "output_type": "stream",
     "text": [
      "100%|████████████████████████████████████████████████████████████████████████████████████| 1/1 [00:00<00:00,  1.46it/s]\n"
     ]
    },
    {
     "name": "stdout",
     "output_type": "stream",
     "text": [
      "Iter 1 - Epoch 0 - Client Type: Benign - Client Number 13 - Poison Training False\n"
     ]
    },
    {
     "name": "stderr",
     "output_type": "stream",
     "text": [
      "100%|████████████████████████████████████████████████████████████████████████████████████| 2/2 [00:01<00:00,  1.04it/s]\n"
     ]
    },
    {
     "name": "stdout",
     "output_type": "stream",
     "text": [
      "Iter 1 - Epoch 0 - Client Type: Benign - Client Number 14 - Poison Training False\n"
     ]
    },
    {
     "name": "stderr",
     "output_type": "stream",
     "text": [
      "100%|████████████████████████████████████████████████████████████████████████████████████| 1/1 [00:00<00:00,  1.08it/s]\n"
     ]
    },
    {
     "name": "stdout",
     "output_type": "stream",
     "text": [
      "Iter 1 - Epoch 0 - Client Type: Benign - Client Number 15 - Poison Training False\n"
     ]
    },
    {
     "name": "stderr",
     "output_type": "stream",
     "text": [
      "100%|████████████████████████████████████████████████████████████████████████████████████| 2/2 [00:01<00:00,  1.26it/s]\n"
     ]
    },
    {
     "name": "stdout",
     "output_type": "stream",
     "text": [
      "Iter 1 - Epoch 0 - Client Type: Benign - Client Number 16 - Poison Training False\n"
     ]
    },
    {
     "name": "stderr",
     "output_type": "stream",
     "text": [
      "100%|████████████████████████████████████████████████████████████████████████████████████| 2/2 [00:01<00:00,  1.57it/s]\n"
     ]
    },
    {
     "name": "stdout",
     "output_type": "stream",
     "text": [
      "Iter 1 - Epoch 0 - Client Type: Benign - Client Number 17 - Poison Training False\n"
     ]
    },
    {
     "name": "stderr",
     "output_type": "stream",
     "text": [
      "100%|████████████████████████████████████████████████████████████████████████████████████| 1/1 [00:00<00:00,  1.51it/s]\n"
     ]
    },
    {
     "name": "stdout",
     "output_type": "stream",
     "text": [
      "Iter 1 - Epoch 0 - Client Type: Benign - Client Number 18 - Poison Training False\n"
     ]
    },
    {
     "name": "stderr",
     "output_type": "stream",
     "text": [
      "100%|████████████████████████████████████████████████████████████████████████████████████| 1/1 [00:00<00:00,  1.50it/s]\n"
     ]
    },
    {
     "name": "stdout",
     "output_type": "stream",
     "text": [
      "Iter 1 - Epoch 0 - Client Type: Benign - Client Number 19 - Poison Training False\n"
     ]
    },
    {
     "name": "stderr",
     "output_type": "stream",
     "text": [
      "100%|████████████████████████████████████████████████████████████████████████████████████| 1/1 [00:00<00:00,  1.19it/s]\n"
     ]
    },
    {
     "name": "stdout",
     "output_type": "stream",
     "text": [
      "Original Copylist [9, 1, 4, 9, 6, 7, 5, 6, 2, 0, 8, 3, 9, 5, 6, 4, 0, 9, 9, 6]\n",
      "Found clusters [3 6 2 3 1 9 5 1 7 0 4 8 3 5 1 2 0 3 3 1]\n",
      "Original groups [array([ 9, 16], dtype=int64), array([1], dtype=int64), array([8], dtype=int64), array([11], dtype=int64), array([ 2, 15], dtype=int64), array([ 6, 13], dtype=int64), array([ 4,  7, 14, 19], dtype=int64), array([5], dtype=int64), array([10], dtype=int64), array([ 0,  3, 12, 17, 18], dtype=int64)]\n",
      "Clustered groups [array([ 9, 16], dtype=int64), array([ 4,  7, 14, 19], dtype=int64), array([ 2, 15], dtype=int64), array([ 0,  3, 12, 17, 18], dtype=int64), array([10], dtype=int64), array([ 6, 13], dtype=int64), array([1], dtype=int64), array([8], dtype=int64), array([11], dtype=int64), array([5], dtype=int64)]\n",
      "Clustering score 1.0\n",
      "7\n",
      "[[1.00000596 0.26192003 0.19210268 0.99815935 0.22519974 0.45933267\n",
      "  0.33652024 0.2358169  0.53708384 0.40415777 0.57943342 0.50784079\n",
      "  0.99804215 0.35239114 0.23427492 0.19646179 0.43732244 0.99833413\n",
      "  0.99872522 0.22414206]\n",
      " [0.26192004 1.00000587 0.54238936 0.25801978 0.3849949  0.25483838\n",
      "  0.36768926 0.3937076  0.50327225 0.43995919 0.44460158 0.49997811\n",
      "  0.25768747 0.36745576 0.38924425 0.54404873 0.42994262 0.26678716\n",
      "  0.26425849 0.38258804]\n",
      " [0.19210268 0.54238936 1.00001247 0.18553125 0.2817549  0.13181013\n",
      "  0.39367744 0.29512504 0.22345098 0.24040605 0.3563211  0.50268121\n",
      "  0.18545917 0.40091276 0.285579   0.98557572 0.18174731 0.19090768\n",
      "  0.19088961 0.28541212]\n",
      " [0.99815938 0.25801978 0.18553125 1.00000563 0.22174087 0.44830245\n",
      "  0.32572899 0.23259136 0.53240343 0.39853705 0.57549537 0.50378058\n",
      "  0.9984531  0.34244162 0.23088534 0.18994662 0.43344153 0.99847224\n",
      "  0.99846103 0.22066179]\n",
      " [0.22519975 0.38499491 0.28175489 0.22174088 1.00000534 0.2973547\n",
      "  0.48109555 0.99158143 0.21585442 0.44220342 0.26728126 0.16423425\n",
      "  0.22221819 0.49347003 0.9961267  0.27996322 0.41795081 0.22826751\n",
      "  0.22353488 0.99772878]\n",
      " [0.45933266 0.25483838 0.13181013 0.44830247 0.2973547  1.0000051\n",
      "  0.58055653 0.29418982 0.41260725 0.64270081 0.54663044 0.3066921\n",
      "  0.45126921 0.57663534 0.29511508 0.13323716 0.59615532 0.45804714\n",
      "  0.451959   0.29436892]\n",
      " [0.33652025 0.36768928 0.39367745 0.325729   0.48109555 0.58055655\n",
      "  1.00000522 0.47994971 0.28436395 0.53717798 0.3923059  0.29793332\n",
      "  0.32518913 0.98356512 0.47523504 0.3907556  0.5136633  0.33341236\n",
      "  0.32787398 0.48014528]\n",
      " [0.2358169  0.39370761 0.29512504 0.23259137 0.99158139 0.29418981\n",
      "  0.47994968 1.00000551 0.23504854 0.44043676 0.28494468 0.17500533\n",
      "  0.23329848 0.49562099 0.99484091 0.2932536  0.40820861 0.23925768\n",
      "  0.23455758 0.98947238]\n",
      " [0.53708386 0.50327223 0.22345097 0.53240342 0.21585442 0.41260725\n",
      "  0.28436395 0.23504854 1.0000056  0.28769366 0.54227821 0.34477696\n",
      "  0.53140544 0.29359292 0.23110117 0.22634223 0.28884159 0.54002087\n",
      "  0.53838422 0.21410304]\n",
      " [0.40415778 0.43995919 0.24040605 0.39853706 0.44220341 0.64270081\n",
      "  0.53717797 0.44043677 0.28769368 1.00000482 0.51080406 0.41322394\n",
      "  0.39852369 0.53116904 0.4406796  0.24559084 0.83408102 0.40562751\n",
      "  0.39826475 0.43788023]\n",
      " [0.57943341 0.44460156 0.3563211  0.57549534 0.26728126 0.54663044\n",
      "  0.3923059  0.28494468 0.5422782  0.51080406 1.00001335 0.50799296\n",
      "  0.57805426 0.41979131 0.27701945 0.35862651 0.4592452  0.58241255\n",
      "  0.58069339 0.2680295 ]\n",
      " [0.50784079 0.49997809 0.50268123 0.50378057 0.16423425 0.30669211\n",
      "  0.29793332 0.17500533 0.34477696 0.41322394 0.50799295 1.00000997\n",
      "  0.50463138 0.3076784  0.16937149 0.50612772 0.38084568 0.51020447\n",
      "  0.50984914 0.16056761]\n",
      " [0.99804219 0.25768747 0.18545918 0.99845309 0.22221819 0.45126922\n",
      "  0.32518913 0.23329848 0.53140546 0.39852369 0.57805426 0.50463139\n",
      "  1.00000563 0.34178663 0.23183418 0.18972206 0.4331845  0.99816686\n",
      "  0.99863882 0.22106223]\n",
      " [0.35239114 0.36745576 0.40091276 0.34244162 0.49347002 0.57663532\n",
      "  0.98356514 0.49562098 0.29359293 0.53116904 0.41979131 0.3076784\n",
      "  0.34178663 1.00000441 0.4891763  0.39792119 0.50266464 0.35015177\n",
      "  0.34456637 0.4918872 ]\n",
      " [0.23427492 0.38924425 0.285579   0.23088534 0.99612669 0.29511508\n",
      "  0.47523502 0.99484093 0.23110117 0.4406796  0.27701945 0.16937149\n",
      "  0.23183418 0.48917629 1.00000465 0.28358004 0.41270638 0.23748718\n",
      "  0.23287434 0.99449698]\n",
      " [0.1964618  0.54404871 0.98557572 0.18994664 0.27996323 0.13323716\n",
      "  0.39075559 0.29325361 0.22634224 0.24559084 0.35862651 0.5061277\n",
      "  0.18972206 0.39792117 0.28358005 1.00001178 0.18522396 0.19528686\n",
      "  0.19543716 0.28311012]\n",
      " [0.43732244 0.42994263 0.18174731 0.43344154 0.41795079 0.59615533\n",
      "  0.51366329 0.40820862 0.28884157 0.83408104 0.45924522 0.38084568\n",
      "  0.43318452 0.50266464 0.41270638 0.18522397 1.00000556 0.44009746\n",
      "  0.43209494 0.41494664]\n",
      " [0.99833413 0.26678715 0.19090767 0.99847224 0.2282675  0.45804715\n",
      "  0.33341237 0.23925767 0.54002087 0.40562751 0.58241255 0.5102045\n",
      "  0.99816686 0.35015175 0.23748718 0.19528686 0.44009747 1.00000312\n",
      "  0.99840503 0.22707081]\n",
      " [0.99872521 0.26425849 0.19088962 0.99846104 0.22353488 0.451959\n",
      "  0.32787399 0.23455758 0.53838423 0.39826475 0.58069341 0.50984914\n",
      "  0.99863882 0.34456636 0.23287434 0.19543716 0.43209495 0.998405\n",
      "  1.0000041  0.22227652]\n",
      " [0.22414206 0.38258803 0.2854121  0.22066179 0.99772879 0.29436892\n",
      "  0.48014528 0.98947237 0.21410304 0.43788024 0.26802949 0.16056762\n",
      "  0.22106222 0.49188721 0.99449701 0.28311013 0.41494664 0.22707081\n",
      "  0.22227653 1.00000484]]\n",
      "Original Copylist [9, 1, 4, 9, 6, 7, 5, 6, 2, 0, 8, 3, 9, 5, 6, 4, 0, 9, 9, 6]\n",
      "Found clusters [5 7 1 5 3 9 2 3 6 0 8 4 5 2 3 1 0 5 5 3]\n",
      "Original groups [array([ 9, 16], dtype=int64), array([1], dtype=int64), array([8], dtype=int64), array([11], dtype=int64), array([ 2, 15], dtype=int64), array([ 6, 13], dtype=int64), array([ 4,  7, 14, 19], dtype=int64), array([5], dtype=int64), array([10], dtype=int64), array([ 0,  3, 12, 17, 18], dtype=int64)]\n",
      "Clustered groups [array([ 9, 16], dtype=int64), array([ 2, 15], dtype=int64), array([ 6, 13], dtype=int64), array([ 4,  7, 14, 19], dtype=int64), array([11], dtype=int64), array([ 0,  3, 12, 17, 18], dtype=int64), array([8], dtype=int64), array([1], dtype=int64), array([10], dtype=int64), array([5], dtype=int64)]\n",
      "Clustering score 1.0\n",
      "\n",
      "\n",
      " Entering epoch 2\n",
      "Iter 1 - Epoch 0 - Client Type: Benign - Client Number 0 - Poison Training False\n"
     ]
    },
    {
     "name": "stderr",
     "output_type": "stream",
     "text": [
      "100%|████████████████████████████████████████████████████████████████████████████████████| 1/1 [00:00<00:00,  1.61it/s]\n"
     ]
    },
    {
     "name": "stdout",
     "output_type": "stream",
     "text": [
      "Iter 1 - Epoch 0 - Client Type: Benign - Client Number 1 - Poison Training False\n"
     ]
    },
    {
     "name": "stderr",
     "output_type": "stream",
     "text": [
      "100%|████████████████████████████████████████████████████████████████████████████████████| 2/2 [00:01<00:00,  1.10it/s]\n"
     ]
    },
    {
     "name": "stdout",
     "output_type": "stream",
     "text": [
      "Iter 1 - Epoch 0 - Client Type: Benign - Client Number 2 - Poison Training False\n"
     ]
    },
    {
     "name": "stderr",
     "output_type": "stream",
     "text": [
      "100%|████████████████████████████████████████████████████████████████████████████████████| 2/2 [00:01<00:00,  1.44it/s]\n"
     ]
    },
    {
     "name": "stdout",
     "output_type": "stream",
     "text": [
      "Iter 1 - Epoch 0 - Client Type: Benign - Client Number 3 - Poison Training False\n"
     ]
    },
    {
     "name": "stderr",
     "output_type": "stream",
     "text": [
      "100%|████████████████████████████████████████████████████████████████████████████████████| 1/1 [00:00<00:00,  1.34it/s]\n"
     ]
    },
    {
     "name": "stdout",
     "output_type": "stream",
     "text": [
      "Iter 1 - Epoch 0 - Client Type: Benign - Client Number 4 - Poison Training False\n"
     ]
    },
    {
     "name": "stderr",
     "output_type": "stream",
     "text": [
      "100%|████████████████████████████████████████████████████████████████████████████████████| 1/1 [00:00<00:00,  1.04it/s]\n"
     ]
    },
    {
     "name": "stdout",
     "output_type": "stream",
     "text": [
      "Iter 1 - Epoch 0 - Client Type: Benign - Client Number 5 - Poison Training False\n"
     ]
    },
    {
     "name": "stderr",
     "output_type": "stream",
     "text": [
      "100%|████████████████████████████████████████████████████████████████████████████████████| 1/1 [00:01<00:00,  1.04s/it]\n"
     ]
    },
    {
     "name": "stdout",
     "output_type": "stream",
     "text": [
      "Iter 1 - Epoch 0 - Client Type: Benign - Client Number 6 - Poison Training False\n"
     ]
    },
    {
     "name": "stderr",
     "output_type": "stream",
     "text": [
      "100%|████████████████████████████████████████████████████████████████████████████████████| 2/2 [00:02<00:00,  1.15s/it]\n"
     ]
    },
    {
     "name": "stdout",
     "output_type": "stream",
     "text": [
      "Iter 1 - Epoch 0 - Client Type: Benign - Client Number 7 - Poison Training False\n"
     ]
    },
    {
     "name": "stderr",
     "output_type": "stream",
     "text": [
      "100%|████████████████████████████████████████████████████████████████████████████████████| 1/1 [00:00<00:00,  1.07it/s]\n"
     ]
    },
    {
     "name": "stdout",
     "output_type": "stream",
     "text": [
      "Iter 1 - Epoch 0 - Client Type: Benign - Client Number 8 - Poison Training False\n"
     ]
    },
    {
     "name": "stderr",
     "output_type": "stream",
     "text": [
      "100%|████████████████████████████████████████████████████████████████████████████████████| 1/1 [00:00<00:00,  1.01it/s]\n"
     ]
    },
    {
     "name": "stdout",
     "output_type": "stream",
     "text": [
      "Iter 1 - Epoch 0 - Client Type: Benign - Client Number 9 - Poison Training False\n"
     ]
    },
    {
     "name": "stderr",
     "output_type": "stream",
     "text": [
      "100%|████████████████████████████████████████████████████████████████████████████████████| 2/2 [00:01<00:00,  1.36it/s]\n"
     ]
    },
    {
     "name": "stdout",
     "output_type": "stream",
     "text": [
      "Iter 1 - Epoch 0 - Client Type: Benign - Client Number 10 - Poison Training False\n"
     ]
    },
    {
     "name": "stderr",
     "output_type": "stream",
     "text": [
      "100%|████████████████████████████████████████████████████████████████████████████████████| 1/1 [00:00<00:00,  1.63it/s]\n"
     ]
    },
    {
     "name": "stdout",
     "output_type": "stream",
     "text": [
      "Iter 1 - Epoch 0 - Client Type: Benign - Client Number 11 - Poison Training False\n"
     ]
    },
    {
     "name": "stderr",
     "output_type": "stream",
     "text": [
      "100%|████████████████████████████████████████████████████████████████████████████████████| 2/2 [00:01<00:00,  1.45it/s]\n"
     ]
    },
    {
     "name": "stdout",
     "output_type": "stream",
     "text": [
      "Iter 1 - Epoch 0 - Client Type: Benign - Client Number 12 - Poison Training False\n"
     ]
    },
    {
     "name": "stderr",
     "output_type": "stream",
     "text": [
      "100%|████████████████████████████████████████████████████████████████████████████████████| 1/1 [00:00<00:00,  1.49it/s]\n"
     ]
    },
    {
     "name": "stdout",
     "output_type": "stream",
     "text": [
      "Iter 1 - Epoch 0 - Client Type: Benign - Client Number 13 - Poison Training False\n"
     ]
    },
    {
     "name": "stderr",
     "output_type": "stream",
     "text": [
      "100%|████████████████████████████████████████████████████████████████████████████████████| 2/2 [00:02<00:00,  1.17s/it]\n"
     ]
    },
    {
     "name": "stdout",
     "output_type": "stream",
     "text": [
      "Iter 1 - Epoch 0 - Client Type: Benign - Client Number 14 - Poison Training False\n"
     ]
    },
    {
     "name": "stderr",
     "output_type": "stream",
     "text": [
      "100%|████████████████████████████████████████████████████████████████████████████████████| 1/1 [00:00<00:00,  1.02it/s]\n"
     ]
    },
    {
     "name": "stdout",
     "output_type": "stream",
     "text": [
      "Iter 1 - Epoch 0 - Client Type: Benign - Client Number 15 - Poison Training False\n"
     ]
    },
    {
     "name": "stderr",
     "output_type": "stream",
     "text": [
      "100%|████████████████████████████████████████████████████████████████████████████████████| 2/2 [00:01<00:00,  1.39it/s]\n"
     ]
    },
    {
     "name": "stdout",
     "output_type": "stream",
     "text": [
      "Iter 1 - Epoch 0 - Client Type: Benign - Client Number 16 - Poison Training False\n"
     ]
    },
    {
     "name": "stderr",
     "output_type": "stream",
     "text": [
      "100%|████████████████████████████████████████████████████████████████████████████████████| 2/2 [00:01<00:00,  1.47it/s]\n"
     ]
    },
    {
     "name": "stdout",
     "output_type": "stream",
     "text": [
      "Iter 1 - Epoch 0 - Client Type: Benign - Client Number 17 - Poison Training False\n"
     ]
    },
    {
     "name": "stderr",
     "output_type": "stream",
     "text": [
      "100%|████████████████████████████████████████████████████████████████████████████████████| 1/1 [00:00<00:00,  1.38it/s]\n"
     ]
    },
    {
     "name": "stdout",
     "output_type": "stream",
     "text": [
      "Iter 1 - Epoch 0 - Client Type: Benign - Client Number 18 - Poison Training False\n"
     ]
    },
    {
     "name": "stderr",
     "output_type": "stream",
     "text": [
      "100%|████████████████████████████████████████████████████████████████████████████████████| 1/1 [00:00<00:00,  1.30it/s]\n"
     ]
    },
    {
     "name": "stdout",
     "output_type": "stream",
     "text": [
      "Iter 1 - Epoch 0 - Client Type: Benign - Client Number 19 - Poison Training False\n"
     ]
    },
    {
     "name": "stderr",
     "output_type": "stream",
     "text": [
      "100%|████████████████████████████████████████████████████████████████████████████████████| 1/1 [00:00<00:00,  1.01it/s]\n"
     ]
    },
    {
     "name": "stdout",
     "output_type": "stream",
     "text": [
      "Original Copylist [9, 1, 4, 9, 6, 7, 5, 6, 2, 0, 8, 3, 9, 5, 6, 4, 0, 9, 9, 6]\n",
      "Found clusters [3 9 2 3 6 4 1 6 5 0 8 7 3 1 6 2 0 3 3 6]\n",
      "Original groups [array([ 9, 16], dtype=int64), array([1], dtype=int64), array([8], dtype=int64), array([11], dtype=int64), array([ 2, 15], dtype=int64), array([ 6, 13], dtype=int64), array([ 4,  7, 14, 19], dtype=int64), array([5], dtype=int64), array([10], dtype=int64), array([ 0,  3, 12, 17, 18], dtype=int64)]\n",
      "Clustered groups [array([ 9, 16], dtype=int64), array([ 6, 13], dtype=int64), array([ 2, 15], dtype=int64), array([ 0,  3, 12, 17, 18], dtype=int64), array([5], dtype=int64), array([8], dtype=int64), array([ 4,  7, 14, 19], dtype=int64), array([11], dtype=int64), array([10], dtype=int64), array([1], dtype=int64)]\n",
      "Clustering score 1.0\n",
      "8\n",
      "[[1.00000494 0.21542026 0.07688477 0.99748359 0.20062016 0.53776807\n",
      "  0.37289018 0.20697281 0.49913531 0.41689361 0.59167408 0.38689169\n",
      "  0.99724251 0.3970825  0.20755743 0.07965346 0.44460495 0.99762369\n",
      "  0.99814519 0.20182539]\n",
      " [0.21542026 1.00000551 0.47495956 0.21010699 0.35691598 0.2355282\n",
      "  0.38965762 0.35751873 0.42743827 0.42357659 0.34443417 0.4246572\n",
      "  0.20992994 0.38791569 0.35546665 0.47304122 0.48606762 0.21914548\n",
      "  0.21666317 0.35779864]\n",
      " [0.07688477 0.47495956 1.00001318 0.07043644 0.21442151 0.06944724\n",
      "  0.34772503 0.21949553 0.14893825 0.17839318 0.17715516 0.44851329\n",
      "  0.07106827 0.35111933 0.21001219 0.97839427 0.15699236 0.07482203\n",
      "  0.07578286 0.21806509]\n",
      " [0.99748362 0.21010699 0.07043643 1.00000429 0.19706592 0.52617059\n",
      "  0.36276366 0.20372867 0.49405001 0.41286968 0.58814399 0.3816948\n",
      "  0.99786013 0.38777809 0.20413805 0.07327728 0.44050575 0.9978609\n",
      "  0.99788052 0.19826184]\n",
      " [0.20062016 0.35691599 0.2144215  0.19706592 1.00000753 0.26474576\n",
      "  0.45114316 0.99233898 0.13340492 0.43879966 0.21532246 0.12839058\n",
      "  0.19796768 0.46481622 0.99617156 0.210435   0.41063801 0.2016022\n",
      "  0.19751799 0.99765244]\n",
      " [0.53776806 0.23552819 0.06944725 0.52617061 0.26474575 1.00000401\n",
      "  0.56801479 0.25992346 0.45365852 0.59044517 0.62707264 0.2552342\n",
      "  0.52663124 0.57204187 0.26398602 0.06663438 0.58457635 0.53617851\n",
      "  0.52776214 0.26361693]\n",
      " [0.37289017 0.38965763 0.34772503 0.36276366 0.45114317 0.56801479\n",
      "  1.00000539 0.45051829 0.32253001 0.53216047 0.45918854 0.28038634\n",
      "  0.36122165 0.98243718 0.4467419  0.34137773 0.513005   0.37205151\n",
      "  0.36404509 0.4518429 ]\n",
      " [0.20697281 0.35751874 0.21949555 0.20372867 0.99233894 0.25992346\n",
      "  0.45051825 1.00000491 0.143033   0.43923865 0.22316016 0.13211653\n",
      "  0.20484965 0.46747929 0.99499571 0.2160932  0.40384852 0.20819059\n",
      "  0.20416314 0.99011145]\n",
      " [0.49913533 0.42743826 0.14893824 0.49405    0.13340492 0.45365851\n",
      "  0.32253001 0.143033   1.00000386 0.2434704  0.47863164 0.24103799\n",
      "  0.49155816 0.33755682 0.14332895 0.14700574 0.28517013 0.50347627\n",
      "  0.49942918 0.13403997]\n",
      " [0.41689361 0.42357659 0.17839318 0.41286967 0.43879966 0.59044518\n",
      "  0.53216047 0.43923866 0.24347041 1.00000563 0.51249505 0.37761092\n",
      "  0.41214134 0.52563517 0.43679426 0.18350367 0.88335515 0.41854707\n",
      "  0.41118837 0.43682134]\n",
      " [0.59167406 0.34443415 0.17715516 0.58814397 0.21532245 0.62707264\n",
      "  0.45918854 0.22316016 0.47863164 0.51249504 1.0000114  0.39028965\n",
      "  0.59018352 0.49714759 0.22154723 0.17559144 0.49989745 0.59507846\n",
      "  0.59030318 0.21749758]\n",
      " [0.38689169 0.42465717 0.44851331 0.38169479 0.12839058 0.2552342\n",
      "  0.28038634 0.13211653 0.24103799 0.3776109  0.39028964 1.00001063\n",
      "  0.38307724 0.29256471 0.12943822 0.45095364 0.38462227 0.38612426\n",
      "  0.38767043 0.12657646]\n",
      " [0.99724256 0.20992994 0.07106827 0.99786013 0.19796767 0.52663124\n",
      "  0.36122165 0.20484965 0.49155818 0.41214134 0.59018353 0.38307726\n",
      "  1.00000544 0.38614238 0.20549312 0.07375531 0.43953103 0.99745023\n",
      "  0.99820174 0.19907046]\n",
      " [0.39708248 0.38791568 0.35111933 0.38777808 0.46481622 0.57204185\n",
      "  0.98243721 0.46747929 0.33755683 0.52563517 0.49714758 0.29256472\n",
      "  0.38614237 1.00000503 0.46243404 0.34448417 0.49812769 0.39736199\n",
      "  0.38890317 0.46466907]\n",
      " [0.20755744 0.35546665 0.21001218 0.20413805 0.99617156 0.26398602\n",
      "  0.44674189 0.99499574 0.14332894 0.43679425 0.22154723 0.12943822\n",
      "  0.20549312 0.46243404 1.00000587 0.20608263 0.40530353 0.20867835\n",
      "  0.20461817 0.99433901]\n",
      " [0.07965347 0.47304121 0.97839428 0.07327728 0.21043501 0.06663438\n",
      "  0.34137772 0.21609321 0.14700574 0.18350367 0.17559144 0.45095364\n",
      "  0.07375531 0.34448416 0.20608263 1.00001426 0.16021452 0.07745497\n",
      "  0.07886025 0.21374305]\n",
      " [0.44460495 0.48606765 0.15699236 0.44050574 0.41063799 0.58457636\n",
      "  0.51300499 0.40384852 0.28517011 0.88335516 0.49989747 0.38462228\n",
      "  0.43953105 0.49812769 0.40530353 0.16021452 1.00000582 0.44688431\n",
      "  0.43908338 0.40969756]\n",
      " [0.99762371 0.21914548 0.07482202 0.9978609  0.20160219 0.53617852\n",
      "  0.37205153 0.20819058 0.50347627 0.41854708 0.59507846 0.38612428\n",
      "  0.99745021 0.39736198 0.20867835 0.07745497 0.44688433 1.00000327\n",
      "  0.99775046 0.20269868]\n",
      " [0.99814516 0.21666317 0.07578287 0.99788053 0.19751799 0.52776215\n",
      "  0.36404511 0.20416314 0.49942918 0.41118839 0.5903032  0.38767044\n",
      "  0.99820174 0.38890316 0.20461817 0.07886025 0.43908339 0.99775043\n",
      "  1.00000372 0.1985413 ]\n",
      " [0.20182538 0.35779863 0.21806507 0.19826184 0.99765245 0.26361693\n",
      "  0.4518429  0.99011146 0.13403997 0.43682136 0.21749758 0.12657646\n",
      "  0.19907046 0.46466908 0.99433905 0.21374305 0.40969756 0.20269868\n",
      "  0.1985413  1.00000598]]\n",
      "Original Copylist [9, 1, 4, 9, 6, 7, 5, 6, 2, 0, 8, 3, 9, 5, 6, 4, 0, 9, 9, 6]\n",
      "Found clusters [8 6 1 8 7 9 3 7 5 0 2 4 8 3 7 1 0 8 8 7]\n",
      "Original groups [array([ 9, 16], dtype=int64), array([1], dtype=int64), array([8], dtype=int64), array([11], dtype=int64), array([ 2, 15], dtype=int64), array([ 6, 13], dtype=int64), array([ 4,  7, 14, 19], dtype=int64), array([5], dtype=int64), array([10], dtype=int64), array([ 0,  3, 12, 17, 18], dtype=int64)]\n",
      "Clustered groups [array([ 9, 16], dtype=int64), array([ 2, 15], dtype=int64), array([10], dtype=int64), array([ 6, 13], dtype=int64), array([11], dtype=int64), array([8], dtype=int64), array([1], dtype=int64), array([ 4,  7, 14, 19], dtype=int64), array([ 0,  3, 12, 17, 18], dtype=int64), array([5], dtype=int64)]\n",
      "Clustering score 1.0\n",
      "\n",
      "\n",
      " Entering epoch 3\n",
      "Iter 1 - Epoch 0 - Client Type: Benign - Client Number 0 - Poison Training False\n"
     ]
    },
    {
     "name": "stderr",
     "output_type": "stream",
     "text": [
      "100%|████████████████████████████████████████████████████████████████████████████████████| 1/1 [00:00<00:00,  1.37it/s]\n"
     ]
    },
    {
     "name": "stdout",
     "output_type": "stream",
     "text": [
      "Iter 1 - Epoch 0 - Client Type: Benign - Client Number 1 - Poison Training False\n"
     ]
    },
    {
     "name": "stderr",
     "output_type": "stream",
     "text": [
      "100%|████████████████████████████████████████████████████████████████████████████████████| 2/2 [00:01<00:00,  1.03it/s]\n"
     ]
    },
    {
     "name": "stdout",
     "output_type": "stream",
     "text": [
      "Iter 1 - Epoch 0 - Client Type: Benign - Client Number 2 - Poison Training False\n"
     ]
    },
    {
     "name": "stderr",
     "output_type": "stream",
     "text": [
      "100%|████████████████████████████████████████████████████████████████████████████████████| 2/2 [00:01<00:00,  1.46it/s]\n"
     ]
    },
    {
     "name": "stdout",
     "output_type": "stream",
     "text": [
      "Iter 1 - Epoch 0 - Client Type: Benign - Client Number 3 - Poison Training False\n"
     ]
    },
    {
     "name": "stderr",
     "output_type": "stream",
     "text": [
      "100%|████████████████████████████████████████████████████████████████████████████████████| 1/1 [00:00<00:00,  1.36it/s]\n"
     ]
    },
    {
     "name": "stdout",
     "output_type": "stream",
     "text": [
      "Iter 1 - Epoch 0 - Client Type: Benign - Client Number 4 - Poison Training False\n"
     ]
    },
    {
     "name": "stderr",
     "output_type": "stream",
     "text": [
      "100%|████████████████████████████████████████████████████████████████████████████████████| 1/1 [00:00<00:00,  1.01it/s]\n"
     ]
    },
    {
     "name": "stdout",
     "output_type": "stream",
     "text": [
      "Iter 1 - Epoch 0 - Client Type: Benign - Client Number 5 - Poison Training False\n"
     ]
    },
    {
     "name": "stderr",
     "output_type": "stream",
     "text": [
      "100%|████████████████████████████████████████████████████████████████████████████████████| 1/1 [00:01<00:00,  1.02s/it]\n"
     ]
    },
    {
     "name": "stdout",
     "output_type": "stream",
     "text": [
      "Iter 1 - Epoch 0 - Client Type: Benign - Client Number 6 - Poison Training False\n"
     ]
    },
    {
     "name": "stderr",
     "output_type": "stream",
     "text": [
      "100%|████████████████████████████████████████████████████████████████████████████████████| 2/2 [00:02<00:00,  1.08s/it]\n"
     ]
    },
    {
     "name": "stdout",
     "output_type": "stream",
     "text": [
      "Iter 1 - Epoch 0 - Client Type: Benign - Client Number 7 - Poison Training False\n"
     ]
    },
    {
     "name": "stderr",
     "output_type": "stream",
     "text": [
      "100%|████████████████████████████████████████████████████████████████████████████████████| 1/1 [00:00<00:00,  1.22it/s]\n"
     ]
    },
    {
     "name": "stdout",
     "output_type": "stream",
     "text": [
      "Iter 1 - Epoch 0 - Client Type: Benign - Client Number 8 - Poison Training False\n"
     ]
    },
    {
     "name": "stderr",
     "output_type": "stream",
     "text": [
      "100%|████████████████████████████████████████████████████████████████████████████████████| 1/1 [00:00<00:00,  1.05it/s]\n"
     ]
    },
    {
     "name": "stdout",
     "output_type": "stream",
     "text": [
      "Iter 1 - Epoch 0 - Client Type: Benign - Client Number 9 - Poison Training False\n"
     ]
    },
    {
     "name": "stderr",
     "output_type": "stream",
     "text": [
      "100%|████████████████████████████████████████████████████████████████████████████████████| 2/2 [00:01<00:00,  1.43it/s]\n"
     ]
    },
    {
     "name": "stdout",
     "output_type": "stream",
     "text": [
      "Iter 1 - Epoch 0 - Client Type: Benign - Client Number 10 - Poison Training False\n"
     ]
    },
    {
     "name": "stderr",
     "output_type": "stream",
     "text": [
      "100%|████████████████████████████████████████████████████████████████████████████████████| 1/1 [00:00<00:00,  1.54it/s]\n"
     ]
    },
    {
     "name": "stdout",
     "output_type": "stream",
     "text": [
      "Iter 1 - Epoch 0 - Client Type: Benign - Client Number 11 - Poison Training False\n"
     ]
    },
    {
     "name": "stderr",
     "output_type": "stream",
     "text": [
      "100%|████████████████████████████████████████████████████████████████████████████████████| 2/2 [00:01<00:00,  1.28it/s]\n"
     ]
    },
    {
     "name": "stdout",
     "output_type": "stream",
     "text": [
      "Iter 1 - Epoch 0 - Client Type: Benign - Client Number 12 - Poison Training False\n"
     ]
    },
    {
     "name": "stderr",
     "output_type": "stream",
     "text": [
      "100%|████████████████████████████████████████████████████████████████████████████████████| 1/1 [00:00<00:00,  1.34it/s]\n"
     ]
    },
    {
     "name": "stdout",
     "output_type": "stream",
     "text": [
      "Iter 1 - Epoch 0 - Client Type: Benign - Client Number 13 - Poison Training False\n"
     ]
    },
    {
     "name": "stderr",
     "output_type": "stream",
     "text": [
      "100%|████████████████████████████████████████████████████████████████████████████████████| 2/2 [00:02<00:00,  1.04s/it]\n"
     ]
    },
    {
     "name": "stdout",
     "output_type": "stream",
     "text": [
      "Iter 1 - Epoch 0 - Client Type: Benign - Client Number 14 - Poison Training False\n"
     ]
    },
    {
     "name": "stderr",
     "output_type": "stream",
     "text": [
      "100%|████████████████████████████████████████████████████████████████████████████████████| 1/1 [00:01<00:00,  1.01s/it]\n"
     ]
    },
    {
     "name": "stdout",
     "output_type": "stream",
     "text": [
      "Iter 1 - Epoch 0 - Client Type: Benign - Client Number 15 - Poison Training False\n"
     ]
    },
    {
     "name": "stderr",
     "output_type": "stream",
     "text": [
      "100%|████████████████████████████████████████████████████████████████████████████████████| 2/2 [00:01<00:00,  1.33it/s]\n"
     ]
    },
    {
     "name": "stdout",
     "output_type": "stream",
     "text": [
      "Iter 1 - Epoch 0 - Client Type: Benign - Client Number 16 - Poison Training False\n"
     ]
    },
    {
     "name": "stderr",
     "output_type": "stream",
     "text": [
      "100%|████████████████████████████████████████████████████████████████████████████████████| 2/2 [00:01<00:00,  1.43it/s]\n"
     ]
    },
    {
     "name": "stdout",
     "output_type": "stream",
     "text": [
      "Iter 1 - Epoch 0 - Client Type: Benign - Client Number 17 - Poison Training False\n"
     ]
    },
    {
     "name": "stderr",
     "output_type": "stream",
     "text": [
      "100%|████████████████████████████████████████████████████████████████████████████████████| 1/1 [00:00<00:00,  1.31it/s]\n"
     ]
    },
    {
     "name": "stdout",
     "output_type": "stream",
     "text": [
      "Iter 1 - Epoch 0 - Client Type: Benign - Client Number 18 - Poison Training False\n"
     ]
    },
    {
     "name": "stderr",
     "output_type": "stream",
     "text": [
      "100%|████████████████████████████████████████████████████████████████████████████████████| 1/1 [00:00<00:00,  1.12it/s]\n"
     ]
    },
    {
     "name": "stdout",
     "output_type": "stream",
     "text": [
      "Iter 1 - Epoch 0 - Client Type: Benign - Client Number 19 - Poison Training False\n"
     ]
    },
    {
     "name": "stderr",
     "output_type": "stream",
     "text": [
      "100%|████████████████████████████████████████████████████████████████████████████████████| 1/1 [00:00<00:00,  1.13it/s]\n"
     ]
    },
    {
     "name": "stdout",
     "output_type": "stream",
     "text": [
      "Original Copylist [9, 1, 4, 9, 6, 7, 5, 6, 2, 0, 8, 3, 9, 5, 6, 4, 0, 9, 9, 6]\n",
      "Found clusters [3 8 1 3 4 9 2 4 6 0 7 5 3 2 4 1 0 3 3 4]\n",
      "Original groups [array([ 9, 16], dtype=int64), array([1], dtype=int64), array([8], dtype=int64), array([11], dtype=int64), array([ 2, 15], dtype=int64), array([ 6, 13], dtype=int64), array([ 4,  7, 14, 19], dtype=int64), array([5], dtype=int64), array([10], dtype=int64), array([ 0,  3, 12, 17, 18], dtype=int64)]\n",
      "Clustered groups [array([ 9, 16], dtype=int64), array([ 2, 15], dtype=int64), array([ 6, 13], dtype=int64), array([ 0,  3, 12, 17, 18], dtype=int64), array([ 4,  7, 14, 19], dtype=int64), array([11], dtype=int64), array([8], dtype=int64), array([10], dtype=int64), array([1], dtype=int64), array([5], dtype=int64)]\n",
      "Clustering score 1.0\n",
      "9\n",
      "[[ 1.00000486  0.19528863  0.02561039  0.99668833  0.20208539  0.56860763\n",
      "   0.38315535  0.20306042  0.49067695  0.44079011  0.56720379  0.3283239\n",
      "   0.9959958   0.40031031  0.20798308  0.0166681   0.47442803  0.99683826\n",
      "   0.99741155  0.20361497]\n",
      " [ 0.19528861  1.00000477  0.41137531  0.19167493  0.3771059   0.24370063\n",
      "   0.39106187  0.36808926  0.40906194  0.44945843  0.2849528   0.36204247\n",
      "   0.19247261  0.37429718  0.37206565  0.41077703  0.51464952  0.2013092\n",
      "   0.19865639  0.38054123]\n",
      " [ 0.02561039  0.41137531  1.00001562  0.02564689  0.21064703  0.00128895\n",
      "   0.26434607  0.21308137  0.10274132  0.13117827  0.03714259  0.39043156\n",
      "   0.02897692  0.26248311  0.20809203  0.96821446  0.12206483  0.02925663\n",
      "   0.03090161  0.21252558]\n",
      " [ 0.99668835  0.19167493  0.02564689  1.00000339  0.20126616  0.55307553\n",
      "   0.37079829  0.20285834  0.48818572  0.43757023  0.55858536  0.32641746\n",
      "   0.99726918  0.38883074  0.20753086  0.01723536  0.47008343  0.99733143\n",
      "   0.99729315  0.2026254 ]\n",
      " [ 0.20208539  0.3771059   0.21064702  0.20126616  1.00000808  0.2216066\n",
      "   0.40761222  0.99337087  0.11883686  0.43513651  0.19394052  0.14058287\n",
      "   0.2033904   0.42180242  0.99602019  0.20659293  0.41505998  0.20561543\n",
      "   0.20204944  0.99756104]\n",
      " [ 0.56860763  0.24370063  0.00128895  0.55307554  0.2216066   1.0000052\n",
      "   0.56584578  0.2138416   0.46466076  0.58632796  0.70937     0.23336187\n",
      "   0.55012185  0.57622937  0.2201146  -0.00703314  0.60793341  0.56566583\n",
      "   0.55737565  0.22279827]\n",
      " [ 0.38315535  0.39106188  0.26434607  0.37079829  0.40761222  0.56584577\n",
      "   1.00000477  0.39971969  0.32398084  0.51845936  0.47586212  0.24872089\n",
      "   0.36858724  0.98459263  0.40048526  0.25272953  0.51907961  0.38156229\n",
      "   0.37220046  0.41179678]\n",
      " [ 0.20306042  0.36808928  0.21308137  0.20285834  0.99337084  0.21384159\n",
      "   0.39971967  1.00000465  0.12012255  0.43447211  0.18635276  0.13554949\n",
      "   0.20538903  0.41636832  0.99540776  0.20899158  0.40731752  0.20690166\n",
      "   0.20349233  0.99093089]\n",
      " [ 0.49067697  0.40906193  0.10274132  0.48818572  0.11883686  0.46466076\n",
      "   0.32398084  0.12012255  1.00000298  0.2571568   0.42021884  0.1761\n",
      "   0.48589837  0.32784975  0.12632583  0.10358332  0.3087821   0.49774053\n",
      "   0.49248743  0.12024278]\n",
      " [ 0.4407901   0.44945843  0.13117827  0.43757021  0.43513651  0.58632798\n",
      "   0.51845937  0.43447212  0.2571568   1.00000589  0.52996392  0.37206858\n",
      "   0.43600938  0.51108481  0.43160583  0.13698578  0.91963938  0.44428888\n",
      "   0.43698606  0.43590029]\n",
      " [ 0.56720377  0.28495279  0.03714259  0.55858535  0.19394051  0.70937\n",
      "   0.47586212  0.18635276  0.42021885  0.52996392  1.00000956  0.29620861\n",
      "   0.55625261  0.48980101  0.19407724  0.03011649  0.54508142  0.56780618\n",
      "   0.561536    0.20021761]\n",
      " [ 0.3283239   0.36204245  0.39043157  0.32641745  0.14058287  0.23336187\n",
      "   0.24872089  0.13554949  0.17609999  0.37206857  0.2962086   1.00001128\n",
      "   0.32944006  0.2529455   0.13819088  0.39433646  0.38151416  0.33066865\n",
      "   0.33025943  0.13841719]\n",
      " [ 0.99599584  0.19247261  0.02897692  0.9972692   0.20339039  0.55012185\n",
      "   0.36858724  0.20538903  0.48589838  0.43600938  0.55625261  0.32944007\n",
      "   1.00000708  0.38663449  0.21018118  0.02027116  0.46805704  0.99661233\n",
      "   0.99750541  0.20450361]\n",
      " [ 0.40031031  0.37429717  0.26248312  0.38883074  0.4218024   0.57622936\n",
      "   0.98459264  0.41636832  0.32784975  0.51108481  0.489801    0.25294551\n",
      "   0.38663449  1.00000534  0.41629898  0.2503279   0.50703445  0.39993479\n",
      "   0.39003799  0.4247662 ]\n",
      " [ 0.20798308  0.37206565  0.20809203  0.20753086  0.99602019  0.22011461\n",
      "   0.40048524  0.99540778  0.12632582  0.43160583  0.19407724  0.13819089\n",
      "   0.21018118  0.41629898  1.00000682  0.2030823   0.40982284  0.21179341\n",
      "   0.20832589  0.99385829]\n",
      " [ 0.01666811  0.41077703  0.96821448  0.01723536  0.20659293 -0.00703315\n",
      "   0.25272954  0.20899159  0.10358333  0.13698578  0.03011649  0.39433645\n",
      "   0.02027116  0.25032789  0.2030823   1.00001671  0.12465876  0.02065553\n",
      "   0.02222008  0.20848087]\n",
      " [ 0.47442803  0.51464955  0.12206483  0.47008342  0.41505997  0.6079334\n",
      "   0.51907961  0.40731752  0.3087821   0.9196394   0.54508144  0.38151417\n",
      "   0.46805707  0.50703447  0.40982284  0.12465876  1.00000498  0.47733769\n",
      "   0.469907    0.41690767]\n",
      " [ 0.99683827  0.2013092   0.02925663  0.99733142  0.20561542  0.56566584\n",
      "   0.3815623   0.20690165  0.49774053  0.44428888  0.56780617  0.33066866\n",
      "   0.99661232  0.39993478  0.21179341  0.02065553  0.47733771  1.00000339\n",
      "   0.99724776  0.20691752]\n",
      " [ 0.99741153  0.1986564   0.03090162  0.99729315  0.20204945  0.55737566\n",
      "   0.37220047  0.20349232  0.49248743  0.43698608  0.56153601  0.33025943\n",
      "   0.99750541  0.39003798  0.20832588  0.02222008  0.46990702  0.99724772\n",
      "   1.00000367  0.20327046]\n",
      " [ 0.20361496  0.38054124  0.21252557  0.2026254   0.99756105  0.22279827\n",
      "   0.41179678  0.9909309   0.12024278  0.43590031  0.2002176   0.1384172\n",
      "   0.2045036   0.42476621  0.9938583   0.20848086  0.41690767  0.20691753\n",
      "   0.20327047  1.00000558]]\n",
      "Original Copylist [9, 1, 4, 9, 6, 7, 5, 6, 2, 0, 8, 3, 9, 5, 6, 4, 0, 9, 9, 6]\n",
      "Found clusters [8 5 1 8 4 9 3 4 6 0 2 7 8 3 4 1 0 8 8 4]\n",
      "Original groups [array([ 9, 16], dtype=int64), array([1], dtype=int64), array([8], dtype=int64), array([11], dtype=int64), array([ 2, 15], dtype=int64), array([ 6, 13], dtype=int64), array([ 4,  7, 14, 19], dtype=int64), array([5], dtype=int64), array([10], dtype=int64), array([ 0,  3, 12, 17, 18], dtype=int64)]\n",
      "Clustered groups [array([ 9, 16], dtype=int64), array([ 2, 15], dtype=int64), array([10], dtype=int64), array([ 6, 13], dtype=int64), array([ 4,  7, 14, 19], dtype=int64), array([1], dtype=int64), array([8], dtype=int64), array([11], dtype=int64), array([ 0,  3, 12, 17, 18], dtype=int64), array([5], dtype=int64)]\n",
      "Clustering score 1.0\n",
      "\n",
      "\n",
      " Entering epoch 4\n",
      "Iter 1 - Epoch 0 - Client Type: Benign - Client Number 0 - Poison Training False\n"
     ]
    },
    {
     "name": "stderr",
     "output_type": "stream",
     "text": [
      "100%|████████████████████████████████████████████████████████████████████████████████████| 1/1 [00:00<00:00,  1.40it/s]\n"
     ]
    },
    {
     "name": "stdout",
     "output_type": "stream",
     "text": [
      "Iter 1 - Epoch 0 - Client Type: Benign - Client Number 1 - Poison Training False\n"
     ]
    },
    {
     "name": "stderr",
     "output_type": "stream",
     "text": [
      "100%|████████████████████████████████████████████████████████████████████████████████████| 2/2 [00:01<00:00,  1.13it/s]\n"
     ]
    },
    {
     "name": "stdout",
     "output_type": "stream",
     "text": [
      "Iter 1 - Epoch 0 - Client Type: Benign - Client Number 2 - Poison Training False\n"
     ]
    },
    {
     "name": "stderr",
     "output_type": "stream",
     "text": [
      "100%|████████████████████████████████████████████████████████████████████████████████████| 2/2 [00:01<00:00,  1.64it/s]\n"
     ]
    },
    {
     "name": "stdout",
     "output_type": "stream",
     "text": [
      "Iter 1 - Epoch 0 - Client Type: Benign - Client Number 3 - Poison Training False\n"
     ]
    },
    {
     "name": "stderr",
     "output_type": "stream",
     "text": [
      "100%|████████████████████████████████████████████████████████████████████████████████████| 1/1 [00:00<00:00,  1.55it/s]\n"
     ]
    },
    {
     "name": "stdout",
     "output_type": "stream",
     "text": [
      "Iter 1 - Epoch 0 - Client Type: Benign - Client Number 4 - Poison Training False\n"
     ]
    },
    {
     "name": "stderr",
     "output_type": "stream",
     "text": [
      "100%|████████████████████████████████████████████████████████████████████████████████████| 1/1 [00:00<00:00,  1.13it/s]\n"
     ]
    },
    {
     "name": "stdout",
     "output_type": "stream",
     "text": [
      "Iter 1 - Epoch 0 - Client Type: Benign - Client Number 5 - Poison Training False\n"
     ]
    },
    {
     "name": "stderr",
     "output_type": "stream",
     "text": [
      "100%|████████████████████████████████████████████████████████████████████████████████████| 1/1 [00:00<00:00,  1.07it/s]\n"
     ]
    },
    {
     "name": "stdout",
     "output_type": "stream",
     "text": [
      "Iter 1 - Epoch 0 - Client Type: Benign - Client Number 6 - Poison Training False\n"
     ]
    },
    {
     "name": "stderr",
     "output_type": "stream",
     "text": [
      "100%|████████████████████████████████████████████████████████████████████████████████████| 2/2 [00:01<00:00,  1.05it/s]\n"
     ]
    },
    {
     "name": "stdout",
     "output_type": "stream",
     "text": [
      "Iter 1 - Epoch 0 - Client Type: Benign - Client Number 7 - Poison Training False\n"
     ]
    },
    {
     "name": "stderr",
     "output_type": "stream",
     "text": [
      "100%|████████████████████████████████████████████████████████████████████████████████████| 1/1 [00:00<00:00,  1.23it/s]\n"
     ]
    },
    {
     "name": "stdout",
     "output_type": "stream",
     "text": [
      "Iter 1 - Epoch 0 - Client Type: Benign - Client Number 8 - Poison Training False\n"
     ]
    },
    {
     "name": "stderr",
     "output_type": "stream",
     "text": [
      "100%|████████████████████████████████████████████████████████████████████████████████████| 1/1 [00:00<00:00,  1.14it/s]\n"
     ]
    },
    {
     "name": "stdout",
     "output_type": "stream",
     "text": [
      "Iter 1 - Epoch 0 - Client Type: Benign - Client Number 9 - Poison Training False\n"
     ]
    },
    {
     "name": "stderr",
     "output_type": "stream",
     "text": [
      "100%|████████████████████████████████████████████████████████████████████████████████████| 2/2 [00:01<00:00,  1.57it/s]\n"
     ]
    },
    {
     "name": "stdout",
     "output_type": "stream",
     "text": [
      "Iter 1 - Epoch 0 - Client Type: Benign - Client Number 10 - Poison Training False\n"
     ]
    },
    {
     "name": "stderr",
     "output_type": "stream",
     "text": [
      "100%|████████████████████████████████████████████████████████████████████████████████████| 1/1 [00:00<00:00,  2.08it/s]\n"
     ]
    },
    {
     "name": "stdout",
     "output_type": "stream",
     "text": [
      "Iter 1 - Epoch 0 - Client Type: Benign - Client Number 11 - Poison Training False\n"
     ]
    },
    {
     "name": "stderr",
     "output_type": "stream",
     "text": [
      "100%|████████████████████████████████████████████████████████████████████████████████████| 2/2 [00:01<00:00,  1.24it/s]\n"
     ]
    },
    {
     "name": "stdout",
     "output_type": "stream",
     "text": [
      "Iter 1 - Epoch 0 - Client Type: Benign - Client Number 12 - Poison Training False\n"
     ]
    },
    {
     "name": "stderr",
     "output_type": "stream",
     "text": [
      "100%|████████████████████████████████████████████████████████████████████████████████████| 1/1 [00:00<00:00,  1.49it/s]\n"
     ]
    },
    {
     "name": "stdout",
     "output_type": "stream",
     "text": [
      "Iter 1 - Epoch 0 - Client Type: Benign - Client Number 13 - Poison Training False\n"
     ]
    },
    {
     "name": "stderr",
     "output_type": "stream",
     "text": [
      "100%|████████████████████████████████████████████████████████████████████████████████████| 2/2 [00:01<00:00,  1.00it/s]\n"
     ]
    },
    {
     "name": "stdout",
     "output_type": "stream",
     "text": [
      "Iter 1 - Epoch 0 - Client Type: Benign - Client Number 14 - Poison Training False\n"
     ]
    },
    {
     "name": "stderr",
     "output_type": "stream",
     "text": [
      "100%|████████████████████████████████████████████████████████████████████████████████████| 1/1 [00:00<00:00,  1.09it/s]\n"
     ]
    },
    {
     "name": "stdout",
     "output_type": "stream",
     "text": [
      "Iter 1 - Epoch 0 - Client Type: Benign - Client Number 15 - Poison Training False\n"
     ]
    },
    {
     "name": "stderr",
     "output_type": "stream",
     "text": [
      "100%|████████████████████████████████████████████████████████████████████████████████████| 2/2 [00:01<00:00,  1.50it/s]\n"
     ]
    },
    {
     "name": "stdout",
     "output_type": "stream",
     "text": [
      "Iter 1 - Epoch 0 - Client Type: Benign - Client Number 16 - Poison Training False\n"
     ]
    },
    {
     "name": "stderr",
     "output_type": "stream",
     "text": [
      "100%|████████████████████████████████████████████████████████████████████████████████████| 2/2 [00:01<00:00,  1.43it/s]\n"
     ]
    },
    {
     "name": "stdout",
     "output_type": "stream",
     "text": [
      "Iter 1 - Epoch 0 - Client Type: Benign - Client Number 17 - Poison Training False\n"
     ]
    },
    {
     "name": "stderr",
     "output_type": "stream",
     "text": [
      "100%|████████████████████████████████████████████████████████████████████████████████████| 1/1 [00:00<00:00,  1.37it/s]\n"
     ]
    },
    {
     "name": "stdout",
     "output_type": "stream",
     "text": [
      "Iter 1 - Epoch 0 - Client Type: Benign - Client Number 18 - Poison Training False\n"
     ]
    },
    {
     "name": "stderr",
     "output_type": "stream",
     "text": [
      "100%|████████████████████████████████████████████████████████████████████████████████████| 1/1 [00:00<00:00,  1.30it/s]\n"
     ]
    },
    {
     "name": "stdout",
     "output_type": "stream",
     "text": [
      "Iter 1 - Epoch 0 - Client Type: Benign - Client Number 19 - Poison Training False\n"
     ]
    },
    {
     "name": "stderr",
     "output_type": "stream",
     "text": [
      "100%|████████████████████████████████████████████████████████████████████████████████████| 1/1 [00:00<00:00,  1.02it/s]\n"
     ]
    },
    {
     "name": "stdout",
     "output_type": "stream",
     "text": [
      "Original Copylist [9, 1, 4, 9, 6, 7, 5, 6, 2, 0, 8, 3, 9, 5, 6, 4, 0, 9, 9, 6]\n",
      "Found clusters [3 6 0 3 2 9 5 2 7 1 8 4 3 5 2 0 1 3 3 2]\n",
      "Original groups [array([ 9, 16], dtype=int64), array([1], dtype=int64), array([8], dtype=int64), array([11], dtype=int64), array([ 2, 15], dtype=int64), array([ 6, 13], dtype=int64), array([ 4,  7, 14, 19], dtype=int64), array([5], dtype=int64), array([10], dtype=int64), array([ 0,  3, 12, 17, 18], dtype=int64)]\n",
      "Clustered groups [array([ 2, 15], dtype=int64), array([ 9, 16], dtype=int64), array([ 4,  7, 14, 19], dtype=int64), array([ 0,  3, 12, 17, 18], dtype=int64), array([11], dtype=int64), array([ 6, 13], dtype=int64), array([1], dtype=int64), array([8], dtype=int64), array([10], dtype=int64), array([5], dtype=int64)]\n",
      "Clustering score 1.0\n",
      "10\n",
      "[[ 1.0000051   0.20543279 -0.0175813   0.99571409  0.21202429  0.65514162\n",
      "   0.42029622  0.21058673  0.50079816  0.48644282  0.57157814  0.27717908\n",
      "   0.99451061  0.42817817  0.2201152  -0.03220147  0.52364686  0.99588189\n",
      "   0.99635053  0.21392297]\n",
      " [ 0.20543277  1.00000391  0.32734406  0.19909924  0.38742507  0.29333951\n",
      "   0.41787143  0.37372711  0.39648379  0.48101314  0.22293721  0.2983901\n",
      "   0.19910453  0.38911405  0.38062939  0.32358651  0.55456563  0.2089256\n",
      "   0.2040848   0.39458238]\n",
      " [-0.0175813   0.32734407  1.00001636 -0.0151448   0.17045921 -0.00927801\n",
      "   0.19494116  0.18289183  0.02512076  0.09781809 -0.07562131  0.35289193\n",
      "  -0.01049971  0.18045384  0.17856426  0.95564556  0.08930812 -0.0152494\n",
      "  -0.01579234  0.16512373]\n",
      " [ 0.9957141   0.19909924 -0.0151448   1.00000229  0.211295    0.64047856\n",
      "   0.40559531  0.21087381  0.49748654  0.48384279  0.56218438  0.27718118\n",
      "   0.99662987  0.41363339  0.22000112 -0.02922772  0.51878906  0.99667324\n",
      "   0.99649385  0.21287098]\n",
      " [ 0.21202429  0.38742508  0.17045921  0.211295    1.00000701  0.19661312\n",
      "   0.36966885  0.99490064  0.10064364  0.43930446  0.17470693  0.14491548\n",
      "   0.21302242  0.38177666  0.99620306  0.1631727   0.42313894  0.21474821\n",
      "   0.21065476  0.99766589]\n",
      " [ 0.65514162  0.2933395  -0.00927801  0.64047858  0.19661311  1.00000532\n",
      "   0.57438286  0.18531057  0.51653262  0.57835234  0.78032134  0.24265406\n",
      "   0.635217    0.59125574  0.194953   -0.01816743  0.6191949   0.65500396\n",
      "   0.64554693  0.20120741]\n",
      " [ 0.42029621  0.41787145  0.19494116  0.40559531  0.36966885  0.57438284\n",
      "   1.00000474  0.35075731  0.35464871  0.5084765   0.52417088  0.22586239\n",
      "   0.40156742  0.98707426  0.36037219  0.18414449  0.52380832  0.41846107\n",
      "   0.40745615  0.37869903]\n",
      " [ 0.21058672  0.37372714  0.18289183  0.21087381  0.99490063  0.18531058\n",
      "   0.3507573   1.00000501  0.09256034  0.43418757  0.16448534  0.14356437\n",
      "   0.21321646  0.36402079  0.9963951   0.17514617  0.41329997  0.21347873\n",
      "   0.20957183  0.99217407]\n",
      " [ 0.50079818  0.39648378  0.02512076  0.49748653  0.10064364  0.51653262\n",
      "   0.3546487   0.09256034  1.00000319  0.28005238  0.38601919  0.09902105\n",
      "   0.49390023  0.34997587  0.10208357  0.02993474  0.34412537  0.50819488\n",
      "   0.5008644   0.10666632]\n",
      " [ 0.48644282  0.48101313  0.09781809  0.48384275  0.43930446  0.57835237\n",
      "   0.5084765   0.43418759  0.28005237  1.00000582  0.58638534  0.36811413\n",
      "   0.48210002  0.49816316  0.43488082  0.10234821  0.94189727  0.49128473\n",
      "   0.48363413  0.44405926]\n",
      " [ 0.57157813  0.22293721 -0.07562131  0.56218437  0.17470692  0.78032134\n",
      "   0.52417086  0.16448534  0.38601919  0.58638534  1.00000763  0.22593271\n",
      "   0.55942869  0.52546773  0.17526802 -0.08632775  0.61236354  0.57249035\n",
      "   0.5647594   0.18239281]\n",
      " [ 0.27717908  0.29839008  0.35289194  0.27718118  0.14491548  0.24265405\n",
      "   0.22586239  0.14356436  0.09902104  0.36811413  0.22593271  1.00001082\n",
      "   0.28233135  0.21790053  0.14601173  0.35789967  0.38337716  0.27916458\n",
      "   0.27666942  0.14122503]\n",
      " [ 0.99451065  0.19910453 -0.0104997   0.99662989  0.21302241  0.63521699\n",
      "   0.40156741  0.21321646  0.49390025  0.48210002  0.55942869  0.28233136\n",
      "   1.00000658  0.40960739  0.222433   -0.02540715  0.51593536  0.9955857\n",
      "   0.99660776  0.21418909]\n",
      " [ 0.42817817  0.38911404  0.18045384  0.4136334   0.38177665  0.59125571\n",
      "   0.98707427  0.3640208   0.34997588  0.49816315  0.52546772  0.21790053\n",
      "   0.40960738  1.00000494  0.37355271  0.16808523  0.51407551  0.42727807\n",
      "   0.41567931  0.38954528]\n",
      " [ 0.2201152   0.38062941  0.17856426  0.22000112  0.99620308  0.19495301\n",
      "   0.36037217  0.99639511  0.10208357  0.43488082  0.17526802  0.14601174\n",
      "   0.222433    0.3735527   1.00000782  0.16948048  0.41670201  0.22294137\n",
      "   0.21906173  0.99408295]\n",
      " [-0.03220147  0.32358651  0.95564557 -0.02922773  0.16317271 -0.01816744\n",
      "   0.18414449  0.17514617  0.02993474  0.10234821 -0.08632775  0.35789966\n",
      "  -0.02540715  0.16808522  0.16948048  1.00002043  0.09203363 -0.02932553\n",
      "  -0.03074429  0.15826514]\n",
      " [ 0.52364684  0.55456565  0.08930812  0.51878906  0.42313892  0.61919489\n",
      "   0.52380831  0.41329996  0.34412536  0.94189731  0.61236356  0.38337717\n",
      "   0.51593539  0.51407551  0.41670201  0.09203363  1.00000446  0.52737739\n",
      "   0.52000002  0.42910104]\n",
      " [ 0.99588189  0.2089256  -0.01524939  0.99667324  0.21474821  0.65500399\n",
      "   0.41846107  0.21347873  0.50819489  0.49128473  0.57249035  0.27916459\n",
      "   0.9955857   0.42727807  0.22294137 -0.02932553  0.5273774   1.00000272\n",
      "   0.99660861  0.21647516]\n",
      " [ 0.9963505   0.20408479 -0.01579234  0.99649384  0.21065476  0.64554694\n",
      "   0.40745617  0.20957183  0.5008644   0.48363416  0.56475942  0.27666942\n",
      "   0.99660776  0.4156793   0.21906172 -0.03074429  0.52000003  0.99660858\n",
      "   1.00000343  0.21227882]\n",
      " [ 0.21392296  0.39458239  0.16512373  0.21287098  0.99766591  0.2012074\n",
      "   0.37869903  0.99217408  0.10666631  0.44405929  0.1823928   0.14122503\n",
      "   0.21418908  0.38954529  0.99408295  0.15826514  0.42910104  0.21647517\n",
      "   0.21227882  1.00000551]]\n",
      "Original Copylist [9, 1, 4, 9, 6, 7, 5, 6, 2, 0, 8, 3, 9, 5, 6, 4, 0, 9, 9, 6]\n",
      "Found clusters [7 5 2 7 3 9 1 3 6 0 8 4 7 1 3 2 0 7 7 3]\n",
      "Original groups [array([ 9, 16], dtype=int64), array([1], dtype=int64), array([8], dtype=int64), array([11], dtype=int64), array([ 2, 15], dtype=int64), array([ 6, 13], dtype=int64), array([ 4,  7, 14, 19], dtype=int64), array([5], dtype=int64), array([10], dtype=int64), array([ 0,  3, 12, 17, 18], dtype=int64)]\n",
      "Clustered groups [array([ 9, 16], dtype=int64), array([ 6, 13], dtype=int64), array([ 2, 15], dtype=int64), array([ 4,  7, 14, 19], dtype=int64), array([11], dtype=int64), array([1], dtype=int64), array([8], dtype=int64), array([ 0,  3, 12, 17, 18], dtype=int64), array([10], dtype=int64), array([5], dtype=int64)]\n",
      "Clustering score 1.0\n",
      "Benign net distance [tensor(92.5371), tensor(106.5116), tensor(190.8415), tensor(94.1566), tensor(7.7519), tensor(88.6795), tensor(104.9950), tensor(15.5483), tensor(104.3022), tensor(101.8033), tensor(102.7191), tensor(174.3661), tensor(95.4973), tensor(105.7194), tensor(13.1249), tensor(190.7160), tensor(94.1985), tensor(94.2181), tensor(94.4185), tensor(0.)]\n",
      "Malicious net distance []\n",
      "cos_sim list  [tensor(0.2816), tensor(0.5014), tensor(0.2305), tensor(0.2776), tensor(0.9963), tensor(0.2989), tensor(0.4033), tensor(0.9824), tensor(0.1269), tensor(0.5735), tensor(0.1895), tensor(0.2758), tensor(0.2738), tensor(0.4003), tensor(0.9868), tensor(0.2217), tensor(0.5764), tensor(0.2781), tensor(0.2719), tensor(1.0000)]\n",
      "Norms of local gradients  [tensor(0.7630), tensor(1.2276), tensor(2.0901), tensor(0.7915), tensor(0.9097), tensor(0.6930), tensor(1.0128), tensor(0.9824), tensor(0.8370), tensor(1.2208), tensor(0.9428), tensor(1.8893), tensor(0.8103), tensor(1.0101), tensor(0.9317), tensor(2.0976), tensor(1.1030), tensor(0.7854), tensor(0.7844), tensor(0.9085)]\n",
      "\n",
      " Aggregating models\n",
      "Cosine Similarities:  [tensor(0.2816), tensor(0.5014), tensor(0.2305), tensor(0.2776), tensor(0.9963), tensor(0.2989), tensor(0.4033), tensor(0.9824), tensor(0.1269), tensor(0.5735), tensor(0.1895), tensor(0.2758), tensor(0.2738), tensor(0.4003), tensor(0.9868), tensor(0.2217), tensor(0.5764), tensor(0.2781), tensor(0.2719), tensor(1.0000)]\n",
      "Aggregation Weights:  [0.03666207 0.04056639 0.0109517  0.03483605 0.10878897 0.0428414\n",
      " 0.03954708 0.09932132 0.01505982 0.04666466 0.019964   0.01449892\n",
      " 0.03356959 0.03936462 0.10519487 0.0104979  0.05190461 0.03516757\n",
      " 0.03442873 0.10932894]\n",
      "\n",
      "\n",
      "\n",
      "Aggregate test at iter  1\n"
     ]
    },
    {
     "name": "stderr",
     "output_type": "stream",
     "text": [
      "100%|██████████████████████████████████████████████████████████████████████████████████| 10/10 [00:02<00:00,  4.24it/s]\n"
     ]
    },
    {
     "name": "stdout",
     "output_type": "stream",
     "text": [
      "\n",
      "Test set: Avg. loss: 0.0017, Accuracy: 3976/10000 (40%)\n",
      "\n",
      "\n",
      "\n",
      " Entering epoch 0\n",
      "Iter 2 - Epoch 0 - Client Type: Benign - Client Number 0 - Poison Training False\n"
     ]
    },
    {
     "name": "stderr",
     "output_type": "stream",
     "text": [
      "100%|████████████████████████████████████████████████████████████████████████████████████| 1/1 [00:00<00:00,  1.37it/s]\n"
     ]
    },
    {
     "name": "stdout",
     "output_type": "stream",
     "text": [
      "Iter 2 - Epoch 0 - Client Type: Benign - Client Number 1 - Poison Training False\n"
     ]
    },
    {
     "name": "stderr",
     "output_type": "stream",
     "text": [
      "100%|████████████████████████████████████████████████████████████████████████████████████| 2/2 [00:01<00:00,  1.10it/s]\n"
     ]
    },
    {
     "name": "stdout",
     "output_type": "stream",
     "text": [
      "Iter 2 - Epoch 0 - Client Type: Benign - Client Number 2 - Poison Training False\n"
     ]
    },
    {
     "name": "stderr",
     "output_type": "stream",
     "text": [
      "100%|████████████████████████████████████████████████████████████████████████████████████| 2/2 [00:01<00:00,  1.56it/s]\n"
     ]
    },
    {
     "name": "stdout",
     "output_type": "stream",
     "text": [
      "Iter 2 - Epoch 0 - Client Type: Benign - Client Number 3 - Poison Training False\n"
     ]
    },
    {
     "name": "stderr",
     "output_type": "stream",
     "text": [
      "100%|████████████████████████████████████████████████████████████████████████████████████| 1/1 [00:00<00:00,  1.49it/s]\n"
     ]
    },
    {
     "name": "stdout",
     "output_type": "stream",
     "text": [
      "Iter 2 - Epoch 0 - Client Type: Benign - Client Number 4 - Poison Training False\n"
     ]
    },
    {
     "name": "stderr",
     "output_type": "stream",
     "text": [
      "100%|████████████████████████████████████████████████████████████████████████████████████| 1/1 [00:00<00:00,  1.18it/s]\n"
     ]
    },
    {
     "name": "stdout",
     "output_type": "stream",
     "text": [
      "Iter 2 - Epoch 0 - Client Type: Benign - Client Number 5 - Poison Training False\n"
     ]
    },
    {
     "name": "stderr",
     "output_type": "stream",
     "text": [
      "100%|████████████████████████████████████████████████████████████████████████████████████| 1/1 [00:01<00:00,  1.03s/it]\n"
     ]
    },
    {
     "name": "stdout",
     "output_type": "stream",
     "text": [
      "Iter 2 - Epoch 0 - Client Type: Benign - Client Number 6 - Poison Training False\n"
     ]
    },
    {
     "name": "stderr",
     "output_type": "stream",
     "text": [
      "100%|████████████████████████████████████████████████████████████████████████████████████| 2/2 [00:02<00:00,  1.08s/it]\n"
     ]
    },
    {
     "name": "stdout",
     "output_type": "stream",
     "text": [
      "Iter 2 - Epoch 0 - Client Type: Benign - Client Number 7 - Poison Training False\n"
     ]
    },
    {
     "name": "stderr",
     "output_type": "stream",
     "text": [
      "100%|████████████████████████████████████████████████████████████████████████████████████| 1/1 [00:00<00:00,  1.07it/s]\n"
     ]
    },
    {
     "name": "stdout",
     "output_type": "stream",
     "text": [
      "Iter 2 - Epoch 0 - Client Type: Benign - Client Number 8 - Poison Training False\n"
     ]
    },
    {
     "name": "stderr",
     "output_type": "stream",
     "text": [
      "100%|████████████████████████████████████████████████████████████████████████████████████| 1/1 [00:00<00:00,  1.03it/s]\n"
     ]
    },
    {
     "name": "stdout",
     "output_type": "stream",
     "text": [
      "Iter 2 - Epoch 0 - Client Type: Benign - Client Number 9 - Poison Training False\n"
     ]
    },
    {
     "name": "stderr",
     "output_type": "stream",
     "text": [
      "100%|████████████████████████████████████████████████████████████████████████████████████| 2/2 [00:01<00:00,  1.50it/s]\n"
     ]
    },
    {
     "name": "stdout",
     "output_type": "stream",
     "text": [
      "Iter 2 - Epoch 0 - Client Type: Benign - Client Number 10 - Poison Training False\n"
     ]
    },
    {
     "name": "stderr",
     "output_type": "stream",
     "text": [
      "100%|████████████████████████████████████████████████████████████████████████████████████| 1/1 [00:00<00:00,  1.61it/s]\n"
     ]
    },
    {
     "name": "stdout",
     "output_type": "stream",
     "text": [
      "Iter 2 - Epoch 0 - Client Type: Benign - Client Number 11 - Poison Training False\n"
     ]
    },
    {
     "name": "stderr",
     "output_type": "stream",
     "text": [
      "100%|████████████████████████████████████████████████████████████████████████████████████| 2/2 [00:01<00:00,  1.14it/s]\n"
     ]
    },
    {
     "name": "stdout",
     "output_type": "stream",
     "text": [
      "Iter 2 - Epoch 0 - Client Type: Benign - Client Number 12 - Poison Training False\n"
     ]
    },
    {
     "name": "stderr",
     "output_type": "stream",
     "text": [
      "100%|████████████████████████████████████████████████████████████████████████████████████| 1/1 [00:00<00:00,  1.39it/s]\n"
     ]
    },
    {
     "name": "stdout",
     "output_type": "stream",
     "text": [
      "Iter 2 - Epoch 0 - Client Type: Benign - Client Number 13 - Poison Training False\n"
     ]
    },
    {
     "name": "stderr",
     "output_type": "stream",
     "text": [
      "100%|████████████████████████████████████████████████████████████████████████████████████| 2/2 [00:02<00:00,  1.01s/it]\n"
     ]
    },
    {
     "name": "stdout",
     "output_type": "stream",
     "text": [
      "Iter 2 - Epoch 0 - Client Type: Benign - Client Number 14 - Poison Training False\n"
     ]
    },
    {
     "name": "stderr",
     "output_type": "stream",
     "text": [
      "100%|████████████████████████████████████████████████████████████████████████████████████| 1/1 [00:00<00:00,  1.19it/s]\n"
     ]
    },
    {
     "name": "stdout",
     "output_type": "stream",
     "text": [
      "Iter 2 - Epoch 0 - Client Type: Benign - Client Number 15 - Poison Training False\n"
     ]
    },
    {
     "name": "stderr",
     "output_type": "stream",
     "text": [
      "100%|████████████████████████████████████████████████████████████████████████████████████| 2/2 [00:01<00:00,  1.45it/s]\n"
     ]
    },
    {
     "name": "stdout",
     "output_type": "stream",
     "text": [
      "Iter 2 - Epoch 0 - Client Type: Benign - Client Number 16 - Poison Training False\n"
     ]
    },
    {
     "name": "stderr",
     "output_type": "stream",
     "text": [
      "100%|████████████████████████████████████████████████████████████████████████████████████| 2/2 [00:01<00:00,  1.59it/s]\n"
     ]
    },
    {
     "name": "stdout",
     "output_type": "stream",
     "text": [
      "Iter 2 - Epoch 0 - Client Type: Benign - Client Number 17 - Poison Training False\n"
     ]
    },
    {
     "name": "stderr",
     "output_type": "stream",
     "text": [
      "100%|████████████████████████████████████████████████████████████████████████████████████| 1/1 [00:00<00:00,  1.32it/s]\n"
     ]
    },
    {
     "name": "stdout",
     "output_type": "stream",
     "text": [
      "Iter 2 - Epoch 0 - Client Type: Benign - Client Number 18 - Poison Training False\n"
     ]
    },
    {
     "name": "stderr",
     "output_type": "stream",
     "text": [
      "100%|████████████████████████████████████████████████████████████████████████████████████| 1/1 [00:00<00:00,  1.48it/s]\n"
     ]
    },
    {
     "name": "stdout",
     "output_type": "stream",
     "text": [
      "Iter 2 - Epoch 0 - Client Type: Benign - Client Number 19 - Poison Training False\n"
     ]
    },
    {
     "name": "stderr",
     "output_type": "stream",
     "text": [
      "100%|████████████████████████████████████████████████████████████████████████████████████| 1/1 [00:00<00:00,  1.17it/s]\n"
     ]
    },
    {
     "name": "stdout",
     "output_type": "stream",
     "text": [
      "Original Copylist [9, 1, 4, 9, 6, 7, 5, 6, 2, 0, 8, 3, 9, 5, 6, 4, 0, 9, 9, 6]\n",
      "Found clusters [4 8 1 4 3 9 2 3 6 0 7 5 4 2 3 1 0 4 4 3]\n",
      "Original groups [array([ 9, 16], dtype=int64), array([1], dtype=int64), array([8], dtype=int64), array([11], dtype=int64), array([ 2, 15], dtype=int64), array([ 6, 13], dtype=int64), array([ 4,  7, 14, 19], dtype=int64), array([5], dtype=int64), array([10], dtype=int64), array([ 0,  3, 12, 17, 18], dtype=int64)]\n",
      "Clustered groups [array([ 9, 16], dtype=int64), array([ 2, 15], dtype=int64), array([ 6, 13], dtype=int64), array([ 4,  7, 14, 19], dtype=int64), array([ 0,  3, 12, 17, 18], dtype=int64), array([11], dtype=int64), array([8], dtype=int64), array([10], dtype=int64), array([1], dtype=int64), array([5], dtype=int64)]\n",
      "Clustering score 1.0\n",
      "11\n",
      "[[ 1.00000472  0.24456827  0.02393979  0.99574801  0.26281419  0.67804714\n",
      "   0.45111395  0.2608094   0.49966378  0.5109251   0.59565141  0.27188272\n",
      "   0.99444956  0.46150172  0.27062162  0.0101136   0.53576053  0.99594153\n",
      "   0.99631151  0.26483049]\n",
      " [ 0.24456826  1.00000477  0.33433711  0.2371984   0.39389706  0.31527068\n",
      "   0.44051256  0.3793924   0.42697367  0.51077484  0.2341442   0.31387346\n",
      "   0.23680825  0.40877874  0.38573492  0.33055649  0.58057968  0.24770633\n",
      "   0.24195004  0.40173602]\n",
      " [ 0.02393979  0.33433712  1.00001409  0.02612903  0.17780026  0.0231588\n",
      "   0.21685103  0.19060321  0.0636121   0.10187378 -0.05814766  0.38592338\n",
      "   0.03108917  0.19385275  0.18631426  0.95610113  0.09890132  0.02717003\n",
      "   0.02589976  0.17243926]\n",
      " [ 0.99574802  0.23719841  0.02612903  1.00000246  0.26107754  0.66386411\n",
      "   0.4363305   0.26006198  0.49528413  0.50755092  0.58664322  0.27206038\n",
      "   0.99662058  0.4470364   0.26949214  0.01277668  0.53007241  0.99665555\n",
      "   0.99650289  0.26276624]\n",
      " [ 0.2628142   0.39389707  0.17780025  0.26107754  1.00000958  0.23881949\n",
      "   0.39431164  0.99523679  0.15063379  0.44879601  0.20025905  0.1589888\n",
      "   0.26263202  0.40297073  0.99628682  0.17082021  0.43240992  0.26604258\n",
      "   0.26134322  0.99778507]\n",
      " [ 0.67804714  0.31527068  0.0231588   0.66386412  0.23881948  1.0000072\n",
      "   0.5855257   0.22707271  0.52648964  0.58576342  0.77266555  0.27053857\n",
      "   0.65804871  0.60386193  0.23643765  0.01369379  0.62474305  0.67799419\n",
      "   0.66853865  0.2430321 ]\n",
      " [ 0.45111393  0.44051257  0.21685103  0.43633049  0.39431162  0.58552566\n",
      "   1.00000517  0.37389118  0.38167105  0.49519507  0.51589935  0.25356328\n",
      "   0.43185792  0.98759224  0.38339397  0.20574902  0.51686781  0.44989823\n",
      "   0.43828575  0.40266863]\n",
      " [ 0.2608094   0.37939241  0.1906032   0.26006198  0.99523681  0.22707272\n",
      "   0.37389118  1.00000725  0.14123197  0.44136139  0.18951521  0.15701033\n",
      "   0.26223865  0.3838457   0.99662889  0.18305045  0.42025956  0.26415619\n",
      "   0.25970811  0.99273551]\n",
      " [ 0.49966381  0.42697368  0.0636121   0.49528412  0.15063379  0.52648964\n",
      "   0.38167105  0.14123197  1.00000296  0.33774093  0.39652452  0.12894721\n",
      "   0.49067344  0.37674535  0.14953342  0.06939596  0.39931445  0.50631171\n",
      "   0.49757391  0.1574301 ]\n",
      " [ 0.51092508  0.51077484  0.10187378  0.5075509   0.448796    0.58576345\n",
      "   0.49519506  0.4413614   0.33774092  1.00000653  0.5778322   0.3636432\n",
      "   0.50506952  0.488389    0.44324409  0.10758025  0.94223764  0.51548877\n",
      "   0.50767314  0.45411006]\n",
      " [ 0.5956514   0.2341442  -0.05814766  0.58664321  0.20025903  0.77266555\n",
      "   0.51589932  0.18951521  0.39652453  0.5778322   1.00000911  0.24586542\n",
      "   0.58326722  0.52142203  0.20060501 -0.06786098  0.60378921  0.59646949\n",
      "   0.58885872  0.20720453]\n",
      " [ 0.27188272  0.31387345  0.38592337  0.27206038  0.1589888   0.27053856\n",
      "   0.25356327  0.15701032  0.1289472   0.36364319  0.24586542  1.0000123\n",
      "   0.2772977   0.24562852  0.15923029  0.39135761  0.3770557   0.27427512\n",
      "   0.27180628  0.15587493]\n",
      " [ 0.99444959  0.23680826  0.03108918  0.9966206   0.26263202  0.6580487\n",
      "   0.43185791  0.26223866  0.49067345  0.50506952  0.58326723  0.2772977\n",
      "   1.0000073   0.44267776  0.27179838  0.01679617  0.52633336  0.99554405\n",
      "   0.99662861  0.26394807]\n",
      " [ 0.46150172  0.40877873  0.19385275  0.44703642  0.40297071  0.60386189\n",
      "   0.98759226  0.38384571  0.37674536  0.48838898  0.521422    0.24562852\n",
      "   0.44267775  1.00000496  0.3930859   0.18155155  0.51058978  0.46136931\n",
      "   0.44910213  0.41004298]\n",
      " [ 0.27062162  0.38573494  0.18631426  0.26949215  0.99628683  0.23643766\n",
      "   0.38339398  0.9966289   0.14953341  0.4432441   0.200605    0.15923029\n",
      "   0.27179838  0.39308589  1.00000899  0.17766042  0.42456875  0.27389076\n",
      "   0.26946782  0.99439902]\n",
      " [ 0.0101136   0.3305565   0.95610116  0.01277667  0.17082021  0.01369379\n",
      "   0.20574902  0.18305045  0.06939596  0.10758025 -0.06786097  0.39135761\n",
      "   0.01679616  0.18155155  0.17766042  1.00001988  0.1032001   0.01378205\n",
      "   0.01171148  0.16616526]\n",
      " [ 0.53576053  0.5805797   0.09890132  0.53007241  0.4324099   0.62474306\n",
      "   0.5168678   0.42025956  0.39931445  0.94223768  0.60378925  0.37705572\n",
      "   0.52633337  0.51058978  0.42456875  0.1032001   1.00000529  0.53909435\n",
      "   0.53135776  0.4388572 ]\n",
      " [ 0.99594153  0.24770633  0.02717004  0.99665555  0.26604258  0.67799422\n",
      "   0.44989823  0.26415618  0.50631173  0.51548877  0.59646949  0.27427512\n",
      "   0.99554405  0.46136931  0.27389076  0.01378205  0.53909436  1.00000327\n",
      "   0.99659412  0.26788201]\n",
      " [ 0.9963115   0.24195004  0.02589976  0.99650288  0.26134322  0.66853868\n",
      "   0.43828576  0.25970812  0.49757391  0.50767317  0.58885873  0.27180629\n",
      "   0.99662859  0.44910213  0.26946782  0.01171149  0.53135777  0.99659407\n",
      "   1.0000041   0.26311603]\n",
      " [ 0.26483048  0.40173603  0.17243926  0.26276624  0.99778508  0.24303209\n",
      "   0.40266864  0.99273553  0.15743009  0.45411009  0.20720452  0.15587494\n",
      "   0.26394807  0.41004299  0.99439902  0.16616526  0.4388572   0.26788202\n",
      "   0.26311604  1.00000818]]\n",
      "Original Copylist [9, 1, 4, 9, 6, 7, 5, 6, 2, 0, 8, 3, 9, 5, 6, 4, 0, 9, 9, 6]\n",
      "Found clusters [3 7 2 3 1 9 6 1 8 0 4 5 3 6 1 2 0 3 3 1]\n",
      "Original groups [array([ 9, 16], dtype=int64), array([1], dtype=int64), array([8], dtype=int64), array([11], dtype=int64), array([ 2, 15], dtype=int64), array([ 6, 13], dtype=int64), array([ 4,  7, 14, 19], dtype=int64), array([5], dtype=int64), array([10], dtype=int64), array([ 0,  3, 12, 17, 18], dtype=int64)]\n",
      "Clustered groups [array([ 9, 16], dtype=int64), array([ 4,  7, 14, 19], dtype=int64), array([ 2, 15], dtype=int64), array([ 0,  3, 12, 17, 18], dtype=int64), array([10], dtype=int64), array([11], dtype=int64), array([ 6, 13], dtype=int64), array([1], dtype=int64), array([8], dtype=int64), array([5], dtype=int64)]\n",
      "Clustering score 1.0\n",
      "\n",
      "\n",
      " Entering epoch 1\n",
      "Iter 2 - Epoch 0 - Client Type: Benign - Client Number 0 - Poison Training False\n"
     ]
    },
    {
     "name": "stderr",
     "output_type": "stream",
     "text": [
      "100%|████████████████████████████████████████████████████████████████████████████████████| 1/1 [00:00<00:00,  1.64it/s]\n"
     ]
    },
    {
     "name": "stdout",
     "output_type": "stream",
     "text": [
      "Iter 2 - Epoch 0 - Client Type: Benign - Client Number 1 - Poison Training False\n"
     ]
    },
    {
     "name": "stderr",
     "output_type": "stream",
     "text": [
      "100%|████████████████████████████████████████████████████████████████████████████████████| 2/2 [00:01<00:00,  1.17it/s]\n"
     ]
    },
    {
     "name": "stdout",
     "output_type": "stream",
     "text": [
      "Iter 2 - Epoch 0 - Client Type: Benign - Client Number 2 - Poison Training False\n"
     ]
    },
    {
     "name": "stderr",
     "output_type": "stream",
     "text": [
      "100%|████████████████████████████████████████████████████████████████████████████████████| 2/2 [00:01<00:00,  1.58it/s]\n"
     ]
    },
    {
     "name": "stdout",
     "output_type": "stream",
     "text": [
      "Iter 2 - Epoch 0 - Client Type: Benign - Client Number 3 - Poison Training False\n"
     ]
    },
    {
     "name": "stderr",
     "output_type": "stream",
     "text": [
      "100%|████████████████████████████████████████████████████████████████████████████████████| 1/1 [00:00<00:00,  1.55it/s]\n"
     ]
    },
    {
     "name": "stdout",
     "output_type": "stream",
     "text": [
      "Iter 2 - Epoch 0 - Client Type: Benign - Client Number 4 - Poison Training False\n"
     ]
    },
    {
     "name": "stderr",
     "output_type": "stream",
     "text": [
      "100%|████████████████████████████████████████████████████████████████████████████████████| 1/1 [00:00<00:00,  1.04it/s]\n"
     ]
    },
    {
     "name": "stdout",
     "output_type": "stream",
     "text": [
      "Iter 2 - Epoch 0 - Client Type: Benign - Client Number 5 - Poison Training False\n"
     ]
    },
    {
     "name": "stderr",
     "output_type": "stream",
     "text": [
      "100%|████████████████████████████████████████████████████████████████████████████████████| 1/1 [00:00<00:00,  1.12it/s]\n"
     ]
    },
    {
     "name": "stdout",
     "output_type": "stream",
     "text": [
      "Iter 2 - Epoch 0 - Client Type: Benign - Client Number 6 - Poison Training False\n"
     ]
    },
    {
     "name": "stderr",
     "output_type": "stream",
     "text": [
      "100%|████████████████████████████████████████████████████████████████████████████████████| 2/2 [00:01<00:00,  1.13it/s]\n"
     ]
    },
    {
     "name": "stdout",
     "output_type": "stream",
     "text": [
      "Iter 2 - Epoch 0 - Client Type: Benign - Client Number 7 - Poison Training False\n"
     ]
    },
    {
     "name": "stderr",
     "output_type": "stream",
     "text": [
      "100%|████████████████████████████████████████████████████████████████████████████████████| 1/1 [00:00<00:00,  1.24it/s]\n"
     ]
    },
    {
     "name": "stdout",
     "output_type": "stream",
     "text": [
      "Iter 2 - Epoch 0 - Client Type: Benign - Client Number 8 - Poison Training False\n"
     ]
    },
    {
     "name": "stderr",
     "output_type": "stream",
     "text": [
      "100%|████████████████████████████████████████████████████████████████████████████████████| 1/1 [00:00<00:00,  1.14it/s]\n"
     ]
    },
    {
     "name": "stdout",
     "output_type": "stream",
     "text": [
      "Iter 2 - Epoch 0 - Client Type: Benign - Client Number 9 - Poison Training False\n"
     ]
    },
    {
     "name": "stderr",
     "output_type": "stream",
     "text": [
      "100%|████████████████████████████████████████████████████████████████████████████████████| 2/2 [00:01<00:00,  1.59it/s]\n"
     ]
    },
    {
     "name": "stdout",
     "output_type": "stream",
     "text": [
      "Iter 2 - Epoch 0 - Client Type: Benign - Client Number 10 - Poison Training False\n"
     ]
    },
    {
     "name": "stderr",
     "output_type": "stream",
     "text": [
      "100%|████████████████████████████████████████████████████████████████████████████████████| 1/1 [00:00<00:00,  2.12it/s]\n"
     ]
    },
    {
     "name": "stdout",
     "output_type": "stream",
     "text": [
      "Iter 2 - Epoch 0 - Client Type: Benign - Client Number 11 - Poison Training False\n"
     ]
    },
    {
     "name": "stderr",
     "output_type": "stream",
     "text": [
      "100%|████████████████████████████████████████████████████████████████████████████████████| 2/2 [00:01<00:00,  1.48it/s]\n"
     ]
    },
    {
     "name": "stdout",
     "output_type": "stream",
     "text": [
      "Iter 2 - Epoch 0 - Client Type: Benign - Client Number 12 - Poison Training False\n"
     ]
    },
    {
     "name": "stderr",
     "output_type": "stream",
     "text": [
      "100%|████████████████████████████████████████████████████████████████████████████████████| 1/1 [00:00<00:00,  1.65it/s]\n"
     ]
    },
    {
     "name": "stdout",
     "output_type": "stream",
     "text": [
      "Iter 2 - Epoch 0 - Client Type: Benign - Client Number 13 - Poison Training False\n"
     ]
    },
    {
     "name": "stderr",
     "output_type": "stream",
     "text": [
      "100%|████████████████████████████████████████████████████████████████████████████████████| 2/2 [00:01<00:00,  1.10it/s]\n"
     ]
    },
    {
     "name": "stdout",
     "output_type": "stream",
     "text": [
      "Iter 2 - Epoch 0 - Client Type: Benign - Client Number 14 - Poison Training False\n"
     ]
    },
    {
     "name": "stderr",
     "output_type": "stream",
     "text": [
      "100%|████████████████████████████████████████████████████████████████████████████████████| 1/1 [00:00<00:00,  1.18it/s]\n"
     ]
    },
    {
     "name": "stdout",
     "output_type": "stream",
     "text": [
      "Iter 2 - Epoch 0 - Client Type: Benign - Client Number 15 - Poison Training False\n"
     ]
    },
    {
     "name": "stderr",
     "output_type": "stream",
     "text": [
      "100%|████████████████████████████████████████████████████████████████████████████████████| 2/2 [00:01<00:00,  1.60it/s]\n"
     ]
    },
    {
     "name": "stdout",
     "output_type": "stream",
     "text": [
      "Iter 2 - Epoch 0 - Client Type: Benign - Client Number 16 - Poison Training False\n"
     ]
    },
    {
     "name": "stderr",
     "output_type": "stream",
     "text": [
      "100%|████████████████████████████████████████████████████████████████████████████████████| 2/2 [00:01<00:00,  1.56it/s]\n"
     ]
    },
    {
     "name": "stdout",
     "output_type": "stream",
     "text": [
      "Iter 2 - Epoch 0 - Client Type: Benign - Client Number 17 - Poison Training False\n"
     ]
    },
    {
     "name": "stderr",
     "output_type": "stream",
     "text": [
      "100%|████████████████████████████████████████████████████████████████████████████████████| 1/1 [00:00<00:00,  1.51it/s]\n"
     ]
    },
    {
     "name": "stdout",
     "output_type": "stream",
     "text": [
      "Iter 2 - Epoch 0 - Client Type: Benign - Client Number 18 - Poison Training False\n"
     ]
    },
    {
     "name": "stderr",
     "output_type": "stream",
     "text": [
      "100%|████████████████████████████████████████████████████████████████████████████████████| 1/1 [00:00<00:00,  1.55it/s]\n"
     ]
    },
    {
     "name": "stdout",
     "output_type": "stream",
     "text": [
      "Iter 2 - Epoch 0 - Client Type: Benign - Client Number 19 - Poison Training False\n"
     ]
    },
    {
     "name": "stderr",
     "output_type": "stream",
     "text": [
      "100%|████████████████████████████████████████████████████████████████████████████████████| 1/1 [00:00<00:00,  1.21it/s]\n"
     ]
    },
    {
     "name": "stdout",
     "output_type": "stream",
     "text": [
      "Original Copylist [9, 1, 4, 9, 6, 7, 5, 6, 2, 0, 8, 3, 9, 5, 6, 4, 0, 9, 9, 6]\n",
      "Found clusters [3 5 0 3 4 9 1 4 8 2 7 6 3 1 4 0 2 3 3 4]\n",
      "Original groups [array([ 9, 16], dtype=int64), array([1], dtype=int64), array([8], dtype=int64), array([11], dtype=int64), array([ 2, 15], dtype=int64), array([ 6, 13], dtype=int64), array([ 4,  7, 14, 19], dtype=int64), array([5], dtype=int64), array([10], dtype=int64), array([ 0,  3, 12, 17, 18], dtype=int64)]\n",
      "Clustered groups [array([ 2, 15], dtype=int64), array([ 6, 13], dtype=int64), array([ 9, 16], dtype=int64), array([ 0,  3, 12, 17, 18], dtype=int64), array([ 4,  7, 14, 19], dtype=int64), array([1], dtype=int64), array([11], dtype=int64), array([10], dtype=int64), array([8], dtype=int64), array([5], dtype=int64)]\n",
      "Clustering score 1.0\n",
      "12\n",
      "[[ 1.00000517  0.29319277  0.0908645   0.99574668  0.26317406  0.69487276\n",
      "   0.51101801  0.26056136  0.52888969  0.57700902  0.59668611  0.35556634\n",
      "   0.99441881  0.50962361  0.27075934  0.03864147  0.59935654  0.99595958\n",
      "   0.99629234  0.2668502 ]\n",
      " [ 0.29319277  1.00000439  0.29658793  0.28643564  0.41962386  0.37896501\n",
      "   0.38670751  0.40862426  0.47767836  0.52257974  0.27970432  0.29612805\n",
      "   0.28743497  0.36455573  0.41326375  0.29448787  0.57300617  0.29897968\n",
      "   0.29269724  0.42625353]\n",
      " [ 0.0908645   0.29658793  1.00001187  0.09155656  0.25174164  0.13631811\n",
      "   0.25319084  0.26618033  0.12423301  0.10957702 -0.01154591  0.44386608\n",
      "   0.09622926  0.24463516  0.26121291  0.94743817  0.1032644   0.09519687\n",
      "   0.09216466  0.2430967 ]\n",
      " [ 0.99574668  0.28643564  0.09155656  1.00000279  0.26057537  0.68090855\n",
      "   0.49679007  0.25896144  0.52481734  0.57320459  0.58801554  0.35471927\n",
      "   0.99662039  0.49602721  0.26877932  0.04087185  0.59366043  0.99662594\n",
      "   0.99650273  0.26387962]\n",
      " [ 0.26317406  0.41962387  0.25174163  0.26057536  1.00000937  0.25444209\n",
      "   0.44726092  0.99550302  0.17095353  0.58734889  0.19305645  0.2657061\n",
      "   0.26257202  0.43922423  0.99621998  0.20709492  0.56940432  0.26643564\n",
      "   0.26152438  0.99774992]\n",
      " [ 0.69487277  0.37896501  0.13631811  0.68090856  0.25444207  1.00000763\n",
      "   0.63137931  0.24057193  0.55113875  0.64921228  0.74727156  0.40954932\n",
      "   0.67520105  0.63502842  0.25134794  0.07947078  0.68350895  0.69472477\n",
      "   0.68551161  0.25982411]\n",
      " [ 0.51101801  0.38670752  0.25319085  0.49679006  0.44726091  0.63137927\n",
      "   1.00000601  0.42870058  0.4195346   0.52866944  0.49817511  0.34453607\n",
      "   0.49307855  0.98745693  0.43699625  0.19783461  0.54952417  0.51089125\n",
      "   0.49890612  0.45571595]\n",
      " [ 0.26056137  0.40862427  0.26618033  0.25896144  0.99550304  0.24057194\n",
      "   0.42870058  1.00000703  0.16046419  0.5818863   0.1821513   0.26435945\n",
      "   0.26153726  0.42149619  0.9967913   0.22132352  0.55863701  0.26387135\n",
      "   0.25927034  0.99308318]\n",
      " [ 0.5288897   0.47767838  0.12423301  0.52481733  0.17095353  0.55113875\n",
      "   0.4195346   0.16046419  1.00000324  0.4846132   0.409513    0.21122221\n",
      "   0.52022154  0.40762544  0.17028301  0.09847692  0.53858624  0.53602719\n",
      "   0.52734159  0.17796772]\n",
      " [ 0.577009    0.52257974  0.10957702  0.57320455  0.58734887  0.6492123\n",
      "   0.52866943  0.58188631  0.48461319  1.00000615  0.6111362   0.41299312\n",
      "   0.57141989  0.51742488  0.58165224  0.07716415  0.95521961  0.58348311\n",
      "   0.57554799  0.59270041]\n",
      " [ 0.5966861   0.27970433 -0.01154591  0.58801554  0.19305644  0.74727156\n",
      "   0.49817508  0.1821513   0.40951301  0.6111362   1.00000846  0.2974628\n",
      "   0.58454229  0.49925089  0.19362457 -0.0352923   0.63016275  0.59753695\n",
      "   0.58999848  0.20086964]\n",
      " [ 0.35556634  0.29612803  0.44386608  0.35471927  0.2657061   0.4095493\n",
      "   0.34453607  0.26435945  0.2112222   0.41299312  0.2974628   1.00001018\n",
      "   0.35989662  0.34256435  0.26558411  0.40732241  0.42477314  0.35992294\n",
      "   0.35468147  0.26015988]\n",
      " [ 0.99441884  0.28743497  0.09622926  0.99662043  0.26257201  0.67520103\n",
      "   0.49307855  0.26153727  0.52022153  0.57141988  0.58454229  0.35989662\n",
      "   1.00000749  0.49208741  0.27154249  0.0441773   0.59065888  0.99551824\n",
      "   0.99659795  0.26555023]\n",
      " [ 0.50962362  0.36455573  0.24463516  0.49602722  0.43922422  0.63502839\n",
      "   0.98745694  0.4214962   0.40762544  0.51742486  0.49925087  0.34256436\n",
      "   0.49208741  1.00000653  0.42929468  0.19457238  0.53970491  0.5105495\n",
      "   0.4980015   0.44632754]\n",
      " [ 0.27075934  0.41326377  0.26121291  0.26877933  0.99621999  0.25134794\n",
      "   0.43699626  0.9967913   0.17028299  0.58165226  0.19362456  0.26558412\n",
      "   0.27154249  0.42929467  1.00001128  0.21426459  0.56153625  0.2740058\n",
      "   0.26940423  0.99462548]\n",
      " [ 0.03864146  0.29448787  0.94743818  0.04087184  0.20709492  0.07947078\n",
      "   0.19783461  0.22132352  0.09847692  0.07716415 -0.03529229  0.40732241\n",
      "   0.04417729  0.19457238  0.21426459  1.00001798  0.07062545  0.04367814\n",
      "   0.04017397  0.19925723]\n",
      " [ 0.59935653  0.57300619  0.1032644   0.59366041  0.56940431  0.68350895\n",
      "   0.54952416  0.558637    0.53858625  0.95521964  0.63016278  0.42477315\n",
      "   0.59065889  0.53970491  0.56153625  0.07062544  1.00000567  0.60455642\n",
      "   0.59692954  0.57561905]\n",
      " [ 0.99595958  0.29897969  0.09519687  0.99662596  0.26643564  0.69472477\n",
      "   0.51089124  0.26387136  0.53602719  0.5834831   0.59753694  0.35992294\n",
      "   0.99551824  0.51054949  0.27400579  0.04367814  0.60455642  1.00000324\n",
      "   0.99657695  0.26988701]\n",
      " [ 0.99629234  0.29269723  0.09216465  0.99650273  0.26152438  0.68551162\n",
      "   0.49890612  0.25927034  0.52734158  0.57554802  0.58999849  0.35468148\n",
      "   0.99659795  0.4980015   0.26940422  0.04017397  0.59692955  0.99657692\n",
      "   1.00000484  0.26490657]\n",
      " [ 0.2668502   0.42625354  0.24309671  0.26387962  0.99774992  0.2598241\n",
      "   0.45571596  0.9930832   0.17796772  0.59270044  0.20086964  0.26015988\n",
      "   0.26555022  0.44632753  0.99462548  0.19925722  0.57561905  0.26988702\n",
      "   0.26490658  1.00000873]]\n",
      "Original Copylist [9, 1, 4, 9, 6, 7, 5, 6, 2, 0, 8, 3, 9, 5, 6, 4, 0, 9, 9, 6]\n",
      "Found clusters [3 5 0 3 6 9 2 6 7 1 8 4 3 2 6 0 1 3 3 6]\n",
      "Original groups [array([ 9, 16], dtype=int64), array([1], dtype=int64), array([8], dtype=int64), array([11], dtype=int64), array([ 2, 15], dtype=int64), array([ 6, 13], dtype=int64), array([ 4,  7, 14, 19], dtype=int64), array([5], dtype=int64), array([10], dtype=int64), array([ 0,  3, 12, 17, 18], dtype=int64)]\n",
      "Clustered groups [array([ 2, 15], dtype=int64), array([ 9, 16], dtype=int64), array([ 6, 13], dtype=int64), array([ 0,  3, 12, 17, 18], dtype=int64), array([11], dtype=int64), array([1], dtype=int64), array([ 4,  7, 14, 19], dtype=int64), array([8], dtype=int64), array([10], dtype=int64), array([5], dtype=int64)]\n",
      "Clustering score 1.0\n",
      "\n",
      "\n",
      " Entering epoch 2\n",
      "Iter 2 - Epoch 0 - Client Type: Benign - Client Number 0 - Poison Training False\n"
     ]
    },
    {
     "name": "stderr",
     "output_type": "stream",
     "text": [
      "100%|████████████████████████████████████████████████████████████████████████████████████| 1/1 [00:00<00:00,  1.49it/s]\n"
     ]
    },
    {
     "name": "stdout",
     "output_type": "stream",
     "text": [
      "Iter 2 - Epoch 0 - Client Type: Benign - Client Number 1 - Poison Training False\n"
     ]
    },
    {
     "name": "stderr",
     "output_type": "stream",
     "text": [
      "100%|████████████████████████████████████████████████████████████████████████████████████| 2/2 [00:01<00:00,  1.18it/s]\n"
     ]
    },
    {
     "name": "stdout",
     "output_type": "stream",
     "text": [
      "Iter 2 - Epoch 0 - Client Type: Benign - Client Number 2 - Poison Training False\n"
     ]
    },
    {
     "name": "stderr",
     "output_type": "stream",
     "text": [
      "100%|████████████████████████████████████████████████████████████████████████████████████| 2/2 [00:01<00:00,  1.66it/s]\n"
     ]
    },
    {
     "name": "stdout",
     "output_type": "stream",
     "text": [
      "Iter 2 - Epoch 0 - Client Type: Benign - Client Number 3 - Poison Training False\n"
     ]
    },
    {
     "name": "stderr",
     "output_type": "stream",
     "text": [
      "100%|████████████████████████████████████████████████████████████████████████████████████| 1/1 [00:00<00:00,  1.53it/s]\n"
     ]
    },
    {
     "name": "stdout",
     "output_type": "stream",
     "text": [
      "Iter 2 - Epoch 0 - Client Type: Benign - Client Number 4 - Poison Training False\n"
     ]
    },
    {
     "name": "stderr",
     "output_type": "stream",
     "text": [
      "100%|████████████████████████████████████████████████████████████████████████████████████| 1/1 [00:00<00:00,  1.22it/s]\n"
     ]
    },
    {
     "name": "stdout",
     "output_type": "stream",
     "text": [
      "Iter 2 - Epoch 0 - Client Type: Benign - Client Number 5 - Poison Training False\n"
     ]
    },
    {
     "name": "stderr",
     "output_type": "stream",
     "text": [
      "100%|████████████████████████████████████████████████████████████████████████████████████| 1/1 [00:00<00:00,  1.14it/s]\n"
     ]
    },
    {
     "name": "stdout",
     "output_type": "stream",
     "text": [
      "Iter 2 - Epoch 0 - Client Type: Benign - Client Number 6 - Poison Training False\n"
     ]
    },
    {
     "name": "stderr",
     "output_type": "stream",
     "text": [
      "100%|████████████████████████████████████████████████████████████████████████████████████| 2/2 [00:01<00:00,  1.02it/s]\n"
     ]
    },
    {
     "name": "stdout",
     "output_type": "stream",
     "text": [
      "Iter 2 - Epoch 0 - Client Type: Benign - Client Number 7 - Poison Training False\n"
     ]
    },
    {
     "name": "stderr",
     "output_type": "stream",
     "text": [
      "100%|████████████████████████████████████████████████████████████████████████████████████| 1/1 [00:00<00:00,  1.21it/s]\n"
     ]
    },
    {
     "name": "stdout",
     "output_type": "stream",
     "text": [
      "Iter 2 - Epoch 0 - Client Type: Benign - Client Number 8 - Poison Training False\n"
     ]
    },
    {
     "name": "stderr",
     "output_type": "stream",
     "text": [
      "100%|████████████████████████████████████████████████████████████████████████████████████| 1/1 [00:00<00:00,  1.15it/s]\n"
     ]
    },
    {
     "name": "stdout",
     "output_type": "stream",
     "text": [
      "Iter 2 - Epoch 0 - Client Type: Benign - Client Number 9 - Poison Training False\n"
     ]
    },
    {
     "name": "stderr",
     "output_type": "stream",
     "text": [
      "100%|████████████████████████████████████████████████████████████████████████████████████| 2/2 [00:01<00:00,  1.60it/s]\n"
     ]
    },
    {
     "name": "stdout",
     "output_type": "stream",
     "text": [
      "Iter 2 - Epoch 0 - Client Type: Benign - Client Number 10 - Poison Training False\n"
     ]
    },
    {
     "name": "stderr",
     "output_type": "stream",
     "text": [
      "100%|████████████████████████████████████████████████████████████████████████████████████| 1/1 [00:00<00:00,  1.95it/s]\n"
     ]
    },
    {
     "name": "stdout",
     "output_type": "stream",
     "text": [
      "Iter 2 - Epoch 0 - Client Type: Benign - Client Number 11 - Poison Training False\n"
     ]
    },
    {
     "name": "stderr",
     "output_type": "stream",
     "text": [
      "100%|████████████████████████████████████████████████████████████████████████████████████| 2/2 [00:01<00:00,  1.44it/s]\n"
     ]
    },
    {
     "name": "stdout",
     "output_type": "stream",
     "text": [
      "Iter 2 - Epoch 0 - Client Type: Benign - Client Number 12 - Poison Training False\n"
     ]
    },
    {
     "name": "stderr",
     "output_type": "stream",
     "text": [
      "100%|████████████████████████████████████████████████████████████████████████████████████| 1/1 [00:00<00:00,  1.53it/s]\n"
     ]
    },
    {
     "name": "stdout",
     "output_type": "stream",
     "text": [
      "Iter 2 - Epoch 0 - Client Type: Benign - Client Number 13 - Poison Training False\n"
     ]
    },
    {
     "name": "stderr",
     "output_type": "stream",
     "text": [
      "100%|████████████████████████████████████████████████████████████████████████████████████| 2/2 [00:01<00:00,  1.07it/s]\n"
     ]
    },
    {
     "name": "stdout",
     "output_type": "stream",
     "text": [
      "Iter 2 - Epoch 0 - Client Type: Benign - Client Number 14 - Poison Training False\n"
     ]
    },
    {
     "name": "stderr",
     "output_type": "stream",
     "text": [
      "100%|████████████████████████████████████████████████████████████████████████████████████| 1/1 [00:00<00:00,  1.13it/s]\n"
     ]
    },
    {
     "name": "stdout",
     "output_type": "stream",
     "text": [
      "Iter 2 - Epoch 0 - Client Type: Benign - Client Number 15 - Poison Training False\n"
     ]
    },
    {
     "name": "stderr",
     "output_type": "stream",
     "text": [
      "100%|████████████████████████████████████████████████████████████████████████████████████| 2/2 [00:01<00:00,  1.65it/s]\n"
     ]
    },
    {
     "name": "stdout",
     "output_type": "stream",
     "text": [
      "Iter 2 - Epoch 0 - Client Type: Benign - Client Number 16 - Poison Training False\n"
     ]
    },
    {
     "name": "stderr",
     "output_type": "stream",
     "text": [
      "100%|████████████████████████████████████████████████████████████████████████████████████| 2/2 [00:01<00:00,  1.60it/s]\n"
     ]
    },
    {
     "name": "stdout",
     "output_type": "stream",
     "text": [
      "Iter 2 - Epoch 0 - Client Type: Benign - Client Number 17 - Poison Training False\n"
     ]
    },
    {
     "name": "stderr",
     "output_type": "stream",
     "text": [
      "100%|████████████████████████████████████████████████████████████████████████████████████| 1/1 [00:00<00:00,  1.53it/s]\n"
     ]
    },
    {
     "name": "stdout",
     "output_type": "stream",
     "text": [
      "Iter 2 - Epoch 0 - Client Type: Benign - Client Number 18 - Poison Training False\n"
     ]
    },
    {
     "name": "stderr",
     "output_type": "stream",
     "text": [
      "100%|████████████████████████████████████████████████████████████████████████████████████| 1/1 [00:00<00:00,  1.56it/s]\n"
     ]
    },
    {
     "name": "stdout",
     "output_type": "stream",
     "text": [
      "Iter 2 - Epoch 0 - Client Type: Benign - Client Number 19 - Poison Training False\n"
     ]
    },
    {
     "name": "stderr",
     "output_type": "stream",
     "text": [
      "100%|████████████████████████████████████████████████████████████████████████████████████| 1/1 [00:00<00:00,  1.24it/s]\n"
     ]
    },
    {
     "name": "stdout",
     "output_type": "stream",
     "text": [
      "Original Copylist [9, 1, 4, 9, 6, 7, 5, 6, 2, 0, 8, 3, 9, 5, 6, 4, 0, 9, 9, 6]\n",
      "Found clusters [5 7 0 5 3 9 2 3 6 1 8 4 5 2 3 0 1 5 5 3]\n",
      "Original groups [array([ 9, 16], dtype=int64), array([1], dtype=int64), array([8], dtype=int64), array([11], dtype=int64), array([ 2, 15], dtype=int64), array([ 6, 13], dtype=int64), array([ 4,  7, 14, 19], dtype=int64), array([5], dtype=int64), array([10], dtype=int64), array([ 0,  3, 12, 17, 18], dtype=int64)]\n",
      "Clustered groups [array([ 2, 15], dtype=int64), array([ 9, 16], dtype=int64), array([ 6, 13], dtype=int64), array([ 4,  7, 14, 19], dtype=int64), array([11], dtype=int64), array([ 0,  3, 12, 17, 18], dtype=int64), array([8], dtype=int64), array([1], dtype=int64), array([10], dtype=int64), array([5], dtype=int64)]\n",
      "Clustering score 1.0\n",
      "13\n",
      "[[1.00000546 0.3392326  0.14290426 0.99560568 0.34058414 0.71814733\n",
      "  0.48635895 0.33866192 0.57843997 0.6238857  0.59741162 0.4093905\n",
      "  0.99430813 0.48737127 0.34913838 0.07040248 0.6526854  0.99598316\n",
      "  0.99625864 0.34473028]\n",
      " [0.33923259 1.00000405 0.31112757 0.33246265 0.43811159 0.42032016\n",
      "  0.40066124 0.4283127  0.49003165 0.56943265 0.31143938 0.31120896\n",
      "  0.33431245 0.39058561 0.43289511 0.29990909 0.59160438 0.34520087\n",
      "  0.33897876 0.44213083]\n",
      " [0.14290426 0.31112757 1.00001085 0.1407792  0.25559178 0.23404307\n",
      "  0.35533137 0.27155238 0.16692573 0.15230884 0.07014951 0.46908273\n",
      "  0.14378838 0.35925591 0.26871067 0.93490949 0.13972165 0.14812131\n",
      "  0.14103608 0.24643236]\n",
      " [0.99560568 0.33246266 0.1407792  1.00000355 0.33824794 0.70644201\n",
      "  0.46924316 0.33742236 0.57503114 0.61865313 0.58973057 0.40999494\n",
      "  0.99650226 0.47086341 0.34763837 0.07065706 0.64666557 0.99649088\n",
      "  0.99638476 0.34205273]\n",
      " [0.34058414 0.4381116  0.25559178 0.33824793 1.00000827 0.33138389\n",
      "  0.45077383 0.99549756 0.25621798 0.58773317 0.25210985 0.28387763\n",
      "  0.34143677 0.46371769 0.99581563 0.16676491 0.58469483 0.34632226\n",
      "  0.34011712 0.99737545]\n",
      " [0.71814734 0.42032016 0.23404307 0.70644201 0.33138387 1.00000737\n",
      "  0.60456038 0.31994247 0.59317408 0.71009717 0.75090857 0.47893768\n",
      "  0.70138201 0.61562452 0.32861538 0.14608176 0.74245195 0.72119894\n",
      "  0.71190029 0.33797902]\n",
      " [0.48635895 0.40066125 0.35533139 0.46924316 0.45077382 0.60456036\n",
      "  1.00000513 0.43488413 0.41556066 0.53683727 0.47719932 0.41028358\n",
      "  0.46633748 0.98305902 0.43965036 0.28987132 0.54404752 0.48438501\n",
      "  0.47286012 0.45871708]\n",
      " [0.33866191 0.42831271 0.27155238 0.33742236 0.9954976  0.31994248\n",
      "  0.43488412 1.00000696 0.24711192 0.58031758 0.24389884 0.2819352\n",
      "  0.34128767 0.44871529 0.99678782 0.18248012 0.57277665 0.34461771\n",
      "  0.33858669 0.99329293]\n",
      " [0.57843998 0.49003166 0.16692573 0.57503113 0.25621798 0.59317408\n",
      "  0.41556064 0.24711192 1.00000315 0.56589708 0.45450268 0.24013286\n",
      "  0.56976021 0.41433707 0.25743212 0.12004909 0.61677333 0.58683417\n",
      "  0.57704141 0.26479581]\n",
      " [0.62388569 0.56943265 0.15230884 0.61865311 0.58773314 0.71009719\n",
      "  0.53683727 0.58031759 0.56589706 1.00000491 0.6503482  0.45968807\n",
      "  0.61735693 0.53221129 0.58321822 0.10372418 0.96351261 0.62997173\n",
      "  0.62203646 0.59280889]\n",
      " [0.59741161 0.31143939 0.07014951 0.58973055 0.25210985 0.75090858\n",
      "  0.47719929 0.24389884 0.4545027  0.65034819 1.0000078  0.35287291\n",
      "  0.58600113 0.4818267  0.25326145 0.01658681 0.66519054 0.59895999\n",
      "  0.59173607 0.26195922]\n",
      " [0.40939049 0.31120895 0.46908272 0.40999494 0.28387762 0.47893767\n",
      "  0.41028358 0.2819352  0.24013285 0.45968807 0.35287291 1.00000834\n",
      "  0.41494811 0.40493054 0.2842125  0.43092036 0.45780801 0.41735887\n",
      "  0.40923176 0.27757424]\n",
      " [0.99430814 0.33431245 0.14378838 0.99650229 0.34143676 0.70138201\n",
      "  0.46633749 0.34128768 0.56976019 0.61735692 0.58600112 0.41494811\n",
      "  1.00000768 0.46767836 0.35178129 0.07161817 0.64450485 0.99535086\n",
      "  0.99642862 0.34487253]\n",
      " [0.48737128 0.39058561 0.35925591 0.47086341 0.46371769 0.61562451\n",
      "  0.98305904 0.44871531 0.41433707 0.53221127 0.4818267  0.40493056\n",
      "  0.46767835 1.0000056  0.45277039 0.28884059 0.54416327 0.48675514\n",
      "  0.47467996 0.47048836]\n",
      " [0.34913837 0.43289513 0.26871067 0.34763838 0.99581565 0.32861537\n",
      "  0.43965036 0.99678782 0.2574321  0.58321823 0.25326144 0.2842125\n",
      "  0.3517813  0.45277039 1.00001056 0.17731573 0.57873324 0.35503053\n",
      "  0.34917742 0.99458107]\n",
      " [0.07040248 0.29990911 0.9349095  0.07065705 0.16676491 0.14608176\n",
      "  0.28987131 0.18248012 0.12004909 0.10372419 0.01658682 0.43092037\n",
      "  0.07161816 0.28884058 0.17731571 1.0000144  0.08599717 0.0762471\n",
      "  0.06906184 0.1580916 ]\n",
      " [0.65268539 0.59160439 0.13972165 0.64666556 0.58469482 0.74245197\n",
      "  0.54404752 0.57277665 0.61677336 0.96351264 0.66519058 0.45780802\n",
      "  0.64450483 0.54416327 0.57873324 0.08599717 1.00000479 0.65818044\n",
      "  0.65092149 0.59067483]\n",
      " [0.99598315 0.34520086 0.14812131 0.99649092 0.34632227 0.72119894\n",
      "  0.484385   0.34461771 0.58683417 0.62997172 0.59895999 0.41735887\n",
      "  0.99535087 0.48675513 0.35503051 0.0762471  0.65818043 1.00000367\n",
      "  0.99640076 0.35033805]\n",
      " [0.99625864 0.33897876 0.14103608 0.99638478 0.34011711 0.71190029\n",
      "  0.47286013 0.3385867  0.57704141 0.62203647 0.59173607 0.40923177\n",
      "  0.99642862 0.47467996 0.34917741 0.06906184 0.6509215  0.99640074\n",
      "  1.00000489 0.34393083]\n",
      " [0.34473029 0.44213084 0.24643237 0.34205273 0.99737545 0.33797901\n",
      "  0.45871709 0.99329294 0.26479581 0.59280891 0.26195923 0.27757425\n",
      "  0.34487252 0.47048835 0.99458106 0.15809159 0.59067483 0.35033806\n",
      "  0.34393084 1.00000854]]\n",
      "Original Copylist [9, 1, 4, 9, 6, 7, 5, 6, 2, 0, 8, 3, 9, 5, 6, 4, 0, 9, 9, 6]\n",
      "Found clusters [3 6 0 3 5 9 2 5 7 1 8 4 3 2 5 0 1 3 3 5]\n",
      "Original groups [array([ 9, 16], dtype=int64), array([1], dtype=int64), array([8], dtype=int64), array([11], dtype=int64), array([ 2, 15], dtype=int64), array([ 6, 13], dtype=int64), array([ 4,  7, 14, 19], dtype=int64), array([5], dtype=int64), array([10], dtype=int64), array([ 0,  3, 12, 17, 18], dtype=int64)]\n",
      "Clustered groups [array([ 2, 15], dtype=int64), array([ 9, 16], dtype=int64), array([ 6, 13], dtype=int64), array([ 0,  3, 12, 17, 18], dtype=int64), array([11], dtype=int64), array([ 4,  7, 14, 19], dtype=int64), array([1], dtype=int64), array([8], dtype=int64), array([10], dtype=int64), array([5], dtype=int64)]\n",
      "Clustering score 1.0\n",
      "\n",
      "\n",
      " Entering epoch 3\n",
      "Iter 2 - Epoch 0 - Client Type: Benign - Client Number 0 - Poison Training False\n"
     ]
    },
    {
     "name": "stderr",
     "output_type": "stream",
     "text": [
      "100%|████████████████████████████████████████████████████████████████████████████████████| 1/1 [00:00<00:00,  1.58it/s]\n"
     ]
    },
    {
     "name": "stdout",
     "output_type": "stream",
     "text": [
      "Iter 2 - Epoch 0 - Client Type: Benign - Client Number 1 - Poison Training False\n"
     ]
    },
    {
     "name": "stderr",
     "output_type": "stream",
     "text": [
      "100%|████████████████████████████████████████████████████████████████████████████████████| 2/2 [00:01<00:00,  1.21it/s]\n"
     ]
    },
    {
     "name": "stdout",
     "output_type": "stream",
     "text": [
      "Iter 2 - Epoch 0 - Client Type: Benign - Client Number 2 - Poison Training False\n"
     ]
    },
    {
     "name": "stderr",
     "output_type": "stream",
     "text": [
      "100%|████████████████████████████████████████████████████████████████████████████████████| 2/2 [00:01<00:00,  1.58it/s]\n"
     ]
    },
    {
     "name": "stdout",
     "output_type": "stream",
     "text": [
      "Iter 2 - Epoch 0 - Client Type: Benign - Client Number 3 - Poison Training False\n"
     ]
    },
    {
     "name": "stderr",
     "output_type": "stream",
     "text": [
      "100%|████████████████████████████████████████████████████████████████████████████████████| 1/1 [00:00<00:00,  1.54it/s]\n"
     ]
    },
    {
     "name": "stdout",
     "output_type": "stream",
     "text": [
      "Iter 2 - Epoch 0 - Client Type: Benign - Client Number 4 - Poison Training False\n"
     ]
    },
    {
     "name": "stderr",
     "output_type": "stream",
     "text": [
      "100%|████████████████████████████████████████████████████████████████████████████████████| 1/1 [00:00<00:00,  1.16it/s]\n"
     ]
    },
    {
     "name": "stdout",
     "output_type": "stream",
     "text": [
      "Iter 2 - Epoch 0 - Client Type: Benign - Client Number 5 - Poison Training False\n"
     ]
    },
    {
     "name": "stderr",
     "output_type": "stream",
     "text": [
      "100%|████████████████████████████████████████████████████████████████████████████████████| 1/1 [00:00<00:00,  1.16it/s]\n"
     ]
    },
    {
     "name": "stdout",
     "output_type": "stream",
     "text": [
      "Iter 2 - Epoch 0 - Client Type: Benign - Client Number 6 - Poison Training False\n"
     ]
    },
    {
     "name": "stderr",
     "output_type": "stream",
     "text": [
      "100%|████████████████████████████████████████████████████████████████████████████████████| 2/2 [00:01<00:00,  1.09it/s]\n"
     ]
    },
    {
     "name": "stdout",
     "output_type": "stream",
     "text": [
      "Iter 2 - Epoch 0 - Client Type: Benign - Client Number 7 - Poison Training False\n"
     ]
    },
    {
     "name": "stderr",
     "output_type": "stream",
     "text": [
      "100%|████████████████████████████████████████████████████████████████████████████████████| 1/1 [00:00<00:00,  1.24it/s]\n"
     ]
    },
    {
     "name": "stdout",
     "output_type": "stream",
     "text": [
      "Iter 2 - Epoch 0 - Client Type: Benign - Client Number 8 - Poison Training False\n"
     ]
    },
    {
     "name": "stderr",
     "output_type": "stream",
     "text": [
      "100%|████████████████████████████████████████████████████████████████████████████████████| 1/1 [00:00<00:00,  1.19it/s]\n"
     ]
    },
    {
     "name": "stdout",
     "output_type": "stream",
     "text": [
      "Iter 2 - Epoch 0 - Client Type: Benign - Client Number 9 - Poison Training False\n"
     ]
    },
    {
     "name": "stderr",
     "output_type": "stream",
     "text": [
      "100%|████████████████████████████████████████████████████████████████████████████████████| 2/2 [00:01<00:00,  1.57it/s]\n"
     ]
    },
    {
     "name": "stdout",
     "output_type": "stream",
     "text": [
      "Iter 2 - Epoch 0 - Client Type: Benign - Client Number 10 - Poison Training False\n"
     ]
    },
    {
     "name": "stderr",
     "output_type": "stream",
     "text": [
      "100%|████████████████████████████████████████████████████████████████████████████████████| 1/1 [00:00<00:00,  2.09it/s]\n"
     ]
    },
    {
     "name": "stdout",
     "output_type": "stream",
     "text": [
      "Iter 2 - Epoch 0 - Client Type: Benign - Client Number 11 - Poison Training False\n"
     ]
    },
    {
     "name": "stderr",
     "output_type": "stream",
     "text": [
      "100%|████████████████████████████████████████████████████████████████████████████████████| 2/2 [00:01<00:00,  1.42it/s]\n"
     ]
    },
    {
     "name": "stdout",
     "output_type": "stream",
     "text": [
      "Iter 2 - Epoch 0 - Client Type: Benign - Client Number 12 - Poison Training False\n"
     ]
    },
    {
     "name": "stderr",
     "output_type": "stream",
     "text": [
      "100%|████████████████████████████████████████████████████████████████████████████████████| 1/1 [00:00<00:00,  1.58it/s]\n"
     ]
    },
    {
     "name": "stdout",
     "output_type": "stream",
     "text": [
      "Iter 2 - Epoch 0 - Client Type: Benign - Client Number 13 - Poison Training False\n"
     ]
    },
    {
     "name": "stderr",
     "output_type": "stream",
     "text": [
      "100%|████████████████████████████████████████████████████████████████████████████████████| 2/2 [00:01<00:00,  1.10it/s]\n"
     ]
    },
    {
     "name": "stdout",
     "output_type": "stream",
     "text": [
      "Iter 2 - Epoch 0 - Client Type: Benign - Client Number 14 - Poison Training False\n"
     ]
    },
    {
     "name": "stderr",
     "output_type": "stream",
     "text": [
      "100%|████████████████████████████████████████████████████████████████████████████████████| 1/1 [00:00<00:00,  1.24it/s]\n"
     ]
    },
    {
     "name": "stdout",
     "output_type": "stream",
     "text": [
      "Iter 2 - Epoch 0 - Client Type: Benign - Client Number 15 - Poison Training False\n"
     ]
    },
    {
     "name": "stderr",
     "output_type": "stream",
     "text": [
      "100%|████████████████████████████████████████████████████████████████████████████████████| 2/2 [00:01<00:00,  1.49it/s]\n"
     ]
    },
    {
     "name": "stdout",
     "output_type": "stream",
     "text": [
      "Iter 2 - Epoch 0 - Client Type: Benign - Client Number 16 - Poison Training False\n"
     ]
    },
    {
     "name": "stderr",
     "output_type": "stream",
     "text": [
      "100%|████████████████████████████████████████████████████████████████████████████████████| 2/2 [00:01<00:00,  1.48it/s]\n"
     ]
    },
    {
     "name": "stdout",
     "output_type": "stream",
     "text": [
      "Iter 2 - Epoch 0 - Client Type: Benign - Client Number 17 - Poison Training False\n"
     ]
    },
    {
     "name": "stderr",
     "output_type": "stream",
     "text": [
      "100%|████████████████████████████████████████████████████████████████████████████████████| 1/1 [00:00<00:00,  1.58it/s]\n"
     ]
    },
    {
     "name": "stdout",
     "output_type": "stream",
     "text": [
      "Iter 2 - Epoch 0 - Client Type: Benign - Client Number 18 - Poison Training False\n"
     ]
    },
    {
     "name": "stderr",
     "output_type": "stream",
     "text": [
      "100%|████████████████████████████████████████████████████████████████████████████████████| 1/1 [00:00<00:00,  1.46it/s]\n"
     ]
    },
    {
     "name": "stdout",
     "output_type": "stream",
     "text": [
      "Iter 2 - Epoch 0 - Client Type: Benign - Client Number 19 - Poison Training False\n"
     ]
    },
    {
     "name": "stderr",
     "output_type": "stream",
     "text": [
      "100%|████████████████████████████████████████████████████████████████████████████████████| 1/1 [00:00<00:00,  1.15it/s]\n"
     ]
    },
    {
     "name": "stdout",
     "output_type": "stream",
     "text": [
      "Original Copylist [9, 1, 4, 9, 6, 7, 5, 6, 2, 0, 8, 3, 9, 5, 6, 4, 0, 9, 9, 6]\n",
      "Found clusters [8 5 9 8 2 0 3 2 6 1 0 4 8 3 2 7 1 8 8 2]\n",
      "Original groups [array([ 9, 16], dtype=int64), array([1], dtype=int64), array([8], dtype=int64), array([11], dtype=int64), array([ 2, 15], dtype=int64), array([ 6, 13], dtype=int64), array([ 4,  7, 14, 19], dtype=int64), array([5], dtype=int64), array([10], dtype=int64), array([ 0,  3, 12, 17, 18], dtype=int64)]\n",
      "Clustered groups [array([ 5, 10], dtype=int64), array([ 9, 16], dtype=int64), array([ 4,  7, 14, 19], dtype=int64), array([ 6, 13], dtype=int64), array([11], dtype=int64), array([1], dtype=int64), array([8], dtype=int64), array([15], dtype=int64), array([ 0,  3, 12, 17, 18], dtype=int64), array([2], dtype=int64)]\n",
      "Clustering score 0.9415204678362573\n",
      "14\n",
      "[[1.00000594 0.37297343 0.16558293 0.99559774 0.35626442 0.77876382\n",
      "  0.5040651  0.35313741 0.60744819 0.67088653 0.65293375 0.44169998\n",
      "  0.99472481 0.50592721 0.36407561 0.07375566 0.68976685 0.99609064\n",
      "  0.99641854 0.36422936]\n",
      " [0.37297343 1.00000396 0.3333916  0.36464497 0.45887841 0.47933761\n",
      "  0.41276282 0.44872484 0.50273353 0.61612768 0.34916897 0.34200285\n",
      "  0.36552388 0.41118954 0.45161326 0.30263219 0.62353312 0.37614707\n",
      "  0.37083853 0.46156339]\n",
      " [0.16558293 0.33339159 1.00000775 0.15533603 0.24320657 0.34153403\n",
      "  0.45501493 0.25185396 0.18610477 0.20797012 0.1341233  0.52846185\n",
      "  0.15514278 0.45314988 0.24825225 0.91316644 0.19770926 0.16518847\n",
      "  0.15505432 0.2346485 ]\n",
      " [0.99559774 0.36464498 0.15533603 1.00000553 0.35113819 0.77331877\n",
      "  0.48960756 0.34877452 0.60373338 0.66651231 0.6515947  0.43788967\n",
      "  0.99624212 0.49157172 0.35969865 0.06595462 0.68526016 0.99619571\n",
      "  0.99621776 0.3589806 ]\n",
      " [0.35626442 0.45887842 0.24320657 0.35113818 1.00000765 0.37164332\n",
      "  0.45883228 0.99552544 0.29686979 0.59552609 0.31183686 0.3150968\n",
      "  0.35431005 0.47451128 0.99554223 0.15041872 0.59056731 0.35943298\n",
      "  0.35418633 0.99650421]\n",
      " [0.77876383 0.4793376  0.34153403 0.77331878 0.3716433  1.00000608\n",
      "  0.62101686 0.36081522 0.66169427 0.74423876 0.76768911 0.55773824\n",
      "  0.77029434 0.63846656 0.37103549 0.22075049 0.77374179 0.78605345\n",
      "  0.77576876 0.38176903]\n",
      " [0.50406512 0.41276282 0.45501496 0.48960755 0.45883228 0.62101685\n",
      "  1.00000641 0.44515073 0.41675121 0.55033505 0.50121437 0.46957006\n",
      "  0.48718035 0.98312141 0.44975826 0.35932283 0.55102117 0.50478791\n",
      "  0.49291595 0.46775482]\n",
      " [0.3531374  0.44872485 0.25185396 0.34877452 0.99552548 0.36081522\n",
      "  0.44515073 1.00000699 0.28612737 0.58623189 0.30651699 0.30986762\n",
      "  0.3526794  0.46078548 0.99649142 0.16116454 0.57752063 0.35624439\n",
      "  0.35108777 0.99316268]\n",
      " [0.60744821 0.50273354 0.18610476 0.60373338 0.29686979 0.66169425\n",
      "  0.41675121 0.28612736 1.00000377 0.62239463 0.50810094 0.25922768\n",
      "  0.59674039 0.42547001 0.29697477 0.11175891 0.66256534 0.61370705\n",
      "  0.60535838 0.30662054]\n",
      " [0.67088652 0.61612768 0.20797012 0.66651229 0.59552605 0.74423876\n",
      "  0.55033504 0.58623189 0.62239462 1.00000527 0.70549082 0.52131609\n",
      "  0.66559142 0.55267556 0.59203903 0.1313083  0.9725093  0.67608054\n",
      "  0.66887068 0.60081899]\n",
      " [0.65293375 0.34916897 0.1341233  0.65159469 0.31183686 0.76768911\n",
      "  0.50121434 0.30651699 0.50810094 0.7054908  1.00000696 0.41278231\n",
      "  0.651519   0.5173929  0.31549273 0.05620594 0.70926312 0.65785825\n",
      "  0.65066898 0.32447813]\n",
      " [0.44169997 0.34200285 0.52846184 0.43788967 0.31509679 0.55773824\n",
      "  0.46957006 0.30986762 0.25922767 0.52131609 0.41278231 1.00000658\n",
      "  0.44135204 0.46361428 0.31251488 0.45873474 0.51205863 0.44581673\n",
      "  0.43831803 0.30941779]\n",
      " [0.99472481 0.36552388 0.15514278 0.99624215 0.35431005 0.77029434\n",
      "  0.48718035 0.35267941 0.59674036 0.66559141 0.65151899 0.44135204\n",
      "  1.00000625 0.48863026 0.36395864 0.06382677 0.68345203 0.99523282\n",
      "  0.99651967 0.36183023]\n",
      " [0.50592723 0.41118954 0.45314988 0.49157172 0.47451128 0.63846655\n",
      "  0.98312141 0.46078549 0.42547001 0.55267555 0.51739289 0.4636143\n",
      "  0.48863025 1.00000477 0.46506515 0.35113199 0.55952725 0.50774479\n",
      "  0.49534326 0.48328953]\n",
      " [0.3640756  0.45161329 0.24825225 0.35969866 0.99554224 0.37103548\n",
      "  0.44975828 0.99649142 0.29697476 0.59203904 0.31549272 0.31251488\n",
      "  0.36395865 0.46506514 1.00000904 0.15437346 0.58603488 0.36734164\n",
      "  0.36226705 0.9946965 ]\n",
      " [0.07375566 0.3026322  0.91316645 0.06595462 0.15041872 0.22075049\n",
      "  0.35932283 0.16116454 0.11175891 0.1313083  0.05620594 0.45873475\n",
      "  0.06382677 0.35113198 0.15437345 1.00001214 0.11393659 0.07343512\n",
      "  0.06425571 0.14037912]\n",
      " [0.68976685 0.62353313 0.19770926 0.68526015 0.5905673  0.77374181\n",
      "  0.55102116 0.57752062 0.66256536 0.97250932 0.70926315 0.51205863\n",
      "  0.68345202 0.55952723 0.58603488 0.11393659 1.00000563 0.69526613\n",
      "  0.68867357 0.5967674 ]\n",
      " [0.99609064 0.37614706 0.16518847 0.99619575 0.35943298 0.78605345\n",
      "  0.5047879  0.35624439 0.61370706 0.67608052 0.65785825 0.44581674\n",
      "  0.99523281 0.50774478 0.36734163 0.07343512 0.69526612 1.00000353\n",
      "  0.99612342 0.36752847]\n",
      " [0.99641855 0.37083853 0.15505432 0.99621778 0.35418632 0.77576876\n",
      "  0.49291598 0.35108778 0.60535838 0.66887069 0.65066898 0.43831804\n",
      "  0.9965197  0.49534326 0.36226705 0.06425571 0.68867358 0.99612342\n",
      "  1.00000601 0.36192225]\n",
      " [0.36422938 0.46156339 0.23464851 0.35898059 0.99650422 0.38176902\n",
      "  0.46775483 0.99316268 0.30662054 0.600819   0.32447814 0.3094178\n",
      "  0.36183022 0.48328952 0.9946965  0.14037912 0.5967674  0.36752848\n",
      "  0.36192226 1.00000875]]\n",
      "Original Copylist [9, 1, 4, 9, 6, 7, 5, 6, 2, 0, 8, 3, 9, 5, 6, 4, 0, 9, 9, 6]\n",
      "Found clusters [7 9 0 7 3 4 2 3 6 1 8 5 7 2 3 0 1 7 7 3]\n",
      "Original groups [array([ 9, 16], dtype=int64), array([1], dtype=int64), array([8], dtype=int64), array([11], dtype=int64), array([ 2, 15], dtype=int64), array([ 6, 13], dtype=int64), array([ 4,  7, 14, 19], dtype=int64), array([5], dtype=int64), array([10], dtype=int64), array([ 0,  3, 12, 17, 18], dtype=int64)]\n",
      "Clustered groups [array([ 2, 15], dtype=int64), array([ 9, 16], dtype=int64), array([ 6, 13], dtype=int64), array([ 4,  7, 14, 19], dtype=int64), array([5], dtype=int64), array([11], dtype=int64), array([8], dtype=int64), array([ 0,  3, 12, 17, 18], dtype=int64), array([10], dtype=int64), array([1], dtype=int64)]\n",
      "Clustering score 1.0\n",
      "\n",
      "\n",
      " Entering epoch 4\n",
      "Iter 2 - Epoch 0 - Client Type: Benign - Client Number 0 - Poison Training False\n"
     ]
    },
    {
     "name": "stderr",
     "output_type": "stream",
     "text": [
      "100%|████████████████████████████████████████████████████████████████████████████████████| 1/1 [00:00<00:00,  1.22it/s]\n"
     ]
    },
    {
     "name": "stdout",
     "output_type": "stream",
     "text": [
      "Iter 2 - Epoch 0 - Client Type: Benign - Client Number 1 - Poison Training False\n"
     ]
    },
    {
     "name": "stderr",
     "output_type": "stream",
     "text": [
      "100%|████████████████████████████████████████████████████████████████████████████████████| 2/2 [00:01<00:00,  1.11it/s]\n"
     ]
    },
    {
     "name": "stdout",
     "output_type": "stream",
     "text": [
      "Iter 2 - Epoch 0 - Client Type: Benign - Client Number 2 - Poison Training False\n"
     ]
    },
    {
     "name": "stderr",
     "output_type": "stream",
     "text": [
      "100%|████████████████████████████████████████████████████████████████████████████████████| 2/2 [00:01<00:00,  1.67it/s]\n"
     ]
    },
    {
     "name": "stdout",
     "output_type": "stream",
     "text": [
      "Iter 2 - Epoch 0 - Client Type: Benign - Client Number 3 - Poison Training False\n"
     ]
    },
    {
     "name": "stderr",
     "output_type": "stream",
     "text": [
      "100%|████████████████████████████████████████████████████████████████████████████████████| 1/1 [00:00<00:00,  1.44it/s]\n"
     ]
    },
    {
     "name": "stdout",
     "output_type": "stream",
     "text": [
      "Iter 2 - Epoch 0 - Client Type: Benign - Client Number 4 - Poison Training False\n"
     ]
    },
    {
     "name": "stderr",
     "output_type": "stream",
     "text": [
      "100%|████████████████████████████████████████████████████████████████████████████████████| 1/1 [00:00<00:00,  1.26it/s]\n"
     ]
    },
    {
     "name": "stdout",
     "output_type": "stream",
     "text": [
      "Iter 2 - Epoch 0 - Client Type: Benign - Client Number 5 - Poison Training False\n"
     ]
    },
    {
     "name": "stderr",
     "output_type": "stream",
     "text": [
      "100%|████████████████████████████████████████████████████████████████████████████████████| 1/1 [00:00<00:00,  1.12it/s]\n"
     ]
    },
    {
     "name": "stdout",
     "output_type": "stream",
     "text": [
      "Iter 2 - Epoch 0 - Client Type: Benign - Client Number 6 - Poison Training False\n"
     ]
    },
    {
     "name": "stderr",
     "output_type": "stream",
     "text": [
      "100%|████████████████████████████████████████████████████████████████████████████████████| 2/2 [00:01<00:00,  1.05it/s]\n"
     ]
    },
    {
     "name": "stdout",
     "output_type": "stream",
     "text": [
      "Iter 2 - Epoch 0 - Client Type: Benign - Client Number 7 - Poison Training False\n"
     ]
    },
    {
     "name": "stderr",
     "output_type": "stream",
     "text": [
      "100%|████████████████████████████████████████████████████████████████████████████████████| 1/1 [00:00<00:00,  1.14it/s]\n"
     ]
    },
    {
     "name": "stdout",
     "output_type": "stream",
     "text": [
      "Iter 2 - Epoch 0 - Client Type: Benign - Client Number 8 - Poison Training False\n"
     ]
    },
    {
     "name": "stderr",
     "output_type": "stream",
     "text": [
      "100%|████████████████████████████████████████████████████████████████████████████████████| 1/1 [00:00<00:00,  1.10it/s]\n"
     ]
    },
    {
     "name": "stdout",
     "output_type": "stream",
     "text": [
      "Iter 2 - Epoch 0 - Client Type: Benign - Client Number 9 - Poison Training False\n"
     ]
    },
    {
     "name": "stderr",
     "output_type": "stream",
     "text": [
      "100%|████████████████████████████████████████████████████████████████████████████████████| 2/2 [00:01<00:00,  1.35it/s]\n"
     ]
    },
    {
     "name": "stdout",
     "output_type": "stream",
     "text": [
      "Iter 2 - Epoch 0 - Client Type: Benign - Client Number 10 - Poison Training False\n"
     ]
    },
    {
     "name": "stderr",
     "output_type": "stream",
     "text": [
      "100%|████████████████████████████████████████████████████████████████████████████████████| 1/1 [00:00<00:00,  1.84it/s]\n"
     ]
    },
    {
     "name": "stdout",
     "output_type": "stream",
     "text": [
      "Iter 2 - Epoch 0 - Client Type: Benign - Client Number 11 - Poison Training False\n"
     ]
    },
    {
     "name": "stderr",
     "output_type": "stream",
     "text": [
      "100%|████████████████████████████████████████████████████████████████████████████████████| 2/2 [00:01<00:00,  1.24it/s]\n"
     ]
    },
    {
     "name": "stdout",
     "output_type": "stream",
     "text": [
      "Iter 2 - Epoch 0 - Client Type: Benign - Client Number 12 - Poison Training False\n"
     ]
    },
    {
     "name": "stderr",
     "output_type": "stream",
     "text": [
      "100%|████████████████████████████████████████████████████████████████████████████████████| 1/1 [00:00<00:00,  1.34it/s]\n"
     ]
    },
    {
     "name": "stdout",
     "output_type": "stream",
     "text": [
      "Iter 2 - Epoch 0 - Client Type: Benign - Client Number 13 - Poison Training False\n"
     ]
    },
    {
     "name": "stderr",
     "output_type": "stream",
     "text": [
      "100%|████████████████████████████████████████████████████████████████████████████████████| 2/2 [00:02<00:00,  1.10s/it]\n"
     ]
    },
    {
     "name": "stdout",
     "output_type": "stream",
     "text": [
      "Iter 2 - Epoch 0 - Client Type: Benign - Client Number 14 - Poison Training False\n"
     ]
    },
    {
     "name": "stderr",
     "output_type": "stream",
     "text": [
      "100%|████████████████████████████████████████████████████████████████████████████████████| 1/1 [00:00<00:00,  1.11it/s]\n"
     ]
    },
    {
     "name": "stdout",
     "output_type": "stream",
     "text": [
      "Iter 2 - Epoch 0 - Client Type: Benign - Client Number 15 - Poison Training False\n"
     ]
    },
    {
     "name": "stderr",
     "output_type": "stream",
     "text": [
      "100%|████████████████████████████████████████████████████████████████████████████████████| 2/2 [00:01<00:00,  1.58it/s]\n"
     ]
    },
    {
     "name": "stdout",
     "output_type": "stream",
     "text": [
      "Iter 2 - Epoch 0 - Client Type: Benign - Client Number 16 - Poison Training False\n"
     ]
    },
    {
     "name": "stderr",
     "output_type": "stream",
     "text": [
      "100%|████████████████████████████████████████████████████████████████████████████████████| 2/2 [00:01<00:00,  1.60it/s]\n"
     ]
    },
    {
     "name": "stdout",
     "output_type": "stream",
     "text": [
      "Iter 2 - Epoch 0 - Client Type: Benign - Client Number 17 - Poison Training False\n"
     ]
    },
    {
     "name": "stderr",
     "output_type": "stream",
     "text": [
      "100%|████████████████████████████████████████████████████████████████████████████████████| 1/1 [00:00<00:00,  1.38it/s]\n"
     ]
    },
    {
     "name": "stdout",
     "output_type": "stream",
     "text": [
      "Iter 2 - Epoch 0 - Client Type: Benign - Client Number 18 - Poison Training False\n"
     ]
    },
    {
     "name": "stderr",
     "output_type": "stream",
     "text": [
      "100%|████████████████████████████████████████████████████████████████████████████████████| 1/1 [00:00<00:00,  1.44it/s]\n"
     ]
    },
    {
     "name": "stdout",
     "output_type": "stream",
     "text": [
      "Iter 2 - Epoch 0 - Client Type: Benign - Client Number 19 - Poison Training False\n"
     ]
    },
    {
     "name": "stderr",
     "output_type": "stream",
     "text": [
      "100%|████████████████████████████████████████████████████████████████████████████████████| 1/1 [00:00<00:00,  1.10it/s]\n"
     ]
    },
    {
     "name": "stdout",
     "output_type": "stream",
     "text": [
      "Original Copylist [9, 1, 4, 9, 6, 7, 5, 6, 2, 0, 8, 3, 9, 5, 6, 4, 0, 9, 9, 6]\n",
      "Found clusters [8 6 9 8 7 0 1 7 5 3 0 2 8 1 7 4 3 8 8 7]\n",
      "Original groups [array([ 9, 16], dtype=int64), array([1], dtype=int64), array([8], dtype=int64), array([11], dtype=int64), array([ 2, 15], dtype=int64), array([ 6, 13], dtype=int64), array([ 4,  7, 14, 19], dtype=int64), array([5], dtype=int64), array([10], dtype=int64), array([ 0,  3, 12, 17, 18], dtype=int64)]\n",
      "Clustered groups [array([ 5, 10], dtype=int64), array([ 6, 13], dtype=int64), array([11], dtype=int64), array([ 9, 16], dtype=int64), array([15], dtype=int64), array([8], dtype=int64), array([1], dtype=int64), array([ 4,  7, 14, 19], dtype=int64), array([ 0,  3, 12, 17, 18], dtype=int64), array([2], dtype=int64)]\n",
      "Clustering score 0.9415204678362573\n",
      "15\n",
      "[[1.00000622 0.4168391  0.19139797 0.99532839 0.39455367 0.80152253\n",
      "  0.51801693 0.38922352 0.55557755 0.70401084 0.69120898 0.47940596\n",
      "  0.99497203 0.52379723 0.39862916 0.07253877 0.71530313 0.99585696\n",
      "  0.99658936 0.40356436]\n",
      " [0.41683912 1.00000381 0.38007103 0.40922371 0.5022788  0.50688087\n",
      "  0.40874799 0.49479826 0.4754883  0.64574447 0.40029032 0.38310066\n",
      "  0.4118647  0.4250137  0.4937949  0.3232655  0.64674337 0.42335511\n",
      "  0.41937039 0.50118867]\n",
      " [0.19139797 0.38007102 1.00000601 0.17534733 0.26956873 0.39985806\n",
      "  0.55418069 0.26429091 0.23859145 0.24582702 0.18360583 0.56567761\n",
      "  0.17418274 0.5556905  0.26307694 0.89021851 0.25016331 0.19193826\n",
      "  0.18114453 0.26533795]\n",
      " [0.99532839 0.40922373 0.17534733 1.00000521 0.38787902 0.79847968\n",
      "  0.50601511 0.38299747 0.5507078  0.701057   0.69214116 0.47186414\n",
      "  0.9957445  0.51153618 0.3927058  0.05841507 0.71292543 0.99526323\n",
      "  0.99578252 0.39703261]\n",
      " [0.39455367 0.50227882 0.26956873 0.38787901 1.00000839 0.40346702\n",
      "  0.47203888 0.99644333 0.34527342 0.59047778 0.37679791 0.34772954\n",
      "  0.393127   0.5158019  0.99582983 0.14262477 0.57954447 0.3999262\n",
      "  0.39598048 0.99601647]\n",
      " [0.80152255 0.50688084 0.39985806 0.79847968 0.40346701 1.0000072\n",
      "  0.6208395  0.39420556 0.59733429 0.77304054 0.81696087 0.62518877\n",
      "  0.79613665 0.64601303 0.402139   0.22741515 0.79610391 0.80737138\n",
      "  0.79950495 0.41314003]\n",
      " [0.51801695 0.40874799 0.55418072 0.50601509 0.47203888 0.62083949\n",
      "  1.00000534 0.46303698 0.3814276  0.54603931 0.50987211 0.53813526\n",
      "  0.50555944 0.96832169 0.46417337 0.4091483  0.54362111 0.51939256\n",
      "  0.5081023  0.47904354]\n",
      " [0.38922351 0.49479826 0.26429091 0.38299747 0.99644336 0.39420556\n",
      "  0.46303698 1.00000627 0.34079689 0.57996362 0.37179767 0.33751014\n",
      "  0.38901282 0.50793433 0.99641132 0.14230717 0.56752275 0.3947501\n",
      "  0.39085665 0.9951743 ]\n",
      " [0.55557756 0.47548831 0.23859145 0.55070779 0.34527342 0.59733427\n",
      "  0.38142759 0.34079689 1.00000336 0.57406135 0.46000385 0.28706395\n",
      "  0.5463155  0.41543736 0.34589306 0.17214331 0.60497997 0.56108496\n",
      "  0.55371946 0.35033555]\n",
      " [0.70401083 0.64574448 0.24582702 0.70105699 0.59047772 0.77304053\n",
      "  0.5460393  0.57996361 0.57406134 1.00000584 0.72578368 0.58121908\n",
      "  0.70038344 0.55572757 0.5859475  0.13762451 0.98396904 0.70739937\n",
      "  0.70395427 0.59406409]\n",
      " [0.69120899 0.40029032 0.18360583 0.69214115 0.3767979  0.81696087\n",
      "  0.5098721  0.37179768 0.46000385 0.72578367 1.00000665 0.46072325\n",
      "  0.69210329 0.54191373 0.3793427  0.05654409 0.73050611 0.6935449\n",
      "  0.68889029 0.39032122]\n",
      " [0.47940595 0.38310065 0.56567761 0.47186413 0.34772953 0.62518877\n",
      "  0.53813526 0.33751014 0.28706394 0.58121909 0.46072325 1.00000556\n",
      "  0.47334172 0.54664433 0.33998408 0.47067178 0.56666995 0.48231156\n",
      "  0.4774135  0.34297624]\n",
      " [0.99497204 0.4118647  0.17418275 0.99574454 0.39312699 0.79613667\n",
      "  0.50555943 0.38901284 0.54631546 0.70038342 0.69210328 0.47334172\n",
      "  1.00000567 0.51043364 0.39913745 0.05600049 0.71248968 0.9945641\n",
      "  0.99642185 0.40208919]\n",
      " [0.52379726 0.42501369 0.55569049 0.51153616 0.5158019  0.64601302\n",
      "  0.96832169 0.50793435 0.41543736 0.55572755 0.54191372 0.54664436\n",
      "  0.51043364 1.00000427 0.50829079 0.40740316 0.55604857 0.52640156\n",
      "  0.51504284 0.52288471]\n",
      " [0.39862915 0.49379494 0.26307694 0.39270582 0.99582983 0.40213899\n",
      "  0.46417339 0.99641134 0.34589305 0.58594749 0.37934268 0.33998407\n",
      "  0.39913747 0.50829078 1.00000818 0.13633797 0.57598263 0.40429597\n",
      "  0.40042638 0.99604282]\n",
      " [0.07253877 0.3232655  0.89021851 0.05841507 0.14262477 0.22741516\n",
      "  0.40914829 0.14230716 0.17214331 0.13762451 0.05654409 0.4706718\n",
      "  0.05600049 0.40740315 0.13633797 1.00000875 0.12889336 0.07298536\n",
      "  0.06345782 0.13494061]\n",
      " [0.71530316 0.64674339 0.25016331 0.71292541 0.57954446 0.79610391\n",
      "  0.54362111 0.56752275 0.60497999 0.98396903 0.73050612 0.56666995\n",
      "  0.71248965 0.55604856 0.57598264 0.12889336 1.0000051  0.71936831\n",
      "  0.71633775 0.58377354]\n",
      " [0.99585698 0.42335509 0.19193827 0.99526324 0.3999262  0.80737137\n",
      "  0.51939256 0.3947501  0.56108495 0.70739936 0.6935449  0.48231157\n",
      "  0.99456407 0.52640154 0.40429595 0.07298536 0.71936831 1.0000035\n",
      "  0.99527113 0.40898563]\n",
      " [0.99658936 0.41937039 0.18114454 0.99578253 0.39598046 0.79950495\n",
      "  0.50810233 0.39085667 0.55371946 0.70395427 0.68889028 0.47741351\n",
      "  0.99642186 0.51504285 0.40042639 0.06345782 0.71633776 0.99527113\n",
      "  1.00000539 0.40457671]\n",
      " [0.40356438 0.50118868 0.26533796 0.39703261 0.99601648 0.41314003\n",
      "  0.47904354 0.99517429 0.35033555 0.59406409 0.39032122 0.34297624\n",
      "  0.40208918 0.52288471 0.99604282 0.13494061 0.58377354 0.40898564\n",
      "  0.40457671 1.00000882]]\n",
      "Original Copylist [9, 1, 4, 9, 6, 7, 5, 6, 2, 0, 8, 3, 9, 5, 6, 4, 0, 9, 9, 6]\n",
      "Found clusters [8 5 0 8 2 9 1 2 7 3 4 6 8 1 2 0 3 8 8 2]\n",
      "Original groups [array([ 9, 16], dtype=int64), array([1], dtype=int64), array([8], dtype=int64), array([11], dtype=int64), array([ 2, 15], dtype=int64), array([ 6, 13], dtype=int64), array([ 4,  7, 14, 19], dtype=int64), array([5], dtype=int64), array([10], dtype=int64), array([ 0,  3, 12, 17, 18], dtype=int64)]\n",
      "Clustered groups [array([ 2, 15], dtype=int64), array([ 6, 13], dtype=int64), array([ 4,  7, 14, 19], dtype=int64), array([ 9, 16], dtype=int64), array([10], dtype=int64), array([1], dtype=int64), array([11], dtype=int64), array([8], dtype=int64), array([ 0,  3, 12, 17, 18], dtype=int64), array([5], dtype=int64)]\n",
      "Clustering score 1.0\n",
      "Benign net distance [tensor(52.1251), tensor(63.0339), tensor(83.3120), tensor(52.4073), tensor(5.7898), tensor(58.9226), tensor(77.1189), tensor(6.8931), tensor(76.4382), tensor(65.0223), tensor(53.3341), tensor(71.1833), tensor(51.7792), tensor(72.2665), tensor(6.3291), tensor(112.9771), tensor(68.3509), tensor(52.0048), tensor(51.6358), tensor(0.)]\n",
      "Malicious net distance []\n",
      "cos_sim list  [tensor(0.4783), tensor(0.6995), tensor(0.3839), tensor(0.4679), tensor(0.9939), tensor(0.4558), tensor(0.4597), tensor(0.9924), tensor(0.3455), tensor(0.5398), tensor(0.5187), tensor(0.4436), tensor(0.4751), tensor(0.5983), tensor(0.9935), tensor(0.1945), tensor(0.5114), tensor(0.4854), tensor(0.4852), tensor(1.0000)]\n",
      "Norms of local gradients  [tensor(0.5746), tensor(0.9311), tensor(0.9737), tensor(0.5764), tensor(0.5370), tensor(0.6335), tensor(0.8472), tensor(0.5563), tensor(0.9738), tensor(0.7580), tensor(0.6019), tensor(0.8402), tensor(0.5762), tensor(0.8555), tensor(0.5548), tensor(1.2502), tensor(0.7868), tensor(0.5840), tensor(0.5719), tensor(0.5321)]\n",
      "\n",
      " Aggregating models\n",
      "Cosine Similarities:  [tensor(0.4783), tensor(0.6995), tensor(0.3839), tensor(0.4679), tensor(0.9939), tensor(0.4558), tensor(0.4597), tensor(0.9924), tensor(0.3455), tensor(0.5398), tensor(0.5187), tensor(0.4436), tensor(0.4751), tensor(0.5983), tensor(0.9935), tensor(0.1945), tensor(0.5114), tensor(0.4854), tensor(0.4852), tensor(1.0000)]\n",
      "Aggregation Weights:  [0.03844038 0.03469042 0.01820744 0.03748189 0.08546292 0.03321983\n",
      " 0.02505781 0.08238217 0.01638354 0.03288223 0.03979393 0.02438068\n",
      " 0.03807864 0.03229487 0.08268914 0.00718444 0.03001558 0.03837638\n",
      " 0.03917507 0.08678801]\n",
      "\n",
      "\n",
      "\n",
      "Aggregate test at iter  2\n"
     ]
    },
    {
     "name": "stderr",
     "output_type": "stream",
     "text": [
      "100%|██████████████████████████████████████████████████████████████████████████████████| 10/10 [00:02<00:00,  4.11it/s]\n"
     ]
    },
    {
     "name": "stdout",
     "output_type": "stream",
     "text": [
      "\n",
      "Test set: Avg. loss: 0.0013, Accuracy: 4922/10000 (49%)\n",
      "\n",
      "\n",
      "\n",
      " Entering epoch 0\n",
      "Iter 3 - Epoch 0 - Client Type: Benign - Client Number 0 - Poison Training False\n"
     ]
    },
    {
     "name": "stderr",
     "output_type": "stream",
     "text": [
      "100%|████████████████████████████████████████████████████████████████████████████████████| 1/1 [00:00<00:00,  1.41it/s]\n"
     ]
    },
    {
     "name": "stdout",
     "output_type": "stream",
     "text": [
      "Iter 3 - Epoch 0 - Client Type: Benign - Client Number 1 - Poison Training False\n"
     ]
    },
    {
     "name": "stderr",
     "output_type": "stream",
     "text": [
      "100%|████████████████████████████████████████████████████████████████████████████████████| 2/2 [00:01<00:00,  1.02it/s]\n"
     ]
    },
    {
     "name": "stdout",
     "output_type": "stream",
     "text": [
      "Iter 3 - Epoch 0 - Client Type: Benign - Client Number 2 - Poison Training False\n"
     ]
    },
    {
     "name": "stderr",
     "output_type": "stream",
     "text": [
      "100%|████████████████████████████████████████████████████████████████████████████████████| 2/2 [00:01<00:00,  1.46it/s]\n"
     ]
    },
    {
     "name": "stdout",
     "output_type": "stream",
     "text": [
      "Iter 3 - Epoch 0 - Client Type: Benign - Client Number 3 - Poison Training False\n"
     ]
    },
    {
     "name": "stderr",
     "output_type": "stream",
     "text": [
      "100%|████████████████████████████████████████████████████████████████████████████████████| 1/1 [00:00<00:00,  1.58it/s]\n"
     ]
    },
    {
     "name": "stdout",
     "output_type": "stream",
     "text": [
      "Iter 3 - Epoch 0 - Client Type: Benign - Client Number 4 - Poison Training False\n"
     ]
    },
    {
     "name": "stderr",
     "output_type": "stream",
     "text": [
      "100%|████████████████████████████████████████████████████████████████████████████████████| 1/1 [00:00<00:00,  1.15it/s]\n"
     ]
    },
    {
     "name": "stdout",
     "output_type": "stream",
     "text": [
      "Iter 3 - Epoch 0 - Client Type: Benign - Client Number 5 - Poison Training False\n"
     ]
    },
    {
     "name": "stderr",
     "output_type": "stream",
     "text": [
      "100%|████████████████████████████████████████████████████████████████████████████████████| 1/1 [00:00<00:00,  1.13it/s]\n"
     ]
    },
    {
     "name": "stdout",
     "output_type": "stream",
     "text": [
      "Iter 3 - Epoch 0 - Client Type: Benign - Client Number 6 - Poison Training False\n"
     ]
    },
    {
     "name": "stderr",
     "output_type": "stream",
     "text": [
      "100%|████████████████████████████████████████████████████████████████████████████████████| 2/2 [00:01<00:00,  1.06it/s]\n"
     ]
    },
    {
     "name": "stdout",
     "output_type": "stream",
     "text": [
      "Iter 3 - Epoch 0 - Client Type: Benign - Client Number 7 - Poison Training False\n"
     ]
    },
    {
     "name": "stderr",
     "output_type": "stream",
     "text": [
      "100%|████████████████████████████████████████████████████████████████████████████████████| 1/1 [00:00<00:00,  1.21it/s]\n"
     ]
    },
    {
     "name": "stdout",
     "output_type": "stream",
     "text": [
      "Iter 3 - Epoch 0 - Client Type: Benign - Client Number 8 - Poison Training False\n"
     ]
    },
    {
     "name": "stderr",
     "output_type": "stream",
     "text": [
      "100%|████████████████████████████████████████████████████████████████████████████████████| 1/1 [00:00<00:00,  1.10it/s]\n"
     ]
    },
    {
     "name": "stdout",
     "output_type": "stream",
     "text": [
      "Iter 3 - Epoch 0 - Client Type: Benign - Client Number 9 - Poison Training False\n"
     ]
    },
    {
     "name": "stderr",
     "output_type": "stream",
     "text": [
      "100%|████████████████████████████████████████████████████████████████████████████████████| 2/2 [00:01<00:00,  1.57it/s]\n"
     ]
    },
    {
     "name": "stdout",
     "output_type": "stream",
     "text": [
      "Iter 3 - Epoch 0 - Client Type: Benign - Client Number 10 - Poison Training False\n"
     ]
    },
    {
     "name": "stderr",
     "output_type": "stream",
     "text": [
      "100%|████████████████████████████████████████████████████████████████████████████████████| 1/1 [00:00<00:00,  1.84it/s]\n"
     ]
    },
    {
     "name": "stdout",
     "output_type": "stream",
     "text": [
      "Iter 3 - Epoch 0 - Client Type: Benign - Client Number 11 - Poison Training False\n"
     ]
    },
    {
     "name": "stderr",
     "output_type": "stream",
     "text": [
      "100%|████████████████████████████████████████████████████████████████████████████████████| 2/2 [00:01<00:00,  1.41it/s]\n"
     ]
    },
    {
     "name": "stdout",
     "output_type": "stream",
     "text": [
      "Iter 3 - Epoch 0 - Client Type: Benign - Client Number 12 - Poison Training False\n"
     ]
    },
    {
     "name": "stderr",
     "output_type": "stream",
     "text": [
      "100%|████████████████████████████████████████████████████████████████████████████████████| 1/1 [00:00<00:00,  1.52it/s]\n"
     ]
    },
    {
     "name": "stdout",
     "output_type": "stream",
     "text": [
      "Iter 3 - Epoch 0 - Client Type: Benign - Client Number 13 - Poison Training False\n"
     ]
    },
    {
     "name": "stderr",
     "output_type": "stream",
     "text": [
      "100%|████████████████████████████████████████████████████████████████████████████████████| 2/2 [00:01<00:00,  1.02it/s]\n"
     ]
    },
    {
     "name": "stdout",
     "output_type": "stream",
     "text": [
      "Iter 3 - Epoch 0 - Client Type: Benign - Client Number 14 - Poison Training False\n"
     ]
    },
    {
     "name": "stderr",
     "output_type": "stream",
     "text": [
      "100%|████████████████████████████████████████████████████████████████████████████████████| 1/1 [00:00<00:00,  1.19it/s]\n"
     ]
    },
    {
     "name": "stdout",
     "output_type": "stream",
     "text": [
      "Iter 3 - Epoch 0 - Client Type: Benign - Client Number 15 - Poison Training False\n"
     ]
    },
    {
     "name": "stderr",
     "output_type": "stream",
     "text": [
      "100%|████████████████████████████████████████████████████████████████████████████████████| 2/2 [00:01<00:00,  1.55it/s]\n"
     ]
    },
    {
     "name": "stdout",
     "output_type": "stream",
     "text": [
      "Iter 3 - Epoch 0 - Client Type: Benign - Client Number 16 - Poison Training False\n"
     ]
    },
    {
     "name": "stderr",
     "output_type": "stream",
     "text": [
      "100%|████████████████████████████████████████████████████████████████████████████████████| 2/2 [00:01<00:00,  1.49it/s]\n"
     ]
    },
    {
     "name": "stdout",
     "output_type": "stream",
     "text": [
      "Iter 3 - Epoch 0 - Client Type: Benign - Client Number 17 - Poison Training False\n"
     ]
    },
    {
     "name": "stderr",
     "output_type": "stream",
     "text": [
      "100%|████████████████████████████████████████████████████████████████████████████████████| 1/1 [00:00<00:00,  1.38it/s]\n"
     ]
    },
    {
     "name": "stdout",
     "output_type": "stream",
     "text": [
      "Iter 3 - Epoch 0 - Client Type: Benign - Client Number 18 - Poison Training False\n"
     ]
    },
    {
     "name": "stderr",
     "output_type": "stream",
     "text": [
      "100%|████████████████████████████████████████████████████████████████████████████████████| 1/1 [00:00<00:00,  1.47it/s]\n"
     ]
    },
    {
     "name": "stdout",
     "output_type": "stream",
     "text": [
      "Iter 3 - Epoch 0 - Client Type: Benign - Client Number 19 - Poison Training False\n"
     ]
    },
    {
     "name": "stderr",
     "output_type": "stream",
     "text": [
      "100%|████████████████████████████████████████████████████████████████████████████████████| 1/1 [00:00<00:00,  1.15it/s]\n"
     ]
    },
    {
     "name": "stdout",
     "output_type": "stream",
     "text": [
      "Original Copylist [9, 1, 4, 9, 6, 7, 5, 6, 2, 0, 8, 3, 9, 5, 6, 4, 0, 9, 9, 6]\n",
      "Found clusters [2 7 0 2 8 9 3 8 5 1 6 4 2 3 8 0 1 2 2 8]\n",
      "Original groups [array([ 9, 16], dtype=int64), array([1], dtype=int64), array([8], dtype=int64), array([11], dtype=int64), array([ 2, 15], dtype=int64), array([ 6, 13], dtype=int64), array([ 4,  7, 14, 19], dtype=int64), array([5], dtype=int64), array([10], dtype=int64), array([ 0,  3, 12, 17, 18], dtype=int64)]\n",
      "Clustered groups [array([ 2, 15], dtype=int64), array([ 9, 16], dtype=int64), array([ 0,  3, 12, 17, 18], dtype=int64), array([ 6, 13], dtype=int64), array([11], dtype=int64), array([8], dtype=int64), array([10], dtype=int64), array([1], dtype=int64), array([ 4,  7, 14, 19], dtype=int64), array([5], dtype=int64)]\n",
      "Clustering score 1.0\n",
      "16\n",
      "[[ 1.00000737  0.28801934  0.16088506  0.99530623  0.31588984  0.79801377\n",
      "   0.47253533  0.31236344  0.53276558  0.61441735  0.68665112  0.44282354\n",
      "   0.99492651  0.4800716   0.32051134  0.04303056  0.64816056  0.99585941\n",
      "   0.9966535   0.32380367]\n",
      " [ 0.28801935  1.00000389  0.35454308  0.27921544  0.46604572  0.39015285\n",
      "   0.39650387  0.45747859  0.37968149  0.53999736  0.33240638  0.33948928\n",
      "   0.28367074  0.41421285  0.45595275  0.30740876  0.55216205  0.29271565\n",
      "   0.29138885  0.46454286]\n",
      " [ 0.16088506  0.35454307  1.00000708  0.14574162  0.27654373  0.31612464\n",
      "   0.52315823  0.26964952  0.18849263  0.14721856  0.12250281  0.49129848\n",
      "   0.14561082  0.52818041  0.26773758  0.87692519  0.16052764  0.15905819\n",
      "   0.1497081   0.2709871 ]\n",
      " [ 0.99530622  0.27921546  0.14574162  1.00000538  0.3079195   0.79483873\n",
      "   0.45954196  0.30486978  0.52600127  0.61073644  0.68704339  0.43666984\n",
      "   0.99569584  0.46690693  0.3131716   0.02923301  0.64446357  0.99524729\n",
      "   0.99574038  0.31586908]\n",
      " [ 0.31588984  0.46604574  0.27654374  0.3079195   1.00000644  0.33694871\n",
      "   0.44599664  0.99627483  0.2832075   0.50961462  0.31463387  0.25512717\n",
      "   0.31497241  0.49888608  0.99546145  0.15020433  0.5094132   0.31976003\n",
      "   0.31639453  0.99578378]\n",
      " [ 0.79801379  0.39015283  0.31612464  0.79483873  0.33694871  1.00000653\n",
      "   0.58808083  0.33051306  0.59392906  0.73247702  0.82372395  0.57999063\n",
      "   0.79357458  0.61141364  0.33682843  0.16169706  0.76186557  0.80446795\n",
      "   0.79566349  0.34622568]\n",
      " [ 0.47253535  0.39650387  0.52315825  0.45954195  0.44599664  0.58808082\n",
      "   1.00000417  0.43810036  0.37651784  0.49820644  0.47641141  0.50432239\n",
      "   0.46071654  0.96718177  0.43719255  0.3968015   0.5066214   0.4728145\n",
      "   0.46102278  0.45246429]\n",
      " [ 0.31236343  0.45747859  0.26964953  0.30486978  0.99627484  0.33051306\n",
      "   0.43810034  1.00000477  0.28012492  0.50072448  0.31237628  0.24551232\n",
      "   0.31273151  0.49222262  0.99609666  0.14858741  0.49911943  0.31648381\n",
      "   0.31313081  0.9949545 ]\n",
      " [ 0.53276559  0.37968149  0.18849263  0.52600126  0.28320749  0.59392906\n",
      "   0.37651784  0.28012492  1.00000365  0.56488277  0.4698927   0.24424908\n",
      "   0.52293997  0.40488699  0.28735477  0.13337441  0.58005235  0.53901591\n",
      "   0.53087449  0.29052134]\n",
      " [ 0.61441735  0.53999736  0.14721855  0.61073641  0.50961458  0.73247701\n",
      "   0.49820644  0.50072447  0.56488276  1.00000618  0.70296012  0.48746974\n",
      "   0.61023501  0.50370715  0.50659514  0.04766933  0.97855048  0.61903253\n",
      "   0.61469033  0.51403893]\n",
      " [ 0.68665113  0.33240638  0.12250281  0.68704338  0.31463386  0.82372395\n",
      "   0.4764114   0.31237629  0.4698927   0.70296012  1.00000646  0.41240909\n",
      "   0.68784449  0.5056071   0.31945534 -0.00620028  0.71133304  0.68918921\n",
      "   0.68420616  0.32872793]\n",
      " [ 0.44282354  0.33948926  0.49129848  0.43666983  0.25512716  0.57999064\n",
      "   0.5043224   0.24551232  0.24424907  0.48746976  0.41240909  1.00000575\n",
      "   0.43701413  0.50726408  0.24460724  0.42977104  0.49490539  0.44484046\n",
      "   0.43980776  0.2476335 ]\n",
      " [ 0.99492651  0.28367074  0.14561082  0.99569587  0.3149724   0.7935746\n",
      "   0.46071653  0.31273152  0.52293993  0.610235    0.68784449  0.43701412\n",
      "   1.00000484  0.4675424   0.32146538  0.02758006  0.64442432  0.99454322\n",
      "   0.99633012  0.32272296]\n",
      " [ 0.48007162  0.41421284  0.52818041  0.46690691  0.49888609  0.61141363\n",
      "   0.96718174  0.49222264  0.40488698  0.50370715  0.5056071   0.50726411\n",
      "   0.4675424   1.00000348  0.49041145  0.39715347  0.51425679  0.48160839\n",
      "   0.46977402  0.50529848]\n",
      " [ 0.32051132  0.45595277  0.26773758  0.3131716   0.99546146  0.33682842\n",
      "   0.43719256  0.99609667  0.28735476  0.50659513  0.31945533  0.24460723\n",
      "   0.3214654   0.49041145  1.00000708  0.14164235  0.50742201  0.32472229\n",
      "   0.32143515  0.99587206]\n",
      " [ 0.04303056  0.30740877  0.87692519  0.02923301  0.15020434  0.16169706\n",
      "   0.39680149  0.1485874   0.13337441  0.04766933 -0.00620028  0.42977106\n",
      "   0.02758006  0.39715346  0.14164235  1.00000904  0.05151019  0.041302\n",
      "   0.03262446  0.14129781]\n",
      " [ 0.64816057  0.55216206  0.16052765  0.64446355  0.50941319  0.76186557\n",
      "   0.5066214   0.49911942  0.58005238  0.97855047  0.71133304  0.49490538\n",
      "   0.6444243   0.51425678  0.50742202  0.05151019  1.00000455  0.6529398\n",
      "   0.64994432  0.51435999]\n",
      " [ 0.99585941  0.29271563  0.15905819  0.99524729  0.31976002  0.80446794\n",
      "   0.4728145   0.31648381  0.53901588  0.61903252  0.6891892   0.44484047\n",
      "   0.99454319  0.48160838  0.32472227  0.041302    0.65293981  1.00000341\n",
      "   0.99528412  0.32771401]\n",
      " [ 0.99665349  0.29138885  0.14970811  0.99574039  0.31639451  0.79566348\n",
      "   0.46102281  0.31313082  0.5308745   0.61469032  0.68420615  0.43980776\n",
      "   0.99633013  0.46977403  0.32143515  0.03262445  0.64994434  0.99528413\n",
      "   1.00000529  0.32391562]\n",
      " [ 0.32380369  0.46454288  0.27098709  0.31586908  0.99578379  0.34622569\n",
      "   0.45246429  0.99495448  0.29052134  0.51403893  0.32872793  0.24763349\n",
      "   0.32272295  0.50529848  0.99587206  0.14129781  0.51435999  0.32771402\n",
      "   0.32391563  1.00000715]]\n",
      "Original Copylist [9, 1, 4, 9, 6, 7, 5, 6, 2, 0, 8, 3, 9, 5, 6, 4, 0, 9, 9, 6]\n",
      "Found clusters [7 9 0 7 2 4 1 2 5 3 8 6 7 1 2 0 3 7 7 2]\n",
      "Original groups [array([ 9, 16], dtype=int64), array([1], dtype=int64), array([8], dtype=int64), array([11], dtype=int64), array([ 2, 15], dtype=int64), array([ 6, 13], dtype=int64), array([ 4,  7, 14, 19], dtype=int64), array([5], dtype=int64), array([10], dtype=int64), array([ 0,  3, 12, 17, 18], dtype=int64)]\n",
      "Clustered groups [array([ 2, 15], dtype=int64), array([ 6, 13], dtype=int64), array([ 4,  7, 14, 19], dtype=int64), array([ 9, 16], dtype=int64), array([5], dtype=int64), array([8], dtype=int64), array([11], dtype=int64), array([ 0,  3, 12, 17, 18], dtype=int64), array([10], dtype=int64), array([1], dtype=int64)]\n",
      "Clustering score 1.0\n",
      "\n",
      "\n",
      " Entering epoch 1\n",
      "Iter 3 - Epoch 0 - Client Type: Benign - Client Number 0 - Poison Training False\n"
     ]
    },
    {
     "name": "stderr",
     "output_type": "stream",
     "text": [
      "100%|████████████████████████████████████████████████████████████████████████████████████| 1/1 [00:00<00:00,  1.42it/s]\n"
     ]
    },
    {
     "name": "stdout",
     "output_type": "stream",
     "text": [
      "Iter 3 - Epoch 0 - Client Type: Benign - Client Number 1 - Poison Training False\n"
     ]
    },
    {
     "name": "stderr",
     "output_type": "stream",
     "text": [
      "100%|████████████████████████████████████████████████████████████████████████████████████| 2/2 [00:02<00:00,  1.00s/it]\n"
     ]
    },
    {
     "name": "stdout",
     "output_type": "stream",
     "text": [
      "Iter 3 - Epoch 0 - Client Type: Benign - Client Number 2 - Poison Training False\n"
     ]
    },
    {
     "name": "stderr",
     "output_type": "stream",
     "text": [
      "100%|████████████████████████████████████████████████████████████████████████████████████| 2/2 [00:01<00:00,  1.41it/s]\n"
     ]
    },
    {
     "name": "stdout",
     "output_type": "stream",
     "text": [
      "Iter 3 - Epoch 0 - Client Type: Benign - Client Number 3 - Poison Training False\n"
     ]
    },
    {
     "name": "stderr",
     "output_type": "stream",
     "text": [
      "100%|████████████████████████████████████████████████████████████████████████████████████| 1/1 [00:00<00:00,  1.49it/s]\n"
     ]
    },
    {
     "name": "stdout",
     "output_type": "stream",
     "text": [
      "Iter 3 - Epoch 0 - Client Type: Benign - Client Number 4 - Poison Training False\n"
     ]
    },
    {
     "name": "stderr",
     "output_type": "stream",
     "text": [
      "100%|████████████████████████████████████████████████████████████████████████████████████| 1/1 [00:00<00:00,  1.05it/s]\n"
     ]
    },
    {
     "name": "stdout",
     "output_type": "stream",
     "text": [
      "Iter 3 - Epoch 0 - Client Type: Benign - Client Number 5 - Poison Training False\n"
     ]
    },
    {
     "name": "stderr",
     "output_type": "stream",
     "text": [
      "100%|████████████████████████████████████████████████████████████████████████████████████| 1/1 [00:00<00:00,  1.06it/s]\n"
     ]
    },
    {
     "name": "stdout",
     "output_type": "stream",
     "text": [
      "Iter 3 - Epoch 0 - Client Type: Benign - Client Number 6 - Poison Training False\n"
     ]
    },
    {
     "name": "stderr",
     "output_type": "stream",
     "text": [
      "100%|████████████████████████████████████████████████████████████████████████████████████| 2/2 [00:02<00:00,  1.04s/it]\n"
     ]
    },
    {
     "name": "stdout",
     "output_type": "stream",
     "text": [
      "Iter 3 - Epoch 0 - Client Type: Benign - Client Number 7 - Poison Training False\n"
     ]
    },
    {
     "name": "stderr",
     "output_type": "stream",
     "text": [
      "100%|████████████████████████████████████████████████████████████████████████████████████| 1/1 [00:00<00:00,  1.10it/s]\n"
     ]
    },
    {
     "name": "stdout",
     "output_type": "stream",
     "text": [
      "Iter 3 - Epoch 0 - Client Type: Benign - Client Number 8 - Poison Training False\n"
     ]
    },
    {
     "name": "stderr",
     "output_type": "stream",
     "text": [
      "100%|████████████████████████████████████████████████████████████████████████████████████| 1/1 [00:00<00:00,  1.06it/s]\n"
     ]
    },
    {
     "name": "stdout",
     "output_type": "stream",
     "text": [
      "Iter 3 - Epoch 0 - Client Type: Benign - Client Number 9 - Poison Training False\n"
     ]
    },
    {
     "name": "stderr",
     "output_type": "stream",
     "text": [
      "100%|████████████████████████████████████████████████████████████████████████████████████| 2/2 [00:01<00:00,  1.45it/s]\n"
     ]
    },
    {
     "name": "stdout",
     "output_type": "stream",
     "text": [
      "Iter 3 - Epoch 0 - Client Type: Benign - Client Number 10 - Poison Training False\n"
     ]
    },
    {
     "name": "stderr",
     "output_type": "stream",
     "text": [
      "100%|████████████████████████████████████████████████████████████████████████████████████| 1/1 [00:00<00:00,  1.67it/s]\n"
     ]
    },
    {
     "name": "stdout",
     "output_type": "stream",
     "text": [
      "Iter 3 - Epoch 0 - Client Type: Benign - Client Number 11 - Poison Training False\n"
     ]
    },
    {
     "name": "stderr",
     "output_type": "stream",
     "text": [
      "100%|████████████████████████████████████████████████████████████████████████████████████| 2/2 [00:01<00:00,  1.32it/s]\n"
     ]
    },
    {
     "name": "stdout",
     "output_type": "stream",
     "text": [
      "Iter 3 - Epoch 0 - Client Type: Benign - Client Number 12 - Poison Training False\n"
     ]
    },
    {
     "name": "stderr",
     "output_type": "stream",
     "text": [
      "100%|████████████████████████████████████████████████████████████████████████████████████| 1/1 [00:00<00:00,  1.35it/s]\n"
     ]
    },
    {
     "name": "stdout",
     "output_type": "stream",
     "text": [
      "Iter 3 - Epoch 0 - Client Type: Benign - Client Number 13 - Poison Training False\n"
     ]
    },
    {
     "name": "stderr",
     "output_type": "stream",
     "text": [
      "100%|████████████████████████████████████████████████████████████████████████████████████| 2/2 [00:02<00:00,  1.00s/it]\n"
     ]
    },
    {
     "name": "stdout",
     "output_type": "stream",
     "text": [
      "Iter 3 - Epoch 0 - Client Type: Benign - Client Number 14 - Poison Training False\n"
     ]
    },
    {
     "name": "stderr",
     "output_type": "stream",
     "text": [
      "100%|████████████████████████████████████████████████████████████████████████████████████| 1/1 [00:00<00:00,  1.12it/s]\n"
     ]
    },
    {
     "name": "stdout",
     "output_type": "stream",
     "text": [
      "Iter 3 - Epoch 0 - Client Type: Benign - Client Number 15 - Poison Training False\n"
     ]
    },
    {
     "name": "stderr",
     "output_type": "stream",
     "text": [
      "100%|████████████████████████████████████████████████████████████████████████████████████| 2/2 [00:01<00:00,  1.54it/s]\n"
     ]
    },
    {
     "name": "stdout",
     "output_type": "stream",
     "text": [
      "Iter 3 - Epoch 0 - Client Type: Benign - Client Number 16 - Poison Training False\n"
     ]
    },
    {
     "name": "stderr",
     "output_type": "stream",
     "text": [
      "100%|████████████████████████████████████████████████████████████████████████████████████| 2/2 [00:01<00:00,  1.60it/s]\n"
     ]
    },
    {
     "name": "stdout",
     "output_type": "stream",
     "text": [
      "Iter 3 - Epoch 0 - Client Type: Benign - Client Number 17 - Poison Training False\n"
     ]
    },
    {
     "name": "stderr",
     "output_type": "stream",
     "text": [
      "100%|████████████████████████████████████████████████████████████████████████████████████| 1/1 [00:00<00:00,  1.50it/s]\n"
     ]
    },
    {
     "name": "stdout",
     "output_type": "stream",
     "text": [
      "Iter 3 - Epoch 0 - Client Type: Benign - Client Number 18 - Poison Training False\n"
     ]
    },
    {
     "name": "stderr",
     "output_type": "stream",
     "text": [
      "100%|████████████████████████████████████████████████████████████████████████████████████| 1/1 [00:00<00:00,  1.38it/s]\n"
     ]
    },
    {
     "name": "stdout",
     "output_type": "stream",
     "text": [
      "Iter 3 - Epoch 0 - Client Type: Benign - Client Number 19 - Poison Training False\n"
     ]
    },
    {
     "name": "stderr",
     "output_type": "stream",
     "text": [
      "100%|████████████████████████████████████████████████████████████████████████████████████| 1/1 [00:00<00:00,  1.22it/s]\n"
     ]
    },
    {
     "name": "stdout",
     "output_type": "stream",
     "text": [
      "Original Copylist [9, 1, 4, 9, 6, 7, 5, 6, 2, 0, 8, 3, 9, 5, 6, 4, 0, 9, 9, 6]\n",
      "Found clusters [6 7 0 6 2 9 1 2 8 3 5 4 6 1 2 0 3 6 6 2]\n",
      "Original groups [array([ 9, 16], dtype=int64), array([1], dtype=int64), array([8], dtype=int64), array([11], dtype=int64), array([ 2, 15], dtype=int64), array([ 6, 13], dtype=int64), array([ 4,  7, 14, 19], dtype=int64), array([5], dtype=int64), array([10], dtype=int64), array([ 0,  3, 12, 17, 18], dtype=int64)]\n",
      "Clustered groups [array([ 2, 15], dtype=int64), array([ 6, 13], dtype=int64), array([ 4,  7, 14, 19], dtype=int64), array([ 9, 16], dtype=int64), array([11], dtype=int64), array([10], dtype=int64), array([ 0,  3, 12, 17, 18], dtype=int64), array([1], dtype=int64), array([8], dtype=int64), array([5], dtype=int64)]\n",
      "Clustering score 1.0\n",
      "17\n",
      "[[ 1.00000701  0.3157104   0.15342684  0.99457105  0.29015492  0.79833765\n",
      "   0.43412405  0.28711363  0.54468591  0.61078216  0.6687045   0.41760553\n",
      "   0.99416648  0.47449944  0.29659262  0.0715034   0.62171862  0.99528631\n",
      "   0.99623739  0.29889949]\n",
      " [ 0.3157104   1.00000339  0.34480546  0.30390159  0.53171597  0.41352792\n",
      "   0.42549824  0.5210344   0.40624917  0.56766388  0.31218537  0.32219604\n",
      "   0.31211165  0.44559594  0.52024459  0.31180723  0.58098019  0.31868506\n",
      "   0.31838391  0.53085097]\n",
      " [ 0.15342684  0.34480546  1.0000082   0.13812629  0.27207929  0.3021337\n",
      "   0.49410896  0.26364989  0.17833413  0.14034253  0.10712655  0.45485975\n",
      "   0.13826753  0.49914361  0.26170892  0.85478984  0.14853469  0.14999548\n",
      "   0.14123416  0.26445342]\n",
      " [ 0.99457103  0.30390162  0.13812629  1.00000485  0.28050681  0.793617\n",
      "   0.41777209  0.27816729  0.53628342  0.60458896  0.66924276  0.41131918\n",
      "   0.99509703  0.46042802  0.2877676   0.05654509  0.61442463  0.99457422\n",
      "   0.99503551  0.28924834]\n",
      " [ 0.29015493  0.531716    0.2720793   0.28050681  1.0000056   0.31889221\n",
      "   0.42099931  0.99546168  0.20376766  0.4530784   0.25228801  0.20663781\n",
      "   0.28876258  0.5133436   0.99440131  0.19854426  0.46607849  0.29519283\n",
      "   0.2898888   0.99483751]\n",
      " [ 0.79833766  0.41352789  0.3021337   0.79361699  0.31889221  1.0000071\n",
      "   0.57268094  0.31423231  0.60728449  0.71318661  0.79096509  0.53888566\n",
      "   0.79244779  0.60931174  0.32041064  0.17645708  0.72952864  0.80493364\n",
      "   0.79468565  0.32872904]\n",
      " [ 0.43412406  0.42549824  0.49410897  0.41777208  0.42099931  0.57268094\n",
      "   1.00000334  0.41282486  0.37510462  0.45994346  0.43497064  0.41466828\n",
      "   0.41809559  0.93814095  0.41183721  0.42763738  0.49147943  0.43621679\n",
      "   0.4197673   0.42894894]\n",
      " [ 0.28711361  0.5210344   0.2636499   0.27816729  0.99546169  0.3142323\n",
      "   0.41282485  1.0000046   0.20227562  0.4436947   0.25172816  0.19659294\n",
      "   0.28730946  0.50662141  0.99536296  0.19375152  0.45466381  0.2927561\n",
      "   0.28728246  0.99406197]\n",
      " [ 0.54468592  0.40624918  0.17833413  0.53628342  0.20376766  0.60728448\n",
      "   0.37510462  0.20227562  1.00000374  0.5144373   0.44518794  0.18211903\n",
      "   0.53273137  0.40561003  0.20946402  0.13663322  0.53133442  0.55061579\n",
      "   0.54106753  0.21051663]\n",
      " [ 0.61078216  0.56766388  0.14034253  0.60458893  0.45307837  0.7131866\n",
      "   0.45994346  0.4436947   0.5144373   1.00000591  0.6890623   0.45688882\n",
      "   0.60579694  0.47378008  0.44849547  0.06568286  0.96792331  0.61293176\n",
      "   0.61035368  0.4548574 ]\n",
      " [ 0.66870452  0.31218537  0.10712654  0.66924275  0.25228801  0.79096509\n",
      "   0.43497064  0.25172817  0.44518793  0.68906231  1.00000665  0.38887765\n",
      "   0.66985379  0.45090796  0.25731969 -0.02147443  0.67936307  0.67028058\n",
      "   0.66631508  0.26544109]\n",
      " [ 0.41760553  0.32219603  0.45485975  0.41131917  0.20663781  0.53888568\n",
      "   0.41466829  0.19659294  0.18211903  0.45688884  0.38887764  1.00000529\n",
      "   0.41337797  0.43122497  0.19667073  0.42201048  0.44410371  0.41866785\n",
      "   0.41587135  0.1977938 ]\n",
      " [ 0.99416647  0.31211164  0.13826753  0.99509705  0.28876258  0.79244781\n",
      "   0.41809559  0.28730947  0.53273133  0.60579694  0.66985379  0.41337796\n",
      "   1.00000465  0.45989245  0.29738171  0.05563689  0.61613242  0.9937853\n",
      "   0.99584308  0.29721058]\n",
      " [ 0.47449945  0.44559593  0.4991436   0.46042801  0.51334363  0.60931175\n",
      "   0.93814094  0.50662141  0.40561002  0.47378008  0.45090796  0.43122499\n",
      "   0.45989245  1.00000339  0.50623974  0.42801419  0.48850542  0.47772168\n",
      "   0.46192376  0.52242094]\n",
      " [ 0.2965926   0.5202446   0.26170892  0.28776761  0.99440134  0.32041063\n",
      "   0.41183722  0.99536297  0.20946402  0.44849546  0.25731967  0.19667073\n",
      "   0.29738173  0.50623974  1.0000046   0.1896312   0.46186029  0.30221009\n",
      "   0.29691041  0.99500726]\n",
      " [ 0.07150341  0.31180723  0.85478984  0.05654509  0.19854427  0.17645707\n",
      "   0.42763737  0.19375151  0.13663322  0.06568286 -0.02147443  0.42201049\n",
      "   0.05563689  0.42801419  0.1896312   1.00000858  0.06648127  0.0673886\n",
      "   0.05891226  0.19052436]\n",
      " [ 0.62171863  0.58098019  0.1485347   0.61442461  0.46607848  0.72952865\n",
      "   0.49147941  0.4546638   0.53133446  0.96792331  0.67936307  0.44410371\n",
      "   0.61613239  0.48850541  0.46186031  0.06648127  1.00000415  0.62488472\n",
      "   0.62230746  0.46807409]\n",
      " [ 0.99528631  0.31868505  0.14999548  0.99457419  0.29519283  0.80493364\n",
      "   0.43621679  0.29275609  0.55061578  0.61293176  0.67028058  0.41866786\n",
      "   0.99378529  0.47772168  0.30221007  0.0673886   0.62488472  1.00000348\n",
      "   0.99462147  0.30390785]\n",
      " [ 0.99623737  0.31838391  0.14123416  0.99503552  0.28988878  0.79468565\n",
      "   0.41976734  0.28728247  0.54106755  0.61035368  0.66631507  0.41587136\n",
      "   0.99584308  0.46192377  0.29691042  0.05891225  0.62230747  0.99462148\n",
      "   1.00000467  0.29803238]\n",
      " [ 0.2988995   0.53085099  0.26445341  0.28924834  0.99483752  0.32872905\n",
      "   0.42894894  0.99406196  0.21051663  0.45485739  0.26544108  0.19779379\n",
      "   0.29721058  0.52242095  0.99500726  0.19052437  0.46807409  0.30390786\n",
      "   0.29803238  1.00000699]]\n",
      "Original Copylist [9, 1, 4, 9, 6, 7, 5, 6, 2, 0, 8, 3, 9, 5, 6, 4, 0, 9, 9, 6]\n",
      "Found clusters [4 6 0 4 2 9 1 2 5 3 8 7 4 1 2 0 3 4 4 2]\n",
      "Original groups [array([ 9, 16], dtype=int64), array([1], dtype=int64), array([8], dtype=int64), array([11], dtype=int64), array([ 2, 15], dtype=int64), array([ 6, 13], dtype=int64), array([ 4,  7, 14, 19], dtype=int64), array([5], dtype=int64), array([10], dtype=int64), array([ 0,  3, 12, 17, 18], dtype=int64)]\n",
      "Clustered groups [array([ 2, 15], dtype=int64), array([ 6, 13], dtype=int64), array([ 4,  7, 14, 19], dtype=int64), array([ 9, 16], dtype=int64), array([ 0,  3, 12, 17, 18], dtype=int64), array([8], dtype=int64), array([1], dtype=int64), array([11], dtype=int64), array([10], dtype=int64), array([5], dtype=int64)]\n",
      "Clustering score 1.0\n",
      "\n",
      "\n",
      " Entering epoch 2\n",
      "Iter 3 - Epoch 0 - Client Type: Benign - Client Number 0 - Poison Training False\n"
     ]
    },
    {
     "name": "stderr",
     "output_type": "stream",
     "text": [
      "100%|████████████████████████████████████████████████████████████████████████████████████| 1/1 [00:00<00:00,  1.54it/s]\n"
     ]
    },
    {
     "name": "stdout",
     "output_type": "stream",
     "text": [
      "Iter 3 - Epoch 0 - Client Type: Benign - Client Number 1 - Poison Training False\n"
     ]
    },
    {
     "name": "stderr",
     "output_type": "stream",
     "text": [
      "100%|████████████████████████████████████████████████████████████████████████████████████| 2/2 [00:01<00:00,  1.17it/s]\n"
     ]
    },
    {
     "name": "stdout",
     "output_type": "stream",
     "text": [
      "Iter 3 - Epoch 0 - Client Type: Benign - Client Number 2 - Poison Training False\n"
     ]
    },
    {
     "name": "stderr",
     "output_type": "stream",
     "text": [
      "100%|████████████████████████████████████████████████████████████████████████████████████| 2/2 [00:01<00:00,  1.61it/s]\n"
     ]
    },
    {
     "name": "stdout",
     "output_type": "stream",
     "text": [
      "Iter 3 - Epoch 0 - Client Type: Benign - Client Number 3 - Poison Training False\n"
     ]
    },
    {
     "name": "stderr",
     "output_type": "stream",
     "text": [
      "100%|████████████████████████████████████████████████████████████████████████████████████| 1/1 [00:00<00:00,  1.56it/s]\n"
     ]
    },
    {
     "name": "stdout",
     "output_type": "stream",
     "text": [
      "Iter 3 - Epoch 0 - Client Type: Benign - Client Number 4 - Poison Training False\n"
     ]
    },
    {
     "name": "stderr",
     "output_type": "stream",
     "text": [
      "100%|████████████████████████████████████████████████████████████████████████████████████| 1/1 [00:00<00:00,  1.14it/s]\n"
     ]
    },
    {
     "name": "stdout",
     "output_type": "stream",
     "text": [
      "Iter 3 - Epoch 0 - Client Type: Benign - Client Number 5 - Poison Training False\n"
     ]
    },
    {
     "name": "stderr",
     "output_type": "stream",
     "text": [
      "100%|████████████████████████████████████████████████████████████████████████████████████| 1/1 [00:00<00:00,  1.12it/s]\n"
     ]
    },
    {
     "name": "stdout",
     "output_type": "stream",
     "text": [
      "Iter 3 - Epoch 0 - Client Type: Benign - Client Number 6 - Poison Training False\n"
     ]
    },
    {
     "name": "stderr",
     "output_type": "stream",
     "text": [
      "100%|████████████████████████████████████████████████████████████████████████████████████| 2/2 [00:01<00:00,  1.01it/s]\n"
     ]
    },
    {
     "name": "stdout",
     "output_type": "stream",
     "text": [
      "Iter 3 - Epoch 0 - Client Type: Benign - Client Number 7 - Poison Training False\n"
     ]
    },
    {
     "name": "stderr",
     "output_type": "stream",
     "text": [
      "100%|████████████████████████████████████████████████████████████████████████████████████| 1/1 [00:00<00:00,  1.21it/s]\n"
     ]
    },
    {
     "name": "stdout",
     "output_type": "stream",
     "text": [
      "Iter 3 - Epoch 0 - Client Type: Benign - Client Number 8 - Poison Training False\n"
     ]
    },
    {
     "name": "stderr",
     "output_type": "stream",
     "text": [
      "100%|████████████████████████████████████████████████████████████████████████████████████| 1/1 [00:00<00:00,  1.18it/s]\n"
     ]
    },
    {
     "name": "stdout",
     "output_type": "stream",
     "text": [
      "Iter 3 - Epoch 0 - Client Type: Benign - Client Number 9 - Poison Training False\n"
     ]
    },
    {
     "name": "stderr",
     "output_type": "stream",
     "text": [
      "100%|████████████████████████████████████████████████████████████████████████████████████| 2/2 [00:01<00:00,  1.58it/s]\n"
     ]
    },
    {
     "name": "stdout",
     "output_type": "stream",
     "text": [
      "Iter 3 - Epoch 0 - Client Type: Benign - Client Number 10 - Poison Training False\n"
     ]
    },
    {
     "name": "stderr",
     "output_type": "stream",
     "text": [
      "100%|████████████████████████████████████████████████████████████████████████████████████| 1/1 [00:00<00:00,  1.96it/s]\n"
     ]
    },
    {
     "name": "stdout",
     "output_type": "stream",
     "text": [
      "Iter 3 - Epoch 0 - Client Type: Benign - Client Number 11 - Poison Training False\n"
     ]
    },
    {
     "name": "stderr",
     "output_type": "stream",
     "text": [
      "100%|████████████████████████████████████████████████████████████████████████████████████| 2/2 [00:01<00:00,  1.46it/s]\n"
     ]
    },
    {
     "name": "stdout",
     "output_type": "stream",
     "text": [
      "Iter 3 - Epoch 0 - Client Type: Benign - Client Number 12 - Poison Training False\n"
     ]
    },
    {
     "name": "stderr",
     "output_type": "stream",
     "text": [
      "100%|████████████████████████████████████████████████████████████████████████████████████| 1/1 [00:00<00:00,  1.54it/s]\n"
     ]
    },
    {
     "name": "stdout",
     "output_type": "stream",
     "text": [
      "Iter 3 - Epoch 0 - Client Type: Benign - Client Number 13 - Poison Training False\n"
     ]
    },
    {
     "name": "stderr",
     "output_type": "stream",
     "text": [
      "100%|████████████████████████████████████████████████████████████████████████████████████| 2/2 [00:01<00:00,  1.03it/s]\n"
     ]
    },
    {
     "name": "stdout",
     "output_type": "stream",
     "text": [
      "Iter 3 - Epoch 0 - Client Type: Benign - Client Number 14 - Poison Training False\n"
     ]
    },
    {
     "name": "stderr",
     "output_type": "stream",
     "text": [
      "100%|████████████████████████████████████████████████████████████████████████████████████| 1/1 [00:00<00:00,  1.32it/s]\n"
     ]
    },
    {
     "name": "stdout",
     "output_type": "stream",
     "text": [
      "Iter 3 - Epoch 0 - Client Type: Benign - Client Number 15 - Poison Training False\n"
     ]
    },
    {
     "name": "stderr",
     "output_type": "stream",
     "text": [
      "100%|████████████████████████████████████████████████████████████████████████████████████| 2/2 [00:01<00:00,  1.51it/s]\n"
     ]
    },
    {
     "name": "stdout",
     "output_type": "stream",
     "text": [
      "Iter 3 - Epoch 0 - Client Type: Benign - Client Number 16 - Poison Training False\n"
     ]
    },
    {
     "name": "stderr",
     "output_type": "stream",
     "text": [
      "100%|████████████████████████████████████████████████████████████████████████████████████| 2/2 [00:01<00:00,  1.61it/s]\n"
     ]
    },
    {
     "name": "stdout",
     "output_type": "stream",
     "text": [
      "Iter 3 - Epoch 0 - Client Type: Benign - Client Number 17 - Poison Training False\n"
     ]
    },
    {
     "name": "stderr",
     "output_type": "stream",
     "text": [
      "100%|████████████████████████████████████████████████████████████████████████████████████| 1/1 [00:00<00:00,  1.51it/s]\n"
     ]
    },
    {
     "name": "stdout",
     "output_type": "stream",
     "text": [
      "Iter 3 - Epoch 0 - Client Type: Benign - Client Number 18 - Poison Training False\n"
     ]
    },
    {
     "name": "stderr",
     "output_type": "stream",
     "text": [
      "100%|████████████████████████████████████████████████████████████████████████████████████| 1/1 [00:00<00:00,  1.42it/s]\n"
     ]
    },
    {
     "name": "stdout",
     "output_type": "stream",
     "text": [
      "Iter 3 - Epoch 0 - Client Type: Benign - Client Number 19 - Poison Training False\n"
     ]
    },
    {
     "name": "stderr",
     "output_type": "stream",
     "text": [
      "100%|████████████████████████████████████████████████████████████████████████████████████| 1/1 [00:00<00:00,  1.27it/s]\n"
     ]
    },
    {
     "name": "stdout",
     "output_type": "stream",
     "text": [
      "Original Copylist [9, 1, 4, 9, 6, 7, 5, 6, 2, 0, 8, 3, 9, 5, 6, 4, 0, 9, 9, 6]\n",
      "Found clusters [0 9 1 0 2 0 8 2 5 3 7 6 0 4 2 1 3 0 0 2]\n",
      "Original groups [array([ 9, 16], dtype=int64), array([1], dtype=int64), array([8], dtype=int64), array([11], dtype=int64), array([ 2, 15], dtype=int64), array([ 6, 13], dtype=int64), array([ 4,  7, 14, 19], dtype=int64), array([5], dtype=int64), array([10], dtype=int64), array([ 0,  3, 12, 17, 18], dtype=int64)]\n",
      "Clustered groups [array([ 0,  3,  5, 12, 17, 18], dtype=int64), array([ 2, 15], dtype=int64), array([ 4,  7, 14, 19], dtype=int64), array([ 9, 16], dtype=int64), array([13], dtype=int64), array([8], dtype=int64), array([11], dtype=int64), array([10], dtype=int64), array([6], dtype=int64), array([1], dtype=int64)]\n",
      "Clustering score 0.839572192513369\n",
      "18\n",
      "[[1.00000708 0.3226735  0.14944401 0.99383777 0.25661993 0.79615431\n",
      "  0.43999794 0.25508993 0.47285361 0.60531587 0.64602165 0.44624755\n",
      "  0.99356211 0.39875498 0.25883369 0.11783559 0.58795503 0.9944525\n",
      "  0.99592594 0.26045572]\n",
      " [0.32267351 1.00000283 0.33640012 0.30980756 0.55970255 0.45735386\n",
      "  0.4034335  0.54849364 0.36870717 0.58217871 0.31784122 0.32812891\n",
      "  0.31731721 0.39692279 0.54147229 0.34307575 0.59980224 0.32613922\n",
      "  0.3254151  0.55435405]\n",
      " [0.14944402 0.33640013 1.0000088  0.1357227  0.25960971 0.27558786\n",
      "  0.48297281 0.25068095 0.1460098  0.11710442 0.08447352 0.45610349\n",
      "  0.13601536 0.47138854 0.2450812  0.83740765 0.1333821  0.14614201\n",
      "  0.13712303 0.24754975]\n",
      " [0.99383775 0.30980759 0.1357227  1.00000483 0.24214402 0.78793085\n",
      "  0.42280763 0.24135998 0.46668535 0.59883454 0.64460305 0.44066335\n",
      "  0.99436983 0.38949219 0.24508346 0.10080766 0.58009661 0.99392159\n",
      "  0.99422978 0.24580047]\n",
      " [0.25661994 0.55970257 0.25960971 0.24214402 1.00000579 0.30801927\n",
      "  0.40698904 0.99456928 0.17964584 0.46236197 0.22063557 0.2115907\n",
      "  0.25174786 0.45558339 0.99253836 0.27479798 0.46046402 0.26174162\n",
      "  0.25602698 0.99326782]\n",
      " [0.79615432 0.45735384 0.27558786 0.78793083 0.30801926 1.0000067\n",
      "  0.56655782 0.3046126  0.49219873 0.73002977 0.77482401 0.57090691\n",
      "  0.79006143 0.52488717 0.30426465 0.21934251 0.72294279 0.79943523\n",
      "  0.79214647 0.31497471]\n",
      " [0.43999795 0.4034335  0.48297281 0.42280762 0.40698904 0.56655782\n",
      "  1.00000305 0.39852712 0.35279422 0.42968038 0.41897153 0.39901035\n",
      "  0.42344407 0.8721199  0.39298367 0.46545869 0.47239358 0.43832391\n",
      "  0.42390557 0.40894174]\n",
      " [0.25508993 0.54849364 0.25068095 0.24135998 0.99456928 0.30461259\n",
      "  0.39852711 1.00000534 0.17917601 0.45242004 0.22281916 0.20123097\n",
      "  0.25212425 0.44769121 0.9939332  0.26864333 0.44825044 0.26090928\n",
      "  0.25508557 0.99285445]\n",
      " [0.47285362 0.36870717 0.1460098  0.46668535 0.17964584 0.49219872\n",
      "  0.35279423 0.17917602 1.00000479 0.45837206 0.35791729 0.16583335\n",
      "  0.46402552 0.36247189 0.19014314 0.1324766  0.46669712 0.48217211\n",
      "  0.46868535 0.18981847]\n",
      " [0.60531588 0.58217871 0.11710441 0.59883451 0.46236195 0.73002976\n",
      "  0.42968036 0.45242005 0.45837205 1.00000577 0.67958815 0.4584635\n",
      "  0.59944987 0.40898253 0.45375454 0.08401297 0.96651485 0.60850989\n",
      "  0.60615056 0.46311265]\n",
      " [0.64602166 0.31784122 0.08447352 0.64460304 0.22063555 0.77482401\n",
      "  0.41897153 0.22281917 0.35791728 0.67958816 1.00000749 0.39277744\n",
      "  0.64659688 0.39534008 0.22634992 0.00794088 0.6571979  0.64480559\n",
      "  0.64333113 0.23491842]\n",
      " [0.44624755 0.3281289  0.45610349 0.44066334 0.21159069 0.57090692\n",
      "  0.39901035 0.20123096 0.16583335 0.45846352 0.39277743 1.00000532\n",
      "  0.44100021 0.41370433 0.19660783 0.44303516 0.4523311  0.44922498\n",
      "  0.44276175 0.20010923]\n",
      " [0.9935621  0.3173172  0.13601536 0.99436984 0.25174786 0.79006144\n",
      "  0.42344406 0.25212427 0.4640255  0.59944987 0.64659689 0.4410002\n",
      "  1.00000436 0.38575847 0.25642051 0.1016109  0.58157965 0.99284158\n",
      "  0.99529903 0.25525363]\n",
      " [0.39875498 0.39692278 0.47138853 0.38949219 0.45558342 0.52488717\n",
      "  0.87211989 0.44769122 0.36247188 0.40898253 0.39534008 0.41370435\n",
      "  0.38575847 1.00000429 0.44483786 0.43035997 0.44288418 0.40517881\n",
      "  0.38642319 0.45961777]\n",
      " [0.25883368 0.54147231 0.2450812  0.24508346 0.99253838 0.30426465\n",
      "  0.39298368 0.99393321 0.19014314 0.45375452 0.2263499  0.19660782\n",
      "  0.25642051 0.44483785 1.00000372 0.25843129 0.45313784 0.26459569\n",
      "  0.25891815 0.99405979]\n",
      " [0.11783559 0.34307575 0.83740764 0.10080766 0.27479799 0.21934251\n",
      "  0.46545869 0.26864332 0.1324766  0.08401297 0.00794087 0.44303519\n",
      "  0.1016109  0.43035998 0.25843129 1.00000916 0.09315084 0.11217843\n",
      "  0.10279746 0.26013884]\n",
      " [0.58795503 0.59980224 0.13338211 0.58009659 0.46046401 0.72294279\n",
      "  0.47239356 0.44825043 0.46669714 0.96651485 0.65719789 0.45233109\n",
      "  0.58157964 0.44288417 0.45313784 0.09315084 1.00000403 0.59164428\n",
      "  0.58979488 0.46153852]\n",
      " [0.99445252 0.32613921 0.14614201 0.99392154 0.26174161 0.79943523\n",
      "  0.43832391 0.26090928 0.4821721  0.60850989 0.64480559 0.44922498\n",
      "  0.99284157 0.40517881 0.26459569 0.11217843 0.59164429 1.00000341\n",
      "  0.99374845 0.26549797]\n",
      " [0.99592593 0.3254151  0.13712304 0.99422978 0.25602698 0.79214648\n",
      "  0.4239056  0.25508557 0.46868535 0.60615054 0.64333112 0.44276176\n",
      "  0.99529904 0.3864232  0.25891815 0.10279746 0.58979489 0.99374845\n",
      "  1.0000046  0.25934535]\n",
      " [0.26045573 0.55435407 0.24754975 0.24580047 0.99326783 0.31497473\n",
      "  0.40894174 0.99285444 0.18981848 0.46311265 0.23491841 0.20010923\n",
      "  0.25525363 0.45961778 0.99405979 0.26013884 0.46153852 0.26549797\n",
      "  0.25934535 1.00000699]]\n",
      "Original Copylist [9, 1, 4, 9, 6, 7, 5, 6, 2, 0, 8, 3, 9, 5, 6, 4, 0, 9, 9, 6]\n",
      "Found clusters [2 6 0 2 4 9 1 4 7 3 8 5 2 1 4 0 3 2 2 4]\n",
      "Original groups [array([ 9, 16], dtype=int64), array([1], dtype=int64), array([8], dtype=int64), array([11], dtype=int64), array([ 2, 15], dtype=int64), array([ 6, 13], dtype=int64), array([ 4,  7, 14, 19], dtype=int64), array([5], dtype=int64), array([10], dtype=int64), array([ 0,  3, 12, 17, 18], dtype=int64)]\n",
      "Clustered groups [array([ 2, 15], dtype=int64), array([ 6, 13], dtype=int64), array([ 0,  3, 12, 17, 18], dtype=int64), array([ 9, 16], dtype=int64), array([ 4,  7, 14, 19], dtype=int64), array([11], dtype=int64), array([1], dtype=int64), array([8], dtype=int64), array([10], dtype=int64), array([5], dtype=int64)]\n",
      "Clustering score 1.0\n",
      "\n",
      "\n",
      " Entering epoch 3\n",
      "Iter 3 - Epoch 0 - Client Type: Benign - Client Number 0 - Poison Training False\n"
     ]
    },
    {
     "name": "stderr",
     "output_type": "stream",
     "text": [
      "100%|████████████████████████████████████████████████████████████████████████████████████| 1/1 [00:00<00:00,  1.49it/s]\n"
     ]
    },
    {
     "name": "stdout",
     "output_type": "stream",
     "text": [
      "Iter 3 - Epoch 0 - Client Type: Benign - Client Number 1 - Poison Training False\n"
     ]
    },
    {
     "name": "stderr",
     "output_type": "stream",
     "text": [
      "100%|████████████████████████████████████████████████████████████████████████████████████| 2/2 [00:01<00:00,  1.15it/s]\n"
     ]
    },
    {
     "name": "stdout",
     "output_type": "stream",
     "text": [
      "Iter 3 - Epoch 0 - Client Type: Benign - Client Number 2 - Poison Training False\n"
     ]
    },
    {
     "name": "stderr",
     "output_type": "stream",
     "text": [
      "100%|████████████████████████████████████████████████████████████████████████████████████| 2/2 [00:01<00:00,  1.64it/s]\n"
     ]
    },
    {
     "name": "stdout",
     "output_type": "stream",
     "text": [
      "Iter 3 - Epoch 0 - Client Type: Benign - Client Number 3 - Poison Training False\n"
     ]
    },
    {
     "name": "stderr",
     "output_type": "stream",
     "text": [
      "100%|████████████████████████████████████████████████████████████████████████████████████| 1/1 [00:00<00:00,  1.48it/s]\n"
     ]
    },
    {
     "name": "stdout",
     "output_type": "stream",
     "text": [
      "Iter 3 - Epoch 0 - Client Type: Benign - Client Number 4 - Poison Training False\n"
     ]
    },
    {
     "name": "stderr",
     "output_type": "stream",
     "text": [
      "100%|████████████████████████████████████████████████████████████████████████████████████| 1/1 [00:00<00:00,  1.15it/s]\n"
     ]
    },
    {
     "name": "stdout",
     "output_type": "stream",
     "text": [
      "Iter 3 - Epoch 0 - Client Type: Benign - Client Number 5 - Poison Training False\n"
     ]
    },
    {
     "name": "stderr",
     "output_type": "stream",
     "text": [
      "100%|████████████████████████████████████████████████████████████████████████████████████| 1/1 [00:00<00:00,  1.14it/s]\n"
     ]
    },
    {
     "name": "stdout",
     "output_type": "stream",
     "text": [
      "Iter 3 - Epoch 0 - Client Type: Benign - Client Number 6 - Poison Training False\n"
     ]
    },
    {
     "name": "stderr",
     "output_type": "stream",
     "text": [
      "100%|████████████████████████████████████████████████████████████████████████████████████| 2/2 [00:01<00:00,  1.04it/s]\n"
     ]
    },
    {
     "name": "stdout",
     "output_type": "stream",
     "text": [
      "Iter 3 - Epoch 0 - Client Type: Benign - Client Number 7 - Poison Training False\n"
     ]
    },
    {
     "name": "stderr",
     "output_type": "stream",
     "text": [
      "100%|████████████████████████████████████████████████████████████████████████████████████| 1/1 [00:00<00:00,  1.21it/s]\n"
     ]
    },
    {
     "name": "stdout",
     "output_type": "stream",
     "text": [
      "Iter 3 - Epoch 0 - Client Type: Benign - Client Number 8 - Poison Training False\n"
     ]
    },
    {
     "name": "stderr",
     "output_type": "stream",
     "text": [
      "100%|████████████████████████████████████████████████████████████████████████████████████| 1/1 [00:00<00:00,  1.18it/s]\n"
     ]
    },
    {
     "name": "stdout",
     "output_type": "stream",
     "text": [
      "Iter 3 - Epoch 0 - Client Type: Benign - Client Number 9 - Poison Training False\n"
     ]
    },
    {
     "name": "stderr",
     "output_type": "stream",
     "text": [
      "100%|████████████████████████████████████████████████████████████████████████████████████| 2/2 [00:01<00:00,  1.50it/s]\n"
     ]
    },
    {
     "name": "stdout",
     "output_type": "stream",
     "text": [
      "Iter 3 - Epoch 0 - Client Type: Benign - Client Number 10 - Poison Training False\n"
     ]
    },
    {
     "name": "stderr",
     "output_type": "stream",
     "text": [
      "100%|████████████████████████████████████████████████████████████████████████████████████| 1/1 [00:00<00:00,  2.00it/s]\n"
     ]
    },
    {
     "name": "stdout",
     "output_type": "stream",
     "text": [
      "Iter 3 - Epoch 0 - Client Type: Benign - Client Number 11 - Poison Training False\n"
     ]
    },
    {
     "name": "stderr",
     "output_type": "stream",
     "text": [
      "100%|████████████████████████████████████████████████████████████████████████████████████| 2/2 [00:01<00:00,  1.45it/s]\n"
     ]
    },
    {
     "name": "stdout",
     "output_type": "stream",
     "text": [
      "Iter 3 - Epoch 0 - Client Type: Benign - Client Number 12 - Poison Training False\n"
     ]
    },
    {
     "name": "stderr",
     "output_type": "stream",
     "text": [
      "100%|████████████████████████████████████████████████████████████████████████████████████| 1/1 [00:00<00:00,  1.57it/s]\n"
     ]
    },
    {
     "name": "stdout",
     "output_type": "stream",
     "text": [
      "Iter 3 - Epoch 0 - Client Type: Benign - Client Number 13 - Poison Training False\n"
     ]
    },
    {
     "name": "stderr",
     "output_type": "stream",
     "text": [
      "100%|████████████████████████████████████████████████████████████████████████████████████| 2/2 [00:01<00:00,  1.03it/s]\n"
     ]
    },
    {
     "name": "stdout",
     "output_type": "stream",
     "text": [
      "Iter 3 - Epoch 0 - Client Type: Benign - Client Number 14 - Poison Training False\n"
     ]
    },
    {
     "name": "stderr",
     "output_type": "stream",
     "text": [
      "100%|████████████████████████████████████████████████████████████████████████████████████| 1/1 [00:00<00:00,  1.21it/s]\n"
     ]
    },
    {
     "name": "stdout",
     "output_type": "stream",
     "text": [
      "Iter 3 - Epoch 0 - Client Type: Benign - Client Number 15 - Poison Training False\n"
     ]
    },
    {
     "name": "stderr",
     "output_type": "stream",
     "text": [
      "100%|████████████████████████████████████████████████████████████████████████████████████| 2/2 [00:01<00:00,  1.66it/s]\n"
     ]
    },
    {
     "name": "stdout",
     "output_type": "stream",
     "text": [
      "Iter 3 - Epoch 0 - Client Type: Benign - Client Number 16 - Poison Training False\n"
     ]
    },
    {
     "name": "stderr",
     "output_type": "stream",
     "text": [
      "100%|████████████████████████████████████████████████████████████████████████████████████| 2/2 [00:01<00:00,  1.56it/s]\n"
     ]
    },
    {
     "name": "stdout",
     "output_type": "stream",
     "text": [
      "Iter 3 - Epoch 0 - Client Type: Benign - Client Number 17 - Poison Training False\n"
     ]
    },
    {
     "name": "stderr",
     "output_type": "stream",
     "text": [
      "100%|████████████████████████████████████████████████████████████████████████████████████| 1/1 [00:00<00:00,  1.40it/s]\n"
     ]
    },
    {
     "name": "stdout",
     "output_type": "stream",
     "text": [
      "Iter 3 - Epoch 0 - Client Type: Benign - Client Number 18 - Poison Training False\n"
     ]
    },
    {
     "name": "stderr",
     "output_type": "stream",
     "text": [
      "100%|████████████████████████████████████████████████████████████████████████████████████| 1/1 [00:00<00:00,  1.57it/s]\n"
     ]
    },
    {
     "name": "stdout",
     "output_type": "stream",
     "text": [
      "Iter 3 - Epoch 0 - Client Type: Benign - Client Number 19 - Poison Training False\n"
     ]
    },
    {
     "name": "stderr",
     "output_type": "stream",
     "text": [
      "100%|████████████████████████████████████████████████████████████████████████████████████| 1/1 [00:00<00:00,  1.09it/s]\n"
     ]
    },
    {
     "name": "stdout",
     "output_type": "stream",
     "text": [
      "Original Copylist [9, 1, 4, 9, 6, 7, 5, 6, 2, 0, 8, 3, 9, 5, 6, 4, 0, 9, 9, 6]\n",
      "Found clusters [2 7 9 2 3 2 0 3 8 1 6 4 2 0 3 5 1 2 2 3]\n",
      "Original groups [array([ 9, 16], dtype=int64), array([1], dtype=int64), array([8], dtype=int64), array([11], dtype=int64), array([ 2, 15], dtype=int64), array([ 6, 13], dtype=int64), array([ 4,  7, 14, 19], dtype=int64), array([5], dtype=int64), array([10], dtype=int64), array([ 0,  3, 12, 17, 18], dtype=int64)]\n",
      "Clustered groups [array([ 6, 13], dtype=int64), array([ 9, 16], dtype=int64), array([ 0,  3,  5, 12, 17, 18], dtype=int64), array([ 4,  7, 14, 19], dtype=int64), array([11], dtype=int64), array([15], dtype=int64), array([10], dtype=int64), array([1], dtype=int64), array([8], dtype=int64), array([2], dtype=int64)]\n",
      "Clustering score 0.839572192513369\n",
      "19\n",
      "[[1.00000653 0.3519024  0.13602545 0.99203408 0.29243788 0.80367188\n",
      "  0.44093971 0.29320035 0.37831902 0.59557646 0.62425161 0.42702684\n",
      "  0.99205734 0.36851923 0.29148698 0.17187253 0.58234117 0.99300263\n",
      "  0.99497784 0.29146861]\n",
      " [0.35190241 1.00000221 0.33026581 0.33442449 0.57811972 0.46384824\n",
      "  0.40419006 0.56843479 0.30971493 0.55819625 0.30614722 0.32896777\n",
      "  0.34657643 0.38093185 0.56634119 0.37907676 0.59164355 0.35101114\n",
      "  0.35254259 0.57609038]\n",
      " [0.13602545 0.33026581 1.00000985 0.1223275  0.27520985 0.25185595\n",
      "  0.46769213 0.26795673 0.13073342 0.092657   0.06211359 0.42806197\n",
      "  0.12323397 0.44906938 0.26211792 0.82583522 0.10918656 0.13216087\n",
      "  0.12240421 0.26335054]\n",
      " [0.99203405 0.3344245  0.1223275  1.00000342 0.27542375 0.79187381\n",
      "  0.42061364 0.27776951 0.37664712 0.58378073 0.62205836 0.42011064\n",
      "  0.99295877 0.35759688 0.27612646 0.15199609 0.56975662 0.99277374\n",
      "  0.99242499 0.27451364]\n",
      " [0.29243789 0.57811975 0.27520985 0.27542375 1.00000584 0.34925456\n",
      "  0.45468504 0.99317468 0.12433937 0.45578313 0.19906501 0.24948191\n",
      "  0.28666511 0.46957663 0.98907703 0.32038763 0.47248647 0.29383462\n",
      "  0.29292031 0.990476  ]\n",
      " [0.80367188 0.46384822 0.25185596 0.79187379 0.34925455 1.00000739\n",
      "  0.5576857  0.3503029  0.35633341 0.70517526 0.74777311 0.56641223\n",
      "  0.79484402 0.47907228 0.34197337 0.28442501 0.69560467 0.8037416\n",
      "  0.79897364 0.34949865]\n",
      " [0.4409397  0.40419007 0.46769212 0.42061363 0.45468502 0.5576857\n",
      "  1.0000021  0.44905903 0.30570638 0.43162248 0.3880271  0.39500822\n",
      "  0.42142675 0.83638937 0.43670605 0.5288123  0.47041963 0.43700902\n",
      "  0.42197866 0.45116342]\n",
      " [0.29320035 0.56843479 0.26795673 0.2777695  0.9931747  0.3503029\n",
      "  0.44905903 1.00000613 0.12802516 0.44696641 0.20577499 0.24139856\n",
      "  0.2900126  0.46598066 0.9911504  0.3136828  0.46305974 0.29613102\n",
      "  0.29466483 0.99076258]\n",
      " [0.37831902 0.30971494 0.13073342 0.37664713 0.12433936 0.35633342\n",
      "  0.30570639 0.12802517 1.00000527 0.34692604 0.24350792 0.11956499\n",
      "  0.37354472 0.32980214 0.13896823 0.1308196  0.35672432 0.39254543\n",
      "  0.37132949 0.13203414]\n",
      " [0.59557647 0.55819625 0.092657   0.58378071 0.45578312 0.70517526\n",
      "  0.43162247 0.44696642 0.34692603 1.00000525 0.64268821 0.43249838\n",
      "  0.58824224 0.38908733 0.43935284 0.11976459 0.96228093 0.59646465\n",
      "  0.59547517 0.44485663]\n",
      " [0.62425162 0.30614722 0.06211358 0.62205834 0.199065   0.74777311\n",
      "  0.38802708 0.205775   0.24350791 0.64268823 1.00000715 0.383958\n",
      "  0.62450236 0.3558373  0.20650082 0.04385335 0.62826843 0.62130781\n",
      "  0.62129709 0.21219559]\n",
      " [0.42702684 0.32896776 0.42806197 0.42011063 0.24948191 0.56641224\n",
      "  0.39500822 0.24139855 0.11956498 0.4324984  0.38395799 1.00000563\n",
      "  0.42047234 0.39317105 0.2344148  0.47816315 0.43557433 0.42702201\n",
      "  0.42631069 0.23579132]\n",
      " [0.99205732 0.34657642 0.12323398 0.99295876 0.28666511 0.79484402\n",
      "  0.42142674 0.29001262 0.37354471 0.58824224 0.62450237 0.42047233\n",
      "  1.00000429 0.35506236 0.28925736 0.15160363 0.57644903 0.99145342\n",
      "  0.99396889 0.28528274]\n",
      " [0.36851923 0.38093185 0.44906937 0.35759687 0.46957665 0.47907227\n",
      "  0.83638939 0.46598067 0.32980214 0.38908733 0.35583731 0.39317106\n",
      "  0.35506238 1.00000491 0.45722558 0.47773503 0.41582386 0.37402884\n",
      "  0.35301668 0.46719695]\n",
      " [0.29148698 0.56634119 0.26211793 0.27612646 0.98907706 0.34197337\n",
      "  0.43670605 0.99115041 0.13896822 0.43935282 0.20650081 0.2344148\n",
      "  0.28925736 0.45722559 1.00000424 0.30405453 0.46068054 0.29365836\n",
      "  0.2930029  0.99248507]\n",
      " [0.17187253 0.37907676 0.82583519 0.1519961  0.32038763 0.28442499\n",
      "  0.5288123  0.31368279 0.13081961 0.11976459 0.04385336 0.47816316\n",
      "  0.15160364 0.47773503 0.30405452 1.00000808 0.12846453 0.1648667\n",
      "  0.15337912 0.30925522]\n",
      " [0.58234116 0.59164354 0.10918657 0.56975659 0.47248647 0.69560467\n",
      "  0.47041961 0.46305973 0.35672434 0.96228093 0.62826843 0.43557433\n",
      "  0.57644901 0.41582386 0.46068056 0.12846453 1.00000398 0.58286468\n",
      "  0.58385758 0.46380344]\n",
      " [0.99300264 0.35101111 0.13216087 0.99277368 0.29383461 0.8037416\n",
      "  0.43700902 0.29613102 0.39254542 0.59646465 0.6213078  0.427022\n",
      "  0.99145341 0.37402885 0.29365835 0.1648667  0.58286469 1.000003\n",
      "  0.9918844  0.29209165]\n",
      " [0.99497783 0.35254259 0.12240421 0.99242499 0.29292031 0.79897366\n",
      "  0.42197867 0.29466482 0.37132949 0.59547516 0.62129709 0.4263107\n",
      "  0.9939689  0.3530167  0.2930029  0.15337912 0.58385758 0.99188439\n",
      "  1.00000403 0.29117607]\n",
      " [0.29146861 0.5760904  0.26335054 0.27451365 0.99047599 0.34949867\n",
      "  0.45116341 0.99076258 0.13203415 0.44485662 0.21219558 0.23579131\n",
      "  0.28528274 0.46719696 0.99248507 0.30925521 0.46380343 0.29209165\n",
      "  0.29117608 1.00000663]]\n",
      "Original Copylist [9, 1, 4, 9, 6, 7, 5, 6, 2, 0, 8, 3, 9, 5, 6, 4, 0, 9, 9, 6]\n",
      "Found clusters [5 6 0 5 3 9 2 3 7 1 8 4 5 2 3 0 1 5 5 3]\n",
      "Original groups [array([ 9, 16], dtype=int64), array([1], dtype=int64), array([8], dtype=int64), array([11], dtype=int64), array([ 2, 15], dtype=int64), array([ 6, 13], dtype=int64), array([ 4,  7, 14, 19], dtype=int64), array([5], dtype=int64), array([10], dtype=int64), array([ 0,  3, 12, 17, 18], dtype=int64)]\n",
      "Clustered groups [array([ 2, 15], dtype=int64), array([ 9, 16], dtype=int64), array([ 6, 13], dtype=int64), array([ 4,  7, 14, 19], dtype=int64), array([11], dtype=int64), array([ 0,  3, 12, 17, 18], dtype=int64), array([1], dtype=int64), array([8], dtype=int64), array([10], dtype=int64), array([5], dtype=int64)]\n",
      "Clustering score 1.0\n",
      "\n",
      "\n",
      " Entering epoch 4\n",
      "Iter 3 - Epoch 0 - Client Type: Benign - Client Number 0 - Poison Training False\n"
     ]
    },
    {
     "name": "stderr",
     "output_type": "stream",
     "text": [
      "100%|████████████████████████████████████████████████████████████████████████████████████| 1/1 [00:00<00:00,  1.59it/s]\n"
     ]
    },
    {
     "name": "stdout",
     "output_type": "stream",
     "text": [
      "Iter 3 - Epoch 0 - Client Type: Benign - Client Number 1 - Poison Training False\n"
     ]
    },
    {
     "name": "stderr",
     "output_type": "stream",
     "text": [
      "100%|████████████████████████████████████████████████████████████████████████████████████| 2/2 [00:01<00:00,  1.07it/s]\n"
     ]
    },
    {
     "name": "stdout",
     "output_type": "stream",
     "text": [
      "Iter 3 - Epoch 0 - Client Type: Benign - Client Number 2 - Poison Training False\n"
     ]
    },
    {
     "name": "stderr",
     "output_type": "stream",
     "text": [
      "100%|████████████████████████████████████████████████████████████████████████████████████| 2/2 [00:01<00:00,  1.58it/s]\n"
     ]
    },
    {
     "name": "stdout",
     "output_type": "stream",
     "text": [
      "Iter 3 - Epoch 0 - Client Type: Benign - Client Number 3 - Poison Training False\n"
     ]
    },
    {
     "name": "stderr",
     "output_type": "stream",
     "text": [
      "100%|████████████████████████████████████████████████████████████████████████████████████| 1/1 [00:00<00:00,  1.34it/s]\n"
     ]
    },
    {
     "name": "stdout",
     "output_type": "stream",
     "text": [
      "Iter 3 - Epoch 0 - Client Type: Benign - Client Number 4 - Poison Training False\n"
     ]
    },
    {
     "name": "stderr",
     "output_type": "stream",
     "text": [
      "100%|████████████████████████████████████████████████████████████████████████████████████| 1/1 [00:00<00:00,  1.28it/s]\n"
     ]
    },
    {
     "name": "stdout",
     "output_type": "stream",
     "text": [
      "Iter 3 - Epoch 0 - Client Type: Benign - Client Number 5 - Poison Training False\n"
     ]
    },
    {
     "name": "stderr",
     "output_type": "stream",
     "text": [
      "100%|████████████████████████████████████████████████████████████████████████████████████| 1/1 [00:00<00:00,  1.05it/s]\n"
     ]
    },
    {
     "name": "stdout",
     "output_type": "stream",
     "text": [
      "Iter 3 - Epoch 0 - Client Type: Benign - Client Number 6 - Poison Training False\n"
     ]
    },
    {
     "name": "stderr",
     "output_type": "stream",
     "text": [
      "100%|████████████████████████████████████████████████████████████████████████████████████| 2/2 [00:01<00:00,  1.01it/s]\n"
     ]
    },
    {
     "name": "stdout",
     "output_type": "stream",
     "text": [
      "Iter 3 - Epoch 0 - Client Type: Benign - Client Number 7 - Poison Training False\n"
     ]
    },
    {
     "name": "stderr",
     "output_type": "stream",
     "text": [
      "100%|████████████████████████████████████████████████████████████████████████████████████| 1/1 [00:01<00:00,  1.08s/it]\n"
     ]
    },
    {
     "name": "stdout",
     "output_type": "stream",
     "text": [
      "Iter 3 - Epoch 0 - Client Type: Benign - Client Number 8 - Poison Training False\n"
     ]
    },
    {
     "name": "stderr",
     "output_type": "stream",
     "text": [
      "100%|████████████████████████████████████████████████████████████████████████████████████| 1/1 [00:00<00:00,  1.14it/s]\n"
     ]
    },
    {
     "name": "stdout",
     "output_type": "stream",
     "text": [
      "Iter 3 - Epoch 0 - Client Type: Benign - Client Number 9 - Poison Training False\n"
     ]
    },
    {
     "name": "stderr",
     "output_type": "stream",
     "text": [
      "100%|████████████████████████████████████████████████████████████████████████████████████| 2/2 [00:01<00:00,  1.43it/s]\n"
     ]
    },
    {
     "name": "stdout",
     "output_type": "stream",
     "text": [
      "Iter 3 - Epoch 0 - Client Type: Benign - Client Number 10 - Poison Training False\n"
     ]
    },
    {
     "name": "stderr",
     "output_type": "stream",
     "text": [
      "100%|████████████████████████████████████████████████████████████████████████████████████| 1/1 [00:00<00:00,  1.77it/s]\n"
     ]
    },
    {
     "name": "stdout",
     "output_type": "stream",
     "text": [
      "Iter 3 - Epoch 0 - Client Type: Benign - Client Number 11 - Poison Training False\n"
     ]
    },
    {
     "name": "stderr",
     "output_type": "stream",
     "text": [
      "100%|████████████████████████████████████████████████████████████████████████████████████| 2/2 [00:01<00:00,  1.12it/s]\n"
     ]
    },
    {
     "name": "stdout",
     "output_type": "stream",
     "text": [
      "Iter 3 - Epoch 0 - Client Type: Benign - Client Number 12 - Poison Training False\n"
     ]
    },
    {
     "name": "stderr",
     "output_type": "stream",
     "text": [
      "100%|████████████████████████████████████████████████████████████████████████████████████| 1/1 [00:00<00:00,  1.28it/s]\n"
     ]
    },
    {
     "name": "stdout",
     "output_type": "stream",
     "text": [
      "Iter 3 - Epoch 0 - Client Type: Benign - Client Number 13 - Poison Training False\n"
     ]
    },
    {
     "name": "stderr",
     "output_type": "stream",
     "text": [
      "100%|████████████████████████████████████████████████████████████████████████████████████| 2/2 [00:01<00:00,  1.00it/s]\n"
     ]
    },
    {
     "name": "stdout",
     "output_type": "stream",
     "text": [
      "Iter 3 - Epoch 0 - Client Type: Benign - Client Number 14 - Poison Training False\n"
     ]
    },
    {
     "name": "stderr",
     "output_type": "stream",
     "text": [
      "100%|████████████████████████████████████████████████████████████████████████████████████| 1/1 [00:00<00:00,  1.16it/s]\n"
     ]
    },
    {
     "name": "stdout",
     "output_type": "stream",
     "text": [
      "Iter 3 - Epoch 0 - Client Type: Benign - Client Number 15 - Poison Training False\n"
     ]
    },
    {
     "name": "stderr",
     "output_type": "stream",
     "text": [
      "100%|████████████████████████████████████████████████████████████████████████████████████| 2/2 [00:01<00:00,  1.20it/s]\n"
     ]
    },
    {
     "name": "stdout",
     "output_type": "stream",
     "text": [
      "Iter 3 - Epoch 0 - Client Type: Benign - Client Number 16 - Poison Training False\n"
     ]
    },
    {
     "name": "stderr",
     "output_type": "stream",
     "text": [
      "100%|████████████████████████████████████████████████████████████████████████████████████| 2/2 [00:01<00:00,  1.23it/s]\n"
     ]
    },
    {
     "name": "stdout",
     "output_type": "stream",
     "text": [
      "Iter 3 - Epoch 0 - Client Type: Benign - Client Number 17 - Poison Training False\n"
     ]
    },
    {
     "name": "stderr",
     "output_type": "stream",
     "text": [
      "100%|████████████████████████████████████████████████████████████████████████████████████| 1/1 [00:00<00:00,  1.20it/s]\n"
     ]
    },
    {
     "name": "stdout",
     "output_type": "stream",
     "text": [
      "Iter 3 - Epoch 0 - Client Type: Benign - Client Number 18 - Poison Training False\n"
     ]
    },
    {
     "name": "stderr",
     "output_type": "stream",
     "text": [
      "100%|████████████████████████████████████████████████████████████████████████████████████| 1/1 [00:00<00:00,  1.30it/s]\n"
     ]
    },
    {
     "name": "stdout",
     "output_type": "stream",
     "text": [
      "Iter 3 - Epoch 0 - Client Type: Benign - Client Number 19 - Poison Training False\n"
     ]
    },
    {
     "name": "stderr",
     "output_type": "stream",
     "text": [
      "100%|████████████████████████████████████████████████████████████████████████████████████| 1/1 [00:01<00:00,  1.13s/it]\n"
     ]
    },
    {
     "name": "stdout",
     "output_type": "stream",
     "text": [
      "Original Copylist [9, 1, 4, 9, 6, 7, 5, 6, 2, 0, 8, 3, 9, 5, 6, 4, 0, 9, 9, 6]\n",
      "Found clusters [3 8 0 3 5 9 2 5 7 1 6 4 3 2 5 0 1 3 3 5]\n",
      "Original groups [array([ 9, 16], dtype=int64), array([1], dtype=int64), array([8], dtype=int64), array([11], dtype=int64), array([ 2, 15], dtype=int64), array([ 6, 13], dtype=int64), array([ 4,  7, 14, 19], dtype=int64), array([5], dtype=int64), array([10], dtype=int64), array([ 0,  3, 12, 17, 18], dtype=int64)]\n",
      "Clustered groups [array([ 2, 15], dtype=int64), array([ 9, 16], dtype=int64), array([ 6, 13], dtype=int64), array([ 0,  3, 12, 17, 18], dtype=int64), array([11], dtype=int64), array([ 4,  7, 14, 19], dtype=int64), array([10], dtype=int64), array([8], dtype=int64), array([1], dtype=int64), array([5], dtype=int64)]\n",
      "Clustering score 1.0\n",
      "20\n",
      "[[1.00000653 0.31287411 0.09696329 0.99124798 0.24342573 0.78075212\n",
      "  0.37960927 0.24685146 0.36769375 0.56056856 0.58517726 0.4457996\n",
      "  0.99169068 0.30675378 0.2442015  0.19178609 0.52741982 0.99193175\n",
      "  0.9946749  0.2403887 ]\n",
      " [0.31287411 1.00000223 0.29850304 0.29944689 0.57104524 0.47653927\n",
      "  0.42602719 0.56122582 0.28930681 0.56313879 0.30396054 0.32415007\n",
      "  0.30908908 0.38090547 0.57055883 0.39966362 0.60918324 0.31003403\n",
      "  0.31376054 0.57730976]\n",
      " [0.09696329 0.29850305 1.00001049 0.08715868 0.23370612 0.19719563\n",
      "  0.43482648 0.23046249 0.15946747 0.0904934  0.01004501 0.38920097\n",
      "  0.08571023 0.41206706 0.22743014 0.83477061 0.09360127 0.09832518\n",
      "  0.08169949 0.22581045]\n",
      " [0.99124796 0.29944688 0.08715867 1.00000479 0.22929064 0.76707431\n",
      "  0.35815454 0.23462229 0.37262189 0.55280511 0.58058064 0.44082454\n",
      "  0.99151672 0.29495848 0.23156373 0.17249587 0.51777611 0.99265485\n",
      "  0.99153481 0.22629742]\n",
      " [0.24342574 0.57104526 0.23370613 0.22929065 1.00000498 0.34452275\n",
      "  0.47824624 0.99108504 0.07655302 0.44972176 0.18144637 0.23103017\n",
      "  0.23773429 0.44841568 0.98361268 0.33202075 0.49818774 0.24400458\n",
      "  0.24322883 0.98661717]\n",
      " [0.78075211 0.47653927 0.19719563 0.7670743  0.34452275 1.00000699\n",
      "  0.540916   0.34758998 0.33168815 0.67692512 0.72640604 0.58204146\n",
      "  0.7709861  0.4489955  0.3443547  0.32674686 0.67071739 0.77849399\n",
      "  0.77751764 0.34685804]\n",
      " [0.37960926 0.42602719 0.43482648 0.35815455 0.47824622 0.54091602\n",
      "  1.00000336 0.47500094 0.28074884 0.4242538  0.35542017 0.37840031\n",
      "  0.35927716 0.8247589  0.47472332 0.57770486 0.4760078  0.37515672\n",
      "  0.36148549 0.48476666]\n",
      " [0.24685146 0.56122583 0.23046249 0.23462228 0.99108506 0.34758998\n",
      "  0.47500094 1.00000732 0.08121192 0.44419467 0.19126844 0.2245206\n",
      "  0.24408688 0.44750957 0.98586637 0.32534822 0.491293   0.24948468\n",
      "  0.24781571 0.98721282]\n",
      " [0.36769374 0.28930682 0.15946748 0.3726219  0.07655302 0.33168815\n",
      "  0.28074885 0.08121192 1.00000527 0.38495834 0.23535229 0.08940193\n",
      "  0.3656846  0.29050025 0.09349289 0.13612341 0.37591687 0.38856617\n",
      "  0.35927897 0.08875686]\n",
      " [0.56056858 0.56313879 0.0904934  0.55280509 0.44972176 0.67692513\n",
      "  0.4242538  0.44419468 0.38495834 1.00000591 0.61252323 0.4253311\n",
      "  0.55347404 0.36579322 0.44426586 0.16770595 0.95025429 0.56611777\n",
      "  0.55905613 0.44606261]\n",
      " [0.58517725 0.30396054 0.01004501 0.58058062 0.18144638 0.72640605\n",
      "  0.35542016 0.19126844 0.23535228 0.61252325 1.00000701 0.37741135\n",
      "  0.58527056 0.32348398 0.19046764 0.07964439 0.61037885 0.57873092\n",
      "  0.58158671 0.19469306]\n",
      " [0.4457996  0.32415008 0.38920097 0.44082454 0.23103016 0.58204147\n",
      "  0.3784003  0.2245206  0.08940193 0.42533111 0.37741134 1.00000691\n",
      "  0.43930061 0.36138912 0.22152117 0.49951869 0.42420825 0.44714033\n",
      "  0.44568375 0.21969986]\n",
      " [0.99169066 0.30908906 0.08571023 0.99151671 0.23773429 0.7709861\n",
      "  0.35927716 0.24408689 0.36568458 0.55347404 0.58527055 0.4393006\n",
      "  1.00000472 0.29538098 0.24289556 0.17131439 0.52270426 0.98999391\n",
      "  0.99314569 0.23444522]\n",
      " [0.30675376 0.38090547 0.41206705 0.29495848 0.4484157  0.44899549\n",
      "  0.8247589  0.44750957 0.29050024 0.36579323 0.32348398 0.36138912\n",
      "  0.29538098 1.00000563 0.45026313 0.52285993 0.41235578 0.30986258\n",
      "  0.29105765 0.45447054]\n",
      " [0.2442015  0.57055882 0.22743015 0.23156373 0.98361272 0.34435471\n",
      "  0.47472332 0.98586637 0.09349288 0.44426586 0.19046764 0.22152117\n",
      "  0.24289556 0.45026313 1.00000439 0.32305412 0.4970793  0.24547825\n",
      "  0.24525354 0.98976835]\n",
      " [0.1917861  0.39966361 0.83477058 0.17249588 0.33202075 0.32674685\n",
      "  0.57770485 0.32534822 0.13612341 0.16770595 0.07964439 0.49951869\n",
      "  0.17131439 0.52285993 0.32305412 1.00000818 0.17452219 0.18495775\n",
      "  0.17168471 0.32766748]\n",
      " [0.52741979 0.60918321 0.09360128 0.5177761  0.49818775 0.67071739\n",
      "  0.47600777 0.49129299 0.37591689 0.95025427 0.61037885 0.42420825\n",
      "  0.52270426 0.41235579 0.49707931 0.1745222  1.00000412 0.52984923\n",
      "  0.52786693 0.49671638]\n",
      " [0.99193175 0.31003402 0.09832518 0.9926548  0.24400458 0.77849399\n",
      "  0.37515672 0.24948467 0.38856617 0.56611777 0.57873091 0.44714031\n",
      "  0.98999391 0.30986258 0.24547825 0.18495775 0.52984924 1.00000384\n",
      "  0.9906638  0.24010649]\n",
      " [0.9946749  0.31376052 0.08169949 0.99153479 0.24322884 0.77751765\n",
      "  0.3614855  0.2478157  0.35927898 0.55905611 0.58158673 0.44568376\n",
      "  0.99314572 0.29105765 0.24525354 0.17168471 0.52786692 0.9906638\n",
      "  1.00000386 0.23952147]\n",
      " [0.2403887  0.57730976 0.22581045 0.22629742 0.98661716 0.34685805\n",
      "  0.48476666 0.98721281 0.08875686 0.4460626  0.19469307 0.21969986\n",
      "  0.23444522 0.45447053 0.98976835 0.32766747 0.49671638 0.2401065\n",
      "  0.23952148 1.00000668]]\n",
      "Original Copylist [9, 1, 4, 9, 6, 7, 5, 6, 2, 0, 8, 3, 9, 5, 6, 4, 0, 9, 9, 6]\n",
      "Found clusters [3 7 2 3 1 9 0 1 5 6 8 4 3 0 1 2 6 3 3 1]\n",
      "Original groups [array([ 9, 16], dtype=int64), array([1], dtype=int64), array([8], dtype=int64), array([11], dtype=int64), array([ 2, 15], dtype=int64), array([ 6, 13], dtype=int64), array([ 4,  7, 14, 19], dtype=int64), array([5], dtype=int64), array([10], dtype=int64), array([ 0,  3, 12, 17, 18], dtype=int64)]\n",
      "Clustered groups [array([ 6, 13], dtype=int64), array([ 4,  7, 14, 19], dtype=int64), array([ 2, 15], dtype=int64), array([ 0,  3, 12, 17, 18], dtype=int64), array([11], dtype=int64), array([8], dtype=int64), array([ 9, 16], dtype=int64), array([1], dtype=int64), array([10], dtype=int64), array([5], dtype=int64)]\n",
      "Clustering score 1.0\n",
      "Benign net distance [tensor(45.0868), tensor(48.1406), tensor(98.9852), tensor(43.0673), tensor(6.5702), tensor(39.5393), tensor(56.0976), tensor(6.5858), tensor(81.9352), tensor(50.2284), tensor(39.3424), tensor(61.0565), tensor(44.2693), tensor(63.1016), tensor(6.0339), tensor(70.2105), tensor(44.9680), tensor(44.0108), tensor(44.6202), tensor(0.)]\n",
      "Malicious net distance []\n",
      "cos_sim list  [tensor(0.2229), tensor(0.7056), tensor(0.1962), tensor(0.2268), tensor(0.9746), tensor(0.4426), tensor(0.6277), tensor(0.9747), tensor(0.1291), tensor(0.5458), tensor(0.4312), tensor(0.3631), tensor(0.2210), tensor(0.5346), tensor(0.9799), tensor(0.2866), tensor(0.6760), tensor(0.2254), tensor(0.2269), tensor(1.0000)]\n",
      "Norms of local gradients  [tensor(0.5452), tensor(0.6692), tensor(1.1332), tensor(0.5251), tensor(0.3363), tensor(0.4683), tensor(0.6842), tensor(0.3360), tensor(0.9048), tensor(0.6016), tensor(0.4651), tensor(0.7238), tensor(0.5388), tensor(0.7279), tensor(0.3288), tensor(0.8774), tensor(0.5739), tensor(0.5368), tensor(0.5435), tensor(0.3194)]\n",
      "\n",
      " Aggregating models\n",
      "Cosine Similarities:  [tensor(0.2229), tensor(0.7056), tensor(0.1962), tensor(0.2268), tensor(0.9746), tensor(0.4426), tensor(0.6277), tensor(0.9747), tensor(0.1291), tensor(0.5458), tensor(0.4312), tensor(0.3631), tensor(0.2210), tensor(0.5346), tensor(0.9799), tensor(0.2866), tensor(0.6760), tensor(0.2254), tensor(0.2269), tensor(1.0000)]\n",
      "Aggregation Weights:  [0.01307224 0.03371021 0.00553521 0.01380719 0.0926436  0.0302126\n",
      " 0.02933057 0.09275009 0.00456147 0.02900216 0.02964062 0.0160394\n",
      " 0.01311035 0.02348032 0.09529017 0.01044128 0.037656   0.01342517\n",
      " 0.01334696 0.10009293]\n",
      "\n",
      "\n",
      "\n",
      "Aggregate test at iter  3\n"
     ]
    },
    {
     "name": "stderr",
     "output_type": "stream",
     "text": [
      "100%|██████████████████████████████████████████████████████████████████████████████████| 10/10 [00:02<00:00,  3.54it/s]\n"
     ]
    },
    {
     "name": "stdout",
     "output_type": "stream",
     "text": [
      "\n",
      "Test set: Avg. loss: 0.0012, Accuracy: 5283/10000 (53%)\n",
      "\n",
      "\n",
      "\n",
      " Entering epoch 0\n",
      "Iter 4 - Epoch 0 - Client Type: Benign - Client Number 0 - Poison Training False\n"
     ]
    },
    {
     "name": "stderr",
     "output_type": "stream",
     "text": [
      "100%|████████████████████████████████████████████████████████████████████████████████████| 1/1 [00:00<00:00,  1.24it/s]\n"
     ]
    },
    {
     "name": "stdout",
     "output_type": "stream",
     "text": [
      "Iter 4 - Epoch 0 - Client Type: Benign - Client Number 1 - Poison Training False\n"
     ]
    },
    {
     "name": "stderr",
     "output_type": "stream",
     "text": [
      "100%|████████████████████████████████████████████████████████████████████████████████████| 2/2 [00:01<00:00,  1.04it/s]\n"
     ]
    },
    {
     "name": "stdout",
     "output_type": "stream",
     "text": [
      "Iter 4 - Epoch 0 - Client Type: Benign - Client Number 2 - Poison Training False\n"
     ]
    },
    {
     "name": "stderr",
     "output_type": "stream",
     "text": [
      "100%|████████████████████████████████████████████████████████████████████████████████████| 2/2 [00:01<00:00,  1.48it/s]\n"
     ]
    },
    {
     "name": "stdout",
     "output_type": "stream",
     "text": [
      "Iter 4 - Epoch 0 - Client Type: Benign - Client Number 3 - Poison Training False\n"
     ]
    },
    {
     "name": "stderr",
     "output_type": "stream",
     "text": [
      "100%|████████████████████████████████████████████████████████████████████████████████████| 1/1 [00:00<00:00,  1.23it/s]\n"
     ]
    },
    {
     "name": "stdout",
     "output_type": "stream",
     "text": [
      "Iter 4 - Epoch 0 - Client Type: Benign - Client Number 4 - Poison Training False\n"
     ]
    },
    {
     "name": "stderr",
     "output_type": "stream",
     "text": [
      "100%|████████████████████████████████████████████████████████████████████████████████████| 1/1 [00:00<00:00,  1.09it/s]\n"
     ]
    },
    {
     "name": "stdout",
     "output_type": "stream",
     "text": [
      "Iter 4 - Epoch 0 - Client Type: Benign - Client Number 5 - Poison Training False\n"
     ]
    },
    {
     "name": "stderr",
     "output_type": "stream",
     "text": [
      "100%|████████████████████████████████████████████████████████████████████████████████████| 1/1 [00:01<00:00,  1.08s/it]\n"
     ]
    },
    {
     "name": "stdout",
     "output_type": "stream",
     "text": [
      "Iter 4 - Epoch 0 - Client Type: Benign - Client Number 6 - Poison Training False\n"
     ]
    },
    {
     "name": "stderr",
     "output_type": "stream",
     "text": [
      "100%|████████████████████████████████████████████████████████████████████████████████████| 2/2 [00:02<00:00,  1.12s/it]\n"
     ]
    },
    {
     "name": "stdout",
     "output_type": "stream",
     "text": [
      "Iter 4 - Epoch 0 - Client Type: Benign - Client Number 7 - Poison Training False\n"
     ]
    },
    {
     "name": "stderr",
     "output_type": "stream",
     "text": [
      "100%|████████████████████████████████████████████████████████████████████████████████████| 1/1 [00:00<00:00,  1.19it/s]\n"
     ]
    },
    {
     "name": "stdout",
     "output_type": "stream",
     "text": [
      "Iter 4 - Epoch 0 - Client Type: Benign - Client Number 8 - Poison Training False\n"
     ]
    },
    {
     "name": "stderr",
     "output_type": "stream",
     "text": [
      "100%|████████████████████████████████████████████████████████████████████████████████████| 1/1 [00:01<00:00,  1.14s/it]\n"
     ]
    },
    {
     "name": "stdout",
     "output_type": "stream",
     "text": [
      "Iter 4 - Epoch 0 - Client Type: Benign - Client Number 9 - Poison Training False\n"
     ]
    },
    {
     "name": "stderr",
     "output_type": "stream",
     "text": [
      "100%|████████████████████████████████████████████████████████████████████████████████████| 2/2 [00:01<00:00,  1.50it/s]\n"
     ]
    },
    {
     "name": "stdout",
     "output_type": "stream",
     "text": [
      "Iter 4 - Epoch 0 - Client Type: Benign - Client Number 10 - Poison Training False\n"
     ]
    },
    {
     "name": "stderr",
     "output_type": "stream",
     "text": [
      "100%|████████████████████████████████████████████████████████████████████████████████████| 1/1 [00:00<00:00,  1.89it/s]\n"
     ]
    },
    {
     "name": "stdout",
     "output_type": "stream",
     "text": [
      "Iter 4 - Epoch 0 - Client Type: Benign - Client Number 11 - Poison Training False\n"
     ]
    },
    {
     "name": "stderr",
     "output_type": "stream",
     "text": [
      "100%|████████████████████████████████████████████████████████████████████████████████████| 2/2 [00:01<00:00,  1.35it/s]\n"
     ]
    },
    {
     "name": "stdout",
     "output_type": "stream",
     "text": [
      "Iter 4 - Epoch 0 - Client Type: Benign - Client Number 12 - Poison Training False\n"
     ]
    },
    {
     "name": "stderr",
     "output_type": "stream",
     "text": [
      "100%|████████████████████████████████████████████████████████████████████████████████████| 1/1 [00:00<00:00,  1.32it/s]\n"
     ]
    },
    {
     "name": "stdout",
     "output_type": "stream",
     "text": [
      "Iter 4 - Epoch 0 - Client Type: Benign - Client Number 13 - Poison Training False\n"
     ]
    },
    {
     "name": "stderr",
     "output_type": "stream",
     "text": [
      "100%|████████████████████████████████████████████████████████████████████████████████████| 2/2 [00:02<00:00,  1.05s/it]\n"
     ]
    },
    {
     "name": "stdout",
     "output_type": "stream",
     "text": [
      "Iter 4 - Epoch 0 - Client Type: Benign - Client Number 14 - Poison Training False\n"
     ]
    },
    {
     "name": "stderr",
     "output_type": "stream",
     "text": [
      "100%|████████████████████████████████████████████████████████████████████████████████████| 1/1 [00:00<00:00,  1.06it/s]\n"
     ]
    },
    {
     "name": "stdout",
     "output_type": "stream",
     "text": [
      "Iter 4 - Epoch 0 - Client Type: Benign - Client Number 15 - Poison Training False\n"
     ]
    },
    {
     "name": "stderr",
     "output_type": "stream",
     "text": [
      "100%|████████████████████████████████████████████████████████████████████████████████████| 2/2 [00:01<00:00,  1.44it/s]\n"
     ]
    },
    {
     "name": "stdout",
     "output_type": "stream",
     "text": [
      "Iter 4 - Epoch 0 - Client Type: Benign - Client Number 16 - Poison Training False\n"
     ]
    },
    {
     "name": "stderr",
     "output_type": "stream",
     "text": [
      "100%|████████████████████████████████████████████████████████████████████████████████████| 2/2 [00:01<00:00,  1.52it/s]\n"
     ]
    },
    {
     "name": "stdout",
     "output_type": "stream",
     "text": [
      "Iter 4 - Epoch 0 - Client Type: Benign - Client Number 17 - Poison Training False\n"
     ]
    },
    {
     "name": "stderr",
     "output_type": "stream",
     "text": [
      "100%|████████████████████████████████████████████████████████████████████████████████████| 1/1 [00:00<00:00,  1.44it/s]\n"
     ]
    },
    {
     "name": "stdout",
     "output_type": "stream",
     "text": [
      "Iter 4 - Epoch 0 - Client Type: Benign - Client Number 18 - Poison Training False\n"
     ]
    },
    {
     "name": "stderr",
     "output_type": "stream",
     "text": [
      "100%|████████████████████████████████████████████████████████████████████████████████████| 1/1 [00:00<00:00,  1.50it/s]\n"
     ]
    },
    {
     "name": "stdout",
     "output_type": "stream",
     "text": [
      "Iter 4 - Epoch 0 - Client Type: Benign - Client Number 19 - Poison Training False\n"
     ]
    },
    {
     "name": "stderr",
     "output_type": "stream",
     "text": [
      "100%|████████████████████████████████████████████████████████████████████████████████████| 1/1 [00:00<00:00,  1.20it/s]\n"
     ]
    },
    {
     "name": "stdout",
     "output_type": "stream",
     "text": [
      "Original Copylist [9, 1, 4, 9, 6, 7, 5, 6, 2, 0, 8, 3, 9, 5, 6, 4, 0, 9, 9, 6]\n",
      "Found clusters [3 7 2 3 6 9 1 6 8 0 5 4 3 1 6 2 0 3 3 6]\n",
      "Original groups [array([ 9, 16], dtype=int64), array([1], dtype=int64), array([8], dtype=int64), array([11], dtype=int64), array([ 2, 15], dtype=int64), array([ 6, 13], dtype=int64), array([ 4,  7, 14, 19], dtype=int64), array([5], dtype=int64), array([10], dtype=int64), array([ 0,  3, 12, 17, 18], dtype=int64)]\n",
      "Clustered groups [array([ 9, 16], dtype=int64), array([ 6, 13], dtype=int64), array([ 2, 15], dtype=int64), array([ 0,  3, 12, 17, 18], dtype=int64), array([11], dtype=int64), array([10], dtype=int64), array([ 4,  7, 14, 19], dtype=int64), array([1], dtype=int64), array([8], dtype=int64), array([5], dtype=int64)]\n",
      "Clustering score 1.0\n",
      "21\n",
      "[[ 1.00000713  0.31351649  0.10360861  0.99128374  0.23413699  0.77592041\n",
      "   0.37917907  0.2392699   0.36960677  0.56445884  0.58175352  0.45959802\n",
      "   0.99177852  0.29481987  0.23063061  0.19277303  0.4878651   0.99199461\n",
      "   0.99476173  0.22490524]\n",
      " [ 0.31351649  1.0000029   0.28128768  0.30099715  0.50430911  0.43484199\n",
      "   0.38698167  0.49413794  0.18614002  0.49383305  0.28430932  0.32533426\n",
      "   0.30978722  0.3431755   0.50378292  0.36736715  0.5358687   0.30923325\n",
      "   0.31449207  0.51104695]\n",
      " [ 0.10360861  0.28128769  1.00001035  0.09499854  0.23744322  0.17993129\n",
      "   0.42905426  0.23555735  0.15712331  0.07015848 -0.00812543  0.39873903\n",
      "   0.09274124  0.40876381  0.22482649  0.8428085   0.05807299  0.10423781\n",
      "   0.08882171  0.22320941]\n",
      " [ 0.99128373  0.30099714  0.09499853  1.00000663  0.22079052  0.76326064\n",
      "   0.35766471  0.22787048  0.3754675   0.55838595  0.57746776  0.456705\n",
      "   0.99149826  0.28286253  0.21851668  0.17545711  0.48075986  0.99278786\n",
      "   0.99159536  0.21141767]\n",
      " [ 0.23413699  0.50430913  0.23744322  0.22079052  1.00000491  0.31636485\n",
      "   0.4556114   0.99065905  0.07232498  0.40130381  0.14559748  0.22423321\n",
      "   0.2295012   0.4240121   0.98267493  0.31342574  0.43901474  0.23293871\n",
      "   0.23369878  0.98587246]\n",
      " [ 0.7759204   0.43484199  0.17993129  0.76326063  0.31636485  1.00000691\n",
      "   0.53156544  0.32141422  0.35004773  0.6927243   0.73012669  0.57731144\n",
      "   0.76704731  0.43177854  0.31602815  0.2780141   0.65255854  0.77327013\n",
      "   0.77348131  0.31748838]\n",
      " [ 0.37917906  0.38698166  0.42905427  0.35766471  0.45561139  0.53156546\n",
      "   1.00000346  0.45346916  0.28062853  0.41421075  0.34861383  0.37488723\n",
      "   0.36034922  0.82478889  0.45293953  0.52862161  0.44411108  0.37268111\n",
      "   0.36156072  0.46339332]\n",
      " [ 0.2392699   0.49413794  0.23555735  0.22787047  0.99065905  0.32141422\n",
      "   0.45346918  1.00000722  0.07689224  0.39588527  0.15709065  0.21921281\n",
      "   0.2377028   0.42389438  0.98498073  0.30719391  0.43104519  0.24017029\n",
      "   0.24003182  0.98637891]\n",
      " [ 0.36960677  0.18614004  0.15712331  0.37546751  0.07232498  0.35004773\n",
      "   0.28062854  0.07689225  1.00000527  0.38043039  0.24522822  0.09638151\n",
      "   0.36906542  0.28984657  0.09157251  0.11271707  0.37081168  0.38856957\n",
      "   0.3618166   0.0870815 ]\n",
      " [ 0.56445886  0.49383305  0.07015848  0.55838593  0.40130381  0.69272432\n",
      "   0.41421075  0.39588528  0.38043039  1.00000508  0.6341661   0.43671014\n",
      "   0.55814945  0.35424489  0.39940839  0.12794584  0.95038179  0.56900194\n",
      "   0.56352582  0.40225228]\n",
      " [ 0.58175351  0.28430932 -0.00812543  0.57746775  0.14559749  0.7301267\n",
      "   0.34861382  0.15709064  0.24522822  0.63416609  1.00000761  0.37149611\n",
      "   0.58234617  0.3056704   0.15721532  0.05553241  0.60269696  0.57522693\n",
      "   0.57861694  0.16007925]\n",
      " [ 0.45959802  0.32533427  0.39873902  0.456705    0.2242332   0.57731146\n",
      "   0.37488723  0.2192128   0.09638151  0.43671016  0.37149609  1.00000772\n",
      "   0.45344595  0.36416609  0.20827012  0.46650132  0.4095497   0.46187672\n",
      "   0.46003941  0.2071389 ]\n",
      " [ 0.9917785   0.3097872   0.09274124  0.99149826  0.2295012   0.76704731\n",
      "   0.36034923  0.23770281  0.36906541  0.55814945  0.58234615  0.45344595\n",
      "   1.00000653  0.28459709  0.23039675  0.17350972  0.48432271  0.99009559\n",
      "   0.99317856  0.21999343]\n",
      " [ 0.29481986  0.3431755   0.4087638   0.28286253  0.42401211  0.43177853\n",
      "   0.82478892  0.42389438  0.28984656  0.3542449   0.3056704   0.3641661\n",
      "   0.28459709  1.00000658  0.42639659  0.47719374  0.38231704  0.29588984\n",
      "   0.27953381  0.43143381]\n",
      " [ 0.23063061  0.50378291  0.2248265   0.21851668  0.98267496  0.31602815\n",
      "   0.45293954  0.98498071  0.0915725   0.3994084   0.15721532  0.20827011\n",
      "   0.23039674  0.4263966   1.00000372  0.2979882   0.4410221   0.23015378\n",
      "   0.23140819  0.98931471]\n",
      " [ 0.19277303  0.36736714  0.84280849  0.17545712  0.31342574  0.27801408\n",
      "   0.5286216   0.30719391  0.11271707  0.12794584  0.05553241  0.46650133\n",
      "   0.17350972  0.47719374  0.29798819  1.00000939  0.11844964  0.18502052\n",
      "   0.17381198  0.30253681]\n",
      " [ 0.48786508  0.53586867  0.058073    0.48075984  0.43901476  0.65255854\n",
      "   0.44411105  0.43104519  0.37081168  0.95038177  0.60269696  0.4095497\n",
      "   0.48432271  0.38231705  0.4410221   0.11844965  1.00000429  0.48978334\n",
      "   0.48881304  0.44307918]\n",
      " [ 0.99199462  0.30923324  0.10423781  0.99278784  0.23293871  0.77327013\n",
      "   0.37268111  0.24017029  0.38856957  0.56900194  0.57522692  0.46187671\n",
      "   0.99009558  0.29588985  0.23015378  0.18502052  0.48978334  1.0000051\n",
      "   0.99081569  0.22286316]\n",
      " [ 0.99476174  0.31449206  0.08882171  0.99159535  0.23369878  0.77348131\n",
      "   0.36156073  0.24003181  0.3618166   0.56352581  0.57861695  0.46003942\n",
      "   0.99317858  0.27953381  0.23140818  0.17381198  0.48881302  0.99081568\n",
      "   1.00000556  0.22380299]\n",
      " [ 0.22490524  0.51104694  0.22320941  0.21141767  0.98587244  0.3174884\n",
      "   0.46339332  0.9863789   0.08708151  0.40225228  0.16007926  0.20713891\n",
      "   0.21999343  0.43143381  0.98931472  0.3025368   0.44307918  0.22286316\n",
      "   0.223803    1.00000579]]\n",
      "Original Copylist [9, 1, 4, 9, 6, 7, 5, 6, 2, 0, 8, 3, 9, 5, 6, 4, 0, 9, 9, 6]\n",
      "Found clusters [3 7 2 3 1 9 0 1 5 6 8 4 3 0 1 2 6 3 3 1]\n",
      "Original groups [array([ 9, 16], dtype=int64), array([1], dtype=int64), array([8], dtype=int64), array([11], dtype=int64), array([ 2, 15], dtype=int64), array([ 6, 13], dtype=int64), array([ 4,  7, 14, 19], dtype=int64), array([5], dtype=int64), array([10], dtype=int64), array([ 0,  3, 12, 17, 18], dtype=int64)]\n",
      "Clustered groups [array([ 6, 13], dtype=int64), array([ 4,  7, 14, 19], dtype=int64), array([ 2, 15], dtype=int64), array([ 0,  3, 12, 17, 18], dtype=int64), array([11], dtype=int64), array([8], dtype=int64), array([ 9, 16], dtype=int64), array([1], dtype=int64), array([10], dtype=int64), array([5], dtype=int64)]\n",
      "Clustering score 1.0\n",
      "\n",
      "\n",
      " Entering epoch 1\n",
      "Iter 4 - Epoch 0 - Client Type: Benign - Client Number 0 - Poison Training False\n"
     ]
    },
    {
     "name": "stderr",
     "output_type": "stream",
     "text": [
      "100%|████████████████████████████████████████████████████████████████████████████████████| 1/1 [00:00<00:00,  1.59it/s]\n"
     ]
    },
    {
     "name": "stdout",
     "output_type": "stream",
     "text": [
      "Iter 4 - Epoch 0 - Client Type: Benign - Client Number 1 - Poison Training False\n"
     ]
    },
    {
     "name": "stderr",
     "output_type": "stream",
     "text": [
      "100%|████████████████████████████████████████████████████████████████████████████████████| 2/2 [00:01<00:00,  1.20it/s]\n"
     ]
    },
    {
     "name": "stdout",
     "output_type": "stream",
     "text": [
      "Iter 4 - Epoch 0 - Client Type: Benign - Client Number 2 - Poison Training False\n"
     ]
    },
    {
     "name": "stderr",
     "output_type": "stream",
     "text": [
      "100%|████████████████████████████████████████████████████████████████████████████████████| 2/2 [00:01<00:00,  1.57it/s]\n"
     ]
    },
    {
     "name": "stdout",
     "output_type": "stream",
     "text": [
      "Iter 4 - Epoch 0 - Client Type: Benign - Client Number 3 - Poison Training False\n"
     ]
    },
    {
     "name": "stderr",
     "output_type": "stream",
     "text": [
      "100%|████████████████████████████████████████████████████████████████████████████████████| 1/1 [00:00<00:00,  1.61it/s]\n"
     ]
    },
    {
     "name": "stdout",
     "output_type": "stream",
     "text": [
      "Iter 4 - Epoch 0 - Client Type: Benign - Client Number 4 - Poison Training False\n"
     ]
    },
    {
     "name": "stderr",
     "output_type": "stream",
     "text": [
      "100%|████████████████████████████████████████████████████████████████████████████████████| 1/1 [00:00<00:00,  1.08it/s]\n"
     ]
    },
    {
     "name": "stdout",
     "output_type": "stream",
     "text": [
      "Iter 4 - Epoch 0 - Client Type: Benign - Client Number 5 - Poison Training False\n"
     ]
    },
    {
     "name": "stderr",
     "output_type": "stream",
     "text": [
      "100%|████████████████████████████████████████████████████████████████████████████████████| 1/1 [00:00<00:00,  1.14it/s]\n"
     ]
    },
    {
     "name": "stdout",
     "output_type": "stream",
     "text": [
      "Iter 4 - Epoch 0 - Client Type: Benign - Client Number 6 - Poison Training False\n"
     ]
    },
    {
     "name": "stderr",
     "output_type": "stream",
     "text": [
      "100%|████████████████████████████████████████████████████████████████████████████████████| 2/2 [00:02<00:00,  1.05s/it]\n"
     ]
    },
    {
     "name": "stdout",
     "output_type": "stream",
     "text": [
      "Iter 4 - Epoch 0 - Client Type: Benign - Client Number 7 - Poison Training False\n"
     ]
    },
    {
     "name": "stderr",
     "output_type": "stream",
     "text": [
      "100%|████████████████████████████████████████████████████████████████████████████████████| 1/1 [00:00<00:00,  1.13it/s]\n"
     ]
    },
    {
     "name": "stdout",
     "output_type": "stream",
     "text": [
      "Iter 4 - Epoch 0 - Client Type: Benign - Client Number 8 - Poison Training False\n"
     ]
    },
    {
     "name": "stderr",
     "output_type": "stream",
     "text": [
      "100%|████████████████████████████████████████████████████████████████████████████████████| 1/1 [00:00<00:00,  1.09it/s]\n"
     ]
    },
    {
     "name": "stdout",
     "output_type": "stream",
     "text": [
      "Iter 4 - Epoch 0 - Client Type: Benign - Client Number 9 - Poison Training False\n"
     ]
    },
    {
     "name": "stderr",
     "output_type": "stream",
     "text": [
      "100%|████████████████████████████████████████████████████████████████████████████████████| 2/2 [00:01<00:00,  1.47it/s]\n"
     ]
    },
    {
     "name": "stdout",
     "output_type": "stream",
     "text": [
      "Iter 4 - Epoch 0 - Client Type: Benign - Client Number 10 - Poison Training False\n"
     ]
    },
    {
     "name": "stderr",
     "output_type": "stream",
     "text": [
      "100%|████████████████████████████████████████████████████████████████████████████████████| 1/1 [00:00<00:00,  1.81it/s]\n"
     ]
    },
    {
     "name": "stdout",
     "output_type": "stream",
     "text": [
      "Iter 4 - Epoch 0 - Client Type: Benign - Client Number 11 - Poison Training False\n"
     ]
    },
    {
     "name": "stderr",
     "output_type": "stream",
     "text": [
      "100%|████████████████████████████████████████████████████████████████████████████████████| 2/2 [00:01<00:00,  1.46it/s]\n"
     ]
    },
    {
     "name": "stdout",
     "output_type": "stream",
     "text": [
      "Iter 4 - Epoch 0 - Client Type: Benign - Client Number 12 - Poison Training False\n"
     ]
    },
    {
     "name": "stderr",
     "output_type": "stream",
     "text": [
      "100%|████████████████████████████████████████████████████████████████████████████████████| 1/1 [00:00<00:00,  1.55it/s]\n"
     ]
    },
    {
     "name": "stdout",
     "output_type": "stream",
     "text": [
      "Iter 4 - Epoch 0 - Client Type: Benign - Client Number 13 - Poison Training False\n"
     ]
    },
    {
     "name": "stderr",
     "output_type": "stream",
     "text": [
      "100%|████████████████████████████████████████████████████████████████████████████████████| 2/2 [00:01<00:00,  1.06it/s]\n"
     ]
    },
    {
     "name": "stdout",
     "output_type": "stream",
     "text": [
      "Iter 4 - Epoch 0 - Client Type: Benign - Client Number 14 - Poison Training False\n"
     ]
    },
    {
     "name": "stderr",
     "output_type": "stream",
     "text": [
      "100%|████████████████████████████████████████████████████████████████████████████████████| 1/1 [00:00<00:00,  1.21it/s]\n"
     ]
    },
    {
     "name": "stdout",
     "output_type": "stream",
     "text": [
      "Iter 4 - Epoch 0 - Client Type: Benign - Client Number 15 - Poison Training False\n"
     ]
    },
    {
     "name": "stderr",
     "output_type": "stream",
     "text": [
      "100%|████████████████████████████████████████████████████████████████████████████████████| 2/2 [00:01<00:00,  1.63it/s]\n"
     ]
    },
    {
     "name": "stdout",
     "output_type": "stream",
     "text": [
      "Iter 4 - Epoch 0 - Client Type: Benign - Client Number 16 - Poison Training False\n"
     ]
    },
    {
     "name": "stderr",
     "output_type": "stream",
     "text": [
      "100%|████████████████████████████████████████████████████████████████████████████████████| 2/2 [00:01<00:00,  1.64it/s]\n"
     ]
    },
    {
     "name": "stdout",
     "output_type": "stream",
     "text": [
      "Iter 4 - Epoch 0 - Client Type: Benign - Client Number 17 - Poison Training False\n"
     ]
    },
    {
     "name": "stderr",
     "output_type": "stream",
     "text": [
      "100%|████████████████████████████████████████████████████████████████████████████████████| 1/1 [00:00<00:00,  1.56it/s]\n"
     ]
    },
    {
     "name": "stdout",
     "output_type": "stream",
     "text": [
      "Iter 4 - Epoch 0 - Client Type: Benign - Client Number 18 - Poison Training False\n"
     ]
    },
    {
     "name": "stderr",
     "output_type": "stream",
     "text": [
      "100%|████████████████████████████████████████████████████████████████████████████████████| 1/1 [00:00<00:00,  1.52it/s]\n"
     ]
    },
    {
     "name": "stdout",
     "output_type": "stream",
     "text": [
      "Iter 4 - Epoch 0 - Client Type: Benign - Client Number 19 - Poison Training False\n"
     ]
    },
    {
     "name": "stderr",
     "output_type": "stream",
     "text": [
      "100%|████████████████████████████████████████████████████████████████████████████████████| 1/1 [00:00<00:00,  1.19it/s]\n"
     ]
    },
    {
     "name": "stdout",
     "output_type": "stream",
     "text": [
      "Original Copylist [9, 1, 4, 9, 6, 7, 5, 6, 2, 0, 8, 3, 9, 5, 6, 4, 0, 9, 9, 6]\n",
      "Found clusters [8 9 2 8 3 4 0 3 6 1 7 5 8 0 3 2 1 8 8 3]\n",
      "Original groups [array([ 9, 16], dtype=int64), array([1], dtype=int64), array([8], dtype=int64), array([11], dtype=int64), array([ 2, 15], dtype=int64), array([ 6, 13], dtype=int64), array([ 4,  7, 14, 19], dtype=int64), array([5], dtype=int64), array([10], dtype=int64), array([ 0,  3, 12, 17, 18], dtype=int64)]\n",
      "Clustered groups [array([ 6, 13], dtype=int64), array([ 9, 16], dtype=int64), array([ 2, 15], dtype=int64), array([ 4,  7, 14, 19], dtype=int64), array([5], dtype=int64), array([11], dtype=int64), array([8], dtype=int64), array([10], dtype=int64), array([ 0,  3, 12, 17, 18], dtype=int64), array([1], dtype=int64)]\n",
      "Clustering score 1.0\n",
      "22\n",
      "[[ 1.00000629  0.26792517  0.13793656  0.99089174  0.18024212  0.75069382\n",
      "   0.34801183  0.18137082  0.22238739  0.51090949  0.56720092  0.48309839\n",
      "   0.99172676  0.20212535  0.1738151   0.22330396  0.46586056  0.9917483\n",
      "   0.99475865  0.17408613]\n",
      " [ 0.26792519  1.00000399  0.27112527  0.25519588  0.46339664  0.37295564\n",
      "   0.3545692   0.4531444   0.15105589  0.44221052  0.24306804  0.30323033\n",
      "   0.26450848  0.32136905  0.46037202  0.33365041  0.48019328  0.26375405\n",
      "   0.2687059   0.46698261]\n",
      " [ 0.13793656  0.27112528  1.00000896  0.12742157  0.25117144  0.20445281\n",
      "   0.45104293  0.2478473   0.15082744  0.06172134 -0.01007189  0.3976554\n",
      "   0.1260816   0.4453065   0.23619565  0.86687615  0.05031813  0.13856182\n",
      "   0.12250289  0.23885975]\n",
      " [ 0.99089175  0.25519587  0.12742156  1.0000067   0.1708826   0.74247808\n",
      "   0.33349373  0.17445621  0.23057023  0.50547767  0.56074322  0.48197536\n",
      "   0.99086641  0.18995963  0.16637083  0.20297795  0.46083126  0.99276369\n",
      "   0.99127148  0.16485895]\n",
      " [ 0.18024212  0.46339664  0.25117145  0.1708826   1.00000539  0.28929944\n",
      "   0.47367654  0.98967812  0.0569762   0.4111579   0.11750682  0.20706201\n",
      "   0.17568026  0.38140195  0.98115487  0.29262601  0.43685962  0.1800975\n",
      "   0.18067209  0.98421841]\n",
      " [ 0.75069381  0.37295564  0.2044528   0.74247808  0.28929944  1.00000598\n",
      "   0.52543694  0.29373     0.24171224  0.67564684  0.71311922  0.59305709\n",
      "   0.74076718  0.38886672  0.28873823  0.28577344  0.65079325  0.75136241\n",
      "   0.74866101  0.29271253]\n",
      " [ 0.34801182  0.3545692   0.45104293  0.33349373  0.47367653  0.52543697\n",
      "   1.00000303  0.47225452  0.28137292  0.42918414  0.30843506  0.37148237\n",
      "   0.32869594  0.8328352   0.47201096  0.5022935   0.429561    0.34500379\n",
      "   0.33129528  0.48285175]\n",
      " [ 0.18137083  0.4531444   0.2478473   0.17445621  0.98967812  0.29373001\n",
      "   0.47225453  1.00000765  0.061428    0.40635062  0.12814213  0.2012419\n",
      "   0.18000029  0.38091136  0.98376898  0.28549258  0.43003704  0.18373381\n",
      "   0.18312445  0.98455707]\n",
      " [ 0.22238739  0.1510559   0.15082744  0.23057023  0.0569762   0.24171224\n",
      "   0.28137292  0.061428    1.0000057   0.34410222  0.15359071  0.08354734\n",
      "   0.21783286  0.2885786   0.07266814  0.10988424  0.3350576   0.24442953\n",
      "   0.21550815  0.06325038]\n",
      " [ 0.51090952  0.44221052  0.06172133  0.50547766  0.4111579   0.67564688\n",
      "   0.42918414  0.40635064  0.34410222  1.00000503  0.60633342  0.38850359\n",
      "   0.50382442  0.35352286  0.40679588  0.11761308  0.95136818  0.5198104\n",
      "   0.50959316  0.40805745]\n",
      " [ 0.56720092  0.24306804 -0.01007189  0.56074321  0.11750682  0.71311924\n",
      "   0.30843505  0.12814213  0.15359071  0.60633339  1.00000939  0.36597109\n",
      "   0.56817834  0.28358371  0.12597922  0.07749854  0.59495373  0.56035634\n",
      "   0.56370057  0.12984089]\n",
      " [ 0.48309839  0.30323034  0.3976554   0.48197536  0.20706201  0.59305711\n",
      "   0.37148236  0.2012419   0.08354734  0.38850361  0.36597109  1.00000844\n",
      "   0.47766209  0.34256161  0.19220764  0.45991479  0.41069686  0.48316235\n",
      "   0.48476532  0.19326182]\n",
      " [ 0.99172674  0.26450847  0.1260816   0.99086639  0.17568026  0.74076718\n",
      "   0.32869594  0.18000029  0.21783286  0.50382442  0.56817833  0.47766209\n",
      "   1.00000557  0.1888991   0.17368254  0.2044923   0.46227145  0.98969972\n",
      "   0.9931095   0.16912807]\n",
      " [ 0.20212535  0.32136905  0.4453065   0.18995962  0.38140195  0.38886671\n",
      "   0.8328352   0.38091135  0.2885786   0.35352287  0.28358372  0.34256161\n",
      "   0.1888991   1.00000627  0.38039158  0.46267832  0.36265156  0.2044115\n",
      "   0.18610748  0.38569209]\n",
      " [ 0.1738151   0.46037202  0.23619566  0.16637083  0.98115488  0.28873824\n",
      "   0.47201097  0.98376898  0.07266814  0.40679588  0.12597923  0.19220763\n",
      "   0.17368254  0.38039159  1.00000424  0.2729137   0.43974317  0.17467365\n",
      "   0.17565744  0.98790026]\n",
      " [ 0.22330396  0.3336504   0.86687614  0.20297795  0.292626    0.28577342\n",
      "   0.50229349  0.28549258  0.10988424  0.11761308  0.07749853  0.4599148\n",
      "   0.2044923   0.46267831  0.27291369  1.00000875  0.10461731  0.21470255\n",
      "   0.20477166  0.28021554]\n",
      " [ 0.46586053  0.48019327  0.05031813  0.46083125  0.43685963  0.65079325\n",
      "   0.42956098  0.43003704  0.3350576   0.95136813  0.59495373  0.41069685\n",
      "   0.46227146  0.36265157  0.43974318  0.10461732  1.00000436  0.46968743\n",
      "   0.46776445  0.43907204]\n",
      " [ 0.99174832  0.26375404  0.13856183  0.99276369  0.1800975   0.75136241\n",
      "   0.34500379  0.18373382  0.24442953  0.5198104   0.56035633  0.48316233\n",
      "   0.9896997   0.20441151  0.17467365  0.21470255  0.46968745  1.00000551\n",
      "   0.99049753  0.17308572]\n",
      " [ 0.99475865  0.26870589  0.12250289  0.99127146  0.18067209  0.74866101\n",
      "   0.33129528  0.18312444  0.21550815  0.50959315  0.56370059  0.48476533\n",
      "   0.99310954  0.18610748  0.17565744  0.20477166  0.46776444  0.99049752\n",
      "   1.0000057   0.17374758]\n",
      " [ 0.17408613  0.4669826   0.23885975  0.16485895  0.98421837  0.29271254\n",
      "   0.48285174  0.98455706  0.06325038  0.40805745  0.1298409   0.19326182\n",
      "   0.16912807  0.3856921   0.98790028  0.28021553  0.43907204  0.17308572\n",
      "   0.17374758  1.00000548]]\n",
      "Original Copylist [9, 1, 4, 9, 6, 7, 5, 6, 2, 0, 8, 3, 9, 5, 6, 4, 0, 9, 9, 6]\n",
      "Found clusters [3 6 2 3 4 9 0 4 5 1 8 7 3 0 4 2 1 3 3 4]\n",
      "Original groups [array([ 9, 16], dtype=int64), array([1], dtype=int64), array([8], dtype=int64), array([11], dtype=int64), array([ 2, 15], dtype=int64), array([ 6, 13], dtype=int64), array([ 4,  7, 14, 19], dtype=int64), array([5], dtype=int64), array([10], dtype=int64), array([ 0,  3, 12, 17, 18], dtype=int64)]\n",
      "Clustered groups [array([ 6, 13], dtype=int64), array([ 9, 16], dtype=int64), array([ 2, 15], dtype=int64), array([ 0,  3, 12, 17, 18], dtype=int64), array([ 4,  7, 14, 19], dtype=int64), array([8], dtype=int64), array([1], dtype=int64), array([11], dtype=int64), array([10], dtype=int64), array([5], dtype=int64)]\n",
      "Clustering score 1.0\n",
      "\n",
      "\n",
      " Entering epoch 2\n",
      "Iter 4 - Epoch 0 - Client Type: Benign - Client Number 0 - Poison Training False\n"
     ]
    },
    {
     "name": "stderr",
     "output_type": "stream",
     "text": [
      "100%|████████████████████████████████████████████████████████████████████████████████████| 1/1 [00:00<00:00,  1.43it/s]\n"
     ]
    },
    {
     "name": "stdout",
     "output_type": "stream",
     "text": [
      "Iter 4 - Epoch 0 - Client Type: Benign - Client Number 1 - Poison Training False\n"
     ]
    },
    {
     "name": "stderr",
     "output_type": "stream",
     "text": [
      "100%|████████████████████████████████████████████████████████████████████████████████████| 2/2 [00:01<00:00,  1.15it/s]\n"
     ]
    },
    {
     "name": "stdout",
     "output_type": "stream",
     "text": [
      "Iter 4 - Epoch 0 - Client Type: Benign - Client Number 2 - Poison Training False\n"
     ]
    },
    {
     "name": "stderr",
     "output_type": "stream",
     "text": [
      "100%|████████████████████████████████████████████████████████████████████████████████████| 2/2 [00:01<00:00,  1.65it/s]\n"
     ]
    },
    {
     "name": "stdout",
     "output_type": "stream",
     "text": [
      "Iter 4 - Epoch 0 - Client Type: Benign - Client Number 3 - Poison Training False\n"
     ]
    },
    {
     "name": "stderr",
     "output_type": "stream",
     "text": [
      "100%|████████████████████████████████████████████████████████████████████████████████████| 1/1 [00:00<00:00,  1.61it/s]\n"
     ]
    },
    {
     "name": "stdout",
     "output_type": "stream",
     "text": [
      "Iter 4 - Epoch 0 - Client Type: Benign - Client Number 4 - Poison Training False\n"
     ]
    },
    {
     "name": "stderr",
     "output_type": "stream",
     "text": [
      "100%|████████████████████████████████████████████████████████████████████████████████████| 1/1 [00:00<00:00,  1.14it/s]\n"
     ]
    },
    {
     "name": "stdout",
     "output_type": "stream",
     "text": [
      "Iter 4 - Epoch 0 - Client Type: Benign - Client Number 5 - Poison Training False\n"
     ]
    },
    {
     "name": "stderr",
     "output_type": "stream",
     "text": [
      "100%|████████████████████████████████████████████████████████████████████████████████████| 1/1 [00:00<00:00,  1.14it/s]\n"
     ]
    },
    {
     "name": "stdout",
     "output_type": "stream",
     "text": [
      "Iter 4 - Epoch 0 - Client Type: Benign - Client Number 6 - Poison Training False\n"
     ]
    },
    {
     "name": "stderr",
     "output_type": "stream",
     "text": [
      "100%|████████████████████████████████████████████████████████████████████████████████████| 2/2 [00:01<00:00,  1.06it/s]\n"
     ]
    },
    {
     "name": "stdout",
     "output_type": "stream",
     "text": [
      "Iter 4 - Epoch 0 - Client Type: Benign - Client Number 7 - Poison Training False\n"
     ]
    },
    {
     "name": "stderr",
     "output_type": "stream",
     "text": [
      "100%|████████████████████████████████████████████████████████████████████████████████████| 1/1 [00:00<00:00,  1.21it/s]\n"
     ]
    },
    {
     "name": "stdout",
     "output_type": "stream",
     "text": [
      "Iter 4 - Epoch 0 - Client Type: Benign - Client Number 8 - Poison Training False\n"
     ]
    },
    {
     "name": "stderr",
     "output_type": "stream",
     "text": [
      "100%|████████████████████████████████████████████████████████████████████████████████████| 1/1 [00:00<00:00,  1.11it/s]\n"
     ]
    },
    {
     "name": "stdout",
     "output_type": "stream",
     "text": [
      "Iter 4 - Epoch 0 - Client Type: Benign - Client Number 9 - Poison Training False\n"
     ]
    },
    {
     "name": "stderr",
     "output_type": "stream",
     "text": [
      "100%|████████████████████████████████████████████████████████████████████████████████████| 2/2 [00:01<00:00,  1.65it/s]\n"
     ]
    },
    {
     "name": "stdout",
     "output_type": "stream",
     "text": [
      "Iter 4 - Epoch 0 - Client Type: Benign - Client Number 10 - Poison Training False\n"
     ]
    },
    {
     "name": "stderr",
     "output_type": "stream",
     "text": [
      "100%|████████████████████████████████████████████████████████████████████████████████████| 1/1 [00:00<00:00,  1.96it/s]\n"
     ]
    },
    {
     "name": "stdout",
     "output_type": "stream",
     "text": [
      "Iter 4 - Epoch 0 - Client Type: Benign - Client Number 11 - Poison Training False\n"
     ]
    },
    {
     "name": "stderr",
     "output_type": "stream",
     "text": [
      "100%|████████████████████████████████████████████████████████████████████████████████████| 2/2 [00:01<00:00,  1.39it/s]\n"
     ]
    },
    {
     "name": "stdout",
     "output_type": "stream",
     "text": [
      "Iter 4 - Epoch 0 - Client Type: Benign - Client Number 12 - Poison Training False\n"
     ]
    },
    {
     "name": "stderr",
     "output_type": "stream",
     "text": [
      "100%|████████████████████████████████████████████████████████████████████████████████████| 1/1 [00:00<00:00,  1.23it/s]\n"
     ]
    },
    {
     "name": "stdout",
     "output_type": "stream",
     "text": [
      "Iter 4 - Epoch 0 - Client Type: Benign - Client Number 13 - Poison Training False\n"
     ]
    },
    {
     "name": "stderr",
     "output_type": "stream",
     "text": [
      "100%|████████████████████████████████████████████████████████████████████████████████████| 2/2 [00:02<00:00,  1.03s/it]\n"
     ]
    },
    {
     "name": "stdout",
     "output_type": "stream",
     "text": [
      "Iter 4 - Epoch 0 - Client Type: Benign - Client Number 14 - Poison Training False\n"
     ]
    },
    {
     "name": "stderr",
     "output_type": "stream",
     "text": [
      "100%|████████████████████████████████████████████████████████████████████████████████████| 1/1 [00:00<00:00,  1.08it/s]\n"
     ]
    },
    {
     "name": "stdout",
     "output_type": "stream",
     "text": [
      "Iter 4 - Epoch 0 - Client Type: Benign - Client Number 15 - Poison Training False\n"
     ]
    },
    {
     "name": "stderr",
     "output_type": "stream",
     "text": [
      "100%|████████████████████████████████████████████████████████████████████████████████████| 2/2 [00:01<00:00,  1.60it/s]\n"
     ]
    },
    {
     "name": "stdout",
     "output_type": "stream",
     "text": [
      "Iter 4 - Epoch 0 - Client Type: Benign - Client Number 16 - Poison Training False\n"
     ]
    },
    {
     "name": "stderr",
     "output_type": "stream",
     "text": [
      "100%|████████████████████████████████████████████████████████████████████████████████████| 2/2 [00:01<00:00,  1.58it/s]\n"
     ]
    },
    {
     "name": "stdout",
     "output_type": "stream",
     "text": [
      "Iter 4 - Epoch 0 - Client Type: Benign - Client Number 17 - Poison Training False\n"
     ]
    },
    {
     "name": "stderr",
     "output_type": "stream",
     "text": [
      "100%|████████████████████████████████████████████████████████████████████████████████████| 1/1 [00:00<00:00,  1.59it/s]\n"
     ]
    },
    {
     "name": "stdout",
     "output_type": "stream",
     "text": [
      "Iter 4 - Epoch 0 - Client Type: Benign - Client Number 18 - Poison Training False\n"
     ]
    },
    {
     "name": "stderr",
     "output_type": "stream",
     "text": [
      "100%|████████████████████████████████████████████████████████████████████████████████████| 1/1 [00:00<00:00,  1.34it/s]\n"
     ]
    },
    {
     "name": "stdout",
     "output_type": "stream",
     "text": [
      "Iter 4 - Epoch 0 - Client Type: Benign - Client Number 19 - Poison Training False\n"
     ]
    },
    {
     "name": "stderr",
     "output_type": "stream",
     "text": [
      "100%|████████████████████████████████████████████████████████████████████████████████████| 1/1 [00:00<00:00,  1.24it/s]\n"
     ]
    },
    {
     "name": "stdout",
     "output_type": "stream",
     "text": [
      "Original Copylist [9, 1, 4, 9, 6, 7, 5, 6, 2, 0, 8, 3, 9, 5, 6, 4, 0, 9, 9, 6]\n",
      "Found clusters [4 6 2 4 5 9 0 5 7 1 8 3 4 0 5 2 1 4 4 5]\n",
      "Original groups [array([ 9, 16], dtype=int64), array([1], dtype=int64), array([8], dtype=int64), array([11], dtype=int64), array([ 2, 15], dtype=int64), array([ 6, 13], dtype=int64), array([ 4,  7, 14, 19], dtype=int64), array([5], dtype=int64), array([10], dtype=int64), array([ 0,  3, 12, 17, 18], dtype=int64)]\n",
      "Clustered groups [array([ 6, 13], dtype=int64), array([ 9, 16], dtype=int64), array([ 2, 15], dtype=int64), array([11], dtype=int64), array([ 0,  3, 12, 17, 18], dtype=int64), array([ 4,  7, 14, 19], dtype=int64), array([1], dtype=int64), array([8], dtype=int64), array([10], dtype=int64), array([5], dtype=int64)]\n",
      "Clustering score 1.0\n",
      "23\n",
      "[[ 1.0000067   0.21711856  0.14470676  0.9910453   0.15224149  0.7377389\n",
      "   0.35686427  0.15605172  0.24624172  0.47814643  0.54320668  0.47772597\n",
      "   0.9919091   0.26323132  0.14678306  0.20221748  0.43822333  0.99144982\n",
      "   0.99487345  0.14016093]\n",
      " [ 0.21711857  1.00000474  0.25679047  0.20677191  0.43296255  0.31752948\n",
      "   0.33852529  0.42247504  0.18845573  0.38788844  0.20140394  0.27392433\n",
      "   0.21576884  0.33008664  0.43374282  0.28241958  0.43449157  0.21502966\n",
      "   0.21704248  0.43804594]\n",
      " [ 0.14470675  0.25679047  1.00000796  0.13445686  0.24383052  0.20576361\n",
      "   0.44034776  0.24214942  0.20458208  0.06235371 -0.01213526  0.40784186\n",
      "   0.13316265  0.4852937   0.22514729  0.87769456  0.04224058  0.14678383\n",
      "   0.12921196  0.22132533]\n",
      " [ 0.99104531  0.2067719   0.13445686  1.00000668  0.14505945  0.7323168\n",
      "   0.34198563  0.15153425  0.25372217  0.47282543  0.53641674  0.47797612\n",
      "   0.99075884  0.24796702  0.14123466  0.18550392  0.43289565  0.99266689\n",
      "   0.99133875  0.13234918]\n",
      " [ 0.15224149  0.43296255  0.24383052  0.14505945  1.00000522  0.27147889\n",
      "   0.48441764  0.9885879  -0.02051788  0.37972126  0.07086485  0.20139487\n",
      "   0.14805876  0.40722449  0.98006836  0.25800123  0.42047149  0.14711222\n",
      "   0.15363944  0.97931367]\n",
      " [ 0.7377389   0.31752948  0.20576362  0.73231682  0.27147888  1.00000606\n",
      "   0.55315621  0.27759089  0.24977529  0.65815611  0.68987004  0.59194689\n",
      "   0.72784289  0.45346339  0.27403429  0.25060822  0.63847988  0.73834248\n",
      "   0.73621604  0.27589185]\n",
      " [ 0.35686426  0.33852529  0.44034777  0.34198564  0.48441762  0.55315623\n",
      "   1.00000415  0.48126696  0.26692576  0.45587767  0.30917581  0.35729932\n",
      "   0.33587823  0.8618767   0.48989114  0.44192939  0.44940832  0.35626586\n",
      "   0.34030464  0.50596757]\n",
      " [ 0.15605172  0.42247504  0.24214942  0.15153424  0.98858789  0.27759091\n",
      "   0.48126698  1.00000734 -0.01409702  0.37320882  0.08119159  0.19883076\n",
      "   0.15525311  0.40873079  0.98143473  0.25315324  0.41125299  0.15347795\n",
      "   0.15881592  0.9771585 ]\n",
      " [ 0.24624171  0.18845574  0.20458209  0.25372217 -0.02051789  0.24977529\n",
      "   0.26692575 -0.01409702  1.00000465  0.33887012  0.17028016  0.09058907\n",
      "   0.24252843  0.30202895 -0.01777831  0.13733995  0.31505203  0.26491245\n",
      "   0.23973556 -0.03395818]\n",
      " [ 0.47814643  0.38788844  0.06235371  0.47282542  0.37972126  0.65815614\n",
      "   0.45587767  0.37320884  0.33887011  1.0000056   0.58649313  0.37465811\n",
      "   0.47124867  0.39676566  0.37876418  0.09300485  0.95162686  0.48493589\n",
      "   0.47681437  0.38474143]\n",
      " [ 0.54320667  0.20140395 -0.01213526  0.53641674  0.07086486  0.68987004\n",
      "   0.3091758   0.08119159  0.17028016  0.58649312  1.00000765  0.35366647\n",
      "   0.54488242  0.30231607  0.08059441  0.05240941  0.57327867  0.53733983\n",
      "   0.53935466  0.08794415]\n",
      " [ 0.47772598  0.27392434  0.40784186  0.47797613  0.20139486  0.59194691\n",
      "   0.35729931  0.19883075  0.09058907  0.37465812  0.35366646  1.00000777\n",
      "   0.47339617  0.35745781  0.18490219  0.44283057  0.39178628  0.4788248\n",
      "   0.48009981  0.18053572]\n",
      " [ 0.99190909  0.21576883  0.13316265  0.99075881  0.14805876  0.72784289\n",
      "   0.33587822  0.15525312  0.24252843  0.47124866  0.54488241  0.47339616\n",
      "   1.00000573  0.24959584  0.14678538  0.18564164  0.43400835  0.98940009\n",
      "   0.99327371  0.13482136]\n",
      " [ 0.26323133  0.33008664  0.48529371  0.24796701  0.40722449  0.45346338\n",
      "   0.86187671  0.40873078  0.30202895  0.39676567  0.30231607  0.35745781\n",
      "   0.24959584  1.00000582  0.40234512  0.47775304  0.38494003  0.26282893\n",
      "   0.24591003  0.40676317]\n",
      " [ 0.14678306  0.43374281  0.22514729  0.14123466  0.98006839  0.2740343\n",
      "   0.48989115  0.98143473 -0.01777832  0.3787642   0.08059442  0.18490218\n",
      "   0.14678538  0.40234513  1.00000486  0.23863581  0.42681526  0.14269149\n",
      "   0.14965463  0.98545423]\n",
      " [ 0.20221748  0.28241957  0.87769456  0.18550393  0.25800122  0.25060821\n",
      "   0.44192939  0.25315324  0.13733995  0.09300484  0.0524094   0.44283056\n",
      "   0.18564164  0.47775304  0.23863581  1.00000961  0.07734054  0.19645864\n",
      "   0.18562414  0.24046498]\n",
      " [ 0.43822333  0.43449155  0.04224059  0.43289564  0.4204715   0.63847986\n",
      "   0.4494083   0.41125301  0.31505203  0.9516268   0.57327867  0.39178627\n",
      "   0.43400836  0.38494005  0.42681528  0.07734055  1.00000451  0.44048244\n",
      "   0.43985852  0.43234728]\n",
      " [ 0.99144983  0.21502965  0.14678383  0.99266689  0.14711222  0.73834248\n",
      "   0.35626586  0.15347796  0.26491245  0.4849359   0.53733982  0.47882479\n",
      "   0.98940005  0.26282894  0.14269149  0.19645864  0.44048245  1.00000532\n",
      "   0.9900883   0.13408104]\n",
      " [ 0.99487344  0.21704247  0.12921196  0.99133872  0.15363944  0.73621603\n",
      "   0.34030465  0.15881592  0.23973555  0.47681437  0.53935467  0.48009982\n",
      "   0.99327375  0.24591004  0.14965463  0.18562413  0.43985851  0.99008831\n",
      "   1.00000551  0.1408035 ]\n",
      " [ 0.14016093  0.43804593  0.22132533  0.13234918  0.97931362  0.27589186\n",
      "   0.50596756  0.97715847 -0.03395818  0.38474142  0.08794416  0.18053572\n",
      "   0.13482136  0.40676317  0.98545424  0.24046497  0.43234728  0.13408105\n",
      "   0.1408035   1.00000501]]\n",
      "Original Copylist [9, 1, 4, 9, 6, 7, 5, 6, 2, 0, 8, 3, 9, 5, 6, 4, 0, 9, 9, 6]\n",
      "Found clusters [4 5 2 4 3 9 0 3 6 1 8 7 4 0 3 2 1 4 4 3]\n",
      "Original groups [array([ 9, 16], dtype=int64), array([1], dtype=int64), array([8], dtype=int64), array([11], dtype=int64), array([ 2, 15], dtype=int64), array([ 6, 13], dtype=int64), array([ 4,  7, 14, 19], dtype=int64), array([5], dtype=int64), array([10], dtype=int64), array([ 0,  3, 12, 17, 18], dtype=int64)]\n",
      "Clustered groups [array([ 6, 13], dtype=int64), array([ 9, 16], dtype=int64), array([ 2, 15], dtype=int64), array([ 4,  7, 14, 19], dtype=int64), array([ 0,  3, 12, 17, 18], dtype=int64), array([1], dtype=int64), array([8], dtype=int64), array([11], dtype=int64), array([10], dtype=int64), array([5], dtype=int64)]\n",
      "Clustering score 1.0\n",
      "\n",
      "\n",
      " Entering epoch 3\n",
      "Iter 4 - Epoch 0 - Client Type: Benign - Client Number 0 - Poison Training False\n"
     ]
    },
    {
     "name": "stderr",
     "output_type": "stream",
     "text": [
      "100%|████████████████████████████████████████████████████████████████████████████████████| 1/1 [00:00<00:00,  1.56it/s]\n"
     ]
    },
    {
     "name": "stdout",
     "output_type": "stream",
     "text": [
      "Iter 4 - Epoch 0 - Client Type: Benign - Client Number 1 - Poison Training False\n"
     ]
    },
    {
     "name": "stderr",
     "output_type": "stream",
     "text": [
      "100%|████████████████████████████████████████████████████████████████████████████████████| 2/2 [00:01<00:00,  1.18it/s]\n"
     ]
    },
    {
     "name": "stdout",
     "output_type": "stream",
     "text": [
      "Iter 4 - Epoch 0 - Client Type: Benign - Client Number 2 - Poison Training False\n"
     ]
    },
    {
     "name": "stderr",
     "output_type": "stream",
     "text": [
      "100%|████████████████████████████████████████████████████████████████████████████████████| 2/2 [00:01<00:00,  1.58it/s]\n"
     ]
    },
    {
     "name": "stdout",
     "output_type": "stream",
     "text": [
      "Iter 4 - Epoch 0 - Client Type: Benign - Client Number 3 - Poison Training False\n"
     ]
    },
    {
     "name": "stderr",
     "output_type": "stream",
     "text": [
      "100%|████████████████████████████████████████████████████████████████████████████████████| 1/1 [00:00<00:00,  1.52it/s]\n"
     ]
    },
    {
     "name": "stdout",
     "output_type": "stream",
     "text": [
      "Iter 4 - Epoch 0 - Client Type: Benign - Client Number 4 - Poison Training False\n"
     ]
    },
    {
     "name": "stderr",
     "output_type": "stream",
     "text": [
      "100%|████████████████████████████████████████████████████████████████████████████████████| 1/1 [00:00<00:00,  1.20it/s]\n"
     ]
    },
    {
     "name": "stdout",
     "output_type": "stream",
     "text": [
      "Iter 4 - Epoch 0 - Client Type: Benign - Client Number 5 - Poison Training False\n"
     ]
    },
    {
     "name": "stderr",
     "output_type": "stream",
     "text": [
      "100%|████████████████████████████████████████████████████████████████████████████████████| 1/1 [00:00<00:00,  1.10it/s]\n"
     ]
    },
    {
     "name": "stdout",
     "output_type": "stream",
     "text": [
      "Iter 4 - Epoch 0 - Client Type: Benign - Client Number 6 - Poison Training False\n"
     ]
    },
    {
     "name": "stderr",
     "output_type": "stream",
     "text": [
      "100%|████████████████████████████████████████████████████████████████████████████████████| 2/2 [00:01<00:00,  1.02it/s]\n"
     ]
    },
    {
     "name": "stdout",
     "output_type": "stream",
     "text": [
      "Iter 4 - Epoch 0 - Client Type: Benign - Client Number 7 - Poison Training False\n"
     ]
    },
    {
     "name": "stderr",
     "output_type": "stream",
     "text": [
      "100%|████████████████████████████████████████████████████████████████████████████████████| 1/1 [00:00<00:00,  1.08it/s]\n"
     ]
    },
    {
     "name": "stdout",
     "output_type": "stream",
     "text": [
      "Iter 4 - Epoch 0 - Client Type: Benign - Client Number 8 - Poison Training False\n"
     ]
    },
    {
     "name": "stderr",
     "output_type": "stream",
     "text": [
      "100%|████████████████████████████████████████████████████████████████████████████████████| 1/1 [00:00<00:00,  1.10it/s]\n"
     ]
    },
    {
     "name": "stdout",
     "output_type": "stream",
     "text": [
      "Iter 4 - Epoch 0 - Client Type: Benign - Client Number 9 - Poison Training False\n"
     ]
    },
    {
     "name": "stderr",
     "output_type": "stream",
     "text": [
      "100%|████████████████████████████████████████████████████████████████████████████████████| 2/2 [00:01<00:00,  1.62it/s]\n"
     ]
    },
    {
     "name": "stdout",
     "output_type": "stream",
     "text": [
      "Iter 4 - Epoch 0 - Client Type: Benign - Client Number 10 - Poison Training False\n"
     ]
    },
    {
     "name": "stderr",
     "output_type": "stream",
     "text": [
      "100%|████████████████████████████████████████████████████████████████████████████████████| 1/1 [00:00<00:00,  1.85it/s]\n"
     ]
    },
    {
     "name": "stdout",
     "output_type": "stream",
     "text": [
      "Iter 4 - Epoch 0 - Client Type: Benign - Client Number 11 - Poison Training False\n"
     ]
    },
    {
     "name": "stderr",
     "output_type": "stream",
     "text": [
      "100%|████████████████████████████████████████████████████████████████████████████████████| 2/2 [00:01<00:00,  1.46it/s]\n"
     ]
    },
    {
     "name": "stdout",
     "output_type": "stream",
     "text": [
      "Iter 4 - Epoch 0 - Client Type: Benign - Client Number 12 - Poison Training False\n"
     ]
    },
    {
     "name": "stderr",
     "output_type": "stream",
     "text": [
      "100%|████████████████████████████████████████████████████████████████████████████████████| 1/1 [00:00<00:00,  1.59it/s]\n"
     ]
    },
    {
     "name": "stdout",
     "output_type": "stream",
     "text": [
      "Iter 4 - Epoch 0 - Client Type: Benign - Client Number 13 - Poison Training False\n"
     ]
    },
    {
     "name": "stderr",
     "output_type": "stream",
     "text": [
      "100%|████████████████████████████████████████████████████████████████████████████████████| 2/2 [00:01<00:00,  1.09it/s]\n"
     ]
    },
    {
     "name": "stdout",
     "output_type": "stream",
     "text": [
      "Iter 4 - Epoch 0 - Client Type: Benign - Client Number 14 - Poison Training False\n"
     ]
    },
    {
     "name": "stderr",
     "output_type": "stream",
     "text": [
      "100%|████████████████████████████████████████████████████████████████████████████████████| 1/1 [00:00<00:00,  1.21it/s]\n"
     ]
    },
    {
     "name": "stdout",
     "output_type": "stream",
     "text": [
      "Iter 4 - Epoch 0 - Client Type: Benign - Client Number 15 - Poison Training False\n"
     ]
    },
    {
     "name": "stderr",
     "output_type": "stream",
     "text": [
      "100%|████████████████████████████████████████████████████████████████████████████████████| 2/2 [00:01<00:00,  1.59it/s]\n"
     ]
    },
    {
     "name": "stdout",
     "output_type": "stream",
     "text": [
      "Iter 4 - Epoch 0 - Client Type: Benign - Client Number 16 - Poison Training False\n"
     ]
    },
    {
     "name": "stderr",
     "output_type": "stream",
     "text": [
      "100%|████████████████████████████████████████████████████████████████████████████████████| 2/2 [00:01<00:00,  1.63it/s]\n"
     ]
    },
    {
     "name": "stdout",
     "output_type": "stream",
     "text": [
      "Iter 4 - Epoch 0 - Client Type: Benign - Client Number 17 - Poison Training False\n"
     ]
    },
    {
     "name": "stderr",
     "output_type": "stream",
     "text": [
      "100%|████████████████████████████████████████████████████████████████████████████████████| 1/1 [00:00<00:00,  1.55it/s]\n"
     ]
    },
    {
     "name": "stdout",
     "output_type": "stream",
     "text": [
      "Iter 4 - Epoch 0 - Client Type: Benign - Client Number 18 - Poison Training False\n"
     ]
    },
    {
     "name": "stderr",
     "output_type": "stream",
     "text": [
      "100%|████████████████████████████████████████████████████████████████████████████████████| 1/1 [00:00<00:00,  1.57it/s]\n"
     ]
    },
    {
     "name": "stdout",
     "output_type": "stream",
     "text": [
      "Iter 4 - Epoch 0 - Client Type: Benign - Client Number 19 - Poison Training False\n"
     ]
    },
    {
     "name": "stderr",
     "output_type": "stream",
     "text": [
      "100%|████████████████████████████████████████████████████████████████████████████████████| 1/1 [00:00<00:00,  1.24it/s]\n"
     ]
    },
    {
     "name": "stdout",
     "output_type": "stream",
     "text": [
      "Original Copylist [9, 1, 4, 9, 6, 7, 5, 6, 2, 0, 8, 3, 9, 5, 6, 4, 0, 9, 9, 6]\n",
      "Found clusters [0 7 1 0 4 0 3 4 5 9 6 2 0 3 8 1 9 0 0 8]\n",
      "Original groups [array([ 9, 16], dtype=int64), array([1], dtype=int64), array([8], dtype=int64), array([11], dtype=int64), array([ 2, 15], dtype=int64), array([ 6, 13], dtype=int64), array([ 4,  7, 14, 19], dtype=int64), array([5], dtype=int64), array([10], dtype=int64), array([ 0,  3, 12, 17, 18], dtype=int64)]\n",
      "Clustered groups [array([ 0,  3,  5, 12, 17, 18], dtype=int64), array([ 2, 15], dtype=int64), array([11], dtype=int64), array([ 6, 13], dtype=int64), array([4, 7], dtype=int64), array([8], dtype=int64), array([10], dtype=int64), array([1], dtype=int64), array([14, 19], dtype=int64), array([ 9, 16], dtype=int64)]\n",
      "Clustering score 0.7428571428571429\n",
      "24\n",
      "[[ 1.00000575  0.18353127  0.14047794  0.99095622  0.12390486  0.71887164\n",
      "   0.33745327  0.11553008  0.30501194  0.4612745   0.52113132  0.48915019\n",
      "   0.99159107  0.27176481  0.12838693  0.16192858  0.42124217  0.9908197\n",
      "   0.99469342  0.13680114]\n",
      " [ 0.18353127  1.0000046   0.25373618  0.17598167  0.36350431  0.27806539\n",
      "   0.30563298  0.34749454  0.23399037  0.35700641  0.16325531  0.24480018\n",
      "   0.18116726  0.30894319  0.3621593   0.24465037  0.3933576   0.18516839\n",
      "   0.18356285  0.3753048 ]\n",
      " [ 0.14047794  0.25373619  1.00000691  0.12923986  0.20359113  0.21057453\n",
      "   0.45728791  0.19310338  0.20957117  0.06023436 -0.02108872  0.41500419\n",
      "   0.12687637  0.50399445  0.1904408   0.90069488  0.03495065  0.14299353\n",
      "   0.12384167  0.19865133]\n",
      " [ 0.99095623  0.17598166  0.12923986  1.00000637  0.11701808  0.71564476\n",
      "   0.32360925  0.11086388  0.30856171  0.45949157  0.51396369  0.48950163\n",
      "   0.99046737  0.25773961  0.12311364  0.14707987  0.41794354  0.99225036\n",
      "   0.99081832  0.13002413]\n",
      " [ 0.12390486  0.3635043   0.20359113  0.11701808  1.00000532  0.26555204\n",
      "   0.45554824  0.98391012 -0.02131928  0.42875523  0.04957253  0.17603006\n",
      "   0.11775042  0.42305478  0.97687938  0.18511627  0.45159509  0.12230853\n",
      "   0.12538467  0.94902534]\n",
      " [ 0.71887167  0.27806541  0.21057453  0.71564478  0.26555204  1.00000589\n",
      "   0.54488568  0.259192    0.32130836  0.66129698  0.66596692  0.58489711\n",
      "   0.71014793  0.48305029  0.2802846   0.19602937  0.63345016  0.72158058\n",
      "   0.71504112  0.29036501]\n",
      " [ 0.33745327  0.30563297  0.45728792  0.32360924  0.45554824  0.54488568\n",
      "   1.00000381  0.44391183  0.29129991  0.44667242  0.28961984  0.35370799\n",
      "   0.31598439  0.88259438  0.46870874  0.39903942  0.43415984  0.33767817\n",
      "   0.31917456  0.48813313]\n",
      " [ 0.11553008  0.34749454  0.19310338  0.11086388  0.9839101   0.259192\n",
      "   0.44391183  1.00000691 -0.01547719  0.42149871  0.06035424  0.16357635\n",
      "   0.1128829   0.41135222  0.96697414  0.17524244  0.44073858  0.11715202\n",
      "   0.11868812  0.92319999]\n",
      " [ 0.30501194  0.2339904   0.20957117  0.30856171 -0.02131928  0.32130836\n",
      "   0.29129991 -0.01547719  1.00000455  0.3769425   0.2263002   0.09936046\n",
      "   0.29782729  0.28779607 -0.02445267  0.17069507  0.35413217  0.32204856\n",
      "   0.29916632 -0.0321165 ]\n",
      " [ 0.4612745   0.35700642  0.06023436  0.45949155  0.42875523  0.661297\n",
      "   0.44667243  0.42149874  0.3769425   1.00000567  0.57103363  0.37029592\n",
      "   0.45302989  0.40935932  0.43014594  0.05515867  0.95393299  0.46920468\n",
      "   0.45963582  0.4199628 ]\n",
      " [ 0.52113132  0.16325531 -0.02108872  0.51396369  0.04957254  0.66596692\n",
      "   0.28961984  0.06035423  0.2263002   0.57103361  1.00000761  0.33414907\n",
      "   0.52357236  0.28668072  0.05624711  0.01034271  0.54979374  0.51735529\n",
      "   0.5148281   0.0639159 ]\n",
      " [ 0.4891502   0.24480018  0.41500418  0.48950164  0.17603006  0.58489712\n",
      "   0.35370799  0.16357634  0.09936046  0.37029593  0.33414907  1.00000734\n",
      "   0.48518521  0.36422826  0.1637581   0.42291794  0.38399217  0.49108469\n",
      "   0.48996994  0.16953951]\n",
      " [ 0.99159107  0.18116725  0.12687637  0.99046736  0.11775042  0.71014794\n",
      "   0.31598439  0.11288289  0.29782729  0.45302988  0.52357233  0.4851852\n",
      "   1.00000576  0.2564054   0.12648163  0.14633656  0.41385095  0.98865632\n",
      "   0.99311134  0.13025604]\n",
      " [ 0.27176482  0.30894318  0.50399446  0.25773961  0.42305478  0.48305028\n",
      "   0.88259441  0.41135222  0.28779607  0.40935933  0.28668072  0.36422827\n",
      "   0.25640539  1.00000606  0.4297868   0.44215125  0.39399008  0.27275623\n",
      "   0.25405215  0.44143394]\n",
      " [ 0.12838694  0.36215931  0.19044079  0.12311365  0.97687941  0.28028461\n",
      "   0.46870875  0.96697413 -0.02445268  0.43014597  0.05624712  0.16375809\n",
      "   0.12648163  0.4297868   1.00000501  0.16671991  0.45672024  0.1277806\n",
      "   0.13079196  0.97108328]\n",
      " [ 0.16192858  0.24465036  0.90069489  0.14707987  0.18511627  0.19602937\n",
      "   0.39903941  0.17524244  0.17069507  0.05515866  0.0103427   0.42291795\n",
      "   0.14633656  0.44215125  0.16671991  1.00000923  0.04106029  0.15748735\n",
      "   0.14637958  0.17334408]\n",
      " [ 0.42124218  0.39335759  0.03495066  0.41794354  0.45159509  0.63345014\n",
      "   0.43415983  0.44073858  0.35413217  0.95393293  0.54979374  0.38399214\n",
      "   0.41385096  0.3939901   0.45672023  0.0410603   1.00000384  0.42413636\n",
      "   0.42281961  0.4473377 ]\n",
      " [ 0.99081972  0.18516839  0.14299353  0.99225036  0.12230854  0.72158059\n",
      "   0.33767817  0.11715203  0.32204855  0.46920469  0.51735529  0.49108468\n",
      "   0.98865629  0.27275624  0.1277806   0.15748735  0.42413637  1.00000603\n",
      "   0.98925202  0.13282494]\n",
      " [ 0.9946934   0.18356285  0.12384167  0.99081829  0.12538467  0.71504111\n",
      "   0.31917457  0.11868813  0.2991663   0.45963582  0.51482811  0.48996994\n",
      "   0.99311135  0.25405216  0.13079195  0.14637957  0.42281958  0.98925204\n",
      "   1.0000047   0.13676422]\n",
      " [ 0.13680114  0.37530479  0.19865133  0.13002413  0.94902531  0.29036503\n",
      "   0.48813312  0.92319996 -0.0321165   0.41996279  0.06391591  0.16953951\n",
      "   0.13025604  0.44143395  0.9710833   0.17334408  0.4473377   0.13282495\n",
      "   0.13676421  1.00000565]]\n",
      "Original Copylist [9, 1, 4, 9, 6, 7, 5, 6, 2, 0, 8, 3, 9, 5, 6, 4, 0, 9, 9, 6]\n",
      "Found clusters [6 9 1 6 2 4 0 2 7 5 8 3 6 0 2 1 5 6 6 2]\n",
      "Original groups [array([ 9, 16], dtype=int64), array([1], dtype=int64), array([8], dtype=int64), array([11], dtype=int64), array([ 2, 15], dtype=int64), array([ 6, 13], dtype=int64), array([ 4,  7, 14, 19], dtype=int64), array([5], dtype=int64), array([10], dtype=int64), array([ 0,  3, 12, 17, 18], dtype=int64)]\n",
      "Clustered groups [array([ 6, 13], dtype=int64), array([ 2, 15], dtype=int64), array([ 4,  7, 14, 19], dtype=int64), array([11], dtype=int64), array([5], dtype=int64), array([ 9, 16], dtype=int64), array([ 0,  3, 12, 17, 18], dtype=int64), array([8], dtype=int64), array([10], dtype=int64), array([1], dtype=int64)]\n",
      "Clustering score 1.0\n",
      "\n",
      "\n",
      " Entering epoch 4\n",
      "Iter 4 - Epoch 0 - Client Type: Benign - Client Number 0 - Poison Training False\n"
     ]
    },
    {
     "name": "stderr",
     "output_type": "stream",
     "text": [
      "100%|████████████████████████████████████████████████████████████████████████████████████| 1/1 [00:00<00:00,  1.53it/s]\n"
     ]
    },
    {
     "name": "stdout",
     "output_type": "stream",
     "text": [
      "Iter 4 - Epoch 0 - Client Type: Benign - Client Number 1 - Poison Training False\n"
     ]
    },
    {
     "name": "stderr",
     "output_type": "stream",
     "text": [
      "100%|████████████████████████████████████████████████████████████████████████████████████| 2/2 [00:01<00:00,  1.15it/s]\n"
     ]
    },
    {
     "name": "stdout",
     "output_type": "stream",
     "text": [
      "Iter 4 - Epoch 0 - Client Type: Benign - Client Number 2 - Poison Training False\n"
     ]
    },
    {
     "name": "stderr",
     "output_type": "stream",
     "text": [
      "100%|████████████████████████████████████████████████████████████████████████████████████| 2/2 [00:01<00:00,  1.61it/s]\n"
     ]
    },
    {
     "name": "stdout",
     "output_type": "stream",
     "text": [
      "Iter 4 - Epoch 0 - Client Type: Benign - Client Number 3 - Poison Training False\n"
     ]
    },
    {
     "name": "stderr",
     "output_type": "stream",
     "text": [
      "100%|████████████████████████████████████████████████████████████████████████████████████| 1/1 [00:00<00:00,  1.62it/s]\n"
     ]
    },
    {
     "name": "stdout",
     "output_type": "stream",
     "text": [
      "Iter 4 - Epoch 0 - Client Type: Benign - Client Number 4 - Poison Training False\n"
     ]
    },
    {
     "name": "stderr",
     "output_type": "stream",
     "text": [
      "100%|████████████████████████████████████████████████████████████████████████████████████| 1/1 [00:00<00:00,  1.25it/s]\n"
     ]
    },
    {
     "name": "stdout",
     "output_type": "stream",
     "text": [
      "Iter 4 - Epoch 0 - Client Type: Benign - Client Number 5 - Poison Training False\n"
     ]
    },
    {
     "name": "stderr",
     "output_type": "stream",
     "text": [
      "100%|████████████████████████████████████████████████████████████████████████████████████| 1/1 [00:00<00:00,  1.13it/s]\n"
     ]
    },
    {
     "name": "stdout",
     "output_type": "stream",
     "text": [
      "Iter 4 - Epoch 0 - Client Type: Benign - Client Number 6 - Poison Training False\n"
     ]
    },
    {
     "name": "stderr",
     "output_type": "stream",
     "text": [
      "100%|████████████████████████████████████████████████████████████████████████████████████| 2/2 [00:01<00:00,  1.02it/s]\n"
     ]
    },
    {
     "name": "stdout",
     "output_type": "stream",
     "text": [
      "Iter 4 - Epoch 0 - Client Type: Benign - Client Number 7 - Poison Training False\n"
     ]
    },
    {
     "name": "stderr",
     "output_type": "stream",
     "text": [
      "100%|████████████████████████████████████████████████████████████████████████████████████| 1/1 [00:00<00:00,  1.21it/s]\n"
     ]
    },
    {
     "name": "stdout",
     "output_type": "stream",
     "text": [
      "Iter 4 - Epoch 0 - Client Type: Benign - Client Number 8 - Poison Training False\n"
     ]
    },
    {
     "name": "stderr",
     "output_type": "stream",
     "text": [
      "100%|████████████████████████████████████████████████████████████████████████████████████| 1/1 [00:00<00:00,  1.16it/s]\n"
     ]
    },
    {
     "name": "stdout",
     "output_type": "stream",
     "text": [
      "Iter 4 - Epoch 0 - Client Type: Benign - Client Number 9 - Poison Training False\n"
     ]
    },
    {
     "name": "stderr",
     "output_type": "stream",
     "text": [
      "100%|████████████████████████████████████████████████████████████████████████████████████| 2/2 [00:01<00:00,  1.64it/s]\n"
     ]
    },
    {
     "name": "stdout",
     "output_type": "stream",
     "text": [
      "Iter 4 - Epoch 0 - Client Type: Benign - Client Number 10 - Poison Training False\n"
     ]
    },
    {
     "name": "stderr",
     "output_type": "stream",
     "text": [
      "100%|████████████████████████████████████████████████████████████████████████████████████| 1/1 [00:00<00:00,  1.96it/s]\n"
     ]
    },
    {
     "name": "stdout",
     "output_type": "stream",
     "text": [
      "Iter 4 - Epoch 0 - Client Type: Benign - Client Number 11 - Poison Training False\n"
     ]
    },
    {
     "name": "stderr",
     "output_type": "stream",
     "text": [
      "100%|████████████████████████████████████████████████████████████████████████████████████| 2/2 [00:01<00:00,  1.44it/s]\n"
     ]
    },
    {
     "name": "stdout",
     "output_type": "stream",
     "text": [
      "Iter 4 - Epoch 0 - Client Type: Benign - Client Number 12 - Poison Training False\n"
     ]
    },
    {
     "name": "stderr",
     "output_type": "stream",
     "text": [
      "100%|████████████████████████████████████████████████████████████████████████████████████| 1/1 [00:00<00:00,  1.55it/s]\n"
     ]
    },
    {
     "name": "stdout",
     "output_type": "stream",
     "text": [
      "Iter 4 - Epoch 0 - Client Type: Benign - Client Number 13 - Poison Training False\n"
     ]
    },
    {
     "name": "stderr",
     "output_type": "stream",
     "text": [
      "100%|████████████████████████████████████████████████████████████████████████████████████| 2/2 [00:01<00:00,  1.06it/s]\n"
     ]
    },
    {
     "name": "stdout",
     "output_type": "stream",
     "text": [
      "Iter 4 - Epoch 0 - Client Type: Benign - Client Number 14 - Poison Training False\n"
     ]
    },
    {
     "name": "stderr",
     "output_type": "stream",
     "text": [
      "100%|████████████████████████████████████████████████████████████████████████████████████| 1/1 [00:00<00:00,  1.24it/s]\n"
     ]
    },
    {
     "name": "stdout",
     "output_type": "stream",
     "text": [
      "Iter 4 - Epoch 0 - Client Type: Benign - Client Number 15 - Poison Training False\n"
     ]
    },
    {
     "name": "stderr",
     "output_type": "stream",
     "text": [
      "100%|████████████████████████████████████████████████████████████████████████████████████| 2/2 [00:01<00:00,  1.61it/s]\n"
     ]
    },
    {
     "name": "stdout",
     "output_type": "stream",
     "text": [
      "Iter 4 - Epoch 0 - Client Type: Benign - Client Number 16 - Poison Training False\n"
     ]
    },
    {
     "name": "stderr",
     "output_type": "stream",
     "text": [
      "100%|████████████████████████████████████████████████████████████████████████████████████| 2/2 [00:01<00:00,  1.61it/s]\n"
     ]
    },
    {
     "name": "stdout",
     "output_type": "stream",
     "text": [
      "Iter 4 - Epoch 0 - Client Type: Benign - Client Number 17 - Poison Training False\n"
     ]
    },
    {
     "name": "stderr",
     "output_type": "stream",
     "text": [
      "100%|████████████████████████████████████████████████████████████████████████████████████| 1/1 [00:00<00:00,  1.55it/s]\n"
     ]
    },
    {
     "name": "stdout",
     "output_type": "stream",
     "text": [
      "Iter 4 - Epoch 0 - Client Type: Benign - Client Number 18 - Poison Training False\n"
     ]
    },
    {
     "name": "stderr",
     "output_type": "stream",
     "text": [
      "100%|████████████████████████████████████████████████████████████████████████████████████| 1/1 [00:00<00:00,  1.58it/s]\n"
     ]
    },
    {
     "name": "stdout",
     "output_type": "stream",
     "text": [
      "Iter 4 - Epoch 0 - Client Type: Benign - Client Number 19 - Poison Training False\n"
     ]
    },
    {
     "name": "stderr",
     "output_type": "stream",
     "text": [
      "100%|████████████████████████████████████████████████████████████████████████████████████| 1/1 [00:00<00:00,  1.21it/s]\n"
     ]
    },
    {
     "name": "stdout",
     "output_type": "stream",
     "text": [
      "Original Copylist [9, 1, 4, 9, 6, 7, 5, 6, 2, 0, 8, 3, 9, 5, 6, 4, 0, 9, 9, 6]\n",
      "Found clusters [0 9 2 0 1 0 4 1 5 3 8 7 0 4 1 2 3 0 0 6]\n",
      "Original groups [array([ 9, 16], dtype=int64), array([1], dtype=int64), array([8], dtype=int64), array([11], dtype=int64), array([ 2, 15], dtype=int64), array([ 6, 13], dtype=int64), array([ 4,  7, 14, 19], dtype=int64), array([5], dtype=int64), array([10], dtype=int64), array([ 0,  3, 12, 17, 18], dtype=int64)]\n",
      "Clustered groups [array([ 0,  3,  5, 12, 17, 18], dtype=int64), array([ 4,  7, 14], dtype=int64), array([ 2, 15], dtype=int64), array([ 9, 16], dtype=int64), array([ 6, 13], dtype=int64), array([8], dtype=int64), array([19], dtype=int64), array([11], dtype=int64), array([10], dtype=int64), array([1], dtype=int64)]\n",
      "Clustering score 0.776536312849162\n",
      "25\n",
      "[[ 1.00000477  0.17465256  0.17126853  0.99092828  0.14377367  0.73978986\n",
      "   0.36342466  0.12437281  0.33495018  0.46299571  0.52014611  0.45971897\n",
      "   0.99109632  0.29969725  0.15953787  0.15020623  0.43690444  0.9907868\n",
      "   0.99443625  0.12590713]\n",
      " [ 0.17465255  1.00000496  0.27611191  0.16406673  0.31573464  0.24066126\n",
      "   0.27278209  0.29757914  0.26742561  0.33368423  0.12657044  0.2262566\n",
      "   0.17314877  0.28595974  0.315199    0.23341997  0.35835517  0.18024596\n",
      "   0.17280976  0.31066332]\n",
      " [ 0.17126853  0.27611191  1.00000637  0.15569824  0.26297369  0.26110316\n",
      "   0.48966761  0.25081283  0.16921852  0.06413421  0.01001193  0.45570655\n",
      "   0.15670469  0.54704499  0.23828787  0.9177696   0.05234684  0.16616921\n",
      "   0.15595703  0.18650615]\n",
      " [ 0.9909283   0.16406674  0.15569824  1.00000648  0.13636224  0.73580924\n",
      "   0.34544921  0.12023328  0.33344428  0.45695886  0.51262795  0.46030706\n",
      "   0.99075774  0.28466667  0.15219417  0.13526335  0.42959904  0.9916438\n",
      "   0.99072765  0.11496238]\n",
      " [ 0.14377367  0.31573462  0.2629737   0.13636224  1.00000553  0.25640849\n",
      "   0.42178289  0.97985579 -0.03466016  0.41021004 -0.0062904   0.17127225\n",
      "   0.13857472  0.45701878  0.96824607  0.21791521  0.40416514  0.14216788\n",
      "   0.14360149  0.77503938]\n",
      " [ 0.73978989  0.24066127  0.26110317  0.73580925  0.25640849  1.0000047\n",
      "   0.53876082  0.23542153  0.36876054  0.6667133   0.64470127  0.56811349\n",
      "   0.73134949  0.48784556  0.28168965  0.18013146  0.62655162  0.74546472\n",
      "   0.73296139  0.24432977]\n",
      " [ 0.36342466  0.27278208  0.48966762  0.3454492   0.42178289  0.53876082\n",
      "   1.000003    0.40332356  0.31515074  0.45821862  0.2849176   0.3641714\n",
      "   0.34054489  0.88564178  0.43767366  0.38226692  0.43618387  0.36018069\n",
      "   0.34384896  0.45013201]\n",
      " [ 0.12437281  0.29757915  0.25081283  0.12023328  0.97985578  0.23542153\n",
      "   0.40332356  1.00000665 -0.02868396  0.3980201  -0.00342415  0.1566331\n",
      "   0.12329211  0.43657041  0.9417327   0.21132245  0.38827345  0.12646485\n",
      "   0.12635204  0.73550376]\n",
      " [ 0.33495017  0.26742563  0.16921852  0.33344427 -0.03466016  0.36876054\n",
      "   0.31515075 -0.02868396  1.00000508  0.38033568  0.2703915   0.10860808\n",
      "   0.32745593  0.28732218 -0.0351402   0.1395856   0.37301557  0.34730736\n",
      "   0.332237   -0.02813555]\n",
      " [ 0.46299571  0.33368424  0.06413421  0.45695886  0.41021004  0.6667133\n",
      "   0.45821862  0.39802011  0.38033568  1.00000448  0.56110666  0.37230502\n",
      "   0.45549637  0.42561019  0.41257412  0.02950777  0.96396385  0.46855522\n",
      "   0.46156254  0.3919158 ]\n",
      " [ 0.52014611  0.12657044  0.01001193  0.51262795 -0.0062904   0.64470125\n",
      "   0.2849176  -0.00342415  0.2703915   0.56110665  1.00000839  0.30930749\n",
      "   0.52177209  0.25352539  0.0183733  -0.0077917   0.52933127  0.52148077\n",
      "   0.51196835  0.04156973]\n",
      " [ 0.45971899  0.22625659  0.45570654  0.46030709  0.17127225  0.56811349\n",
      "   0.3641714   0.1566331   0.10860808  0.37230502  0.3093075   1.00000627\n",
      "   0.45654418  0.37954452  0.15494286  0.41022178  0.38860375  0.46280541\n",
      "   0.45908549  0.12587691]\n",
      " [ 0.99109632  0.17314877  0.15670469  0.99075773  0.13857472  0.7313495\n",
      "   0.3405449   0.1232921   0.32745594  0.45549635  0.52177209  0.45654418\n",
      "   1.00000576  0.28301453  0.15707742  0.13500674  0.42905435  0.98893398\n",
      "   0.99331887  0.11839139]\n",
      " [ 0.29969725  0.28595973  0.547045    0.28466668  0.45701878  0.48784556\n",
      "   0.88564181  0.4365704   0.28732218  0.42561019  0.25352539  0.37954454\n",
      "   0.28301452  1.00000496  0.44954071  0.42998908  0.39664697  0.30073303\n",
      "   0.28240519  0.36464927]\n",
      " [ 0.15953788  0.315199    0.23828786  0.15219417  0.96824608  0.28168965\n",
      "   0.43767368  0.94173269 -0.03514021  0.41257412  0.0183733   0.15494285\n",
      "   0.15707742  0.44954071  1.00000546  0.18478189  0.4136191   0.15888617\n",
      "   0.16004019  0.8513118 ]\n",
      " [ 0.15020622  0.23341998  0.91776962  0.13526335  0.2179152   0.18013146\n",
      "   0.38226694  0.21132245  0.13958561  0.02950777 -0.00779171  0.4102218\n",
      "   0.13500674  0.42998908  0.18478189  1.00000875  0.0215403   0.14382007\n",
      "   0.13613663  0.14293632]\n",
      " [ 0.43690443  0.35835517  0.05234685  0.42959905  0.40416514  0.6265516\n",
      "   0.43618387  0.38827345  0.37301556  0.96396382  0.52933127  0.38860374\n",
      "   0.42905435  0.39664698  0.41361909  0.0215403   1.00000436  0.4389706\n",
      "   0.43841384  0.39803669]\n",
      " [ 0.99078681  0.18024596  0.16616921  0.99164381  0.14216789  0.74546474\n",
      "   0.36018068  0.12646485  0.34730734  0.46855525  0.52148078  0.46280541\n",
      "   0.98893397  0.30073304  0.15888618  0.14382007  0.4389706   1.00000606\n",
      "   0.98930526  0.12213813]\n",
      " [ 0.99443623  0.17280976  0.15595703  0.99072763  0.14360149  0.73296138\n",
      "   0.34384896  0.12635204  0.33223699  0.46156253  0.51196835  0.45908549\n",
      "   0.99331888  0.28240519  0.16004019  0.13613663  0.43841384  0.98930528\n",
      "   1.00000505  0.12504817]\n",
      " [ 0.12590712  0.31066332  0.18650614  0.11496239  0.77503935  0.24432978\n",
      "   0.45013199  0.73550375 -0.02813555  0.39191579  0.04156973  0.12587691\n",
      "   0.11839139  0.36464928  0.8513118   0.14293633  0.39803669  0.12213813\n",
      "   0.12504817  1.00000575]]\n",
      "Original Copylist [9, 1, 4, 9, 6, 7, 5, 6, 2, 0, 8, 3, 9, 5, 6, 4, 0, 9, 9, 6]\n",
      "Found clusters [3 9 2 3 0 4 1 0 5 6 8 7 3 1 0 2 6 3 3 0]\n",
      "Original groups [array([ 9, 16], dtype=int64), array([1], dtype=int64), array([8], dtype=int64), array([11], dtype=int64), array([ 2, 15], dtype=int64), array([ 6, 13], dtype=int64), array([ 4,  7, 14, 19], dtype=int64), array([5], dtype=int64), array([10], dtype=int64), array([ 0,  3, 12, 17, 18], dtype=int64)]\n",
      "Clustered groups [array([ 4,  7, 14, 19], dtype=int64), array([ 6, 13], dtype=int64), array([ 2, 15], dtype=int64), array([ 0,  3, 12, 17, 18], dtype=int64), array([5], dtype=int64), array([8], dtype=int64), array([ 9, 16], dtype=int64), array([11], dtype=int64), array([10], dtype=int64), array([1], dtype=int64)]\n",
      "Clustering score 1.0\n",
      "Benign net distance [tensor(45.5131), tensor(61.2293), tensor(77.4520), tensor(44.8479), tensor(26.5216), tensor(41.7544), tensor(55.5821), tensor(30.2339), tensor(69.5558), tensor(48.5542), tensor(41.1471), tensor(61.7084), tensor(44.8682), tensor(63.0184), tensor(20.9437), tensor(86.0832), tensor(48.3404), tensor(44.8152), tensor(45.5479), tensor(0.)]\n",
      "Malicious net distance []\n",
      "cos_sim list  [tensor(0.1685), tensor(0.3824), tensor(0.1355), tensor(0.1515), tensor(0.1047), tensor(0.2124), tensor(0.4377), tensor(0.0362), tensor(0.1490), tensor(0.4056), tensor(0.3195), tensor(0.1448), tensor(0.1616), tensor(0.1507), tensor(0.3811), tensor(0.1345), tensor(0.4295), tensor(0.1720), tensor(0.1683), tensor(1.0000)]\n",
      "Norms of local gradients  [tensor(0.4612), tensor(0.7008), tensor(0.8353), tensor(0.4555), tensor(0.4202), tensor(0.4138), tensor(0.6014), tensor(0.4357), tensor(0.7574), tensor(0.5070), tensor(0.4642), tensor(0.6371), tensor(0.4551), tensor(0.6782), tensor(0.3636), tensor(0.9466), tensor(0.5175), tensor(0.4558), tensor(0.4593), tensor(0.3619)]\n",
      "\n",
      " Aggregating models\n",
      "Cosine Similarities:  [tensor(0.1685), tensor(0.3824), tensor(0.1355), tensor(0.1515), tensor(0.1047), tensor(0.2124), tensor(0.4377), tensor(0.0362), tensor(0.1490), tensor(0.4056), tensor(0.3195), tensor(0.1448), tensor(0.1616), tensor(0.1507), tensor(0.3811), tensor(0.1345), tensor(0.4295), tensor(0.1720), tensor(0.1683), tensor(1.0000)]\n",
      "Aggregation Weights:  [0.02520018 0.03764874 0.01118981 0.02294507 0.01718526 0.03541103\n",
      " 0.05021797 0.00573474 0.01357285 0.05518515 0.04747964 0.01568224\n",
      " 0.0245031  0.01533261 0.07231063 0.00980487 0.05726552 0.02603319\n",
      " 0.02528317 0.19064344]\n",
      "\n",
      "\n",
      "\n",
      "Aggregate test at iter  4\n"
     ]
    },
    {
     "name": "stderr",
     "output_type": "stream",
     "text": [
      "100%|██████████████████████████████████████████████████████████████████████████████████| 10/10 [00:02<00:00,  4.64it/s]\n"
     ]
    },
    {
     "name": "stdout",
     "output_type": "stream",
     "text": [
      "\n",
      "Test set: Avg. loss: 0.0011, Accuracy: 5992/10000 (60%)\n",
      "\n",
      "\n",
      "\n",
      " Entering epoch 0\n",
      "Iter 5 - Epoch 0 - Client Type: Benign - Client Number 0 - Poison Training False\n"
     ]
    },
    {
     "name": "stderr",
     "output_type": "stream",
     "text": [
      "100%|████████████████████████████████████████████████████████████████████████████████████| 1/1 [00:00<00:00,  1.45it/s]\n"
     ]
    },
    {
     "name": "stdout",
     "output_type": "stream",
     "text": [
      "Iter 5 - Epoch 0 - Client Type: Benign - Client Number 1 - Poison Training False\n"
     ]
    },
    {
     "name": "stderr",
     "output_type": "stream",
     "text": [
      "100%|████████████████████████████████████████████████████████████████████████████████████| 2/2 [00:02<00:00,  1.04s/it]\n"
     ]
    },
    {
     "name": "stdout",
     "output_type": "stream",
     "text": [
      "Iter 5 - Epoch 0 - Client Type: Benign - Client Number 2 - Poison Training False\n"
     ]
    },
    {
     "name": "stderr",
     "output_type": "stream",
     "text": [
      "100%|████████████████████████████████████████████████████████████████████████████████████| 2/2 [00:01<00:00,  1.44it/s]\n"
     ]
    },
    {
     "name": "stdout",
     "output_type": "stream",
     "text": [
      "Iter 5 - Epoch 0 - Client Type: Benign - Client Number 3 - Poison Training False\n"
     ]
    },
    {
     "name": "stderr",
     "output_type": "stream",
     "text": [
      "100%|████████████████████████████████████████████████████████████████████████████████████| 1/1 [00:00<00:00,  1.30it/s]\n"
     ]
    },
    {
     "name": "stdout",
     "output_type": "stream",
     "text": [
      "Iter 5 - Epoch 0 - Client Type: Benign - Client Number 4 - Poison Training False\n"
     ]
    },
    {
     "name": "stderr",
     "output_type": "stream",
     "text": [
      "100%|████████████████████████████████████████████████████████████████████████████████████| 1/1 [00:01<00:00,  1.00s/it]\n"
     ]
    },
    {
     "name": "stdout",
     "output_type": "stream",
     "text": [
      "Iter 5 - Epoch 0 - Client Type: Benign - Client Number 5 - Poison Training False\n"
     ]
    },
    {
     "name": "stderr",
     "output_type": "stream",
     "text": [
      "100%|████████████████████████████████████████████████████████████████████████████████████| 1/1 [00:00<00:00,  1.00it/s]\n"
     ]
    },
    {
     "name": "stdout",
     "output_type": "stream",
     "text": [
      "Iter 5 - Epoch 0 - Client Type: Benign - Client Number 6 - Poison Training False\n"
     ]
    },
    {
     "name": "stderr",
     "output_type": "stream",
     "text": [
      "100%|████████████████████████████████████████████████████████████████████████████████████| 2/2 [00:02<00:00,  1.12s/it]\n"
     ]
    },
    {
     "name": "stdout",
     "output_type": "stream",
     "text": [
      "Iter 5 - Epoch 0 - Client Type: Benign - Client Number 7 - Poison Training False\n"
     ]
    },
    {
     "name": "stderr",
     "output_type": "stream",
     "text": [
      "100%|████████████████████████████████████████████████████████████████████████████████████| 1/1 [00:00<00:00,  1.07it/s]\n"
     ]
    },
    {
     "name": "stdout",
     "output_type": "stream",
     "text": [
      "Iter 5 - Epoch 0 - Client Type: Benign - Client Number 8 - Poison Training False\n"
     ]
    },
    {
     "name": "stderr",
     "output_type": "stream",
     "text": [
      "100%|████████████████████████████████████████████████████████████████████████████████████| 1/1 [00:00<00:00,  1.13it/s]\n"
     ]
    },
    {
     "name": "stdout",
     "output_type": "stream",
     "text": [
      "Iter 5 - Epoch 0 - Client Type: Benign - Client Number 9 - Poison Training False\n"
     ]
    },
    {
     "name": "stderr",
     "output_type": "stream",
     "text": [
      "100%|████████████████████████████████████████████████████████████████████████████████████| 2/2 [00:01<00:00,  1.61it/s]\n"
     ]
    },
    {
     "name": "stdout",
     "output_type": "stream",
     "text": [
      "Iter 5 - Epoch 0 - Client Type: Benign - Client Number 10 - Poison Training False\n"
     ]
    },
    {
     "name": "stderr",
     "output_type": "stream",
     "text": [
      "100%|████████████████████████████████████████████████████████████████████████████████████| 1/1 [00:00<00:00,  1.94it/s]\n"
     ]
    },
    {
     "name": "stdout",
     "output_type": "stream",
     "text": [
      "Iter 5 - Epoch 0 - Client Type: Benign - Client Number 11 - Poison Training False\n"
     ]
    },
    {
     "name": "stderr",
     "output_type": "stream",
     "text": [
      "100%|████████████████████████████████████████████████████████████████████████████████████| 2/2 [00:01<00:00,  1.43it/s]\n"
     ]
    },
    {
     "name": "stdout",
     "output_type": "stream",
     "text": [
      "Iter 5 - Epoch 0 - Client Type: Benign - Client Number 12 - Poison Training False\n"
     ]
    },
    {
     "name": "stderr",
     "output_type": "stream",
     "text": [
      "100%|████████████████████████████████████████████████████████████████████████████████████| 1/1 [00:00<00:00,  1.59it/s]\n"
     ]
    },
    {
     "name": "stdout",
     "output_type": "stream",
     "text": [
      "Iter 5 - Epoch 0 - Client Type: Benign - Client Number 13 - Poison Training False\n"
     ]
    },
    {
     "name": "stderr",
     "output_type": "stream",
     "text": [
      "100%|████████████████████████████████████████████████████████████████████████████████████| 2/2 [00:01<00:00,  1.06it/s]\n"
     ]
    },
    {
     "name": "stdout",
     "output_type": "stream",
     "text": [
      "Iter 5 - Epoch 0 - Client Type: Benign - Client Number 14 - Poison Training False\n"
     ]
    },
    {
     "name": "stderr",
     "output_type": "stream",
     "text": [
      "100%|████████████████████████████████████████████████████████████████████████████████████| 1/1 [00:00<00:00,  1.23it/s]\n"
     ]
    },
    {
     "name": "stdout",
     "output_type": "stream",
     "text": [
      "Iter 5 - Epoch 0 - Client Type: Benign - Client Number 15 - Poison Training False\n"
     ]
    },
    {
     "name": "stderr",
     "output_type": "stream",
     "text": [
      "100%|████████████████████████████████████████████████████████████████████████████████████| 2/2 [00:01<00:00,  1.36it/s]\n"
     ]
    },
    {
     "name": "stdout",
     "output_type": "stream",
     "text": [
      "Iter 5 - Epoch 0 - Client Type: Benign - Client Number 16 - Poison Training False\n"
     ]
    },
    {
     "name": "stderr",
     "output_type": "stream",
     "text": [
      "100%|████████████████████████████████████████████████████████████████████████████████████| 2/2 [00:01<00:00,  1.53it/s]\n"
     ]
    },
    {
     "name": "stdout",
     "output_type": "stream",
     "text": [
      "Iter 5 - Epoch 0 - Client Type: Benign - Client Number 17 - Poison Training False\n"
     ]
    },
    {
     "name": "stderr",
     "output_type": "stream",
     "text": [
      "100%|████████████████████████████████████████████████████████████████████████████████████| 1/1 [00:00<00:00,  1.54it/s]\n"
     ]
    },
    {
     "name": "stdout",
     "output_type": "stream",
     "text": [
      "Iter 5 - Epoch 0 - Client Type: Benign - Client Number 18 - Poison Training False\n"
     ]
    },
    {
     "name": "stderr",
     "output_type": "stream",
     "text": [
      "100%|████████████████████████████████████████████████████████████████████████████████████| 1/1 [00:00<00:00,  1.47it/s]\n"
     ]
    },
    {
     "name": "stdout",
     "output_type": "stream",
     "text": [
      "Iter 5 - Epoch 0 - Client Type: Benign - Client Number 19 - Poison Training False\n"
     ]
    },
    {
     "name": "stderr",
     "output_type": "stream",
     "text": [
      "100%|████████████████████████████████████████████████████████████████████████████████████| 1/1 [00:00<00:00,  1.10it/s]\n"
     ]
    },
    {
     "name": "stdout",
     "output_type": "stream",
     "text": [
      "Original Copylist [9, 1, 4, 9, 6, 7, 5, 6, 2, 0, 8, 3, 9, 5, 6, 4, 0, 9, 9, 6]\n",
      "Found clusters [6 9 5 6 0 4 1 0 7 2 8 3 6 1 0 5 2 6 6 0]\n",
      "Original groups [array([ 9, 16], dtype=int64), array([1], dtype=int64), array([8], dtype=int64), array([11], dtype=int64), array([ 2, 15], dtype=int64), array([ 6, 13], dtype=int64), array([ 4,  7, 14, 19], dtype=int64), array([5], dtype=int64), array([10], dtype=int64), array([ 0,  3, 12, 17, 18], dtype=int64)]\n",
      "Clustered groups [array([ 4,  7, 14, 19], dtype=int64), array([ 6, 13], dtype=int64), array([ 9, 16], dtype=int64), array([11], dtype=int64), array([5], dtype=int64), array([ 2, 15], dtype=int64), array([ 0,  3, 12, 17, 18], dtype=int64), array([8], dtype=int64), array([10], dtype=int64), array([1], dtype=int64)]\n",
      "Clustering score 1.0\n",
      "26\n",
      "[[ 1.00000408  0.16785045  0.15421414  0.99094056  0.18287069  0.7441571\n",
      "   0.27557277  0.16622328  0.32777346  0.43430365  0.52077554  0.45879056\n",
      "   0.99099625  0.21864692  0.19077152  0.14180471  0.45256007  0.99075978\n",
      "   0.9943908   0.12889184]\n",
      " [ 0.16785045  1.00000615  0.27470942  0.15817875  0.310323    0.24326726\n",
      "   0.29147153  0.29250324  0.26830905  0.3436357   0.13344377  0.22213354\n",
      "   0.16576077  0.30176961  0.31040087  0.2388588   0.34411897  0.17515786\n",
      "   0.16731134  0.3143285 ]\n",
      " [ 0.15421414  0.27470942  1.00000722  0.14002846  0.24550579  0.22733998\n",
      "   0.46588002  0.23518594  0.13204499  0.05429135  0.00447706  0.4204641\n",
      "   0.14001809  0.52780383  0.22321212  0.92293495  0.05866249  0.1490037\n",
      "   0.1399705   0.1656864 ]\n",
      " [ 0.99094058  0.15817875  0.14002846  1.0000057   0.17805776  0.74026194\n",
      "   0.26225831  0.1649974   0.32549703  0.42865867  0.51391708  0.45963447\n",
      "   0.99079689  0.20859595  0.18557605  0.12800976  0.44533955  0.99161527\n",
      "   0.99072973  0.11945531]\n",
      " [ 0.18287069  0.31032298  0.2455058   0.17805776  1.00000551  0.28283583\n",
      "   0.39409304  0.97961702 -0.06714071  0.37730657  0.00892643  0.23344936\n",
      "   0.17799515  0.41519852  0.96618448  0.23482854  0.41040755  0.18153304\n",
      "   0.18260439  0.76289323]\n",
      " [ 0.74415714  0.24326727  0.22733999  0.74026194  0.28283582  1.00000415\n",
      "   0.46837133  0.26378486  0.35741487  0.63452902  0.64637225  0.57512914\n",
      "   0.73544892  0.41725533  0.2944152   0.16686495  0.64723119  0.74986789\n",
      "   0.73746651  0.23619881]\n",
      " [ 0.27557276  0.29147152  0.46588002  0.2622583   0.39409304  0.46837133\n",
      "   1.00000348  0.37498497  0.2347531   0.43535084  0.21734781  0.40291378\n",
      "   0.25336208  0.88441708  0.39634064  0.38559793  0.42472562  0.27446934\n",
      "   0.2579153   0.41165451]\n",
      " [ 0.16622328  0.29250325  0.23518594  0.1649974   0.97961704  0.26378487\n",
      "   0.37498497  1.00000536 -0.0633179   0.36292195  0.01289424  0.22487839\n",
      "   0.16558977  0.39467303  0.93758042  0.23079807  0.39452858  0.16868169\n",
      "   0.16825749  0.71923872]\n",
      " [ 0.32777346  0.26830906  0.13204499  0.32549701 -0.06714071  0.35741485\n",
      "   0.23475311 -0.0633179   1.00000544  0.36823452  0.26675629  0.09993944\n",
      "   0.31938012  0.20063246 -0.0691681   0.10682573  0.37483982  0.33959459\n",
      "   0.32442295 -0.05714411]\n",
      " [ 0.43430365  0.34363571  0.05429135  0.42865867  0.37730658  0.63452901\n",
      "   0.43535084  0.36292197  0.36823451  1.00000498  0.53572479  0.38280183\n",
      "   0.42593664  0.40205415  0.37097264  0.02926804  0.96250634  0.44024392\n",
      "   0.43368939  0.36084554]\n",
      " [ 0.52077554  0.13344377  0.00447707  0.51391708  0.00892644  0.64637222\n",
      "   0.21734781  0.01289424  0.26675629  0.53572479  1.00000753  0.31838835\n",
      "   0.52223458  0.19217099  0.02120015 -0.00204147  0.55235105  0.52292702\n",
      "   0.51313086  0.03347088]\n",
      " [ 0.45879058  0.22213353  0.4204641   0.4596345   0.23344937  0.57512914\n",
      "   0.40291379  0.22487839  0.09993944  0.38280183  0.31838835  1.00000432\n",
      "   0.4557537   0.41828247  0.20057943  0.38946815  0.41452816  0.46184059\n",
      "   0.45933424  0.14623658]\n",
      " [ 0.99099625  0.16576076  0.14001809  0.99079688  0.17799515  0.73544891\n",
      "   0.25336209  0.16558977  0.31938012  0.42593662  0.52223458  0.45575369\n",
      "   1.00000581  0.20264221  0.18853089  0.1270977   0.44416901  0.98889967\n",
      "   0.99321803  0.12122444]\n",
      " [ 0.21864692  0.3017696   0.52780384  0.20859595  0.41519852  0.41725533\n",
      "   0.88441709  0.39467302  0.20063246  0.40205415  0.19217099  0.41828248\n",
      "   0.2026422   1.00000527  0.39303995  0.43714455  0.37972631  0.22182624\n",
      "   0.20359737  0.31012347]\n",
      " [ 0.19077152  0.31040087  0.22321213  0.18557606  0.9661845   0.2944152\n",
      "   0.39634064  0.93758043 -0.06916811  0.37097265  0.02120016  0.20057943\n",
      "   0.18853089  0.39303995  1.00000467  0.20357131  0.41009651  0.19017653\n",
      "   0.19083056  0.84621932]\n",
      " [ 0.14180471  0.2388588   0.92293495  0.12800976  0.23482853  0.16686495\n",
      "   0.38559794  0.23079809  0.10682573  0.02926803 -0.00204148  0.38946817\n",
      "   0.1270977   0.43714456  0.20357132  1.00000877  0.03700161  0.13538682\n",
      "   0.12841867  0.15438404]\n",
      " [ 0.45256006  0.34411897  0.0586625   0.44533956  0.41040755  0.64723117\n",
      "   0.42472562  0.39452859  0.37483981  0.96250632  0.55235103  0.41452814\n",
      "   0.44416902  0.37972632  0.4100965   0.0370016   1.00000343  0.45477473\n",
      "   0.4544561   0.39717893]\n",
      " [ 0.9907598   0.17515785  0.1490037   0.99161526  0.18153305  0.74986792\n",
      "   0.27446934  0.16868169  0.33959458  0.44024395  0.52292702  0.46184058\n",
      "   0.98889966  0.22182624  0.19017653  0.13538682  0.45477472  1.00000548\n",
      "   0.98930528  0.12504915]\n",
      " [ 0.99439076  0.16731134  0.1399705   0.99072969  0.18260439  0.73746653\n",
      "   0.25791531  0.16825748  0.32442294  0.43368937  0.51313087  0.45933424\n",
      "   0.99321804  0.20359737  0.19083056  0.12841866  0.4544561   0.98930531\n",
      "   1.00000339  0.12747172]\n",
      " [ 0.12889183  0.3143285   0.1656864   0.11945531  0.76289321  0.23619881\n",
      "   0.4116545   0.71923871 -0.05714411  0.36084554  0.03347089  0.14623658\n",
      "   0.12122444  0.31012348  0.84621931  0.15438404  0.39717893  0.12504915\n",
      "   0.12747172  1.00000594]]\n",
      "Original Copylist [9, 1, 4, 9, 6, 7, 5, 6, 2, 0, 8, 3, 9, 5, 6, 4, 0, 9, 9, 6]\n",
      "Found clusters [0 9 2 0 6 0 1 6 5 3 8 7 0 1 6 2 3 0 0 4]\n",
      "Original groups [array([ 9, 16], dtype=int64), array([1], dtype=int64), array([8], dtype=int64), array([11], dtype=int64), array([ 2, 15], dtype=int64), array([ 6, 13], dtype=int64), array([ 4,  7, 14, 19], dtype=int64), array([5], dtype=int64), array([10], dtype=int64), array([ 0,  3, 12, 17, 18], dtype=int64)]\n",
      "Clustered groups [array([ 0,  3,  5, 12, 17, 18], dtype=int64), array([ 6, 13], dtype=int64), array([ 2, 15], dtype=int64), array([ 9, 16], dtype=int64), array([19], dtype=int64), array([8], dtype=int64), array([ 4,  7, 14], dtype=int64), array([11], dtype=int64), array([10], dtype=int64), array([1], dtype=int64)]\n",
      "Clustering score 0.776536312849162\n",
      "\n",
      "\n",
      " Entering epoch 1\n",
      "Iter 5 - Epoch 0 - Client Type: Benign - Client Number 0 - Poison Training False\n"
     ]
    },
    {
     "name": "stderr",
     "output_type": "stream",
     "text": [
      "100%|████████████████████████████████████████████████████████████████████████████████████| 1/1 [00:00<00:00,  1.31it/s]\n"
     ]
    },
    {
     "name": "stdout",
     "output_type": "stream",
     "text": [
      "Iter 5 - Epoch 0 - Client Type: Benign - Client Number 1 - Poison Training False\n"
     ]
    },
    {
     "name": "stderr",
     "output_type": "stream",
     "text": [
      "100%|████████████████████████████████████████████████████████████████████████████████████| 2/2 [00:02<00:00,  1.05s/it]\n"
     ]
    },
    {
     "name": "stdout",
     "output_type": "stream",
     "text": [
      "Iter 5 - Epoch 0 - Client Type: Benign - Client Number 2 - Poison Training False\n"
     ]
    },
    {
     "name": "stderr",
     "output_type": "stream",
     "text": [
      "100%|████████████████████████████████████████████████████████████████████████████████████| 2/2 [00:01<00:00,  1.29it/s]\n"
     ]
    },
    {
     "name": "stdout",
     "output_type": "stream",
     "text": [
      "Iter 5 - Epoch 0 - Client Type: Benign - Client Number 3 - Poison Training False\n"
     ]
    },
    {
     "name": "stderr",
     "output_type": "stream",
     "text": [
      "100%|████████████████████████████████████████████████████████████████████████████████████| 1/1 [00:00<00:00,  1.25it/s]\n"
     ]
    },
    {
     "name": "stdout",
     "output_type": "stream",
     "text": [
      "Iter 5 - Epoch 0 - Client Type: Benign - Client Number 4 - Poison Training False\n"
     ]
    },
    {
     "name": "stderr",
     "output_type": "stream",
     "text": [
      "100%|████████████████████████████████████████████████████████████████████████████████████| 1/1 [00:01<00:00,  1.09s/it]\n"
     ]
    },
    {
     "name": "stdout",
     "output_type": "stream",
     "text": [
      "Iter 5 - Epoch 0 - Client Type: Benign - Client Number 5 - Poison Training False\n"
     ]
    },
    {
     "name": "stderr",
     "output_type": "stream",
     "text": [
      "100%|████████████████████████████████████████████████████████████████████████████████████| 1/1 [00:01<00:00,  1.17s/it]\n"
     ]
    },
    {
     "name": "stdout",
     "output_type": "stream",
     "text": [
      "Iter 5 - Epoch 0 - Client Type: Benign - Client Number 6 - Poison Training False\n"
     ]
    },
    {
     "name": "stderr",
     "output_type": "stream",
     "text": [
      "100%|████████████████████████████████████████████████████████████████████████████████████| 2/2 [00:02<00:00,  1.13s/it]\n"
     ]
    },
    {
     "name": "stdout",
     "output_type": "stream",
     "text": [
      "Iter 5 - Epoch 0 - Client Type: Benign - Client Number 7 - Poison Training False\n"
     ]
    },
    {
     "name": "stderr",
     "output_type": "stream",
     "text": [
      "100%|████████████████████████████████████████████████████████████████████████████████████| 1/1 [00:00<00:00,  1.08it/s]\n"
     ]
    },
    {
     "name": "stdout",
     "output_type": "stream",
     "text": [
      "Iter 5 - Epoch 0 - Client Type: Benign - Client Number 8 - Poison Training False\n"
     ]
    },
    {
     "name": "stderr",
     "output_type": "stream",
     "text": [
      "100%|████████████████████████████████████████████████████████████████████████████████████| 1/1 [00:00<00:00,  1.05it/s]\n"
     ]
    },
    {
     "name": "stdout",
     "output_type": "stream",
     "text": [
      "Iter 5 - Epoch 0 - Client Type: Benign - Client Number 9 - Poison Training False\n"
     ]
    },
    {
     "name": "stderr",
     "output_type": "stream",
     "text": [
      "100%|████████████████████████████████████████████████████████████████████████████████████| 2/2 [00:01<00:00,  1.34it/s]\n"
     ]
    },
    {
     "name": "stdout",
     "output_type": "stream",
     "text": [
      "Iter 5 - Epoch 0 - Client Type: Benign - Client Number 10 - Poison Training False\n"
     ]
    },
    {
     "name": "stderr",
     "output_type": "stream",
     "text": [
      "100%|████████████████████████████████████████████████████████████████████████████████████| 1/1 [00:00<00:00,  1.74it/s]\n"
     ]
    },
    {
     "name": "stdout",
     "output_type": "stream",
     "text": [
      "Iter 5 - Epoch 0 - Client Type: Benign - Client Number 11 - Poison Training False\n"
     ]
    },
    {
     "name": "stderr",
     "output_type": "stream",
     "text": [
      "100%|████████████████████████████████████████████████████████████████████████████████████| 2/2 [00:01<00:00,  1.34it/s]\n"
     ]
    },
    {
     "name": "stdout",
     "output_type": "stream",
     "text": [
      "Iter 5 - Epoch 0 - Client Type: Benign - Client Number 12 - Poison Training False\n"
     ]
    },
    {
     "name": "stderr",
     "output_type": "stream",
     "text": [
      "100%|████████████████████████████████████████████████████████████████████████████████████| 1/1 [00:00<00:00,  1.23it/s]\n"
     ]
    },
    {
     "name": "stdout",
     "output_type": "stream",
     "text": [
      "Iter 5 - Epoch 0 - Client Type: Benign - Client Number 13 - Poison Training False\n"
     ]
    },
    {
     "name": "stderr",
     "output_type": "stream",
     "text": [
      "100%|████████████████████████████████████████████████████████████████████████████████████| 2/2 [00:02<00:00,  1.03s/it]\n"
     ]
    },
    {
     "name": "stdout",
     "output_type": "stream",
     "text": [
      "Iter 5 - Epoch 0 - Client Type: Benign - Client Number 14 - Poison Training False\n"
     ]
    },
    {
     "name": "stderr",
     "output_type": "stream",
     "text": [
      "100%|████████████████████████████████████████████████████████████████████████████████████| 1/1 [00:00<00:00,  1.25it/s]\n"
     ]
    },
    {
     "name": "stdout",
     "output_type": "stream",
     "text": [
      "Iter 5 - Epoch 0 - Client Type: Benign - Client Number 15 - Poison Training False\n"
     ]
    },
    {
     "name": "stderr",
     "output_type": "stream",
     "text": [
      "100%|████████████████████████████████████████████████████████████████████████████████████| 2/2 [00:01<00:00,  1.49it/s]\n"
     ]
    },
    {
     "name": "stdout",
     "output_type": "stream",
     "text": [
      "Iter 5 - Epoch 0 - Client Type: Benign - Client Number 16 - Poison Training False\n"
     ]
    },
    {
     "name": "stderr",
     "output_type": "stream",
     "text": [
      "100%|████████████████████████████████████████████████████████████████████████████████████| 2/2 [00:01<00:00,  1.57it/s]\n"
     ]
    },
    {
     "name": "stdout",
     "output_type": "stream",
     "text": [
      "Iter 5 - Epoch 0 - Client Type: Benign - Client Number 17 - Poison Training False\n"
     ]
    },
    {
     "name": "stderr",
     "output_type": "stream",
     "text": [
      "100%|████████████████████████████████████████████████████████████████████████████████████| 1/1 [00:00<00:00,  1.52it/s]\n"
     ]
    },
    {
     "name": "stdout",
     "output_type": "stream",
     "text": [
      "Iter 5 - Epoch 0 - Client Type: Benign - Client Number 18 - Poison Training False\n"
     ]
    },
    {
     "name": "stderr",
     "output_type": "stream",
     "text": [
      "100%|████████████████████████████████████████████████████████████████████████████████████| 1/1 [00:00<00:00,  1.52it/s]\n"
     ]
    },
    {
     "name": "stdout",
     "output_type": "stream",
     "text": [
      "Iter 5 - Epoch 0 - Client Type: Benign - Client Number 19 - Poison Training False\n"
     ]
    },
    {
     "name": "stderr",
     "output_type": "stream",
     "text": [
      "100%|████████████████████████████████████████████████████████████████████████████████████| 1/1 [00:00<00:00,  1.12it/s]\n"
     ]
    },
    {
     "name": "stdout",
     "output_type": "stream",
     "text": [
      "Original Copylist [9, 1, 4, 9, 6, 7, 5, 6, 2, 0, 8, 3, 9, 5, 6, 4, 0, 9, 9, 6]\n",
      "Found clusters [5 9 3 5 2 0 1 2 7 0 4 6 5 1 2 3 0 5 5 8]\n",
      "Original groups [array([ 9, 16], dtype=int64), array([1], dtype=int64), array([8], dtype=int64), array([11], dtype=int64), array([ 2, 15], dtype=int64), array([ 6, 13], dtype=int64), array([ 4,  7, 14, 19], dtype=int64), array([5], dtype=int64), array([10], dtype=int64), array([ 0,  3, 12, 17, 18], dtype=int64)]\n",
      "Clustered groups [array([ 5,  9, 16], dtype=int64), array([ 6, 13], dtype=int64), array([ 4,  7, 14], dtype=int64), array([ 2, 15], dtype=int64), array([10], dtype=int64), array([ 0,  3, 12, 17, 18], dtype=int64), array([11], dtype=int64), array([8], dtype=int64), array([19], dtype=int64), array([1], dtype=int64)]\n",
      "Clustering score 0.8502994011976048\n",
      "27\n",
      "[[ 1.00000453  0.19791034  0.18455286  0.99115387  0.14181473  0.70251628\n",
      "   0.22839438  0.12911762  0.30307695  0.43878965  0.53308443  0.45413072\n",
      "   0.99092826  0.20891941  0.13052101  0.18143368  0.43355287  0.99058499\n",
      "   0.99431584  0.08756895]\n",
      " [ 0.19791034  1.00000532  0.27363515  0.19013041  0.28423431  0.25402334\n",
      "   0.28114531  0.26877661  0.25757219  0.32528964  0.15556553  0.22805548\n",
      "   0.19653992  0.28120057  0.28443195  0.2469501   0.318094    0.20491897\n",
      "   0.19689414  0.29650097]\n",
      " [ 0.18455286  0.27363515  1.00000768  0.17168275  0.21498487  0.18016005\n",
      "   0.43764321  0.21152766  0.09755224  0.04576867  0.03316613  0.38203912\n",
      "   0.17309231  0.48613275  0.17536063  0.93565747  0.03672968  0.17771678\n",
      "   0.17203326  0.11982609]\n",
      " [ 0.9911539   0.1901304   0.17168276  1.00000639  0.13187018  0.69650179\n",
      "   0.21182303  0.12244076  0.29792113  0.43482906  0.52700456  0.45893532\n",
      "   0.99121484  0.20031243  0.11976077  0.17027222  0.42738025  0.99142063\n",
      "   0.99113969  0.07473337]\n",
      " [ 0.14181473  0.2842343   0.21498488  0.13187018  1.00000527  0.20550049\n",
      "   0.26234886  0.97957768 -0.00976038  0.34014434  0.06054055  0.16940073\n",
      "   0.13831674  0.30426738  0.95920253  0.22186884  0.37160875  0.13515186\n",
      "   0.14183732  0.64261418]\n",
      " [ 0.70251632  0.25402334  0.18016008  0.69650179  0.20550049  1.00000463\n",
      "   0.42812165  0.18111969  0.34076809  0.64350746  0.65075165  0.58602017\n",
      "   0.69488209  0.40193401  0.2228836   0.16740993  0.64562725  0.70860417\n",
      "   0.69691184  0.21261327]\n",
      " [ 0.22839438  0.2811453   0.43764321  0.21182302  0.26234886  0.42812164\n",
      "   1.00000408  0.239143    0.21341123  0.42159432  0.20049509  0.40138728\n",
      "   0.20668879  0.90582632  0.28611326  0.39315477  0.41530101  0.22704519\n",
      "   0.21215922  0.38108307]\n",
      " [ 0.12911762  0.26877662  0.21152766  0.12244076  0.9795777   0.18111969\n",
      "   0.23914301  1.00000494 -0.01230642  0.3199692   0.06548063  0.16251835\n",
      "   0.12991455  0.28141246  0.92616562  0.22515979  0.34792957  0.12548143\n",
      "   0.13137244  0.58887848]\n",
      " [ 0.30307695  0.2575722   0.09755224  0.29792112 -0.00976037  0.34076807\n",
      "   0.21341124 -0.01230642  1.00000513  0.37156003  0.25499895  0.10354571\n",
      "   0.29462815  0.17841175 -0.00190022  0.08847336  0.36930066  0.31341066\n",
      "   0.30104213 -0.02338179]\n",
      " [ 0.43878965  0.32528965  0.04576867  0.43482906  0.34014435  0.64350743\n",
      "   0.42159432  0.31996921  0.37156001  1.00000513  0.53295619  0.40368527\n",
      "   0.43036917  0.39447691  0.34918476  0.0397928   0.96398644  0.4459989\n",
      "   0.43884032  0.36194103]\n",
      " [ 0.53308443  0.15556553  0.03316614  0.52700456  0.06054056  0.65075163\n",
      "   0.20049509  0.06548062  0.25499894  0.53295619  1.00000813  0.31987273\n",
      "   0.53532101  0.16948172  0.05778298  0.02397289  0.52283444  0.53358827\n",
      "   0.52531052  0.03747815]\n",
      " [ 0.45413074  0.22805548  0.38203911  0.45893535  0.16940074  0.58602017\n",
      "   0.4013873   0.16251835  0.10354571  0.40368527  0.31987274  1.00000465\n",
      "   0.45188131  0.42519096  0.13510164  0.37818197  0.39484869  0.45871976\n",
      "   0.45705507  0.11969064]\n",
      " [ 0.99092828  0.19653991  0.17309231  0.99121482  0.13831675  0.69488208\n",
      "   0.20668879  0.12991455  0.29462815  0.43036914  0.53532102  0.45188129\n",
      "   1.00000715  0.19415441  0.12928665  0.16782306  0.4254903   0.98870505\n",
      "   0.9930256   0.08034721]\n",
      " [ 0.20891941  0.28120056  0.48613276  0.20031243  0.30426738  0.401934\n",
      "   0.90582633  0.28141246  0.17841174  0.3944769   0.16948172  0.42519097\n",
      "   0.1941544   1.00000546  0.30584349  0.42822894  0.38169563  0.21374542\n",
      "   0.19635372  0.30406525]\n",
      " [ 0.13052101  0.28443195  0.17536064  0.11976077  0.95920254  0.22288359\n",
      "   0.28611325  0.9261656  -0.00190023  0.34918476  0.05778298  0.13510164\n",
      "   0.12928664  0.30584349  1.00000496  0.17536787  0.39367697  0.12582141\n",
      "   0.13076515  0.76607218]\n",
      " [ 0.18143367  0.24695011  0.93565747  0.17027221  0.22186883  0.16740993\n",
      "   0.39315479  0.22515981  0.08847336  0.03979279  0.02397289  0.37818199\n",
      "   0.16782306  0.42822895  0.17536788  1.00000997  0.03575712  0.17526481\n",
      "   0.16920867  0.13234491]\n",
      " [ 0.43355286  0.318094    0.03672968  0.42738026  0.37160875  0.64562724\n",
      "   0.41530101  0.34792957  0.36930065  0.96398644  0.52283442  0.39484867\n",
      "   0.4254903   0.38169563  0.39367696  0.03575712  1.00000235  0.43951818\n",
      "   0.43567954  0.42123288]\n",
      " [ 0.99058501  0.20491897  0.17771679  0.99142061  0.13515187  0.70860419\n",
      "   0.22704519  0.12548143  0.31341064  0.44599892  0.53358827  0.45871975\n",
      "   0.98870503  0.21374542  0.12582141  0.1752648   0.43951817  1.00000639\n",
      "   0.98929526  0.08316191]\n",
      " [ 0.99431583  0.19689414  0.17203327  0.99113966  0.14183732  0.69691185\n",
      "   0.21215922  0.13137243  0.30104213  0.43884031  0.52531053  0.45705508\n",
      "   0.9930256   0.19635372  0.13076515  0.16920866  0.43567953  0.98929527\n",
      "   1.00000494  0.08577602]\n",
      " [ 0.08756895  0.29650097  0.11982609  0.07473337  0.64261417  0.21261327\n",
      "   0.38108307  0.58887847 -0.02338179  0.36194103  0.03747815  0.11969064\n",
      "   0.08034721  0.30406525  0.76607217  0.13234492  0.42123287  0.08316191\n",
      "   0.08577602  1.00000525]]\n",
      "Original Copylist [9, 1, 4, 9, 6, 7, 5, 6, 2, 0, 8, 3, 9, 5, 6, 4, 0, 9, 9, 6]\n",
      "Found clusters [0 9 5 0 2 0 1 2 7 3 8 6 0 1 2 5 3 0 0 4]\n",
      "Original groups [array([ 9, 16], dtype=int64), array([1], dtype=int64), array([8], dtype=int64), array([11], dtype=int64), array([ 2, 15], dtype=int64), array([ 6, 13], dtype=int64), array([ 4,  7, 14, 19], dtype=int64), array([5], dtype=int64), array([10], dtype=int64), array([ 0,  3, 12, 17, 18], dtype=int64)]\n",
      "Clustered groups [array([ 0,  3,  5, 12, 17, 18], dtype=int64), array([ 6, 13], dtype=int64), array([ 4,  7, 14], dtype=int64), array([ 9, 16], dtype=int64), array([19], dtype=int64), array([ 2, 15], dtype=int64), array([11], dtype=int64), array([8], dtype=int64), array([10], dtype=int64), array([1], dtype=int64)]\n",
      "Clustering score 0.776536312849162\n",
      "\n",
      "\n",
      " Entering epoch 2\n",
      "Iter 5 - Epoch 0 - Client Type: Benign - Client Number 0 - Poison Training False\n"
     ]
    },
    {
     "name": "stderr",
     "output_type": "stream",
     "text": [
      "100%|████████████████████████████████████████████████████████████████████████████████████| 1/1 [00:00<00:00,  1.41it/s]\n"
     ]
    },
    {
     "name": "stdout",
     "output_type": "stream",
     "text": [
      "Iter 5 - Epoch 0 - Client Type: Benign - Client Number 1 - Poison Training False\n"
     ]
    },
    {
     "name": "stderr",
     "output_type": "stream",
     "text": [
      "100%|████████████████████████████████████████████████████████████████████████████████████| 2/2 [00:01<00:00,  1.15it/s]\n"
     ]
    },
    {
     "name": "stdout",
     "output_type": "stream",
     "text": [
      "Iter 5 - Epoch 0 - Client Type: Benign - Client Number 2 - Poison Training False\n"
     ]
    },
    {
     "name": "stderr",
     "output_type": "stream",
     "text": [
      "100%|████████████████████████████████████████████████████████████████████████████████████| 2/2 [00:01<00:00,  1.60it/s]\n"
     ]
    },
    {
     "name": "stdout",
     "output_type": "stream",
     "text": [
      "Iter 5 - Epoch 0 - Client Type: Benign - Client Number 3 - Poison Training False\n"
     ]
    },
    {
     "name": "stderr",
     "output_type": "stream",
     "text": [
      "100%|████████████████████████████████████████████████████████████████████████████████████| 1/1 [00:00<00:00,  1.56it/s]\n"
     ]
    },
    {
     "name": "stdout",
     "output_type": "stream",
     "text": [
      "Iter 5 - Epoch 0 - Client Type: Benign - Client Number 4 - Poison Training False\n"
     ]
    },
    {
     "name": "stderr",
     "output_type": "stream",
     "text": [
      "100%|████████████████████████████████████████████████████████████████████████████████████| 1/1 [00:00<00:00,  1.23it/s]\n"
     ]
    },
    {
     "name": "stdout",
     "output_type": "stream",
     "text": [
      "Iter 5 - Epoch 0 - Client Type: Benign - Client Number 5 - Poison Training False\n"
     ]
    },
    {
     "name": "stderr",
     "output_type": "stream",
     "text": [
      "100%|████████████████████████████████████████████████████████████████████████████████████| 1/1 [00:00<00:00,  1.06it/s]\n"
     ]
    },
    {
     "name": "stdout",
     "output_type": "stream",
     "text": [
      "Iter 5 - Epoch 0 - Client Type: Benign - Client Number 6 - Poison Training False\n"
     ]
    },
    {
     "name": "stderr",
     "output_type": "stream",
     "text": [
      "100%|████████████████████████████████████████████████████████████████████████████████████| 2/2 [00:01<00:00,  1.05it/s]\n"
     ]
    },
    {
     "name": "stdout",
     "output_type": "stream",
     "text": [
      "Iter 5 - Epoch 0 - Client Type: Benign - Client Number 7 - Poison Training False\n"
     ]
    },
    {
     "name": "stderr",
     "output_type": "stream",
     "text": [
      "100%|████████████████████████████████████████████████████████████████████████████████████| 1/1 [00:00<00:00,  1.18it/s]\n"
     ]
    },
    {
     "name": "stdout",
     "output_type": "stream",
     "text": [
      "Iter 5 - Epoch 0 - Client Type: Benign - Client Number 8 - Poison Training False\n"
     ]
    },
    {
     "name": "stderr",
     "output_type": "stream",
     "text": [
      "100%|████████████████████████████████████████████████████████████████████████████████████| 1/1 [00:00<00:00,  1.08it/s]\n"
     ]
    },
    {
     "name": "stdout",
     "output_type": "stream",
     "text": [
      "Iter 5 - Epoch 0 - Client Type: Benign - Client Number 9 - Poison Training False\n"
     ]
    },
    {
     "name": "stderr",
     "output_type": "stream",
     "text": [
      "100%|████████████████████████████████████████████████████████████████████████████████████| 2/2 [00:01<00:00,  1.55it/s]"
     ]
    }
   ],
   "source": [
    "fl = CustomFL(n_iter=n_iter, n_epochs=n_epochs, poison_starts_at_iter=poison_starts_at_iter, num_of_benign_nets=num_of_workers-num_of_mal_workers, num_of_mal_nets=num_of_mal_workers, \n",
    "              inertia=inertia, momentum=momentum,\n",
    "              attack_type=attack_type, scale_up=scale_up, minimizeDist=minimizeDist\n",
    ")\n",
    "fl.train()"
   ]
  },
  {
   "cell_type": "code",
   "execution_count": null,
   "metadata": {
    "id": "tsUXB_dWgKbg"
   },
   "outputs": [],
   "source": [
    "import pickle\n",
    "with open(f'file_1_dec27_all_benign_iters_50_epoch_{n_epochs}.txt', 'wb') as f:\n",
    "    pickle.dump(fl.debug_log, f)\n",
    "f.close()"
   ]
  },
  {
   "cell_type": "code",
   "execution_count": null,
   "metadata": {},
   "outputs": [],
   "source": [
    "import os\n",
    "from os import listdir\n",
    "from os.path import isfile, join\n",
    "mypath=os.getcwd()\n",
    "onlyfiles = [f for f in listdir(mypath) if isfile(join(mypath, f))]"
   ]
  },
  {
   "cell_type": "code",
   "execution_count": null,
   "metadata": {
    "id": "Gi3Zkh_HuFEI"
   },
   "outputs": [],
   "source": [
    "import pickle\n",
    "with open('file_1_dec23_label_flip_minDist_off.txt', 'rb') as f:\n",
    "    log_file=pickle.load(f)\n",
    "f.close()\n",
    "\n",
    "with open('file_1_dec23_label_flip_minDist_on.txt', 'rb') as f:\n",
    "    log_file_2=pickle.load(f)\n",
    "f.close()\n",
    "\n",
    "log_by_iter=[]\n",
    "for iter in range(n_iter):\n",
    "    log_by_iter.append([])\n",
    "idx=0\n",
    "cluster_logs=[]\n",
    "for l in log_file:\n",
    "    (i, _, _, _)=l\n",
    "    log_by_iter[i].append(l)\n",
    "    if i==-1:\n",
    "        cluster_logs.append(l)\n",
    "\n",
    "\n",
    "log_by_iter_2=[]\n",
    "for iter in range(n_iter):\n",
    "    log_by_iter_2.append([])\n",
    "idx=0\n",
    "cluster_logs_2=[]\n",
    "for l in log_file_2:\n",
    "    (i, _, _, _)=l\n",
    "    log_by_iter_2[i].append(l)\n",
    "    if i==-1:\n",
    "        cluster_logs_2.append(l)\n",
    "\n",
    "\n",
    "cluster_scores=[]\n",
    "for i, log in enumerate(cluster_logs):\n",
    "    if (i+1)%3==0:\n",
    "        (_, _, _, sc) = log\n",
    "        cluster_scores.append(sc)\n",
    "        \n",
    "cluster_scores_2=[]\n",
    "for i, log in enumerate(cluster_logs_2):\n",
    "    if (i+1)%3==0:\n",
    "        (_, _, _, sc) = log\n",
    "        cluster_scores_2.append(sc)\n",
    "        \n",
    "print(cluster_scores, cluster_scores_2)"
   ]
  },
  {
   "cell_type": "code",
   "execution_count": null,
   "metadata": {
    "id": "d6ii0njBC6JT"
   },
   "outputs": [],
   "source": [
    "from sklearn.cluster import AgglomerativeClustering\n",
    "import numpy as np\n",
    "X = np.array([[1, 2], [1, 4], [1, 0],\n",
    "              [4, 2], [4, 4], [4, 0]])\n",
    "clustering = AgglomerativeClustering(n_clusters=3).fit(X)\n",
    "labels=clustering.labels_\n",
    "print(labels, labels[labels==0], np.argwhere(labels==0))\n",
    "print([np.argwhere(labels==i).flatten() for i in range(3)])\n",
    "\n",
    "print()"
   ]
  },
  {
   "cell_type": "code",
   "execution_count": null,
   "metadata": {
    "id": "nnSDjbvSjoiL"
   },
   "outputs": [],
   "source": [
    "t_arr=np.array([100, 10, 1])\n",
    "t_arr_sig = 0.1 * t_arr\n",
    "print(np.random.normal(t_arr, t_arr_sig))"
   ]
  },
  {
   "cell_type": "code",
   "execution_count": null,
   "metadata": {
    "id": "9zOwHqDgoJx0"
   },
   "outputs": [],
   "source": []
  },
  {
   "cell_type": "code",
   "execution_count": null,
   "metadata": {
    "id": "yenDNiAaqd_F"
   },
   "outputs": [],
   "source": [
    "import matplotlib.pyplot as plt\n",
    "\n",
    "def imshow(img):\n",
    "    img = img / 2 + 0.5     # unnormalize\n",
    "    npimg = img.numpy()\n",
    "    plt.imshow(np.transpose(npimg, (1, 2, 0)))\n",
    "    plt.show()\n",
    "\n",
    "for i in [0, 3, 5]:\n",
    "    (_, _, tl) = train_loaders[0][i]\n",
    "\n",
    "    print(tl)\n",
    "\n",
    "    # get some random training images\n",
    "    dataiter = iter(tl)\n",
    "    images, labels = dataiter.next()\n",
    "    labels = np.array(labels)\n",
    "    imshow(torchvision.utils.make_grid(images[:16]))\n",
    "    for n in range(10):\n",
    "        print(n, np.count_nonzero(labels == n)/len(labels))\n"
   ]
  },
  {
   "cell_type": "code",
   "execution_count": null,
   "metadata": {
    "id": "jjNZrWiG-hPG"
   },
   "outputs": [],
   "source": [
    "sampled_probabilities = 1000 * np.random.dirichlet(\n",
    "                np.array(3 * [0.9]))\n",
    "print(np.sum(sampled_probabilities), sampled_probabilities)"
   ]
  },
  {
   "cell_type": "code",
   "execution_count": null,
   "metadata": {
    "id": "xOdKOaAbFIN7"
   },
   "outputs": [],
   "source": [
    "print(3 * [1, 2])"
   ]
  },
  {
   "cell_type": "code",
   "execution_count": null,
   "metadata": {
    "id": "fGkTxR66cWS9"
   },
   "outputs": [],
   "source": [
    "print(fl.log)"
   ]
  },
  {
   "cell_type": "code",
   "execution_count": null,
   "metadata": {
    "id": "q0VZP12IgvhL"
   },
   "outputs": [],
   "source": [
    "import pickle\n",
    "with open('file_1_dec16.txt', 'rb') as f:\n",
    "    log_file=pickle.load(f)\n",
    "f.close()"
   ]
  },
  {
   "cell_type": "code",
   "execution_count": null,
   "metadata": {
    "id": "GZTPfmkowaO3"
   },
   "outputs": [],
   "source": [
    "log_by_iter=[]\n",
    "for iter in range(n_iter):\n",
    "    log_by_iter.append([])\n",
    "idx=0\n",
    "for l in log_file:\n",
    "    (i, _, _, _)=l\n",
    "    log_by_iter[i].append(l)\n"
   ]
  },
  {
   "cell_type": "code",
   "execution_count": null,
   "metadata": {
    "id": "4gt2Qp862dFj"
   },
   "outputs": [],
   "source": [
    "for i in range(5,10):\n",
    "    log_by_iter[i]=log_by_iter[i][2:]\n",
    "\n",
    "for l in log_by_iter[0]:\n",
    "    print(l)\n",
    "for l in log_by_iter[5]:\n",
    "    print(l)"
   ]
  },
  {
   "cell_type": "code",
   "execution_count": null,
   "metadata": {
    "id": "TXBqfzL33UKh"
   },
   "outputs": [],
   "source": [
    "from matplotlib import pyplot as plt\n",
    "\n",
    "cos_sim_benign=[]\n",
    "cos_sim_mal=[]\n",
    "for i in range(10):\n",
    "    (_, _, _, sim) = log_by_iter[i][2]\n",
    "    cos_sim_benign.append(sim[0])\n",
    "    cos_sim_mal.append(sim[2])\n",
    "\n",
    "plt.plot(cos_sim_benign, c='blue')\n",
    "plt.plot(cos_sim_mal, c='red')\n",
    "plt.show()"
   ]
  },
  {
   "cell_type": "code",
   "execution_count": null,
   "metadata": {
    "id": "Er4MnusO4lkV"
   },
   "outputs": [],
   "source": [
    "aggr_weight_benign=[]\n",
    "aggr_weight_mal=[]\n",
    "for i in range(10):\n",
    "    (_, _, _, sim) = log_by_iter[i][4]\n",
    "    aggr_weight_benign.append(sim[0])\n",
    "    aggr_weight_mal.append(sim[2])\n",
    "\n",
    "plt.plot(aggr_weight_benign, c='blue')\n",
    "plt.plot(aggr_weight_mal, c='red')\n",
    "plt.show()\n"
   ]
  },
  {
   "cell_type": "code",
   "execution_count": null,
   "metadata": {
    "id": "qcWWK14Z49C7"
   },
   "outputs": [],
   "source": [
    "distance_benign=[]\n",
    "distance_mal=[]\n",
    "for i in range(10):\n",
    "    (_, _, _, sim) = log_by_iter[i][0]\n",
    "    distance_benign.append(sim[0])\n",
    "    (_, _, _, sim) = log_by_iter[i][1]\n",
    "    distance_mal.append(sim)\n",
    "\n",
    "plt.plot(distance_benign, c='blue')\n",
    "plt.plot(distance_mal, c='red')\n",
    "plt.show()"
   ]
  },
  {
   "cell_type": "code",
   "execution_count": null,
   "metadata": {
    "id": "CH-InCz25jkj"
   },
   "outputs": [],
   "source": [
    "accuracy=[]\n",
    "for i in range(10):\n",
    "    (_, _, _, sim) = log_by_iter[i][5]\n",
    "    accuracy.append(sim)\n",
    "\n",
    "plt.plot(accuracy, c='blue')\n"
   ]
  }
 ],
 "metadata": {
  "accelerator": "GPU",
  "colab": {
   "collapsed_sections": [],
   "name": "custom optimizer 1.ipynb",
   "provenance": []
  },
  "kernelspec": {
   "display_name": "Python 3",
   "language": "python",
   "name": "python3"
  },
  "language_info": {
   "codemirror_mode": {
    "name": "ipython",
    "version": 3
   },
   "file_extension": ".py",
   "mimetype": "text/x-python",
   "name": "python",
   "nbconvert_exporter": "python",
   "pygments_lexer": "ipython3",
   "version": "3.7.11"
  }
 },
 "nbformat": 4,
 "nbformat_minor": 1
}

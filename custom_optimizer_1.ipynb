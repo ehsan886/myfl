{
 "cells": [
  {
   "cell_type": "markdown",
   "metadata": {
    "id": "3x8zJkCpmj1m"
   },
   "source": [
    "Resources#\n",
    "\n",
    "https://github.com/pytorch/pytorch/blob/cc46dc45e1b4b2a9ffab4ad5442f8b864148e45a/torch/optim/_functional.py#L156\n",
    "\n",
    "https://github.com/pytorch/pytorch/blob/master/torch/optim/sgd.py\n",
    "\n",
    "https://pytorch.org/tutorials/beginner/blitz/autograd_tutorial.html\n",
    "\n",
    "https://discuss.pytorch.org/t/custom-loss-functions/29387\n",
    "\n",
    "https://discuss.pytorch.org/t/good-way-to-calculate-element-wise-difference-between-two-models-of-the-same-structure/67592"
   ]
  },
  {
   "cell_type": "code",
   "execution_count": 215,
   "metadata": {
    "id": "iTDCRqOGmorM"
   },
   "outputs": [],
   "source": [
    "import argparse\n",
    "import torch\n",
    "import torch.nn as nn\n",
    "import torch.nn.functional as F\n",
    "import torch.optim as optim\n",
    "from torchvision import datasets, transforms\n",
    "from torch.autograd import Variable\n",
    "import numpy as np\n",
    "import datetime"
   ]
  },
  {
   "cell_type": "code",
   "execution_count": 216,
   "metadata": {
    "id": "fxJ9QbZCVq-j"
   },
   "outputs": [],
   "source": [
    "def convert_model_to_param_list(model):\n",
    "    '''\n",
    "    num_of_param=0\n",
    "    for param in model.state_dict().values():\n",
    "        num_of_param += torch.numel(param)\n",
    "    \n",
    "\n",
    "    params=torch.ones([num_of_param])\n",
    "    '''\n",
    "    if torch.typename(model)!='OrderedDict':\n",
    "        model = model.state_dict()\n",
    "\n",
    "    idx=0\n",
    "    params_to_copy_group=[]\n",
    "    for name, param in model.items():\n",
    "        num_params_to_copy = torch.numel(param)\n",
    "        params_to_copy_group.append(param.reshape([num_params_to_copy]).clone().detach())\n",
    "        idx+=num_params_to_copy\n",
    "\n",
    "    params=torch.ones([idx])\n",
    "    idx=0\n",
    "    for param in params_to_copy_group:    \n",
    "        for par in param:\n",
    "            params[idx].copy_(par)\n",
    "            idx += 1\n",
    "\n",
    "    return params\n",
    "\n",
    "def cos_calc_btn_grads(l1, l2):\n",
    "    return torch.dot(l1, l2)/(torch.linalg.norm(l1)+1e-9)/(torch.linalg.norm(l2)+1e-9)\n",
    "\n",
    "\n",
    "def cos_calc(n1, n2):\n",
    "    l1 = convert_model_to_param_list(n1)\n",
    "    l2 = convert_model_to_param_list(n2)\n",
    "    return cos_calc_btn_grads(l1, l2)"
   ]
  },
  {
   "cell_type": "code",
   "execution_count": 217,
   "metadata": {
    "id": "n8iAonfWm5ev"
   },
   "outputs": [],
   "source": [
    "class SimpleNet(nn.Module):\n",
    "    def __init__(self, name=None, created_time=None, is_malicious=False, net_id=-1):\n",
    "        super(SimpleNet, self).__init__()\n",
    "        self.created_time = created_time\n",
    "        self.name=name\n",
    "\n",
    "        self.is_malicious=is_malicious\n",
    "        self.net_id=net_id\n",
    "\n",
    "\n",
    "    def save_stats(self, epoch, loss, acc):\n",
    "        self.stats['epoch'].append(epoch)\n",
    "        self.stats['loss'].append(loss)\n",
    "        self.stats['acc'].append(acc)\n",
    "\n",
    "    def copy_params(self, state_dict, coefficient_transfer=100):\n",
    "\n",
    "        own_state = self.state_dict()\n",
    "\n",
    "        for name, param in state_dict.items():\n",
    "            if name in own_state:\n",
    "                shape = param.shape\n",
    "                own_state[name].copy_(param.clone())\n",
    "    \n",
    "    def set_param_to_zero(self):\n",
    "        own_state = self.state_dict()\n",
    "\n",
    "        for name, param in own_state.items():\n",
    "            shape = param.shape\n",
    "            param.mul_(0)       \n",
    "\n",
    "    def aggregate(self, state_dicts, aggr_weights=None):\n",
    "        #self.copy_params(state_dicts[0])\n",
    "        own_state = self.state_dict()\n",
    "        \n",
    "        nw = len(state_dicts)\n",
    "        if aggr_weights is None:\n",
    "            aggr_weights = [1/nw]*nw\n",
    "\n",
    "        for i, state_dict in enumerate(state_dicts):\n",
    "            for name, param in state_dict.items():\n",
    "                if name in own_state:\n",
    "                    shape = param.shape\n",
    "                    own_state[name].add_(param.clone().mul_(aggr_weights[i]))\n",
    "\n",
    "    def calc_grad(self, state_dict, change_self=True):\n",
    "        if change_self:\n",
    "            own_state = self.state_dict()\n",
    "\n",
    "            for name, param in state_dict.items():\n",
    "                if name in own_state:\n",
    "                    shape = param.shape\n",
    "                    own_state[name].sub_(param.clone())\n",
    "        else:\n",
    "            self_params = convert_model_to_param_list(self)\n",
    "            ref_params = convert_model_to_param_list(state_dict)\n",
    "\n",
    "            self_params.sub_(ref_params)\n",
    "            self.grad_params = self_params"
   ]
  },
  {
   "cell_type": "code",
   "execution_count": 218,
   "metadata": {
    "id": "kADMGZrmm8PH"
   },
   "outputs": [],
   "source": [
    "class Flatten(nn.Module):\n",
    "    def forward(self, input):\n",
    "        return input.view(input.size(0), -1)\n",
    "\n",
    "class MnistNet(SimpleNet):#model for mnist\n",
    "    def __init__(self, name=None, created_time=None,num_of_classes = 10):\n",
    "        super(MnistNet, self).__init__(f'{name}_Simple', created_time)\n",
    "     \n",
    "        self.fc_layer = torch.nn.Sequential(#1 * 28 * 28\n",
    "            Flatten(),#784\n",
    "            nn.Linear(784, num_of_classes),\n",
    "        )\n",
    "    \n",
    "    def forward(self, x):\n",
    "     \n",
    "        out = self.fc_layer(x)\n",
    "        return out"
   ]
  },
  {
   "cell_type": "code",
   "execution_count": 219,
   "metadata": {
    "id": "h2FR35-PASFF"
   },
   "outputs": [],
   "source": [
    "class FLNet(SimpleNet):\n",
    "    def __init__(self, name=None, created_time=None,num_of_classes = 10):\n",
    "        super(FLNet, self).__init__(f'{name}_Simple', created_time)\n",
    "\n",
    "        self.mnistnet1 = MnistNet()\n",
    "\n",
    "        self.mnistnet2 = MnistNet()\n",
    "\n",
    "        self.mnistnetavg = MnistNet()\n",
    "\n",
    "    def forward(self, x):\n",
    "        out = self.mnistnet1(x)\n",
    "        return out"
   ]
  },
  {
   "cell_type": "code",
   "execution_count": 220,
   "metadata": {
    "colab": {
     "base_uri": "https://localhost:8080/",
     "height": 122
    },
    "id": "-Bm2SNGGCPOA",
    "outputId": "e912d6ab-0fd6-43c0-b174-fd703750762c"
   },
   "outputs": [
    {
     "data": {
      "text/plain": [
       "\"\\nclass CNN(SimpleNet):\\n    def __init__(self, name=None, created_time=None,num_of_classes = 10,network_id=-1, net_id=-1, is_malicious=False):\\n        super(CNN, self).__init__(f'{name}_Simple', created_time, is_malicious=is_malicious, net_id=net_id)\\n        self.conv1 = nn.Conv2d(3, 6, 5)\\n        self.pool = nn.MaxPool2d(2, 2)\\n        self.conv2 = nn.Conv2d(6, 16, 5)\\n        self.fc1 = nn.Linear(16 * 5 * 5, 120)\\n        self.fc2 = nn.Linear(120, 84)\\n        self.fc3 = nn.Linear(84, 10)\\n\\n    def forward(self, x):\\n        x = self.pool(F.relu(self.conv1(x)))\\n        x = self.pool(F.relu(self.conv2(x)))\\n        x = torch.flatten(x, 1) # flatten all dimensions except batch\\n        x = F.relu(self.fc1(x))\\n        x = F.relu(self.fc2(x))\\n        x = self.fc3(x)\\n        return x\\n\""
      ]
     },
     "execution_count": 220,
     "metadata": {},
     "output_type": "execute_result"
    }
   ],
   "source": [
    "\n",
    "class CNN(SimpleNet):\n",
    "    def __init__(self, name=None, created_time=None,num_of_classes = 10,network_id=-1, net_id=-1, is_malicious=False):\n",
    "        super(CNN, self).__init__(f'{name}_Simple', created_time, is_malicious=is_malicious, net_id=net_id)\n",
    "\n",
    "        self.network_id=network_id\n",
    "\n",
    "        self.conv1 = nn.Sequential(         \n",
    "            nn.Conv2d(\n",
    "                in_channels=1,              \n",
    "                out_channels=16,            \n",
    "                kernel_size=5,              \n",
    "                stride=1,                   \n",
    "                padding=2,                  \n",
    "            ),                              \n",
    "            nn.ReLU(),                      \n",
    "            nn.MaxPool2d(kernel_size=2),    \n",
    "        )\n",
    "        self.conv2 = nn.Sequential(         \n",
    "            nn.Conv2d(16, 32, 5, 1, 2),     \n",
    "            nn.ReLU(),                      \n",
    "            nn.MaxPool2d(2),                \n",
    "        )\n",
    "        # fully connected layer, output 10 classes\n",
    "        self.out = nn.Linear(32 * 7 * 7, 10)\n",
    "    def forward(self, x):\n",
    "        x = self.conv1(x)\n",
    "        x = self.conv2(x)\n",
    "        # flatten the output of conv2 to (batch_size, 32 * 7 * 7)\n",
    "        x = x.view(x.size(0), -1)       \n",
    "        output = self.out(x)\n",
    "        return output    # return x for visualization\n",
    "'''\n",
    "class CNN(SimpleNet):\n",
    "    def __init__(self, name=None, created_time=None,num_of_classes = 10,network_id=-1, net_id=-1, is_malicious=False):\n",
    "        super(CNN, self).__init__(f'{name}_Simple', created_time, is_malicious=is_malicious, net_id=net_id)\n",
    "        self.conv1 = nn.Conv2d(3, 6, 5)\n",
    "        self.pool = nn.MaxPool2d(2, 2)\n",
    "        self.conv2 = nn.Conv2d(6, 16, 5)\n",
    "        self.fc1 = nn.Linear(16 * 5 * 5, 120)\n",
    "        self.fc2 = nn.Linear(120, 84)\n",
    "        self.fc3 = nn.Linear(84, 10)\n",
    "\n",
    "    def forward(self, x):\n",
    "        x = self.pool(F.relu(self.conv1(x)))\n",
    "        x = self.pool(F.relu(self.conv2(x)))\n",
    "        x = torch.flatten(x, 1) # flatten all dimensions except batch\n",
    "        x = F.relu(self.fc1(x))\n",
    "        x = F.relu(self.fc2(x))\n",
    "        x = self.fc3(x)\n",
    "        return x\n",
    "'''"
   ]
  },
  {
   "cell_type": "code",
   "execution_count": 221,
   "metadata": {
    "id": "wY6ycM7q9m2A"
   },
   "outputs": [],
   "source": [
    "import copy\n",
    "\n",
    "def add_pixel_pattern(ori_image):\n",
    "    image = copy.deepcopy(ori_image)\n",
    "    poison_patterns= poison_dict['poison_pattern']\n",
    "    delta =  poison_dict['poison_delta']\n",
    "\n",
    "    for i in range(0, len(poison_patterns)):\n",
    "        pos = poison_patterns[i]\n",
    "        image[0][pos[0]][pos[1]] = min( image[0][pos[0]][pos[1]] + delta/np.sqrt(len(poison_patterns)), 1)\n",
    "\n",
    "\n",
    "    return image\n",
    "\n",
    "def get_poison_batch(bptt,adversarial_index=-1, evaluation=False, attack_type='label_flip'):\n",
    "    if attack_type=='backdoor':\n",
    "        import sys\n",
    "        print(\"still backdooring\")\n",
    "        sys.exit()\n",
    "\n",
    "        images, targets = bptt\n",
    "\n",
    "        poison_count= 0\n",
    "        new_images=images\n",
    "        new_targets=targets\n",
    "\n",
    "        for index in range(0, len(images)):\n",
    "            if evaluation: # poison all data when testing\n",
    "                new_targets[index] = poison_dict['poison_label_swap']\n",
    "                new_images[index] = add_pixel_pattern(images[index])\n",
    "                poison_count+=1\n",
    "\n",
    "            else: # poison part of data when training\n",
    "                if index < poison_dict['poisoning_per_batch']:\n",
    "                    new_targets[index] = poison_dict['poison_label_swap']\n",
    "                    new_images[index] = add_pixel_pattern(images[index])\n",
    "                    poison_count += 1\n",
    "                else:\n",
    "                    new_images[index] = images[index]\n",
    "                    new_targets[index]= targets[index]\n",
    "\n",
    "        new_images = new_images.to(device)\n",
    "        new_targets = new_targets.to(device).long()\n",
    "        if evaluation:\n",
    "            new_images.requires_grad_(False)\n",
    "            new_targets.requires_grad_(False)\n",
    "        return new_images,new_targets,poison_count\n",
    "    \n",
    "    elif attack_type=='degrade' or attack_type=='label_flip':\n",
    "        images, targets = bptt\n",
    "\n",
    "        poison_count= 0\n",
    "        new_images=images\n",
    "        new_targets=targets\n",
    "\n",
    "        num_of_classes = 10\n",
    "\n",
    "        for index in range(0, len(images)):\n",
    "            if evaluation: # poison all data when testing\n",
    "                if attack_type=='degrade':\n",
    "                    new_targets[index] = poison_dict['poison_label_swap']\n",
    "                elif attack_type=='label_flip':\n",
    "                    new_targets[index] = (targets[index]+1)%num_of_classes\n",
    "                new_images[index] = images[index]\n",
    "                poison_count+=1\n",
    "\n",
    "            else: # poison part of data when training\n",
    "                if index < poison_dict['poisoning_per_batch']:\n",
    "                    new_targets[index] = poison_dict['poison_label_swap']\n",
    "                    new_images[index] = add_pixel_pattern(images[index])\n",
    "                    poison_count += 1\n",
    "                else:\n",
    "                    new_images[index] = images[index]\n",
    "                    new_targets[index]= targets[index]\n",
    "\n",
    "        new_images = new_images.to(device)\n",
    "        new_targets = new_targets.to(device).long()\n",
    "        if evaluation:\n",
    "            new_images.requires_grad_(False)\n",
    "            new_targets.requires_grad_(False)\n",
    "        return new_images,new_targets,poison_count\n",
    "        \n",
    "\n",
    "def get_batch(bptt, evaluation=False):\n",
    "    data, target = bptt\n",
    "    data = data.to(device)\n",
    "    target = target.to(device)\n",
    "    if evaluation:\n",
    "        data.requires_grad_(False)\n",
    "        target.requires_grad_(False)\n",
    "    return data, target"
   ]
  },
  {
   "cell_type": "code",
   "execution_count": 222,
   "metadata": {
    "id": "nOhHhkNjE6tb"
   },
   "outputs": [],
   "source": [
    "import torch\n",
    "from torch import Tensor\n",
    "from typing import List, Optional\n",
    "\n",
    "from tensorflow import print as prnt\n",
    "\n",
    "def sgd(params: List[Tensor],\n",
    "        d_p_list: List[Tensor],\n",
    "        momentum_buffer_list: List[Optional[Tensor]],\n",
    "        ref_params: List[Tensor],\n",
    "        ref_grad_params: List[Tensor],\n",
    "        *,\n",
    "        weight_decay: float,\n",
    "        momentum: float,\n",
    "        lr: float,\n",
    "        dampening: float,\n",
    "        nesterov: bool,\n",
    "        maximize: bool,\n",
    "        inertia: float,\n",
    "        minimizeDist: bool):\n",
    "    r\"\"\"Functional API that performs SGD algorithm computation.\n",
    "    See :class:`~torch.optim.SGD` for details.\n",
    "    \"\"\"\n",
    "    #print(\"dummy\", len(params), len(ref_params))\n",
    "\n",
    "    if len(ref_params)!=0 and len(params)!=len(ref_params):\n",
    "        #print(params, ref_params)\n",
    "        print('params', params, '\\n')\n",
    "        print('ref_params', ref_params, '\\n')\n",
    "        sys.exit()\n",
    "\n",
    "    if len(ref_grad_params)!=0 and len(params)!=len(ref_grad_params):\n",
    "        print('params', params, '\\n')\n",
    "        print('ref_params', ref_grad_params, '\\n')\n",
    "        sys.exit()\n",
    "    for i, param in enumerate(params):\n",
    "\n",
    "        d_p = d_p_list[i]\n",
    "        if weight_decay != 0:\n",
    "            d_p = d_p.add(param, alpha=weight_decay)\n",
    "\n",
    "        if momentum != 0:\n",
    "            buf = momentum_buffer_list[i]\n",
    "\n",
    "            if buf is None:\n",
    "                buf = torch.clone(d_p).detach()\n",
    "                momentum_buffer_list[i] = buf\n",
    "            else:\n",
    "                buf.mul_(momentum).add_(d_p, alpha=1 - dampening)\n",
    "\n",
    "            if nesterov:\n",
    "                d_p = d_p.add(buf, alpha=momentum)\n",
    "            else:\n",
    "                d_p = buf\n",
    "        \n",
    "        if ref_params is not None and len(ref_params) != 0 and minimizeDist:\n",
    "            diff = 0\n",
    "            ### if minimize euclidean distance\n",
    "            #diff = param - ref_params[i]\n",
    "            ### if minimize cosine similarity, ref_params contains the gradient of the reference network weights\n",
    "            \n",
    "            if ref_grad_params is not None:\n",
    "\n",
    "                dir_sign = torch.sign(ref_params[i]-param)\n",
    "                diff -= ref_params[i]-param\n",
    "                diff -= ref_grad_params[i]\n",
    "                diff = diff.mul_(0.5)\n",
    "            \n",
    "            #d_p = d_p.mul_(0)\n",
    "            d_p = d_p.add(diff, alpha=inertia)\n",
    "        \n",
    "        #if diff_total==0:\n",
    "            #print('diff_total 0')\n",
    "\n",
    "        alpha = lr if maximize else -lr\n",
    "        param.add_(d_p, alpha=alpha)"
   ]
  },
  {
   "cell_type": "code",
   "execution_count": 223,
   "metadata": {
    "id": "BMvAKmTlFlSV"
   },
   "outputs": [],
   "source": [
    "import torch\n",
    "#from torch.optim import _functional as F\n",
    "from torch.optim.optimizer import Optimizer, required\n",
    "\n",
    "\n",
    "class SGD(Optimizer):\n",
    "    def __init__(self, params, lr=required, ref_param_groups=None, ref_grad_param_groups=None, momentum=0, dampening=0,\n",
    "                 weight_decay=0, nesterov=False, *, maximize=False, inertia=1.0, minimizeDist=False):\n",
    "        if lr is not required and lr < 0.0:\n",
    "            raise ValueError(\"Invalid learning rate: {}\".format(lr))\n",
    "        if momentum < 0.0:\n",
    "            raise ValueError(\"Invalid momentum value: {}\".format(momentum))\n",
    "        if weight_decay < 0.0:\n",
    "            raise ValueError(\"Invalid weight_decay value: {}\".format(weight_decay))\n",
    "\n",
    "        defaults = dict(lr=lr, momentum=momentum, dampening=dampening,\n",
    "                        weight_decay=weight_decay, nesterov=nesterov, maximize=maximize)\n",
    "        if nesterov and (momentum <= 0 or dampening != 0):\n",
    "            raise ValueError(\"Nesterov momentum requires a momentum and zero dampening\")\n",
    "        #self.ref_param_groups = ref_param_groups\n",
    "        super(SGD, self).__init__(params, defaults)\n",
    "        #self.ref_param_groups = ref_param_groups\n",
    "        self.inertia=inertia\n",
    "        self.minimizeDist=minimizeDist\n",
    "\n",
    "        if ref_param_groups is not None:\n",
    "            self.__setrefparams__(ref_param_groups)\n",
    "        else:\n",
    "            self.ref_param_groups = ref_param_groups\n",
    "\n",
    "        if ref_grad_param_groups is not None:\n",
    "            self.__setrefgradparams__(ref_grad_param_groups)\n",
    "        else:\n",
    "            self.ref_grad_param_groups = ref_param_groups\n",
    "\n",
    "    def filter_ref_param_group(self, param_group):\n",
    "        r\"\"\"Add a param group to the :class:`Optimizer` s `param_groups`.\n",
    "        This can be useful when fine tuning a pre-trained network as frozen layers can be made\n",
    "        trainable and added to the :class:`Optimizer` as training progresses.\n",
    "        Args:\n",
    "            param_group (dict): Specifies what Tensors should be optimized along with group\n",
    "                specific optimization options.\n",
    "        \"\"\"\n",
    "        assert isinstance(param_group, dict), \"param group must be a dict\"\n",
    "\n",
    "        params = param_group['params']\n",
    "        if isinstance(params, torch.Tensor):\n",
    "            param_group['params'] = [params]\n",
    "        elif isinstance(params, set):\n",
    "            raise TypeError('optimizer parameters need to be organized in ordered collections, but '\n",
    "                            'the ordering of tensors in sets will change between runs. Please use a list instead.')\n",
    "        else:\n",
    "            param_group['params'] = list(params)\n",
    "\n",
    "        for param in param_group['params']:\n",
    "            if not isinstance(param, torch.Tensor):\n",
    "                raise TypeError(\"optimizer can only optimize Tensors, \"\n",
    "                                \"but one of the params is \" + torch.typename(param))\n",
    "            if not param.is_leaf:\n",
    "                raise ValueError(\"can't optimize a non-leaf Tensor\")\n",
    "        '''\n",
    "        for name, default in self.defaults.items():\n",
    "            if default is required and name not in param_group:\n",
    "                raise ValueError(\"parameter group didn't specify a value of required optimization parameter \" +\n",
    "                                name)\n",
    "            else:\n",
    "                param_group.setdefault(name, default)\n",
    "        '''\n",
    "\n",
    "        params = param_group['params']\n",
    "        if len(params) != len(set(params)):\n",
    "            warnings.warn(\"optimizer contains a parameter group with duplicate parameters; \"\n",
    "                          \"in future, this will cause an error; \"\n",
    "                          \"see github.com/pytorch/pytorch/issues/40967 for more information\", stacklevel=3)\n",
    "\n",
    "        param_set = set()\n",
    "        for group in self.param_groups:\n",
    "            param_set.update(set(group['params']))\n",
    "\n",
    "        if not param_set.isdisjoint(set(param_group['params'])):\n",
    "            raise ValueError(\"some parameters appear in more than one parameter group\")\n",
    "\n",
    "        #self.ref_param_groups.append(param_group)\n",
    "        return param_group\n",
    "    \n",
    "    def __setrefparams__(self, params):\n",
    "        self.ref_param_groups = []\n",
    "\n",
    "        param_groups = list(params)\n",
    "        '''\n",
    "        if len(param_groups) == 0:\n",
    "            raise ValueError(\"optimizer got an empty parameter list\")\n",
    "        '''\n",
    "        if not isinstance(param_groups[0], dict):\n",
    "            param_groups = [{'params': param_groups}]\n",
    "\n",
    "        for param_group in param_groups:\n",
    "            self.ref_param_groups.append(self.filter_ref_param_group(param_group))\n",
    "\n",
    "    def __setrefgradparams__(self, params):\n",
    "        self.ref_grad_param_groups = []\n",
    "\n",
    "        param_groups = list(params)\n",
    "        '''\n",
    "        if len(param_groups) == 0:\n",
    "            raise ValueError(\"optimizer got an empty parameter list\")\n",
    "        '''\n",
    "        if not isinstance(param_groups[0], dict):\n",
    "            param_groups = [{'params': param_groups}]\n",
    "\n",
    "        for param_group in param_groups:\n",
    "            self.ref_grad_param_groups.append(self.filter_ref_param_group(param_group))\n",
    "\n",
    "    def __setstate__(self, state):\n",
    "        super(SGD, self).__setstate__(state)\n",
    "        for group in self.param_groups:\n",
    "            group.setdefault('nesterov', False)\n",
    "            group.setdefault('maximize', False)\n",
    "    \n",
    "    \n",
    "\n",
    "    @torch.no_grad()\n",
    "    def step(self, closure=None):\n",
    "        \"\"\"Performs a single optimization step.\n",
    "        Args:\n",
    "            closure (callable, optional): A closure that reevaluates the model\n",
    "                and returns the loss.\n",
    "        \"\"\"\n",
    "        loss = None\n",
    "        if closure is not None:\n",
    "            with torch.enable_grad():\n",
    "                loss = closure()\n",
    "        \n",
    "        #for group in self.ref_param_groups:\n",
    "            #for p in group['params']:\n",
    "\n",
    "        if self.ref_param_groups is not None and len(self.param_groups)!=len(self.ref_param_groups):\n",
    "            print(len(self.param_groups), len(self.ref_param_groups))\n",
    "            sys.exit()\n",
    "\n",
    "        if self.ref_grad_param_groups is not None and len(self.param_groups)!=len(self.ref_grad_param_groups):\n",
    "            print(len(self.param_groups), len(self.ref_grad_param_groups))\n",
    "            sys.exit()\n",
    "        for i in range(len(self.param_groups)):\n",
    "            group = self.param_groups[i]\n",
    "            if self.ref_param_groups is not None:\n",
    "                ref_group = self.ref_param_groups[i]\n",
    "            if self.ref_grad_param_groups is not None:\n",
    "                ref_grad_group = self.ref_grad_param_groups[i]\n",
    "            params_with_grad = []\n",
    "            d_p_list = []\n",
    "            momentum_buffer_list = []\n",
    "            weight_decay = group['weight_decay']\n",
    "            momentum = group['momentum']\n",
    "            dampening = group['dampening']\n",
    "            nesterov = group['nesterov']\n",
    "            maximize = group['maximize']\n",
    "            lr = group['lr']\n",
    "\n",
    "            for p in group['params']:\n",
    "                if p.grad is not None:\n",
    "                    params_with_grad.append(p)\n",
    "                    d_p_list.append(p.grad)\n",
    "\n",
    "                    state = self.state[p]\n",
    "                    if 'momentum_buffer' not in state:\n",
    "                        momentum_buffer_list.append(None)\n",
    "                    else:\n",
    "                        momentum_buffer_list.append(state['momentum_buffer'])\n",
    "            ref_params=[]\n",
    "            ref_grad_params=[]\n",
    "            if self.ref_param_groups is not None:\n",
    "                for p in ref_group['params']:\n",
    "                    ref_params.append(p)\n",
    "            if self.ref_grad_param_groups is not None:\n",
    "                for p in ref_grad_group['params']:\n",
    "                    ref_grad_params.append(p)\n",
    "            \n",
    "            sgd(params_with_grad,\n",
    "                  d_p_list,\n",
    "                  momentum_buffer_list,\n",
    "                  ref_params=ref_params,\n",
    "                  ref_grad_params=ref_grad_params,\n",
    "                  weight_decay=weight_decay,\n",
    "                  momentum=momentum,\n",
    "                  lr=lr,\n",
    "                  dampening=dampening,\n",
    "                  nesterov=nesterov,\n",
    "                  maximize=maximize,\n",
    "                  inertia=self.inertia,\n",
    "                  minimizeDist=self.minimizeDist)\n",
    "            \n",
    "\n",
    "            # update momentum_buffers in state\n",
    "            for p, momentum_buffer in zip(params_with_grad, momentum_buffer_list):\n",
    "                state = self.state[p]\n",
    "                state['momentum_buffer'] = momentum_buffer\n",
    "\n",
    "        return loss\n",
    "\n",
    "    ##  add add_param method\n",
    "\n"
   ]
  },
  {
   "cell_type": "code",
   "execution_count": 224,
   "metadata": {
    "id": "NDJtZrEdRwht"
   },
   "outputs": [],
   "source": [
    "def new_loss(output, target):\n",
    "    loss = F.nll_loss(output, target)\n",
    "\n",
    "    return loss"
   ]
  },
  {
   "cell_type": "code",
   "execution_count": 225,
   "metadata": {
    "id": "yWy7CtC7GpPG"
   },
   "outputs": [],
   "source": [
    "def inv_grad_test(model):\n",
    "    for name, param in model.named_parameters():\n",
    "        print(name, torch.isfinite(param.grad).all())"
   ]
  },
  {
   "cell_type": "code",
   "execution_count": 226,
   "metadata": {
    "id": "I3r_mO-LDaJ6"
   },
   "outputs": [],
   "source": [
    "loss_func=nn.CrossEntropyLoss()\n",
    "\n",
    "def train(network, optimizer, epoch):\n",
    "  network.train()\n",
    "\n",
    "  if network.network_id!=-1:\n",
    "      (_, temp_train_loader)=train_loaders[network.network_id]\n",
    "  else:\n",
    "      temp_train_loader=train_loader\n",
    "\n",
    "  for batch_idx, (data, target) in enumerate(temp_train_loader):\n",
    "    if network.network_id>=1:\n",
    "        data, target, poison_num = get_poison_batch((data, target))\n",
    "    optimizer.zero_grad()\n",
    "    output = network(data)\n",
    "    loss = loss_func(output, target)\n",
    "    loss.backward()\n",
    "    #inv_grad_test(network)\n",
    "    optimizer.step()\n",
    "    if batch_idx % log_interval == 0:\n",
    "      print('Train Epoch: {} [{}/{} ({:.0f}%)]\\tLoss: {:.6f}'.format(\n",
    "      epoch, batch_idx * len(data), len(train_loader.dataset),\n",
    "      100. * batch_idx / len(train_loader), loss.item()))\n",
    "      train_losses.append(loss.item())\n",
    "      train_counter.append(\n",
    "        (batch_idx*64) + ((epoch-1)*len(train_loader.dataset)))\n",
    "      torch.save(network.state_dict(), 'model.pth')\n",
    "      torch.save(optimizer.state_dict(), 'optimizer.pth')\n",
    "  if network.network_id>=1:\n",
    "      sys.exit()"
   ]
  },
  {
   "cell_type": "code",
   "execution_count": 227,
   "metadata": {
    "id": "rePZEDgTs5Zg"
   },
   "outputs": [],
   "source": [
    "from tqdm import tqdm\n",
    "\n",
    "def train_net(network, optimizer, trainloader, epoch, poisonNow=False, print_flag=False, attack_type='backdoor'):\n",
    "  for batch_idx, (data, target) in enumerate(tqdm(trainloader)):\n",
    "    if poisonNow:\n",
    "        data, target, poison_num = get_poison_batch((data, target), attack_type=attack_type)\n",
    "    else:\n",
    "        data, target = get_batch((data, target))\n",
    "    optimizer.zero_grad()\n",
    "    output = network(data)\n",
    "    loss = loss_func(output, target)\n",
    "    loss.backward()\n",
    "    #inv_grad_test(network)\n",
    "    optimizer.step()\n",
    "    if batch_idx % log_interval == 0:\n",
    "        if print_flag:\n",
    "            print('Train Epoch: {} [{}/{} ({:.0f}%)]\\tLoss: {:.6f}'.format(\n",
    "            epoch, batch_idx * len(data), len(trainloader.dataset),\n",
    "            100. * batch_idx / len(trainloader), loss.item()))\n",
    "        train_losses.append(loss.item())\n",
    "        train_counter.append(\n",
    "            (batch_idx*64) + ((epoch-1)*len(trainloader.dataset)))"
   ]
  },
  {
   "cell_type": "code",
   "execution_count": 228,
   "metadata": {
    "id": "DNbRH73f9IFr"
   },
   "outputs": [],
   "source": [
    "def test(network):\n",
    "  network.eval()\n",
    "  test_loss = 0\n",
    "  correct = 0\n",
    "  with torch.no_grad():\n",
    "    for data, target in tqdm(test_loader):\n",
    "        data, target = get_batch((data, target))\n",
    "        output = network(data)\n",
    "        test_loss += loss_func(output, target).item()\n",
    "        pred = output.data.max(1, keepdim=True)[1]\n",
    "        correct += pred.eq(target.data.view_as(pred)).sum()\n",
    "  test_loss /= len(test_loader.dataset)\n",
    "  test_losses.append(test_loss)\n",
    "  print('\\nTest set: Avg. loss: {:.4f}, Accuracy: {}/{} ({:.0f}%)\\n'.format(\n",
    "    test_loss, correct, len(test_loader.dataset),\n",
    "    100. * correct / len(test_loader.dataset)))\n",
    "  return 100. * correct / len(test_loader.dataset)"
   ]
  },
  {
   "cell_type": "code",
   "execution_count": 229,
   "metadata": {
    "id": "O9mnbnO-BSvs"
   },
   "outputs": [],
   "source": [
    "def backdoor_test(network):\n",
    "  network.eval()\n",
    "  test_loss = 0\n",
    "  correct = 0\n",
    "  with torch.no_grad():\n",
    "    for data, target in tqdm(test_loader):\n",
    "      data, target, poison_num = get_poison_batch((data, target), evaluation=True, attack_type='backdoor')\n",
    "      output = network(data)\n",
    "      test_loss += loss_func(output, target).item()\n",
    "      pred = output.data.max(1, keepdim=True)[1]\n",
    "      correct += pred.eq(target.data.view_as(pred)).sum()\n",
    "  test_loss /= len(test_loader.dataset)\n",
    "  test_losses.append(test_loss)\n",
    "  print('\\nBackdoor Test set: Avg. loss: {:.4f}, Accuracy: {}/{} ({:.0f}%)\\n'.format(\n",
    "    test_loss, correct, len(test_loader.dataset),\n",
    "    100. * correct / len(test_loader.dataset)))"
   ]
  },
  {
   "cell_type": "code",
   "execution_count": 230,
   "metadata": {
    "id": "_BXauMW5n3r3"
   },
   "outputs": [],
   "source": [
    "def calcDiff(network, network2):\n",
    "    return sum((x - y).abs().sum() for x, y in zip(network.state_dict().values(), network2.state_dict().values()))"
   ]
  },
  {
   "cell_type": "code",
   "execution_count": 231,
   "metadata": {
    "id": "IB55dWe-UoTd"
   },
   "outputs": [],
   "source": [
    "def get_scaled_up_grads(glob_net, networks, self=None, iter=-1):\n",
    "    nets_grads=[]\n",
    "    clean_server_grad=None\n",
    "    grads=[]\n",
    "\n",
    "    for i in range(len(networks)):\n",
    "        grad_net=CNN().to(device)\n",
    "        grad_net.to(device)\n",
    "        grad_net.copy_params(networks[i].state_dict())\n",
    "        nets_grads.append(grad_net)\n",
    "        \n",
    "        grad_net.calc_grad(glob_net.state_dict())\n",
    "        grads.append(convert_model_to_param_list(grad_net))\n",
    "\n",
    "    scaled_grad=CNN().to(device)\n",
    "    scaled_grad.set_param_to_zero()\n",
    "    scaled_grad.aggregate([n.state_dict() for n in nets_grads], aggr_weights=[-1]*(len(networks)-1)+[len(networks)])\n",
    "\n",
    "    self.log.append((iter, 'Cos_sim btn scaled grad and clean server grad', 'get_scaled_up_grads', cos_calc(scaled_grad, nets_grads[-2])))\n",
    "    print(self.log[-1])\n",
    "    self.log.append((iter, 'Cos_sim btn mal grad and clean server grad', 'get_scaled_up_grads', cos_calc(nets_grads[-1], nets_grads[-2])))\n",
    "    print(self.log[-1])\n",
    "\n",
    "    scaled_grad.aggregate([glob_net.state_dict()], aggr_weights=[1])\n",
    "    return scaled_grad\n",
    "\n",
    "    "
   ]
  },
  {
   "cell_type": "code",
   "execution_count": 232,
   "metadata": {
    "id": "py2OvW8FfoTQ"
   },
   "outputs": [],
   "source": [
    "class CustomFL:\n",
    "    def __init__(self, num_of_benign_nets=1, num_of_mal_nets=1, inertia=0.1, n_iter=10,\n",
    "                 n_epochs=3, poison_starts_at_iter=3, learning_rate=0.1, momentum=0, weight_decay=0.1,\n",
    "                 attack_type='label_flip', scale_up=False, minimizeDist=True):\n",
    "        self.global_net = CNN().to(device)\n",
    "        self.global_net_optim = SGD(self.global_net.parameters(), lr=learning_rate, momentum=momentum, weight_decay=weight_decay)\n",
    "        self.global_net.to(device)\n",
    "        self.benign_nets = []\n",
    "        self.benign_net_optims = []\n",
    "        for i in range(num_of_benign_nets):\n",
    "            network = CNN(net_id=i)\n",
    "            network.copy_params(self.global_net.state_dict())\n",
    "            optim = SGD(network.parameters(), lr=learning_rate, momentum=momentum, weight_decay=weight_decay, inertia=inertia)\n",
    "            network.to(device)\n",
    "            self.benign_nets.append(network)\n",
    "            self.benign_net_optims.append(optim)\n",
    "        self.mal_nets = []\n",
    "        self.mal_net_optims = []\n",
    "        for i in range(num_of_mal_nets):\n",
    "            network = CNN(is_malicious=True, net_id=i)\n",
    "            network.copy_params(self.global_net.state_dict())\n",
    "            optim = SGD(network.parameters(), lr=learning_rate,\n",
    "                        momentum=momentum, weight_decay=weight_decay, inertia=inertia, minimizeDist=minimizeDist)\n",
    "            network.to(device)\n",
    "            self.mal_nets.append(network)\n",
    "            self.mal_net_optims.append(optim)\n",
    "\n",
    "        self.current_iter=0\n",
    "        self.num_of_benign_nets=num_of_benign_nets\n",
    "        self.num_of_mal_nets=num_of_mal_nets\n",
    "        self.inertia_rate=inertia\n",
    "        self.n_iter=n_iter\n",
    "        self.n_epochs=n_epochs\n",
    "        self.learning_rate=learning_rate\n",
    "        self.momentum=momentum\n",
    "        self.poison_starts_at_iter=poison_starts_at_iter\n",
    "        self.weight_decay=weight_decay\n",
    "        self.attack_type=attack_type\n",
    "        self.scale_up=scale_up\n",
    "\n",
    "        self.log=[]\n",
    "        self.debug_log={}\n",
    "        self.debug_log['cluster']=[]\n",
    "        self.debug_log['cluster_without_running_avg']=[]\n",
    "        self.debug_log['coses']=[]\n",
    "        n_nets=num_of_benign_nets+num_of_mal_nets\n",
    "        self.cos_matrices=[]\n",
    "        #self.cos_matrix.append(np.zeros((n_nets, n_nets)))\n",
    "\n",
    "    def cluster_grads(self, iter=-1):\n",
    "        nets = self.benign_nets + self.mal_nets\n",
    "        for net in nets:\n",
    "            net.calc_grad(self.global_net.state_dict(), change_self=False)\n",
    "\n",
    "        from sklearn.cluster import AgglomerativeClustering\n",
    "        X = [np.array(net.grad_params) for net in nets]\n",
    "        X= np.array(X)\n",
    "        clustering = AgglomerativeClustering(n_clusters=num_of_distributions, affinity='cosine', linkage='complete').fit(X)\n",
    "        from sklearn.metrics.cluster import adjusted_rand_score\n",
    "        print('Original Copylist', copylist)\n",
    "        print('Found clusters', clustering.labels_)\n",
    "        print('Original groups', [np.argwhere(np.array(copylist)==i).flatten() for i in range(num_of_distributions)])\n",
    "        print('Clustered groups', [np.argwhere(clustering.labels_==i).flatten() for i in range(num_of_distributions)])\n",
    "        print('Clustering score', adjusted_rand_score(clustering.labels_.tolist(), copylist))\n",
    "        self.log.append((iter, 'Original copylist', 'cluster_grads', copylist))\n",
    "        self.log.append((iter, 'Clusters', 'cluster_grads', clustering.labels_))\n",
    "        self.debug_log['cluster_without_running_avg'].append((iter, 'Cluster Score', 'cluster_grads', adjusted_rand_score(clustering.labels_.tolist(), copylist)))\n",
    "        \n",
    "        coses=[]\n",
    "        \n",
    "        for i1, net1 in enumerate(nets):\n",
    "            coses_l=[]\n",
    "            for i2, net2 in enumerate(nets):\n",
    "                coses_l.append(cos_calc_btn_grads(net1.grad_params, net2.grad_params))\n",
    "            coses.append(coses_l)\n",
    "            \n",
    "        coses = np.array(coses)\n",
    "        \n",
    "        '''\n",
    "        self.cos_matrix = self.cos_matrix + coses\n",
    "        self.cos_matrix = self.cos_matrix/np.max(self.cos_matrix)\n",
    "        '''\n",
    "        self.cos_matrices.append(coses)\n",
    "        print(len(self.cos_matrices))\n",
    "        \n",
    "        num_of_coses = np.minimum(len(self.cos_matrices), 5)\n",
    "        \n",
    "        cos_matrix=np.zeros((len(nets), len(nets)))\n",
    "        for i in range(num_of_coses):\n",
    "            cos_matrix+=self.cos_matrices[-i-1]\n",
    "            \n",
    "        cos_matrix = cos_matrix/num_of_coses\n",
    "                    \n",
    "        print(cos_matrix)\n",
    "        \n",
    "        clustering = AgglomerativeClustering(n_clusters=num_of_distributions, affinity='precomputed', linkage='complete').fit(1-cos_matrix)\n",
    "        print('Original Copylist', copylist)\n",
    "        print('Found clusters', clustering.labels_)\n",
    "        print('Original groups', [np.argwhere(np.array(copylist)==i).flatten() for i in range(num_of_distributions)])\n",
    "        print('Clustered groups', [np.argwhere(clustering.labels_==i).flatten() for i in range(num_of_distributions)])\n",
    "        print('Clustering score', adjusted_rand_score(clustering.labels_.tolist(), copylist))\n",
    "        self.debug_log['cluster'].append((iter, 'Cluster Score', 'cluster_grads', adjusted_rand_score(clustering.labels_.tolist(), copylist)))\n",
    "        \n",
    "        \n",
    "        '''\n",
    "        X = [np.array(net.grad_params) for net in self.benign_nets]\n",
    "        X= np.array(X)\n",
    "        copylist2=copylist[:self.num_of_benign_nets]\n",
    "        clustering = AgglomerativeClustering(n_clusters=len(set(copylist2)), affinity='cosine', linkage='complete').fit(X)\n",
    "        print('Original Copylist', copylist2)\n",
    "        print('Found clusters', clustering.labels_)\n",
    "        print('Original groups', [np.argwhere(np.array(copylist2)==i).flatten() for i in range(num_of_distributions)])\n",
    "        print('Clustered groups', [np.argwhere(clustering.labels_==i).flatten() for i in range(num_of_distributions)])\n",
    "        print('Clustering score', adjusted_rand_score(clustering.labels_.tolist(), copylist2))\n",
    "        '''\n",
    "        \n",
    "        return coses\n",
    "\n",
    "    def FLtrust(self, iter=-1):\n",
    "        clean_server_grad=None\n",
    "        grads=[]\n",
    "        nets_grads=[]\n",
    "        \n",
    "        nets = self.benign_nets + self.mal_nets\n",
    "        for net in nets:\n",
    "            net.calc_grad(self.global_net.state_dict(), change_self=False)\n",
    "            grad_net = CNN().to(device)\n",
    "            grad_net.to(device)\n",
    "            grad_net.copy_params(net.state_dict())\n",
    "            grad_net.aggregate([self.global_net.state_dict()], aggr_weights=[-1])\n",
    "            nets_grads.append(grad_net)\n",
    "\n",
    "        for i in range(self.num_of_benign_nets):\n",
    "            grads.append(self.benign_nets[i].grad_params)\n",
    "            if i==self.num_of_benign_nets-1:\n",
    "                clean_server_grad=grads[i]\n",
    "\n",
    "        for i in range(self.num_of_mal_nets):\n",
    "            grads.append(self.mal_nets[i].grad_params)\n",
    "        \n",
    "        norms = [torch.linalg.norm(grad) for grad in grads]\n",
    "        print('Norms of local gradients ', norms)\n",
    "        self.log.append((iter, 'Norms of local gradients ', 'FLTrust', norms))\n",
    "\n",
    "        \n",
    "        cos_sims=[cos_calc_btn_grads(grad, clean_server_grad) for grad in grads]\n",
    "\n",
    "        '''\n",
    "        for grad in grads:\n",
    "            cos_sims.append(torch.dot(grad, clean_server_grad)/ (torch.linalg.norm(grad)+ 1e-9) / (torch.linalg.norm(clean_server_grad)+ 1e-9))\n",
    "        '''\n",
    "        print('\\n Aggregating models')\n",
    "\n",
    "        #print([cos_calc() ])\n",
    "\n",
    "        print('Cosine Similarities: ', cos_sims)\n",
    "        self.log.append((iter, 'Cosine Similarities', 'FLtrust', cos_sims))\n",
    "        cos_sims = np.maximum(np.array(cos_sims), 0)\n",
    "        norm_weights = cos_sims/(np.sum(cos_sims)+1e-9)\n",
    "        for i in range(len(norm_weights)):\n",
    "            norm_weights[i] = norm_weights[i] * torch.linalg.norm(clean_server_grad) / (torch.linalg.norm(grads[i]))\n",
    "        \n",
    "        print('Aggregation Weights: ', norm_weights)\n",
    "        self.log.append((iter, 'Aggregation Weights', 'FLtrust', norm_weights))\n",
    "\n",
    "        self.global_net.aggregate([grad.state_dict() for grad in nets_grads], aggr_weights=norm_weights)\n",
    "            \n",
    "            \n",
    "\n",
    "    def train_local_net(self, is_malicious, net_id, iter, ref_net_for_minimizing_dist=None):\n",
    "        if is_malicious:\n",
    "            network=self.mal_nets[net_id]\n",
    "            optim=self.mal_net_optims[net_id]\n",
    "            # will change later to aggregate of benign_nets\n",
    "            if ref_net_for_minimizing_dist is None:\n",
    "                ref_net_for_minimizing_dist = self.benign_nets[0].parameters()\n",
    "            ref_grad, ref_net = ref_net_for_minimizing_dist\n",
    "            if ref_grad is None:\n",
    "                import sys\n",
    "                sys.exit()\n",
    "            if ref_grad is not None:\n",
    "                optim.__setrefgradparams__(ref_grad.parameters())\n",
    "            optim.__setrefparams__(ref_net.parameters())\n",
    "        else:\n",
    "            network=self.benign_nets[net_id]\n",
    "            optim=self.benign_net_optims[net_id]\n",
    "\n",
    "        (_, _, trainloader) = train_loaders[iter][net_id + is_malicious*self.num_of_benign_nets]\n",
    "\n",
    "        poisonNow = True if is_malicious and iter>=self.poison_starts_at_iter else False\n",
    "        for epoch in range(self.n_epochs if not poisonNow else (self.n_epochs*1)):\n",
    "            clientType = 'Malicious' if is_malicious else 'Benign'\n",
    "            print(f'Iter {iter} - Epoch {epoch} - Client Type: {clientType} - Client Number {net_id} - Poison Training {poisonNow}')\n",
    "            train_net(network, optim, trainloader, epoch, poisonNow=poisonNow, attack_type=self.attack_type)\n",
    "        network.calc_grad(self.global_net.state_dict(), change_self=False)\n",
    "        if poisonNow:\n",
    "            acc=test(network)\n",
    "            self.log.append((iter, 'Local net test accuracy: mal', 'train_local_net', acc))\n",
    "            if self.attack_type=='backdoorq':\n",
    "                acc = backdoor_test(network)\n",
    "                self.log.append((iter, 'Local net backdoor test accuracy: mal', 'train_local_net', acc))\n",
    "\n",
    "    def train(self):\n",
    "        n_epochs=self.n_epochs\n",
    "        self.n_epochs=1\n",
    "        for iter in range(self.n_iter):\n",
    "            distanceList=[]\n",
    "            cosList=[]\n",
    "            networks=[]\n",
    "            networks+=self.benign_nets\n",
    "            networks+=self.mal_nets\n",
    "            \n",
    "            for epoch in range(n_epochs):\n",
    "                \n",
    "                print(f'\\n\\n Entering epoch {epoch}')\n",
    "\n",
    "                for i in range(self.num_of_benign_nets):\n",
    "                    self.train_local_net(False, i, iter)\n",
    "                \n",
    "                if epoch==n_epochs-1:\n",
    "                    coses = self.cluster_grads(iter)\n",
    "\n",
    "                    self.debug_log['coses'].append((iter, epoch, coses))\n",
    "\n",
    "            benign_aggr_net=CNN().to(device)\n",
    "            benign_aggr_net.set_param_to_zero()\n",
    "\n",
    "            ### if adversary knows benign_net_aggregates\n",
    "            benign_aggr_net.aggregate([net.state_dict() for net in self.benign_nets])\n",
    "            ### if adversary knows clean server\n",
    "            #benign_aggr_net.copy_params(self.benign_nets[-1].state_dict())\n",
    "\n",
    "            benign_aggr_net_grad=CNN().to(device)\n",
    "            benign_aggr_net_grad.copy_params(benign_aggr_net.state_dict())\n",
    "            benign_aggr_net_grad.aggregate([self.global_net.state_dict()], aggr_weights=[-1])\n",
    "\n",
    "            \n",
    "            for i in range(self.num_of_mal_nets):\n",
    "                self.train_local_net(True, i, iter, ref_net_for_minimizing_dist=(benign_aggr_net_grad, benign_aggr_net))\n",
    "                \n",
    "                if self.scale_up:\n",
    "                    scaled_up_grad = get_scaled_up_grads(self.global_net, networks, self, iter)\n",
    "                    self.mal_nets[i].copy_params(scaled_up_grad.state_dict())\n",
    "                    #self.mal_nets[i].aggregate([benign_aggr_net.state_dict()])\n",
    "                \n",
    "\n",
    "            cosList=[cos_calc_btn_grads(net.grad_params, self.benign_nets[-1].grad_params) for net in networks]\n",
    "            distanceList=[calcDiff(net, self.benign_nets[-1]) for net in networks]\n",
    "\n",
    "            #self.cluster_grads()\n",
    "\n",
    "            self.log.append((iter, 'Benign net distance', 'train', distanceList[:self.num_of_benign_nets]))\n",
    "            print('Benign net distance', distanceList[:self.num_of_benign_nets])\n",
    "            self.log.append((iter, 'Malicious net distance', 'train', distanceList[self.num_of_benign_nets:]))\n",
    "            print('Malicious net distance', distanceList[self.num_of_benign_nets:])\n",
    "            self.log.append((iter, 'Cos sim list', 'train', cosList))\n",
    "            print('cos_sim list ', cosList)\n",
    "\n",
    "            # aggregate nets\n",
    "            #self.global_net.set_param_to_zero()\n",
    "            #self.global_net.aggregate([network.state_dict() for network in networks])\n",
    "            self.FLtrust(iter=iter)\n",
    "            print('\\n\\n\\nAggregate test at iter ', iter)\n",
    "            acc=test(self.global_net)\n",
    "            self.log.append((iter, 'Test accuracy: agg net', 'train', acc))\n",
    "            #backdoor_test(self.global_net)\n",
    "            self.log.append((iter, 'Backdoor test accuracy: agg net', 'train', acc))\n",
    "            self.log.append((iter, 'Distance between aggregate global and clean server', 'train', calcDiff(self.global_net, self.benign_nets[-1])))\n",
    "\n",
    "            # set all local nets equal to global net at the end of the iteration\n",
    "            \n",
    "            for network in networks:\n",
    "                network.copy_params(self.global_net.state_dict())\n",
    "            "
   ]
  },
  {
   "cell_type": "code",
   "execution_count": 233,
   "metadata": {
    "id": "IPqR6UKz9G7U"
   },
   "outputs": [],
   "source": [
    "poison_dict = dict()\n",
    "poison_dict['poison_delta'] = 0.1\n",
    "poison_dict['poison_pattern'] = [[23,25], [24,24],[25,23],[25,25]]\n",
    "poison_dict['poisoning_per_batch'] = 80\n",
    "poison_dict['poison_label_swap'] = 0"
   ]
  },
  {
   "cell_type": "code",
   "execution_count": 234,
   "metadata": {
    "colab": {
     "base_uri": "https://localhost:8080/"
    },
    "id": "szKjrPoXvw_x",
    "outputId": "f9875642-8768-4770-8b3a-57106ae85412"
   },
   "outputs": [
    {
     "name": "stdout",
     "output_type": "stream",
     "text": [
      "[5, 1, 2, 3, 1, 1, 1, 6] 20\n",
      "[7, 2, 5, 3, 2, 7, 3, 7, 0, 7, 0, 0, 4, 0, 0, 7, 3, 1, 7, 6]\n"
     ]
    },
    {
     "data": {
      "text/plain": [
       "<torch._C.Generator at 0x1c2913e2250>"
      ]
     },
     "execution_count": 234,
     "metadata": {},
     "output_type": "execute_result"
    }
   ],
   "source": [
    "#@title\n",
    "import torchvision\n",
    "import random\n",
    "\n",
    "batch_size_train = 100\n",
    "batch_size_test = 1000\n",
    "learning_rate = 0.01\n",
    "log_interval = 10\n",
    "\n",
    "\n",
    "### important hyperparameters\n",
    "num_of_workers=20\n",
    "num_of_mal_workers=0\n",
    "n_iter=50\n",
    "n_epochs=5\n",
    "poison_starts_at_iter=n_iter\n",
    "inertia=0.1\n",
    "momentum=0.1\n",
    "attack_type='label_flip'\n",
    "scale_up=False\n",
    "minimizeDist=False\n",
    "\n",
    "iid = False\n",
    "num_of_distributions = int(num_of_workers/2)\n",
    "num_of_workers_in_distribs = num_of_workers * np.random.dirichlet(np.array(num_of_distributions * [3.0]))\n",
    "num_of_workers_in_distribs = [int(val) for val in num_of_workers_in_distribs]\n",
    "while 0 in num_of_workers_in_distribs:\n",
    "    num_of_workers_in_distribs.remove(0)\n",
    "num_of_workers_in_distribs.append(num_of_workers-sum(num_of_workers_in_distribs))\n",
    "print(num_of_workers_in_distribs, sum(num_of_workers_in_distribs))\n",
    "num_of_distributions = len(num_of_workers_in_distribs)\n",
    "copylist = []\n",
    "for i in range(len(num_of_workers_in_distribs)):\n",
    "    copylist += num_of_workers_in_distribs[i]*[i]\n",
    "random.shuffle(copylist)\n",
    "print(copylist)\n",
    "\n",
    "device=torch.device('cuda:0' if torch.cuda.is_available() else 'cpu')\n",
    "\n",
    "random_seed = 1\n",
    "torch.backends.cudnn.enabled = False\n",
    "torch.manual_seed(random_seed)"
   ]
  },
  {
   "cell_type": "code",
   "execution_count": 235,
   "metadata": {
    "id": "UoYIstgt9-TH"
   },
   "outputs": [],
   "source": [
    "train_losses = []\n",
    "train_counter = []\n",
    "test_losses = []\n",
    "#test_counter = [i*len(train_loader.dataset) for i in range(n_epochs + 1)]"
   ]
  },
  {
   "cell_type": "code",
   "execution_count": 236,
   "metadata": {
    "id": "5WkA_f7UuiOP"
   },
   "outputs": [],
   "source": [
    "#@title\n",
    "from torchvision import datasets, transforms\n",
    "\n",
    "dataPath = ''\n",
    "\n",
    "import random\n",
    "\n",
    "train_loaders=[]\n",
    "\n",
    "transform = transforms.Compose([transforms.ToTensor(),\n",
    "    ### if dataset is mnist\n",
    "    transforms.Normalize((0.1307,), (0.3081,))])\n",
    "    ### if dataset is cifar\n",
    "    #transforms.Normalize((0.5, 0.5, 0.5), (0.5, 0.5, 0.5))])\n",
    "\n",
    "train_dataset = datasets.FashionMNIST('', train=True, download=True,\n",
    "                               transform=transform)\n",
    "test_dataset = datasets.FashionMNIST('', train=False, transform=transform)\n",
    "\n",
    "test_loader = torch.utils.data.DataLoader(\n",
    "  test_dataset,\n",
    "  batch_size=batch_size_test, shuffle=True)\n",
    "\n",
    "all_range = list(range(len(train_dataset)))\n",
    "random.shuffle(all_range)\n",
    "\n",
    "def get_train_iid(all_range, model_no, iter_no):\n",
    "    \"\"\"\n",
    "    This method equally splits the dataset.\n",
    "    :param params:\n",
    "    :param all_range:\n",
    "    :param model_no:\n",
    "    :return:\n",
    "    \"\"\"\n",
    "\n",
    "    data_len_for_iter = int(len(train_dataset) / n_iter)\n",
    "    data_len = int(data_len_for_iter/num_of_workers)\n",
    "    sub_indices_for_iter = all_range[iter_no * data_len_for_iter: (iter_no + 1) * data_len_for_iter]\n",
    "    sub_indices = sub_indices_for_iter[model_no * data_len: (model_no + 1) * data_len ]\n",
    "    train_loader = torch.utils.data.DataLoader(train_dataset,\n",
    "                                        batch_size=batch_size_train,\n",
    "                                        sampler=torch.utils.data.sampler.SubsetRandomSampler(sub_indices)\n",
    "                                        )\n",
    "    return train_loader\n",
    "\n",
    "def get_train_noniid(indices):\n",
    "    \"\"\"\n",
    "    This method is used along with Dirichlet distribution\n",
    "    :param params:\n",
    "    :param indices:\n",
    "    :return:\n",
    "    \"\"\"\n",
    "    train_loader = torch.utils.data.DataLoader(train_dataset,\n",
    "                                        batch_size=int(len(train_dataset)/num_of_workers),\n",
    "                                        sampler=torch.utils.data.sampler.SubsetRandomSampler(\n",
    "                                            indices))\n",
    "    return train_loader\n",
    "\n",
    "def poison_test_dataset(test_dataset, batch_size):\n",
    "    logger.info('get poison test loader')\n",
    "    # delete the test data with target label\n",
    "    test_classes = {}\n",
    "    for ind, x in enumerate(test_dataset):\n",
    "        _, label = x\n",
    "        if label in test_classes:\n",
    "            test_classes[label].append(ind)\n",
    "        else:\n",
    "            test_classes[label] = [ind]\n",
    "\n",
    "    range_no_id = list(range(0, len(test_dataset)))\n",
    "    for image_ind in test_classes[poison_dict['poison_label_swap']]:\n",
    "        if image_ind in range_no_id:\n",
    "            range_no_id.remove(image_ind)\n",
    "    poison_label_inds = test_classes[poison_dict['poison_label_swap']]\n",
    "\n",
    "    return torch.utils.data.DataLoader(test_dataset,\n",
    "                        batch_size=batch_size,\n",
    "                        sampler=torch.utils.data.sampler.SubsetRandomSampler(\n",
    "                            range_no_id)), \\\n",
    "            torch.utils.data.DataLoader(test_dataset,\n",
    "                                        batch_size=batch_size,\n",
    "                                        sampler=torch.utils.data.sampler.SubsetRandomSampler(\n",
    "                                            poison_label_inds))\n",
    "    "
   ]
  },
  {
   "cell_type": "code",
   "execution_count": 237,
   "metadata": {
    "id": "nprLWVYSlzMe"
   },
   "outputs": [],
   "source": [
    "from collections import defaultdict\n",
    "\n",
    "def sample_dirichlet_train_data(no_participants=num_of_workers, dataset=train_dataset, alpha=0.9, copylist=np.arange(num_of_workers)):\n",
    "    \"\"\"\n",
    "        Input: Number of participants and alpha (param for distribution)\n",
    "        Output: A list of indices denoting data in CIFAR training set.\n",
    "        Requires: dataset_classes, a preprocessed class-indice dictionary.\n",
    "        Sample Method: take a uniformly sampled 10-dimension vector as parameters for\n",
    "        dirichlet distribution to sample number of images in each class.\n",
    "    \"\"\"\n",
    "\n",
    "    dataset_classes = {}\n",
    "    for ind, x in enumerate(dataset):\n",
    "        _, label = x\n",
    "        #if ind in self.params['poison_images'] or ind in self.params['poison_images_test']:\n",
    "        #    continue\n",
    "        if label in dataset_classes:\n",
    "            dataset_classes[label].append(ind)\n",
    "        else:\n",
    "            dataset_classes[label] = [ind]\n",
    "    class_size = len(dataset_classes[0])\n",
    "    per_participant_list = defaultdict(list)\n",
    "    no_classes = len(dataset_classes.keys())\n",
    "\n",
    "    for n in range(no_classes):\n",
    "        random.shuffle(dataset_classes[n])\n",
    "        num_of_non_iid_participants = len(np.unique(copylist))\n",
    "        sampled_probabilities = np.random.dirichlet(\n",
    "            np.array(num_of_non_iid_participants * [alpha]))\n",
    "        new_list = []\n",
    "        for ip in copylist:\n",
    "            #new_list.append(np.random.normal(loc=sampled_probabilities[ip], scale=0.005))\n",
    "            new_list.append(sampled_probabilities[ip])\n",
    "        sampled_probabilities = class_size * np.array(new_list)/np.sum(np.array(new_list))\n",
    "        sigmas = 0.0 * sampled_probabilities\n",
    "        sampled_probabilities = np.random.normal(sampled_probabilities, scale=sigmas)\n",
    "        print(sampled_probabilities)\n",
    "        for user in range(no_participants):\n",
    "            no_imgs = int(round(sampled_probabilities[user]))\n",
    "            sampled_list = dataset_classes[n][:min(len(dataset_classes[n]), no_imgs)]\n",
    "            per_participant_list[user].extend(sampled_list)\n",
    "            dataset_classes[n] = dataset_classes[n][min(len(dataset_classes[n]), no_imgs):]\n",
    "\n",
    "    return per_participant_list"
   ]
  },
  {
   "cell_type": "code",
   "execution_count": 238,
   "metadata": {
    "colab": {
     "base_uri": "https://localhost:8080/"
    },
    "id": "eoJhvrcTwY6O",
    "outputId": "68bbf02a-521b-49df-d5f8-bf85c527128b"
   },
   "outputs": [
    {
     "name": "stdout",
     "output_type": "stream",
     "text": [
      "[347.85513455  33.27599468 367.35312774 156.13870521  33.27599468\n",
      " 347.85513455 156.13870521 347.85513455 426.49062897 347.85513455\n",
      " 426.49062897 426.49062897 276.32069897 426.49062897 426.49062897\n",
      " 347.85513455 156.13870521 474.11039388 347.85513455 127.66372223]\n",
      "[ 252.6580518    79.51277591 1152.03124912  230.98893151   79.51277591\n",
      "  252.6580518   230.98893151  252.6580518   305.4514268   252.6580518\n",
      "  305.4514268   305.4514268     6.74690775  305.4514268   305.4514268\n",
      "  252.6580518   230.98893151  593.44580993  252.6580518   352.57824202]\n",
      "[ 44.3210363  679.07448741  25.5064015  265.83763002 679.07448741\n",
      "  44.3210363  265.83763002  44.3210363  563.46380825  44.3210363\n",
      " 563.46380825 563.46380825 295.76219686 563.46380825 563.46380825\n",
      "  44.3210363  265.83763002 244.8840211   44.3210363  194.94025661]\n",
      "[312.81493062  69.5611717   58.15780657 335.5432888   69.5611717\n",
      " 312.81493062 335.5432888  312.81493062 448.85366919 312.81493062\n",
      " 448.85366919 448.85366919  63.59509883 448.85366919 448.85366919\n",
      " 312.81493062 335.5432888  187.33368852 312.81493062 424.00326662]\n",
      "[ 108.22732528  430.99259594  576.27955938  513.38924583  430.99259594\n",
      "  108.22732528  513.38924583  108.22732528  205.83102693  108.22732528\n",
      "  205.83102693  205.83102693   15.23052588  205.83102693  205.83102693\n",
      "  108.22732528  513.38924583  253.08193471  108.22732528 1074.73596434]\n",
      "[ 234.60881028   89.12793469 1279.30046711   60.95284122   89.12793469\n",
      "  234.60881028   60.95284122  234.60881028  203.67641946  234.60881028\n",
      "  203.67641946  203.67641946   97.57442944  203.67641946  203.67641946\n",
      "  234.60881028   60.95284122 1815.50877174  234.60881028   20.46697971]\n",
      "[177.82974556  12.20727975 169.44709086 316.74065758  12.20727975\n",
      " 177.82974556 316.74065758 177.82974556 701.83603419 177.82974556\n",
      " 701.83603419 701.83603419 118.547983   701.83603419 701.83603419\n",
      " 177.82974556 316.74065758  16.73241922 177.82974556 144.47733036]\n",
      "[480.74917312 486.80830987  78.81754253  79.69922001 486.80830987\n",
      " 480.74917312  79.69922001 480.74917312 141.51855033 480.74917312\n",
      " 141.51855033 141.51855033 281.59492432 141.51855033 141.51855033\n",
      " 480.74917312  79.69922001 239.02147578 480.74917312 595.76398724]\n",
      "[422.29689446 268.15434456 195.88257151 350.91909629 268.15434456\n",
      " 422.29689446 350.91909629 422.29689446 122.75436921 422.29689446\n",
      " 122.75436921 122.75436921 449.22385616 122.75436921 122.75436921\n",
      " 422.29689446 350.91909629  33.08663834 422.29689446 585.18774318]\n",
      "[500.6728196  262.10936439  92.46678359 411.64047389 262.10936439\n",
      " 500.6728196  411.64047389 500.6728196   66.19547277 500.6728196\n",
      "  66.19547277  66.19547277 260.83930537  66.19547277  66.19547277\n",
      " 500.6728196  411.64047389 551.31784664 500.6728196    1.22163246]\n",
      "[[(-1, 0, <torch.utils.data.dataloader.DataLoader object at 0x000001C2E1155AC8>), (-1, 1, <torch.utils.data.dataloader.DataLoader object at 0x000001C2E34BF308>), (-1, 2, <torch.utils.data.dataloader.DataLoader object at 0x000001C2E34BF8C8>), (-1, 3, <torch.utils.data.dataloader.DataLoader object at 0x000001C2E34BF608>), (-1, 4, <torch.utils.data.dataloader.DataLoader object at 0x000001C2E1652E88>), (-1, 5, <torch.utils.data.dataloader.DataLoader object at 0x000001C2E1652D08>), (-1, 6, <torch.utils.data.dataloader.DataLoader object at 0x000001C2E16523C8>), (-1, 7, <torch.utils.data.dataloader.DataLoader object at 0x000001C2E1652948>), (-1, 8, <torch.utils.data.dataloader.DataLoader object at 0x000001C2E16528C8>), (-1, 9, <torch.utils.data.dataloader.DataLoader object at 0x000001C2E1652848>), (-1, 10, <torch.utils.data.dataloader.DataLoader object at 0x000001C2E1628148>), (-1, 11, <torch.utils.data.dataloader.DataLoader object at 0x000001C2E1628EC8>), (-1, 12, <torch.utils.data.dataloader.DataLoader object at 0x000001C2E1628D48>), (-1, 13, <torch.utils.data.dataloader.DataLoader object at 0x000001C2E1628B88>), (-1, 14, <torch.utils.data.dataloader.DataLoader object at 0x000001C2E1628E88>), (-1, 15, <torch.utils.data.dataloader.DataLoader object at 0x000001C2E1628248>), (-1, 16, <torch.utils.data.dataloader.DataLoader object at 0x000001C2E1628588>), (-1, 17, <torch.utils.data.dataloader.DataLoader object at 0x000001C2E1628F08>), (-1, 18, <torch.utils.data.dataloader.DataLoader object at 0x000001C2E13D0108>), (-1, 19, <torch.utils.data.dataloader.DataLoader object at 0x000001C2E13D09C8>)], [(-1, 0, <torch.utils.data.dataloader.DataLoader object at 0x000001C2E1155AC8>), (-1, 1, <torch.utils.data.dataloader.DataLoader object at 0x000001C2E34BF308>), (-1, 2, <torch.utils.data.dataloader.DataLoader object at 0x000001C2E34BF8C8>), (-1, 3, <torch.utils.data.dataloader.DataLoader object at 0x000001C2E34BF608>), (-1, 4, <torch.utils.data.dataloader.DataLoader object at 0x000001C2E1652E88>), (-1, 5, <torch.utils.data.dataloader.DataLoader object at 0x000001C2E1652D08>), (-1, 6, <torch.utils.data.dataloader.DataLoader object at 0x000001C2E16523C8>), (-1, 7, <torch.utils.data.dataloader.DataLoader object at 0x000001C2E1652948>), (-1, 8, <torch.utils.data.dataloader.DataLoader object at 0x000001C2E16528C8>), (-1, 9, <torch.utils.data.dataloader.DataLoader object at 0x000001C2E1652848>), (-1, 10, <torch.utils.data.dataloader.DataLoader object at 0x000001C2E1628148>), (-1, 11, <torch.utils.data.dataloader.DataLoader object at 0x000001C2E1628EC8>), (-1, 12, <torch.utils.data.dataloader.DataLoader object at 0x000001C2E1628D48>), (-1, 13, <torch.utils.data.dataloader.DataLoader object at 0x000001C2E1628B88>), (-1, 14, <torch.utils.data.dataloader.DataLoader object at 0x000001C2E1628E88>), (-1, 15, <torch.utils.data.dataloader.DataLoader object at 0x000001C2E1628248>), (-1, 16, <torch.utils.data.dataloader.DataLoader object at 0x000001C2E1628588>), (-1, 17, <torch.utils.data.dataloader.DataLoader object at 0x000001C2E1628F08>), (-1, 18, <torch.utils.data.dataloader.DataLoader object at 0x000001C2E13D0108>), (-1, 19, <torch.utils.data.dataloader.DataLoader object at 0x000001C2E13D09C8>)], [(-1, 0, <torch.utils.data.dataloader.DataLoader object at 0x000001C2E1155AC8>), (-1, 1, <torch.utils.data.dataloader.DataLoader object at 0x000001C2E34BF308>), (-1, 2, <torch.utils.data.dataloader.DataLoader object at 0x000001C2E34BF8C8>), (-1, 3, <torch.utils.data.dataloader.DataLoader object at 0x000001C2E34BF608>), (-1, 4, <torch.utils.data.dataloader.DataLoader object at 0x000001C2E1652E88>), (-1, 5, <torch.utils.data.dataloader.DataLoader object at 0x000001C2E1652D08>), (-1, 6, <torch.utils.data.dataloader.DataLoader object at 0x000001C2E16523C8>), (-1, 7, <torch.utils.data.dataloader.DataLoader object at 0x000001C2E1652948>), (-1, 8, <torch.utils.data.dataloader.DataLoader object at 0x000001C2E16528C8>), (-1, 9, <torch.utils.data.dataloader.DataLoader object at 0x000001C2E1652848>), (-1, 10, <torch.utils.data.dataloader.DataLoader object at 0x000001C2E1628148>), (-1, 11, <torch.utils.data.dataloader.DataLoader object at 0x000001C2E1628EC8>), (-1, 12, <torch.utils.data.dataloader.DataLoader object at 0x000001C2E1628D48>), (-1, 13, <torch.utils.data.dataloader.DataLoader object at 0x000001C2E1628B88>), (-1, 14, <torch.utils.data.dataloader.DataLoader object at 0x000001C2E1628E88>), (-1, 15, <torch.utils.data.dataloader.DataLoader object at 0x000001C2E1628248>), (-1, 16, <torch.utils.data.dataloader.DataLoader object at 0x000001C2E1628588>), (-1, 17, <torch.utils.data.dataloader.DataLoader object at 0x000001C2E1628F08>), (-1, 18, <torch.utils.data.dataloader.DataLoader object at 0x000001C2E13D0108>), (-1, 19, <torch.utils.data.dataloader.DataLoader object at 0x000001C2E13D09C8>)], [(-1, 0, <torch.utils.data.dataloader.DataLoader object at 0x000001C2E1155AC8>), (-1, 1, <torch.utils.data.dataloader.DataLoader object at 0x000001C2E34BF308>), (-1, 2, <torch.utils.data.dataloader.DataLoader object at 0x000001C2E34BF8C8>), (-1, 3, <torch.utils.data.dataloader.DataLoader object at 0x000001C2E34BF608>), (-1, 4, <torch.utils.data.dataloader.DataLoader object at 0x000001C2E1652E88>), (-1, 5, <torch.utils.data.dataloader.DataLoader object at 0x000001C2E1652D08>), (-1, 6, <torch.utils.data.dataloader.DataLoader object at 0x000001C2E16523C8>), (-1, 7, <torch.utils.data.dataloader.DataLoader object at 0x000001C2E1652948>), (-1, 8, <torch.utils.data.dataloader.DataLoader object at 0x000001C2E16528C8>), (-1, 9, <torch.utils.data.dataloader.DataLoader object at 0x000001C2E1652848>), (-1, 10, <torch.utils.data.dataloader.DataLoader object at 0x000001C2E1628148>), (-1, 11, <torch.utils.data.dataloader.DataLoader object at 0x000001C2E1628EC8>), (-1, 12, <torch.utils.data.dataloader.DataLoader object at 0x000001C2E1628D48>), (-1, 13, <torch.utils.data.dataloader.DataLoader object at 0x000001C2E1628B88>), (-1, 14, <torch.utils.data.dataloader.DataLoader object at 0x000001C2E1628E88>), (-1, 15, <torch.utils.data.dataloader.DataLoader object at 0x000001C2E1628248>), (-1, 16, <torch.utils.data.dataloader.DataLoader object at 0x000001C2E1628588>), (-1, 17, <torch.utils.data.dataloader.DataLoader object at 0x000001C2E1628F08>), (-1, 18, <torch.utils.data.dataloader.DataLoader object at 0x000001C2E13D0108>), (-1, 19, <torch.utils.data.dataloader.DataLoader object at 0x000001C2E13D09C8>)], [(-1, 0, <torch.utils.data.dataloader.DataLoader object at 0x000001C2E1155AC8>), (-1, 1, <torch.utils.data.dataloader.DataLoader object at 0x000001C2E34BF308>), (-1, 2, <torch.utils.data.dataloader.DataLoader object at 0x000001C2E34BF8C8>), (-1, 3, <torch.utils.data.dataloader.DataLoader object at 0x000001C2E34BF608>), (-1, 4, <torch.utils.data.dataloader.DataLoader object at 0x000001C2E1652E88>), (-1, 5, <torch.utils.data.dataloader.DataLoader object at 0x000001C2E1652D08>), (-1, 6, <torch.utils.data.dataloader.DataLoader object at 0x000001C2E16523C8>), (-1, 7, <torch.utils.data.dataloader.DataLoader object at 0x000001C2E1652948>), (-1, 8, <torch.utils.data.dataloader.DataLoader object at 0x000001C2E16528C8>), (-1, 9, <torch.utils.data.dataloader.DataLoader object at 0x000001C2E1652848>), (-1, 10, <torch.utils.data.dataloader.DataLoader object at 0x000001C2E1628148>), (-1, 11, <torch.utils.data.dataloader.DataLoader object at 0x000001C2E1628EC8>), (-1, 12, <torch.utils.data.dataloader.DataLoader object at 0x000001C2E1628D48>), (-1, 13, <torch.utils.data.dataloader.DataLoader object at 0x000001C2E1628B88>), (-1, 14, <torch.utils.data.dataloader.DataLoader object at 0x000001C2E1628E88>), (-1, 15, <torch.utils.data.dataloader.DataLoader object at 0x000001C2E1628248>), (-1, 16, <torch.utils.data.dataloader.DataLoader object at 0x000001C2E1628588>), (-1, 17, <torch.utils.data.dataloader.DataLoader object at 0x000001C2E1628F08>), (-1, 18, <torch.utils.data.dataloader.DataLoader object at 0x000001C2E13D0108>), (-1, 19, <torch.utils.data.dataloader.DataLoader object at 0x000001C2E13D09C8>)], [(-1, 0, <torch.utils.data.dataloader.DataLoader object at 0x000001C2E1155AC8>), (-1, 1, <torch.utils.data.dataloader.DataLoader object at 0x000001C2E34BF308>), (-1, 2, <torch.utils.data.dataloader.DataLoader object at 0x000001C2E34BF8C8>), (-1, 3, <torch.utils.data.dataloader.DataLoader object at 0x000001C2E34BF608>), (-1, 4, <torch.utils.data.dataloader.DataLoader object at 0x000001C2E1652E88>), (-1, 5, <torch.utils.data.dataloader.DataLoader object at 0x000001C2E1652D08>), (-1, 6, <torch.utils.data.dataloader.DataLoader object at 0x000001C2E16523C8>), (-1, 7, <torch.utils.data.dataloader.DataLoader object at 0x000001C2E1652948>), (-1, 8, <torch.utils.data.dataloader.DataLoader object at 0x000001C2E16528C8>), (-1, 9, <torch.utils.data.dataloader.DataLoader object at 0x000001C2E1652848>), (-1, 10, <torch.utils.data.dataloader.DataLoader object at 0x000001C2E1628148>), (-1, 11, <torch.utils.data.dataloader.DataLoader object at 0x000001C2E1628EC8>), (-1, 12, <torch.utils.data.dataloader.DataLoader object at 0x000001C2E1628D48>), (-1, 13, <torch.utils.data.dataloader.DataLoader object at 0x000001C2E1628B88>), (-1, 14, <torch.utils.data.dataloader.DataLoader object at 0x000001C2E1628E88>), (-1, 15, <torch.utils.data.dataloader.DataLoader object at 0x000001C2E1628248>), (-1, 16, <torch.utils.data.dataloader.DataLoader object at 0x000001C2E1628588>), (-1, 17, <torch.utils.data.dataloader.DataLoader object at 0x000001C2E1628F08>), (-1, 18, <torch.utils.data.dataloader.DataLoader object at 0x000001C2E13D0108>), (-1, 19, <torch.utils.data.dataloader.DataLoader object at 0x000001C2E13D09C8>)], [(-1, 0, <torch.utils.data.dataloader.DataLoader object at 0x000001C2E1155AC8>), (-1, 1, <torch.utils.data.dataloader.DataLoader object at 0x000001C2E34BF308>), (-1, 2, <torch.utils.data.dataloader.DataLoader object at 0x000001C2E34BF8C8>), (-1, 3, <torch.utils.data.dataloader.DataLoader object at 0x000001C2E34BF608>), (-1, 4, <torch.utils.data.dataloader.DataLoader object at 0x000001C2E1652E88>), (-1, 5, <torch.utils.data.dataloader.DataLoader object at 0x000001C2E1652D08>), (-1, 6, <torch.utils.data.dataloader.DataLoader object at 0x000001C2E16523C8>), (-1, 7, <torch.utils.data.dataloader.DataLoader object at 0x000001C2E1652948>), (-1, 8, <torch.utils.data.dataloader.DataLoader object at 0x000001C2E16528C8>), (-1, 9, <torch.utils.data.dataloader.DataLoader object at 0x000001C2E1652848>), (-1, 10, <torch.utils.data.dataloader.DataLoader object at 0x000001C2E1628148>), (-1, 11, <torch.utils.data.dataloader.DataLoader object at 0x000001C2E1628EC8>), (-1, 12, <torch.utils.data.dataloader.DataLoader object at 0x000001C2E1628D48>), (-1, 13, <torch.utils.data.dataloader.DataLoader object at 0x000001C2E1628B88>), (-1, 14, <torch.utils.data.dataloader.DataLoader object at 0x000001C2E1628E88>), (-1, 15, <torch.utils.data.dataloader.DataLoader object at 0x000001C2E1628248>), (-1, 16, <torch.utils.data.dataloader.DataLoader object at 0x000001C2E1628588>), (-1, 17, <torch.utils.data.dataloader.DataLoader object at 0x000001C2E1628F08>), (-1, 18, <torch.utils.data.dataloader.DataLoader object at 0x000001C2E13D0108>), (-1, 19, <torch.utils.data.dataloader.DataLoader object at 0x000001C2E13D09C8>)], [(-1, 0, <torch.utils.data.dataloader.DataLoader object at 0x000001C2E1155AC8>), (-1, 1, <torch.utils.data.dataloader.DataLoader object at 0x000001C2E34BF308>), (-1, 2, <torch.utils.data.dataloader.DataLoader object at 0x000001C2E34BF8C8>), (-1, 3, <torch.utils.data.dataloader.DataLoader object at 0x000001C2E34BF608>), (-1, 4, <torch.utils.data.dataloader.DataLoader object at 0x000001C2E1652E88>), (-1, 5, <torch.utils.data.dataloader.DataLoader object at 0x000001C2E1652D08>), (-1, 6, <torch.utils.data.dataloader.DataLoader object at 0x000001C2E16523C8>), (-1, 7, <torch.utils.data.dataloader.DataLoader object at 0x000001C2E1652948>), (-1, 8, <torch.utils.data.dataloader.DataLoader object at 0x000001C2E16528C8>), (-1, 9, <torch.utils.data.dataloader.DataLoader object at 0x000001C2E1652848>), (-1, 10, <torch.utils.data.dataloader.DataLoader object at 0x000001C2E1628148>), (-1, 11, <torch.utils.data.dataloader.DataLoader object at 0x000001C2E1628EC8>), (-1, 12, <torch.utils.data.dataloader.DataLoader object at 0x000001C2E1628D48>), (-1, 13, <torch.utils.data.dataloader.DataLoader object at 0x000001C2E1628B88>), (-1, 14, <torch.utils.data.dataloader.DataLoader object at 0x000001C2E1628E88>), (-1, 15, <torch.utils.data.dataloader.DataLoader object at 0x000001C2E1628248>), (-1, 16, <torch.utils.data.dataloader.DataLoader object at 0x000001C2E1628588>), (-1, 17, <torch.utils.data.dataloader.DataLoader object at 0x000001C2E1628F08>), (-1, 18, <torch.utils.data.dataloader.DataLoader object at 0x000001C2E13D0108>), (-1, 19, <torch.utils.data.dataloader.DataLoader object at 0x000001C2E13D09C8>)], [(-1, 0, <torch.utils.data.dataloader.DataLoader object at 0x000001C2E1155AC8>), (-1, 1, <torch.utils.data.dataloader.DataLoader object at 0x000001C2E34BF308>), (-1, 2, <torch.utils.data.dataloader.DataLoader object at 0x000001C2E34BF8C8>), (-1, 3, <torch.utils.data.dataloader.DataLoader object at 0x000001C2E34BF608>), (-1, 4, <torch.utils.data.dataloader.DataLoader object at 0x000001C2E1652E88>), (-1, 5, <torch.utils.data.dataloader.DataLoader object at 0x000001C2E1652D08>), (-1, 6, <torch.utils.data.dataloader.DataLoader object at 0x000001C2E16523C8>), (-1, 7, <torch.utils.data.dataloader.DataLoader object at 0x000001C2E1652948>), (-1, 8, <torch.utils.data.dataloader.DataLoader object at 0x000001C2E16528C8>), (-1, 9, <torch.utils.data.dataloader.DataLoader object at 0x000001C2E1652848>), (-1, 10, <torch.utils.data.dataloader.DataLoader object at 0x000001C2E1628148>), (-1, 11, <torch.utils.data.dataloader.DataLoader object at 0x000001C2E1628EC8>), (-1, 12, <torch.utils.data.dataloader.DataLoader object at 0x000001C2E1628D48>), (-1, 13, <torch.utils.data.dataloader.DataLoader object at 0x000001C2E1628B88>), (-1, 14, <torch.utils.data.dataloader.DataLoader object at 0x000001C2E1628E88>), (-1, 15, <torch.utils.data.dataloader.DataLoader object at 0x000001C2E1628248>), (-1, 16, <torch.utils.data.dataloader.DataLoader object at 0x000001C2E1628588>), (-1, 17, <torch.utils.data.dataloader.DataLoader object at 0x000001C2E1628F08>), (-1, 18, <torch.utils.data.dataloader.DataLoader object at 0x000001C2E13D0108>), (-1, 19, <torch.utils.data.dataloader.DataLoader object at 0x000001C2E13D09C8>)], [(-1, 0, <torch.utils.data.dataloader.DataLoader object at 0x000001C2E1155AC8>), (-1, 1, <torch.utils.data.dataloader.DataLoader object at 0x000001C2E34BF308>), (-1, 2, <torch.utils.data.dataloader.DataLoader object at 0x000001C2E34BF8C8>), (-1, 3, <torch.utils.data.dataloader.DataLoader object at 0x000001C2E34BF608>), (-1, 4, <torch.utils.data.dataloader.DataLoader object at 0x000001C2E1652E88>), (-1, 5, <torch.utils.data.dataloader.DataLoader object at 0x000001C2E1652D08>), (-1, 6, <torch.utils.data.dataloader.DataLoader object at 0x000001C2E16523C8>), (-1, 7, <torch.utils.data.dataloader.DataLoader object at 0x000001C2E1652948>), (-1, 8, <torch.utils.data.dataloader.DataLoader object at 0x000001C2E16528C8>), (-1, 9, <torch.utils.data.dataloader.DataLoader object at 0x000001C2E1652848>), (-1, 10, <torch.utils.data.dataloader.DataLoader object at 0x000001C2E1628148>), (-1, 11, <torch.utils.data.dataloader.DataLoader object at 0x000001C2E1628EC8>), (-1, 12, <torch.utils.data.dataloader.DataLoader object at 0x000001C2E1628D48>), (-1, 13, <torch.utils.data.dataloader.DataLoader object at 0x000001C2E1628B88>), (-1, 14, <torch.utils.data.dataloader.DataLoader object at 0x000001C2E1628E88>), (-1, 15, <torch.utils.data.dataloader.DataLoader object at 0x000001C2E1628248>), (-1, 16, <torch.utils.data.dataloader.DataLoader object at 0x000001C2E1628588>), (-1, 17, <torch.utils.data.dataloader.DataLoader object at 0x000001C2E1628F08>), (-1, 18, <torch.utils.data.dataloader.DataLoader object at 0x000001C2E13D0108>), (-1, 19, <torch.utils.data.dataloader.DataLoader object at 0x000001C2E13D09C8>)], [(-1, 0, <torch.utils.data.dataloader.DataLoader object at 0x000001C2E1155AC8>), (-1, 1, <torch.utils.data.dataloader.DataLoader object at 0x000001C2E34BF308>), (-1, 2, <torch.utils.data.dataloader.DataLoader object at 0x000001C2E34BF8C8>), (-1, 3, <torch.utils.data.dataloader.DataLoader object at 0x000001C2E34BF608>), (-1, 4, <torch.utils.data.dataloader.DataLoader object at 0x000001C2E1652E88>), (-1, 5, <torch.utils.data.dataloader.DataLoader object at 0x000001C2E1652D08>), (-1, 6, <torch.utils.data.dataloader.DataLoader object at 0x000001C2E16523C8>), (-1, 7, <torch.utils.data.dataloader.DataLoader object at 0x000001C2E1652948>), (-1, 8, <torch.utils.data.dataloader.DataLoader object at 0x000001C2E16528C8>), (-1, 9, <torch.utils.data.dataloader.DataLoader object at 0x000001C2E1652848>), (-1, 10, <torch.utils.data.dataloader.DataLoader object at 0x000001C2E1628148>), (-1, 11, <torch.utils.data.dataloader.DataLoader object at 0x000001C2E1628EC8>), (-1, 12, <torch.utils.data.dataloader.DataLoader object at 0x000001C2E1628D48>), (-1, 13, <torch.utils.data.dataloader.DataLoader object at 0x000001C2E1628B88>), (-1, 14, <torch.utils.data.dataloader.DataLoader object at 0x000001C2E1628E88>), (-1, 15, <torch.utils.data.dataloader.DataLoader object at 0x000001C2E1628248>), (-1, 16, <torch.utils.data.dataloader.DataLoader object at 0x000001C2E1628588>), (-1, 17, <torch.utils.data.dataloader.DataLoader object at 0x000001C2E1628F08>), (-1, 18, <torch.utils.data.dataloader.DataLoader object at 0x000001C2E13D0108>), (-1, 19, <torch.utils.data.dataloader.DataLoader object at 0x000001C2E13D09C8>)], [(-1, 0, <torch.utils.data.dataloader.DataLoader object at 0x000001C2E1155AC8>), (-1, 1, <torch.utils.data.dataloader.DataLoader object at 0x000001C2E34BF308>), (-1, 2, <torch.utils.data.dataloader.DataLoader object at 0x000001C2E34BF8C8>), (-1, 3, <torch.utils.data.dataloader.DataLoader object at 0x000001C2E34BF608>), (-1, 4, <torch.utils.data.dataloader.DataLoader object at 0x000001C2E1652E88>), (-1, 5, <torch.utils.data.dataloader.DataLoader object at 0x000001C2E1652D08>), (-1, 6, <torch.utils.data.dataloader.DataLoader object at 0x000001C2E16523C8>), (-1, 7, <torch.utils.data.dataloader.DataLoader object at 0x000001C2E1652948>), (-1, 8, <torch.utils.data.dataloader.DataLoader object at 0x000001C2E16528C8>), (-1, 9, <torch.utils.data.dataloader.DataLoader object at 0x000001C2E1652848>), (-1, 10, <torch.utils.data.dataloader.DataLoader object at 0x000001C2E1628148>), (-1, 11, <torch.utils.data.dataloader.DataLoader object at 0x000001C2E1628EC8>), (-1, 12, <torch.utils.data.dataloader.DataLoader object at 0x000001C2E1628D48>), (-1, 13, <torch.utils.data.dataloader.DataLoader object at 0x000001C2E1628B88>), (-1, 14, <torch.utils.data.dataloader.DataLoader object at 0x000001C2E1628E88>), (-1, 15, <torch.utils.data.dataloader.DataLoader object at 0x000001C2E1628248>), (-1, 16, <torch.utils.data.dataloader.DataLoader object at 0x000001C2E1628588>), (-1, 17, <torch.utils.data.dataloader.DataLoader object at 0x000001C2E1628F08>), (-1, 18, <torch.utils.data.dataloader.DataLoader object at 0x000001C2E13D0108>), (-1, 19, <torch.utils.data.dataloader.DataLoader object at 0x000001C2E13D09C8>)], [(-1, 0, <torch.utils.data.dataloader.DataLoader object at 0x000001C2E1155AC8>), (-1, 1, <torch.utils.data.dataloader.DataLoader object at 0x000001C2E34BF308>), (-1, 2, <torch.utils.data.dataloader.DataLoader object at 0x000001C2E34BF8C8>), (-1, 3, <torch.utils.data.dataloader.DataLoader object at 0x000001C2E34BF608>), (-1, 4, <torch.utils.data.dataloader.DataLoader object at 0x000001C2E1652E88>), (-1, 5, <torch.utils.data.dataloader.DataLoader object at 0x000001C2E1652D08>), (-1, 6, <torch.utils.data.dataloader.DataLoader object at 0x000001C2E16523C8>), (-1, 7, <torch.utils.data.dataloader.DataLoader object at 0x000001C2E1652948>), (-1, 8, <torch.utils.data.dataloader.DataLoader object at 0x000001C2E16528C8>), (-1, 9, <torch.utils.data.dataloader.DataLoader object at 0x000001C2E1652848>), (-1, 10, <torch.utils.data.dataloader.DataLoader object at 0x000001C2E1628148>), (-1, 11, <torch.utils.data.dataloader.DataLoader object at 0x000001C2E1628EC8>), (-1, 12, <torch.utils.data.dataloader.DataLoader object at 0x000001C2E1628D48>), (-1, 13, <torch.utils.data.dataloader.DataLoader object at 0x000001C2E1628B88>), (-1, 14, <torch.utils.data.dataloader.DataLoader object at 0x000001C2E1628E88>), (-1, 15, <torch.utils.data.dataloader.DataLoader object at 0x000001C2E1628248>), (-1, 16, <torch.utils.data.dataloader.DataLoader object at 0x000001C2E1628588>), (-1, 17, <torch.utils.data.dataloader.DataLoader object at 0x000001C2E1628F08>), (-1, 18, <torch.utils.data.dataloader.DataLoader object at 0x000001C2E13D0108>), (-1, 19, <torch.utils.data.dataloader.DataLoader object at 0x000001C2E13D09C8>)], [(-1, 0, <torch.utils.data.dataloader.DataLoader object at 0x000001C2E1155AC8>), (-1, 1, <torch.utils.data.dataloader.DataLoader object at 0x000001C2E34BF308>), (-1, 2, <torch.utils.data.dataloader.DataLoader object at 0x000001C2E34BF8C8>), (-1, 3, <torch.utils.data.dataloader.DataLoader object at 0x000001C2E34BF608>), (-1, 4, <torch.utils.data.dataloader.DataLoader object at 0x000001C2E1652E88>), (-1, 5, <torch.utils.data.dataloader.DataLoader object at 0x000001C2E1652D08>), (-1, 6, <torch.utils.data.dataloader.DataLoader object at 0x000001C2E16523C8>), (-1, 7, <torch.utils.data.dataloader.DataLoader object at 0x000001C2E1652948>), (-1, 8, <torch.utils.data.dataloader.DataLoader object at 0x000001C2E16528C8>), (-1, 9, <torch.utils.data.dataloader.DataLoader object at 0x000001C2E1652848>), (-1, 10, <torch.utils.data.dataloader.DataLoader object at 0x000001C2E1628148>), (-1, 11, <torch.utils.data.dataloader.DataLoader object at 0x000001C2E1628EC8>), (-1, 12, <torch.utils.data.dataloader.DataLoader object at 0x000001C2E1628D48>), (-1, 13, <torch.utils.data.dataloader.DataLoader object at 0x000001C2E1628B88>), (-1, 14, <torch.utils.data.dataloader.DataLoader object at 0x000001C2E1628E88>), (-1, 15, <torch.utils.data.dataloader.DataLoader object at 0x000001C2E1628248>), (-1, 16, <torch.utils.data.dataloader.DataLoader object at 0x000001C2E1628588>), (-1, 17, <torch.utils.data.dataloader.DataLoader object at 0x000001C2E1628F08>), (-1, 18, <torch.utils.data.dataloader.DataLoader object at 0x000001C2E13D0108>), (-1, 19, <torch.utils.data.dataloader.DataLoader object at 0x000001C2E13D09C8>)], [(-1, 0, <torch.utils.data.dataloader.DataLoader object at 0x000001C2E1155AC8>), (-1, 1, <torch.utils.data.dataloader.DataLoader object at 0x000001C2E34BF308>), (-1, 2, <torch.utils.data.dataloader.DataLoader object at 0x000001C2E34BF8C8>), (-1, 3, <torch.utils.data.dataloader.DataLoader object at 0x000001C2E34BF608>), (-1, 4, <torch.utils.data.dataloader.DataLoader object at 0x000001C2E1652E88>), (-1, 5, <torch.utils.data.dataloader.DataLoader object at 0x000001C2E1652D08>), (-1, 6, <torch.utils.data.dataloader.DataLoader object at 0x000001C2E16523C8>), (-1, 7, <torch.utils.data.dataloader.DataLoader object at 0x000001C2E1652948>), (-1, 8, <torch.utils.data.dataloader.DataLoader object at 0x000001C2E16528C8>), (-1, 9, <torch.utils.data.dataloader.DataLoader object at 0x000001C2E1652848>), (-1, 10, <torch.utils.data.dataloader.DataLoader object at 0x000001C2E1628148>), (-1, 11, <torch.utils.data.dataloader.DataLoader object at 0x000001C2E1628EC8>), (-1, 12, <torch.utils.data.dataloader.DataLoader object at 0x000001C2E1628D48>), (-1, 13, <torch.utils.data.dataloader.DataLoader object at 0x000001C2E1628B88>), (-1, 14, <torch.utils.data.dataloader.DataLoader object at 0x000001C2E1628E88>), (-1, 15, <torch.utils.data.dataloader.DataLoader object at 0x000001C2E1628248>), (-1, 16, <torch.utils.data.dataloader.DataLoader object at 0x000001C2E1628588>), (-1, 17, <torch.utils.data.dataloader.DataLoader object at 0x000001C2E1628F08>), (-1, 18, <torch.utils.data.dataloader.DataLoader object at 0x000001C2E13D0108>), (-1, 19, <torch.utils.data.dataloader.DataLoader object at 0x000001C2E13D09C8>)], [(-1, 0, <torch.utils.data.dataloader.DataLoader object at 0x000001C2E1155AC8>), (-1, 1, <torch.utils.data.dataloader.DataLoader object at 0x000001C2E34BF308>), (-1, 2, <torch.utils.data.dataloader.DataLoader object at 0x000001C2E34BF8C8>), (-1, 3, <torch.utils.data.dataloader.DataLoader object at 0x000001C2E34BF608>), (-1, 4, <torch.utils.data.dataloader.DataLoader object at 0x000001C2E1652E88>), (-1, 5, <torch.utils.data.dataloader.DataLoader object at 0x000001C2E1652D08>), (-1, 6, <torch.utils.data.dataloader.DataLoader object at 0x000001C2E16523C8>), (-1, 7, <torch.utils.data.dataloader.DataLoader object at 0x000001C2E1652948>), (-1, 8, <torch.utils.data.dataloader.DataLoader object at 0x000001C2E16528C8>), (-1, 9, <torch.utils.data.dataloader.DataLoader object at 0x000001C2E1652848>), (-1, 10, <torch.utils.data.dataloader.DataLoader object at 0x000001C2E1628148>), (-1, 11, <torch.utils.data.dataloader.DataLoader object at 0x000001C2E1628EC8>), (-1, 12, <torch.utils.data.dataloader.DataLoader object at 0x000001C2E1628D48>), (-1, 13, <torch.utils.data.dataloader.DataLoader object at 0x000001C2E1628B88>), (-1, 14, <torch.utils.data.dataloader.DataLoader object at 0x000001C2E1628E88>), (-1, 15, <torch.utils.data.dataloader.DataLoader object at 0x000001C2E1628248>), (-1, 16, <torch.utils.data.dataloader.DataLoader object at 0x000001C2E1628588>), (-1, 17, <torch.utils.data.dataloader.DataLoader object at 0x000001C2E1628F08>), (-1, 18, <torch.utils.data.dataloader.DataLoader object at 0x000001C2E13D0108>), (-1, 19, <torch.utils.data.dataloader.DataLoader object at 0x000001C2E13D09C8>)], [(-1, 0, <torch.utils.data.dataloader.DataLoader object at 0x000001C2E1155AC8>), (-1, 1, <torch.utils.data.dataloader.DataLoader object at 0x000001C2E34BF308>), (-1, 2, <torch.utils.data.dataloader.DataLoader object at 0x000001C2E34BF8C8>), (-1, 3, <torch.utils.data.dataloader.DataLoader object at 0x000001C2E34BF608>), (-1, 4, <torch.utils.data.dataloader.DataLoader object at 0x000001C2E1652E88>), (-1, 5, <torch.utils.data.dataloader.DataLoader object at 0x000001C2E1652D08>), (-1, 6, <torch.utils.data.dataloader.DataLoader object at 0x000001C2E16523C8>), (-1, 7, <torch.utils.data.dataloader.DataLoader object at 0x000001C2E1652948>), (-1, 8, <torch.utils.data.dataloader.DataLoader object at 0x000001C2E16528C8>), (-1, 9, <torch.utils.data.dataloader.DataLoader object at 0x000001C2E1652848>), (-1, 10, <torch.utils.data.dataloader.DataLoader object at 0x000001C2E1628148>), (-1, 11, <torch.utils.data.dataloader.DataLoader object at 0x000001C2E1628EC8>), (-1, 12, <torch.utils.data.dataloader.DataLoader object at 0x000001C2E1628D48>), (-1, 13, <torch.utils.data.dataloader.DataLoader object at 0x000001C2E1628B88>), (-1, 14, <torch.utils.data.dataloader.DataLoader object at 0x000001C2E1628E88>), (-1, 15, <torch.utils.data.dataloader.DataLoader object at 0x000001C2E1628248>), (-1, 16, <torch.utils.data.dataloader.DataLoader object at 0x000001C2E1628588>), (-1, 17, <torch.utils.data.dataloader.DataLoader object at 0x000001C2E1628F08>), (-1, 18, <torch.utils.data.dataloader.DataLoader object at 0x000001C2E13D0108>), (-1, 19, <torch.utils.data.dataloader.DataLoader object at 0x000001C2E13D09C8>)], [(-1, 0, <torch.utils.data.dataloader.DataLoader object at 0x000001C2E1155AC8>), (-1, 1, <torch.utils.data.dataloader.DataLoader object at 0x000001C2E34BF308>), (-1, 2, <torch.utils.data.dataloader.DataLoader object at 0x000001C2E34BF8C8>), (-1, 3, <torch.utils.data.dataloader.DataLoader object at 0x000001C2E34BF608>), (-1, 4, <torch.utils.data.dataloader.DataLoader object at 0x000001C2E1652E88>), (-1, 5, <torch.utils.data.dataloader.DataLoader object at 0x000001C2E1652D08>), (-1, 6, <torch.utils.data.dataloader.DataLoader object at 0x000001C2E16523C8>), (-1, 7, <torch.utils.data.dataloader.DataLoader object at 0x000001C2E1652948>), (-1, 8, <torch.utils.data.dataloader.DataLoader object at 0x000001C2E16528C8>), (-1, 9, <torch.utils.data.dataloader.DataLoader object at 0x000001C2E1652848>), (-1, 10, <torch.utils.data.dataloader.DataLoader object at 0x000001C2E1628148>), (-1, 11, <torch.utils.data.dataloader.DataLoader object at 0x000001C2E1628EC8>), (-1, 12, <torch.utils.data.dataloader.DataLoader object at 0x000001C2E1628D48>), (-1, 13, <torch.utils.data.dataloader.DataLoader object at 0x000001C2E1628B88>), (-1, 14, <torch.utils.data.dataloader.DataLoader object at 0x000001C2E1628E88>), (-1, 15, <torch.utils.data.dataloader.DataLoader object at 0x000001C2E1628248>), (-1, 16, <torch.utils.data.dataloader.DataLoader object at 0x000001C2E1628588>), (-1, 17, <torch.utils.data.dataloader.DataLoader object at 0x000001C2E1628F08>), (-1, 18, <torch.utils.data.dataloader.DataLoader object at 0x000001C2E13D0108>), (-1, 19, <torch.utils.data.dataloader.DataLoader object at 0x000001C2E13D09C8>)], [(-1, 0, <torch.utils.data.dataloader.DataLoader object at 0x000001C2E1155AC8>), (-1, 1, <torch.utils.data.dataloader.DataLoader object at 0x000001C2E34BF308>), (-1, 2, <torch.utils.data.dataloader.DataLoader object at 0x000001C2E34BF8C8>), (-1, 3, <torch.utils.data.dataloader.DataLoader object at 0x000001C2E34BF608>), (-1, 4, <torch.utils.data.dataloader.DataLoader object at 0x000001C2E1652E88>), (-1, 5, <torch.utils.data.dataloader.DataLoader object at 0x000001C2E1652D08>), (-1, 6, <torch.utils.data.dataloader.DataLoader object at 0x000001C2E16523C8>), (-1, 7, <torch.utils.data.dataloader.DataLoader object at 0x000001C2E1652948>), (-1, 8, <torch.utils.data.dataloader.DataLoader object at 0x000001C2E16528C8>), (-1, 9, <torch.utils.data.dataloader.DataLoader object at 0x000001C2E1652848>), (-1, 10, <torch.utils.data.dataloader.DataLoader object at 0x000001C2E1628148>), (-1, 11, <torch.utils.data.dataloader.DataLoader object at 0x000001C2E1628EC8>), (-1, 12, <torch.utils.data.dataloader.DataLoader object at 0x000001C2E1628D48>), (-1, 13, <torch.utils.data.dataloader.DataLoader object at 0x000001C2E1628B88>), (-1, 14, <torch.utils.data.dataloader.DataLoader object at 0x000001C2E1628E88>), (-1, 15, <torch.utils.data.dataloader.DataLoader object at 0x000001C2E1628248>), (-1, 16, <torch.utils.data.dataloader.DataLoader object at 0x000001C2E1628588>), (-1, 17, <torch.utils.data.dataloader.DataLoader object at 0x000001C2E1628F08>), (-1, 18, <torch.utils.data.dataloader.DataLoader object at 0x000001C2E13D0108>), (-1, 19, <torch.utils.data.dataloader.DataLoader object at 0x000001C2E13D09C8>)], [(-1, 0, <torch.utils.data.dataloader.DataLoader object at 0x000001C2E1155AC8>), (-1, 1, <torch.utils.data.dataloader.DataLoader object at 0x000001C2E34BF308>), (-1, 2, <torch.utils.data.dataloader.DataLoader object at 0x000001C2E34BF8C8>), (-1, 3, <torch.utils.data.dataloader.DataLoader object at 0x000001C2E34BF608>), (-1, 4, <torch.utils.data.dataloader.DataLoader object at 0x000001C2E1652E88>), (-1, 5, <torch.utils.data.dataloader.DataLoader object at 0x000001C2E1652D08>), (-1, 6, <torch.utils.data.dataloader.DataLoader object at 0x000001C2E16523C8>), (-1, 7, <torch.utils.data.dataloader.DataLoader object at 0x000001C2E1652948>), (-1, 8, <torch.utils.data.dataloader.DataLoader object at 0x000001C2E16528C8>), (-1, 9, <torch.utils.data.dataloader.DataLoader object at 0x000001C2E1652848>), (-1, 10, <torch.utils.data.dataloader.DataLoader object at 0x000001C2E1628148>), (-1, 11, <torch.utils.data.dataloader.DataLoader object at 0x000001C2E1628EC8>), (-1, 12, <torch.utils.data.dataloader.DataLoader object at 0x000001C2E1628D48>), (-1, 13, <torch.utils.data.dataloader.DataLoader object at 0x000001C2E1628B88>), (-1, 14, <torch.utils.data.dataloader.DataLoader object at 0x000001C2E1628E88>), (-1, 15, <torch.utils.data.dataloader.DataLoader object at 0x000001C2E1628248>), (-1, 16, <torch.utils.data.dataloader.DataLoader object at 0x000001C2E1628588>), (-1, 17, <torch.utils.data.dataloader.DataLoader object at 0x000001C2E1628F08>), (-1, 18, <torch.utils.data.dataloader.DataLoader object at 0x000001C2E13D0108>), (-1, 19, <torch.utils.data.dataloader.DataLoader object at 0x000001C2E13D09C8>)], [(-1, 0, <torch.utils.data.dataloader.DataLoader object at 0x000001C2E1155AC8>), (-1, 1, <torch.utils.data.dataloader.DataLoader object at 0x000001C2E34BF308>), (-1, 2, <torch.utils.data.dataloader.DataLoader object at 0x000001C2E34BF8C8>), (-1, 3, <torch.utils.data.dataloader.DataLoader object at 0x000001C2E34BF608>), (-1, 4, <torch.utils.data.dataloader.DataLoader object at 0x000001C2E1652E88>), (-1, 5, <torch.utils.data.dataloader.DataLoader object at 0x000001C2E1652D08>), (-1, 6, <torch.utils.data.dataloader.DataLoader object at 0x000001C2E16523C8>), (-1, 7, <torch.utils.data.dataloader.DataLoader object at 0x000001C2E1652948>), (-1, 8, <torch.utils.data.dataloader.DataLoader object at 0x000001C2E16528C8>), (-1, 9, <torch.utils.data.dataloader.DataLoader object at 0x000001C2E1652848>), (-1, 10, <torch.utils.data.dataloader.DataLoader object at 0x000001C2E1628148>), (-1, 11, <torch.utils.data.dataloader.DataLoader object at 0x000001C2E1628EC8>), (-1, 12, <torch.utils.data.dataloader.DataLoader object at 0x000001C2E1628D48>), (-1, 13, <torch.utils.data.dataloader.DataLoader object at 0x000001C2E1628B88>), (-1, 14, <torch.utils.data.dataloader.DataLoader object at 0x000001C2E1628E88>), (-1, 15, <torch.utils.data.dataloader.DataLoader object at 0x000001C2E1628248>), (-1, 16, <torch.utils.data.dataloader.DataLoader object at 0x000001C2E1628588>), (-1, 17, <torch.utils.data.dataloader.DataLoader object at 0x000001C2E1628F08>), (-1, 18, <torch.utils.data.dataloader.DataLoader object at 0x000001C2E13D0108>), (-1, 19, <torch.utils.data.dataloader.DataLoader object at 0x000001C2E13D09C8>)], [(-1, 0, <torch.utils.data.dataloader.DataLoader object at 0x000001C2E1155AC8>), (-1, 1, <torch.utils.data.dataloader.DataLoader object at 0x000001C2E34BF308>), (-1, 2, <torch.utils.data.dataloader.DataLoader object at 0x000001C2E34BF8C8>), (-1, 3, <torch.utils.data.dataloader.DataLoader object at 0x000001C2E34BF608>), (-1, 4, <torch.utils.data.dataloader.DataLoader object at 0x000001C2E1652E88>), (-1, 5, <torch.utils.data.dataloader.DataLoader object at 0x000001C2E1652D08>), (-1, 6, <torch.utils.data.dataloader.DataLoader object at 0x000001C2E16523C8>), (-1, 7, <torch.utils.data.dataloader.DataLoader object at 0x000001C2E1652948>), (-1, 8, <torch.utils.data.dataloader.DataLoader object at 0x000001C2E16528C8>), (-1, 9, <torch.utils.data.dataloader.DataLoader object at 0x000001C2E1652848>), (-1, 10, <torch.utils.data.dataloader.DataLoader object at 0x000001C2E1628148>), (-1, 11, <torch.utils.data.dataloader.DataLoader object at 0x000001C2E1628EC8>), (-1, 12, <torch.utils.data.dataloader.DataLoader object at 0x000001C2E1628D48>), (-1, 13, <torch.utils.data.dataloader.DataLoader object at 0x000001C2E1628B88>), (-1, 14, <torch.utils.data.dataloader.DataLoader object at 0x000001C2E1628E88>), (-1, 15, <torch.utils.data.dataloader.DataLoader object at 0x000001C2E1628248>), (-1, 16, <torch.utils.data.dataloader.DataLoader object at 0x000001C2E1628588>), (-1, 17, <torch.utils.data.dataloader.DataLoader object at 0x000001C2E1628F08>), (-1, 18, <torch.utils.data.dataloader.DataLoader object at 0x000001C2E13D0108>), (-1, 19, <torch.utils.data.dataloader.DataLoader object at 0x000001C2E13D09C8>)], [(-1, 0, <torch.utils.data.dataloader.DataLoader object at 0x000001C2E1155AC8>), (-1, 1, <torch.utils.data.dataloader.DataLoader object at 0x000001C2E34BF308>), (-1, 2, <torch.utils.data.dataloader.DataLoader object at 0x000001C2E34BF8C8>), (-1, 3, <torch.utils.data.dataloader.DataLoader object at 0x000001C2E34BF608>), (-1, 4, <torch.utils.data.dataloader.DataLoader object at 0x000001C2E1652E88>), (-1, 5, <torch.utils.data.dataloader.DataLoader object at 0x000001C2E1652D08>), (-1, 6, <torch.utils.data.dataloader.DataLoader object at 0x000001C2E16523C8>), (-1, 7, <torch.utils.data.dataloader.DataLoader object at 0x000001C2E1652948>), (-1, 8, <torch.utils.data.dataloader.DataLoader object at 0x000001C2E16528C8>), (-1, 9, <torch.utils.data.dataloader.DataLoader object at 0x000001C2E1652848>), (-1, 10, <torch.utils.data.dataloader.DataLoader object at 0x000001C2E1628148>), (-1, 11, <torch.utils.data.dataloader.DataLoader object at 0x000001C2E1628EC8>), (-1, 12, <torch.utils.data.dataloader.DataLoader object at 0x000001C2E1628D48>), (-1, 13, <torch.utils.data.dataloader.DataLoader object at 0x000001C2E1628B88>), (-1, 14, <torch.utils.data.dataloader.DataLoader object at 0x000001C2E1628E88>), (-1, 15, <torch.utils.data.dataloader.DataLoader object at 0x000001C2E1628248>), (-1, 16, <torch.utils.data.dataloader.DataLoader object at 0x000001C2E1628588>), (-1, 17, <torch.utils.data.dataloader.DataLoader object at 0x000001C2E1628F08>), (-1, 18, <torch.utils.data.dataloader.DataLoader object at 0x000001C2E13D0108>), (-1, 19, <torch.utils.data.dataloader.DataLoader object at 0x000001C2E13D09C8>)], [(-1, 0, <torch.utils.data.dataloader.DataLoader object at 0x000001C2E1155AC8>), (-1, 1, <torch.utils.data.dataloader.DataLoader object at 0x000001C2E34BF308>), (-1, 2, <torch.utils.data.dataloader.DataLoader object at 0x000001C2E34BF8C8>), (-1, 3, <torch.utils.data.dataloader.DataLoader object at 0x000001C2E34BF608>), (-1, 4, <torch.utils.data.dataloader.DataLoader object at 0x000001C2E1652E88>), (-1, 5, <torch.utils.data.dataloader.DataLoader object at 0x000001C2E1652D08>), (-1, 6, <torch.utils.data.dataloader.DataLoader object at 0x000001C2E16523C8>), (-1, 7, <torch.utils.data.dataloader.DataLoader object at 0x000001C2E1652948>), (-1, 8, <torch.utils.data.dataloader.DataLoader object at 0x000001C2E16528C8>), (-1, 9, <torch.utils.data.dataloader.DataLoader object at 0x000001C2E1652848>), (-1, 10, <torch.utils.data.dataloader.DataLoader object at 0x000001C2E1628148>), (-1, 11, <torch.utils.data.dataloader.DataLoader object at 0x000001C2E1628EC8>), (-1, 12, <torch.utils.data.dataloader.DataLoader object at 0x000001C2E1628D48>), (-1, 13, <torch.utils.data.dataloader.DataLoader object at 0x000001C2E1628B88>), (-1, 14, <torch.utils.data.dataloader.DataLoader object at 0x000001C2E1628E88>), (-1, 15, <torch.utils.data.dataloader.DataLoader object at 0x000001C2E1628248>), (-1, 16, <torch.utils.data.dataloader.DataLoader object at 0x000001C2E1628588>), (-1, 17, <torch.utils.data.dataloader.DataLoader object at 0x000001C2E1628F08>), (-1, 18, <torch.utils.data.dataloader.DataLoader object at 0x000001C2E13D0108>), (-1, 19, <torch.utils.data.dataloader.DataLoader object at 0x000001C2E13D09C8>)], [(-1, 0, <torch.utils.data.dataloader.DataLoader object at 0x000001C2E1155AC8>), (-1, 1, <torch.utils.data.dataloader.DataLoader object at 0x000001C2E34BF308>), (-1, 2, <torch.utils.data.dataloader.DataLoader object at 0x000001C2E34BF8C8>), (-1, 3, <torch.utils.data.dataloader.DataLoader object at 0x000001C2E34BF608>), (-1, 4, <torch.utils.data.dataloader.DataLoader object at 0x000001C2E1652E88>), (-1, 5, <torch.utils.data.dataloader.DataLoader object at 0x000001C2E1652D08>), (-1, 6, <torch.utils.data.dataloader.DataLoader object at 0x000001C2E16523C8>), (-1, 7, <torch.utils.data.dataloader.DataLoader object at 0x000001C2E1652948>), (-1, 8, <torch.utils.data.dataloader.DataLoader object at 0x000001C2E16528C8>), (-1, 9, <torch.utils.data.dataloader.DataLoader object at 0x000001C2E1652848>), (-1, 10, <torch.utils.data.dataloader.DataLoader object at 0x000001C2E1628148>), (-1, 11, <torch.utils.data.dataloader.DataLoader object at 0x000001C2E1628EC8>), (-1, 12, <torch.utils.data.dataloader.DataLoader object at 0x000001C2E1628D48>), (-1, 13, <torch.utils.data.dataloader.DataLoader object at 0x000001C2E1628B88>), (-1, 14, <torch.utils.data.dataloader.DataLoader object at 0x000001C2E1628E88>), (-1, 15, <torch.utils.data.dataloader.DataLoader object at 0x000001C2E1628248>), (-1, 16, <torch.utils.data.dataloader.DataLoader object at 0x000001C2E1628588>), (-1, 17, <torch.utils.data.dataloader.DataLoader object at 0x000001C2E1628F08>), (-1, 18, <torch.utils.data.dataloader.DataLoader object at 0x000001C2E13D0108>), (-1, 19, <torch.utils.data.dataloader.DataLoader object at 0x000001C2E13D09C8>)], [(-1, 0, <torch.utils.data.dataloader.DataLoader object at 0x000001C2E1155AC8>), (-1, 1, <torch.utils.data.dataloader.DataLoader object at 0x000001C2E34BF308>), (-1, 2, <torch.utils.data.dataloader.DataLoader object at 0x000001C2E34BF8C8>), (-1, 3, <torch.utils.data.dataloader.DataLoader object at 0x000001C2E34BF608>), (-1, 4, <torch.utils.data.dataloader.DataLoader object at 0x000001C2E1652E88>), (-1, 5, <torch.utils.data.dataloader.DataLoader object at 0x000001C2E1652D08>), (-1, 6, <torch.utils.data.dataloader.DataLoader object at 0x000001C2E16523C8>), (-1, 7, <torch.utils.data.dataloader.DataLoader object at 0x000001C2E1652948>), (-1, 8, <torch.utils.data.dataloader.DataLoader object at 0x000001C2E16528C8>), (-1, 9, <torch.utils.data.dataloader.DataLoader object at 0x000001C2E1652848>), (-1, 10, <torch.utils.data.dataloader.DataLoader object at 0x000001C2E1628148>), (-1, 11, <torch.utils.data.dataloader.DataLoader object at 0x000001C2E1628EC8>), (-1, 12, <torch.utils.data.dataloader.DataLoader object at 0x000001C2E1628D48>), (-1, 13, <torch.utils.data.dataloader.DataLoader object at 0x000001C2E1628B88>), (-1, 14, <torch.utils.data.dataloader.DataLoader object at 0x000001C2E1628E88>), (-1, 15, <torch.utils.data.dataloader.DataLoader object at 0x000001C2E1628248>), (-1, 16, <torch.utils.data.dataloader.DataLoader object at 0x000001C2E1628588>), (-1, 17, <torch.utils.data.dataloader.DataLoader object at 0x000001C2E1628F08>), (-1, 18, <torch.utils.data.dataloader.DataLoader object at 0x000001C2E13D0108>), (-1, 19, <torch.utils.data.dataloader.DataLoader object at 0x000001C2E13D09C8>)], [(-1, 0, <torch.utils.data.dataloader.DataLoader object at 0x000001C2E1155AC8>), (-1, 1, <torch.utils.data.dataloader.DataLoader object at 0x000001C2E34BF308>), (-1, 2, <torch.utils.data.dataloader.DataLoader object at 0x000001C2E34BF8C8>), (-1, 3, <torch.utils.data.dataloader.DataLoader object at 0x000001C2E34BF608>), (-1, 4, <torch.utils.data.dataloader.DataLoader object at 0x000001C2E1652E88>), (-1, 5, <torch.utils.data.dataloader.DataLoader object at 0x000001C2E1652D08>), (-1, 6, <torch.utils.data.dataloader.DataLoader object at 0x000001C2E16523C8>), (-1, 7, <torch.utils.data.dataloader.DataLoader object at 0x000001C2E1652948>), (-1, 8, <torch.utils.data.dataloader.DataLoader object at 0x000001C2E16528C8>), (-1, 9, <torch.utils.data.dataloader.DataLoader object at 0x000001C2E1652848>), (-1, 10, <torch.utils.data.dataloader.DataLoader object at 0x000001C2E1628148>), (-1, 11, <torch.utils.data.dataloader.DataLoader object at 0x000001C2E1628EC8>), (-1, 12, <torch.utils.data.dataloader.DataLoader object at 0x000001C2E1628D48>), (-1, 13, <torch.utils.data.dataloader.DataLoader object at 0x000001C2E1628B88>), (-1, 14, <torch.utils.data.dataloader.DataLoader object at 0x000001C2E1628E88>), (-1, 15, <torch.utils.data.dataloader.DataLoader object at 0x000001C2E1628248>), (-1, 16, <torch.utils.data.dataloader.DataLoader object at 0x000001C2E1628588>), (-1, 17, <torch.utils.data.dataloader.DataLoader object at 0x000001C2E1628F08>), (-1, 18, <torch.utils.data.dataloader.DataLoader object at 0x000001C2E13D0108>), (-1, 19, <torch.utils.data.dataloader.DataLoader object at 0x000001C2E13D09C8>)], [(-1, 0, <torch.utils.data.dataloader.DataLoader object at 0x000001C2E1155AC8>), (-1, 1, <torch.utils.data.dataloader.DataLoader object at 0x000001C2E34BF308>), (-1, 2, <torch.utils.data.dataloader.DataLoader object at 0x000001C2E34BF8C8>), (-1, 3, <torch.utils.data.dataloader.DataLoader object at 0x000001C2E34BF608>), (-1, 4, <torch.utils.data.dataloader.DataLoader object at 0x000001C2E1652E88>), (-1, 5, <torch.utils.data.dataloader.DataLoader object at 0x000001C2E1652D08>), (-1, 6, <torch.utils.data.dataloader.DataLoader object at 0x000001C2E16523C8>), (-1, 7, <torch.utils.data.dataloader.DataLoader object at 0x000001C2E1652948>), (-1, 8, <torch.utils.data.dataloader.DataLoader object at 0x000001C2E16528C8>), (-1, 9, <torch.utils.data.dataloader.DataLoader object at 0x000001C2E1652848>), (-1, 10, <torch.utils.data.dataloader.DataLoader object at 0x000001C2E1628148>), (-1, 11, <torch.utils.data.dataloader.DataLoader object at 0x000001C2E1628EC8>), (-1, 12, <torch.utils.data.dataloader.DataLoader object at 0x000001C2E1628D48>), (-1, 13, <torch.utils.data.dataloader.DataLoader object at 0x000001C2E1628B88>), (-1, 14, <torch.utils.data.dataloader.DataLoader object at 0x000001C2E1628E88>), (-1, 15, <torch.utils.data.dataloader.DataLoader object at 0x000001C2E1628248>), (-1, 16, <torch.utils.data.dataloader.DataLoader object at 0x000001C2E1628588>), (-1, 17, <torch.utils.data.dataloader.DataLoader object at 0x000001C2E1628F08>), (-1, 18, <torch.utils.data.dataloader.DataLoader object at 0x000001C2E13D0108>), (-1, 19, <torch.utils.data.dataloader.DataLoader object at 0x000001C2E13D09C8>)], [(-1, 0, <torch.utils.data.dataloader.DataLoader object at 0x000001C2E1155AC8>), (-1, 1, <torch.utils.data.dataloader.DataLoader object at 0x000001C2E34BF308>), (-1, 2, <torch.utils.data.dataloader.DataLoader object at 0x000001C2E34BF8C8>), (-1, 3, <torch.utils.data.dataloader.DataLoader object at 0x000001C2E34BF608>), (-1, 4, <torch.utils.data.dataloader.DataLoader object at 0x000001C2E1652E88>), (-1, 5, <torch.utils.data.dataloader.DataLoader object at 0x000001C2E1652D08>), (-1, 6, <torch.utils.data.dataloader.DataLoader object at 0x000001C2E16523C8>), (-1, 7, <torch.utils.data.dataloader.DataLoader object at 0x000001C2E1652948>), (-1, 8, <torch.utils.data.dataloader.DataLoader object at 0x000001C2E16528C8>), (-1, 9, <torch.utils.data.dataloader.DataLoader object at 0x000001C2E1652848>), (-1, 10, <torch.utils.data.dataloader.DataLoader object at 0x000001C2E1628148>), (-1, 11, <torch.utils.data.dataloader.DataLoader object at 0x000001C2E1628EC8>), (-1, 12, <torch.utils.data.dataloader.DataLoader object at 0x000001C2E1628D48>), (-1, 13, <torch.utils.data.dataloader.DataLoader object at 0x000001C2E1628B88>), (-1, 14, <torch.utils.data.dataloader.DataLoader object at 0x000001C2E1628E88>), (-1, 15, <torch.utils.data.dataloader.DataLoader object at 0x000001C2E1628248>), (-1, 16, <torch.utils.data.dataloader.DataLoader object at 0x000001C2E1628588>), (-1, 17, <torch.utils.data.dataloader.DataLoader object at 0x000001C2E1628F08>), (-1, 18, <torch.utils.data.dataloader.DataLoader object at 0x000001C2E13D0108>), (-1, 19, <torch.utils.data.dataloader.DataLoader object at 0x000001C2E13D09C8>)], [(-1, 0, <torch.utils.data.dataloader.DataLoader object at 0x000001C2E1155AC8>), (-1, 1, <torch.utils.data.dataloader.DataLoader object at 0x000001C2E34BF308>), (-1, 2, <torch.utils.data.dataloader.DataLoader object at 0x000001C2E34BF8C8>), (-1, 3, <torch.utils.data.dataloader.DataLoader object at 0x000001C2E34BF608>), (-1, 4, <torch.utils.data.dataloader.DataLoader object at 0x000001C2E1652E88>), (-1, 5, <torch.utils.data.dataloader.DataLoader object at 0x000001C2E1652D08>), (-1, 6, <torch.utils.data.dataloader.DataLoader object at 0x000001C2E16523C8>), (-1, 7, <torch.utils.data.dataloader.DataLoader object at 0x000001C2E1652948>), (-1, 8, <torch.utils.data.dataloader.DataLoader object at 0x000001C2E16528C8>), (-1, 9, <torch.utils.data.dataloader.DataLoader object at 0x000001C2E1652848>), (-1, 10, <torch.utils.data.dataloader.DataLoader object at 0x000001C2E1628148>), (-1, 11, <torch.utils.data.dataloader.DataLoader object at 0x000001C2E1628EC8>), (-1, 12, <torch.utils.data.dataloader.DataLoader object at 0x000001C2E1628D48>), (-1, 13, <torch.utils.data.dataloader.DataLoader object at 0x000001C2E1628B88>), (-1, 14, <torch.utils.data.dataloader.DataLoader object at 0x000001C2E1628E88>), (-1, 15, <torch.utils.data.dataloader.DataLoader object at 0x000001C2E1628248>), (-1, 16, <torch.utils.data.dataloader.DataLoader object at 0x000001C2E1628588>), (-1, 17, <torch.utils.data.dataloader.DataLoader object at 0x000001C2E1628F08>), (-1, 18, <torch.utils.data.dataloader.DataLoader object at 0x000001C2E13D0108>), (-1, 19, <torch.utils.data.dataloader.DataLoader object at 0x000001C2E13D09C8>)], [(-1, 0, <torch.utils.data.dataloader.DataLoader object at 0x000001C2E1155AC8>), (-1, 1, <torch.utils.data.dataloader.DataLoader object at 0x000001C2E34BF308>), (-1, 2, <torch.utils.data.dataloader.DataLoader object at 0x000001C2E34BF8C8>), (-1, 3, <torch.utils.data.dataloader.DataLoader object at 0x000001C2E34BF608>), (-1, 4, <torch.utils.data.dataloader.DataLoader object at 0x000001C2E1652E88>), (-1, 5, <torch.utils.data.dataloader.DataLoader object at 0x000001C2E1652D08>), (-1, 6, <torch.utils.data.dataloader.DataLoader object at 0x000001C2E16523C8>), (-1, 7, <torch.utils.data.dataloader.DataLoader object at 0x000001C2E1652948>), (-1, 8, <torch.utils.data.dataloader.DataLoader object at 0x000001C2E16528C8>), (-1, 9, <torch.utils.data.dataloader.DataLoader object at 0x000001C2E1652848>), (-1, 10, <torch.utils.data.dataloader.DataLoader object at 0x000001C2E1628148>), (-1, 11, <torch.utils.data.dataloader.DataLoader object at 0x000001C2E1628EC8>), (-1, 12, <torch.utils.data.dataloader.DataLoader object at 0x000001C2E1628D48>), (-1, 13, <torch.utils.data.dataloader.DataLoader object at 0x000001C2E1628B88>), (-1, 14, <torch.utils.data.dataloader.DataLoader object at 0x000001C2E1628E88>), (-1, 15, <torch.utils.data.dataloader.DataLoader object at 0x000001C2E1628248>), (-1, 16, <torch.utils.data.dataloader.DataLoader object at 0x000001C2E1628588>), (-1, 17, <torch.utils.data.dataloader.DataLoader object at 0x000001C2E1628F08>), (-1, 18, <torch.utils.data.dataloader.DataLoader object at 0x000001C2E13D0108>), (-1, 19, <torch.utils.data.dataloader.DataLoader object at 0x000001C2E13D09C8>)], [(-1, 0, <torch.utils.data.dataloader.DataLoader object at 0x000001C2E1155AC8>), (-1, 1, <torch.utils.data.dataloader.DataLoader object at 0x000001C2E34BF308>), (-1, 2, <torch.utils.data.dataloader.DataLoader object at 0x000001C2E34BF8C8>), (-1, 3, <torch.utils.data.dataloader.DataLoader object at 0x000001C2E34BF608>), (-1, 4, <torch.utils.data.dataloader.DataLoader object at 0x000001C2E1652E88>), (-1, 5, <torch.utils.data.dataloader.DataLoader object at 0x000001C2E1652D08>), (-1, 6, <torch.utils.data.dataloader.DataLoader object at 0x000001C2E16523C8>), (-1, 7, <torch.utils.data.dataloader.DataLoader object at 0x000001C2E1652948>), (-1, 8, <torch.utils.data.dataloader.DataLoader object at 0x000001C2E16528C8>), (-1, 9, <torch.utils.data.dataloader.DataLoader object at 0x000001C2E1652848>), (-1, 10, <torch.utils.data.dataloader.DataLoader object at 0x000001C2E1628148>), (-1, 11, <torch.utils.data.dataloader.DataLoader object at 0x000001C2E1628EC8>), (-1, 12, <torch.utils.data.dataloader.DataLoader object at 0x000001C2E1628D48>), (-1, 13, <torch.utils.data.dataloader.DataLoader object at 0x000001C2E1628B88>), (-1, 14, <torch.utils.data.dataloader.DataLoader object at 0x000001C2E1628E88>), (-1, 15, <torch.utils.data.dataloader.DataLoader object at 0x000001C2E1628248>), (-1, 16, <torch.utils.data.dataloader.DataLoader object at 0x000001C2E1628588>), (-1, 17, <torch.utils.data.dataloader.DataLoader object at 0x000001C2E1628F08>), (-1, 18, <torch.utils.data.dataloader.DataLoader object at 0x000001C2E13D0108>), (-1, 19, <torch.utils.data.dataloader.DataLoader object at 0x000001C2E13D09C8>)], [(-1, 0, <torch.utils.data.dataloader.DataLoader object at 0x000001C2E1155AC8>), (-1, 1, <torch.utils.data.dataloader.DataLoader object at 0x000001C2E34BF308>), (-1, 2, <torch.utils.data.dataloader.DataLoader object at 0x000001C2E34BF8C8>), (-1, 3, <torch.utils.data.dataloader.DataLoader object at 0x000001C2E34BF608>), (-1, 4, <torch.utils.data.dataloader.DataLoader object at 0x000001C2E1652E88>), (-1, 5, <torch.utils.data.dataloader.DataLoader object at 0x000001C2E1652D08>), (-1, 6, <torch.utils.data.dataloader.DataLoader object at 0x000001C2E16523C8>), (-1, 7, <torch.utils.data.dataloader.DataLoader object at 0x000001C2E1652948>), (-1, 8, <torch.utils.data.dataloader.DataLoader object at 0x000001C2E16528C8>), (-1, 9, <torch.utils.data.dataloader.DataLoader object at 0x000001C2E1652848>), (-1, 10, <torch.utils.data.dataloader.DataLoader object at 0x000001C2E1628148>), (-1, 11, <torch.utils.data.dataloader.DataLoader object at 0x000001C2E1628EC8>), (-1, 12, <torch.utils.data.dataloader.DataLoader object at 0x000001C2E1628D48>), (-1, 13, <torch.utils.data.dataloader.DataLoader object at 0x000001C2E1628B88>), (-1, 14, <torch.utils.data.dataloader.DataLoader object at 0x000001C2E1628E88>), (-1, 15, <torch.utils.data.dataloader.DataLoader object at 0x000001C2E1628248>), (-1, 16, <torch.utils.data.dataloader.DataLoader object at 0x000001C2E1628588>), (-1, 17, <torch.utils.data.dataloader.DataLoader object at 0x000001C2E1628F08>), (-1, 18, <torch.utils.data.dataloader.DataLoader object at 0x000001C2E13D0108>), (-1, 19, <torch.utils.data.dataloader.DataLoader object at 0x000001C2E13D09C8>)], [(-1, 0, <torch.utils.data.dataloader.DataLoader object at 0x000001C2E1155AC8>), (-1, 1, <torch.utils.data.dataloader.DataLoader object at 0x000001C2E34BF308>), (-1, 2, <torch.utils.data.dataloader.DataLoader object at 0x000001C2E34BF8C8>), (-1, 3, <torch.utils.data.dataloader.DataLoader object at 0x000001C2E34BF608>), (-1, 4, <torch.utils.data.dataloader.DataLoader object at 0x000001C2E1652E88>), (-1, 5, <torch.utils.data.dataloader.DataLoader object at 0x000001C2E1652D08>), (-1, 6, <torch.utils.data.dataloader.DataLoader object at 0x000001C2E16523C8>), (-1, 7, <torch.utils.data.dataloader.DataLoader object at 0x000001C2E1652948>), (-1, 8, <torch.utils.data.dataloader.DataLoader object at 0x000001C2E16528C8>), (-1, 9, <torch.utils.data.dataloader.DataLoader object at 0x000001C2E1652848>), (-1, 10, <torch.utils.data.dataloader.DataLoader object at 0x000001C2E1628148>), (-1, 11, <torch.utils.data.dataloader.DataLoader object at 0x000001C2E1628EC8>), (-1, 12, <torch.utils.data.dataloader.DataLoader object at 0x000001C2E1628D48>), (-1, 13, <torch.utils.data.dataloader.DataLoader object at 0x000001C2E1628B88>), (-1, 14, <torch.utils.data.dataloader.DataLoader object at 0x000001C2E1628E88>), (-1, 15, <torch.utils.data.dataloader.DataLoader object at 0x000001C2E1628248>), (-1, 16, <torch.utils.data.dataloader.DataLoader object at 0x000001C2E1628588>), (-1, 17, <torch.utils.data.dataloader.DataLoader object at 0x000001C2E1628F08>), (-1, 18, <torch.utils.data.dataloader.DataLoader object at 0x000001C2E13D0108>), (-1, 19, <torch.utils.data.dataloader.DataLoader object at 0x000001C2E13D09C8>)], [(-1, 0, <torch.utils.data.dataloader.DataLoader object at 0x000001C2E1155AC8>), (-1, 1, <torch.utils.data.dataloader.DataLoader object at 0x000001C2E34BF308>), (-1, 2, <torch.utils.data.dataloader.DataLoader object at 0x000001C2E34BF8C8>), (-1, 3, <torch.utils.data.dataloader.DataLoader object at 0x000001C2E34BF608>), (-1, 4, <torch.utils.data.dataloader.DataLoader object at 0x000001C2E1652E88>), (-1, 5, <torch.utils.data.dataloader.DataLoader object at 0x000001C2E1652D08>), (-1, 6, <torch.utils.data.dataloader.DataLoader object at 0x000001C2E16523C8>), (-1, 7, <torch.utils.data.dataloader.DataLoader object at 0x000001C2E1652948>), (-1, 8, <torch.utils.data.dataloader.DataLoader object at 0x000001C2E16528C8>), (-1, 9, <torch.utils.data.dataloader.DataLoader object at 0x000001C2E1652848>), (-1, 10, <torch.utils.data.dataloader.DataLoader object at 0x000001C2E1628148>), (-1, 11, <torch.utils.data.dataloader.DataLoader object at 0x000001C2E1628EC8>), (-1, 12, <torch.utils.data.dataloader.DataLoader object at 0x000001C2E1628D48>), (-1, 13, <torch.utils.data.dataloader.DataLoader object at 0x000001C2E1628B88>), (-1, 14, <torch.utils.data.dataloader.DataLoader object at 0x000001C2E1628E88>), (-1, 15, <torch.utils.data.dataloader.DataLoader object at 0x000001C2E1628248>), (-1, 16, <torch.utils.data.dataloader.DataLoader object at 0x000001C2E1628588>), (-1, 17, <torch.utils.data.dataloader.DataLoader object at 0x000001C2E1628F08>), (-1, 18, <torch.utils.data.dataloader.DataLoader object at 0x000001C2E13D0108>), (-1, 19, <torch.utils.data.dataloader.DataLoader object at 0x000001C2E13D09C8>)], [(-1, 0, <torch.utils.data.dataloader.DataLoader object at 0x000001C2E1155AC8>), (-1, 1, <torch.utils.data.dataloader.DataLoader object at 0x000001C2E34BF308>), (-1, 2, <torch.utils.data.dataloader.DataLoader object at 0x000001C2E34BF8C8>), (-1, 3, <torch.utils.data.dataloader.DataLoader object at 0x000001C2E34BF608>), (-1, 4, <torch.utils.data.dataloader.DataLoader object at 0x000001C2E1652E88>), (-1, 5, <torch.utils.data.dataloader.DataLoader object at 0x000001C2E1652D08>), (-1, 6, <torch.utils.data.dataloader.DataLoader object at 0x000001C2E16523C8>), (-1, 7, <torch.utils.data.dataloader.DataLoader object at 0x000001C2E1652948>), (-1, 8, <torch.utils.data.dataloader.DataLoader object at 0x000001C2E16528C8>), (-1, 9, <torch.utils.data.dataloader.DataLoader object at 0x000001C2E1652848>), (-1, 10, <torch.utils.data.dataloader.DataLoader object at 0x000001C2E1628148>), (-1, 11, <torch.utils.data.dataloader.DataLoader object at 0x000001C2E1628EC8>), (-1, 12, <torch.utils.data.dataloader.DataLoader object at 0x000001C2E1628D48>), (-1, 13, <torch.utils.data.dataloader.DataLoader object at 0x000001C2E1628B88>), (-1, 14, <torch.utils.data.dataloader.DataLoader object at 0x000001C2E1628E88>), (-1, 15, <torch.utils.data.dataloader.DataLoader object at 0x000001C2E1628248>), (-1, 16, <torch.utils.data.dataloader.DataLoader object at 0x000001C2E1628588>), (-1, 17, <torch.utils.data.dataloader.DataLoader object at 0x000001C2E1628F08>), (-1, 18, <torch.utils.data.dataloader.DataLoader object at 0x000001C2E13D0108>), (-1, 19, <torch.utils.data.dataloader.DataLoader object at 0x000001C2E13D09C8>)], [(-1, 0, <torch.utils.data.dataloader.DataLoader object at 0x000001C2E1155AC8>), (-1, 1, <torch.utils.data.dataloader.DataLoader object at 0x000001C2E34BF308>), (-1, 2, <torch.utils.data.dataloader.DataLoader object at 0x000001C2E34BF8C8>), (-1, 3, <torch.utils.data.dataloader.DataLoader object at 0x000001C2E34BF608>), (-1, 4, <torch.utils.data.dataloader.DataLoader object at 0x000001C2E1652E88>), (-1, 5, <torch.utils.data.dataloader.DataLoader object at 0x000001C2E1652D08>), (-1, 6, <torch.utils.data.dataloader.DataLoader object at 0x000001C2E16523C8>), (-1, 7, <torch.utils.data.dataloader.DataLoader object at 0x000001C2E1652948>), (-1, 8, <torch.utils.data.dataloader.DataLoader object at 0x000001C2E16528C8>), (-1, 9, <torch.utils.data.dataloader.DataLoader object at 0x000001C2E1652848>), (-1, 10, <torch.utils.data.dataloader.DataLoader object at 0x000001C2E1628148>), (-1, 11, <torch.utils.data.dataloader.DataLoader object at 0x000001C2E1628EC8>), (-1, 12, <torch.utils.data.dataloader.DataLoader object at 0x000001C2E1628D48>), (-1, 13, <torch.utils.data.dataloader.DataLoader object at 0x000001C2E1628B88>), (-1, 14, <torch.utils.data.dataloader.DataLoader object at 0x000001C2E1628E88>), (-1, 15, <torch.utils.data.dataloader.DataLoader object at 0x000001C2E1628248>), (-1, 16, <torch.utils.data.dataloader.DataLoader object at 0x000001C2E1628588>), (-1, 17, <torch.utils.data.dataloader.DataLoader object at 0x000001C2E1628F08>), (-1, 18, <torch.utils.data.dataloader.DataLoader object at 0x000001C2E13D0108>), (-1, 19, <torch.utils.data.dataloader.DataLoader object at 0x000001C2E13D09C8>)], [(-1, 0, <torch.utils.data.dataloader.DataLoader object at 0x000001C2E1155AC8>), (-1, 1, <torch.utils.data.dataloader.DataLoader object at 0x000001C2E34BF308>), (-1, 2, <torch.utils.data.dataloader.DataLoader object at 0x000001C2E34BF8C8>), (-1, 3, <torch.utils.data.dataloader.DataLoader object at 0x000001C2E34BF608>), (-1, 4, <torch.utils.data.dataloader.DataLoader object at 0x000001C2E1652E88>), (-1, 5, <torch.utils.data.dataloader.DataLoader object at 0x000001C2E1652D08>), (-1, 6, <torch.utils.data.dataloader.DataLoader object at 0x000001C2E16523C8>), (-1, 7, <torch.utils.data.dataloader.DataLoader object at 0x000001C2E1652948>), (-1, 8, <torch.utils.data.dataloader.DataLoader object at 0x000001C2E16528C8>), (-1, 9, <torch.utils.data.dataloader.DataLoader object at 0x000001C2E1652848>), (-1, 10, <torch.utils.data.dataloader.DataLoader object at 0x000001C2E1628148>), (-1, 11, <torch.utils.data.dataloader.DataLoader object at 0x000001C2E1628EC8>), (-1, 12, <torch.utils.data.dataloader.DataLoader object at 0x000001C2E1628D48>), (-1, 13, <torch.utils.data.dataloader.DataLoader object at 0x000001C2E1628B88>), (-1, 14, <torch.utils.data.dataloader.DataLoader object at 0x000001C2E1628E88>), (-1, 15, <torch.utils.data.dataloader.DataLoader object at 0x000001C2E1628248>), (-1, 16, <torch.utils.data.dataloader.DataLoader object at 0x000001C2E1628588>), (-1, 17, <torch.utils.data.dataloader.DataLoader object at 0x000001C2E1628F08>), (-1, 18, <torch.utils.data.dataloader.DataLoader object at 0x000001C2E13D0108>), (-1, 19, <torch.utils.data.dataloader.DataLoader object at 0x000001C2E13D09C8>)], [(-1, 0, <torch.utils.data.dataloader.DataLoader object at 0x000001C2E1155AC8>), (-1, 1, <torch.utils.data.dataloader.DataLoader object at 0x000001C2E34BF308>), (-1, 2, <torch.utils.data.dataloader.DataLoader object at 0x000001C2E34BF8C8>), (-1, 3, <torch.utils.data.dataloader.DataLoader object at 0x000001C2E34BF608>), (-1, 4, <torch.utils.data.dataloader.DataLoader object at 0x000001C2E1652E88>), (-1, 5, <torch.utils.data.dataloader.DataLoader object at 0x000001C2E1652D08>), (-1, 6, <torch.utils.data.dataloader.DataLoader object at 0x000001C2E16523C8>), (-1, 7, <torch.utils.data.dataloader.DataLoader object at 0x000001C2E1652948>), (-1, 8, <torch.utils.data.dataloader.DataLoader object at 0x000001C2E16528C8>), (-1, 9, <torch.utils.data.dataloader.DataLoader object at 0x000001C2E1652848>), (-1, 10, <torch.utils.data.dataloader.DataLoader object at 0x000001C2E1628148>), (-1, 11, <torch.utils.data.dataloader.DataLoader object at 0x000001C2E1628EC8>), (-1, 12, <torch.utils.data.dataloader.DataLoader object at 0x000001C2E1628D48>), (-1, 13, <torch.utils.data.dataloader.DataLoader object at 0x000001C2E1628B88>), (-1, 14, <torch.utils.data.dataloader.DataLoader object at 0x000001C2E1628E88>), (-1, 15, <torch.utils.data.dataloader.DataLoader object at 0x000001C2E1628248>), (-1, 16, <torch.utils.data.dataloader.DataLoader object at 0x000001C2E1628588>), (-1, 17, <torch.utils.data.dataloader.DataLoader object at 0x000001C2E1628F08>), (-1, 18, <torch.utils.data.dataloader.DataLoader object at 0x000001C2E13D0108>), (-1, 19, <torch.utils.data.dataloader.DataLoader object at 0x000001C2E13D09C8>)], [(-1, 0, <torch.utils.data.dataloader.DataLoader object at 0x000001C2E1155AC8>), (-1, 1, <torch.utils.data.dataloader.DataLoader object at 0x000001C2E34BF308>), (-1, 2, <torch.utils.data.dataloader.DataLoader object at 0x000001C2E34BF8C8>), (-1, 3, <torch.utils.data.dataloader.DataLoader object at 0x000001C2E34BF608>), (-1, 4, <torch.utils.data.dataloader.DataLoader object at 0x000001C2E1652E88>), (-1, 5, <torch.utils.data.dataloader.DataLoader object at 0x000001C2E1652D08>), (-1, 6, <torch.utils.data.dataloader.DataLoader object at 0x000001C2E16523C8>), (-1, 7, <torch.utils.data.dataloader.DataLoader object at 0x000001C2E1652948>), (-1, 8, <torch.utils.data.dataloader.DataLoader object at 0x000001C2E16528C8>), (-1, 9, <torch.utils.data.dataloader.DataLoader object at 0x000001C2E1652848>), (-1, 10, <torch.utils.data.dataloader.DataLoader object at 0x000001C2E1628148>), (-1, 11, <torch.utils.data.dataloader.DataLoader object at 0x000001C2E1628EC8>), (-1, 12, <torch.utils.data.dataloader.DataLoader object at 0x000001C2E1628D48>), (-1, 13, <torch.utils.data.dataloader.DataLoader object at 0x000001C2E1628B88>), (-1, 14, <torch.utils.data.dataloader.DataLoader object at 0x000001C2E1628E88>), (-1, 15, <torch.utils.data.dataloader.DataLoader object at 0x000001C2E1628248>), (-1, 16, <torch.utils.data.dataloader.DataLoader object at 0x000001C2E1628588>), (-1, 17, <torch.utils.data.dataloader.DataLoader object at 0x000001C2E1628F08>), (-1, 18, <torch.utils.data.dataloader.DataLoader object at 0x000001C2E13D0108>), (-1, 19, <torch.utils.data.dataloader.DataLoader object at 0x000001C2E13D09C8>)], [(-1, 0, <torch.utils.data.dataloader.DataLoader object at 0x000001C2E1155AC8>), (-1, 1, <torch.utils.data.dataloader.DataLoader object at 0x000001C2E34BF308>), (-1, 2, <torch.utils.data.dataloader.DataLoader object at 0x000001C2E34BF8C8>), (-1, 3, <torch.utils.data.dataloader.DataLoader object at 0x000001C2E34BF608>), (-1, 4, <torch.utils.data.dataloader.DataLoader object at 0x000001C2E1652E88>), (-1, 5, <torch.utils.data.dataloader.DataLoader object at 0x000001C2E1652D08>), (-1, 6, <torch.utils.data.dataloader.DataLoader object at 0x000001C2E16523C8>), (-1, 7, <torch.utils.data.dataloader.DataLoader object at 0x000001C2E1652948>), (-1, 8, <torch.utils.data.dataloader.DataLoader object at 0x000001C2E16528C8>), (-1, 9, <torch.utils.data.dataloader.DataLoader object at 0x000001C2E1652848>), (-1, 10, <torch.utils.data.dataloader.DataLoader object at 0x000001C2E1628148>), (-1, 11, <torch.utils.data.dataloader.DataLoader object at 0x000001C2E1628EC8>), (-1, 12, <torch.utils.data.dataloader.DataLoader object at 0x000001C2E1628D48>), (-1, 13, <torch.utils.data.dataloader.DataLoader object at 0x000001C2E1628B88>), (-1, 14, <torch.utils.data.dataloader.DataLoader object at 0x000001C2E1628E88>), (-1, 15, <torch.utils.data.dataloader.DataLoader object at 0x000001C2E1628248>), (-1, 16, <torch.utils.data.dataloader.DataLoader object at 0x000001C2E1628588>), (-1, 17, <torch.utils.data.dataloader.DataLoader object at 0x000001C2E1628F08>), (-1, 18, <torch.utils.data.dataloader.DataLoader object at 0x000001C2E13D0108>), (-1, 19, <torch.utils.data.dataloader.DataLoader object at 0x000001C2E13D09C8>)], [(-1, 0, <torch.utils.data.dataloader.DataLoader object at 0x000001C2E1155AC8>), (-1, 1, <torch.utils.data.dataloader.DataLoader object at 0x000001C2E34BF308>), (-1, 2, <torch.utils.data.dataloader.DataLoader object at 0x000001C2E34BF8C8>), (-1, 3, <torch.utils.data.dataloader.DataLoader object at 0x000001C2E34BF608>), (-1, 4, <torch.utils.data.dataloader.DataLoader object at 0x000001C2E1652E88>), (-1, 5, <torch.utils.data.dataloader.DataLoader object at 0x000001C2E1652D08>), (-1, 6, <torch.utils.data.dataloader.DataLoader object at 0x000001C2E16523C8>), (-1, 7, <torch.utils.data.dataloader.DataLoader object at 0x000001C2E1652948>), (-1, 8, <torch.utils.data.dataloader.DataLoader object at 0x000001C2E16528C8>), (-1, 9, <torch.utils.data.dataloader.DataLoader object at 0x000001C2E1652848>), (-1, 10, <torch.utils.data.dataloader.DataLoader object at 0x000001C2E1628148>), (-1, 11, <torch.utils.data.dataloader.DataLoader object at 0x000001C2E1628EC8>), (-1, 12, <torch.utils.data.dataloader.DataLoader object at 0x000001C2E1628D48>), (-1, 13, <torch.utils.data.dataloader.DataLoader object at 0x000001C2E1628B88>), (-1, 14, <torch.utils.data.dataloader.DataLoader object at 0x000001C2E1628E88>), (-1, 15, <torch.utils.data.dataloader.DataLoader object at 0x000001C2E1628248>), (-1, 16, <torch.utils.data.dataloader.DataLoader object at 0x000001C2E1628588>), (-1, 17, <torch.utils.data.dataloader.DataLoader object at 0x000001C2E1628F08>), (-1, 18, <torch.utils.data.dataloader.DataLoader object at 0x000001C2E13D0108>), (-1, 19, <torch.utils.data.dataloader.DataLoader object at 0x000001C2E13D09C8>)], [(-1, 0, <torch.utils.data.dataloader.DataLoader object at 0x000001C2E1155AC8>), (-1, 1, <torch.utils.data.dataloader.DataLoader object at 0x000001C2E34BF308>), (-1, 2, <torch.utils.data.dataloader.DataLoader object at 0x000001C2E34BF8C8>), (-1, 3, <torch.utils.data.dataloader.DataLoader object at 0x000001C2E34BF608>), (-1, 4, <torch.utils.data.dataloader.DataLoader object at 0x000001C2E1652E88>), (-1, 5, <torch.utils.data.dataloader.DataLoader object at 0x000001C2E1652D08>), (-1, 6, <torch.utils.data.dataloader.DataLoader object at 0x000001C2E16523C8>), (-1, 7, <torch.utils.data.dataloader.DataLoader object at 0x000001C2E1652948>), (-1, 8, <torch.utils.data.dataloader.DataLoader object at 0x000001C2E16528C8>), (-1, 9, <torch.utils.data.dataloader.DataLoader object at 0x000001C2E1652848>), (-1, 10, <torch.utils.data.dataloader.DataLoader object at 0x000001C2E1628148>), (-1, 11, <torch.utils.data.dataloader.DataLoader object at 0x000001C2E1628EC8>), (-1, 12, <torch.utils.data.dataloader.DataLoader object at 0x000001C2E1628D48>), (-1, 13, <torch.utils.data.dataloader.DataLoader object at 0x000001C2E1628B88>), (-1, 14, <torch.utils.data.dataloader.DataLoader object at 0x000001C2E1628E88>), (-1, 15, <torch.utils.data.dataloader.DataLoader object at 0x000001C2E1628248>), (-1, 16, <torch.utils.data.dataloader.DataLoader object at 0x000001C2E1628588>), (-1, 17, <torch.utils.data.dataloader.DataLoader object at 0x000001C2E1628F08>), (-1, 18, <torch.utils.data.dataloader.DataLoader object at 0x000001C2E13D0108>), (-1, 19, <torch.utils.data.dataloader.DataLoader object at 0x000001C2E13D09C8>)], [(-1, 0, <torch.utils.data.dataloader.DataLoader object at 0x000001C2E1155AC8>), (-1, 1, <torch.utils.data.dataloader.DataLoader object at 0x000001C2E34BF308>), (-1, 2, <torch.utils.data.dataloader.DataLoader object at 0x000001C2E34BF8C8>), (-1, 3, <torch.utils.data.dataloader.DataLoader object at 0x000001C2E34BF608>), (-1, 4, <torch.utils.data.dataloader.DataLoader object at 0x000001C2E1652E88>), (-1, 5, <torch.utils.data.dataloader.DataLoader object at 0x000001C2E1652D08>), (-1, 6, <torch.utils.data.dataloader.DataLoader object at 0x000001C2E16523C8>), (-1, 7, <torch.utils.data.dataloader.DataLoader object at 0x000001C2E1652948>), (-1, 8, <torch.utils.data.dataloader.DataLoader object at 0x000001C2E16528C8>), (-1, 9, <torch.utils.data.dataloader.DataLoader object at 0x000001C2E1652848>), (-1, 10, <torch.utils.data.dataloader.DataLoader object at 0x000001C2E1628148>), (-1, 11, <torch.utils.data.dataloader.DataLoader object at 0x000001C2E1628EC8>), (-1, 12, <torch.utils.data.dataloader.DataLoader object at 0x000001C2E1628D48>), (-1, 13, <torch.utils.data.dataloader.DataLoader object at 0x000001C2E1628B88>), (-1, 14, <torch.utils.data.dataloader.DataLoader object at 0x000001C2E1628E88>), (-1, 15, <torch.utils.data.dataloader.DataLoader object at 0x000001C2E1628248>), (-1, 16, <torch.utils.data.dataloader.DataLoader object at 0x000001C2E1628588>), (-1, 17, <torch.utils.data.dataloader.DataLoader object at 0x000001C2E1628F08>), (-1, 18, <torch.utils.data.dataloader.DataLoader object at 0x000001C2E13D0108>), (-1, 19, <torch.utils.data.dataloader.DataLoader object at 0x000001C2E13D09C8>)], [(-1, 0, <torch.utils.data.dataloader.DataLoader object at 0x000001C2E1155AC8>), (-1, 1, <torch.utils.data.dataloader.DataLoader object at 0x000001C2E34BF308>), (-1, 2, <torch.utils.data.dataloader.DataLoader object at 0x000001C2E34BF8C8>), (-1, 3, <torch.utils.data.dataloader.DataLoader object at 0x000001C2E34BF608>), (-1, 4, <torch.utils.data.dataloader.DataLoader object at 0x000001C2E1652E88>), (-1, 5, <torch.utils.data.dataloader.DataLoader object at 0x000001C2E1652D08>), (-1, 6, <torch.utils.data.dataloader.DataLoader object at 0x000001C2E16523C8>), (-1, 7, <torch.utils.data.dataloader.DataLoader object at 0x000001C2E1652948>), (-1, 8, <torch.utils.data.dataloader.DataLoader object at 0x000001C2E16528C8>), (-1, 9, <torch.utils.data.dataloader.DataLoader object at 0x000001C2E1652848>), (-1, 10, <torch.utils.data.dataloader.DataLoader object at 0x000001C2E1628148>), (-1, 11, <torch.utils.data.dataloader.DataLoader object at 0x000001C2E1628EC8>), (-1, 12, <torch.utils.data.dataloader.DataLoader object at 0x000001C2E1628D48>), (-1, 13, <torch.utils.data.dataloader.DataLoader object at 0x000001C2E1628B88>), (-1, 14, <torch.utils.data.dataloader.DataLoader object at 0x000001C2E1628E88>), (-1, 15, <torch.utils.data.dataloader.DataLoader object at 0x000001C2E1628248>), (-1, 16, <torch.utils.data.dataloader.DataLoader object at 0x000001C2E1628588>), (-1, 17, <torch.utils.data.dataloader.DataLoader object at 0x000001C2E1628F08>), (-1, 18, <torch.utils.data.dataloader.DataLoader object at 0x000001C2E13D0108>), (-1, 19, <torch.utils.data.dataloader.DataLoader object at 0x000001C2E13D09C8>)], [(-1, 0, <torch.utils.data.dataloader.DataLoader object at 0x000001C2E1155AC8>), (-1, 1, <torch.utils.data.dataloader.DataLoader object at 0x000001C2E34BF308>), (-1, 2, <torch.utils.data.dataloader.DataLoader object at 0x000001C2E34BF8C8>), (-1, 3, <torch.utils.data.dataloader.DataLoader object at 0x000001C2E34BF608>), (-1, 4, <torch.utils.data.dataloader.DataLoader object at 0x000001C2E1652E88>), (-1, 5, <torch.utils.data.dataloader.DataLoader object at 0x000001C2E1652D08>), (-1, 6, <torch.utils.data.dataloader.DataLoader object at 0x000001C2E16523C8>), (-1, 7, <torch.utils.data.dataloader.DataLoader object at 0x000001C2E1652948>), (-1, 8, <torch.utils.data.dataloader.DataLoader object at 0x000001C2E16528C8>), (-1, 9, <torch.utils.data.dataloader.DataLoader object at 0x000001C2E1652848>), (-1, 10, <torch.utils.data.dataloader.DataLoader object at 0x000001C2E1628148>), (-1, 11, <torch.utils.data.dataloader.DataLoader object at 0x000001C2E1628EC8>), (-1, 12, <torch.utils.data.dataloader.DataLoader object at 0x000001C2E1628D48>), (-1, 13, <torch.utils.data.dataloader.DataLoader object at 0x000001C2E1628B88>), (-1, 14, <torch.utils.data.dataloader.DataLoader object at 0x000001C2E1628E88>), (-1, 15, <torch.utils.data.dataloader.DataLoader object at 0x000001C2E1628248>), (-1, 16, <torch.utils.data.dataloader.DataLoader object at 0x000001C2E1628588>), (-1, 17, <torch.utils.data.dataloader.DataLoader object at 0x000001C2E1628F08>), (-1, 18, <torch.utils.data.dataloader.DataLoader object at 0x000001C2E13D0108>), (-1, 19, <torch.utils.data.dataloader.DataLoader object at 0x000001C2E13D09C8>)], [(-1, 0, <torch.utils.data.dataloader.DataLoader object at 0x000001C2E1155AC8>), (-1, 1, <torch.utils.data.dataloader.DataLoader object at 0x000001C2E34BF308>), (-1, 2, <torch.utils.data.dataloader.DataLoader object at 0x000001C2E34BF8C8>), (-1, 3, <torch.utils.data.dataloader.DataLoader object at 0x000001C2E34BF608>), (-1, 4, <torch.utils.data.dataloader.DataLoader object at 0x000001C2E1652E88>), (-1, 5, <torch.utils.data.dataloader.DataLoader object at 0x000001C2E1652D08>), (-1, 6, <torch.utils.data.dataloader.DataLoader object at 0x000001C2E16523C8>), (-1, 7, <torch.utils.data.dataloader.DataLoader object at 0x000001C2E1652948>), (-1, 8, <torch.utils.data.dataloader.DataLoader object at 0x000001C2E16528C8>), (-1, 9, <torch.utils.data.dataloader.DataLoader object at 0x000001C2E1652848>), (-1, 10, <torch.utils.data.dataloader.DataLoader object at 0x000001C2E1628148>), (-1, 11, <torch.utils.data.dataloader.DataLoader object at 0x000001C2E1628EC8>), (-1, 12, <torch.utils.data.dataloader.DataLoader object at 0x000001C2E1628D48>), (-1, 13, <torch.utils.data.dataloader.DataLoader object at 0x000001C2E1628B88>), (-1, 14, <torch.utils.data.dataloader.DataLoader object at 0x000001C2E1628E88>), (-1, 15, <torch.utils.data.dataloader.DataLoader object at 0x000001C2E1628248>), (-1, 16, <torch.utils.data.dataloader.DataLoader object at 0x000001C2E1628588>), (-1, 17, <torch.utils.data.dataloader.DataLoader object at 0x000001C2E1628F08>), (-1, 18, <torch.utils.data.dataloader.DataLoader object at 0x000001C2E13D0108>), (-1, 19, <torch.utils.data.dataloader.DataLoader object at 0x000001C2E13D09C8>)], [(-1, 0, <torch.utils.data.dataloader.DataLoader object at 0x000001C2E1155AC8>), (-1, 1, <torch.utils.data.dataloader.DataLoader object at 0x000001C2E34BF308>), (-1, 2, <torch.utils.data.dataloader.DataLoader object at 0x000001C2E34BF8C8>), (-1, 3, <torch.utils.data.dataloader.DataLoader object at 0x000001C2E34BF608>), (-1, 4, <torch.utils.data.dataloader.DataLoader object at 0x000001C2E1652E88>), (-1, 5, <torch.utils.data.dataloader.DataLoader object at 0x000001C2E1652D08>), (-1, 6, <torch.utils.data.dataloader.DataLoader object at 0x000001C2E16523C8>), (-1, 7, <torch.utils.data.dataloader.DataLoader object at 0x000001C2E1652948>), (-1, 8, <torch.utils.data.dataloader.DataLoader object at 0x000001C2E16528C8>), (-1, 9, <torch.utils.data.dataloader.DataLoader object at 0x000001C2E1652848>), (-1, 10, <torch.utils.data.dataloader.DataLoader object at 0x000001C2E1628148>), (-1, 11, <torch.utils.data.dataloader.DataLoader object at 0x000001C2E1628EC8>), (-1, 12, <torch.utils.data.dataloader.DataLoader object at 0x000001C2E1628D48>), (-1, 13, <torch.utils.data.dataloader.DataLoader object at 0x000001C2E1628B88>), (-1, 14, <torch.utils.data.dataloader.DataLoader object at 0x000001C2E1628E88>), (-1, 15, <torch.utils.data.dataloader.DataLoader object at 0x000001C2E1628248>), (-1, 16, <torch.utils.data.dataloader.DataLoader object at 0x000001C2E1628588>), (-1, 17, <torch.utils.data.dataloader.DataLoader object at 0x000001C2E1628F08>), (-1, 18, <torch.utils.data.dataloader.DataLoader object at 0x000001C2E13D0108>), (-1, 19, <torch.utils.data.dataloader.DataLoader object at 0x000001C2E13D09C8>)], [(-1, 0, <torch.utils.data.dataloader.DataLoader object at 0x000001C2E1155AC8>), (-1, 1, <torch.utils.data.dataloader.DataLoader object at 0x000001C2E34BF308>), (-1, 2, <torch.utils.data.dataloader.DataLoader object at 0x000001C2E34BF8C8>), (-1, 3, <torch.utils.data.dataloader.DataLoader object at 0x000001C2E34BF608>), (-1, 4, <torch.utils.data.dataloader.DataLoader object at 0x000001C2E1652E88>), (-1, 5, <torch.utils.data.dataloader.DataLoader object at 0x000001C2E1652D08>), (-1, 6, <torch.utils.data.dataloader.DataLoader object at 0x000001C2E16523C8>), (-1, 7, <torch.utils.data.dataloader.DataLoader object at 0x000001C2E1652948>), (-1, 8, <torch.utils.data.dataloader.DataLoader object at 0x000001C2E16528C8>), (-1, 9, <torch.utils.data.dataloader.DataLoader object at 0x000001C2E1652848>), (-1, 10, <torch.utils.data.dataloader.DataLoader object at 0x000001C2E1628148>), (-1, 11, <torch.utils.data.dataloader.DataLoader object at 0x000001C2E1628EC8>), (-1, 12, <torch.utils.data.dataloader.DataLoader object at 0x000001C2E1628D48>), (-1, 13, <torch.utils.data.dataloader.DataLoader object at 0x000001C2E1628B88>), (-1, 14, <torch.utils.data.dataloader.DataLoader object at 0x000001C2E1628E88>), (-1, 15, <torch.utils.data.dataloader.DataLoader object at 0x000001C2E1628248>), (-1, 16, <torch.utils.data.dataloader.DataLoader object at 0x000001C2E1628588>), (-1, 17, <torch.utils.data.dataloader.DataLoader object at 0x000001C2E1628F08>), (-1, 18, <torch.utils.data.dataloader.DataLoader object at 0x000001C2E13D0108>), (-1, 19, <torch.utils.data.dataloader.DataLoader object at 0x000001C2E13D09C8>)], [(-1, 0, <torch.utils.data.dataloader.DataLoader object at 0x000001C2E1155AC8>), (-1, 1, <torch.utils.data.dataloader.DataLoader object at 0x000001C2E34BF308>), (-1, 2, <torch.utils.data.dataloader.DataLoader object at 0x000001C2E34BF8C8>), (-1, 3, <torch.utils.data.dataloader.DataLoader object at 0x000001C2E34BF608>), (-1, 4, <torch.utils.data.dataloader.DataLoader object at 0x000001C2E1652E88>), (-1, 5, <torch.utils.data.dataloader.DataLoader object at 0x000001C2E1652D08>), (-1, 6, <torch.utils.data.dataloader.DataLoader object at 0x000001C2E16523C8>), (-1, 7, <torch.utils.data.dataloader.DataLoader object at 0x000001C2E1652948>), (-1, 8, <torch.utils.data.dataloader.DataLoader object at 0x000001C2E16528C8>), (-1, 9, <torch.utils.data.dataloader.DataLoader object at 0x000001C2E1652848>), (-1, 10, <torch.utils.data.dataloader.DataLoader object at 0x000001C2E1628148>), (-1, 11, <torch.utils.data.dataloader.DataLoader object at 0x000001C2E1628EC8>), (-1, 12, <torch.utils.data.dataloader.DataLoader object at 0x000001C2E1628D48>), (-1, 13, <torch.utils.data.dataloader.DataLoader object at 0x000001C2E1628B88>), (-1, 14, <torch.utils.data.dataloader.DataLoader object at 0x000001C2E1628E88>), (-1, 15, <torch.utils.data.dataloader.DataLoader object at 0x000001C2E1628248>), (-1, 16, <torch.utils.data.dataloader.DataLoader object at 0x000001C2E1628588>), (-1, 17, <torch.utils.data.dataloader.DataLoader object at 0x000001C2E1628F08>), (-1, 18, <torch.utils.data.dataloader.DataLoader object at 0x000001C2E13D0108>), (-1, 19, <torch.utils.data.dataloader.DataLoader object at 0x000001C2E13D09C8>)]]\n"
     ]
    }
   ],
   "source": [
    "if iid:\n",
    "    train_loaders=[]\n",
    "    for i in range(n_iter):\n",
    "        train_loaders.append([(i, pos, get_train_iid(all_range, pos, i))\n",
    "                                for pos in range(num_of_workers)])\n",
    "else:\n",
    "    indices_per_participant = sample_dirichlet_train_data(\n",
    "        num_of_workers,\n",
    "        #dataset= torch.utils.data.Subset(train_dataset, list(range(240))),\n",
    "        alpha=0.95,\n",
    "        copylist=copylist)\n",
    "    train_loaders = [(-1, pos, get_train_noniid(indices)) for pos, indices in\n",
    "                    indices_per_participant.items()]\n",
    "    train_loaders = n_iter * [train_loaders]\n",
    "\n",
    "print(train_loaders)"
   ]
  },
  {
   "cell_type": "code",
   "execution_count": null,
   "metadata": {
    "colab": {
     "base_uri": "https://localhost:8080/"
    },
    "id": "HFU41nvozNJI",
    "outputId": "12464ed8-464b-4431-b96f-a69a9d84bf69"
   },
   "outputs": [
    {
     "name": "stdout",
     "output_type": "stream",
     "text": [
      "\n",
      "\n",
      " Entering epoch 0\n",
      "Iter 0 - Epoch 0 - Client Type: Benign - Client Number 0 - Poison Training False\n"
     ]
    },
    {
     "name": "stderr",
     "output_type": "stream",
     "text": [
      "100%|████████████████████████████████████████████████████████████████████████████████████| 1/1 [00:01<00:00,  1.04s/it]\n"
     ]
    },
    {
     "name": "stdout",
     "output_type": "stream",
     "text": [
      "Iter 0 - Epoch 0 - Client Type: Benign - Client Number 1 - Poison Training False\n"
     ]
    },
    {
     "name": "stderr",
     "output_type": "stream",
     "text": [
      "100%|████████████████████████████████████████████████████████████████████████████████████| 1/1 [00:00<00:00,  1.24it/s]\n"
     ]
    },
    {
     "name": "stdout",
     "output_type": "stream",
     "text": [
      "Iter 0 - Epoch 0 - Client Type: Benign - Client Number 2 - Poison Training False\n"
     ]
    },
    {
     "name": "stderr",
     "output_type": "stream",
     "text": [
      "100%|████████████████████████████████████████████████████████████████████████████████████| 2/2 [00:01<00:00,  1.51it/s]\n"
     ]
    },
    {
     "name": "stdout",
     "output_type": "stream",
     "text": [
      "Iter 0 - Epoch 0 - Client Type: Benign - Client Number 3 - Poison Training False\n"
     ]
    },
    {
     "name": "stderr",
     "output_type": "stream",
     "text": [
      "100%|████████████████████████████████████████████████████████████████████████████████████| 1/1 [00:00<00:00,  1.09it/s]\n"
     ]
    },
    {
     "name": "stdout",
     "output_type": "stream",
     "text": [
      "Iter 0 - Epoch 0 - Client Type: Benign - Client Number 4 - Poison Training False\n"
     ]
    },
    {
     "name": "stderr",
     "output_type": "stream",
     "text": [
      "100%|████████████████████████████████████████████████████████████████████████████████████| 1/1 [00:00<00:00,  1.29it/s]\n"
     ]
    },
    {
     "name": "stdout",
     "output_type": "stream",
     "text": [
      "Iter 0 - Epoch 0 - Client Type: Benign - Client Number 5 - Poison Training False\n"
     ]
    },
    {
     "name": "stderr",
     "output_type": "stream",
     "text": [
      "100%|████████████████████████████████████████████████████████████████████████████████████| 1/1 [00:00<00:00,  1.06it/s]\n"
     ]
    },
    {
     "name": "stdout",
     "output_type": "stream",
     "text": [
      "Iter 0 - Epoch 0 - Client Type: Benign - Client Number 6 - Poison Training False\n"
     ]
    },
    {
     "name": "stderr",
     "output_type": "stream",
     "text": [
      "100%|████████████████████████████████████████████████████████████████████████████████████| 1/1 [00:00<00:00,  1.06it/s]\n"
     ]
    },
    {
     "name": "stdout",
     "output_type": "stream",
     "text": [
      "Iter 0 - Epoch 0 - Client Type: Benign - Client Number 7 - Poison Training False\n"
     ]
    },
    {
     "name": "stderr",
     "output_type": "stream",
     "text": [
      "100%|████████████████████████████████████████████████████████████████████████████████████| 1/1 [00:00<00:00,  1.02it/s]\n"
     ]
    },
    {
     "name": "stdout",
     "output_type": "stream",
     "text": [
      "Iter 0 - Epoch 0 - Client Type: Benign - Client Number 8 - Poison Training False\n"
     ]
    },
    {
     "name": "stderr",
     "output_type": "stream",
     "text": [
      "100%|████████████████████████████████████████████████████████████████████████████████████| 2/2 [00:01<00:00,  1.80it/s]\n"
     ]
    },
    {
     "name": "stdout",
     "output_type": "stream",
     "text": [
      "Iter 0 - Epoch 0 - Client Type: Benign - Client Number 9 - Poison Training False\n"
     ]
    },
    {
     "name": "stderr",
     "output_type": "stream",
     "text": [
      "100%|████████████████████████████████████████████████████████████████████████████████████| 1/1 [00:00<00:00,  1.05it/s]\n"
     ]
    },
    {
     "name": "stdout",
     "output_type": "stream",
     "text": [
      "Iter 0 - Epoch 0 - Client Type: Benign - Client Number 10 - Poison Training False\n"
     ]
    },
    {
     "name": "stderr",
     "output_type": "stream",
     "text": [
      "100%|████████████████████████████████████████████████████████████████████████████████████| 2/2 [00:01<00:00,  1.85it/s]\n"
     ]
    },
    {
     "name": "stdout",
     "output_type": "stream",
     "text": [
      "Iter 0 - Epoch 0 - Client Type: Benign - Client Number 11 - Poison Training False\n"
     ]
    },
    {
     "name": "stderr",
     "output_type": "stream",
     "text": [
      "100%|████████████████████████████████████████████████████████████████████████████████████| 2/2 [00:01<00:00,  1.81it/s]\n"
     ]
    },
    {
     "name": "stdout",
     "output_type": "stream",
     "text": [
      "Iter 0 - Epoch 0 - Client Type: Benign - Client Number 12 - Poison Training False\n"
     ]
    },
    {
     "name": "stderr",
     "output_type": "stream",
     "text": [
      "100%|████████████████████████████████████████████████████████████████████████████████████| 1/1 [00:00<00:00,  1.55it/s]\n"
     ]
    },
    {
     "name": "stdout",
     "output_type": "stream",
     "text": [
      "Iter 0 - Epoch 0 - Client Type: Benign - Client Number 13 - Poison Training False\n"
     ]
    },
    {
     "name": "stderr",
     "output_type": "stream",
     "text": [
      "100%|████████████████████████████████████████████████████████████████████████████████████| 2/2 [00:01<00:00,  1.69it/s]\n"
     ]
    },
    {
     "name": "stdout",
     "output_type": "stream",
     "text": [
      "Iter 0 - Epoch 0 - Client Type: Benign - Client Number 14 - Poison Training False\n"
     ]
    },
    {
     "name": "stderr",
     "output_type": "stream",
     "text": [
      "100%|████████████████████████████████████████████████████████████████████████████████████| 2/2 [00:01<00:00,  1.71it/s]\n"
     ]
    },
    {
     "name": "stdout",
     "output_type": "stream",
     "text": [
      "Iter 0 - Epoch 0 - Client Type: Benign - Client Number 15 - Poison Training False\n"
     ]
    },
    {
     "name": "stderr",
     "output_type": "stream",
     "text": [
      "100%|████████████████████████████████████████████████████████████████████████████████████| 1/1 [00:01<00:00,  1.05s/it]\n"
     ]
    },
    {
     "name": "stdout",
     "output_type": "stream",
     "text": [
      "Iter 0 - Epoch 0 - Client Type: Benign - Client Number 16 - Poison Training False\n"
     ]
    },
    {
     "name": "stderr",
     "output_type": "stream",
     "text": [
      "100%|████████████████████████████████████████████████████████████████████████████████████| 1/1 [00:00<00:00,  1.06it/s]\n"
     ]
    },
    {
     "name": "stdout",
     "output_type": "stream",
     "text": [
      "Iter 0 - Epoch 0 - Client Type: Benign - Client Number 17 - Poison Training False\n"
     ]
    },
    {
     "name": "stderr",
     "output_type": "stream",
     "text": [
      "100%|████████████████████████████████████████████████████████████████████████████████████| 2/2 [00:01<00:00,  1.26it/s]\n"
     ]
    },
    {
     "name": "stdout",
     "output_type": "stream",
     "text": [
      "Iter 0 - Epoch 0 - Client Type: Benign - Client Number 18 - Poison Training False\n"
     ]
    },
    {
     "name": "stderr",
     "output_type": "stream",
     "text": [
      "100%|████████████████████████████████████████████████████████████████████████████████████| 1/1 [00:00<00:00,  1.01it/s]\n"
     ]
    },
    {
     "name": "stdout",
     "output_type": "stream",
     "text": [
      "Iter 0 - Epoch 0 - Client Type: Benign - Client Number 19 - Poison Training False\n"
     ]
    },
    {
     "name": "stderr",
     "output_type": "stream",
     "text": [
      "100%|████████████████████████████████████████████████████████████████████████████████████| 2/2 [00:01<00:00,  1.63it/s]\n"
     ]
    },
    {
     "name": "stdout",
     "output_type": "stream",
     "text": [
      "\n",
      "\n",
      " Entering epoch 1\n",
      "Iter 0 - Epoch 0 - Client Type: Benign - Client Number 0 - Poison Training False\n"
     ]
    },
    {
     "name": "stderr",
     "output_type": "stream",
     "text": [
      "100%|████████████████████████████████████████████████████████████████████████████████████| 1/1 [00:01<00:00,  1.00s/it]\n"
     ]
    },
    {
     "name": "stdout",
     "output_type": "stream",
     "text": [
      "Iter 0 - Epoch 0 - Client Type: Benign - Client Number 1 - Poison Training False\n"
     ]
    },
    {
     "name": "stderr",
     "output_type": "stream",
     "text": [
      "100%|████████████████████████████████████████████████████████████████████████████████████| 1/1 [00:00<00:00,  1.21it/s]\n"
     ]
    },
    {
     "name": "stdout",
     "output_type": "stream",
     "text": [
      "Iter 0 - Epoch 0 - Client Type: Benign - Client Number 2 - Poison Training False\n"
     ]
    },
    {
     "name": "stderr",
     "output_type": "stream",
     "text": [
      "100%|████████████████████████████████████████████████████████████████████████████████████| 2/2 [00:01<00:00,  1.40it/s]\n"
     ]
    },
    {
     "name": "stdout",
     "output_type": "stream",
     "text": [
      "Iter 0 - Epoch 0 - Client Type: Benign - Client Number 3 - Poison Training False\n"
     ]
    },
    {
     "name": "stderr",
     "output_type": "stream",
     "text": [
      "100%|████████████████████████████████████████████████████████████████████████████████████| 1/1 [00:00<00:00,  1.08it/s]\n"
     ]
    },
    {
     "name": "stdout",
     "output_type": "stream",
     "text": [
      "Iter 0 - Epoch 0 - Client Type: Benign - Client Number 4 - Poison Training False\n"
     ]
    },
    {
     "name": "stderr",
     "output_type": "stream",
     "text": [
      "100%|████████████████████████████████████████████████████████████████████████████████████| 1/1 [00:00<00:00,  1.25it/s]\n"
     ]
    },
    {
     "name": "stdout",
     "output_type": "stream",
     "text": [
      "Iter 0 - Epoch 0 - Client Type: Benign - Client Number 5 - Poison Training False\n"
     ]
    },
    {
     "name": "stderr",
     "output_type": "stream",
     "text": [
      "100%|████████████████████████████████████████████████████████████████████████████████████| 1/1 [00:01<00:00,  1.02s/it]\n"
     ]
    },
    {
     "name": "stdout",
     "output_type": "stream",
     "text": [
      "Iter 0 - Epoch 0 - Client Type: Benign - Client Number 6 - Poison Training False\n"
     ]
    },
    {
     "name": "stderr",
     "output_type": "stream",
     "text": [
      "100%|████████████████████████████████████████████████████████████████████████████████████| 1/1 [00:00<00:00,  1.01it/s]\n"
     ]
    },
    {
     "name": "stdout",
     "output_type": "stream",
     "text": [
      "Iter 0 - Epoch 0 - Client Type: Benign - Client Number 7 - Poison Training False\n"
     ]
    },
    {
     "name": "stderr",
     "output_type": "stream",
     "text": [
      "100%|████████████████████████████████████████████████████████████████████████████████████| 1/1 [00:00<00:00,  1.02it/s]\n"
     ]
    },
    {
     "name": "stdout",
     "output_type": "stream",
     "text": [
      "Iter 0 - Epoch 0 - Client Type: Benign - Client Number 8 - Poison Training False\n"
     ]
    },
    {
     "name": "stderr",
     "output_type": "stream",
     "text": [
      "100%|████████████████████████████████████████████████████████████████████████████████████| 2/2 [00:01<00:00,  1.71it/s]\n"
     ]
    },
    {
     "name": "stdout",
     "output_type": "stream",
     "text": [
      "Iter 0 - Epoch 0 - Client Type: Benign - Client Number 9 - Poison Training False\n"
     ]
    },
    {
     "name": "stderr",
     "output_type": "stream",
     "text": [
      "100%|████████████████████████████████████████████████████████████████████████████████████| 1/1 [00:00<00:00,  1.04it/s]\n"
     ]
    },
    {
     "name": "stdout",
     "output_type": "stream",
     "text": [
      "Iter 0 - Epoch 0 - Client Type: Benign - Client Number 10 - Poison Training False\n"
     ]
    },
    {
     "name": "stderr",
     "output_type": "stream",
     "text": [
      "100%|████████████████████████████████████████████████████████████████████████████████████| 2/2 [00:01<00:00,  1.62it/s]\n"
     ]
    },
    {
     "name": "stdout",
     "output_type": "stream",
     "text": [
      "Iter 0 - Epoch 0 - Client Type: Benign - Client Number 11 - Poison Training False\n"
     ]
    },
    {
     "name": "stderr",
     "output_type": "stream",
     "text": [
      "100%|████████████████████████████████████████████████████████████████████████████████████| 2/2 [00:01<00:00,  1.77it/s]\n"
     ]
    },
    {
     "name": "stdout",
     "output_type": "stream",
     "text": [
      "Iter 0 - Epoch 0 - Client Type: Benign - Client Number 12 - Poison Training False\n"
     ]
    },
    {
     "name": "stderr",
     "output_type": "stream",
     "text": [
      "100%|████████████████████████████████████████████████████████████████████████████████████| 1/1 [00:00<00:00,  1.51it/s]\n"
     ]
    },
    {
     "name": "stdout",
     "output_type": "stream",
     "text": [
      "Iter 0 - Epoch 0 - Client Type: Benign - Client Number 13 - Poison Training False\n"
     ]
    },
    {
     "name": "stderr",
     "output_type": "stream",
     "text": [
      "100%|████████████████████████████████████████████████████████████████████████████████████| 2/2 [00:01<00:00,  1.80it/s]\n"
     ]
    },
    {
     "name": "stdout",
     "output_type": "stream",
     "text": [
      "Iter 0 - Epoch 0 - Client Type: Benign - Client Number 14 - Poison Training False\n"
     ]
    },
    {
     "name": "stderr",
     "output_type": "stream",
     "text": [
      "100%|████████████████████████████████████████████████████████████████████████████████████| 2/2 [00:01<00:00,  1.74it/s]\n"
     ]
    },
    {
     "name": "stdout",
     "output_type": "stream",
     "text": [
      "Iter 0 - Epoch 0 - Client Type: Benign - Client Number 15 - Poison Training False\n"
     ]
    },
    {
     "name": "stderr",
     "output_type": "stream",
     "text": [
      "100%|████████████████████████████████████████████████████████████████████████████████████| 1/1 [00:00<00:00,  1.07it/s]\n"
     ]
    },
    {
     "name": "stdout",
     "output_type": "stream",
     "text": [
      "Iter 0 - Epoch 0 - Client Type: Benign - Client Number 16 - Poison Training False\n"
     ]
    },
    {
     "name": "stderr",
     "output_type": "stream",
     "text": [
      "100%|████████████████████████████████████████████████████████████████████████████████████| 1/1 [00:00<00:00,  1.02it/s]\n"
     ]
    },
    {
     "name": "stdout",
     "output_type": "stream",
     "text": [
      "Iter 0 - Epoch 0 - Client Type: Benign - Client Number 17 - Poison Training False\n"
     ]
    },
    {
     "name": "stderr",
     "output_type": "stream",
     "text": [
      "100%|████████████████████████████████████████████████████████████████████████████████████| 2/2 [00:01<00:00,  1.27it/s]\n"
     ]
    },
    {
     "name": "stdout",
     "output_type": "stream",
     "text": [
      "Iter 0 - Epoch 0 - Client Type: Benign - Client Number 18 - Poison Training False\n"
     ]
    },
    {
     "name": "stderr",
     "output_type": "stream",
     "text": [
      "100%|████████████████████████████████████████████████████████████████████████████████████| 1/1 [00:01<00:00,  1.01s/it]\n"
     ]
    },
    {
     "name": "stdout",
     "output_type": "stream",
     "text": [
      "Iter 0 - Epoch 0 - Client Type: Benign - Client Number 19 - Poison Training False\n"
     ]
    },
    {
     "name": "stderr",
     "output_type": "stream",
     "text": [
      "100%|████████████████████████████████████████████████████████████████████████████████████| 2/2 [00:01<00:00,  1.65it/s]\n"
     ]
    },
    {
     "name": "stdout",
     "output_type": "stream",
     "text": [
      "\n",
      "\n",
      " Entering epoch 2\n",
      "Iter 0 - Epoch 0 - Client Type: Benign - Client Number 0 - Poison Training False\n"
     ]
    },
    {
     "name": "stderr",
     "output_type": "stream",
     "text": [
      "100%|████████████████████████████████████████████████████████████████████████████████████| 1/1 [00:00<00:00,  1.04it/s]\n"
     ]
    },
    {
     "name": "stdout",
     "output_type": "stream",
     "text": [
      "Iter 0 - Epoch 0 - Client Type: Benign - Client Number 1 - Poison Training False\n"
     ]
    },
    {
     "name": "stderr",
     "output_type": "stream",
     "text": [
      "100%|████████████████████████████████████████████████████████████████████████████████████| 1/1 [00:00<00:00,  1.26it/s]\n"
     ]
    },
    {
     "name": "stdout",
     "output_type": "stream",
     "text": [
      "Iter 0 - Epoch 0 - Client Type: Benign - Client Number 2 - Poison Training False\n"
     ]
    },
    {
     "name": "stderr",
     "output_type": "stream",
     "text": [
      "100%|████████████████████████████████████████████████████████████████████████████████████| 2/2 [00:01<00:00,  1.47it/s]\n"
     ]
    },
    {
     "name": "stdout",
     "output_type": "stream",
     "text": [
      "Iter 0 - Epoch 0 - Client Type: Benign - Client Number 3 - Poison Training False\n"
     ]
    },
    {
     "name": "stderr",
     "output_type": "stream",
     "text": [
      "100%|████████████████████████████████████████████████████████████████████████████████████| 1/1 [00:00<00:00,  1.07it/s]\n"
     ]
    },
    {
     "name": "stdout",
     "output_type": "stream",
     "text": [
      "Iter 0 - Epoch 0 - Client Type: Benign - Client Number 4 - Poison Training False\n"
     ]
    },
    {
     "name": "stderr",
     "output_type": "stream",
     "text": [
      "100%|████████████████████████████████████████████████████████████████████████████████████| 1/1 [00:00<00:00,  1.22it/s]\n"
     ]
    },
    {
     "name": "stdout",
     "output_type": "stream",
     "text": [
      "Iter 0 - Epoch 0 - Client Type: Benign - Client Number 5 - Poison Training False\n"
     ]
    },
    {
     "name": "stderr",
     "output_type": "stream",
     "text": [
      "100%|████████████████████████████████████████████████████████████████████████████████████| 1/1 [00:00<00:00,  1.03it/s]\n"
     ]
    },
    {
     "name": "stdout",
     "output_type": "stream",
     "text": [
      "Iter 0 - Epoch 0 - Client Type: Benign - Client Number 6 - Poison Training False\n"
     ]
    },
    {
     "name": "stderr",
     "output_type": "stream",
     "text": [
      "100%|████████████████████████████████████████████████████████████████████████████████████| 1/1 [00:00<00:00,  1.03it/s]\n"
     ]
    },
    {
     "name": "stdout",
     "output_type": "stream",
     "text": [
      "Iter 0 - Epoch 0 - Client Type: Benign - Client Number 7 - Poison Training False\n"
     ]
    },
    {
     "name": "stderr",
     "output_type": "stream",
     "text": [
      "100%|████████████████████████████████████████████████████████████████████████████████████| 1/1 [00:00<00:00,  1.01it/s]\n"
     ]
    },
    {
     "name": "stdout",
     "output_type": "stream",
     "text": [
      "Iter 0 - Epoch 0 - Client Type: Benign - Client Number 8 - Poison Training False\n"
     ]
    },
    {
     "name": "stderr",
     "output_type": "stream",
     "text": [
      "100%|████████████████████████████████████████████████████████████████████████████████████| 2/2 [00:01<00:00,  1.77it/s]\n"
     ]
    },
    {
     "name": "stdout",
     "output_type": "stream",
     "text": [
      "Iter 0 - Epoch 0 - Client Type: Benign - Client Number 9 - Poison Training False\n"
     ]
    },
    {
     "name": "stderr",
     "output_type": "stream",
     "text": [
      "100%|████████████████████████████████████████████████████████████████████████████████████| 1/1 [00:01<00:00,  1.04s/it]\n"
     ]
    },
    {
     "name": "stdout",
     "output_type": "stream",
     "text": [
      "Iter 0 - Epoch 0 - Client Type: Benign - Client Number 10 - Poison Training False\n"
     ]
    },
    {
     "name": "stderr",
     "output_type": "stream",
     "text": [
      "100%|████████████████████████████████████████████████████████████████████████████████████| 2/2 [00:01<00:00,  1.80it/s]\n"
     ]
    },
    {
     "name": "stdout",
     "output_type": "stream",
     "text": [
      "Iter 0 - Epoch 0 - Client Type: Benign - Client Number 11 - Poison Training False\n"
     ]
    },
    {
     "name": "stderr",
     "output_type": "stream",
     "text": [
      "100%|████████████████████████████████████████████████████████████████████████████████████| 2/2 [00:01<00:00,  1.79it/s]\n"
     ]
    },
    {
     "name": "stdout",
     "output_type": "stream",
     "text": [
      "Iter 0 - Epoch 0 - Client Type: Benign - Client Number 12 - Poison Training False\n"
     ]
    },
    {
     "name": "stderr",
     "output_type": "stream",
     "text": [
      "100%|████████████████████████████████████████████████████████████████████████████████████| 1/1 [00:00<00:00,  1.51it/s]\n"
     ]
    },
    {
     "name": "stdout",
     "output_type": "stream",
     "text": [
      "Iter 0 - Epoch 0 - Client Type: Benign - Client Number 13 - Poison Training False\n"
     ]
    },
    {
     "name": "stderr",
     "output_type": "stream",
     "text": [
      "100%|████████████████████████████████████████████████████████████████████████████████████| 2/2 [00:01<00:00,  1.80it/s]\n"
     ]
    },
    {
     "name": "stdout",
     "output_type": "stream",
     "text": [
      "Iter 0 - Epoch 0 - Client Type: Benign - Client Number 14 - Poison Training False\n"
     ]
    },
    {
     "name": "stderr",
     "output_type": "stream",
     "text": [
      "100%|████████████████████████████████████████████████████████████████████████████████████| 2/2 [00:01<00:00,  1.79it/s]\n"
     ]
    },
    {
     "name": "stdout",
     "output_type": "stream",
     "text": [
      "Iter 0 - Epoch 0 - Client Type: Benign - Client Number 15 - Poison Training False\n"
     ]
    },
    {
     "name": "stderr",
     "output_type": "stream",
     "text": [
      "100%|████████████████████████████████████████████████████████████████████████████████████| 1/1 [00:00<00:00,  1.00it/s]\n"
     ]
    },
    {
     "name": "stdout",
     "output_type": "stream",
     "text": [
      "Iter 0 - Epoch 0 - Client Type: Benign - Client Number 16 - Poison Training False\n"
     ]
    },
    {
     "name": "stderr",
     "output_type": "stream",
     "text": [
      "100%|████████████████████████████████████████████████████████████████████████████████████| 1/1 [00:00<00:00,  1.06it/s]\n"
     ]
    },
    {
     "name": "stdout",
     "output_type": "stream",
     "text": [
      "Iter 0 - Epoch 0 - Client Type: Benign - Client Number 17 - Poison Training False\n"
     ]
    },
    {
     "name": "stderr",
     "output_type": "stream",
     "text": [
      "100%|████████████████████████████████████████████████████████████████████████████████████| 2/2 [00:01<00:00,  1.25it/s]\n"
     ]
    },
    {
     "name": "stdout",
     "output_type": "stream",
     "text": [
      "Iter 0 - Epoch 0 - Client Type: Benign - Client Number 18 - Poison Training False\n"
     ]
    },
    {
     "name": "stderr",
     "output_type": "stream",
     "text": [
      "100%|████████████████████████████████████████████████████████████████████████████████████| 1/1 [00:00<00:00,  1.03it/s]\n"
     ]
    },
    {
     "name": "stdout",
     "output_type": "stream",
     "text": [
      "Iter 0 - Epoch 0 - Client Type: Benign - Client Number 19 - Poison Training False\n"
     ]
    },
    {
     "name": "stderr",
     "output_type": "stream",
     "text": [
      "100%|████████████████████████████████████████████████████████████████████████████████████| 2/2 [00:01<00:00,  1.48it/s]\n"
     ]
    },
    {
     "name": "stdout",
     "output_type": "stream",
     "text": [
      "\n",
      "\n",
      " Entering epoch 3\n",
      "Iter 0 - Epoch 0 - Client Type: Benign - Client Number 0 - Poison Training False\n"
     ]
    },
    {
     "name": "stderr",
     "output_type": "stream",
     "text": [
      "100%|████████████████████████████████████████████████████████████████████████████████████| 1/1 [00:01<00:00,  1.01s/it]\n"
     ]
    },
    {
     "name": "stdout",
     "output_type": "stream",
     "text": [
      "Iter 0 - Epoch 0 - Client Type: Benign - Client Number 1 - Poison Training False\n"
     ]
    },
    {
     "name": "stderr",
     "output_type": "stream",
     "text": [
      "100%|████████████████████████████████████████████████████████████████████████████████████| 1/1 [00:00<00:00,  1.20it/s]\n"
     ]
    },
    {
     "name": "stdout",
     "output_type": "stream",
     "text": [
      "Iter 0 - Epoch 0 - Client Type: Benign - Client Number 2 - Poison Training False\n"
     ]
    },
    {
     "name": "stderr",
     "output_type": "stream",
     "text": [
      "100%|████████████████████████████████████████████████████████████████████████████████████| 2/2 [00:01<00:00,  1.36it/s]\n"
     ]
    },
    {
     "name": "stdout",
     "output_type": "stream",
     "text": [
      "Iter 0 - Epoch 0 - Client Type: Benign - Client Number 3 - Poison Training False\n"
     ]
    },
    {
     "name": "stderr",
     "output_type": "stream",
     "text": [
      "100%|████████████████████████████████████████████████████████████████████████████████████| 1/1 [00:00<00:00,  1.08it/s]\n"
     ]
    },
    {
     "name": "stdout",
     "output_type": "stream",
     "text": [
      "Iter 0 - Epoch 0 - Client Type: Benign - Client Number 4 - Poison Training False\n"
     ]
    },
    {
     "name": "stderr",
     "output_type": "stream",
     "text": [
      "100%|████████████████████████████████████████████████████████████████████████████████████| 1/1 [00:00<00:00,  1.22it/s]\n"
     ]
    },
    {
     "name": "stdout",
     "output_type": "stream",
     "text": [
      "Iter 0 - Epoch 0 - Client Type: Benign - Client Number 5 - Poison Training False\n"
     ]
    },
    {
     "name": "stderr",
     "output_type": "stream",
     "text": [
      "100%|████████████████████████████████████████████████████████████████████████████████████| 1/1 [00:00<00:00,  1.01it/s]\n"
     ]
    },
    {
     "name": "stdout",
     "output_type": "stream",
     "text": [
      "Iter 0 - Epoch 0 - Client Type: Benign - Client Number 6 - Poison Training False\n"
     ]
    },
    {
     "name": "stderr",
     "output_type": "stream",
     "text": [
      "100%|████████████████████████████████████████████████████████████████████████████████████| 1/1 [00:00<00:00,  1.08it/s]\n"
     ]
    },
    {
     "name": "stdout",
     "output_type": "stream",
     "text": [
      "Iter 0 - Epoch 0 - Client Type: Benign - Client Number 7 - Poison Training False\n"
     ]
    },
    {
     "name": "stderr",
     "output_type": "stream",
     "text": [
      "100%|████████████████████████████████████████████████████████████████████████████████████| 1/1 [00:00<00:00,  1.04it/s]\n"
     ]
    },
    {
     "name": "stdout",
     "output_type": "stream",
     "text": [
      "Iter 0 - Epoch 0 - Client Type: Benign - Client Number 8 - Poison Training False\n"
     ]
    },
    {
     "name": "stderr",
     "output_type": "stream",
     "text": [
      "100%|████████████████████████████████████████████████████████████████████████████████████| 2/2 [00:01<00:00,  1.80it/s]\n"
     ]
    },
    {
     "name": "stdout",
     "output_type": "stream",
     "text": [
      "Iter 0 - Epoch 0 - Client Type: Benign - Client Number 9 - Poison Training False\n"
     ]
    },
    {
     "name": "stderr",
     "output_type": "stream",
     "text": [
      "100%|████████████████████████████████████████████████████████████████████████████████████| 1/1 [00:00<00:00,  1.07it/s]\n"
     ]
    },
    {
     "name": "stdout",
     "output_type": "stream",
     "text": [
      "Iter 0 - Epoch 0 - Client Type: Benign - Client Number 10 - Poison Training False\n"
     ]
    },
    {
     "name": "stderr",
     "output_type": "stream",
     "text": [
      "100%|████████████████████████████████████████████████████████████████████████████████████| 2/2 [00:01<00:00,  1.90it/s]\n"
     ]
    },
    {
     "name": "stdout",
     "output_type": "stream",
     "text": [
      "Iter 0 - Epoch 0 - Client Type: Benign - Client Number 11 - Poison Training False\n"
     ]
    },
    {
     "name": "stderr",
     "output_type": "stream",
     "text": [
      "100%|████████████████████████████████████████████████████████████████████████████████████| 2/2 [00:01<00:00,  1.76it/s]\n"
     ]
    },
    {
     "name": "stdout",
     "output_type": "stream",
     "text": [
      "Iter 0 - Epoch 0 - Client Type: Benign - Client Number 12 - Poison Training False\n"
     ]
    },
    {
     "name": "stderr",
     "output_type": "stream",
     "text": [
      "100%|████████████████████████████████████████████████████████████████████████████████████| 1/1 [00:00<00:00,  1.64it/s]\n"
     ]
    },
    {
     "name": "stdout",
     "output_type": "stream",
     "text": [
      "Iter 0 - Epoch 0 - Client Type: Benign - Client Number 13 - Poison Training False\n"
     ]
    },
    {
     "name": "stderr",
     "output_type": "stream",
     "text": [
      "100%|████████████████████████████████████████████████████████████████████████████████████| 2/2 [00:01<00:00,  1.72it/s]\n"
     ]
    },
    {
     "name": "stdout",
     "output_type": "stream",
     "text": [
      "Iter 0 - Epoch 0 - Client Type: Benign - Client Number 14 - Poison Training False\n"
     ]
    },
    {
     "name": "stderr",
     "output_type": "stream",
     "text": [
      "100%|████████████████████████████████████████████████████████████████████████████████████| 2/2 [00:01<00:00,  1.89it/s]\n"
     ]
    },
    {
     "name": "stdout",
     "output_type": "stream",
     "text": [
      "Iter 0 - Epoch 0 - Client Type: Benign - Client Number 15 - Poison Training False\n"
     ]
    },
    {
     "name": "stderr",
     "output_type": "stream",
     "text": [
      "100%|████████████████████████████████████████████████████████████████████████████████████| 1/1 [00:01<00:00,  1.03s/it]\n"
     ]
    },
    {
     "name": "stdout",
     "output_type": "stream",
     "text": [
      "Iter 0 - Epoch 0 - Client Type: Benign - Client Number 16 - Poison Training False\n"
     ]
    },
    {
     "name": "stderr",
     "output_type": "stream",
     "text": [
      "100%|████████████████████████████████████████████████████████████████████████████████████| 1/1 [00:00<00:00,  1.04it/s]\n"
     ]
    },
    {
     "name": "stdout",
     "output_type": "stream",
     "text": [
      "Iter 0 - Epoch 0 - Client Type: Benign - Client Number 17 - Poison Training False\n"
     ]
    },
    {
     "name": "stderr",
     "output_type": "stream",
     "text": [
      "100%|████████████████████████████████████████████████████████████████████████████████████| 2/2 [00:01<00:00,  1.29it/s]\n"
     ]
    },
    {
     "name": "stdout",
     "output_type": "stream",
     "text": [
      "Iter 0 - Epoch 0 - Client Type: Benign - Client Number 18 - Poison Training False\n"
     ]
    },
    {
     "name": "stderr",
     "output_type": "stream",
     "text": [
      "100%|████████████████████████████████████████████████████████████████████████████████████| 1/1 [00:00<00:00,  1.04it/s]\n"
     ]
    },
    {
     "name": "stdout",
     "output_type": "stream",
     "text": [
      "Iter 0 - Epoch 0 - Client Type: Benign - Client Number 19 - Poison Training False\n"
     ]
    },
    {
     "name": "stderr",
     "output_type": "stream",
     "text": [
      "100%|████████████████████████████████████████████████████████████████████████████████████| 2/2 [00:01<00:00,  1.60it/s]\n"
     ]
    },
    {
     "name": "stdout",
     "output_type": "stream",
     "text": [
      "\n",
      "\n",
      " Entering epoch 4\n",
      "Iter 0 - Epoch 0 - Client Type: Benign - Client Number 0 - Poison Training False\n"
     ]
    },
    {
     "name": "stderr",
     "output_type": "stream",
     "text": [
      "100%|████████████████████████████████████████████████████████████████████████████████████| 1/1 [00:01<00:00,  1.09s/it]\n"
     ]
    },
    {
     "name": "stdout",
     "output_type": "stream",
     "text": [
      "Iter 0 - Epoch 0 - Client Type: Benign - Client Number 1 - Poison Training False\n"
     ]
    },
    {
     "name": "stderr",
     "output_type": "stream",
     "text": [
      "100%|████████████████████████████████████████████████████████████████████████████████████| 1/1 [00:00<00:00,  1.26it/s]\n"
     ]
    },
    {
     "name": "stdout",
     "output_type": "stream",
     "text": [
      "Iter 0 - Epoch 0 - Client Type: Benign - Client Number 2 - Poison Training False\n"
     ]
    },
    {
     "name": "stderr",
     "output_type": "stream",
     "text": [
      "100%|████████████████████████████████████████████████████████████████████████████████████| 2/2 [00:01<00:00,  1.41it/s]\n"
     ]
    },
    {
     "name": "stdout",
     "output_type": "stream",
     "text": [
      "Iter 0 - Epoch 0 - Client Type: Benign - Client Number 3 - Poison Training False\n"
     ]
    },
    {
     "name": "stderr",
     "output_type": "stream",
     "text": [
      "100%|████████████████████████████████████████████████████████████████████████████████████| 1/1 [00:00<00:00,  1.08it/s]\n"
     ]
    },
    {
     "name": "stdout",
     "output_type": "stream",
     "text": [
      "Iter 0 - Epoch 0 - Client Type: Benign - Client Number 4 - Poison Training False\n"
     ]
    },
    {
     "name": "stderr",
     "output_type": "stream",
     "text": [
      "100%|████████████████████████████████████████████████████████████████████████████████████| 1/1 [00:00<00:00,  1.19it/s]\n"
     ]
    },
    {
     "name": "stdout",
     "output_type": "stream",
     "text": [
      "Iter 0 - Epoch 0 - Client Type: Benign - Client Number 5 - Poison Training False\n"
     ]
    },
    {
     "name": "stderr",
     "output_type": "stream",
     "text": [
      "100%|████████████████████████████████████████████████████████████████████████████████████| 1/1 [00:00<00:00,  1.08it/s]\n"
     ]
    },
    {
     "name": "stdout",
     "output_type": "stream",
     "text": [
      "Iter 0 - Epoch 0 - Client Type: Benign - Client Number 6 - Poison Training False\n"
     ]
    },
    {
     "name": "stderr",
     "output_type": "stream",
     "text": [
      "100%|████████████████████████████████████████████████████████████████████████████████████| 1/1 [00:00<00:00,  1.06it/s]\n"
     ]
    },
    {
     "name": "stdout",
     "output_type": "stream",
     "text": [
      "Iter 0 - Epoch 0 - Client Type: Benign - Client Number 7 - Poison Training False\n"
     ]
    },
    {
     "name": "stderr",
     "output_type": "stream",
     "text": [
      "100%|████████████████████████████████████████████████████████████████████████████████████| 1/1 [00:01<00:00,  1.02s/it]\n"
     ]
    },
    {
     "name": "stdout",
     "output_type": "stream",
     "text": [
      "Iter 0 - Epoch 0 - Client Type: Benign - Client Number 8 - Poison Training False\n"
     ]
    },
    {
     "name": "stderr",
     "output_type": "stream",
     "text": [
      "100%|████████████████████████████████████████████████████████████████████████████████████| 2/2 [00:01<00:00,  1.86it/s]\n"
     ]
    },
    {
     "name": "stdout",
     "output_type": "stream",
     "text": [
      "Iter 0 - Epoch 0 - Client Type: Benign - Client Number 9 - Poison Training False\n"
     ]
    },
    {
     "name": "stderr",
     "output_type": "stream",
     "text": [
      "100%|████████████████████████████████████████████████████████████████████████████████████| 1/1 [00:00<00:00,  1.01it/s]\n"
     ]
    },
    {
     "name": "stdout",
     "output_type": "stream",
     "text": [
      "Iter 0 - Epoch 0 - Client Type: Benign - Client Number 10 - Poison Training False\n"
     ]
    },
    {
     "name": "stderr",
     "output_type": "stream",
     "text": [
      "100%|████████████████████████████████████████████████████████████████████████████████████| 2/2 [00:01<00:00,  1.84it/s]\n"
     ]
    },
    {
     "name": "stdout",
     "output_type": "stream",
     "text": [
      "Iter 0 - Epoch 0 - Client Type: Benign - Client Number 11 - Poison Training False\n"
     ]
    },
    {
     "name": "stderr",
     "output_type": "stream",
     "text": [
      "100%|████████████████████████████████████████████████████████████████████████████████████| 2/2 [00:01<00:00,  1.89it/s]\n"
     ]
    },
    {
     "name": "stdout",
     "output_type": "stream",
     "text": [
      "Iter 0 - Epoch 0 - Client Type: Benign - Client Number 12 - Poison Training False\n"
     ]
    },
    {
     "name": "stderr",
     "output_type": "stream",
     "text": [
      "100%|████████████████████████████████████████████████████████████████████████████████████| 1/1 [00:00<00:00,  1.49it/s]\n"
     ]
    },
    {
     "name": "stdout",
     "output_type": "stream",
     "text": [
      "Iter 0 - Epoch 0 - Client Type: Benign - Client Number 13 - Poison Training False\n"
     ]
    },
    {
     "name": "stderr",
     "output_type": "stream",
     "text": [
      "100%|████████████████████████████████████████████████████████████████████████████████████| 2/2 [00:01<00:00,  1.90it/s]\n"
     ]
    },
    {
     "name": "stdout",
     "output_type": "stream",
     "text": [
      "Iter 0 - Epoch 0 - Client Type: Benign - Client Number 14 - Poison Training False\n"
     ]
    },
    {
     "name": "stderr",
     "output_type": "stream",
     "text": [
      "100%|████████████████████████████████████████████████████████████████████████████████████| 2/2 [00:01<00:00,  1.73it/s]\n"
     ]
    },
    {
     "name": "stdout",
     "output_type": "stream",
     "text": [
      "Iter 0 - Epoch 0 - Client Type: Benign - Client Number 15 - Poison Training False\n"
     ]
    },
    {
     "name": "stderr",
     "output_type": "stream",
     "text": [
      "100%|████████████████████████████████████████████████████████████████████████████████████| 1/1 [00:00<00:00,  1.04it/s]\n"
     ]
    },
    {
     "name": "stdout",
     "output_type": "stream",
     "text": [
      "Iter 0 - Epoch 0 - Client Type: Benign - Client Number 16 - Poison Training False\n"
     ]
    },
    {
     "name": "stderr",
     "output_type": "stream",
     "text": [
      "100%|████████████████████████████████████████████████████████████████████████████████████| 1/1 [00:00<00:00,  1.08it/s]\n"
     ]
    },
    {
     "name": "stdout",
     "output_type": "stream",
     "text": [
      "Iter 0 - Epoch 0 - Client Type: Benign - Client Number 17 - Poison Training False\n"
     ]
    },
    {
     "name": "stderr",
     "output_type": "stream",
     "text": [
      "100%|████████████████████████████████████████████████████████████████████████████████████| 2/2 [00:01<00:00,  1.28it/s]\n"
     ]
    },
    {
     "name": "stdout",
     "output_type": "stream",
     "text": [
      "Iter 0 - Epoch 0 - Client Type: Benign - Client Number 18 - Poison Training False\n"
     ]
    },
    {
     "name": "stderr",
     "output_type": "stream",
     "text": [
      "100%|████████████████████████████████████████████████████████████████████████████████████| 1/1 [00:00<00:00,  1.04it/s]\n"
     ]
    },
    {
     "name": "stdout",
     "output_type": "stream",
     "text": [
      "Iter 0 - Epoch 0 - Client Type: Benign - Client Number 19 - Poison Training False\n"
     ]
    },
    {
     "name": "stderr",
     "output_type": "stream",
     "text": [
      "100%|████████████████████████████████████████████████████████████████████████████████████| 2/2 [00:01<00:00,  1.67it/s]\n"
     ]
    },
    {
     "name": "stdout",
     "output_type": "stream",
     "text": [
      "Original Copylist [7, 2, 5, 3, 2, 7, 3, 7, 0, 7, 0, 0, 4, 0, 0, 7, 3, 1, 7, 6]\n",
      "Found clusters [1 3 0 5 3 1 5 1 2 1 2 2 4 2 7 1 5 0 1 6]\n",
      "Original groups [array([ 8, 10, 11, 13, 14], dtype=int64), array([17], dtype=int64), array([1, 4], dtype=int64), array([ 3,  6, 16], dtype=int64), array([12], dtype=int64), array([2], dtype=int64), array([19], dtype=int64), array([ 0,  5,  7,  9, 15, 18], dtype=int64)]\n",
      "Clustered groups [array([ 2, 17], dtype=int64), array([ 0,  5,  7,  9, 15, 18], dtype=int64), array([ 8, 10, 11, 13], dtype=int64), array([1, 4], dtype=int64), array([12], dtype=int64), array([ 3,  6, 16], dtype=int64), array([19], dtype=int64), array([14], dtype=int64)]\n",
      "Clustering score 0.8937597852829344\n",
      "1\n",
      "[[1.00000608 0.26538345 0.29662752 0.55425149 0.25299296 0.99645996\n",
      "  0.58112592 0.96648121 0.52659929 0.94111639 0.3870284  0.52059138\n",
      "  0.28132388 0.53270245 0.23971403 0.96698493 0.59498638 0.39229608\n",
      "  0.99270684 0.10097151]\n",
      " [0.26538345 1.00000691 0.41500083 0.35702366 0.99872613 0.27479714\n",
      "  0.34570822 0.24575996 0.32517725 0.24297623 0.4048298  0.30719572\n",
      "  0.33019647 0.28297544 0.31579539 0.25022367 0.34144711 0.40195084\n",
      "  0.26640135 0.50905597]\n",
      " [0.29662752 0.4150008  1.00000942 0.33777195 0.42014506 0.29396591\n",
      "  0.33265129 0.30654454 0.49149993 0.30605724 0.48731613 0.48703206\n",
      "  0.30009782 0.44210675 0.4171946  0.30057794 0.3335551  0.54795921\n",
      "  0.29270834 0.38217151]\n",
      " [0.55425149 0.35702363 0.33777192 1.00000298 0.35470042 0.56510717\n",
      "  0.99195421 0.5012911  0.56563854 0.48219511 0.49633834 0.55153173\n",
      "  0.39832813 0.5694145  0.39857119 0.50021285 0.98922557 0.46596533\n",
      "  0.56605929 0.57792491]\n",
      " [0.25299296 0.99872613 0.42014509 0.35470042 1.00000775 0.26258123\n",
      "  0.34241655 0.23510696 0.32150427 0.2331997  0.4067587  0.30443704\n",
      "  0.32574844 0.27968517 0.31818044 0.23935123 0.33808556 0.39799652\n",
      "  0.25370333 0.51756513]\n",
      " [0.99646002 0.27479714 0.29396591 0.56510723 0.26258123 1.00000644\n",
      "  0.58979827 0.95967597 0.52301162 0.93325061 0.38446248 0.51389962\n",
      "  0.28797773 0.5278393  0.24438129 0.96054888 0.60381168 0.39466158\n",
      "  0.99250817 0.11277431]\n",
      " [0.58112592 0.34570822 0.33265129 0.99195421 0.34241652 0.58979827\n",
      "  1.0000056  0.53129375 0.58196604 0.51242149 0.50271732 0.5731566\n",
      "  0.37496644 0.58583504 0.39485818 0.52957505 0.9965446  0.45747244\n",
      "  0.59264719 0.52900201]\n",
      " [0.96648115 0.24575996 0.30654454 0.5012911  0.23510695 0.95967597\n",
      "  0.53129375 1.00000155 0.55263531 0.99300915 0.41477096 0.55630946\n",
      "  0.2668744  0.54916364 0.24272637 0.99690926 0.54439425 0.37579477\n",
      "  0.94914472 0.11709417]\n",
      " [0.52659929 0.32517728 0.4914999  0.56563854 0.32150427 0.52301162\n",
      "  0.5819661  0.55263531 1.00000572 0.56061769 0.68823403 0.91193426\n",
      "  0.41729742 0.93578261 0.69909137 0.54920292 0.58495617 0.56162673\n",
      "  0.52687609 0.34184146]\n",
      " [0.94111627 0.24297623 0.30605727 0.48219511 0.2331997  0.93325067\n",
      "  0.51242143 0.99300915 0.56061769 1.00000679 0.42446277 0.5652706\n",
      "  0.26549762 0.55528498 0.25109148 0.99174142 0.52517915 0.3743284\n",
      "  0.92122412 0.13183799]\n",
      " [0.3870284  0.40482977 0.48731613 0.49633837 0.4067587  0.38446248\n",
      "  0.50271732 0.41477096 0.68823397 0.4244628  1.00000548 0.75601703\n",
      "  0.31306306 0.60500878 0.53135341 0.40315822 0.50061262 0.45735267\n",
      "  0.3943432  0.36560851]\n",
      " [0.52059138 0.30719572 0.48703209 0.55153167 0.30443704 0.51389968\n",
      "  0.5731566  0.55630946 0.91193426 0.5652706  0.75601697 1.00000167\n",
      "  0.35032743 0.88347054 0.53683698 0.55025512 0.57648575 0.53490895\n",
      "  0.52015823 0.30499575]\n",
      " [0.28132391 0.33019644 0.30009782 0.39832816 0.32574847 0.28797773\n",
      "  0.37496644 0.26687443 0.41729742 0.26549762 0.31306306 0.35032746\n",
      "  1.0000031  0.39928845 0.37670085 0.27054775 0.37043282 0.41362801\n",
      "  0.30537269 0.3936609 ]\n",
      " [0.53270245 0.28297544 0.44210675 0.5694145  0.27968517 0.52783924\n",
      "  0.5858351  0.54916364 0.93578267 0.55528492 0.60500878 0.88347048\n",
      "  0.39928845 0.99999768 0.6526866  0.55184853 0.58962238 0.52419472\n",
      "  0.52987283 0.33712208]\n",
      " [0.23971404 0.31579536 0.4171946  0.39857119 0.31818044 0.24438129\n",
      "  0.39485818 0.24272637 0.69909143 0.25109148 0.53135341 0.53683698\n",
      "  0.37670082 0.6526866  1.0000037  0.24055204 0.39155662 0.47324184\n",
      "  0.24403521 0.39206594]\n",
      " [0.96698499 0.25022367 0.30057794 0.50021285 0.23935123 0.96054888\n",
      "  0.52957505 0.99690926 0.54920298 0.99174142 0.40315822 0.55025512\n",
      "  0.27054775 0.55184853 0.24055202 1.0000031  0.54292309 0.37159401\n",
      "  0.94827753 0.11946983]\n",
      " [0.59498638 0.34144711 0.3335551  0.98922551 0.33808556 0.60381168\n",
      "  0.99654454 0.54439425 0.58495611 0.52517909 0.50061262 0.57648575\n",
      "  0.37043282 0.58962238 0.39155659 0.54292309 1.00000322 0.45663342\n",
      "  0.60526937 0.51569176]\n",
      " [0.39229608 0.40195087 0.54795921 0.46596533 0.39799654 0.39466161\n",
      "  0.45747244 0.3757948  0.56162673 0.37432843 0.45735267 0.53490895\n",
      "  0.41362801 0.52419472 0.47324181 0.37159401 0.45663342 1.00000322\n",
      "  0.40495563 0.39850402]\n",
      " [0.99270684 0.26640138 0.29270837 0.56605929 0.25370333 0.99250823\n",
      "  0.59264719 0.94914472 0.52687609 0.92122418 0.3943432  0.52015823\n",
      "  0.30537269 0.52987283 0.2440352  0.94827759 0.60526937 0.4049556\n",
      "  1.00000453 0.09490754]\n",
      " [0.1009715  0.50905591 0.38217154 0.57792491 0.51756513 0.11277431\n",
      "  0.52900201 0.11709418 0.34184146 0.13183799 0.36560851 0.30499575\n",
      "  0.3936609  0.33712211 0.39206591 0.11946983 0.5156917  0.39850402\n",
      "  0.09490754 1.0000118 ]]\n",
      "Original Copylist [7, 2, 5, 3, 2, 7, 3, 7, 0, 7, 0, 0, 4, 0, 0, 7, 3, 1, 7, 6]\n",
      "Found clusters [1 3 0 5 3 1 5 1 2 1 2 2 4 2 7 1 5 0 1 6]\n",
      "Original groups [array([ 8, 10, 11, 13, 14], dtype=int64), array([17], dtype=int64), array([1, 4], dtype=int64), array([ 3,  6, 16], dtype=int64), array([12], dtype=int64), array([2], dtype=int64), array([19], dtype=int64), array([ 0,  5,  7,  9, 15, 18], dtype=int64)]\n",
      "Clustered groups [array([ 2, 17], dtype=int64), array([ 0,  5,  7,  9, 15, 18], dtype=int64), array([ 8, 10, 11, 13], dtype=int64), array([1, 4], dtype=int64), array([12], dtype=int64), array([ 3,  6, 16], dtype=int64), array([19], dtype=int64), array([14], dtype=int64)]\n",
      "Clustering score 0.8937597852829344\n",
      "Benign net distance [tensor(193.3491), tensor(164.9705), tensor(204.5354), tensor(160.6901), tensor(163.6369), tensor(192.7879), tensor(164.0476), tensor(190.7405), tensor(186.1216), tensor(189.0418), tensor(188.2172), tensor(190.5011), tensor(180.9810), tensor(187.6283), tensor(191.0801), tensor(190.2545), tensor(164.7431), tensor(198.8526), tensor(194.6392), tensor(0.)]\n",
      "Malicious net distance []\n",
      "cos_sim list  [tensor(0.1010), tensor(0.5091), tensor(0.3822), tensor(0.5779), tensor(0.5176), tensor(0.1128), tensor(0.5290), tensor(0.1171), tensor(0.3418), tensor(0.1318), tensor(0.3656), tensor(0.3050), tensor(0.3937), tensor(0.3371), tensor(0.3921), tensor(0.1195), tensor(0.5157), tensor(0.3985), tensor(0.0949), tensor(1.0000)]\n",
      "Norms of local gradients  [tensor(0.8081), tensor(1.2847), tensor(1.4741), tensor(0.7405), tensor(1.3015), tensor(0.8066), tensor(0.7368), tensor(0.7765), tensor(1.0410), tensor(0.7714), tensor(1.1977), tensor(1.0366), tensor(0.9702), tensor(1.0847), tensor(1.4072), tensor(0.7818), tensor(0.7330), tensor(1.3766), tensor(0.8056), tensor(1.9126)]\n",
      "\n",
      " Aggregating models\n",
      "Cosine Similarities:  [tensor(0.1010), tensor(0.5091), tensor(0.3822), tensor(0.5779), tensor(0.5176), tensor(0.1128), tensor(0.5290), tensor(0.1171), tensor(0.3418), tensor(0.1318), tensor(0.3656), tensor(0.3050), tensor(0.3937), tensor(0.3371), tensor(0.3921), tensor(0.1195), tensor(0.5157), tensor(0.3985), tensor(0.0949), tensor(1.0000)]\n",
      "Aggregation Weights:  [0.03299786 0.10464516 0.06846675 0.20610093 0.10502018 0.03692468\n",
      " 0.18959782 0.0398219  0.08671772 0.04513731 0.08061884 0.07770436\n",
      " 0.1071608  0.08208254 0.07358199 0.04035836 0.18579547 0.0764485\n",
      " 0.03111343 0.13807973]\n",
      "\n",
      "\n",
      "\n",
      "Aggregate test at iter  0\n"
     ]
    },
    {
     "name": "stderr",
     "output_type": "stream",
     "text": [
      "100%|██████████████████████████████████████████████████████████████████████████████████| 10/10 [00:02<00:00,  4.79it/s]\n"
     ]
    },
    {
     "name": "stdout",
     "output_type": "stream",
     "text": [
      "\n",
      "Test set: Avg. loss: 0.0017, Accuracy: 4428/10000 (44%)\n",
      "\n",
      "\n",
      "\n",
      " Entering epoch 0\n",
      "Iter 1 - Epoch 0 - Client Type: Benign - Client Number 0 - Poison Training False\n"
     ]
    },
    {
     "name": "stderr",
     "output_type": "stream",
     "text": [
      "100%|████████████████████████████████████████████████████████████████████████████████████| 1/1 [00:00<00:00,  1.06it/s]\n"
     ]
    },
    {
     "name": "stdout",
     "output_type": "stream",
     "text": [
      "Iter 1 - Epoch 0 - Client Type: Benign - Client Number 1 - Poison Training False\n"
     ]
    },
    {
     "name": "stderr",
     "output_type": "stream",
     "text": [
      "100%|████████████████████████████████████████████████████████████████████████████████████| 1/1 [00:00<00:00,  1.24it/s]\n"
     ]
    },
    {
     "name": "stdout",
     "output_type": "stream",
     "text": [
      "Iter 1 - Epoch 0 - Client Type: Benign - Client Number 2 - Poison Training False\n"
     ]
    },
    {
     "name": "stderr",
     "output_type": "stream",
     "text": [
      "100%|████████████████████████████████████████████████████████████████████████████████████| 2/2 [00:01<00:00,  1.44it/s]\n"
     ]
    },
    {
     "name": "stdout",
     "output_type": "stream",
     "text": [
      "Iter 1 - Epoch 0 - Client Type: Benign - Client Number 3 - Poison Training False\n"
     ]
    },
    {
     "name": "stderr",
     "output_type": "stream",
     "text": [
      "100%|████████████████████████████████████████████████████████████████████████████████████| 1/1 [00:00<00:00,  1.07it/s]\n"
     ]
    },
    {
     "name": "stdout",
     "output_type": "stream",
     "text": [
      "Iter 1 - Epoch 0 - Client Type: Benign - Client Number 4 - Poison Training False\n"
     ]
    },
    {
     "name": "stderr",
     "output_type": "stream",
     "text": [
      "100%|████████████████████████████████████████████████████████████████████████████████████| 1/1 [00:00<00:00,  1.21it/s]\n"
     ]
    },
    {
     "name": "stdout",
     "output_type": "stream",
     "text": [
      "Iter 1 - Epoch 0 - Client Type: Benign - Client Number 5 - Poison Training False\n"
     ]
    },
    {
     "name": "stderr",
     "output_type": "stream",
     "text": [
      "100%|████████████████████████████████████████████████████████████████████████████████████| 1/1 [00:00<00:00,  1.07it/s]\n"
     ]
    },
    {
     "name": "stdout",
     "output_type": "stream",
     "text": [
      "Iter 1 - Epoch 0 - Client Type: Benign - Client Number 6 - Poison Training False\n"
     ]
    },
    {
     "name": "stderr",
     "output_type": "stream",
     "text": [
      "100%|████████████████████████████████████████████████████████████████████████████████████| 1/1 [00:00<00:00,  1.08it/s]\n"
     ]
    },
    {
     "name": "stdout",
     "output_type": "stream",
     "text": [
      "Iter 1 - Epoch 0 - Client Type: Benign - Client Number 7 - Poison Training False\n"
     ]
    },
    {
     "name": "stderr",
     "output_type": "stream",
     "text": [
      "100%|████████████████████████████████████████████████████████████████████████████████████| 1/1 [00:00<00:00,  1.03it/s]\n"
     ]
    },
    {
     "name": "stdout",
     "output_type": "stream",
     "text": [
      "Iter 1 - Epoch 0 - Client Type: Benign - Client Number 8 - Poison Training False\n"
     ]
    },
    {
     "name": "stderr",
     "output_type": "stream",
     "text": [
      "100%|████████████████████████████████████████████████████████████████████████████████████| 2/2 [00:01<00:00,  1.82it/s]\n"
     ]
    },
    {
     "name": "stdout",
     "output_type": "stream",
     "text": [
      "Iter 1 - Epoch 0 - Client Type: Benign - Client Number 9 - Poison Training False\n"
     ]
    },
    {
     "name": "stderr",
     "output_type": "stream",
     "text": [
      "100%|████████████████████████████████████████████████████████████████████████████████████| 1/1 [00:00<00:00,  1.02it/s]\n"
     ]
    },
    {
     "name": "stdout",
     "output_type": "stream",
     "text": [
      "Iter 1 - Epoch 0 - Client Type: Benign - Client Number 10 - Poison Training False\n"
     ]
    },
    {
     "name": "stderr",
     "output_type": "stream",
     "text": [
      "100%|████████████████████████████████████████████████████████████████████████████████████| 2/2 [00:01<00:00,  1.81it/s]\n"
     ]
    },
    {
     "name": "stdout",
     "output_type": "stream",
     "text": [
      "Iter 1 - Epoch 0 - Client Type: Benign - Client Number 11 - Poison Training False\n"
     ]
    },
    {
     "name": "stderr",
     "output_type": "stream",
     "text": [
      "100%|████████████████████████████████████████████████████████████████████████████████████| 2/2 [00:01<00:00,  1.93it/s]\n"
     ]
    },
    {
     "name": "stdout",
     "output_type": "stream",
     "text": [
      "Iter 1 - Epoch 0 - Client Type: Benign - Client Number 12 - Poison Training False\n"
     ]
    },
    {
     "name": "stderr",
     "output_type": "stream",
     "text": [
      "100%|████████████████████████████████████████████████████████████████████████████████████| 1/1 [00:00<00:00,  1.49it/s]\n"
     ]
    },
    {
     "name": "stdout",
     "output_type": "stream",
     "text": [
      "Iter 1 - Epoch 0 - Client Type: Benign - Client Number 13 - Poison Training False\n"
     ]
    },
    {
     "name": "stderr",
     "output_type": "stream",
     "text": [
      "100%|████████████████████████████████████████████████████████████████████████████████████| 2/2 [00:01<00:00,  1.86it/s]\n"
     ]
    },
    {
     "name": "stdout",
     "output_type": "stream",
     "text": [
      "Iter 1 - Epoch 0 - Client Type: Benign - Client Number 14 - Poison Training False\n"
     ]
    },
    {
     "name": "stderr",
     "output_type": "stream",
     "text": [
      "100%|████████████████████████████████████████████████████████████████████████████████████| 2/2 [00:01<00:00,  1.82it/s]\n"
     ]
    },
    {
     "name": "stdout",
     "output_type": "stream",
     "text": [
      "Iter 1 - Epoch 0 - Client Type: Benign - Client Number 15 - Poison Training False\n"
     ]
    },
    {
     "name": "stderr",
     "output_type": "stream",
     "text": [
      "100%|████████████████████████████████████████████████████████████████████████████████████| 1/1 [00:00<00:00,  1.07it/s]\n"
     ]
    },
    {
     "name": "stdout",
     "output_type": "stream",
     "text": [
      "Iter 1 - Epoch 0 - Client Type: Benign - Client Number 16 - Poison Training False\n"
     ]
    },
    {
     "name": "stderr",
     "output_type": "stream",
     "text": [
      "100%|████████████████████████████████████████████████████████████████████████████████████| 1/1 [00:00<00:00,  1.05it/s]\n"
     ]
    },
    {
     "name": "stdout",
     "output_type": "stream",
     "text": [
      "Iter 1 - Epoch 0 - Client Type: Benign - Client Number 17 - Poison Training False\n"
     ]
    },
    {
     "name": "stderr",
     "output_type": "stream",
     "text": [
      "100%|████████████████████████████████████████████████████████████████████████████████████| 2/2 [00:01<00:00,  1.31it/s]\n"
     ]
    },
    {
     "name": "stdout",
     "output_type": "stream",
     "text": [
      "Iter 1 - Epoch 0 - Client Type: Benign - Client Number 18 - Poison Training False\n"
     ]
    },
    {
     "name": "stderr",
     "output_type": "stream",
     "text": [
      "100%|████████████████████████████████████████████████████████████████████████████████████| 1/1 [00:00<00:00,  1.05it/s]\n"
     ]
    },
    {
     "name": "stdout",
     "output_type": "stream",
     "text": [
      "Iter 1 - Epoch 0 - Client Type: Benign - Client Number 19 - Poison Training False\n"
     ]
    },
    {
     "name": "stderr",
     "output_type": "stream",
     "text": [
      "100%|████████████████████████████████████████████████████████████████████████████████████| 2/2 [00:01<00:00,  1.65it/s]\n"
     ]
    },
    {
     "name": "stdout",
     "output_type": "stream",
     "text": [
      "\n",
      "\n",
      " Entering epoch 1\n",
      "Iter 1 - Epoch 0 - Client Type: Benign - Client Number 0 - Poison Training False\n"
     ]
    },
    {
     "name": "stderr",
     "output_type": "stream",
     "text": [
      "100%|████████████████████████████████████████████████████████████████████████████████████| 1/1 [00:00<00:00,  1.02it/s]\n"
     ]
    },
    {
     "name": "stdout",
     "output_type": "stream",
     "text": [
      "Iter 1 - Epoch 0 - Client Type: Benign - Client Number 1 - Poison Training False\n"
     ]
    },
    {
     "name": "stderr",
     "output_type": "stream",
     "text": [
      "100%|████████████████████████████████████████████████████████████████████████████████████| 1/1 [00:00<00:00,  1.23it/s]\n"
     ]
    },
    {
     "name": "stdout",
     "output_type": "stream",
     "text": [
      "Iter 1 - Epoch 0 - Client Type: Benign - Client Number 2 - Poison Training False\n"
     ]
    },
    {
     "name": "stderr",
     "output_type": "stream",
     "text": [
      "100%|████████████████████████████████████████████████████████████████████████████████████| 2/2 [00:01<00:00,  1.36it/s]\n"
     ]
    },
    {
     "name": "stdout",
     "output_type": "stream",
     "text": [
      "Iter 1 - Epoch 0 - Client Type: Benign - Client Number 3 - Poison Training False\n"
     ]
    },
    {
     "name": "stderr",
     "output_type": "stream",
     "text": [
      "100%|████████████████████████████████████████████████████████████████████████████████████| 1/1 [00:00<00:00,  1.09it/s]\n"
     ]
    },
    {
     "name": "stdout",
     "output_type": "stream",
     "text": [
      "Iter 1 - Epoch 0 - Client Type: Benign - Client Number 4 - Poison Training False\n"
     ]
    },
    {
     "name": "stderr",
     "output_type": "stream",
     "text": [
      "100%|████████████████████████████████████████████████████████████████████████████████████| 1/1 [00:00<00:00,  1.26it/s]\n"
     ]
    },
    {
     "name": "stdout",
     "output_type": "stream",
     "text": [
      "Iter 1 - Epoch 0 - Client Type: Benign - Client Number 5 - Poison Training False\n"
     ]
    },
    {
     "name": "stderr",
     "output_type": "stream",
     "text": [
      "100%|████████████████████████████████████████████████████████████████████████████████████| 1/1 [00:00<00:00,  1.08it/s]\n"
     ]
    },
    {
     "name": "stdout",
     "output_type": "stream",
     "text": [
      "Iter 1 - Epoch 0 - Client Type: Benign - Client Number 6 - Poison Training False\n"
     ]
    },
    {
     "name": "stderr",
     "output_type": "stream",
     "text": [
      "100%|████████████████████████████████████████████████████████████████████████████████████| 1/1 [00:00<00:00,  1.13it/s]\n"
     ]
    },
    {
     "name": "stdout",
     "output_type": "stream",
     "text": [
      "Iter 1 - Epoch 0 - Client Type: Benign - Client Number 7 - Poison Training False\n"
     ]
    },
    {
     "name": "stderr",
     "output_type": "stream",
     "text": [
      "100%|████████████████████████████████████████████████████████████████████████████████████| 1/1 [00:00<00:00,  1.08it/s]\n"
     ]
    },
    {
     "name": "stdout",
     "output_type": "stream",
     "text": [
      "Iter 1 - Epoch 0 - Client Type: Benign - Client Number 8 - Poison Training False\n"
     ]
    },
    {
     "name": "stderr",
     "output_type": "stream",
     "text": [
      "100%|████████████████████████████████████████████████████████████████████████████████████| 2/2 [00:01<00:00,  1.89it/s]\n"
     ]
    },
    {
     "name": "stdout",
     "output_type": "stream",
     "text": [
      "Iter 1 - Epoch 0 - Client Type: Benign - Client Number 9 - Poison Training False\n"
     ]
    },
    {
     "name": "stderr",
     "output_type": "stream",
     "text": [
      "100%|████████████████████████████████████████████████████████████████████████████████████| 1/1 [00:01<00:00,  1.06s/it]\n"
     ]
    },
    {
     "name": "stdout",
     "output_type": "stream",
     "text": [
      "Iter 1 - Epoch 0 - Client Type: Benign - Client Number 10 - Poison Training False\n"
     ]
    },
    {
     "name": "stderr",
     "output_type": "stream",
     "text": [
      "100%|████████████████████████████████████████████████████████████████████████████████████| 2/2 [00:01<00:00,  1.61it/s]\n"
     ]
    },
    {
     "name": "stdout",
     "output_type": "stream",
     "text": [
      "Iter 1 - Epoch 0 - Client Type: Benign - Client Number 11 - Poison Training False\n"
     ]
    },
    {
     "name": "stderr",
     "output_type": "stream",
     "text": [
      "100%|████████████████████████████████████████████████████████████████████████████████████| 2/2 [00:01<00:00,  1.74it/s]\n"
     ]
    },
    {
     "name": "stdout",
     "output_type": "stream",
     "text": [
      "Iter 1 - Epoch 0 - Client Type: Benign - Client Number 12 - Poison Training False\n"
     ]
    },
    {
     "name": "stderr",
     "output_type": "stream",
     "text": [
      "100%|████████████████████████████████████████████████████████████████████████████████████| 1/1 [00:00<00:00,  1.30it/s]\n"
     ]
    },
    {
     "name": "stdout",
     "output_type": "stream",
     "text": [
      "Iter 1 - Epoch 0 - Client Type: Benign - Client Number 13 - Poison Training False\n"
     ]
    },
    {
     "name": "stderr",
     "output_type": "stream",
     "text": [
      "100%|████████████████████████████████████████████████████████████████████████████████████| 2/2 [00:01<00:00,  1.60it/s]\n"
     ]
    },
    {
     "name": "stdout",
     "output_type": "stream",
     "text": [
      "Iter 1 - Epoch 0 - Client Type: Benign - Client Number 14 - Poison Training False\n"
     ]
    },
    {
     "name": "stderr",
     "output_type": "stream",
     "text": [
      "100%|████████████████████████████████████████████████████████████████████████████████████| 2/2 [00:01<00:00,  1.79it/s]\n"
     ]
    },
    {
     "name": "stdout",
     "output_type": "stream",
     "text": [
      "Iter 1 - Epoch 0 - Client Type: Benign - Client Number 15 - Poison Training False\n"
     ]
    },
    {
     "name": "stderr",
     "output_type": "stream",
     "text": [
      "100%|████████████████████████████████████████████████████████████████████████████████████| 1/1 [00:01<00:00,  1.03s/it]\n"
     ]
    },
    {
     "name": "stdout",
     "output_type": "stream",
     "text": [
      "Iter 1 - Epoch 0 - Client Type: Benign - Client Number 16 - Poison Training False\n"
     ]
    },
    {
     "name": "stderr",
     "output_type": "stream",
     "text": [
      "100%|████████████████████████████████████████████████████████████████████████████████████| 1/1 [00:01<00:00,  1.01s/it]\n"
     ]
    },
    {
     "name": "stdout",
     "output_type": "stream",
     "text": [
      "Iter 1 - Epoch 0 - Client Type: Benign - Client Number 17 - Poison Training False\n"
     ]
    },
    {
     "name": "stderr",
     "output_type": "stream",
     "text": [
      "100%|████████████████████████████████████████████████████████████████████████████████████| 2/2 [00:01<00:00,  1.11it/s]\n"
     ]
    },
    {
     "name": "stdout",
     "output_type": "stream",
     "text": [
      "Iter 1 - Epoch 0 - Client Type: Benign - Client Number 18 - Poison Training False\n"
     ]
    },
    {
     "name": "stderr",
     "output_type": "stream",
     "text": [
      "100%|████████████████████████████████████████████████████████████████████████████████████| 1/1 [00:01<00:00,  1.12s/it]\n"
     ]
    },
    {
     "name": "stdout",
     "output_type": "stream",
     "text": [
      "Iter 1 - Epoch 0 - Client Type: Benign - Client Number 19 - Poison Training False\n"
     ]
    },
    {
     "name": "stderr",
     "output_type": "stream",
     "text": [
      "100%|████████████████████████████████████████████████████████████████████████████████████| 2/2 [00:01<00:00,  1.46it/s]\n"
     ]
    },
    {
     "name": "stdout",
     "output_type": "stream",
     "text": [
      "\n",
      "\n",
      " Entering epoch 2\n",
      "Iter 1 - Epoch 0 - Client Type: Benign - Client Number 0 - Poison Training False\n"
     ]
    },
    {
     "name": "stderr",
     "output_type": "stream",
     "text": [
      "100%|████████████████████████████████████████████████████████████████████████████████████| 1/1 [00:01<00:00,  1.10s/it]\n"
     ]
    },
    {
     "name": "stdout",
     "output_type": "stream",
     "text": [
      "Iter 1 - Epoch 0 - Client Type: Benign - Client Number 1 - Poison Training False\n"
     ]
    },
    {
     "name": "stderr",
     "output_type": "stream",
     "text": [
      "100%|████████████████████████████████████████████████████████████████████████████████████| 1/1 [00:00<00:00,  1.16it/s]\n"
     ]
    },
    {
     "name": "stdout",
     "output_type": "stream",
     "text": [
      "Iter 1 - Epoch 0 - Client Type: Benign - Client Number 2 - Poison Training False\n"
     ]
    },
    {
     "name": "stderr",
     "output_type": "stream",
     "text": [
      "100%|████████████████████████████████████████████████████████████████████████████████████| 2/2 [00:01<00:00,  1.30it/s]\n"
     ]
    },
    {
     "name": "stdout",
     "output_type": "stream",
     "text": [
      "Iter 1 - Epoch 0 - Client Type: Benign - Client Number 3 - Poison Training False\n"
     ]
    },
    {
     "name": "stderr",
     "output_type": "stream",
     "text": [
      "100%|████████████████████████████████████████████████████████████████████████████████████| 1/1 [00:01<00:00,  1.01s/it]\n"
     ]
    },
    {
     "name": "stdout",
     "output_type": "stream",
     "text": [
      "Iter 1 - Epoch 0 - Client Type: Benign - Client Number 4 - Poison Training False\n"
     ]
    },
    {
     "name": "stderr",
     "output_type": "stream",
     "text": [
      "100%|████████████████████████████████████████████████████████████████████████████████████| 1/1 [00:00<00:00,  1.14it/s]\n"
     ]
    },
    {
     "name": "stdout",
     "output_type": "stream",
     "text": [
      "Iter 1 - Epoch 0 - Client Type: Benign - Client Number 5 - Poison Training False\n"
     ]
    },
    {
     "name": "stderr",
     "output_type": "stream",
     "text": [
      "100%|████████████████████████████████████████████████████████████████████████████████████| 1/1 [00:01<00:00,  1.09s/it]\n"
     ]
    },
    {
     "name": "stdout",
     "output_type": "stream",
     "text": [
      "Iter 1 - Epoch 0 - Client Type: Benign - Client Number 6 - Poison Training False\n"
     ]
    },
    {
     "name": "stderr",
     "output_type": "stream",
     "text": [
      "100%|████████████████████████████████████████████████████████████████████████████████████| 1/1 [00:00<00:00,  1.05it/s]\n"
     ]
    },
    {
     "name": "stdout",
     "output_type": "stream",
     "text": [
      "Iter 1 - Epoch 0 - Client Type: Benign - Client Number 7 - Poison Training False\n"
     ]
    },
    {
     "name": "stderr",
     "output_type": "stream",
     "text": [
      "100%|████████████████████████████████████████████████████████████████████████████████████| 1/1 [00:01<00:00,  1.10s/it]\n"
     ]
    },
    {
     "name": "stdout",
     "output_type": "stream",
     "text": [
      "Iter 1 - Epoch 0 - Client Type: Benign - Client Number 8 - Poison Training False\n"
     ]
    },
    {
     "name": "stderr",
     "output_type": "stream",
     "text": [
      "100%|████████████████████████████████████████████████████████████████████████████████████| 2/2 [00:01<00:00,  1.56it/s]\n"
     ]
    },
    {
     "name": "stdout",
     "output_type": "stream",
     "text": [
      "Iter 1 - Epoch 0 - Client Type: Benign - Client Number 9 - Poison Training False\n"
     ]
    },
    {
     "name": "stderr",
     "output_type": "stream",
     "text": [
      "100%|████████████████████████████████████████████████████████████████████████████████████| 1/1 [00:01<00:00,  1.04s/it]\n"
     ]
    },
    {
     "name": "stdout",
     "output_type": "stream",
     "text": [
      "Iter 1 - Epoch 0 - Client Type: Benign - Client Number 10 - Poison Training False\n"
     ]
    },
    {
     "name": "stderr",
     "output_type": "stream",
     "text": [
      "100%|████████████████████████████████████████████████████████████████████████████████████| 2/2 [00:01<00:00,  1.58it/s]\n"
     ]
    },
    {
     "name": "stdout",
     "output_type": "stream",
     "text": [
      "Iter 1 - Epoch 0 - Client Type: Benign - Client Number 11 - Poison Training False\n"
     ]
    },
    {
     "name": "stderr",
     "output_type": "stream",
     "text": [
      "100%|████████████████████████████████████████████████████████████████████████████████████| 2/2 [00:01<00:00,  1.62it/s]\n"
     ]
    },
    {
     "name": "stdout",
     "output_type": "stream",
     "text": [
      "Iter 1 - Epoch 0 - Client Type: Benign - Client Number 12 - Poison Training False\n"
     ]
    },
    {
     "name": "stderr",
     "output_type": "stream",
     "text": [
      "100%|████████████████████████████████████████████████████████████████████████████████████| 1/1 [00:00<00:00,  1.55it/s]\n"
     ]
    },
    {
     "name": "stdout",
     "output_type": "stream",
     "text": [
      "Iter 1 - Epoch 0 - Client Type: Benign - Client Number 13 - Poison Training False\n"
     ]
    },
    {
     "name": "stderr",
     "output_type": "stream",
     "text": [
      "100%|████████████████████████████████████████████████████████████████████████████████████| 2/2 [00:01<00:00,  1.76it/s]\n"
     ]
    },
    {
     "name": "stdout",
     "output_type": "stream",
     "text": [
      "Iter 1 - Epoch 0 - Client Type: Benign - Client Number 14 - Poison Training False\n"
     ]
    },
    {
     "name": "stderr",
     "output_type": "stream",
     "text": [
      "100%|████████████████████████████████████████████████████████████████████████████████████| 2/2 [00:01<00:00,  1.68it/s]\n"
     ]
    },
    {
     "name": "stdout",
     "output_type": "stream",
     "text": [
      "Iter 1 - Epoch 0 - Client Type: Benign - Client Number 15 - Poison Training False\n"
     ]
    },
    {
     "name": "stderr",
     "output_type": "stream",
     "text": [
      "100%|████████████████████████████████████████████████████████████████████████████████████| 1/1 [00:01<00:00,  1.08s/it]\n"
     ]
    },
    {
     "name": "stdout",
     "output_type": "stream",
     "text": [
      "Iter 1 - Epoch 0 - Client Type: Benign - Client Number 16 - Poison Training False\n"
     ]
    },
    {
     "name": "stderr",
     "output_type": "stream",
     "text": [
      "100%|████████████████████████████████████████████████████████████████████████████████████| 1/1 [00:00<00:00,  1.01it/s]\n"
     ]
    },
    {
     "name": "stdout",
     "output_type": "stream",
     "text": [
      "Iter 1 - Epoch 0 - Client Type: Benign - Client Number 17 - Poison Training False\n"
     ]
    },
    {
     "name": "stderr",
     "output_type": "stream",
     "text": [
      "100%|████████████████████████████████████████████████████████████████████████████████████| 2/2 [00:01<00:00,  1.22it/s]\n"
     ]
    },
    {
     "name": "stdout",
     "output_type": "stream",
     "text": [
      "Iter 1 - Epoch 0 - Client Type: Benign - Client Number 18 - Poison Training False\n"
     ]
    },
    {
     "name": "stderr",
     "output_type": "stream",
     "text": [
      "100%|████████████████████████████████████████████████████████████████████████████████████| 1/1 [00:01<00:00,  1.11s/it]\n"
     ]
    },
    {
     "name": "stdout",
     "output_type": "stream",
     "text": [
      "Iter 1 - Epoch 0 - Client Type: Benign - Client Number 19 - Poison Training False\n"
     ]
    },
    {
     "name": "stderr",
     "output_type": "stream",
     "text": [
      "100%|████████████████████████████████████████████████████████████████████████████████████| 2/2 [00:01<00:00,  1.37it/s]\n"
     ]
    },
    {
     "name": "stdout",
     "output_type": "stream",
     "text": [
      "\n",
      "\n",
      " Entering epoch 3\n",
      "Iter 1 - Epoch 0 - Client Type: Benign - Client Number 0 - Poison Training False\n"
     ]
    },
    {
     "name": "stderr",
     "output_type": "stream",
     "text": [
      "100%|████████████████████████████████████████████████████████████████████████████████████| 1/1 [00:01<00:00,  1.15s/it]\n"
     ]
    },
    {
     "name": "stdout",
     "output_type": "stream",
     "text": [
      "Iter 1 - Epoch 0 - Client Type: Benign - Client Number 1 - Poison Training False\n"
     ]
    },
    {
     "name": "stderr",
     "output_type": "stream",
     "text": [
      "100%|████████████████████████████████████████████████████████████████████████████████████| 1/1 [00:00<00:00,  1.14it/s]\n"
     ]
    },
    {
     "name": "stdout",
     "output_type": "stream",
     "text": [
      "Iter 1 - Epoch 0 - Client Type: Benign - Client Number 2 - Poison Training False\n"
     ]
    },
    {
     "name": "stderr",
     "output_type": "stream",
     "text": [
      "100%|████████████████████████████████████████████████████████████████████████████████████| 2/2 [00:01<00:00,  1.23it/s]\n"
     ]
    },
    {
     "name": "stdout",
     "output_type": "stream",
     "text": [
      "Iter 1 - Epoch 0 - Client Type: Benign - Client Number 3 - Poison Training False\n"
     ]
    },
    {
     "name": "stderr",
     "output_type": "stream",
     "text": [
      "100%|████████████████████████████████████████████████████████████████████████████████████| 1/1 [00:01<00:00,  1.05s/it]\n"
     ]
    },
    {
     "name": "stdout",
     "output_type": "stream",
     "text": [
      "Iter 1 - Epoch 0 - Client Type: Benign - Client Number 4 - Poison Training False\n"
     ]
    },
    {
     "name": "stderr",
     "output_type": "stream",
     "text": [
      "100%|████████████████████████████████████████████████████████████████████████████████████| 1/1 [00:00<00:00,  1.11it/s]\n"
     ]
    },
    {
     "name": "stdout",
     "output_type": "stream",
     "text": [
      "Iter 1 - Epoch 0 - Client Type: Benign - Client Number 5 - Poison Training False\n"
     ]
    },
    {
     "name": "stderr",
     "output_type": "stream",
     "text": [
      "100%|████████████████████████████████████████████████████████████████████████████████████| 1/1 [00:01<00:00,  1.19s/it]\n"
     ]
    },
    {
     "name": "stdout",
     "output_type": "stream",
     "text": [
      "Iter 1 - Epoch 0 - Client Type: Benign - Client Number 6 - Poison Training False\n"
     ]
    },
    {
     "name": "stderr",
     "output_type": "stream",
     "text": [
      "100%|████████████████████████████████████████████████████████████████████████████████████| 1/1 [00:01<00:00,  1.01s/it]\n"
     ]
    },
    {
     "name": "stdout",
     "output_type": "stream",
     "text": [
      "Iter 1 - Epoch 0 - Client Type: Benign - Client Number 7 - Poison Training False\n"
     ]
    },
    {
     "name": "stderr",
     "output_type": "stream",
     "text": [
      "100%|████████████████████████████████████████████████████████████████████████████████████| 1/1 [00:01<00:00,  1.04s/it]\n"
     ]
    },
    {
     "name": "stdout",
     "output_type": "stream",
     "text": [
      "Iter 1 - Epoch 0 - Client Type: Benign - Client Number 8 - Poison Training False\n"
     ]
    },
    {
     "name": "stderr",
     "output_type": "stream",
     "text": [
      "100%|████████████████████████████████████████████████████████████████████████████████████| 2/2 [00:01<00:00,  1.63it/s]\n"
     ]
    },
    {
     "name": "stdout",
     "output_type": "stream",
     "text": [
      "Iter 1 - Epoch 0 - Client Type: Benign - Client Number 9 - Poison Training False\n"
     ]
    },
    {
     "name": "stderr",
     "output_type": "stream",
     "text": [
      "100%|████████████████████████████████████████████████████████████████████████████████████| 1/1 [00:01<00:00,  1.14s/it]\n"
     ]
    },
    {
     "name": "stdout",
     "output_type": "stream",
     "text": [
      "Iter 1 - Epoch 0 - Client Type: Benign - Client Number 10 - Poison Training False\n"
     ]
    },
    {
     "name": "stderr",
     "output_type": "stream",
     "text": [
      "100%|████████████████████████████████████████████████████████████████████████████████████| 2/2 [00:01<00:00,  1.45it/s]\n"
     ]
    },
    {
     "name": "stdout",
     "output_type": "stream",
     "text": [
      "Iter 1 - Epoch 0 - Client Type: Benign - Client Number 11 - Poison Training False\n"
     ]
    },
    {
     "name": "stderr",
     "output_type": "stream",
     "text": [
      "100%|████████████████████████████████████████████████████████████████████████████████████| 2/2 [00:01<00:00,  1.78it/s]\n"
     ]
    },
    {
     "name": "stdout",
     "output_type": "stream",
     "text": [
      "Iter 1 - Epoch 0 - Client Type: Benign - Client Number 12 - Poison Training False\n"
     ]
    },
    {
     "name": "stderr",
     "output_type": "stream",
     "text": [
      "100%|████████████████████████████████████████████████████████████████████████████████████| 1/1 [00:00<00:00,  1.59it/s]\n"
     ]
    },
    {
     "name": "stdout",
     "output_type": "stream",
     "text": [
      "Iter 1 - Epoch 0 - Client Type: Benign - Client Number 13 - Poison Training False\n"
     ]
    },
    {
     "name": "stderr",
     "output_type": "stream",
     "text": [
      "100%|████████████████████████████████████████████████████████████████████████████████████| 2/2 [00:01<00:00,  1.84it/s]\n"
     ]
    },
    {
     "name": "stdout",
     "output_type": "stream",
     "text": [
      "Iter 1 - Epoch 0 - Client Type: Benign - Client Number 14 - Poison Training False\n"
     ]
    },
    {
     "name": "stderr",
     "output_type": "stream",
     "text": [
      "100%|████████████████████████████████████████████████████████████████████████████████████| 2/2 [00:01<00:00,  1.74it/s]\n"
     ]
    },
    {
     "name": "stdout",
     "output_type": "stream",
     "text": [
      "Iter 1 - Epoch 0 - Client Type: Benign - Client Number 15 - Poison Training False\n"
     ]
    },
    {
     "name": "stderr",
     "output_type": "stream",
     "text": [
      "100%|████████████████████████████████████████████████████████████████████████████████████| 1/1 [00:00<00:00,  1.03it/s]\n"
     ]
    },
    {
     "name": "stdout",
     "output_type": "stream",
     "text": [
      "Iter 1 - Epoch 0 - Client Type: Benign - Client Number 16 - Poison Training False\n"
     ]
    },
    {
     "name": "stderr",
     "output_type": "stream",
     "text": [
      "100%|████████████████████████████████████████████████████████████████████████████████████| 1/1 [00:00<00:00,  1.02it/s]\n"
     ]
    },
    {
     "name": "stdout",
     "output_type": "stream",
     "text": [
      "Iter 1 - Epoch 0 - Client Type: Benign - Client Number 17 - Poison Training False\n"
     ]
    },
    {
     "name": "stderr",
     "output_type": "stream",
     "text": [
      "100%|████████████████████████████████████████████████████████████████████████████████████| 2/2 [00:01<00:00,  1.17it/s]\n"
     ]
    },
    {
     "name": "stdout",
     "output_type": "stream",
     "text": [
      "Iter 1 - Epoch 0 - Client Type: Benign - Client Number 18 - Poison Training False\n"
     ]
    },
    {
     "name": "stderr",
     "output_type": "stream",
     "text": [
      "100%|████████████████████████████████████████████████████████████████████████████████████| 1/1 [00:01<00:00,  1.09s/it]\n"
     ]
    },
    {
     "name": "stdout",
     "output_type": "stream",
     "text": [
      "Iter 1 - Epoch 0 - Client Type: Benign - Client Number 19 - Poison Training False\n"
     ]
    },
    {
     "name": "stderr",
     "output_type": "stream",
     "text": [
      "100%|████████████████████████████████████████████████████████████████████████████████████| 2/2 [00:01<00:00,  1.44it/s]\n"
     ]
    },
    {
     "name": "stdout",
     "output_type": "stream",
     "text": [
      "\n",
      "\n",
      " Entering epoch 4\n",
      "Iter 1 - Epoch 0 - Client Type: Benign - Client Number 0 - Poison Training False\n"
     ]
    },
    {
     "name": "stderr",
     "output_type": "stream",
     "text": [
      "100%|████████████████████████████████████████████████████████████████████████████████████| 1/1 [00:00<00:00,  1.04it/s]\n"
     ]
    },
    {
     "name": "stdout",
     "output_type": "stream",
     "text": [
      "Iter 1 - Epoch 0 - Client Type: Benign - Client Number 1 - Poison Training False\n"
     ]
    },
    {
     "name": "stderr",
     "output_type": "stream",
     "text": [
      "100%|████████████████████████████████████████████████████████████████████████████████████| 1/1 [00:00<00:00,  1.08it/s]\n"
     ]
    },
    {
     "name": "stdout",
     "output_type": "stream",
     "text": [
      "Iter 1 - Epoch 0 - Client Type: Benign - Client Number 2 - Poison Training False\n"
     ]
    },
    {
     "name": "stderr",
     "output_type": "stream",
     "text": [
      "100%|████████████████████████████████████████████████████████████████████████████████████| 2/2 [00:01<00:00,  1.36it/s]\n"
     ]
    },
    {
     "name": "stdout",
     "output_type": "stream",
     "text": [
      "Iter 1 - Epoch 0 - Client Type: Benign - Client Number 3 - Poison Training False\n"
     ]
    },
    {
     "name": "stderr",
     "output_type": "stream",
     "text": [
      "100%|████████████████████████████████████████████████████████████████████████████████████| 1/1 [00:01<00:00,  1.25s/it]\n"
     ]
    },
    {
     "name": "stdout",
     "output_type": "stream",
     "text": [
      "Iter 1 - Epoch 0 - Client Type: Benign - Client Number 4 - Poison Training False\n"
     ]
    },
    {
     "name": "stderr",
     "output_type": "stream",
     "text": [
      "100%|████████████████████████████████████████████████████████████████████████████████████| 1/1 [00:00<00:00,  1.12it/s]\n"
     ]
    },
    {
     "name": "stdout",
     "output_type": "stream",
     "text": [
      "Iter 1 - Epoch 0 - Client Type: Benign - Client Number 5 - Poison Training False\n"
     ]
    },
    {
     "name": "stderr",
     "output_type": "stream",
     "text": [
      "100%|████████████████████████████████████████████████████████████████████████████████████| 1/1 [00:01<00:00,  1.15s/it]\n"
     ]
    },
    {
     "name": "stdout",
     "output_type": "stream",
     "text": [
      "Iter 1 - Epoch 0 - Client Type: Benign - Client Number 6 - Poison Training False\n"
     ]
    },
    {
     "name": "stderr",
     "output_type": "stream",
     "text": [
      "100%|████████████████████████████████████████████████████████████████████████████████████| 1/1 [00:01<00:00,  1.15s/it]\n"
     ]
    },
    {
     "name": "stdout",
     "output_type": "stream",
     "text": [
      "Iter 1 - Epoch 0 - Client Type: Benign - Client Number 7 - Poison Training False\n"
     ]
    },
    {
     "name": "stderr",
     "output_type": "stream",
     "text": [
      "100%|████████████████████████████████████████████████████████████████████████████████████| 1/1 [00:01<00:00,  1.13s/it]\n"
     ]
    },
    {
     "name": "stdout",
     "output_type": "stream",
     "text": [
      "Iter 1 - Epoch 0 - Client Type: Benign - Client Number 8 - Poison Training False\n"
     ]
    },
    {
     "name": "stderr",
     "output_type": "stream",
     "text": [
      "100%|████████████████████████████████████████████████████████████████████████████████████| 2/2 [00:01<00:00,  1.59it/s]\n"
     ]
    },
    {
     "name": "stdout",
     "output_type": "stream",
     "text": [
      "Iter 1 - Epoch 0 - Client Type: Benign - Client Number 9 - Poison Training False\n"
     ]
    },
    {
     "name": "stderr",
     "output_type": "stream",
     "text": [
      "100%|████████████████████████████████████████████████████████████████████████████████████| 1/1 [00:01<00:00,  1.04s/it]\n"
     ]
    },
    {
     "name": "stdout",
     "output_type": "stream",
     "text": [
      "Iter 1 - Epoch 0 - Client Type: Benign - Client Number 10 - Poison Training False\n"
     ]
    },
    {
     "name": "stderr",
     "output_type": "stream",
     "text": [
      "100%|████████████████████████████████████████████████████████████████████████████████████| 2/2 [00:01<00:00,  1.82it/s]\n"
     ]
    },
    {
     "name": "stdout",
     "output_type": "stream",
     "text": [
      "Iter 1 - Epoch 0 - Client Type: Benign - Client Number 11 - Poison Training False\n"
     ]
    },
    {
     "name": "stderr",
     "output_type": "stream",
     "text": [
      "100%|████████████████████████████████████████████████████████████████████████████████████| 2/2 [00:01<00:00,  1.82it/s]\n"
     ]
    },
    {
     "name": "stdout",
     "output_type": "stream",
     "text": [
      "Iter 1 - Epoch 0 - Client Type: Benign - Client Number 12 - Poison Training False\n"
     ]
    },
    {
     "name": "stderr",
     "output_type": "stream",
     "text": [
      "100%|████████████████████████████████████████████████████████████████████████████████████| 1/1 [00:00<00:00,  1.64it/s]\n"
     ]
    },
    {
     "name": "stdout",
     "output_type": "stream",
     "text": [
      "Iter 1 - Epoch 0 - Client Type: Benign - Client Number 13 - Poison Training False\n"
     ]
    },
    {
     "name": "stderr",
     "output_type": "stream",
     "text": [
      "100%|████████████████████████████████████████████████████████████████████████████████████| 2/2 [00:01<00:00,  1.89it/s]\n"
     ]
    },
    {
     "name": "stdout",
     "output_type": "stream",
     "text": [
      "Iter 1 - Epoch 0 - Client Type: Benign - Client Number 14 - Poison Training False\n"
     ]
    },
    {
     "name": "stderr",
     "output_type": "stream",
     "text": [
      "100%|████████████████████████████████████████████████████████████████████████████████████| 2/2 [00:01<00:00,  1.76it/s]\n"
     ]
    },
    {
     "name": "stdout",
     "output_type": "stream",
     "text": [
      "Iter 1 - Epoch 0 - Client Type: Benign - Client Number 15 - Poison Training False\n"
     ]
    },
    {
     "name": "stderr",
     "output_type": "stream",
     "text": [
      "100%|████████████████████████████████████████████████████████████████████████████████████| 1/1 [00:01<00:00,  1.01s/it]\n"
     ]
    },
    {
     "name": "stdout",
     "output_type": "stream",
     "text": [
      "Iter 1 - Epoch 0 - Client Type: Benign - Client Number 16 - Poison Training False\n"
     ]
    },
    {
     "name": "stderr",
     "output_type": "stream",
     "text": [
      "100%|████████████████████████████████████████████████████████████████████████████████████| 1/1 [00:01<00:00,  1.07s/it]\n"
     ]
    },
    {
     "name": "stdout",
     "output_type": "stream",
     "text": [
      "Iter 1 - Epoch 0 - Client Type: Benign - Client Number 17 - Poison Training False\n"
     ]
    },
    {
     "name": "stderr",
     "output_type": "stream",
     "text": [
      "100%|████████████████████████████████████████████████████████████████████████████████████| 2/2 [00:01<00:00,  1.11it/s]\n"
     ]
    },
    {
     "name": "stdout",
     "output_type": "stream",
     "text": [
      "Iter 1 - Epoch 0 - Client Type: Benign - Client Number 18 - Poison Training False\n"
     ]
    },
    {
     "name": "stderr",
     "output_type": "stream",
     "text": [
      "100%|████████████████████████████████████████████████████████████████████████████████████| 1/1 [00:01<00:00,  1.11s/it]\n"
     ]
    },
    {
     "name": "stdout",
     "output_type": "stream",
     "text": [
      "Iter 1 - Epoch 0 - Client Type: Benign - Client Number 19 - Poison Training False\n"
     ]
    },
    {
     "name": "stderr",
     "output_type": "stream",
     "text": [
      "100%|████████████████████████████████████████████████████████████████████████████████████| 2/2 [00:01<00:00,  1.40it/s]\n"
     ]
    },
    {
     "name": "stdout",
     "output_type": "stream",
     "text": [
      "Original Copylist [7, 2, 5, 3, 2, 7, 3, 7, 0, 7, 0, 0, 4, 0, 0, 7, 3, 1, 7, 6]\n",
      "Found clusters [7 5 3 2 5 7 2 7 0 7 0 1 6 1 1 7 2 3 7 4]\n",
      "Original groups [array([ 8, 10, 11, 13, 14], dtype=int64), array([17], dtype=int64), array([1, 4], dtype=int64), array([ 3,  6, 16], dtype=int64), array([12], dtype=int64), array([2], dtype=int64), array([19], dtype=int64), array([ 0,  5,  7,  9, 15, 18], dtype=int64)]\n",
      "Clustered groups [array([ 8, 10], dtype=int64), array([11, 13, 14], dtype=int64), array([ 3,  6, 16], dtype=int64), array([ 2, 17], dtype=int64), array([19], dtype=int64), array([1, 4], dtype=int64), array([12], dtype=int64), array([ 0,  5,  7,  9, 15, 18], dtype=int64)]\n",
      "Clustering score 0.8467388799262503\n",
      "2\n",
      "[[1.00000536 0.2595787  0.49234405 0.44078547 0.2594582  0.99614486\n",
      "  0.46162893 0.96139276 0.46885972 0.93083662 0.46039894 0.59432268\n",
      "  0.46824481 0.60331565 0.40797648 0.9503139  0.46854636 0.54794925\n",
      "  0.97961637 0.27006996]\n",
      " [0.2595787  1.00001109 0.31369038 0.44908902 0.99819452 0.26243366\n",
      "  0.44477011 0.2699313  0.41210398 0.27813264 0.36950362 0.36034541\n",
      "  0.29974307 0.31781225 0.32127249 0.26631847 0.43901044 0.31278934\n",
      "  0.24390526 0.4515754 ]\n",
      " [0.49234405 0.31369036 1.00000709 0.31649151 0.32272354 0.49054946\n",
      "  0.32206656 0.45234385 0.4629561  0.43130048 0.53543383 0.58845839\n",
      "  0.37118624 0.58997495 0.52590889 0.43519592 0.32295181 0.67548925\n",
      "  0.50425136 0.37804261]\n",
      " [0.44078547 0.44908901 0.3164915  1.00000584 0.43844961 0.44831158\n",
      "  0.99500459 0.41488163 0.54278672 0.41129601 0.46194452 0.4966322\n",
      "  0.43036373 0.50703378 0.3940855  0.40555412 0.99337626 0.36263031\n",
      "  0.44341438 0.4741614 ]\n",
      " [0.2594582  0.99819449 0.32272356 0.43844961 1.00001031 0.26253331\n",
      "  0.43373202 0.26853744 0.40918759 0.27590639 0.37194702 0.36174312\n",
      "  0.30193011 0.31876132 0.32418104 0.26453406 0.42804788 0.31782407\n",
      "  0.24422054 0.45783754]\n",
      " [0.99614489 0.26243366 0.49054946 0.44831163 0.26253331 1.00000376\n",
      "  0.46781871 0.95632869 0.4670276  0.92522708 0.45883584 0.58937609\n",
      "  0.47835247 0.60014424 0.4093568  0.94603613 0.47505952 0.54901282\n",
      "  0.97857672 0.27564567]\n",
      " [0.46162893 0.44477011 0.32206656 0.99500462 0.43373197 0.46781871\n",
      "  1.000009   0.43635677 0.55440602 0.43164031 0.47139601 0.51309916\n",
      "  0.42450824 0.52125956 0.39823885 0.42599757 0.99728024 0.36617371\n",
      "  0.4644219  0.45150423]\n",
      " [0.9613927  0.2699313  0.45234385 0.41488162 0.26853743 0.95632869\n",
      "  0.43635677 1.00000256 0.49516098 0.989748   0.46617082 0.61164168\n",
      "  0.45148851 0.60083497 0.41027095 0.99126178 0.44122636 0.52595231\n",
      "  0.91405866 0.29166619]\n",
      " [0.46885972 0.41210401 0.4629561  0.54278672 0.40918759 0.4670276\n",
      "  0.55440605 0.49516098 1.00000679 0.50455564 0.72709924 0.75724441\n",
      "  0.43387079 0.84216276 0.65367761 0.48845965 0.55450481 0.55210128\n",
      "  0.4533339  0.4117022 ]\n",
      " [0.93083656 0.27813264 0.43130049 0.41129601 0.27590641 0.92522711\n",
      "  0.43164028 0.98974803 0.50455564 1.00000584 0.46019815 0.60946214\n",
      "  0.44683421 0.59448957 0.41062239 0.99023411 0.43622117 0.5076371\n",
      "  0.87284288 0.29341018]\n",
      " [0.46039894 0.3695036  0.53543383 0.46194454 0.37194702 0.45883584\n",
      "  0.471396   0.46617082 0.72709921 0.46019815 1.00000447 0.72602922\n",
      "  0.40722395 0.72098461 0.62077436 0.45509292 0.46834396 0.54907079\n",
      "  0.45305631 0.44256485]\n",
      " [0.59432268 0.36034541 0.58845837 0.49663217 0.36174311 0.58937612\n",
      "  0.51309918 0.61164171 0.75724444 0.60946214 0.72602919 1.00000411\n",
      "  0.45696288 0.88348091 0.66367149 0.60009524 0.51179481 0.58344364\n",
      "  0.57774404 0.42107187]\n",
      " [0.46824482 0.29974306 0.37118623 0.43036374 0.30193014 0.47835247\n",
      "  0.42450824 0.45148852 0.43387078 0.44683421 0.40722395 0.45696293\n",
      "  1.00000709 0.47106348 0.41387109 0.46150339 0.41796699 0.48157381\n",
      "  0.44577278 0.38016683]\n",
      " [0.60331565 0.31781225 0.58997495 0.5070338  0.31876133 0.60014421\n",
      "  0.52125958 0.60083497 0.84216279 0.59448957 0.72098461 0.88348088\n",
      "  0.47106348 1.00000128 0.73300055 0.59333855 0.52135324 0.61521471\n",
      "  0.59434429 0.43248212]\n",
      " [0.40797649 0.32127246 0.52590889 0.3940855  0.32418104 0.4093568\n",
      "  0.39823887 0.41027095 0.65367761 0.41062239 0.62077436 0.66367152\n",
      "  0.41387109 0.73300055 1.00000352 0.40295504 0.39583929 0.52078851\n",
      "  0.39729781 0.4582485 ]\n",
      " [0.95031396 0.26631849 0.43519592 0.40555412 0.26453406 0.94603613\n",
      "  0.42599757 0.99126181 0.48845968 0.99023414 0.45509292 0.60009524\n",
      "  0.46150339 0.59333852 0.40295503 1.00000405 0.43082865 0.51658016\n",
      "  0.8891142  0.28499388]\n",
      " [0.46854638 0.43901044 0.32295182 0.99337623 0.42804785 0.47505951\n",
      "  0.99728018 0.44122636 0.55450475 0.43622114 0.46834396 0.51179482\n",
      "  0.41796698 0.52135324 0.39583929 0.43082866 1.00000626 0.36439209\n",
      "  0.47222562 0.44303048]\n",
      " [0.54794928 0.31278936 0.67548925 0.36263032 0.31782408 0.54901284\n",
      "  0.36617373 0.52595232 0.55210128 0.50763711 0.54907079 0.58344364\n",
      "  0.48157378 0.61521474 0.52078849 0.51658013 0.36439209 1.00000322\n",
      "  0.53804129 0.37728824]\n",
      " [0.9796164  0.24390527 0.50425138 0.44341438 0.24422055 0.97857675\n",
      "  0.4644219  0.91405869 0.4533339  0.87284291 0.45305631 0.57774407\n",
      "  0.44577278 0.59434426 0.39729781 0.88911423 0.47222562 0.53804128\n",
      "  1.00000364 0.25062422]\n",
      " [0.27006995 0.45157537 0.37804262 0.47416139 0.45783754 0.27564567\n",
      "  0.45150425 0.29166619 0.4117022  0.29341018 0.44256485 0.42107187\n",
      "  0.38016681 0.43248214 0.45824848 0.28499389 0.44303045 0.37728824\n",
      "  0.25062421 1.00000924]]\n",
      "Original Copylist [7, 2, 5, 3, 2, 7, 3, 7, 0, 7, 0, 0, 4, 0, 0, 7, 3, 1, 7, 6]\n",
      "Found clusters [1 6 0 3 6 1 3 1 2 1 2 2 4 2 7 1 3 0 1 5]\n",
      "Original groups [array([ 8, 10, 11, 13, 14], dtype=int64), array([17], dtype=int64), array([1, 4], dtype=int64), array([ 3,  6, 16], dtype=int64), array([12], dtype=int64), array([2], dtype=int64), array([19], dtype=int64), array([ 0,  5,  7,  9, 15, 18], dtype=int64)]\n",
      "Clustered groups [array([ 2, 17], dtype=int64), array([ 0,  5,  7,  9, 15, 18], dtype=int64), array([ 8, 10, 11, 13], dtype=int64), array([ 3,  6, 16], dtype=int64), array([12], dtype=int64), array([19], dtype=int64), array([1, 4], dtype=int64), array([14], dtype=int64)]\n",
      "Clustering score 0.8937597852829344\n",
      "Benign net distance [tensor(106.0780), tensor(114.9053), tensor(108.2104), tensor(120.9244), tensor(113.5153), tensor(106.1188), tensor(119.0067), tensor(105.9194), tensor(107.2082), tensor(106.9796), tensor(101.4744), tensor(98.6296), tensor(114.8257), tensor(98.4476), tensor(100.4370), tensor(106.7223), tensor(119.3426), tensor(115.9118), tensor(107.5180), tensor(0.)]\n",
      "Malicious net distance []\n",
      "cos_sim list  [tensor(0.4392), tensor(0.3941), tensor(0.3739), tensor(0.3704), tensor(0.3981), tensor(0.4385), tensor(0.3740), tensor(0.4662), tensor(0.4816), tensor(0.4550), tensor(0.5195), tensor(0.5371), tensor(0.3667), tensor(0.5278), tensor(0.5244), tensor(0.4505), tensor(0.3704), tensor(0.3561), tensor(0.4063), tensor(1.0000)]\n",
      "Norms of local gradients  [tensor(0.6839), tensor(1.1149), tensor(0.8347), tensor(1.2903), tensor(1.0822), tensor(0.6817), tensor(1.2267), tensor(0.7559), tensor(1.0274), tensor(0.7758), tensor(0.9682), tensor(0.8848), tensor(0.8944), tensor(0.8033), tensor(0.9409), tensor(0.7921), tensor(1.2331), tensor(1.0477), tensor(0.6533), tensor(1.2064)]\n",
      "\n",
      " Aggregating models\n",
      "Cosine Similarities:  [tensor(0.4392), tensor(0.3941), tensor(0.3739), tensor(0.3704), tensor(0.3981), tensor(0.4385), tensor(0.3740), tensor(0.4662), tensor(0.4816), tensor(0.4550), tensor(0.5195), tensor(0.5371), tensor(0.3667), tensor(0.5278), tensor(0.5244), tensor(0.4505), tensor(0.3704), tensor(0.3561), tensor(0.4063), tensor(1.0000)]\n",
      "Aggregation Weights:  [0.0837535  0.04610246 0.0584279  0.03743989 0.04798067 0.08389603\n",
      " 0.03976618 0.08044272 0.0611309  0.07649074 0.06997981 0.07918256\n",
      " 0.05346838 0.08569649 0.07269666 0.07417626 0.03917276 0.04432485\n",
      " 0.08112439 0.10810984]\n",
      "\n",
      "\n",
      "\n",
      "Aggregate test at iter  1\n"
     ]
    },
    {
     "name": "stderr",
     "output_type": "stream",
     "text": [
      "100%|██████████████████████████████████████████████████████████████████████████████████| 10/10 [00:02<00:00,  4.46it/s]\n"
     ]
    },
    {
     "name": "stdout",
     "output_type": "stream",
     "text": [
      "\n",
      "Test set: Avg. loss: 0.0013, Accuracy: 6366/10000 (64%)\n",
      "\n",
      "\n",
      "\n",
      " Entering epoch 0\n",
      "Iter 2 - Epoch 0 - Client Type: Benign - Client Number 0 - Poison Training False\n"
     ]
    },
    {
     "name": "stderr",
     "output_type": "stream",
     "text": [
      "100%|████████████████████████████████████████████████████████████████████████████████████| 1/1 [00:01<00:00,  1.13s/it]\n"
     ]
    },
    {
     "name": "stdout",
     "output_type": "stream",
     "text": [
      "Iter 2 - Epoch 0 - Client Type: Benign - Client Number 1 - Poison Training False\n"
     ]
    },
    {
     "name": "stderr",
     "output_type": "stream",
     "text": [
      "100%|████████████████████████████████████████████████████████████████████████████████████| 1/1 [00:00<00:00,  1.20it/s]\n"
     ]
    },
    {
     "name": "stdout",
     "output_type": "stream",
     "text": [
      "Iter 2 - Epoch 0 - Client Type: Benign - Client Number 2 - Poison Training False\n"
     ]
    },
    {
     "name": "stderr",
     "output_type": "stream",
     "text": [
      "100%|████████████████████████████████████████████████████████████████████████████████████| 2/2 [00:01<00:00,  1.32it/s]\n"
     ]
    },
    {
     "name": "stdout",
     "output_type": "stream",
     "text": [
      "Iter 2 - Epoch 0 - Client Type: Benign - Client Number 3 - Poison Training False\n"
     ]
    },
    {
     "name": "stderr",
     "output_type": "stream",
     "text": [
      "100%|████████████████████████████████████████████████████████████████████████████████████| 1/1 [00:00<00:00,  1.08it/s]\n"
     ]
    },
    {
     "name": "stdout",
     "output_type": "stream",
     "text": [
      "Iter 2 - Epoch 0 - Client Type: Benign - Client Number 4 - Poison Training False\n"
     ]
    },
    {
     "name": "stderr",
     "output_type": "stream",
     "text": [
      "100%|████████████████████████████████████████████████████████████████████████████████████| 1/1 [00:00<00:00,  1.18it/s]\n"
     ]
    },
    {
     "name": "stdout",
     "output_type": "stream",
     "text": [
      "Iter 2 - Epoch 0 - Client Type: Benign - Client Number 5 - Poison Training False\n"
     ]
    },
    {
     "name": "stderr",
     "output_type": "stream",
     "text": [
      "100%|████████████████████████████████████████████████████████████████████████████████████| 1/1 [00:00<00:00,  1.03it/s]\n"
     ]
    },
    {
     "name": "stdout",
     "output_type": "stream",
     "text": [
      "Iter 2 - Epoch 0 - Client Type: Benign - Client Number 6 - Poison Training False\n"
     ]
    },
    {
     "name": "stderr",
     "output_type": "stream",
     "text": [
      "100%|████████████████████████████████████████████████████████████████████████████████████| 1/1 [00:00<00:00,  1.08it/s]\n"
     ]
    },
    {
     "name": "stdout",
     "output_type": "stream",
     "text": [
      "Iter 2 - Epoch 0 - Client Type: Benign - Client Number 7 - Poison Training False\n"
     ]
    },
    {
     "name": "stderr",
     "output_type": "stream",
     "text": [
      "100%|████████████████████████████████████████████████████████████████████████████████████| 1/1 [00:00<00:00,  1.02it/s]\n"
     ]
    },
    {
     "name": "stdout",
     "output_type": "stream",
     "text": [
      "Iter 2 - Epoch 0 - Client Type: Benign - Client Number 8 - Poison Training False\n"
     ]
    },
    {
     "name": "stderr",
     "output_type": "stream",
     "text": [
      "100%|████████████████████████████████████████████████████████████████████████████████████| 2/2 [00:01<00:00,  1.84it/s]\n"
     ]
    },
    {
     "name": "stdout",
     "output_type": "stream",
     "text": [
      "Iter 2 - Epoch 0 - Client Type: Benign - Client Number 9 - Poison Training False\n"
     ]
    },
    {
     "name": "stderr",
     "output_type": "stream",
     "text": [
      "100%|████████████████████████████████████████████████████████████████████████████████████| 1/1 [00:00<00:00,  1.06it/s]\n"
     ]
    },
    {
     "name": "stdout",
     "output_type": "stream",
     "text": [
      "Iter 2 - Epoch 0 - Client Type: Benign - Client Number 10 - Poison Training False\n"
     ]
    },
    {
     "name": "stderr",
     "output_type": "stream",
     "text": [
      "100%|████████████████████████████████████████████████████████████████████████████████████| 2/2 [00:01<00:00,  1.81it/s]\n"
     ]
    },
    {
     "name": "stdout",
     "output_type": "stream",
     "text": [
      "Iter 2 - Epoch 0 - Client Type: Benign - Client Number 11 - Poison Training False\n"
     ]
    },
    {
     "name": "stderr",
     "output_type": "stream",
     "text": [
      "100%|████████████████████████████████████████████████████████████████████████████████████| 2/2 [00:01<00:00,  1.75it/s]\n"
     ]
    },
    {
     "name": "stdout",
     "output_type": "stream",
     "text": [
      "Iter 2 - Epoch 0 - Client Type: Benign - Client Number 12 - Poison Training False\n"
     ]
    },
    {
     "name": "stderr",
     "output_type": "stream",
     "text": [
      "100%|████████████████████████████████████████████████████████████████████████████████████| 1/1 [00:00<00:00,  1.51it/s]\n"
     ]
    },
    {
     "name": "stdout",
     "output_type": "stream",
     "text": [
      "Iter 2 - Epoch 0 - Client Type: Benign - Client Number 13 - Poison Training False\n"
     ]
    },
    {
     "name": "stderr",
     "output_type": "stream",
     "text": [
      "100%|████████████████████████████████████████████████████████████████████████████████████| 2/2 [00:01<00:00,  1.75it/s]\n"
     ]
    },
    {
     "name": "stdout",
     "output_type": "stream",
     "text": [
      "Iter 2 - Epoch 0 - Client Type: Benign - Client Number 14 - Poison Training False\n"
     ]
    },
    {
     "name": "stderr",
     "output_type": "stream",
     "text": [
      "100%|████████████████████████████████████████████████████████████████████████████████████| 2/2 [00:01<00:00,  1.85it/s]\n"
     ]
    },
    {
     "name": "stdout",
     "output_type": "stream",
     "text": [
      "Iter 2 - Epoch 0 - Client Type: Benign - Client Number 15 - Poison Training False\n"
     ]
    },
    {
     "name": "stderr",
     "output_type": "stream",
     "text": [
      "100%|████████████████████████████████████████████████████████████████████████████████████| 1/1 [00:00<00:00,  1.05it/s]\n"
     ]
    },
    {
     "name": "stdout",
     "output_type": "stream",
     "text": [
      "Iter 2 - Epoch 0 - Client Type: Benign - Client Number 16 - Poison Training False\n"
     ]
    },
    {
     "name": "stderr",
     "output_type": "stream",
     "text": [
      "100%|████████████████████████████████████████████████████████████████████████████████████| 1/1 [00:00<00:00,  1.12it/s]\n"
     ]
    },
    {
     "name": "stdout",
     "output_type": "stream",
     "text": [
      "Iter 2 - Epoch 0 - Client Type: Benign - Client Number 17 - Poison Training False\n"
     ]
    },
    {
     "name": "stderr",
     "output_type": "stream",
     "text": [
      "100%|████████████████████████████████████████████████████████████████████████████████████| 2/2 [00:01<00:00,  1.30it/s]\n"
     ]
    },
    {
     "name": "stdout",
     "output_type": "stream",
     "text": [
      "Iter 2 - Epoch 0 - Client Type: Benign - Client Number 18 - Poison Training False\n"
     ]
    },
    {
     "name": "stderr",
     "output_type": "stream",
     "text": [
      "100%|████████████████████████████████████████████████████████████████████████████████████| 1/1 [00:01<00:00,  1.03s/it]\n"
     ]
    },
    {
     "name": "stdout",
     "output_type": "stream",
     "text": [
      "Iter 2 - Epoch 0 - Client Type: Benign - Client Number 19 - Poison Training False\n"
     ]
    },
    {
     "name": "stderr",
     "output_type": "stream",
     "text": [
      "100%|████████████████████████████████████████████████████████████████████████████████████| 2/2 [00:01<00:00,  1.67it/s]\n"
     ]
    },
    {
     "name": "stdout",
     "output_type": "stream",
     "text": [
      "\n",
      "\n",
      " Entering epoch 1\n",
      "Iter 2 - Epoch 0 - Client Type: Benign - Client Number 0 - Poison Training False\n"
     ]
    },
    {
     "name": "stderr",
     "output_type": "stream",
     "text": [
      "100%|████████████████████████████████████████████████████████████████████████████████████| 1/1 [00:00<00:00,  1.04it/s]\n"
     ]
    },
    {
     "name": "stdout",
     "output_type": "stream",
     "text": [
      "Iter 2 - Epoch 0 - Client Type: Benign - Client Number 1 - Poison Training False\n"
     ]
    },
    {
     "name": "stderr",
     "output_type": "stream",
     "text": [
      "100%|████████████████████████████████████████████████████████████████████████████████████| 1/1 [00:00<00:00,  1.29it/s]\n"
     ]
    },
    {
     "name": "stdout",
     "output_type": "stream",
     "text": [
      "Iter 2 - Epoch 0 - Client Type: Benign - Client Number 2 - Poison Training False\n"
     ]
    },
    {
     "name": "stderr",
     "output_type": "stream",
     "text": [
      "100%|████████████████████████████████████████████████████████████████████████████████████| 2/2 [00:01<00:00,  1.43it/s]\n"
     ]
    },
    {
     "name": "stdout",
     "output_type": "stream",
     "text": [
      "Iter 2 - Epoch 0 - Client Type: Benign - Client Number 3 - Poison Training False\n"
     ]
    },
    {
     "name": "stderr",
     "output_type": "stream",
     "text": [
      "100%|████████████████████████████████████████████████████████████████████████████████████| 1/1 [00:00<00:00,  1.08it/s]\n"
     ]
    },
    {
     "name": "stdout",
     "output_type": "stream",
     "text": [
      "Iter 2 - Epoch 0 - Client Type: Benign - Client Number 4 - Poison Training False\n"
     ]
    },
    {
     "name": "stderr",
     "output_type": "stream",
     "text": [
      "100%|████████████████████████████████████████████████████████████████████████████████████| 1/1 [00:00<00:00,  1.22it/s]\n"
     ]
    },
    {
     "name": "stdout",
     "output_type": "stream",
     "text": [
      "Iter 2 - Epoch 0 - Client Type: Benign - Client Number 5 - Poison Training False\n"
     ]
    },
    {
     "name": "stderr",
     "output_type": "stream",
     "text": [
      "100%|████████████████████████████████████████████████████████████████████████████████████| 1/1 [00:01<00:00,  1.01s/it]\n"
     ]
    },
    {
     "name": "stdout",
     "output_type": "stream",
     "text": [
      "Iter 2 - Epoch 0 - Client Type: Benign - Client Number 6 - Poison Training False\n"
     ]
    },
    {
     "name": "stderr",
     "output_type": "stream",
     "text": [
      "100%|████████████████████████████████████████████████████████████████████████████████████| 1/1 [00:00<00:00,  1.12it/s]\n"
     ]
    },
    {
     "name": "stdout",
     "output_type": "stream",
     "text": [
      "Iter 2 - Epoch 0 - Client Type: Benign - Client Number 7 - Poison Training False\n"
     ]
    },
    {
     "name": "stderr",
     "output_type": "stream",
     "text": [
      "100%|████████████████████████████████████████████████████████████████████████████████████| 1/1 [00:00<00:00,  1.04it/s]\n"
     ]
    },
    {
     "name": "stdout",
     "output_type": "stream",
     "text": [
      "Iter 2 - Epoch 0 - Client Type: Benign - Client Number 8 - Poison Training False\n"
     ]
    },
    {
     "name": "stderr",
     "output_type": "stream",
     "text": [
      "100%|████████████████████████████████████████████████████████████████████████████████████| 2/2 [00:01<00:00,  1.83it/s]\n"
     ]
    },
    {
     "name": "stdout",
     "output_type": "stream",
     "text": [
      "Iter 2 - Epoch 0 - Client Type: Benign - Client Number 9 - Poison Training False\n"
     ]
    },
    {
     "name": "stderr",
     "output_type": "stream",
     "text": [
      "100%|████████████████████████████████████████████████████████████████████████████████████| 1/1 [00:00<00:00,  1.00it/s]\n"
     ]
    },
    {
     "name": "stdout",
     "output_type": "stream",
     "text": [
      "Iter 2 - Epoch 0 - Client Type: Benign - Client Number 10 - Poison Training False\n"
     ]
    },
    {
     "name": "stderr",
     "output_type": "stream",
     "text": [
      "100%|████████████████████████████████████████████████████████████████████████████████████| 2/2 [00:01<00:00,  1.83it/s]\n"
     ]
    },
    {
     "name": "stdout",
     "output_type": "stream",
     "text": [
      "Iter 2 - Epoch 0 - Client Type: Benign - Client Number 11 - Poison Training False\n"
     ]
    },
    {
     "name": "stderr",
     "output_type": "stream",
     "text": [
      "100%|████████████████████████████████████████████████████████████████████████████████████| 2/2 [00:01<00:00,  1.83it/s]\n"
     ]
    },
    {
     "name": "stdout",
     "output_type": "stream",
     "text": [
      "Iter 2 - Epoch 0 - Client Type: Benign - Client Number 12 - Poison Training False\n"
     ]
    },
    {
     "name": "stderr",
     "output_type": "stream",
     "text": [
      "100%|████████████████████████████████████████████████████████████████████████████████████| 1/1 [00:00<00:00,  1.50it/s]\n"
     ]
    },
    {
     "name": "stdout",
     "output_type": "stream",
     "text": [
      "Iter 2 - Epoch 0 - Client Type: Benign - Client Number 13 - Poison Training False\n"
     ]
    },
    {
     "name": "stderr",
     "output_type": "stream",
     "text": [
      "100%|████████████████████████████████████████████████████████████████████████████████████| 2/2 [00:01<00:00,  1.78it/s]\n"
     ]
    },
    {
     "name": "stdout",
     "output_type": "stream",
     "text": [
      "Iter 2 - Epoch 0 - Client Type: Benign - Client Number 14 - Poison Training False\n"
     ]
    },
    {
     "name": "stderr",
     "output_type": "stream",
     "text": [
      "100%|████████████████████████████████████████████████████████████████████████████████████| 2/2 [00:01<00:00,  1.85it/s]\n"
     ]
    },
    {
     "name": "stdout",
     "output_type": "stream",
     "text": [
      "Iter 2 - Epoch 0 - Client Type: Benign - Client Number 15 - Poison Training False\n"
     ]
    },
    {
     "name": "stderr",
     "output_type": "stream",
     "text": [
      "100%|████████████████████████████████████████████████████████████████████████████████████| 1/1 [00:01<00:00,  1.02s/it]\n"
     ]
    },
    {
     "name": "stdout",
     "output_type": "stream",
     "text": [
      "Iter 2 - Epoch 0 - Client Type: Benign - Client Number 16 - Poison Training False\n"
     ]
    },
    {
     "name": "stderr",
     "output_type": "stream",
     "text": [
      "100%|████████████████████████████████████████████████████████████████████████████████████| 1/1 [00:00<00:00,  1.03it/s]\n"
     ]
    },
    {
     "name": "stdout",
     "output_type": "stream",
     "text": [
      "Iter 2 - Epoch 0 - Client Type: Benign - Client Number 17 - Poison Training False\n"
     ]
    },
    {
     "name": "stderr",
     "output_type": "stream",
     "text": [
      "100%|████████████████████████████████████████████████████████████████████████████████████| 2/2 [00:01<00:00,  1.30it/s]\n"
     ]
    },
    {
     "name": "stdout",
     "output_type": "stream",
     "text": [
      "Iter 2 - Epoch 0 - Client Type: Benign - Client Number 18 - Poison Training False\n"
     ]
    },
    {
     "name": "stderr",
     "output_type": "stream",
     "text": [
      "100%|████████████████████████████████████████████████████████████████████████████████████| 1/1 [00:01<00:00,  1.07s/it]\n"
     ]
    },
    {
     "name": "stdout",
     "output_type": "stream",
     "text": [
      "Iter 2 - Epoch 0 - Client Type: Benign - Client Number 19 - Poison Training False\n"
     ]
    },
    {
     "name": "stderr",
     "output_type": "stream",
     "text": [
      "100%|████████████████████████████████████████████████████████████████████████████████████| 2/2 [00:01<00:00,  1.56it/s]\n"
     ]
    },
    {
     "name": "stdout",
     "output_type": "stream",
     "text": [
      "\n",
      "\n",
      " Entering epoch 2\n",
      "Iter 2 - Epoch 0 - Client Type: Benign - Client Number 0 - Poison Training False\n"
     ]
    },
    {
     "name": "stderr",
     "output_type": "stream",
     "text": [
      "100%|████████████████████████████████████████████████████████████████████████████████████| 1/1 [00:01<00:00,  1.01s/it]\n"
     ]
    },
    {
     "name": "stdout",
     "output_type": "stream",
     "text": [
      "Iter 2 - Epoch 0 - Client Type: Benign - Client Number 1 - Poison Training False\n"
     ]
    },
    {
     "name": "stderr",
     "output_type": "stream",
     "text": [
      "100%|████████████████████████████████████████████████████████████████████████████████████| 1/1 [00:00<00:00,  1.23it/s]\n"
     ]
    },
    {
     "name": "stdout",
     "output_type": "stream",
     "text": [
      "Iter 2 - Epoch 0 - Client Type: Benign - Client Number 2 - Poison Training False\n"
     ]
    },
    {
     "name": "stderr",
     "output_type": "stream",
     "text": [
      "100%|████████████████████████████████████████████████████████████████████████████████████| 2/2 [00:01<00:00,  1.45it/s]\n"
     ]
    },
    {
     "name": "stdout",
     "output_type": "stream",
     "text": [
      "Iter 2 - Epoch 0 - Client Type: Benign - Client Number 3 - Poison Training False\n"
     ]
    },
    {
     "name": "stderr",
     "output_type": "stream",
     "text": [
      "100%|████████████████████████████████████████████████████████████████████████████████████| 1/1 [00:00<00:00,  1.06it/s]\n"
     ]
    },
    {
     "name": "stdout",
     "output_type": "stream",
     "text": [
      "Iter 2 - Epoch 0 - Client Type: Benign - Client Number 4 - Poison Training False\n"
     ]
    },
    {
     "name": "stderr",
     "output_type": "stream",
     "text": [
      "100%|████████████████████████████████████████████████████████████████████████████████████| 1/1 [00:00<00:00,  1.24it/s]\n"
     ]
    },
    {
     "name": "stdout",
     "output_type": "stream",
     "text": [
      "Iter 2 - Epoch 0 - Client Type: Benign - Client Number 5 - Poison Training False\n"
     ]
    },
    {
     "name": "stderr",
     "output_type": "stream",
     "text": [
      "100%|████████████████████████████████████████████████████████████████████████████████████| 1/1 [00:01<00:00,  1.01s/it]\n"
     ]
    },
    {
     "name": "stdout",
     "output_type": "stream",
     "text": [
      "Iter 2 - Epoch 0 - Client Type: Benign - Client Number 6 - Poison Training False\n"
     ]
    },
    {
     "name": "stderr",
     "output_type": "stream",
     "text": [
      "100%|████████████████████████████████████████████████████████████████████████████████████| 1/1 [00:00<00:00,  1.08it/s]\n"
     ]
    },
    {
     "name": "stdout",
     "output_type": "stream",
     "text": [
      "Iter 2 - Epoch 0 - Client Type: Benign - Client Number 7 - Poison Training False\n"
     ]
    },
    {
     "name": "stderr",
     "output_type": "stream",
     "text": [
      "100%|████████████████████████████████████████████████████████████████████████████████████| 1/1 [00:00<00:00,  1.07it/s]\n"
     ]
    },
    {
     "name": "stdout",
     "output_type": "stream",
     "text": [
      "Iter 2 - Epoch 0 - Client Type: Benign - Client Number 8 - Poison Training False\n"
     ]
    },
    {
     "name": "stderr",
     "output_type": "stream",
     "text": [
      "100%|████████████████████████████████████████████████████████████████████████████████████| 2/2 [00:01<00:00,  1.81it/s]\n"
     ]
    },
    {
     "name": "stdout",
     "output_type": "stream",
     "text": [
      "Iter 2 - Epoch 0 - Client Type: Benign - Client Number 9 - Poison Training False\n"
     ]
    },
    {
     "name": "stderr",
     "output_type": "stream",
     "text": [
      "100%|████████████████████████████████████████████████████████████████████████████████████| 1/1 [00:00<00:00,  1.08it/s]\n"
     ]
    },
    {
     "name": "stdout",
     "output_type": "stream",
     "text": [
      "Iter 2 - Epoch 0 - Client Type: Benign - Client Number 10 - Poison Training False\n"
     ]
    },
    {
     "name": "stderr",
     "output_type": "stream",
     "text": [
      "100%|████████████████████████████████████████████████████████████████████████████████████| 2/2 [00:01<00:00,  1.80it/s]\n"
     ]
    },
    {
     "name": "stdout",
     "output_type": "stream",
     "text": [
      "Iter 2 - Epoch 0 - Client Type: Benign - Client Number 11 - Poison Training False\n"
     ]
    },
    {
     "name": "stderr",
     "output_type": "stream",
     "text": [
      "100%|████████████████████████████████████████████████████████████████████████████████████| 2/2 [00:01<00:00,  1.80it/s]\n"
     ]
    },
    {
     "name": "stdout",
     "output_type": "stream",
     "text": [
      "Iter 2 - Epoch 0 - Client Type: Benign - Client Number 12 - Poison Training False\n"
     ]
    },
    {
     "name": "stderr",
     "output_type": "stream",
     "text": [
      "100%|████████████████████████████████████████████████████████████████████████████████████| 1/1 [00:00<00:00,  1.68it/s]\n"
     ]
    },
    {
     "name": "stdout",
     "output_type": "stream",
     "text": [
      "Iter 2 - Epoch 0 - Client Type: Benign - Client Number 13 - Poison Training False\n"
     ]
    },
    {
     "name": "stderr",
     "output_type": "stream",
     "text": [
      "100%|████████████████████████████████████████████████████████████████████████████████████| 2/2 [00:01<00:00,  1.86it/s]\n"
     ]
    },
    {
     "name": "stdout",
     "output_type": "stream",
     "text": [
      "Iter 2 - Epoch 0 - Client Type: Benign - Client Number 14 - Poison Training False\n"
     ]
    },
    {
     "name": "stderr",
     "output_type": "stream",
     "text": [
      "100%|████████████████████████████████████████████████████████████████████████████████████| 2/2 [00:01<00:00,  1.75it/s]\n"
     ]
    },
    {
     "name": "stdout",
     "output_type": "stream",
     "text": [
      "Iter 2 - Epoch 0 - Client Type: Benign - Client Number 15 - Poison Training False\n"
     ]
    },
    {
     "name": "stderr",
     "output_type": "stream",
     "text": [
      "100%|████████████████████████████████████████████████████████████████████████████████████| 1/1 [00:01<00:00,  1.01s/it]\n"
     ]
    },
    {
     "name": "stdout",
     "output_type": "stream",
     "text": [
      "Iter 2 - Epoch 0 - Client Type: Benign - Client Number 16 - Poison Training False\n"
     ]
    },
    {
     "name": "stderr",
     "output_type": "stream",
     "text": [
      "100%|████████████████████████████████████████████████████████████████████████████████████| 1/1 [00:00<00:00,  1.07it/s]\n"
     ]
    },
    {
     "name": "stdout",
     "output_type": "stream",
     "text": [
      "Iter 2 - Epoch 0 - Client Type: Benign - Client Number 17 - Poison Training False\n"
     ]
    },
    {
     "name": "stderr",
     "output_type": "stream",
     "text": [
      "100%|████████████████████████████████████████████████████████████████████████████████████| 2/2 [00:01<00:00,  1.27it/s]\n"
     ]
    },
    {
     "name": "stdout",
     "output_type": "stream",
     "text": [
      "Iter 2 - Epoch 0 - Client Type: Benign - Client Number 18 - Poison Training False\n"
     ]
    },
    {
     "name": "stderr",
     "output_type": "stream",
     "text": [
      "100%|████████████████████████████████████████████████████████████████████████████████████| 1/1 [00:00<00:00,  1.05it/s]\n"
     ]
    },
    {
     "name": "stdout",
     "output_type": "stream",
     "text": [
      "Iter 2 - Epoch 0 - Client Type: Benign - Client Number 19 - Poison Training False\n"
     ]
    },
    {
     "name": "stderr",
     "output_type": "stream",
     "text": [
      "100%|████████████████████████████████████████████████████████████████████████████████████| 2/2 [00:01<00:00,  1.65it/s]\n"
     ]
    },
    {
     "name": "stdout",
     "output_type": "stream",
     "text": [
      "\n",
      "\n",
      " Entering epoch 3\n",
      "Iter 2 - Epoch 0 - Client Type: Benign - Client Number 0 - Poison Training False\n"
     ]
    },
    {
     "name": "stderr",
     "output_type": "stream",
     "text": [
      "100%|████████████████████████████████████████████████████████████████████████████████████| 1/1 [00:00<00:00,  1.02it/s]\n"
     ]
    },
    {
     "name": "stdout",
     "output_type": "stream",
     "text": [
      "Iter 2 - Epoch 0 - Client Type: Benign - Client Number 1 - Poison Training False\n"
     ]
    },
    {
     "name": "stderr",
     "output_type": "stream",
     "text": [
      "100%|████████████████████████████████████████████████████████████████████████████████████| 1/1 [00:00<00:00,  1.25it/s]\n"
     ]
    },
    {
     "name": "stdout",
     "output_type": "stream",
     "text": [
      "Iter 2 - Epoch 0 - Client Type: Benign - Client Number 2 - Poison Training False\n"
     ]
    },
    {
     "name": "stderr",
     "output_type": "stream",
     "text": [
      "100%|████████████████████████████████████████████████████████████████████████████████████| 2/2 [00:01<00:00,  1.42it/s]\n"
     ]
    },
    {
     "name": "stdout",
     "output_type": "stream",
     "text": [
      "Iter 2 - Epoch 0 - Client Type: Benign - Client Number 3 - Poison Training False\n"
     ]
    },
    {
     "name": "stderr",
     "output_type": "stream",
     "text": [
      "100%|████████████████████████████████████████████████████████████████████████████████████| 1/1 [00:00<00:00,  1.08it/s]\n"
     ]
    },
    {
     "name": "stdout",
     "output_type": "stream",
     "text": [
      "Iter 2 - Epoch 0 - Client Type: Benign - Client Number 4 - Poison Training False\n"
     ]
    },
    {
     "name": "stderr",
     "output_type": "stream",
     "text": [
      "100%|████████████████████████████████████████████████████████████████████████████████████| 1/1 [00:00<00:00,  1.27it/s]\n"
     ]
    },
    {
     "name": "stdout",
     "output_type": "stream",
     "text": [
      "Iter 2 - Epoch 0 - Client Type: Benign - Client Number 5 - Poison Training False\n"
     ]
    },
    {
     "name": "stderr",
     "output_type": "stream",
     "text": [
      "100%|████████████████████████████████████████████████████████████████████████████████████| 1/1 [00:00<00:00,  1.01it/s]\n"
     ]
    },
    {
     "name": "stdout",
     "output_type": "stream",
     "text": [
      "Iter 2 - Epoch 0 - Client Type: Benign - Client Number 6 - Poison Training False\n"
     ]
    },
    {
     "name": "stderr",
     "output_type": "stream",
     "text": [
      "100%|████████████████████████████████████████████████████████████████████████████████████| 1/1 [00:00<00:00,  1.13it/s]\n"
     ]
    },
    {
     "name": "stdout",
     "output_type": "stream",
     "text": [
      "Iter 2 - Epoch 0 - Client Type: Benign - Client Number 7 - Poison Training False\n"
     ]
    },
    {
     "name": "stderr",
     "output_type": "stream",
     "text": [
      "100%|████████████████████████████████████████████████████████████████████████████████████| 1/1 [00:00<00:00,  1.08it/s]\n"
     ]
    },
    {
     "name": "stdout",
     "output_type": "stream",
     "text": [
      "Iter 2 - Epoch 0 - Client Type: Benign - Client Number 8 - Poison Training False\n"
     ]
    },
    {
     "name": "stderr",
     "output_type": "stream",
     "text": [
      "100%|████████████████████████████████████████████████████████████████████████████████████| 2/2 [00:01<00:00,  1.69it/s]\n"
     ]
    },
    {
     "name": "stdout",
     "output_type": "stream",
     "text": [
      "Iter 2 - Epoch 0 - Client Type: Benign - Client Number 9 - Poison Training False\n"
     ]
    },
    {
     "name": "stderr",
     "output_type": "stream",
     "text": [
      "100%|████████████████████████████████████████████████████████████████████████████████████| 1/1 [00:00<00:00,  1.00it/s]\n"
     ]
    },
    {
     "name": "stdout",
     "output_type": "stream",
     "text": [
      "Iter 2 - Epoch 0 - Client Type: Benign - Client Number 10 - Poison Training False\n"
     ]
    },
    {
     "name": "stderr",
     "output_type": "stream",
     "text": [
      "100%|████████████████████████████████████████████████████████████████████████████████████| 2/2 [00:01<00:00,  1.80it/s]\n"
     ]
    },
    {
     "name": "stdout",
     "output_type": "stream",
     "text": [
      "Iter 2 - Epoch 0 - Client Type: Benign - Client Number 11 - Poison Training False\n"
     ]
    },
    {
     "name": "stderr",
     "output_type": "stream",
     "text": [
      "100%|████████████████████████████████████████████████████████████████████████████████████| 2/2 [00:01<00:00,  1.81it/s]\n"
     ]
    },
    {
     "name": "stdout",
     "output_type": "stream",
     "text": [
      "Iter 2 - Epoch 0 - Client Type: Benign - Client Number 12 - Poison Training False\n"
     ]
    },
    {
     "name": "stderr",
     "output_type": "stream",
     "text": [
      "100%|████████████████████████████████████████████████████████████████████████████████████| 1/1 [00:00<00:00,  1.50it/s]\n"
     ]
    },
    {
     "name": "stdout",
     "output_type": "stream",
     "text": [
      "Iter 2 - Epoch 0 - Client Type: Benign - Client Number 13 - Poison Training False\n"
     ]
    },
    {
     "name": "stderr",
     "output_type": "stream",
     "text": [
      "100%|████████████████████████████████████████████████████████████████████████████████████| 2/2 [00:01<00:00,  1.96it/s]\n"
     ]
    },
    {
     "name": "stdout",
     "output_type": "stream",
     "text": [
      "Iter 2 - Epoch 0 - Client Type: Benign - Client Number 14 - Poison Training False\n"
     ]
    },
    {
     "name": "stderr",
     "output_type": "stream",
     "text": [
      "100%|████████████████████████████████████████████████████████████████████████████████████| 2/2 [00:01<00:00,  1.79it/s]\n"
     ]
    },
    {
     "name": "stdout",
     "output_type": "stream",
     "text": [
      "Iter 2 - Epoch 0 - Client Type: Benign - Client Number 15 - Poison Training False\n"
     ]
    },
    {
     "name": "stderr",
     "output_type": "stream",
     "text": [
      "100%|████████████████████████████████████████████████████████████████████████████████████| 1/1 [00:00<00:00,  1.05it/s]\n"
     ]
    },
    {
     "name": "stdout",
     "output_type": "stream",
     "text": [
      "Iter 2 - Epoch 0 - Client Type: Benign - Client Number 16 - Poison Training False\n"
     ]
    },
    {
     "name": "stderr",
     "output_type": "stream",
     "text": [
      "100%|████████████████████████████████████████████████████████████████████████████████████| 1/1 [00:00<00:00,  1.10it/s]\n"
     ]
    },
    {
     "name": "stdout",
     "output_type": "stream",
     "text": [
      "Iter 2 - Epoch 0 - Client Type: Benign - Client Number 17 - Poison Training False\n"
     ]
    },
    {
     "name": "stderr",
     "output_type": "stream",
     "text": [
      "100%|████████████████████████████████████████████████████████████████████████████████████| 2/2 [00:01<00:00,  1.26it/s]\n"
     ]
    },
    {
     "name": "stdout",
     "output_type": "stream",
     "text": [
      "Iter 2 - Epoch 0 - Client Type: Benign - Client Number 18 - Poison Training False\n"
     ]
    },
    {
     "name": "stderr",
     "output_type": "stream",
     "text": [
      "100%|████████████████████████████████████████████████████████████████████████████████████| 1/1 [00:00<00:00,  1.06it/s]\n"
     ]
    },
    {
     "name": "stdout",
     "output_type": "stream",
     "text": [
      "Iter 2 - Epoch 0 - Client Type: Benign - Client Number 19 - Poison Training False\n"
     ]
    },
    {
     "name": "stderr",
     "output_type": "stream",
     "text": [
      "100%|████████████████████████████████████████████████████████████████████████████████████| 2/2 [00:01<00:00,  1.61it/s]\n"
     ]
    },
    {
     "name": "stdout",
     "output_type": "stream",
     "text": [
      "\n",
      "\n",
      " Entering epoch 4\n",
      "Iter 2 - Epoch 0 - Client Type: Benign - Client Number 0 - Poison Training False\n"
     ]
    },
    {
     "name": "stderr",
     "output_type": "stream",
     "text": [
      "100%|████████████████████████████████████████████████████████████████████████████████████| 1/1 [00:00<00:00,  1.03it/s]\n"
     ]
    },
    {
     "name": "stdout",
     "output_type": "stream",
     "text": [
      "Iter 2 - Epoch 0 - Client Type: Benign - Client Number 1 - Poison Training False\n"
     ]
    },
    {
     "name": "stderr",
     "output_type": "stream",
     "text": [
      "100%|████████████████████████████████████████████████████████████████████████████████████| 1/1 [00:00<00:00,  1.28it/s]\n"
     ]
    },
    {
     "name": "stdout",
     "output_type": "stream",
     "text": [
      "Iter 2 - Epoch 0 - Client Type: Benign - Client Number 2 - Poison Training False\n"
     ]
    },
    {
     "name": "stderr",
     "output_type": "stream",
     "text": [
      "100%|████████████████████████████████████████████████████████████████████████████████████| 2/2 [00:01<00:00,  1.32it/s]\n"
     ]
    },
    {
     "name": "stdout",
     "output_type": "stream",
     "text": [
      "Iter 2 - Epoch 0 - Client Type: Benign - Client Number 3 - Poison Training False\n"
     ]
    },
    {
     "name": "stderr",
     "output_type": "stream",
     "text": [
      "100%|████████████████████████████████████████████████████████████████████████████████████| 1/1 [00:00<00:00,  1.13it/s]\n"
     ]
    },
    {
     "name": "stdout",
     "output_type": "stream",
     "text": [
      "Iter 2 - Epoch 0 - Client Type: Benign - Client Number 4 - Poison Training False\n"
     ]
    },
    {
     "name": "stderr",
     "output_type": "stream",
     "text": [
      "100%|████████████████████████████████████████████████████████████████████████████████████| 1/1 [00:00<00:00,  1.23it/s]\n"
     ]
    },
    {
     "name": "stdout",
     "output_type": "stream",
     "text": [
      "Iter 2 - Epoch 0 - Client Type: Benign - Client Number 5 - Poison Training False\n"
     ]
    },
    {
     "name": "stderr",
     "output_type": "stream",
     "text": [
      "100%|████████████████████████████████████████████████████████████████████████████████████| 1/1 [00:00<00:00,  1.03it/s]\n"
     ]
    },
    {
     "name": "stdout",
     "output_type": "stream",
     "text": [
      "Iter 2 - Epoch 0 - Client Type: Benign - Client Number 6 - Poison Training False\n"
     ]
    },
    {
     "name": "stderr",
     "output_type": "stream",
     "text": [
      "100%|████████████████████████████████████████████████████████████████████████████████████| 1/1 [00:00<00:00,  1.08it/s]\n"
     ]
    },
    {
     "name": "stdout",
     "output_type": "stream",
     "text": [
      "Iter 2 - Epoch 0 - Client Type: Benign - Client Number 7 - Poison Training False\n"
     ]
    },
    {
     "name": "stderr",
     "output_type": "stream",
     "text": [
      "100%|████████████████████████████████████████████████████████████████████████████████████| 1/1 [00:00<00:00,  1.07it/s]\n"
     ]
    },
    {
     "name": "stdout",
     "output_type": "stream",
     "text": [
      "Iter 2 - Epoch 0 - Client Type: Benign - Client Number 8 - Poison Training False\n"
     ]
    },
    {
     "name": "stderr",
     "output_type": "stream",
     "text": [
      "100%|████████████████████████████████████████████████████████████████████████████████████| 2/2 [00:01<00:00,  1.91it/s]\n"
     ]
    },
    {
     "name": "stdout",
     "output_type": "stream",
     "text": [
      "Iter 2 - Epoch 0 - Client Type: Benign - Client Number 9 - Poison Training False\n"
     ]
    },
    {
     "name": "stderr",
     "output_type": "stream",
     "text": [
      "100%|████████████████████████████████████████████████████████████████████████████████████| 1/1 [00:00<00:00,  1.07it/s]\n"
     ]
    },
    {
     "name": "stdout",
     "output_type": "stream",
     "text": [
      "Iter 2 - Epoch 0 - Client Type: Benign - Client Number 10 - Poison Training False\n"
     ]
    },
    {
     "name": "stderr",
     "output_type": "stream",
     "text": [
      "100%|████████████████████████████████████████████████████████████████████████████████████| 2/2 [00:01<00:00,  1.89it/s]\n"
     ]
    },
    {
     "name": "stdout",
     "output_type": "stream",
     "text": [
      "Iter 2 - Epoch 0 - Client Type: Benign - Client Number 11 - Poison Training False\n"
     ]
    },
    {
     "name": "stderr",
     "output_type": "stream",
     "text": [
      "100%|████████████████████████████████████████████████████████████████████████████████████| 2/2 [00:01<00:00,  1.88it/s]\n"
     ]
    },
    {
     "name": "stdout",
     "output_type": "stream",
     "text": [
      "Iter 2 - Epoch 0 - Client Type: Benign - Client Number 12 - Poison Training False\n"
     ]
    },
    {
     "name": "stderr",
     "output_type": "stream",
     "text": [
      "100%|████████████████████████████████████████████████████████████████████████████████████| 1/1 [00:00<00:00,  1.62it/s]\n"
     ]
    },
    {
     "name": "stdout",
     "output_type": "stream",
     "text": [
      "Iter 2 - Epoch 0 - Client Type: Benign - Client Number 13 - Poison Training False\n"
     ]
    },
    {
     "name": "stderr",
     "output_type": "stream",
     "text": [
      "100%|████████████████████████████████████████████████████████████████████████████████████| 2/2 [00:01<00:00,  1.85it/s]\n"
     ]
    },
    {
     "name": "stdout",
     "output_type": "stream",
     "text": [
      "Iter 2 - Epoch 0 - Client Type: Benign - Client Number 14 - Poison Training False\n"
     ]
    },
    {
     "name": "stderr",
     "output_type": "stream",
     "text": [
      "100%|████████████████████████████████████████████████████████████████████████████████████| 2/2 [00:01<00:00,  1.76it/s]\n"
     ]
    },
    {
     "name": "stdout",
     "output_type": "stream",
     "text": [
      "Iter 2 - Epoch 0 - Client Type: Benign - Client Number 15 - Poison Training False\n"
     ]
    },
    {
     "name": "stderr",
     "output_type": "stream",
     "text": [
      "100%|████████████████████████████████████████████████████████████████████████████████████| 1/1 [00:00<00:00,  1.04it/s]\n"
     ]
    },
    {
     "name": "stdout",
     "output_type": "stream",
     "text": [
      "Iter 2 - Epoch 0 - Client Type: Benign - Client Number 16 - Poison Training False\n"
     ]
    },
    {
     "name": "stderr",
     "output_type": "stream",
     "text": [
      "100%|████████████████████████████████████████████████████████████████████████████████████| 1/1 [00:00<00:00,  1.09it/s]\n"
     ]
    },
    {
     "name": "stdout",
     "output_type": "stream",
     "text": [
      "Iter 2 - Epoch 0 - Client Type: Benign - Client Number 17 - Poison Training False\n"
     ]
    },
    {
     "name": "stderr",
     "output_type": "stream",
     "text": [
      "100%|████████████████████████████████████████████████████████████████████████████████████| 2/2 [00:01<00:00,  1.35it/s]\n"
     ]
    },
    {
     "name": "stdout",
     "output_type": "stream",
     "text": [
      "Iter 2 - Epoch 0 - Client Type: Benign - Client Number 18 - Poison Training False\n"
     ]
    },
    {
     "name": "stderr",
     "output_type": "stream",
     "text": [
      "100%|████████████████████████████████████████████████████████████████████████████████████| 1/1 [00:00<00:00,  1.09it/s]\n"
     ]
    },
    {
     "name": "stdout",
     "output_type": "stream",
     "text": [
      "Iter 2 - Epoch 0 - Client Type: Benign - Client Number 19 - Poison Training False\n"
     ]
    },
    {
     "name": "stderr",
     "output_type": "stream",
     "text": [
      "100%|████████████████████████████████████████████████████████████████████████████████████| 2/2 [00:01<00:00,  1.63it/s]\n"
     ]
    },
    {
     "name": "stdout",
     "output_type": "stream",
     "text": [
      "Original Copylist [7, 2, 5, 3, 2, 7, 3, 7, 0, 7, 0, 0, 4, 0, 0, 7, 3, 1, 7, 6]\n",
      "Found clusters [3 2 7 4 2 3 4 3 1 3 1 1 3 0 0 3 4 6 3 5]\n",
      "Original groups [array([ 8, 10, 11, 13, 14], dtype=int64), array([17], dtype=int64), array([1, 4], dtype=int64), array([ 3,  6, 16], dtype=int64), array([12], dtype=int64), array([2], dtype=int64), array([19], dtype=int64), array([ 0,  5,  7,  9, 15, 18], dtype=int64)]\n",
      "Clustered groups [array([13, 14], dtype=int64), array([ 8, 10, 11], dtype=int64), array([1, 4], dtype=int64), array([ 0,  5,  7,  9, 12, 15, 18], dtype=int64), array([ 3,  6, 16], dtype=int64), array([19], dtype=int64), array([17], dtype=int64), array([2], dtype=int64)]\n",
      "Clustering score 0.7558363675305204\n",
      "3\n",
      "[[1.00000636 0.24152025 0.60272775 0.43462192 0.23421084 0.99457683\n",
      "  0.46433996 0.96974516 0.47626498 0.9407196  0.37396073 0.51764675\n",
      "  0.60982759 0.65466315 0.48842072 0.96357149 0.46106471 0.58896418\n",
      "  0.98115017 0.35146738]\n",
      " [0.24152024 1.00001025 0.27784331 0.54884122 0.99711025 0.24881957\n",
      "  0.54084095 0.24904491 0.45090318 0.26282792 0.40867529 0.42517894\n",
      "  0.28787592 0.31364938 0.38843171 0.24757382 0.54370975 0.31786815\n",
      "  0.23709083 0.47390672]\n",
      " [0.60272775 0.2778433  1.0000064  0.35892032 0.27681383 0.60349402\n",
      "  0.38074825 0.57131159 0.50402288 0.54867944 0.48871827 0.54619035\n",
      "  0.46069025 0.64240427 0.56714553 0.55947709 0.37349478 0.71298234\n",
      "  0.6050487  0.4257709 ]\n",
      " [0.43462192 0.54884121 0.35892032 1.00000461 0.54076369 0.44367152\n",
      "  0.99022386 0.42052942 0.57562409 0.42781457 0.51569768 0.52358763\n",
      "  0.41857115 0.50953365 0.46496169 0.41307845 0.99177365 0.39460069\n",
      "  0.44179328 0.53135978]\n",
      " [0.23421084 0.99711023 0.27681384 0.54076369 1.00000978 0.24216708\n",
      "  0.52997173 0.24082464 0.44603761 0.25421093 0.40857746 0.42277726\n",
      "  0.2823436  0.30718894 0.38521422 0.23940973 0.53438208 0.31623868\n",
      "  0.22988266 0.47812362]\n",
      " [0.99457685 0.24881957 0.60349402 0.44367156 0.24216708 1.00000374\n",
      "  0.47104135 0.9652339  0.47623627 0.9365897  0.37586617 0.51551109\n",
      "  0.61714817 0.65032917 0.48849656 0.95971117 0.46902972 0.59205338\n",
      "  0.97936219 0.35603461]\n",
      " [0.46433996 0.54084097 0.38074824 0.99022386 0.52997172 0.47104136\n",
      "  1.00000799 0.45214687 0.58687369 0.45905563 0.52422439 0.5463677\n",
      "  0.42392919 0.52691637 0.47660552 0.44265079 0.99404488 0.40901037\n",
      "  0.47379992 0.52156073]\n",
      " [0.96974514 0.24904491 0.57131157 0.42052941 0.24082464 0.96523392\n",
      "  0.45214687 1.00000417 0.49335254 0.98808273 0.38024026 0.52906772\n",
      "  0.60064762 0.65176139 0.49244302 0.99150966 0.4455948  0.57158462\n",
      "  0.9404043  0.36674375]\n",
      " [0.47626499 0.4509032  0.50402288 0.57562411 0.44603763 0.47623627\n",
      "  0.58687371 0.49335254 1.00000532 0.50196161 0.76776008 0.77948056\n",
      "  0.43247769 0.8047329  0.69578632 0.48776586 0.58826989 0.58713762\n",
      "  0.47016467 0.49323866]\n",
      " [0.94071956 0.26282793 0.54867945 0.42781458 0.25421094 0.93658972\n",
      "  0.45905561 0.98808275 0.50196161 1.00000521 0.38422046 0.53208889\n",
      "  0.59269289 0.64425168 0.49535606 0.98549052 0.45163521 0.55747033\n",
      "  0.90968976 0.36788092]\n",
      " [0.37396073 0.40867528 0.48871827 0.51569767 0.40857747 0.37586617\n",
      "  0.52422438 0.38024026 0.76776006 0.38422046 1.00000362 0.75962987\n",
      "  0.3133297  0.64734034 0.6071225  0.37052781 0.52535183 0.53874247\n",
      "  0.37541518 0.48153222]\n",
      " [0.51764675 0.42517894 0.54619034 0.52358761 0.42277725 0.5155111\n",
      "  0.54636771 0.52906774 0.77948058 0.5320889  0.75962983 1.00000548\n",
      "  0.40450531 0.7670657  0.65896064 0.52020948 0.54605456 0.59703583\n",
      "  0.51223754 0.45523941]\n",
      " [0.6098276  0.28787591 0.46069026 0.41857116 0.28234362 0.61714819\n",
      "  0.42392918 0.60064761 0.43247767 0.59269287 0.3133297  0.40450535\n",
      "  1.00000616 0.53720366 0.47166796 0.60723807 0.41339125 0.48710913\n",
      "  0.59794473 0.40953984]\n",
      " [0.65466313 0.31364938 0.64240425 0.50953368 0.30718895 0.65032915\n",
      "  0.52691638 0.65176137 0.80473292 0.64425168 0.64734034 0.76706568\n",
      "  0.53720366 1.00000113 0.76273437 0.64524464 0.52206985 0.62611653\n",
      "  0.64669061 0.49829642]\n",
      " [0.48842073 0.38843169 0.56714553 0.46496169 0.3852142  0.48849654\n",
      "  0.47660553 0.492443   0.6957863  0.49535606 0.60712248 0.65896064\n",
      "  0.47166796 0.76273437 1.00000318 0.48594271 0.47195829 0.55554641\n",
      "  0.48569682 0.51708299]\n",
      " [0.96357155 0.24757383 0.55947707 0.41307845 0.23940973 0.95971119\n",
      "  0.44265079 0.99150968 0.48776589 0.98549054 0.37052781 0.52020949\n",
      "  0.60723807 0.64524462 0.48594273 1.00000381 0.43719155 0.56611713\n",
      "  0.92246117 0.36198917]\n",
      " [0.46106472 0.54370975 0.3734948  0.99177363 0.53438206 0.46902972\n",
      "  0.99404484 0.4455948  0.58826985 0.45163519 0.52535183 0.54605457\n",
      "  0.41339124 0.52206987 0.47195829 0.43719156 1.00000644 0.40555201\n",
      "  0.46887696 0.51384455]\n",
      " [0.5889642  0.31786817 0.71298234 0.3946007  0.31623868 0.59205339\n",
      "  0.40901038 0.57158463 0.58713762 0.55747036 0.53874249 0.59703583\n",
      "  0.48710911 0.62611655 0.5555464  0.56611711 0.40555201 1.0000031\n",
      "  0.57864098 0.37912972]\n",
      " [0.98115019 0.23709083 0.60504873 0.44179327 0.22988267 0.97936221\n",
      "  0.47379992 0.94040432 0.47016467 0.90968978 0.37541518 0.51223757\n",
      "  0.59794473 0.64669059 0.48569682 0.92246119 0.46887695 0.57864095\n",
      "  1.00000342 0.34229059]\n",
      " [0.35146736 0.4739067  0.42577091 0.53135977 0.47812364 0.35603463\n",
      "  0.52156074 0.36674375 0.49323866 0.36788092 0.48153222 0.45523939\n",
      "  0.40953982 0.49829643 0.51708298 0.36198918 0.51384453 0.37912973\n",
      "  0.34229058 1.00000683]]\n",
      "Original Copylist [7, 2, 5, 3, 2, 7, 3, 7, 0, 7, 0, 0, 4, 0, 0, 7, 3, 1, 7, 6]\n",
      "Found clusters [4 5 1 2 5 4 2 4 0 4 7 0 6 0 0 4 2 1 4 3]\n",
      "Original groups [array([ 8, 10, 11, 13, 14], dtype=int64), array([17], dtype=int64), array([1, 4], dtype=int64), array([ 3,  6, 16], dtype=int64), array([12], dtype=int64), array([2], dtype=int64), array([19], dtype=int64), array([ 0,  5,  7,  9, 15, 18], dtype=int64)]\n",
      "Clustered groups [array([ 8, 11, 13, 14], dtype=int64), array([ 2, 17], dtype=int64), array([ 3,  6, 16], dtype=int64), array([19], dtype=int64), array([ 0,  5,  7,  9, 15, 18], dtype=int64), array([1, 4], dtype=int64), array([12], dtype=int64), array([10], dtype=int64)]\n",
      "Clustering score 0.8937597852829344\n",
      "Benign net distance [tensor(59.0457), tensor(59.8180), tensor(59.6600), tensor(48.9160), tensor(59.7404), tensor(58.8406), tensor(48.6608), tensor(58.7138), tensor(44.7119), tensor(58.3678), tensor(51.6630), tensor(56.4834), tensor(62.2569), tensor(51.9318), tensor(51.9103), tensor(59.0673), tensor(48.6955), tensor(63.5471), tensor(58.3493), tensor(0.)]\n",
      "Malicious net distance []\n",
      "cos_sim list  [tensor(0.5143), tensor(0.5186), tensor(0.5212), tensor(0.6458), tensor(0.5187), tensor(0.5168), tensor(0.6617), tensor(0.5169), tensor(0.6563), tensor(0.5168), tensor(0.5595), tensor(0.5236), tensor(0.4683), tensor(0.6299), tensor(0.6348), tensor(0.5160), tensor(0.6555), tensor(0.3828), tensor(0.5256), tensor(1.0000)]\n",
      "Norms of local gradients  [tensor(0.4989), tensor(0.6350), tensor(0.7032), tensor(0.4439), tensor(0.6346), tensor(0.4945), tensor(0.4446), tensor(0.4938), tensor(0.6065), tensor(0.4915), tensor(0.6435), tensor(0.7773), tensor(0.5450), tensor(0.6638), tensor(0.7008), tensor(0.5043), tensor(0.4441), tensor(0.7121), tensor(0.4961), tensor(0.6594)]\n",
      "\n",
      " Aggregating models\n",
      "Cosine Similarities:  [tensor(0.5143), tensor(0.5186), tensor(0.5212), tensor(0.6458), tensor(0.5187), tensor(0.5168), tensor(0.6617), tensor(0.5169), tensor(0.6563), tensor(0.5168), tensor(0.5595), tensor(0.5236), tensor(0.4683), tensor(0.6299), tensor(0.6348), tensor(0.5160), tensor(0.6555), tensor(0.3828), tensor(0.5256), tensor(1.0000)]\n",
      "Aggregation Weights:  [0.05918545 0.04689096 0.04256138 0.08352897 0.04693208 0.06000661\n",
      " 0.08544894 0.06011049 0.06214187 0.06038552 0.04992304 0.03867922\n",
      " 0.04934098 0.05448844 0.05201084 0.05874985 0.0847555  0.03086836\n",
      " 0.0608406  0.08708601]\n",
      "\n",
      "\n",
      "\n",
      "Aggregate test at iter  2\n"
     ]
    },
    {
     "name": "stderr",
     "output_type": "stream",
     "text": [
      "100%|██████████████████████████████████████████████████████████████████████████████████| 10/10 [00:02<00:00,  4.70it/s]\n"
     ]
    },
    {
     "name": "stdout",
     "output_type": "stream",
     "text": [
      "\n",
      "Test set: Avg. loss: 0.0010, Accuracy: 6628/10000 (66%)\n",
      "\n",
      "\n",
      "\n",
      " Entering epoch 0\n",
      "Iter 3 - Epoch 0 - Client Type: Benign - Client Number 0 - Poison Training False\n"
     ]
    },
    {
     "name": "stderr",
     "output_type": "stream",
     "text": [
      "100%|████████████████████████████████████████████████████████████████████████████████████| 1/1 [00:00<00:00,  1.03it/s]\n"
     ]
    },
    {
     "name": "stdout",
     "output_type": "stream",
     "text": [
      "Iter 3 - Epoch 0 - Client Type: Benign - Client Number 1 - Poison Training False\n"
     ]
    },
    {
     "name": "stderr",
     "output_type": "stream",
     "text": [
      "100%|████████████████████████████████████████████████████████████████████████████████████| 1/1 [00:00<00:00,  1.22it/s]\n"
     ]
    },
    {
     "name": "stdout",
     "output_type": "stream",
     "text": [
      "Iter 3 - Epoch 0 - Client Type: Benign - Client Number 2 - Poison Training False\n"
     ]
    },
    {
     "name": "stderr",
     "output_type": "stream",
     "text": [
      "100%|████████████████████████████████████████████████████████████████████████████████████| 2/2 [00:01<00:00,  1.43it/s]\n"
     ]
    },
    {
     "name": "stdout",
     "output_type": "stream",
     "text": [
      "Iter 3 - Epoch 0 - Client Type: Benign - Client Number 3 - Poison Training False\n"
     ]
    },
    {
     "name": "stderr",
     "output_type": "stream",
     "text": [
      "100%|████████████████████████████████████████████████████████████████████████████████████| 1/1 [00:01<00:00,  1.08s/it]\n"
     ]
    },
    {
     "name": "stdout",
     "output_type": "stream",
     "text": [
      "Iter 3 - Epoch 0 - Client Type: Benign - Client Number 4 - Poison Training False\n"
     ]
    },
    {
     "name": "stderr",
     "output_type": "stream",
     "text": [
      "100%|████████████████████████████████████████████████████████████████████████████████████| 1/1 [00:00<00:00,  1.11it/s]\n"
     ]
    },
    {
     "name": "stdout",
     "output_type": "stream",
     "text": [
      "Iter 3 - Epoch 0 - Client Type: Benign - Client Number 5 - Poison Training False\n"
     ]
    },
    {
     "name": "stderr",
     "output_type": "stream",
     "text": [
      "100%|████████████████████████████████████████████████████████████████████████████████████| 1/1 [00:00<00:00,  1.01it/s]\n"
     ]
    },
    {
     "name": "stdout",
     "output_type": "stream",
     "text": [
      "Iter 3 - Epoch 0 - Client Type: Benign - Client Number 6 - Poison Training False\n"
     ]
    },
    {
     "name": "stderr",
     "output_type": "stream",
     "text": [
      "100%|████████████████████████████████████████████████████████████████████████████████████| 1/1 [00:00<00:00,  1.15it/s]\n"
     ]
    },
    {
     "name": "stdout",
     "output_type": "stream",
     "text": [
      "Iter 3 - Epoch 0 - Client Type: Benign - Client Number 7 - Poison Training False\n"
     ]
    },
    {
     "name": "stderr",
     "output_type": "stream",
     "text": [
      "100%|████████████████████████████████████████████████████████████████████████████████████| 1/1 [00:01<00:00,  1.01s/it]\n"
     ]
    },
    {
     "name": "stdout",
     "output_type": "stream",
     "text": [
      "Iter 3 - Epoch 0 - Client Type: Benign - Client Number 8 - Poison Training False\n"
     ]
    },
    {
     "name": "stderr",
     "output_type": "stream",
     "text": [
      "100%|████████████████████████████████████████████████████████████████████████████████████| 2/2 [00:01<00:00,  1.85it/s]\n"
     ]
    },
    {
     "name": "stdout",
     "output_type": "stream",
     "text": [
      "Iter 3 - Epoch 0 - Client Type: Benign - Client Number 9 - Poison Training False\n"
     ]
    },
    {
     "name": "stderr",
     "output_type": "stream",
     "text": [
      "100%|████████████████████████████████████████████████████████████████████████████████████| 1/1 [00:00<00:00,  1.05it/s]\n"
     ]
    },
    {
     "name": "stdout",
     "output_type": "stream",
     "text": [
      "Iter 3 - Epoch 0 - Client Type: Benign - Client Number 10 - Poison Training False\n"
     ]
    },
    {
     "name": "stderr",
     "output_type": "stream",
     "text": [
      "100%|████████████████████████████████████████████████████████████████████████████████████| 2/2 [00:01<00:00,  1.89it/s]\n"
     ]
    },
    {
     "name": "stdout",
     "output_type": "stream",
     "text": [
      "Iter 3 - Epoch 0 - Client Type: Benign - Client Number 11 - Poison Training False\n"
     ]
    },
    {
     "name": "stderr",
     "output_type": "stream",
     "text": [
      "100%|████████████████████████████████████████████████████████████████████████████████████| 2/2 [00:01<00:00,  1.71it/s]\n"
     ]
    },
    {
     "name": "stdout",
     "output_type": "stream",
     "text": [
      "Iter 3 - Epoch 0 - Client Type: Benign - Client Number 12 - Poison Training False\n"
     ]
    },
    {
     "name": "stderr",
     "output_type": "stream",
     "text": [
      "100%|████████████████████████████████████████████████████████████████████████████████████| 1/1 [00:00<00:00,  1.66it/s]\n"
     ]
    },
    {
     "name": "stdout",
     "output_type": "stream",
     "text": [
      "Iter 3 - Epoch 0 - Client Type: Benign - Client Number 13 - Poison Training False\n"
     ]
    },
    {
     "name": "stderr",
     "output_type": "stream",
     "text": [
      "100%|████████████████████████████████████████████████████████████████████████████████████| 2/2 [00:01<00:00,  1.71it/s]\n"
     ]
    },
    {
     "name": "stdout",
     "output_type": "stream",
     "text": [
      "Iter 3 - Epoch 0 - Client Type: Benign - Client Number 14 - Poison Training False\n"
     ]
    },
    {
     "name": "stderr",
     "output_type": "stream",
     "text": [
      "100%|████████████████████████████████████████████████████████████████████████████████████| 2/2 [00:01<00:00,  1.91it/s]\n"
     ]
    },
    {
     "name": "stdout",
     "output_type": "stream",
     "text": [
      "Iter 3 - Epoch 0 - Client Type: Benign - Client Number 15 - Poison Training False\n"
     ]
    },
    {
     "name": "stderr",
     "output_type": "stream",
     "text": [
      "100%|████████████████████████████████████████████████████████████████████████████████████| 1/1 [00:00<00:00,  1.06it/s]\n"
     ]
    },
    {
     "name": "stdout",
     "output_type": "stream",
     "text": [
      "Iter 3 - Epoch 0 - Client Type: Benign - Client Number 16 - Poison Training False\n"
     ]
    },
    {
     "name": "stderr",
     "output_type": "stream",
     "text": [
      "100%|████████████████████████████████████████████████████████████████████████████████████| 1/1 [00:00<00:00,  1.11it/s]\n"
     ]
    },
    {
     "name": "stdout",
     "output_type": "stream",
     "text": [
      "Iter 3 - Epoch 0 - Client Type: Benign - Client Number 17 - Poison Training False\n"
     ]
    },
    {
     "name": "stderr",
     "output_type": "stream",
     "text": [
      "100%|████████████████████████████████████████████████████████████████████████████████████| 2/2 [00:01<00:00,  1.37it/s]\n"
     ]
    },
    {
     "name": "stdout",
     "output_type": "stream",
     "text": [
      "Iter 3 - Epoch 0 - Client Type: Benign - Client Number 18 - Poison Training False\n"
     ]
    },
    {
     "name": "stderr",
     "output_type": "stream",
     "text": [
      "100%|████████████████████████████████████████████████████████████████████████████████████| 1/1 [00:00<00:00,  1.02it/s]\n"
     ]
    },
    {
     "name": "stdout",
     "output_type": "stream",
     "text": [
      "Iter 3 - Epoch 0 - Client Type: Benign - Client Number 19 - Poison Training False\n"
     ]
    },
    {
     "name": "stderr",
     "output_type": "stream",
     "text": [
      "100%|████████████████████████████████████████████████████████████████████████████████████| 2/2 [00:01<00:00,  1.72it/s]\n"
     ]
    },
    {
     "name": "stdout",
     "output_type": "stream",
     "text": [
      "\n",
      "\n",
      " Entering epoch 1\n",
      "Iter 3 - Epoch 0 - Client Type: Benign - Client Number 0 - Poison Training False\n"
     ]
    },
    {
     "name": "stderr",
     "output_type": "stream",
     "text": [
      "100%|████████████████████████████████████████████████████████████████████████████████████| 1/1 [00:00<00:00,  1.07it/s]\n"
     ]
    },
    {
     "name": "stdout",
     "output_type": "stream",
     "text": [
      "Iter 3 - Epoch 0 - Client Type: Benign - Client Number 1 - Poison Training False\n"
     ]
    },
    {
     "name": "stderr",
     "output_type": "stream",
     "text": [
      "100%|████████████████████████████████████████████████████████████████████████████████████| 1/1 [00:00<00:00,  1.22it/s]\n"
     ]
    },
    {
     "name": "stdout",
     "output_type": "stream",
     "text": [
      "Iter 3 - Epoch 0 - Client Type: Benign - Client Number 2 - Poison Training False\n"
     ]
    },
    {
     "name": "stderr",
     "output_type": "stream",
     "text": [
      "100%|████████████████████████████████████████████████████████████████████████████████████| 2/2 [00:01<00:00,  1.48it/s]\n"
     ]
    },
    {
     "name": "stdout",
     "output_type": "stream",
     "text": [
      "Iter 3 - Epoch 0 - Client Type: Benign - Client Number 3 - Poison Training False\n"
     ]
    },
    {
     "name": "stderr",
     "output_type": "stream",
     "text": [
      "100%|████████████████████████████████████████████████████████████████████████████████████| 1/1 [00:00<00:00,  1.09it/s]\n"
     ]
    },
    {
     "name": "stdout",
     "output_type": "stream",
     "text": [
      "Iter 3 - Epoch 0 - Client Type: Benign - Client Number 4 - Poison Training False\n"
     ]
    },
    {
     "name": "stderr",
     "output_type": "stream",
     "text": [
      "100%|████████████████████████████████████████████████████████████████████████████████████| 1/1 [00:00<00:00,  1.30it/s]\n"
     ]
    },
    {
     "name": "stdout",
     "output_type": "stream",
     "text": [
      "Iter 3 - Epoch 0 - Client Type: Benign - Client Number 5 - Poison Training False\n"
     ]
    },
    {
     "name": "stderr",
     "output_type": "stream",
     "text": [
      "100%|████████████████████████████████████████████████████████████████████████████████████| 1/1 [00:00<00:00,  1.04it/s]\n"
     ]
    },
    {
     "name": "stdout",
     "output_type": "stream",
     "text": [
      "Iter 3 - Epoch 0 - Client Type: Benign - Client Number 6 - Poison Training False\n"
     ]
    },
    {
     "name": "stderr",
     "output_type": "stream",
     "text": [
      "100%|████████████████████████████████████████████████████████████████████████████████████| 1/1 [00:00<00:00,  1.06it/s]\n"
     ]
    },
    {
     "name": "stdout",
     "output_type": "stream",
     "text": [
      "Iter 3 - Epoch 0 - Client Type: Benign - Client Number 7 - Poison Training False\n"
     ]
    },
    {
     "name": "stderr",
     "output_type": "stream",
     "text": [
      "100%|████████████████████████████████████████████████████████████████████████████████████| 1/1 [00:00<00:00,  1.05it/s]\n"
     ]
    },
    {
     "name": "stdout",
     "output_type": "stream",
     "text": [
      "Iter 3 - Epoch 0 - Client Type: Benign - Client Number 8 - Poison Training False\n"
     ]
    },
    {
     "name": "stderr",
     "output_type": "stream",
     "text": [
      "100%|████████████████████████████████████████████████████████████████████████████████████| 2/2 [00:01<00:00,  1.83it/s]\n"
     ]
    },
    {
     "name": "stdout",
     "output_type": "stream",
     "text": [
      "Iter 3 - Epoch 0 - Client Type: Benign - Client Number 9 - Poison Training False\n"
     ]
    },
    {
     "name": "stderr",
     "output_type": "stream",
     "text": [
      "100%|████████████████████████████████████████████████████████████████████████████████████| 1/1 [00:01<00:00,  1.04s/it]\n"
     ]
    },
    {
     "name": "stdout",
     "output_type": "stream",
     "text": [
      "Iter 3 - Epoch 0 - Client Type: Benign - Client Number 10 - Poison Training False\n"
     ]
    },
    {
     "name": "stderr",
     "output_type": "stream",
     "text": [
      "100%|████████████████████████████████████████████████████████████████████████████████████| 2/2 [00:01<00:00,  1.36it/s]\n"
     ]
    },
    {
     "name": "stdout",
     "output_type": "stream",
     "text": [
      "Iter 3 - Epoch 0 - Client Type: Benign - Client Number 11 - Poison Training False\n"
     ]
    },
    {
     "name": "stderr",
     "output_type": "stream",
     "text": [
      "100%|████████████████████████████████████████████████████████████████████████████████████| 2/2 [00:01<00:00,  1.72it/s]\n"
     ]
    },
    {
     "name": "stdout",
     "output_type": "stream",
     "text": [
      "Iter 3 - Epoch 0 - Client Type: Benign - Client Number 12 - Poison Training False\n"
     ]
    },
    {
     "name": "stderr",
     "output_type": "stream",
     "text": [
      "100%|████████████████████████████████████████████████████████████████████████████████████| 1/1 [00:00<00:00,  1.36it/s]\n"
     ]
    },
    {
     "name": "stdout",
     "output_type": "stream",
     "text": [
      "Iter 3 - Epoch 0 - Client Type: Benign - Client Number 13 - Poison Training False\n"
     ]
    },
    {
     "name": "stderr",
     "output_type": "stream",
     "text": [
      "100%|████████████████████████████████████████████████████████████████████████████████████| 2/2 [00:01<00:00,  1.63it/s]\n"
     ]
    },
    {
     "name": "stdout",
     "output_type": "stream",
     "text": [
      "Iter 3 - Epoch 0 - Client Type: Benign - Client Number 14 - Poison Training False\n"
     ]
    },
    {
     "name": "stderr",
     "output_type": "stream",
     "text": [
      "100%|████████████████████████████████████████████████████████████████████████████████████| 2/2 [00:01<00:00,  1.60it/s]\n"
     ]
    },
    {
     "name": "stdout",
     "output_type": "stream",
     "text": [
      "Iter 3 - Epoch 0 - Client Type: Benign - Client Number 15 - Poison Training False\n"
     ]
    },
    {
     "name": "stderr",
     "output_type": "stream",
     "text": [
      "100%|████████████████████████████████████████████████████████████████████████████████████| 1/1 [00:01<00:00,  1.07s/it]\n"
     ]
    },
    {
     "name": "stdout",
     "output_type": "stream",
     "text": [
      "Iter 3 - Epoch 0 - Client Type: Benign - Client Number 16 - Poison Training False\n"
     ]
    },
    {
     "name": "stderr",
     "output_type": "stream",
     "text": [
      "100%|████████████████████████████████████████████████████████████████████████████████████| 1/1 [00:01<00:00,  1.02s/it]\n"
     ]
    },
    {
     "name": "stdout",
     "output_type": "stream",
     "text": [
      "Iter 3 - Epoch 0 - Client Type: Benign - Client Number 17 - Poison Training False\n"
     ]
    },
    {
     "name": "stderr",
     "output_type": "stream",
     "text": [
      "100%|████████████████████████████████████████████████████████████████████████████████████| 2/2 [00:01<00:00,  1.22it/s]\n"
     ]
    },
    {
     "name": "stdout",
     "output_type": "stream",
     "text": [
      "Iter 3 - Epoch 0 - Client Type: Benign - Client Number 18 - Poison Training False\n"
     ]
    },
    {
     "name": "stderr",
     "output_type": "stream",
     "text": [
      "100%|████████████████████████████████████████████████████████████████████████████████████| 1/1 [00:01<00:00,  1.05s/it]\n"
     ]
    },
    {
     "name": "stdout",
     "output_type": "stream",
     "text": [
      "Iter 3 - Epoch 0 - Client Type: Benign - Client Number 19 - Poison Training False\n"
     ]
    },
    {
     "name": "stderr",
     "output_type": "stream",
     "text": [
      "100%|████████████████████████████████████████████████████████████████████████████████████| 2/2 [00:01<00:00,  1.41it/s]\n"
     ]
    },
    {
     "name": "stdout",
     "output_type": "stream",
     "text": [
      "\n",
      "\n",
      " Entering epoch 2\n",
      "Iter 3 - Epoch 0 - Client Type: Benign - Client Number 0 - Poison Training False\n"
     ]
    },
    {
     "name": "stderr",
     "output_type": "stream",
     "text": [
      "100%|████████████████████████████████████████████████████████████████████████████████████| 1/1 [00:01<00:00,  1.12s/it]\n"
     ]
    },
    {
     "name": "stdout",
     "output_type": "stream",
     "text": [
      "Iter 3 - Epoch 0 - Client Type: Benign - Client Number 1 - Poison Training False\n"
     ]
    },
    {
     "name": "stderr",
     "output_type": "stream",
     "text": [
      "100%|████████████████████████████████████████████████████████████████████████████████████| 1/1 [00:00<00:00,  1.04it/s]\n"
     ]
    },
    {
     "name": "stdout",
     "output_type": "stream",
     "text": [
      "Iter 3 - Epoch 0 - Client Type: Benign - Client Number 2 - Poison Training False\n"
     ]
    },
    {
     "name": "stderr",
     "output_type": "stream",
     "text": [
      "100%|████████████████████████████████████████████████████████████████████████████████████| 2/2 [00:01<00:00,  1.31it/s]\n"
     ]
    },
    {
     "name": "stdout",
     "output_type": "stream",
     "text": [
      "Iter 3 - Epoch 0 - Client Type: Benign - Client Number 3 - Poison Training False\n"
     ]
    },
    {
     "name": "stderr",
     "output_type": "stream",
     "text": [
      "100%|████████████████████████████████████████████████████████████████████████████████████| 1/1 [00:01<00:00,  1.08s/it]\n"
     ]
    },
    {
     "name": "stdout",
     "output_type": "stream",
     "text": [
      "Iter 3 - Epoch 0 - Client Type: Benign - Client Number 4 - Poison Training False\n"
     ]
    },
    {
     "name": "stderr",
     "output_type": "stream",
     "text": [
      "100%|████████████████████████████████████████████████████████████████████████████████████| 1/1 [00:00<00:00,  1.23it/s]\n"
     ]
    },
    {
     "name": "stdout",
     "output_type": "stream",
     "text": [
      "Iter 3 - Epoch 0 - Client Type: Benign - Client Number 5 - Poison Training False\n"
     ]
    },
    {
     "name": "stderr",
     "output_type": "stream",
     "text": [
      "100%|████████████████████████████████████████████████████████████████████████████████████| 1/1 [00:01<00:00,  1.06s/it]\n"
     ]
    },
    {
     "name": "stdout",
     "output_type": "stream",
     "text": [
      "Iter 3 - Epoch 0 - Client Type: Benign - Client Number 6 - Poison Training False\n"
     ]
    },
    {
     "name": "stderr",
     "output_type": "stream",
     "text": [
      "100%|████████████████████████████████████████████████████████████████████████████████████| 1/1 [00:00<00:00,  1.00it/s]\n"
     ]
    },
    {
     "name": "stdout",
     "output_type": "stream",
     "text": [
      "Iter 3 - Epoch 0 - Client Type: Benign - Client Number 7 - Poison Training False\n"
     ]
    },
    {
     "name": "stderr",
     "output_type": "stream",
     "text": [
      "100%|████████████████████████████████████████████████████████████████████████████████████| 1/1 [00:01<00:00,  1.03s/it]\n"
     ]
    },
    {
     "name": "stdout",
     "output_type": "stream",
     "text": [
      "Iter 3 - Epoch 0 - Client Type: Benign - Client Number 8 - Poison Training False\n"
     ]
    },
    {
     "name": "stderr",
     "output_type": "stream",
     "text": [
      "100%|████████████████████████████████████████████████████████████████████████████████████| 2/2 [00:01<00:00,  1.55it/s]\n"
     ]
    },
    {
     "name": "stdout",
     "output_type": "stream",
     "text": [
      "Iter 3 - Epoch 0 - Client Type: Benign - Client Number 9 - Poison Training False\n"
     ]
    },
    {
     "name": "stderr",
     "output_type": "stream",
     "text": [
      "100%|████████████████████████████████████████████████████████████████████████████████████| 1/1 [00:01<00:00,  1.10s/it]\n"
     ]
    },
    {
     "name": "stdout",
     "output_type": "stream",
     "text": [
      "Iter 3 - Epoch 0 - Client Type: Benign - Client Number 10 - Poison Training False\n"
     ]
    },
    {
     "name": "stderr",
     "output_type": "stream",
     "text": [
      "100%|████████████████████████████████████████████████████████████████████████████████████| 2/2 [00:01<00:00,  1.68it/s]\n"
     ]
    },
    {
     "name": "stdout",
     "output_type": "stream",
     "text": [
      "Iter 3 - Epoch 0 - Client Type: Benign - Client Number 11 - Poison Training False\n"
     ]
    },
    {
     "name": "stderr",
     "output_type": "stream",
     "text": [
      "100%|████████████████████████████████████████████████████████████████████████████████████| 2/2 [00:01<00:00,  1.62it/s]\n"
     ]
    },
    {
     "name": "stdout",
     "output_type": "stream",
     "text": [
      "Iter 3 - Epoch 0 - Client Type: Benign - Client Number 12 - Poison Training False\n"
     ]
    },
    {
     "name": "stderr",
     "output_type": "stream",
     "text": [
      "100%|████████████████████████████████████████████████████████████████████████████████████| 1/1 [00:00<00:00,  1.47it/s]\n"
     ]
    },
    {
     "name": "stdout",
     "output_type": "stream",
     "text": [
      "Iter 3 - Epoch 0 - Client Type: Benign - Client Number 13 - Poison Training False\n"
     ]
    },
    {
     "name": "stderr",
     "output_type": "stream",
     "text": [
      "100%|████████████████████████████████████████████████████████████████████████████████████| 2/2 [00:01<00:00,  1.76it/s]\n"
     ]
    },
    {
     "name": "stdout",
     "output_type": "stream",
     "text": [
      "Iter 3 - Epoch 0 - Client Type: Benign - Client Number 14 - Poison Training False\n"
     ]
    },
    {
     "name": "stderr",
     "output_type": "stream",
     "text": [
      "100%|████████████████████████████████████████████████████████████████████████████████████| 2/2 [00:01<00:00,  1.54it/s]\n"
     ]
    },
    {
     "name": "stdout",
     "output_type": "stream",
     "text": [
      "Iter 3 - Epoch 0 - Client Type: Benign - Client Number 15 - Poison Training False\n"
     ]
    },
    {
     "name": "stderr",
     "output_type": "stream",
     "text": [
      "100%|████████████████████████████████████████████████████████████████████████████████████| 1/1 [00:01<00:00,  1.14s/it]\n"
     ]
    },
    {
     "name": "stdout",
     "output_type": "stream",
     "text": [
      "Iter 3 - Epoch 0 - Client Type: Benign - Client Number 16 - Poison Training False\n"
     ]
    },
    {
     "name": "stderr",
     "output_type": "stream",
     "text": [
      "100%|████████████████████████████████████████████████████████████████████████████████████| 1/1 [00:01<00:00,  1.03s/it]\n"
     ]
    },
    {
     "name": "stdout",
     "output_type": "stream",
     "text": [
      "Iter 3 - Epoch 0 - Client Type: Benign - Client Number 17 - Poison Training False\n"
     ]
    },
    {
     "name": "stderr",
     "output_type": "stream",
     "text": [
      "100%|████████████████████████████████████████████████████████████████████████████████████| 2/2 [00:01<00:00,  1.23it/s]\n"
     ]
    },
    {
     "name": "stdout",
     "output_type": "stream",
     "text": [
      "Iter 3 - Epoch 0 - Client Type: Benign - Client Number 18 - Poison Training False\n"
     ]
    },
    {
     "name": "stderr",
     "output_type": "stream",
     "text": [
      "100%|████████████████████████████████████████████████████████████████████████████████████| 1/1 [00:01<00:00,  1.19s/it]\n"
     ]
    },
    {
     "name": "stdout",
     "output_type": "stream",
     "text": [
      "Iter 3 - Epoch 0 - Client Type: Benign - Client Number 19 - Poison Training False\n"
     ]
    },
    {
     "name": "stderr",
     "output_type": "stream",
     "text": [
      "100%|████████████████████████████████████████████████████████████████████████████████████| 2/2 [00:01<00:00,  1.63it/s]\n"
     ]
    },
    {
     "name": "stdout",
     "output_type": "stream",
     "text": [
      "\n",
      "\n",
      " Entering epoch 3\n",
      "Iter 3 - Epoch 0 - Client Type: Benign - Client Number 0 - Poison Training False\n"
     ]
    },
    {
     "name": "stderr",
     "output_type": "stream",
     "text": [
      "100%|████████████████████████████████████████████████████████████████████████████████████| 1/1 [00:00<00:00,  1.06it/s]\n"
     ]
    },
    {
     "name": "stdout",
     "output_type": "stream",
     "text": [
      "Iter 3 - Epoch 0 - Client Type: Benign - Client Number 1 - Poison Training False\n"
     ]
    },
    {
     "name": "stderr",
     "output_type": "stream",
     "text": [
      "100%|████████████████████████████████████████████████████████████████████████████████████| 1/1 [00:00<00:00,  1.15it/s]\n"
     ]
    },
    {
     "name": "stdout",
     "output_type": "stream",
     "text": [
      "Iter 3 - Epoch 0 - Client Type: Benign - Client Number 2 - Poison Training False\n"
     ]
    },
    {
     "name": "stderr",
     "output_type": "stream",
     "text": [
      "100%|████████████████████████████████████████████████████████████████████████████████████| 2/2 [00:01<00:00,  1.34it/s]\n"
     ]
    },
    {
     "name": "stdout",
     "output_type": "stream",
     "text": [
      "Iter 3 - Epoch 0 - Client Type: Benign - Client Number 3 - Poison Training False\n"
     ]
    },
    {
     "name": "stderr",
     "output_type": "stream",
     "text": [
      "100%|████████████████████████████████████████████████████████████████████████████████████| 1/1 [00:01<00:00,  1.07s/it]\n"
     ]
    },
    {
     "name": "stdout",
     "output_type": "stream",
     "text": [
      "Iter 3 - Epoch 0 - Client Type: Benign - Client Number 4 - Poison Training False\n"
     ]
    },
    {
     "name": "stderr",
     "output_type": "stream",
     "text": [
      "100%|████████████████████████████████████████████████████████████████████████████████████| 1/1 [00:00<00:00,  1.16it/s]\n"
     ]
    },
    {
     "name": "stdout",
     "output_type": "stream",
     "text": [
      "Iter 3 - Epoch 0 - Client Type: Benign - Client Number 5 - Poison Training False\n"
     ]
    },
    {
     "name": "stderr",
     "output_type": "stream",
     "text": [
      "100%|████████████████████████████████████████████████████████████████████████████████████| 1/1 [00:01<00:00,  1.06s/it]\n"
     ]
    },
    {
     "name": "stdout",
     "output_type": "stream",
     "text": [
      "Iter 3 - Epoch 0 - Client Type: Benign - Client Number 6 - Poison Training False\n"
     ]
    },
    {
     "name": "stderr",
     "output_type": "stream",
     "text": [
      "100%|████████████████████████████████████████████████████████████████████████████████████| 1/1 [00:01<00:00,  1.01s/it]\n"
     ]
    },
    {
     "name": "stdout",
     "output_type": "stream",
     "text": [
      "Iter 3 - Epoch 0 - Client Type: Benign - Client Number 7 - Poison Training False\n"
     ]
    },
    {
     "name": "stderr",
     "output_type": "stream",
     "text": [
      "100%|████████████████████████████████████████████████████████████████████████████████████| 1/1 [00:01<00:00,  1.05s/it]\n"
     ]
    },
    {
     "name": "stdout",
     "output_type": "stream",
     "text": [
      "Iter 3 - Epoch 0 - Client Type: Benign - Client Number 8 - Poison Training False\n"
     ]
    },
    {
     "name": "stderr",
     "output_type": "stream",
     "text": [
      "100%|████████████████████████████████████████████████████████████████████████████████████| 2/2 [00:01<00:00,  1.61it/s]\n"
     ]
    },
    {
     "name": "stdout",
     "output_type": "stream",
     "text": [
      "Iter 3 - Epoch 0 - Client Type: Benign - Client Number 9 - Poison Training False\n"
     ]
    },
    {
     "name": "stderr",
     "output_type": "stream",
     "text": [
      "100%|████████████████████████████████████████████████████████████████████████████████████| 1/1 [00:01<00:00,  1.09s/it]\n"
     ]
    },
    {
     "name": "stdout",
     "output_type": "stream",
     "text": [
      "Iter 3 - Epoch 0 - Client Type: Benign - Client Number 10 - Poison Training False\n"
     ]
    },
    {
     "name": "stderr",
     "output_type": "stream",
     "text": [
      "100%|████████████████████████████████████████████████████████████████████████████████████| 2/2 [00:01<00:00,  1.65it/s]\n"
     ]
    },
    {
     "name": "stdout",
     "output_type": "stream",
     "text": [
      "Iter 3 - Epoch 0 - Client Type: Benign - Client Number 11 - Poison Training False\n"
     ]
    },
    {
     "name": "stderr",
     "output_type": "stream",
     "text": [
      "100%|████████████████████████████████████████████████████████████████████████████████████| 2/2 [00:01<00:00,  1.74it/s]\n"
     ]
    },
    {
     "name": "stdout",
     "output_type": "stream",
     "text": [
      "Iter 3 - Epoch 0 - Client Type: Benign - Client Number 12 - Poison Training False\n"
     ]
    },
    {
     "name": "stderr",
     "output_type": "stream",
     "text": [
      "100%|████████████████████████████████████████████████████████████████████████████████████| 1/1 [00:00<00:00,  1.60it/s]\n"
     ]
    },
    {
     "name": "stdout",
     "output_type": "stream",
     "text": [
      "Iter 3 - Epoch 0 - Client Type: Benign - Client Number 13 - Poison Training False\n"
     ]
    },
    {
     "name": "stderr",
     "output_type": "stream",
     "text": [
      "100%|████████████████████████████████████████████████████████████████████████████████████| 2/2 [00:01<00:00,  1.61it/s]\n"
     ]
    },
    {
     "name": "stdout",
     "output_type": "stream",
     "text": [
      "Iter 3 - Epoch 0 - Client Type: Benign - Client Number 14 - Poison Training False\n"
     ]
    },
    {
     "name": "stderr",
     "output_type": "stream",
     "text": [
      "100%|████████████████████████████████████████████████████████████████████████████████████| 2/2 [00:01<00:00,  1.61it/s]\n"
     ]
    },
    {
     "name": "stdout",
     "output_type": "stream",
     "text": [
      "Iter 3 - Epoch 0 - Client Type: Benign - Client Number 15 - Poison Training False\n"
     ]
    },
    {
     "name": "stderr",
     "output_type": "stream",
     "text": [
      "100%|████████████████████████████████████████████████████████████████████████████████████| 1/1 [00:01<00:00,  1.03s/it]\n"
     ]
    },
    {
     "name": "stdout",
     "output_type": "stream",
     "text": [
      "Iter 3 - Epoch 0 - Client Type: Benign - Client Number 16 - Poison Training False\n"
     ]
    },
    {
     "name": "stderr",
     "output_type": "stream",
     "text": [
      "100%|████████████████████████████████████████████████████████████████████████████████████| 1/1 [00:01<00:00,  1.08s/it]\n"
     ]
    },
    {
     "name": "stdout",
     "output_type": "stream",
     "text": [
      "Iter 3 - Epoch 0 - Client Type: Benign - Client Number 17 - Poison Training False\n"
     ]
    },
    {
     "name": "stderr",
     "output_type": "stream",
     "text": [
      "100%|████████████████████████████████████████████████████████████████████████████████████| 2/2 [00:01<00:00,  1.17it/s]\n"
     ]
    },
    {
     "name": "stdout",
     "output_type": "stream",
     "text": [
      "Iter 3 - Epoch 0 - Client Type: Benign - Client Number 18 - Poison Training False\n"
     ]
    },
    {
     "name": "stderr",
     "output_type": "stream",
     "text": [
      "100%|████████████████████████████████████████████████████████████████████████████████████| 1/1 [00:01<00:00,  1.06s/it]\n"
     ]
    },
    {
     "name": "stdout",
     "output_type": "stream",
     "text": [
      "Iter 3 - Epoch 0 - Client Type: Benign - Client Number 19 - Poison Training False\n"
     ]
    },
    {
     "name": "stderr",
     "output_type": "stream",
     "text": [
      "100%|████████████████████████████████████████████████████████████████████████████████████| 2/2 [00:01<00:00,  1.41it/s]\n"
     ]
    },
    {
     "name": "stdout",
     "output_type": "stream",
     "text": [
      "\n",
      "\n",
      " Entering epoch 4\n",
      "Iter 3 - Epoch 0 - Client Type: Benign - Client Number 0 - Poison Training False\n"
     ]
    },
    {
     "name": "stderr",
     "output_type": "stream",
     "text": [
      "100%|████████████████████████████████████████████████████████████████████████████████████| 1/1 [00:01<00:00,  1.12s/it]\n"
     ]
    },
    {
     "name": "stdout",
     "output_type": "stream",
     "text": [
      "Iter 3 - Epoch 0 - Client Type: Benign - Client Number 1 - Poison Training False\n"
     ]
    },
    {
     "name": "stderr",
     "output_type": "stream",
     "text": [
      "100%|████████████████████████████████████████████████████████████████████████████████████| 1/1 [00:00<00:00,  1.08it/s]\n"
     ]
    },
    {
     "name": "stdout",
     "output_type": "stream",
     "text": [
      "Iter 3 - Epoch 0 - Client Type: Benign - Client Number 2 - Poison Training False\n"
     ]
    },
    {
     "name": "stderr",
     "output_type": "stream",
     "text": [
      "100%|████████████████████████████████████████████████████████████████████████████████████| 2/2 [00:01<00:00,  1.25it/s]\n"
     ]
    },
    {
     "name": "stdout",
     "output_type": "stream",
     "text": [
      "Iter 3 - Epoch 0 - Client Type: Benign - Client Number 3 - Poison Training False\n"
     ]
    },
    {
     "name": "stderr",
     "output_type": "stream",
     "text": [
      "100%|████████████████████████████████████████████████████████████████████████████████████| 1/1 [00:00<00:00,  1.04it/s]\n"
     ]
    },
    {
     "name": "stdout",
     "output_type": "stream",
     "text": [
      "Iter 3 - Epoch 0 - Client Type: Benign - Client Number 4 - Poison Training False\n"
     ]
    },
    {
     "name": "stderr",
     "output_type": "stream",
     "text": [
      "100%|████████████████████████████████████████████████████████████████████████████████████| 1/1 [00:00<00:00,  1.10it/s]\n"
     ]
    },
    {
     "name": "stdout",
     "output_type": "stream",
     "text": [
      "Iter 3 - Epoch 0 - Client Type: Benign - Client Number 5 - Poison Training False\n"
     ]
    },
    {
     "name": "stderr",
     "output_type": "stream",
     "text": [
      "100%|████████████████████████████████████████████████████████████████████████████████████| 1/1 [00:01<00:00,  1.12s/it]\n"
     ]
    },
    {
     "name": "stdout",
     "output_type": "stream",
     "text": [
      "Iter 3 - Epoch 0 - Client Type: Benign - Client Number 6 - Poison Training False\n"
     ]
    },
    {
     "name": "stderr",
     "output_type": "stream",
     "text": [
      "100%|████████████████████████████████████████████████████████████████████████████████████| 1/1 [00:01<00:00,  1.04s/it]\n"
     ]
    },
    {
     "name": "stdout",
     "output_type": "stream",
     "text": [
      "Iter 3 - Epoch 0 - Client Type: Benign - Client Number 7 - Poison Training False\n"
     ]
    },
    {
     "name": "stderr",
     "output_type": "stream",
     "text": [
      "100%|████████████████████████████████████████████████████████████████████████████████████| 1/1 [00:01<00:00,  1.08s/it]\n"
     ]
    },
    {
     "name": "stdout",
     "output_type": "stream",
     "text": [
      "Iter 3 - Epoch 0 - Client Type: Benign - Client Number 8 - Poison Training False\n"
     ]
    },
    {
     "name": "stderr",
     "output_type": "stream",
     "text": [
      "100%|████████████████████████████████████████████████████████████████████████████████████| 2/2 [00:01<00:00,  1.60it/s]\n"
     ]
    },
    {
     "name": "stdout",
     "output_type": "stream",
     "text": [
      "Iter 3 - Epoch 0 - Client Type: Benign - Client Number 9 - Poison Training False\n"
     ]
    },
    {
     "name": "stderr",
     "output_type": "stream",
     "text": [
      "100%|████████████████████████████████████████████████████████████████████████████████████| 1/1 [00:01<00:00,  1.07s/it]\n"
     ]
    },
    {
     "name": "stdout",
     "output_type": "stream",
     "text": [
      "Iter 3 - Epoch 0 - Client Type: Benign - Client Number 10 - Poison Training False\n"
     ]
    },
    {
     "name": "stderr",
     "output_type": "stream",
     "text": [
      "100%|████████████████████████████████████████████████████████████████████████████████████| 2/2 [00:01<00:00,  1.60it/s]\n"
     ]
    },
    {
     "name": "stdout",
     "output_type": "stream",
     "text": [
      "Iter 3 - Epoch 0 - Client Type: Benign - Client Number 11 - Poison Training False\n"
     ]
    },
    {
     "name": "stderr",
     "output_type": "stream",
     "text": [
      "100%|████████████████████████████████████████████████████████████████████████████████████| 2/2 [00:01<00:00,  1.59it/s]\n"
     ]
    },
    {
     "name": "stdout",
     "output_type": "stream",
     "text": [
      "Iter 3 - Epoch 0 - Client Type: Benign - Client Number 12 - Poison Training False\n"
     ]
    },
    {
     "name": "stderr",
     "output_type": "stream",
     "text": [
      "100%|████████████████████████████████████████████████████████████████████████████████████| 1/1 [00:00<00:00,  1.34it/s]\n"
     ]
    },
    {
     "name": "stdout",
     "output_type": "stream",
     "text": [
      "Iter 3 - Epoch 0 - Client Type: Benign - Client Number 13 - Poison Training False\n"
     ]
    },
    {
     "name": "stderr",
     "output_type": "stream",
     "text": [
      "100%|████████████████████████████████████████████████████████████████████████████████████| 2/2 [00:01<00:00,  1.63it/s]\n"
     ]
    },
    {
     "name": "stdout",
     "output_type": "stream",
     "text": [
      "Iter 3 - Epoch 0 - Client Type: Benign - Client Number 14 - Poison Training False\n"
     ]
    },
    {
     "name": "stderr",
     "output_type": "stream",
     "text": [
      "100%|████████████████████████████████████████████████████████████████████████████████████| 2/2 [00:01<00:00,  1.56it/s]\n"
     ]
    },
    {
     "name": "stdout",
     "output_type": "stream",
     "text": [
      "Iter 3 - Epoch 0 - Client Type: Benign - Client Number 15 - Poison Training False\n"
     ]
    },
    {
     "name": "stderr",
     "output_type": "stream",
     "text": [
      "100%|████████████████████████████████████████████████████████████████████████████████████| 1/1 [00:01<00:00,  1.03s/it]\n"
     ]
    },
    {
     "name": "stdout",
     "output_type": "stream",
     "text": [
      "Iter 3 - Epoch 0 - Client Type: Benign - Client Number 16 - Poison Training False\n"
     ]
    },
    {
     "name": "stderr",
     "output_type": "stream",
     "text": [
      "100%|████████████████████████████████████████████████████████████████████████████████████| 1/1 [00:00<00:00,  1.04it/s]\n"
     ]
    },
    {
     "name": "stdout",
     "output_type": "stream",
     "text": [
      "Iter 3 - Epoch 0 - Client Type: Benign - Client Number 17 - Poison Training False\n"
     ]
    },
    {
     "name": "stderr",
     "output_type": "stream",
     "text": [
      "100%|████████████████████████████████████████████████████████████████████████████████████| 2/2 [00:01<00:00,  1.24it/s]\n"
     ]
    },
    {
     "name": "stdout",
     "output_type": "stream",
     "text": [
      "Iter 3 - Epoch 0 - Client Type: Benign - Client Number 18 - Poison Training False\n"
     ]
    },
    {
     "name": "stderr",
     "output_type": "stream",
     "text": [
      "100%|████████████████████████████████████████████████████████████████████████████████████| 1/1 [00:00<00:00,  1.06it/s]\n"
     ]
    },
    {
     "name": "stdout",
     "output_type": "stream",
     "text": [
      "Iter 3 - Epoch 0 - Client Type: Benign - Client Number 19 - Poison Training False\n"
     ]
    },
    {
     "name": "stderr",
     "output_type": "stream",
     "text": [
      "100%|████████████████████████████████████████████████████████████████████████████████████| 2/2 [00:01<00:00,  1.62it/s]\n"
     ]
    },
    {
     "name": "stdout",
     "output_type": "stream",
     "text": [
      "Original Copylist [7, 2, 5, 3, 2, 7, 3, 7, 0, 7, 0, 0, 4, 0, 0, 7, 3, 1, 7, 6]\n",
      "Found clusters [0 4 0 2 4 0 2 0 1 0 1 1 5 7 1 0 2 6 0 3]\n",
      "Original groups [array([ 8, 10, 11, 13, 14], dtype=int64), array([17], dtype=int64), array([1, 4], dtype=int64), array([ 3,  6, 16], dtype=int64), array([12], dtype=int64), array([2], dtype=int64), array([19], dtype=int64), array([ 0,  5,  7,  9, 15, 18], dtype=int64)]\n",
      "Clustered groups [array([ 0,  2,  5,  7,  9, 15, 18], dtype=int64), array([ 8, 10, 11, 14], dtype=int64), array([ 3,  6, 16], dtype=int64), array([19], dtype=int64), array([1, 4], dtype=int64), array([12], dtype=int64), array([17], dtype=int64), array([13], dtype=int64)]\n",
      "Clustering score 0.8021245573838783\n",
      "4\n",
      "[[1.00000605 0.20033601 0.63898438 0.33990613 0.19542281 0.98024254\n",
      "  0.37216325 0.95044017 0.38961414 0.90854597 0.32331824 0.44758868\n",
      "  0.62512911 0.6395248  0.33443775 0.95967098 0.36905767 0.54163362\n",
      "  0.95376866 0.3321072 ]\n",
      " [0.20033601 1.00000882 0.23422505 0.54380691 0.9953538  0.20051685\n",
      "  0.53228379 0.19333793 0.45269637 0.20461793 0.42332728 0.41423269\n",
      "  0.23536386 0.26281814 0.41727124 0.19871242 0.53002024 0.28697481\n",
      "  0.18508805 0.43198695]\n",
      " [0.63898438 0.23422504 1.00000498 0.32206909 0.23376594 0.64141481\n",
      "  0.34818165 0.61376128 0.46642894 0.5905406  0.46337073 0.52497827\n",
      "  0.47821648 0.65370915 0.44843107 0.60506694 0.33896865 0.69977078\n",
      "  0.63405967 0.41673717]\n",
      " [0.33990613 0.5438069  0.32206909 1.0000045  0.53830376 0.34213272\n",
      "  0.98796849 0.31720632 0.60266678 0.32825147 0.56904365 0.53407393\n",
      "  0.33856105 0.4741154  0.50192297 0.31304484 0.9867852  0.33850914\n",
      "  0.33133513 0.46780705]\n",
      " [0.19542281 0.9953538  0.23376596 0.53830376 1.00000969 0.19760858\n",
      "  0.52393372 0.18919524 0.44727095 0.2007195  0.42142646 0.41308411\n",
      "  0.23027644 0.25577151 0.41318706 0.19443839 0.52362183 0.28754721\n",
      "  0.18162253 0.43824622]\n",
      " [0.98024257 0.20051685 0.64141483 0.34213275 0.19760858 1.00000474\n",
      "  0.37293842 0.96592517 0.38704536 0.93619725 0.32122521 0.44173484\n",
      "  0.65686602 0.63707224 0.33067142 0.9629107  0.37144763 0.5430471\n",
      "  0.97427776 0.34259093]\n",
      " [0.37216325 0.53228381 0.34818164 0.9879685  0.52393371 0.37293843\n",
      "  1.0000079  0.35375519 0.61031695 0.36388102 0.57556788 0.55331072\n",
      "  0.35720531 0.50348569 0.50237849 0.3460401  0.990748   0.35094022\n",
      "  0.36910252 0.4638817 ]\n",
      " [0.95044014 0.19333793 0.61376126 0.31720631 0.18919524 0.96592519\n",
      "  0.35375519 1.00000507 0.39849576 0.98313561 0.32133587 0.45183323\n",
      "  0.64813215 0.64074241 0.33296724 0.98450428 0.34753292 0.52633442\n",
      "  0.95037761 0.35805727]\n",
      " [0.38961415 0.45269638 0.46642894 0.6026668  0.44727097 0.38704536\n",
      "  0.61031696 0.39849576 1.00000745 0.4090958  0.80738451 0.8034002\n",
      "  0.34687223 0.71379453 0.74098881 0.39447947 0.60228179 0.53702004\n",
      "  0.3829707  0.46800264]\n",
      " [0.90854596 0.20461794 0.59054059 0.32825148 0.20071951 0.93619725\n",
      "  0.363881   0.98313563 0.4090958  1.0000056  0.32663556 0.45575491\n",
      "  0.64402471 0.63005199 0.34184463 0.96940559 0.35728163 0.51230515\n",
      "  0.92442307 0.3654244 ]\n",
      " [0.32331824 0.42332727 0.46337073 0.56904364 0.42142646 0.32122521\n",
      "  0.57556786 0.32133587 0.80738449 0.32663556 1.00000322 0.78226711\n",
      "  0.25787274 0.61309066 0.6588642  0.31395451 0.57024144 0.49044269\n",
      "  0.31850599 0.46608776]\n",
      " [0.44758869 0.41423268 0.52497826 0.53407393 0.4130841  0.44173485\n",
      "  0.55331073 0.45183324 0.80340022 0.45575491 0.78226708 1.00000401\n",
      "  0.34326232 0.71613799 0.68062419 0.4444682  0.55058645 0.55925795\n",
      "  0.44035076 0.42696117]\n",
      " [0.62512912 0.23536385 0.47821647 0.33856106 0.23027646 0.65686604\n",
      "  0.3572053  0.64813215 0.34687221 0.64402471 0.25787274 0.34326235\n",
      "  1.00000682 0.54371963 0.31674174 0.64246206 0.35420687 0.4196513\n",
      "  0.64846889 0.34563981]\n",
      " [0.63952479 0.26281814 0.65370914 0.47411542 0.25577152 0.63707222\n",
      "  0.50348571 0.64074239 0.71379454 0.63005197 0.61309066 0.71613796\n",
      "  0.54371961 1.0000021  0.59197824 0.62884177 0.50199628 0.55421879\n",
      "  0.63487495 0.46319427]\n",
      " [0.33443775 0.41727123 0.44843107 0.50192297 0.41318704 0.33067141\n",
      "  0.50237849 0.33296723 0.74098881 0.34184464 0.65886419 0.68062419\n",
      "  0.31674175 0.59197824 1.00000381 0.32962873 0.48955157 0.49166474\n",
      "  0.32782637 0.44872664]\n",
      " [0.95967104 0.19871243 0.60506693 0.31304484 0.19443839 0.96291073\n",
      "  0.3460401  0.98450431 0.39447949 0.96940561 0.31395451 0.44446822\n",
      "  0.64246204 0.62884176 0.32962874 1.00000298 0.34093178 0.52566653\n",
      "  0.93003203 0.34738779]\n",
      " [0.36905767 0.53002024 0.33896867 0.98678519 0.52362183 0.37144763\n",
      "  0.99074797 0.34753292 0.60228176 0.35728162 0.57024146 0.55058647\n",
      "  0.35420686 0.50199629 0.48955157 0.34093179 1.00000575 0.34551966\n",
      "  0.36355872 0.44315149]\n",
      " [0.54163364 0.28697482 0.69977078 0.33850915 0.28754721 0.54304711\n",
      "  0.35094022 0.52633442 0.53702004 0.51230518 0.4904427  0.55925796\n",
      "  0.41965129 0.55421881 0.49166473 0.52566651 0.34551966 1.00000358\n",
      "  0.52900987 0.31260891]\n",
      " [0.95376867 0.18508806 0.6340597  0.33133512 0.18162254 0.97427776\n",
      "  0.36910252 0.95037761 0.3829707  0.92442308 0.31850599 0.44035079\n",
      "  0.6484689  0.63487494 0.32782636 0.93003204 0.36355872 0.52900985\n",
      "  1.00000513 0.34310354]\n",
      " [0.33210719 0.43198693 0.41673718 0.46780704 0.43824624 0.34259094\n",
      "  0.46388171 0.35805727 0.46800264 0.36542439 0.46608776 0.42696115\n",
      "  0.34563979 0.46319429 0.44872662 0.34738779 0.44315148 0.31260891\n",
      "  0.34310354 1.00000584]]\n",
      "Original Copylist [7, 2, 5, 3, 2, 7, 3, 7, 0, 7, 0, 0, 4, 0, 0, 7, 3, 1, 7, 6]\n",
      "Found clusters [4 5 1 2 5 4 2 4 0 4 0 0 6 7 0 4 2 1 4 3]\n",
      "Original groups [array([ 8, 10, 11, 13, 14], dtype=int64), array([17], dtype=int64), array([1, 4], dtype=int64), array([ 3,  6, 16], dtype=int64), array([12], dtype=int64), array([2], dtype=int64), array([19], dtype=int64), array([ 0,  5,  7,  9, 15, 18], dtype=int64)]\n",
      "Clustered groups [array([ 8, 10, 11, 14], dtype=int64), array([ 2, 17], dtype=int64), array([ 3,  6, 16], dtype=int64), array([19], dtype=int64), array([ 0,  5,  7,  9, 15, 18], dtype=int64), array([1, 4], dtype=int64), array([12], dtype=int64), array([13], dtype=int64)]\n",
      "Clustering score 0.8937597852829344\n",
      "Benign net distance [tensor(60.4788), tensor(57.2032), tensor(55.7069), tensor(56.7878), tensor(56.6965), tensor(58.9544), tensor(55.8447), tensor(57.7887), tensor(53.3377), tensor(56.6434), tensor(52.3019), tensor(54.2031), tensor(60.9488), tensor(53.6576), tensor(71.5542), tensor(59.0853), tensor(57.2062), tensor(81.0701), tensor(57.2919), tensor(0.)]\n",
      "Malicious net distance []\n",
      "cos_sim list  [tensor(0.2740), tensor(0.3062), tensor(0.3896), tensor(0.2771), tensor(0.3186), tensor(0.3023), tensor(0.2908), tensor(0.3320), tensor(0.3923), tensor(0.3581), tensor(0.4198), tensor(0.3421), tensor(0.1539), tensor(0.3579), tensor(0.2437), tensor(0.3036), tensor(0.2311), tensor(0.1130), tensor(0.3455), tensor(1.0000)]\n",
      "Norms of local gradients  [tensor(0.3525), tensor(0.4438), tensor(0.5071), tensor(0.3809), tensor(0.4374), tensor(0.3245), tensor(0.3644), tensor(0.3137), tensor(0.5531), tensor(0.3099), tensor(0.5349), tensor(0.5451), tensor(0.3789), tensor(0.5631), tensor(0.8066), tensor(0.3300), tensor(0.3882), tensor(0.7312), tensor(0.3127), tensor(0.6589)]\n",
      "\n",
      " Aggregating models\n",
      "Cosine Similarities:  [tensor(0.2740), tensor(0.3062), tensor(0.3896), tensor(0.2771), tensor(0.3186), tensor(0.3023), tensor(0.2908), tensor(0.3320), tensor(0.3923), tensor(0.3581), tensor(0.4198), tensor(0.3421), tensor(0.1539), tensor(0.3579), tensor(0.2437), tensor(0.3036), tensor(0.2311), tensor(0.1130), tensor(0.3455), tensor(1.0000)]\n",
      "Aggregation Weights:  [0.07585771 0.06734105 0.07498413 0.07101323 0.07107943 0.09091305\n",
      " 0.07789017 0.10328515 0.06922099 0.11275921 0.07657559 0.06124806\n",
      " 0.03964678 0.06202649 0.02947863 0.08978268 0.05809199 0.01508731\n",
      " 0.10785115 0.14811085]\n",
      "\n",
      "\n",
      "\n",
      "Aggregate test at iter  3\n"
     ]
    },
    {
     "name": "stderr",
     "output_type": "stream",
     "text": [
      "100%|██████████████████████████████████████████████████████████████████████████████████| 10/10 [00:02<00:00,  4.75it/s]\n"
     ]
    },
    {
     "name": "stdout",
     "output_type": "stream",
     "text": [
      "\n",
      "Test set: Avg. loss: 0.0009, Accuracy: 6812/10000 (68%)\n",
      "\n",
      "\n",
      "\n",
      " Entering epoch 0\n",
      "Iter 4 - Epoch 0 - Client Type: Benign - Client Number 0 - Poison Training False\n"
     ]
    },
    {
     "name": "stderr",
     "output_type": "stream",
     "text": [
      "100%|████████████████████████████████████████████████████████████████████████████████████| 1/1 [00:00<00:00,  1.02it/s]\n"
     ]
    },
    {
     "name": "stdout",
     "output_type": "stream",
     "text": [
      "Iter 4 - Epoch 0 - Client Type: Benign - Client Number 1 - Poison Training False\n"
     ]
    },
    {
     "name": "stderr",
     "output_type": "stream",
     "text": [
      "100%|████████████████████████████████████████████████████████████████████████████████████| 1/1 [00:00<00:00,  1.23it/s]\n"
     ]
    },
    {
     "name": "stdout",
     "output_type": "stream",
     "text": [
      "Iter 4 - Epoch 0 - Client Type: Benign - Client Number 2 - Poison Training False\n"
     ]
    },
    {
     "name": "stderr",
     "output_type": "stream",
     "text": [
      "100%|████████████████████████████████████████████████████████████████████████████████████| 2/2 [00:01<00:00,  1.51it/s]\n"
     ]
    },
    {
     "name": "stdout",
     "output_type": "stream",
     "text": [
      "Iter 4 - Epoch 0 - Client Type: Benign - Client Number 3 - Poison Training False\n"
     ]
    },
    {
     "name": "stderr",
     "output_type": "stream",
     "text": [
      "100%|████████████████████████████████████████████████████████████████████████████████████| 1/1 [00:00<00:00,  1.08it/s]\n"
     ]
    },
    {
     "name": "stdout",
     "output_type": "stream",
     "text": [
      "Iter 4 - Epoch 0 - Client Type: Benign - Client Number 4 - Poison Training False\n"
     ]
    },
    {
     "name": "stderr",
     "output_type": "stream",
     "text": [
      "100%|████████████████████████████████████████████████████████████████████████████████████| 1/1 [00:00<00:00,  1.32it/s]\n"
     ]
    },
    {
     "name": "stdout",
     "output_type": "stream",
     "text": [
      "Iter 4 - Epoch 0 - Client Type: Benign - Client Number 5 - Poison Training False\n"
     ]
    },
    {
     "name": "stderr",
     "output_type": "stream",
     "text": [
      "100%|████████████████████████████████████████████████████████████████████████████████████| 1/1 [00:01<00:00,  1.03s/it]\n"
     ]
    },
    {
     "name": "stdout",
     "output_type": "stream",
     "text": [
      "Iter 4 - Epoch 0 - Client Type: Benign - Client Number 6 - Poison Training False\n"
     ]
    },
    {
     "name": "stderr",
     "output_type": "stream",
     "text": [
      "100%|████████████████████████████████████████████████████████████████████████████████████| 1/1 [00:00<00:00,  1.06it/s]\n"
     ]
    },
    {
     "name": "stdout",
     "output_type": "stream",
     "text": [
      "Iter 4 - Epoch 0 - Client Type: Benign - Client Number 7 - Poison Training False\n"
     ]
    },
    {
     "name": "stderr",
     "output_type": "stream",
     "text": [
      "100%|████████████████████████████████████████████████████████████████████████████████████| 1/1 [00:00<00:00,  1.08it/s]\n"
     ]
    },
    {
     "name": "stdout",
     "output_type": "stream",
     "text": [
      "Iter 4 - Epoch 0 - Client Type: Benign - Client Number 8 - Poison Training False\n"
     ]
    },
    {
     "name": "stderr",
     "output_type": "stream",
     "text": [
      "100%|████████████████████████████████████████████████████████████████████████████████████| 2/2 [00:01<00:00,  1.87it/s]\n"
     ]
    },
    {
     "name": "stdout",
     "output_type": "stream",
     "text": [
      "Iter 4 - Epoch 0 - Client Type: Benign - Client Number 9 - Poison Training False\n"
     ]
    },
    {
     "name": "stderr",
     "output_type": "stream",
     "text": [
      "100%|████████████████████████████████████████████████████████████████████████████████████| 1/1 [00:00<00:00,  1.07it/s]\n"
     ]
    },
    {
     "name": "stdout",
     "output_type": "stream",
     "text": [
      "Iter 4 - Epoch 0 - Client Type: Benign - Client Number 10 - Poison Training False\n"
     ]
    },
    {
     "name": "stderr",
     "output_type": "stream",
     "text": [
      "100%|████████████████████████████████████████████████████████████████████████████████████| 2/2 [00:01<00:00,  1.87it/s]\n"
     ]
    },
    {
     "name": "stdout",
     "output_type": "stream",
     "text": [
      "Iter 4 - Epoch 0 - Client Type: Benign - Client Number 11 - Poison Training False\n"
     ]
    },
    {
     "name": "stderr",
     "output_type": "stream",
     "text": [
      "100%|████████████████████████████████████████████████████████████████████████████████████| 2/2 [00:01<00:00,  1.84it/s]\n"
     ]
    },
    {
     "name": "stdout",
     "output_type": "stream",
     "text": [
      "Iter 4 - Epoch 0 - Client Type: Benign - Client Number 12 - Poison Training False\n"
     ]
    },
    {
     "name": "stderr",
     "output_type": "stream",
     "text": [
      "100%|████████████████████████████████████████████████████████████████████████████████████| 1/1 [00:00<00:00,  1.74it/s]\n"
     ]
    },
    {
     "name": "stdout",
     "output_type": "stream",
     "text": [
      "Iter 4 - Epoch 0 - Client Type: Benign - Client Number 13 - Poison Training False\n"
     ]
    },
    {
     "name": "stderr",
     "output_type": "stream",
     "text": [
      "100%|████████████████████████████████████████████████████████████████████████████████████| 2/2 [00:01<00:00,  1.85it/s]\n"
     ]
    },
    {
     "name": "stdout",
     "output_type": "stream",
     "text": [
      "Iter 4 - Epoch 0 - Client Type: Benign - Client Number 14 - Poison Training False\n"
     ]
    },
    {
     "name": "stderr",
     "output_type": "stream",
     "text": [
      "100%|████████████████████████████████████████████████████████████████████████████████████| 2/2 [00:01<00:00,  1.78it/s]\n"
     ]
    },
    {
     "name": "stdout",
     "output_type": "stream",
     "text": [
      "Iter 4 - Epoch 0 - Client Type: Benign - Client Number 15 - Poison Training False\n"
     ]
    },
    {
     "name": "stderr",
     "output_type": "stream",
     "text": [
      "100%|████████████████████████████████████████████████████████████████████████████████████| 1/1 [00:00<00:00,  1.03it/s]\n"
     ]
    },
    {
     "name": "stdout",
     "output_type": "stream",
     "text": [
      "Iter 4 - Epoch 0 - Client Type: Benign - Client Number 16 - Poison Training False\n"
     ]
    },
    {
     "name": "stderr",
     "output_type": "stream",
     "text": [
      "100%|████████████████████████████████████████████████████████████████████████████████████| 1/1 [00:00<00:00,  1.09it/s]\n"
     ]
    },
    {
     "name": "stdout",
     "output_type": "stream",
     "text": [
      "Iter 4 - Epoch 0 - Client Type: Benign - Client Number 17 - Poison Training False\n"
     ]
    },
    {
     "name": "stderr",
     "output_type": "stream",
     "text": [
      "100%|████████████████████████████████████████████████████████████████████████████████████| 2/2 [00:01<00:00,  1.18it/s]\n"
     ]
    },
    {
     "name": "stdout",
     "output_type": "stream",
     "text": [
      "Iter 4 - Epoch 0 - Client Type: Benign - Client Number 18 - Poison Training False\n"
     ]
    },
    {
     "name": "stderr",
     "output_type": "stream",
     "text": [
      "100%|████████████████████████████████████████████████████████████████████████████████████| 1/1 [00:01<00:00,  1.22s/it]\n"
     ]
    },
    {
     "name": "stdout",
     "output_type": "stream",
     "text": [
      "Iter 4 - Epoch 0 - Client Type: Benign - Client Number 19 - Poison Training False\n"
     ]
    },
    {
     "name": "stderr",
     "output_type": "stream",
     "text": [
      "100%|████████████████████████████████████████████████████████████████████████████████████| 2/2 [00:01<00:00,  1.56it/s]\n"
     ]
    },
    {
     "name": "stdout",
     "output_type": "stream",
     "text": [
      "\n",
      "\n",
      " Entering epoch 1\n",
      "Iter 4 - Epoch 0 - Client Type: Benign - Client Number 0 - Poison Training False\n"
     ]
    },
    {
     "name": "stderr",
     "output_type": "stream",
     "text": [
      "100%|████████████████████████████████████████████████████████████████████████████████████| 1/1 [00:01<00:00,  1.04s/it]\n"
     ]
    },
    {
     "name": "stdout",
     "output_type": "stream",
     "text": [
      "Iter 4 - Epoch 0 - Client Type: Benign - Client Number 1 - Poison Training False\n"
     ]
    },
    {
     "name": "stderr",
     "output_type": "stream",
     "text": [
      "100%|████████████████████████████████████████████████████████████████████████████████████| 1/1 [00:00<00:00,  1.17it/s]\n"
     ]
    },
    {
     "name": "stdout",
     "output_type": "stream",
     "text": [
      "Iter 4 - Epoch 0 - Client Type: Benign - Client Number 2 - Poison Training False\n"
     ]
    },
    {
     "name": "stderr",
     "output_type": "stream",
     "text": [
      "100%|████████████████████████████████████████████████████████████████████████████████████| 2/2 [00:01<00:00,  1.31it/s]\n"
     ]
    },
    {
     "name": "stdout",
     "output_type": "stream",
     "text": [
      "Iter 4 - Epoch 0 - Client Type: Benign - Client Number 3 - Poison Training False\n"
     ]
    },
    {
     "name": "stderr",
     "output_type": "stream",
     "text": [
      "100%|████████████████████████████████████████████████████████████████████████████████████| 1/1 [00:00<00:00,  1.04it/s]\n"
     ]
    },
    {
     "name": "stdout",
     "output_type": "stream",
     "text": [
      "Iter 4 - Epoch 0 - Client Type: Benign - Client Number 4 - Poison Training False\n"
     ]
    },
    {
     "name": "stderr",
     "output_type": "stream",
     "text": [
      "100%|████████████████████████████████████████████████████████████████████████████████████| 1/1 [00:01<00:00,  1.03s/it]\n"
     ]
    },
    {
     "name": "stdout",
     "output_type": "stream",
     "text": [
      "Iter 4 - Epoch 0 - Client Type: Benign - Client Number 5 - Poison Training False\n"
     ]
    },
    {
     "name": "stderr",
     "output_type": "stream",
     "text": [
      "100%|████████████████████████████████████████████████████████████████████████████████████| 1/1 [00:01<00:00,  1.02s/it]\n"
     ]
    },
    {
     "name": "stdout",
     "output_type": "stream",
     "text": [
      "Iter 4 - Epoch 0 - Client Type: Benign - Client Number 6 - Poison Training False\n"
     ]
    },
    {
     "name": "stderr",
     "output_type": "stream",
     "text": [
      "100%|████████████████████████████████████████████████████████████████████████████████████| 1/1 [00:01<00:00,  1.01s/it]\n"
     ]
    },
    {
     "name": "stdout",
     "output_type": "stream",
     "text": [
      "Iter 4 - Epoch 0 - Client Type: Benign - Client Number 7 - Poison Training False\n"
     ]
    },
    {
     "name": "stderr",
     "output_type": "stream",
     "text": [
      "100%|████████████████████████████████████████████████████████████████████████████████████| 1/1 [00:01<00:00,  1.13s/it]\n"
     ]
    },
    {
     "name": "stdout",
     "output_type": "stream",
     "text": [
      "Iter 4 - Epoch 0 - Client Type: Benign - Client Number 8 - Poison Training False\n"
     ]
    },
    {
     "name": "stderr",
     "output_type": "stream",
     "text": [
      "100%|████████████████████████████████████████████████████████████████████████████████████| 2/2 [00:01<00:00,  1.61it/s]\n"
     ]
    },
    {
     "name": "stdout",
     "output_type": "stream",
     "text": [
      "Iter 4 - Epoch 0 - Client Type: Benign - Client Number 9 - Poison Training False\n"
     ]
    },
    {
     "name": "stderr",
     "output_type": "stream",
     "text": [
      "100%|████████████████████████████████████████████████████████████████████████████████████| 1/1 [00:01<00:00,  1.06s/it]\n"
     ]
    },
    {
     "name": "stdout",
     "output_type": "stream",
     "text": [
      "Iter 4 - Epoch 0 - Client Type: Benign - Client Number 10 - Poison Training False\n"
     ]
    },
    {
     "name": "stderr",
     "output_type": "stream",
     "text": [
      "100%|████████████████████████████████████████████████████████████████████████████████████| 2/2 [00:01<00:00,  1.79it/s]\n"
     ]
    },
    {
     "name": "stdout",
     "output_type": "stream",
     "text": [
      "Iter 4 - Epoch 0 - Client Type: Benign - Client Number 11 - Poison Training False\n"
     ]
    },
    {
     "name": "stderr",
     "output_type": "stream",
     "text": [
      "100%|████████████████████████████████████████████████████████████████████████████████████| 2/2 [00:01<00:00,  1.78it/s]\n"
     ]
    },
    {
     "name": "stdout",
     "output_type": "stream",
     "text": [
      "Iter 4 - Epoch 0 - Client Type: Benign - Client Number 12 - Poison Training False\n"
     ]
    },
    {
     "name": "stderr",
     "output_type": "stream",
     "text": [
      "100%|████████████████████████████████████████████████████████████████████████████████████| 1/1 [00:00<00:00,  1.39it/s]\n"
     ]
    },
    {
     "name": "stdout",
     "output_type": "stream",
     "text": [
      "Iter 4 - Epoch 0 - Client Type: Benign - Client Number 13 - Poison Training False\n"
     ]
    },
    {
     "name": "stderr",
     "output_type": "stream",
     "text": [
      "100%|████████████████████████████████████████████████████████████████████████████████████| 2/2 [00:01<00:00,  1.53it/s]\n"
     ]
    },
    {
     "name": "stdout",
     "output_type": "stream",
     "text": [
      "Iter 4 - Epoch 0 - Client Type: Benign - Client Number 14 - Poison Training False\n"
     ]
    },
    {
     "name": "stderr",
     "output_type": "stream",
     "text": [
      "100%|████████████████████████████████████████████████████████████████████████████████████| 2/2 [00:01<00:00,  1.48it/s]\n"
     ]
    },
    {
     "name": "stdout",
     "output_type": "stream",
     "text": [
      "Iter 4 - Epoch 0 - Client Type: Benign - Client Number 15 - Poison Training False\n"
     ]
    },
    {
     "name": "stderr",
     "output_type": "stream",
     "text": [
      "100%|████████████████████████████████████████████████████████████████████████████████████| 1/1 [00:01<00:00,  1.15s/it]\n"
     ]
    },
    {
     "name": "stdout",
     "output_type": "stream",
     "text": [
      "Iter 4 - Epoch 0 - Client Type: Benign - Client Number 16 - Poison Training False\n"
     ]
    },
    {
     "name": "stderr",
     "output_type": "stream",
     "text": [
      "100%|████████████████████████████████████████████████████████████████████████████████████| 1/1 [00:01<00:00,  1.02s/it]\n"
     ]
    },
    {
     "name": "stdout",
     "output_type": "stream",
     "text": [
      "Iter 4 - Epoch 0 - Client Type: Benign - Client Number 17 - Poison Training False\n"
     ]
    },
    {
     "name": "stderr",
     "output_type": "stream",
     "text": [
      "100%|████████████████████████████████████████████████████████████████████████████████████| 2/2 [00:01<00:00,  1.05it/s]\n"
     ]
    },
    {
     "name": "stdout",
     "output_type": "stream",
     "text": [
      "Iter 4 - Epoch 0 - Client Type: Benign - Client Number 18 - Poison Training False\n"
     ]
    },
    {
     "name": "stderr",
     "output_type": "stream",
     "text": [
      "100%|████████████████████████████████████████████████████████████████████████████████████| 1/1 [00:01<00:00,  1.25s/it]\n"
     ]
    },
    {
     "name": "stdout",
     "output_type": "stream",
     "text": [
      "Iter 4 - Epoch 0 - Client Type: Benign - Client Number 19 - Poison Training False\n"
     ]
    },
    {
     "name": "stderr",
     "output_type": "stream",
     "text": [
      "100%|████████████████████████████████████████████████████████████████████████████████████| 2/2 [00:01<00:00,  1.38it/s]\n"
     ]
    },
    {
     "name": "stdout",
     "output_type": "stream",
     "text": [
      "\n",
      "\n",
      " Entering epoch 2\n",
      "Iter 4 - Epoch 0 - Client Type: Benign - Client Number 0 - Poison Training False\n"
     ]
    },
    {
     "name": "stderr",
     "output_type": "stream",
     "text": [
      "100%|████████████████████████████████████████████████████████████████████████████████████| 1/1 [00:01<00:00,  1.22s/it]\n"
     ]
    },
    {
     "name": "stdout",
     "output_type": "stream",
     "text": [
      "Iter 4 - Epoch 0 - Client Type: Benign - Client Number 1 - Poison Training False\n"
     ]
    },
    {
     "name": "stderr",
     "output_type": "stream",
     "text": [
      "100%|████████████████████████████████████████████████████████████████████████████████████| 1/1 [00:01<00:00,  1.03s/it]\n"
     ]
    },
    {
     "name": "stdout",
     "output_type": "stream",
     "text": [
      "Iter 4 - Epoch 0 - Client Type: Benign - Client Number 2 - Poison Training False\n"
     ]
    },
    {
     "name": "stderr",
     "output_type": "stream",
     "text": [
      "100%|████████████████████████████████████████████████████████████████████████████████████| 2/2 [00:01<00:00,  1.35it/s]\n"
     ]
    },
    {
     "name": "stdout",
     "output_type": "stream",
     "text": [
      "Iter 4 - Epoch 0 - Client Type: Benign - Client Number 3 - Poison Training False\n"
     ]
    },
    {
     "name": "stderr",
     "output_type": "stream",
     "text": [
      "100%|████████████████████████████████████████████████████████████████████████████████████| 1/1 [00:01<00:00,  1.07s/it]\n"
     ]
    },
    {
     "name": "stdout",
     "output_type": "stream",
     "text": [
      "Iter 4 - Epoch 0 - Client Type: Benign - Client Number 4 - Poison Training False\n"
     ]
    },
    {
     "name": "stderr",
     "output_type": "stream",
     "text": [
      "100%|████████████████████████████████████████████████████████████████████████████████████| 1/1 [00:00<00:00,  1.12it/s]\n"
     ]
    },
    {
     "name": "stdout",
     "output_type": "stream",
     "text": [
      "Iter 4 - Epoch 0 - Client Type: Benign - Client Number 5 - Poison Training False\n"
     ]
    },
    {
     "name": "stderr",
     "output_type": "stream",
     "text": [
      "100%|████████████████████████████████████████████████████████████████████████████████████| 1/1 [00:01<00:00,  1.09s/it]\n"
     ]
    },
    {
     "name": "stdout",
     "output_type": "stream",
     "text": [
      "Iter 4 - Epoch 0 - Client Type: Benign - Client Number 6 - Poison Training False\n"
     ]
    },
    {
     "name": "stderr",
     "output_type": "stream",
     "text": [
      "100%|████████████████████████████████████████████████████████████████████████████████████| 1/1 [00:01<00:00,  1.03s/it]\n"
     ]
    },
    {
     "name": "stdout",
     "output_type": "stream",
     "text": [
      "Iter 4 - Epoch 0 - Client Type: Benign - Client Number 7 - Poison Training False\n"
     ]
    },
    {
     "name": "stderr",
     "output_type": "stream",
     "text": [
      "100%|████████████████████████████████████████████████████████████████████████████████████| 1/1 [00:01<00:00,  1.14s/it]\n"
     ]
    },
    {
     "name": "stdout",
     "output_type": "stream",
     "text": [
      "Iter 4 - Epoch 0 - Client Type: Benign - Client Number 8 - Poison Training False\n"
     ]
    },
    {
     "name": "stderr",
     "output_type": "stream",
     "text": [
      "100%|████████████████████████████████████████████████████████████████████████████████████| 2/2 [00:01<00:00,  1.68it/s]\n"
     ]
    },
    {
     "name": "stdout",
     "output_type": "stream",
     "text": [
      "Iter 4 - Epoch 0 - Client Type: Benign - Client Number 9 - Poison Training False\n"
     ]
    },
    {
     "name": "stderr",
     "output_type": "stream",
     "text": [
      "100%|████████████████████████████████████████████████████████████████████████████████████| 1/1 [00:01<00:00,  1.09s/it]\n"
     ]
    },
    {
     "name": "stdout",
     "output_type": "stream",
     "text": [
      "Iter 4 - Epoch 0 - Client Type: Benign - Client Number 10 - Poison Training False\n"
     ]
    },
    {
     "name": "stderr",
     "output_type": "stream",
     "text": [
      "100%|████████████████████████████████████████████████████████████████████████████████████| 2/2 [00:01<00:00,  1.76it/s]\n"
     ]
    },
    {
     "name": "stdout",
     "output_type": "stream",
     "text": [
      "Iter 4 - Epoch 0 - Client Type: Benign - Client Number 11 - Poison Training False\n"
     ]
    },
    {
     "name": "stderr",
     "output_type": "stream",
     "text": [
      "100%|████████████████████████████████████████████████████████████████████████████████████| 2/2 [00:01<00:00,  1.73it/s]\n"
     ]
    },
    {
     "name": "stdout",
     "output_type": "stream",
     "text": [
      "Iter 4 - Epoch 0 - Client Type: Benign - Client Number 12 - Poison Training False\n"
     ]
    },
    {
     "name": "stderr",
     "output_type": "stream",
     "text": [
      "100%|████████████████████████████████████████████████████████████████████████████████████| 1/1 [00:00<00:00,  1.53it/s]\n"
     ]
    },
    {
     "name": "stdout",
     "output_type": "stream",
     "text": [
      "Iter 4 - Epoch 0 - Client Type: Benign - Client Number 13 - Poison Training False\n"
     ]
    },
    {
     "name": "stderr",
     "output_type": "stream",
     "text": [
      "100%|████████████████████████████████████████████████████████████████████████████████████| 2/2 [00:01<00:00,  1.80it/s]\n"
     ]
    },
    {
     "name": "stdout",
     "output_type": "stream",
     "text": [
      "Iter 4 - Epoch 0 - Client Type: Benign - Client Number 14 - Poison Training False\n"
     ]
    },
    {
     "name": "stderr",
     "output_type": "stream",
     "text": [
      "100%|████████████████████████████████████████████████████████████████████████████████████| 2/2 [00:01<00:00,  1.50it/s]\n"
     ]
    },
    {
     "name": "stdout",
     "output_type": "stream",
     "text": [
      "Iter 4 - Epoch 0 - Client Type: Benign - Client Number 15 - Poison Training False\n"
     ]
    },
    {
     "name": "stderr",
     "output_type": "stream",
     "text": [
      "100%|████████████████████████████████████████████████████████████████████████████████████| 1/1 [00:01<00:00,  1.04s/it]\n"
     ]
    },
    {
     "name": "stdout",
     "output_type": "stream",
     "text": [
      "Iter 4 - Epoch 0 - Client Type: Benign - Client Number 16 - Poison Training False\n"
     ]
    },
    {
     "name": "stderr",
     "output_type": "stream",
     "text": [
      "100%|████████████████████████████████████████████████████████████████████████████████████| 1/1 [00:00<00:00,  1.03it/s]\n"
     ]
    },
    {
     "name": "stdout",
     "output_type": "stream",
     "text": [
      "Iter 4 - Epoch 0 - Client Type: Benign - Client Number 17 - Poison Training False\n"
     ]
    },
    {
     "name": "stderr",
     "output_type": "stream",
     "text": [
      "100%|████████████████████████████████████████████████████████████████████████████████████| 2/2 [00:01<00:00,  1.26it/s]\n"
     ]
    },
    {
     "name": "stdout",
     "output_type": "stream",
     "text": [
      "Iter 4 - Epoch 0 - Client Type: Benign - Client Number 18 - Poison Training False\n"
     ]
    },
    {
     "name": "stderr",
     "output_type": "stream",
     "text": [
      "100%|████████████████████████████████████████████████████████████████████████████████████| 1/1 [00:00<00:00,  1.01it/s]\n"
     ]
    },
    {
     "name": "stdout",
     "output_type": "stream",
     "text": [
      "Iter 4 - Epoch 0 - Client Type: Benign - Client Number 19 - Poison Training False\n"
     ]
    },
    {
     "name": "stderr",
     "output_type": "stream",
     "text": [
      "100%|████████████████████████████████████████████████████████████████████████████████████| 2/2 [00:01<00:00,  1.63it/s]\n"
     ]
    },
    {
     "name": "stdout",
     "output_type": "stream",
     "text": [
      "\n",
      "\n",
      " Entering epoch 3\n",
      "Iter 4 - Epoch 0 - Client Type: Benign - Client Number 0 - Poison Training False\n"
     ]
    },
    {
     "name": "stderr",
     "output_type": "stream",
     "text": [
      "100%|████████████████████████████████████████████████████████████████████████████████████| 1/1 [00:01<00:00,  1.06s/it]\n"
     ]
    },
    {
     "name": "stdout",
     "output_type": "stream",
     "text": [
      "Iter 4 - Epoch 0 - Client Type: Benign - Client Number 1 - Poison Training False\n"
     ]
    },
    {
     "name": "stderr",
     "output_type": "stream",
     "text": [
      "100%|████████████████████████████████████████████████████████████████████████████████████| 1/1 [00:00<00:00,  1.25it/s]\n"
     ]
    },
    {
     "name": "stdout",
     "output_type": "stream",
     "text": [
      "Iter 4 - Epoch 0 - Client Type: Benign - Client Number 2 - Poison Training False\n"
     ]
    },
    {
     "name": "stderr",
     "output_type": "stream",
     "text": [
      "100%|████████████████████████████████████████████████████████████████████████████████████| 2/2 [00:01<00:00,  1.45it/s]\n"
     ]
    },
    {
     "name": "stdout",
     "output_type": "stream",
     "text": [
      "Iter 4 - Epoch 0 - Client Type: Benign - Client Number 3 - Poison Training False\n"
     ]
    },
    {
     "name": "stderr",
     "output_type": "stream",
     "text": [
      "100%|████████████████████████████████████████████████████████████████████████████████████| 1/1 [00:00<00:00,  1.09it/s]\n"
     ]
    },
    {
     "name": "stdout",
     "output_type": "stream",
     "text": [
      "Iter 4 - Epoch 0 - Client Type: Benign - Client Number 4 - Poison Training False\n"
     ]
    },
    {
     "name": "stderr",
     "output_type": "stream",
     "text": [
      "100%|████████████████████████████████████████████████████████████████████████████████████| 1/1 [00:00<00:00,  1.28it/s]\n"
     ]
    },
    {
     "name": "stdout",
     "output_type": "stream",
     "text": [
      "Iter 4 - Epoch 0 - Client Type: Benign - Client Number 5 - Poison Training False\n"
     ]
    },
    {
     "name": "stderr",
     "output_type": "stream",
     "text": [
      "100%|████████████████████████████████████████████████████████████████████████████████████| 1/1 [00:00<00:00,  1.04it/s]\n"
     ]
    },
    {
     "name": "stdout",
     "output_type": "stream",
     "text": [
      "Iter 4 - Epoch 0 - Client Type: Benign - Client Number 6 - Poison Training False\n"
     ]
    },
    {
     "name": "stderr",
     "output_type": "stream",
     "text": [
      "100%|████████████████████████████████████████████████████████████████████████████████████| 1/1 [00:00<00:00,  1.12it/s]\n"
     ]
    },
    {
     "name": "stdout",
     "output_type": "stream",
     "text": [
      "Iter 4 - Epoch 0 - Client Type: Benign - Client Number 7 - Poison Training False\n"
     ]
    },
    {
     "name": "stderr",
     "output_type": "stream",
     "text": [
      "100%|████████████████████████████████████████████████████████████████████████████████████| 1/1 [00:00<00:00,  1.00it/s]\n"
     ]
    },
    {
     "name": "stdout",
     "output_type": "stream",
     "text": [
      "Iter 4 - Epoch 0 - Client Type: Benign - Client Number 8 - Poison Training False\n"
     ]
    },
    {
     "name": "stderr",
     "output_type": "stream",
     "text": [
      "100%|████████████████████████████████████████████████████████████████████████████████████| 2/2 [00:01<00:00,  1.68it/s]\n"
     ]
    },
    {
     "name": "stdout",
     "output_type": "stream",
     "text": [
      "Iter 4 - Epoch 0 - Client Type: Benign - Client Number 9 - Poison Training False\n"
     ]
    },
    {
     "name": "stderr",
     "output_type": "stream",
     "text": [
      "100%|████████████████████████████████████████████████████████████████████████████████████| 1/1 [00:01<00:00,  1.01s/it]\n"
     ]
    },
    {
     "name": "stdout",
     "output_type": "stream",
     "text": [
      "Iter 4 - Epoch 0 - Client Type: Benign - Client Number 10 - Poison Training False\n"
     ]
    },
    {
     "name": "stderr",
     "output_type": "stream",
     "text": [
      "100%|████████████████████████████████████████████████████████████████████████████████████| 2/2 [00:01<00:00,  1.79it/s]\n"
     ]
    },
    {
     "name": "stdout",
     "output_type": "stream",
     "text": [
      "Iter 4 - Epoch 0 - Client Type: Benign - Client Number 11 - Poison Training False\n"
     ]
    },
    {
     "name": "stderr",
     "output_type": "stream",
     "text": [
      "100%|████████████████████████████████████████████████████████████████████████████████████| 2/2 [00:01<00:00,  1.59it/s]\n"
     ]
    },
    {
     "name": "stdout",
     "output_type": "stream",
     "text": [
      "Iter 4 - Epoch 0 - Client Type: Benign - Client Number 12 - Poison Training False\n"
     ]
    },
    {
     "name": "stderr",
     "output_type": "stream",
     "text": [
      "100%|████████████████████████████████████████████████████████████████████████████████████| 1/1 [00:00<00:00,  1.48it/s]\n"
     ]
    },
    {
     "name": "stdout",
     "output_type": "stream",
     "text": [
      "Iter 4 - Epoch 0 - Client Type: Benign - Client Number 13 - Poison Training False\n"
     ]
    },
    {
     "name": "stderr",
     "output_type": "stream",
     "text": [
      "100%|████████████████████████████████████████████████████████████████████████████████████| 2/2 [00:01<00:00,  1.68it/s]\n"
     ]
    },
    {
     "name": "stdout",
     "output_type": "stream",
     "text": [
      "Iter 4 - Epoch 0 - Client Type: Benign - Client Number 14 - Poison Training False\n"
     ]
    },
    {
     "name": "stderr",
     "output_type": "stream",
     "text": [
      "100%|████████████████████████████████████████████████████████████████████████████████████| 2/2 [00:01<00:00,  1.47it/s]\n"
     ]
    },
    {
     "name": "stdout",
     "output_type": "stream",
     "text": [
      "Iter 4 - Epoch 0 - Client Type: Benign - Client Number 15 - Poison Training False\n"
     ]
    },
    {
     "name": "stderr",
     "output_type": "stream",
     "text": [
      "100%|████████████████████████████████████████████████████████████████████████████████████| 1/1 [00:01<00:00,  1.20s/it]\n"
     ]
    },
    {
     "name": "stdout",
     "output_type": "stream",
     "text": [
      "Iter 4 - Epoch 0 - Client Type: Benign - Client Number 16 - Poison Training False\n"
     ]
    },
    {
     "name": "stderr",
     "output_type": "stream",
     "text": [
      "100%|████████████████████████████████████████████████████████████████████████████████████| 1/1 [00:01<00:00,  1.12s/it]\n"
     ]
    },
    {
     "name": "stdout",
     "output_type": "stream",
     "text": [
      "Iter 4 - Epoch 0 - Client Type: Benign - Client Number 17 - Poison Training False\n"
     ]
    },
    {
     "name": "stderr",
     "output_type": "stream",
     "text": [
      "100%|████████████████████████████████████████████████████████████████████████████████████| 2/2 [00:01<00:00,  1.06it/s]\n"
     ]
    },
    {
     "name": "stdout",
     "output_type": "stream",
     "text": [
      "Iter 4 - Epoch 0 - Client Type: Benign - Client Number 18 - Poison Training False\n"
     ]
    },
    {
     "name": "stderr",
     "output_type": "stream",
     "text": [
      "100%|████████████████████████████████████████████████████████████████████████████████████| 1/1 [00:01<00:00,  1.19s/it]\n"
     ]
    },
    {
     "name": "stdout",
     "output_type": "stream",
     "text": [
      "Iter 4 - Epoch 0 - Client Type: Benign - Client Number 19 - Poison Training False\n"
     ]
    },
    {
     "name": "stderr",
     "output_type": "stream",
     "text": [
      "100%|████████████████████████████████████████████████████████████████████████████████████| 2/2 [00:01<00:00,  1.59it/s]\n"
     ]
    },
    {
     "name": "stdout",
     "output_type": "stream",
     "text": [
      "\n",
      "\n",
      " Entering epoch 4\n",
      "Iter 4 - Epoch 0 - Client Type: Benign - Client Number 0 - Poison Training False\n"
     ]
    },
    {
     "name": "stderr",
     "output_type": "stream",
     "text": [
      "100%|████████████████████████████████████████████████████████████████████████████████████| 1/1 [00:01<00:00,  1.14s/it]\n"
     ]
    },
    {
     "name": "stdout",
     "output_type": "stream",
     "text": [
      "Iter 4 - Epoch 0 - Client Type: Benign - Client Number 1 - Poison Training False\n"
     ]
    },
    {
     "name": "stderr",
     "output_type": "stream",
     "text": [
      "100%|████████████████████████████████████████████████████████████████████████████████████| 1/1 [00:00<00:00,  1.07it/s]\n"
     ]
    },
    {
     "name": "stdout",
     "output_type": "stream",
     "text": [
      "Iter 4 - Epoch 0 - Client Type: Benign - Client Number 2 - Poison Training False\n"
     ]
    },
    {
     "name": "stderr",
     "output_type": "stream",
     "text": [
      "100%|████████████████████████████████████████████████████████████████████████████████████| 2/2 [00:01<00:00,  1.20it/s]\n"
     ]
    },
    {
     "name": "stdout",
     "output_type": "stream",
     "text": [
      "Iter 4 - Epoch 0 - Client Type: Benign - Client Number 3 - Poison Training False\n"
     ]
    },
    {
     "name": "stderr",
     "output_type": "stream",
     "text": [
      "100%|████████████████████████████████████████████████████████████████████████████████████| 1/1 [00:01<00:00,  1.02s/it]\n"
     ]
    },
    {
     "name": "stdout",
     "output_type": "stream",
     "text": [
      "Iter 4 - Epoch 0 - Client Type: Benign - Client Number 4 - Poison Training False\n"
     ]
    },
    {
     "name": "stderr",
     "output_type": "stream",
     "text": [
      "100%|████████████████████████████████████████████████████████████████████████████████████| 1/1 [00:00<00:00,  1.04it/s]\n"
     ]
    },
    {
     "name": "stdout",
     "output_type": "stream",
     "text": [
      "Iter 4 - Epoch 0 - Client Type: Benign - Client Number 5 - Poison Training False\n"
     ]
    },
    {
     "name": "stderr",
     "output_type": "stream",
     "text": [
      "100%|████████████████████████████████████████████████████████████████████████████████████| 1/1 [00:01<00:00,  1.11s/it]\n"
     ]
    },
    {
     "name": "stdout",
     "output_type": "stream",
     "text": [
      "Iter 4 - Epoch 0 - Client Type: Benign - Client Number 6 - Poison Training False\n"
     ]
    },
    {
     "name": "stderr",
     "output_type": "stream",
     "text": [
      "100%|████████████████████████████████████████████████████████████████████████████████████| 1/1 [00:00<00:00,  1.02it/s]\n"
     ]
    },
    {
     "name": "stdout",
     "output_type": "stream",
     "text": [
      "Iter 4 - Epoch 0 - Client Type: Benign - Client Number 7 - Poison Training False\n"
     ]
    },
    {
     "name": "stderr",
     "output_type": "stream",
     "text": [
      "100%|████████████████████████████████████████████████████████████████████████████████████| 1/1 [00:01<00:00,  1.01s/it]\n"
     ]
    },
    {
     "name": "stdout",
     "output_type": "stream",
     "text": [
      "Iter 4 - Epoch 0 - Client Type: Benign - Client Number 8 - Poison Training False\n"
     ]
    },
    {
     "name": "stderr",
     "output_type": "stream",
     "text": [
      "100%|████████████████████████████████████████████████████████████████████████████████████| 2/2 [00:01<00:00,  1.70it/s]\n"
     ]
    },
    {
     "name": "stdout",
     "output_type": "stream",
     "text": [
      "Iter 4 - Epoch 0 - Client Type: Benign - Client Number 9 - Poison Training False\n"
     ]
    },
    {
     "name": "stderr",
     "output_type": "stream",
     "text": [
      "100%|████████████████████████████████████████████████████████████████████████████████████| 1/1 [00:00<00:00,  1.04it/s]\n"
     ]
    },
    {
     "name": "stdout",
     "output_type": "stream",
     "text": [
      "Iter 4 - Epoch 0 - Client Type: Benign - Client Number 10 - Poison Training False\n"
     ]
    },
    {
     "name": "stderr",
     "output_type": "stream",
     "text": [
      "100%|████████████████████████████████████████████████████████████████████████████████████| 2/2 [00:01<00:00,  1.72it/s]\n"
     ]
    },
    {
     "name": "stdout",
     "output_type": "stream",
     "text": [
      "Iter 4 - Epoch 0 - Client Type: Benign - Client Number 11 - Poison Training False\n"
     ]
    },
    {
     "name": "stderr",
     "output_type": "stream",
     "text": [
      "100%|████████████████████████████████████████████████████████████████████████████████████| 2/2 [00:01<00:00,  1.68it/s]\n"
     ]
    },
    {
     "name": "stdout",
     "output_type": "stream",
     "text": [
      "Iter 4 - Epoch 0 - Client Type: Benign - Client Number 12 - Poison Training False\n"
     ]
    },
    {
     "name": "stderr",
     "output_type": "stream",
     "text": [
      "100%|████████████████████████████████████████████████████████████████████████████████████| 1/1 [00:00<00:00,  1.67it/s]\n"
     ]
    },
    {
     "name": "stdout",
     "output_type": "stream",
     "text": [
      "Iter 4 - Epoch 0 - Client Type: Benign - Client Number 13 - Poison Training False\n"
     ]
    },
    {
     "name": "stderr",
     "output_type": "stream",
     "text": [
      "100%|████████████████████████████████████████████████████████████████████████████████████| 2/2 [00:01<00:00,  1.83it/s]\n"
     ]
    },
    {
     "name": "stdout",
     "output_type": "stream",
     "text": [
      "Iter 4 - Epoch 0 - Client Type: Benign - Client Number 14 - Poison Training False\n"
     ]
    },
    {
     "name": "stderr",
     "output_type": "stream",
     "text": [
      "100%|████████████████████████████████████████████████████████████████████████████████████| 2/2 [00:01<00:00,  1.86it/s]\n"
     ]
    },
    {
     "name": "stdout",
     "output_type": "stream",
     "text": [
      "Iter 4 - Epoch 0 - Client Type: Benign - Client Number 15 - Poison Training False\n"
     ]
    },
    {
     "name": "stderr",
     "output_type": "stream",
     "text": [
      "100%|████████████████████████████████████████████████████████████████████████████████████| 1/1 [00:01<00:00,  1.14s/it]\n"
     ]
    },
    {
     "name": "stdout",
     "output_type": "stream",
     "text": [
      "Iter 4 - Epoch 0 - Client Type: Benign - Client Number 16 - Poison Training False\n"
     ]
    },
    {
     "name": "stderr",
     "output_type": "stream",
     "text": [
      "100%|████████████████████████████████████████████████████████████████████████████████████| 1/1 [00:01<00:00,  1.06s/it]\n"
     ]
    },
    {
     "name": "stdout",
     "output_type": "stream",
     "text": [
      "Iter 4 - Epoch 0 - Client Type: Benign - Client Number 17 - Poison Training False\n"
     ]
    },
    {
     "name": "stderr",
     "output_type": "stream",
     "text": [
      "100%|████████████████████████████████████████████████████████████████████████████████████| 2/2 [00:01<00:00,  1.18it/s]\n"
     ]
    },
    {
     "name": "stdout",
     "output_type": "stream",
     "text": [
      "Iter 4 - Epoch 0 - Client Type: Benign - Client Number 18 - Poison Training False\n"
     ]
    },
    {
     "name": "stderr",
     "output_type": "stream",
     "text": [
      "100%|████████████████████████████████████████████████████████████████████████████████████| 1/1 [00:01<00:00,  1.16s/it]\n"
     ]
    },
    {
     "name": "stdout",
     "output_type": "stream",
     "text": [
      "Iter 4 - Epoch 0 - Client Type: Benign - Client Number 19 - Poison Training False\n"
     ]
    },
    {
     "name": "stderr",
     "output_type": "stream",
     "text": [
      "100%|████████████████████████████████████████████████████████████████████████████████████| 2/2 [00:01<00:00,  1.58it/s]\n"
     ]
    },
    {
     "name": "stdout",
     "output_type": "stream",
     "text": [
      "Original Copylist [7, 2, 5, 3, 2, 7, 3, 7, 0, 7, 0, 0, 4, 0, 0, 7, 3, 1, 7, 6]\n",
      "Found clusters [0 7 0 2 7 0 2 0 3 0 3 1 5 1 1 0 2 4 0 6]\n",
      "Original groups [array([ 8, 10, 11, 13, 14], dtype=int64), array([17], dtype=int64), array([1, 4], dtype=int64), array([ 3,  6, 16], dtype=int64), array([12], dtype=int64), array([2], dtype=int64), array([19], dtype=int64), array([ 0,  5,  7,  9, 15, 18], dtype=int64)]\n",
      "Clustered groups [array([ 0,  2,  5,  7,  9, 15, 18], dtype=int64), array([11, 13, 14], dtype=int64), array([ 3,  6, 16], dtype=int64), array([ 8, 10], dtype=int64), array([17], dtype=int64), array([12], dtype=int64), array([19], dtype=int64), array([1, 4], dtype=int64)]\n",
      "Clustering score 0.7558363675305204\n",
      "5\n",
      "[[1.00000479 0.15290762 0.66180882 0.33660075 0.14892572 0.97488427\n",
      "  0.36884981 0.94995688 0.34718291 0.91015428 0.24226731 0.46626967\n",
      "  0.64407808 0.60803622 0.33163663 0.95934143 0.38789316 0.50676877\n",
      "  0.9499257  0.33293257]\n",
      " [0.15290761 1.00000789 0.20696516 0.50279504 0.99246875 0.15915035\n",
      "  0.45973184 0.15052293 0.465532   0.16306744 0.44412686 0.34268106\n",
      "  0.20933276 0.26127728 0.36365466 0.15531971 0.45074079 0.27389942\n",
      "  0.14700131 0.41700451]\n",
      " [0.66180884 0.20696516 1.0000039  0.34627571 0.20729763 0.65843305\n",
      "  0.37686128 0.63444712 0.44340889 0.61248    0.40484117 0.54740154\n",
      "  0.46929201 0.62822936 0.4611062  0.62648268 0.37969296 0.66415331\n",
      "  0.64751227 0.41093066]\n",
      " [0.33660075 0.50279503 0.34627572 1.00000494 0.50572563 0.34228418\n",
      "  0.97603695 0.32422974 0.54576821 0.33464763 0.49959674 0.46356536\n",
      "  0.27179004 0.40006154 0.43646647 0.32111153 0.96798524 0.32389683\n",
      "  0.33530813 0.42570395]\n",
      " [0.14892571 0.99246875 0.20729764 0.50572563 1.00000892 0.15774765\n",
      "  0.46085772 0.14749024 0.45972375 0.16025776 0.44006727 0.34122899\n",
      "  0.19879963 0.25187548 0.35914678 0.15274982 0.45310824 0.27514548\n",
      "  0.14433285 0.42266504]\n",
      " [0.97488431 0.15915035 0.65843307 0.3422842  0.15774765 1.00000503\n",
      "  0.37371995 0.96637298 0.35083214 0.94135818 0.2419007  0.46041411\n",
      "  0.67117693 0.60013434 0.33124746 0.96343377 0.39502369 0.50736609\n",
      "  0.97205782 0.34590894]\n",
      " [0.36884982 0.45973185 0.37686127 0.97603698 0.46085771 0.37371995\n",
      "  1.00000753 0.36365419 0.52900499 0.37399386 0.47262799 0.50868658\n",
      "  0.27280394 0.42492444 0.45677289 0.35406509 0.98705795 0.32056533\n",
      "  0.37567043 0.42308159]\n",
      " [0.94995686 0.15052293 0.63444711 0.32422973 0.14749024 0.966373\n",
      "  0.36365419 1.00000494 0.35936505 0.98079211 0.2409842  0.47417068\n",
      "  0.66208637 0.60758597 0.33705978 0.98157773 0.38030618 0.49438304\n",
      "  0.95510541 0.3613723 ]\n",
      " [0.34718292 0.46553202 0.44340889 0.54576822 0.45972376 0.35083214\n",
      "  0.529005   0.35936505 1.00000581 0.37051578 0.81913425 0.74868383\n",
      "  0.3373268  0.71278177 0.72855836 0.35335575 0.51239996 0.51265473\n",
      "  0.35120354 0.47011425]\n",
      " [0.91015427 0.16306744 0.61247998 0.33464763 0.16025777 0.94135818\n",
      "  0.37399385 0.98079212 0.37051578 1.00000515 0.24734194 0.47540078\n",
      "  0.65486187 0.59573004 0.34718137 0.96711625 0.39009454 0.48383756\n",
      "  0.9332238  0.37178887]\n",
      " [0.24226731 0.44412686 0.40484117 0.49959674 0.44006727 0.2419007\n",
      "  0.47262797 0.2409842  0.81913424 0.24734194 1.00000277 0.69127111\n",
      "  0.223212   0.60267429 0.63631357 0.23471206 0.45187272 0.45703923\n",
      "  0.2403006  0.44239221]\n",
      " [0.46626967 0.34268105 0.54740154 0.46356536 0.34122898 0.46041411\n",
      "  0.50868658 0.47417069 0.74868385 0.47540078 0.69127109 1.00000407\n",
      "  0.33891179 0.73233126 0.71512145 0.45925324 0.51797994 0.50429221\n",
      "  0.46347034 0.44272897]\n",
      " [0.6440781  0.20933275 0.469292   0.27179005 0.19879965 0.67117693\n",
      "  0.27280393 0.66208637 0.33732679 0.65486187 0.223212   0.33891181\n",
      "  1.00000656 0.53642318 0.30123236 0.65925654 0.2887177  0.39508012\n",
      "  0.66359833 0.33667251]\n",
      " [0.60803621 0.26127728 0.62822935 0.40006155 0.25187549 0.60013433\n",
      "  0.42492445 0.60758595 0.71278179 0.59573003 0.60267429 0.73233123\n",
      "  0.53642316 1.0000017  0.62837498 0.59403401 0.43151895 0.51600447\n",
      "  0.60301533 0.47641053]\n",
      " [0.33163664 0.36365465 0.4611062  0.43646647 0.35914676 0.33124745\n",
      "  0.4567729  0.33705977 0.72855836 0.34718136 0.63631356 0.71512144\n",
      "  0.30123237 0.62837499 1.00000339 0.32636483 0.44730868 0.44784918\n",
      "  0.33277506 0.45833278]\n",
      " [0.95934147 0.15531972 0.62648265 0.32111153 0.15274982 0.96343378\n",
      "  0.35406509 0.98157774 0.35335577 0.96711626 0.23471206 0.45925325\n",
      "  0.65925653 0.59403399 0.32636483 1.00000312 0.37166632 0.49708622\n",
      "  0.93699695 0.34912678]\n",
      " [0.38789317 0.45074079 0.37969297 0.96798521 0.45310823 0.39502369\n",
      "  0.98705791 0.38030619 0.51239993 0.39009452 0.45187273 0.51797996\n",
      "  0.2887177  0.43151896 0.44730868 0.37166632 1.0000061  0.31776372\n",
      "  0.39222234 0.40826831]\n",
      " [0.50676878 0.27389943 0.66415331 0.32389683 0.27514548 0.5073661\n",
      "  0.32056533 0.49438304 0.51265472 0.48383759 0.45703924 0.50429222\n",
      "  0.39508011 0.51600448 0.44784917 0.49708621 0.31776372 1.00000365\n",
      "  0.4974097  0.28273279]\n",
      " [0.9499257  0.14700131 0.64751229 0.33530813 0.14433285 0.97205781\n",
      "  0.37567043 0.95510541 0.35120355 0.93322381 0.2403006  0.46347036\n",
      "  0.66359834 0.60301531 0.33277506 0.93699695 0.39222234 0.49740968\n",
      "  1.00000622 0.35348582]\n",
      " [0.33293256 0.41700449 0.41093068 0.42570394 0.42266505 0.34590894\n",
      "  0.4230816  0.3613723  0.47011425 0.37178885 0.44239221 0.44272896\n",
      "  0.3366725  0.47641054 0.45833277 0.34912679 0.4082683  0.28273279\n",
      "  0.35348581 1.00000563]]\n",
      "Original Copylist [7, 2, 5, 3, 2, 7, 3, 7, 0, 7, 0, 0, 4, 0, 0, 7, 3, 1, 7, 6]\n",
      "Found clusters [0 5 1 6 5 0 6 0 3 0 3 2 0 2 7 0 6 1 0 4]\n",
      "Original groups [array([ 8, 10, 11, 13, 14], dtype=int64), array([17], dtype=int64), array([1, 4], dtype=int64), array([ 3,  6, 16], dtype=int64), array([12], dtype=int64), array([2], dtype=int64), array([19], dtype=int64), array([ 0,  5,  7,  9, 15, 18], dtype=int64)]\n",
      "Clustered groups [array([ 0,  5,  7,  9, 12, 15, 18], dtype=int64), array([ 2, 17], dtype=int64), array([11, 13], dtype=int64), array([ 8, 10], dtype=int64), array([19], dtype=int64), array([1, 4], dtype=int64), array([ 3,  6, 16], dtype=int64), array([14], dtype=int64)]\n",
      "Clustering score 0.6904192917662394\n",
      "Benign net distance [tensor(45.3440), tensor(45.5767), tensor(43.4245), tensor(46.8518), tensor(45.4806), tensor(44.4440), tensor(46.6278), tensor(43.7058), tensor(40.6242), tensor(43.1209), tensor(51.3874), tensor(38.6575), tensor(47.5549), tensor(37.0899), tensor(38.9619), tensor(44.4635), tensor(46.6294), tensor(67.3688), tensor(43.0971), tensor(0.)]\n",
      "Malicious net distance []\n",
      "cos_sim list  [tensor(0.3362), tensor(0.3571), tensor(0.3877), tensor(0.2573), tensor(0.3603), tensor(0.3592), tensor(0.2599), tensor(0.3746), tensor(0.4786), tensor(0.3972), tensor(0.3476), tensor(0.5058), tensor(0.3008), tensor(0.5293), tensor(0.4968), tensor(0.3561), tensor(0.2687), tensor(0.1632), tensor(0.3950), tensor(1.0000)]\n",
      "Norms of local gradients  [tensor(0.2782), tensor(0.3787), tensor(0.4343), tensor(0.3904), tensor(0.3760), tensor(0.2775), tensor(0.3909), tensor(0.2727), tensor(0.4643), tensor(0.2728), tensor(0.5927), tensor(0.4549), tensor(0.3419), tensor(0.4429), tensor(0.4475), tensor(0.2801), tensor(0.3790), tensor(0.6663), tensor(0.2730), tensor(0.4575)]\n",
      "\n",
      " Aggregating models\n",
      "Cosine Similarities:  [tensor(0.3362), tensor(0.3571), tensor(0.3877), tensor(0.2573), tensor(0.3603), tensor(0.3592), tensor(0.2599), tensor(0.3746), tensor(0.4786), tensor(0.3972), tensor(0.3476), tensor(0.5058), tensor(0.3008), tensor(0.5293), tensor(0.4968), tensor(0.3561), tensor(0.2687), tensor(0.1632), tensor(0.3950), tensor(1.0000)]\n",
      "Aggregation Weights:  [0.06971386 0.05437697 0.05148479 0.03801389 0.0552735  0.07465827\n",
      " 0.0383425  0.07922218 0.05944947 0.08399799 0.03382381 0.06412721\n",
      " 0.05074394 0.06891652 0.06402035 0.0733218  0.0408997  0.01412968\n",
      " 0.08345904 0.1260808 ]\n",
      "\n",
      "\n",
      "\n",
      "Aggregate test at iter  4\n"
     ]
    },
    {
     "name": "stderr",
     "output_type": "stream",
     "text": [
      "100%|██████████████████████████████████████████████████████████████████████████████████| 10/10 [00:02<00:00,  4.44it/s]\n"
     ]
    },
    {
     "name": "stdout",
     "output_type": "stream",
     "text": [
      "\n",
      "Test set: Avg. loss: 0.0008, Accuracy: 7051/10000 (71%)\n",
      "\n",
      "\n",
      "\n",
      " Entering epoch 0\n",
      "Iter 5 - Epoch 0 - Client Type: Benign - Client Number 0 - Poison Training False\n"
     ]
    },
    {
     "name": "stderr",
     "output_type": "stream",
     "text": [
      "100%|████████████████████████████████████████████████████████████████████████████████████| 1/1 [00:01<00:00,  1.00s/it]\n"
     ]
    },
    {
     "name": "stdout",
     "output_type": "stream",
     "text": [
      "Iter 5 - Epoch 0 - Client Type: Benign - Client Number 1 - Poison Training False\n"
     ]
    },
    {
     "name": "stderr",
     "output_type": "stream",
     "text": [
      "100%|████████████████████████████████████████████████████████████████████████████████████| 1/1 [00:00<00:00,  1.14it/s]\n"
     ]
    },
    {
     "name": "stdout",
     "output_type": "stream",
     "text": [
      "Iter 5 - Epoch 0 - Client Type: Benign - Client Number 2 - Poison Training False\n"
     ]
    },
    {
     "name": "stderr",
     "output_type": "stream",
     "text": [
      "100%|████████████████████████████████████████████████████████████████████████████████████| 2/2 [00:01<00:00,  1.32it/s]\n"
     ]
    },
    {
     "name": "stdout",
     "output_type": "stream",
     "text": [
      "Iter 5 - Epoch 0 - Client Type: Benign - Client Number 3 - Poison Training False\n"
     ]
    },
    {
     "name": "stderr",
     "output_type": "stream",
     "text": [
      "100%|████████████████████████████████████████████████████████████████████████████████████| 1/1 [00:00<00:00,  1.03it/s]\n"
     ]
    },
    {
     "name": "stdout",
     "output_type": "stream",
     "text": [
      "Iter 5 - Epoch 0 - Client Type: Benign - Client Number 4 - Poison Training False\n"
     ]
    },
    {
     "name": "stderr",
     "output_type": "stream",
     "text": [
      "100%|████████████████████████████████████████████████████████████████████████████████████| 1/1 [00:00<00:00,  1.20it/s]\n"
     ]
    },
    {
     "name": "stdout",
     "output_type": "stream",
     "text": [
      "Iter 5 - Epoch 0 - Client Type: Benign - Client Number 5 - Poison Training False\n"
     ]
    },
    {
     "name": "stderr",
     "output_type": "stream",
     "text": [
      "100%|████████████████████████████████████████████████████████████████████████████████████| 1/1 [00:00<00:00,  1.04it/s]\n"
     ]
    },
    {
     "name": "stdout",
     "output_type": "stream",
     "text": [
      "Iter 5 - Epoch 0 - Client Type: Benign - Client Number 6 - Poison Training False\n"
     ]
    },
    {
     "name": "stderr",
     "output_type": "stream",
     "text": [
      "100%|████████████████████████████████████████████████████████████████████████████████████| 1/1 [00:00<00:00,  1.11it/s]\n"
     ]
    },
    {
     "name": "stdout",
     "output_type": "stream",
     "text": [
      "Iter 5 - Epoch 0 - Client Type: Benign - Client Number 7 - Poison Training False\n"
     ]
    },
    {
     "name": "stderr",
     "output_type": "stream",
     "text": [
      "100%|████████████████████████████████████████████████████████████████████████████████████| 1/1 [00:00<00:00,  1.04it/s]\n"
     ]
    },
    {
     "name": "stdout",
     "output_type": "stream",
     "text": [
      "Iter 5 - Epoch 0 - Client Type: Benign - Client Number 8 - Poison Training False\n"
     ]
    },
    {
     "name": "stderr",
     "output_type": "stream",
     "text": [
      "100%|████████████████████████████████████████████████████████████████████████████████████| 2/2 [00:01<00:00,  1.74it/s]\n"
     ]
    },
    {
     "name": "stdout",
     "output_type": "stream",
     "text": [
      "Iter 5 - Epoch 0 - Client Type: Benign - Client Number 9 - Poison Training False\n"
     ]
    },
    {
     "name": "stderr",
     "output_type": "stream",
     "text": [
      "100%|████████████████████████████████████████████████████████████████████████████████████| 1/1 [00:01<00:00,  1.00s/it]\n"
     ]
    },
    {
     "name": "stdout",
     "output_type": "stream",
     "text": [
      "Iter 5 - Epoch 0 - Client Type: Benign - Client Number 10 - Poison Training False\n"
     ]
    },
    {
     "name": "stderr",
     "output_type": "stream",
     "text": [
      "100%|████████████████████████████████████████████████████████████████████████████████████| 2/2 [00:01<00:00,  1.90it/s]\n"
     ]
    },
    {
     "name": "stdout",
     "output_type": "stream",
     "text": [
      "Iter 5 - Epoch 0 - Client Type: Benign - Client Number 11 - Poison Training False\n"
     ]
    },
    {
     "name": "stderr",
     "output_type": "stream",
     "text": [
      "100%|████████████████████████████████████████████████████████████████████████████████████| 2/2 [00:01<00:00,  1.77it/s]\n"
     ]
    },
    {
     "name": "stdout",
     "output_type": "stream",
     "text": [
      "Iter 5 - Epoch 0 - Client Type: Benign - Client Number 12 - Poison Training False\n"
     ]
    },
    {
     "name": "stderr",
     "output_type": "stream",
     "text": [
      "100%|████████████████████████████████████████████████████████████████████████████████████| 1/1 [00:00<00:00,  1.54it/s]\n"
     ]
    },
    {
     "name": "stdout",
     "output_type": "stream",
     "text": [
      "Iter 5 - Epoch 0 - Client Type: Benign - Client Number 13 - Poison Training False\n"
     ]
    },
    {
     "name": "stderr",
     "output_type": "stream",
     "text": [
      "100%|████████████████████████████████████████████████████████████████████████████████████| 2/2 [00:01<00:00,  1.72it/s]\n"
     ]
    },
    {
     "name": "stdout",
     "output_type": "stream",
     "text": [
      "Iter 5 - Epoch 0 - Client Type: Benign - Client Number 14 - Poison Training False\n"
     ]
    },
    {
     "name": "stderr",
     "output_type": "stream",
     "text": [
      "100%|████████████████████████████████████████████████████████████████████████████████████| 2/2 [00:01<00:00,  1.82it/s]\n"
     ]
    },
    {
     "name": "stdout",
     "output_type": "stream",
     "text": [
      "Iter 5 - Epoch 0 - Client Type: Benign - Client Number 15 - Poison Training False\n"
     ]
    },
    {
     "name": "stderr",
     "output_type": "stream",
     "text": [
      "100%|████████████████████████████████████████████████████████████████████████████████████| 1/1 [00:00<00:00,  1.05it/s]\n"
     ]
    },
    {
     "name": "stdout",
     "output_type": "stream",
     "text": [
      "Iter 5 - Epoch 0 - Client Type: Benign - Client Number 16 - Poison Training False\n"
     ]
    },
    {
     "name": "stderr",
     "output_type": "stream",
     "text": [
      "100%|████████████████████████████████████████████████████████████████████████████████████| 1/1 [00:00<00:00,  1.03it/s]\n"
     ]
    },
    {
     "name": "stdout",
     "output_type": "stream",
     "text": [
      "Iter 5 - Epoch 0 - Client Type: Benign - Client Number 17 - Poison Training False\n"
     ]
    },
    {
     "name": "stderr",
     "output_type": "stream",
     "text": [
      "100%|████████████████████████████████████████████████████████████████████████████████████| 2/2 [00:01<00:00,  1.31it/s]\n"
     ]
    },
    {
     "name": "stdout",
     "output_type": "stream",
     "text": [
      "Iter 5 - Epoch 0 - Client Type: Benign - Client Number 18 - Poison Training False\n"
     ]
    },
    {
     "name": "stderr",
     "output_type": "stream",
     "text": [
      "100%|████████████████████████████████████████████████████████████████████████████████████| 1/1 [00:00<00:00,  1.02it/s]\n"
     ]
    },
    {
     "name": "stdout",
     "output_type": "stream",
     "text": [
      "Iter 5 - Epoch 0 - Client Type: Benign - Client Number 19 - Poison Training False\n"
     ]
    },
    {
     "name": "stderr",
     "output_type": "stream",
     "text": [
      "100%|████████████████████████████████████████████████████████████████████████████████████| 2/2 [00:01<00:00,  1.66it/s]\n"
     ]
    },
    {
     "name": "stdout",
     "output_type": "stream",
     "text": [
      "\n",
      "\n",
      " Entering epoch 1\n",
      "Iter 5 - Epoch 0 - Client Type: Benign - Client Number 0 - Poison Training False\n"
     ]
    },
    {
     "name": "stderr",
     "output_type": "stream",
     "text": [
      "100%|████████████████████████████████████████████████████████████████████████████████████| 1/1 [00:00<00:00,  1.00it/s]\n"
     ]
    },
    {
     "name": "stdout",
     "output_type": "stream",
     "text": [
      "Iter 5 - Epoch 0 - Client Type: Benign - Client Number 1 - Poison Training False\n"
     ]
    },
    {
     "name": "stderr",
     "output_type": "stream",
     "text": [
      "100%|████████████████████████████████████████████████████████████████████████████████████| 1/1 [00:00<00:00,  1.17it/s]\n"
     ]
    },
    {
     "name": "stdout",
     "output_type": "stream",
     "text": [
      "Iter 5 - Epoch 0 - Client Type: Benign - Client Number 2 - Poison Training False\n"
     ]
    },
    {
     "name": "stderr",
     "output_type": "stream",
     "text": [
      "100%|████████████████████████████████████████████████████████████████████████████████████| 2/2 [00:01<00:00,  1.43it/s]\n"
     ]
    },
    {
     "name": "stdout",
     "output_type": "stream",
     "text": [
      "Iter 5 - Epoch 0 - Client Type: Benign - Client Number 3 - Poison Training False\n"
     ]
    },
    {
     "name": "stderr",
     "output_type": "stream",
     "text": [
      "100%|████████████████████████████████████████████████████████████████████████████████████| 1/1 [00:00<00:00,  1.11it/s]\n"
     ]
    },
    {
     "name": "stdout",
     "output_type": "stream",
     "text": [
      "Iter 5 - Epoch 0 - Client Type: Benign - Client Number 4 - Poison Training False\n"
     ]
    },
    {
     "name": "stderr",
     "output_type": "stream",
     "text": [
      "100%|████████████████████████████████████████████████████████████████████████████████████| 1/1 [00:00<00:00,  1.22it/s]\n"
     ]
    },
    {
     "name": "stdout",
     "output_type": "stream",
     "text": [
      "Iter 5 - Epoch 0 - Client Type: Benign - Client Number 5 - Poison Training False\n"
     ]
    },
    {
     "name": "stderr",
     "output_type": "stream",
     "text": [
      "100%|████████████████████████████████████████████████████████████████████████████████████| 1/1 [00:00<00:00,  1.05it/s]\n"
     ]
    },
    {
     "name": "stdout",
     "output_type": "stream",
     "text": [
      "Iter 5 - Epoch 0 - Client Type: Benign - Client Number 6 - Poison Training False\n"
     ]
    },
    {
     "name": "stderr",
     "output_type": "stream",
     "text": [
      "100%|████████████████████████████████████████████████████████████████████████████████████| 1/1 [00:01<00:00,  1.15s/it]\n"
     ]
    },
    {
     "name": "stdout",
     "output_type": "stream",
     "text": [
      "Iter 5 - Epoch 0 - Client Type: Benign - Client Number 7 - Poison Training False\n"
     ]
    },
    {
     "name": "stderr",
     "output_type": "stream",
     "text": [
      "100%|████████████████████████████████████████████████████████████████████████████████████| 1/1 [00:01<00:00,  1.25s/it]\n"
     ]
    },
    {
     "name": "stdout",
     "output_type": "stream",
     "text": [
      "Iter 5 - Epoch 0 - Client Type: Benign - Client Number 8 - Poison Training False\n"
     ]
    },
    {
     "name": "stderr",
     "output_type": "stream",
     "text": [
      "100%|████████████████████████████████████████████████████████████████████████████████████| 2/2 [00:01<00:00,  1.51it/s]\n"
     ]
    },
    {
     "name": "stdout",
     "output_type": "stream",
     "text": [
      "Iter 5 - Epoch 0 - Client Type: Benign - Client Number 9 - Poison Training False\n"
     ]
    },
    {
     "name": "stderr",
     "output_type": "stream",
     "text": [
      "100%|████████████████████████████████████████████████████████████████████████████████████| 1/1 [00:01<00:00,  1.23s/it]\n"
     ]
    },
    {
     "name": "stdout",
     "output_type": "stream",
     "text": [
      "Iter 5 - Epoch 0 - Client Type: Benign - Client Number 10 - Poison Training False\n"
     ]
    },
    {
     "name": "stderr",
     "output_type": "stream",
     "text": [
      "100%|████████████████████████████████████████████████████████████████████████████████████| 2/2 [00:01<00:00,  1.63it/s]\n"
     ]
    },
    {
     "name": "stdout",
     "output_type": "stream",
     "text": [
      "Iter 5 - Epoch 0 - Client Type: Benign - Client Number 11 - Poison Training False\n"
     ]
    },
    {
     "name": "stderr",
     "output_type": "stream",
     "text": [
      "100%|████████████████████████████████████████████████████████████████████████████████████| 2/2 [00:01<00:00,  1.77it/s]\n"
     ]
    },
    {
     "name": "stdout",
     "output_type": "stream",
     "text": [
      "Iter 5 - Epoch 0 - Client Type: Benign - Client Number 12 - Poison Training False\n"
     ]
    },
    {
     "name": "stderr",
     "output_type": "stream",
     "text": [
      "100%|████████████████████████████████████████████████████████████████████████████████████| 1/1 [00:00<00:00,  1.35it/s]\n"
     ]
    },
    {
     "name": "stdout",
     "output_type": "stream",
     "text": [
      "Iter 5 - Epoch 0 - Client Type: Benign - Client Number 13 - Poison Training False\n"
     ]
    },
    {
     "name": "stderr",
     "output_type": "stream",
     "text": [
      "100%|████████████████████████████████████████████████████████████████████████████████████| 2/2 [00:01<00:00,  1.60it/s]\n"
     ]
    },
    {
     "name": "stdout",
     "output_type": "stream",
     "text": [
      "Iter 5 - Epoch 0 - Client Type: Benign - Client Number 14 - Poison Training False\n"
     ]
    },
    {
     "name": "stderr",
     "output_type": "stream",
     "text": [
      "100%|████████████████████████████████████████████████████████████████████████████████████| 2/2 [00:01<00:00,  1.65it/s]\n"
     ]
    },
    {
     "name": "stdout",
     "output_type": "stream",
     "text": [
      "Iter 5 - Epoch 0 - Client Type: Benign - Client Number 15 - Poison Training False\n"
     ]
    },
    {
     "name": "stderr",
     "output_type": "stream",
     "text": [
      "100%|████████████████████████████████████████████████████████████████████████████████████| 1/1 [00:01<00:00,  1.00s/it]\n"
     ]
    },
    {
     "name": "stdout",
     "output_type": "stream",
     "text": [
      "Iter 5 - Epoch 0 - Client Type: Benign - Client Number 16 - Poison Training False\n"
     ]
    },
    {
     "name": "stderr",
     "output_type": "stream",
     "text": [
      "100%|████████████████████████████████████████████████████████████████████████████████████| 1/1 [00:01<00:00,  1.07s/it]\n"
     ]
    },
    {
     "name": "stdout",
     "output_type": "stream",
     "text": [
      "Iter 5 - Epoch 0 - Client Type: Benign - Client Number 17 - Poison Training False\n"
     ]
    },
    {
     "name": "stderr",
     "output_type": "stream",
     "text": [
      "100%|████████████████████████████████████████████████████████████████████████████████████| 2/2 [00:01<00:00,  1.26it/s]\n"
     ]
    },
    {
     "name": "stdout",
     "output_type": "stream",
     "text": [
      "Iter 5 - Epoch 0 - Client Type: Benign - Client Number 18 - Poison Training False\n"
     ]
    },
    {
     "name": "stderr",
     "output_type": "stream",
     "text": [
      "100%|████████████████████████████████████████████████████████████████████████████████████| 1/1 [00:01<00:00,  1.01s/it]\n"
     ]
    },
    {
     "name": "stdout",
     "output_type": "stream",
     "text": [
      "Iter 5 - Epoch 0 - Client Type: Benign - Client Number 19 - Poison Training False\n"
     ]
    },
    {
     "name": "stderr",
     "output_type": "stream",
     "text": [
      "100%|████████████████████████████████████████████████████████████████████████████████████| 2/2 [00:01<00:00,  1.62it/s]\n"
     ]
    },
    {
     "name": "stdout",
     "output_type": "stream",
     "text": [
      "\n",
      "\n",
      " Entering epoch 2\n",
      "Iter 5 - Epoch 0 - Client Type: Benign - Client Number 0 - Poison Training False\n"
     ]
    },
    {
     "name": "stderr",
     "output_type": "stream",
     "text": [
      "100%|████████████████████████████████████████████████████████████████████████████████████| 1/1 [00:00<00:00,  1.03it/s]\n"
     ]
    },
    {
     "name": "stdout",
     "output_type": "stream",
     "text": [
      "Iter 5 - Epoch 0 - Client Type: Benign - Client Number 1 - Poison Training False\n"
     ]
    },
    {
     "name": "stderr",
     "output_type": "stream",
     "text": [
      "100%|████████████████████████████████████████████████████████████████████████████████████| 1/1 [00:00<00:00,  1.20it/s]\n"
     ]
    },
    {
     "name": "stdout",
     "output_type": "stream",
     "text": [
      "Iter 5 - Epoch 0 - Client Type: Benign - Client Number 2 - Poison Training False\n"
     ]
    },
    {
     "name": "stderr",
     "output_type": "stream",
     "text": [
      "100%|████████████████████████████████████████████████████████████████████████████████████| 2/2 [00:01<00:00,  1.41it/s]\n"
     ]
    },
    {
     "name": "stdout",
     "output_type": "stream",
     "text": [
      "Iter 5 - Epoch 0 - Client Type: Benign - Client Number 3 - Poison Training False\n"
     ]
    },
    {
     "name": "stderr",
     "output_type": "stream",
     "text": [
      "100%|████████████████████████████████████████████████████████████████████████████████████| 1/1 [00:00<00:00,  1.07it/s]\n"
     ]
    },
    {
     "name": "stdout",
     "output_type": "stream",
     "text": [
      "Iter 5 - Epoch 0 - Client Type: Benign - Client Number 4 - Poison Training False\n"
     ]
    },
    {
     "name": "stderr",
     "output_type": "stream",
     "text": [
      "100%|████████████████████████████████████████████████████████████████████████████████████| 1/1 [00:00<00:00,  1.16it/s]\n"
     ]
    },
    {
     "name": "stdout",
     "output_type": "stream",
     "text": [
      "Iter 5 - Epoch 0 - Client Type: Benign - Client Number 5 - Poison Training False\n"
     ]
    },
    {
     "name": "stderr",
     "output_type": "stream",
     "text": [
      "100%|████████████████████████████████████████████████████████████████████████████████████| 1/1 [00:01<00:00,  1.04s/it]\n"
     ]
    },
    {
     "name": "stdout",
     "output_type": "stream",
     "text": [
      "Iter 5 - Epoch 0 - Client Type: Benign - Client Number 6 - Poison Training False\n"
     ]
    },
    {
     "name": "stderr",
     "output_type": "stream",
     "text": [
      "100%|████████████████████████████████████████████████████████████████████████████████████| 1/1 [00:00<00:00,  1.12it/s]\n"
     ]
    },
    {
     "name": "stdout",
     "output_type": "stream",
     "text": [
      "Iter 5 - Epoch 0 - Client Type: Benign - Client Number 7 - Poison Training False\n"
     ]
    },
    {
     "name": "stderr",
     "output_type": "stream",
     "text": [
      "100%|████████████████████████████████████████████████████████████████████████████████████| 1/1 [00:00<00:00,  1.02it/s]\n"
     ]
    },
    {
     "name": "stdout",
     "output_type": "stream",
     "text": [
      "Iter 5 - Epoch 0 - Client Type: Benign - Client Number 8 - Poison Training False\n"
     ]
    },
    {
     "name": "stderr",
     "output_type": "stream",
     "text": [
      "100%|████████████████████████████████████████████████████████████████████████████████████| 2/2 [00:01<00:00,  1.84it/s]\n"
     ]
    },
    {
     "name": "stdout",
     "output_type": "stream",
     "text": [
      "Iter 5 - Epoch 0 - Client Type: Benign - Client Number 9 - Poison Training False\n"
     ]
    },
    {
     "name": "stderr",
     "output_type": "stream",
     "text": [
      "100%|████████████████████████████████████████████████████████████████████████████████████| 1/1 [00:00<00:00,  1.01it/s]\n"
     ]
    },
    {
     "name": "stdout",
     "output_type": "stream",
     "text": [
      "Iter 5 - Epoch 0 - Client Type: Benign - Client Number 10 - Poison Training False\n"
     ]
    },
    {
     "name": "stderr",
     "output_type": "stream",
     "text": [
      "100%|████████████████████████████████████████████████████████████████████████████████████| 2/2 [00:01<00:00,  1.87it/s]\n"
     ]
    },
    {
     "name": "stdout",
     "output_type": "stream",
     "text": [
      "Iter 5 - Epoch 0 - Client Type: Benign - Client Number 11 - Poison Training False\n"
     ]
    },
    {
     "name": "stderr",
     "output_type": "stream",
     "text": [
      "100%|████████████████████████████████████████████████████████████████████████████████████| 2/2 [00:01<00:00,  1.85it/s]\n"
     ]
    },
    {
     "name": "stdout",
     "output_type": "stream",
     "text": [
      "Iter 5 - Epoch 0 - Client Type: Benign - Client Number 12 - Poison Training False\n"
     ]
    },
    {
     "name": "stderr",
     "output_type": "stream",
     "text": [
      "100%|████████████████████████████████████████████████████████████████████████████████████| 1/1 [00:00<00:00,  1.49it/s]\n"
     ]
    },
    {
     "name": "stdout",
     "output_type": "stream",
     "text": [
      "Iter 5 - Epoch 0 - Client Type: Benign - Client Number 13 - Poison Training False\n"
     ]
    },
    {
     "name": "stderr",
     "output_type": "stream",
     "text": [
      "100%|████████████████████████████████████████████████████████████████████████████████████| 2/2 [00:01<00:00,  1.82it/s]\n"
     ]
    },
    {
     "name": "stdout",
     "output_type": "stream",
     "text": [
      "Iter 5 - Epoch 0 - Client Type: Benign - Client Number 14 - Poison Training False\n"
     ]
    },
    {
     "name": "stderr",
     "output_type": "stream",
     "text": [
      "100%|████████████████████████████████████████████████████████████████████████████████████| 2/2 [00:01<00:00,  1.88it/s]\n"
     ]
    },
    {
     "name": "stdout",
     "output_type": "stream",
     "text": [
      "Iter 5 - Epoch 0 - Client Type: Benign - Client Number 15 - Poison Training False\n"
     ]
    },
    {
     "name": "stderr",
     "output_type": "stream",
     "text": [
      "100%|████████████████████████████████████████████████████████████████████████████████████| 1/1 [00:00<00:00,  1.04it/s]\n"
     ]
    },
    {
     "name": "stdout",
     "output_type": "stream",
     "text": [
      "Iter 5 - Epoch 0 - Client Type: Benign - Client Number 16 - Poison Training False\n"
     ]
    },
    {
     "name": "stderr",
     "output_type": "stream",
     "text": [
      "100%|████████████████████████████████████████████████████████████████████████████████████| 1/1 [00:00<00:00,  1.01it/s]\n"
     ]
    },
    {
     "name": "stdout",
     "output_type": "stream",
     "text": [
      "Iter 5 - Epoch 0 - Client Type: Benign - Client Number 17 - Poison Training False\n"
     ]
    },
    {
     "name": "stderr",
     "output_type": "stream",
     "text": [
      "100%|████████████████████████████████████████████████████████████████████████████████████| 2/2 [00:01<00:00,  1.36it/s]\n"
     ]
    },
    {
     "name": "stdout",
     "output_type": "stream",
     "text": [
      "Iter 5 - Epoch 0 - Client Type: Benign - Client Number 18 - Poison Training False\n"
     ]
    },
    {
     "name": "stderr",
     "output_type": "stream",
     "text": [
      "100%|████████████████████████████████████████████████████████████████████████████████████| 1/1 [00:01<00:00,  1.02s/it]\n"
     ]
    },
    {
     "name": "stdout",
     "output_type": "stream",
     "text": [
      "Iter 5 - Epoch 0 - Client Type: Benign - Client Number 19 - Poison Training False\n"
     ]
    },
    {
     "name": "stderr",
     "output_type": "stream",
     "text": [
      "100%|████████████████████████████████████████████████████████████████████████████████████| 2/2 [00:01<00:00,  1.63it/s]\n"
     ]
    },
    {
     "name": "stdout",
     "output_type": "stream",
     "text": [
      "\n",
      "\n",
      " Entering epoch 3\n",
      "Iter 5 - Epoch 0 - Client Type: Benign - Client Number 0 - Poison Training False\n"
     ]
    },
    {
     "name": "stderr",
     "output_type": "stream",
     "text": [
      "100%|████████████████████████████████████████████████████████████████████████████████████| 1/1 [00:00<00:00,  1.05it/s]\n"
     ]
    },
    {
     "name": "stdout",
     "output_type": "stream",
     "text": [
      "Iter 5 - Epoch 0 - Client Type: Benign - Client Number 1 - Poison Training False\n"
     ]
    },
    {
     "name": "stderr",
     "output_type": "stream",
     "text": [
      "100%|████████████████████████████████████████████████████████████████████████████████████| 1/1 [00:00<00:00,  1.22it/s]\n"
     ]
    },
    {
     "name": "stdout",
     "output_type": "stream",
     "text": [
      "Iter 5 - Epoch 0 - Client Type: Benign - Client Number 2 - Poison Training False\n"
     ]
    },
    {
     "name": "stderr",
     "output_type": "stream",
     "text": [
      "100%|████████████████████████████████████████████████████████████████████████████████████| 2/2 [00:01<00:00,  1.47it/s]\n"
     ]
    },
    {
     "name": "stdout",
     "output_type": "stream",
     "text": [
      "Iter 5 - Epoch 0 - Client Type: Benign - Client Number 3 - Poison Training False\n"
     ]
    },
    {
     "name": "stderr",
     "output_type": "stream",
     "text": [
      "100%|████████████████████████████████████████████████████████████████████████████████████| 1/1 [00:00<00:00,  1.17it/s]\n"
     ]
    },
    {
     "name": "stdout",
     "output_type": "stream",
     "text": [
      "Iter 5 - Epoch 0 - Client Type: Benign - Client Number 4 - Poison Training False\n"
     ]
    },
    {
     "name": "stderr",
     "output_type": "stream",
     "text": [
      "100%|████████████████████████████████████████████████████████████████████████████████████| 1/1 [00:00<00:00,  1.17it/s]\n"
     ]
    },
    {
     "name": "stdout",
     "output_type": "stream",
     "text": [
      "Iter 5 - Epoch 0 - Client Type: Benign - Client Number 5 - Poison Training False\n"
     ]
    },
    {
     "name": "stderr",
     "output_type": "stream",
     "text": [
      "100%|████████████████████████████████████████████████████████████████████████████████████| 1/1 [00:01<00:00,  1.00s/it]\n"
     ]
    },
    {
     "name": "stdout",
     "output_type": "stream",
     "text": [
      "Iter 5 - Epoch 0 - Client Type: Benign - Client Number 6 - Poison Training False\n"
     ]
    },
    {
     "name": "stderr",
     "output_type": "stream",
     "text": [
      "100%|████████████████████████████████████████████████████████████████████████████████████| 1/1 [00:00<00:00,  1.11it/s]\n"
     ]
    },
    {
     "name": "stdout",
     "output_type": "stream",
     "text": [
      "Iter 5 - Epoch 0 - Client Type: Benign - Client Number 7 - Poison Training False\n"
     ]
    },
    {
     "name": "stderr",
     "output_type": "stream",
     "text": [
      "100%|████████████████████████████████████████████████████████████████████████████████████| 1/1 [00:00<00:00,  1.05it/s]\n"
     ]
    },
    {
     "name": "stdout",
     "output_type": "stream",
     "text": [
      "Iter 5 - Epoch 0 - Client Type: Benign - Client Number 8 - Poison Training False\n"
     ]
    },
    {
     "name": "stderr",
     "output_type": "stream",
     "text": [
      "100%|████████████████████████████████████████████████████████████████████████████████████| 2/2 [00:01<00:00,  1.84it/s]\n"
     ]
    },
    {
     "name": "stdout",
     "output_type": "stream",
     "text": [
      "Iter 5 - Epoch 0 - Client Type: Benign - Client Number 9 - Poison Training False\n"
     ]
    },
    {
     "name": "stderr",
     "output_type": "stream",
     "text": [
      "100%|████████████████████████████████████████████████████████████████████████████████████| 1/1 [00:01<00:00,  1.02s/it]\n"
     ]
    },
    {
     "name": "stdout",
     "output_type": "stream",
     "text": [
      "Iter 5 - Epoch 0 - Client Type: Benign - Client Number 10 - Poison Training False\n"
     ]
    },
    {
     "name": "stderr",
     "output_type": "stream",
     "text": [
      "100%|████████████████████████████████████████████████████████████████████████████████████| 2/2 [00:01<00:00,  1.61it/s]\n"
     ]
    },
    {
     "name": "stdout",
     "output_type": "stream",
     "text": [
      "Iter 5 - Epoch 0 - Client Type: Benign - Client Number 11 - Poison Training False\n"
     ]
    },
    {
     "name": "stderr",
     "output_type": "stream",
     "text": [
      "100%|████████████████████████████████████████████████████████████████████████████████████| 2/2 [00:01<00:00,  1.71it/s]\n"
     ]
    },
    {
     "name": "stdout",
     "output_type": "stream",
     "text": [
      "Iter 5 - Epoch 0 - Client Type: Benign - Client Number 12 - Poison Training False\n"
     ]
    },
    {
     "name": "stderr",
     "output_type": "stream",
     "text": [
      "100%|████████████████████████████████████████████████████████████████████████████████████| 1/1 [00:00<00:00,  1.51it/s]\n"
     ]
    },
    {
     "name": "stdout",
     "output_type": "stream",
     "text": [
      "Iter 5 - Epoch 0 - Client Type: Benign - Client Number 13 - Poison Training False\n"
     ]
    },
    {
     "name": "stderr",
     "output_type": "stream",
     "text": [
      "100%|████████████████████████████████████████████████████████████████████████████████████| 2/2 [00:01<00:00,  1.65it/s]\n"
     ]
    },
    {
     "name": "stdout",
     "output_type": "stream",
     "text": [
      "Iter 5 - Epoch 0 - Client Type: Benign - Client Number 14 - Poison Training False\n"
     ]
    },
    {
     "name": "stderr",
     "output_type": "stream",
     "text": [
      "100%|████████████████████████████████████████████████████████████████████████████████████| 2/2 [00:01<00:00,  1.46it/s]\n"
     ]
    },
    {
     "name": "stdout",
     "output_type": "stream",
     "text": [
      "Iter 5 - Epoch 0 - Client Type: Benign - Client Number 15 - Poison Training False\n"
     ]
    },
    {
     "name": "stderr",
     "output_type": "stream",
     "text": [
      "100%|████████████████████████████████████████████████████████████████████████████████████| 1/1 [00:00<00:00,  1.05it/s]\n"
     ]
    },
    {
     "name": "stdout",
     "output_type": "stream",
     "text": [
      "Iter 5 - Epoch 0 - Client Type: Benign - Client Number 16 - Poison Training False\n"
     ]
    },
    {
     "name": "stderr",
     "output_type": "stream",
     "text": [
      "100%|████████████████████████████████████████████████████████████████████████████████████| 1/1 [00:00<00:00,  1.07it/s]\n"
     ]
    },
    {
     "name": "stdout",
     "output_type": "stream",
     "text": [
      "Iter 5 - Epoch 0 - Client Type: Benign - Client Number 17 - Poison Training False\n"
     ]
    },
    {
     "name": "stderr",
     "output_type": "stream",
     "text": [
      "100%|████████████████████████████████████████████████████████████████████████████████████| 2/2 [00:01<00:00,  1.29it/s]\n"
     ]
    },
    {
     "name": "stdout",
     "output_type": "stream",
     "text": [
      "Iter 5 - Epoch 0 - Client Type: Benign - Client Number 18 - Poison Training False\n"
     ]
    },
    {
     "name": "stderr",
     "output_type": "stream",
     "text": [
      "100%|████████████████████████████████████████████████████████████████████████████████████| 1/1 [00:00<00:00,  1.03it/s]\n"
     ]
    },
    {
     "name": "stdout",
     "output_type": "stream",
     "text": [
      "Iter 5 - Epoch 0 - Client Type: Benign - Client Number 19 - Poison Training False\n"
     ]
    },
    {
     "name": "stderr",
     "output_type": "stream",
     "text": [
      "100%|████████████████████████████████████████████████████████████████████████████████████| 2/2 [00:01<00:00,  1.55it/s]\n"
     ]
    },
    {
     "name": "stdout",
     "output_type": "stream",
     "text": [
      "\n",
      "\n",
      " Entering epoch 4\n",
      "Iter 5 - Epoch 0 - Client Type: Benign - Client Number 0 - Poison Training False\n"
     ]
    },
    {
     "name": "stderr",
     "output_type": "stream",
     "text": [
      "100%|████████████████████████████████████████████████████████████████████████████████████| 1/1 [00:00<00:00,  1.04it/s]\n"
     ]
    },
    {
     "name": "stdout",
     "output_type": "stream",
     "text": [
      "Iter 5 - Epoch 0 - Client Type: Benign - Client Number 1 - Poison Training False\n"
     ]
    },
    {
     "name": "stderr",
     "output_type": "stream",
     "text": [
      "100%|████████████████████████████████████████████████████████████████████████████████████| 1/1 [00:00<00:00,  1.03it/s]\n"
     ]
    },
    {
     "name": "stdout",
     "output_type": "stream",
     "text": [
      "Iter 5 - Epoch 0 - Client Type: Benign - Client Number 2 - Poison Training False\n"
     ]
    },
    {
     "name": "stderr",
     "output_type": "stream",
     "text": [
      "100%|████████████████████████████████████████████████████████████████████████████████████| 2/2 [00:01<00:00,  1.44it/s]\n"
     ]
    },
    {
     "name": "stdout",
     "output_type": "stream",
     "text": [
      "Iter 5 - Epoch 0 - Client Type: Benign - Client Number 3 - Poison Training False\n"
     ]
    },
    {
     "name": "stderr",
     "output_type": "stream",
     "text": [
      "100%|████████████████████████████████████████████████████████████████████████████████████| 1/1 [00:00<00:00,  1.07it/s]\n"
     ]
    },
    {
     "name": "stdout",
     "output_type": "stream",
     "text": [
      "Iter 5 - Epoch 0 - Client Type: Benign - Client Number 4 - Poison Training False\n"
     ]
    },
    {
     "name": "stderr",
     "output_type": "stream",
     "text": [
      "100%|████████████████████████████████████████████████████████████████████████████████████| 1/1 [00:00<00:00,  1.19it/s]\n"
     ]
    },
    {
     "name": "stdout",
     "output_type": "stream",
     "text": [
      "Iter 5 - Epoch 0 - Client Type: Benign - Client Number 5 - Poison Training False\n"
     ]
    },
    {
     "name": "stderr",
     "output_type": "stream",
     "text": [
      "100%|████████████████████████████████████████████████████████████████████████████████████| 1/1 [00:01<00:00,  1.04s/it]\n"
     ]
    },
    {
     "name": "stdout",
     "output_type": "stream",
     "text": [
      "Iter 5 - Epoch 0 - Client Type: Benign - Client Number 6 - Poison Training False\n"
     ]
    },
    {
     "name": "stderr",
     "output_type": "stream",
     "text": [
      "100%|████████████████████████████████████████████████████████████████████████████████████| 1/1 [00:00<00:00,  1.12it/s]\n"
     ]
    },
    {
     "name": "stdout",
     "output_type": "stream",
     "text": [
      "Iter 5 - Epoch 0 - Client Type: Benign - Client Number 7 - Poison Training False\n"
     ]
    },
    {
     "name": "stderr",
     "output_type": "stream",
     "text": [
      "100%|████████████████████████████████████████████████████████████████████████████████████| 1/1 [00:01<00:00,  1.00s/it]\n"
     ]
    },
    {
     "name": "stdout",
     "output_type": "stream",
     "text": [
      "Iter 5 - Epoch 0 - Client Type: Benign - Client Number 8 - Poison Training False\n"
     ]
    },
    {
     "name": "stderr",
     "output_type": "stream",
     "text": [
      "100%|████████████████████████████████████████████████████████████████████████████████████| 2/2 [00:01<00:00,  1.61it/s]\n"
     ]
    },
    {
     "name": "stdout",
     "output_type": "stream",
     "text": [
      "Iter 5 - Epoch 0 - Client Type: Benign - Client Number 9 - Poison Training False\n"
     ]
    },
    {
     "name": "stderr",
     "output_type": "stream",
     "text": [
      "100%|████████████████████████████████████████████████████████████████████████████████████| 1/1 [00:01<00:00,  1.03s/it]\n"
     ]
    },
    {
     "name": "stdout",
     "output_type": "stream",
     "text": [
      "Iter 5 - Epoch 0 - Client Type: Benign - Client Number 10 - Poison Training False\n"
     ]
    },
    {
     "name": "stderr",
     "output_type": "stream",
     "text": [
      "100%|████████████████████████████████████████████████████████████████████████████████████| 2/2 [00:01<00:00,  1.59it/s]\n"
     ]
    },
    {
     "name": "stdout",
     "output_type": "stream",
     "text": [
      "Iter 5 - Epoch 0 - Client Type: Benign - Client Number 11 - Poison Training False\n"
     ]
    },
    {
     "name": "stderr",
     "output_type": "stream",
     "text": [
      "100%|████████████████████████████████████████████████████████████████████████████████████| 2/2 [00:01<00:00,  1.65it/s]\n"
     ]
    },
    {
     "name": "stdout",
     "output_type": "stream",
     "text": [
      "Iter 5 - Epoch 0 - Client Type: Benign - Client Number 12 - Poison Training False\n"
     ]
    },
    {
     "name": "stderr",
     "output_type": "stream",
     "text": [
      "100%|████████████████████████████████████████████████████████████████████████████████████| 1/1 [00:00<00:00,  1.37it/s]\n"
     ]
    },
    {
     "name": "stdout",
     "output_type": "stream",
     "text": [
      "Iter 5 - Epoch 0 - Client Type: Benign - Client Number 13 - Poison Training False\n"
     ]
    },
    {
     "name": "stderr",
     "output_type": "stream",
     "text": [
      "100%|████████████████████████████████████████████████████████████████████████████████████| 2/2 [00:01<00:00,  1.70it/s]\n"
     ]
    },
    {
     "name": "stdout",
     "output_type": "stream",
     "text": [
      "Iter 5 - Epoch 0 - Client Type: Benign - Client Number 14 - Poison Training False\n"
     ]
    },
    {
     "name": "stderr",
     "output_type": "stream",
     "text": [
      "100%|████████████████████████████████████████████████████████████████████████████████████| 2/2 [00:01<00:00,  1.78it/s]\n"
     ]
    },
    {
     "name": "stdout",
     "output_type": "stream",
     "text": [
      "Iter 5 - Epoch 0 - Client Type: Benign - Client Number 15 - Poison Training False\n"
     ]
    },
    {
     "name": "stderr",
     "output_type": "stream",
     "text": [
      "100%|████████████████████████████████████████████████████████████████████████████████████| 1/1 [00:01<00:00,  1.00s/it]\n"
     ]
    },
    {
     "name": "stdout",
     "output_type": "stream",
     "text": [
      "Iter 5 - Epoch 0 - Client Type: Benign - Client Number 16 - Poison Training False\n"
     ]
    },
    {
     "name": "stderr",
     "output_type": "stream",
     "text": [
      "100%|████████████████████████████████████████████████████████████████████████████████████| 1/1 [00:00<00:00,  1.06it/s]\n"
     ]
    },
    {
     "name": "stdout",
     "output_type": "stream",
     "text": [
      "Iter 5 - Epoch 0 - Client Type: Benign - Client Number 17 - Poison Training False\n"
     ]
    },
    {
     "name": "stderr",
     "output_type": "stream",
     "text": [
      "100%|████████████████████████████████████████████████████████████████████████████████████| 2/2 [00:01<00:00,  1.22it/s]\n"
     ]
    },
    {
     "name": "stdout",
     "output_type": "stream",
     "text": [
      "Iter 5 - Epoch 0 - Client Type: Benign - Client Number 18 - Poison Training False\n"
     ]
    },
    {
     "name": "stderr",
     "output_type": "stream",
     "text": [
      "100%|████████████████████████████████████████████████████████████████████████████████████| 1/1 [00:00<00:00,  1.09it/s]\n"
     ]
    },
    {
     "name": "stdout",
     "output_type": "stream",
     "text": [
      "Iter 5 - Epoch 0 - Client Type: Benign - Client Number 19 - Poison Training False\n"
     ]
    },
    {
     "name": "stderr",
     "output_type": "stream",
     "text": [
      "100%|████████████████████████████████████████████████████████████████████████████████████| 2/2 [00:01<00:00,  1.57it/s]\n"
     ]
    },
    {
     "name": "stdout",
     "output_type": "stream",
     "text": [
      "Original Copylist [7, 2, 5, 3, 2, 7, 3, 7, 0, 7, 0, 0, 4, 0, 0, 7, 3, 1, 7, 6]\n",
      "Found clusters [0 4 0 7 4 0 7 0 3 0 1 1 5 3 1 0 7 6 0 2]\n",
      "Original groups [array([ 8, 10, 11, 13, 14], dtype=int64), array([17], dtype=int64), array([1, 4], dtype=int64), array([ 3,  6, 16], dtype=int64), array([12], dtype=int64), array([2], dtype=int64), array([19], dtype=int64), array([ 0,  5,  7,  9, 15, 18], dtype=int64)]\n",
      "Clustered groups [array([ 0,  2,  5,  7,  9, 15, 18], dtype=int64), array([10, 11, 14], dtype=int64), array([19], dtype=int64), array([ 8, 13], dtype=int64), array([1, 4], dtype=int64), array([12], dtype=int64), array([17], dtype=int64), array([ 3,  6, 16], dtype=int64)]\n",
      "Clustering score 0.7558363675305204\n",
      "6\n",
      "[[1.00000432 0.08654429 0.73348436 0.24089628 0.08246019 0.95371153\n",
      "  0.27491833 0.9385614  0.33286453 0.89585561 0.20360809 0.35917334\n",
      "  0.66698827 0.58615993 0.29605298 0.95241531 0.30308312 0.44568943\n",
      "  0.92771847 0.35588446]\n",
      " [0.08654429 1.00000799 0.14687711 0.52034556 0.98961605 0.08987831\n",
      "  0.46652362 0.07866635 0.41585721 0.09692218 0.41257847 0.38485085\n",
      "  0.1883755  0.22350722 0.36466261 0.08802073 0.45940278 0.24125087\n",
      "  0.07604648 0.36826085]\n",
      " [0.73348438 0.14687711 1.00000342 0.32673073 0.1436319  0.71694396\n",
      "  0.35621039 0.69247814 0.42462758 0.66791561 0.37259389 0.48032927\n",
      "  0.44238391 0.63008181 0.43495861 0.6873919  0.36732905 0.65257129\n",
      "  0.70597982 0.39974064]\n",
      " [0.24089629 0.52034554 0.32673074 1.00000589 0.52735091 0.23537715\n",
      "  0.96872895 0.23065766 0.48436344 0.24351787 0.49207626 0.44230153\n",
      "  0.21568042 0.36175532 0.48739764 0.22492365 0.96125385 0.28500684\n",
      "  0.22232193 0.37112876]\n",
      " [0.08246019 0.98961605 0.1436319  0.5273509  1.00000885 0.08913107\n",
      "  0.4717211  0.07524014 0.4057651  0.09370052 0.40506777 0.38052015\n",
      "  0.17599733 0.21367899 0.36107291 0.08498286 0.46549193 0.24533321\n",
      "  0.07293988 0.36805236]\n",
      " [0.95371155 0.08987831 0.71694396 0.23537717 0.08913107 1.00000443\n",
      "  0.26377827 0.96365453 0.3270449  0.94516734 0.18125267 0.34220539\n",
      "  0.69214684 0.56644907 0.2748928  0.95872438 0.29690465 0.42431998\n",
      "  0.96332774 0.37513977]\n",
      " [0.27491833 0.46652363 0.35621038 0.96872896 0.4717211  0.26377827\n",
      "  1.0000072  0.26927681 0.48743616 0.28027776 0.4744604  0.48722951\n",
      "  0.24493441 0.40057462 0.51311179 0.25691833 0.98178387 0.28162701\n",
      "  0.26357648 0.3728398 ]\n",
      " [0.93856139 0.07866635 0.69247812 0.23065765 0.07524015 0.96365457\n",
      "  0.26927681 1.00000491 0.33667551 0.97168015 0.18036732 0.34319164\n",
      "  0.68573791 0.57986163 0.28505909 0.97247792 0.2964101  0.41679809\n",
      "  0.9559224  0.38420404]\n",
      " [0.33286454 0.41585721 0.4246276  0.48436345 0.40576511 0.3270449\n",
      "  0.48743616 0.33667552 1.00000485 0.34087913 0.81469046 0.64561583\n",
      "  0.35515296 0.69870107 0.6973049  0.32861914 0.47272029 0.42096067\n",
      "  0.33439891 0.47834602]\n",
      " [0.89585562 0.09692219 0.66791558 0.24351787 0.09370053 0.94516733\n",
      "  0.28027777 0.97168016 0.34087913 1.00000508 0.17496567 0.33993914\n",
      "  0.67355086 0.56112029 0.28821716 0.9556515  0.30755271 0.40119831\n",
      "  0.93858742 0.40643756]\n",
      " [0.20360809 0.41257848 0.37259389 0.49207625 0.40506777 0.18125267\n",
      "  0.47446038 0.18036732 0.81469047 0.17496567 1.00000334 0.68409096\n",
      "  0.24274222 0.62262021 0.69194204 0.17402764 0.45079318 0.42115421\n",
      "  0.17795288 0.41988088]\n",
      " [0.35917335 0.38485085 0.48032927 0.44230155 0.38052015 0.34220539\n",
      "  0.48722951 0.34319165 0.64561583 0.33993914 0.68409095 1.00000535\n",
      "  0.3504815  0.63112965 0.73596233 0.33058952 0.48492562 0.46547645\n",
      "  0.34283049 0.43010756]\n",
      " [0.66698828 0.1883755  0.4423839  0.21568042 0.17599734 0.69214684\n",
      "  0.24493441 0.6857379  0.35515295 0.67355087 0.24274222 0.35048151\n",
      "  1.00000618 0.53295954 0.27297614 0.68366997 0.25666674 0.34360487\n",
      "  0.67925777 0.26782576]\n",
      " [0.58615992 0.22350722 0.6300818  0.36175534 0.21367899 0.56644906\n",
      "  0.40057462 0.57986162 0.69870107 0.5611203  0.6226202  0.63112962\n",
      "  0.53295953 1.00000238 0.62750691 0.55902284 0.40713391 0.44550514\n",
      "  0.57568888 0.48745872]\n",
      " [0.29605298 0.3646626  0.43495861 0.48739764 0.36107289 0.27489279\n",
      "  0.51311181 0.28505908 0.69730489 0.28821716 0.69194202 0.73596232\n",
      "  0.27297615 0.62750692 1.00000453 0.27102648 0.49971808 0.41890553\n",
      "  0.27343445 0.43496131]\n",
      " [0.95241534 0.08802073 0.68739188 0.22492365 0.08498286 0.9587244\n",
      "  0.25691833 0.97247794 0.32861915 0.95565151 0.17402763 0.33058953\n",
      "  0.68366995 0.55902281 0.27102649 1.00000322 0.28526661 0.42488729\n",
      "  0.93553647 0.3696514 ]\n",
      " [0.30308312 0.45940278 0.36732906 0.96125386 0.46549192 0.29690465\n",
      "  0.98178385 0.29641012 0.47272029 0.30755271 0.45079319 0.48492565\n",
      "  0.25666674 0.40713393 0.49971809 0.28526662 1.00000682 0.27602797\n",
      "  0.28987993 0.36563323]\n",
      " [0.44568945 0.24125087 0.65257129 0.28500684 0.2453332  0.42431998\n",
      "  0.28162701 0.41679809 0.42096066 0.40119833 0.42115423 0.46547645\n",
      "  0.34360486 0.44550516 0.41890553 0.42488727 0.27602797 1.00000484\n",
      "  0.41181388 0.21191262]\n",
      " [0.92771847 0.07604648 0.70597984 0.22232192 0.07293988 0.96332772\n",
      "  0.26357647 0.9559224  0.33439891 0.93858742 0.17795288 0.34283051\n",
      "  0.67925778 0.57568887 0.27343445 0.93553646 0.28987993 0.41181386\n",
      "  1.00000734 0.39006187]\n",
      " [0.35588445 0.36826084 0.39974065 0.37112876 0.36805237 0.37513978\n",
      "  0.3728398  0.38420404 0.47834602 0.40643756 0.41988088 0.43010755\n",
      "  0.26782574 0.48745873 0.4349613  0.36965141 0.36563323 0.21191263\n",
      "  0.39006186 1.00000317]]\n",
      "Original Copylist [7, 2, 5, 3, 2, 7, 3, 7, 0, 7, 0, 0, 4, 0, 0, 7, 3, 1, 7, 6]\n",
      "Found clusters [2 6 2 1 6 2 1 2 0 2 0 0 5 7 0 2 1 3 2 4]\n",
      "Original groups [array([ 8, 10, 11, 13, 14], dtype=int64), array([17], dtype=int64), array([1, 4], dtype=int64), array([ 3,  6, 16], dtype=int64), array([12], dtype=int64), array([2], dtype=int64), array([19], dtype=int64), array([ 0,  5,  7,  9, 15, 18], dtype=int64)]\n",
      "Clustered groups [array([ 8, 10, 11, 14], dtype=int64), array([ 3,  6, 16], dtype=int64), array([ 0,  2,  5,  7,  9, 15, 18], dtype=int64), array([17], dtype=int64), array([19], dtype=int64), array([12], dtype=int64), array([1, 4], dtype=int64), array([13], dtype=int64)]\n",
      "Clustering score 0.8021245573838783\n",
      "Benign net distance [tensor(42.3393), tensor(46.6664), tensor(43.8126), tensor(41.7345), tensor(48.0659), tensor(41.5074), tensor(41.4586), tensor(41.5146), tensor(38.0062), tensor(40.2761), tensor(48.6006), tensor(54.1052), tensor(44.7672), tensor(37.6556), tensor(52.4437), tensor(42.1476), tensor(40.4043), tensor(109.6922), tensor(40.7637), tensor(0.)]\n",
      "Malicious net distance []\n",
      "cos_sim list  [tensor(0.2157), tensor(0.2653), tensor(0.3262), tensor(0.3050), tensor(0.2445), tensor(0.2589), tensor(0.2778), tensor(0.2313), tensor(0.3830), tensor(0.3051), tensor(0.2531), tensor(0.2419), tensor(0.0494), tensor(0.3924), tensor(0.2752), tensor(0.2221), tensor(0.3025), tensor(0.0444), tensor(0.2778), tensor(1.0000)]\n",
      "Norms of local gradients  [tensor(0.2394), tensor(0.4323), tensor(0.4471), tensor(0.3142), tensor(0.4572), tensor(0.2309), tensor(0.3005), tensor(0.2306), tensor(0.4045), tensor(0.2250), tensor(0.5440), tensor(0.6832), tensor(0.3347), tensor(0.3979), tensor(0.5496), tensor(0.2386), tensor(0.2807), tensor(1.1100), tensor(0.2255), tensor(0.4321)]\n",
      "\n",
      " Aggregating models\n",
      "Cosine Similarities:  [tensor(0.2157), tensor(0.2653), tensor(0.3262), tensor(0.3050), tensor(0.2445), tensor(0.2589), tensor(0.2778), tensor(0.2313), tensor(0.3830), tensor(0.3051), tensor(0.2531), tensor(0.2419), tensor(0.0494), tensor(0.3924), tensor(0.2752), tensor(0.2221), tensor(0.3025), tensor(0.0444), tensor(0.2778), tensor(1.0000)]\n",
      "Aggregation Weights:  [0.06630243 0.04516174 0.05368451 0.07145117 0.0393521  0.08251569\n",
      " 0.06801918 0.07377835 0.06966906 0.0997645  0.03423053 0.02605416\n",
      " 0.01086821 0.07255381 0.03684577 0.06849367 0.079315   0.00294351\n",
      " 0.09063672 0.1703102 ]\n",
      "\n",
      "\n",
      "\n",
      "Aggregate test at iter  5\n"
     ]
    },
    {
     "name": "stderr",
     "output_type": "stream",
     "text": [
      "100%|██████████████████████████████████████████████████████████████████████████████████| 10/10 [00:02<00:00,  3.88it/s]\n"
     ]
    },
    {
     "name": "stdout",
     "output_type": "stream",
     "text": [
      "\n",
      "Test set: Avg. loss: 0.0008, Accuracy: 7275/10000 (73%)\n",
      "\n",
      "\n",
      "\n",
      " Entering epoch 0\n",
      "Iter 6 - Epoch 0 - Client Type: Benign - Client Number 0 - Poison Training False\n"
     ]
    },
    {
     "name": "stderr",
     "output_type": "stream",
     "text": [
      "100%|████████████████████████████████████████████████████████████████████████████████████| 1/1 [00:01<00:00,  1.46s/it]\n"
     ]
    },
    {
     "name": "stdout",
     "output_type": "stream",
     "text": [
      "Iter 6 - Epoch 0 - Client Type: Benign - Client Number 1 - Poison Training False\n"
     ]
    },
    {
     "name": "stderr",
     "output_type": "stream",
     "text": [
      "100%|████████████████████████████████████████████████████████████████████████████████████| 1/1 [00:01<00:00,  1.01s/it]\n"
     ]
    },
    {
     "name": "stdout",
     "output_type": "stream",
     "text": [
      "Iter 6 - Epoch 0 - Client Type: Benign - Client Number 2 - Poison Training False\n"
     ]
    },
    {
     "name": "stderr",
     "output_type": "stream",
     "text": [
      "100%|████████████████████████████████████████████████████████████████████████████████████| 2/2 [00:01<00:00,  1.02it/s]\n"
     ]
    },
    {
     "name": "stdout",
     "output_type": "stream",
     "text": [
      "Iter 6 - Epoch 0 - Client Type: Benign - Client Number 3 - Poison Training False\n"
     ]
    },
    {
     "name": "stderr",
     "output_type": "stream",
     "text": [
      "100%|████████████████████████████████████████████████████████████████████████████████████| 1/1 [00:01<00:00,  1.02s/it]\n"
     ]
    },
    {
     "name": "stdout",
     "output_type": "stream",
     "text": [
      "Iter 6 - Epoch 0 - Client Type: Benign - Client Number 4 - Poison Training False\n"
     ]
    },
    {
     "name": "stderr",
     "output_type": "stream",
     "text": [
      "100%|████████████████████████████████████████████████████████████████████████████████████| 1/1 [00:00<00:00,  1.15it/s]\n"
     ]
    },
    {
     "name": "stdout",
     "output_type": "stream",
     "text": [
      "Iter 6 - Epoch 0 - Client Type: Benign - Client Number 5 - Poison Training False\n"
     ]
    },
    {
     "name": "stderr",
     "output_type": "stream",
     "text": [
      "100%|████████████████████████████████████████████████████████████████████████████████████| 1/1 [00:01<00:00,  1.02s/it]\n"
     ]
    },
    {
     "name": "stdout",
     "output_type": "stream",
     "text": [
      "Iter 6 - Epoch 0 - Client Type: Benign - Client Number 6 - Poison Training False\n"
     ]
    },
    {
     "name": "stderr",
     "output_type": "stream",
     "text": [
      "100%|████████████████████████████████████████████████████████████████████████████████████| 1/1 [00:00<00:00,  1.06it/s]\n"
     ]
    },
    {
     "name": "stdout",
     "output_type": "stream",
     "text": [
      "Iter 6 - Epoch 0 - Client Type: Benign - Client Number 7 - Poison Training False\n"
     ]
    },
    {
     "name": "stderr",
     "output_type": "stream",
     "text": [
      "100%|████████████████████████████████████████████████████████████████████████████████████| 1/1 [00:00<00:00,  1.01it/s]\n"
     ]
    },
    {
     "name": "stdout",
     "output_type": "stream",
     "text": [
      "Iter 6 - Epoch 0 - Client Type: Benign - Client Number 8 - Poison Training False\n"
     ]
    },
    {
     "name": "stderr",
     "output_type": "stream",
     "text": [
      "100%|████████████████████████████████████████████████████████████████████████████████████| 2/2 [00:01<00:00,  1.71it/s]\n"
     ]
    },
    {
     "name": "stdout",
     "output_type": "stream",
     "text": [
      "Iter 6 - Epoch 0 - Client Type: Benign - Client Number 9 - Poison Training False\n"
     ]
    },
    {
     "name": "stderr",
     "output_type": "stream",
     "text": [
      "100%|████████████████████████████████████████████████████████████████████████████████████| 1/1 [00:01<00:00,  1.18s/it]\n"
     ]
    },
    {
     "name": "stdout",
     "output_type": "stream",
     "text": [
      "Iter 6 - Epoch 0 - Client Type: Benign - Client Number 10 - Poison Training False\n"
     ]
    },
    {
     "name": "stderr",
     "output_type": "stream",
     "text": [
      "100%|████████████████████████████████████████████████████████████████████████████████████| 2/2 [00:01<00:00,  1.74it/s]\n"
     ]
    },
    {
     "name": "stdout",
     "output_type": "stream",
     "text": [
      "Iter 6 - Epoch 0 - Client Type: Benign - Client Number 11 - Poison Training False\n"
     ]
    },
    {
     "name": "stderr",
     "output_type": "stream",
     "text": [
      "100%|████████████████████████████████████████████████████████████████████████████████████| 2/2 [00:01<00:00,  1.69it/s]\n"
     ]
    },
    {
     "name": "stdout",
     "output_type": "stream",
     "text": [
      "Iter 6 - Epoch 0 - Client Type: Benign - Client Number 12 - Poison Training False\n"
     ]
    },
    {
     "name": "stderr",
     "output_type": "stream",
     "text": [
      "100%|████████████████████████████████████████████████████████████████████████████████████| 1/1 [00:00<00:00,  1.12it/s]\n"
     ]
    },
    {
     "name": "stdout",
     "output_type": "stream",
     "text": [
      "Iter 6 - Epoch 0 - Client Type: Benign - Client Number 13 - Poison Training False\n"
     ]
    },
    {
     "name": "stderr",
     "output_type": "stream",
     "text": [
      "100%|████████████████████████████████████████████████████████████████████████████████████| 2/2 [00:01<00:00,  1.50it/s]\n"
     ]
    },
    {
     "name": "stdout",
     "output_type": "stream",
     "text": [
      "Iter 6 - Epoch 0 - Client Type: Benign - Client Number 14 - Poison Training False\n"
     ]
    },
    {
     "name": "stderr",
     "output_type": "stream",
     "text": [
      "100%|████████████████████████████████████████████████████████████████████████████████████| 2/2 [00:01<00:00,  1.79it/s]\n"
     ]
    },
    {
     "name": "stdout",
     "output_type": "stream",
     "text": [
      "Iter 6 - Epoch 0 - Client Type: Benign - Client Number 15 - Poison Training False\n"
     ]
    },
    {
     "name": "stderr",
     "output_type": "stream",
     "text": [
      "100%|████████████████████████████████████████████████████████████████████████████████████| 1/1 [00:01<00:00,  1.23s/it]\n"
     ]
    },
    {
     "name": "stdout",
     "output_type": "stream",
     "text": [
      "Iter 6 - Epoch 0 - Client Type: Benign - Client Number 16 - Poison Training False\n"
     ]
    },
    {
     "name": "stderr",
     "output_type": "stream",
     "text": [
      "100%|████████████████████████████████████████████████████████████████████████████████████| 1/1 [00:01<00:00,  1.01s/it]\n"
     ]
    },
    {
     "name": "stdout",
     "output_type": "stream",
     "text": [
      "Iter 6 - Epoch 0 - Client Type: Benign - Client Number 17 - Poison Training False\n"
     ]
    },
    {
     "name": "stderr",
     "output_type": "stream",
     "text": [
      "100%|████████████████████████████████████████████████████████████████████████████████████| 2/2 [00:02<00:00,  1.04s/it]\n"
     ]
    },
    {
     "name": "stdout",
     "output_type": "stream",
     "text": [
      "Iter 6 - Epoch 0 - Client Type: Benign - Client Number 18 - Poison Training False\n"
     ]
    },
    {
     "name": "stderr",
     "output_type": "stream",
     "text": [
      "100%|████████████████████████████████████████████████████████████████████████████████████| 1/1 [00:01<00:00,  1.04s/it]\n"
     ]
    },
    {
     "name": "stdout",
     "output_type": "stream",
     "text": [
      "Iter 6 - Epoch 0 - Client Type: Benign - Client Number 19 - Poison Training False\n"
     ]
    },
    {
     "name": "stderr",
     "output_type": "stream",
     "text": [
      "100%|████████████████████████████████████████████████████████████████████████████████████| 2/2 [00:01<00:00,  1.54it/s]\n"
     ]
    },
    {
     "name": "stdout",
     "output_type": "stream",
     "text": [
      "\n",
      "\n",
      " Entering epoch 1\n",
      "Iter 6 - Epoch 0 - Client Type: Benign - Client Number 0 - Poison Training False\n"
     ]
    },
    {
     "name": "stderr",
     "output_type": "stream",
     "text": [
      "100%|████████████████████████████████████████████████████████████████████████████████████| 1/1 [00:00<00:00,  1.00it/s]\n"
     ]
    },
    {
     "name": "stdout",
     "output_type": "stream",
     "text": [
      "Iter 6 - Epoch 0 - Client Type: Benign - Client Number 1 - Poison Training False\n"
     ]
    },
    {
     "name": "stderr",
     "output_type": "stream",
     "text": [
      "100%|████████████████████████████████████████████████████████████████████████████████████| 1/1 [00:00<00:00,  1.24it/s]\n"
     ]
    },
    {
     "name": "stdout",
     "output_type": "stream",
     "text": [
      "Iter 6 - Epoch 0 - Client Type: Benign - Client Number 2 - Poison Training False\n"
     ]
    },
    {
     "name": "stderr",
     "output_type": "stream",
     "text": [
      "100%|████████████████████████████████████████████████████████████████████████████████████| 2/2 [00:01<00:00,  1.35it/s]\n"
     ]
    },
    {
     "name": "stdout",
     "output_type": "stream",
     "text": [
      "Iter 6 - Epoch 0 - Client Type: Benign - Client Number 3 - Poison Training False\n"
     ]
    },
    {
     "name": "stderr",
     "output_type": "stream",
     "text": [
      "100%|████████████████████████████████████████████████████████████████████████████████████| 1/1 [00:01<00:00,  1.05s/it]\n"
     ]
    },
    {
     "name": "stdout",
     "output_type": "stream",
     "text": [
      "Iter 6 - Epoch 0 - Client Type: Benign - Client Number 4 - Poison Training False\n"
     ]
    },
    {
     "name": "stderr",
     "output_type": "stream",
     "text": [
      "100%|████████████████████████████████████████████████████████████████████████████████████| 1/1 [00:00<00:00,  1.16it/s]\n"
     ]
    },
    {
     "name": "stdout",
     "output_type": "stream",
     "text": [
      "Iter 6 - Epoch 0 - Client Type: Benign - Client Number 5 - Poison Training False\n"
     ]
    },
    {
     "name": "stderr",
     "output_type": "stream",
     "text": [
      "100%|████████████████████████████████████████████████████████████████████████████████████| 1/1 [00:01<00:00,  1.07s/it]\n"
     ]
    },
    {
     "name": "stdout",
     "output_type": "stream",
     "text": [
      "Iter 6 - Epoch 0 - Client Type: Benign - Client Number 6 - Poison Training False\n"
     ]
    },
    {
     "name": "stderr",
     "output_type": "stream",
     "text": [
      "100%|████████████████████████████████████████████████████████████████████████████████████| 1/1 [00:01<00:00,  1.06s/it]\n"
     ]
    },
    {
     "name": "stdout",
     "output_type": "stream",
     "text": [
      "Iter 6 - Epoch 0 - Client Type: Benign - Client Number 7 - Poison Training False\n"
     ]
    },
    {
     "name": "stderr",
     "output_type": "stream",
     "text": [
      "100%|████████████████████████████████████████████████████████████████████████████████████| 1/1 [00:01<00:00,  1.05s/it]\n"
     ]
    },
    {
     "name": "stdout",
     "output_type": "stream",
     "text": [
      "Iter 6 - Epoch 0 - Client Type: Benign - Client Number 8 - Poison Training False\n"
     ]
    },
    {
     "name": "stderr",
     "output_type": "stream",
     "text": [
      "100%|████████████████████████████████████████████████████████████████████████████████████| 2/2 [00:01<00:00,  1.39it/s]\n"
     ]
    },
    {
     "name": "stdout",
     "output_type": "stream",
     "text": [
      "Iter 6 - Epoch 0 - Client Type: Benign - Client Number 9 - Poison Training False\n"
     ]
    },
    {
     "name": "stderr",
     "output_type": "stream",
     "text": [
      "100%|████████████████████████████████████████████████████████████████████████████████████| 1/1 [00:01<00:00,  1.07s/it]\n"
     ]
    },
    {
     "name": "stdout",
     "output_type": "stream",
     "text": [
      "Iter 6 - Epoch 0 - Client Type: Benign - Client Number 10 - Poison Training False\n"
     ]
    },
    {
     "name": "stderr",
     "output_type": "stream",
     "text": [
      "100%|████████████████████████████████████████████████████████████████████████████████████| 2/2 [00:01<00:00,  1.65it/s]\n"
     ]
    },
    {
     "name": "stdout",
     "output_type": "stream",
     "text": [
      "Iter 6 - Epoch 0 - Client Type: Benign - Client Number 11 - Poison Training False\n"
     ]
    },
    {
     "name": "stderr",
     "output_type": "stream",
     "text": [
      "100%|████████████████████████████████████████████████████████████████████████████████████| 2/2 [00:01<00:00,  1.74it/s]\n"
     ]
    },
    {
     "name": "stdout",
     "output_type": "stream",
     "text": [
      "Iter 6 - Epoch 0 - Client Type: Benign - Client Number 12 - Poison Training False\n"
     ]
    },
    {
     "name": "stderr",
     "output_type": "stream",
     "text": [
      "100%|████████████████████████████████████████████████████████████████████████████████████| 1/1 [00:00<00:00,  1.46it/s]\n"
     ]
    },
    {
     "name": "stdout",
     "output_type": "stream",
     "text": [
      "Iter 6 - Epoch 0 - Client Type: Benign - Client Number 13 - Poison Training False\n"
     ]
    },
    {
     "name": "stderr",
     "output_type": "stream",
     "text": [
      "100%|████████████████████████████████████████████████████████████████████████████████████| 2/2 [00:01<00:00,  1.61it/s]\n"
     ]
    },
    {
     "name": "stdout",
     "output_type": "stream",
     "text": [
      "Iter 6 - Epoch 0 - Client Type: Benign - Client Number 14 - Poison Training False\n"
     ]
    },
    {
     "name": "stderr",
     "output_type": "stream",
     "text": [
      "100%|████████████████████████████████████████████████████████████████████████████████████| 2/2 [00:01<00:00,  1.77it/s]\n"
     ]
    },
    {
     "name": "stdout",
     "output_type": "stream",
     "text": [
      "Iter 6 - Epoch 0 - Client Type: Benign - Client Number 15 - Poison Training False\n"
     ]
    },
    {
     "name": "stderr",
     "output_type": "stream",
     "text": [
      "100%|████████████████████████████████████████████████████████████████████████████████████| 1/1 [00:01<00:00,  1.02s/it]\n"
     ]
    },
    {
     "name": "stdout",
     "output_type": "stream",
     "text": [
      "Iter 6 - Epoch 0 - Client Type: Benign - Client Number 16 - Poison Training False\n"
     ]
    },
    {
     "name": "stderr",
     "output_type": "stream",
     "text": [
      "100%|████████████████████████████████████████████████████████████████████████████████████| 1/1 [00:00<00:00,  1.03it/s]\n"
     ]
    },
    {
     "name": "stdout",
     "output_type": "stream",
     "text": [
      "Iter 6 - Epoch 0 - Client Type: Benign - Client Number 17 - Poison Training False\n"
     ]
    },
    {
     "name": "stderr",
     "output_type": "stream",
     "text": [
      "100%|████████████████████████████████████████████████████████████████████████████████████| 2/2 [00:01<00:00,  1.20it/s]\n"
     ]
    },
    {
     "name": "stdout",
     "output_type": "stream",
     "text": [
      "Iter 6 - Epoch 0 - Client Type: Benign - Client Number 18 - Poison Training False\n"
     ]
    },
    {
     "name": "stderr",
     "output_type": "stream",
     "text": [
      "100%|████████████████████████████████████████████████████████████████████████████████████| 1/1 [00:01<00:00,  1.05s/it]\n"
     ]
    },
    {
     "name": "stdout",
     "output_type": "stream",
     "text": [
      "Iter 6 - Epoch 0 - Client Type: Benign - Client Number 19 - Poison Training False\n"
     ]
    },
    {
     "name": "stderr",
     "output_type": "stream",
     "text": [
      "100%|████████████████████████████████████████████████████████████████████████████████████| 2/2 [00:01<00:00,  1.48it/s]\n"
     ]
    },
    {
     "name": "stdout",
     "output_type": "stream",
     "text": [
      "\n",
      "\n",
      " Entering epoch 2\n",
      "Iter 6 - Epoch 0 - Client Type: Benign - Client Number 0 - Poison Training False\n"
     ]
    },
    {
     "name": "stderr",
     "output_type": "stream",
     "text": [
      "100%|████████████████████████████████████████████████████████████████████████████████████| 1/1 [00:01<00:00,  1.07s/it]\n"
     ]
    },
    {
     "name": "stdout",
     "output_type": "stream",
     "text": [
      "Iter 6 - Epoch 0 - Client Type: Benign - Client Number 1 - Poison Training False\n"
     ]
    },
    {
     "name": "stderr",
     "output_type": "stream",
     "text": [
      "100%|████████████████████████████████████████████████████████████████████████████████████| 1/1 [00:00<00:00,  1.23it/s]\n"
     ]
    },
    {
     "name": "stdout",
     "output_type": "stream",
     "text": [
      "Iter 6 - Epoch 0 - Client Type: Benign - Client Number 2 - Poison Training False\n"
     ]
    },
    {
     "name": "stderr",
     "output_type": "stream",
     "text": [
      "100%|████████████████████████████████████████████████████████████████████████████████████| 2/2 [00:01<00:00,  1.20it/s]\n"
     ]
    },
    {
     "name": "stdout",
     "output_type": "stream",
     "text": [
      "Iter 6 - Epoch 0 - Client Type: Benign - Client Number 3 - Poison Training False\n"
     ]
    },
    {
     "name": "stderr",
     "output_type": "stream",
     "text": [
      "100%|████████████████████████████████████████████████████████████████████████████████████| 1/1 [00:00<00:00,  1.11it/s]\n"
     ]
    },
    {
     "name": "stdout",
     "output_type": "stream",
     "text": [
      "Iter 6 - Epoch 0 - Client Type: Benign - Client Number 4 - Poison Training False\n"
     ]
    },
    {
     "name": "stderr",
     "output_type": "stream",
     "text": [
      "100%|████████████████████████████████████████████████████████████████████████████████████| 1/1 [00:00<00:00,  1.09it/s]\n"
     ]
    },
    {
     "name": "stdout",
     "output_type": "stream",
     "text": [
      "Iter 6 - Epoch 0 - Client Type: Benign - Client Number 5 - Poison Training False\n"
     ]
    },
    {
     "name": "stderr",
     "output_type": "stream",
     "text": [
      "100%|████████████████████████████████████████████████████████████████████████████████████| 1/1 [00:01<00:00,  1.01s/it]\n"
     ]
    },
    {
     "name": "stdout",
     "output_type": "stream",
     "text": [
      "Iter 6 - Epoch 0 - Client Type: Benign - Client Number 6 - Poison Training False\n"
     ]
    },
    {
     "name": "stderr",
     "output_type": "stream",
     "text": [
      "100%|████████████████████████████████████████████████████████████████████████████████████| 1/1 [00:01<00:00,  1.02s/it]\n"
     ]
    },
    {
     "name": "stdout",
     "output_type": "stream",
     "text": [
      "Iter 6 - Epoch 0 - Client Type: Benign - Client Number 7 - Poison Training False\n"
     ]
    },
    {
     "name": "stderr",
     "output_type": "stream",
     "text": [
      "100%|████████████████████████████████████████████████████████████████████████████████████| 1/1 [00:01<00:00,  1.12s/it]\n"
     ]
    },
    {
     "name": "stdout",
     "output_type": "stream",
     "text": [
      "Iter 6 - Epoch 0 - Client Type: Benign - Client Number 8 - Poison Training False\n"
     ]
    },
    {
     "name": "stderr",
     "output_type": "stream",
     "text": [
      "100%|████████████████████████████████████████████████████████████████████████████████████| 2/2 [00:01<00:00,  1.63it/s]\n"
     ]
    },
    {
     "name": "stdout",
     "output_type": "stream",
     "text": [
      "Iter 6 - Epoch 0 - Client Type: Benign - Client Number 9 - Poison Training False\n"
     ]
    },
    {
     "name": "stderr",
     "output_type": "stream",
     "text": [
      "100%|████████████████████████████████████████████████████████████████████████████████████| 1/1 [00:01<00:00,  1.14s/it]\n"
     ]
    },
    {
     "name": "stdout",
     "output_type": "stream",
     "text": [
      "Iter 6 - Epoch 0 - Client Type: Benign - Client Number 10 - Poison Training False\n"
     ]
    },
    {
     "name": "stderr",
     "output_type": "stream",
     "text": [
      "100%|████████████████████████████████████████████████████████████████████████████████████| 2/2 [00:01<00:00,  1.73it/s]\n"
     ]
    },
    {
     "name": "stdout",
     "output_type": "stream",
     "text": [
      "Iter 6 - Epoch 0 - Client Type: Benign - Client Number 11 - Poison Training False\n"
     ]
    },
    {
     "name": "stderr",
     "output_type": "stream",
     "text": [
      "100%|████████████████████████████████████████████████████████████████████████████████████| 2/2 [00:01<00:00,  1.81it/s]\n"
     ]
    },
    {
     "name": "stdout",
     "output_type": "stream",
     "text": [
      "Iter 6 - Epoch 0 - Client Type: Benign - Client Number 12 - Poison Training False\n"
     ]
    },
    {
     "name": "stderr",
     "output_type": "stream",
     "text": [
      "100%|████████████████████████████████████████████████████████████████████████████████████| 1/1 [00:00<00:00,  1.52it/s]\n"
     ]
    },
    {
     "name": "stdout",
     "output_type": "stream",
     "text": [
      "Iter 6 - Epoch 0 - Client Type: Benign - Client Number 13 - Poison Training False\n"
     ]
    },
    {
     "name": "stderr",
     "output_type": "stream",
     "text": [
      "100%|████████████████████████████████████████████████████████████████████████████████████| 2/2 [00:01<00:00,  1.87it/s]\n"
     ]
    },
    {
     "name": "stdout",
     "output_type": "stream",
     "text": [
      "Iter 6 - Epoch 0 - Client Type: Benign - Client Number 14 - Poison Training False\n"
     ]
    },
    {
     "name": "stderr",
     "output_type": "stream",
     "text": [
      "100%|████████████████████████████████████████████████████████████████████████████████████| 2/2 [00:01<00:00,  1.72it/s]\n"
     ]
    },
    {
     "name": "stdout",
     "output_type": "stream",
     "text": [
      "Iter 6 - Epoch 0 - Client Type: Benign - Client Number 15 - Poison Training False\n"
     ]
    },
    {
     "name": "stderr",
     "output_type": "stream",
     "text": [
      "100%|████████████████████████████████████████████████████████████████████████████████████| 1/1 [00:01<00:00,  1.04s/it]\n"
     ]
    },
    {
     "name": "stdout",
     "output_type": "stream",
     "text": [
      "Iter 6 - Epoch 0 - Client Type: Benign - Client Number 16 - Poison Training False\n"
     ]
    },
    {
     "name": "stderr",
     "output_type": "stream",
     "text": [
      "100%|████████████████████████████████████████████████████████████████████████████████████| 1/1 [00:01<00:00,  1.02s/it]\n"
     ]
    },
    {
     "name": "stdout",
     "output_type": "stream",
     "text": [
      "Iter 6 - Epoch 0 - Client Type: Benign - Client Number 17 - Poison Training False\n"
     ]
    },
    {
     "name": "stderr",
     "output_type": "stream",
     "text": [
      "100%|████████████████████████████████████████████████████████████████████████████████████| 2/2 [00:01<00:00,  1.36it/s]\n"
     ]
    },
    {
     "name": "stdout",
     "output_type": "stream",
     "text": [
      "Iter 6 - Epoch 0 - Client Type: Benign - Client Number 18 - Poison Training False\n"
     ]
    },
    {
     "name": "stderr",
     "output_type": "stream",
     "text": [
      "100%|████████████████████████████████████████████████████████████████████████████████████| 1/1 [00:01<00:00,  1.09s/it]\n"
     ]
    },
    {
     "name": "stdout",
     "output_type": "stream",
     "text": [
      "Iter 6 - Epoch 0 - Client Type: Benign - Client Number 19 - Poison Training False\n"
     ]
    },
    {
     "name": "stderr",
     "output_type": "stream",
     "text": [
      "100%|████████████████████████████████████████████████████████████████████████████████████| 2/2 [00:01<00:00,  1.32it/s]\n"
     ]
    },
    {
     "name": "stdout",
     "output_type": "stream",
     "text": [
      "\n",
      "\n",
      " Entering epoch 3\n",
      "Iter 6 - Epoch 0 - Client Type: Benign - Client Number 0 - Poison Training False\n"
     ]
    },
    {
     "name": "stderr",
     "output_type": "stream",
     "text": [
      "100%|████████████████████████████████████████████████████████████████████████████████████| 1/1 [00:01<00:00,  1.01s/it]\n"
     ]
    },
    {
     "name": "stdout",
     "output_type": "stream",
     "text": [
      "Iter 6 - Epoch 0 - Client Type: Benign - Client Number 1 - Poison Training False\n"
     ]
    },
    {
     "name": "stderr",
     "output_type": "stream",
     "text": [
      "100%|████████████████████████████████████████████████████████████████████████████████████| 1/1 [00:00<00:00,  1.05it/s]\n"
     ]
    },
    {
     "name": "stdout",
     "output_type": "stream",
     "text": [
      "Iter 6 - Epoch 0 - Client Type: Benign - Client Number 2 - Poison Training False\n"
     ]
    },
    {
     "name": "stderr",
     "output_type": "stream",
     "text": [
      "100%|████████████████████████████████████████████████████████████████████████████████████| 2/2 [00:01<00:00,  1.30it/s]\n"
     ]
    },
    {
     "name": "stdout",
     "output_type": "stream",
     "text": [
      "Iter 6 - Epoch 0 - Client Type: Benign - Client Number 3 - Poison Training False\n"
     ]
    },
    {
     "name": "stderr",
     "output_type": "stream",
     "text": [
      "100%|████████████████████████████████████████████████████████████████████████████████████| 1/1 [00:01<00:00,  1.23s/it]\n"
     ]
    },
    {
     "name": "stdout",
     "output_type": "stream",
     "text": [
      "Iter 6 - Epoch 0 - Client Type: Benign - Client Number 4 - Poison Training False\n"
     ]
    },
    {
     "name": "stderr",
     "output_type": "stream",
     "text": [
      "100%|████████████████████████████████████████████████████████████████████████████████████| 1/1 [00:01<00:00,  1.25s/it]\n"
     ]
    },
    {
     "name": "stdout",
     "output_type": "stream",
     "text": [
      "Iter 6 - Epoch 0 - Client Type: Benign - Client Number 5 - Poison Training False\n"
     ]
    },
    {
     "name": "stderr",
     "output_type": "stream",
     "text": [
      "100%|████████████████████████████████████████████████████████████████████████████████████| 1/1 [00:01<00:00,  1.22s/it]\n"
     ]
    },
    {
     "name": "stdout",
     "output_type": "stream",
     "text": [
      "Iter 6 - Epoch 0 - Client Type: Benign - Client Number 6 - Poison Training False\n"
     ]
    },
    {
     "name": "stderr",
     "output_type": "stream",
     "text": [
      "100%|████████████████████████████████████████████████████████████████████████████████████| 1/1 [00:01<00:00,  1.04s/it]\n"
     ]
    },
    {
     "name": "stdout",
     "output_type": "stream",
     "text": [
      "Iter 6 - Epoch 0 - Client Type: Benign - Client Number 7 - Poison Training False\n"
     ]
    },
    {
     "name": "stderr",
     "output_type": "stream",
     "text": [
      "100%|████████████████████████████████████████████████████████████████████████████████████| 1/1 [00:01<00:00,  1.15s/it]\n"
     ]
    },
    {
     "name": "stdout",
     "output_type": "stream",
     "text": [
      "Iter 6 - Epoch 0 - Client Type: Benign - Client Number 8 - Poison Training False\n"
     ]
    },
    {
     "name": "stderr",
     "output_type": "stream",
     "text": [
      "100%|████████████████████████████████████████████████████████████████████████████████████| 2/2 [00:01<00:00,  1.63it/s]\n"
     ]
    },
    {
     "name": "stdout",
     "output_type": "stream",
     "text": [
      "Iter 6 - Epoch 0 - Client Type: Benign - Client Number 9 - Poison Training False\n"
     ]
    },
    {
     "name": "stderr",
     "output_type": "stream",
     "text": [
      "100%|████████████████████████████████████████████████████████████████████████████████████| 1/1 [00:01<00:00,  1.04s/it]\n"
     ]
    },
    {
     "name": "stdout",
     "output_type": "stream",
     "text": [
      "Iter 6 - Epoch 0 - Client Type: Benign - Client Number 10 - Poison Training False\n"
     ]
    },
    {
     "name": "stderr",
     "output_type": "stream",
     "text": [
      "100%|████████████████████████████████████████████████████████████████████████████████████| 2/2 [00:01<00:00,  1.70it/s]\n"
     ]
    },
    {
     "name": "stdout",
     "output_type": "stream",
     "text": [
      "Iter 6 - Epoch 0 - Client Type: Benign - Client Number 11 - Poison Training False\n"
     ]
    },
    {
     "name": "stderr",
     "output_type": "stream",
     "text": [
      "100%|████████████████████████████████████████████████████████████████████████████████████| 2/2 [00:01<00:00,  1.63it/s]\n"
     ]
    },
    {
     "name": "stdout",
     "output_type": "stream",
     "text": [
      "Iter 6 - Epoch 0 - Client Type: Benign - Client Number 12 - Poison Training False\n"
     ]
    },
    {
     "name": "stderr",
     "output_type": "stream",
     "text": [
      "100%|████████████████████████████████████████████████████████████████████████████████████| 1/1 [00:00<00:00,  1.14it/s]\n"
     ]
    },
    {
     "name": "stdout",
     "output_type": "stream",
     "text": [
      "Iter 6 - Epoch 0 - Client Type: Benign - Client Number 13 - Poison Training False\n"
     ]
    },
    {
     "name": "stderr",
     "output_type": "stream",
     "text": [
      "100%|████████████████████████████████████████████████████████████████████████████████████| 2/2 [00:01<00:00,  1.35it/s]\n"
     ]
    },
    {
     "name": "stdout",
     "output_type": "stream",
     "text": [
      "Iter 6 - Epoch 0 - Client Type: Benign - Client Number 14 - Poison Training False\n"
     ]
    },
    {
     "name": "stderr",
     "output_type": "stream",
     "text": [
      "100%|████████████████████████████████████████████████████████████████████████████████████| 2/2 [00:01<00:00,  1.34it/s]\n"
     ]
    },
    {
     "name": "stdout",
     "output_type": "stream",
     "text": [
      "Iter 6 - Epoch 0 - Client Type: Benign - Client Number 15 - Poison Training False\n"
     ]
    },
    {
     "name": "stderr",
     "output_type": "stream",
     "text": [
      "100%|████████████████████████████████████████████████████████████████████████████████████| 1/1 [00:01<00:00,  1.34s/it]\n"
     ]
    },
    {
     "name": "stdout",
     "output_type": "stream",
     "text": [
      "Iter 6 - Epoch 0 - Client Type: Benign - Client Number 16 - Poison Training False\n"
     ]
    },
    {
     "name": "stderr",
     "output_type": "stream",
     "text": [
      "100%|████████████████████████████████████████████████████████████████████████████████████| 1/1 [00:01<00:00,  1.27s/it]\n"
     ]
    },
    {
     "name": "stdout",
     "output_type": "stream",
     "text": [
      "Iter 6 - Epoch 0 - Client Type: Benign - Client Number 17 - Poison Training False\n"
     ]
    },
    {
     "name": "stderr",
     "output_type": "stream",
     "text": [
      "100%|████████████████████████████████████████████████████████████████████████████████████| 2/2 [00:02<00:00,  1.06s/it]\n"
     ]
    },
    {
     "name": "stdout",
     "output_type": "stream",
     "text": [
      "Iter 6 - Epoch 0 - Client Type: Benign - Client Number 18 - Poison Training False\n"
     ]
    },
    {
     "name": "stderr",
     "output_type": "stream",
     "text": [
      "100%|████████████████████████████████████████████████████████████████████████████████████| 1/1 [00:01<00:00,  1.21s/it]\n"
     ]
    },
    {
     "name": "stdout",
     "output_type": "stream",
     "text": [
      "Iter 6 - Epoch 0 - Client Type: Benign - Client Number 19 - Poison Training False\n"
     ]
    },
    {
     "name": "stderr",
     "output_type": "stream",
     "text": [
      "100%|████████████████████████████████████████████████████████████████████████████████████| 2/2 [00:01<00:00,  1.33it/s]\n"
     ]
    },
    {
     "name": "stdout",
     "output_type": "stream",
     "text": [
      "\n",
      "\n",
      " Entering epoch 4\n",
      "Iter 6 - Epoch 0 - Client Type: Benign - Client Number 0 - Poison Training False\n"
     ]
    },
    {
     "name": "stderr",
     "output_type": "stream",
     "text": [
      "100%|████████████████████████████████████████████████████████████████████████████████████| 1/1 [00:01<00:00,  1.00s/it]\n"
     ]
    },
    {
     "name": "stdout",
     "output_type": "stream",
     "text": [
      "Iter 6 - Epoch 0 - Client Type: Benign - Client Number 1 - Poison Training False\n"
     ]
    },
    {
     "name": "stderr",
     "output_type": "stream",
     "text": [
      "100%|████████████████████████████████████████████████████████████████████████████████████| 1/1 [00:00<00:00,  1.08it/s]\n"
     ]
    },
    {
     "name": "stdout",
     "output_type": "stream",
     "text": [
      "Iter 6 - Epoch 0 - Client Type: Benign - Client Number 2 - Poison Training False\n"
     ]
    },
    {
     "name": "stderr",
     "output_type": "stream",
     "text": [
      "100%|████████████████████████████████████████████████████████████████████████████████████| 2/2 [00:01<00:00,  1.36it/s]\n"
     ]
    },
    {
     "name": "stdout",
     "output_type": "stream",
     "text": [
      "Iter 6 - Epoch 0 - Client Type: Benign - Client Number 3 - Poison Training False\n"
     ]
    },
    {
     "name": "stderr",
     "output_type": "stream",
     "text": [
      "100%|████████████████████████████████████████████████████████████████████████████████████| 1/1 [00:01<00:00,  1.00s/it]\n"
     ]
    },
    {
     "name": "stdout",
     "output_type": "stream",
     "text": [
      "Iter 6 - Epoch 0 - Client Type: Benign - Client Number 4 - Poison Training False\n"
     ]
    },
    {
     "name": "stderr",
     "output_type": "stream",
     "text": [
      "100%|████████████████████████████████████████████████████████████████████████████████████| 1/1 [00:01<00:00,  1.10s/it]\n"
     ]
    },
    {
     "name": "stdout",
     "output_type": "stream",
     "text": [
      "Iter 6 - Epoch 0 - Client Type: Benign - Client Number 5 - Poison Training False\n"
     ]
    },
    {
     "name": "stderr",
     "output_type": "stream",
     "text": [
      "100%|████████████████████████████████████████████████████████████████████████████████████| 1/1 [00:01<00:00,  1.81s/it]\n"
     ]
    },
    {
     "name": "stdout",
     "output_type": "stream",
     "text": [
      "Iter 6 - Epoch 0 - Client Type: Benign - Client Number 6 - Poison Training False\n"
     ]
    },
    {
     "name": "stderr",
     "output_type": "stream",
     "text": [
      "100%|████████████████████████████████████████████████████████████████████████████████████| 1/1 [00:01<00:00,  1.17s/it]\n"
     ]
    },
    {
     "name": "stdout",
     "output_type": "stream",
     "text": [
      "Iter 6 - Epoch 0 - Client Type: Benign - Client Number 7 - Poison Training False\n"
     ]
    },
    {
     "name": "stderr",
     "output_type": "stream",
     "text": [
      "100%|████████████████████████████████████████████████████████████████████████████████████| 1/1 [00:01<00:00,  1.27s/it]\n"
     ]
    },
    {
     "name": "stdout",
     "output_type": "stream",
     "text": [
      "Iter 6 - Epoch 0 - Client Type: Benign - Client Number 8 - Poison Training False\n"
     ]
    },
    {
     "name": "stderr",
     "output_type": "stream",
     "text": [
      "100%|████████████████████████████████████████████████████████████████████████████████████| 2/2 [00:01<00:00,  1.51it/s]\n"
     ]
    },
    {
     "name": "stdout",
     "output_type": "stream",
     "text": [
      "Iter 6 - Epoch 0 - Client Type: Benign - Client Number 9 - Poison Training False\n"
     ]
    },
    {
     "name": "stderr",
     "output_type": "stream",
     "text": [
      "100%|████████████████████████████████████████████████████████████████████████████████████| 1/1 [00:01<00:00,  1.09s/it]\n"
     ]
    },
    {
     "name": "stdout",
     "output_type": "stream",
     "text": [
      "Iter 6 - Epoch 0 - Client Type: Benign - Client Number 10 - Poison Training False\n"
     ]
    },
    {
     "name": "stderr",
     "output_type": "stream",
     "text": [
      "100%|████████████████████████████████████████████████████████████████████████████████████| 2/2 [00:01<00:00,  1.45it/s]\n"
     ]
    },
    {
     "name": "stdout",
     "output_type": "stream",
     "text": [
      "Iter 6 - Epoch 0 - Client Type: Benign - Client Number 11 - Poison Training False\n"
     ]
    },
    {
     "name": "stderr",
     "output_type": "stream",
     "text": [
      "100%|████████████████████████████████████████████████████████████████████████████████████| 2/2 [00:01<00:00,  1.61it/s]\n"
     ]
    },
    {
     "name": "stdout",
     "output_type": "stream",
     "text": [
      "Iter 6 - Epoch 0 - Client Type: Benign - Client Number 12 - Poison Training False\n"
     ]
    },
    {
     "name": "stderr",
     "output_type": "stream",
     "text": [
      "100%|████████████████████████████████████████████████████████████████████████████████████| 1/1 [00:00<00:00,  1.54it/s]\n"
     ]
    },
    {
     "name": "stdout",
     "output_type": "stream",
     "text": [
      "Iter 6 - Epoch 0 - Client Type: Benign - Client Number 13 - Poison Training False\n"
     ]
    },
    {
     "name": "stderr",
     "output_type": "stream",
     "text": [
      "100%|████████████████████████████████████████████████████████████████████████████████████| 2/2 [00:01<00:00,  1.53it/s]\n"
     ]
    },
    {
     "name": "stdout",
     "output_type": "stream",
     "text": [
      "Iter 6 - Epoch 0 - Client Type: Benign - Client Number 14 - Poison Training False\n"
     ]
    },
    {
     "name": "stderr",
     "output_type": "stream",
     "text": [
      "100%|████████████████████████████████████████████████████████████████████████████████████| 2/2 [00:01<00:00,  1.64it/s]\n"
     ]
    },
    {
     "name": "stdout",
     "output_type": "stream",
     "text": [
      "Iter 6 - Epoch 0 - Client Type: Benign - Client Number 15 - Poison Training False\n"
     ]
    },
    {
     "name": "stderr",
     "output_type": "stream",
     "text": [
      "100%|████████████████████████████████████████████████████████████████████████████████████| 1/1 [00:01<00:00,  1.26s/it]\n"
     ]
    },
    {
     "name": "stdout",
     "output_type": "stream",
     "text": [
      "Iter 6 - Epoch 0 - Client Type: Benign - Client Number 16 - Poison Training False\n"
     ]
    },
    {
     "name": "stderr",
     "output_type": "stream",
     "text": [
      "100%|████████████████████████████████████████████████████████████████████████████████████| 1/1 [00:01<00:00,  1.40s/it]\n"
     ]
    },
    {
     "name": "stdout",
     "output_type": "stream",
     "text": [
      "Iter 6 - Epoch 0 - Client Type: Benign - Client Number 17 - Poison Training False\n"
     ]
    },
    {
     "name": "stderr",
     "output_type": "stream",
     "text": [
      "100%|████████████████████████████████████████████████████████████████████████████████████| 2/2 [00:01<00:00,  1.24it/s]\n"
     ]
    },
    {
     "name": "stdout",
     "output_type": "stream",
     "text": [
      "Iter 6 - Epoch 0 - Client Type: Benign - Client Number 18 - Poison Training False\n"
     ]
    },
    {
     "name": "stderr",
     "output_type": "stream",
     "text": [
      "100%|████████████████████████████████████████████████████████████████████████████████████| 1/1 [00:01<00:00,  1.25s/it]\n"
     ]
    },
    {
     "name": "stdout",
     "output_type": "stream",
     "text": [
      "Iter 6 - Epoch 0 - Client Type: Benign - Client Number 19 - Poison Training False\n"
     ]
    },
    {
     "name": "stderr",
     "output_type": "stream",
     "text": [
      "100%|████████████████████████████████████████████████████████████████████████████████████| 2/2 [00:01<00:00,  1.39it/s]\n"
     ]
    },
    {
     "name": "stdout",
     "output_type": "stream",
     "text": [
      "Original Copylist [7, 2, 5, 3, 2, 7, 3, 7, 0, 7, 0, 0, 4, 0, 0, 7, 3, 1, 7, 6]\n",
      "Found clusters [0 3 0 2 3 0 2 0 7 0 1 1 5 1 1 0 2 4 0 6]\n",
      "Original groups [array([ 8, 10, 11, 13, 14], dtype=int64), array([17], dtype=int64), array([1, 4], dtype=int64), array([ 3,  6, 16], dtype=int64), array([12], dtype=int64), array([2], dtype=int64), array([19], dtype=int64), array([ 0,  5,  7,  9, 15, 18], dtype=int64)]\n",
      "Clustered groups [array([ 0,  2,  5,  7,  9, 15, 18], dtype=int64), array([10, 11, 13, 14], dtype=int64), array([ 3,  6, 16], dtype=int64), array([1, 4], dtype=int64), array([17], dtype=int64), array([12], dtype=int64), array([19], dtype=int64), array([8], dtype=int64)]\n",
      "Clustering score 0.8021245573838783\n",
      "7\n",
      "[[1.00000558e+00 1.70135118e-02 7.34334838e-01 2.12738296e-01\n",
      "  1.33936465e-02 9.37464654e-01 2.47946350e-01 9.37778103e-01\n",
      "  3.38001877e-01 8.93360758e-01 5.78017622e-02 2.66623795e-01\n",
      "  6.35001886e-01 4.53033281e-01 2.11176611e-01 9.54344738e-01\n",
      "  2.72968337e-01 3.24655330e-01 9.19639480e-01 3.28554124e-01]\n",
      " [1.70135103e-02 1.00000575e+00 1.14123476e-01 4.65883523e-01\n",
      "  9.86179268e-01 3.55065197e-02 4.10601032e-01 2.32651532e-03\n",
      "  3.17808574e-01 2.77187861e-02 4.08834645e-01 3.30486108e-01\n",
      "  1.58814156e-01 1.98341772e-01 3.28124678e-01 2.09600329e-02\n",
      "  4.10558322e-01 2.36260113e-01 2.44980907e-02 3.42329174e-01]\n",
      " [7.34334850e-01 1.14123476e-01 1.00000333e+00 3.18674499e-01\n",
      "  1.07850640e-01 7.02686560e-01 3.50322580e-01 7.04852700e-01\n",
      "  4.27480394e-01 6.81775069e-01 2.82867095e-01 4.22846016e-01\n",
      "  4.03989169e-01 5.29881805e-01 3.76076870e-01 6.99319553e-01\n",
      "  3.61182934e-01 5.70167053e-01 6.88158107e-01 3.86691153e-01]\n",
      " [2.12738302e-01 4.65883511e-01 3.18674517e-01 1.00000467e+00\n",
      "  4.74058253e-01 2.05674988e-01 9.62325895e-01 2.06500070e-01\n",
      "  4.54290646e-01 2.15836633e-01 4.83896080e-01 4.28110889e-01\n",
      "  1.32787216e-01 3.38247578e-01 4.90182623e-01 2.03159974e-01\n",
      "  9.55574441e-01 2.52591510e-01 1.95315163e-01 3.78830475e-01]\n",
      " [1.33936465e-02 9.86179268e-01 1.07850641e-01 4.74058247e-01\n",
      "  1.00000756e+00 3.64342569e-02 4.15654063e-01 4.29627299e-04\n",
      "  3.02992246e-01 2.63341649e-02 3.97899958e-01 3.22309680e-01\n",
      "  1.46752769e-01 1.82336415e-01 3.19152038e-01 2.03888739e-02\n",
      "  4.17908219e-01 2.39349994e-01 2.19312490e-02 3.40303150e-01]\n",
      " [9.37464666e-01 3.55065182e-02 7.02686572e-01 2.05674991e-01\n",
      "  3.64342584e-02 1.00000451e+00 2.33319136e-01 9.61146009e-01\n",
      "  3.19243750e-01 9.52393436e-01 3.48378763e-02 2.37554976e-01\n",
      "  6.61157060e-01 4.22854689e-01 1.78201516e-01 9.60467958e-01\n",
      "  2.65762961e-01 3.01857795e-01 9.60145128e-01 3.64958978e-01]\n",
      " [2.47946359e-01 4.10601044e-01 3.50322568e-01 9.62325895e-01\n",
      "  4.15654075e-01 2.33319136e-01 1.00000618e+00 2.46933606e-01\n",
      "  4.63295066e-01 2.54414149e-01 4.64772817e-01 4.76537275e-01\n",
      "  1.61425224e-01 3.78892525e-01 5.17337298e-01 2.36131650e-01\n",
      "  9.74795461e-01 2.45833445e-01 2.40666784e-01 3.88226157e-01]\n",
      " [9.37778103e-01 2.32651532e-03 7.04852676e-01 2.06500067e-01\n",
      "  4.29632887e-04 9.61146033e-01 2.46933606e-01 1.00000422e+00\n",
      "  3.32325248e-01 9.63571298e-01 3.75283539e-02 2.47826259e-01\n",
      "  6.59435636e-01 4.45960398e-01 1.98437941e-01 9.66168714e-01\n",
      "  2.70485811e-01 2.97523623e-01 9.70035028e-01 3.61142832e-01]\n",
      " [3.38001889e-01 3.17808574e-01 4.27480406e-01 4.54290658e-01\n",
      "  3.02992258e-01 3.19243750e-01 4.63295066e-01 3.32325257e-01\n",
      "  1.00000345e+00 3.26042464e-01 7.58163232e-01 6.83929098e-01\n",
      "  3.49916258e-01 6.79235268e-01 7.21730471e-01 3.21108212e-01\n",
      "  4.41813406e-01 3.34209923e-01 3.39668699e-01 4.79076624e-01]\n",
      " [8.93360770e-01 2.77187894e-02 6.81775045e-01 2.15836630e-01\n",
      "  2.63341648e-02 9.52393425e-01 2.54414158e-01 9.63571286e-01\n",
      "  3.26042470e-01 1.00000515e+00 3.54689732e-02 2.38618574e-01\n",
      "  6.44929945e-01 4.26143862e-01 1.96218634e-01 9.46883571e-01\n",
      "  2.80059606e-01 2.90786768e-01 9.63484466e-01 3.98495185e-01]\n",
      " [5.78017622e-02 4.08834654e-01 2.82867089e-01 4.83896071e-01\n",
      "  3.97899964e-01 3.48378763e-02 4.64772805e-01 3.75283539e-02\n",
      "  7.58163238e-01 3.54689702e-02 1.00000346e+00 6.91218960e-01\n",
      "  1.67864682e-01 6.17826962e-01 7.03937852e-01 2.64460281e-02\n",
      "  4.41290245e-01 3.43245786e-01 3.44697118e-02 3.62630075e-01]\n",
      " [2.66623798e-01 3.30486101e-01 4.22846028e-01 4.28110909e-01\n",
      "  3.22309680e-01 2.37554973e-01 4.76537263e-01 2.47826259e-01\n",
      "  6.83929092e-01 2.38618575e-01 6.91218936e-01 1.00000423e+00\n",
      "  2.92972380e-01 6.12338680e-01 7.45005679e-01 2.28181250e-01\n",
      "  4.70348144e-01 3.85256571e-01 2.48846793e-01 3.94983780e-01]\n",
      " [6.35001904e-01 1.58814156e-01 4.03989169e-01 1.32787216e-01\n",
      "  1.46752776e-01 6.61157060e-01 1.61425216e-01 6.59435624e-01\n",
      "  3.49916252e-01 6.44929945e-01 1.67864682e-01 2.92972386e-01\n",
      "  1.00000392e+00 4.55822268e-01 2.44403607e-01 6.55649501e-01\n",
      "  1.66389413e-01 2.58302873e-01 6.65817636e-01 2.49167114e-01]\n",
      " [4.53033269e-01 1.98341775e-01 5.29881793e-01 3.38247585e-01\n",
      "  1.82336411e-01 4.22854683e-01 3.78892526e-01 4.45960386e-01\n",
      "  6.79235268e-01 4.26143856e-01 6.17826951e-01 6.12338650e-01\n",
      "  4.55822250e-01 1.00000293e+00 6.16897009e-01 4.21232271e-01\n",
      "  3.81838185e-01 3.53797457e-01 4.36649603e-01 4.24915799e-01]\n",
      " [2.11176614e-01 3.28124678e-01 3.76076864e-01 4.90182623e-01\n",
      "  3.19152020e-01 1.78201505e-01 5.17337310e-01 1.98437922e-01\n",
      "  7.21730471e-01 1.96218629e-01 7.03937852e-01 7.45005667e-01\n",
      "  2.44403610e-01 6.16897035e-01 1.00000472e+00 1.78672367e-01\n",
      "  4.99563068e-01 3.57664943e-01 1.87472332e-01 4.05239335e-01]\n",
      " [9.54344749e-01 2.09600329e-02 6.99319530e-01 2.03159974e-01\n",
      "  2.03888740e-02 9.60467982e-01 2.36131645e-01 9.66168714e-01\n",
      "  3.21108219e-01 9.46883559e-01 2.64460266e-02 2.28181261e-01\n",
      "  6.55649483e-01 4.21232259e-01 1.78672377e-01 1.00000343e+00\n",
      "  2.61677014e-01 3.11866277e-01 9.59770167e-01 3.49424434e-01]\n",
      " [2.72968332e-01 4.10558322e-01 3.61182949e-01 9.55574453e-01\n",
      "  4.17908221e-01 2.65762970e-01 9.74795461e-01 2.70485826e-01\n",
      "  4.41813406e-01 2.80059606e-01 4.41290257e-01 4.70348161e-01\n",
      "  1.66389414e-01 3.81838202e-01 4.99563068e-01 2.61677013e-01\n",
      "  1.00000608e+00 2.42307839e-01 2.61251996e-01 3.77119753e-01]\n",
      " [3.24655332e-01 2.36260116e-01 5.70167053e-01 2.52591503e-01\n",
      "  2.39349988e-01 3.01857797e-01 2.45833439e-01 2.97523617e-01\n",
      "  3.34209912e-01 2.90786792e-01 3.43245816e-01 3.85256577e-01\n",
      "  2.58302876e-01 3.53797466e-01 3.57664937e-01 3.11866276e-01\n",
      "  2.42307836e-01 1.00000541e+00 2.95815945e-01 1.39659691e-01]\n",
      " [9.19639480e-01 2.44980915e-02 6.88158119e-01 1.95315160e-01\n",
      "  2.19312497e-02 9.60145104e-01 2.40666786e-01 9.70035017e-01\n",
      "  3.39668694e-01 9.63484466e-01 3.44697118e-02 2.48846799e-01\n",
      "  6.65817636e-01 4.36649603e-01 1.87472331e-01 9.59770155e-01\n",
      "  2.61251988e-01 2.95815927e-01 1.00000830e+00 3.90776563e-01]\n",
      " [3.28554130e-01 3.42329168e-01 3.86691165e-01 3.78830481e-01\n",
      "  3.40303156e-01 3.64958996e-01 3.88226157e-01 3.61142832e-01\n",
      "  4.79076618e-01 3.98495185e-01 3.62630075e-01 3.94983763e-01\n",
      "  2.49167105e-01 4.24915808e-01 4.05239329e-01 3.49424440e-01\n",
      "  3.77119759e-01 1.39659697e-01 3.90776557e-01 1.00000267e+00]]\n",
      "Original Copylist [7, 2, 5, 3, 2, 7, 3, 7, 0, 7, 0, 0, 4, 0, 0, 7, 3, 1, 7, 6]\n",
      "Found clusters [0 6 0 1 6 0 1 0 2 0 2 2 5 7 2 0 1 3 0 4]\n",
      "Original groups [array([ 8, 10, 11, 13, 14], dtype=int64), array([17], dtype=int64), array([1, 4], dtype=int64), array([ 3,  6, 16], dtype=int64), array([12], dtype=int64), array([2], dtype=int64), array([19], dtype=int64), array([ 0,  5,  7,  9, 15, 18], dtype=int64)]\n",
      "Clustered groups [array([ 0,  2,  5,  7,  9, 15, 18], dtype=int64), array([ 3,  6, 16], dtype=int64), array([ 8, 10, 11, 14], dtype=int64), array([17], dtype=int64), array([19], dtype=int64), array([12], dtype=int64), array([1, 4], dtype=int64), array([13], dtype=int64)]\n",
      "Clustering score 0.8021245573838783\n",
      "Benign net distance [tensor(37.5848), tensor(41.1776), tensor(37.2594), tensor(32.3845), tensor(41.1226), tensor(35.9528), tensor(31.4338), tensor(36.2963), tensor(33.7560), tensor(35.1450), tensor(50.0716), tensor(38.1437), tensor(38.8947), tensor(49.1256), tensor(38.3361), tensor(36.5544), tensor(32.1997), tensor(83.7443), tensor(35.2073), tensor(0.)]\n",
      "Malicious net distance []\n",
      "cos_sim list  [tensor(0.3025), tensor(0.2644), tensor(0.3087), tensor(0.4089), tensor(0.2594), tensor(0.3876), tensor(0.4509), tensor(0.3509), tensor(0.4852), tensor(0.4153), tensor(0.2333), tensor(0.3615), tensor(0.2734), tensor(0.2151), tensor(0.3758), tensor(0.3494), tensor(0.4278), tensor(-0.0052), tensor(0.4099), tensor(1.0000)]\n"
     ]
    },
    {
     "name": "stdout",
     "output_type": "stream",
     "text": [
      "Norms of local gradients  [tensor(0.2257), tensor(0.3639), tensor(0.3739), tensor(0.2337), tensor(0.3628), tensor(0.2234), tensor(0.2211), tensor(0.2218), tensor(0.3996), tensor(0.2192), tensor(0.5424), tensor(0.4150), tensor(0.3094), tensor(0.5518), tensor(0.4151), tensor(0.2271), tensor(0.2262), tensor(0.8265), tensor(0.2191), tensor(0.3802)]\n",
      "\n",
      " Aggregating models\n",
      "Cosine Similarities:  [tensor(0.3025), tensor(0.2644), tensor(0.3087), tensor(0.4089), tensor(0.2594), tensor(0.3876), tensor(0.4509), tensor(0.3509), tensor(0.4852), tensor(0.4153), tensor(0.2333), tensor(0.3615), tensor(0.2734), tensor(0.2151), tensor(0.3758), tensor(0.3494), tensor(0.4278), tensor(-0.0052), tensor(0.4099), tensor(1.0000)]\n",
      "Aggregation Weights:  [0.06999167 0.03794954 0.043114   0.09140123 0.03733475 0.09062306\n",
      " 0.10653801 0.08262648 0.06342086 0.09893634 0.02246017 0.04550191\n",
      " 0.046154   0.02036385 0.04728894 0.08034808 0.09877786 0.\n",
      " 0.09772535 0.13736156]\n",
      "\n",
      "\n",
      "\n",
      "Aggregate test at iter  6\n"
     ]
    },
    {
     "name": "stderr",
     "output_type": "stream",
     "text": [
      "100%|██████████████████████████████████████████████████████████████████████████████████| 10/10 [00:02<00:00,  3.65it/s]\n"
     ]
    },
    {
     "name": "stdout",
     "output_type": "stream",
     "text": [
      "\n",
      "Test set: Avg. loss: 0.0007, Accuracy: 7533/10000 (75%)\n",
      "\n",
      "\n",
      "\n",
      " Entering epoch 0\n",
      "Iter 7 - Epoch 0 - Client Type: Benign - Client Number 0 - Poison Training False\n"
     ]
    },
    {
     "name": "stderr",
     "output_type": "stream",
     "text": [
      "100%|████████████████████████████████████████████████████████████████████████████████████| 1/1 [00:01<00:00,  1.36s/it]\n"
     ]
    },
    {
     "name": "stdout",
     "output_type": "stream",
     "text": [
      "Iter 7 - Epoch 0 - Client Type: Benign - Client Number 1 - Poison Training False\n"
     ]
    },
    {
     "name": "stderr",
     "output_type": "stream",
     "text": [
      "100%|████████████████████████████████████████████████████████████████████████████████████| 1/1 [00:01<00:00,  1.14s/it]\n"
     ]
    },
    {
     "name": "stdout",
     "output_type": "stream",
     "text": [
      "Iter 7 - Epoch 0 - Client Type: Benign - Client Number 2 - Poison Training False\n"
     ]
    },
    {
     "name": "stderr",
     "output_type": "stream",
     "text": [
      "100%|████████████████████████████████████████████████████████████████████████████████████| 2/2 [00:01<00:00,  1.25it/s]\n"
     ]
    },
    {
     "name": "stdout",
     "output_type": "stream",
     "text": [
      "Iter 7 - Epoch 0 - Client Type: Benign - Client Number 3 - Poison Training False\n"
     ]
    },
    {
     "name": "stderr",
     "output_type": "stream",
     "text": [
      "100%|████████████████████████████████████████████████████████████████████████████████████| 1/1 [00:00<00:00,  1.04it/s]\n"
     ]
    },
    {
     "name": "stdout",
     "output_type": "stream",
     "text": [
      "Iter 7 - Epoch 0 - Client Type: Benign - Client Number 4 - Poison Training False\n"
     ]
    },
    {
     "name": "stderr",
     "output_type": "stream",
     "text": [
      "100%|████████████████████████████████████████████████████████████████████████████████████| 1/1 [00:00<00:00,  1.03it/s]\n"
     ]
    },
    {
     "name": "stdout",
     "output_type": "stream",
     "text": [
      "Iter 7 - Epoch 0 - Client Type: Benign - Client Number 5 - Poison Training False\n"
     ]
    },
    {
     "name": "stderr",
     "output_type": "stream",
     "text": [
      "100%|████████████████████████████████████████████████████████████████████████████████████| 1/1 [00:01<00:00,  1.12s/it]\n"
     ]
    },
    {
     "name": "stdout",
     "output_type": "stream",
     "text": [
      "Iter 7 - Epoch 0 - Client Type: Benign - Client Number 6 - Poison Training False\n"
     ]
    },
    {
     "name": "stderr",
     "output_type": "stream",
     "text": [
      "100%|████████████████████████████████████████████████████████████████████████████████████| 1/1 [00:01<00:00,  1.01s/it]\n"
     ]
    },
    {
     "name": "stdout",
     "output_type": "stream",
     "text": [
      "Iter 7 - Epoch 0 - Client Type: Benign - Client Number 7 - Poison Training False\n"
     ]
    },
    {
     "name": "stderr",
     "output_type": "stream",
     "text": [
      "100%|████████████████████████████████████████████████████████████████████████████████████| 1/1 [00:01<00:00,  1.08s/it]\n"
     ]
    },
    {
     "name": "stdout",
     "output_type": "stream",
     "text": [
      "Iter 7 - Epoch 0 - Client Type: Benign - Client Number 8 - Poison Training False\n"
     ]
    },
    {
     "name": "stderr",
     "output_type": "stream",
     "text": [
      "100%|████████████████████████████████████████████████████████████████████████████████████| 2/2 [00:01<00:00,  1.55it/s]\n"
     ]
    },
    {
     "name": "stdout",
     "output_type": "stream",
     "text": [
      "Iter 7 - Epoch 0 - Client Type: Benign - Client Number 9 - Poison Training False\n"
     ]
    },
    {
     "name": "stderr",
     "output_type": "stream",
     "text": [
      "100%|████████████████████████████████████████████████████████████████████████████████████| 1/1 [00:01<00:00,  1.06s/it]\n"
     ]
    },
    {
     "name": "stdout",
     "output_type": "stream",
     "text": [
      "Iter 7 - Epoch 0 - Client Type: Benign - Client Number 10 - Poison Training False\n"
     ]
    },
    {
     "name": "stderr",
     "output_type": "stream",
     "text": [
      "100%|████████████████████████████████████████████████████████████████████████████████████| 2/2 [00:01<00:00,  1.40it/s]\n"
     ]
    },
    {
     "name": "stdout",
     "output_type": "stream",
     "text": [
      "Iter 7 - Epoch 0 - Client Type: Benign - Client Number 11 - Poison Training False\n"
     ]
    },
    {
     "name": "stderr",
     "output_type": "stream",
     "text": [
      "100%|████████████████████████████████████████████████████████████████████████████████████| 2/2 [00:01<00:00,  1.76it/s]\n"
     ]
    },
    {
     "name": "stdout",
     "output_type": "stream",
     "text": [
      "Iter 7 - Epoch 0 - Client Type: Benign - Client Number 12 - Poison Training False\n"
     ]
    },
    {
     "name": "stderr",
     "output_type": "stream",
     "text": [
      "100%|████████████████████████████████████████████████████████████████████████████████████| 1/1 [00:00<00:00,  1.55it/s]\n"
     ]
    },
    {
     "name": "stdout",
     "output_type": "stream",
     "text": [
      "Iter 7 - Epoch 0 - Client Type: Benign - Client Number 13 - Poison Training False\n"
     ]
    },
    {
     "name": "stderr",
     "output_type": "stream",
     "text": [
      "100%|████████████████████████████████████████████████████████████████████████████████████| 2/2 [00:01<00:00,  1.82it/s]\n"
     ]
    },
    {
     "name": "stdout",
     "output_type": "stream",
     "text": [
      "Iter 7 - Epoch 0 - Client Type: Benign - Client Number 14 - Poison Training False\n"
     ]
    },
    {
     "name": "stderr",
     "output_type": "stream",
     "text": [
      "100%|████████████████████████████████████████████████████████████████████████████████████| 2/2 [00:01<00:00,  1.76it/s]\n"
     ]
    },
    {
     "name": "stdout",
     "output_type": "stream",
     "text": [
      "Iter 7 - Epoch 0 - Client Type: Benign - Client Number 15 - Poison Training False\n"
     ]
    },
    {
     "name": "stderr",
     "output_type": "stream",
     "text": [
      "100%|████████████████████████████████████████████████████████████████████████████████████| 1/1 [00:01<00:00,  1.34s/it]\n"
     ]
    },
    {
     "name": "stdout",
     "output_type": "stream",
     "text": [
      "Iter 7 - Epoch 0 - Client Type: Benign - Client Number 16 - Poison Training False\n"
     ]
    },
    {
     "name": "stderr",
     "output_type": "stream",
     "text": [
      "100%|████████████████████████████████████████████████████████████████████████████████████| 1/1 [00:01<00:00,  1.20s/it]\n"
     ]
    },
    {
     "name": "stdout",
     "output_type": "stream",
     "text": [
      "Iter 7 - Epoch 0 - Client Type: Benign - Client Number 17 - Poison Training False\n"
     ]
    },
    {
     "name": "stderr",
     "output_type": "stream",
     "text": [
      "100%|████████████████████████████████████████████████████████████████████████████████████| 2/2 [00:01<00:00,  1.14it/s]\n"
     ]
    },
    {
     "name": "stdout",
     "output_type": "stream",
     "text": [
      "Iter 7 - Epoch 0 - Client Type: Benign - Client Number 18 - Poison Training False\n"
     ]
    },
    {
     "name": "stderr",
     "output_type": "stream",
     "text": [
      "100%|████████████████████████████████████████████████████████████████████████████████████| 1/1 [00:01<00:00,  1.30s/it]\n"
     ]
    },
    {
     "name": "stdout",
     "output_type": "stream",
     "text": [
      "Iter 7 - Epoch 0 - Client Type: Benign - Client Number 19 - Poison Training False\n"
     ]
    },
    {
     "name": "stderr",
     "output_type": "stream",
     "text": [
      "100%|████████████████████████████████████████████████████████████████████████████████████| 2/2 [00:01<00:00,  1.32it/s]\n"
     ]
    },
    {
     "name": "stdout",
     "output_type": "stream",
     "text": [
      "\n",
      "\n",
      " Entering epoch 1\n",
      "Iter 7 - Epoch 0 - Client Type: Benign - Client Number 0 - Poison Training False\n"
     ]
    },
    {
     "name": "stderr",
     "output_type": "stream",
     "text": [
      "100%|████████████████████████████████████████████████████████████████████████████████████| 1/1 [00:01<00:00,  1.09s/it]\n"
     ]
    },
    {
     "name": "stdout",
     "output_type": "stream",
     "text": [
      "Iter 7 - Epoch 0 - Client Type: Benign - Client Number 1 - Poison Training False\n"
     ]
    },
    {
     "name": "stderr",
     "output_type": "stream",
     "text": [
      "100%|████████████████████████████████████████████████████████████████████████████████████| 1/1 [00:01<00:00,  1.00s/it]\n"
     ]
    },
    {
     "name": "stdout",
     "output_type": "stream",
     "text": [
      "Iter 7 - Epoch 0 - Client Type: Benign - Client Number 2 - Poison Training False\n"
     ]
    },
    {
     "name": "stderr",
     "output_type": "stream",
     "text": [
      "100%|████████████████████████████████████████████████████████████████████████████████████| 2/2 [00:01<00:00,  1.43it/s]\n"
     ]
    },
    {
     "name": "stdout",
     "output_type": "stream",
     "text": [
      "Iter 7 - Epoch 0 - Client Type: Benign - Client Number 3 - Poison Training False\n"
     ]
    },
    {
     "name": "stderr",
     "output_type": "stream",
     "text": [
      "100%|████████████████████████████████████████████████████████████████████████████████████| 1/1 [00:00<00:00,  1.08it/s]\n"
     ]
    },
    {
     "name": "stdout",
     "output_type": "stream",
     "text": [
      "Iter 7 - Epoch 0 - Client Type: Benign - Client Number 4 - Poison Training False\n"
     ]
    },
    {
     "name": "stderr",
     "output_type": "stream",
     "text": [
      "100%|████████████████████████████████████████████████████████████████████████████████████| 1/1 [00:00<00:00,  1.19it/s]\n"
     ]
    },
    {
     "name": "stdout",
     "output_type": "stream",
     "text": [
      "Iter 7 - Epoch 0 - Client Type: Benign - Client Number 5 - Poison Training False\n"
     ]
    },
    {
     "name": "stderr",
     "output_type": "stream",
     "text": [
      "100%|████████████████████████████████████████████████████████████████████████████████████| 1/1 [00:00<00:00,  1.01it/s]\n"
     ]
    },
    {
     "name": "stdout",
     "output_type": "stream",
     "text": [
      "Iter 7 - Epoch 0 - Client Type: Benign - Client Number 6 - Poison Training False\n"
     ]
    },
    {
     "name": "stderr",
     "output_type": "stream",
     "text": [
      "100%|████████████████████████████████████████████████████████████████████████████████████| 1/1 [00:00<00:00,  1.04it/s]\n"
     ]
    },
    {
     "name": "stdout",
     "output_type": "stream",
     "text": [
      "Iter 7 - Epoch 0 - Client Type: Benign - Client Number 7 - Poison Training False\n"
     ]
    },
    {
     "name": "stderr",
     "output_type": "stream",
     "text": [
      "100%|████████████████████████████████████████████████████████████████████████████████████| 1/1 [00:01<00:00,  1.01s/it]\n"
     ]
    },
    {
     "name": "stdout",
     "output_type": "stream",
     "text": [
      "Iter 7 - Epoch 0 - Client Type: Benign - Client Number 8 - Poison Training False\n"
     ]
    },
    {
     "name": "stderr",
     "output_type": "stream",
     "text": [
      "100%|████████████████████████████████████████████████████████████████████████████████████| 2/2 [00:01<00:00,  1.84it/s]\n"
     ]
    },
    {
     "name": "stdout",
     "output_type": "stream",
     "text": [
      "Iter 7 - Epoch 0 - Client Type: Benign - Client Number 9 - Poison Training False\n"
     ]
    },
    {
     "name": "stderr",
     "output_type": "stream",
     "text": [
      "100%|████████████████████████████████████████████████████████████████████████████████████| 1/1 [00:00<00:00,  1.01it/s]\n"
     ]
    },
    {
     "name": "stdout",
     "output_type": "stream",
     "text": [
      "Iter 7 - Epoch 0 - Client Type: Benign - Client Number 10 - Poison Training False\n"
     ]
    },
    {
     "name": "stderr",
     "output_type": "stream",
     "text": [
      "100%|████████████████████████████████████████████████████████████████████████████████████| 2/2 [00:01<00:00,  1.74it/s]\n"
     ]
    },
    {
     "name": "stdout",
     "output_type": "stream",
     "text": [
      "Iter 7 - Epoch 0 - Client Type: Benign - Client Number 11 - Poison Training False\n"
     ]
    },
    {
     "name": "stderr",
     "output_type": "stream",
     "text": [
      "100%|████████████████████████████████████████████████████████████████████████████████████| 2/2 [00:01<00:00,  1.67it/s]\n"
     ]
    },
    {
     "name": "stdout",
     "output_type": "stream",
     "text": [
      "Iter 7 - Epoch 0 - Client Type: Benign - Client Number 12 - Poison Training False\n"
     ]
    },
    {
     "name": "stderr",
     "output_type": "stream",
     "text": [
      "100%|████████████████████████████████████████████████████████████████████████████████████| 1/1 [00:00<00:00,  1.42it/s]\n"
     ]
    },
    {
     "name": "stdout",
     "output_type": "stream",
     "text": [
      "Iter 7 - Epoch 0 - Client Type: Benign - Client Number 13 - Poison Training False\n"
     ]
    },
    {
     "name": "stderr",
     "output_type": "stream",
     "text": [
      "100%|████████████████████████████████████████████████████████████████████████████████████| 2/2 [00:01<00:00,  1.55it/s]\n"
     ]
    },
    {
     "name": "stdout",
     "output_type": "stream",
     "text": [
      "Iter 7 - Epoch 0 - Client Type: Benign - Client Number 14 - Poison Training False\n"
     ]
    },
    {
     "name": "stderr",
     "output_type": "stream",
     "text": [
      "100%|████████████████████████████████████████████████████████████████████████████████████| 2/2 [00:01<00:00,  1.51it/s]\n"
     ]
    },
    {
     "name": "stdout",
     "output_type": "stream",
     "text": [
      "Iter 7 - Epoch 0 - Client Type: Benign - Client Number 15 - Poison Training False\n"
     ]
    },
    {
     "name": "stderr",
     "output_type": "stream",
     "text": [
      "100%|████████████████████████████████████████████████████████████████████████████████████| 1/1 [00:01<00:00,  1.13s/it]\n"
     ]
    },
    {
     "name": "stdout",
     "output_type": "stream",
     "text": [
      "Iter 7 - Epoch 0 - Client Type: Benign - Client Number 16 - Poison Training False\n"
     ]
    },
    {
     "name": "stderr",
     "output_type": "stream",
     "text": [
      "100%|████████████████████████████████████████████████████████████████████████████████████| 1/1 [00:01<00:00,  1.04s/it]\n"
     ]
    },
    {
     "name": "stdout",
     "output_type": "stream",
     "text": [
      "Iter 7 - Epoch 0 - Client Type: Benign - Client Number 17 - Poison Training False\n"
     ]
    },
    {
     "name": "stderr",
     "output_type": "stream",
     "text": [
      "100%|████████████████████████████████████████████████████████████████████████████████████| 2/2 [00:01<00:00,  1.16it/s]\n"
     ]
    },
    {
     "name": "stdout",
     "output_type": "stream",
     "text": [
      "Iter 7 - Epoch 0 - Client Type: Benign - Client Number 18 - Poison Training False\n"
     ]
    },
    {
     "name": "stderr",
     "output_type": "stream",
     "text": [
      "100%|████████████████████████████████████████████████████████████████████████████████████| 1/1 [00:01<00:00,  1.11s/it]\n"
     ]
    },
    {
     "name": "stdout",
     "output_type": "stream",
     "text": [
      "Iter 7 - Epoch 0 - Client Type: Benign - Client Number 19 - Poison Training False\n"
     ]
    },
    {
     "name": "stderr",
     "output_type": "stream",
     "text": [
      "100%|████████████████████████████████████████████████████████████████████████████████████| 2/2 [00:01<00:00,  1.43it/s]\n"
     ]
    },
    {
     "name": "stdout",
     "output_type": "stream",
     "text": [
      "\n",
      "\n",
      " Entering epoch 2\n",
      "Iter 7 - Epoch 0 - Client Type: Benign - Client Number 0 - Poison Training False\n"
     ]
    },
    {
     "name": "stderr",
     "output_type": "stream",
     "text": [
      "100%|████████████████████████████████████████████████████████████████████████████████████| 1/1 [00:01<00:00,  1.03s/it]\n"
     ]
    },
    {
     "name": "stdout",
     "output_type": "stream",
     "text": [
      "Iter 7 - Epoch 0 - Client Type: Benign - Client Number 1 - Poison Training False\n"
     ]
    },
    {
     "name": "stderr",
     "output_type": "stream",
     "text": [
      "100%|████████████████████████████████████████████████████████████████████████████████████| 1/1 [00:00<00:00,  1.14it/s]\n"
     ]
    },
    {
     "name": "stdout",
     "output_type": "stream",
     "text": [
      "Iter 7 - Epoch 0 - Client Type: Benign - Client Number 2 - Poison Training False\n"
     ]
    },
    {
     "name": "stderr",
     "output_type": "stream",
     "text": [
      "100%|████████████████████████████████████████████████████████████████████████████████████| 2/2 [00:01<00:00,  1.48it/s]\n"
     ]
    },
    {
     "name": "stdout",
     "output_type": "stream",
     "text": [
      "Iter 7 - Epoch 0 - Client Type: Benign - Client Number 3 - Poison Training False\n"
     ]
    },
    {
     "name": "stderr",
     "output_type": "stream",
     "text": [
      "100%|████████████████████████████████████████████████████████████████████████████████████| 1/1 [00:00<00:00,  1.15it/s]\n"
     ]
    },
    {
     "name": "stdout",
     "output_type": "stream",
     "text": [
      "Iter 7 - Epoch 0 - Client Type: Benign - Client Number 4 - Poison Training False\n"
     ]
    },
    {
     "name": "stderr",
     "output_type": "stream",
     "text": [
      "100%|████████████████████████████████████████████████████████████████████████████████████| 1/1 [00:00<00:00,  1.27it/s]\n"
     ]
    },
    {
     "name": "stdout",
     "output_type": "stream",
     "text": [
      "Iter 7 - Epoch 0 - Client Type: Benign - Client Number 5 - Poison Training False\n"
     ]
    },
    {
     "name": "stderr",
     "output_type": "stream",
     "text": [
      "100%|████████████████████████████████████████████████████████████████████████████████████| 1/1 [00:00<00:00,  1.00it/s]\n"
     ]
    },
    {
     "name": "stdout",
     "output_type": "stream",
     "text": [
      "Iter 7 - Epoch 0 - Client Type: Benign - Client Number 6 - Poison Training False\n"
     ]
    },
    {
     "name": "stderr",
     "output_type": "stream",
     "text": [
      "100%|████████████████████████████████████████████████████████████████████████████████████| 1/1 [00:00<00:00,  1.13it/s]\n"
     ]
    },
    {
     "name": "stdout",
     "output_type": "stream",
     "text": [
      "Iter 7 - Epoch 0 - Client Type: Benign - Client Number 7 - Poison Training False\n"
     ]
    },
    {
     "name": "stderr",
     "output_type": "stream",
     "text": [
      "100%|████████████████████████████████████████████████████████████████████████████████████| 1/1 [00:01<00:00,  1.01s/it]\n"
     ]
    },
    {
     "name": "stdout",
     "output_type": "stream",
     "text": [
      "Iter 7 - Epoch 0 - Client Type: Benign - Client Number 8 - Poison Training False\n"
     ]
    },
    {
     "name": "stderr",
     "output_type": "stream",
     "text": [
      "100%|████████████████████████████████████████████████████████████████████████████████████| 2/2 [00:01<00:00,  1.75it/s]\n"
     ]
    },
    {
     "name": "stdout",
     "output_type": "stream",
     "text": [
      "Iter 7 - Epoch 0 - Client Type: Benign - Client Number 9 - Poison Training False\n"
     ]
    },
    {
     "name": "stderr",
     "output_type": "stream",
     "text": [
      "100%|████████████████████████████████████████████████████████████████████████████████████| 1/1 [00:00<00:00,  1.07it/s]\n"
     ]
    },
    {
     "name": "stdout",
     "output_type": "stream",
     "text": [
      "Iter 7 - Epoch 0 - Client Type: Benign - Client Number 10 - Poison Training False\n"
     ]
    },
    {
     "name": "stderr",
     "output_type": "stream",
     "text": [
      "100%|████████████████████████████████████████████████████████████████████████████████████| 2/2 [00:01<00:00,  1.24it/s]\n"
     ]
    },
    {
     "name": "stdout",
     "output_type": "stream",
     "text": [
      "Iter 7 - Epoch 0 - Client Type: Benign - Client Number 11 - Poison Training False\n"
     ]
    },
    {
     "name": "stderr",
     "output_type": "stream",
     "text": [
      "100%|████████████████████████████████████████████████████████████████████████████████████| 2/2 [00:01<00:00,  1.76it/s]\n"
     ]
    },
    {
     "name": "stdout",
     "output_type": "stream",
     "text": [
      "Iter 7 - Epoch 0 - Client Type: Benign - Client Number 12 - Poison Training False\n"
     ]
    },
    {
     "name": "stderr",
     "output_type": "stream",
     "text": [
      "100%|████████████████████████████████████████████████████████████████████████████████████| 1/1 [00:00<00:00,  1.49it/s]\n"
     ]
    },
    {
     "name": "stdout",
     "output_type": "stream",
     "text": [
      "Iter 7 - Epoch 0 - Client Type: Benign - Client Number 13 - Poison Training False\n"
     ]
    },
    {
     "name": "stderr",
     "output_type": "stream",
     "text": [
      "100%|████████████████████████████████████████████████████████████████████████████████████| 2/2 [00:01<00:00,  1.79it/s]\n"
     ]
    },
    {
     "name": "stdout",
     "output_type": "stream",
     "text": [
      "Iter 7 - Epoch 0 - Client Type: Benign - Client Number 14 - Poison Training False\n"
     ]
    },
    {
     "name": "stderr",
     "output_type": "stream",
     "text": [
      "100%|████████████████████████████████████████████████████████████████████████████████████| 2/2 [00:01<00:00,  1.73it/s]\n"
     ]
    },
    {
     "name": "stdout",
     "output_type": "stream",
     "text": [
      "Iter 7 - Epoch 0 - Client Type: Benign - Client Number 15 - Poison Training False\n"
     ]
    },
    {
     "name": "stderr",
     "output_type": "stream",
     "text": [
      "100%|████████████████████████████████████████████████████████████████████████████████████| 1/1 [00:01<00:00,  1.03s/it]\n"
     ]
    },
    {
     "name": "stdout",
     "output_type": "stream",
     "text": [
      "Iter 7 - Epoch 0 - Client Type: Benign - Client Number 16 - Poison Training False\n"
     ]
    },
    {
     "name": "stderr",
     "output_type": "stream",
     "text": [
      "100%|████████████████████████████████████████████████████████████████████████████████████| 1/1 [00:00<00:00,  1.00it/s]\n"
     ]
    },
    {
     "name": "stdout",
     "output_type": "stream",
     "text": [
      "Iter 7 - Epoch 0 - Client Type: Benign - Client Number 17 - Poison Training False\n"
     ]
    },
    {
     "name": "stderr",
     "output_type": "stream",
     "text": [
      "100%|████████████████████████████████████████████████████████████████████████████████████| 2/2 [00:01<00:00,  1.17it/s]\n"
     ]
    },
    {
     "name": "stdout",
     "output_type": "stream",
     "text": [
      "Iter 7 - Epoch 0 - Client Type: Benign - Client Number 18 - Poison Training False\n"
     ]
    },
    {
     "name": "stderr",
     "output_type": "stream",
     "text": [
      "100%|████████████████████████████████████████████████████████████████████████████████████| 1/1 [00:01<00:00,  1.02s/it]\n"
     ]
    },
    {
     "name": "stdout",
     "output_type": "stream",
     "text": [
      "Iter 7 - Epoch 0 - Client Type: Benign - Client Number 19 - Poison Training False\n"
     ]
    },
    {
     "name": "stderr",
     "output_type": "stream",
     "text": [
      "100%|████████████████████████████████████████████████████████████████████████████████████| 2/2 [00:01<00:00,  1.61it/s]\n"
     ]
    },
    {
     "name": "stdout",
     "output_type": "stream",
     "text": [
      "\n",
      "\n",
      " Entering epoch 3\n",
      "Iter 7 - Epoch 0 - Client Type: Benign - Client Number 0 - Poison Training False\n"
     ]
    },
    {
     "name": "stderr",
     "output_type": "stream",
     "text": [
      "100%|████████████████████████████████████████████████████████████████████████████████████| 1/1 [00:01<00:00,  1.03s/it]\n"
     ]
    },
    {
     "name": "stdout",
     "output_type": "stream",
     "text": [
      "Iter 7 - Epoch 0 - Client Type: Benign - Client Number 1 - Poison Training False\n"
     ]
    },
    {
     "name": "stderr",
     "output_type": "stream",
     "text": [
      "100%|████████████████████████████████████████████████████████████████████████████████████| 1/1 [00:00<00:00,  1.17it/s]\n"
     ]
    },
    {
     "name": "stdout",
     "output_type": "stream",
     "text": [
      "Iter 7 - Epoch 0 - Client Type: Benign - Client Number 2 - Poison Training False\n"
     ]
    },
    {
     "name": "stderr",
     "output_type": "stream",
     "text": [
      "100%|████████████████████████████████████████████████████████████████████████████████████| 2/2 [00:01<00:00,  1.29it/s]\n"
     ]
    },
    {
     "name": "stdout",
     "output_type": "stream",
     "text": [
      "Iter 7 - Epoch 0 - Client Type: Benign - Client Number 3 - Poison Training False\n"
     ]
    },
    {
     "name": "stderr",
     "output_type": "stream",
     "text": [
      "100%|████████████████████████████████████████████████████████████████████████████████████| 1/1 [00:01<00:00,  1.11s/it]\n"
     ]
    },
    {
     "name": "stdout",
     "output_type": "stream",
     "text": [
      "Iter 7 - Epoch 0 - Client Type: Benign - Client Number 4 - Poison Training False\n"
     ]
    },
    {
     "name": "stderr",
     "output_type": "stream",
     "text": [
      "100%|████████████████████████████████████████████████████████████████████████████████████| 1/1 [00:00<00:00,  1.04it/s]\n"
     ]
    },
    {
     "name": "stdout",
     "output_type": "stream",
     "text": [
      "Iter 7 - Epoch 0 - Client Type: Benign - Client Number 5 - Poison Training False\n"
     ]
    },
    {
     "name": "stderr",
     "output_type": "stream",
     "text": [
      "100%|████████████████████████████████████████████████████████████████████████████████████| 1/1 [00:01<00:00,  1.01s/it]\n"
     ]
    },
    {
     "name": "stdout",
     "output_type": "stream",
     "text": [
      "Iter 7 - Epoch 0 - Client Type: Benign - Client Number 6 - Poison Training False\n"
     ]
    },
    {
     "name": "stderr",
     "output_type": "stream",
     "text": [
      "100%|████████████████████████████████████████████████████████████████████████████████████| 1/1 [00:01<00:00,  1.02s/it]\n"
     ]
    },
    {
     "name": "stdout",
     "output_type": "stream",
     "text": [
      "Iter 7 - Epoch 0 - Client Type: Benign - Client Number 7 - Poison Training False\n"
     ]
    },
    {
     "name": "stderr",
     "output_type": "stream",
     "text": [
      "100%|████████████████████████████████████████████████████████████████████████████████████| 1/1 [00:01<00:00,  1.00s/it]\n"
     ]
    },
    {
     "name": "stdout",
     "output_type": "stream",
     "text": [
      "Iter 7 - Epoch 0 - Client Type: Benign - Client Number 8 - Poison Training False\n"
     ]
    },
    {
     "name": "stderr",
     "output_type": "stream",
     "text": [
      "100%|████████████████████████████████████████████████████████████████████████████████████| 2/2 [00:01<00:00,  1.81it/s]\n"
     ]
    },
    {
     "name": "stdout",
     "output_type": "stream",
     "text": [
      "Iter 7 - Epoch 0 - Client Type: Benign - Client Number 9 - Poison Training False\n"
     ]
    },
    {
     "name": "stderr",
     "output_type": "stream",
     "text": [
      "100%|████████████████████████████████████████████████████████████████████████████████████| 1/1 [00:01<00:00,  1.01s/it]\n"
     ]
    },
    {
     "name": "stdout",
     "output_type": "stream",
     "text": [
      "Iter 7 - Epoch 0 - Client Type: Benign - Client Number 10 - Poison Training False\n"
     ]
    },
    {
     "name": "stderr",
     "output_type": "stream",
     "text": [
      "100%|████████████████████████████████████████████████████████████████████████████████████| 2/2 [00:01<00:00,  1.72it/s]\n"
     ]
    },
    {
     "name": "stdout",
     "output_type": "stream",
     "text": [
      "Iter 7 - Epoch 0 - Client Type: Benign - Client Number 11 - Poison Training False\n"
     ]
    },
    {
     "name": "stderr",
     "output_type": "stream",
     "text": [
      "100%|████████████████████████████████████████████████████████████████████████████████████| 2/2 [00:01<00:00,  1.68it/s]\n"
     ]
    },
    {
     "name": "stdout",
     "output_type": "stream",
     "text": [
      "Iter 7 - Epoch 0 - Client Type: Benign - Client Number 12 - Poison Training False\n"
     ]
    },
    {
     "name": "stderr",
     "output_type": "stream",
     "text": [
      "100%|████████████████████████████████████████████████████████████████████████████████████| 1/1 [00:00<00:00,  1.49it/s]\n"
     ]
    },
    {
     "name": "stdout",
     "output_type": "stream",
     "text": [
      "Iter 7 - Epoch 0 - Client Type: Benign - Client Number 13 - Poison Training False\n"
     ]
    },
    {
     "name": "stderr",
     "output_type": "stream",
     "text": [
      "100%|████████████████████████████████████████████████████████████████████████████████████| 2/2 [00:01<00:00,  1.78it/s]\n"
     ]
    },
    {
     "name": "stdout",
     "output_type": "stream",
     "text": [
      "Iter 7 - Epoch 0 - Client Type: Benign - Client Number 14 - Poison Training False\n"
     ]
    },
    {
     "name": "stderr",
     "output_type": "stream",
     "text": [
      "100%|████████████████████████████████████████████████████████████████████████████████████| 2/2 [00:01<00:00,  1.60it/s]\n"
     ]
    },
    {
     "name": "stdout",
     "output_type": "stream",
     "text": [
      "Iter 7 - Epoch 0 - Client Type: Benign - Client Number 15 - Poison Training False\n"
     ]
    },
    {
     "name": "stderr",
     "output_type": "stream",
     "text": [
      "100%|████████████████████████████████████████████████████████████████████████████████████| 1/1 [00:01<00:00,  1.15s/it]\n"
     ]
    },
    {
     "name": "stdout",
     "output_type": "stream",
     "text": [
      "Iter 7 - Epoch 0 - Client Type: Benign - Client Number 16 - Poison Training False\n"
     ]
    },
    {
     "name": "stderr",
     "output_type": "stream",
     "text": [
      "100%|████████████████████████████████████████████████████████████████████████████████████| 1/1 [00:00<00:00,  1.03it/s]\n"
     ]
    },
    {
     "name": "stdout",
     "output_type": "stream",
     "text": [
      "Iter 7 - Epoch 0 - Client Type: Benign - Client Number 17 - Poison Training False\n"
     ]
    },
    {
     "name": "stderr",
     "output_type": "stream",
     "text": [
      "100%|████████████████████████████████████████████████████████████████████████████████████| 2/2 [00:01<00:00,  1.28it/s]\n"
     ]
    },
    {
     "name": "stdout",
     "output_type": "stream",
     "text": [
      "Iter 7 - Epoch 0 - Client Type: Benign - Client Number 18 - Poison Training False\n"
     ]
    },
    {
     "name": "stderr",
     "output_type": "stream",
     "text": [
      "100%|████████████████████████████████████████████████████████████████████████████████████| 1/1 [00:01<00:00,  1.02s/it]\n"
     ]
    },
    {
     "name": "stdout",
     "output_type": "stream",
     "text": [
      "Iter 7 - Epoch 0 - Client Type: Benign - Client Number 19 - Poison Training False\n"
     ]
    },
    {
     "name": "stderr",
     "output_type": "stream",
     "text": [
      "100%|████████████████████████████████████████████████████████████████████████████████████| 2/2 [00:01<00:00,  1.47it/s]\n"
     ]
    },
    {
     "name": "stdout",
     "output_type": "stream",
     "text": [
      "\n",
      "\n",
      " Entering epoch 4\n",
      "Iter 7 - Epoch 0 - Client Type: Benign - Client Number 0 - Poison Training False\n"
     ]
    },
    {
     "name": "stderr",
     "output_type": "stream",
     "text": [
      "100%|████████████████████████████████████████████████████████████████████████████████████| 1/1 [00:01<00:00,  1.07s/it]\n"
     ]
    },
    {
     "name": "stdout",
     "output_type": "stream",
     "text": [
      "Iter 7 - Epoch 0 - Client Type: Benign - Client Number 1 - Poison Training False\n"
     ]
    },
    {
     "name": "stderr",
     "output_type": "stream",
     "text": [
      "100%|████████████████████████████████████████████████████████████████████████████████████| 1/1 [00:01<00:00,  1.03s/it]\n"
     ]
    },
    {
     "name": "stdout",
     "output_type": "stream",
     "text": [
      "Iter 7 - Epoch 0 - Client Type: Benign - Client Number 2 - Poison Training False\n"
     ]
    },
    {
     "name": "stderr",
     "output_type": "stream",
     "text": [
      "100%|████████████████████████████████████████████████████████████████████████████████████| 2/2 [00:01<00:00,  1.35it/s]\n"
     ]
    },
    {
     "name": "stdout",
     "output_type": "stream",
     "text": [
      "Iter 7 - Epoch 0 - Client Type: Benign - Client Number 3 - Poison Training False\n"
     ]
    },
    {
     "name": "stderr",
     "output_type": "stream",
     "text": [
      "100%|████████████████████████████████████████████████████████████████████████████████████| 1/1 [00:01<00:00,  1.04s/it]\n"
     ]
    },
    {
     "name": "stdout",
     "output_type": "stream",
     "text": [
      "Iter 7 - Epoch 0 - Client Type: Benign - Client Number 4 - Poison Training False\n"
     ]
    },
    {
     "name": "stderr",
     "output_type": "stream",
     "text": [
      "100%|████████████████████████████████████████████████████████████████████████████████████| 1/1 [00:00<00:00,  1.18it/s]\n"
     ]
    },
    {
     "name": "stdout",
     "output_type": "stream",
     "text": [
      "Iter 7 - Epoch 0 - Client Type: Benign - Client Number 5 - Poison Training False\n"
     ]
    },
    {
     "name": "stderr",
     "output_type": "stream",
     "text": [
      "100%|████████████████████████████████████████████████████████████████████████████████████| 1/1 [00:01<00:00,  1.22s/it]\n"
     ]
    },
    {
     "name": "stdout",
     "output_type": "stream",
     "text": [
      "Iter 7 - Epoch 0 - Client Type: Benign - Client Number 6 - Poison Training False\n"
     ]
    },
    {
     "name": "stderr",
     "output_type": "stream",
     "text": [
      "100%|████████████████████████████████████████████████████████████████████████████████████| 1/1 [00:01<00:00,  1.12s/it]\n"
     ]
    },
    {
     "name": "stdout",
     "output_type": "stream",
     "text": [
      "Iter 7 - Epoch 0 - Client Type: Benign - Client Number 7 - Poison Training False\n"
     ]
    },
    {
     "name": "stderr",
     "output_type": "stream",
     "text": [
      "100%|████████████████████████████████████████████████████████████████████████████████████| 1/1 [00:01<00:00,  1.03s/it]\n"
     ]
    },
    {
     "name": "stdout",
     "output_type": "stream",
     "text": [
      "Iter 7 - Epoch 0 - Client Type: Benign - Client Number 8 - Poison Training False\n"
     ]
    },
    {
     "name": "stderr",
     "output_type": "stream",
     "text": [
      "100%|████████████████████████████████████████████████████████████████████████████████████| 2/2 [00:01<00:00,  1.72it/s]\n"
     ]
    },
    {
     "name": "stdout",
     "output_type": "stream",
     "text": [
      "Iter 7 - Epoch 0 - Client Type: Benign - Client Number 9 - Poison Training False\n"
     ]
    },
    {
     "name": "stderr",
     "output_type": "stream",
     "text": [
      "100%|████████████████████████████████████████████████████████████████████████████████████| 1/1 [00:01<00:00,  1.01s/it]\n"
     ]
    },
    {
     "name": "stdout",
     "output_type": "stream",
     "text": [
      "Iter 7 - Epoch 0 - Client Type: Benign - Client Number 10 - Poison Training False\n"
     ]
    },
    {
     "name": "stderr",
     "output_type": "stream",
     "text": [
      "100%|████████████████████████████████████████████████████████████████████████████████████| 2/2 [00:01<00:00,  1.83it/s]\n"
     ]
    },
    {
     "name": "stdout",
     "output_type": "stream",
     "text": [
      "Iter 7 - Epoch 0 - Client Type: Benign - Client Number 11 - Poison Training False\n"
     ]
    },
    {
     "name": "stderr",
     "output_type": "stream",
     "text": [
      "100%|████████████████████████████████████████████████████████████████████████████████████| 2/2 [00:01<00:00,  1.25it/s]\n"
     ]
    },
    {
     "name": "stdout",
     "output_type": "stream",
     "text": [
      "Iter 7 - Epoch 0 - Client Type: Benign - Client Number 12 - Poison Training False\n"
     ]
    },
    {
     "name": "stderr",
     "output_type": "stream",
     "text": [
      "100%|████████████████████████████████████████████████████████████████████████████████████| 1/1 [00:00<00:00,  1.13it/s]\n"
     ]
    },
    {
     "name": "stdout",
     "output_type": "stream",
     "text": [
      "Iter 7 - Epoch 0 - Client Type: Benign - Client Number 13 - Poison Training False\n"
     ]
    },
    {
     "name": "stderr",
     "output_type": "stream",
     "text": [
      "100%|████████████████████████████████████████████████████████████████████████████████████| 2/2 [00:01<00:00,  1.37it/s]\n"
     ]
    },
    {
     "name": "stdout",
     "output_type": "stream",
     "text": [
      "Iter 7 - Epoch 0 - Client Type: Benign - Client Number 14 - Poison Training False\n"
     ]
    },
    {
     "name": "stderr",
     "output_type": "stream",
     "text": [
      "100%|████████████████████████████████████████████████████████████████████████████████████| 2/2 [00:01<00:00,  1.62it/s]\n"
     ]
    },
    {
     "name": "stdout",
     "output_type": "stream",
     "text": [
      "Iter 7 - Epoch 0 - Client Type: Benign - Client Number 15 - Poison Training False\n"
     ]
    },
    {
     "name": "stderr",
     "output_type": "stream",
     "text": [
      "100%|████████████████████████████████████████████████████████████████████████████████████| 1/1 [00:01<00:00,  1.07s/it]\n"
     ]
    },
    {
     "name": "stdout",
     "output_type": "stream",
     "text": [
      "Iter 7 - Epoch 0 - Client Type: Benign - Client Number 16 - Poison Training False\n"
     ]
    },
    {
     "name": "stderr",
     "output_type": "stream",
     "text": [
      "100%|████████████████████████████████████████████████████████████████████████████████████| 1/1 [00:00<00:00,  1.02it/s]\n"
     ]
    },
    {
     "name": "stdout",
     "output_type": "stream",
     "text": [
      "Iter 7 - Epoch 0 - Client Type: Benign - Client Number 17 - Poison Training False\n"
     ]
    },
    {
     "name": "stderr",
     "output_type": "stream",
     "text": [
      "100%|████████████████████████████████████████████████████████████████████████████████████| 2/2 [00:01<00:00,  1.15it/s]\n"
     ]
    },
    {
     "name": "stdout",
     "output_type": "stream",
     "text": [
      "Iter 7 - Epoch 0 - Client Type: Benign - Client Number 18 - Poison Training False\n"
     ]
    },
    {
     "name": "stderr",
     "output_type": "stream",
     "text": [
      "100%|████████████████████████████████████████████████████████████████████████████████████| 1/1 [00:01<00:00,  1.09s/it]\n"
     ]
    },
    {
     "name": "stdout",
     "output_type": "stream",
     "text": [
      "Iter 7 - Epoch 0 - Client Type: Benign - Client Number 19 - Poison Training False\n"
     ]
    },
    {
     "name": "stderr",
     "output_type": "stream",
     "text": [
      "100%|████████████████████████████████████████████████████████████████████████████████████| 2/2 [00:01<00:00,  1.31it/s]\n"
     ]
    },
    {
     "name": "stdout",
     "output_type": "stream",
     "text": [
      "Original Copylist [7, 2, 5, 3, 2, 7, 3, 7, 0, 7, 0, 0, 4, 0, 0, 7, 3, 1, 7, 6]\n",
      "Found clusters [1 3 6 2 3 1 2 1 0 1 0 0 7 0 0 1 2 4 1 5]\n",
      "Original groups [array([ 8, 10, 11, 13, 14], dtype=int64), array([17], dtype=int64), array([1, 4], dtype=int64), array([ 3,  6, 16], dtype=int64), array([12], dtype=int64), array([2], dtype=int64), array([19], dtype=int64), array([ 0,  5,  7,  9, 15, 18], dtype=int64)]\n",
      "Clustered groups [array([ 8, 10, 11, 13, 14], dtype=int64), array([ 0,  5,  7,  9, 15, 18], dtype=int64), array([ 3,  6, 16], dtype=int64), array([1, 4], dtype=int64), array([17], dtype=int64), array([19], dtype=int64), array([2], dtype=int64), array([12], dtype=int64)]\n",
      "Clustering score 1.0\n",
      "8\n",
      "[[ 1.00000465 -0.08024852  0.696068    0.09077098 -0.07539411  0.901079\n",
      "   0.11854313  0.92589272  0.24543107  0.86462865  0.00589427  0.20972254\n",
      "   0.52425178  0.30080765  0.0939572   0.92977691  0.14674331  0.19486154\n",
      "   0.88735619  0.2509657 ]\n",
      " [-0.08024852  1.00000565  0.07173653  0.43545654  0.98410666 -0.03966294\n",
      "   0.3746254  -0.09383873  0.28381781 -0.05177161  0.36493198  0.28043637\n",
      "   0.14237491  0.21536323  0.27015613 -0.06324437  0.38017412  0.22214057\n",
      "  -0.05469594  0.30664036]\n",
      " [ 0.69606801  0.07173653  1.00000325  0.23847631  0.07284876  0.63680117\n",
      "   0.26008634  0.66021339  0.38187264  0.63188444  0.25569477  0.38794215\n",
      "   0.29992148  0.43755773  0.31032508  0.64291537  0.27855139  0.49945744\n",
      "   0.62935416  0.33500811]\n",
      " [ 0.09077098  0.43545653  0.23847632  1.00000486  0.44032751  0.08391412\n",
      "   0.96156769  0.08067569  0.42212718  0.09387545  0.43893887  0.38347904\n",
      "   0.0746778   0.33357883  0.4552337   0.07970699  0.95402489  0.21632916\n",
      "   0.06793239  0.30461844]\n",
      " [-0.07539411  0.98410666  0.07284876  0.44032749  1.00000801 -0.02828977\n",
      "   0.37550006 -0.08638637  0.26780105 -0.04293853  0.35853982  0.2780257\n",
      "   0.12879946  0.20144787  0.25607604 -0.0531286   0.38542351  0.22969352\n",
      "  -0.04717447  0.30490192]\n",
      " [ 0.90107902 -0.03966294  0.63680118  0.08391412 -0.02828977  1.00000541\n",
      "   0.09964524  0.94143217  0.20650226  0.94785496 -0.01075839  0.16996875\n",
      "   0.55247043  0.26055004  0.04434144  0.94680599  0.14339011  0.17596384\n",
      "   0.94990855  0.31177887]\n",
      " [ 0.11854315  0.3746254   0.26008634  0.96156769  0.37550007  0.09964523\n",
      "   1.00000706  0.11237588  0.43234876  0.12086471  0.42139833  0.4287867\n",
      "   0.10410959  0.37359467  0.48388984  0.10274478  0.97073054  0.20002774\n",
      "   0.103839    0.31318141]\n",
      " [ 0.92589271 -0.09383872  0.66021338  0.08067569 -0.08638636  0.94143218\n",
      "   0.11237587  1.00000393  0.22964848  0.94704645 -0.01177329  0.19022066\n",
      "   0.54941844  0.29079299  0.07539403  0.95109757  0.14077121  0.1639555\n",
      "   0.95013558  0.29306118]\n",
      " [ 0.24543107  0.28381781  0.38187264  0.42212718  0.26780105  0.20650226\n",
      "   0.43234876  0.22964849  1.00000504  0.21615985  0.73458139  0.66218824\n",
      "   0.2972435   0.69894156  0.73602203  0.21017326  0.4093818   0.27815109\n",
      "   0.22862079  0.40713068]\n",
      " [ 0.86462866 -0.05177161  0.63188441  0.09387544 -0.04293853  0.94785494\n",
      "   0.12086472  0.94704645  0.21615986  1.00000553 -0.01332385  0.17202308\n",
      "   0.53161075  0.26863322  0.0643278   0.93737457  0.15751913  0.16641303\n",
      "   0.95286558  0.35038562]\n",
      " [ 0.00589427  0.36493199  0.25569477  0.43893887  0.35853982 -0.01075839\n",
      "   0.42139831 -0.01177329  0.73458141 -0.01332385  1.00000503  0.6813411\n",
      "   0.15234137  0.68489285  0.71300122 -0.02481454  0.39578173  0.3074218\n",
      "  -0.01520977  0.2987322 ]\n",
      " [ 0.20972255  0.28043635  0.38794216  0.38347906  0.2780257   0.16996875\n",
      "   0.42878668  0.19022066  0.66218824  0.17202307  0.6813411   1.00000447\n",
      "   0.27156465  0.65851764  0.72693665  0.16596056  0.42246644  0.31156507\n",
      "   0.18527478  0.3426189 ]\n",
      " [ 0.52425181  0.14237491  0.29992147  0.0746778   0.12879946  0.55247041\n",
      "   0.10410959  0.54941844  0.2972435   0.53161076  0.15234137  0.27156465\n",
      "   1.00000359  0.36586539  0.16698029  0.54665609  0.10471215  0.19139513\n",
      "   0.55661574  0.18082813]\n",
      " [ 0.30080765  0.21536323  0.43755773  0.33357882  0.20144786  0.26055004\n",
      "   0.37359467  0.29079299  0.69894156  0.26863321  0.68489283  0.65851762\n",
      "   0.36586538  1.00000427  0.60384319  0.25545529  0.37580626  0.29498499\n",
      "   0.27720672  0.35241657]\n",
      " [ 0.0939572   0.27015613  0.31032507  0.4552337   0.25607603  0.04434144\n",
      "   0.48388985  0.07539402  0.73602204  0.06432779  0.71300124  0.72693665\n",
      "   0.1669803   0.60384321  1.00000529  0.04145379  0.45948198  0.2958665\n",
      "   0.05312988  0.34370704]\n",
      " [ 0.92977692 -0.06324437  0.64291536  0.07970699 -0.0531286   0.946806\n",
      "   0.10274477  0.95109757  0.21017326  0.93737456 -0.02481454  0.16596056\n",
      "   0.54665607  0.25545528  0.04145379  1.00000453  0.13681196  0.18567029\n",
      "   0.94827908  0.28993847]\n",
      " [ 0.14674331  0.38017412  0.2785514   0.9540249   0.38542351  0.14339012\n",
      "   0.97073056  0.14077122  0.4093818   0.15751913  0.39578175  0.42246646\n",
      "   0.10471215  0.37580627  0.45948198  0.13681196  1.00000601  0.20485761\n",
      "   0.13390338  0.30507845]\n",
      " [ 0.19486154  0.22214057  0.49945744  0.21632916  0.22969352  0.17596384\n",
      "   0.20002773  0.1639555   0.27815108  0.16641304  0.30742182  0.31156508\n",
      "   0.19139513  0.29498499  0.29586648  0.18567029  0.20485761  1.00000668\n",
      "   0.1717849   0.08475195]\n",
      " [ 0.88735619 -0.05469594  0.62935416  0.06793239 -0.04717447  0.94990853\n",
      "   0.103839    0.95013558  0.22862079  0.95286558 -0.01520977  0.18527478\n",
      "   0.55661574  0.27720672  0.05312988  0.94827907  0.13390338  0.17178489\n",
      "   1.00000856  0.34297417]\n",
      " [ 0.25096571  0.30664035  0.33500812  0.30461845  0.30490191  0.31177888\n",
      "   0.31318141  0.29306118  0.40713068  0.35038562  0.2987322   0.34261889\n",
      "   0.18082813  0.35241659  0.34370704  0.28993848  0.30507846  0.08475194\n",
      "   0.34297417  1.00000298]]\n",
      "Original Copylist [7, 2, 5, 3, 2, 7, 3, 7, 0, 7, 0, 0, 4, 0, 0, 7, 3, 1, 7, 6]\n",
      "Found clusters [0 6 0 1 6 0 1 0 2 0 2 2 4 7 2 0 1 3 0 5]\n",
      "Original groups [array([ 8, 10, 11, 13, 14], dtype=int64), array([17], dtype=int64), array([1, 4], dtype=int64), array([ 3,  6, 16], dtype=int64), array([12], dtype=int64), array([2], dtype=int64), array([19], dtype=int64), array([ 0,  5,  7,  9, 15, 18], dtype=int64)]\n",
      "Clustered groups [array([ 0,  2,  5,  7,  9, 15, 18], dtype=int64), array([ 3,  6, 16], dtype=int64), array([ 8, 10, 11, 14], dtype=int64), array([17], dtype=int64), array([12], dtype=int64), array([19], dtype=int64), array([1, 4], dtype=int64), array([13], dtype=int64)]\n",
      "Clustering score 0.8021245573838783\n",
      "Benign net distance [tensor(40.2116), tensor(46.3906), tensor(40.4477), tensor(39.5600), tensor(46.1578), tensor(37.5901), tensor(37.7315), tensor(38.7778), tensor(44.4035), tensor(36.9885), tensor(52.4713), tensor(46.0546), tensor(40.2936), tensor(45.3561), tensor(40.7159), tensor(37.9570), tensor(38.1879), tensor(96.0264), tensor(36.6744), tensor(0.)]\n",
      "Malicious net distance []\n",
      "cos_sim list  [tensor(0.1263), tensor(0.3401), tensor(0.2628), tensor(0.2747), tensor(0.3417), tensor(0.2509), tensor(0.2864), tensor(0.1765), tensor(0.2966), tensor(0.2763), tensor(0.2400), tensor(0.2618), tensor(0.1266), tensor(0.2674), tensor(0.3271), tensor(0.2185), tensor(0.2953), tensor(0.1083), tensor(0.2866), tensor(1.0000)]\n",
      "Norms of local gradients  [tensor(0.1962), tensor(0.5280), tensor(0.3773), tensor(0.3690), tensor(0.5170), tensor(0.1963), tensor(0.3431), tensor(0.1891), tensor(0.4719), tensor(0.1914), tensor(0.5613), tensor(0.4718), tensor(0.2784), tensor(0.4884), tensor(0.4574), tensor(0.1944), tensor(0.3447), tensor(0.9914), tensor(0.1913), tensor(0.3813)]\n",
      "\n",
      " Aggregating models\n",
      "Cosine Similarities:  [tensor(0.1263), tensor(0.3401), tensor(0.2628), tensor(0.2747), tensor(0.3417), tensor(0.2509), tensor(0.2864), tensor(0.1765), tensor(0.2966), tensor(0.2763), tensor(0.2400), tensor(0.2618), tensor(0.1266), tensor(0.2674), tensor(0.3271), tensor(0.2185), tensor(0.2953), tensor(0.1083), tensor(0.2866), tensor(1.0000)]\n",
      "Aggregation Weights:  [0.04257913 0.04261284 0.04607321 0.04924782 0.04371481 0.08454215\n",
      " 0.05522382 0.06174255 0.04157163 0.09547552 0.02827988 0.03669801\n",
      " 0.0300813  0.03622393 0.04730787 0.07435386 0.056664   0.00722413\n",
      " 0.0991272  0.1734944 ]\n",
      "\n",
      "\n",
      "\n",
      "Aggregate test at iter  7\n"
     ]
    },
    {
     "name": "stderr",
     "output_type": "stream",
     "text": [
      "100%|██████████████████████████████████████████████████████████████████████████████████| 10/10 [00:02<00:00,  4.18it/s]\n"
     ]
    },
    {
     "name": "stdout",
     "output_type": "stream",
     "text": [
      "\n",
      "Test set: Avg. loss: 0.0007, Accuracy: 7410/10000 (74%)\n",
      "\n",
      "\n",
      "\n",
      " Entering epoch 0\n",
      "Iter 8 - Epoch 0 - Client Type: Benign - Client Number 0 - Poison Training False\n"
     ]
    },
    {
     "name": "stderr",
     "output_type": "stream",
     "text": [
      "100%|████████████████████████████████████████████████████████████████████████████████████| 1/1 [00:01<00:00,  1.17s/it]\n"
     ]
    },
    {
     "name": "stdout",
     "output_type": "stream",
     "text": [
      "Iter 8 - Epoch 0 - Client Type: Benign - Client Number 1 - Poison Training False\n"
     ]
    },
    {
     "name": "stderr",
     "output_type": "stream",
     "text": [
      "100%|████████████████████████████████████████████████████████████████████████████████████| 1/1 [00:00<00:00,  1.08it/s]\n"
     ]
    },
    {
     "name": "stdout",
     "output_type": "stream",
     "text": [
      "Iter 8 - Epoch 0 - Client Type: Benign - Client Number 2 - Poison Training False\n"
     ]
    },
    {
     "name": "stderr",
     "output_type": "stream",
     "text": [
      "100%|████████████████████████████████████████████████████████████████████████████████████| 2/2 [00:01<00:00,  1.30it/s]\n"
     ]
    },
    {
     "name": "stdout",
     "output_type": "stream",
     "text": [
      "Iter 8 - Epoch 0 - Client Type: Benign - Client Number 3 - Poison Training False\n"
     ]
    },
    {
     "name": "stderr",
     "output_type": "stream",
     "text": [
      "100%|████████████████████████████████████████████████████████████████████████████████████| 1/1 [00:01<00:00,  1.06s/it]\n"
     ]
    },
    {
     "name": "stdout",
     "output_type": "stream",
     "text": [
      "Iter 8 - Epoch 0 - Client Type: Benign - Client Number 4 - Poison Training False\n"
     ]
    },
    {
     "name": "stderr",
     "output_type": "stream",
     "text": [
      "100%|████████████████████████████████████████████████████████████████████████████████████| 1/1 [00:00<00:00,  1.03it/s]\n"
     ]
    },
    {
     "name": "stdout",
     "output_type": "stream",
     "text": [
      "Iter 8 - Epoch 0 - Client Type: Benign - Client Number 5 - Poison Training False\n"
     ]
    },
    {
     "name": "stderr",
     "output_type": "stream",
     "text": [
      "100%|████████████████████████████████████████████████████████████████████████████████████| 1/1 [00:01<00:00,  1.11s/it]\n"
     ]
    },
    {
     "name": "stdout",
     "output_type": "stream",
     "text": [
      "Iter 8 - Epoch 0 - Client Type: Benign - Client Number 6 - Poison Training False\n"
     ]
    },
    {
     "name": "stderr",
     "output_type": "stream",
     "text": [
      "100%|████████████████████████████████████████████████████████████████████████████████████| 1/1 [00:01<00:00,  1.06s/it]\n"
     ]
    },
    {
     "name": "stdout",
     "output_type": "stream",
     "text": [
      "Iter 8 - Epoch 0 - Client Type: Benign - Client Number 7 - Poison Training False\n"
     ]
    },
    {
     "name": "stderr",
     "output_type": "stream",
     "text": [
      "100%|████████████████████████████████████████████████████████████████████████████████████| 1/1 [00:01<00:00,  1.14s/it]\n"
     ]
    },
    {
     "name": "stdout",
     "output_type": "stream",
     "text": [
      "Iter 8 - Epoch 0 - Client Type: Benign - Client Number 8 - Poison Training False\n"
     ]
    },
    {
     "name": "stderr",
     "output_type": "stream",
     "text": [
      "100%|████████████████████████████████████████████████████████████████████████████████████| 2/2 [00:01<00:00,  1.76it/s]\n"
     ]
    },
    {
     "name": "stdout",
     "output_type": "stream",
     "text": [
      "Iter 8 - Epoch 0 - Client Type: Benign - Client Number 9 - Poison Training False\n"
     ]
    },
    {
     "name": "stderr",
     "output_type": "stream",
     "text": [
      "100%|████████████████████████████████████████████████████████████████████████████████████| 1/1 [00:01<00:00,  1.09s/it]\n"
     ]
    },
    {
     "name": "stdout",
     "output_type": "stream",
     "text": [
      "Iter 8 - Epoch 0 - Client Type: Benign - Client Number 10 - Poison Training False\n"
     ]
    },
    {
     "name": "stderr",
     "output_type": "stream",
     "text": [
      "100%|████████████████████████████████████████████████████████████████████████████████████| 2/2 [00:01<00:00,  1.75it/s]\n"
     ]
    },
    {
     "name": "stdout",
     "output_type": "stream",
     "text": [
      "Iter 8 - Epoch 0 - Client Type: Benign - Client Number 11 - Poison Training False\n"
     ]
    },
    {
     "name": "stderr",
     "output_type": "stream",
     "text": [
      "100%|████████████████████████████████████████████████████████████████████████████████████| 2/2 [00:01<00:00,  1.82it/s]\n"
     ]
    },
    {
     "name": "stdout",
     "output_type": "stream",
     "text": [
      "Iter 8 - Epoch 0 - Client Type: Benign - Client Number 12 - Poison Training False\n"
     ]
    },
    {
     "name": "stderr",
     "output_type": "stream",
     "text": [
      "100%|████████████████████████████████████████████████████████████████████████████████████| 1/1 [00:00<00:00,  1.54it/s]\n"
     ]
    },
    {
     "name": "stdout",
     "output_type": "stream",
     "text": [
      "Iter 8 - Epoch 0 - Client Type: Benign - Client Number 13 - Poison Training False\n"
     ]
    },
    {
     "name": "stderr",
     "output_type": "stream",
     "text": [
      "100%|████████████████████████████████████████████████████████████████████████████████████| 2/2 [00:01<00:00,  1.81it/s]\n"
     ]
    },
    {
     "name": "stdout",
     "output_type": "stream",
     "text": [
      "Iter 8 - Epoch 0 - Client Type: Benign - Client Number 14 - Poison Training False\n"
     ]
    },
    {
     "name": "stderr",
     "output_type": "stream",
     "text": [
      "100%|████████████████████████████████████████████████████████████████████████████████████| 2/2 [00:01<00:00,  1.85it/s]\n"
     ]
    },
    {
     "name": "stdout",
     "output_type": "stream",
     "text": [
      "Iter 8 - Epoch 0 - Client Type: Benign - Client Number 15 - Poison Training False\n"
     ]
    },
    {
     "name": "stderr",
     "output_type": "stream",
     "text": [
      "100%|████████████████████████████████████████████████████████████████████████████████████| 1/1 [00:00<00:00,  1.05it/s]\n"
     ]
    },
    {
     "name": "stdout",
     "output_type": "stream",
     "text": [
      "Iter 8 - Epoch 0 - Client Type: Benign - Client Number 16 - Poison Training False\n"
     ]
    },
    {
     "name": "stderr",
     "output_type": "stream",
     "text": [
      "100%|████████████████████████████████████████████████████████████████████████████████████| 1/1 [00:00<00:00,  1.04it/s]\n"
     ]
    },
    {
     "name": "stdout",
     "output_type": "stream",
     "text": [
      "Iter 8 - Epoch 0 - Client Type: Benign - Client Number 17 - Poison Training False\n"
     ]
    },
    {
     "name": "stderr",
     "output_type": "stream",
     "text": [
      "100%|████████████████████████████████████████████████████████████████████████████████████| 2/2 [00:01<00:00,  1.34it/s]\n"
     ]
    },
    {
     "name": "stdout",
     "output_type": "stream",
     "text": [
      "Iter 8 - Epoch 0 - Client Type: Benign - Client Number 18 - Poison Training False\n"
     ]
    },
    {
     "name": "stderr",
     "output_type": "stream",
     "text": [
      "100%|████████████████████████████████████████████████████████████████████████████████████| 1/1 [00:00<00:00,  1.03it/s]\n"
     ]
    },
    {
     "name": "stdout",
     "output_type": "stream",
     "text": [
      "Iter 8 - Epoch 0 - Client Type: Benign - Client Number 19 - Poison Training False\n"
     ]
    },
    {
     "name": "stderr",
     "output_type": "stream",
     "text": [
      "100%|████████████████████████████████████████████████████████████████████████████████████| 2/2 [00:01<00:00,  1.64it/s]\n"
     ]
    },
    {
     "name": "stdout",
     "output_type": "stream",
     "text": [
      "\n",
      "\n",
      " Entering epoch 1\n",
      "Iter 8 - Epoch 0 - Client Type: Benign - Client Number 0 - Poison Training False\n"
     ]
    },
    {
     "name": "stderr",
     "output_type": "stream",
     "text": [
      "100%|████████████████████████████████████████████████████████████████████████████████████| 1/1 [00:00<00:00,  1.06it/s]\n"
     ]
    },
    {
     "name": "stdout",
     "output_type": "stream",
     "text": [
      "Iter 8 - Epoch 0 - Client Type: Benign - Client Number 1 - Poison Training False\n"
     ]
    },
    {
     "name": "stderr",
     "output_type": "stream",
     "text": [
      "100%|████████████████████████████████████████████████████████████████████████████████████| 1/1 [00:00<00:00,  1.18it/s]\n"
     ]
    },
    {
     "name": "stdout",
     "output_type": "stream",
     "text": [
      "Iter 8 - Epoch 0 - Client Type: Benign - Client Number 2 - Poison Training False\n"
     ]
    },
    {
     "name": "stderr",
     "output_type": "stream",
     "text": [
      "100%|████████████████████████████████████████████████████████████████████████████████████| 2/2 [00:01<00:00,  1.36it/s]\n"
     ]
    },
    {
     "name": "stdout",
     "output_type": "stream",
     "text": [
      "Iter 8 - Epoch 0 - Client Type: Benign - Client Number 3 - Poison Training False\n"
     ]
    },
    {
     "name": "stderr",
     "output_type": "stream",
     "text": [
      "100%|████████████████████████████████████████████████████████████████████████████████████| 1/1 [00:00<00:00,  1.12it/s]\n"
     ]
    },
    {
     "name": "stdout",
     "output_type": "stream",
     "text": [
      "Iter 8 - Epoch 0 - Client Type: Benign - Client Number 4 - Poison Training False\n"
     ]
    },
    {
     "name": "stderr",
     "output_type": "stream",
     "text": [
      "100%|████████████████████████████████████████████████████████████████████████████████████| 1/1 [00:00<00:00,  1.17it/s]\n"
     ]
    },
    {
     "name": "stdout",
     "output_type": "stream",
     "text": [
      "Iter 8 - Epoch 0 - Client Type: Benign - Client Number 5 - Poison Training False\n"
     ]
    },
    {
     "name": "stderr",
     "output_type": "stream",
     "text": [
      "100%|████████████████████████████████████████████████████████████████████████████████████| 1/1 [00:00<00:00,  1.03it/s]\n"
     ]
    },
    {
     "name": "stdout",
     "output_type": "stream",
     "text": [
      "Iter 8 - Epoch 0 - Client Type: Benign - Client Number 6 - Poison Training False\n"
     ]
    },
    {
     "name": "stderr",
     "output_type": "stream",
     "text": [
      "100%|████████████████████████████████████████████████████████████████████████████████████| 1/1 [00:00<00:00,  1.10it/s]\n"
     ]
    },
    {
     "name": "stdout",
     "output_type": "stream",
     "text": [
      "Iter 8 - Epoch 0 - Client Type: Benign - Client Number 7 - Poison Training False\n"
     ]
    },
    {
     "name": "stderr",
     "output_type": "stream",
     "text": [
      "100%|████████████████████████████████████████████████████████████████████████████████████| 1/1 [00:00<00:00,  1.06it/s]\n"
     ]
    },
    {
     "name": "stdout",
     "output_type": "stream",
     "text": [
      "Iter 8 - Epoch 0 - Client Type: Benign - Client Number 8 - Poison Training False\n"
     ]
    },
    {
     "name": "stderr",
     "output_type": "stream",
     "text": [
      "100%|████████████████████████████████████████████████████████████████████████████████████| 2/2 [00:01<00:00,  1.81it/s]\n"
     ]
    },
    {
     "name": "stdout",
     "output_type": "stream",
     "text": [
      "Iter 8 - Epoch 0 - Client Type: Benign - Client Number 9 - Poison Training False\n"
     ]
    },
    {
     "name": "stderr",
     "output_type": "stream",
     "text": [
      "100%|████████████████████████████████████████████████████████████████████████████████████| 1/1 [00:00<00:00,  1.07it/s]\n"
     ]
    },
    {
     "name": "stdout",
     "output_type": "stream",
     "text": [
      "Iter 8 - Epoch 0 - Client Type: Benign - Client Number 10 - Poison Training False\n"
     ]
    },
    {
     "name": "stderr",
     "output_type": "stream",
     "text": [
      "100%|████████████████████████████████████████████████████████████████████████████████████| 2/2 [00:01<00:00,  1.76it/s]\n"
     ]
    },
    {
     "name": "stdout",
     "output_type": "stream",
     "text": [
      "Iter 8 - Epoch 0 - Client Type: Benign - Client Number 11 - Poison Training False\n"
     ]
    },
    {
     "name": "stderr",
     "output_type": "stream",
     "text": [
      "100%|████████████████████████████████████████████████████████████████████████████████████| 2/2 [00:01<00:00,  1.78it/s]\n"
     ]
    },
    {
     "name": "stdout",
     "output_type": "stream",
     "text": [
      "Iter 8 - Epoch 0 - Client Type: Benign - Client Number 12 - Poison Training False\n"
     ]
    },
    {
     "name": "stderr",
     "output_type": "stream",
     "text": [
      "100%|████████████████████████████████████████████████████████████████████████████████████| 1/1 [00:00<00:00,  1.59it/s]\n"
     ]
    },
    {
     "name": "stdout",
     "output_type": "stream",
     "text": [
      "Iter 8 - Epoch 0 - Client Type: Benign - Client Number 13 - Poison Training False\n"
     ]
    },
    {
     "name": "stderr",
     "output_type": "stream",
     "text": [
      "100%|████████████████████████████████████████████████████████████████████████████████████| 2/2 [00:01<00:00,  1.89it/s]\n"
     ]
    },
    {
     "name": "stdout",
     "output_type": "stream",
     "text": [
      "Iter 8 - Epoch 0 - Client Type: Benign - Client Number 14 - Poison Training False\n"
     ]
    },
    {
     "name": "stderr",
     "output_type": "stream",
     "text": [
      "100%|████████████████████████████████████████████████████████████████████████████████████| 2/2 [00:01<00:00,  1.75it/s]\n"
     ]
    },
    {
     "name": "stdout",
     "output_type": "stream",
     "text": [
      "Iter 8 - Epoch 0 - Client Type: Benign - Client Number 15 - Poison Training False\n"
     ]
    },
    {
     "name": "stderr",
     "output_type": "stream",
     "text": [
      "100%|████████████████████████████████████████████████████████████████████████████████████| 1/1 [00:00<00:00,  1.04it/s]\n"
     ]
    },
    {
     "name": "stdout",
     "output_type": "stream",
     "text": [
      "Iter 8 - Epoch 0 - Client Type: Benign - Client Number 16 - Poison Training False\n"
     ]
    },
    {
     "name": "stderr",
     "output_type": "stream",
     "text": [
      "100%|████████████████████████████████████████████████████████████████████████████████████| 1/1 [00:00<00:00,  1.13it/s]\n"
     ]
    },
    {
     "name": "stdout",
     "output_type": "stream",
     "text": [
      "Iter 8 - Epoch 0 - Client Type: Benign - Client Number 17 - Poison Training False\n"
     ]
    },
    {
     "name": "stderr",
     "output_type": "stream",
     "text": [
      "100%|████████████████████████████████████████████████████████████████████████████████████| 2/2 [00:01<00:00,  1.24it/s]\n"
     ]
    },
    {
     "name": "stdout",
     "output_type": "stream",
     "text": [
      "Iter 8 - Epoch 0 - Client Type: Benign - Client Number 18 - Poison Training False\n"
     ]
    },
    {
     "name": "stderr",
     "output_type": "stream",
     "text": [
      "100%|████████████████████████████████████████████████████████████████████████████████████| 1/1 [00:00<00:00,  1.00it/s]\n"
     ]
    },
    {
     "name": "stdout",
     "output_type": "stream",
     "text": [
      "Iter 8 - Epoch 0 - Client Type: Benign - Client Number 19 - Poison Training False\n"
     ]
    },
    {
     "name": "stderr",
     "output_type": "stream",
     "text": [
      "100%|████████████████████████████████████████████████████████████████████████████████████| 2/2 [00:01<00:00,  1.64it/s]\n"
     ]
    },
    {
     "name": "stdout",
     "output_type": "stream",
     "text": [
      "\n",
      "\n",
      " Entering epoch 2\n",
      "Iter 8 - Epoch 0 - Client Type: Benign - Client Number 0 - Poison Training False\n"
     ]
    },
    {
     "name": "stderr",
     "output_type": "stream",
     "text": [
      "100%|████████████████████████████████████████████████████████████████████████████████████| 1/1 [00:00<00:00,  1.01it/s]\n"
     ]
    },
    {
     "name": "stdout",
     "output_type": "stream",
     "text": [
      "Iter 8 - Epoch 0 - Client Type: Benign - Client Number 1 - Poison Training False\n"
     ]
    },
    {
     "name": "stderr",
     "output_type": "stream",
     "text": [
      "100%|████████████████████████████████████████████████████████████████████████████████████| 1/1 [00:00<00:00,  1.14it/s]\n"
     ]
    },
    {
     "name": "stdout",
     "output_type": "stream",
     "text": [
      "Iter 8 - Epoch 0 - Client Type: Benign - Client Number 2 - Poison Training False\n"
     ]
    },
    {
     "name": "stderr",
     "output_type": "stream",
     "text": [
      "100%|████████████████████████████████████████████████████████████████████████████████████| 2/2 [00:01<00:00,  1.46it/s]\n"
     ]
    },
    {
     "name": "stdout",
     "output_type": "stream",
     "text": [
      "Iter 8 - Epoch 0 - Client Type: Benign - Client Number 3 - Poison Training False\n"
     ]
    },
    {
     "name": "stderr",
     "output_type": "stream",
     "text": [
      "100%|████████████████████████████████████████████████████████████████████████████████████| 1/1 [00:00<00:00,  1.05it/s]\n"
     ]
    },
    {
     "name": "stdout",
     "output_type": "stream",
     "text": [
      "Iter 8 - Epoch 0 - Client Type: Benign - Client Number 4 - Poison Training False\n"
     ]
    },
    {
     "name": "stderr",
     "output_type": "stream",
     "text": [
      "100%|████████████████████████████████████████████████████████████████████████████████████| 1/1 [00:00<00:00,  1.17it/s]\n"
     ]
    },
    {
     "name": "stdout",
     "output_type": "stream",
     "text": [
      "Iter 8 - Epoch 0 - Client Type: Benign - Client Number 5 - Poison Training False\n"
     ]
    },
    {
     "name": "stderr",
     "output_type": "stream",
     "text": [
      "100%|████████████████████████████████████████████████████████████████████████████████████| 1/1 [00:01<00:00,  1.02s/it]\n"
     ]
    },
    {
     "name": "stdout",
     "output_type": "stream",
     "text": [
      "Iter 8 - Epoch 0 - Client Type: Benign - Client Number 6 - Poison Training False\n"
     ]
    },
    {
     "name": "stderr",
     "output_type": "stream",
     "text": [
      "100%|████████████████████████████████████████████████████████████████████████████████████| 1/1 [00:00<00:00,  1.08it/s]\n"
     ]
    },
    {
     "name": "stdout",
     "output_type": "stream",
     "text": [
      "Iter 8 - Epoch 0 - Client Type: Benign - Client Number 7 - Poison Training False\n"
     ]
    },
    {
     "name": "stderr",
     "output_type": "stream",
     "text": [
      "100%|████████████████████████████████████████████████████████████████████████████████████| 1/1 [00:01<00:00,  1.07s/it]\n"
     ]
    },
    {
     "name": "stdout",
     "output_type": "stream",
     "text": [
      "Iter 8 - Epoch 0 - Client Type: Benign - Client Number 8 - Poison Training False\n"
     ]
    },
    {
     "name": "stderr",
     "output_type": "stream",
     "text": [
      "100%|████████████████████████████████████████████████████████████████████████████████████| 2/2 [00:01<00:00,  1.88it/s]\n"
     ]
    },
    {
     "name": "stdout",
     "output_type": "stream",
     "text": [
      "Iter 8 - Epoch 0 - Client Type: Benign - Client Number 9 - Poison Training False\n"
     ]
    },
    {
     "name": "stderr",
     "output_type": "stream",
     "text": [
      "100%|████████████████████████████████████████████████████████████████████████████████████| 1/1 [00:00<00:00,  1.07it/s]\n"
     ]
    },
    {
     "name": "stdout",
     "output_type": "stream",
     "text": [
      "Iter 8 - Epoch 0 - Client Type: Benign - Client Number 10 - Poison Training False\n"
     ]
    },
    {
     "name": "stderr",
     "output_type": "stream",
     "text": [
      "100%|████████████████████████████████████████████████████████████████████████████████████| 2/2 [00:01<00:00,  1.79it/s]\n"
     ]
    },
    {
     "name": "stdout",
     "output_type": "stream",
     "text": [
      "Iter 8 - Epoch 0 - Client Type: Benign - Client Number 11 - Poison Training False\n"
     ]
    },
    {
     "name": "stderr",
     "output_type": "stream",
     "text": [
      "100%|████████████████████████████████████████████████████████████████████████████████████| 2/2 [00:01<00:00,  1.88it/s]\n"
     ]
    },
    {
     "name": "stdout",
     "output_type": "stream",
     "text": [
      "Iter 8 - Epoch 0 - Client Type: Benign - Client Number 12 - Poison Training False\n"
     ]
    },
    {
     "name": "stderr",
     "output_type": "stream",
     "text": [
      "100%|████████████████████████████████████████████████████████████████████████████████████| 1/1 [00:00<00:00,  1.59it/s]\n"
     ]
    },
    {
     "name": "stdout",
     "output_type": "stream",
     "text": [
      "Iter 8 - Epoch 0 - Client Type: Benign - Client Number 13 - Poison Training False\n"
     ]
    },
    {
     "name": "stderr",
     "output_type": "stream",
     "text": [
      "100%|████████████████████████████████████████████████████████████████████████████████████| 2/2 [00:01<00:00,  1.85it/s]\n"
     ]
    },
    {
     "name": "stdout",
     "output_type": "stream",
     "text": [
      "Iter 8 - Epoch 0 - Client Type: Benign - Client Number 14 - Poison Training False\n"
     ]
    },
    {
     "name": "stderr",
     "output_type": "stream",
     "text": [
      "100%|████████████████████████████████████████████████████████████████████████████████████| 2/2 [00:01<00:00,  1.83it/s]\n"
     ]
    },
    {
     "name": "stdout",
     "output_type": "stream",
     "text": [
      "Iter 8 - Epoch 0 - Client Type: Benign - Client Number 15 - Poison Training False\n"
     ]
    },
    {
     "name": "stderr",
     "output_type": "stream",
     "text": [
      "100%|████████████████████████████████████████████████████████████████████████████████████| 1/1 [00:00<00:00,  1.06it/s]\n"
     ]
    },
    {
     "name": "stdout",
     "output_type": "stream",
     "text": [
      "Iter 8 - Epoch 0 - Client Type: Benign - Client Number 16 - Poison Training False\n"
     ]
    },
    {
     "name": "stderr",
     "output_type": "stream",
     "text": [
      "100%|████████████████████████████████████████████████████████████████████████████████████| 1/1 [00:00<00:00,  1.06it/s]\n"
     ]
    },
    {
     "name": "stdout",
     "output_type": "stream",
     "text": [
      "Iter 8 - Epoch 0 - Client Type: Benign - Client Number 17 - Poison Training False\n"
     ]
    },
    {
     "name": "stderr",
     "output_type": "stream",
     "text": [
      "100%|████████████████████████████████████████████████████████████████████████████████████| 2/2 [00:01<00:00,  1.29it/s]\n"
     ]
    },
    {
     "name": "stdout",
     "output_type": "stream",
     "text": [
      "Iter 8 - Epoch 0 - Client Type: Benign - Client Number 18 - Poison Training False\n"
     ]
    },
    {
     "name": "stderr",
     "output_type": "stream",
     "text": [
      "100%|████████████████████████████████████████████████████████████████████████████████████| 1/1 [00:00<00:00,  1.05it/s]\n"
     ]
    },
    {
     "name": "stdout",
     "output_type": "stream",
     "text": [
      "Iter 8 - Epoch 0 - Client Type: Benign - Client Number 19 - Poison Training False\n"
     ]
    },
    {
     "name": "stderr",
     "output_type": "stream",
     "text": [
      "100%|████████████████████████████████████████████████████████████████████████████████████| 2/2 [00:01<00:00,  1.67it/s]\n"
     ]
    },
    {
     "name": "stdout",
     "output_type": "stream",
     "text": [
      "\n",
      "\n",
      " Entering epoch 3\n",
      "Iter 8 - Epoch 0 - Client Type: Benign - Client Number 0 - Poison Training False\n"
     ]
    },
    {
     "name": "stderr",
     "output_type": "stream",
     "text": [
      "100%|████████████████████████████████████████████████████████████████████████████████████| 1/1 [00:01<00:00,  1.02s/it]\n"
     ]
    },
    {
     "name": "stdout",
     "output_type": "stream",
     "text": [
      "Iter 8 - Epoch 0 - Client Type: Benign - Client Number 1 - Poison Training False\n"
     ]
    },
    {
     "name": "stderr",
     "output_type": "stream",
     "text": [
      "100%|████████████████████████████████████████████████████████████████████████████████████| 1/1 [00:00<00:00,  1.26it/s]\n"
     ]
    },
    {
     "name": "stdout",
     "output_type": "stream",
     "text": [
      "Iter 8 - Epoch 0 - Client Type: Benign - Client Number 2 - Poison Training False\n"
     ]
    },
    {
     "name": "stderr",
     "output_type": "stream",
     "text": [
      "100%|████████████████████████████████████████████████████████████████████████████████████| 2/2 [00:01<00:00,  1.35it/s]\n"
     ]
    },
    {
     "name": "stdout",
     "output_type": "stream",
     "text": [
      "Iter 8 - Epoch 0 - Client Type: Benign - Client Number 3 - Poison Training False\n"
     ]
    },
    {
     "name": "stderr",
     "output_type": "stream",
     "text": [
      "100%|████████████████████████████████████████████████████████████████████████████████████| 1/1 [00:00<00:00,  1.08it/s]\n"
     ]
    },
    {
     "name": "stdout",
     "output_type": "stream",
     "text": [
      "Iter 8 - Epoch 0 - Client Type: Benign - Client Number 4 - Poison Training False\n"
     ]
    },
    {
     "name": "stderr",
     "output_type": "stream",
     "text": [
      "100%|████████████████████████████████████████████████████████████████████████████████████| 1/1 [00:00<00:00,  1.14it/s]\n"
     ]
    },
    {
     "name": "stdout",
     "output_type": "stream",
     "text": [
      "Iter 8 - Epoch 0 - Client Type: Benign - Client Number 5 - Poison Training False\n"
     ]
    },
    {
     "name": "stderr",
     "output_type": "stream",
     "text": [
      "100%|████████████████████████████████████████████████████████████████████████████████████| 1/1 [00:00<00:00,  1.04it/s]\n"
     ]
    },
    {
     "name": "stdout",
     "output_type": "stream",
     "text": [
      "Iter 8 - Epoch 0 - Client Type: Benign - Client Number 6 - Poison Training False\n"
     ]
    },
    {
     "name": "stderr",
     "output_type": "stream",
     "text": [
      "100%|████████████████████████████████████████████████████████████████████████████████████| 1/1 [00:00<00:00,  1.03it/s]\n"
     ]
    },
    {
     "name": "stdout",
     "output_type": "stream",
     "text": [
      "Iter 8 - Epoch 0 - Client Type: Benign - Client Number 7 - Poison Training False\n"
     ]
    },
    {
     "name": "stderr",
     "output_type": "stream",
     "text": [
      "100%|████████████████████████████████████████████████████████████████████████████████████| 1/1 [00:00<00:00,  1.08it/s]\n"
     ]
    },
    {
     "name": "stdout",
     "output_type": "stream",
     "text": [
      "Iter 8 - Epoch 0 - Client Type: Benign - Client Number 8 - Poison Training False\n"
     ]
    },
    {
     "name": "stderr",
     "output_type": "stream",
     "text": [
      "100%|████████████████████████████████████████████████████████████████████████████████████| 2/2 [00:01<00:00,  1.87it/s]\n"
     ]
    },
    {
     "name": "stdout",
     "output_type": "stream",
     "text": [
      "Iter 8 - Epoch 0 - Client Type: Benign - Client Number 9 - Poison Training False\n"
     ]
    },
    {
     "name": "stderr",
     "output_type": "stream",
     "text": [
      "100%|████████████████████████████████████████████████████████████████████████████████████| 1/1 [00:00<00:00,  1.04it/s]\n"
     ]
    },
    {
     "name": "stdout",
     "output_type": "stream",
     "text": [
      "Iter 8 - Epoch 0 - Client Type: Benign - Client Number 10 - Poison Training False\n"
     ]
    },
    {
     "name": "stderr",
     "output_type": "stream",
     "text": [
      "100%|████████████████████████████████████████████████████████████████████████████████████| 2/2 [00:01<00:00,  1.82it/s]\n"
     ]
    },
    {
     "name": "stdout",
     "output_type": "stream",
     "text": [
      "Iter 8 - Epoch 0 - Client Type: Benign - Client Number 11 - Poison Training False\n"
     ]
    },
    {
     "name": "stderr",
     "output_type": "stream",
     "text": [
      "100%|████████████████████████████████████████████████████████████████████████████████████| 2/2 [00:01<00:00,  1.78it/s]\n"
     ]
    },
    {
     "name": "stdout",
     "output_type": "stream",
     "text": [
      "Iter 8 - Epoch 0 - Client Type: Benign - Client Number 12 - Poison Training False\n"
     ]
    },
    {
     "name": "stderr",
     "output_type": "stream",
     "text": [
      "100%|████████████████████████████████████████████████████████████████████████████████████| 1/1 [00:00<00:00,  1.67it/s]\n"
     ]
    },
    {
     "name": "stdout",
     "output_type": "stream",
     "text": [
      "Iter 8 - Epoch 0 - Client Type: Benign - Client Number 13 - Poison Training False\n"
     ]
    },
    {
     "name": "stderr",
     "output_type": "stream",
     "text": [
      "100%|████████████████████████████████████████████████████████████████████████████████████| 2/2 [00:01<00:00,  1.74it/s]\n"
     ]
    },
    {
     "name": "stdout",
     "output_type": "stream",
     "text": [
      "Iter 8 - Epoch 0 - Client Type: Benign - Client Number 14 - Poison Training False\n"
     ]
    },
    {
     "name": "stderr",
     "output_type": "stream",
     "text": [
      "100%|████████████████████████████████████████████████████████████████████████████████████| 2/2 [00:01<00:00,  1.84it/s]\n"
     ]
    },
    {
     "name": "stdout",
     "output_type": "stream",
     "text": [
      "Iter 8 - Epoch 0 - Client Type: Benign - Client Number 15 - Poison Training False\n"
     ]
    },
    {
     "name": "stderr",
     "output_type": "stream",
     "text": [
      "100%|████████████████████████████████████████████████████████████████████████████████████| 1/1 [00:01<00:00,  1.01s/it]\n"
     ]
    },
    {
     "name": "stdout",
     "output_type": "stream",
     "text": [
      "Iter 8 - Epoch 0 - Client Type: Benign - Client Number 16 - Poison Training False\n"
     ]
    },
    {
     "name": "stderr",
     "output_type": "stream",
     "text": [
      "100%|████████████████████████████████████████████████████████████████████████████████████| 1/1 [00:00<00:00,  1.07it/s]\n"
     ]
    },
    {
     "name": "stdout",
     "output_type": "stream",
     "text": [
      "Iter 8 - Epoch 0 - Client Type: Benign - Client Number 17 - Poison Training False\n"
     ]
    },
    {
     "name": "stderr",
     "output_type": "stream",
     "text": [
      "100%|████████████████████████████████████████████████████████████████████████████████████| 2/2 [00:01<00:00,  1.35it/s]\n"
     ]
    },
    {
     "name": "stdout",
     "output_type": "stream",
     "text": [
      "Iter 8 - Epoch 0 - Client Type: Benign - Client Number 18 - Poison Training False\n"
     ]
    },
    {
     "name": "stderr",
     "output_type": "stream",
     "text": [
      "100%|████████████████████████████████████████████████████████████████████████████████████| 1/1 [00:00<00:00,  1.03it/s]\n"
     ]
    },
    {
     "name": "stdout",
     "output_type": "stream",
     "text": [
      "Iter 8 - Epoch 0 - Client Type: Benign - Client Number 19 - Poison Training False\n"
     ]
    },
    {
     "name": "stderr",
     "output_type": "stream",
     "text": [
      "100%|████████████████████████████████████████████████████████████████████████████████████| 2/2 [00:01<00:00,  1.64it/s]\n"
     ]
    },
    {
     "name": "stdout",
     "output_type": "stream",
     "text": [
      "\n",
      "\n",
      " Entering epoch 4\n",
      "Iter 8 - Epoch 0 - Client Type: Benign - Client Number 0 - Poison Training False\n"
     ]
    },
    {
     "name": "stderr",
     "output_type": "stream",
     "text": [
      "100%|████████████████████████████████████████████████████████████████████████████████████| 1/1 [00:01<00:00,  1.01s/it]\n"
     ]
    },
    {
     "name": "stdout",
     "output_type": "stream",
     "text": [
      "Iter 8 - Epoch 0 - Client Type: Benign - Client Number 1 - Poison Training False\n"
     ]
    },
    {
     "name": "stderr",
     "output_type": "stream",
     "text": [
      "100%|████████████████████████████████████████████████████████████████████████████████████| 1/1 [00:00<00:00,  1.28it/s]\n"
     ]
    },
    {
     "name": "stdout",
     "output_type": "stream",
     "text": [
      "Iter 8 - Epoch 0 - Client Type: Benign - Client Number 2 - Poison Training False\n"
     ]
    },
    {
     "name": "stderr",
     "output_type": "stream",
     "text": [
      "100%|████████████████████████████████████████████████████████████████████████████████████| 2/2 [00:01<00:00,  1.44it/s]\n"
     ]
    },
    {
     "name": "stdout",
     "output_type": "stream",
     "text": [
      "Iter 8 - Epoch 0 - Client Type: Benign - Client Number 3 - Poison Training False\n"
     ]
    },
    {
     "name": "stderr",
     "output_type": "stream",
     "text": [
      "100%|████████████████████████████████████████████████████████████████████████████████████| 1/1 [00:00<00:00,  1.14it/s]\n"
     ]
    },
    {
     "name": "stdout",
     "output_type": "stream",
     "text": [
      "Iter 8 - Epoch 0 - Client Type: Benign - Client Number 4 - Poison Training False\n"
     ]
    },
    {
     "name": "stderr",
     "output_type": "stream",
     "text": [
      "100%|████████████████████████████████████████████████████████████████████████████████████| 1/1 [00:00<00:00,  1.23it/s]\n"
     ]
    },
    {
     "name": "stdout",
     "output_type": "stream",
     "text": [
      "Iter 8 - Epoch 0 - Client Type: Benign - Client Number 5 - Poison Training False\n"
     ]
    },
    {
     "name": "stderr",
     "output_type": "stream",
     "text": [
      "100%|████████████████████████████████████████████████████████████████████████████████████| 1/1 [00:00<00:00,  1.05it/s]\n"
     ]
    },
    {
     "name": "stdout",
     "output_type": "stream",
     "text": [
      "Iter 8 - Epoch 0 - Client Type: Benign - Client Number 6 - Poison Training False\n"
     ]
    },
    {
     "name": "stderr",
     "output_type": "stream",
     "text": [
      "100%|████████████████████████████████████████████████████████████████████████████████████| 1/1 [00:00<00:00,  1.06it/s]\n"
     ]
    },
    {
     "name": "stdout",
     "output_type": "stream",
     "text": [
      "Iter 8 - Epoch 0 - Client Type: Benign - Client Number 7 - Poison Training False\n"
     ]
    },
    {
     "name": "stderr",
     "output_type": "stream",
     "text": [
      "100%|████████████████████████████████████████████████████████████████████████████████████| 1/1 [00:00<00:00,  1.06it/s]\n"
     ]
    },
    {
     "name": "stdout",
     "output_type": "stream",
     "text": [
      "Iter 8 - Epoch 0 - Client Type: Benign - Client Number 8 - Poison Training False\n"
     ]
    },
    {
     "name": "stderr",
     "output_type": "stream",
     "text": [
      "100%|████████████████████████████████████████████████████████████████████████████████████| 2/2 [00:01<00:00,  1.85it/s]\n"
     ]
    },
    {
     "name": "stdout",
     "output_type": "stream",
     "text": [
      "Iter 8 - Epoch 0 - Client Type: Benign - Client Number 9 - Poison Training False\n"
     ]
    },
    {
     "name": "stderr",
     "output_type": "stream",
     "text": [
      "100%|████████████████████████████████████████████████████████████████████████████████████| 1/1 [00:00<00:00,  1.01it/s]\n"
     ]
    },
    {
     "name": "stdout",
     "output_type": "stream",
     "text": [
      "Iter 8 - Epoch 0 - Client Type: Benign - Client Number 10 - Poison Training False\n"
     ]
    },
    {
     "name": "stderr",
     "output_type": "stream",
     "text": [
      "100%|████████████████████████████████████████████████████████████████████████████████████| 2/2 [00:01<00:00,  1.89it/s]\n"
     ]
    },
    {
     "name": "stdout",
     "output_type": "stream",
     "text": [
      "Iter 8 - Epoch 0 - Client Type: Benign - Client Number 11 - Poison Training False\n"
     ]
    },
    {
     "name": "stderr",
     "output_type": "stream",
     "text": [
      "100%|████████████████████████████████████████████████████████████████████████████████████| 2/2 [00:01<00:00,  1.81it/s]\n"
     ]
    },
    {
     "name": "stdout",
     "output_type": "stream",
     "text": [
      "Iter 8 - Epoch 0 - Client Type: Benign - Client Number 12 - Poison Training False\n"
     ]
    },
    {
     "name": "stderr",
     "output_type": "stream",
     "text": [
      "100%|████████████████████████████████████████████████████████████████████████████████████| 1/1 [00:00<00:00,  1.68it/s]\n"
     ]
    },
    {
     "name": "stdout",
     "output_type": "stream",
     "text": [
      "Iter 8 - Epoch 0 - Client Type: Benign - Client Number 13 - Poison Training False\n"
     ]
    },
    {
     "name": "stderr",
     "output_type": "stream",
     "text": [
      "100%|████████████████████████████████████████████████████████████████████████████████████| 2/2 [00:01<00:00,  1.85it/s]\n"
     ]
    },
    {
     "name": "stdout",
     "output_type": "stream",
     "text": [
      "Iter 8 - Epoch 0 - Client Type: Benign - Client Number 14 - Poison Training False\n"
     ]
    },
    {
     "name": "stderr",
     "output_type": "stream",
     "text": [
      "100%|████████████████████████████████████████████████████████████████████████████████████| 2/2 [00:01<00:00,  1.94it/s]\n"
     ]
    },
    {
     "name": "stdout",
     "output_type": "stream",
     "text": [
      "Iter 8 - Epoch 0 - Client Type: Benign - Client Number 15 - Poison Training False\n"
     ]
    },
    {
     "name": "stderr",
     "output_type": "stream",
     "text": [
      "100%|████████████████████████████████████████████████████████████████████████████████████| 1/1 [00:00<00:00,  1.02it/s]\n"
     ]
    },
    {
     "name": "stdout",
     "output_type": "stream",
     "text": [
      "Iter 8 - Epoch 0 - Client Type: Benign - Client Number 16 - Poison Training False\n"
     ]
    },
    {
     "name": "stderr",
     "output_type": "stream",
     "text": [
      "100%|████████████████████████████████████████████████████████████████████████████████████| 1/1 [00:01<00:00,  1.06s/it]\n"
     ]
    },
    {
     "name": "stdout",
     "output_type": "stream",
     "text": [
      "Iter 8 - Epoch 0 - Client Type: Benign - Client Number 17 - Poison Training False\n"
     ]
    },
    {
     "name": "stderr",
     "output_type": "stream",
     "text": [
      "100%|████████████████████████████████████████████████████████████████████████████████████| 2/2 [00:01<00:00,  1.27it/s]\n"
     ]
    },
    {
     "name": "stdout",
     "output_type": "stream",
     "text": [
      "Iter 8 - Epoch 0 - Client Type: Benign - Client Number 18 - Poison Training False\n"
     ]
    },
    {
     "name": "stderr",
     "output_type": "stream",
     "text": [
      "100%|████████████████████████████████████████████████████████████████████████████████████| 1/1 [00:00<00:00,  1.03it/s]\n"
     ]
    },
    {
     "name": "stdout",
     "output_type": "stream",
     "text": [
      "Iter 8 - Epoch 0 - Client Type: Benign - Client Number 19 - Poison Training False\n"
     ]
    },
    {
     "name": "stderr",
     "output_type": "stream",
     "text": [
      "100%|████████████████████████████████████████████████████████████████████████████████████| 2/2 [00:01<00:00,  1.71it/s]\n"
     ]
    },
    {
     "name": "stdout",
     "output_type": "stream",
     "text": [
      "Original Copylist [7, 2, 5, 3, 2, 7, 3, 7, 0, 7, 0, 0, 4, 0, 0, 7, 3, 1, 7, 6]\n",
      "Found clusters [0 3 0 1 3 0 1 0 7 0 2 2 5 2 2 0 1 4 0 6]\n",
      "Original groups [array([ 8, 10, 11, 13, 14], dtype=int64), array([17], dtype=int64), array([1, 4], dtype=int64), array([ 3,  6, 16], dtype=int64), array([12], dtype=int64), array([2], dtype=int64), array([19], dtype=int64), array([ 0,  5,  7,  9, 15, 18], dtype=int64)]\n",
      "Clustered groups [array([ 0,  2,  5,  7,  9, 15, 18], dtype=int64), array([ 3,  6, 16], dtype=int64), array([10, 11, 13, 14], dtype=int64), array([1, 4], dtype=int64), array([17], dtype=int64), array([12], dtype=int64), array([19], dtype=int64), array([8], dtype=int64)]\n",
      "Clustering score 0.8021245573838783\n",
      "9\n",
      "[[ 1.00000415 -0.17757691  0.6885753   0.10158102 -0.17729225  0.89744738\n",
      "   0.11996515  0.93887037  0.20011106  0.88513576  0.00526288  0.17825624\n",
      "   0.49766914  0.20838151  0.13818941  0.92716421  0.10996605  0.14216003\n",
      "   0.89849446  0.24579937]\n",
      " [-0.17757691  1.00000603  0.01131509  0.37543227  0.98272583 -0.11701471\n",
      "   0.31310401 -0.17731863  0.23265736 -0.12863446  0.30680495  0.27821832\n",
      "   0.14300153  0.22989057  0.21123496 -0.14737439  0.38233871  0.20187874\n",
      "  -0.13065644  0.25866155]\n",
      " [ 0.68857533  0.01131509  1.00000325  0.25399595  0.01222171  0.61776084\n",
      "   0.27065074  0.65134758  0.32885921  0.62370594  0.23574169  0.34831117\n",
      "   0.25251026  0.35381489  0.34175256  0.62423081  0.26266592  0.44583152\n",
      "   0.61913373  0.32479032]\n",
      " [ 0.10158103  0.37543226  0.25399596  1.00000427  0.38688633  0.10776604\n",
      "   0.95856006  0.10592092  0.32858547  0.11877233  0.30514492  0.30459657\n",
      "   0.02721779  0.27839659  0.36125682  0.10453321  0.93764218  0.2052928\n",
      "   0.09522735  0.34669089]\n",
      " [-0.17729226  0.98272582  0.01222171  0.38688632  1.00000756 -0.11060836\n",
      "   0.32019469 -0.17566353  0.22598    -0.12591753  0.30126958  0.26972656\n",
      "   0.1170899   0.21943249  0.2032178  -0.14285698  0.39324457  0.21055994\n",
      "  -0.12970354  0.25598779]\n",
      " [ 0.8974474  -0.1170147   0.61776084  0.10776603 -0.11060835  1.00000544\n",
      "   0.11221523  0.93496772  0.16090961  0.9504638  -0.02288083  0.1369202\n",
      "   0.5085484   0.15183248  0.08024858  0.940455    0.12192282  0.12107443\n",
      "   0.94672014  0.31673009]\n",
      " [ 0.11996516  0.31310401  0.27065074  0.95856006  0.3201947   0.11221522\n",
      "   1.00000601  0.12577042  0.3369381   0.13536341  0.28470618  0.35011636\n",
      "   0.0432648   0.30627856  0.39009044  0.11757101  0.95094739  0.18950935\n",
      "   0.12291022  0.36007913]\n",
      " [ 0.93887038 -0.17731863  0.65134758  0.10592092 -0.17566353  0.93496773\n",
      "   0.12577042  1.00000305  0.18762677  0.94176822 -0.0099773   0.16244181\n",
      "   0.50177881  0.1892413   0.11995718  0.94732207  0.11536638  0.10925694\n",
      "   0.94218065  0.28237078]\n",
      " [ 0.20011106  0.23265735  0.32885921  0.32858547  0.22598     0.16090961\n",
      "   0.3369381   0.18762678  1.00000335  0.16493922  0.68941006  0.59629095\n",
      "   0.2628389   0.75973932  0.71222508  0.16096955  0.33138535  0.24389076\n",
      "   0.18208271  0.33540954]\n",
      " [ 0.88513576 -0.12863445  0.62370591  0.11877233 -0.12591753  0.95046378\n",
      "   0.13536342  0.94176822  0.16493922  1.00000532 -0.02404293  0.13572911\n",
      "   0.47795357  0.16277531  0.09137006  0.94236029  0.13409933  0.11465899\n",
      "   0.94771652  0.34903004]\n",
      " [ 0.00526288  0.30680496  0.23574168  0.30514493  0.30126958 -0.02288083\n",
      "   0.28470617 -0.0099773   0.68941008 -0.02404294  1.00000522  0.66332994\n",
      "   0.1881706   0.74862452  0.72067504 -0.03271075  0.27820714  0.27406447\n",
      "  -0.02208611  0.23129631]\n",
      " [ 0.17825624  0.27821831  0.34831118  0.30459658  0.26972656  0.1369202\n",
      "   0.35011634  0.16244181  0.59629094  0.13572911  0.66332992  1.00000508\n",
      "   0.31514661  0.68665742  0.71824278  0.13245161  0.3754954   0.28548366\n",
      "   0.15957298  0.30859344]\n",
      " [ 0.49766917  0.14300153  0.25251026  0.02721779  0.11708991  0.50854838\n",
      "   0.04326481  0.50177881  0.2628389   0.47795357  0.1881706   0.31514661\n",
      "   1.00000283  0.28960831  0.2118865   0.51015373  0.0547156   0.17164842\n",
      "   0.51192167  0.1529655 ]\n",
      " [ 0.20838151  0.22989057  0.35381489  0.27839659  0.21943249  0.15183247\n",
      "   0.30627855  0.1892413   0.7597393   0.16277531  0.74862452  0.68665743\n",
      "   0.28960831  1.00000309  0.74778173  0.15475226  0.31958735  0.2951033\n",
      "   0.17527669  0.29979823]\n",
      " [ 0.1381894   0.21123496  0.34175255  0.36125682  0.2032178   0.08024858\n",
      "   0.39009045  0.11995717  0.71222509  0.09137005  0.72067508  0.71824278\n",
      "   0.2118865   0.74778175  1.00000532  0.07135464  0.3890208   0.28093981\n",
      "   0.08821808  0.31591388]\n",
      " [ 0.92716421 -0.14737439  0.6242308   0.10453321 -0.14285697  0.940455\n",
      "   0.117571    0.94732207  0.16096955  0.94236027 -0.03271075  0.13245161\n",
      "   0.51015373  0.15475225  0.07135465  1.00000556  0.11425399  0.13209735\n",
      "   0.94784068  0.290544  ]\n",
      " [ 0.10996605  0.38233871  0.26266593  0.93764219  0.39324456  0.12192282\n",
      "   0.9509474   0.11536639  0.33138535  0.13409933  0.27820714  0.3754954\n",
      "   0.0547156   0.31958736  0.3890208   0.11425399  1.00000651  0.20672952\n",
      "   0.11560659  0.33334009]\n",
      " [ 0.14216003  0.20187874  0.44583153  0.20529279  0.21055994  0.12107443\n",
      "   0.18950934  0.10925694  0.24389075  0.114659    0.27406449  0.28548366\n",
      "   0.17164842  0.2951033   0.2809398   0.13209735  0.20672952  1.0000072\n",
      "   0.12159022  0.05922171]\n",
      " [ 0.89849445 -0.13065644  0.61913373  0.09522736 -0.12970354  0.94672011\n",
      "   0.12291022  0.94218067  0.1820827   0.94771653 -0.02208611  0.15957298\n",
      "   0.51192166  0.17527669  0.08821808  0.94784067  0.11560659  0.12159021\n",
      "   1.00000796  0.34465801]\n",
      " [ 0.24579938  0.25866155  0.32479033  0.3466909   0.25598778  0.31673011\n",
      "   0.36007913  0.28237078  0.33540954  0.34903004  0.2312963   0.30859344\n",
      "   0.1529655   0.29979823  0.31591388  0.29054401  0.3333401   0.05922171\n",
      "   0.34465799  1.00000312]]\n",
      "Original Copylist [7, 2, 5, 3, 2, 7, 3, 7, 0, 7, 0, 0, 4, 0, 0, 7, 3, 1, 7, 6]\n",
      "Found clusters [0 5 0 1 5 0 1 0 2 0 2 7 4 2 2 0 1 3 0 6]\n",
      "Original groups [array([ 8, 10, 11, 13, 14], dtype=int64), array([17], dtype=int64), array([1, 4], dtype=int64), array([ 3,  6, 16], dtype=int64), array([12], dtype=int64), array([2], dtype=int64), array([19], dtype=int64), array([ 0,  5,  7,  9, 15, 18], dtype=int64)]\n",
      "Clustered groups [array([ 0,  2,  5,  7,  9, 15, 18], dtype=int64), array([ 3,  6, 16], dtype=int64), array([ 8, 10, 13, 14], dtype=int64), array([17], dtype=int64), array([12], dtype=int64), array([1, 4], dtype=int64), array([19], dtype=int64), array([11], dtype=int64)]\n",
      "Clustering score 0.8021245573838783\n",
      "Benign net distance [tensor(35.0561), tensor(46.5911), tensor(34.8092), tensor(30.6510), tensor(46.4003), tensor(33.2557), tensor(29.9021), tensor(33.9169), tensor(51.0819), tensor(32.6538), tensor(40.3635), tensor(38.2109), tensor(37.6392), tensor(41.7917), tensor(41.8564), tensor(33.7140), tensor(33.8812), tensor(77.5732), tensor(32.8139), tensor(0.)]\n",
      "Malicious net distance []\n",
      "cos_sim list  [tensor(0.2482), tensor(0.0663), tensor(0.3385), tensor(0.4875), tensor(0.0740), tensor(0.3270), tensor(0.5253), tensor(0.2785), tensor(0.0337), tensor(0.3513), tensor(0.0826), tensor(0.1720), tensor(0.0146), tensor(0.0948), tensor(0.1047), tensor(0.3066), tensor(0.3724), tensor(-0.0146), tensor(0.3540), tensor(1.0000)]\n",
      "Norms of local gradients  [tensor(0.2178), tensor(0.4224), tensor(0.3534), tensor(0.2527), tensor(0.4122), tensor(0.2091), tensor(0.2545), tensor(0.2119), tensor(0.4831), tensor(0.2054), tensor(0.3599), tensor(0.3599), tensor(0.2769), tensor(0.3693), tensor(0.3791), tensor(0.2144), tensor(0.2537), tensor(0.7625), tensor(0.2056), tensor(0.3794)]\n",
      "\n",
      " Aggregating models\n",
      "Cosine Similarities:  [tensor(0.2482), tensor(0.0663), tensor(0.3385), tensor(0.4875), tensor(0.0740), tensor(0.3270), tensor(0.5253), tensor(0.2785), tensor(0.0337), tensor(0.3513), tensor(0.0826), tensor(0.1720), tensor(0.0146), tensor(0.0948), tensor(0.1047), tensor(0.3066), tensor(0.3724), tensor(-0.0146), tensor(0.3540), tensor(1.0000)]\n",
      "Aggregation Weights:  [0.08264446 0.01138655 0.06947279 0.13992164 0.01302745 0.11342763\n",
      " 0.14969613 0.09532417 0.00505679 0.12404422 0.01663986 0.03465806\n",
      " 0.0038302  0.01861233 0.02002335 0.10370082 0.10643449 0.\n",
      " 0.12486579 0.19112718]\n",
      "\n",
      "\n",
      "\n",
      "Aggregate test at iter  8\n"
     ]
    },
    {
     "name": "stderr",
     "output_type": "stream",
     "text": [
      "100%|██████████████████████████████████████████████████████████████████████████████████| 10/10 [00:02<00:00,  4.75it/s]\n"
     ]
    },
    {
     "name": "stdout",
     "output_type": "stream",
     "text": [
      "\n",
      "Test set: Avg. loss: 0.0008, Accuracy: 6920/10000 (69%)\n",
      "\n",
      "\n",
      "\n",
      " Entering epoch 0\n",
      "Iter 9 - Epoch 0 - Client Type: Benign - Client Number 0 - Poison Training False\n"
     ]
    },
    {
     "name": "stderr",
     "output_type": "stream",
     "text": [
      "100%|████████████████████████████████████████████████████████████████████████████████████| 1/1 [00:00<00:00,  1.01it/s]\n"
     ]
    },
    {
     "name": "stdout",
     "output_type": "stream",
     "text": [
      "Iter 9 - Epoch 0 - Client Type: Benign - Client Number 1 - Poison Training False\n"
     ]
    },
    {
     "name": "stderr",
     "output_type": "stream",
     "text": [
      "100%|████████████████████████████████████████████████████████████████████████████████████| 1/1 [00:00<00:00,  1.18it/s]\n"
     ]
    },
    {
     "name": "stdout",
     "output_type": "stream",
     "text": [
      "Iter 9 - Epoch 0 - Client Type: Benign - Client Number 2 - Poison Training False\n"
     ]
    },
    {
     "name": "stderr",
     "output_type": "stream",
     "text": [
      "100%|████████████████████████████████████████████████████████████████████████████████████| 2/2 [00:01<00:00,  1.41it/s]\n"
     ]
    },
    {
     "name": "stdout",
     "output_type": "stream",
     "text": [
      "Iter 9 - Epoch 0 - Client Type: Benign - Client Number 3 - Poison Training False\n"
     ]
    },
    {
     "name": "stderr",
     "output_type": "stream",
     "text": [
      "100%|████████████████████████████████████████████████████████████████████████████████████| 1/1 [00:00<00:00,  1.10it/s]\n"
     ]
    },
    {
     "name": "stdout",
     "output_type": "stream",
     "text": [
      "Iter 9 - Epoch 0 - Client Type: Benign - Client Number 4 - Poison Training False\n"
     ]
    },
    {
     "name": "stderr",
     "output_type": "stream",
     "text": [
      "100%|████████████████████████████████████████████████████████████████████████████████████| 1/1 [00:00<00:00,  1.12it/s]\n"
     ]
    },
    {
     "name": "stdout",
     "output_type": "stream",
     "text": [
      "Iter 9 - Epoch 0 - Client Type: Benign - Client Number 5 - Poison Training False\n"
     ]
    },
    {
     "name": "stderr",
     "output_type": "stream",
     "text": [
      "100%|████████████████████████████████████████████████████████████████████████████████████| 1/1 [00:00<00:00,  1.06it/s]\n"
     ]
    },
    {
     "name": "stdout",
     "output_type": "stream",
     "text": [
      "Iter 9 - Epoch 0 - Client Type: Benign - Client Number 6 - Poison Training False\n"
     ]
    },
    {
     "name": "stderr",
     "output_type": "stream",
     "text": [
      "100%|████████████████████████████████████████████████████████████████████████████████████| 1/1 [00:00<00:00,  1.10it/s]\n"
     ]
    },
    {
     "name": "stdout",
     "output_type": "stream",
     "text": [
      "Iter 9 - Epoch 0 - Client Type: Benign - Client Number 7 - Poison Training False\n"
     ]
    },
    {
     "name": "stderr",
     "output_type": "stream",
     "text": [
      "100%|████████████████████████████████████████████████████████████████████████████████████| 1/1 [00:00<00:00,  1.05it/s]\n"
     ]
    },
    {
     "name": "stdout",
     "output_type": "stream",
     "text": [
      "Iter 9 - Epoch 0 - Client Type: Benign - Client Number 8 - Poison Training False\n"
     ]
    },
    {
     "name": "stderr",
     "output_type": "stream",
     "text": [
      "100%|████████████████████████████████████████████████████████████████████████████████████| 2/2 [00:01<00:00,  1.86it/s]\n"
     ]
    },
    {
     "name": "stdout",
     "output_type": "stream",
     "text": [
      "Iter 9 - Epoch 0 - Client Type: Benign - Client Number 9 - Poison Training False\n"
     ]
    },
    {
     "name": "stderr",
     "output_type": "stream",
     "text": [
      "100%|████████████████████████████████████████████████████████████████████████████████████| 1/1 [00:01<00:00,  1.02s/it]\n"
     ]
    },
    {
     "name": "stdout",
     "output_type": "stream",
     "text": [
      "Iter 9 - Epoch 0 - Client Type: Benign - Client Number 10 - Poison Training False\n"
     ]
    },
    {
     "name": "stderr",
     "output_type": "stream",
     "text": [
      "100%|████████████████████████████████████████████████████████████████████████████████████| 2/2 [00:01<00:00,  1.72it/s]\n"
     ]
    },
    {
     "name": "stdout",
     "output_type": "stream",
     "text": [
      "Iter 9 - Epoch 0 - Client Type: Benign - Client Number 11 - Poison Training False\n"
     ]
    },
    {
     "name": "stderr",
     "output_type": "stream",
     "text": [
      "100%|████████████████████████████████████████████████████████████████████████████████████| 2/2 [00:01<00:00,  1.83it/s]\n"
     ]
    },
    {
     "name": "stdout",
     "output_type": "stream",
     "text": [
      "Iter 9 - Epoch 0 - Client Type: Benign - Client Number 12 - Poison Training False\n"
     ]
    },
    {
     "name": "stderr",
     "output_type": "stream",
     "text": [
      "100%|████████████████████████████████████████████████████████████████████████████████████| 1/1 [00:00<00:00,  1.56it/s]\n"
     ]
    },
    {
     "name": "stdout",
     "output_type": "stream",
     "text": [
      "Iter 9 - Epoch 0 - Client Type: Benign - Client Number 13 - Poison Training False\n"
     ]
    },
    {
     "name": "stderr",
     "output_type": "stream",
     "text": [
      "100%|████████████████████████████████████████████████████████████████████████████████████| 2/2 [00:01<00:00,  1.74it/s]\n"
     ]
    },
    {
     "name": "stdout",
     "output_type": "stream",
     "text": [
      "Iter 9 - Epoch 0 - Client Type: Benign - Client Number 14 - Poison Training False\n"
     ]
    },
    {
     "name": "stderr",
     "output_type": "stream",
     "text": [
      "100%|████████████████████████████████████████████████████████████████████████████████████| 2/2 [00:01<00:00,  1.81it/s]\n"
     ]
    },
    {
     "name": "stdout",
     "output_type": "stream",
     "text": [
      "Iter 9 - Epoch 0 - Client Type: Benign - Client Number 15 - Poison Training False\n"
     ]
    },
    {
     "name": "stderr",
     "output_type": "stream",
     "text": [
      "100%|████████████████████████████████████████████████████████████████████████████████████| 1/1 [00:00<00:00,  1.03it/s]\n"
     ]
    },
    {
     "name": "stdout",
     "output_type": "stream",
     "text": [
      "Iter 9 - Epoch 0 - Client Type: Benign - Client Number 16 - Poison Training False\n"
     ]
    },
    {
     "name": "stderr",
     "output_type": "stream",
     "text": [
      "100%|████████████████████████████████████████████████████████████████████████████████████| 1/1 [00:00<00:00,  1.08it/s]\n"
     ]
    },
    {
     "name": "stdout",
     "output_type": "stream",
     "text": [
      "Iter 9 - Epoch 0 - Client Type: Benign - Client Number 17 - Poison Training False\n"
     ]
    },
    {
     "name": "stderr",
     "output_type": "stream",
     "text": [
      "100%|████████████████████████████████████████████████████████████████████████████████████| 2/2 [00:01<00:00,  1.31it/s]\n"
     ]
    },
    {
     "name": "stdout",
     "output_type": "stream",
     "text": [
      "Iter 9 - Epoch 0 - Client Type: Benign - Client Number 18 - Poison Training False\n"
     ]
    },
    {
     "name": "stderr",
     "output_type": "stream",
     "text": [
      "100%|████████████████████████████████████████████████████████████████████████████████████| 1/1 [00:00<00:00,  1.00it/s]\n"
     ]
    },
    {
     "name": "stdout",
     "output_type": "stream",
     "text": [
      "Iter 9 - Epoch 0 - Client Type: Benign - Client Number 19 - Poison Training False\n"
     ]
    },
    {
     "name": "stderr",
     "output_type": "stream",
     "text": [
      "100%|████████████████████████████████████████████████████████████████████████████████████| 2/2 [00:01<00:00,  1.65it/s]\n"
     ]
    },
    {
     "name": "stdout",
     "output_type": "stream",
     "text": [
      "\n",
      "\n",
      " Entering epoch 1\n",
      "Iter 9 - Epoch 0 - Client Type: Benign - Client Number 0 - Poison Training False\n"
     ]
    },
    {
     "name": "stderr",
     "output_type": "stream",
     "text": [
      "100%|████████████████████████████████████████████████████████████████████████████████████| 1/1 [00:00<00:00,  1.06it/s]\n"
     ]
    },
    {
     "name": "stdout",
     "output_type": "stream",
     "text": [
      "Iter 9 - Epoch 0 - Client Type: Benign - Client Number 1 - Poison Training False\n"
     ]
    },
    {
     "name": "stderr",
     "output_type": "stream",
     "text": [
      "100%|████████████████████████████████████████████████████████████████████████████████████| 1/1 [00:00<00:00,  1.19it/s]\n"
     ]
    },
    {
     "name": "stdout",
     "output_type": "stream",
     "text": [
      "Iter 9 - Epoch 0 - Client Type: Benign - Client Number 2 - Poison Training False\n"
     ]
    },
    {
     "name": "stderr",
     "output_type": "stream",
     "text": [
      "100%|████████████████████████████████████████████████████████████████████████████████████| 2/2 [00:01<00:00,  1.43it/s]\n"
     ]
    },
    {
     "name": "stdout",
     "output_type": "stream",
     "text": [
      "Iter 9 - Epoch 0 - Client Type: Benign - Client Number 3 - Poison Training False\n"
     ]
    },
    {
     "name": "stderr",
     "output_type": "stream",
     "text": [
      "100%|████████████████████████████████████████████████████████████████████████████████████| 1/1 [00:00<00:00,  1.13it/s]\n"
     ]
    },
    {
     "name": "stdout",
     "output_type": "stream",
     "text": [
      "Iter 9 - Epoch 0 - Client Type: Benign - Client Number 4 - Poison Training False\n"
     ]
    },
    {
     "name": "stderr",
     "output_type": "stream",
     "text": [
      "100%|████████████████████████████████████████████████████████████████████████████████████| 1/1 [00:00<00:00,  1.24it/s]\n"
     ]
    },
    {
     "name": "stdout",
     "output_type": "stream",
     "text": [
      "Iter 9 - Epoch 0 - Client Type: Benign - Client Number 5 - Poison Training False\n"
     ]
    },
    {
     "name": "stderr",
     "output_type": "stream",
     "text": [
      "100%|████████████████████████████████████████████████████████████████████████████████████| 1/1 [00:00<00:00,  1.07it/s]\n"
     ]
    },
    {
     "name": "stdout",
     "output_type": "stream",
     "text": [
      "Iter 9 - Epoch 0 - Client Type: Benign - Client Number 6 - Poison Training False\n"
     ]
    },
    {
     "name": "stderr",
     "output_type": "stream",
     "text": [
      "100%|████████████████████████████████████████████████████████████████████████████████████| 1/1 [00:00<00:00,  1.12it/s]\n"
     ]
    },
    {
     "name": "stdout",
     "output_type": "stream",
     "text": [
      "Iter 9 - Epoch 0 - Client Type: Benign - Client Number 7 - Poison Training False\n"
     ]
    },
    {
     "name": "stderr",
     "output_type": "stream",
     "text": [
      "100%|████████████████████████████████████████████████████████████████████████████████████| 1/1 [00:00<00:00,  1.03it/s]\n"
     ]
    },
    {
     "name": "stdout",
     "output_type": "stream",
     "text": [
      "Iter 9 - Epoch 0 - Client Type: Benign - Client Number 8 - Poison Training False\n"
     ]
    },
    {
     "name": "stderr",
     "output_type": "stream",
     "text": [
      "100%|████████████████████████████████████████████████████████████████████████████████████| 2/2 [00:01<00:00,  1.80it/s]\n"
     ]
    },
    {
     "name": "stdout",
     "output_type": "stream",
     "text": [
      "Iter 9 - Epoch 0 - Client Type: Benign - Client Number 9 - Poison Training False\n"
     ]
    },
    {
     "name": "stderr",
     "output_type": "stream",
     "text": [
      "100%|████████████████████████████████████████████████████████████████████████████████████| 1/1 [00:00<00:00,  1.06it/s]\n"
     ]
    },
    {
     "name": "stdout",
     "output_type": "stream",
     "text": [
      "Iter 9 - Epoch 0 - Client Type: Benign - Client Number 10 - Poison Training False\n"
     ]
    },
    {
     "name": "stderr",
     "output_type": "stream",
     "text": [
      "100%|████████████████████████████████████████████████████████████████████████████████████| 2/2 [00:01<00:00,  1.90it/s]\n"
     ]
    },
    {
     "name": "stdout",
     "output_type": "stream",
     "text": [
      "Iter 9 - Epoch 0 - Client Type: Benign - Client Number 11 - Poison Training False\n"
     ]
    },
    {
     "name": "stderr",
     "output_type": "stream",
     "text": [
      "100%|████████████████████████████████████████████████████████████████████████████████████| 2/2 [00:01<00:00,  1.78it/s]\n"
     ]
    },
    {
     "name": "stdout",
     "output_type": "stream",
     "text": [
      "Iter 9 - Epoch 0 - Client Type: Benign - Client Number 12 - Poison Training False\n"
     ]
    },
    {
     "name": "stderr",
     "output_type": "stream",
     "text": [
      "100%|████████████████████████████████████████████████████████████████████████████████████| 1/1 [00:00<00:00,  1.63it/s]\n"
     ]
    },
    {
     "name": "stdout",
     "output_type": "stream",
     "text": [
      "Iter 9 - Epoch 0 - Client Type: Benign - Client Number 13 - Poison Training False\n"
     ]
    },
    {
     "name": "stderr",
     "output_type": "stream",
     "text": [
      "100%|████████████████████████████████████████████████████████████████████████████████████| 2/2 [00:01<00:00,  1.81it/s]\n"
     ]
    },
    {
     "name": "stdout",
     "output_type": "stream",
     "text": [
      "Iter 9 - Epoch 0 - Client Type: Benign - Client Number 14 - Poison Training False\n"
     ]
    },
    {
     "name": "stderr",
     "output_type": "stream",
     "text": [
      "100%|████████████████████████████████████████████████████████████████████████████████████| 2/2 [00:01<00:00,  1.83it/s]\n"
     ]
    },
    {
     "name": "stdout",
     "output_type": "stream",
     "text": [
      "Iter 9 - Epoch 0 - Client Type: Benign - Client Number 15 - Poison Training False\n"
     ]
    },
    {
     "name": "stderr",
     "output_type": "stream",
     "text": [
      "100%|████████████████████████████████████████████████████████████████████████████████████| 1/1 [00:01<00:00,  1.02s/it]\n"
     ]
    },
    {
     "name": "stdout",
     "output_type": "stream",
     "text": [
      "Iter 9 - Epoch 0 - Client Type: Benign - Client Number 16 - Poison Training False\n"
     ]
    },
    {
     "name": "stderr",
     "output_type": "stream",
     "text": [
      "100%|████████████████████████████████████████████████████████████████████████████████████| 1/1 [00:00<00:00,  1.06it/s]\n"
     ]
    },
    {
     "name": "stdout",
     "output_type": "stream",
     "text": [
      "Iter 9 - Epoch 0 - Client Type: Benign - Client Number 17 - Poison Training False\n"
     ]
    },
    {
     "name": "stderr",
     "output_type": "stream",
     "text": [
      "100%|████████████████████████████████████████████████████████████████████████████████████| 2/2 [00:01<00:00,  1.06it/s]\n"
     ]
    },
    {
     "name": "stdout",
     "output_type": "stream",
     "text": [
      "Iter 9 - Epoch 0 - Client Type: Benign - Client Number 18 - Poison Training False\n"
     ]
    },
    {
     "name": "stderr",
     "output_type": "stream",
     "text": [
      "100%|████████████████████████████████████████████████████████████████████████████████████| 1/1 [00:01<00:00,  1.09s/it]\n"
     ]
    },
    {
     "name": "stdout",
     "output_type": "stream",
     "text": [
      "Iter 9 - Epoch 0 - Client Type: Benign - Client Number 19 - Poison Training False\n"
     ]
    },
    {
     "name": "stderr",
     "output_type": "stream",
     "text": [
      "100%|████████████████████████████████████████████████████████████████████████████████████| 2/2 [00:01<00:00,  1.39it/s]\n"
     ]
    },
    {
     "name": "stdout",
     "output_type": "stream",
     "text": [
      "\n",
      "\n",
      " Entering epoch 2\n",
      "Iter 9 - Epoch 0 - Client Type: Benign - Client Number 0 - Poison Training False\n"
     ]
    },
    {
     "name": "stderr",
     "output_type": "stream",
     "text": [
      "100%|████████████████████████████████████████████████████████████████████████████████████| 1/1 [00:01<00:00,  1.14s/it]\n"
     ]
    },
    {
     "name": "stdout",
     "output_type": "stream",
     "text": [
      "Iter 9 - Epoch 0 - Client Type: Benign - Client Number 1 - Poison Training False\n"
     ]
    },
    {
     "name": "stderr",
     "output_type": "stream",
     "text": [
      "100%|████████████████████████████████████████████████████████████████████████████████████| 1/1 [00:00<00:00,  1.16it/s]\n"
     ]
    },
    {
     "name": "stdout",
     "output_type": "stream",
     "text": [
      "Iter 9 - Epoch 0 - Client Type: Benign - Client Number 2 - Poison Training False\n"
     ]
    },
    {
     "name": "stderr",
     "output_type": "stream",
     "text": [
      "100%|████████████████████████████████████████████████████████████████████████████████████| 2/2 [00:01<00:00,  1.27it/s]\n"
     ]
    },
    {
     "name": "stdout",
     "output_type": "stream",
     "text": [
      "Iter 9 - Epoch 0 - Client Type: Benign - Client Number 3 - Poison Training False\n"
     ]
    },
    {
     "name": "stderr",
     "output_type": "stream",
     "text": [
      "100%|████████████████████████████████████████████████████████████████████████████████████| 1/1 [00:01<00:00,  1.02s/it]\n"
     ]
    },
    {
     "name": "stdout",
     "output_type": "stream",
     "text": [
      "Iter 9 - Epoch 0 - Client Type: Benign - Client Number 4 - Poison Training False\n"
     ]
    },
    {
     "name": "stderr",
     "output_type": "stream",
     "text": [
      "100%|████████████████████████████████████████████████████████████████████████████████████| 1/1 [00:00<00:00,  1.19it/s]\n"
     ]
    },
    {
     "name": "stdout",
     "output_type": "stream",
     "text": [
      "Iter 9 - Epoch 0 - Client Type: Benign - Client Number 5 - Poison Training False\n"
     ]
    },
    {
     "name": "stderr",
     "output_type": "stream",
     "text": [
      "100%|████████████████████████████████████████████████████████████████████████████████████| 1/1 [00:00<00:00,  1.03it/s]\n"
     ]
    },
    {
     "name": "stdout",
     "output_type": "stream",
     "text": [
      "Iter 9 - Epoch 0 - Client Type: Benign - Client Number 6 - Poison Training False\n"
     ]
    },
    {
     "name": "stderr",
     "output_type": "stream",
     "text": [
      "100%|████████████████████████████████████████████████████████████████████████████████████| 1/1 [00:01<00:00,  1.04s/it]\n"
     ]
    },
    {
     "name": "stdout",
     "output_type": "stream",
     "text": [
      "Iter 9 - Epoch 0 - Client Type: Benign - Client Number 7 - Poison Training False\n"
     ]
    },
    {
     "name": "stderr",
     "output_type": "stream",
     "text": [
      "100%|████████████████████████████████████████████████████████████████████████████████████| 1/1 [00:01<00:00,  1.17s/it]\n"
     ]
    },
    {
     "name": "stdout",
     "output_type": "stream",
     "text": [
      "Iter 9 - Epoch 0 - Client Type: Benign - Client Number 8 - Poison Training False\n"
     ]
    },
    {
     "name": "stderr",
     "output_type": "stream",
     "text": [
      "100%|████████████████████████████████████████████████████████████████████████████████████| 2/2 [00:01<00:00,  1.41it/s]\n"
     ]
    },
    {
     "name": "stdout",
     "output_type": "stream",
     "text": [
      "Iter 9 - Epoch 0 - Client Type: Benign - Client Number 9 - Poison Training False\n"
     ]
    },
    {
     "name": "stderr",
     "output_type": "stream",
     "text": [
      "100%|████████████████████████████████████████████████████████████████████████████████████| 1/1 [00:01<00:00,  1.20s/it]\n"
     ]
    },
    {
     "name": "stdout",
     "output_type": "stream",
     "text": [
      "Iter 9 - Epoch 0 - Client Type: Benign - Client Number 10 - Poison Training False\n"
     ]
    },
    {
     "name": "stderr",
     "output_type": "stream",
     "text": [
      "100%|████████████████████████████████████████████████████████████████████████████████████| 2/2 [00:01<00:00,  1.64it/s]\n"
     ]
    },
    {
     "name": "stdout",
     "output_type": "stream",
     "text": [
      "Iter 9 - Epoch 0 - Client Type: Benign - Client Number 11 - Poison Training False\n"
     ]
    },
    {
     "name": "stderr",
     "output_type": "stream",
     "text": [
      "100%|████████████████████████████████████████████████████████████████████████████████████| 2/2 [00:01<00:00,  1.50it/s]\n"
     ]
    },
    {
     "name": "stdout",
     "output_type": "stream",
     "text": [
      "Iter 9 - Epoch 0 - Client Type: Benign - Client Number 12 - Poison Training False\n"
     ]
    },
    {
     "name": "stderr",
     "output_type": "stream",
     "text": [
      "100%|████████████████████████████████████████████████████████████████████████████████████| 1/1 [00:00<00:00,  1.32it/s]\n"
     ]
    },
    {
     "name": "stdout",
     "output_type": "stream",
     "text": [
      "Iter 9 - Epoch 0 - Client Type: Benign - Client Number 13 - Poison Training False\n"
     ]
    },
    {
     "name": "stderr",
     "output_type": "stream",
     "text": [
      "100%|████████████████████████████████████████████████████████████████████████████████████| 2/2 [00:01<00:00,  1.59it/s]\n"
     ]
    },
    {
     "name": "stdout",
     "output_type": "stream",
     "text": [
      "Iter 9 - Epoch 0 - Client Type: Benign - Client Number 14 - Poison Training False\n"
     ]
    },
    {
     "name": "stderr",
     "output_type": "stream",
     "text": [
      "100%|████████████████████████████████████████████████████████████████████████████████████| 2/2 [00:01<00:00,  1.53it/s]\n"
     ]
    },
    {
     "name": "stdout",
     "output_type": "stream",
     "text": [
      "Iter 9 - Epoch 0 - Client Type: Benign - Client Number 15 - Poison Training False\n"
     ]
    },
    {
     "name": "stderr",
     "output_type": "stream",
     "text": [
      "100%|████████████████████████████████████████████████████████████████████████████████████| 1/1 [00:01<00:00,  1.24s/it]\n"
     ]
    },
    {
     "name": "stdout",
     "output_type": "stream",
     "text": [
      "Iter 9 - Epoch 0 - Client Type: Benign - Client Number 16 - Poison Training False\n"
     ]
    },
    {
     "name": "stderr",
     "output_type": "stream",
     "text": [
      "100%|████████████████████████████████████████████████████████████████████████████████████| 1/1 [00:01<00:00,  1.00s/it]\n"
     ]
    },
    {
     "name": "stdout",
     "output_type": "stream",
     "text": [
      "Iter 9 - Epoch 0 - Client Type: Benign - Client Number 17 - Poison Training False\n"
     ]
    },
    {
     "name": "stderr",
     "output_type": "stream",
     "text": [
      "100%|████████████████████████████████████████████████████████████████████████████████████| 2/2 [00:01<00:00,  1.09it/s]\n"
     ]
    },
    {
     "name": "stdout",
     "output_type": "stream",
     "text": [
      "Iter 9 - Epoch 0 - Client Type: Benign - Client Number 18 - Poison Training False\n"
     ]
    },
    {
     "name": "stderr",
     "output_type": "stream",
     "text": [
      "100%|████████████████████████████████████████████████████████████████████████████████████| 1/1 [00:01<00:00,  1.20s/it]\n"
     ]
    },
    {
     "name": "stdout",
     "output_type": "stream",
     "text": [
      "Iter 9 - Epoch 0 - Client Type: Benign - Client Number 19 - Poison Training False\n"
     ]
    },
    {
     "name": "stderr",
     "output_type": "stream",
     "text": [
      "100%|████████████████████████████████████████████████████████████████████████████████████| 2/2 [00:01<00:00,  1.43it/s]\n"
     ]
    },
    {
     "name": "stdout",
     "output_type": "stream",
     "text": [
      "\n",
      "\n",
      " Entering epoch 3\n",
      "Iter 9 - Epoch 0 - Client Type: Benign - Client Number 0 - Poison Training False\n"
     ]
    },
    {
     "name": "stderr",
     "output_type": "stream",
     "text": [
      "100%|████████████████████████████████████████████████████████████████████████████████████| 1/1 [00:01<00:00,  1.11s/it]\n"
     ]
    },
    {
     "name": "stdout",
     "output_type": "stream",
     "text": [
      "Iter 9 - Epoch 0 - Client Type: Benign - Client Number 1 - Poison Training False\n"
     ]
    },
    {
     "name": "stderr",
     "output_type": "stream",
     "text": [
      "100%|████████████████████████████████████████████████████████████████████████████████████| 1/1 [00:00<00:00,  1.11it/s]\n"
     ]
    },
    {
     "name": "stdout",
     "output_type": "stream",
     "text": [
      "Iter 9 - Epoch 0 - Client Type: Benign - Client Number 2 - Poison Training False\n"
     ]
    },
    {
     "name": "stderr",
     "output_type": "stream",
     "text": [
      "100%|████████████████████████████████████████████████████████████████████████████████████| 2/2 [00:01<00:00,  1.39it/s]\n"
     ]
    },
    {
     "name": "stdout",
     "output_type": "stream",
     "text": [
      "Iter 9 - Epoch 0 - Client Type: Benign - Client Number 3 - Poison Training False\n"
     ]
    },
    {
     "name": "stderr",
     "output_type": "stream",
     "text": [
      "100%|████████████████████████████████████████████████████████████████████████████████████| 1/1 [00:00<00:00,  1.11it/s]\n"
     ]
    },
    {
     "name": "stdout",
     "output_type": "stream",
     "text": [
      "Iter 9 - Epoch 0 - Client Type: Benign - Client Number 4 - Poison Training False\n"
     ]
    },
    {
     "name": "stderr",
     "output_type": "stream",
     "text": [
      "100%|████████████████████████████████████████████████████████████████████████████████████| 1/1 [00:00<00:00,  1.23it/s]\n"
     ]
    },
    {
     "name": "stdout",
     "output_type": "stream",
     "text": [
      "Iter 9 - Epoch 0 - Client Type: Benign - Client Number 5 - Poison Training False\n"
     ]
    },
    {
     "name": "stderr",
     "output_type": "stream",
     "text": [
      "100%|████████████████████████████████████████████████████████████████████████████████████| 1/1 [00:00<00:00,  1.04it/s]\n"
     ]
    },
    {
     "name": "stdout",
     "output_type": "stream",
     "text": [
      "Iter 9 - Epoch 0 - Client Type: Benign - Client Number 6 - Poison Training False\n"
     ]
    },
    {
     "name": "stderr",
     "output_type": "stream",
     "text": [
      "100%|████████████████████████████████████████████████████████████████████████████████████| 1/1 [00:00<00:00,  1.07it/s]\n"
     ]
    },
    {
     "name": "stdout",
     "output_type": "stream",
     "text": [
      "Iter 9 - Epoch 0 - Client Type: Benign - Client Number 7 - Poison Training False\n"
     ]
    },
    {
     "name": "stderr",
     "output_type": "stream",
     "text": [
      "100%|████████████████████████████████████████████████████████████████████████████████████| 1/1 [00:00<00:00,  1.04it/s]\n"
     ]
    },
    {
     "name": "stdout",
     "output_type": "stream",
     "text": [
      "Iter 9 - Epoch 0 - Client Type: Benign - Client Number 8 - Poison Training False\n"
     ]
    },
    {
     "name": "stderr",
     "output_type": "stream",
     "text": [
      "100%|████████████████████████████████████████████████████████████████████████████████████| 2/2 [00:01<00:00,  1.76it/s]\n"
     ]
    },
    {
     "name": "stdout",
     "output_type": "stream",
     "text": [
      "Iter 9 - Epoch 0 - Client Type: Benign - Client Number 9 - Poison Training False\n"
     ]
    },
    {
     "name": "stderr",
     "output_type": "stream",
     "text": [
      "100%|████████████████████████████████████████████████████████████████████████████████████| 1/1 [00:01<00:00,  1.03s/it]\n"
     ]
    },
    {
     "name": "stdout",
     "output_type": "stream",
     "text": [
      "Iter 9 - Epoch 0 - Client Type: Benign - Client Number 10 - Poison Training False\n"
     ]
    },
    {
     "name": "stderr",
     "output_type": "stream",
     "text": [
      "100%|████████████████████████████████████████████████████████████████████████████████████| 2/2 [00:01<00:00,  1.83it/s]\n"
     ]
    },
    {
     "name": "stdout",
     "output_type": "stream",
     "text": [
      "Iter 9 - Epoch 0 - Client Type: Benign - Client Number 11 - Poison Training False\n"
     ]
    },
    {
     "name": "stderr",
     "output_type": "stream",
     "text": [
      "100%|████████████████████████████████████████████████████████████████████████████████████| 2/2 [00:01<00:00,  1.86it/s]\n"
     ]
    },
    {
     "name": "stdout",
     "output_type": "stream",
     "text": [
      "Iter 9 - Epoch 0 - Client Type: Benign - Client Number 12 - Poison Training False\n"
     ]
    },
    {
     "name": "stderr",
     "output_type": "stream",
     "text": [
      "100%|████████████████████████████████████████████████████████████████████████████████████| 1/1 [00:00<00:00,  1.51it/s]\n"
     ]
    },
    {
     "name": "stdout",
     "output_type": "stream",
     "text": [
      "Iter 9 - Epoch 0 - Client Type: Benign - Client Number 13 - Poison Training False\n"
     ]
    },
    {
     "name": "stderr",
     "output_type": "stream",
     "text": [
      "100%|████████████████████████████████████████████████████████████████████████████████████| 2/2 [00:01<00:00,  1.78it/s]\n"
     ]
    },
    {
     "name": "stdout",
     "output_type": "stream",
     "text": [
      "Iter 9 - Epoch 0 - Client Type: Benign - Client Number 14 - Poison Training False\n"
     ]
    },
    {
     "name": "stderr",
     "output_type": "stream",
     "text": [
      "100%|████████████████████████████████████████████████████████████████████████████████████| 2/2 [00:01<00:00,  1.62it/s]\n"
     ]
    },
    {
     "name": "stdout",
     "output_type": "stream",
     "text": [
      "Iter 9 - Epoch 0 - Client Type: Benign - Client Number 15 - Poison Training False\n"
     ]
    },
    {
     "name": "stderr",
     "output_type": "stream",
     "text": [
      "100%|████████████████████████████████████████████████████████████████████████████████████| 1/1 [00:00<00:00,  1.01it/s]\n"
     ]
    },
    {
     "name": "stdout",
     "output_type": "stream",
     "text": [
      "Iter 9 - Epoch 0 - Client Type: Benign - Client Number 16 - Poison Training False\n"
     ]
    },
    {
     "name": "stderr",
     "output_type": "stream",
     "text": [
      "100%|████████████████████████████████████████████████████████████████████████████████████| 1/1 [00:00<00:00,  1.05it/s]\n"
     ]
    },
    {
     "name": "stdout",
     "output_type": "stream",
     "text": [
      "Iter 9 - Epoch 0 - Client Type: Benign - Client Number 17 - Poison Training False\n"
     ]
    },
    {
     "name": "stderr",
     "output_type": "stream",
     "text": [
      "100%|████████████████████████████████████████████████████████████████████████████████████| 2/2 [00:01<00:00,  1.30it/s]\n"
     ]
    },
    {
     "name": "stdout",
     "output_type": "stream",
     "text": [
      "Iter 9 - Epoch 0 - Client Type: Benign - Client Number 18 - Poison Training False\n"
     ]
    },
    {
     "name": "stderr",
     "output_type": "stream",
     "text": [
      "100%|████████████████████████████████████████████████████████████████████████████████████| 1/1 [00:00<00:00,  1.04it/s]\n"
     ]
    },
    {
     "name": "stdout",
     "output_type": "stream",
     "text": [
      "Iter 9 - Epoch 0 - Client Type: Benign - Client Number 19 - Poison Training False\n"
     ]
    },
    {
     "name": "stderr",
     "output_type": "stream",
     "text": [
      "100%|████████████████████████████████████████████████████████████████████████████████████| 2/2 [00:01<00:00,  1.64it/s]\n"
     ]
    },
    {
     "name": "stdout",
     "output_type": "stream",
     "text": [
      "\n",
      "\n",
      " Entering epoch 4\n",
      "Iter 9 - Epoch 0 - Client Type: Benign - Client Number 0 - Poison Training False\n"
     ]
    },
    {
     "name": "stderr",
     "output_type": "stream",
     "text": [
      "100%|████████████████████████████████████████████████████████████████████████████████████| 1/1 [00:01<00:00,  1.08s/it]\n"
     ]
    },
    {
     "name": "stdout",
     "output_type": "stream",
     "text": [
      "Iter 9 - Epoch 0 - Client Type: Benign - Client Number 1 - Poison Training False\n"
     ]
    },
    {
     "name": "stderr",
     "output_type": "stream",
     "text": [
      "100%|████████████████████████████████████████████████████████████████████████████████████| 1/1 [00:00<00:00,  1.16it/s]\n"
     ]
    },
    {
     "name": "stdout",
     "output_type": "stream",
     "text": [
      "Iter 9 - Epoch 0 - Client Type: Benign - Client Number 2 - Poison Training False\n"
     ]
    },
    {
     "name": "stderr",
     "output_type": "stream",
     "text": [
      "100%|████████████████████████████████████████████████████████████████████████████████████| 2/2 [00:01<00:00,  1.40it/s]\n"
     ]
    },
    {
     "name": "stdout",
     "output_type": "stream",
     "text": [
      "Iter 9 - Epoch 0 - Client Type: Benign - Client Number 3 - Poison Training False\n"
     ]
    },
    {
     "name": "stderr",
     "output_type": "stream",
     "text": [
      "100%|████████████████████████████████████████████████████████████████████████████████████| 1/1 [00:00<00:00,  1.11it/s]\n"
     ]
    },
    {
     "name": "stdout",
     "output_type": "stream",
     "text": [
      "Iter 9 - Epoch 0 - Client Type: Benign - Client Number 4 - Poison Training False\n"
     ]
    },
    {
     "name": "stderr",
     "output_type": "stream",
     "text": [
      "100%|████████████████████████████████████████████████████████████████████████████████████| 1/1 [00:00<00:00,  1.19it/s]\n"
     ]
    },
    {
     "name": "stdout",
     "output_type": "stream",
     "text": [
      "Iter 9 - Epoch 0 - Client Type: Benign - Client Number 5 - Poison Training False\n"
     ]
    },
    {
     "name": "stderr",
     "output_type": "stream",
     "text": [
      "100%|████████████████████████████████████████████████████████████████████████████████████| 1/1 [00:00<00:00,  1.00it/s]\n"
     ]
    },
    {
     "name": "stdout",
     "output_type": "stream",
     "text": [
      "Iter 9 - Epoch 0 - Client Type: Benign - Client Number 6 - Poison Training False\n"
     ]
    },
    {
     "name": "stderr",
     "output_type": "stream",
     "text": [
      "100%|████████████████████████████████████████████████████████████████████████████████████| 1/1 [00:00<00:00,  1.08it/s]\n"
     ]
    },
    {
     "name": "stdout",
     "output_type": "stream",
     "text": [
      "Iter 9 - Epoch 0 - Client Type: Benign - Client Number 7 - Poison Training False\n"
     ]
    },
    {
     "name": "stderr",
     "output_type": "stream",
     "text": [
      "100%|████████████████████████████████████████████████████████████████████████████████████| 1/1 [00:00<00:00,  1.03it/s]\n"
     ]
    },
    {
     "name": "stdout",
     "output_type": "stream",
     "text": [
      "Iter 9 - Epoch 0 - Client Type: Benign - Client Number 8 - Poison Training False\n"
     ]
    },
    {
     "name": "stderr",
     "output_type": "stream",
     "text": [
      "100%|████████████████████████████████████████████████████████████████████████████████████| 2/2 [00:01<00:00,  1.80it/s]\n"
     ]
    },
    {
     "name": "stdout",
     "output_type": "stream",
     "text": [
      "Iter 9 - Epoch 0 - Client Type: Benign - Client Number 9 - Poison Training False\n"
     ]
    },
    {
     "name": "stderr",
     "output_type": "stream",
     "text": [
      "100%|████████████████████████████████████████████████████████████████████████████████████| 1/1 [00:01<00:00,  1.05s/it]\n"
     ]
    },
    {
     "name": "stdout",
     "output_type": "stream",
     "text": [
      "Iter 9 - Epoch 0 - Client Type: Benign - Client Number 10 - Poison Training False\n"
     ]
    },
    {
     "name": "stderr",
     "output_type": "stream",
     "text": [
      "100%|████████████████████████████████████████████████████████████████████████████████████| 2/2 [00:01<00:00,  1.65it/s]\n"
     ]
    },
    {
     "name": "stdout",
     "output_type": "stream",
     "text": [
      "Iter 9 - Epoch 0 - Client Type: Benign - Client Number 11 - Poison Training False\n"
     ]
    },
    {
     "name": "stderr",
     "output_type": "stream",
     "text": [
      "100%|████████████████████████████████████████████████████████████████████████████████████| 2/2 [00:01<00:00,  1.86it/s]\n"
     ]
    },
    {
     "name": "stdout",
     "output_type": "stream",
     "text": [
      "Iter 9 - Epoch 0 - Client Type: Benign - Client Number 12 - Poison Training False\n"
     ]
    },
    {
     "name": "stderr",
     "output_type": "stream",
     "text": [
      "100%|████████████████████████████████████████████████████████████████████████████████████| 1/1 [00:00<00:00,  1.75it/s]\n"
     ]
    },
    {
     "name": "stdout",
     "output_type": "stream",
     "text": [
      "Iter 9 - Epoch 0 - Client Type: Benign - Client Number 13 - Poison Training False\n"
     ]
    },
    {
     "name": "stderr",
     "output_type": "stream",
     "text": [
      "100%|████████████████████████████████████████████████████████████████████████████████████| 2/2 [00:01<00:00,  1.66it/s]\n"
     ]
    },
    {
     "name": "stdout",
     "output_type": "stream",
     "text": [
      "Iter 9 - Epoch 0 - Client Type: Benign - Client Number 14 - Poison Training False\n"
     ]
    },
    {
     "name": "stderr",
     "output_type": "stream",
     "text": [
      "100%|████████████████████████████████████████████████████████████████████████████████████| 2/2 [00:01<00:00,  1.85it/s]\n"
     ]
    },
    {
     "name": "stdout",
     "output_type": "stream",
     "text": [
      "Iter 9 - Epoch 0 - Client Type: Benign - Client Number 15 - Poison Training False\n"
     ]
    },
    {
     "name": "stderr",
     "output_type": "stream",
     "text": [
      "100%|████████████████████████████████████████████████████████████████████████████████████| 1/1 [00:01<00:00,  1.15s/it]\n"
     ]
    },
    {
     "name": "stdout",
     "output_type": "stream",
     "text": [
      "Iter 9 - Epoch 0 - Client Type: Benign - Client Number 16 - Poison Training False\n"
     ]
    },
    {
     "name": "stderr",
     "output_type": "stream",
     "text": [
      "100%|████████████████████████████████████████████████████████████████████████████████████| 1/1 [00:00<00:00,  1.03it/s]\n"
     ]
    },
    {
     "name": "stdout",
     "output_type": "stream",
     "text": [
      "Iter 9 - Epoch 0 - Client Type: Benign - Client Number 17 - Poison Training False\n"
     ]
    },
    {
     "name": "stderr",
     "output_type": "stream",
     "text": [
      "100%|████████████████████████████████████████████████████████████████████████████████████| 2/2 [00:01<00:00,  1.36it/s]\n"
     ]
    },
    {
     "name": "stdout",
     "output_type": "stream",
     "text": [
      "Iter 9 - Epoch 0 - Client Type: Benign - Client Number 18 - Poison Training False\n"
     ]
    },
    {
     "name": "stderr",
     "output_type": "stream",
     "text": [
      "100%|████████████████████████████████████████████████████████████████████████████████████| 1/1 [00:00<00:00,  1.05it/s]\n"
     ]
    },
    {
     "name": "stdout",
     "output_type": "stream",
     "text": [
      "Iter 9 - Epoch 0 - Client Type: Benign - Client Number 19 - Poison Training False\n"
     ]
    },
    {
     "name": "stderr",
     "output_type": "stream",
     "text": [
      "100%|████████████████████████████████████████████████████████████████████████████████████| 2/2 [00:01<00:00,  1.57it/s]\n"
     ]
    },
    {
     "name": "stdout",
     "output_type": "stream",
     "text": [
      "Original Copylist [7, 2, 5, 3, 2, 7, 3, 7, 0, 7, 0, 0, 4, 0, 0, 7, 3, 1, 7, 6]\n",
      "Found clusters [0 5 7 2 5 0 2 0 1 0 6 1 0 1 1 0 2 3 0 4]\n",
      "Original groups [array([ 8, 10, 11, 13, 14], dtype=int64), array([17], dtype=int64), array([1, 4], dtype=int64), array([ 3,  6, 16], dtype=int64), array([12], dtype=int64), array([2], dtype=int64), array([19], dtype=int64), array([ 0,  5,  7,  9, 15, 18], dtype=int64)]\n",
      "Clustered groups [array([ 0,  5,  7,  9, 12, 15, 18], dtype=int64), array([ 8, 11, 13, 14], dtype=int64), array([ 3,  6, 16], dtype=int64), array([17], dtype=int64), array([19], dtype=int64), array([1, 4], dtype=int64), array([10], dtype=int64), array([2], dtype=int64)]\n",
      "Clustering score 0.8021245573838783\n",
      "10\n",
      "[[ 1.00000472 -0.22334774  0.59859625  0.12268038 -0.22209667  0.88601956\n",
      "   0.13710466  0.93806872  0.19759446  0.88396883  0.00639576  0.15825801\n",
      "   0.46525222  0.14414039  0.15830548  0.9223339   0.10474094  0.05174107\n",
      "   0.89496884  0.1728076 ]\n",
      " [-0.22334774  1.00000911 -0.0049115   0.33758134  0.98425671 -0.17242206\n",
      "   0.3052606  -0.22782778  0.21022412 -0.184726    0.29409464  0.29946802\n",
      "   0.1483319   0.25916058  0.21848196 -0.19631216  0.38306875  0.22906798\n",
      "  -0.18796205  0.23098535]\n",
      " [ 0.59859626 -0.0049115   1.00000453  0.202703   -0.00342747  0.50813918\n",
      "   0.21103702  0.55761546  0.31549148  0.52997521  0.23205021  0.27434279\n",
      "   0.17468719  0.30897189  0.30215476  0.52894625  0.19510029  0.43444796\n",
      "   0.52225915  0.25427293]\n",
      " [ 0.12268038  0.33758134  0.20270301  1.00000384  0.34326813  0.10325015\n",
      "   0.96587969  0.12143752  0.35941675  0.12472569  0.30534644  0.38539566\n",
      "   0.12437345  0.34366934  0.44520023  0.11900784  0.95181364  0.17857312\n",
      "   0.09800629  0.34336231]\n",
      " [-0.22209667  0.9842567  -0.00342747  0.34326811  1.00000899 -0.16491091\n",
      "   0.30430539 -0.22555772  0.20571288 -0.18123736  0.29126602  0.29171178\n",
      "   0.12921094  0.25340963  0.21321603 -0.19207814  0.38819051  0.2399616\n",
      "  -0.18628481  0.22807023]\n",
      " [ 0.88601958 -0.17242205  0.50813917  0.10325015 -0.1649109   1.00000601\n",
      "   0.10101766  0.92344943  0.13080458  0.94355072 -0.03341499  0.09952587\n",
      "   0.47889673  0.06951463  0.07828927  0.93042287  0.08986643  0.00507553\n",
      "   0.93914143  0.24718661]\n",
      " [ 0.13710466  0.3052606   0.21103702  0.96587968  0.3043054   0.10101767\n",
      "   1.00000603  0.13398231  0.39339357  0.13318482  0.31725625  0.40599799\n",
      "   0.15543755  0.37306834  0.45649446  0.12737215  0.94748056  0.17392374\n",
      "   0.12213683  0.36454957]\n",
      " [ 0.93806874 -0.22782778  0.55761546  0.12143751 -0.22555772  0.92344943\n",
      "   0.1339823   1.00000248  0.17320294  0.93434343 -0.01909053  0.1365021\n",
      "   0.4747896   0.11870598  0.13334851  0.94104315  0.09950671  0.00685994\n",
      "   0.93299184  0.20163407]\n",
      " [ 0.19759447  0.21022413  0.31549148  0.35941675  0.20571288  0.13080458\n",
      "   0.39339357  0.17320295  1.00000489  0.13980396  0.64276406  0.65634258\n",
      "   0.27637537  0.79562308  0.73408837  0.14084044  0.39725055  0.22075517\n",
      "   0.15691144  0.31825979]\n",
      " [ 0.88396883 -0.18472599  0.5299752   0.12472569 -0.18123736  0.94355072\n",
      "   0.13318483  0.93434343  0.13980397  1.0000051  -0.03684984  0.10351944\n",
      "   0.45024056  0.0867346   0.09547809  0.93756317  0.10954867  0.00135232\n",
      "   0.93931102  0.27432983]\n",
      " [ 0.00639576  0.29409464  0.2320502   0.30534644  0.29126602 -0.033415\n",
      "   0.31725625 -0.01909053  0.64276408 -0.03684985  1.00000658  0.67843381\n",
      "   0.22611198  0.78323789  0.66900854 -0.04064639  0.32924954  0.27542329\n",
      "  -0.02913412  0.2333695 ]\n",
      " [ 0.15825801  0.29946801  0.27434279  0.38539567  0.29171178  0.09952587\n",
      "   0.40599799  0.1365021   0.65634258  0.10351943  0.67843379  1.00000503\n",
      "   0.3589283   0.67879662  0.72712853  0.10782659  0.41669881  0.25469325\n",
      "   0.13080683  0.27643532]\n",
      " [ 0.46525224  0.1483319   0.17468719  0.12437345  0.12921094  0.47889673\n",
      "   0.15543755  0.47478961  0.27637537  0.45024056  0.22611198  0.3589283\n",
      "   1.00000316  0.26362676  0.25387376  0.48060567  0.14408926  0.11883926\n",
      "   0.48338813  0.11957613]\n",
      " [ 0.14414039  0.25916058  0.30897189  0.34366934  0.25340962  0.06951462\n",
      "   0.37306832  0.11870598  0.79562306  0.08673461  0.78323787  0.67879663\n",
      "   0.26362676  1.00000397  0.73786662  0.08035592  0.37434211  0.29579945\n",
      "   0.0991693   0.26759468]\n",
      " [ 0.15830548  0.21848196  0.30215476  0.44520023  0.21321603  0.07828926\n",
      "   0.45649447  0.13334851  0.73408839  0.09547809  0.66900857  0.72712854\n",
      "   0.25387376  0.73786663  1.00000598  0.08646628  0.4505002   0.25534751\n",
      "   0.09294464  0.27389886]\n",
      " [ 0.92233392 -0.19631216  0.52894625  0.11900785 -0.19207814  0.93042287\n",
      "   0.12737215  0.94104316  0.14084045  0.93756315 -0.04064639  0.1078266\n",
      "   0.48060567  0.08035591  0.08646627  1.00000591  0.10030385  0.02253246\n",
      "   0.94154119  0.21625458]\n",
      " [ 0.10474094  0.38306875  0.1951003   0.95181365  0.38819051  0.08986643\n",
      "   0.94748058  0.09950671  0.39725054  0.10954866  0.32924954  0.41669881\n",
      "   0.14408925  0.37434211  0.4505002   0.10030385  1.00000544  0.19178652\n",
      "   0.08956673  0.3321355 ]\n",
      " [ 0.05174108  0.22906798  0.43444796  0.17857312  0.23996161  0.00507553\n",
      "   0.17392374  0.00685994  0.22075517  0.00135232  0.27542331  0.25469325\n",
      "   0.11883926  0.29579945  0.25534751  0.02253246  0.19178651  1.00000896\n",
      "   0.00687113  0.03669148]\n",
      " [ 0.89496886 -0.18796204  0.52225917  0.09800629 -0.18628481  0.93914143\n",
      "   0.12213683  0.93299185  0.15691144  0.93931102 -0.02913412  0.13080683\n",
      "   0.48338812  0.09916931  0.09294464  0.94154119  0.08956673  0.00687112\n",
      "   1.00000675  0.27479757]\n",
      " [ 0.17280761  0.23098535  0.25427293  0.34336233  0.22807022  0.24718662\n",
      "   0.36454957  0.20163407  0.31825979  0.27432984  0.23336949  0.27643532\n",
      "   0.11957613  0.26759468  0.27389886  0.21625458  0.33213552  0.03669148\n",
      "   0.27479757  1.00000206]]\n",
      "Original Copylist [7, 2, 5, 3, 2, 7, 3, 7, 0, 7, 0, 0, 4, 0, 0, 7, 3, 1, 7, 6]\n",
      "Found clusters [2 5 7 1 5 2 1 2 0 2 0 0 3 0 0 2 1 4 2 6]\n",
      "Original groups [array([ 8, 10, 11, 13, 14], dtype=int64), array([17], dtype=int64), array([1, 4], dtype=int64), array([ 3,  6, 16], dtype=int64), array([12], dtype=int64), array([2], dtype=int64), array([19], dtype=int64), array([ 0,  5,  7,  9, 15, 18], dtype=int64)]\n",
      "Clustered groups [array([ 8, 10, 11, 13, 14], dtype=int64), array([ 3,  6, 16], dtype=int64), array([ 0,  5,  7,  9, 15, 18], dtype=int64), array([12], dtype=int64), array([17], dtype=int64), array([1, 4], dtype=int64), array([19], dtype=int64), array([2], dtype=int64)]\n",
      "Clustering score 1.0\n",
      "Benign net distance [tensor(38.4992), tensor(52.8303), tensor(58.7884), tensor(32.1746), tensor(53.0529), tensor(38.9663), tensor(31.3060), tensor(38.5233), tensor(38.9078), tensor(38.2564), tensor(50.6398), tensor(35.7921), tensor(39.9877), tensor(43.2987), tensor(39.6808), tensor(38.8475), tensor(31.8228), tensor(145.4158), tensor(37.9063), tensor(0.)]\n",
      "Malicious net distance []\n",
      "cos_sim list  [tensor(-0.0287), tensor(0.2187), tensor(0.0351), tensor(0.2406), tensor(0.2208), tensor(0.0115), tensor(0.2822), tensor(-0.0291), tensor(0.3928), tensor(0.0237), tensor(0.3580), tensor(0.3450), tensor(0.1339), tensor(0.3683), tensor(0.2867), tensor(-0.0154), tensor(0.2627), tensor(0.0506), tensor(0.0457), tensor(1.0000)]\n",
      "Norms of local gradients  [tensor(0.1927), tensor(0.5718), tensor(0.5328), tensor(0.2246), tensor(0.5772), tensor(0.1924), tensor(0.2140), tensor(0.1955), tensor(0.4237), tensor(0.1927), tensor(0.7430), tensor(0.3892), tensor(0.3490), tensor(0.4969), tensor(0.4149), tensor(0.1988), tensor(0.2138), tensor(1.5274), tensor(0.1909), tensor(0.3684)]\n",
      "\n",
      " Aggregating models\n",
      "Cosine Similarities:  [tensor(-0.0287), tensor(0.2187), tensor(0.0351), tensor(0.2406), tensor(0.2208), tensor(0.0115), tensor(0.2822), tensor(-0.0291), tensor(0.3928), tensor(0.0237), tensor(0.3580), tensor(0.3450), tensor(0.1339), tensor(0.3683), tensor(0.2867), tensor(-0.0154), tensor(0.2627), tensor(0.0506), tensor(0.0457), tensor(1.0000)]\n",
      "Aggregation Weights:  [0.         0.03295539 0.00567849 0.09230426 0.03295023 0.0051341\n",
      " 0.11363482 0.         0.07988842 0.01061951 0.04151038 0.07637069\n",
      " 0.03304921 0.06385124 0.05954087 0.         0.105885   0.00285308\n",
      " 0.02062722 0.23384954]\n",
      "\n",
      "\n",
      "\n",
      "Aggregate test at iter  9\n"
     ]
    },
    {
     "name": "stderr",
     "output_type": "stream",
     "text": [
      "100%|██████████████████████████████████████████████████████████████████████████████████| 10/10 [00:02<00:00,  4.74it/s]\n"
     ]
    },
    {
     "name": "stdout",
     "output_type": "stream",
     "text": [
      "\n",
      "Test set: Avg. loss: 0.0008, Accuracy: 7272/10000 (73%)\n",
      "\n",
      "\n",
      "\n",
      " Entering epoch 0\n",
      "Iter 10 - Epoch 0 - Client Type: Benign - Client Number 0 - Poison Training False\n"
     ]
    },
    {
     "name": "stderr",
     "output_type": "stream",
     "text": [
      "100%|████████████████████████████████████████████████████████████████████████████████████| 1/1 [00:00<00:00,  1.01it/s]\n"
     ]
    },
    {
     "name": "stdout",
     "output_type": "stream",
     "text": [
      "Iter 10 - Epoch 0 - Client Type: Benign - Client Number 1 - Poison Training False\n"
     ]
    },
    {
     "name": "stderr",
     "output_type": "stream",
     "text": [
      "100%|████████████████████████████████████████████████████████████████████████████████████| 1/1 [00:00<00:00,  1.23it/s]\n"
     ]
    },
    {
     "name": "stdout",
     "output_type": "stream",
     "text": [
      "Iter 10 - Epoch 0 - Client Type: Benign - Client Number 2 - Poison Training False\n"
     ]
    },
    {
     "name": "stderr",
     "output_type": "stream",
     "text": [
      "100%|████████████████████████████████████████████████████████████████████████████████████| 2/2 [00:01<00:00,  1.42it/s]\n"
     ]
    },
    {
     "name": "stdout",
     "output_type": "stream",
     "text": [
      "Iter 10 - Epoch 0 - Client Type: Benign - Client Number 3 - Poison Training False\n"
     ]
    },
    {
     "name": "stderr",
     "output_type": "stream",
     "text": [
      "100%|████████████████████████████████████████████████████████████████████████████████████| 1/1 [00:00<00:00,  1.10it/s]\n"
     ]
    },
    {
     "name": "stdout",
     "output_type": "stream",
     "text": [
      "Iter 10 - Epoch 0 - Client Type: Benign - Client Number 4 - Poison Training False\n"
     ]
    },
    {
     "name": "stderr",
     "output_type": "stream",
     "text": [
      "100%|████████████████████████████████████████████████████████████████████████████████████| 1/1 [00:00<00:00,  1.21it/s]\n"
     ]
    },
    {
     "name": "stdout",
     "output_type": "stream",
     "text": [
      "Iter 10 - Epoch 0 - Client Type: Benign - Client Number 5 - Poison Training False\n"
     ]
    },
    {
     "name": "stderr",
     "output_type": "stream",
     "text": [
      "100%|████████████████████████████████████████████████████████████████████████████████████| 1/1 [00:00<00:00,  1.04it/s]\n"
     ]
    },
    {
     "name": "stdout",
     "output_type": "stream",
     "text": [
      "Iter 10 - Epoch 0 - Client Type: Benign - Client Number 6 - Poison Training False\n"
     ]
    },
    {
     "name": "stderr",
     "output_type": "stream",
     "text": [
      "100%|████████████████████████████████████████████████████████████████████████████████████| 1/1 [00:00<00:00,  1.11it/s]\n"
     ]
    },
    {
     "name": "stdout",
     "output_type": "stream",
     "text": [
      "Iter 10 - Epoch 0 - Client Type: Benign - Client Number 7 - Poison Training False\n"
     ]
    },
    {
     "name": "stderr",
     "output_type": "stream",
     "text": [
      "100%|████████████████████████████████████████████████████████████████████████████████████| 1/1 [00:00<00:00,  1.06it/s]\n"
     ]
    },
    {
     "name": "stdout",
     "output_type": "stream",
     "text": [
      "Iter 10 - Epoch 0 - Client Type: Benign - Client Number 8 - Poison Training False\n"
     ]
    },
    {
     "name": "stderr",
     "output_type": "stream",
     "text": [
      "100%|████████████████████████████████████████████████████████████████████████████████████| 2/2 [00:01<00:00,  1.72it/s]\n"
     ]
    },
    {
     "name": "stdout",
     "output_type": "stream",
     "text": [
      "Iter 10 - Epoch 0 - Client Type: Benign - Client Number 9 - Poison Training False\n"
     ]
    },
    {
     "name": "stderr",
     "output_type": "stream",
     "text": [
      "100%|████████████████████████████████████████████████████████████████████████████████████| 1/1 [00:00<00:00,  1.07it/s]\n"
     ]
    },
    {
     "name": "stdout",
     "output_type": "stream",
     "text": [
      "Iter 10 - Epoch 0 - Client Type: Benign - Client Number 10 - Poison Training False\n"
     ]
    },
    {
     "name": "stderr",
     "output_type": "stream",
     "text": [
      "100%|████████████████████████████████████████████████████████████████████████████████████| 2/2 [00:01<00:00,  1.75it/s]\n"
     ]
    },
    {
     "name": "stdout",
     "output_type": "stream",
     "text": [
      "Iter 10 - Epoch 0 - Client Type: Benign - Client Number 11 - Poison Training False\n"
     ]
    },
    {
     "name": "stderr",
     "output_type": "stream",
     "text": [
      "100%|████████████████████████████████████████████████████████████████████████████████████| 2/2 [00:01<00:00,  1.82it/s]\n"
     ]
    },
    {
     "name": "stdout",
     "output_type": "stream",
     "text": [
      "Iter 10 - Epoch 0 - Client Type: Benign - Client Number 12 - Poison Training False\n"
     ]
    },
    {
     "name": "stderr",
     "output_type": "stream",
     "text": [
      "100%|████████████████████████████████████████████████████████████████████████████████████| 1/1 [00:00<00:00,  1.57it/s]\n"
     ]
    },
    {
     "name": "stdout",
     "output_type": "stream",
     "text": [
      "Iter 10 - Epoch 0 - Client Type: Benign - Client Number 13 - Poison Training False\n"
     ]
    },
    {
     "name": "stderr",
     "output_type": "stream",
     "text": [
      "100%|████████████████████████████████████████████████████████████████████████████████████| 2/2 [00:01<00:00,  1.89it/s]\n"
     ]
    },
    {
     "name": "stdout",
     "output_type": "stream",
     "text": [
      "Iter 10 - Epoch 0 - Client Type: Benign - Client Number 14 - Poison Training False\n"
     ]
    },
    {
     "name": "stderr",
     "output_type": "stream",
     "text": [
      "100%|████████████████████████████████████████████████████████████████████████████████████| 2/2 [00:01<00:00,  1.73it/s]\n"
     ]
    },
    {
     "name": "stdout",
     "output_type": "stream",
     "text": [
      "Iter 10 - Epoch 0 - Client Type: Benign - Client Number 15 - Poison Training False\n"
     ]
    },
    {
     "name": "stderr",
     "output_type": "stream",
     "text": [
      "100%|████████████████████████████████████████████████████████████████████████████████████| 1/1 [00:00<00:00,  1.03it/s]\n"
     ]
    },
    {
     "name": "stdout",
     "output_type": "stream",
     "text": [
      "Iter 10 - Epoch 0 - Client Type: Benign - Client Number 16 - Poison Training False\n"
     ]
    },
    {
     "name": "stderr",
     "output_type": "stream",
     "text": [
      "100%|████████████████████████████████████████████████████████████████████████████████████| 1/1 [00:00<00:00,  1.10it/s]\n"
     ]
    },
    {
     "name": "stdout",
     "output_type": "stream",
     "text": [
      "Iter 10 - Epoch 0 - Client Type: Benign - Client Number 17 - Poison Training False\n"
     ]
    },
    {
     "name": "stderr",
     "output_type": "stream",
     "text": [
      "100%|████████████████████████████████████████████████████████████████████████████████████| 2/2 [00:01<00:00,  1.29it/s]\n"
     ]
    },
    {
     "name": "stdout",
     "output_type": "stream",
     "text": [
      "Iter 10 - Epoch 0 - Client Type: Benign - Client Number 18 - Poison Training False\n"
     ]
    },
    {
     "name": "stderr",
     "output_type": "stream",
     "text": [
      "100%|████████████████████████████████████████████████████████████████████████████████████| 1/1 [00:00<00:00,  1.06it/s]\n"
     ]
    },
    {
     "name": "stdout",
     "output_type": "stream",
     "text": [
      "Iter 10 - Epoch 0 - Client Type: Benign - Client Number 19 - Poison Training False\n"
     ]
    },
    {
     "name": "stderr",
     "output_type": "stream",
     "text": [
      "100%|████████████████████████████████████████████████████████████████████████████████████| 2/2 [00:01<00:00,  1.65it/s]\n"
     ]
    },
    {
     "name": "stdout",
     "output_type": "stream",
     "text": [
      "\n",
      "\n",
      " Entering epoch 1\n",
      "Iter 10 - Epoch 0 - Client Type: Benign - Client Number 0 - Poison Training False\n"
     ]
    },
    {
     "name": "stderr",
     "output_type": "stream",
     "text": [
      "100%|████████████████████████████████████████████████████████████████████████████████████| 1/1 [00:00<00:00,  1.06it/s]\n"
     ]
    },
    {
     "name": "stdout",
     "output_type": "stream",
     "text": [
      "Iter 10 - Epoch 0 - Client Type: Benign - Client Number 1 - Poison Training False\n"
     ]
    },
    {
     "name": "stderr",
     "output_type": "stream",
     "text": [
      "100%|████████████████████████████████████████████████████████████████████████████████████| 1/1 [00:00<00:00,  1.14it/s]\n"
     ]
    },
    {
     "name": "stdout",
     "output_type": "stream",
     "text": [
      "Iter 10 - Epoch 0 - Client Type: Benign - Client Number 2 - Poison Training False\n"
     ]
    },
    {
     "name": "stderr",
     "output_type": "stream",
     "text": [
      "100%|████████████████████████████████████████████████████████████████████████████████████| 2/2 [00:01<00:00,  1.50it/s]\n"
     ]
    },
    {
     "name": "stdout",
     "output_type": "stream",
     "text": [
      "Iter 10 - Epoch 0 - Client Type: Benign - Client Number 3 - Poison Training False\n"
     ]
    },
    {
     "name": "stderr",
     "output_type": "stream",
     "text": [
      "100%|████████████████████████████████████████████████████████████████████████████████████| 1/1 [00:00<00:00,  1.09it/s]\n"
     ]
    },
    {
     "name": "stdout",
     "output_type": "stream",
     "text": [
      "Iter 10 - Epoch 0 - Client Type: Benign - Client Number 4 - Poison Training False\n"
     ]
    },
    {
     "name": "stderr",
     "output_type": "stream",
     "text": [
      "100%|████████████████████████████████████████████████████████████████████████████████████| 1/1 [00:00<00:00,  1.23it/s]\n"
     ]
    },
    {
     "name": "stdout",
     "output_type": "stream",
     "text": [
      "Iter 10 - Epoch 0 - Client Type: Benign - Client Number 5 - Poison Training False\n"
     ]
    },
    {
     "name": "stderr",
     "output_type": "stream",
     "text": [
      "100%|████████████████████████████████████████████████████████████████████████████████████| 1/1 [00:01<00:00,  1.00s/it]\n"
     ]
    },
    {
     "name": "stdout",
     "output_type": "stream",
     "text": [
      "Iter 10 - Epoch 0 - Client Type: Benign - Client Number 6 - Poison Training False\n"
     ]
    },
    {
     "name": "stderr",
     "output_type": "stream",
     "text": [
      "100%|████████████████████████████████████████████████████████████████████████████████████| 1/1 [00:00<00:00,  1.08it/s]\n"
     ]
    },
    {
     "name": "stdout",
     "output_type": "stream",
     "text": [
      "Iter 10 - Epoch 0 - Client Type: Benign - Client Number 7 - Poison Training False\n"
     ]
    },
    {
     "name": "stderr",
     "output_type": "stream",
     "text": [
      "100%|████████████████████████████████████████████████████████████████████████████████████| 1/1 [00:01<00:00,  1.07s/it]\n"
     ]
    },
    {
     "name": "stdout",
     "output_type": "stream",
     "text": [
      "Iter 10 - Epoch 0 - Client Type: Benign - Client Number 8 - Poison Training False\n"
     ]
    },
    {
     "name": "stderr",
     "output_type": "stream",
     "text": [
      "100%|████████████████████████████████████████████████████████████████████████████████████| 2/2 [00:01<00:00,  1.65it/s]\n"
     ]
    },
    {
     "name": "stdout",
     "output_type": "stream",
     "text": [
      "Iter 10 - Epoch 0 - Client Type: Benign - Client Number 9 - Poison Training False\n"
     ]
    },
    {
     "name": "stderr",
     "output_type": "stream",
     "text": [
      "100%|████████████████████████████████████████████████████████████████████████████████████| 1/1 [00:01<00:00,  1.14s/it]\n"
     ]
    },
    {
     "name": "stdout",
     "output_type": "stream",
     "text": [
      "Iter 10 - Epoch 0 - Client Type: Benign - Client Number 10 - Poison Training False\n"
     ]
    },
    {
     "name": "stderr",
     "output_type": "stream",
     "text": [
      "100%|████████████████████████████████████████████████████████████████████████████████████| 2/2 [00:01<00:00,  1.67it/s]\n"
     ]
    },
    {
     "name": "stdout",
     "output_type": "stream",
     "text": [
      "Iter 10 - Epoch 0 - Client Type: Benign - Client Number 11 - Poison Training False\n"
     ]
    },
    {
     "name": "stderr",
     "output_type": "stream",
     "text": [
      "100%|████████████████████████████████████████████████████████████████████████████████████| 2/2 [00:01<00:00,  1.69it/s]\n"
     ]
    },
    {
     "name": "stdout",
     "output_type": "stream",
     "text": [
      "Iter 10 - Epoch 0 - Client Type: Benign - Client Number 12 - Poison Training False\n"
     ]
    },
    {
     "name": "stderr",
     "output_type": "stream",
     "text": [
      "100%|████████████████████████████████████████████████████████████████████████████████████| 1/1 [00:00<00:00,  1.35it/s]\n"
     ]
    },
    {
     "name": "stdout",
     "output_type": "stream",
     "text": [
      "Iter 10 - Epoch 0 - Client Type: Benign - Client Number 13 - Poison Training False\n"
     ]
    },
    {
     "name": "stderr",
     "output_type": "stream",
     "text": [
      "100%|████████████████████████████████████████████████████████████████████████████████████| 2/2 [00:01<00:00,  1.73it/s]\n"
     ]
    },
    {
     "name": "stdout",
     "output_type": "stream",
     "text": [
      "Iter 10 - Epoch 0 - Client Type: Benign - Client Number 14 - Poison Training False\n"
     ]
    },
    {
     "name": "stderr",
     "output_type": "stream",
     "text": [
      "100%|████████████████████████████████████████████████████████████████████████████████████| 2/2 [00:01<00:00,  1.89it/s]\n"
     ]
    },
    {
     "name": "stdout",
     "output_type": "stream",
     "text": [
      "Iter 10 - Epoch 0 - Client Type: Benign - Client Number 15 - Poison Training False\n"
     ]
    },
    {
     "name": "stderr",
     "output_type": "stream",
     "text": [
      "100%|████████████████████████████████████████████████████████████████████████████████████| 1/1 [00:00<00:00,  1.01it/s]\n"
     ]
    },
    {
     "name": "stdout",
     "output_type": "stream",
     "text": [
      "Iter 10 - Epoch 0 - Client Type: Benign - Client Number 16 - Poison Training False\n"
     ]
    },
    {
     "name": "stderr",
     "output_type": "stream",
     "text": [
      "100%|████████████████████████████████████████████████████████████████████████████████████| 1/1 [00:00<00:00,  1.04it/s]\n"
     ]
    },
    {
     "name": "stdout",
     "output_type": "stream",
     "text": [
      "Iter 10 - Epoch 0 - Client Type: Benign - Client Number 17 - Poison Training False\n"
     ]
    },
    {
     "name": "stderr",
     "output_type": "stream",
     "text": [
      "100%|████████████████████████████████████████████████████████████████████████████████████| 2/2 [00:01<00:00,  1.37it/s]\n"
     ]
    },
    {
     "name": "stdout",
     "output_type": "stream",
     "text": [
      "Iter 10 - Epoch 0 - Client Type: Benign - Client Number 18 - Poison Training False\n"
     ]
    },
    {
     "name": "stderr",
     "output_type": "stream",
     "text": [
      "100%|████████████████████████████████████████████████████████████████████████████████████| 1/1 [00:01<00:00,  1.08s/it]\n"
     ]
    },
    {
     "name": "stdout",
     "output_type": "stream",
     "text": [
      "Iter 10 - Epoch 0 - Client Type: Benign - Client Number 19 - Poison Training False\n"
     ]
    },
    {
     "name": "stderr",
     "output_type": "stream",
     "text": [
      "100%|████████████████████████████████████████████████████████████████████████████████████| 2/2 [00:01<00:00,  1.67it/s]\n"
     ]
    },
    {
     "name": "stdout",
     "output_type": "stream",
     "text": [
      "\n",
      "\n",
      " Entering epoch 2\n",
      "Iter 10 - Epoch 0 - Client Type: Benign - Client Number 0 - Poison Training False\n"
     ]
    },
    {
     "name": "stderr",
     "output_type": "stream",
     "text": [
      "100%|████████████████████████████████████████████████████████████████████████████████████| 1/1 [00:01<00:00,  1.07s/it]\n"
     ]
    },
    {
     "name": "stdout",
     "output_type": "stream",
     "text": [
      "Iter 10 - Epoch 0 - Client Type: Benign - Client Number 1 - Poison Training False\n"
     ]
    },
    {
     "name": "stderr",
     "output_type": "stream",
     "text": [
      "100%|████████████████████████████████████████████████████████████████████████████████████| 1/1 [00:00<00:00,  1.21it/s]\n"
     ]
    },
    {
     "name": "stdout",
     "output_type": "stream",
     "text": [
      "Iter 10 - Epoch 0 - Client Type: Benign - Client Number 2 - Poison Training False\n"
     ]
    },
    {
     "name": "stderr",
     "output_type": "stream",
     "text": [
      "100%|████████████████████████████████████████████████████████████████████████████████████| 2/2 [00:01<00:00,  1.42it/s]\n"
     ]
    },
    {
     "name": "stdout",
     "output_type": "stream",
     "text": [
      "Iter 10 - Epoch 0 - Client Type: Benign - Client Number 3 - Poison Training False\n"
     ]
    },
    {
     "name": "stderr",
     "output_type": "stream",
     "text": [
      "100%|████████████████████████████████████████████████████████████████████████████████████| 1/1 [00:00<00:00,  1.14it/s]\n"
     ]
    },
    {
     "name": "stdout",
     "output_type": "stream",
     "text": [
      "Iter 10 - Epoch 0 - Client Type: Benign - Client Number 4 - Poison Training False\n"
     ]
    },
    {
     "name": "stderr",
     "output_type": "stream",
     "text": [
      "100%|████████████████████████████████████████████████████████████████████████████████████| 1/1 [00:00<00:00,  1.16it/s]\n"
     ]
    },
    {
     "name": "stdout",
     "output_type": "stream",
     "text": [
      "Iter 10 - Epoch 0 - Client Type: Benign - Client Number 5 - Poison Training False\n"
     ]
    },
    {
     "name": "stderr",
     "output_type": "stream",
     "text": [
      "100%|████████████████████████████████████████████████████████████████████████████████████| 1/1 [00:01<00:00,  1.02s/it]\n"
     ]
    },
    {
     "name": "stdout",
     "output_type": "stream",
     "text": [
      "Iter 10 - Epoch 0 - Client Type: Benign - Client Number 6 - Poison Training False\n"
     ]
    },
    {
     "name": "stderr",
     "output_type": "stream",
     "text": [
      "100%|████████████████████████████████████████████████████████████████████████████████████| 1/1 [00:00<00:00,  1.06it/s]\n"
     ]
    },
    {
     "name": "stdout",
     "output_type": "stream",
     "text": [
      "Iter 10 - Epoch 0 - Client Type: Benign - Client Number 7 - Poison Training False\n"
     ]
    },
    {
     "name": "stderr",
     "output_type": "stream",
     "text": [
      "100%|████████████████████████████████████████████████████████████████████████████████████| 1/1 [00:00<00:00,  1.01it/s]\n"
     ]
    },
    {
     "name": "stdout",
     "output_type": "stream",
     "text": [
      "Iter 10 - Epoch 0 - Client Type: Benign - Client Number 8 - Poison Training False\n"
     ]
    },
    {
     "name": "stderr",
     "output_type": "stream",
     "text": [
      "100%|████████████████████████████████████████████████████████████████████████████████████| 2/2 [00:01<00:00,  1.84it/s]\n"
     ]
    },
    {
     "name": "stdout",
     "output_type": "stream",
     "text": [
      "Iter 10 - Epoch 0 - Client Type: Benign - Client Number 9 - Poison Training False\n"
     ]
    },
    {
     "name": "stderr",
     "output_type": "stream",
     "text": [
      "100%|████████████████████████████████████████████████████████████████████████████████████| 1/1 [00:00<00:00,  1.02it/s]\n"
     ]
    },
    {
     "name": "stdout",
     "output_type": "stream",
     "text": [
      "Iter 10 - Epoch 0 - Client Type: Benign - Client Number 10 - Poison Training False\n"
     ]
    },
    {
     "name": "stderr",
     "output_type": "stream",
     "text": [
      "100%|████████████████████████████████████████████████████████████████████████████████████| 2/2 [00:01<00:00,  1.87it/s]\n"
     ]
    },
    {
     "name": "stdout",
     "output_type": "stream",
     "text": [
      "Iter 10 - Epoch 0 - Client Type: Benign - Client Number 11 - Poison Training False\n"
     ]
    },
    {
     "name": "stderr",
     "output_type": "stream",
     "text": [
      "100%|████████████████████████████████████████████████████████████████████████████████████| 2/2 [00:01<00:00,  1.80it/s]\n"
     ]
    },
    {
     "name": "stdout",
     "output_type": "stream",
     "text": [
      "Iter 10 - Epoch 0 - Client Type: Benign - Client Number 12 - Poison Training False\n"
     ]
    },
    {
     "name": "stderr",
     "output_type": "stream",
     "text": [
      "100%|████████████████████████████████████████████████████████████████████████████████████| 1/1 [00:00<00:00,  1.58it/s]\n"
     ]
    },
    {
     "name": "stdout",
     "output_type": "stream",
     "text": [
      "Iter 10 - Epoch 0 - Client Type: Benign - Client Number 13 - Poison Training False\n"
     ]
    },
    {
     "name": "stderr",
     "output_type": "stream",
     "text": [
      "100%|████████████████████████████████████████████████████████████████████████████████████| 2/2 [00:01<00:00,  1.76it/s]\n"
     ]
    },
    {
     "name": "stdout",
     "output_type": "stream",
     "text": [
      "Iter 10 - Epoch 0 - Client Type: Benign - Client Number 14 - Poison Training False\n"
     ]
    },
    {
     "name": "stderr",
     "output_type": "stream",
     "text": [
      "100%|████████████████████████████████████████████████████████████████████████████████████| 2/2 [00:01<00:00,  1.82it/s]\n"
     ]
    },
    {
     "name": "stdout",
     "output_type": "stream",
     "text": [
      "Iter 10 - Epoch 0 - Client Type: Benign - Client Number 15 - Poison Training False\n"
     ]
    },
    {
     "name": "stderr",
     "output_type": "stream",
     "text": [
      "100%|████████████████████████████████████████████████████████████████████████████████████| 1/1 [00:01<00:00,  1.00s/it]\n"
     ]
    },
    {
     "name": "stdout",
     "output_type": "stream",
     "text": [
      "Iter 10 - Epoch 0 - Client Type: Benign - Client Number 16 - Poison Training False\n"
     ]
    },
    {
     "name": "stderr",
     "output_type": "stream",
     "text": [
      "100%|████████████████████████████████████████████████████████████████████████████████████| 1/1 [00:00<00:00,  1.06it/s]\n"
     ]
    },
    {
     "name": "stdout",
     "output_type": "stream",
     "text": [
      "Iter 10 - Epoch 0 - Client Type: Benign - Client Number 17 - Poison Training False\n"
     ]
    },
    {
     "name": "stderr",
     "output_type": "stream",
     "text": [
      "100%|████████████████████████████████████████████████████████████████████████████████████| 2/2 [00:01<00:00,  1.35it/s]\n"
     ]
    },
    {
     "name": "stdout",
     "output_type": "stream",
     "text": [
      "Iter 10 - Epoch 0 - Client Type: Benign - Client Number 18 - Poison Training False\n"
     ]
    },
    {
     "name": "stderr",
     "output_type": "stream",
     "text": [
      "100%|████████████████████████████████████████████████████████████████████████████████████| 1/1 [00:00<00:00,  1.08it/s]\n"
     ]
    },
    {
     "name": "stdout",
     "output_type": "stream",
     "text": [
      "Iter 10 - Epoch 0 - Client Type: Benign - Client Number 19 - Poison Training False\n"
     ]
    },
    {
     "name": "stderr",
     "output_type": "stream",
     "text": [
      "100%|████████████████████████████████████████████████████████████████████████████████████| 2/2 [00:01<00:00,  1.59it/s]\n"
     ]
    },
    {
     "name": "stdout",
     "output_type": "stream",
     "text": [
      "\n",
      "\n",
      " Entering epoch 3\n",
      "Iter 10 - Epoch 0 - Client Type: Benign - Client Number 0 - Poison Training False\n"
     ]
    },
    {
     "name": "stderr",
     "output_type": "stream",
     "text": [
      "100%|████████████████████████████████████████████████████████████████████████████████████| 1/1 [00:00<00:00,  1.06it/s]\n"
     ]
    },
    {
     "name": "stdout",
     "output_type": "stream",
     "text": [
      "Iter 10 - Epoch 0 - Client Type: Benign - Client Number 1 - Poison Training False\n"
     ]
    },
    {
     "name": "stderr",
     "output_type": "stream",
     "text": [
      "100%|████████████████████████████████████████████████████████████████████████████████████| 1/1 [00:00<00:00,  1.20it/s]\n"
     ]
    },
    {
     "name": "stdout",
     "output_type": "stream",
     "text": [
      "Iter 10 - Epoch 0 - Client Type: Benign - Client Number 2 - Poison Training False\n"
     ]
    },
    {
     "name": "stderr",
     "output_type": "stream",
     "text": [
      "100%|████████████████████████████████████████████████████████████████████████████████████| 2/2 [00:01<00:00,  1.41it/s]\n"
     ]
    },
    {
     "name": "stdout",
     "output_type": "stream",
     "text": [
      "Iter 10 - Epoch 0 - Client Type: Benign - Client Number 3 - Poison Training False\n"
     ]
    },
    {
     "name": "stderr",
     "output_type": "stream",
     "text": [
      "100%|████████████████████████████████████████████████████████████████████████████████████| 1/1 [00:00<00:00,  1.09it/s]\n"
     ]
    },
    {
     "name": "stdout",
     "output_type": "stream",
     "text": [
      "Iter 10 - Epoch 0 - Client Type: Benign - Client Number 4 - Poison Training False\n"
     ]
    },
    {
     "name": "stderr",
     "output_type": "stream",
     "text": [
      "100%|████████████████████████████████████████████████████████████████████████████████████| 1/1 [00:00<00:00,  1.14it/s]\n"
     ]
    },
    {
     "name": "stdout",
     "output_type": "stream",
     "text": [
      "Iter 10 - Epoch 0 - Client Type: Benign - Client Number 5 - Poison Training False\n"
     ]
    },
    {
     "name": "stderr",
     "output_type": "stream",
     "text": [
      "100%|████████████████████████████████████████████████████████████████████████████████████| 1/1 [00:00<00:00,  1.08it/s]\n"
     ]
    },
    {
     "name": "stdout",
     "output_type": "stream",
     "text": [
      "Iter 10 - Epoch 0 - Client Type: Benign - Client Number 6 - Poison Training False\n"
     ]
    },
    {
     "name": "stderr",
     "output_type": "stream",
     "text": [
      "100%|████████████████████████████████████████████████████████████████████████████████████| 1/1 [00:00<00:00,  1.08it/s]\n"
     ]
    },
    {
     "name": "stdout",
     "output_type": "stream",
     "text": [
      "Iter 10 - Epoch 0 - Client Type: Benign - Client Number 7 - Poison Training False\n"
     ]
    },
    {
     "name": "stderr",
     "output_type": "stream",
     "text": [
      "100%|████████████████████████████████████████████████████████████████████████████████████| 1/1 [00:00<00:00,  1.04it/s]\n"
     ]
    },
    {
     "name": "stdout",
     "output_type": "stream",
     "text": [
      "Iter 10 - Epoch 0 - Client Type: Benign - Client Number 8 - Poison Training False\n"
     ]
    },
    {
     "name": "stderr",
     "output_type": "stream",
     "text": [
      "100%|████████████████████████████████████████████████████████████████████████████████████| 2/2 [00:01<00:00,  1.86it/s]\n"
     ]
    },
    {
     "name": "stdout",
     "output_type": "stream",
     "text": [
      "Iter 10 - Epoch 0 - Client Type: Benign - Client Number 9 - Poison Training False\n"
     ]
    },
    {
     "name": "stderr",
     "output_type": "stream",
     "text": [
      "100%|████████████████████████████████████████████████████████████████████████████████████| 1/1 [00:00<00:00,  1.06it/s]\n"
     ]
    },
    {
     "name": "stdout",
     "output_type": "stream",
     "text": [
      "Iter 10 - Epoch 0 - Client Type: Benign - Client Number 10 - Poison Training False\n"
     ]
    },
    {
     "name": "stderr",
     "output_type": "stream",
     "text": [
      "100%|████████████████████████████████████████████████████████████████████████████████████| 2/2 [00:01<00:00,  1.76it/s]\n"
     ]
    },
    {
     "name": "stdout",
     "output_type": "stream",
     "text": [
      "Iter 10 - Epoch 0 - Client Type: Benign - Client Number 11 - Poison Training False\n"
     ]
    },
    {
     "name": "stderr",
     "output_type": "stream",
     "text": [
      "100%|████████████████████████████████████████████████████████████████████████████████████| 2/2 [00:01<00:00,  1.82it/s]\n"
     ]
    },
    {
     "name": "stdout",
     "output_type": "stream",
     "text": [
      "Iter 10 - Epoch 0 - Client Type: Benign - Client Number 12 - Poison Training False\n"
     ]
    },
    {
     "name": "stderr",
     "output_type": "stream",
     "text": [
      "100%|████████████████████████████████████████████████████████████████████████████████████| 1/1 [00:00<00:00,  1.61it/s]\n"
     ]
    },
    {
     "name": "stdout",
     "output_type": "stream",
     "text": [
      "Iter 10 - Epoch 0 - Client Type: Benign - Client Number 13 - Poison Training False\n"
     ]
    },
    {
     "name": "stderr",
     "output_type": "stream",
     "text": [
      "100%|████████████████████████████████████████████████████████████████████████████████████| 2/2 [00:01<00:00,  1.82it/s]\n"
     ]
    },
    {
     "name": "stdout",
     "output_type": "stream",
     "text": [
      "Iter 10 - Epoch 0 - Client Type: Benign - Client Number 14 - Poison Training False\n"
     ]
    },
    {
     "name": "stderr",
     "output_type": "stream",
     "text": [
      "100%|████████████████████████████████████████████████████████████████████████████████████| 2/2 [00:01<00:00,  1.83it/s]\n"
     ]
    },
    {
     "name": "stdout",
     "output_type": "stream",
     "text": [
      "Iter 10 - Epoch 0 - Client Type: Benign - Client Number 15 - Poison Training False\n"
     ]
    },
    {
     "name": "stderr",
     "output_type": "stream",
     "text": [
      "100%|████████████████████████████████████████████████████████████████████████████████████| 1/1 [00:00<00:00,  1.02it/s]\n"
     ]
    },
    {
     "name": "stdout",
     "output_type": "stream",
     "text": [
      "Iter 10 - Epoch 0 - Client Type: Benign - Client Number 16 - Poison Training False\n"
     ]
    },
    {
     "name": "stderr",
     "output_type": "stream",
     "text": [
      "100%|████████████████████████████████████████████████████████████████████████████████████| 1/1 [00:00<00:00,  1.14it/s]\n"
     ]
    },
    {
     "name": "stdout",
     "output_type": "stream",
     "text": [
      "Iter 10 - Epoch 0 - Client Type: Benign - Client Number 17 - Poison Training False\n"
     ]
    },
    {
     "name": "stderr",
     "output_type": "stream",
     "text": [
      "100%|████████████████████████████████████████████████████████████████████████████████████| 2/2 [00:01<00:00,  1.29it/s]\n"
     ]
    },
    {
     "name": "stdout",
     "output_type": "stream",
     "text": [
      "Iter 10 - Epoch 0 - Client Type: Benign - Client Number 18 - Poison Training False\n"
     ]
    },
    {
     "name": "stderr",
     "output_type": "stream",
     "text": [
      "100%|████████████████████████████████████████████████████████████████████████████████████| 1/1 [00:01<00:00,  1.04s/it]\n"
     ]
    },
    {
     "name": "stdout",
     "output_type": "stream",
     "text": [
      "Iter 10 - Epoch 0 - Client Type: Benign - Client Number 19 - Poison Training False\n"
     ]
    },
    {
     "name": "stderr",
     "output_type": "stream",
     "text": [
      "100%|████████████████████████████████████████████████████████████████████████████████████| 2/2 [00:01<00:00,  1.63it/s]\n"
     ]
    },
    {
     "name": "stdout",
     "output_type": "stream",
     "text": [
      "\n",
      "\n",
      " Entering epoch 4\n",
      "Iter 10 - Epoch 0 - Client Type: Benign - Client Number 0 - Poison Training False\n"
     ]
    },
    {
     "name": "stderr",
     "output_type": "stream",
     "text": [
      "100%|████████████████████████████████████████████████████████████████████████████████████| 1/1 [00:00<00:00,  1.01it/s]\n"
     ]
    },
    {
     "name": "stdout",
     "output_type": "stream",
     "text": [
      "Iter 10 - Epoch 0 - Client Type: Benign - Client Number 1 - Poison Training False\n"
     ]
    },
    {
     "name": "stderr",
     "output_type": "stream",
     "text": [
      "100%|████████████████████████████████████████████████████████████████████████████████████| 1/1 [00:00<00:00,  1.09it/s]\n"
     ]
    },
    {
     "name": "stdout",
     "output_type": "stream",
     "text": [
      "Iter 10 - Epoch 0 - Client Type: Benign - Client Number 2 - Poison Training False\n"
     ]
    },
    {
     "name": "stderr",
     "output_type": "stream",
     "text": [
      "100%|████████████████████████████████████████████████████████████████████████████████████| 2/2 [00:01<00:00,  1.38it/s]\n"
     ]
    },
    {
     "name": "stdout",
     "output_type": "stream",
     "text": [
      "Iter 10 - Epoch 0 - Client Type: Benign - Client Number 3 - Poison Training False\n"
     ]
    },
    {
     "name": "stderr",
     "output_type": "stream",
     "text": [
      "100%|████████████████████████████████████████████████████████████████████████████████████| 1/1 [00:00<00:00,  1.01it/s]\n"
     ]
    },
    {
     "name": "stdout",
     "output_type": "stream",
     "text": [
      "Iter 10 - Epoch 0 - Client Type: Benign - Client Number 4 - Poison Training False\n"
     ]
    },
    {
     "name": "stderr",
     "output_type": "stream",
     "text": [
      "100%|████████████████████████████████████████████████████████████████████████████████████| 1/1 [00:00<00:00,  1.24it/s]\n"
     ]
    },
    {
     "name": "stdout",
     "output_type": "stream",
     "text": [
      "Iter 10 - Epoch 0 - Client Type: Benign - Client Number 5 - Poison Training False\n"
     ]
    },
    {
     "name": "stderr",
     "output_type": "stream",
     "text": [
      "100%|████████████████████████████████████████████████████████████████████████████████████| 1/1 [00:01<00:00,  1.13s/it]\n"
     ]
    },
    {
     "name": "stdout",
     "output_type": "stream",
     "text": [
      "Iter 10 - Epoch 0 - Client Type: Benign - Client Number 6 - Poison Training False\n"
     ]
    },
    {
     "name": "stderr",
     "output_type": "stream",
     "text": [
      "100%|████████████████████████████████████████████████████████████████████████████████████| 1/1 [00:00<00:00,  1.02it/s]\n"
     ]
    },
    {
     "name": "stdout",
     "output_type": "stream",
     "text": [
      "Iter 10 - Epoch 0 - Client Type: Benign - Client Number 7 - Poison Training False\n"
     ]
    },
    {
     "name": "stderr",
     "output_type": "stream",
     "text": [
      "100%|████████████████████████████████████████████████████████████████████████████████████| 1/1 [00:01<00:00,  1.09s/it]\n"
     ]
    },
    {
     "name": "stdout",
     "output_type": "stream",
     "text": [
      "Iter 10 - Epoch 0 - Client Type: Benign - Client Number 8 - Poison Training False\n"
     ]
    },
    {
     "name": "stderr",
     "output_type": "stream",
     "text": [
      "100%|████████████████████████████████████████████████████████████████████████████████████| 2/2 [00:01<00:00,  1.53it/s]\n"
     ]
    },
    {
     "name": "stdout",
     "output_type": "stream",
     "text": [
      "Iter 10 - Epoch 0 - Client Type: Benign - Client Number 9 - Poison Training False\n"
     ]
    },
    {
     "name": "stderr",
     "output_type": "stream",
     "text": [
      "100%|████████████████████████████████████████████████████████████████████████████████████| 1/1 [00:01<00:00,  1.11s/it]\n"
     ]
    },
    {
     "name": "stdout",
     "output_type": "stream",
     "text": [
      "Iter 10 - Epoch 0 - Client Type: Benign - Client Number 10 - Poison Training False\n"
     ]
    },
    {
     "name": "stderr",
     "output_type": "stream",
     "text": [
      "100%|████████████████████████████████████████████████████████████████████████████████████| 2/2 [00:01<00:00,  1.73it/s]\n"
     ]
    },
    {
     "name": "stdout",
     "output_type": "stream",
     "text": [
      "Iter 10 - Epoch 0 - Client Type: Benign - Client Number 11 - Poison Training False\n"
     ]
    },
    {
     "name": "stderr",
     "output_type": "stream",
     "text": [
      "100%|████████████████████████████████████████████████████████████████████████████████████| 2/2 [00:01<00:00,  1.47it/s]\n"
     ]
    },
    {
     "name": "stdout",
     "output_type": "stream",
     "text": [
      "Iter 10 - Epoch 0 - Client Type: Benign - Client Number 12 - Poison Training False\n"
     ]
    },
    {
     "name": "stderr",
     "output_type": "stream",
     "text": [
      "100%|████████████████████████████████████████████████████████████████████████████████████| 1/1 [00:00<00:00,  1.38it/s]\n"
     ]
    },
    {
     "name": "stdout",
     "output_type": "stream",
     "text": [
      "Iter 10 - Epoch 0 - Client Type: Benign - Client Number 13 - Poison Training False\n"
     ]
    },
    {
     "name": "stderr",
     "output_type": "stream",
     "text": [
      "100%|████████████████████████████████████████████████████████████████████████████████████| 2/2 [00:01<00:00,  1.50it/s]\n"
     ]
    },
    {
     "name": "stdout",
     "output_type": "stream",
     "text": [
      "Iter 10 - Epoch 0 - Client Type: Benign - Client Number 14 - Poison Training False\n"
     ]
    },
    {
     "name": "stderr",
     "output_type": "stream",
     "text": [
      "100%|████████████████████████████████████████████████████████████████████████████████████| 2/2 [00:01<00:00,  1.46it/s]\n"
     ]
    },
    {
     "name": "stdout",
     "output_type": "stream",
     "text": [
      "Iter 10 - Epoch 0 - Client Type: Benign - Client Number 15 - Poison Training False\n"
     ]
    },
    {
     "name": "stderr",
     "output_type": "stream",
     "text": [
      "100%|████████████████████████████████████████████████████████████████████████████████████| 1/1 [00:01<00:00,  1.18s/it]\n"
     ]
    },
    {
     "name": "stdout",
     "output_type": "stream",
     "text": [
      "Iter 10 - Epoch 0 - Client Type: Benign - Client Number 16 - Poison Training False\n"
     ]
    },
    {
     "name": "stderr",
     "output_type": "stream",
     "text": [
      "100%|████████████████████████████████████████████████████████████████████████████████████| 1/1 [00:01<00:00,  1.04s/it]\n"
     ]
    },
    {
     "name": "stdout",
     "output_type": "stream",
     "text": [
      "Iter 10 - Epoch 0 - Client Type: Benign - Client Number 17 - Poison Training False\n"
     ]
    },
    {
     "name": "stderr",
     "output_type": "stream",
     "text": [
      "100%|████████████████████████████████████████████████████████████████████████████████████| 2/2 [00:01<00:00,  1.13it/s]\n"
     ]
    },
    {
     "name": "stdout",
     "output_type": "stream",
     "text": [
      "Iter 10 - Epoch 0 - Client Type: Benign - Client Number 18 - Poison Training False\n"
     ]
    },
    {
     "name": "stderr",
     "output_type": "stream",
     "text": [
      "100%|████████████████████████████████████████████████████████████████████████████████████| 1/1 [00:01<00:00,  1.04s/it]\n"
     ]
    },
    {
     "name": "stdout",
     "output_type": "stream",
     "text": [
      "Iter 10 - Epoch 0 - Client Type: Benign - Client Number 19 - Poison Training False\n"
     ]
    },
    {
     "name": "stderr",
     "output_type": "stream",
     "text": [
      "100%|████████████████████████████████████████████████████████████████████████████████████| 2/2 [00:01<00:00,  1.53it/s]\n"
     ]
    },
    {
     "name": "stdout",
     "output_type": "stream",
     "text": [
      "Original Copylist [7, 2, 5, 3, 2, 7, 3, 7, 0, 7, 0, 0, 4, 0, 0, 7, 3, 1, 7, 6]\n",
      "Found clusters [1 2 1 7 2 1 7 1 0 1 0 0 6 3 3 1 7 4 1 5]\n",
      "Original groups [array([ 8, 10, 11, 13, 14], dtype=int64), array([17], dtype=int64), array([1, 4], dtype=int64), array([ 3,  6, 16], dtype=int64), array([12], dtype=int64), array([2], dtype=int64), array([19], dtype=int64), array([ 0,  5,  7,  9, 15, 18], dtype=int64)]\n",
      "Clustered groups [array([ 8, 10, 11], dtype=int64), array([ 0,  2,  5,  7,  9, 15, 18], dtype=int64), array([1, 4], dtype=int64), array([13, 14], dtype=int64), array([17], dtype=int64), array([19], dtype=int64), array([12], dtype=int64), array([ 3,  6, 16], dtype=int64)]\n",
      "Clustering score 0.7558363675305204\n",
      "11\n",
      "[[ 1.00000505 -0.28880085  0.6190372   0.10848454 -0.29159405  0.89919077\n",
      "   0.11389326  0.95018833  0.19611325  0.90051558 -0.01980994  0.2094146\n",
      "   0.50750881  0.17615415  0.22153398  0.92879444  0.06536352  0.07452114\n",
      "   0.91186115  0.17877688]\n",
      " [-0.28880085  1.00001159 -0.07183203  0.35198017  0.97948064 -0.22024015\n",
      "   0.33287643 -0.2769232   0.15869565 -0.23111411  0.25184489  0.1761354\n",
      "   0.02347649  0.2120974   0.18776697 -0.25019037  0.41332965  0.19322804\n",
      "  -0.24254468  0.17794465]\n",
      " [ 0.61903722 -0.07183203  1.0000037   0.17669064 -0.07806392  0.53837258\n",
      "   0.19168076  0.5896873   0.32559853  0.56366914  0.20406507  0.31039908\n",
      "   0.21700896  0.33365144  0.31446279  0.55443201  0.16386112  0.41816758\n",
      "   0.55650331  0.24363784]\n",
      " [ 0.10848454  0.35198017  0.17669065  1.00000265  0.34947461  0.10593092\n",
      "   0.96710203  0.11941308  0.31062804  0.12521484  0.25262784  0.28165639\n",
      "   0.05519342  0.27184073  0.33146139  0.11905854  0.95415957  0.14486145\n",
      "   0.09881444  0.31560254]\n",
      " [-0.29159405  0.97948061 -0.07806392  0.3494746   1.0000098  -0.21602484\n",
      "   0.32017936 -0.27928638  0.15880745 -0.23224295  0.25649253  0.17153152\n",
      "   0.01798647  0.1976865   0.16412578 -0.25003979  0.40965735  0.18937882\n",
      "  -0.24454438  0.17850607]\n",
      " [ 0.8991908  -0.22024014  0.5383726   0.10593091 -0.21602483  1.00000598\n",
      "   0.09822434  0.92566879  0.13373761  0.94543898 -0.03973153  0.15383484\n",
      "   0.52342563  0.10576253  0.16499586  0.93423468  0.0694652   0.04394291\n",
      "   0.94112681  0.24762077]\n",
      " [ 0.11389327  0.33287644  0.19168075  0.96710204  0.32017937  0.09822434\n",
      "   1.00000603  0.12497483  0.32069818  0.12933401  0.25224855  0.29713634\n",
      "   0.05837984  0.29143992  0.34121265  0.12003931  0.94563078  0.14395572\n",
      "   0.11773659  0.34846557]\n",
      " [ 0.95018834 -0.2769232   0.58968731  0.11941307 -0.27928639  0.92566876\n",
      "   0.12497483  1.0000037   0.173477    0.9372005  -0.03100372  0.20573918\n",
      "   0.52020916  0.15208748  0.21786532  0.94345785  0.07219032  0.04645741\n",
      "   0.93509238  0.20342708]\n",
      " [ 0.19611326  0.15869566  0.32559853  0.31062804  0.15880744  0.13373761\n",
      "   0.32069818  0.173477    1.00000529  0.13674139  0.6410302   0.72927879\n",
      "   0.24698649  0.77035105  0.73032333  0.13776964  0.31982862  0.24242678\n",
      "   0.15648158  0.29336134]\n",
      " [ 0.90051558 -0.23111411  0.56366912  0.12521484 -0.23224295  0.94543898\n",
      "   0.12933402  0.9372005   0.13674139  1.00000572 -0.04411261  0.16820153\n",
      "   0.49752477  0.12311676  0.18458667  0.94269146  0.08756808  0.04353274\n",
      "   0.94118336  0.27102259]\n",
      " [-0.01980994  0.25184489  0.20406507  0.25262784  0.25649253 -0.03973153\n",
      "   0.25224855 -0.03100372  0.64103022 -0.04411261  1.00000544  0.63980572\n",
      "   0.19129846  0.71359257  0.5202098  -0.05012459  0.27147773  0.27548336\n",
      "  -0.03445349  0.21360586]\n",
      " [ 0.2094146   0.17613539  0.31039908  0.2816564   0.17153152  0.15383484\n",
      "   0.29713634  0.20573918  0.7292788   0.16820153  0.6398057   1.00000412\n",
      "   0.30722487  0.74241989  0.71005833  0.16763433  0.31906209  0.2224286\n",
      "   0.1926481   0.25295412]\n",
      " [ 0.50750884  0.0234765   0.21700897  0.05519342  0.01798646  0.52342564\n",
      "   0.05837985  0.52020918  0.24698649  0.49752476  0.19129846  0.30722488\n",
      "   1.00000521  0.2406044   0.20587193  0.52669361  0.04851643  0.10892877\n",
      "   0.53273221  0.13354468]\n",
      " [ 0.17615414  0.21209741  0.33365144  0.27184072  0.19768648  0.10576253\n",
      "   0.29143991  0.15208748  0.77035103  0.12311676  0.71359257  0.74241989\n",
      "   0.2406044   1.00000336  0.76126969  0.11762345  0.28283005  0.29630481\n",
      "   0.13678315  0.24856091]\n",
      " [ 0.22153398  0.18776698  0.31446278  0.33146139  0.16412578  0.16499586\n",
      "   0.34121265  0.21786532  0.73032334  0.18458667  0.52020984  0.71005833\n",
      "   0.20587193  0.7612697   1.00000551  0.16929545  0.33400247  0.19532935\n",
      "   0.18074744  0.25798631]\n",
      " [ 0.92879447 -0.25019037  0.554432    0.11905854 -0.25003978  0.93423467\n",
      "   0.12003931  0.94345787  0.13776965  0.94269143 -0.05012459  0.16763434\n",
      "   0.5266936   0.11762345  0.16929544  1.00000627  0.07474605  0.05874598\n",
      "   0.94608437  0.22244613]\n",
      " [ 0.06536352  0.41332966  0.16386112  0.95415956  0.40965735  0.0694652\n",
      "   0.94563079  0.07219032  0.31982861  0.08756807  0.27147773  0.31906209\n",
      "   0.04851641  0.28283005  0.33400247  0.07474605  1.00000548  0.16652676\n",
      "   0.0665542   0.3052212 ]\n",
      " [ 0.07452114  0.19322803  0.41816758  0.14486145  0.18937883  0.04394291\n",
      "   0.14395572  0.04645741  0.24242677  0.04353274  0.27548336  0.22242861\n",
      "   0.10892877  0.29630481  0.19532934  0.05874598  0.16652676  1.00000818\n",
      "   0.04850485  0.00724779]\n",
      " [ 0.91186116 -0.24254468  0.55650331  0.09881445 -0.24454438  0.94112681\n",
      "   0.11773659  0.93509239  0.15648158  0.94118336 -0.03445349  0.19264811\n",
      "   0.5327322   0.13678315  0.18074744  0.94608437  0.0665542   0.04850485\n",
      "   1.00000632  0.27437857]\n",
      " [ 0.17877688  0.17794464  0.24363784  0.31560255  0.17850607  0.24762077\n",
      "   0.34846557  0.20342708  0.29336134  0.27102258  0.21360585  0.25295412\n",
      "   0.13354468  0.24856091  0.25798631  0.22244613  0.30522121  0.0072478\n",
      "   0.27437856  1.00000352]]\n",
      "Original Copylist [7, 2, 5, 3, 2, 7, 3, 7, 0, 7, 0, 0, 4, 0, 0, 7, 3, 1, 7, 6]\n",
      "Found clusters [0 2 0 3 2 0 3 0 1 0 7 1 5 1 1 0 3 6 0 4]\n",
      "Original groups [array([ 8, 10, 11, 13, 14], dtype=int64), array([17], dtype=int64), array([1, 4], dtype=int64), array([ 3,  6, 16], dtype=int64), array([12], dtype=int64), array([2], dtype=int64), array([19], dtype=int64), array([ 0,  5,  7,  9, 15, 18], dtype=int64)]\n",
      "Clustered groups [array([ 0,  2,  5,  7,  9, 15, 18], dtype=int64), array([ 8, 11, 13, 14], dtype=int64), array([1, 4], dtype=int64), array([ 3,  6, 16], dtype=int64), array([19], dtype=int64), array([12], dtype=int64), array([17], dtype=int64), array([10], dtype=int64)]\n",
      "Clustering score 0.8021245573838783\n",
      "Benign net distance [tensor(32.3982), tensor(53.5099), tensor(35.9116), tensor(31.4079), tensor(48.0320), tensor(31.9511), tensor(31.2154), tensor(31.8130), tensor(32.3841), tensor(31.2488), tensor(35.0677), tensor(37.3905), tensor(34.4670), tensor(34.2462), tensor(44.9090), tensor(31.9849), tensor(31.7962), tensor(71.2717), tensor(31.4770), tensor(0.)]\n",
      "Malicious net distance []\n",
      "cos_sim list  [tensor(0.2456), tensor(0.0001), tensor(0.2730), tensor(0.1663), tensor(-0.0033), tensor(0.2611), tensor(0.1974), tensor(0.2402), tensor(0.2585), tensor(0.2885), tensor(0.1542), tensor(0.1245), tensor(0.1193), tensor(0.2972), tensor(0.1956), tensor(0.2531), tensor(0.1679), tensor(-0.1028), tensor(0.2757), tensor(1.0000)]\n",
      "Norms of local gradients  [tensor(0.2464), tensor(0.5556), tensor(0.3738), tensor(0.2351), tensor(0.4851), tensor(0.2400), tensor(0.2391), tensor(0.2413), tensor(0.3014), tensor(0.2378), tensor(0.3168), tensor(0.3528), tensor(0.2675), tensor(0.3504), tensor(0.5664), tensor(0.2452), tensor(0.2343), tensor(0.6946), tensor(0.2360), tensor(0.3217)]\n",
      "\n",
      " Aggregating models\n",
      "Cosine Similarities:  [tensor(0.2456), tensor(0.0001), tensor(0.2730), tensor(0.1663), tensor(-0.0033), tensor(0.2611), tensor(0.1974), tensor(0.2402), tensor(0.2585), tensor(0.2885), tensor(0.1542), tensor(0.1245), tensor(0.1193), tensor(0.2972), tensor(0.1956), tensor(0.2531), tensor(0.1679), tensor(-0.1028), tensor(0.2757), tensor(1.0000)]\n",
      "Aggregation Weights:  [7.0964843e-02 1.7189974e-05 5.2006453e-02 5.0347745e-02 0.0000000e+00\n",
      " 7.7450268e-02 5.8779620e-02 7.0874706e-02 6.1074831e-02 8.6402208e-02\n",
      " 3.4664512e-02 2.5124386e-02 3.1748369e-02 6.0394119e-02 2.4593176e-02\n",
      " 7.3488519e-02 5.1034458e-02 0.0000000e+00 8.3160922e-02 2.2132504e-01]\n",
      "\n",
      "\n",
      "\n",
      "Aggregate test at iter  10\n"
     ]
    },
    {
     "name": "stderr",
     "output_type": "stream",
     "text": [
      "100%|██████████████████████████████████████████████████████████████████████████████████| 10/10 [00:02<00:00,  4.56it/s]\n"
     ]
    },
    {
     "name": "stdout",
     "output_type": "stream",
     "text": [
      "\n",
      "Test set: Avg. loss: 0.0007, Accuracy: 7344/10000 (73%)\n",
      "\n",
      "\n",
      "\n",
      " Entering epoch 0\n",
      "Iter 11 - Epoch 0 - Client Type: Benign - Client Number 0 - Poison Training False\n"
     ]
    },
    {
     "name": "stderr",
     "output_type": "stream",
     "text": [
      "100%|████████████████████████████████████████████████████████████████████████████████████| 1/1 [00:01<00:00,  1.02s/it]\n"
     ]
    },
    {
     "name": "stdout",
     "output_type": "stream",
     "text": [
      "Iter 11 - Epoch 0 - Client Type: Benign - Client Number 1 - Poison Training False\n"
     ]
    },
    {
     "name": "stderr",
     "output_type": "stream",
     "text": [
      "100%|████████████████████████████████████████████████████████████████████████████████████| 1/1 [00:00<00:00,  1.19it/s]\n"
     ]
    },
    {
     "name": "stdout",
     "output_type": "stream",
     "text": [
      "Iter 11 - Epoch 0 - Client Type: Benign - Client Number 2 - Poison Training False\n"
     ]
    },
    {
     "name": "stderr",
     "output_type": "stream",
     "text": [
      "100%|████████████████████████████████████████████████████████████████████████████████████| 2/2 [00:01<00:00,  1.40it/s]\n"
     ]
    },
    {
     "name": "stdout",
     "output_type": "stream",
     "text": [
      "Iter 11 - Epoch 0 - Client Type: Benign - Client Number 3 - Poison Training False\n"
     ]
    },
    {
     "name": "stderr",
     "output_type": "stream",
     "text": [
      "100%|████████████████████████████████████████████████████████████████████████████████████| 1/1 [00:00<00:00,  1.07it/s]\n"
     ]
    },
    {
     "name": "stdout",
     "output_type": "stream",
     "text": [
      "Iter 11 - Epoch 0 - Client Type: Benign - Client Number 4 - Poison Training False\n"
     ]
    },
    {
     "name": "stderr",
     "output_type": "stream",
     "text": [
      "100%|████████████████████████████████████████████████████████████████████████████████████| 1/1 [00:00<00:00,  1.21it/s]\n"
     ]
    },
    {
     "name": "stdout",
     "output_type": "stream",
     "text": [
      "Iter 11 - Epoch 0 - Client Type: Benign - Client Number 5 - Poison Training False\n"
     ]
    },
    {
     "name": "stderr",
     "output_type": "stream",
     "text": [
      "100%|████████████████████████████████████████████████████████████████████████████████████| 1/1 [00:00<00:00,  1.07it/s]\n"
     ]
    },
    {
     "name": "stdout",
     "output_type": "stream",
     "text": [
      "Iter 11 - Epoch 0 - Client Type: Benign - Client Number 6 - Poison Training False\n"
     ]
    },
    {
     "name": "stderr",
     "output_type": "stream",
     "text": [
      "100%|████████████████████████████████████████████████████████████████████████████████████| 1/1 [00:00<00:00,  1.05it/s]\n"
     ]
    },
    {
     "name": "stdout",
     "output_type": "stream",
     "text": [
      "Iter 11 - Epoch 0 - Client Type: Benign - Client Number 7 - Poison Training False\n"
     ]
    },
    {
     "name": "stderr",
     "output_type": "stream",
     "text": [
      "100%|████████████████████████████████████████████████████████████████████████████████████| 1/1 [00:01<00:00,  1.01s/it]\n"
     ]
    },
    {
     "name": "stdout",
     "output_type": "stream",
     "text": [
      "Iter 11 - Epoch 0 - Client Type: Benign - Client Number 8 - Poison Training False\n"
     ]
    },
    {
     "name": "stderr",
     "output_type": "stream",
     "text": [
      "100%|████████████████████████████████████████████████████████████████████████████████████| 2/2 [00:01<00:00,  1.51it/s]\n"
     ]
    },
    {
     "name": "stdout",
     "output_type": "stream",
     "text": [
      "Iter 11 - Epoch 0 - Client Type: Benign - Client Number 9 - Poison Training False\n"
     ]
    },
    {
     "name": "stderr",
     "output_type": "stream",
     "text": [
      "100%|████████████████████████████████████████████████████████████████████████████████████| 1/1 [00:01<00:00,  1.01s/it]\n"
     ]
    },
    {
     "name": "stdout",
     "output_type": "stream",
     "text": [
      "Iter 11 - Epoch 0 - Client Type: Benign - Client Number 10 - Poison Training False\n"
     ]
    },
    {
     "name": "stderr",
     "output_type": "stream",
     "text": [
      "100%|████████████████████████████████████████████████████████████████████████████████████| 2/2 [00:01<00:00,  1.66it/s]\n"
     ]
    },
    {
     "name": "stdout",
     "output_type": "stream",
     "text": [
      "Iter 11 - Epoch 0 - Client Type: Benign - Client Number 11 - Poison Training False\n"
     ]
    },
    {
     "name": "stderr",
     "output_type": "stream",
     "text": [
      "100%|████████████████████████████████████████████████████████████████████████████████████| 2/2 [00:01<00:00,  1.74it/s]\n"
     ]
    },
    {
     "name": "stdout",
     "output_type": "stream",
     "text": [
      "Iter 11 - Epoch 0 - Client Type: Benign - Client Number 12 - Poison Training False\n"
     ]
    },
    {
     "name": "stderr",
     "output_type": "stream",
     "text": [
      "100%|████████████████████████████████████████████████████████████████████████████████████| 1/1 [00:00<00:00,  1.43it/s]\n"
     ]
    },
    {
     "name": "stdout",
     "output_type": "stream",
     "text": [
      "Iter 11 - Epoch 0 - Client Type: Benign - Client Number 13 - Poison Training False\n"
     ]
    },
    {
     "name": "stderr",
     "output_type": "stream",
     "text": [
      "100%|████████████████████████████████████████████████████████████████████████████████████| 2/2 [00:01<00:00,  1.70it/s]\n"
     ]
    },
    {
     "name": "stdout",
     "output_type": "stream",
     "text": [
      "Iter 11 - Epoch 0 - Client Type: Benign - Client Number 14 - Poison Training False\n"
     ]
    },
    {
     "name": "stderr",
     "output_type": "stream",
     "text": [
      "100%|████████████████████████████████████████████████████████████████████████████████████| 2/2 [00:01<00:00,  1.65it/s]\n"
     ]
    },
    {
     "name": "stdout",
     "output_type": "stream",
     "text": [
      "Iter 11 - Epoch 0 - Client Type: Benign - Client Number 15 - Poison Training False\n"
     ]
    },
    {
     "name": "stderr",
     "output_type": "stream",
     "text": [
      "100%|████████████████████████████████████████████████████████████████████████████████████| 1/1 [00:01<00:00,  1.05s/it]\n"
     ]
    },
    {
     "name": "stdout",
     "output_type": "stream",
     "text": [
      "Iter 11 - Epoch 0 - Client Type: Benign - Client Number 16 - Poison Training False\n"
     ]
    },
    {
     "name": "stderr",
     "output_type": "stream",
     "text": [
      "100%|████████████████████████████████████████████████████████████████████████████████████| 1/1 [00:01<00:00,  1.15s/it]\n"
     ]
    },
    {
     "name": "stdout",
     "output_type": "stream",
     "text": [
      "Iter 11 - Epoch 0 - Client Type: Benign - Client Number 17 - Poison Training False\n"
     ]
    },
    {
     "name": "stderr",
     "output_type": "stream",
     "text": [
      "100%|████████████████████████████████████████████████████████████████████████████████████| 2/2 [00:01<00:00,  1.22it/s]\n"
     ]
    },
    {
     "name": "stdout",
     "output_type": "stream",
     "text": [
      "Iter 11 - Epoch 0 - Client Type: Benign - Client Number 18 - Poison Training False\n"
     ]
    },
    {
     "name": "stderr",
     "output_type": "stream",
     "text": [
      "100%|████████████████████████████████████████████████████████████████████████████████████| 1/1 [00:01<00:00,  1.13s/it]\n"
     ]
    },
    {
     "name": "stdout",
     "output_type": "stream",
     "text": [
      "Iter 11 - Epoch 0 - Client Type: Benign - Client Number 19 - Poison Training False\n"
     ]
    },
    {
     "name": "stderr",
     "output_type": "stream",
     "text": [
      "100%|████████████████████████████████████████████████████████████████████████████████████| 2/2 [00:01<00:00,  1.55it/s]\n"
     ]
    },
    {
     "name": "stdout",
     "output_type": "stream",
     "text": [
      "\n",
      "\n",
      " Entering epoch 1\n",
      "Iter 11 - Epoch 0 - Client Type: Benign - Client Number 0 - Poison Training False\n"
     ]
    },
    {
     "name": "stderr",
     "output_type": "stream",
     "text": [
      "100%|████████████████████████████████████████████████████████████████████████████████████| 1/1 [00:01<00:00,  1.05s/it]\n"
     ]
    },
    {
     "name": "stdout",
     "output_type": "stream",
     "text": [
      "Iter 11 - Epoch 0 - Client Type: Benign - Client Number 1 - Poison Training False\n"
     ]
    },
    {
     "name": "stderr",
     "output_type": "stream",
     "text": [
      "100%|████████████████████████████████████████████████████████████████████████████████████| 1/1 [00:00<00:00,  1.07it/s]\n"
     ]
    },
    {
     "name": "stdout",
     "output_type": "stream",
     "text": [
      "Iter 11 - Epoch 0 - Client Type: Benign - Client Number 2 - Poison Training False\n"
     ]
    },
    {
     "name": "stderr",
     "output_type": "stream",
     "text": [
      "100%|████████████████████████████████████████████████████████████████████████████████████| 2/2 [00:01<00:00,  1.37it/s]\n"
     ]
    },
    {
     "name": "stdout",
     "output_type": "stream",
     "text": [
      "Iter 11 - Epoch 0 - Client Type: Benign - Client Number 3 - Poison Training False\n"
     ]
    },
    {
     "name": "stderr",
     "output_type": "stream",
     "text": [
      "100%|████████████████████████████████████████████████████████████████████████████████████| 1/1 [00:00<00:00,  1.04it/s]\n"
     ]
    },
    {
     "name": "stdout",
     "output_type": "stream",
     "text": [
      "Iter 11 - Epoch 0 - Client Type: Benign - Client Number 4 - Poison Training False\n"
     ]
    },
    {
     "name": "stderr",
     "output_type": "stream",
     "text": [
      "100%|████████████████████████████████████████████████████████████████████████████████████| 1/1 [00:00<00:00,  1.19it/s]\n"
     ]
    },
    {
     "name": "stdout",
     "output_type": "stream",
     "text": [
      "Iter 11 - Epoch 0 - Client Type: Benign - Client Number 5 - Poison Training False\n"
     ]
    },
    {
     "name": "stderr",
     "output_type": "stream",
     "text": [
      "100%|████████████████████████████████████████████████████████████████████████████████████| 1/1 [00:00<00:00,  1.04it/s]\n"
     ]
    },
    {
     "name": "stdout",
     "output_type": "stream",
     "text": [
      "Iter 11 - Epoch 0 - Client Type: Benign - Client Number 6 - Poison Training False\n"
     ]
    },
    {
     "name": "stderr",
     "output_type": "stream",
     "text": [
      "100%|████████████████████████████████████████████████████████████████████████████████████| 1/1 [00:01<00:00,  1.07s/it]\n"
     ]
    },
    {
     "name": "stdout",
     "output_type": "stream",
     "text": [
      "Iter 11 - Epoch 0 - Client Type: Benign - Client Number 7 - Poison Training False\n"
     ]
    },
    {
     "name": "stderr",
     "output_type": "stream",
     "text": [
      "100%|████████████████████████████████████████████████████████████████████████████████████| 1/1 [00:01<00:00,  1.07s/it]\n"
     ]
    },
    {
     "name": "stdout",
     "output_type": "stream",
     "text": [
      "Iter 11 - Epoch 0 - Client Type: Benign - Client Number 8 - Poison Training False\n"
     ]
    },
    {
     "name": "stderr",
     "output_type": "stream",
     "text": [
      "100%|████████████████████████████████████████████████████████████████████████████████████| 2/2 [00:01<00:00,  1.58it/s]\n"
     ]
    },
    {
     "name": "stdout",
     "output_type": "stream",
     "text": [
      "Iter 11 - Epoch 0 - Client Type: Benign - Client Number 9 - Poison Training False\n"
     ]
    },
    {
     "name": "stderr",
     "output_type": "stream",
     "text": [
      "100%|████████████████████████████████████████████████████████████████████████████████████| 1/1 [00:01<00:00,  1.01s/it]"
     ]
    }
   ],
   "source": [
    "fl = CustomFL(n_iter=n_iter, n_epochs=n_epochs, poison_starts_at_iter=poison_starts_at_iter, num_of_benign_nets=num_of_workers-num_of_mal_workers, num_of_mal_nets=num_of_mal_workers, \n",
    "              inertia=inertia, momentum=momentum,\n",
    "              attack_type=attack_type, scale_up=scale_up, minimizeDist=minimizeDist\n",
    ")\n",
    "fl.train()"
   ]
  },
  {
   "cell_type": "code",
   "execution_count": null,
   "metadata": {
    "id": "tsUXB_dWgKbg"
   },
   "outputs": [],
   "source": [
    "import pickle\n",
    "with open(f'file_1_dec27_all_benign_iters_50_epoch_{n_epochs}.txt', 'wb') as f:\n",
    "    pickle.dump(fl.debug_log, f)\n",
    "f.close()"
   ]
  },
  {
   "cell_type": "code",
   "execution_count": null,
   "metadata": {},
   "outputs": [],
   "source": [
    "import os\n",
    "from os import listdir\n",
    "from os.path import isfile, join\n",
    "mypath=os.getcwd()\n",
    "onlyfiles = [f for f in listdir(mypath) if isfile(join(mypath, f))]"
   ]
  },
  {
   "cell_type": "code",
   "execution_count": null,
   "metadata": {
    "id": "Gi3Zkh_HuFEI"
   },
   "outputs": [],
   "source": [
    "import pickle\n",
    "with open('file_1_dec23_label_flip_minDist_off.txt', 'rb') as f:\n",
    "    log_file=pickle.load(f)\n",
    "f.close()\n",
    "\n",
    "with open('file_1_dec23_label_flip_minDist_on.txt', 'rb') as f:\n",
    "    log_file_2=pickle.load(f)\n",
    "f.close()\n",
    "\n",
    "log_by_iter=[]\n",
    "for iter in range(n_iter):\n",
    "    log_by_iter.append([])\n",
    "idx=0\n",
    "cluster_logs=[]\n",
    "for l in log_file:\n",
    "    (i, _, _, _)=l\n",
    "    log_by_iter[i].append(l)\n",
    "    if i==-1:\n",
    "        cluster_logs.append(l)\n",
    "\n",
    "\n",
    "log_by_iter_2=[]\n",
    "for iter in range(n_iter):\n",
    "    log_by_iter_2.append([])\n",
    "idx=0\n",
    "cluster_logs_2=[]\n",
    "for l in log_file_2:\n",
    "    (i, _, _, _)=l\n",
    "    log_by_iter_2[i].append(l)\n",
    "    if i==-1:\n",
    "        cluster_logs_2.append(l)\n",
    "\n",
    "\n",
    "cluster_scores=[]\n",
    "for i, log in enumerate(cluster_logs):\n",
    "    if (i+1)%3==0:\n",
    "        (_, _, _, sc) = log\n",
    "        cluster_scores.append(sc)\n",
    "        \n",
    "cluster_scores_2=[]\n",
    "for i, log in enumerate(cluster_logs_2):\n",
    "    if (i+1)%3==0:\n",
    "        (_, _, _, sc) = log\n",
    "        cluster_scores_2.append(sc)\n",
    "        \n",
    "print(cluster_scores, cluster_scores_2)"
   ]
  },
  {
   "cell_type": "code",
   "execution_count": null,
   "metadata": {
    "id": "d6ii0njBC6JT"
   },
   "outputs": [],
   "source": [
    "from sklearn.cluster import AgglomerativeClustering\n",
    "import numpy as np\n",
    "X = np.array([[1, 2], [1, 4], [1, 0],\n",
    "              [4, 2], [4, 4], [4, 0]])\n",
    "clustering = AgglomerativeClustering(n_clusters=3).fit(X)\n",
    "labels=clustering.labels_\n",
    "print(labels, labels[labels==0], np.argwhere(labels==0))\n",
    "print([np.argwhere(labels==i).flatten() for i in range(3)])\n",
    "\n",
    "print()"
   ]
  },
  {
   "cell_type": "code",
   "execution_count": null,
   "metadata": {
    "id": "nnSDjbvSjoiL"
   },
   "outputs": [],
   "source": [
    "t_arr=np.array([100, 10, 1])\n",
    "t_arr_sig = 0.1 * t_arr\n",
    "print(np.random.normal(t_arr, t_arr_sig))"
   ]
  },
  {
   "cell_type": "code",
   "execution_count": null,
   "metadata": {
    "id": "9zOwHqDgoJx0"
   },
   "outputs": [],
   "source": []
  },
  {
   "cell_type": "code",
   "execution_count": null,
   "metadata": {
    "id": "yenDNiAaqd_F"
   },
   "outputs": [],
   "source": [
    "import matplotlib.pyplot as plt\n",
    "\n",
    "def imshow(img):\n",
    "    img = img / 2 + 0.5     # unnormalize\n",
    "    npimg = img.numpy()\n",
    "    plt.imshow(np.transpose(npimg, (1, 2, 0)))\n",
    "    plt.show()\n",
    "\n",
    "for i in [0, 3, 5]:\n",
    "    (_, _, tl) = train_loaders[0][i]\n",
    "\n",
    "    print(tl)\n",
    "\n",
    "    # get some random training images\n",
    "    dataiter = iter(tl)\n",
    "    images, labels = dataiter.next()\n",
    "    labels = np.array(labels)\n",
    "    imshow(torchvision.utils.make_grid(images[:16]))\n",
    "    for n in range(10):\n",
    "        print(n, np.count_nonzero(labels == n)/len(labels))\n"
   ]
  },
  {
   "cell_type": "code",
   "execution_count": null,
   "metadata": {
    "id": "jjNZrWiG-hPG"
   },
   "outputs": [],
   "source": [
    "sampled_probabilities = 1000 * np.random.dirichlet(\n",
    "                np.array(3 * [0.9]))\n",
    "print(np.sum(sampled_probabilities), sampled_probabilities)"
   ]
  },
  {
   "cell_type": "code",
   "execution_count": null,
   "metadata": {
    "id": "xOdKOaAbFIN7"
   },
   "outputs": [],
   "source": [
    "print(3 * [1, 2])"
   ]
  },
  {
   "cell_type": "code",
   "execution_count": null,
   "metadata": {
    "id": "fGkTxR66cWS9"
   },
   "outputs": [],
   "source": [
    "print(fl.log)"
   ]
  },
  {
   "cell_type": "code",
   "execution_count": null,
   "metadata": {
    "id": "q0VZP12IgvhL"
   },
   "outputs": [],
   "source": [
    "import pickle\n",
    "with open('file_1_dec16.txt', 'rb') as f:\n",
    "    log_file=pickle.load(f)\n",
    "f.close()"
   ]
  },
  {
   "cell_type": "code",
   "execution_count": null,
   "metadata": {
    "id": "GZTPfmkowaO3"
   },
   "outputs": [],
   "source": [
    "log_by_iter=[]\n",
    "for iter in range(n_iter):\n",
    "    log_by_iter.append([])\n",
    "idx=0\n",
    "for l in log_file:\n",
    "    (i, _, _, _)=l\n",
    "    log_by_iter[i].append(l)\n"
   ]
  },
  {
   "cell_type": "code",
   "execution_count": null,
   "metadata": {
    "id": "4gt2Qp862dFj"
   },
   "outputs": [],
   "source": [
    "for i in range(5,10):\n",
    "    log_by_iter[i]=log_by_iter[i][2:]\n",
    "\n",
    "for l in log_by_iter[0]:\n",
    "    print(l)\n",
    "for l in log_by_iter[5]:\n",
    "    print(l)"
   ]
  },
  {
   "cell_type": "code",
   "execution_count": null,
   "metadata": {
    "id": "TXBqfzL33UKh"
   },
   "outputs": [],
   "source": [
    "from matplotlib import pyplot as plt\n",
    "\n",
    "cos_sim_benign=[]\n",
    "cos_sim_mal=[]\n",
    "for i in range(10):\n",
    "    (_, _, _, sim) = log_by_iter[i][2]\n",
    "    cos_sim_benign.append(sim[0])\n",
    "    cos_sim_mal.append(sim[2])\n",
    "\n",
    "plt.plot(cos_sim_benign, c='blue')\n",
    "plt.plot(cos_sim_mal, c='red')\n",
    "plt.show()"
   ]
  },
  {
   "cell_type": "code",
   "execution_count": null,
   "metadata": {
    "id": "Er4MnusO4lkV"
   },
   "outputs": [],
   "source": [
    "aggr_weight_benign=[]\n",
    "aggr_weight_mal=[]\n",
    "for i in range(10):\n",
    "    (_, _, _, sim) = log_by_iter[i][4]\n",
    "    aggr_weight_benign.append(sim[0])\n",
    "    aggr_weight_mal.append(sim[2])\n",
    "\n",
    "plt.plot(aggr_weight_benign, c='blue')\n",
    "plt.plot(aggr_weight_mal, c='red')\n",
    "plt.show()\n"
   ]
  },
  {
   "cell_type": "code",
   "execution_count": null,
   "metadata": {
    "id": "qcWWK14Z49C7"
   },
   "outputs": [],
   "source": [
    "distance_benign=[]\n",
    "distance_mal=[]\n",
    "for i in range(10):\n",
    "    (_, _, _, sim) = log_by_iter[i][0]\n",
    "    distance_benign.append(sim[0])\n",
    "    (_, _, _, sim) = log_by_iter[i][1]\n",
    "    distance_mal.append(sim)\n",
    "\n",
    "plt.plot(distance_benign, c='blue')\n",
    "plt.plot(distance_mal, c='red')\n",
    "plt.show()"
   ]
  },
  {
   "cell_type": "code",
   "execution_count": null,
   "metadata": {
    "id": "CH-InCz25jkj"
   },
   "outputs": [],
   "source": [
    "accuracy=[]\n",
    "for i in range(10):\n",
    "    (_, _, _, sim) = log_by_iter[i][5]\n",
    "    accuracy.append(sim)\n",
    "\n",
    "plt.plot(accuracy, c='blue')\n"
   ]
  }
 ],
 "metadata": {
  "accelerator": "GPU",
  "colab": {
   "collapsed_sections": [],
   "name": "custom optimizer 1.ipynb",
   "provenance": []
  },
  "kernelspec": {
   "display_name": "Python 3",
   "language": "python",
   "name": "python3"
  },
  "language_info": {
   "codemirror_mode": {
    "name": "ipython",
    "version": 3
   },
   "file_extension": ".py",
   "mimetype": "text/x-python",
   "name": "python",
   "nbconvert_exporter": "python",
   "pygments_lexer": "ipython3",
   "version": "3.7.11"
  }
 },
 "nbformat": 4,
 "nbformat_minor": 1
}

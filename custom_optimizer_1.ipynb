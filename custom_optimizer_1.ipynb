{
 "cells": [
  {
   "cell_type": "markdown",
   "metadata": {
    "id": "3x8zJkCpmj1m"
   },
   "source": [
    "Resources#\n",
    "\n",
    "https://github.com/pytorch/pytorch/blob/cc46dc45e1b4b2a9ffab4ad5442f8b864148e45a/torch/optim/_functional.py#L156\n",
    "\n",
    "https://github.com/pytorch/pytorch/blob/master/torch/optim/sgd.py\n",
    "\n",
    "https://pytorch.org/tutorials/beginner/blitz/autograd_tutorial.html\n",
    "\n",
    "https://discuss.pytorch.org/t/custom-loss-functions/29387\n",
    "\n",
    "https://discuss.pytorch.org/t/good-way-to-calculate-element-wise-difference-between-two-models-of-the-same-structure/67592"
   ]
  },
  {
   "cell_type": "code",
   "execution_count": 215,
   "metadata": {
    "id": "iTDCRqOGmorM"
   },
   "outputs": [],
   "source": [
    "import argparse\n",
    "import torch\n",
    "import torch.nn as nn\n",
    "import torch.nn.functional as F\n",
    "import torch.optim as optim\n",
    "from torchvision import datasets, transforms\n",
    "from torch.autograd import Variable\n",
    "import numpy as np\n",
    "import datetime"
   ]
  },
  {
   "cell_type": "code",
   "execution_count": 216,
   "metadata": {
    "id": "fxJ9QbZCVq-j"
   },
   "outputs": [],
   "source": [
    "def convert_model_to_param_list(model):\n",
    "    '''\n",
    "    num_of_param=0\n",
    "    for param in model.state_dict().values():\n",
    "        num_of_param += torch.numel(param)\n",
    "    \n",
    "\n",
    "    params=torch.ones([num_of_param])\n",
    "    '''\n",
    "    if torch.typename(model)!='OrderedDict':\n",
    "        model = model.state_dict()\n",
    "\n",
    "    idx=0\n",
    "    params_to_copy_group=[]\n",
    "    for name, param in model.items():\n",
    "        num_params_to_copy = torch.numel(param)\n",
    "        params_to_copy_group.append(param.reshape([num_params_to_copy]).clone().detach())\n",
    "        idx+=num_params_to_copy\n",
    "\n",
    "    params=torch.ones([idx])\n",
    "    idx=0\n",
    "    for param in params_to_copy_group:    \n",
    "        for par in param:\n",
    "            params[idx].copy_(par)\n",
    "            idx += 1\n",
    "\n",
    "    return params\n",
    "\n",
    "def cos_calc_btn_grads(l1, l2):\n",
    "    return torch.dot(l1, l2)/(torch.linalg.norm(l1)+1e-9)/(torch.linalg.norm(l2)+1e-9)\n",
    "\n",
    "\n",
    "def cos_calc(n1, n2):\n",
    "    l1 = convert_model_to_param_list(n1)\n",
    "    l2 = convert_model_to_param_list(n2)\n",
    "    return cos_calc_btn_grads(l1, l2)"
   ]
  },
  {
   "cell_type": "code",
   "execution_count": 217,
   "metadata": {
    "id": "n8iAonfWm5ev"
   },
   "outputs": [],
   "source": [
    "class SimpleNet(nn.Module):\n",
    "    def __init__(self, name=None, created_time=None, is_malicious=False, net_id=-1):\n",
    "        super(SimpleNet, self).__init__()\n",
    "        self.created_time = created_time\n",
    "        self.name=name\n",
    "\n",
    "        self.is_malicious=is_malicious\n",
    "        self.net_id=net_id\n",
    "\n",
    "\n",
    "    def save_stats(self, epoch, loss, acc):\n",
    "        self.stats['epoch'].append(epoch)\n",
    "        self.stats['loss'].append(loss)\n",
    "        self.stats['acc'].append(acc)\n",
    "\n",
    "    def copy_params(self, state_dict, coefficient_transfer=100):\n",
    "\n",
    "        own_state = self.state_dict()\n",
    "\n",
    "        for name, param in state_dict.items():\n",
    "            if name in own_state:\n",
    "                shape = param.shape\n",
    "                own_state[name].copy_(param.clone())\n",
    "    \n",
    "    def set_param_to_zero(self):\n",
    "        own_state = self.state_dict()\n",
    "\n",
    "        for name, param in own_state.items():\n",
    "            shape = param.shape\n",
    "            param.mul_(0)       \n",
    "\n",
    "    def aggregate(self, state_dicts, aggr_weights=None):\n",
    "        #self.copy_params(state_dicts[0])\n",
    "        own_state = self.state_dict()\n",
    "        \n",
    "        nw = len(state_dicts)\n",
    "        if aggr_weights is None:\n",
    "            aggr_weights = [1/nw]*nw\n",
    "\n",
    "        for i, state_dict in enumerate(state_dicts):\n",
    "            for name, param in state_dict.items():\n",
    "                if name in own_state:\n",
    "                    shape = param.shape\n",
    "                    own_state[name].add_(param.clone().mul_(aggr_weights[i]))\n",
    "\n",
    "    def calc_grad(self, state_dict, change_self=True):\n",
    "        if change_self:\n",
    "            own_state = self.state_dict()\n",
    "\n",
    "            for name, param in state_dict.items():\n",
    "                if name in own_state:\n",
    "                    shape = param.shape\n",
    "                    own_state[name].sub_(param.clone())\n",
    "        else:\n",
    "            self_params = convert_model_to_param_list(self)\n",
    "            ref_params = convert_model_to_param_list(state_dict)\n",
    "\n",
    "            self_params.sub_(ref_params)\n",
    "            self.grad_params = self_params"
   ]
  },
  {
   "cell_type": "code",
   "execution_count": 218,
   "metadata": {
    "id": "kADMGZrmm8PH"
   },
   "outputs": [],
   "source": [
    "class Flatten(nn.Module):\n",
    "    def forward(self, input):\n",
    "        return input.view(input.size(0), -1)\n",
    "\n",
    "class MnistNet(SimpleNet):#model for mnist\n",
    "    def __init__(self, name=None, created_time=None,num_of_classes = 10):\n",
    "        super(MnistNet, self).__init__(f'{name}_Simple', created_time)\n",
    "     \n",
    "        self.fc_layer = torch.nn.Sequential(#1 * 28 * 28\n",
    "            Flatten(),#784\n",
    "            nn.Linear(784, num_of_classes),\n",
    "        )\n",
    "    \n",
    "    def forward(self, x):\n",
    "     \n",
    "        out = self.fc_layer(x)\n",
    "        return out"
   ]
  },
  {
   "cell_type": "code",
   "execution_count": 219,
   "metadata": {
    "id": "h2FR35-PASFF"
   },
   "outputs": [],
   "source": [
    "class FLNet(SimpleNet):\n",
    "    def __init__(self, name=None, created_time=None,num_of_classes = 10):\n",
    "        super(FLNet, self).__init__(f'{name}_Simple', created_time)\n",
    "\n",
    "        self.mnistnet1 = MnistNet()\n",
    "\n",
    "        self.mnistnet2 = MnistNet()\n",
    "\n",
    "        self.mnistnetavg = MnistNet()\n",
    "\n",
    "    def forward(self, x):\n",
    "        out = self.mnistnet1(x)\n",
    "        return out"
   ]
  },
  {
   "cell_type": "code",
   "execution_count": 220,
   "metadata": {
    "colab": {
     "base_uri": "https://localhost:8080/",
     "height": 122
    },
    "id": "-Bm2SNGGCPOA",
    "outputId": "e912d6ab-0fd6-43c0-b174-fd703750762c"
   },
   "outputs": [
    {
     "data": {
      "text/plain": [
       "\"\\nclass CNN(SimpleNet):\\n    def __init__(self, name=None, created_time=None,num_of_classes = 10,network_id=-1, net_id=-1, is_malicious=False):\\n        super(CNN, self).__init__(f'{name}_Simple', created_time, is_malicious=is_malicious, net_id=net_id)\\n        self.conv1 = nn.Conv2d(3, 6, 5)\\n        self.pool = nn.MaxPool2d(2, 2)\\n        self.conv2 = nn.Conv2d(6, 16, 5)\\n        self.fc1 = nn.Linear(16 * 5 * 5, 120)\\n        self.fc2 = nn.Linear(120, 84)\\n        self.fc3 = nn.Linear(84, 10)\\n\\n    def forward(self, x):\\n        x = self.pool(F.relu(self.conv1(x)))\\n        x = self.pool(F.relu(self.conv2(x)))\\n        x = torch.flatten(x, 1) # flatten all dimensions except batch\\n        x = F.relu(self.fc1(x))\\n        x = F.relu(self.fc2(x))\\n        x = self.fc3(x)\\n        return x\\n\""
      ]
     },
     "execution_count": 220,
     "metadata": {},
     "output_type": "execute_result"
    }
   ],
   "source": [
    "\n",
    "class CNN(SimpleNet):\n",
    "    def __init__(self, name=None, created_time=None,num_of_classes = 10,network_id=-1, net_id=-1, is_malicious=False):\n",
    "        super(CNN, self).__init__(f'{name}_Simple', created_time, is_malicious=is_malicious, net_id=net_id)\n",
    "\n",
    "        self.network_id=network_id\n",
    "\n",
    "        self.conv1 = nn.Sequential(         \n",
    "            nn.Conv2d(\n",
    "                in_channels=1,              \n",
    "                out_channels=16,            \n",
    "                kernel_size=5,              \n",
    "                stride=1,                   \n",
    "                padding=2,                  \n",
    "            ),                              \n",
    "            nn.ReLU(),                      \n",
    "            nn.MaxPool2d(kernel_size=2),    \n",
    "        )\n",
    "        self.conv2 = nn.Sequential(         \n",
    "            nn.Conv2d(16, 32, 5, 1, 2),     \n",
    "            nn.ReLU(),                      \n",
    "            nn.MaxPool2d(2),                \n",
    "        )\n",
    "        # fully connected layer, output 10 classes\n",
    "        self.out = nn.Linear(32 * 7 * 7, 10)\n",
    "    def forward(self, x):\n",
    "        x = self.conv1(x)\n",
    "        x = self.conv2(x)\n",
    "        # flatten the output of conv2 to (batch_size, 32 * 7 * 7)\n",
    "        x = x.view(x.size(0), -1)       \n",
    "        output = self.out(x)\n",
    "        return output    # return x for visualization\n",
    "'''\n",
    "class CNN(SimpleNet):\n",
    "    def __init__(self, name=None, created_time=None,num_of_classes = 10,network_id=-1, net_id=-1, is_malicious=False):\n",
    "        super(CNN, self).__init__(f'{name}_Simple', created_time, is_malicious=is_malicious, net_id=net_id)\n",
    "        self.conv1 = nn.Conv2d(3, 6, 5)\n",
    "        self.pool = nn.MaxPool2d(2, 2)\n",
    "        self.conv2 = nn.Conv2d(6, 16, 5)\n",
    "        self.fc1 = nn.Linear(16 * 5 * 5, 120)\n",
    "        self.fc2 = nn.Linear(120, 84)\n",
    "        self.fc3 = nn.Linear(84, 10)\n",
    "\n",
    "    def forward(self, x):\n",
    "        x = self.pool(F.relu(self.conv1(x)))\n",
    "        x = self.pool(F.relu(self.conv2(x)))\n",
    "        x = torch.flatten(x, 1) # flatten all dimensions except batch\n",
    "        x = F.relu(self.fc1(x))\n",
    "        x = F.relu(self.fc2(x))\n",
    "        x = self.fc3(x)\n",
    "        return x\n",
    "'''"
   ]
  },
  {
   "cell_type": "code",
   "execution_count": 221,
   "metadata": {
    "id": "wY6ycM7q9m2A"
   },
   "outputs": [],
   "source": [
    "import copy\n",
    "\n",
    "def add_pixel_pattern(ori_image):\n",
    "    image = copy.deepcopy(ori_image)\n",
    "    poison_patterns= poison_dict['poison_pattern']\n",
    "    delta =  poison_dict['poison_delta']\n",
    "\n",
    "    for i in range(0, len(poison_patterns)):\n",
    "        pos = poison_patterns[i]\n",
    "        image[0][pos[0]][pos[1]] = min( image[0][pos[0]][pos[1]] + delta/np.sqrt(len(poison_patterns)), 1)\n",
    "\n",
    "\n",
    "    return image\n",
    "\n",
    "def get_poison_batch(bptt,adversarial_index=-1, evaluation=False, attack_type='label_flip'):\n",
    "    if attack_type=='backdoor':\n",
    "        import sys\n",
    "        print(\"still backdooring\")\n",
    "        sys.exit()\n",
    "\n",
    "        images, targets = bptt\n",
    "\n",
    "        poison_count= 0\n",
    "        new_images=images\n",
    "        new_targets=targets\n",
    "\n",
    "        for index in range(0, len(images)):\n",
    "            if evaluation: # poison all data when testing\n",
    "                new_targets[index] = poison_dict['poison_label_swap']\n",
    "                new_images[index] = add_pixel_pattern(images[index])\n",
    "                poison_count+=1\n",
    "\n",
    "            else: # poison part of data when training\n",
    "                if index < poison_dict['poisoning_per_batch']:\n",
    "                    new_targets[index] = poison_dict['poison_label_swap']\n",
    "                    new_images[index] = add_pixel_pattern(images[index])\n",
    "                    poison_count += 1\n",
    "                else:\n",
    "                    new_images[index] = images[index]\n",
    "                    new_targets[index]= targets[index]\n",
    "\n",
    "        new_images = new_images.to(device)\n",
    "        new_targets = new_targets.to(device).long()\n",
    "        if evaluation:\n",
    "            new_images.requires_grad_(False)\n",
    "            new_targets.requires_grad_(False)\n",
    "        return new_images,new_targets,poison_count\n",
    "    \n",
    "    elif attack_type=='degrade' or attack_type=='label_flip':\n",
    "        images, targets = bptt\n",
    "\n",
    "        poison_count= 0\n",
    "        new_images=images\n",
    "        new_targets=targets\n",
    "\n",
    "        num_of_classes = 10\n",
    "\n",
    "        for index in range(0, len(images)):\n",
    "            if evaluation: # poison all data when testing\n",
    "                if attack_type=='degrade':\n",
    "                    new_targets[index] = poison_dict['poison_label_swap']\n",
    "                elif attack_type=='label_flip':\n",
    "                    new_targets[index] = (targets[index]+1)%num_of_classes\n",
    "                new_images[index] = images[index]\n",
    "                poison_count+=1\n",
    "\n",
    "            else: # poison part of data when training\n",
    "                if index < poison_dict['poisoning_per_batch']:\n",
    "                    new_targets[index] = poison_dict['poison_label_swap']\n",
    "                    new_images[index] = add_pixel_pattern(images[index])\n",
    "                    poison_count += 1\n",
    "                else:\n",
    "                    new_images[index] = images[index]\n",
    "                    new_targets[index]= targets[index]\n",
    "\n",
    "        new_images = new_images.to(device)\n",
    "        new_targets = new_targets.to(device).long()\n",
    "        if evaluation:\n",
    "            new_images.requires_grad_(False)\n",
    "            new_targets.requires_grad_(False)\n",
    "        return new_images,new_targets,poison_count\n",
    "        \n",
    "\n",
    "def get_batch(bptt, evaluation=False):\n",
    "    data, target = bptt\n",
    "    data = data.to(device)\n",
    "    target = target.to(device)\n",
    "    if evaluation:\n",
    "        data.requires_grad_(False)\n",
    "        target.requires_grad_(False)\n",
    "    return data, target"
   ]
  },
  {
   "cell_type": "code",
   "execution_count": 222,
   "metadata": {
    "id": "nOhHhkNjE6tb"
   },
   "outputs": [],
   "source": [
    "import torch\n",
    "from torch import Tensor\n",
    "from typing import List, Optional\n",
    "\n",
    "from tensorflow import print as prnt\n",
    "\n",
    "def sgd(params: List[Tensor],\n",
    "        d_p_list: List[Tensor],\n",
    "        momentum_buffer_list: List[Optional[Tensor]],\n",
    "        ref_params: List[Tensor],\n",
    "        ref_grad_params: List[Tensor],\n",
    "        *,\n",
    "        weight_decay: float,\n",
    "        momentum: float,\n",
    "        lr: float,\n",
    "        dampening: float,\n",
    "        nesterov: bool,\n",
    "        maximize: bool,\n",
    "        inertia: float,\n",
    "        minimizeDist: bool):\n",
    "    r\"\"\"Functional API that performs SGD algorithm computation.\n",
    "    See :class:`~torch.optim.SGD` for details.\n",
    "    \"\"\"\n",
    "    #print(\"dummy\", len(params), len(ref_params))\n",
    "\n",
    "    if len(ref_params)!=0 and len(params)!=len(ref_params):\n",
    "        #print(params, ref_params)\n",
    "        print('params', params, '\\n')\n",
    "        print('ref_params', ref_params, '\\n')\n",
    "        sys.exit()\n",
    "\n",
    "    if len(ref_grad_params)!=0 and len(params)!=len(ref_grad_params):\n",
    "        print('params', params, '\\n')\n",
    "        print('ref_params', ref_grad_params, '\\n')\n",
    "        sys.exit()\n",
    "    for i, param in enumerate(params):\n",
    "\n",
    "        d_p = d_p_list[i]\n",
    "        if weight_decay != 0:\n",
    "            d_p = d_p.add(param, alpha=weight_decay)\n",
    "\n",
    "        if momentum != 0:\n",
    "            buf = momentum_buffer_list[i]\n",
    "\n",
    "            if buf is None:\n",
    "                buf = torch.clone(d_p).detach()\n",
    "                momentum_buffer_list[i] = buf\n",
    "            else:\n",
    "                buf.mul_(momentum).add_(d_p, alpha=1 - dampening)\n",
    "\n",
    "            if nesterov:\n",
    "                d_p = d_p.add(buf, alpha=momentum)\n",
    "            else:\n",
    "                d_p = buf\n",
    "        \n",
    "        if ref_params is not None and len(ref_params) != 0 and minimizeDist:\n",
    "            diff = 0\n",
    "            ### if minimize euclidean distance\n",
    "            #diff = param - ref_params[i]\n",
    "            ### if minimize cosine similarity, ref_params contains the gradient of the reference network weights\n",
    "            \n",
    "            if ref_grad_params is not None:\n",
    "\n",
    "                dir_sign = torch.sign(ref_params[i]-param)\n",
    "                diff -= ref_params[i]-param\n",
    "                diff -= ref_grad_params[i]\n",
    "                diff = diff.mul_(0.5)\n",
    "            \n",
    "            #d_p = d_p.mul_(0)\n",
    "            d_p = d_p.add(diff, alpha=inertia)\n",
    "        \n",
    "        #if diff_total==0:\n",
    "            #print('diff_total 0')\n",
    "\n",
    "        alpha = lr if maximize else -lr\n",
    "        param.add_(d_p, alpha=alpha)"
   ]
  },
  {
   "cell_type": "code",
   "execution_count": 223,
   "metadata": {
    "id": "BMvAKmTlFlSV"
   },
   "outputs": [],
   "source": [
    "import torch\n",
    "#from torch.optim import _functional as F\n",
    "from torch.optim.optimizer import Optimizer, required\n",
    "\n",
    "\n",
    "class SGD(Optimizer):\n",
    "    def __init__(self, params, lr=required, ref_param_groups=None, ref_grad_param_groups=None, momentum=0, dampening=0,\n",
    "                 weight_decay=0, nesterov=False, *, maximize=False, inertia=1.0, minimizeDist=False):\n",
    "        if lr is not required and lr < 0.0:\n",
    "            raise ValueError(\"Invalid learning rate: {}\".format(lr))\n",
    "        if momentum < 0.0:\n",
    "            raise ValueError(\"Invalid momentum value: {}\".format(momentum))\n",
    "        if weight_decay < 0.0:\n",
    "            raise ValueError(\"Invalid weight_decay value: {}\".format(weight_decay))\n",
    "\n",
    "        defaults = dict(lr=lr, momentum=momentum, dampening=dampening,\n",
    "                        weight_decay=weight_decay, nesterov=nesterov, maximize=maximize)\n",
    "        if nesterov and (momentum <= 0 or dampening != 0):\n",
    "            raise ValueError(\"Nesterov momentum requires a momentum and zero dampening\")\n",
    "        #self.ref_param_groups = ref_param_groups\n",
    "        super(SGD, self).__init__(params, defaults)\n",
    "        #self.ref_param_groups = ref_param_groups\n",
    "        self.inertia=inertia\n",
    "        self.minimizeDist=minimizeDist\n",
    "\n",
    "        if ref_param_groups is not None:\n",
    "            self.__setrefparams__(ref_param_groups)\n",
    "        else:\n",
    "            self.ref_param_groups = ref_param_groups\n",
    "\n",
    "        if ref_grad_param_groups is not None:\n",
    "            self.__setrefgradparams__(ref_grad_param_groups)\n",
    "        else:\n",
    "            self.ref_grad_param_groups = ref_param_groups\n",
    "\n",
    "    def filter_ref_param_group(self, param_group):\n",
    "        r\"\"\"Add a param group to the :class:`Optimizer` s `param_groups`.\n",
    "        This can be useful when fine tuning a pre-trained network as frozen layers can be made\n",
    "        trainable and added to the :class:`Optimizer` as training progresses.\n",
    "        Args:\n",
    "            param_group (dict): Specifies what Tensors should be optimized along with group\n",
    "                specific optimization options.\n",
    "        \"\"\"\n",
    "        assert isinstance(param_group, dict), \"param group must be a dict\"\n",
    "\n",
    "        params = param_group['params']\n",
    "        if isinstance(params, torch.Tensor):\n",
    "            param_group['params'] = [params]\n",
    "        elif isinstance(params, set):\n",
    "            raise TypeError('optimizer parameters need to be organized in ordered collections, but '\n",
    "                            'the ordering of tensors in sets will change between runs. Please use a list instead.')\n",
    "        else:\n",
    "            param_group['params'] = list(params)\n",
    "\n",
    "        for param in param_group['params']:\n",
    "            if not isinstance(param, torch.Tensor):\n",
    "                raise TypeError(\"optimizer can only optimize Tensors, \"\n",
    "                                \"but one of the params is \" + torch.typename(param))\n",
    "            if not param.is_leaf:\n",
    "                raise ValueError(\"can't optimize a non-leaf Tensor\")\n",
    "        '''\n",
    "        for name, default in self.defaults.items():\n",
    "            if default is required and name not in param_group:\n",
    "                raise ValueError(\"parameter group didn't specify a value of required optimization parameter \" +\n",
    "                                name)\n",
    "            else:\n",
    "                param_group.setdefault(name, default)\n",
    "        '''\n",
    "\n",
    "        params = param_group['params']\n",
    "        if len(params) != len(set(params)):\n",
    "            warnings.warn(\"optimizer contains a parameter group with duplicate parameters; \"\n",
    "                          \"in future, this will cause an error; \"\n",
    "                          \"see github.com/pytorch/pytorch/issues/40967 for more information\", stacklevel=3)\n",
    "\n",
    "        param_set = set()\n",
    "        for group in self.param_groups:\n",
    "            param_set.update(set(group['params']))\n",
    "\n",
    "        if not param_set.isdisjoint(set(param_group['params'])):\n",
    "            raise ValueError(\"some parameters appear in more than one parameter group\")\n",
    "\n",
    "        #self.ref_param_groups.append(param_group)\n",
    "        return param_group\n",
    "    \n",
    "    def __setrefparams__(self, params):\n",
    "        self.ref_param_groups = []\n",
    "\n",
    "        param_groups = list(params)\n",
    "        '''\n",
    "        if len(param_groups) == 0:\n",
    "            raise ValueError(\"optimizer got an empty parameter list\")\n",
    "        '''\n",
    "        if not isinstance(param_groups[0], dict):\n",
    "            param_groups = [{'params': param_groups}]\n",
    "\n",
    "        for param_group in param_groups:\n",
    "            self.ref_param_groups.append(self.filter_ref_param_group(param_group))\n",
    "\n",
    "    def __setrefgradparams__(self, params):\n",
    "        self.ref_grad_param_groups = []\n",
    "\n",
    "        param_groups = list(params)\n",
    "        '''\n",
    "        if len(param_groups) == 0:\n",
    "            raise ValueError(\"optimizer got an empty parameter list\")\n",
    "        '''\n",
    "        if not isinstance(param_groups[0], dict):\n",
    "            param_groups = [{'params': param_groups}]\n",
    "\n",
    "        for param_group in param_groups:\n",
    "            self.ref_grad_param_groups.append(self.filter_ref_param_group(param_group))\n",
    "\n",
    "    def __setstate__(self, state):\n",
    "        super(SGD, self).__setstate__(state)\n",
    "        for group in self.param_groups:\n",
    "            group.setdefault('nesterov', False)\n",
    "            group.setdefault('maximize', False)\n",
    "    \n",
    "    \n",
    "\n",
    "    @torch.no_grad()\n",
    "    def step(self, closure=None):\n",
    "        \"\"\"Performs a single optimization step.\n",
    "        Args:\n",
    "            closure (callable, optional): A closure that reevaluates the model\n",
    "                and returns the loss.\n",
    "        \"\"\"\n",
    "        loss = None\n",
    "        if closure is not None:\n",
    "            with torch.enable_grad():\n",
    "                loss = closure()\n",
    "        \n",
    "        #for group in self.ref_param_groups:\n",
    "            #for p in group['params']:\n",
    "\n",
    "        if self.ref_param_groups is not None and len(self.param_groups)!=len(self.ref_param_groups):\n",
    "            print(len(self.param_groups), len(self.ref_param_groups))\n",
    "            sys.exit()\n",
    "\n",
    "        if self.ref_grad_param_groups is not None and len(self.param_groups)!=len(self.ref_grad_param_groups):\n",
    "            print(len(self.param_groups), len(self.ref_grad_param_groups))\n",
    "            sys.exit()\n",
    "        for i in range(len(self.param_groups)):\n",
    "            group = self.param_groups[i]\n",
    "            if self.ref_param_groups is not None:\n",
    "                ref_group = self.ref_param_groups[i]\n",
    "            if self.ref_grad_param_groups is not None:\n",
    "                ref_grad_group = self.ref_grad_param_groups[i]\n",
    "            params_with_grad = []\n",
    "            d_p_list = []\n",
    "            momentum_buffer_list = []\n",
    "            weight_decay = group['weight_decay']\n",
    "            momentum = group['momentum']\n",
    "            dampening = group['dampening']\n",
    "            nesterov = group['nesterov']\n",
    "            maximize = group['maximize']\n",
    "            lr = group['lr']\n",
    "\n",
    "            for p in group['params']:\n",
    "                if p.grad is not None:\n",
    "                    params_with_grad.append(p)\n",
    "                    d_p_list.append(p.grad)\n",
    "\n",
    "                    state = self.state[p]\n",
    "                    if 'momentum_buffer' not in state:\n",
    "                        momentum_buffer_list.append(None)\n",
    "                    else:\n",
    "                        momentum_buffer_list.append(state['momentum_buffer'])\n",
    "            ref_params=[]\n",
    "            ref_grad_params=[]\n",
    "            if self.ref_param_groups is not None:\n",
    "                for p in ref_group['params']:\n",
    "                    ref_params.append(p)\n",
    "            if self.ref_grad_param_groups is not None:\n",
    "                for p in ref_grad_group['params']:\n",
    "                    ref_grad_params.append(p)\n",
    "            \n",
    "            sgd(params_with_grad,\n",
    "                  d_p_list,\n",
    "                  momentum_buffer_list,\n",
    "                  ref_params=ref_params,\n",
    "                  ref_grad_params=ref_grad_params,\n",
    "                  weight_decay=weight_decay,\n",
    "                  momentum=momentum,\n",
    "                  lr=lr,\n",
    "                  dampening=dampening,\n",
    "                  nesterov=nesterov,\n",
    "                  maximize=maximize,\n",
    "                  inertia=self.inertia,\n",
    "                  minimizeDist=self.minimizeDist)\n",
    "            \n",
    "\n",
    "            # update momentum_buffers in state\n",
    "            for p, momentum_buffer in zip(params_with_grad, momentum_buffer_list):\n",
    "                state = self.state[p]\n",
    "                state['momentum_buffer'] = momentum_buffer\n",
    "\n",
    "        return loss\n",
    "\n",
    "    ##  add add_param method\n",
    "\n"
   ]
  },
  {
   "cell_type": "code",
   "execution_count": 224,
   "metadata": {
    "id": "NDJtZrEdRwht"
   },
   "outputs": [],
   "source": [
    "def new_loss(output, target):\n",
    "    loss = F.nll_loss(output, target)\n",
    "\n",
    "    return loss"
   ]
  },
  {
   "cell_type": "code",
   "execution_count": 225,
   "metadata": {
    "id": "yWy7CtC7GpPG"
   },
   "outputs": [],
   "source": [
    "def inv_grad_test(model):\n",
    "    for name, param in model.named_parameters():\n",
    "        print(name, torch.isfinite(param.grad).all())"
   ]
  },
  {
   "cell_type": "code",
   "execution_count": 226,
   "metadata": {
    "id": "I3r_mO-LDaJ6"
   },
   "outputs": [],
   "source": [
    "loss_func=nn.CrossEntropyLoss()\n",
    "\n",
    "def train(network, optimizer, epoch):\n",
    "  network.train()\n",
    "\n",
    "  if network.network_id!=-1:\n",
    "      (_, temp_train_loader)=train_loaders[network.network_id]\n",
    "  else:\n",
    "      temp_train_loader=train_loader\n",
    "\n",
    "  for batch_idx, (data, target) in enumerate(temp_train_loader):\n",
    "    if network.network_id>=1:\n",
    "        data, target, poison_num = get_poison_batch((data, target))\n",
    "    optimizer.zero_grad()\n",
    "    output = network(data)\n",
    "    loss = loss_func(output, target)\n",
    "    loss.backward()\n",
    "    #inv_grad_test(network)\n",
    "    optimizer.step()\n",
    "    if batch_idx % log_interval == 0:\n",
    "      print('Train Epoch: {} [{}/{} ({:.0f}%)]\\tLoss: {:.6f}'.format(\n",
    "      epoch, batch_idx * len(data), len(train_loader.dataset),\n",
    "      100. * batch_idx / len(train_loader), loss.item()))\n",
    "      train_losses.append(loss.item())\n",
    "      train_counter.append(\n",
    "        (batch_idx*64) + ((epoch-1)*len(train_loader.dataset)))\n",
    "      torch.save(network.state_dict(), 'model.pth')\n",
    "      torch.save(optimizer.state_dict(), 'optimizer.pth')\n",
    "  if network.network_id>=1:\n",
    "      sys.exit()"
   ]
  },
  {
   "cell_type": "code",
   "execution_count": 227,
   "metadata": {
    "id": "rePZEDgTs5Zg"
   },
   "outputs": [],
   "source": [
    "from tqdm import tqdm\n",
    "\n",
    "def train_net(network, optimizer, trainloader, epoch, poisonNow=False, print_flag=False, attack_type='backdoor'):\n",
    "  for batch_idx, (data, target) in enumerate(tqdm(trainloader)):\n",
    "    if poisonNow:\n",
    "        data, target, poison_num = get_poison_batch((data, target), attack_type=attack_type)\n",
    "    else:\n",
    "        data, target = get_batch((data, target))\n",
    "    optimizer.zero_grad()\n",
    "    output = network(data)\n",
    "    loss = loss_func(output, target)\n",
    "    loss.backward()\n",
    "    #inv_grad_test(network)\n",
    "    optimizer.step()\n",
    "    if batch_idx % log_interval == 0:\n",
    "        if print_flag:\n",
    "            print('Train Epoch: {} [{}/{} ({:.0f}%)]\\tLoss: {:.6f}'.format(\n",
    "            epoch, batch_idx * len(data), len(trainloader.dataset),\n",
    "            100. * batch_idx / len(trainloader), loss.item()))\n",
    "        train_losses.append(loss.item())\n",
    "        train_counter.append(\n",
    "            (batch_idx*64) + ((epoch-1)*len(trainloader.dataset)))"
   ]
  },
  {
   "cell_type": "code",
   "execution_count": 228,
   "metadata": {
    "id": "DNbRH73f9IFr"
   },
   "outputs": [],
   "source": [
    "def test(network):\n",
    "  network.eval()\n",
    "  test_loss = 0\n",
    "  correct = 0\n",
    "  with torch.no_grad():\n",
    "    for data, target in tqdm(test_loader):\n",
    "        data, target = get_batch((data, target))\n",
    "        output = network(data)\n",
    "        test_loss += loss_func(output, target).item()\n",
    "        pred = output.data.max(1, keepdim=True)[1]\n",
    "        correct += pred.eq(target.data.view_as(pred)).sum()\n",
    "  test_loss /= len(test_loader.dataset)\n",
    "  test_losses.append(test_loss)\n",
    "  print('\\nTest set: Avg. loss: {:.4f}, Accuracy: {}/{} ({:.0f}%)\\n'.format(\n",
    "    test_loss, correct, len(test_loader.dataset),\n",
    "    100. * correct / len(test_loader.dataset)))\n",
    "  return 100. * correct / len(test_loader.dataset)"
   ]
  },
  {
   "cell_type": "code",
   "execution_count": 229,
   "metadata": {
    "id": "O9mnbnO-BSvs"
   },
   "outputs": [],
   "source": [
    "def backdoor_test(network):\n",
    "  network.eval()\n",
    "  test_loss = 0\n",
    "  correct = 0\n",
    "  with torch.no_grad():\n",
    "    for data, target in tqdm(test_loader):\n",
    "      data, target, poison_num = get_poison_batch((data, target), evaluation=True, attack_type='backdoor')\n",
    "      output = network(data)\n",
    "      test_loss += loss_func(output, target).item()\n",
    "      pred = output.data.max(1, keepdim=True)[1]\n",
    "      correct += pred.eq(target.data.view_as(pred)).sum()\n",
    "  test_loss /= len(test_loader.dataset)\n",
    "  test_losses.append(test_loss)\n",
    "  print('\\nBackdoor Test set: Avg. loss: {:.4f}, Accuracy: {}/{} ({:.0f}%)\\n'.format(\n",
    "    test_loss, correct, len(test_loader.dataset),\n",
    "    100. * correct / len(test_loader.dataset)))"
   ]
  },
  {
   "cell_type": "code",
   "execution_count": 230,
   "metadata": {
    "id": "_BXauMW5n3r3"
   },
   "outputs": [],
   "source": [
    "def calcDiff(network, network2):\n",
    "    return sum((x - y).abs().sum() for x, y in zip(network.state_dict().values(), network2.state_dict().values()))"
   ]
  },
  {
   "cell_type": "code",
   "execution_count": 231,
   "metadata": {
    "id": "IB55dWe-UoTd"
   },
   "outputs": [],
   "source": [
    "def get_scaled_up_grads(glob_net, networks, self=None, iter=-1):\n",
    "    nets_grads=[]\n",
    "    clean_server_grad=None\n",
    "    grads=[]\n",
    "\n",
    "    for i in range(len(networks)):\n",
    "        grad_net=CNN().to(device)\n",
    "        grad_net.to(device)\n",
    "        grad_net.copy_params(networks[i].state_dict())\n",
    "        nets_grads.append(grad_net)\n",
    "        \n",
    "        grad_net.calc_grad(glob_net.state_dict())\n",
    "        grads.append(convert_model_to_param_list(grad_net))\n",
    "\n",
    "    scaled_grad=CNN().to(device)\n",
    "    scaled_grad.set_param_to_zero()\n",
    "    scaled_grad.aggregate([n.state_dict() for n in nets_grads], aggr_weights=[-1]*(len(networks)-1)+[len(networks)])\n",
    "\n",
    "    self.log.append((iter, 'Cos_sim btn scaled grad and clean server grad', 'get_scaled_up_grads', cos_calc(scaled_grad, nets_grads[-2])))\n",
    "    print(self.log[-1])\n",
    "    self.log.append((iter, 'Cos_sim btn mal grad and clean server grad', 'get_scaled_up_grads', cos_calc(nets_grads[-1], nets_grads[-2])))\n",
    "    print(self.log[-1])\n",
    "\n",
    "    scaled_grad.aggregate([glob_net.state_dict()], aggr_weights=[1])\n",
    "    return scaled_grad\n",
    "\n",
    "    "
   ]
  },
  {
   "cell_type": "code",
   "execution_count": 232,
   "metadata": {
    "id": "py2OvW8FfoTQ"
   },
   "outputs": [],
   "source": [
    "class CustomFL:\n",
    "    def __init__(self, num_of_benign_nets=1, num_of_mal_nets=1, inertia=0.1, n_iter=10,\n",
    "                 n_epochs=3, poison_starts_at_iter=3, learning_rate=0.1, momentum=0, weight_decay=0.1,\n",
    "                 attack_type='label_flip', scale_up=False, minimizeDist=True):\n",
    "        self.global_net = CNN().to(device)\n",
    "        self.global_net_optim = SGD(self.global_net.parameters(), lr=learning_rate, momentum=momentum, weight_decay=weight_decay)\n",
    "        self.global_net.to(device)\n",
    "        self.benign_nets = []\n",
    "        self.benign_net_optims = []\n",
    "        for i in range(num_of_benign_nets):\n",
    "            network = CNN(net_id=i)\n",
    "            network.copy_params(self.global_net.state_dict())\n",
    "            optim = SGD(network.parameters(), lr=learning_rate, momentum=momentum, weight_decay=weight_decay, inertia=inertia)\n",
    "            network.to(device)\n",
    "            self.benign_nets.append(network)\n",
    "            self.benign_net_optims.append(optim)\n",
    "        self.mal_nets = []\n",
    "        self.mal_net_optims = []\n",
    "        for i in range(num_of_mal_nets):\n",
    "            network = CNN(is_malicious=True, net_id=i)\n",
    "            network.copy_params(self.global_net.state_dict())\n",
    "            optim = SGD(network.parameters(), lr=learning_rate,\n",
    "                        momentum=momentum, weight_decay=weight_decay, inertia=inertia, minimizeDist=minimizeDist)\n",
    "            network.to(device)\n",
    "            self.mal_nets.append(network)\n",
    "            self.mal_net_optims.append(optim)\n",
    "\n",
    "        self.current_iter=0\n",
    "        self.num_of_benign_nets=num_of_benign_nets\n",
    "        self.num_of_mal_nets=num_of_mal_nets\n",
    "        self.inertia_rate=inertia\n",
    "        self.n_iter=n_iter\n",
    "        self.n_epochs=n_epochs\n",
    "        self.learning_rate=learning_rate\n",
    "        self.momentum=momentum\n",
    "        self.poison_starts_at_iter=poison_starts_at_iter\n",
    "        self.weight_decay=weight_decay\n",
    "        self.attack_type=attack_type\n",
    "        self.scale_up=scale_up\n",
    "\n",
    "        self.log=[]\n",
    "        self.debug_log={}\n",
    "        self.debug_log['cluster']=[]\n",
    "        self.debug_log['coses']=[]\n",
    "        n_nets=num_of_benign_nets+num_of_mal_nets\n",
    "        self.cos_matrices=[]\n",
    "        #self.cos_matrix.append(np.zeros((n_nets, n_nets)))\n",
    "\n",
    "    def cluster_grads(self, iter=-1):\n",
    "        nets = self.benign_nets + self.mal_nets\n",
    "        for net in nets:\n",
    "            net.calc_grad(self.global_net.state_dict(), change_self=False)\n",
    "\n",
    "        from sklearn.cluster import AgglomerativeClustering\n",
    "        X = [np.array(net.grad_params) for net in nets]\n",
    "        X= np.array(X)\n",
    "        clustering = AgglomerativeClustering(n_clusters=num_of_distributions, affinity='cosine', linkage='complete').fit(X)\n",
    "        from sklearn.metrics.cluster import adjusted_rand_score\n",
    "        print('Original Copylist', copylist)\n",
    "        print('Found clusters', clustering.labels_)\n",
    "        print('Original groups', [np.argwhere(np.array(copylist)==i).flatten() for i in range(num_of_distributions)])\n",
    "        print('Clustered groups', [np.argwhere(clustering.labels_==i).flatten() for i in range(num_of_distributions)])\n",
    "        print('Clustering score', adjusted_rand_score(clustering.labels_.tolist(), copylist))\n",
    "        self.log.append((iter, 'Original copylist', 'cluster_grads', copylist))\n",
    "        self.log.append((iter, 'Clusters', 'cluster_grads', clustering.labels_))\n",
    "        #self.debug_log['cluster'].append((iter, 'Cluster Score', 'cluster_grads', adjusted_rand_score(clustering.labels_.tolist(), copylist)))\n",
    "        \n",
    "        coses=[]\n",
    "        \n",
    "        for i1, net1 in enumerate(nets):\n",
    "            coses_l=[]\n",
    "            for i2, net2 in enumerate(nets):\n",
    "                coses_l.append(cos_calc_btn_grads(net1.grad_params, net2.grad_params))\n",
    "            coses.append(coses_l)\n",
    "            \n",
    "        coses = np.array(coses)\n",
    "        \n",
    "        '''\n",
    "        self.cos_matrix = self.cos_matrix + coses\n",
    "        self.cos_matrix = self.cos_matrix/np.max(self.cos_matrix)\n",
    "        '''\n",
    "        self.cos_matrices.append(coses)\n",
    "        print(len(self.cos_matrices))\n",
    "        \n",
    "        num_of_coses = np.minimum(len(self.cos_matrices), 5)\n",
    "        \n",
    "        cos_matrix=np.zeros((len(nets), len(nets)))\n",
    "        for i in range(num_of_coses):\n",
    "            cos_matrix+=self.cos_matrices[-i-1]\n",
    "            \n",
    "        cos_matrix = cos_matrix/num_of_coses\n",
    "                    \n",
    "        print(cos_matrix)\n",
    "        \n",
    "        clustering = AgglomerativeClustering(n_clusters=num_of_distributions, affinity='precomputed', linkage='complete').fit(1-cos_matrix)\n",
    "        print('Original Copylist', copylist)\n",
    "        print('Found clusters', clustering.labels_)\n",
    "        print('Original groups', [np.argwhere(np.array(copylist)==i).flatten() for i in range(num_of_distributions)])\n",
    "        print('Clustered groups', [np.argwhere(clustering.labels_==i).flatten() for i in range(num_of_distributions)])\n",
    "        print('Clustering score', adjusted_rand_score(clustering.labels_.tolist(), copylist))\n",
    "        self.debug_log['cluster'].append((iter, 'Cluster Score', 'cluster_grads', adjusted_rand_score(clustering.labels_.tolist(), copylist)))\n",
    "        \n",
    "        \n",
    "        '''\n",
    "        X = [np.array(net.grad_params) for net in self.benign_nets]\n",
    "        X= np.array(X)\n",
    "        copylist2=copylist[:self.num_of_benign_nets]\n",
    "        clustering = AgglomerativeClustering(n_clusters=len(set(copylist2)), affinity='cosine', linkage='complete').fit(X)\n",
    "        print('Original Copylist', copylist2)\n",
    "        print('Found clusters', clustering.labels_)\n",
    "        print('Original groups', [np.argwhere(np.array(copylist2)==i).flatten() for i in range(num_of_distributions)])\n",
    "        print('Clustered groups', [np.argwhere(clustering.labels_==i).flatten() for i in range(num_of_distributions)])\n",
    "        print('Clustering score', adjusted_rand_score(clustering.labels_.tolist(), copylist2))\n",
    "        '''\n",
    "        \n",
    "        return coses\n",
    "\n",
    "    def FLtrust(self, iter=-1):\n",
    "        clean_server_grad=None\n",
    "        grads=[]\n",
    "        nets_grads=[]\n",
    "        \n",
    "        nets = self.benign_nets + self.mal_nets\n",
    "        for net in nets:\n",
    "            net.calc_grad(self.global_net.state_dict(), change_self=False)\n",
    "            grad_net = CNN().to(device)\n",
    "            grad_net.to(device)\n",
    "            grad_net.copy_params(net.state_dict())\n",
    "            grad_net.aggregate([self.global_net.state_dict()], aggr_weights=[-1])\n",
    "            nets_grads.append(grad_net)\n",
    "\n",
    "        for i in range(self.num_of_benign_nets):\n",
    "            grads.append(self.benign_nets[i].grad_params)\n",
    "            if i==self.num_of_benign_nets-1:\n",
    "                clean_server_grad=grads[i]\n",
    "\n",
    "        for i in range(self.num_of_mal_nets):\n",
    "            grads.append(self.mal_nets[i].grad_params)\n",
    "        \n",
    "        norms = [torch.linalg.norm(grad) for grad in grads]\n",
    "        print('Norms of local gradients ', norms)\n",
    "        self.log.append((iter, 'Norms of local gradients ', 'FLTrust', norms))\n",
    "\n",
    "        \n",
    "        cos_sims=[cos_calc_btn_grads(grad, clean_server_grad) for grad in grads]\n",
    "\n",
    "        '''\n",
    "        for grad in grads:\n",
    "            cos_sims.append(torch.dot(grad, clean_server_grad)/ (torch.linalg.norm(grad)+ 1e-9) / (torch.linalg.norm(clean_server_grad)+ 1e-9))\n",
    "        '''\n",
    "        print('\\n Aggregating models')\n",
    "\n",
    "        #print([cos_calc() ])\n",
    "\n",
    "        print('Cosine Similarities: ', cos_sims)\n",
    "        self.log.append((iter, 'Cosine Similarities', 'FLtrust', cos_sims))\n",
    "        cos_sims = np.maximum(np.array(cos_sims), 0)\n",
    "        norm_weights = cos_sims/(np.sum(cos_sims)+1e-9)\n",
    "        for i in range(len(norm_weights)):\n",
    "            norm_weights[i] = norm_weights[i] * torch.linalg.norm(clean_server_grad) / (torch.linalg.norm(grads[i]))\n",
    "        \n",
    "        print('Aggregation Weights: ', norm_weights)\n",
    "        self.log.append((iter, 'Aggregation Weights', 'FLtrust', norm_weights))\n",
    "\n",
    "        self.global_net.aggregate([grad.state_dict() for grad in nets_grads], aggr_weights=norm_weights)\n",
    "            \n",
    "            \n",
    "\n",
    "    def train_local_net(self, is_malicious, net_id, iter, ref_net_for_minimizing_dist=None):\n",
    "        if is_malicious:\n",
    "            network=self.mal_nets[net_id]\n",
    "            optim=self.mal_net_optims[net_id]\n",
    "            # will change later to aggregate of benign_nets\n",
    "            if ref_net_for_minimizing_dist is None:\n",
    "                ref_net_for_minimizing_dist = self.benign_nets[0].parameters()\n",
    "            ref_grad, ref_net = ref_net_for_minimizing_dist\n",
    "            if ref_grad is None:\n",
    "                import sys\n",
    "                sys.exit()\n",
    "            if ref_grad is not None:\n",
    "                optim.__setrefgradparams__(ref_grad.parameters())\n",
    "            optim.__setrefparams__(ref_net.parameters())\n",
    "        else:\n",
    "            network=self.benign_nets[net_id]\n",
    "            optim=self.benign_net_optims[net_id]\n",
    "\n",
    "        (_, _, trainloader) = train_loaders[iter][net_id + is_malicious*self.num_of_benign_nets]\n",
    "\n",
    "        poisonNow = True if is_malicious and iter>=self.poison_starts_at_iter else False\n",
    "        for epoch in range(self.n_epochs if not poisonNow else (self.n_epochs*1)):\n",
    "            clientType = 'Malicious' if is_malicious else 'Benign'\n",
    "            print(f'Iter {iter} - Epoch {epoch} - Client Type: {clientType} - Client Number {net_id} - Poison Training {poisonNow}')\n",
    "            train_net(network, optim, trainloader, epoch, poisonNow=poisonNow, attack_type=self.attack_type)\n",
    "        network.calc_grad(self.global_net.state_dict(), change_self=False)\n",
    "        if poisonNow:\n",
    "            acc=test(network)\n",
    "            self.log.append((iter, 'Local net test accuracy: mal', 'train_local_net', acc))\n",
    "            if self.attack_type=='backdoorq':\n",
    "                acc = backdoor_test(network)\n",
    "                self.log.append((iter, 'Local net backdoor test accuracy: mal', 'train_local_net', acc))\n",
    "\n",
    "    def train(self):\n",
    "        n_epochs=self.n_epochs\n",
    "        self.n_epochs=1\n",
    "        for iter in range(self.n_iter):\n",
    "            distanceList=[]\n",
    "            cosList=[]\n",
    "            networks=[]\n",
    "            networks+=self.benign_nets\n",
    "            networks+=self.mal_nets\n",
    "            \n",
    "            for epoch in range(n_epochs):\n",
    "                \n",
    "                print(f'\\n\\n Entering epoch {epoch}')\n",
    "\n",
    "                for i in range(self.num_of_benign_nets):\n",
    "                    self.train_local_net(False, i, iter)\n",
    "                \n",
    "                if epoch==n_epochs-1:\n",
    "                    coses = self.cluster_grads(iter)\n",
    "\n",
    "                    self.debug_log['coses'].append((iter, epoch, coses))\n",
    "\n",
    "            benign_aggr_net=CNN().to(device)\n",
    "            benign_aggr_net.set_param_to_zero()\n",
    "\n",
    "            ### if adversary knows benign_net_aggregates\n",
    "            benign_aggr_net.aggregate([net.state_dict() for net in self.benign_nets])\n",
    "            ### if adversary knows clean server\n",
    "            #benign_aggr_net.copy_params(self.benign_nets[-1].state_dict())\n",
    "\n",
    "            benign_aggr_net_grad=CNN().to(device)\n",
    "            benign_aggr_net_grad.copy_params(benign_aggr_net.state_dict())\n",
    "            benign_aggr_net_grad.aggregate([self.global_net.state_dict()], aggr_weights=[-1])\n",
    "\n",
    "            \n",
    "            for i in range(self.num_of_mal_nets):\n",
    "                self.train_local_net(True, i, iter, ref_net_for_minimizing_dist=(benign_aggr_net_grad, benign_aggr_net))\n",
    "                \n",
    "                if self.scale_up:\n",
    "                    scaled_up_grad = get_scaled_up_grads(self.global_net, networks, self, iter)\n",
    "                    self.mal_nets[i].copy_params(scaled_up_grad.state_dict())\n",
    "                    #self.mal_nets[i].aggregate([benign_aggr_net.state_dict()])\n",
    "                \n",
    "\n",
    "            cosList=[cos_calc_btn_grads(net.grad_params, self.benign_nets[-1].grad_params) for net in networks]\n",
    "            distanceList=[calcDiff(net, self.benign_nets[-1]) for net in networks]\n",
    "\n",
    "            #self.cluster_grads()\n",
    "\n",
    "            self.log.append((iter, 'Benign net distance', 'train', distanceList[:self.num_of_benign_nets]))\n",
    "            print('Benign net distance', distanceList[:self.num_of_benign_nets])\n",
    "            self.log.append((iter, 'Malicious net distance', 'train', distanceList[self.num_of_benign_nets:]))\n",
    "            print('Malicious net distance', distanceList[self.num_of_benign_nets:])\n",
    "            self.log.append((iter, 'Cos sim list', 'train', cosList))\n",
    "            print('cos_sim list ', cosList)\n",
    "\n",
    "            # aggregate nets\n",
    "            #self.global_net.set_param_to_zero()\n",
    "            #self.global_net.aggregate([network.state_dict() for network in networks])\n",
    "            self.FLtrust(iter=iter)\n",
    "            print('\\n\\n\\nAggregate test at iter ', iter)\n",
    "            acc=test(self.global_net)\n",
    "            self.log.append((iter, 'Test accuracy: agg net', 'train', acc))\n",
    "            #backdoor_test(self.global_net)\n",
    "            self.log.append((iter, 'Backdoor test accuracy: agg net', 'train', acc))\n",
    "            self.log.append((iter, 'Distance between aggregate global and clean server', 'train', calcDiff(self.global_net, self.benign_nets[-1])))\n",
    "\n",
    "            # set all local nets equal to global net at the end of the iteration\n",
    "            \n",
    "            for network in networks:\n",
    "                network.copy_params(self.global_net.state_dict())\n",
    "            "
   ]
  },
  {
   "cell_type": "code",
   "execution_count": 233,
   "metadata": {
    "id": "IPqR6UKz9G7U"
   },
   "outputs": [],
   "source": [
    "poison_dict = dict()\n",
    "poison_dict['poison_delta'] = 0.1\n",
    "poison_dict['poison_pattern'] = [[23,25], [24,24],[25,23],[25,25]]\n",
    "poison_dict['poisoning_per_batch'] = 80\n",
    "poison_dict['poison_label_swap'] = 0"
   ]
  },
  {
   "cell_type": "code",
   "execution_count": 234,
   "metadata": {
    "colab": {
     "base_uri": "https://localhost:8080/"
    },
    "id": "szKjrPoXvw_x",
    "outputId": "f9875642-8768-4770-8b3a-57106ae85412"
   },
   "outputs": [
    {
     "name": "stdout",
     "output_type": "stream",
     "text": [
      "[5, 1, 2, 3, 1, 1, 1, 6] 20\n",
      "[7, 2, 5, 3, 2, 7, 3, 7, 0, 7, 0, 0, 4, 0, 0, 7, 3, 1, 7, 6]\n"
     ]
    },
    {
     "data": {
      "text/plain": [
       "<torch._C.Generator at 0x1c2913e2250>"
      ]
     },
     "execution_count": 234,
     "metadata": {},
     "output_type": "execute_result"
    }
   ],
   "source": [
    "#@title\n",
    "import torchvision\n",
    "import random\n",
    "\n",
    "batch_size_train = 100\n",
    "batch_size_test = 1000\n",
    "learning_rate = 0.01\n",
    "log_interval = 10\n",
    "\n",
    "\n",
    "### important hyperparameters\n",
    "num_of_workers=20\n",
    "num_of_mal_workers=0\n",
    "n_iter=50\n",
    "n_epochs=5\n",
    "poison_starts_at_iter=n_iter\n",
    "inertia=0.1\n",
    "momentum=0.1\n",
    "attack_type='label_flip'\n",
    "scale_up=False\n",
    "minimizeDist=False\n",
    "\n",
    "iid = False\n",
    "num_of_distributions = int(num_of_workers/2)\n",
    "num_of_workers_in_distribs = num_of_workers * np.random.dirichlet(np.array(num_of_distributions * [3.0]))\n",
    "num_of_workers_in_distribs = [int(val) for val in num_of_workers_in_distribs]\n",
    "while 0 in num_of_workers_in_distribs:\n",
    "    num_of_workers_in_distribs.remove(0)\n",
    "num_of_workers_in_distribs.append(num_of_workers-sum(num_of_workers_in_distribs))\n",
    "print(num_of_workers_in_distribs, sum(num_of_workers_in_distribs))\n",
    "num_of_distributions = len(num_of_workers_in_distribs)\n",
    "copylist = []\n",
    "for i in range(len(num_of_workers_in_distribs)):\n",
    "    copylist += num_of_workers_in_distribs[i]*[i]\n",
    "random.shuffle(copylist)\n",
    "print(copylist)\n",
    "\n",
    "device=torch.device('cuda:0' if torch.cuda.is_available() else 'cpu')\n",
    "\n",
    "random_seed = 1\n",
    "torch.backends.cudnn.enabled = False\n",
    "torch.manual_seed(random_seed)"
   ]
  },
  {
   "cell_type": "code",
   "execution_count": 235,
   "metadata": {
    "id": "UoYIstgt9-TH"
   },
   "outputs": [],
   "source": [
    "train_losses = []\n",
    "train_counter = []\n",
    "test_losses = []\n",
    "#test_counter = [i*len(train_loader.dataset) for i in range(n_epochs + 1)]"
   ]
  },
  {
   "cell_type": "code",
   "execution_count": 236,
   "metadata": {
    "id": "5WkA_f7UuiOP"
   },
   "outputs": [],
   "source": [
    "#@title\n",
    "from torchvision import datasets, transforms\n",
    "\n",
    "dataPath = ''\n",
    "\n",
    "import random\n",
    "\n",
    "train_loaders=[]\n",
    "\n",
    "transform = transforms.Compose([transforms.ToTensor(),\n",
    "    ### if dataset is mnist\n",
    "    transforms.Normalize((0.1307,), (0.3081,))])\n",
    "    ### if dataset is cifar\n",
    "    #transforms.Normalize((0.5, 0.5, 0.5), (0.5, 0.5, 0.5))])\n",
    "\n",
    "train_dataset = datasets.FashionMNIST('', train=True, download=True,\n",
    "                               transform=transform)\n",
    "test_dataset = datasets.FashionMNIST('', train=False, transform=transform)\n",
    "\n",
    "test_loader = torch.utils.data.DataLoader(\n",
    "  test_dataset,\n",
    "  batch_size=batch_size_test, shuffle=True)\n",
    "\n",
    "all_range = list(range(len(train_dataset)))\n",
    "random.shuffle(all_range)\n",
    "\n",
    "def get_train_iid(all_range, model_no, iter_no):\n",
    "    \"\"\"\n",
    "    This method equally splits the dataset.\n",
    "    :param params:\n",
    "    :param all_range:\n",
    "    :param model_no:\n",
    "    :return:\n",
    "    \"\"\"\n",
    "\n",
    "    data_len_for_iter = int(len(train_dataset) / n_iter)\n",
    "    data_len = int(data_len_for_iter/num_of_workers)\n",
    "    sub_indices_for_iter = all_range[iter_no * data_len_for_iter: (iter_no + 1) * data_len_for_iter]\n",
    "    sub_indices = sub_indices_for_iter[model_no * data_len: (model_no + 1) * data_len ]\n",
    "    train_loader = torch.utils.data.DataLoader(train_dataset,\n",
    "                                        batch_size=batch_size_train,\n",
    "                                        sampler=torch.utils.data.sampler.SubsetRandomSampler(sub_indices)\n",
    "                                        )\n",
    "    return train_loader\n",
    "\n",
    "def get_train_noniid(indices):\n",
    "    \"\"\"\n",
    "    This method is used along with Dirichlet distribution\n",
    "    :param params:\n",
    "    :param indices:\n",
    "    :return:\n",
    "    \"\"\"\n",
    "    train_loader = torch.utils.data.DataLoader(train_dataset,\n",
    "                                        batch_size=int(len(train_dataset)/num_of_workers),\n",
    "                                        sampler=torch.utils.data.sampler.SubsetRandomSampler(\n",
    "                                            indices))\n",
    "    return train_loader\n",
    "\n",
    "def poison_test_dataset(test_dataset, batch_size):\n",
    "    logger.info('get poison test loader')\n",
    "    # delete the test data with target label\n",
    "    test_classes = {}\n",
    "    for ind, x in enumerate(test_dataset):\n",
    "        _, label = x\n",
    "        if label in test_classes:\n",
    "            test_classes[label].append(ind)\n",
    "        else:\n",
    "            test_classes[label] = [ind]\n",
    "\n",
    "    range_no_id = list(range(0, len(test_dataset)))\n",
    "    for image_ind in test_classes[poison_dict['poison_label_swap']]:\n",
    "        if image_ind in range_no_id:\n",
    "            range_no_id.remove(image_ind)\n",
    "    poison_label_inds = test_classes[poison_dict['poison_label_swap']]\n",
    "\n",
    "    return torch.utils.data.DataLoader(test_dataset,\n",
    "                        batch_size=batch_size,\n",
    "                        sampler=torch.utils.data.sampler.SubsetRandomSampler(\n",
    "                            range_no_id)), \\\n",
    "            torch.utils.data.DataLoader(test_dataset,\n",
    "                                        batch_size=batch_size,\n",
    "                                        sampler=torch.utils.data.sampler.SubsetRandomSampler(\n",
    "                                            poison_label_inds))\n",
    "    "
   ]
  },
  {
   "cell_type": "code",
   "execution_count": 237,
   "metadata": {
    "id": "nprLWVYSlzMe"
   },
   "outputs": [],
   "source": [
    "from collections import defaultdict\n",
    "\n",
    "def sample_dirichlet_train_data(no_participants=num_of_workers, dataset=train_dataset, alpha=0.9, copylist=np.arange(num_of_workers)):\n",
    "    \"\"\"\n",
    "        Input: Number of participants and alpha (param for distribution)\n",
    "        Output: A list of indices denoting data in CIFAR training set.\n",
    "        Requires: dataset_classes, a preprocessed class-indice dictionary.\n",
    "        Sample Method: take a uniformly sampled 10-dimension vector as parameters for\n",
    "        dirichlet distribution to sample number of images in each class.\n",
    "    \"\"\"\n",
    "\n",
    "    dataset_classes = {}\n",
    "    for ind, x in enumerate(dataset):\n",
    "        _, label = x\n",
    "        #if ind in self.params['poison_images'] or ind in self.params['poison_images_test']:\n",
    "        #    continue\n",
    "        if label in dataset_classes:\n",
    "            dataset_classes[label].append(ind)\n",
    "        else:\n",
    "            dataset_classes[label] = [ind]\n",
    "    class_size = len(dataset_classes[0])\n",
    "    per_participant_list = defaultdict(list)\n",
    "    no_classes = len(dataset_classes.keys())\n",
    "\n",
    "    for n in range(no_classes):\n",
    "        random.shuffle(dataset_classes[n])\n",
    "        num_of_non_iid_participants = len(np.unique(copylist))\n",
    "        sampled_probabilities = np.random.dirichlet(\n",
    "            np.array(num_of_non_iid_participants * [alpha]))\n",
    "        new_list = []\n",
    "        for ip in copylist:\n",
    "            #new_list.append(np.random.normal(loc=sampled_probabilities[ip], scale=0.005))\n",
    "            new_list.append(sampled_probabilities[ip])\n",
    "        sampled_probabilities = class_size * np.array(new_list)/np.sum(np.array(new_list))\n",
    "        sigmas = 0.0 * sampled_probabilities\n",
    "        sampled_probabilities = np.random.normal(sampled_probabilities, scale=sigmas)\n",
    "        print(sampled_probabilities)\n",
    "        for user in range(no_participants):\n",
    "            no_imgs = int(round(sampled_probabilities[user]))\n",
    "            sampled_list = dataset_classes[n][:min(len(dataset_classes[n]), no_imgs)]\n",
    "            per_participant_list[user].extend(sampled_list)\n",
    "            dataset_classes[n] = dataset_classes[n][min(len(dataset_classes[n]), no_imgs):]\n",
    "\n",
    "    return per_participant_list"
   ]
  },
  {
   "cell_type": "code",
   "execution_count": 238,
   "metadata": {
    "colab": {
     "base_uri": "https://localhost:8080/"
    },
    "id": "eoJhvrcTwY6O",
    "outputId": "68bbf02a-521b-49df-d5f8-bf85c527128b"
   },
   "outputs": [
    {
     "name": "stdout",
     "output_type": "stream",
     "text": [
      "[347.85513455  33.27599468 367.35312774 156.13870521  33.27599468\n",
      " 347.85513455 156.13870521 347.85513455 426.49062897 347.85513455\n",
      " 426.49062897 426.49062897 276.32069897 426.49062897 426.49062897\n",
      " 347.85513455 156.13870521 474.11039388 347.85513455 127.66372223]\n",
      "[ 252.6580518    79.51277591 1152.03124912  230.98893151   79.51277591\n",
      "  252.6580518   230.98893151  252.6580518   305.4514268   252.6580518\n",
      "  305.4514268   305.4514268     6.74690775  305.4514268   305.4514268\n",
      "  252.6580518   230.98893151  593.44580993  252.6580518   352.57824202]\n",
      "[ 44.3210363  679.07448741  25.5064015  265.83763002 679.07448741\n",
      "  44.3210363  265.83763002  44.3210363  563.46380825  44.3210363\n",
      " 563.46380825 563.46380825 295.76219686 563.46380825 563.46380825\n",
      "  44.3210363  265.83763002 244.8840211   44.3210363  194.94025661]\n",
      "[312.81493062  69.5611717   58.15780657 335.5432888   69.5611717\n",
      " 312.81493062 335.5432888  312.81493062 448.85366919 312.81493062\n",
      " 448.85366919 448.85366919  63.59509883 448.85366919 448.85366919\n",
      " 312.81493062 335.5432888  187.33368852 312.81493062 424.00326662]\n",
      "[ 108.22732528  430.99259594  576.27955938  513.38924583  430.99259594\n",
      "  108.22732528  513.38924583  108.22732528  205.83102693  108.22732528\n",
      "  205.83102693  205.83102693   15.23052588  205.83102693  205.83102693\n",
      "  108.22732528  513.38924583  253.08193471  108.22732528 1074.73596434]\n",
      "[ 234.60881028   89.12793469 1279.30046711   60.95284122   89.12793469\n",
      "  234.60881028   60.95284122  234.60881028  203.67641946  234.60881028\n",
      "  203.67641946  203.67641946   97.57442944  203.67641946  203.67641946\n",
      "  234.60881028   60.95284122 1815.50877174  234.60881028   20.46697971]\n",
      "[177.82974556  12.20727975 169.44709086 316.74065758  12.20727975\n",
      " 177.82974556 316.74065758 177.82974556 701.83603419 177.82974556\n",
      " 701.83603419 701.83603419 118.547983   701.83603419 701.83603419\n",
      " 177.82974556 316.74065758  16.73241922 177.82974556 144.47733036]\n",
      "[480.74917312 486.80830987  78.81754253  79.69922001 486.80830987\n",
      " 480.74917312  79.69922001 480.74917312 141.51855033 480.74917312\n",
      " 141.51855033 141.51855033 281.59492432 141.51855033 141.51855033\n",
      " 480.74917312  79.69922001 239.02147578 480.74917312 595.76398724]\n",
      "[422.29689446 268.15434456 195.88257151 350.91909629 268.15434456\n",
      " 422.29689446 350.91909629 422.29689446 122.75436921 422.29689446\n",
      " 122.75436921 122.75436921 449.22385616 122.75436921 122.75436921\n",
      " 422.29689446 350.91909629  33.08663834 422.29689446 585.18774318]\n",
      "[500.6728196  262.10936439  92.46678359 411.64047389 262.10936439\n",
      " 500.6728196  411.64047389 500.6728196   66.19547277 500.6728196\n",
      "  66.19547277  66.19547277 260.83930537  66.19547277  66.19547277\n",
      " 500.6728196  411.64047389 551.31784664 500.6728196    1.22163246]\n",
      "[[(-1, 0, <torch.utils.data.dataloader.DataLoader object at 0x000001C2E1155AC8>), (-1, 1, <torch.utils.data.dataloader.DataLoader object at 0x000001C2E34BF308>), (-1, 2, <torch.utils.data.dataloader.DataLoader object at 0x000001C2E34BF8C8>), (-1, 3, <torch.utils.data.dataloader.DataLoader object at 0x000001C2E34BF608>), (-1, 4, <torch.utils.data.dataloader.DataLoader object at 0x000001C2E1652E88>), (-1, 5, <torch.utils.data.dataloader.DataLoader object at 0x000001C2E1652D08>), (-1, 6, <torch.utils.data.dataloader.DataLoader object at 0x000001C2E16523C8>), (-1, 7, <torch.utils.data.dataloader.DataLoader object at 0x000001C2E1652948>), (-1, 8, <torch.utils.data.dataloader.DataLoader object at 0x000001C2E16528C8>), (-1, 9, <torch.utils.data.dataloader.DataLoader object at 0x000001C2E1652848>), (-1, 10, <torch.utils.data.dataloader.DataLoader object at 0x000001C2E1628148>), (-1, 11, <torch.utils.data.dataloader.DataLoader object at 0x000001C2E1628EC8>), (-1, 12, <torch.utils.data.dataloader.DataLoader object at 0x000001C2E1628D48>), (-1, 13, <torch.utils.data.dataloader.DataLoader object at 0x000001C2E1628B88>), (-1, 14, <torch.utils.data.dataloader.DataLoader object at 0x000001C2E1628E88>), (-1, 15, <torch.utils.data.dataloader.DataLoader object at 0x000001C2E1628248>), (-1, 16, <torch.utils.data.dataloader.DataLoader object at 0x000001C2E1628588>), (-1, 17, <torch.utils.data.dataloader.DataLoader object at 0x000001C2E1628F08>), (-1, 18, <torch.utils.data.dataloader.DataLoader object at 0x000001C2E13D0108>), (-1, 19, <torch.utils.data.dataloader.DataLoader object at 0x000001C2E13D09C8>)], [(-1, 0, <torch.utils.data.dataloader.DataLoader object at 0x000001C2E1155AC8>), (-1, 1, <torch.utils.data.dataloader.DataLoader object at 0x000001C2E34BF308>), (-1, 2, <torch.utils.data.dataloader.DataLoader object at 0x000001C2E34BF8C8>), (-1, 3, <torch.utils.data.dataloader.DataLoader object at 0x000001C2E34BF608>), (-1, 4, <torch.utils.data.dataloader.DataLoader object at 0x000001C2E1652E88>), (-1, 5, <torch.utils.data.dataloader.DataLoader object at 0x000001C2E1652D08>), (-1, 6, <torch.utils.data.dataloader.DataLoader object at 0x000001C2E16523C8>), (-1, 7, <torch.utils.data.dataloader.DataLoader object at 0x000001C2E1652948>), (-1, 8, <torch.utils.data.dataloader.DataLoader object at 0x000001C2E16528C8>), (-1, 9, <torch.utils.data.dataloader.DataLoader object at 0x000001C2E1652848>), (-1, 10, <torch.utils.data.dataloader.DataLoader object at 0x000001C2E1628148>), (-1, 11, <torch.utils.data.dataloader.DataLoader object at 0x000001C2E1628EC8>), (-1, 12, <torch.utils.data.dataloader.DataLoader object at 0x000001C2E1628D48>), (-1, 13, <torch.utils.data.dataloader.DataLoader object at 0x000001C2E1628B88>), (-1, 14, <torch.utils.data.dataloader.DataLoader object at 0x000001C2E1628E88>), (-1, 15, <torch.utils.data.dataloader.DataLoader object at 0x000001C2E1628248>), (-1, 16, <torch.utils.data.dataloader.DataLoader object at 0x000001C2E1628588>), (-1, 17, <torch.utils.data.dataloader.DataLoader object at 0x000001C2E1628F08>), (-1, 18, <torch.utils.data.dataloader.DataLoader object at 0x000001C2E13D0108>), (-1, 19, <torch.utils.data.dataloader.DataLoader object at 0x000001C2E13D09C8>)], [(-1, 0, <torch.utils.data.dataloader.DataLoader object at 0x000001C2E1155AC8>), (-1, 1, <torch.utils.data.dataloader.DataLoader object at 0x000001C2E34BF308>), (-1, 2, <torch.utils.data.dataloader.DataLoader object at 0x000001C2E34BF8C8>), (-1, 3, <torch.utils.data.dataloader.DataLoader object at 0x000001C2E34BF608>), (-1, 4, <torch.utils.data.dataloader.DataLoader object at 0x000001C2E1652E88>), (-1, 5, <torch.utils.data.dataloader.DataLoader object at 0x000001C2E1652D08>), (-1, 6, <torch.utils.data.dataloader.DataLoader object at 0x000001C2E16523C8>), (-1, 7, <torch.utils.data.dataloader.DataLoader object at 0x000001C2E1652948>), (-1, 8, <torch.utils.data.dataloader.DataLoader object at 0x000001C2E16528C8>), (-1, 9, <torch.utils.data.dataloader.DataLoader object at 0x000001C2E1652848>), (-1, 10, <torch.utils.data.dataloader.DataLoader object at 0x000001C2E1628148>), (-1, 11, <torch.utils.data.dataloader.DataLoader object at 0x000001C2E1628EC8>), (-1, 12, <torch.utils.data.dataloader.DataLoader object at 0x000001C2E1628D48>), (-1, 13, <torch.utils.data.dataloader.DataLoader object at 0x000001C2E1628B88>), (-1, 14, <torch.utils.data.dataloader.DataLoader object at 0x000001C2E1628E88>), (-1, 15, <torch.utils.data.dataloader.DataLoader object at 0x000001C2E1628248>), (-1, 16, <torch.utils.data.dataloader.DataLoader object at 0x000001C2E1628588>), (-1, 17, <torch.utils.data.dataloader.DataLoader object at 0x000001C2E1628F08>), (-1, 18, <torch.utils.data.dataloader.DataLoader object at 0x000001C2E13D0108>), (-1, 19, <torch.utils.data.dataloader.DataLoader object at 0x000001C2E13D09C8>)], [(-1, 0, <torch.utils.data.dataloader.DataLoader object at 0x000001C2E1155AC8>), (-1, 1, <torch.utils.data.dataloader.DataLoader object at 0x000001C2E34BF308>), (-1, 2, <torch.utils.data.dataloader.DataLoader object at 0x000001C2E34BF8C8>), (-1, 3, <torch.utils.data.dataloader.DataLoader object at 0x000001C2E34BF608>), (-1, 4, <torch.utils.data.dataloader.DataLoader object at 0x000001C2E1652E88>), (-1, 5, <torch.utils.data.dataloader.DataLoader object at 0x000001C2E1652D08>), (-1, 6, <torch.utils.data.dataloader.DataLoader object at 0x000001C2E16523C8>), (-1, 7, <torch.utils.data.dataloader.DataLoader object at 0x000001C2E1652948>), (-1, 8, <torch.utils.data.dataloader.DataLoader object at 0x000001C2E16528C8>), (-1, 9, <torch.utils.data.dataloader.DataLoader object at 0x000001C2E1652848>), (-1, 10, <torch.utils.data.dataloader.DataLoader object at 0x000001C2E1628148>), (-1, 11, <torch.utils.data.dataloader.DataLoader object at 0x000001C2E1628EC8>), (-1, 12, <torch.utils.data.dataloader.DataLoader object at 0x000001C2E1628D48>), (-1, 13, <torch.utils.data.dataloader.DataLoader object at 0x000001C2E1628B88>), (-1, 14, <torch.utils.data.dataloader.DataLoader object at 0x000001C2E1628E88>), (-1, 15, <torch.utils.data.dataloader.DataLoader object at 0x000001C2E1628248>), (-1, 16, <torch.utils.data.dataloader.DataLoader object at 0x000001C2E1628588>), (-1, 17, <torch.utils.data.dataloader.DataLoader object at 0x000001C2E1628F08>), (-1, 18, <torch.utils.data.dataloader.DataLoader object at 0x000001C2E13D0108>), (-1, 19, <torch.utils.data.dataloader.DataLoader object at 0x000001C2E13D09C8>)], [(-1, 0, <torch.utils.data.dataloader.DataLoader object at 0x000001C2E1155AC8>), (-1, 1, <torch.utils.data.dataloader.DataLoader object at 0x000001C2E34BF308>), (-1, 2, <torch.utils.data.dataloader.DataLoader object at 0x000001C2E34BF8C8>), (-1, 3, <torch.utils.data.dataloader.DataLoader object at 0x000001C2E34BF608>), (-1, 4, <torch.utils.data.dataloader.DataLoader object at 0x000001C2E1652E88>), (-1, 5, <torch.utils.data.dataloader.DataLoader object at 0x000001C2E1652D08>), (-1, 6, <torch.utils.data.dataloader.DataLoader object at 0x000001C2E16523C8>), (-1, 7, <torch.utils.data.dataloader.DataLoader object at 0x000001C2E1652948>), (-1, 8, <torch.utils.data.dataloader.DataLoader object at 0x000001C2E16528C8>), (-1, 9, <torch.utils.data.dataloader.DataLoader object at 0x000001C2E1652848>), (-1, 10, <torch.utils.data.dataloader.DataLoader object at 0x000001C2E1628148>), (-1, 11, <torch.utils.data.dataloader.DataLoader object at 0x000001C2E1628EC8>), (-1, 12, <torch.utils.data.dataloader.DataLoader object at 0x000001C2E1628D48>), (-1, 13, <torch.utils.data.dataloader.DataLoader object at 0x000001C2E1628B88>), (-1, 14, <torch.utils.data.dataloader.DataLoader object at 0x000001C2E1628E88>), (-1, 15, <torch.utils.data.dataloader.DataLoader object at 0x000001C2E1628248>), (-1, 16, <torch.utils.data.dataloader.DataLoader object at 0x000001C2E1628588>), (-1, 17, <torch.utils.data.dataloader.DataLoader object at 0x000001C2E1628F08>), (-1, 18, <torch.utils.data.dataloader.DataLoader object at 0x000001C2E13D0108>), (-1, 19, <torch.utils.data.dataloader.DataLoader object at 0x000001C2E13D09C8>)], [(-1, 0, <torch.utils.data.dataloader.DataLoader object at 0x000001C2E1155AC8>), (-1, 1, <torch.utils.data.dataloader.DataLoader object at 0x000001C2E34BF308>), (-1, 2, <torch.utils.data.dataloader.DataLoader object at 0x000001C2E34BF8C8>), (-1, 3, <torch.utils.data.dataloader.DataLoader object at 0x000001C2E34BF608>), (-1, 4, <torch.utils.data.dataloader.DataLoader object at 0x000001C2E1652E88>), (-1, 5, <torch.utils.data.dataloader.DataLoader object at 0x000001C2E1652D08>), (-1, 6, <torch.utils.data.dataloader.DataLoader object at 0x000001C2E16523C8>), (-1, 7, <torch.utils.data.dataloader.DataLoader object at 0x000001C2E1652948>), (-1, 8, <torch.utils.data.dataloader.DataLoader object at 0x000001C2E16528C8>), (-1, 9, <torch.utils.data.dataloader.DataLoader object at 0x000001C2E1652848>), (-1, 10, <torch.utils.data.dataloader.DataLoader object at 0x000001C2E1628148>), (-1, 11, <torch.utils.data.dataloader.DataLoader object at 0x000001C2E1628EC8>), (-1, 12, <torch.utils.data.dataloader.DataLoader object at 0x000001C2E1628D48>), (-1, 13, <torch.utils.data.dataloader.DataLoader object at 0x000001C2E1628B88>), (-1, 14, <torch.utils.data.dataloader.DataLoader object at 0x000001C2E1628E88>), (-1, 15, <torch.utils.data.dataloader.DataLoader object at 0x000001C2E1628248>), (-1, 16, <torch.utils.data.dataloader.DataLoader object at 0x000001C2E1628588>), (-1, 17, <torch.utils.data.dataloader.DataLoader object at 0x000001C2E1628F08>), (-1, 18, <torch.utils.data.dataloader.DataLoader object at 0x000001C2E13D0108>), (-1, 19, <torch.utils.data.dataloader.DataLoader object at 0x000001C2E13D09C8>)], [(-1, 0, <torch.utils.data.dataloader.DataLoader object at 0x000001C2E1155AC8>), (-1, 1, <torch.utils.data.dataloader.DataLoader object at 0x000001C2E34BF308>), (-1, 2, <torch.utils.data.dataloader.DataLoader object at 0x000001C2E34BF8C8>), (-1, 3, <torch.utils.data.dataloader.DataLoader object at 0x000001C2E34BF608>), (-1, 4, <torch.utils.data.dataloader.DataLoader object at 0x000001C2E1652E88>), (-1, 5, <torch.utils.data.dataloader.DataLoader object at 0x000001C2E1652D08>), (-1, 6, <torch.utils.data.dataloader.DataLoader object at 0x000001C2E16523C8>), (-1, 7, <torch.utils.data.dataloader.DataLoader object at 0x000001C2E1652948>), (-1, 8, <torch.utils.data.dataloader.DataLoader object at 0x000001C2E16528C8>), (-1, 9, <torch.utils.data.dataloader.DataLoader object at 0x000001C2E1652848>), (-1, 10, <torch.utils.data.dataloader.DataLoader object at 0x000001C2E1628148>), (-1, 11, <torch.utils.data.dataloader.DataLoader object at 0x000001C2E1628EC8>), (-1, 12, <torch.utils.data.dataloader.DataLoader object at 0x000001C2E1628D48>), (-1, 13, <torch.utils.data.dataloader.DataLoader object at 0x000001C2E1628B88>), (-1, 14, <torch.utils.data.dataloader.DataLoader object at 0x000001C2E1628E88>), (-1, 15, <torch.utils.data.dataloader.DataLoader object at 0x000001C2E1628248>), (-1, 16, <torch.utils.data.dataloader.DataLoader object at 0x000001C2E1628588>), (-1, 17, <torch.utils.data.dataloader.DataLoader object at 0x000001C2E1628F08>), (-1, 18, <torch.utils.data.dataloader.DataLoader object at 0x000001C2E13D0108>), (-1, 19, <torch.utils.data.dataloader.DataLoader object at 0x000001C2E13D09C8>)], [(-1, 0, <torch.utils.data.dataloader.DataLoader object at 0x000001C2E1155AC8>), (-1, 1, <torch.utils.data.dataloader.DataLoader object at 0x000001C2E34BF308>), (-1, 2, <torch.utils.data.dataloader.DataLoader object at 0x000001C2E34BF8C8>), (-1, 3, <torch.utils.data.dataloader.DataLoader object at 0x000001C2E34BF608>), (-1, 4, <torch.utils.data.dataloader.DataLoader object at 0x000001C2E1652E88>), (-1, 5, <torch.utils.data.dataloader.DataLoader object at 0x000001C2E1652D08>), (-1, 6, <torch.utils.data.dataloader.DataLoader object at 0x000001C2E16523C8>), (-1, 7, <torch.utils.data.dataloader.DataLoader object at 0x000001C2E1652948>), (-1, 8, <torch.utils.data.dataloader.DataLoader object at 0x000001C2E16528C8>), (-1, 9, <torch.utils.data.dataloader.DataLoader object at 0x000001C2E1652848>), (-1, 10, <torch.utils.data.dataloader.DataLoader object at 0x000001C2E1628148>), (-1, 11, <torch.utils.data.dataloader.DataLoader object at 0x000001C2E1628EC8>), (-1, 12, <torch.utils.data.dataloader.DataLoader object at 0x000001C2E1628D48>), (-1, 13, <torch.utils.data.dataloader.DataLoader object at 0x000001C2E1628B88>), (-1, 14, <torch.utils.data.dataloader.DataLoader object at 0x000001C2E1628E88>), (-1, 15, <torch.utils.data.dataloader.DataLoader object at 0x000001C2E1628248>), (-1, 16, <torch.utils.data.dataloader.DataLoader object at 0x000001C2E1628588>), (-1, 17, <torch.utils.data.dataloader.DataLoader object at 0x000001C2E1628F08>), (-1, 18, <torch.utils.data.dataloader.DataLoader object at 0x000001C2E13D0108>), (-1, 19, <torch.utils.data.dataloader.DataLoader object at 0x000001C2E13D09C8>)], [(-1, 0, <torch.utils.data.dataloader.DataLoader object at 0x000001C2E1155AC8>), (-1, 1, <torch.utils.data.dataloader.DataLoader object at 0x000001C2E34BF308>), (-1, 2, <torch.utils.data.dataloader.DataLoader object at 0x000001C2E34BF8C8>), (-1, 3, <torch.utils.data.dataloader.DataLoader object at 0x000001C2E34BF608>), (-1, 4, <torch.utils.data.dataloader.DataLoader object at 0x000001C2E1652E88>), (-1, 5, <torch.utils.data.dataloader.DataLoader object at 0x000001C2E1652D08>), (-1, 6, <torch.utils.data.dataloader.DataLoader object at 0x000001C2E16523C8>), (-1, 7, <torch.utils.data.dataloader.DataLoader object at 0x000001C2E1652948>), (-1, 8, <torch.utils.data.dataloader.DataLoader object at 0x000001C2E16528C8>), (-1, 9, <torch.utils.data.dataloader.DataLoader object at 0x000001C2E1652848>), (-1, 10, <torch.utils.data.dataloader.DataLoader object at 0x000001C2E1628148>), (-1, 11, <torch.utils.data.dataloader.DataLoader object at 0x000001C2E1628EC8>), (-1, 12, <torch.utils.data.dataloader.DataLoader object at 0x000001C2E1628D48>), (-1, 13, <torch.utils.data.dataloader.DataLoader object at 0x000001C2E1628B88>), (-1, 14, <torch.utils.data.dataloader.DataLoader object at 0x000001C2E1628E88>), (-1, 15, <torch.utils.data.dataloader.DataLoader object at 0x000001C2E1628248>), (-1, 16, <torch.utils.data.dataloader.DataLoader object at 0x000001C2E1628588>), (-1, 17, <torch.utils.data.dataloader.DataLoader object at 0x000001C2E1628F08>), (-1, 18, <torch.utils.data.dataloader.DataLoader object at 0x000001C2E13D0108>), (-1, 19, <torch.utils.data.dataloader.DataLoader object at 0x000001C2E13D09C8>)], [(-1, 0, <torch.utils.data.dataloader.DataLoader object at 0x000001C2E1155AC8>), (-1, 1, <torch.utils.data.dataloader.DataLoader object at 0x000001C2E34BF308>), (-1, 2, <torch.utils.data.dataloader.DataLoader object at 0x000001C2E34BF8C8>), (-1, 3, <torch.utils.data.dataloader.DataLoader object at 0x000001C2E34BF608>), (-1, 4, <torch.utils.data.dataloader.DataLoader object at 0x000001C2E1652E88>), (-1, 5, <torch.utils.data.dataloader.DataLoader object at 0x000001C2E1652D08>), (-1, 6, <torch.utils.data.dataloader.DataLoader object at 0x000001C2E16523C8>), (-1, 7, <torch.utils.data.dataloader.DataLoader object at 0x000001C2E1652948>), (-1, 8, <torch.utils.data.dataloader.DataLoader object at 0x000001C2E16528C8>), (-1, 9, <torch.utils.data.dataloader.DataLoader object at 0x000001C2E1652848>), (-1, 10, <torch.utils.data.dataloader.DataLoader object at 0x000001C2E1628148>), (-1, 11, <torch.utils.data.dataloader.DataLoader object at 0x000001C2E1628EC8>), (-1, 12, <torch.utils.data.dataloader.DataLoader object at 0x000001C2E1628D48>), (-1, 13, <torch.utils.data.dataloader.DataLoader object at 0x000001C2E1628B88>), (-1, 14, <torch.utils.data.dataloader.DataLoader object at 0x000001C2E1628E88>), (-1, 15, <torch.utils.data.dataloader.DataLoader object at 0x000001C2E1628248>), (-1, 16, <torch.utils.data.dataloader.DataLoader object at 0x000001C2E1628588>), (-1, 17, <torch.utils.data.dataloader.DataLoader object at 0x000001C2E1628F08>), (-1, 18, <torch.utils.data.dataloader.DataLoader object at 0x000001C2E13D0108>), (-1, 19, <torch.utils.data.dataloader.DataLoader object at 0x000001C2E13D09C8>)], [(-1, 0, <torch.utils.data.dataloader.DataLoader object at 0x000001C2E1155AC8>), (-1, 1, <torch.utils.data.dataloader.DataLoader object at 0x000001C2E34BF308>), (-1, 2, <torch.utils.data.dataloader.DataLoader object at 0x000001C2E34BF8C8>), (-1, 3, <torch.utils.data.dataloader.DataLoader object at 0x000001C2E34BF608>), (-1, 4, <torch.utils.data.dataloader.DataLoader object at 0x000001C2E1652E88>), (-1, 5, <torch.utils.data.dataloader.DataLoader object at 0x000001C2E1652D08>), (-1, 6, <torch.utils.data.dataloader.DataLoader object at 0x000001C2E16523C8>), (-1, 7, <torch.utils.data.dataloader.DataLoader object at 0x000001C2E1652948>), (-1, 8, <torch.utils.data.dataloader.DataLoader object at 0x000001C2E16528C8>), (-1, 9, <torch.utils.data.dataloader.DataLoader object at 0x000001C2E1652848>), (-1, 10, <torch.utils.data.dataloader.DataLoader object at 0x000001C2E1628148>), (-1, 11, <torch.utils.data.dataloader.DataLoader object at 0x000001C2E1628EC8>), (-1, 12, <torch.utils.data.dataloader.DataLoader object at 0x000001C2E1628D48>), (-1, 13, <torch.utils.data.dataloader.DataLoader object at 0x000001C2E1628B88>), (-1, 14, <torch.utils.data.dataloader.DataLoader object at 0x000001C2E1628E88>), (-1, 15, <torch.utils.data.dataloader.DataLoader object at 0x000001C2E1628248>), (-1, 16, <torch.utils.data.dataloader.DataLoader object at 0x000001C2E1628588>), (-1, 17, <torch.utils.data.dataloader.DataLoader object at 0x000001C2E1628F08>), (-1, 18, <torch.utils.data.dataloader.DataLoader object at 0x000001C2E13D0108>), (-1, 19, <torch.utils.data.dataloader.DataLoader object at 0x000001C2E13D09C8>)], [(-1, 0, <torch.utils.data.dataloader.DataLoader object at 0x000001C2E1155AC8>), (-1, 1, <torch.utils.data.dataloader.DataLoader object at 0x000001C2E34BF308>), (-1, 2, <torch.utils.data.dataloader.DataLoader object at 0x000001C2E34BF8C8>), (-1, 3, <torch.utils.data.dataloader.DataLoader object at 0x000001C2E34BF608>), (-1, 4, <torch.utils.data.dataloader.DataLoader object at 0x000001C2E1652E88>), (-1, 5, <torch.utils.data.dataloader.DataLoader object at 0x000001C2E1652D08>), (-1, 6, <torch.utils.data.dataloader.DataLoader object at 0x000001C2E16523C8>), (-1, 7, <torch.utils.data.dataloader.DataLoader object at 0x000001C2E1652948>), (-1, 8, <torch.utils.data.dataloader.DataLoader object at 0x000001C2E16528C8>), (-1, 9, <torch.utils.data.dataloader.DataLoader object at 0x000001C2E1652848>), (-1, 10, <torch.utils.data.dataloader.DataLoader object at 0x000001C2E1628148>), (-1, 11, <torch.utils.data.dataloader.DataLoader object at 0x000001C2E1628EC8>), (-1, 12, <torch.utils.data.dataloader.DataLoader object at 0x000001C2E1628D48>), (-1, 13, <torch.utils.data.dataloader.DataLoader object at 0x000001C2E1628B88>), (-1, 14, <torch.utils.data.dataloader.DataLoader object at 0x000001C2E1628E88>), (-1, 15, <torch.utils.data.dataloader.DataLoader object at 0x000001C2E1628248>), (-1, 16, <torch.utils.data.dataloader.DataLoader object at 0x000001C2E1628588>), (-1, 17, <torch.utils.data.dataloader.DataLoader object at 0x000001C2E1628F08>), (-1, 18, <torch.utils.data.dataloader.DataLoader object at 0x000001C2E13D0108>), (-1, 19, <torch.utils.data.dataloader.DataLoader object at 0x000001C2E13D09C8>)], [(-1, 0, <torch.utils.data.dataloader.DataLoader object at 0x000001C2E1155AC8>), (-1, 1, <torch.utils.data.dataloader.DataLoader object at 0x000001C2E34BF308>), (-1, 2, <torch.utils.data.dataloader.DataLoader object at 0x000001C2E34BF8C8>), (-1, 3, <torch.utils.data.dataloader.DataLoader object at 0x000001C2E34BF608>), (-1, 4, <torch.utils.data.dataloader.DataLoader object at 0x000001C2E1652E88>), (-1, 5, <torch.utils.data.dataloader.DataLoader object at 0x000001C2E1652D08>), (-1, 6, <torch.utils.data.dataloader.DataLoader object at 0x000001C2E16523C8>), (-1, 7, <torch.utils.data.dataloader.DataLoader object at 0x000001C2E1652948>), (-1, 8, <torch.utils.data.dataloader.DataLoader object at 0x000001C2E16528C8>), (-1, 9, <torch.utils.data.dataloader.DataLoader object at 0x000001C2E1652848>), (-1, 10, <torch.utils.data.dataloader.DataLoader object at 0x000001C2E1628148>), (-1, 11, <torch.utils.data.dataloader.DataLoader object at 0x000001C2E1628EC8>), (-1, 12, <torch.utils.data.dataloader.DataLoader object at 0x000001C2E1628D48>), (-1, 13, <torch.utils.data.dataloader.DataLoader object at 0x000001C2E1628B88>), (-1, 14, <torch.utils.data.dataloader.DataLoader object at 0x000001C2E1628E88>), (-1, 15, <torch.utils.data.dataloader.DataLoader object at 0x000001C2E1628248>), (-1, 16, <torch.utils.data.dataloader.DataLoader object at 0x000001C2E1628588>), (-1, 17, <torch.utils.data.dataloader.DataLoader object at 0x000001C2E1628F08>), (-1, 18, <torch.utils.data.dataloader.DataLoader object at 0x000001C2E13D0108>), (-1, 19, <torch.utils.data.dataloader.DataLoader object at 0x000001C2E13D09C8>)], [(-1, 0, <torch.utils.data.dataloader.DataLoader object at 0x000001C2E1155AC8>), (-1, 1, <torch.utils.data.dataloader.DataLoader object at 0x000001C2E34BF308>), (-1, 2, <torch.utils.data.dataloader.DataLoader object at 0x000001C2E34BF8C8>), (-1, 3, <torch.utils.data.dataloader.DataLoader object at 0x000001C2E34BF608>), (-1, 4, <torch.utils.data.dataloader.DataLoader object at 0x000001C2E1652E88>), (-1, 5, <torch.utils.data.dataloader.DataLoader object at 0x000001C2E1652D08>), (-1, 6, <torch.utils.data.dataloader.DataLoader object at 0x000001C2E16523C8>), (-1, 7, <torch.utils.data.dataloader.DataLoader object at 0x000001C2E1652948>), (-1, 8, <torch.utils.data.dataloader.DataLoader object at 0x000001C2E16528C8>), (-1, 9, <torch.utils.data.dataloader.DataLoader object at 0x000001C2E1652848>), (-1, 10, <torch.utils.data.dataloader.DataLoader object at 0x000001C2E1628148>), (-1, 11, <torch.utils.data.dataloader.DataLoader object at 0x000001C2E1628EC8>), (-1, 12, <torch.utils.data.dataloader.DataLoader object at 0x000001C2E1628D48>), (-1, 13, <torch.utils.data.dataloader.DataLoader object at 0x000001C2E1628B88>), (-1, 14, <torch.utils.data.dataloader.DataLoader object at 0x000001C2E1628E88>), (-1, 15, <torch.utils.data.dataloader.DataLoader object at 0x000001C2E1628248>), (-1, 16, <torch.utils.data.dataloader.DataLoader object at 0x000001C2E1628588>), (-1, 17, <torch.utils.data.dataloader.DataLoader object at 0x000001C2E1628F08>), (-1, 18, <torch.utils.data.dataloader.DataLoader object at 0x000001C2E13D0108>), (-1, 19, <torch.utils.data.dataloader.DataLoader object at 0x000001C2E13D09C8>)], [(-1, 0, <torch.utils.data.dataloader.DataLoader object at 0x000001C2E1155AC8>), (-1, 1, <torch.utils.data.dataloader.DataLoader object at 0x000001C2E34BF308>), (-1, 2, <torch.utils.data.dataloader.DataLoader object at 0x000001C2E34BF8C8>), (-1, 3, <torch.utils.data.dataloader.DataLoader object at 0x000001C2E34BF608>), (-1, 4, <torch.utils.data.dataloader.DataLoader object at 0x000001C2E1652E88>), (-1, 5, <torch.utils.data.dataloader.DataLoader object at 0x000001C2E1652D08>), (-1, 6, <torch.utils.data.dataloader.DataLoader object at 0x000001C2E16523C8>), (-1, 7, <torch.utils.data.dataloader.DataLoader object at 0x000001C2E1652948>), (-1, 8, <torch.utils.data.dataloader.DataLoader object at 0x000001C2E16528C8>), (-1, 9, <torch.utils.data.dataloader.DataLoader object at 0x000001C2E1652848>), (-1, 10, <torch.utils.data.dataloader.DataLoader object at 0x000001C2E1628148>), (-1, 11, <torch.utils.data.dataloader.DataLoader object at 0x000001C2E1628EC8>), (-1, 12, <torch.utils.data.dataloader.DataLoader object at 0x000001C2E1628D48>), (-1, 13, <torch.utils.data.dataloader.DataLoader object at 0x000001C2E1628B88>), (-1, 14, <torch.utils.data.dataloader.DataLoader object at 0x000001C2E1628E88>), (-1, 15, <torch.utils.data.dataloader.DataLoader object at 0x000001C2E1628248>), (-1, 16, <torch.utils.data.dataloader.DataLoader object at 0x000001C2E1628588>), (-1, 17, <torch.utils.data.dataloader.DataLoader object at 0x000001C2E1628F08>), (-1, 18, <torch.utils.data.dataloader.DataLoader object at 0x000001C2E13D0108>), (-1, 19, <torch.utils.data.dataloader.DataLoader object at 0x000001C2E13D09C8>)], [(-1, 0, <torch.utils.data.dataloader.DataLoader object at 0x000001C2E1155AC8>), (-1, 1, <torch.utils.data.dataloader.DataLoader object at 0x000001C2E34BF308>), (-1, 2, <torch.utils.data.dataloader.DataLoader object at 0x000001C2E34BF8C8>), (-1, 3, <torch.utils.data.dataloader.DataLoader object at 0x000001C2E34BF608>), (-1, 4, <torch.utils.data.dataloader.DataLoader object at 0x000001C2E1652E88>), (-1, 5, <torch.utils.data.dataloader.DataLoader object at 0x000001C2E1652D08>), (-1, 6, <torch.utils.data.dataloader.DataLoader object at 0x000001C2E16523C8>), (-1, 7, <torch.utils.data.dataloader.DataLoader object at 0x000001C2E1652948>), (-1, 8, <torch.utils.data.dataloader.DataLoader object at 0x000001C2E16528C8>), (-1, 9, <torch.utils.data.dataloader.DataLoader object at 0x000001C2E1652848>), (-1, 10, <torch.utils.data.dataloader.DataLoader object at 0x000001C2E1628148>), (-1, 11, <torch.utils.data.dataloader.DataLoader object at 0x000001C2E1628EC8>), (-1, 12, <torch.utils.data.dataloader.DataLoader object at 0x000001C2E1628D48>), (-1, 13, <torch.utils.data.dataloader.DataLoader object at 0x000001C2E1628B88>), (-1, 14, <torch.utils.data.dataloader.DataLoader object at 0x000001C2E1628E88>), (-1, 15, <torch.utils.data.dataloader.DataLoader object at 0x000001C2E1628248>), (-1, 16, <torch.utils.data.dataloader.DataLoader object at 0x000001C2E1628588>), (-1, 17, <torch.utils.data.dataloader.DataLoader object at 0x000001C2E1628F08>), (-1, 18, <torch.utils.data.dataloader.DataLoader object at 0x000001C2E13D0108>), (-1, 19, <torch.utils.data.dataloader.DataLoader object at 0x000001C2E13D09C8>)], [(-1, 0, <torch.utils.data.dataloader.DataLoader object at 0x000001C2E1155AC8>), (-1, 1, <torch.utils.data.dataloader.DataLoader object at 0x000001C2E34BF308>), (-1, 2, <torch.utils.data.dataloader.DataLoader object at 0x000001C2E34BF8C8>), (-1, 3, <torch.utils.data.dataloader.DataLoader object at 0x000001C2E34BF608>), (-1, 4, <torch.utils.data.dataloader.DataLoader object at 0x000001C2E1652E88>), (-1, 5, <torch.utils.data.dataloader.DataLoader object at 0x000001C2E1652D08>), (-1, 6, <torch.utils.data.dataloader.DataLoader object at 0x000001C2E16523C8>), (-1, 7, <torch.utils.data.dataloader.DataLoader object at 0x000001C2E1652948>), (-1, 8, <torch.utils.data.dataloader.DataLoader object at 0x000001C2E16528C8>), (-1, 9, <torch.utils.data.dataloader.DataLoader object at 0x000001C2E1652848>), (-1, 10, <torch.utils.data.dataloader.DataLoader object at 0x000001C2E1628148>), (-1, 11, <torch.utils.data.dataloader.DataLoader object at 0x000001C2E1628EC8>), (-1, 12, <torch.utils.data.dataloader.DataLoader object at 0x000001C2E1628D48>), (-1, 13, <torch.utils.data.dataloader.DataLoader object at 0x000001C2E1628B88>), (-1, 14, <torch.utils.data.dataloader.DataLoader object at 0x000001C2E1628E88>), (-1, 15, <torch.utils.data.dataloader.DataLoader object at 0x000001C2E1628248>), (-1, 16, <torch.utils.data.dataloader.DataLoader object at 0x000001C2E1628588>), (-1, 17, <torch.utils.data.dataloader.DataLoader object at 0x000001C2E1628F08>), (-1, 18, <torch.utils.data.dataloader.DataLoader object at 0x000001C2E13D0108>), (-1, 19, <torch.utils.data.dataloader.DataLoader object at 0x000001C2E13D09C8>)], [(-1, 0, <torch.utils.data.dataloader.DataLoader object at 0x000001C2E1155AC8>), (-1, 1, <torch.utils.data.dataloader.DataLoader object at 0x000001C2E34BF308>), (-1, 2, <torch.utils.data.dataloader.DataLoader object at 0x000001C2E34BF8C8>), (-1, 3, <torch.utils.data.dataloader.DataLoader object at 0x000001C2E34BF608>), (-1, 4, <torch.utils.data.dataloader.DataLoader object at 0x000001C2E1652E88>), (-1, 5, <torch.utils.data.dataloader.DataLoader object at 0x000001C2E1652D08>), (-1, 6, <torch.utils.data.dataloader.DataLoader object at 0x000001C2E16523C8>), (-1, 7, <torch.utils.data.dataloader.DataLoader object at 0x000001C2E1652948>), (-1, 8, <torch.utils.data.dataloader.DataLoader object at 0x000001C2E16528C8>), (-1, 9, <torch.utils.data.dataloader.DataLoader object at 0x000001C2E1652848>), (-1, 10, <torch.utils.data.dataloader.DataLoader object at 0x000001C2E1628148>), (-1, 11, <torch.utils.data.dataloader.DataLoader object at 0x000001C2E1628EC8>), (-1, 12, <torch.utils.data.dataloader.DataLoader object at 0x000001C2E1628D48>), (-1, 13, <torch.utils.data.dataloader.DataLoader object at 0x000001C2E1628B88>), (-1, 14, <torch.utils.data.dataloader.DataLoader object at 0x000001C2E1628E88>), (-1, 15, <torch.utils.data.dataloader.DataLoader object at 0x000001C2E1628248>), (-1, 16, <torch.utils.data.dataloader.DataLoader object at 0x000001C2E1628588>), (-1, 17, <torch.utils.data.dataloader.DataLoader object at 0x000001C2E1628F08>), (-1, 18, <torch.utils.data.dataloader.DataLoader object at 0x000001C2E13D0108>), (-1, 19, <torch.utils.data.dataloader.DataLoader object at 0x000001C2E13D09C8>)], [(-1, 0, <torch.utils.data.dataloader.DataLoader object at 0x000001C2E1155AC8>), (-1, 1, <torch.utils.data.dataloader.DataLoader object at 0x000001C2E34BF308>), (-1, 2, <torch.utils.data.dataloader.DataLoader object at 0x000001C2E34BF8C8>), (-1, 3, <torch.utils.data.dataloader.DataLoader object at 0x000001C2E34BF608>), (-1, 4, <torch.utils.data.dataloader.DataLoader object at 0x000001C2E1652E88>), (-1, 5, <torch.utils.data.dataloader.DataLoader object at 0x000001C2E1652D08>), (-1, 6, <torch.utils.data.dataloader.DataLoader object at 0x000001C2E16523C8>), (-1, 7, <torch.utils.data.dataloader.DataLoader object at 0x000001C2E1652948>), (-1, 8, <torch.utils.data.dataloader.DataLoader object at 0x000001C2E16528C8>), (-1, 9, <torch.utils.data.dataloader.DataLoader object at 0x000001C2E1652848>), (-1, 10, <torch.utils.data.dataloader.DataLoader object at 0x000001C2E1628148>), (-1, 11, <torch.utils.data.dataloader.DataLoader object at 0x000001C2E1628EC8>), (-1, 12, <torch.utils.data.dataloader.DataLoader object at 0x000001C2E1628D48>), (-1, 13, <torch.utils.data.dataloader.DataLoader object at 0x000001C2E1628B88>), (-1, 14, <torch.utils.data.dataloader.DataLoader object at 0x000001C2E1628E88>), (-1, 15, <torch.utils.data.dataloader.DataLoader object at 0x000001C2E1628248>), (-1, 16, <torch.utils.data.dataloader.DataLoader object at 0x000001C2E1628588>), (-1, 17, <torch.utils.data.dataloader.DataLoader object at 0x000001C2E1628F08>), (-1, 18, <torch.utils.data.dataloader.DataLoader object at 0x000001C2E13D0108>), (-1, 19, <torch.utils.data.dataloader.DataLoader object at 0x000001C2E13D09C8>)], [(-1, 0, <torch.utils.data.dataloader.DataLoader object at 0x000001C2E1155AC8>), (-1, 1, <torch.utils.data.dataloader.DataLoader object at 0x000001C2E34BF308>), (-1, 2, <torch.utils.data.dataloader.DataLoader object at 0x000001C2E34BF8C8>), (-1, 3, <torch.utils.data.dataloader.DataLoader object at 0x000001C2E34BF608>), (-1, 4, <torch.utils.data.dataloader.DataLoader object at 0x000001C2E1652E88>), (-1, 5, <torch.utils.data.dataloader.DataLoader object at 0x000001C2E1652D08>), (-1, 6, <torch.utils.data.dataloader.DataLoader object at 0x000001C2E16523C8>), (-1, 7, <torch.utils.data.dataloader.DataLoader object at 0x000001C2E1652948>), (-1, 8, <torch.utils.data.dataloader.DataLoader object at 0x000001C2E16528C8>), (-1, 9, <torch.utils.data.dataloader.DataLoader object at 0x000001C2E1652848>), (-1, 10, <torch.utils.data.dataloader.DataLoader object at 0x000001C2E1628148>), (-1, 11, <torch.utils.data.dataloader.DataLoader object at 0x000001C2E1628EC8>), (-1, 12, <torch.utils.data.dataloader.DataLoader object at 0x000001C2E1628D48>), (-1, 13, <torch.utils.data.dataloader.DataLoader object at 0x000001C2E1628B88>), (-1, 14, <torch.utils.data.dataloader.DataLoader object at 0x000001C2E1628E88>), (-1, 15, <torch.utils.data.dataloader.DataLoader object at 0x000001C2E1628248>), (-1, 16, <torch.utils.data.dataloader.DataLoader object at 0x000001C2E1628588>), (-1, 17, <torch.utils.data.dataloader.DataLoader object at 0x000001C2E1628F08>), (-1, 18, <torch.utils.data.dataloader.DataLoader object at 0x000001C2E13D0108>), (-1, 19, <torch.utils.data.dataloader.DataLoader object at 0x000001C2E13D09C8>)], [(-1, 0, <torch.utils.data.dataloader.DataLoader object at 0x000001C2E1155AC8>), (-1, 1, <torch.utils.data.dataloader.DataLoader object at 0x000001C2E34BF308>), (-1, 2, <torch.utils.data.dataloader.DataLoader object at 0x000001C2E34BF8C8>), (-1, 3, <torch.utils.data.dataloader.DataLoader object at 0x000001C2E34BF608>), (-1, 4, <torch.utils.data.dataloader.DataLoader object at 0x000001C2E1652E88>), (-1, 5, <torch.utils.data.dataloader.DataLoader object at 0x000001C2E1652D08>), (-1, 6, <torch.utils.data.dataloader.DataLoader object at 0x000001C2E16523C8>), (-1, 7, <torch.utils.data.dataloader.DataLoader object at 0x000001C2E1652948>), (-1, 8, <torch.utils.data.dataloader.DataLoader object at 0x000001C2E16528C8>), (-1, 9, <torch.utils.data.dataloader.DataLoader object at 0x000001C2E1652848>), (-1, 10, <torch.utils.data.dataloader.DataLoader object at 0x000001C2E1628148>), (-1, 11, <torch.utils.data.dataloader.DataLoader object at 0x000001C2E1628EC8>), (-1, 12, <torch.utils.data.dataloader.DataLoader object at 0x000001C2E1628D48>), (-1, 13, <torch.utils.data.dataloader.DataLoader object at 0x000001C2E1628B88>), (-1, 14, <torch.utils.data.dataloader.DataLoader object at 0x000001C2E1628E88>), (-1, 15, <torch.utils.data.dataloader.DataLoader object at 0x000001C2E1628248>), (-1, 16, <torch.utils.data.dataloader.DataLoader object at 0x000001C2E1628588>), (-1, 17, <torch.utils.data.dataloader.DataLoader object at 0x000001C2E1628F08>), (-1, 18, <torch.utils.data.dataloader.DataLoader object at 0x000001C2E13D0108>), (-1, 19, <torch.utils.data.dataloader.DataLoader object at 0x000001C2E13D09C8>)], [(-1, 0, <torch.utils.data.dataloader.DataLoader object at 0x000001C2E1155AC8>), (-1, 1, <torch.utils.data.dataloader.DataLoader object at 0x000001C2E34BF308>), (-1, 2, <torch.utils.data.dataloader.DataLoader object at 0x000001C2E34BF8C8>), (-1, 3, <torch.utils.data.dataloader.DataLoader object at 0x000001C2E34BF608>), (-1, 4, <torch.utils.data.dataloader.DataLoader object at 0x000001C2E1652E88>), (-1, 5, <torch.utils.data.dataloader.DataLoader object at 0x000001C2E1652D08>), (-1, 6, <torch.utils.data.dataloader.DataLoader object at 0x000001C2E16523C8>), (-1, 7, <torch.utils.data.dataloader.DataLoader object at 0x000001C2E1652948>), (-1, 8, <torch.utils.data.dataloader.DataLoader object at 0x000001C2E16528C8>), (-1, 9, <torch.utils.data.dataloader.DataLoader object at 0x000001C2E1652848>), (-1, 10, <torch.utils.data.dataloader.DataLoader object at 0x000001C2E1628148>), (-1, 11, <torch.utils.data.dataloader.DataLoader object at 0x000001C2E1628EC8>), (-1, 12, <torch.utils.data.dataloader.DataLoader object at 0x000001C2E1628D48>), (-1, 13, <torch.utils.data.dataloader.DataLoader object at 0x000001C2E1628B88>), (-1, 14, <torch.utils.data.dataloader.DataLoader object at 0x000001C2E1628E88>), (-1, 15, <torch.utils.data.dataloader.DataLoader object at 0x000001C2E1628248>), (-1, 16, <torch.utils.data.dataloader.DataLoader object at 0x000001C2E1628588>), (-1, 17, <torch.utils.data.dataloader.DataLoader object at 0x000001C2E1628F08>), (-1, 18, <torch.utils.data.dataloader.DataLoader object at 0x000001C2E13D0108>), (-1, 19, <torch.utils.data.dataloader.DataLoader object at 0x000001C2E13D09C8>)], [(-1, 0, <torch.utils.data.dataloader.DataLoader object at 0x000001C2E1155AC8>), (-1, 1, <torch.utils.data.dataloader.DataLoader object at 0x000001C2E34BF308>), (-1, 2, <torch.utils.data.dataloader.DataLoader object at 0x000001C2E34BF8C8>), (-1, 3, <torch.utils.data.dataloader.DataLoader object at 0x000001C2E34BF608>), (-1, 4, <torch.utils.data.dataloader.DataLoader object at 0x000001C2E1652E88>), (-1, 5, <torch.utils.data.dataloader.DataLoader object at 0x000001C2E1652D08>), (-1, 6, <torch.utils.data.dataloader.DataLoader object at 0x000001C2E16523C8>), (-1, 7, <torch.utils.data.dataloader.DataLoader object at 0x000001C2E1652948>), (-1, 8, <torch.utils.data.dataloader.DataLoader object at 0x000001C2E16528C8>), (-1, 9, <torch.utils.data.dataloader.DataLoader object at 0x000001C2E1652848>), (-1, 10, <torch.utils.data.dataloader.DataLoader object at 0x000001C2E1628148>), (-1, 11, <torch.utils.data.dataloader.DataLoader object at 0x000001C2E1628EC8>), (-1, 12, <torch.utils.data.dataloader.DataLoader object at 0x000001C2E1628D48>), (-1, 13, <torch.utils.data.dataloader.DataLoader object at 0x000001C2E1628B88>), (-1, 14, <torch.utils.data.dataloader.DataLoader object at 0x000001C2E1628E88>), (-1, 15, <torch.utils.data.dataloader.DataLoader object at 0x000001C2E1628248>), (-1, 16, <torch.utils.data.dataloader.DataLoader object at 0x000001C2E1628588>), (-1, 17, <torch.utils.data.dataloader.DataLoader object at 0x000001C2E1628F08>), (-1, 18, <torch.utils.data.dataloader.DataLoader object at 0x000001C2E13D0108>), (-1, 19, <torch.utils.data.dataloader.DataLoader object at 0x000001C2E13D09C8>)], [(-1, 0, <torch.utils.data.dataloader.DataLoader object at 0x000001C2E1155AC8>), (-1, 1, <torch.utils.data.dataloader.DataLoader object at 0x000001C2E34BF308>), (-1, 2, <torch.utils.data.dataloader.DataLoader object at 0x000001C2E34BF8C8>), (-1, 3, <torch.utils.data.dataloader.DataLoader object at 0x000001C2E34BF608>), (-1, 4, <torch.utils.data.dataloader.DataLoader object at 0x000001C2E1652E88>), (-1, 5, <torch.utils.data.dataloader.DataLoader object at 0x000001C2E1652D08>), (-1, 6, <torch.utils.data.dataloader.DataLoader object at 0x000001C2E16523C8>), (-1, 7, <torch.utils.data.dataloader.DataLoader object at 0x000001C2E1652948>), (-1, 8, <torch.utils.data.dataloader.DataLoader object at 0x000001C2E16528C8>), (-1, 9, <torch.utils.data.dataloader.DataLoader object at 0x000001C2E1652848>), (-1, 10, <torch.utils.data.dataloader.DataLoader object at 0x000001C2E1628148>), (-1, 11, <torch.utils.data.dataloader.DataLoader object at 0x000001C2E1628EC8>), (-1, 12, <torch.utils.data.dataloader.DataLoader object at 0x000001C2E1628D48>), (-1, 13, <torch.utils.data.dataloader.DataLoader object at 0x000001C2E1628B88>), (-1, 14, <torch.utils.data.dataloader.DataLoader object at 0x000001C2E1628E88>), (-1, 15, <torch.utils.data.dataloader.DataLoader object at 0x000001C2E1628248>), (-1, 16, <torch.utils.data.dataloader.DataLoader object at 0x000001C2E1628588>), (-1, 17, <torch.utils.data.dataloader.DataLoader object at 0x000001C2E1628F08>), (-1, 18, <torch.utils.data.dataloader.DataLoader object at 0x000001C2E13D0108>), (-1, 19, <torch.utils.data.dataloader.DataLoader object at 0x000001C2E13D09C8>)], [(-1, 0, <torch.utils.data.dataloader.DataLoader object at 0x000001C2E1155AC8>), (-1, 1, <torch.utils.data.dataloader.DataLoader object at 0x000001C2E34BF308>), (-1, 2, <torch.utils.data.dataloader.DataLoader object at 0x000001C2E34BF8C8>), (-1, 3, <torch.utils.data.dataloader.DataLoader object at 0x000001C2E34BF608>), (-1, 4, <torch.utils.data.dataloader.DataLoader object at 0x000001C2E1652E88>), (-1, 5, <torch.utils.data.dataloader.DataLoader object at 0x000001C2E1652D08>), (-1, 6, <torch.utils.data.dataloader.DataLoader object at 0x000001C2E16523C8>), (-1, 7, <torch.utils.data.dataloader.DataLoader object at 0x000001C2E1652948>), (-1, 8, <torch.utils.data.dataloader.DataLoader object at 0x000001C2E16528C8>), (-1, 9, <torch.utils.data.dataloader.DataLoader object at 0x000001C2E1652848>), (-1, 10, <torch.utils.data.dataloader.DataLoader object at 0x000001C2E1628148>), (-1, 11, <torch.utils.data.dataloader.DataLoader object at 0x000001C2E1628EC8>), (-1, 12, <torch.utils.data.dataloader.DataLoader object at 0x000001C2E1628D48>), (-1, 13, <torch.utils.data.dataloader.DataLoader object at 0x000001C2E1628B88>), (-1, 14, <torch.utils.data.dataloader.DataLoader object at 0x000001C2E1628E88>), (-1, 15, <torch.utils.data.dataloader.DataLoader object at 0x000001C2E1628248>), (-1, 16, <torch.utils.data.dataloader.DataLoader object at 0x000001C2E1628588>), (-1, 17, <torch.utils.data.dataloader.DataLoader object at 0x000001C2E1628F08>), (-1, 18, <torch.utils.data.dataloader.DataLoader object at 0x000001C2E13D0108>), (-1, 19, <torch.utils.data.dataloader.DataLoader object at 0x000001C2E13D09C8>)], [(-1, 0, <torch.utils.data.dataloader.DataLoader object at 0x000001C2E1155AC8>), (-1, 1, <torch.utils.data.dataloader.DataLoader object at 0x000001C2E34BF308>), (-1, 2, <torch.utils.data.dataloader.DataLoader object at 0x000001C2E34BF8C8>), (-1, 3, <torch.utils.data.dataloader.DataLoader object at 0x000001C2E34BF608>), (-1, 4, <torch.utils.data.dataloader.DataLoader object at 0x000001C2E1652E88>), (-1, 5, <torch.utils.data.dataloader.DataLoader object at 0x000001C2E1652D08>), (-1, 6, <torch.utils.data.dataloader.DataLoader object at 0x000001C2E16523C8>), (-1, 7, <torch.utils.data.dataloader.DataLoader object at 0x000001C2E1652948>), (-1, 8, <torch.utils.data.dataloader.DataLoader object at 0x000001C2E16528C8>), (-1, 9, <torch.utils.data.dataloader.DataLoader object at 0x000001C2E1652848>), (-1, 10, <torch.utils.data.dataloader.DataLoader object at 0x000001C2E1628148>), (-1, 11, <torch.utils.data.dataloader.DataLoader object at 0x000001C2E1628EC8>), (-1, 12, <torch.utils.data.dataloader.DataLoader object at 0x000001C2E1628D48>), (-1, 13, <torch.utils.data.dataloader.DataLoader object at 0x000001C2E1628B88>), (-1, 14, <torch.utils.data.dataloader.DataLoader object at 0x000001C2E1628E88>), (-1, 15, <torch.utils.data.dataloader.DataLoader object at 0x000001C2E1628248>), (-1, 16, <torch.utils.data.dataloader.DataLoader object at 0x000001C2E1628588>), (-1, 17, <torch.utils.data.dataloader.DataLoader object at 0x000001C2E1628F08>), (-1, 18, <torch.utils.data.dataloader.DataLoader object at 0x000001C2E13D0108>), (-1, 19, <torch.utils.data.dataloader.DataLoader object at 0x000001C2E13D09C8>)], [(-1, 0, <torch.utils.data.dataloader.DataLoader object at 0x000001C2E1155AC8>), (-1, 1, <torch.utils.data.dataloader.DataLoader object at 0x000001C2E34BF308>), (-1, 2, <torch.utils.data.dataloader.DataLoader object at 0x000001C2E34BF8C8>), (-1, 3, <torch.utils.data.dataloader.DataLoader object at 0x000001C2E34BF608>), (-1, 4, <torch.utils.data.dataloader.DataLoader object at 0x000001C2E1652E88>), (-1, 5, <torch.utils.data.dataloader.DataLoader object at 0x000001C2E1652D08>), (-1, 6, <torch.utils.data.dataloader.DataLoader object at 0x000001C2E16523C8>), (-1, 7, <torch.utils.data.dataloader.DataLoader object at 0x000001C2E1652948>), (-1, 8, <torch.utils.data.dataloader.DataLoader object at 0x000001C2E16528C8>), (-1, 9, <torch.utils.data.dataloader.DataLoader object at 0x000001C2E1652848>), (-1, 10, <torch.utils.data.dataloader.DataLoader object at 0x000001C2E1628148>), (-1, 11, <torch.utils.data.dataloader.DataLoader object at 0x000001C2E1628EC8>), (-1, 12, <torch.utils.data.dataloader.DataLoader object at 0x000001C2E1628D48>), (-1, 13, <torch.utils.data.dataloader.DataLoader object at 0x000001C2E1628B88>), (-1, 14, <torch.utils.data.dataloader.DataLoader object at 0x000001C2E1628E88>), (-1, 15, <torch.utils.data.dataloader.DataLoader object at 0x000001C2E1628248>), (-1, 16, <torch.utils.data.dataloader.DataLoader object at 0x000001C2E1628588>), (-1, 17, <torch.utils.data.dataloader.DataLoader object at 0x000001C2E1628F08>), (-1, 18, <torch.utils.data.dataloader.DataLoader object at 0x000001C2E13D0108>), (-1, 19, <torch.utils.data.dataloader.DataLoader object at 0x000001C2E13D09C8>)], [(-1, 0, <torch.utils.data.dataloader.DataLoader object at 0x000001C2E1155AC8>), (-1, 1, <torch.utils.data.dataloader.DataLoader object at 0x000001C2E34BF308>), (-1, 2, <torch.utils.data.dataloader.DataLoader object at 0x000001C2E34BF8C8>), (-1, 3, <torch.utils.data.dataloader.DataLoader object at 0x000001C2E34BF608>), (-1, 4, <torch.utils.data.dataloader.DataLoader object at 0x000001C2E1652E88>), (-1, 5, <torch.utils.data.dataloader.DataLoader object at 0x000001C2E1652D08>), (-1, 6, <torch.utils.data.dataloader.DataLoader object at 0x000001C2E16523C8>), (-1, 7, <torch.utils.data.dataloader.DataLoader object at 0x000001C2E1652948>), (-1, 8, <torch.utils.data.dataloader.DataLoader object at 0x000001C2E16528C8>), (-1, 9, <torch.utils.data.dataloader.DataLoader object at 0x000001C2E1652848>), (-1, 10, <torch.utils.data.dataloader.DataLoader object at 0x000001C2E1628148>), (-1, 11, <torch.utils.data.dataloader.DataLoader object at 0x000001C2E1628EC8>), (-1, 12, <torch.utils.data.dataloader.DataLoader object at 0x000001C2E1628D48>), (-1, 13, <torch.utils.data.dataloader.DataLoader object at 0x000001C2E1628B88>), (-1, 14, <torch.utils.data.dataloader.DataLoader object at 0x000001C2E1628E88>), (-1, 15, <torch.utils.data.dataloader.DataLoader object at 0x000001C2E1628248>), (-1, 16, <torch.utils.data.dataloader.DataLoader object at 0x000001C2E1628588>), (-1, 17, <torch.utils.data.dataloader.DataLoader object at 0x000001C2E1628F08>), (-1, 18, <torch.utils.data.dataloader.DataLoader object at 0x000001C2E13D0108>), (-1, 19, <torch.utils.data.dataloader.DataLoader object at 0x000001C2E13D09C8>)], [(-1, 0, <torch.utils.data.dataloader.DataLoader object at 0x000001C2E1155AC8>), (-1, 1, <torch.utils.data.dataloader.DataLoader object at 0x000001C2E34BF308>), (-1, 2, <torch.utils.data.dataloader.DataLoader object at 0x000001C2E34BF8C8>), (-1, 3, <torch.utils.data.dataloader.DataLoader object at 0x000001C2E34BF608>), (-1, 4, <torch.utils.data.dataloader.DataLoader object at 0x000001C2E1652E88>), (-1, 5, <torch.utils.data.dataloader.DataLoader object at 0x000001C2E1652D08>), (-1, 6, <torch.utils.data.dataloader.DataLoader object at 0x000001C2E16523C8>), (-1, 7, <torch.utils.data.dataloader.DataLoader object at 0x000001C2E1652948>), (-1, 8, <torch.utils.data.dataloader.DataLoader object at 0x000001C2E16528C8>), (-1, 9, <torch.utils.data.dataloader.DataLoader object at 0x000001C2E1652848>), (-1, 10, <torch.utils.data.dataloader.DataLoader object at 0x000001C2E1628148>), (-1, 11, <torch.utils.data.dataloader.DataLoader object at 0x000001C2E1628EC8>), (-1, 12, <torch.utils.data.dataloader.DataLoader object at 0x000001C2E1628D48>), (-1, 13, <torch.utils.data.dataloader.DataLoader object at 0x000001C2E1628B88>), (-1, 14, <torch.utils.data.dataloader.DataLoader object at 0x000001C2E1628E88>), (-1, 15, <torch.utils.data.dataloader.DataLoader object at 0x000001C2E1628248>), (-1, 16, <torch.utils.data.dataloader.DataLoader object at 0x000001C2E1628588>), (-1, 17, <torch.utils.data.dataloader.DataLoader object at 0x000001C2E1628F08>), (-1, 18, <torch.utils.data.dataloader.DataLoader object at 0x000001C2E13D0108>), (-1, 19, <torch.utils.data.dataloader.DataLoader object at 0x000001C2E13D09C8>)], [(-1, 0, <torch.utils.data.dataloader.DataLoader object at 0x000001C2E1155AC8>), (-1, 1, <torch.utils.data.dataloader.DataLoader object at 0x000001C2E34BF308>), (-1, 2, <torch.utils.data.dataloader.DataLoader object at 0x000001C2E34BF8C8>), (-1, 3, <torch.utils.data.dataloader.DataLoader object at 0x000001C2E34BF608>), (-1, 4, <torch.utils.data.dataloader.DataLoader object at 0x000001C2E1652E88>), (-1, 5, <torch.utils.data.dataloader.DataLoader object at 0x000001C2E1652D08>), (-1, 6, <torch.utils.data.dataloader.DataLoader object at 0x000001C2E16523C8>), (-1, 7, <torch.utils.data.dataloader.DataLoader object at 0x000001C2E1652948>), (-1, 8, <torch.utils.data.dataloader.DataLoader object at 0x000001C2E16528C8>), (-1, 9, <torch.utils.data.dataloader.DataLoader object at 0x000001C2E1652848>), (-1, 10, <torch.utils.data.dataloader.DataLoader object at 0x000001C2E1628148>), (-1, 11, <torch.utils.data.dataloader.DataLoader object at 0x000001C2E1628EC8>), (-1, 12, <torch.utils.data.dataloader.DataLoader object at 0x000001C2E1628D48>), (-1, 13, <torch.utils.data.dataloader.DataLoader object at 0x000001C2E1628B88>), (-1, 14, <torch.utils.data.dataloader.DataLoader object at 0x000001C2E1628E88>), (-1, 15, <torch.utils.data.dataloader.DataLoader object at 0x000001C2E1628248>), (-1, 16, <torch.utils.data.dataloader.DataLoader object at 0x000001C2E1628588>), (-1, 17, <torch.utils.data.dataloader.DataLoader object at 0x000001C2E1628F08>), (-1, 18, <torch.utils.data.dataloader.DataLoader object at 0x000001C2E13D0108>), (-1, 19, <torch.utils.data.dataloader.DataLoader object at 0x000001C2E13D09C8>)], [(-1, 0, <torch.utils.data.dataloader.DataLoader object at 0x000001C2E1155AC8>), (-1, 1, <torch.utils.data.dataloader.DataLoader object at 0x000001C2E34BF308>), (-1, 2, <torch.utils.data.dataloader.DataLoader object at 0x000001C2E34BF8C8>), (-1, 3, <torch.utils.data.dataloader.DataLoader object at 0x000001C2E34BF608>), (-1, 4, <torch.utils.data.dataloader.DataLoader object at 0x000001C2E1652E88>), (-1, 5, <torch.utils.data.dataloader.DataLoader object at 0x000001C2E1652D08>), (-1, 6, <torch.utils.data.dataloader.DataLoader object at 0x000001C2E16523C8>), (-1, 7, <torch.utils.data.dataloader.DataLoader object at 0x000001C2E1652948>), (-1, 8, <torch.utils.data.dataloader.DataLoader object at 0x000001C2E16528C8>), (-1, 9, <torch.utils.data.dataloader.DataLoader object at 0x000001C2E1652848>), (-1, 10, <torch.utils.data.dataloader.DataLoader object at 0x000001C2E1628148>), (-1, 11, <torch.utils.data.dataloader.DataLoader object at 0x000001C2E1628EC8>), (-1, 12, <torch.utils.data.dataloader.DataLoader object at 0x000001C2E1628D48>), (-1, 13, <torch.utils.data.dataloader.DataLoader object at 0x000001C2E1628B88>), (-1, 14, <torch.utils.data.dataloader.DataLoader object at 0x000001C2E1628E88>), (-1, 15, <torch.utils.data.dataloader.DataLoader object at 0x000001C2E1628248>), (-1, 16, <torch.utils.data.dataloader.DataLoader object at 0x000001C2E1628588>), (-1, 17, <torch.utils.data.dataloader.DataLoader object at 0x000001C2E1628F08>), (-1, 18, <torch.utils.data.dataloader.DataLoader object at 0x000001C2E13D0108>), (-1, 19, <torch.utils.data.dataloader.DataLoader object at 0x000001C2E13D09C8>)], [(-1, 0, <torch.utils.data.dataloader.DataLoader object at 0x000001C2E1155AC8>), (-1, 1, <torch.utils.data.dataloader.DataLoader object at 0x000001C2E34BF308>), (-1, 2, <torch.utils.data.dataloader.DataLoader object at 0x000001C2E34BF8C8>), (-1, 3, <torch.utils.data.dataloader.DataLoader object at 0x000001C2E34BF608>), (-1, 4, <torch.utils.data.dataloader.DataLoader object at 0x000001C2E1652E88>), (-1, 5, <torch.utils.data.dataloader.DataLoader object at 0x000001C2E1652D08>), (-1, 6, <torch.utils.data.dataloader.DataLoader object at 0x000001C2E16523C8>), (-1, 7, <torch.utils.data.dataloader.DataLoader object at 0x000001C2E1652948>), (-1, 8, <torch.utils.data.dataloader.DataLoader object at 0x000001C2E16528C8>), (-1, 9, <torch.utils.data.dataloader.DataLoader object at 0x000001C2E1652848>), (-1, 10, <torch.utils.data.dataloader.DataLoader object at 0x000001C2E1628148>), (-1, 11, <torch.utils.data.dataloader.DataLoader object at 0x000001C2E1628EC8>), (-1, 12, <torch.utils.data.dataloader.DataLoader object at 0x000001C2E1628D48>), (-1, 13, <torch.utils.data.dataloader.DataLoader object at 0x000001C2E1628B88>), (-1, 14, <torch.utils.data.dataloader.DataLoader object at 0x000001C2E1628E88>), (-1, 15, <torch.utils.data.dataloader.DataLoader object at 0x000001C2E1628248>), (-1, 16, <torch.utils.data.dataloader.DataLoader object at 0x000001C2E1628588>), (-1, 17, <torch.utils.data.dataloader.DataLoader object at 0x000001C2E1628F08>), (-1, 18, <torch.utils.data.dataloader.DataLoader object at 0x000001C2E13D0108>), (-1, 19, <torch.utils.data.dataloader.DataLoader object at 0x000001C2E13D09C8>)], [(-1, 0, <torch.utils.data.dataloader.DataLoader object at 0x000001C2E1155AC8>), (-1, 1, <torch.utils.data.dataloader.DataLoader object at 0x000001C2E34BF308>), (-1, 2, <torch.utils.data.dataloader.DataLoader object at 0x000001C2E34BF8C8>), (-1, 3, <torch.utils.data.dataloader.DataLoader object at 0x000001C2E34BF608>), (-1, 4, <torch.utils.data.dataloader.DataLoader object at 0x000001C2E1652E88>), (-1, 5, <torch.utils.data.dataloader.DataLoader object at 0x000001C2E1652D08>), (-1, 6, <torch.utils.data.dataloader.DataLoader object at 0x000001C2E16523C8>), (-1, 7, <torch.utils.data.dataloader.DataLoader object at 0x000001C2E1652948>), (-1, 8, <torch.utils.data.dataloader.DataLoader object at 0x000001C2E16528C8>), (-1, 9, <torch.utils.data.dataloader.DataLoader object at 0x000001C2E1652848>), (-1, 10, <torch.utils.data.dataloader.DataLoader object at 0x000001C2E1628148>), (-1, 11, <torch.utils.data.dataloader.DataLoader object at 0x000001C2E1628EC8>), (-1, 12, <torch.utils.data.dataloader.DataLoader object at 0x000001C2E1628D48>), (-1, 13, <torch.utils.data.dataloader.DataLoader object at 0x000001C2E1628B88>), (-1, 14, <torch.utils.data.dataloader.DataLoader object at 0x000001C2E1628E88>), (-1, 15, <torch.utils.data.dataloader.DataLoader object at 0x000001C2E1628248>), (-1, 16, <torch.utils.data.dataloader.DataLoader object at 0x000001C2E1628588>), (-1, 17, <torch.utils.data.dataloader.DataLoader object at 0x000001C2E1628F08>), (-1, 18, <torch.utils.data.dataloader.DataLoader object at 0x000001C2E13D0108>), (-1, 19, <torch.utils.data.dataloader.DataLoader object at 0x000001C2E13D09C8>)], [(-1, 0, <torch.utils.data.dataloader.DataLoader object at 0x000001C2E1155AC8>), (-1, 1, <torch.utils.data.dataloader.DataLoader object at 0x000001C2E34BF308>), (-1, 2, <torch.utils.data.dataloader.DataLoader object at 0x000001C2E34BF8C8>), (-1, 3, <torch.utils.data.dataloader.DataLoader object at 0x000001C2E34BF608>), (-1, 4, <torch.utils.data.dataloader.DataLoader object at 0x000001C2E1652E88>), (-1, 5, <torch.utils.data.dataloader.DataLoader object at 0x000001C2E1652D08>), (-1, 6, <torch.utils.data.dataloader.DataLoader object at 0x000001C2E16523C8>), (-1, 7, <torch.utils.data.dataloader.DataLoader object at 0x000001C2E1652948>), (-1, 8, <torch.utils.data.dataloader.DataLoader object at 0x000001C2E16528C8>), (-1, 9, <torch.utils.data.dataloader.DataLoader object at 0x000001C2E1652848>), (-1, 10, <torch.utils.data.dataloader.DataLoader object at 0x000001C2E1628148>), (-1, 11, <torch.utils.data.dataloader.DataLoader object at 0x000001C2E1628EC8>), (-1, 12, <torch.utils.data.dataloader.DataLoader object at 0x000001C2E1628D48>), (-1, 13, <torch.utils.data.dataloader.DataLoader object at 0x000001C2E1628B88>), (-1, 14, <torch.utils.data.dataloader.DataLoader object at 0x000001C2E1628E88>), (-1, 15, <torch.utils.data.dataloader.DataLoader object at 0x000001C2E1628248>), (-1, 16, <torch.utils.data.dataloader.DataLoader object at 0x000001C2E1628588>), (-1, 17, <torch.utils.data.dataloader.DataLoader object at 0x000001C2E1628F08>), (-1, 18, <torch.utils.data.dataloader.DataLoader object at 0x000001C2E13D0108>), (-1, 19, <torch.utils.data.dataloader.DataLoader object at 0x000001C2E13D09C8>)], [(-1, 0, <torch.utils.data.dataloader.DataLoader object at 0x000001C2E1155AC8>), (-1, 1, <torch.utils.data.dataloader.DataLoader object at 0x000001C2E34BF308>), (-1, 2, <torch.utils.data.dataloader.DataLoader object at 0x000001C2E34BF8C8>), (-1, 3, <torch.utils.data.dataloader.DataLoader object at 0x000001C2E34BF608>), (-1, 4, <torch.utils.data.dataloader.DataLoader object at 0x000001C2E1652E88>), (-1, 5, <torch.utils.data.dataloader.DataLoader object at 0x000001C2E1652D08>), (-1, 6, <torch.utils.data.dataloader.DataLoader object at 0x000001C2E16523C8>), (-1, 7, <torch.utils.data.dataloader.DataLoader object at 0x000001C2E1652948>), (-1, 8, <torch.utils.data.dataloader.DataLoader object at 0x000001C2E16528C8>), (-1, 9, <torch.utils.data.dataloader.DataLoader object at 0x000001C2E1652848>), (-1, 10, <torch.utils.data.dataloader.DataLoader object at 0x000001C2E1628148>), (-1, 11, <torch.utils.data.dataloader.DataLoader object at 0x000001C2E1628EC8>), (-1, 12, <torch.utils.data.dataloader.DataLoader object at 0x000001C2E1628D48>), (-1, 13, <torch.utils.data.dataloader.DataLoader object at 0x000001C2E1628B88>), (-1, 14, <torch.utils.data.dataloader.DataLoader object at 0x000001C2E1628E88>), (-1, 15, <torch.utils.data.dataloader.DataLoader object at 0x000001C2E1628248>), (-1, 16, <torch.utils.data.dataloader.DataLoader object at 0x000001C2E1628588>), (-1, 17, <torch.utils.data.dataloader.DataLoader object at 0x000001C2E1628F08>), (-1, 18, <torch.utils.data.dataloader.DataLoader object at 0x000001C2E13D0108>), (-1, 19, <torch.utils.data.dataloader.DataLoader object at 0x000001C2E13D09C8>)], [(-1, 0, <torch.utils.data.dataloader.DataLoader object at 0x000001C2E1155AC8>), (-1, 1, <torch.utils.data.dataloader.DataLoader object at 0x000001C2E34BF308>), (-1, 2, <torch.utils.data.dataloader.DataLoader object at 0x000001C2E34BF8C8>), (-1, 3, <torch.utils.data.dataloader.DataLoader object at 0x000001C2E34BF608>), (-1, 4, <torch.utils.data.dataloader.DataLoader object at 0x000001C2E1652E88>), (-1, 5, <torch.utils.data.dataloader.DataLoader object at 0x000001C2E1652D08>), (-1, 6, <torch.utils.data.dataloader.DataLoader object at 0x000001C2E16523C8>), (-1, 7, <torch.utils.data.dataloader.DataLoader object at 0x000001C2E1652948>), (-1, 8, <torch.utils.data.dataloader.DataLoader object at 0x000001C2E16528C8>), (-1, 9, <torch.utils.data.dataloader.DataLoader object at 0x000001C2E1652848>), (-1, 10, <torch.utils.data.dataloader.DataLoader object at 0x000001C2E1628148>), (-1, 11, <torch.utils.data.dataloader.DataLoader object at 0x000001C2E1628EC8>), (-1, 12, <torch.utils.data.dataloader.DataLoader object at 0x000001C2E1628D48>), (-1, 13, <torch.utils.data.dataloader.DataLoader object at 0x000001C2E1628B88>), (-1, 14, <torch.utils.data.dataloader.DataLoader object at 0x000001C2E1628E88>), (-1, 15, <torch.utils.data.dataloader.DataLoader object at 0x000001C2E1628248>), (-1, 16, <torch.utils.data.dataloader.DataLoader object at 0x000001C2E1628588>), (-1, 17, <torch.utils.data.dataloader.DataLoader object at 0x000001C2E1628F08>), (-1, 18, <torch.utils.data.dataloader.DataLoader object at 0x000001C2E13D0108>), (-1, 19, <torch.utils.data.dataloader.DataLoader object at 0x000001C2E13D09C8>)], [(-1, 0, <torch.utils.data.dataloader.DataLoader object at 0x000001C2E1155AC8>), (-1, 1, <torch.utils.data.dataloader.DataLoader object at 0x000001C2E34BF308>), (-1, 2, <torch.utils.data.dataloader.DataLoader object at 0x000001C2E34BF8C8>), (-1, 3, <torch.utils.data.dataloader.DataLoader object at 0x000001C2E34BF608>), (-1, 4, <torch.utils.data.dataloader.DataLoader object at 0x000001C2E1652E88>), (-1, 5, <torch.utils.data.dataloader.DataLoader object at 0x000001C2E1652D08>), (-1, 6, <torch.utils.data.dataloader.DataLoader object at 0x000001C2E16523C8>), (-1, 7, <torch.utils.data.dataloader.DataLoader object at 0x000001C2E1652948>), (-1, 8, <torch.utils.data.dataloader.DataLoader object at 0x000001C2E16528C8>), (-1, 9, <torch.utils.data.dataloader.DataLoader object at 0x000001C2E1652848>), (-1, 10, <torch.utils.data.dataloader.DataLoader object at 0x000001C2E1628148>), (-1, 11, <torch.utils.data.dataloader.DataLoader object at 0x000001C2E1628EC8>), (-1, 12, <torch.utils.data.dataloader.DataLoader object at 0x000001C2E1628D48>), (-1, 13, <torch.utils.data.dataloader.DataLoader object at 0x000001C2E1628B88>), (-1, 14, <torch.utils.data.dataloader.DataLoader object at 0x000001C2E1628E88>), (-1, 15, <torch.utils.data.dataloader.DataLoader object at 0x000001C2E1628248>), (-1, 16, <torch.utils.data.dataloader.DataLoader object at 0x000001C2E1628588>), (-1, 17, <torch.utils.data.dataloader.DataLoader object at 0x000001C2E1628F08>), (-1, 18, <torch.utils.data.dataloader.DataLoader object at 0x000001C2E13D0108>), (-1, 19, <torch.utils.data.dataloader.DataLoader object at 0x000001C2E13D09C8>)], [(-1, 0, <torch.utils.data.dataloader.DataLoader object at 0x000001C2E1155AC8>), (-1, 1, <torch.utils.data.dataloader.DataLoader object at 0x000001C2E34BF308>), (-1, 2, <torch.utils.data.dataloader.DataLoader object at 0x000001C2E34BF8C8>), (-1, 3, <torch.utils.data.dataloader.DataLoader object at 0x000001C2E34BF608>), (-1, 4, <torch.utils.data.dataloader.DataLoader object at 0x000001C2E1652E88>), (-1, 5, <torch.utils.data.dataloader.DataLoader object at 0x000001C2E1652D08>), (-1, 6, <torch.utils.data.dataloader.DataLoader object at 0x000001C2E16523C8>), (-1, 7, <torch.utils.data.dataloader.DataLoader object at 0x000001C2E1652948>), (-1, 8, <torch.utils.data.dataloader.DataLoader object at 0x000001C2E16528C8>), (-1, 9, <torch.utils.data.dataloader.DataLoader object at 0x000001C2E1652848>), (-1, 10, <torch.utils.data.dataloader.DataLoader object at 0x000001C2E1628148>), (-1, 11, <torch.utils.data.dataloader.DataLoader object at 0x000001C2E1628EC8>), (-1, 12, <torch.utils.data.dataloader.DataLoader object at 0x000001C2E1628D48>), (-1, 13, <torch.utils.data.dataloader.DataLoader object at 0x000001C2E1628B88>), (-1, 14, <torch.utils.data.dataloader.DataLoader object at 0x000001C2E1628E88>), (-1, 15, <torch.utils.data.dataloader.DataLoader object at 0x000001C2E1628248>), (-1, 16, <torch.utils.data.dataloader.DataLoader object at 0x000001C2E1628588>), (-1, 17, <torch.utils.data.dataloader.DataLoader object at 0x000001C2E1628F08>), (-1, 18, <torch.utils.data.dataloader.DataLoader object at 0x000001C2E13D0108>), (-1, 19, <torch.utils.data.dataloader.DataLoader object at 0x000001C2E13D09C8>)], [(-1, 0, <torch.utils.data.dataloader.DataLoader object at 0x000001C2E1155AC8>), (-1, 1, <torch.utils.data.dataloader.DataLoader object at 0x000001C2E34BF308>), (-1, 2, <torch.utils.data.dataloader.DataLoader object at 0x000001C2E34BF8C8>), (-1, 3, <torch.utils.data.dataloader.DataLoader object at 0x000001C2E34BF608>), (-1, 4, <torch.utils.data.dataloader.DataLoader object at 0x000001C2E1652E88>), (-1, 5, <torch.utils.data.dataloader.DataLoader object at 0x000001C2E1652D08>), (-1, 6, <torch.utils.data.dataloader.DataLoader object at 0x000001C2E16523C8>), (-1, 7, <torch.utils.data.dataloader.DataLoader object at 0x000001C2E1652948>), (-1, 8, <torch.utils.data.dataloader.DataLoader object at 0x000001C2E16528C8>), (-1, 9, <torch.utils.data.dataloader.DataLoader object at 0x000001C2E1652848>), (-1, 10, <torch.utils.data.dataloader.DataLoader object at 0x000001C2E1628148>), (-1, 11, <torch.utils.data.dataloader.DataLoader object at 0x000001C2E1628EC8>), (-1, 12, <torch.utils.data.dataloader.DataLoader object at 0x000001C2E1628D48>), (-1, 13, <torch.utils.data.dataloader.DataLoader object at 0x000001C2E1628B88>), (-1, 14, <torch.utils.data.dataloader.DataLoader object at 0x000001C2E1628E88>), (-1, 15, <torch.utils.data.dataloader.DataLoader object at 0x000001C2E1628248>), (-1, 16, <torch.utils.data.dataloader.DataLoader object at 0x000001C2E1628588>), (-1, 17, <torch.utils.data.dataloader.DataLoader object at 0x000001C2E1628F08>), (-1, 18, <torch.utils.data.dataloader.DataLoader object at 0x000001C2E13D0108>), (-1, 19, <torch.utils.data.dataloader.DataLoader object at 0x000001C2E13D09C8>)], [(-1, 0, <torch.utils.data.dataloader.DataLoader object at 0x000001C2E1155AC8>), (-1, 1, <torch.utils.data.dataloader.DataLoader object at 0x000001C2E34BF308>), (-1, 2, <torch.utils.data.dataloader.DataLoader object at 0x000001C2E34BF8C8>), (-1, 3, <torch.utils.data.dataloader.DataLoader object at 0x000001C2E34BF608>), (-1, 4, <torch.utils.data.dataloader.DataLoader object at 0x000001C2E1652E88>), (-1, 5, <torch.utils.data.dataloader.DataLoader object at 0x000001C2E1652D08>), (-1, 6, <torch.utils.data.dataloader.DataLoader object at 0x000001C2E16523C8>), (-1, 7, <torch.utils.data.dataloader.DataLoader object at 0x000001C2E1652948>), (-1, 8, <torch.utils.data.dataloader.DataLoader object at 0x000001C2E16528C8>), (-1, 9, <torch.utils.data.dataloader.DataLoader object at 0x000001C2E1652848>), (-1, 10, <torch.utils.data.dataloader.DataLoader object at 0x000001C2E1628148>), (-1, 11, <torch.utils.data.dataloader.DataLoader object at 0x000001C2E1628EC8>), (-1, 12, <torch.utils.data.dataloader.DataLoader object at 0x000001C2E1628D48>), (-1, 13, <torch.utils.data.dataloader.DataLoader object at 0x000001C2E1628B88>), (-1, 14, <torch.utils.data.dataloader.DataLoader object at 0x000001C2E1628E88>), (-1, 15, <torch.utils.data.dataloader.DataLoader object at 0x000001C2E1628248>), (-1, 16, <torch.utils.data.dataloader.DataLoader object at 0x000001C2E1628588>), (-1, 17, <torch.utils.data.dataloader.DataLoader object at 0x000001C2E1628F08>), (-1, 18, <torch.utils.data.dataloader.DataLoader object at 0x000001C2E13D0108>), (-1, 19, <torch.utils.data.dataloader.DataLoader object at 0x000001C2E13D09C8>)], [(-1, 0, <torch.utils.data.dataloader.DataLoader object at 0x000001C2E1155AC8>), (-1, 1, <torch.utils.data.dataloader.DataLoader object at 0x000001C2E34BF308>), (-1, 2, <torch.utils.data.dataloader.DataLoader object at 0x000001C2E34BF8C8>), (-1, 3, <torch.utils.data.dataloader.DataLoader object at 0x000001C2E34BF608>), (-1, 4, <torch.utils.data.dataloader.DataLoader object at 0x000001C2E1652E88>), (-1, 5, <torch.utils.data.dataloader.DataLoader object at 0x000001C2E1652D08>), (-1, 6, <torch.utils.data.dataloader.DataLoader object at 0x000001C2E16523C8>), (-1, 7, <torch.utils.data.dataloader.DataLoader object at 0x000001C2E1652948>), (-1, 8, <torch.utils.data.dataloader.DataLoader object at 0x000001C2E16528C8>), (-1, 9, <torch.utils.data.dataloader.DataLoader object at 0x000001C2E1652848>), (-1, 10, <torch.utils.data.dataloader.DataLoader object at 0x000001C2E1628148>), (-1, 11, <torch.utils.data.dataloader.DataLoader object at 0x000001C2E1628EC8>), (-1, 12, <torch.utils.data.dataloader.DataLoader object at 0x000001C2E1628D48>), (-1, 13, <torch.utils.data.dataloader.DataLoader object at 0x000001C2E1628B88>), (-1, 14, <torch.utils.data.dataloader.DataLoader object at 0x000001C2E1628E88>), (-1, 15, <torch.utils.data.dataloader.DataLoader object at 0x000001C2E1628248>), (-1, 16, <torch.utils.data.dataloader.DataLoader object at 0x000001C2E1628588>), (-1, 17, <torch.utils.data.dataloader.DataLoader object at 0x000001C2E1628F08>), (-1, 18, <torch.utils.data.dataloader.DataLoader object at 0x000001C2E13D0108>), (-1, 19, <torch.utils.data.dataloader.DataLoader object at 0x000001C2E13D09C8>)], [(-1, 0, <torch.utils.data.dataloader.DataLoader object at 0x000001C2E1155AC8>), (-1, 1, <torch.utils.data.dataloader.DataLoader object at 0x000001C2E34BF308>), (-1, 2, <torch.utils.data.dataloader.DataLoader object at 0x000001C2E34BF8C8>), (-1, 3, <torch.utils.data.dataloader.DataLoader object at 0x000001C2E34BF608>), (-1, 4, <torch.utils.data.dataloader.DataLoader object at 0x000001C2E1652E88>), (-1, 5, <torch.utils.data.dataloader.DataLoader object at 0x000001C2E1652D08>), (-1, 6, <torch.utils.data.dataloader.DataLoader object at 0x000001C2E16523C8>), (-1, 7, <torch.utils.data.dataloader.DataLoader object at 0x000001C2E1652948>), (-1, 8, <torch.utils.data.dataloader.DataLoader object at 0x000001C2E16528C8>), (-1, 9, <torch.utils.data.dataloader.DataLoader object at 0x000001C2E1652848>), (-1, 10, <torch.utils.data.dataloader.DataLoader object at 0x000001C2E1628148>), (-1, 11, <torch.utils.data.dataloader.DataLoader object at 0x000001C2E1628EC8>), (-1, 12, <torch.utils.data.dataloader.DataLoader object at 0x000001C2E1628D48>), (-1, 13, <torch.utils.data.dataloader.DataLoader object at 0x000001C2E1628B88>), (-1, 14, <torch.utils.data.dataloader.DataLoader object at 0x000001C2E1628E88>), (-1, 15, <torch.utils.data.dataloader.DataLoader object at 0x000001C2E1628248>), (-1, 16, <torch.utils.data.dataloader.DataLoader object at 0x000001C2E1628588>), (-1, 17, <torch.utils.data.dataloader.DataLoader object at 0x000001C2E1628F08>), (-1, 18, <torch.utils.data.dataloader.DataLoader object at 0x000001C2E13D0108>), (-1, 19, <torch.utils.data.dataloader.DataLoader object at 0x000001C2E13D09C8>)], [(-1, 0, <torch.utils.data.dataloader.DataLoader object at 0x000001C2E1155AC8>), (-1, 1, <torch.utils.data.dataloader.DataLoader object at 0x000001C2E34BF308>), (-1, 2, <torch.utils.data.dataloader.DataLoader object at 0x000001C2E34BF8C8>), (-1, 3, <torch.utils.data.dataloader.DataLoader object at 0x000001C2E34BF608>), (-1, 4, <torch.utils.data.dataloader.DataLoader object at 0x000001C2E1652E88>), (-1, 5, <torch.utils.data.dataloader.DataLoader object at 0x000001C2E1652D08>), (-1, 6, <torch.utils.data.dataloader.DataLoader object at 0x000001C2E16523C8>), (-1, 7, <torch.utils.data.dataloader.DataLoader object at 0x000001C2E1652948>), (-1, 8, <torch.utils.data.dataloader.DataLoader object at 0x000001C2E16528C8>), (-1, 9, <torch.utils.data.dataloader.DataLoader object at 0x000001C2E1652848>), (-1, 10, <torch.utils.data.dataloader.DataLoader object at 0x000001C2E1628148>), (-1, 11, <torch.utils.data.dataloader.DataLoader object at 0x000001C2E1628EC8>), (-1, 12, <torch.utils.data.dataloader.DataLoader object at 0x000001C2E1628D48>), (-1, 13, <torch.utils.data.dataloader.DataLoader object at 0x000001C2E1628B88>), (-1, 14, <torch.utils.data.dataloader.DataLoader object at 0x000001C2E1628E88>), (-1, 15, <torch.utils.data.dataloader.DataLoader object at 0x000001C2E1628248>), (-1, 16, <torch.utils.data.dataloader.DataLoader object at 0x000001C2E1628588>), (-1, 17, <torch.utils.data.dataloader.DataLoader object at 0x000001C2E1628F08>), (-1, 18, <torch.utils.data.dataloader.DataLoader object at 0x000001C2E13D0108>), (-1, 19, <torch.utils.data.dataloader.DataLoader object at 0x000001C2E13D09C8>)], [(-1, 0, <torch.utils.data.dataloader.DataLoader object at 0x000001C2E1155AC8>), (-1, 1, <torch.utils.data.dataloader.DataLoader object at 0x000001C2E34BF308>), (-1, 2, <torch.utils.data.dataloader.DataLoader object at 0x000001C2E34BF8C8>), (-1, 3, <torch.utils.data.dataloader.DataLoader object at 0x000001C2E34BF608>), (-1, 4, <torch.utils.data.dataloader.DataLoader object at 0x000001C2E1652E88>), (-1, 5, <torch.utils.data.dataloader.DataLoader object at 0x000001C2E1652D08>), (-1, 6, <torch.utils.data.dataloader.DataLoader object at 0x000001C2E16523C8>), (-1, 7, <torch.utils.data.dataloader.DataLoader object at 0x000001C2E1652948>), (-1, 8, <torch.utils.data.dataloader.DataLoader object at 0x000001C2E16528C8>), (-1, 9, <torch.utils.data.dataloader.DataLoader object at 0x000001C2E1652848>), (-1, 10, <torch.utils.data.dataloader.DataLoader object at 0x000001C2E1628148>), (-1, 11, <torch.utils.data.dataloader.DataLoader object at 0x000001C2E1628EC8>), (-1, 12, <torch.utils.data.dataloader.DataLoader object at 0x000001C2E1628D48>), (-1, 13, <torch.utils.data.dataloader.DataLoader object at 0x000001C2E1628B88>), (-1, 14, <torch.utils.data.dataloader.DataLoader object at 0x000001C2E1628E88>), (-1, 15, <torch.utils.data.dataloader.DataLoader object at 0x000001C2E1628248>), (-1, 16, <torch.utils.data.dataloader.DataLoader object at 0x000001C2E1628588>), (-1, 17, <torch.utils.data.dataloader.DataLoader object at 0x000001C2E1628F08>), (-1, 18, <torch.utils.data.dataloader.DataLoader object at 0x000001C2E13D0108>), (-1, 19, <torch.utils.data.dataloader.DataLoader object at 0x000001C2E13D09C8>)], [(-1, 0, <torch.utils.data.dataloader.DataLoader object at 0x000001C2E1155AC8>), (-1, 1, <torch.utils.data.dataloader.DataLoader object at 0x000001C2E34BF308>), (-1, 2, <torch.utils.data.dataloader.DataLoader object at 0x000001C2E34BF8C8>), (-1, 3, <torch.utils.data.dataloader.DataLoader object at 0x000001C2E34BF608>), (-1, 4, <torch.utils.data.dataloader.DataLoader object at 0x000001C2E1652E88>), (-1, 5, <torch.utils.data.dataloader.DataLoader object at 0x000001C2E1652D08>), (-1, 6, <torch.utils.data.dataloader.DataLoader object at 0x000001C2E16523C8>), (-1, 7, <torch.utils.data.dataloader.DataLoader object at 0x000001C2E1652948>), (-1, 8, <torch.utils.data.dataloader.DataLoader object at 0x000001C2E16528C8>), (-1, 9, <torch.utils.data.dataloader.DataLoader object at 0x000001C2E1652848>), (-1, 10, <torch.utils.data.dataloader.DataLoader object at 0x000001C2E1628148>), (-1, 11, <torch.utils.data.dataloader.DataLoader object at 0x000001C2E1628EC8>), (-1, 12, <torch.utils.data.dataloader.DataLoader object at 0x000001C2E1628D48>), (-1, 13, <torch.utils.data.dataloader.DataLoader object at 0x000001C2E1628B88>), (-1, 14, <torch.utils.data.dataloader.DataLoader object at 0x000001C2E1628E88>), (-1, 15, <torch.utils.data.dataloader.DataLoader object at 0x000001C2E1628248>), (-1, 16, <torch.utils.data.dataloader.DataLoader object at 0x000001C2E1628588>), (-1, 17, <torch.utils.data.dataloader.DataLoader object at 0x000001C2E1628F08>), (-1, 18, <torch.utils.data.dataloader.DataLoader object at 0x000001C2E13D0108>), (-1, 19, <torch.utils.data.dataloader.DataLoader object at 0x000001C2E13D09C8>)], [(-1, 0, <torch.utils.data.dataloader.DataLoader object at 0x000001C2E1155AC8>), (-1, 1, <torch.utils.data.dataloader.DataLoader object at 0x000001C2E34BF308>), (-1, 2, <torch.utils.data.dataloader.DataLoader object at 0x000001C2E34BF8C8>), (-1, 3, <torch.utils.data.dataloader.DataLoader object at 0x000001C2E34BF608>), (-1, 4, <torch.utils.data.dataloader.DataLoader object at 0x000001C2E1652E88>), (-1, 5, <torch.utils.data.dataloader.DataLoader object at 0x000001C2E1652D08>), (-1, 6, <torch.utils.data.dataloader.DataLoader object at 0x000001C2E16523C8>), (-1, 7, <torch.utils.data.dataloader.DataLoader object at 0x000001C2E1652948>), (-1, 8, <torch.utils.data.dataloader.DataLoader object at 0x000001C2E16528C8>), (-1, 9, <torch.utils.data.dataloader.DataLoader object at 0x000001C2E1652848>), (-1, 10, <torch.utils.data.dataloader.DataLoader object at 0x000001C2E1628148>), (-1, 11, <torch.utils.data.dataloader.DataLoader object at 0x000001C2E1628EC8>), (-1, 12, <torch.utils.data.dataloader.DataLoader object at 0x000001C2E1628D48>), (-1, 13, <torch.utils.data.dataloader.DataLoader object at 0x000001C2E1628B88>), (-1, 14, <torch.utils.data.dataloader.DataLoader object at 0x000001C2E1628E88>), (-1, 15, <torch.utils.data.dataloader.DataLoader object at 0x000001C2E1628248>), (-1, 16, <torch.utils.data.dataloader.DataLoader object at 0x000001C2E1628588>), (-1, 17, <torch.utils.data.dataloader.DataLoader object at 0x000001C2E1628F08>), (-1, 18, <torch.utils.data.dataloader.DataLoader object at 0x000001C2E13D0108>), (-1, 19, <torch.utils.data.dataloader.DataLoader object at 0x000001C2E13D09C8>)], [(-1, 0, <torch.utils.data.dataloader.DataLoader object at 0x000001C2E1155AC8>), (-1, 1, <torch.utils.data.dataloader.DataLoader object at 0x000001C2E34BF308>), (-1, 2, <torch.utils.data.dataloader.DataLoader object at 0x000001C2E34BF8C8>), (-1, 3, <torch.utils.data.dataloader.DataLoader object at 0x000001C2E34BF608>), (-1, 4, <torch.utils.data.dataloader.DataLoader object at 0x000001C2E1652E88>), (-1, 5, <torch.utils.data.dataloader.DataLoader object at 0x000001C2E1652D08>), (-1, 6, <torch.utils.data.dataloader.DataLoader object at 0x000001C2E16523C8>), (-1, 7, <torch.utils.data.dataloader.DataLoader object at 0x000001C2E1652948>), (-1, 8, <torch.utils.data.dataloader.DataLoader object at 0x000001C2E16528C8>), (-1, 9, <torch.utils.data.dataloader.DataLoader object at 0x000001C2E1652848>), (-1, 10, <torch.utils.data.dataloader.DataLoader object at 0x000001C2E1628148>), (-1, 11, <torch.utils.data.dataloader.DataLoader object at 0x000001C2E1628EC8>), (-1, 12, <torch.utils.data.dataloader.DataLoader object at 0x000001C2E1628D48>), (-1, 13, <torch.utils.data.dataloader.DataLoader object at 0x000001C2E1628B88>), (-1, 14, <torch.utils.data.dataloader.DataLoader object at 0x000001C2E1628E88>), (-1, 15, <torch.utils.data.dataloader.DataLoader object at 0x000001C2E1628248>), (-1, 16, <torch.utils.data.dataloader.DataLoader object at 0x000001C2E1628588>), (-1, 17, <torch.utils.data.dataloader.DataLoader object at 0x000001C2E1628F08>), (-1, 18, <torch.utils.data.dataloader.DataLoader object at 0x000001C2E13D0108>), (-1, 19, <torch.utils.data.dataloader.DataLoader object at 0x000001C2E13D09C8>)], [(-1, 0, <torch.utils.data.dataloader.DataLoader object at 0x000001C2E1155AC8>), (-1, 1, <torch.utils.data.dataloader.DataLoader object at 0x000001C2E34BF308>), (-1, 2, <torch.utils.data.dataloader.DataLoader object at 0x000001C2E34BF8C8>), (-1, 3, <torch.utils.data.dataloader.DataLoader object at 0x000001C2E34BF608>), (-1, 4, <torch.utils.data.dataloader.DataLoader object at 0x000001C2E1652E88>), (-1, 5, <torch.utils.data.dataloader.DataLoader object at 0x000001C2E1652D08>), (-1, 6, <torch.utils.data.dataloader.DataLoader object at 0x000001C2E16523C8>), (-1, 7, <torch.utils.data.dataloader.DataLoader object at 0x000001C2E1652948>), (-1, 8, <torch.utils.data.dataloader.DataLoader object at 0x000001C2E16528C8>), (-1, 9, <torch.utils.data.dataloader.DataLoader object at 0x000001C2E1652848>), (-1, 10, <torch.utils.data.dataloader.DataLoader object at 0x000001C2E1628148>), (-1, 11, <torch.utils.data.dataloader.DataLoader object at 0x000001C2E1628EC8>), (-1, 12, <torch.utils.data.dataloader.DataLoader object at 0x000001C2E1628D48>), (-1, 13, <torch.utils.data.dataloader.DataLoader object at 0x000001C2E1628B88>), (-1, 14, <torch.utils.data.dataloader.DataLoader object at 0x000001C2E1628E88>), (-1, 15, <torch.utils.data.dataloader.DataLoader object at 0x000001C2E1628248>), (-1, 16, <torch.utils.data.dataloader.DataLoader object at 0x000001C2E1628588>), (-1, 17, <torch.utils.data.dataloader.DataLoader object at 0x000001C2E1628F08>), (-1, 18, <torch.utils.data.dataloader.DataLoader object at 0x000001C2E13D0108>), (-1, 19, <torch.utils.data.dataloader.DataLoader object at 0x000001C2E13D09C8>)], [(-1, 0, <torch.utils.data.dataloader.DataLoader object at 0x000001C2E1155AC8>), (-1, 1, <torch.utils.data.dataloader.DataLoader object at 0x000001C2E34BF308>), (-1, 2, <torch.utils.data.dataloader.DataLoader object at 0x000001C2E34BF8C8>), (-1, 3, <torch.utils.data.dataloader.DataLoader object at 0x000001C2E34BF608>), (-1, 4, <torch.utils.data.dataloader.DataLoader object at 0x000001C2E1652E88>), (-1, 5, <torch.utils.data.dataloader.DataLoader object at 0x000001C2E1652D08>), (-1, 6, <torch.utils.data.dataloader.DataLoader object at 0x000001C2E16523C8>), (-1, 7, <torch.utils.data.dataloader.DataLoader object at 0x000001C2E1652948>), (-1, 8, <torch.utils.data.dataloader.DataLoader object at 0x000001C2E16528C8>), (-1, 9, <torch.utils.data.dataloader.DataLoader object at 0x000001C2E1652848>), (-1, 10, <torch.utils.data.dataloader.DataLoader object at 0x000001C2E1628148>), (-1, 11, <torch.utils.data.dataloader.DataLoader object at 0x000001C2E1628EC8>), (-1, 12, <torch.utils.data.dataloader.DataLoader object at 0x000001C2E1628D48>), (-1, 13, <torch.utils.data.dataloader.DataLoader object at 0x000001C2E1628B88>), (-1, 14, <torch.utils.data.dataloader.DataLoader object at 0x000001C2E1628E88>), (-1, 15, <torch.utils.data.dataloader.DataLoader object at 0x000001C2E1628248>), (-1, 16, <torch.utils.data.dataloader.DataLoader object at 0x000001C2E1628588>), (-1, 17, <torch.utils.data.dataloader.DataLoader object at 0x000001C2E1628F08>), (-1, 18, <torch.utils.data.dataloader.DataLoader object at 0x000001C2E13D0108>), (-1, 19, <torch.utils.data.dataloader.DataLoader object at 0x000001C2E13D09C8>)], [(-1, 0, <torch.utils.data.dataloader.DataLoader object at 0x000001C2E1155AC8>), (-1, 1, <torch.utils.data.dataloader.DataLoader object at 0x000001C2E34BF308>), (-1, 2, <torch.utils.data.dataloader.DataLoader object at 0x000001C2E34BF8C8>), (-1, 3, <torch.utils.data.dataloader.DataLoader object at 0x000001C2E34BF608>), (-1, 4, <torch.utils.data.dataloader.DataLoader object at 0x000001C2E1652E88>), (-1, 5, <torch.utils.data.dataloader.DataLoader object at 0x000001C2E1652D08>), (-1, 6, <torch.utils.data.dataloader.DataLoader object at 0x000001C2E16523C8>), (-1, 7, <torch.utils.data.dataloader.DataLoader object at 0x000001C2E1652948>), (-1, 8, <torch.utils.data.dataloader.DataLoader object at 0x000001C2E16528C8>), (-1, 9, <torch.utils.data.dataloader.DataLoader object at 0x000001C2E1652848>), (-1, 10, <torch.utils.data.dataloader.DataLoader object at 0x000001C2E1628148>), (-1, 11, <torch.utils.data.dataloader.DataLoader object at 0x000001C2E1628EC8>), (-1, 12, <torch.utils.data.dataloader.DataLoader object at 0x000001C2E1628D48>), (-1, 13, <torch.utils.data.dataloader.DataLoader object at 0x000001C2E1628B88>), (-1, 14, <torch.utils.data.dataloader.DataLoader object at 0x000001C2E1628E88>), (-1, 15, <torch.utils.data.dataloader.DataLoader object at 0x000001C2E1628248>), (-1, 16, <torch.utils.data.dataloader.DataLoader object at 0x000001C2E1628588>), (-1, 17, <torch.utils.data.dataloader.DataLoader object at 0x000001C2E1628F08>), (-1, 18, <torch.utils.data.dataloader.DataLoader object at 0x000001C2E13D0108>), (-1, 19, <torch.utils.data.dataloader.DataLoader object at 0x000001C2E13D09C8>)]]\n"
     ]
    }
   ],
   "source": [
    "if iid:\n",
    "    train_loaders=[]\n",
    "    for i in range(n_iter):\n",
    "        train_loaders.append([(i, pos, get_train_iid(all_range, pos, i))\n",
    "                                for pos in range(num_of_workers)])\n",
    "else:\n",
    "    indices_per_participant = sample_dirichlet_train_data(\n",
    "        num_of_workers,\n",
    "        #dataset= torch.utils.data.Subset(train_dataset, list(range(240))),\n",
    "        alpha=0.95,\n",
    "        copylist=copylist)\n",
    "    train_loaders = [(-1, pos, get_train_noniid(indices)) for pos, indices in\n",
    "                    indices_per_participant.items()]\n",
    "    train_loaders = n_iter * [train_loaders]\n",
    "\n",
    "print(train_loaders)"
   ]
  },
  {
   "cell_type": "code",
   "execution_count": null,
   "metadata": {
    "colab": {
     "base_uri": "https://localhost:8080/"
    },
    "id": "HFU41nvozNJI",
    "outputId": "12464ed8-464b-4431-b96f-a69a9d84bf69"
   },
   "outputs": [
    {
     "name": "stdout",
     "output_type": "stream",
     "text": [
      "\n",
      "\n",
      " Entering epoch 0\n",
      "Iter 0 - Epoch 0 - Client Type: Benign - Client Number 0 - Poison Training False\n"
     ]
    },
    {
     "name": "stderr",
     "output_type": "stream",
     "text": [
      "100%|████████████████████████████████████████████████████████████████████████████████████| 1/1 [00:01<00:00,  1.04s/it]\n"
     ]
    },
    {
     "name": "stdout",
     "output_type": "stream",
     "text": [
      "Iter 0 - Epoch 0 - Client Type: Benign - Client Number 1 - Poison Training False\n"
     ]
    },
    {
     "name": "stderr",
     "output_type": "stream",
     "text": [
      "100%|████████████████████████████████████████████████████████████████████████████████████| 1/1 [00:00<00:00,  1.24it/s]\n"
     ]
    },
    {
     "name": "stdout",
     "output_type": "stream",
     "text": [
      "Iter 0 - Epoch 0 - Client Type: Benign - Client Number 2 - Poison Training False\n"
     ]
    },
    {
     "name": "stderr",
     "output_type": "stream",
     "text": [
      "100%|████████████████████████████████████████████████████████████████████████████████████| 2/2 [00:01<00:00,  1.51it/s]\n"
     ]
    },
    {
     "name": "stdout",
     "output_type": "stream",
     "text": [
      "Iter 0 - Epoch 0 - Client Type: Benign - Client Number 3 - Poison Training False\n"
     ]
    },
    {
     "name": "stderr",
     "output_type": "stream",
     "text": [
      "100%|████████████████████████████████████████████████████████████████████████████████████| 1/1 [00:00<00:00,  1.09it/s]\n"
     ]
    },
    {
     "name": "stdout",
     "output_type": "stream",
     "text": [
      "Iter 0 - Epoch 0 - Client Type: Benign - Client Number 4 - Poison Training False\n"
     ]
    },
    {
     "name": "stderr",
     "output_type": "stream",
     "text": [
      "100%|████████████████████████████████████████████████████████████████████████████████████| 1/1 [00:00<00:00,  1.29it/s]\n"
     ]
    },
    {
     "name": "stdout",
     "output_type": "stream",
     "text": [
      "Iter 0 - Epoch 0 - Client Type: Benign - Client Number 5 - Poison Training False\n"
     ]
    },
    {
     "name": "stderr",
     "output_type": "stream",
     "text": [
      "100%|████████████████████████████████████████████████████████████████████████████████████| 1/1 [00:00<00:00,  1.06it/s]\n"
     ]
    },
    {
     "name": "stdout",
     "output_type": "stream",
     "text": [
      "Iter 0 - Epoch 0 - Client Type: Benign - Client Number 6 - Poison Training False\n"
     ]
    },
    {
     "name": "stderr",
     "output_type": "stream",
     "text": [
      "100%|████████████████████████████████████████████████████████████████████████████████████| 1/1 [00:00<00:00,  1.06it/s]\n"
     ]
    },
    {
     "name": "stdout",
     "output_type": "stream",
     "text": [
      "Iter 0 - Epoch 0 - Client Type: Benign - Client Number 7 - Poison Training False\n"
     ]
    },
    {
     "name": "stderr",
     "output_type": "stream",
     "text": [
      "100%|████████████████████████████████████████████████████████████████████████████████████| 1/1 [00:00<00:00,  1.02it/s]\n"
     ]
    },
    {
     "name": "stdout",
     "output_type": "stream",
     "text": [
      "Iter 0 - Epoch 0 - Client Type: Benign - Client Number 8 - Poison Training False\n"
     ]
    },
    {
     "name": "stderr",
     "output_type": "stream",
     "text": [
      "100%|████████████████████████████████████████████████████████████████████████████████████| 2/2 [00:01<00:00,  1.80it/s]\n"
     ]
    },
    {
     "name": "stdout",
     "output_type": "stream",
     "text": [
      "Iter 0 - Epoch 0 - Client Type: Benign - Client Number 9 - Poison Training False\n"
     ]
    },
    {
     "name": "stderr",
     "output_type": "stream",
     "text": [
      "100%|████████████████████████████████████████████████████████████████████████████████████| 1/1 [00:00<00:00,  1.05it/s]\n"
     ]
    },
    {
     "name": "stdout",
     "output_type": "stream",
     "text": [
      "Iter 0 - Epoch 0 - Client Type: Benign - Client Number 10 - Poison Training False\n"
     ]
    },
    {
     "name": "stderr",
     "output_type": "stream",
     "text": [
      "100%|████████████████████████████████████████████████████████████████████████████████████| 2/2 [00:01<00:00,  1.85it/s]\n"
     ]
    },
    {
     "name": "stdout",
     "output_type": "stream",
     "text": [
      "Iter 0 - Epoch 0 - Client Type: Benign - Client Number 11 - Poison Training False\n"
     ]
    },
    {
     "name": "stderr",
     "output_type": "stream",
     "text": [
      "100%|████████████████████████████████████████████████████████████████████████████████████| 2/2 [00:01<00:00,  1.81it/s]\n"
     ]
    },
    {
     "name": "stdout",
     "output_type": "stream",
     "text": [
      "Iter 0 - Epoch 0 - Client Type: Benign - Client Number 12 - Poison Training False\n"
     ]
    },
    {
     "name": "stderr",
     "output_type": "stream",
     "text": [
      "100%|████████████████████████████████████████████████████████████████████████████████████| 1/1 [00:00<00:00,  1.55it/s]\n"
     ]
    },
    {
     "name": "stdout",
     "output_type": "stream",
     "text": [
      "Iter 0 - Epoch 0 - Client Type: Benign - Client Number 13 - Poison Training False\n"
     ]
    },
    {
     "name": "stderr",
     "output_type": "stream",
     "text": [
      "100%|████████████████████████████████████████████████████████████████████████████████████| 2/2 [00:01<00:00,  1.69it/s]\n"
     ]
    },
    {
     "name": "stdout",
     "output_type": "stream",
     "text": [
      "Iter 0 - Epoch 0 - Client Type: Benign - Client Number 14 - Poison Training False\n"
     ]
    },
    {
     "name": "stderr",
     "output_type": "stream",
     "text": [
      "100%|████████████████████████████████████████████████████████████████████████████████████| 2/2 [00:01<00:00,  1.71it/s]\n"
     ]
    },
    {
     "name": "stdout",
     "output_type": "stream",
     "text": [
      "Iter 0 - Epoch 0 - Client Type: Benign - Client Number 15 - Poison Training False\n"
     ]
    },
    {
     "name": "stderr",
     "output_type": "stream",
     "text": [
      "100%|████████████████████████████████████████████████████████████████████████████████████| 1/1 [00:01<00:00,  1.05s/it]\n"
     ]
    },
    {
     "name": "stdout",
     "output_type": "stream",
     "text": [
      "Iter 0 - Epoch 0 - Client Type: Benign - Client Number 16 - Poison Training False\n"
     ]
    },
    {
     "name": "stderr",
     "output_type": "stream",
     "text": [
      "100%|████████████████████████████████████████████████████████████████████████████████████| 1/1 [00:00<00:00,  1.06it/s]\n"
     ]
    },
    {
     "name": "stdout",
     "output_type": "stream",
     "text": [
      "Iter 0 - Epoch 0 - Client Type: Benign - Client Number 17 - Poison Training False\n"
     ]
    },
    {
     "name": "stderr",
     "output_type": "stream",
     "text": [
      "100%|████████████████████████████████████████████████████████████████████████████████████| 2/2 [00:01<00:00,  1.26it/s]\n"
     ]
    },
    {
     "name": "stdout",
     "output_type": "stream",
     "text": [
      "Iter 0 - Epoch 0 - Client Type: Benign - Client Number 18 - Poison Training False\n"
     ]
    },
    {
     "name": "stderr",
     "output_type": "stream",
     "text": [
      "100%|████████████████████████████████████████████████████████████████████████████████████| 1/1 [00:00<00:00,  1.01it/s]\n"
     ]
    },
    {
     "name": "stdout",
     "output_type": "stream",
     "text": [
      "Iter 0 - Epoch 0 - Client Type: Benign - Client Number 19 - Poison Training False\n"
     ]
    },
    {
     "name": "stderr",
     "output_type": "stream",
     "text": [
      "100%|████████████████████████████████████████████████████████████████████████████████████| 2/2 [00:01<00:00,  1.63it/s]\n"
     ]
    },
    {
     "name": "stdout",
     "output_type": "stream",
     "text": [
      "\n",
      "\n",
      " Entering epoch 1\n",
      "Iter 0 - Epoch 0 - Client Type: Benign - Client Number 0 - Poison Training False\n"
     ]
    },
    {
     "name": "stderr",
     "output_type": "stream",
     "text": [
      "100%|████████████████████████████████████████████████████████████████████████████████████| 1/1 [00:01<00:00,  1.00s/it]\n"
     ]
    },
    {
     "name": "stdout",
     "output_type": "stream",
     "text": [
      "Iter 0 - Epoch 0 - Client Type: Benign - Client Number 1 - Poison Training False\n"
     ]
    },
    {
     "name": "stderr",
     "output_type": "stream",
     "text": [
      "100%|████████████████████████████████████████████████████████████████████████████████████| 1/1 [00:00<00:00,  1.21it/s]\n"
     ]
    },
    {
     "name": "stdout",
     "output_type": "stream",
     "text": [
      "Iter 0 - Epoch 0 - Client Type: Benign - Client Number 2 - Poison Training False\n"
     ]
    },
    {
     "name": "stderr",
     "output_type": "stream",
     "text": [
      "100%|████████████████████████████████████████████████████████████████████████████████████| 2/2 [00:01<00:00,  1.40it/s]\n"
     ]
    },
    {
     "name": "stdout",
     "output_type": "stream",
     "text": [
      "Iter 0 - Epoch 0 - Client Type: Benign - Client Number 3 - Poison Training False\n"
     ]
    },
    {
     "name": "stderr",
     "output_type": "stream",
     "text": [
      "100%|████████████████████████████████████████████████████████████████████████████████████| 1/1 [00:00<00:00,  1.08it/s]\n"
     ]
    },
    {
     "name": "stdout",
     "output_type": "stream",
     "text": [
      "Iter 0 - Epoch 0 - Client Type: Benign - Client Number 4 - Poison Training False\n"
     ]
    },
    {
     "name": "stderr",
     "output_type": "stream",
     "text": [
      "100%|████████████████████████████████████████████████████████████████████████████████████| 1/1 [00:00<00:00,  1.25it/s]\n"
     ]
    },
    {
     "name": "stdout",
     "output_type": "stream",
     "text": [
      "Iter 0 - Epoch 0 - Client Type: Benign - Client Number 5 - Poison Training False\n"
     ]
    },
    {
     "name": "stderr",
     "output_type": "stream",
     "text": [
      "100%|████████████████████████████████████████████████████████████████████████████████████| 1/1 [00:01<00:00,  1.02s/it]\n"
     ]
    },
    {
     "name": "stdout",
     "output_type": "stream",
     "text": [
      "Iter 0 - Epoch 0 - Client Type: Benign - Client Number 6 - Poison Training False\n"
     ]
    },
    {
     "name": "stderr",
     "output_type": "stream",
     "text": [
      "100%|████████████████████████████████████████████████████████████████████████████████████| 1/1 [00:00<00:00,  1.01it/s]\n"
     ]
    },
    {
     "name": "stdout",
     "output_type": "stream",
     "text": [
      "Iter 0 - Epoch 0 - Client Type: Benign - Client Number 7 - Poison Training False\n"
     ]
    },
    {
     "name": "stderr",
     "output_type": "stream",
     "text": [
      "100%|████████████████████████████████████████████████████████████████████████████████████| 1/1 [00:00<00:00,  1.02it/s]\n"
     ]
    },
    {
     "name": "stdout",
     "output_type": "stream",
     "text": [
      "Iter 0 - Epoch 0 - Client Type: Benign - Client Number 8 - Poison Training False\n"
     ]
    },
    {
     "name": "stderr",
     "output_type": "stream",
     "text": [
      "100%|████████████████████████████████████████████████████████████████████████████████████| 2/2 [00:01<00:00,  1.71it/s]\n"
     ]
    },
    {
     "name": "stdout",
     "output_type": "stream",
     "text": [
      "Iter 0 - Epoch 0 - Client Type: Benign - Client Number 9 - Poison Training False\n"
     ]
    },
    {
     "name": "stderr",
     "output_type": "stream",
     "text": [
      "100%|████████████████████████████████████████████████████████████████████████████████████| 1/1 [00:00<00:00,  1.04it/s]\n"
     ]
    },
    {
     "name": "stdout",
     "output_type": "stream",
     "text": [
      "Iter 0 - Epoch 0 - Client Type: Benign - Client Number 10 - Poison Training False\n"
     ]
    },
    {
     "name": "stderr",
     "output_type": "stream",
     "text": [
      "100%|████████████████████████████████████████████████████████████████████████████████████| 2/2 [00:01<00:00,  1.62it/s]\n"
     ]
    },
    {
     "name": "stdout",
     "output_type": "stream",
     "text": [
      "Iter 0 - Epoch 0 - Client Type: Benign - Client Number 11 - Poison Training False\n"
     ]
    },
    {
     "name": "stderr",
     "output_type": "stream",
     "text": [
      "100%|████████████████████████████████████████████████████████████████████████████████████| 2/2 [00:01<00:00,  1.77it/s]\n"
     ]
    },
    {
     "name": "stdout",
     "output_type": "stream",
     "text": [
      "Iter 0 - Epoch 0 - Client Type: Benign - Client Number 12 - Poison Training False\n"
     ]
    },
    {
     "name": "stderr",
     "output_type": "stream",
     "text": [
      "100%|████████████████████████████████████████████████████████████████████████████████████| 1/1 [00:00<00:00,  1.51it/s]\n"
     ]
    },
    {
     "name": "stdout",
     "output_type": "stream",
     "text": [
      "Iter 0 - Epoch 0 - Client Type: Benign - Client Number 13 - Poison Training False\n"
     ]
    },
    {
     "name": "stderr",
     "output_type": "stream",
     "text": [
      "100%|████████████████████████████████████████████████████████████████████████████████████| 2/2 [00:01<00:00,  1.80it/s]\n"
     ]
    },
    {
     "name": "stdout",
     "output_type": "stream",
     "text": [
      "Iter 0 - Epoch 0 - Client Type: Benign - Client Number 14 - Poison Training False\n"
     ]
    },
    {
     "name": "stderr",
     "output_type": "stream",
     "text": [
      "100%|████████████████████████████████████████████████████████████████████████████████████| 2/2 [00:01<00:00,  1.74it/s]\n"
     ]
    },
    {
     "name": "stdout",
     "output_type": "stream",
     "text": [
      "Iter 0 - Epoch 0 - Client Type: Benign - Client Number 15 - Poison Training False\n"
     ]
    },
    {
     "name": "stderr",
     "output_type": "stream",
     "text": [
      "100%|████████████████████████████████████████████████████████████████████████████████████| 1/1 [00:00<00:00,  1.07it/s]\n"
     ]
    },
    {
     "name": "stdout",
     "output_type": "stream",
     "text": [
      "Iter 0 - Epoch 0 - Client Type: Benign - Client Number 16 - Poison Training False\n"
     ]
    },
    {
     "name": "stderr",
     "output_type": "stream",
     "text": [
      "100%|████████████████████████████████████████████████████████████████████████████████████| 1/1 [00:00<00:00,  1.02it/s]\n"
     ]
    },
    {
     "name": "stdout",
     "output_type": "stream",
     "text": [
      "Iter 0 - Epoch 0 - Client Type: Benign - Client Number 17 - Poison Training False\n"
     ]
    },
    {
     "name": "stderr",
     "output_type": "stream",
     "text": [
      "100%|████████████████████████████████████████████████████████████████████████████████████| 2/2 [00:01<00:00,  1.27it/s]\n"
     ]
    },
    {
     "name": "stdout",
     "output_type": "stream",
     "text": [
      "Iter 0 - Epoch 0 - Client Type: Benign - Client Number 18 - Poison Training False\n"
     ]
    },
    {
     "name": "stderr",
     "output_type": "stream",
     "text": [
      "100%|████████████████████████████████████████████████████████████████████████████████████| 1/1 [00:01<00:00,  1.01s/it]\n"
     ]
    },
    {
     "name": "stdout",
     "output_type": "stream",
     "text": [
      "Iter 0 - Epoch 0 - Client Type: Benign - Client Number 19 - Poison Training False\n"
     ]
    },
    {
     "name": "stderr",
     "output_type": "stream",
     "text": [
      "100%|████████████████████████████████████████████████████████████████████████████████████| 2/2 [00:01<00:00,  1.65it/s]\n"
     ]
    },
    {
     "name": "stdout",
     "output_type": "stream",
     "text": [
      "\n",
      "\n",
      " Entering epoch 2\n",
      "Iter 0 - Epoch 0 - Client Type: Benign - Client Number 0 - Poison Training False\n"
     ]
    },
    {
     "name": "stderr",
     "output_type": "stream",
     "text": [
      "100%|████████████████████████████████████████████████████████████████████████████████████| 1/1 [00:00<00:00,  1.04it/s]\n"
     ]
    },
    {
     "name": "stdout",
     "output_type": "stream",
     "text": [
      "Iter 0 - Epoch 0 - Client Type: Benign - Client Number 1 - Poison Training False\n"
     ]
    },
    {
     "name": "stderr",
     "output_type": "stream",
     "text": [
      "100%|████████████████████████████████████████████████████████████████████████████████████| 1/1 [00:00<00:00,  1.26it/s]\n"
     ]
    },
    {
     "name": "stdout",
     "output_type": "stream",
     "text": [
      "Iter 0 - Epoch 0 - Client Type: Benign - Client Number 2 - Poison Training False\n"
     ]
    },
    {
     "name": "stderr",
     "output_type": "stream",
     "text": [
      "100%|████████████████████████████████████████████████████████████████████████████████████| 2/2 [00:01<00:00,  1.47it/s]\n"
     ]
    },
    {
     "name": "stdout",
     "output_type": "stream",
     "text": [
      "Iter 0 - Epoch 0 - Client Type: Benign - Client Number 3 - Poison Training False\n"
     ]
    },
    {
     "name": "stderr",
     "output_type": "stream",
     "text": [
      "100%|████████████████████████████████████████████████████████████████████████████████████| 1/1 [00:00<00:00,  1.07it/s]\n"
     ]
    },
    {
     "name": "stdout",
     "output_type": "stream",
     "text": [
      "Iter 0 - Epoch 0 - Client Type: Benign - Client Number 4 - Poison Training False\n"
     ]
    },
    {
     "name": "stderr",
     "output_type": "stream",
     "text": [
      "100%|████████████████████████████████████████████████████████████████████████████████████| 1/1 [00:00<00:00,  1.22it/s]\n"
     ]
    },
    {
     "name": "stdout",
     "output_type": "stream",
     "text": [
      "Iter 0 - Epoch 0 - Client Type: Benign - Client Number 5 - Poison Training False\n"
     ]
    },
    {
     "name": "stderr",
     "output_type": "stream",
     "text": [
      "100%|████████████████████████████████████████████████████████████████████████████████████| 1/1 [00:00<00:00,  1.03it/s]\n"
     ]
    },
    {
     "name": "stdout",
     "output_type": "stream",
     "text": [
      "Iter 0 - Epoch 0 - Client Type: Benign - Client Number 6 - Poison Training False\n"
     ]
    },
    {
     "name": "stderr",
     "output_type": "stream",
     "text": [
      "100%|████████████████████████████████████████████████████████████████████████████████████| 1/1 [00:00<00:00,  1.03it/s]\n"
     ]
    },
    {
     "name": "stdout",
     "output_type": "stream",
     "text": [
      "Iter 0 - Epoch 0 - Client Type: Benign - Client Number 7 - Poison Training False\n"
     ]
    },
    {
     "name": "stderr",
     "output_type": "stream",
     "text": [
      "100%|████████████████████████████████████████████████████████████████████████████████████| 1/1 [00:00<00:00,  1.01it/s]\n"
     ]
    },
    {
     "name": "stdout",
     "output_type": "stream",
     "text": [
      "Iter 0 - Epoch 0 - Client Type: Benign - Client Number 8 - Poison Training False\n"
     ]
    },
    {
     "name": "stderr",
     "output_type": "stream",
     "text": [
      "100%|████████████████████████████████████████████████████████████████████████████████████| 2/2 [00:01<00:00,  1.77it/s]\n"
     ]
    },
    {
     "name": "stdout",
     "output_type": "stream",
     "text": [
      "Iter 0 - Epoch 0 - Client Type: Benign - Client Number 9 - Poison Training False\n"
     ]
    },
    {
     "name": "stderr",
     "output_type": "stream",
     "text": [
      "100%|████████████████████████████████████████████████████████████████████████████████████| 1/1 [00:01<00:00,  1.04s/it]\n"
     ]
    },
    {
     "name": "stdout",
     "output_type": "stream",
     "text": [
      "Iter 0 - Epoch 0 - Client Type: Benign - Client Number 10 - Poison Training False\n"
     ]
    },
    {
     "name": "stderr",
     "output_type": "stream",
     "text": [
      "100%|████████████████████████████████████████████████████████████████████████████████████| 2/2 [00:01<00:00,  1.80it/s]\n"
     ]
    },
    {
     "name": "stdout",
     "output_type": "stream",
     "text": [
      "Iter 0 - Epoch 0 - Client Type: Benign - Client Number 11 - Poison Training False\n"
     ]
    },
    {
     "name": "stderr",
     "output_type": "stream",
     "text": [
      "100%|████████████████████████████████████████████████████████████████████████████████████| 2/2 [00:01<00:00,  1.79it/s]\n"
     ]
    },
    {
     "name": "stdout",
     "output_type": "stream",
     "text": [
      "Iter 0 - Epoch 0 - Client Type: Benign - Client Number 12 - Poison Training False\n"
     ]
    },
    {
     "name": "stderr",
     "output_type": "stream",
     "text": [
      "100%|████████████████████████████████████████████████████████████████████████████████████| 1/1 [00:00<00:00,  1.51it/s]\n"
     ]
    },
    {
     "name": "stdout",
     "output_type": "stream",
     "text": [
      "Iter 0 - Epoch 0 - Client Type: Benign - Client Number 13 - Poison Training False\n"
     ]
    },
    {
     "name": "stderr",
     "output_type": "stream",
     "text": [
      "100%|████████████████████████████████████████████████████████████████████████████████████| 2/2 [00:01<00:00,  1.80it/s]\n"
     ]
    },
    {
     "name": "stdout",
     "output_type": "stream",
     "text": [
      "Iter 0 - Epoch 0 - Client Type: Benign - Client Number 14 - Poison Training False\n"
     ]
    },
    {
     "name": "stderr",
     "output_type": "stream",
     "text": [
      "100%|████████████████████████████████████████████████████████████████████████████████████| 2/2 [00:01<00:00,  1.79it/s]\n"
     ]
    },
    {
     "name": "stdout",
     "output_type": "stream",
     "text": [
      "Iter 0 - Epoch 0 - Client Type: Benign - Client Number 15 - Poison Training False\n"
     ]
    },
    {
     "name": "stderr",
     "output_type": "stream",
     "text": [
      "100%|████████████████████████████████████████████████████████████████████████████████████| 1/1 [00:00<00:00,  1.00it/s]\n"
     ]
    },
    {
     "name": "stdout",
     "output_type": "stream",
     "text": [
      "Iter 0 - Epoch 0 - Client Type: Benign - Client Number 16 - Poison Training False\n"
     ]
    },
    {
     "name": "stderr",
     "output_type": "stream",
     "text": [
      "100%|████████████████████████████████████████████████████████████████████████████████████| 1/1 [00:00<00:00,  1.06it/s]\n"
     ]
    },
    {
     "name": "stdout",
     "output_type": "stream",
     "text": [
      "Iter 0 - Epoch 0 - Client Type: Benign - Client Number 17 - Poison Training False\n"
     ]
    },
    {
     "name": "stderr",
     "output_type": "stream",
     "text": [
      "100%|████████████████████████████████████████████████████████████████████████████████████| 2/2 [00:01<00:00,  1.25it/s]\n"
     ]
    },
    {
     "name": "stdout",
     "output_type": "stream",
     "text": [
      "Iter 0 - Epoch 0 - Client Type: Benign - Client Number 18 - Poison Training False\n"
     ]
    },
    {
     "name": "stderr",
     "output_type": "stream",
     "text": [
      "100%|████████████████████████████████████████████████████████████████████████████████████| 1/1 [00:00<00:00,  1.03it/s]\n"
     ]
    },
    {
     "name": "stdout",
     "output_type": "stream",
     "text": [
      "Iter 0 - Epoch 0 - Client Type: Benign - Client Number 19 - Poison Training False\n"
     ]
    },
    {
     "name": "stderr",
     "output_type": "stream",
     "text": [
      "100%|████████████████████████████████████████████████████████████████████████████████████| 2/2 [00:01<00:00,  1.48it/s]\n"
     ]
    },
    {
     "name": "stdout",
     "output_type": "stream",
     "text": [
      "\n",
      "\n",
      " Entering epoch 3\n",
      "Iter 0 - Epoch 0 - Client Type: Benign - Client Number 0 - Poison Training False\n"
     ]
    },
    {
     "name": "stderr",
     "output_type": "stream",
     "text": [
      "100%|████████████████████████████████████████████████████████████████████████████████████| 1/1 [00:01<00:00,  1.01s/it]\n"
     ]
    },
    {
     "name": "stdout",
     "output_type": "stream",
     "text": [
      "Iter 0 - Epoch 0 - Client Type: Benign - Client Number 1 - Poison Training False\n"
     ]
    },
    {
     "name": "stderr",
     "output_type": "stream",
     "text": [
      "100%|████████████████████████████████████████████████████████████████████████████████████| 1/1 [00:00<00:00,  1.20it/s]\n"
     ]
    },
    {
     "name": "stdout",
     "output_type": "stream",
     "text": [
      "Iter 0 - Epoch 0 - Client Type: Benign - Client Number 2 - Poison Training False\n"
     ]
    },
    {
     "name": "stderr",
     "output_type": "stream",
     "text": [
      "100%|████████████████████████████████████████████████████████████████████████████████████| 2/2 [00:01<00:00,  1.36it/s]\n"
     ]
    },
    {
     "name": "stdout",
     "output_type": "stream",
     "text": [
      "Iter 0 - Epoch 0 - Client Type: Benign - Client Number 3 - Poison Training False\n"
     ]
    },
    {
     "name": "stderr",
     "output_type": "stream",
     "text": [
      "100%|████████████████████████████████████████████████████████████████████████████████████| 1/1 [00:00<00:00,  1.08it/s]\n"
     ]
    },
    {
     "name": "stdout",
     "output_type": "stream",
     "text": [
      "Iter 0 - Epoch 0 - Client Type: Benign - Client Number 4 - Poison Training False\n"
     ]
    },
    {
     "name": "stderr",
     "output_type": "stream",
     "text": [
      "100%|████████████████████████████████████████████████████████████████████████████████████| 1/1 [00:00<00:00,  1.22it/s]\n"
     ]
    },
    {
     "name": "stdout",
     "output_type": "stream",
     "text": [
      "Iter 0 - Epoch 0 - Client Type: Benign - Client Number 5 - Poison Training False\n"
     ]
    },
    {
     "name": "stderr",
     "output_type": "stream",
     "text": [
      "100%|████████████████████████████████████████████████████████████████████████████████████| 1/1 [00:00<00:00,  1.01it/s]\n"
     ]
    },
    {
     "name": "stdout",
     "output_type": "stream",
     "text": [
      "Iter 0 - Epoch 0 - Client Type: Benign - Client Number 6 - Poison Training False\n"
     ]
    },
    {
     "name": "stderr",
     "output_type": "stream",
     "text": [
      "100%|████████████████████████████████████████████████████████████████████████████████████| 1/1 [00:00<00:00,  1.08it/s]\n"
     ]
    },
    {
     "name": "stdout",
     "output_type": "stream",
     "text": [
      "Iter 0 - Epoch 0 - Client Type: Benign - Client Number 7 - Poison Training False\n"
     ]
    },
    {
     "name": "stderr",
     "output_type": "stream",
     "text": [
      "100%|████████████████████████████████████████████████████████████████████████████████████| 1/1 [00:00<00:00,  1.04it/s]\n"
     ]
    },
    {
     "name": "stdout",
     "output_type": "stream",
     "text": [
      "Iter 0 - Epoch 0 - Client Type: Benign - Client Number 8 - Poison Training False\n"
     ]
    },
    {
     "name": "stderr",
     "output_type": "stream",
     "text": [
      "100%|████████████████████████████████████████████████████████████████████████████████████| 2/2 [00:01<00:00,  1.80it/s]\n"
     ]
    },
    {
     "name": "stdout",
     "output_type": "stream",
     "text": [
      "Iter 0 - Epoch 0 - Client Type: Benign - Client Number 9 - Poison Training False\n"
     ]
    },
    {
     "name": "stderr",
     "output_type": "stream",
     "text": [
      "100%|████████████████████████████████████████████████████████████████████████████████████| 1/1 [00:00<00:00,  1.07it/s]\n"
     ]
    },
    {
     "name": "stdout",
     "output_type": "stream",
     "text": [
      "Iter 0 - Epoch 0 - Client Type: Benign - Client Number 10 - Poison Training False\n"
     ]
    },
    {
     "name": "stderr",
     "output_type": "stream",
     "text": [
      "100%|████████████████████████████████████████████████████████████████████████████████████| 2/2 [00:01<00:00,  1.90it/s]\n"
     ]
    },
    {
     "name": "stdout",
     "output_type": "stream",
     "text": [
      "Iter 0 - Epoch 0 - Client Type: Benign - Client Number 11 - Poison Training False\n"
     ]
    },
    {
     "name": "stderr",
     "output_type": "stream",
     "text": [
      "100%|████████████████████████████████████████████████████████████████████████████████████| 2/2 [00:01<00:00,  1.76it/s]\n"
     ]
    },
    {
     "name": "stdout",
     "output_type": "stream",
     "text": [
      "Iter 0 - Epoch 0 - Client Type: Benign - Client Number 12 - Poison Training False\n"
     ]
    },
    {
     "name": "stderr",
     "output_type": "stream",
     "text": [
      "100%|████████████████████████████████████████████████████████████████████████████████████| 1/1 [00:00<00:00,  1.64it/s]\n"
     ]
    },
    {
     "name": "stdout",
     "output_type": "stream",
     "text": [
      "Iter 0 - Epoch 0 - Client Type: Benign - Client Number 13 - Poison Training False\n"
     ]
    },
    {
     "name": "stderr",
     "output_type": "stream",
     "text": [
      "100%|████████████████████████████████████████████████████████████████████████████████████| 2/2 [00:01<00:00,  1.72it/s]\n"
     ]
    },
    {
     "name": "stdout",
     "output_type": "stream",
     "text": [
      "Iter 0 - Epoch 0 - Client Type: Benign - Client Number 14 - Poison Training False\n"
     ]
    },
    {
     "name": "stderr",
     "output_type": "stream",
     "text": [
      "100%|████████████████████████████████████████████████████████████████████████████████████| 2/2 [00:01<00:00,  1.89it/s]\n"
     ]
    },
    {
     "name": "stdout",
     "output_type": "stream",
     "text": [
      "Iter 0 - Epoch 0 - Client Type: Benign - Client Number 15 - Poison Training False\n"
     ]
    },
    {
     "name": "stderr",
     "output_type": "stream",
     "text": [
      "100%|████████████████████████████████████████████████████████████████████████████████████| 1/1 [00:01<00:00,  1.03s/it]\n"
     ]
    },
    {
     "name": "stdout",
     "output_type": "stream",
     "text": [
      "Iter 0 - Epoch 0 - Client Type: Benign - Client Number 16 - Poison Training False\n"
     ]
    },
    {
     "name": "stderr",
     "output_type": "stream",
     "text": [
      "100%|████████████████████████████████████████████████████████████████████████████████████| 1/1 [00:00<00:00,  1.04it/s]\n"
     ]
    },
    {
     "name": "stdout",
     "output_type": "stream",
     "text": [
      "Iter 0 - Epoch 0 - Client Type: Benign - Client Number 17 - Poison Training False\n"
     ]
    },
    {
     "name": "stderr",
     "output_type": "stream",
     "text": [
      "100%|████████████████████████████████████████████████████████████████████████████████████| 2/2 [00:01<00:00,  1.29it/s]\n"
     ]
    },
    {
     "name": "stdout",
     "output_type": "stream",
     "text": [
      "Iter 0 - Epoch 0 - Client Type: Benign - Client Number 18 - Poison Training False\n"
     ]
    },
    {
     "name": "stderr",
     "output_type": "stream",
     "text": [
      "100%|████████████████████████████████████████████████████████████████████████████████████| 1/1 [00:00<00:00,  1.04it/s]\n"
     ]
    },
    {
     "name": "stdout",
     "output_type": "stream",
     "text": [
      "Iter 0 - Epoch 0 - Client Type: Benign - Client Number 19 - Poison Training False\n"
     ]
    },
    {
     "name": "stderr",
     "output_type": "stream",
     "text": [
      "100%|████████████████████████████████████████████████████████████████████████████████████| 2/2 [00:01<00:00,  1.60it/s]\n"
     ]
    },
    {
     "name": "stdout",
     "output_type": "stream",
     "text": [
      "\n",
      "\n",
      " Entering epoch 4\n",
      "Iter 0 - Epoch 0 - Client Type: Benign - Client Number 0 - Poison Training False\n"
     ]
    },
    {
     "name": "stderr",
     "output_type": "stream",
     "text": [
      "100%|████████████████████████████████████████████████████████████████████████████████████| 1/1 [00:01<00:00,  1.09s/it]\n"
     ]
    },
    {
     "name": "stdout",
     "output_type": "stream",
     "text": [
      "Iter 0 - Epoch 0 - Client Type: Benign - Client Number 1 - Poison Training False\n"
     ]
    },
    {
     "name": "stderr",
     "output_type": "stream",
     "text": [
      "100%|████████████████████████████████████████████████████████████████████████████████████| 1/1 [00:00<00:00,  1.26it/s]\n"
     ]
    },
    {
     "name": "stdout",
     "output_type": "stream",
     "text": [
      "Iter 0 - Epoch 0 - Client Type: Benign - Client Number 2 - Poison Training False\n"
     ]
    },
    {
     "name": "stderr",
     "output_type": "stream",
     "text": [
      "100%|████████████████████████████████████████████████████████████████████████████████████| 2/2 [00:01<00:00,  1.41it/s]\n"
     ]
    },
    {
     "name": "stdout",
     "output_type": "stream",
     "text": [
      "Iter 0 - Epoch 0 - Client Type: Benign - Client Number 3 - Poison Training False\n"
     ]
    },
    {
     "name": "stderr",
     "output_type": "stream",
     "text": [
      "100%|████████████████████████████████████████████████████████████████████████████████████| 1/1 [00:00<00:00,  1.08it/s]\n"
     ]
    },
    {
     "name": "stdout",
     "output_type": "stream",
     "text": [
      "Iter 0 - Epoch 0 - Client Type: Benign - Client Number 4 - Poison Training False\n"
     ]
    },
    {
     "name": "stderr",
     "output_type": "stream",
     "text": [
      "100%|████████████████████████████████████████████████████████████████████████████████████| 1/1 [00:00<00:00,  1.19it/s]\n"
     ]
    },
    {
     "name": "stdout",
     "output_type": "stream",
     "text": [
      "Iter 0 - Epoch 0 - Client Type: Benign - Client Number 5 - Poison Training False\n"
     ]
    },
    {
     "name": "stderr",
     "output_type": "stream",
     "text": [
      "100%|████████████████████████████████████████████████████████████████████████████████████| 1/1 [00:00<00:00,  1.08it/s]\n"
     ]
    },
    {
     "name": "stdout",
     "output_type": "stream",
     "text": [
      "Iter 0 - Epoch 0 - Client Type: Benign - Client Number 6 - Poison Training False\n"
     ]
    },
    {
     "name": "stderr",
     "output_type": "stream",
     "text": [
      "100%|████████████████████████████████████████████████████████████████████████████████████| 1/1 [00:00<00:00,  1.06it/s]\n"
     ]
    },
    {
     "name": "stdout",
     "output_type": "stream",
     "text": [
      "Iter 0 - Epoch 0 - Client Type: Benign - Client Number 7 - Poison Training False\n"
     ]
    },
    {
     "name": "stderr",
     "output_type": "stream",
     "text": [
      "100%|████████████████████████████████████████████████████████████████████████████████████| 1/1 [00:01<00:00,  1.02s/it]\n"
     ]
    },
    {
     "name": "stdout",
     "output_type": "stream",
     "text": [
      "Iter 0 - Epoch 0 - Client Type: Benign - Client Number 8 - Poison Training False\n"
     ]
    },
    {
     "name": "stderr",
     "output_type": "stream",
     "text": [
      "100%|████████████████████████████████████████████████████████████████████████████████████| 2/2 [00:01<00:00,  1.86it/s]\n"
     ]
    },
    {
     "name": "stdout",
     "output_type": "stream",
     "text": [
      "Iter 0 - Epoch 0 - Client Type: Benign - Client Number 9 - Poison Training False\n"
     ]
    },
    {
     "name": "stderr",
     "output_type": "stream",
     "text": [
      "100%|████████████████████████████████████████████████████████████████████████████████████| 1/1 [00:00<00:00,  1.01it/s]\n"
     ]
    },
    {
     "name": "stdout",
     "output_type": "stream",
     "text": [
      "Iter 0 - Epoch 0 - Client Type: Benign - Client Number 10 - Poison Training False\n"
     ]
    },
    {
     "name": "stderr",
     "output_type": "stream",
     "text": [
      "100%|████████████████████████████████████████████████████████████████████████████████████| 2/2 [00:01<00:00,  1.84it/s]\n"
     ]
    },
    {
     "name": "stdout",
     "output_type": "stream",
     "text": [
      "Iter 0 - Epoch 0 - Client Type: Benign - Client Number 11 - Poison Training False\n"
     ]
    },
    {
     "name": "stderr",
     "output_type": "stream",
     "text": [
      "100%|████████████████████████████████████████████████████████████████████████████████████| 2/2 [00:01<00:00,  1.89it/s]\n"
     ]
    },
    {
     "name": "stdout",
     "output_type": "stream",
     "text": [
      "Iter 0 - Epoch 0 - Client Type: Benign - Client Number 12 - Poison Training False\n"
     ]
    },
    {
     "name": "stderr",
     "output_type": "stream",
     "text": [
      "100%|████████████████████████████████████████████████████████████████████████████████████| 1/1 [00:00<00:00,  1.49it/s]\n"
     ]
    },
    {
     "name": "stdout",
     "output_type": "stream",
     "text": [
      "Iter 0 - Epoch 0 - Client Type: Benign - Client Number 13 - Poison Training False\n"
     ]
    },
    {
     "name": "stderr",
     "output_type": "stream",
     "text": [
      "100%|████████████████████████████████████████████████████████████████████████████████████| 2/2 [00:01<00:00,  1.90it/s]\n"
     ]
    },
    {
     "name": "stdout",
     "output_type": "stream",
     "text": [
      "Iter 0 - Epoch 0 - Client Type: Benign - Client Number 14 - Poison Training False\n"
     ]
    },
    {
     "name": "stderr",
     "output_type": "stream",
     "text": [
      "100%|████████████████████████████████████████████████████████████████████████████████████| 2/2 [00:01<00:00,  1.73it/s]\n"
     ]
    },
    {
     "name": "stdout",
     "output_type": "stream",
     "text": [
      "Iter 0 - Epoch 0 - Client Type: Benign - Client Number 15 - Poison Training False\n"
     ]
    },
    {
     "name": "stderr",
     "output_type": "stream",
     "text": [
      "100%|████████████████████████████████████████████████████████████████████████████████████| 1/1 [00:00<00:00,  1.04it/s]\n"
     ]
    },
    {
     "name": "stdout",
     "output_type": "stream",
     "text": [
      "Iter 0 - Epoch 0 - Client Type: Benign - Client Number 16 - Poison Training False\n"
     ]
    },
    {
     "name": "stderr",
     "output_type": "stream",
     "text": [
      "100%|████████████████████████████████████████████████████████████████████████████████████| 1/1 [00:00<00:00,  1.08it/s]\n"
     ]
    },
    {
     "name": "stdout",
     "output_type": "stream",
     "text": [
      "Iter 0 - Epoch 0 - Client Type: Benign - Client Number 17 - Poison Training False\n"
     ]
    },
    {
     "name": "stderr",
     "output_type": "stream",
     "text": [
      "100%|████████████████████████████████████████████████████████████████████████████████████| 2/2 [00:01<00:00,  1.28it/s]\n"
     ]
    },
    {
     "name": "stdout",
     "output_type": "stream",
     "text": [
      "Iter 0 - Epoch 0 - Client Type: Benign - Client Number 18 - Poison Training False\n"
     ]
    },
    {
     "name": "stderr",
     "output_type": "stream",
     "text": [
      "100%|████████████████████████████████████████████████████████████████████████████████████| 1/1 [00:00<00:00,  1.04it/s]\n"
     ]
    },
    {
     "name": "stdout",
     "output_type": "stream",
     "text": [
      "Iter 0 - Epoch 0 - Client Type: Benign - Client Number 19 - Poison Training False\n"
     ]
    },
    {
     "name": "stderr",
     "output_type": "stream",
     "text": [
      "100%|████████████████████████████████████████████████████████████████████████████████████| 2/2 [00:01<00:00,  1.67it/s]\n"
     ]
    },
    {
     "name": "stdout",
     "output_type": "stream",
     "text": [
      "Original Copylist [7, 2, 5, 3, 2, 7, 3, 7, 0, 7, 0, 0, 4, 0, 0, 7, 3, 1, 7, 6]\n",
      "Found clusters [1 3 0 5 3 1 5 1 2 1 2 2 4 2 7 1 5 0 1 6]\n",
      "Original groups [array([ 8, 10, 11, 13, 14], dtype=int64), array([17], dtype=int64), array([1, 4], dtype=int64), array([ 3,  6, 16], dtype=int64), array([12], dtype=int64), array([2], dtype=int64), array([19], dtype=int64), array([ 0,  5,  7,  9, 15, 18], dtype=int64)]\n",
      "Clustered groups [array([ 2, 17], dtype=int64), array([ 0,  5,  7,  9, 15, 18], dtype=int64), array([ 8, 10, 11, 13], dtype=int64), array([1, 4], dtype=int64), array([12], dtype=int64), array([ 3,  6, 16], dtype=int64), array([19], dtype=int64), array([14], dtype=int64)]\n",
      "Clustering score 0.8937597852829344\n",
      "1\n",
      "[[1.00000608 0.26538345 0.29662752 0.55425149 0.25299296 0.99645996\n",
      "  0.58112592 0.96648121 0.52659929 0.94111639 0.3870284  0.52059138\n",
      "  0.28132388 0.53270245 0.23971403 0.96698493 0.59498638 0.39229608\n",
      "  0.99270684 0.10097151]\n",
      " [0.26538345 1.00000691 0.41500083 0.35702366 0.99872613 0.27479714\n",
      "  0.34570822 0.24575996 0.32517725 0.24297623 0.4048298  0.30719572\n",
      "  0.33019647 0.28297544 0.31579539 0.25022367 0.34144711 0.40195084\n",
      "  0.26640135 0.50905597]\n",
      " [0.29662752 0.4150008  1.00000942 0.33777195 0.42014506 0.29396591\n",
      "  0.33265129 0.30654454 0.49149993 0.30605724 0.48731613 0.48703206\n",
      "  0.30009782 0.44210675 0.4171946  0.30057794 0.3335551  0.54795921\n",
      "  0.29270834 0.38217151]\n",
      " [0.55425149 0.35702363 0.33777192 1.00000298 0.35470042 0.56510717\n",
      "  0.99195421 0.5012911  0.56563854 0.48219511 0.49633834 0.55153173\n",
      "  0.39832813 0.5694145  0.39857119 0.50021285 0.98922557 0.46596533\n",
      "  0.56605929 0.57792491]\n",
      " [0.25299296 0.99872613 0.42014509 0.35470042 1.00000775 0.26258123\n",
      "  0.34241655 0.23510696 0.32150427 0.2331997  0.4067587  0.30443704\n",
      "  0.32574844 0.27968517 0.31818044 0.23935123 0.33808556 0.39799652\n",
      "  0.25370333 0.51756513]\n",
      " [0.99646002 0.27479714 0.29396591 0.56510723 0.26258123 1.00000644\n",
      "  0.58979827 0.95967597 0.52301162 0.93325061 0.38446248 0.51389962\n",
      "  0.28797773 0.5278393  0.24438129 0.96054888 0.60381168 0.39466158\n",
      "  0.99250817 0.11277431]\n",
      " [0.58112592 0.34570822 0.33265129 0.99195421 0.34241652 0.58979827\n",
      "  1.0000056  0.53129375 0.58196604 0.51242149 0.50271732 0.5731566\n",
      "  0.37496644 0.58583504 0.39485818 0.52957505 0.9965446  0.45747244\n",
      "  0.59264719 0.52900201]\n",
      " [0.96648115 0.24575996 0.30654454 0.5012911  0.23510695 0.95967597\n",
      "  0.53129375 1.00000155 0.55263531 0.99300915 0.41477096 0.55630946\n",
      "  0.2668744  0.54916364 0.24272637 0.99690926 0.54439425 0.37579477\n",
      "  0.94914472 0.11709417]\n",
      " [0.52659929 0.32517728 0.4914999  0.56563854 0.32150427 0.52301162\n",
      "  0.5819661  0.55263531 1.00000572 0.56061769 0.68823403 0.91193426\n",
      "  0.41729742 0.93578261 0.69909137 0.54920292 0.58495617 0.56162673\n",
      "  0.52687609 0.34184146]\n",
      " [0.94111627 0.24297623 0.30605727 0.48219511 0.2331997  0.93325067\n",
      "  0.51242143 0.99300915 0.56061769 1.00000679 0.42446277 0.5652706\n",
      "  0.26549762 0.55528498 0.25109148 0.99174142 0.52517915 0.3743284\n",
      "  0.92122412 0.13183799]\n",
      " [0.3870284  0.40482977 0.48731613 0.49633837 0.4067587  0.38446248\n",
      "  0.50271732 0.41477096 0.68823397 0.4244628  1.00000548 0.75601703\n",
      "  0.31306306 0.60500878 0.53135341 0.40315822 0.50061262 0.45735267\n",
      "  0.3943432  0.36560851]\n",
      " [0.52059138 0.30719572 0.48703209 0.55153167 0.30443704 0.51389968\n",
      "  0.5731566  0.55630946 0.91193426 0.5652706  0.75601697 1.00000167\n",
      "  0.35032743 0.88347054 0.53683698 0.55025512 0.57648575 0.53490895\n",
      "  0.52015823 0.30499575]\n",
      " [0.28132391 0.33019644 0.30009782 0.39832816 0.32574847 0.28797773\n",
      "  0.37496644 0.26687443 0.41729742 0.26549762 0.31306306 0.35032746\n",
      "  1.0000031  0.39928845 0.37670085 0.27054775 0.37043282 0.41362801\n",
      "  0.30537269 0.3936609 ]\n",
      " [0.53270245 0.28297544 0.44210675 0.5694145  0.27968517 0.52783924\n",
      "  0.5858351  0.54916364 0.93578267 0.55528492 0.60500878 0.88347048\n",
      "  0.39928845 0.99999768 0.6526866  0.55184853 0.58962238 0.52419472\n",
      "  0.52987283 0.33712208]\n",
      " [0.23971404 0.31579536 0.4171946  0.39857119 0.31818044 0.24438129\n",
      "  0.39485818 0.24272637 0.69909143 0.25109148 0.53135341 0.53683698\n",
      "  0.37670082 0.6526866  1.0000037  0.24055204 0.39155662 0.47324184\n",
      "  0.24403521 0.39206594]\n",
      " [0.96698499 0.25022367 0.30057794 0.50021285 0.23935123 0.96054888\n",
      "  0.52957505 0.99690926 0.54920298 0.99174142 0.40315822 0.55025512\n",
      "  0.27054775 0.55184853 0.24055202 1.0000031  0.54292309 0.37159401\n",
      "  0.94827753 0.11946983]\n",
      " [0.59498638 0.34144711 0.3335551  0.98922551 0.33808556 0.60381168\n",
      "  0.99654454 0.54439425 0.58495611 0.52517909 0.50061262 0.57648575\n",
      "  0.37043282 0.58962238 0.39155659 0.54292309 1.00000322 0.45663342\n",
      "  0.60526937 0.51569176]\n",
      " [0.39229608 0.40195087 0.54795921 0.46596533 0.39799654 0.39466161\n",
      "  0.45747244 0.3757948  0.56162673 0.37432843 0.45735267 0.53490895\n",
      "  0.41362801 0.52419472 0.47324181 0.37159401 0.45663342 1.00000322\n",
      "  0.40495563 0.39850402]\n",
      " [0.99270684 0.26640138 0.29270837 0.56605929 0.25370333 0.99250823\n",
      "  0.59264719 0.94914472 0.52687609 0.92122418 0.3943432  0.52015823\n",
      "  0.30537269 0.52987283 0.2440352  0.94827759 0.60526937 0.4049556\n",
      "  1.00000453 0.09490754]\n",
      " [0.1009715  0.50905591 0.38217154 0.57792491 0.51756513 0.11277431\n",
      "  0.52900201 0.11709418 0.34184146 0.13183799 0.36560851 0.30499575\n",
      "  0.3936609  0.33712211 0.39206591 0.11946983 0.5156917  0.39850402\n",
      "  0.09490754 1.0000118 ]]\n",
      "Original Copylist [7, 2, 5, 3, 2, 7, 3, 7, 0, 7, 0, 0, 4, 0, 0, 7, 3, 1, 7, 6]\n",
      "Found clusters [1 3 0 5 3 1 5 1 2 1 2 2 4 2 7 1 5 0 1 6]\n",
      "Original groups [array([ 8, 10, 11, 13, 14], dtype=int64), array([17], dtype=int64), array([1, 4], dtype=int64), array([ 3,  6, 16], dtype=int64), array([12], dtype=int64), array([2], dtype=int64), array([19], dtype=int64), array([ 0,  5,  7,  9, 15, 18], dtype=int64)]\n",
      "Clustered groups [array([ 2, 17], dtype=int64), array([ 0,  5,  7,  9, 15, 18], dtype=int64), array([ 8, 10, 11, 13], dtype=int64), array([1, 4], dtype=int64), array([12], dtype=int64), array([ 3,  6, 16], dtype=int64), array([19], dtype=int64), array([14], dtype=int64)]\n",
      "Clustering score 0.8937597852829344\n",
      "Benign net distance [tensor(193.3491), tensor(164.9705), tensor(204.5354), tensor(160.6901), tensor(163.6369), tensor(192.7879), tensor(164.0476), tensor(190.7405), tensor(186.1216), tensor(189.0418), tensor(188.2172), tensor(190.5011), tensor(180.9810), tensor(187.6283), tensor(191.0801), tensor(190.2545), tensor(164.7431), tensor(198.8526), tensor(194.6392), tensor(0.)]\n",
      "Malicious net distance []\n",
      "cos_sim list  [tensor(0.1010), tensor(0.5091), tensor(0.3822), tensor(0.5779), tensor(0.5176), tensor(0.1128), tensor(0.5290), tensor(0.1171), tensor(0.3418), tensor(0.1318), tensor(0.3656), tensor(0.3050), tensor(0.3937), tensor(0.3371), tensor(0.3921), tensor(0.1195), tensor(0.5157), tensor(0.3985), tensor(0.0949), tensor(1.0000)]\n",
      "Norms of local gradients  [tensor(0.8081), tensor(1.2847), tensor(1.4741), tensor(0.7405), tensor(1.3015), tensor(0.8066), tensor(0.7368), tensor(0.7765), tensor(1.0410), tensor(0.7714), tensor(1.1977), tensor(1.0366), tensor(0.9702), tensor(1.0847), tensor(1.4072), tensor(0.7818), tensor(0.7330), tensor(1.3766), tensor(0.8056), tensor(1.9126)]\n",
      "\n",
      " Aggregating models\n",
      "Cosine Similarities:  [tensor(0.1010), tensor(0.5091), tensor(0.3822), tensor(0.5779), tensor(0.5176), tensor(0.1128), tensor(0.5290), tensor(0.1171), tensor(0.3418), tensor(0.1318), tensor(0.3656), tensor(0.3050), tensor(0.3937), tensor(0.3371), tensor(0.3921), tensor(0.1195), tensor(0.5157), tensor(0.3985), tensor(0.0949), tensor(1.0000)]\n",
      "Aggregation Weights:  [0.03299786 0.10464516 0.06846675 0.20610093 0.10502018 0.03692468\n",
      " 0.18959782 0.0398219  0.08671772 0.04513731 0.08061884 0.07770436\n",
      " 0.1071608  0.08208254 0.07358199 0.04035836 0.18579547 0.0764485\n",
      " 0.03111343 0.13807973]\n",
      "\n",
      "\n",
      "\n",
      "Aggregate test at iter  0\n"
     ]
    },
    {
     "name": "stderr",
     "output_type": "stream",
     "text": [
      "100%|██████████████████████████████████████████████████████████████████████████████████| 10/10 [00:02<00:00,  4.79it/s]\n"
     ]
    },
    {
     "name": "stdout",
     "output_type": "stream",
     "text": [
      "\n",
      "Test set: Avg. loss: 0.0017, Accuracy: 4428/10000 (44%)\n",
      "\n",
      "\n",
      "\n",
      " Entering epoch 0\n",
      "Iter 1 - Epoch 0 - Client Type: Benign - Client Number 0 - Poison Training False\n"
     ]
    },
    {
     "name": "stderr",
     "output_type": "stream",
     "text": [
      "100%|████████████████████████████████████████████████████████████████████████████████████| 1/1 [00:00<00:00,  1.06it/s]\n"
     ]
    },
    {
     "name": "stdout",
     "output_type": "stream",
     "text": [
      "Iter 1 - Epoch 0 - Client Type: Benign - Client Number 1 - Poison Training False\n"
     ]
    },
    {
     "name": "stderr",
     "output_type": "stream",
     "text": [
      "100%|████████████████████████████████████████████████████████████████████████████████████| 1/1 [00:00<00:00,  1.24it/s]\n"
     ]
    },
    {
     "name": "stdout",
     "output_type": "stream",
     "text": [
      "Iter 1 - Epoch 0 - Client Type: Benign - Client Number 2 - Poison Training False\n"
     ]
    },
    {
     "name": "stderr",
     "output_type": "stream",
     "text": [
      "100%|████████████████████████████████████████████████████████████████████████████████████| 2/2 [00:01<00:00,  1.44it/s]\n"
     ]
    },
    {
     "name": "stdout",
     "output_type": "stream",
     "text": [
      "Iter 1 - Epoch 0 - Client Type: Benign - Client Number 3 - Poison Training False\n"
     ]
    },
    {
     "name": "stderr",
     "output_type": "stream",
     "text": [
      "100%|████████████████████████████████████████████████████████████████████████████████████| 1/1 [00:00<00:00,  1.07it/s]\n"
     ]
    },
    {
     "name": "stdout",
     "output_type": "stream",
     "text": [
      "Iter 1 - Epoch 0 - Client Type: Benign - Client Number 4 - Poison Training False\n"
     ]
    },
    {
     "name": "stderr",
     "output_type": "stream",
     "text": [
      "100%|████████████████████████████████████████████████████████████████████████████████████| 1/1 [00:00<00:00,  1.21it/s]\n"
     ]
    },
    {
     "name": "stdout",
     "output_type": "stream",
     "text": [
      "Iter 1 - Epoch 0 - Client Type: Benign - Client Number 5 - Poison Training False\n"
     ]
    },
    {
     "name": "stderr",
     "output_type": "stream",
     "text": [
      "100%|████████████████████████████████████████████████████████████████████████████████████| 1/1 [00:00<00:00,  1.07it/s]\n"
     ]
    },
    {
     "name": "stdout",
     "output_type": "stream",
     "text": [
      "Iter 1 - Epoch 0 - Client Type: Benign - Client Number 6 - Poison Training False\n"
     ]
    },
    {
     "name": "stderr",
     "output_type": "stream",
     "text": [
      "100%|████████████████████████████████████████████████████████████████████████████████████| 1/1 [00:00<00:00,  1.08it/s]\n"
     ]
    },
    {
     "name": "stdout",
     "output_type": "stream",
     "text": [
      "Iter 1 - Epoch 0 - Client Type: Benign - Client Number 7 - Poison Training False\n"
     ]
    },
    {
     "name": "stderr",
     "output_type": "stream",
     "text": [
      "100%|████████████████████████████████████████████████████████████████████████████████████| 1/1 [00:00<00:00,  1.03it/s]\n"
     ]
    },
    {
     "name": "stdout",
     "output_type": "stream",
     "text": [
      "Iter 1 - Epoch 0 - Client Type: Benign - Client Number 8 - Poison Training False\n"
     ]
    },
    {
     "name": "stderr",
     "output_type": "stream",
     "text": [
      "100%|████████████████████████████████████████████████████████████████████████████████████| 2/2 [00:01<00:00,  1.82it/s]\n"
     ]
    },
    {
     "name": "stdout",
     "output_type": "stream",
     "text": [
      "Iter 1 - Epoch 0 - Client Type: Benign - Client Number 9 - Poison Training False\n"
     ]
    },
    {
     "name": "stderr",
     "output_type": "stream",
     "text": [
      "100%|████████████████████████████████████████████████████████████████████████████████████| 1/1 [00:00<00:00,  1.02it/s]\n"
     ]
    },
    {
     "name": "stdout",
     "output_type": "stream",
     "text": [
      "Iter 1 - Epoch 0 - Client Type: Benign - Client Number 10 - Poison Training False\n"
     ]
    },
    {
     "name": "stderr",
     "output_type": "stream",
     "text": [
      "100%|████████████████████████████████████████████████████████████████████████████████████| 2/2 [00:01<00:00,  1.81it/s]\n"
     ]
    },
    {
     "name": "stdout",
     "output_type": "stream",
     "text": [
      "Iter 1 - Epoch 0 - Client Type: Benign - Client Number 11 - Poison Training False\n"
     ]
    },
    {
     "name": "stderr",
     "output_type": "stream",
     "text": [
      "100%|████████████████████████████████████████████████████████████████████████████████████| 2/2 [00:01<00:00,  1.93it/s]\n"
     ]
    },
    {
     "name": "stdout",
     "output_type": "stream",
     "text": [
      "Iter 1 - Epoch 0 - Client Type: Benign - Client Number 12 - Poison Training False\n"
     ]
    },
    {
     "name": "stderr",
     "output_type": "stream",
     "text": [
      "100%|████████████████████████████████████████████████████████████████████████████████████| 1/1 [00:00<00:00,  1.49it/s]\n"
     ]
    },
    {
     "name": "stdout",
     "output_type": "stream",
     "text": [
      "Iter 1 - Epoch 0 - Client Type: Benign - Client Number 13 - Poison Training False\n"
     ]
    },
    {
     "name": "stderr",
     "output_type": "stream",
     "text": [
      "100%|████████████████████████████████████████████████████████████████████████████████████| 2/2 [00:01<00:00,  1.86it/s]\n"
     ]
    },
    {
     "name": "stdout",
     "output_type": "stream",
     "text": [
      "Iter 1 - Epoch 0 - Client Type: Benign - Client Number 14 - Poison Training False\n"
     ]
    },
    {
     "name": "stderr",
     "output_type": "stream",
     "text": [
      "100%|████████████████████████████████████████████████████████████████████████████████████| 2/2 [00:01<00:00,  1.82it/s]\n"
     ]
    },
    {
     "name": "stdout",
     "output_type": "stream",
     "text": [
      "Iter 1 - Epoch 0 - Client Type: Benign - Client Number 15 - Poison Training False\n"
     ]
    },
    {
     "name": "stderr",
     "output_type": "stream",
     "text": [
      "100%|████████████████████████████████████████████████████████████████████████████████████| 1/1 [00:00<00:00,  1.07it/s]\n"
     ]
    },
    {
     "name": "stdout",
     "output_type": "stream",
     "text": [
      "Iter 1 - Epoch 0 - Client Type: Benign - Client Number 16 - Poison Training False\n"
     ]
    },
    {
     "name": "stderr",
     "output_type": "stream",
     "text": [
      "100%|████████████████████████████████████████████████████████████████████████████████████| 1/1 [00:00<00:00,  1.05it/s]\n"
     ]
    },
    {
     "name": "stdout",
     "output_type": "stream",
     "text": [
      "Iter 1 - Epoch 0 - Client Type: Benign - Client Number 17 - Poison Training False\n"
     ]
    },
    {
     "name": "stderr",
     "output_type": "stream",
     "text": [
      "100%|████████████████████████████████████████████████████████████████████████████████████| 2/2 [00:01<00:00,  1.31it/s]\n"
     ]
    },
    {
     "name": "stdout",
     "output_type": "stream",
     "text": [
      "Iter 1 - Epoch 0 - Client Type: Benign - Client Number 18 - Poison Training False\n"
     ]
    },
    {
     "name": "stderr",
     "output_type": "stream",
     "text": [
      "100%|████████████████████████████████████████████████████████████████████████████████████| 1/1 [00:00<00:00,  1.05it/s]\n"
     ]
    },
    {
     "name": "stdout",
     "output_type": "stream",
     "text": [
      "Iter 1 - Epoch 0 - Client Type: Benign - Client Number 19 - Poison Training False\n"
     ]
    },
    {
     "name": "stderr",
     "output_type": "stream",
     "text": [
      "100%|████████████████████████████████████████████████████████████████████████████████████| 2/2 [00:01<00:00,  1.65it/s]\n"
     ]
    },
    {
     "name": "stdout",
     "output_type": "stream",
     "text": [
      "\n",
      "\n",
      " Entering epoch 1\n",
      "Iter 1 - Epoch 0 - Client Type: Benign - Client Number 0 - Poison Training False\n"
     ]
    },
    {
     "name": "stderr",
     "output_type": "stream",
     "text": [
      "100%|████████████████████████████████████████████████████████████████████████████████████| 1/1 [00:00<00:00,  1.02it/s]\n"
     ]
    },
    {
     "name": "stdout",
     "output_type": "stream",
     "text": [
      "Iter 1 - Epoch 0 - Client Type: Benign - Client Number 1 - Poison Training False\n"
     ]
    },
    {
     "name": "stderr",
     "output_type": "stream",
     "text": [
      "100%|████████████████████████████████████████████████████████████████████████████████████| 1/1 [00:00<00:00,  1.23it/s]\n"
     ]
    },
    {
     "name": "stdout",
     "output_type": "stream",
     "text": [
      "Iter 1 - Epoch 0 - Client Type: Benign - Client Number 2 - Poison Training False\n"
     ]
    },
    {
     "name": "stderr",
     "output_type": "stream",
     "text": [
      "100%|████████████████████████████████████████████████████████████████████████████████████| 2/2 [00:01<00:00,  1.36it/s]\n"
     ]
    },
    {
     "name": "stdout",
     "output_type": "stream",
     "text": [
      "Iter 1 - Epoch 0 - Client Type: Benign - Client Number 3 - Poison Training False\n"
     ]
    },
    {
     "name": "stderr",
     "output_type": "stream",
     "text": [
      "100%|████████████████████████████████████████████████████████████████████████████████████| 1/1 [00:00<00:00,  1.09it/s]\n"
     ]
    },
    {
     "name": "stdout",
     "output_type": "stream",
     "text": [
      "Iter 1 - Epoch 0 - Client Type: Benign - Client Number 4 - Poison Training False\n"
     ]
    },
    {
     "name": "stderr",
     "output_type": "stream",
     "text": [
      "100%|████████████████████████████████████████████████████████████████████████████████████| 1/1 [00:00<00:00,  1.26it/s]\n"
     ]
    },
    {
     "name": "stdout",
     "output_type": "stream",
     "text": [
      "Iter 1 - Epoch 0 - Client Type: Benign - Client Number 5 - Poison Training False\n"
     ]
    },
    {
     "name": "stderr",
     "output_type": "stream",
     "text": [
      "100%|████████████████████████████████████████████████████████████████████████████████████| 1/1 [00:00<00:00,  1.08it/s]\n"
     ]
    },
    {
     "name": "stdout",
     "output_type": "stream",
     "text": [
      "Iter 1 - Epoch 0 - Client Type: Benign - Client Number 6 - Poison Training False\n"
     ]
    },
    {
     "name": "stderr",
     "output_type": "stream",
     "text": [
      "100%|████████████████████████████████████████████████████████████████████████████████████| 1/1 [00:00<00:00,  1.13it/s]\n"
     ]
    },
    {
     "name": "stdout",
     "output_type": "stream",
     "text": [
      "Iter 1 - Epoch 0 - Client Type: Benign - Client Number 7 - Poison Training False\n"
     ]
    },
    {
     "name": "stderr",
     "output_type": "stream",
     "text": [
      "100%|████████████████████████████████████████████████████████████████████████████████████| 1/1 [00:00<00:00,  1.08it/s]\n"
     ]
    },
    {
     "name": "stdout",
     "output_type": "stream",
     "text": [
      "Iter 1 - Epoch 0 - Client Type: Benign - Client Number 8 - Poison Training False\n"
     ]
    },
    {
     "name": "stderr",
     "output_type": "stream",
     "text": [
      "100%|████████████████████████████████████████████████████████████████████████████████████| 2/2 [00:01<00:00,  1.89it/s]\n"
     ]
    },
    {
     "name": "stdout",
     "output_type": "stream",
     "text": [
      "Iter 1 - Epoch 0 - Client Type: Benign - Client Number 9 - Poison Training False\n"
     ]
    },
    {
     "name": "stderr",
     "output_type": "stream",
     "text": [
      "100%|████████████████████████████████████████████████████████████████████████████████████| 1/1 [00:01<00:00,  1.06s/it]\n"
     ]
    },
    {
     "name": "stdout",
     "output_type": "stream",
     "text": [
      "Iter 1 - Epoch 0 - Client Type: Benign - Client Number 10 - Poison Training False\n"
     ]
    },
    {
     "name": "stderr",
     "output_type": "stream",
     "text": [
      "100%|████████████████████████████████████████████████████████████████████████████████████| 2/2 [00:01<00:00,  1.61it/s]\n"
     ]
    },
    {
     "name": "stdout",
     "output_type": "stream",
     "text": [
      "Iter 1 - Epoch 0 - Client Type: Benign - Client Number 11 - Poison Training False\n"
     ]
    },
    {
     "name": "stderr",
     "output_type": "stream",
     "text": [
      "100%|████████████████████████████████████████████████████████████████████████████████████| 2/2 [00:01<00:00,  1.74it/s]\n"
     ]
    },
    {
     "name": "stdout",
     "output_type": "stream",
     "text": [
      "Iter 1 - Epoch 0 - Client Type: Benign - Client Number 12 - Poison Training False\n"
     ]
    },
    {
     "name": "stderr",
     "output_type": "stream",
     "text": [
      "100%|████████████████████████████████████████████████████████████████████████████████████| 1/1 [00:00<00:00,  1.30it/s]\n"
     ]
    },
    {
     "name": "stdout",
     "output_type": "stream",
     "text": [
      "Iter 1 - Epoch 0 - Client Type: Benign - Client Number 13 - Poison Training False\n"
     ]
    },
    {
     "name": "stderr",
     "output_type": "stream",
     "text": [
      "100%|████████████████████████████████████████████████████████████████████████████████████| 2/2 [00:01<00:00,  1.60it/s]\n"
     ]
    },
    {
     "name": "stdout",
     "output_type": "stream",
     "text": [
      "Iter 1 - Epoch 0 - Client Type: Benign - Client Number 14 - Poison Training False\n"
     ]
    },
    {
     "name": "stderr",
     "output_type": "stream",
     "text": [
      "100%|████████████████████████████████████████████████████████████████████████████████████| 2/2 [00:01<00:00,  1.79it/s]\n"
     ]
    },
    {
     "name": "stdout",
     "output_type": "stream",
     "text": [
      "Iter 1 - Epoch 0 - Client Type: Benign - Client Number 15 - Poison Training False\n"
     ]
    },
    {
     "name": "stderr",
     "output_type": "stream",
     "text": [
      "100%|████████████████████████████████████████████████████████████████████████████████████| 1/1 [00:01<00:00,  1.03s/it]\n"
     ]
    },
    {
     "name": "stdout",
     "output_type": "stream",
     "text": [
      "Iter 1 - Epoch 0 - Client Type: Benign - Client Number 16 - Poison Training False\n"
     ]
    },
    {
     "name": "stderr",
     "output_type": "stream",
     "text": [
      "100%|████████████████████████████████████████████████████████████████████████████████████| 1/1 [00:01<00:00,  1.01s/it]\n"
     ]
    },
    {
     "name": "stdout",
     "output_type": "stream",
     "text": [
      "Iter 1 - Epoch 0 - Client Type: Benign - Client Number 17 - Poison Training False\n"
     ]
    },
    {
     "name": "stderr",
     "output_type": "stream",
     "text": [
      "100%|████████████████████████████████████████████████████████████████████████████████████| 2/2 [00:01<00:00,  1.11it/s]\n"
     ]
    },
    {
     "name": "stdout",
     "output_type": "stream",
     "text": [
      "Iter 1 - Epoch 0 - Client Type: Benign - Client Number 18 - Poison Training False\n"
     ]
    },
    {
     "name": "stderr",
     "output_type": "stream",
     "text": [
      "100%|████████████████████████████████████████████████████████████████████████████████████| 1/1 [00:01<00:00,  1.12s/it]\n"
     ]
    },
    {
     "name": "stdout",
     "output_type": "stream",
     "text": [
      "Iter 1 - Epoch 0 - Client Type: Benign - Client Number 19 - Poison Training False\n"
     ]
    },
    {
     "name": "stderr",
     "output_type": "stream",
     "text": [
      "100%|████████████████████████████████████████████████████████████████████████████████████| 2/2 [00:01<00:00,  1.46it/s]\n"
     ]
    },
    {
     "name": "stdout",
     "output_type": "stream",
     "text": [
      "\n",
      "\n",
      " Entering epoch 2\n",
      "Iter 1 - Epoch 0 - Client Type: Benign - Client Number 0 - Poison Training False\n"
     ]
    },
    {
     "name": "stderr",
     "output_type": "stream",
     "text": [
      "100%|████████████████████████████████████████████████████████████████████████████████████| 1/1 [00:01<00:00,  1.10s/it]\n"
     ]
    },
    {
     "name": "stdout",
     "output_type": "stream",
     "text": [
      "Iter 1 - Epoch 0 - Client Type: Benign - Client Number 1 - Poison Training False\n"
     ]
    },
    {
     "name": "stderr",
     "output_type": "stream",
     "text": [
      "100%|████████████████████████████████████████████████████████████████████████████████████| 1/1 [00:00<00:00,  1.16it/s]\n"
     ]
    },
    {
     "name": "stdout",
     "output_type": "stream",
     "text": [
      "Iter 1 - Epoch 0 - Client Type: Benign - Client Number 2 - Poison Training False\n"
     ]
    },
    {
     "name": "stderr",
     "output_type": "stream",
     "text": [
      "100%|████████████████████████████████████████████████████████████████████████████████████| 2/2 [00:01<00:00,  1.30it/s]\n"
     ]
    },
    {
     "name": "stdout",
     "output_type": "stream",
     "text": [
      "Iter 1 - Epoch 0 - Client Type: Benign - Client Number 3 - Poison Training False\n"
     ]
    },
    {
     "name": "stderr",
     "output_type": "stream",
     "text": [
      "100%|████████████████████████████████████████████████████████████████████████████████████| 1/1 [00:01<00:00,  1.01s/it]\n"
     ]
    },
    {
     "name": "stdout",
     "output_type": "stream",
     "text": [
      "Iter 1 - Epoch 0 - Client Type: Benign - Client Number 4 - Poison Training False\n"
     ]
    },
    {
     "name": "stderr",
     "output_type": "stream",
     "text": [
      "100%|████████████████████████████████████████████████████████████████████████████████████| 1/1 [00:00<00:00,  1.14it/s]\n"
     ]
    },
    {
     "name": "stdout",
     "output_type": "stream",
     "text": [
      "Iter 1 - Epoch 0 - Client Type: Benign - Client Number 5 - Poison Training False\n"
     ]
    },
    {
     "name": "stderr",
     "output_type": "stream",
     "text": [
      "100%|████████████████████████████████████████████████████████████████████████████████████| 1/1 [00:01<00:00,  1.09s/it]\n"
     ]
    },
    {
     "name": "stdout",
     "output_type": "stream",
     "text": [
      "Iter 1 - Epoch 0 - Client Type: Benign - Client Number 6 - Poison Training False\n"
     ]
    },
    {
     "name": "stderr",
     "output_type": "stream",
     "text": [
      "100%|████████████████████████████████████████████████████████████████████████████████████| 1/1 [00:00<00:00,  1.05it/s]\n"
     ]
    },
    {
     "name": "stdout",
     "output_type": "stream",
     "text": [
      "Iter 1 - Epoch 0 - Client Type: Benign - Client Number 7 - Poison Training False\n"
     ]
    },
    {
     "name": "stderr",
     "output_type": "stream",
     "text": [
      "100%|████████████████████████████████████████████████████████████████████████████████████| 1/1 [00:01<00:00,  1.10s/it]\n"
     ]
    },
    {
     "name": "stdout",
     "output_type": "stream",
     "text": [
      "Iter 1 - Epoch 0 - Client Type: Benign - Client Number 8 - Poison Training False\n"
     ]
    },
    {
     "name": "stderr",
     "output_type": "stream",
     "text": [
      "100%|████████████████████████████████████████████████████████████████████████████████████| 2/2 [00:01<00:00,  1.56it/s]\n"
     ]
    },
    {
     "name": "stdout",
     "output_type": "stream",
     "text": [
      "Iter 1 - Epoch 0 - Client Type: Benign - Client Number 9 - Poison Training False\n"
     ]
    },
    {
     "name": "stderr",
     "output_type": "stream",
     "text": [
      "100%|████████████████████████████████████████████████████████████████████████████████████| 1/1 [00:01<00:00,  1.04s/it]\n"
     ]
    },
    {
     "name": "stdout",
     "output_type": "stream",
     "text": [
      "Iter 1 - Epoch 0 - Client Type: Benign - Client Number 10 - Poison Training False\n"
     ]
    },
    {
     "name": "stderr",
     "output_type": "stream",
     "text": [
      "100%|████████████████████████████████████████████████████████████████████████████████████| 2/2 [00:01<00:00,  1.58it/s]\n"
     ]
    },
    {
     "name": "stdout",
     "output_type": "stream",
     "text": [
      "Iter 1 - Epoch 0 - Client Type: Benign - Client Number 11 - Poison Training False\n"
     ]
    },
    {
     "name": "stderr",
     "output_type": "stream",
     "text": [
      "100%|████████████████████████████████████████████████████████████████████████████████████| 2/2 [00:01<00:00,  1.62it/s]\n"
     ]
    },
    {
     "name": "stdout",
     "output_type": "stream",
     "text": [
      "Iter 1 - Epoch 0 - Client Type: Benign - Client Number 12 - Poison Training False\n"
     ]
    },
    {
     "name": "stderr",
     "output_type": "stream",
     "text": [
      "100%|████████████████████████████████████████████████████████████████████████████████████| 1/1 [00:00<00:00,  1.55it/s]\n"
     ]
    },
    {
     "name": "stdout",
     "output_type": "stream",
     "text": [
      "Iter 1 - Epoch 0 - Client Type: Benign - Client Number 13 - Poison Training False\n"
     ]
    },
    {
     "name": "stderr",
     "output_type": "stream",
     "text": [
      "100%|████████████████████████████████████████████████████████████████████████████████████| 2/2 [00:01<00:00,  1.76it/s]\n"
     ]
    },
    {
     "name": "stdout",
     "output_type": "stream",
     "text": [
      "Iter 1 - Epoch 0 - Client Type: Benign - Client Number 14 - Poison Training False\n"
     ]
    },
    {
     "name": "stderr",
     "output_type": "stream",
     "text": [
      "100%|████████████████████████████████████████████████████████████████████████████████████| 2/2 [00:01<00:00,  1.68it/s]\n"
     ]
    },
    {
     "name": "stdout",
     "output_type": "stream",
     "text": [
      "Iter 1 - Epoch 0 - Client Type: Benign - Client Number 15 - Poison Training False\n"
     ]
    },
    {
     "name": "stderr",
     "output_type": "stream",
     "text": [
      "100%|████████████████████████████████████████████████████████████████████████████████████| 1/1 [00:01<00:00,  1.08s/it]\n"
     ]
    },
    {
     "name": "stdout",
     "output_type": "stream",
     "text": [
      "Iter 1 - Epoch 0 - Client Type: Benign - Client Number 16 - Poison Training False\n"
     ]
    },
    {
     "name": "stderr",
     "output_type": "stream",
     "text": [
      "100%|████████████████████████████████████████████████████████████████████████████████████| 1/1 [00:00<00:00,  1.01it/s]\n"
     ]
    },
    {
     "name": "stdout",
     "output_type": "stream",
     "text": [
      "Iter 1 - Epoch 0 - Client Type: Benign - Client Number 17 - Poison Training False\n"
     ]
    },
    {
     "name": "stderr",
     "output_type": "stream",
     "text": [
      "100%|████████████████████████████████████████████████████████████████████████████████████| 2/2 [00:01<00:00,  1.22it/s]\n"
     ]
    },
    {
     "name": "stdout",
     "output_type": "stream",
     "text": [
      "Iter 1 - Epoch 0 - Client Type: Benign - Client Number 18 - Poison Training False\n"
     ]
    },
    {
     "name": "stderr",
     "output_type": "stream",
     "text": [
      "100%|████████████████████████████████████████████████████████████████████████████████████| 1/1 [00:01<00:00,  1.11s/it]\n"
     ]
    },
    {
     "name": "stdout",
     "output_type": "stream",
     "text": [
      "Iter 1 - Epoch 0 - Client Type: Benign - Client Number 19 - Poison Training False\n"
     ]
    },
    {
     "name": "stderr",
     "output_type": "stream",
     "text": [
      "100%|████████████████████████████████████████████████████████████████████████████████████| 2/2 [00:01<00:00,  1.37it/s]\n"
     ]
    },
    {
     "name": "stdout",
     "output_type": "stream",
     "text": [
      "\n",
      "\n",
      " Entering epoch 3\n",
      "Iter 1 - Epoch 0 - Client Type: Benign - Client Number 0 - Poison Training False\n"
     ]
    },
    {
     "name": "stderr",
     "output_type": "stream",
     "text": [
      "100%|████████████████████████████████████████████████████████████████████████████████████| 1/1 [00:01<00:00,  1.15s/it]\n"
     ]
    },
    {
     "name": "stdout",
     "output_type": "stream",
     "text": [
      "Iter 1 - Epoch 0 - Client Type: Benign - Client Number 1 - Poison Training False\n"
     ]
    },
    {
     "name": "stderr",
     "output_type": "stream",
     "text": [
      "100%|████████████████████████████████████████████████████████████████████████████████████| 1/1 [00:00<00:00,  1.14it/s]\n"
     ]
    },
    {
     "name": "stdout",
     "output_type": "stream",
     "text": [
      "Iter 1 - Epoch 0 - Client Type: Benign - Client Number 2 - Poison Training False\n"
     ]
    },
    {
     "name": "stderr",
     "output_type": "stream",
     "text": [
      "100%|████████████████████████████████████████████████████████████████████████████████████| 2/2 [00:01<00:00,  1.23it/s]\n"
     ]
    },
    {
     "name": "stdout",
     "output_type": "stream",
     "text": [
      "Iter 1 - Epoch 0 - Client Type: Benign - Client Number 3 - Poison Training False\n"
     ]
    },
    {
     "name": "stderr",
     "output_type": "stream",
     "text": [
      "100%|████████████████████████████████████████████████████████████████████████████████████| 1/1 [00:01<00:00,  1.05s/it]\n"
     ]
    },
    {
     "name": "stdout",
     "output_type": "stream",
     "text": [
      "Iter 1 - Epoch 0 - Client Type: Benign - Client Number 4 - Poison Training False\n"
     ]
    },
    {
     "name": "stderr",
     "output_type": "stream",
     "text": [
      "100%|████████████████████████████████████████████████████████████████████████████████████| 1/1 [00:00<00:00,  1.11it/s]\n"
     ]
    },
    {
     "name": "stdout",
     "output_type": "stream",
     "text": [
      "Iter 1 - Epoch 0 - Client Type: Benign - Client Number 5 - Poison Training False\n"
     ]
    },
    {
     "name": "stderr",
     "output_type": "stream",
     "text": [
      "100%|████████████████████████████████████████████████████████████████████████████████████| 1/1 [00:01<00:00,  1.19s/it]\n"
     ]
    },
    {
     "name": "stdout",
     "output_type": "stream",
     "text": [
      "Iter 1 - Epoch 0 - Client Type: Benign - Client Number 6 - Poison Training False\n"
     ]
    },
    {
     "name": "stderr",
     "output_type": "stream",
     "text": [
      "100%|████████████████████████████████████████████████████████████████████████████████████| 1/1 [00:01<00:00,  1.01s/it]\n"
     ]
    },
    {
     "name": "stdout",
     "output_type": "stream",
     "text": [
      "Iter 1 - Epoch 0 - Client Type: Benign - Client Number 7 - Poison Training False\n"
     ]
    },
    {
     "name": "stderr",
     "output_type": "stream",
     "text": [
      "100%|████████████████████████████████████████████████████████████████████████████████████| 1/1 [00:01<00:00,  1.04s/it]\n"
     ]
    },
    {
     "name": "stdout",
     "output_type": "stream",
     "text": [
      "Iter 1 - Epoch 0 - Client Type: Benign - Client Number 8 - Poison Training False\n"
     ]
    },
    {
     "name": "stderr",
     "output_type": "stream",
     "text": [
      "100%|████████████████████████████████████████████████████████████████████████████████████| 2/2 [00:01<00:00,  1.63it/s]\n"
     ]
    },
    {
     "name": "stdout",
     "output_type": "stream",
     "text": [
      "Iter 1 - Epoch 0 - Client Type: Benign - Client Number 9 - Poison Training False\n"
     ]
    },
    {
     "name": "stderr",
     "output_type": "stream",
     "text": [
      "100%|████████████████████████████████████████████████████████████████████████████████████| 1/1 [00:01<00:00,  1.14s/it]\n"
     ]
    },
    {
     "name": "stdout",
     "output_type": "stream",
     "text": [
      "Iter 1 - Epoch 0 - Client Type: Benign - Client Number 10 - Poison Training False\n"
     ]
    },
    {
     "name": "stderr",
     "output_type": "stream",
     "text": [
      "100%|████████████████████████████████████████████████████████████████████████████████████| 2/2 [00:01<00:00,  1.45it/s]\n"
     ]
    },
    {
     "name": "stdout",
     "output_type": "stream",
     "text": [
      "Iter 1 - Epoch 0 - Client Type: Benign - Client Number 11 - Poison Training False\n"
     ]
    },
    {
     "name": "stderr",
     "output_type": "stream",
     "text": [
      "100%|████████████████████████████████████████████████████████████████████████████████████| 2/2 [00:01<00:00,  1.78it/s]\n"
     ]
    },
    {
     "name": "stdout",
     "output_type": "stream",
     "text": [
      "Iter 1 - Epoch 0 - Client Type: Benign - Client Number 12 - Poison Training False\n"
     ]
    },
    {
     "name": "stderr",
     "output_type": "stream",
     "text": [
      "100%|████████████████████████████████████████████████████████████████████████████████████| 1/1 [00:00<00:00,  1.59it/s]\n"
     ]
    },
    {
     "name": "stdout",
     "output_type": "stream",
     "text": [
      "Iter 1 - Epoch 0 - Client Type: Benign - Client Number 13 - Poison Training False\n"
     ]
    },
    {
     "name": "stderr",
     "output_type": "stream",
     "text": [
      "100%|████████████████████████████████████████████████████████████████████████████████████| 2/2 [00:01<00:00,  1.84it/s]\n"
     ]
    },
    {
     "name": "stdout",
     "output_type": "stream",
     "text": [
      "Iter 1 - Epoch 0 - Client Type: Benign - Client Number 14 - Poison Training False\n"
     ]
    },
    {
     "name": "stderr",
     "output_type": "stream",
     "text": [
      "100%|████████████████████████████████████████████████████████████████████████████████████| 2/2 [00:01<00:00,  1.74it/s]\n"
     ]
    },
    {
     "name": "stdout",
     "output_type": "stream",
     "text": [
      "Iter 1 - Epoch 0 - Client Type: Benign - Client Number 15 - Poison Training False\n"
     ]
    },
    {
     "name": "stderr",
     "output_type": "stream",
     "text": [
      "100%|████████████████████████████████████████████████████████████████████████████████████| 1/1 [00:00<00:00,  1.03it/s]\n"
     ]
    },
    {
     "name": "stdout",
     "output_type": "stream",
     "text": [
      "Iter 1 - Epoch 0 - Client Type: Benign - Client Number 16 - Poison Training False\n"
     ]
    },
    {
     "name": "stderr",
     "output_type": "stream",
     "text": [
      "100%|████████████████████████████████████████████████████████████████████████████████████| 1/1 [00:00<00:00,  1.02it/s]\n"
     ]
    },
    {
     "name": "stdout",
     "output_type": "stream",
     "text": [
      "Iter 1 - Epoch 0 - Client Type: Benign - Client Number 17 - Poison Training False\n"
     ]
    },
    {
     "name": "stderr",
     "output_type": "stream",
     "text": [
      "100%|████████████████████████████████████████████████████████████████████████████████████| 2/2 [00:01<00:00,  1.17it/s]\n"
     ]
    },
    {
     "name": "stdout",
     "output_type": "stream",
     "text": [
      "Iter 1 - Epoch 0 - Client Type: Benign - Client Number 18 - Poison Training False\n"
     ]
    },
    {
     "name": "stderr",
     "output_type": "stream",
     "text": [
      "100%|████████████████████████████████████████████████████████████████████████████████████| 1/1 [00:01<00:00,  1.09s/it]\n"
     ]
    },
    {
     "name": "stdout",
     "output_type": "stream",
     "text": [
      "Iter 1 - Epoch 0 - Client Type: Benign - Client Number 19 - Poison Training False\n"
     ]
    },
    {
     "name": "stderr",
     "output_type": "stream",
     "text": [
      "100%|████████████████████████████████████████████████████████████████████████████████████| 2/2 [00:01<00:00,  1.44it/s]\n"
     ]
    },
    {
     "name": "stdout",
     "output_type": "stream",
     "text": [
      "\n",
      "\n",
      " Entering epoch 4\n",
      "Iter 1 - Epoch 0 - Client Type: Benign - Client Number 0 - Poison Training False\n"
     ]
    },
    {
     "name": "stderr",
     "output_type": "stream",
     "text": [
      "100%|████████████████████████████████████████████████████████████████████████████████████| 1/1 [00:00<00:00,  1.04it/s]\n"
     ]
    },
    {
     "name": "stdout",
     "output_type": "stream",
     "text": [
      "Iter 1 - Epoch 0 - Client Type: Benign - Client Number 1 - Poison Training False\n"
     ]
    },
    {
     "name": "stderr",
     "output_type": "stream",
     "text": [
      "100%|████████████████████████████████████████████████████████████████████████████████████| 1/1 [00:00<00:00,  1.08it/s]\n"
     ]
    },
    {
     "name": "stdout",
     "output_type": "stream",
     "text": [
      "Iter 1 - Epoch 0 - Client Type: Benign - Client Number 2 - Poison Training False\n"
     ]
    },
    {
     "name": "stderr",
     "output_type": "stream",
     "text": [
      "100%|████████████████████████████████████████████████████████████████████████████████████| 2/2 [00:01<00:00,  1.36it/s]\n"
     ]
    },
    {
     "name": "stdout",
     "output_type": "stream",
     "text": [
      "Iter 1 - Epoch 0 - Client Type: Benign - Client Number 3 - Poison Training False\n"
     ]
    },
    {
     "name": "stderr",
     "output_type": "stream",
     "text": [
      "100%|████████████████████████████████████████████████████████████████████████████████████| 1/1 [00:01<00:00,  1.25s/it]\n"
     ]
    },
    {
     "name": "stdout",
     "output_type": "stream",
     "text": [
      "Iter 1 - Epoch 0 - Client Type: Benign - Client Number 4 - Poison Training False\n"
     ]
    },
    {
     "name": "stderr",
     "output_type": "stream",
     "text": [
      "100%|████████████████████████████████████████████████████████████████████████████████████| 1/1 [00:00<00:00,  1.12it/s]\n"
     ]
    },
    {
     "name": "stdout",
     "output_type": "stream",
     "text": [
      "Iter 1 - Epoch 0 - Client Type: Benign - Client Number 5 - Poison Training False\n"
     ]
    },
    {
     "name": "stderr",
     "output_type": "stream",
     "text": [
      "100%|████████████████████████████████████████████████████████████████████████████████████| 1/1 [00:01<00:00,  1.15s/it]\n"
     ]
    },
    {
     "name": "stdout",
     "output_type": "stream",
     "text": [
      "Iter 1 - Epoch 0 - Client Type: Benign - Client Number 6 - Poison Training False\n"
     ]
    },
    {
     "name": "stderr",
     "output_type": "stream",
     "text": [
      "100%|████████████████████████████████████████████████████████████████████████████████████| 1/1 [00:01<00:00,  1.15s/it]\n"
     ]
    },
    {
     "name": "stdout",
     "output_type": "stream",
     "text": [
      "Iter 1 - Epoch 0 - Client Type: Benign - Client Number 7 - Poison Training False\n"
     ]
    },
    {
     "name": "stderr",
     "output_type": "stream",
     "text": [
      "100%|████████████████████████████████████████████████████████████████████████████████████| 1/1 [00:01<00:00,  1.13s/it]\n"
     ]
    },
    {
     "name": "stdout",
     "output_type": "stream",
     "text": [
      "Iter 1 - Epoch 0 - Client Type: Benign - Client Number 8 - Poison Training False\n"
     ]
    },
    {
     "name": "stderr",
     "output_type": "stream",
     "text": [
      "100%|████████████████████████████████████████████████████████████████████████████████████| 2/2 [00:01<00:00,  1.59it/s]\n"
     ]
    },
    {
     "name": "stdout",
     "output_type": "stream",
     "text": [
      "Iter 1 - Epoch 0 - Client Type: Benign - Client Number 9 - Poison Training False\n"
     ]
    },
    {
     "name": "stderr",
     "output_type": "stream",
     "text": [
      "100%|████████████████████████████████████████████████████████████████████████████████████| 1/1 [00:01<00:00,  1.04s/it]\n"
     ]
    },
    {
     "name": "stdout",
     "output_type": "stream",
     "text": [
      "Iter 1 - Epoch 0 - Client Type: Benign - Client Number 10 - Poison Training False\n"
     ]
    },
    {
     "name": "stderr",
     "output_type": "stream",
     "text": [
      "100%|████████████████████████████████████████████████████████████████████████████████████| 2/2 [00:01<00:00,  1.82it/s]\n"
     ]
    },
    {
     "name": "stdout",
     "output_type": "stream",
     "text": [
      "Iter 1 - Epoch 0 - Client Type: Benign - Client Number 11 - Poison Training False\n"
     ]
    },
    {
     "name": "stderr",
     "output_type": "stream",
     "text": [
      "100%|████████████████████████████████████████████████████████████████████████████████████| 2/2 [00:01<00:00,  1.82it/s]\n"
     ]
    },
    {
     "name": "stdout",
     "output_type": "stream",
     "text": [
      "Iter 1 - Epoch 0 - Client Type: Benign - Client Number 12 - Poison Training False\n"
     ]
    },
    {
     "name": "stderr",
     "output_type": "stream",
     "text": [
      "100%|████████████████████████████████████████████████████████████████████████████████████| 1/1 [00:00<00:00,  1.64it/s]\n"
     ]
    },
    {
     "name": "stdout",
     "output_type": "stream",
     "text": [
      "Iter 1 - Epoch 0 - Client Type: Benign - Client Number 13 - Poison Training False\n"
     ]
    },
    {
     "name": "stderr",
     "output_type": "stream",
     "text": [
      "100%|████████████████████████████████████████████████████████████████████████████████████| 2/2 [00:01<00:00,  1.89it/s]\n"
     ]
    },
    {
     "name": "stdout",
     "output_type": "stream",
     "text": [
      "Iter 1 - Epoch 0 - Client Type: Benign - Client Number 14 - Poison Training False\n"
     ]
    },
    {
     "name": "stderr",
     "output_type": "stream",
     "text": [
      "100%|████████████████████████████████████████████████████████████████████████████████████| 2/2 [00:01<00:00,  1.76it/s]\n"
     ]
    },
    {
     "name": "stdout",
     "output_type": "stream",
     "text": [
      "Iter 1 - Epoch 0 - Client Type: Benign - Client Number 15 - Poison Training False\n"
     ]
    },
    {
     "name": "stderr",
     "output_type": "stream",
     "text": [
      "100%|████████████████████████████████████████████████████████████████████████████████████| 1/1 [00:01<00:00,  1.01s/it]\n"
     ]
    },
    {
     "name": "stdout",
     "output_type": "stream",
     "text": [
      "Iter 1 - Epoch 0 - Client Type: Benign - Client Number 16 - Poison Training False\n"
     ]
    },
    {
     "name": "stderr",
     "output_type": "stream",
     "text": [
      "100%|████████████████████████████████████████████████████████████████████████████████████| 1/1 [00:01<00:00,  1.07s/it]\n"
     ]
    },
    {
     "name": "stdout",
     "output_type": "stream",
     "text": [
      "Iter 1 - Epoch 0 - Client Type: Benign - Client Number 17 - Poison Training False\n"
     ]
    },
    {
     "name": "stderr",
     "output_type": "stream",
     "text": [
      "100%|████████████████████████████████████████████████████████████████████████████████████| 2/2 [00:01<00:00,  1.11it/s]\n"
     ]
    },
    {
     "name": "stdout",
     "output_type": "stream",
     "text": [
      "Iter 1 - Epoch 0 - Client Type: Benign - Client Number 18 - Poison Training False\n"
     ]
    },
    {
     "name": "stderr",
     "output_type": "stream",
     "text": [
      "100%|████████████████████████████████████████████████████████████████████████████████████| 1/1 [00:01<00:00,  1.11s/it]\n"
     ]
    },
    {
     "name": "stdout",
     "output_type": "stream",
     "text": [
      "Iter 1 - Epoch 0 - Client Type: Benign - Client Number 19 - Poison Training False\n"
     ]
    },
    {
     "name": "stderr",
     "output_type": "stream",
     "text": [
      "100%|████████████████████████████████████████████████████████████████████████████████████| 2/2 [00:01<00:00,  1.40it/s]\n"
     ]
    },
    {
     "name": "stdout",
     "output_type": "stream",
     "text": [
      "Original Copylist [7, 2, 5, 3, 2, 7, 3, 7, 0, 7, 0, 0, 4, 0, 0, 7, 3, 1, 7, 6]\n",
      "Found clusters [7 5 3 2 5 7 2 7 0 7 0 1 6 1 1 7 2 3 7 4]\n",
      "Original groups [array([ 8, 10, 11, 13, 14], dtype=int64), array([17], dtype=int64), array([1, 4], dtype=int64), array([ 3,  6, 16], dtype=int64), array([12], dtype=int64), array([2], dtype=int64), array([19], dtype=int64), array([ 0,  5,  7,  9, 15, 18], dtype=int64)]\n",
      "Clustered groups [array([ 8, 10], dtype=int64), array([11, 13, 14], dtype=int64), array([ 3,  6, 16], dtype=int64), array([ 2, 17], dtype=int64), array([19], dtype=int64), array([1, 4], dtype=int64), array([12], dtype=int64), array([ 0,  5,  7,  9, 15, 18], dtype=int64)]\n",
      "Clustering score 0.8467388799262503\n",
      "2\n",
      "[[1.00000536 0.2595787  0.49234405 0.44078547 0.2594582  0.99614486\n",
      "  0.46162893 0.96139276 0.46885972 0.93083662 0.46039894 0.59432268\n",
      "  0.46824481 0.60331565 0.40797648 0.9503139  0.46854636 0.54794925\n",
      "  0.97961637 0.27006996]\n",
      " [0.2595787  1.00001109 0.31369038 0.44908902 0.99819452 0.26243366\n",
      "  0.44477011 0.2699313  0.41210398 0.27813264 0.36950362 0.36034541\n",
      "  0.29974307 0.31781225 0.32127249 0.26631847 0.43901044 0.31278934\n",
      "  0.24390526 0.4515754 ]\n",
      " [0.49234405 0.31369036 1.00000709 0.31649151 0.32272354 0.49054946\n",
      "  0.32206656 0.45234385 0.4629561  0.43130048 0.53543383 0.58845839\n",
      "  0.37118624 0.58997495 0.52590889 0.43519592 0.32295181 0.67548925\n",
      "  0.50425136 0.37804261]\n",
      " [0.44078547 0.44908901 0.3164915  1.00000584 0.43844961 0.44831158\n",
      "  0.99500459 0.41488163 0.54278672 0.41129601 0.46194452 0.4966322\n",
      "  0.43036373 0.50703378 0.3940855  0.40555412 0.99337626 0.36263031\n",
      "  0.44341438 0.4741614 ]\n",
      " [0.2594582  0.99819449 0.32272356 0.43844961 1.00001031 0.26253331\n",
      "  0.43373202 0.26853744 0.40918759 0.27590639 0.37194702 0.36174312\n",
      "  0.30193011 0.31876132 0.32418104 0.26453406 0.42804788 0.31782407\n",
      "  0.24422054 0.45783754]\n",
      " [0.99614489 0.26243366 0.49054946 0.44831163 0.26253331 1.00000376\n",
      "  0.46781871 0.95632869 0.4670276  0.92522708 0.45883584 0.58937609\n",
      "  0.47835247 0.60014424 0.4093568  0.94603613 0.47505952 0.54901282\n",
      "  0.97857672 0.27564567]\n",
      " [0.46162893 0.44477011 0.32206656 0.99500462 0.43373197 0.46781871\n",
      "  1.000009   0.43635677 0.55440602 0.43164031 0.47139601 0.51309916\n",
      "  0.42450824 0.52125956 0.39823885 0.42599757 0.99728024 0.36617371\n",
      "  0.4644219  0.45150423]\n",
      " [0.9613927  0.2699313  0.45234385 0.41488162 0.26853743 0.95632869\n",
      "  0.43635677 1.00000256 0.49516098 0.989748   0.46617082 0.61164168\n",
      "  0.45148851 0.60083497 0.41027095 0.99126178 0.44122636 0.52595231\n",
      "  0.91405866 0.29166619]\n",
      " [0.46885972 0.41210401 0.4629561  0.54278672 0.40918759 0.4670276\n",
      "  0.55440605 0.49516098 1.00000679 0.50455564 0.72709924 0.75724441\n",
      "  0.43387079 0.84216276 0.65367761 0.48845965 0.55450481 0.55210128\n",
      "  0.4533339  0.4117022 ]\n",
      " [0.93083656 0.27813264 0.43130049 0.41129601 0.27590641 0.92522711\n",
      "  0.43164028 0.98974803 0.50455564 1.00000584 0.46019815 0.60946214\n",
      "  0.44683421 0.59448957 0.41062239 0.99023411 0.43622117 0.5076371\n",
      "  0.87284288 0.29341018]\n",
      " [0.46039894 0.3695036  0.53543383 0.46194454 0.37194702 0.45883584\n",
      "  0.471396   0.46617082 0.72709921 0.46019815 1.00000447 0.72602922\n",
      "  0.40722395 0.72098461 0.62077436 0.45509292 0.46834396 0.54907079\n",
      "  0.45305631 0.44256485]\n",
      " [0.59432268 0.36034541 0.58845837 0.49663217 0.36174311 0.58937612\n",
      "  0.51309918 0.61164171 0.75724444 0.60946214 0.72602919 1.00000411\n",
      "  0.45696288 0.88348091 0.66367149 0.60009524 0.51179481 0.58344364\n",
      "  0.57774404 0.42107187]\n",
      " [0.46824482 0.29974306 0.37118623 0.43036374 0.30193014 0.47835247\n",
      "  0.42450824 0.45148852 0.43387078 0.44683421 0.40722395 0.45696293\n",
      "  1.00000709 0.47106348 0.41387109 0.46150339 0.41796699 0.48157381\n",
      "  0.44577278 0.38016683]\n",
      " [0.60331565 0.31781225 0.58997495 0.5070338  0.31876133 0.60014421\n",
      "  0.52125958 0.60083497 0.84216279 0.59448957 0.72098461 0.88348088\n",
      "  0.47106348 1.00000128 0.73300055 0.59333855 0.52135324 0.61521471\n",
      "  0.59434429 0.43248212]\n",
      " [0.40797649 0.32127246 0.52590889 0.3940855  0.32418104 0.4093568\n",
      "  0.39823887 0.41027095 0.65367761 0.41062239 0.62077436 0.66367152\n",
      "  0.41387109 0.73300055 1.00000352 0.40295504 0.39583929 0.52078851\n",
      "  0.39729781 0.4582485 ]\n",
      " [0.95031396 0.26631849 0.43519592 0.40555412 0.26453406 0.94603613\n",
      "  0.42599757 0.99126181 0.48845968 0.99023414 0.45509292 0.60009524\n",
      "  0.46150339 0.59333852 0.40295503 1.00000405 0.43082865 0.51658016\n",
      "  0.8891142  0.28499388]\n",
      " [0.46854638 0.43901044 0.32295182 0.99337623 0.42804785 0.47505951\n",
      "  0.99728018 0.44122636 0.55450475 0.43622114 0.46834396 0.51179482\n",
      "  0.41796698 0.52135324 0.39583929 0.43082866 1.00000626 0.36439209\n",
      "  0.47222562 0.44303048]\n",
      " [0.54794928 0.31278936 0.67548925 0.36263032 0.31782408 0.54901284\n",
      "  0.36617373 0.52595232 0.55210128 0.50763711 0.54907079 0.58344364\n",
      "  0.48157378 0.61521474 0.52078849 0.51658013 0.36439209 1.00000322\n",
      "  0.53804129 0.37728824]\n",
      " [0.9796164  0.24390527 0.50425138 0.44341438 0.24422055 0.97857675\n",
      "  0.4644219  0.91405869 0.4533339  0.87284291 0.45305631 0.57774407\n",
      "  0.44577278 0.59434426 0.39729781 0.88911423 0.47222562 0.53804128\n",
      "  1.00000364 0.25062422]\n",
      " [0.27006995 0.45157537 0.37804262 0.47416139 0.45783754 0.27564567\n",
      "  0.45150425 0.29166619 0.4117022  0.29341018 0.44256485 0.42107187\n",
      "  0.38016681 0.43248214 0.45824848 0.28499389 0.44303045 0.37728824\n",
      "  0.25062421 1.00000924]]\n",
      "Original Copylist [7, 2, 5, 3, 2, 7, 3, 7, 0, 7, 0, 0, 4, 0, 0, 7, 3, 1, 7, 6]\n",
      "Found clusters [1 6 0 3 6 1 3 1 2 1 2 2 4 2 7 1 3 0 1 5]\n",
      "Original groups [array([ 8, 10, 11, 13, 14], dtype=int64), array([17], dtype=int64), array([1, 4], dtype=int64), array([ 3,  6, 16], dtype=int64), array([12], dtype=int64), array([2], dtype=int64), array([19], dtype=int64), array([ 0,  5,  7,  9, 15, 18], dtype=int64)]\n",
      "Clustered groups [array([ 2, 17], dtype=int64), array([ 0,  5,  7,  9, 15, 18], dtype=int64), array([ 8, 10, 11, 13], dtype=int64), array([ 3,  6, 16], dtype=int64), array([12], dtype=int64), array([19], dtype=int64), array([1, 4], dtype=int64), array([14], dtype=int64)]\n",
      "Clustering score 0.8937597852829344\n",
      "Benign net distance [tensor(106.0780), tensor(114.9053), tensor(108.2104), tensor(120.9244), tensor(113.5153), tensor(106.1188), tensor(119.0067), tensor(105.9194), tensor(107.2082), tensor(106.9796), tensor(101.4744), tensor(98.6296), tensor(114.8257), tensor(98.4476), tensor(100.4370), tensor(106.7223), tensor(119.3426), tensor(115.9118), tensor(107.5180), tensor(0.)]\n",
      "Malicious net distance []\n",
      "cos_sim list  [tensor(0.4392), tensor(0.3941), tensor(0.3739), tensor(0.3704), tensor(0.3981), tensor(0.4385), tensor(0.3740), tensor(0.4662), tensor(0.4816), tensor(0.4550), tensor(0.5195), tensor(0.5371), tensor(0.3667), tensor(0.5278), tensor(0.5244), tensor(0.4505), tensor(0.3704), tensor(0.3561), tensor(0.4063), tensor(1.0000)]\n",
      "Norms of local gradients  [tensor(0.6839), tensor(1.1149), tensor(0.8347), tensor(1.2903), tensor(1.0822), tensor(0.6817), tensor(1.2267), tensor(0.7559), tensor(1.0274), tensor(0.7758), tensor(0.9682), tensor(0.8848), tensor(0.8944), tensor(0.8033), tensor(0.9409), tensor(0.7921), tensor(1.2331), tensor(1.0477), tensor(0.6533), tensor(1.2064)]\n",
      "\n",
      " Aggregating models\n",
      "Cosine Similarities:  [tensor(0.4392), tensor(0.3941), tensor(0.3739), tensor(0.3704), tensor(0.3981), tensor(0.4385), tensor(0.3740), tensor(0.4662), tensor(0.4816), tensor(0.4550), tensor(0.5195), tensor(0.5371), tensor(0.3667), tensor(0.5278), tensor(0.5244), tensor(0.4505), tensor(0.3704), tensor(0.3561), tensor(0.4063), tensor(1.0000)]\n",
      "Aggregation Weights:  [0.0837535  0.04610246 0.0584279  0.03743989 0.04798067 0.08389603\n",
      " 0.03976618 0.08044272 0.0611309  0.07649074 0.06997981 0.07918256\n",
      " 0.05346838 0.08569649 0.07269666 0.07417626 0.03917276 0.04432485\n",
      " 0.08112439 0.10810984]\n",
      "\n",
      "\n",
      "\n",
      "Aggregate test at iter  1\n"
     ]
    },
    {
     "name": "stderr",
     "output_type": "stream",
     "text": [
      "100%|██████████████████████████████████████████████████████████████████████████████████| 10/10 [00:02<00:00,  4.46it/s]\n"
     ]
    },
    {
     "name": "stdout",
     "output_type": "stream",
     "text": [
      "\n",
      "Test set: Avg. loss: 0.0013, Accuracy: 6366/10000 (64%)\n",
      "\n",
      "\n",
      "\n",
      " Entering epoch 0\n",
      "Iter 2 - Epoch 0 - Client Type: Benign - Client Number 0 - Poison Training False\n"
     ]
    },
    {
     "name": "stderr",
     "output_type": "stream",
     "text": [
      "100%|████████████████████████████████████████████████████████████████████████████████████| 1/1 [00:01<00:00,  1.13s/it]\n"
     ]
    },
    {
     "name": "stdout",
     "output_type": "stream",
     "text": [
      "Iter 2 - Epoch 0 - Client Type: Benign - Client Number 1 - Poison Training False\n"
     ]
    },
    {
     "name": "stderr",
     "output_type": "stream",
     "text": [
      "100%|████████████████████████████████████████████████████████████████████████████████████| 1/1 [00:00<00:00,  1.20it/s]\n"
     ]
    },
    {
     "name": "stdout",
     "output_type": "stream",
     "text": [
      "Iter 2 - Epoch 0 - Client Type: Benign - Client Number 2 - Poison Training False\n"
     ]
    },
    {
     "name": "stderr",
     "output_type": "stream",
     "text": [
      "100%|████████████████████████████████████████████████████████████████████████████████████| 2/2 [00:01<00:00,  1.32it/s]\n"
     ]
    },
    {
     "name": "stdout",
     "output_type": "stream",
     "text": [
      "Iter 2 - Epoch 0 - Client Type: Benign - Client Number 3 - Poison Training False\n"
     ]
    },
    {
     "name": "stderr",
     "output_type": "stream",
     "text": [
      "100%|████████████████████████████████████████████████████████████████████████████████████| 1/1 [00:00<00:00,  1.08it/s]\n"
     ]
    },
    {
     "name": "stdout",
     "output_type": "stream",
     "text": [
      "Iter 2 - Epoch 0 - Client Type: Benign - Client Number 4 - Poison Training False\n"
     ]
    },
    {
     "name": "stderr",
     "output_type": "stream",
     "text": [
      "100%|████████████████████████████████████████████████████████████████████████████████████| 1/1 [00:00<00:00,  1.18it/s]\n"
     ]
    },
    {
     "name": "stdout",
     "output_type": "stream",
     "text": [
      "Iter 2 - Epoch 0 - Client Type: Benign - Client Number 5 - Poison Training False\n"
     ]
    },
    {
     "name": "stderr",
     "output_type": "stream",
     "text": [
      "100%|████████████████████████████████████████████████████████████████████████████████████| 1/1 [00:00<00:00,  1.03it/s]\n"
     ]
    },
    {
     "name": "stdout",
     "output_type": "stream",
     "text": [
      "Iter 2 - Epoch 0 - Client Type: Benign - Client Number 6 - Poison Training False\n"
     ]
    },
    {
     "name": "stderr",
     "output_type": "stream",
     "text": [
      "100%|████████████████████████████████████████████████████████████████████████████████████| 1/1 [00:00<00:00,  1.08it/s]\n"
     ]
    },
    {
     "name": "stdout",
     "output_type": "stream",
     "text": [
      "Iter 2 - Epoch 0 - Client Type: Benign - Client Number 7 - Poison Training False\n"
     ]
    },
    {
     "name": "stderr",
     "output_type": "stream",
     "text": [
      "100%|████████████████████████████████████████████████████████████████████████████████████| 1/1 [00:00<00:00,  1.02it/s]\n"
     ]
    },
    {
     "name": "stdout",
     "output_type": "stream",
     "text": [
      "Iter 2 - Epoch 0 - Client Type: Benign - Client Number 8 - Poison Training False\n"
     ]
    },
    {
     "name": "stderr",
     "output_type": "stream",
     "text": [
      "100%|████████████████████████████████████████████████████████████████████████████████████| 2/2 [00:01<00:00,  1.84it/s]\n"
     ]
    },
    {
     "name": "stdout",
     "output_type": "stream",
     "text": [
      "Iter 2 - Epoch 0 - Client Type: Benign - Client Number 9 - Poison Training False\n"
     ]
    },
    {
     "name": "stderr",
     "output_type": "stream",
     "text": [
      "100%|████████████████████████████████████████████████████████████████████████████████████| 1/1 [00:00<00:00,  1.06it/s]\n"
     ]
    },
    {
     "name": "stdout",
     "output_type": "stream",
     "text": [
      "Iter 2 - Epoch 0 - Client Type: Benign - Client Number 10 - Poison Training False\n"
     ]
    },
    {
     "name": "stderr",
     "output_type": "stream",
     "text": [
      "100%|████████████████████████████████████████████████████████████████████████████████████| 2/2 [00:01<00:00,  1.81it/s]\n"
     ]
    },
    {
     "name": "stdout",
     "output_type": "stream",
     "text": [
      "Iter 2 - Epoch 0 - Client Type: Benign - Client Number 11 - Poison Training False\n"
     ]
    },
    {
     "name": "stderr",
     "output_type": "stream",
     "text": [
      "100%|████████████████████████████████████████████████████████████████████████████████████| 2/2 [00:01<00:00,  1.75it/s]\n"
     ]
    },
    {
     "name": "stdout",
     "output_type": "stream",
     "text": [
      "Iter 2 - Epoch 0 - Client Type: Benign - Client Number 12 - Poison Training False\n"
     ]
    },
    {
     "name": "stderr",
     "output_type": "stream",
     "text": [
      "100%|████████████████████████████████████████████████████████████████████████████████████| 1/1 [00:00<00:00,  1.51it/s]\n"
     ]
    },
    {
     "name": "stdout",
     "output_type": "stream",
     "text": [
      "Iter 2 - Epoch 0 - Client Type: Benign - Client Number 13 - Poison Training False\n"
     ]
    },
    {
     "name": "stderr",
     "output_type": "stream",
     "text": [
      "100%|████████████████████████████████████████████████████████████████████████████████████| 2/2 [00:01<00:00,  1.75it/s]\n"
     ]
    },
    {
     "name": "stdout",
     "output_type": "stream",
     "text": [
      "Iter 2 - Epoch 0 - Client Type: Benign - Client Number 14 - Poison Training False\n"
     ]
    },
    {
     "name": "stderr",
     "output_type": "stream",
     "text": [
      "100%|████████████████████████████████████████████████████████████████████████████████████| 2/2 [00:01<00:00,  1.85it/s]\n"
     ]
    },
    {
     "name": "stdout",
     "output_type": "stream",
     "text": [
      "Iter 2 - Epoch 0 - Client Type: Benign - Client Number 15 - Poison Training False\n"
     ]
    },
    {
     "name": "stderr",
     "output_type": "stream",
     "text": [
      "100%|████████████████████████████████████████████████████████████████████████████████████| 1/1 [00:00<00:00,  1.05it/s]\n"
     ]
    },
    {
     "name": "stdout",
     "output_type": "stream",
     "text": [
      "Iter 2 - Epoch 0 - Client Type: Benign - Client Number 16 - Poison Training False\n"
     ]
    },
    {
     "name": "stderr",
     "output_type": "stream",
     "text": [
      "100%|████████████████████████████████████████████████████████████████████████████████████| 1/1 [00:00<00:00,  1.12it/s]\n"
     ]
    },
    {
     "name": "stdout",
     "output_type": "stream",
     "text": [
      "Iter 2 - Epoch 0 - Client Type: Benign - Client Number 17 - Poison Training False\n"
     ]
    },
    {
     "name": "stderr",
     "output_type": "stream",
     "text": [
      "100%|████████████████████████████████████████████████████████████████████████████████████| 2/2 [00:01<00:00,  1.30it/s]\n"
     ]
    },
    {
     "name": "stdout",
     "output_type": "stream",
     "text": [
      "Iter 2 - Epoch 0 - Client Type: Benign - Client Number 18 - Poison Training False\n"
     ]
    },
    {
     "name": "stderr",
     "output_type": "stream",
     "text": [
      "100%|████████████████████████████████████████████████████████████████████████████████████| 1/1 [00:01<00:00,  1.03s/it]\n"
     ]
    },
    {
     "name": "stdout",
     "output_type": "stream",
     "text": [
      "Iter 2 - Epoch 0 - Client Type: Benign - Client Number 19 - Poison Training False\n"
     ]
    },
    {
     "name": "stderr",
     "output_type": "stream",
     "text": [
      "100%|████████████████████████████████████████████████████████████████████████████████████| 2/2 [00:01<00:00,  1.67it/s]\n"
     ]
    },
    {
     "name": "stdout",
     "output_type": "stream",
     "text": [
      "\n",
      "\n",
      " Entering epoch 1\n",
      "Iter 2 - Epoch 0 - Client Type: Benign - Client Number 0 - Poison Training False\n"
     ]
    },
    {
     "name": "stderr",
     "output_type": "stream",
     "text": [
      "100%|████████████████████████████████████████████████████████████████████████████████████| 1/1 [00:00<00:00,  1.04it/s]\n"
     ]
    },
    {
     "name": "stdout",
     "output_type": "stream",
     "text": [
      "Iter 2 - Epoch 0 - Client Type: Benign - Client Number 1 - Poison Training False\n"
     ]
    },
    {
     "name": "stderr",
     "output_type": "stream",
     "text": [
      "100%|████████████████████████████████████████████████████████████████████████████████████| 1/1 [00:00<00:00,  1.29it/s]\n"
     ]
    },
    {
     "name": "stdout",
     "output_type": "stream",
     "text": [
      "Iter 2 - Epoch 0 - Client Type: Benign - Client Number 2 - Poison Training False\n"
     ]
    },
    {
     "name": "stderr",
     "output_type": "stream",
     "text": [
      "100%|████████████████████████████████████████████████████████████████████████████████████| 2/2 [00:01<00:00,  1.43it/s]\n"
     ]
    },
    {
     "name": "stdout",
     "output_type": "stream",
     "text": [
      "Iter 2 - Epoch 0 - Client Type: Benign - Client Number 3 - Poison Training False\n"
     ]
    },
    {
     "name": "stderr",
     "output_type": "stream",
     "text": [
      "100%|████████████████████████████████████████████████████████████████████████████████████| 1/1 [00:00<00:00,  1.08it/s]\n"
     ]
    },
    {
     "name": "stdout",
     "output_type": "stream",
     "text": [
      "Iter 2 - Epoch 0 - Client Type: Benign - Client Number 4 - Poison Training False\n"
     ]
    },
    {
     "name": "stderr",
     "output_type": "stream",
     "text": [
      "100%|████████████████████████████████████████████████████████████████████████████████████| 1/1 [00:00<00:00,  1.22it/s]\n"
     ]
    },
    {
     "name": "stdout",
     "output_type": "stream",
     "text": [
      "Iter 2 - Epoch 0 - Client Type: Benign - Client Number 5 - Poison Training False\n"
     ]
    },
    {
     "name": "stderr",
     "output_type": "stream",
     "text": [
      "100%|████████████████████████████████████████████████████████████████████████████████████| 1/1 [00:01<00:00,  1.01s/it]\n"
     ]
    },
    {
     "name": "stdout",
     "output_type": "stream",
     "text": [
      "Iter 2 - Epoch 0 - Client Type: Benign - Client Number 6 - Poison Training False\n"
     ]
    },
    {
     "name": "stderr",
     "output_type": "stream",
     "text": [
      "100%|████████████████████████████████████████████████████████████████████████████████████| 1/1 [00:00<00:00,  1.12it/s]\n"
     ]
    },
    {
     "name": "stdout",
     "output_type": "stream",
     "text": [
      "Iter 2 - Epoch 0 - Client Type: Benign - Client Number 7 - Poison Training False\n"
     ]
    },
    {
     "name": "stderr",
     "output_type": "stream",
     "text": [
      "100%|████████████████████████████████████████████████████████████████████████████████████| 1/1 [00:00<00:00,  1.04it/s]\n"
     ]
    },
    {
     "name": "stdout",
     "output_type": "stream",
     "text": [
      "Iter 2 - Epoch 0 - Client Type: Benign - Client Number 8 - Poison Training False\n"
     ]
    },
    {
     "name": "stderr",
     "output_type": "stream",
     "text": [
      "100%|████████████████████████████████████████████████████████████████████████████████████| 2/2 [00:01<00:00,  1.83it/s]\n"
     ]
    },
    {
     "name": "stdout",
     "output_type": "stream",
     "text": [
      "Iter 2 - Epoch 0 - Client Type: Benign - Client Number 9 - Poison Training False\n"
     ]
    },
    {
     "name": "stderr",
     "output_type": "stream",
     "text": [
      "100%|████████████████████████████████████████████████████████████████████████████████████| 1/1 [00:00<00:00,  1.00it/s]\n"
     ]
    },
    {
     "name": "stdout",
     "output_type": "stream",
     "text": [
      "Iter 2 - Epoch 0 - Client Type: Benign - Client Number 10 - Poison Training False\n"
     ]
    },
    {
     "name": "stderr",
     "output_type": "stream",
     "text": [
      "100%|████████████████████████████████████████████████████████████████████████████████████| 2/2 [00:01<00:00,  1.83it/s]\n"
     ]
    },
    {
     "name": "stdout",
     "output_type": "stream",
     "text": [
      "Iter 2 - Epoch 0 - Client Type: Benign - Client Number 11 - Poison Training False\n"
     ]
    },
    {
     "name": "stderr",
     "output_type": "stream",
     "text": [
      "100%|████████████████████████████████████████████████████████████████████████████████████| 2/2 [00:01<00:00,  1.83it/s]\n"
     ]
    },
    {
     "name": "stdout",
     "output_type": "stream",
     "text": [
      "Iter 2 - Epoch 0 - Client Type: Benign - Client Number 12 - Poison Training False\n"
     ]
    },
    {
     "name": "stderr",
     "output_type": "stream",
     "text": [
      "100%|████████████████████████████████████████████████████████████████████████████████████| 1/1 [00:00<00:00,  1.50it/s]\n"
     ]
    },
    {
     "name": "stdout",
     "output_type": "stream",
     "text": [
      "Iter 2 - Epoch 0 - Client Type: Benign - Client Number 13 - Poison Training False\n"
     ]
    },
    {
     "name": "stderr",
     "output_type": "stream",
     "text": [
      "100%|████████████████████████████████████████████████████████████████████████████████████| 2/2 [00:01<00:00,  1.78it/s]\n"
     ]
    },
    {
     "name": "stdout",
     "output_type": "stream",
     "text": [
      "Iter 2 - Epoch 0 - Client Type: Benign - Client Number 14 - Poison Training False\n"
     ]
    },
    {
     "name": "stderr",
     "output_type": "stream",
     "text": [
      "100%|████████████████████████████████████████████████████████████████████████████████████| 2/2 [00:01<00:00,  1.85it/s]\n"
     ]
    },
    {
     "name": "stdout",
     "output_type": "stream",
     "text": [
      "Iter 2 - Epoch 0 - Client Type: Benign - Client Number 15 - Poison Training False\n"
     ]
    },
    {
     "name": "stderr",
     "output_type": "stream",
     "text": [
      "100%|████████████████████████████████████████████████████████████████████████████████████| 1/1 [00:01<00:00,  1.02s/it]\n"
     ]
    },
    {
     "name": "stdout",
     "output_type": "stream",
     "text": [
      "Iter 2 - Epoch 0 - Client Type: Benign - Client Number 16 - Poison Training False\n"
     ]
    },
    {
     "name": "stderr",
     "output_type": "stream",
     "text": [
      "100%|████████████████████████████████████████████████████████████████████████████████████| 1/1 [00:00<00:00,  1.03it/s]\n"
     ]
    },
    {
     "name": "stdout",
     "output_type": "stream",
     "text": [
      "Iter 2 - Epoch 0 - Client Type: Benign - Client Number 17 - Poison Training False\n"
     ]
    },
    {
     "name": "stderr",
     "output_type": "stream",
     "text": [
      " 50%|██████████████████████████████████████████                                          | 1/2 [00:01<00:01,  1.02s/it]"
     ]
    }
   ],
   "source": [
    "fl = CustomFL(n_iter=n_iter, n_epochs=n_epochs, poison_starts_at_iter=poison_starts_at_iter, num_of_benign_nets=num_of_workers-num_of_mal_workers, num_of_mal_nets=num_of_mal_workers, \n",
    "              inertia=inertia, momentum=momentum,\n",
    "              attack_type=attack_type, scale_up=scale_up, minimizeDist=minimizeDist\n",
    ")\n",
    "fl.train()"
   ]
  },
  {
   "cell_type": "code",
   "execution_count": null,
   "metadata": {
    "id": "tsUXB_dWgKbg"
   },
   "outputs": [],
   "source": [
    "import pickle\n",
    "with open(f'file_1_dec27_all_benign_iters_50_epoch_{n_epochs}.txt', 'wb') as f:\n",
    "    pickle.dump(fl.debug_log, f)\n",
    "f.close()"
   ]
  },
  {
   "cell_type": "code",
   "execution_count": null,
   "metadata": {},
   "outputs": [],
   "source": [
    "import os\n",
    "from os import listdir\n",
    "from os.path import isfile, join\n",
    "mypath=os.getcwd()\n",
    "onlyfiles = [f for f in listdir(mypath) if isfile(join(mypath, f))]"
   ]
  },
  {
   "cell_type": "code",
   "execution_count": null,
   "metadata": {
    "id": "Gi3Zkh_HuFEI"
   },
   "outputs": [],
   "source": [
    "import pickle\n",
    "with open('file_1_dec23_label_flip_minDist_off.txt', 'rb') as f:\n",
    "    log_file=pickle.load(f)\n",
    "f.close()\n",
    "\n",
    "with open('file_1_dec23_label_flip_minDist_on.txt', 'rb') as f:\n",
    "    log_file_2=pickle.load(f)\n",
    "f.close()\n",
    "\n",
    "log_by_iter=[]\n",
    "for iter in range(n_iter):\n",
    "    log_by_iter.append([])\n",
    "idx=0\n",
    "cluster_logs=[]\n",
    "for l in log_file:\n",
    "    (i, _, _, _)=l\n",
    "    log_by_iter[i].append(l)\n",
    "    if i==-1:\n",
    "        cluster_logs.append(l)\n",
    "\n",
    "\n",
    "log_by_iter_2=[]\n",
    "for iter in range(n_iter):\n",
    "    log_by_iter_2.append([])\n",
    "idx=0\n",
    "cluster_logs_2=[]\n",
    "for l in log_file_2:\n",
    "    (i, _, _, _)=l\n",
    "    log_by_iter_2[i].append(l)\n",
    "    if i==-1:\n",
    "        cluster_logs_2.append(l)\n",
    "\n",
    "\n",
    "cluster_scores=[]\n",
    "for i, log in enumerate(cluster_logs):\n",
    "    if (i+1)%3==0:\n",
    "        (_, _, _, sc) = log\n",
    "        cluster_scores.append(sc)\n",
    "        \n",
    "cluster_scores_2=[]\n",
    "for i, log in enumerate(cluster_logs_2):\n",
    "    if (i+1)%3==0:\n",
    "        (_, _, _, sc) = log\n",
    "        cluster_scores_2.append(sc)\n",
    "        \n",
    "print(cluster_scores, cluster_scores_2)"
   ]
  },
  {
   "cell_type": "code",
   "execution_count": null,
   "metadata": {
    "id": "d6ii0njBC6JT"
   },
   "outputs": [],
   "source": [
    "from sklearn.cluster import AgglomerativeClustering\n",
    "import numpy as np\n",
    "X = np.array([[1, 2], [1, 4], [1, 0],\n",
    "              [4, 2], [4, 4], [4, 0]])\n",
    "clustering = AgglomerativeClustering(n_clusters=3).fit(X)\n",
    "labels=clustering.labels_\n",
    "print(labels, labels[labels==0], np.argwhere(labels==0))\n",
    "print([np.argwhere(labels==i).flatten() for i in range(3)])\n",
    "\n",
    "print()"
   ]
  },
  {
   "cell_type": "code",
   "execution_count": null,
   "metadata": {
    "id": "nnSDjbvSjoiL"
   },
   "outputs": [],
   "source": [
    "t_arr=np.array([100, 10, 1])\n",
    "t_arr_sig = 0.1 * t_arr\n",
    "print(np.random.normal(t_arr, t_arr_sig))"
   ]
  },
  {
   "cell_type": "code",
   "execution_count": null,
   "metadata": {
    "id": "9zOwHqDgoJx0"
   },
   "outputs": [],
   "source": []
  },
  {
   "cell_type": "code",
   "execution_count": null,
   "metadata": {
    "id": "yenDNiAaqd_F"
   },
   "outputs": [],
   "source": [
    "import matplotlib.pyplot as plt\n",
    "\n",
    "def imshow(img):\n",
    "    img = img / 2 + 0.5     # unnormalize\n",
    "    npimg = img.numpy()\n",
    "    plt.imshow(np.transpose(npimg, (1, 2, 0)))\n",
    "    plt.show()\n",
    "\n",
    "for i in [0, 3, 5]:\n",
    "    (_, _, tl) = train_loaders[0][i]\n",
    "\n",
    "    print(tl)\n",
    "\n",
    "    # get some random training images\n",
    "    dataiter = iter(tl)\n",
    "    images, labels = dataiter.next()\n",
    "    labels = np.array(labels)\n",
    "    imshow(torchvision.utils.make_grid(images[:16]))\n",
    "    for n in range(10):\n",
    "        print(n, np.count_nonzero(labels == n)/len(labels))\n"
   ]
  },
  {
   "cell_type": "code",
   "execution_count": null,
   "metadata": {
    "id": "jjNZrWiG-hPG"
   },
   "outputs": [],
   "source": [
    "sampled_probabilities = 1000 * np.random.dirichlet(\n",
    "                np.array(3 * [0.9]))\n",
    "print(np.sum(sampled_probabilities), sampled_probabilities)"
   ]
  },
  {
   "cell_type": "code",
   "execution_count": null,
   "metadata": {
    "id": "xOdKOaAbFIN7"
   },
   "outputs": [],
   "source": [
    "print(3 * [1, 2])"
   ]
  },
  {
   "cell_type": "code",
   "execution_count": null,
   "metadata": {
    "id": "fGkTxR66cWS9"
   },
   "outputs": [],
   "source": [
    "print(fl.log)"
   ]
  },
  {
   "cell_type": "code",
   "execution_count": null,
   "metadata": {
    "id": "q0VZP12IgvhL"
   },
   "outputs": [],
   "source": [
    "import pickle\n",
    "with open('file_1_dec16.txt', 'rb') as f:\n",
    "    log_file=pickle.load(f)\n",
    "f.close()"
   ]
  },
  {
   "cell_type": "code",
   "execution_count": null,
   "metadata": {
    "id": "GZTPfmkowaO3"
   },
   "outputs": [],
   "source": [
    "log_by_iter=[]\n",
    "for iter in range(n_iter):\n",
    "    log_by_iter.append([])\n",
    "idx=0\n",
    "for l in log_file:\n",
    "    (i, _, _, _)=l\n",
    "    log_by_iter[i].append(l)\n"
   ]
  },
  {
   "cell_type": "code",
   "execution_count": null,
   "metadata": {
    "id": "4gt2Qp862dFj"
   },
   "outputs": [],
   "source": [
    "for i in range(5,10):\n",
    "    log_by_iter[i]=log_by_iter[i][2:]\n",
    "\n",
    "for l in log_by_iter[0]:\n",
    "    print(l)\n",
    "for l in log_by_iter[5]:\n",
    "    print(l)"
   ]
  },
  {
   "cell_type": "code",
   "execution_count": null,
   "metadata": {
    "id": "TXBqfzL33UKh"
   },
   "outputs": [],
   "source": [
    "from matplotlib import pyplot as plt\n",
    "\n",
    "cos_sim_benign=[]\n",
    "cos_sim_mal=[]\n",
    "for i in range(10):\n",
    "    (_, _, _, sim) = log_by_iter[i][2]\n",
    "    cos_sim_benign.append(sim[0])\n",
    "    cos_sim_mal.append(sim[2])\n",
    "\n",
    "plt.plot(cos_sim_benign, c='blue')\n",
    "plt.plot(cos_sim_mal, c='red')\n",
    "plt.show()"
   ]
  },
  {
   "cell_type": "code",
   "execution_count": null,
   "metadata": {
    "id": "Er4MnusO4lkV"
   },
   "outputs": [],
   "source": [
    "aggr_weight_benign=[]\n",
    "aggr_weight_mal=[]\n",
    "for i in range(10):\n",
    "    (_, _, _, sim) = log_by_iter[i][4]\n",
    "    aggr_weight_benign.append(sim[0])\n",
    "    aggr_weight_mal.append(sim[2])\n",
    "\n",
    "plt.plot(aggr_weight_benign, c='blue')\n",
    "plt.plot(aggr_weight_mal, c='red')\n",
    "plt.show()\n"
   ]
  },
  {
   "cell_type": "code",
   "execution_count": null,
   "metadata": {
    "id": "qcWWK14Z49C7"
   },
   "outputs": [],
   "source": [
    "distance_benign=[]\n",
    "distance_mal=[]\n",
    "for i in range(10):\n",
    "    (_, _, _, sim) = log_by_iter[i][0]\n",
    "    distance_benign.append(sim[0])\n",
    "    (_, _, _, sim) = log_by_iter[i][1]\n",
    "    distance_mal.append(sim)\n",
    "\n",
    "plt.plot(distance_benign, c='blue')\n",
    "plt.plot(distance_mal, c='red')\n",
    "plt.show()"
   ]
  },
  {
   "cell_type": "code",
   "execution_count": null,
   "metadata": {
    "id": "CH-InCz25jkj"
   },
   "outputs": [],
   "source": [
    "accuracy=[]\n",
    "for i in range(10):\n",
    "    (_, _, _, sim) = log_by_iter[i][5]\n",
    "    accuracy.append(sim)\n",
    "\n",
    "plt.plot(accuracy, c='blue')\n"
   ]
  }
 ],
 "metadata": {
  "accelerator": "GPU",
  "colab": {
   "collapsed_sections": [],
   "name": "custom optimizer 1.ipynb",
   "provenance": []
  },
  "kernelspec": {
   "display_name": "Python 3",
   "language": "python",
   "name": "python3"
  },
  "language_info": {
   "codemirror_mode": {
    "name": "ipython",
    "version": 3
   },
   "file_extension": ".py",
   "mimetype": "text/x-python",
   "name": "python",
   "nbconvert_exporter": "python",
   "pygments_lexer": "ipython3",
   "version": "3.7.11"
  }
 },
 "nbformat": 4,
 "nbformat_minor": 1
}
